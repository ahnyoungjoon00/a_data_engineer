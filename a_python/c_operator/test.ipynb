{
 "cells": [
  {
   "cell_type": "code",
<<<<<<< HEAD
   "execution_count": 14,
   "metadata": {},
   "outputs": [
    {
     "name": "stdout",
     "output_type": "stream",
     "text": [
      "120\n",
      "100\n",
      "2000\n",
      "100.0\n",
      "5.0\n",
      "5.0\n",
      "95367431640625.0\n"
     ]
    }
   ],
   "source": [
    "a = 100\n",
    "\n",
    "a += 20\n",
    "print(a)\n",
    "\n",
    "a -= 20\n",
    "print(a)\n",
    "\n",
    "a *= 20\n",
    "print(a)\n",
    "\n",
    "a /= 20\n",
    "print(a)\n",
    "\n",
    "a //= 20\n",
    "print(a)\n",
    "\n",
    "a %= 20\n",
    "print(a)\n",
    "\n",
    "a **= 20\n",
    "print(a)"
   ]
  },
  {
   "cell_type": "code",
   "execution_count": 4,
=======
   "execution_count": 1,
>>>>>>> parent of d95b90f1 (subject)
   "metadata": {},
   "outputs": [
    {
     "name": "stdout",
     "output_type": "stream",
     "text": [
      "300\n",
      "-100\n",
      "20000\n",
      "0.5\n",
      "0\n",
      "100\n",
      "10000\n",
      "10.0\n"
     ]
    }
   ],
   "source": [
    "\"\"\"연산자 우선순위\n",
    "    산술연산자의 우선순위\n",
    "        1. 지수 **\n",
    "        2. 곱하기, 나누기 *, /, //, %\n",
    "        3. 덧셈, 뺄셈 +, -\n",
    "\n",
    "    비교연산자의 우선순위\n",
    "        - 먼저 온 순서대로\n",
    "    \n",
    "    논리연산자의 우선순위\n",
    "        1. not\n",
    "        2. and\n",
    "        3. or\n",
    "\n",
    "        드모르간 법칙\n",
    "        not A or not B = not(A and B)\n",
    "        True, False\n",
    "        False, True\n",
    "        False, False\n",
    "\n",
    "        not A and not B = not(A or B)\n",
    "        False, False\n",
    "\"\"\"\n",
    "\n",
    "\n",
    "\"\"\"산술연산자\n",
    "    +, -, *, /(실수), //(정수, 몫), %(정수, 나머지), **(지수 연산자, 제곱)\n",
    "    \n",
    "    - 컴퓨터는 같은 타입끼리만 연산 가능\n",
    "    - 정수와 실수간 연산 발생 시, 정수를 실수로 변환하여 연산\n",
    "\"\"\"\n",
<<<<<<< HEAD
    "a, b = \"hello\", \"world\"\n",
    "\n",
    "print(a + \" \" + b)\n",
    "\n",
    "print(a + \" \" + (b + \"! \") * 3)\n",
    "\n",
    "print(\"i\" in a)\n",
    "print(\"he\" in a)\n"
   ]
  },
  {
   "cell_type": "code",
   "execution_count": 12,
   "metadata": {},
   "outputs": [
    {
     "name": "stdout",
     "output_type": "stream",
     "text": [
      "[ayj] : ('no sb keep going', '잇이즈왓잇이즈')\n",
      "[ayj] : ('no sb keep going', '잇이즈왓잇이즈')\n",
      "[ayj] : ('no sb keep going', '잇이즈왓잇이즈') it is what it is\n",
      "[ayj       ] : ('no sb keep going', '잇이즈왓잇이즈') ('no sb keep going', '\\uc787\\uc774\\uc988\\uc653\\uc787\\uc774\\uc988')\n",
      "a/b/c/d!!"
     ]
    }
   ],
   "source": [
    "id = \"ayj\" # input(\"id : \")\n",
    "massage = \"no sb keep going\", \"잇이즈왓잇이즈\" # input(\"massage : \")\n",
    "print(\"[\" + id + \"] :\", massage)\n",
    "\n",
    "print(f\"[{id}] : {massage}\")\n",
    "print(f\"[{id}] : {massage}\" + \" it is what it is\")\n",
    "\n",
    "print(f\"[{id:10}] : {massage!r} {massage!a}\")\n",
    "\n",
    "print(\"a\", \"b\", \"c\", \"d\", sep = \"/\", end = \"!!\")"
   ]
  },
  {
   "cell_type": "code",
   "execution_count": 2,
   "metadata": {},
   "outputs": [
    {
     "name": "stdout",
     "output_type": "stream",
     "text": [
      "False\n",
      "False\n"
     ]
    }
   ],
   "source": [
    "print(not(3 >= 3) or not(3 < 4)) # --> False\n",
    "# 3 >= 3 : True --> not(3 >= 3) : False\n",
    "# 3 < 4 : True --> not(3 < 4) : False\n",
    "# False or False --> False\n",
    "\n",
    "print(not(3>= 3 and 3 < 4))\n",
    "# 3>= 3 : True\n",
    "# 3 < 4 : True\n",
    "# True and True --> True\n",
    "# not(True) --> False"
=======
    "print(100 + 200)\n",
    "print(100 - 200)\n",
    "print(100 * 200)\n",
    "print(100 / 200)\n",
    "print(100 // 200)\n",
    "print(100 % 200)\n",
    "print(100 ** 2)\n",
    "print(100 ** 0.5)"
>>>>>>> parent of d95b90f1 (subject)
   ]
  },
  {
   "cell_type": "code",
   "execution_count": null,
   "metadata": {},
   "outputs": [],
   "source": [
    "\n",
    "\"\"\"\n",
    "대입연산자\n",
    "    변수에 값을 할당하기 위해 사용\n",
    "\"\"\"\n",
    "\n",
    "\"\"\"\n",
    "문자열연산자\n",
    "    +, *, in, ...\n",
    "\"\"\""
   ]
  }
 ],
 "metadata": {
  "kernelspec": {
   "display_name": "ohio",
   "language": "python",
   "name": "python3"
  },
  "language_info": {
   "codemirror_mode": {
    "name": "ipython",
    "version": 3
   },
   "file_extension": ".py",
   "mimetype": "text/x-python",
   "name": "python",
   "nbconvert_exporter": "python",
   "pygments_lexer": "ipython3",
   "version": "3.13.1"
  }
 },
 "nbformat": 4,
 "nbformat_minor": 2
}
