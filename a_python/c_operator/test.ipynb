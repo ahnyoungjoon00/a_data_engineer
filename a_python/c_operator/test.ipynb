{
 "cells": [
  {
   "cell_type": "code",
   "execution_count": 4,
   "metadata": {},
   "outputs": [
    {
     "name": "stdout",
     "output_type": "stream",
     "text": [
      "hello world\n",
      "hello world! world! world! \n",
      "False\n",
      "True\n"
     ]
    }
   ],
   "source": [
    "\"\"\"\n",
    "문자열 연산자\n",
    "문자열 결합\n",
    "문자열 반복\n",
    "문자열 포함여부 확인\n",
    "\"\"\"\n",
    "a, b = \"hello\", \"world\"\n",
    "\n",
    "print(a + \" \" + b)\n",
    "\n",
    "print(a + \" \" + (b + \"! \") * 3)\n",
    "\n",
    "print(\"i\" in a)\n",
    "print(\"he\" in a)\n"
   ]
  },
  {
   "cell_type": "code",
   "execution_count": 10,
   "metadata": {},
   "outputs": [
    {
     "name": "stdout",
     "output_type": "stream",
     "text": [
      "[ayj] : ('no sb keep going', 'it is what it is')\n",
      "[ayj] : ('no sb keep going', 'it is what it is')\n",
      "[ayj] : ('no sb keep going', 'it is what it is') it is what it is\n",
      "[ayj                           ] : ('no sb keep going', 'it is what it is') ('no sb keep going', 'it is what it is')\n",
      "a/b/c/d!!"
     ]
    }
   ],
   "source": [
    "id = \"ayj\" # input(\"id : \")\n",
    "massage = \"no sb keep going\", \"잇이즈왓잇이즈\" # input(\"massage : \")\n",
    "print(\"[\" + id + \"] :\", massage)\n",
    "\n",
    "print(f\"[{id}] : {massage}\")\n",
    "print(f\"[{id}] : {massage}\" + \" it is what it is\")\n",
    "\n",
    "print(f\"[{id:30}] : {massage!r} {massage!a}\")\n",
    "\n",
    "print(\"a\", \"b\", \"c\", \"d\", sep = \"/\", end = \"!!\")"
   ]
  },
  {
   "cell_type": "code",
   "execution_count": 2,
   "metadata": {},
   "outputs": [
    {
     "name": "stdout",
     "output_type": "stream",
     "text": [
      "False\n",
      "False\n"
     ]
    }
   ],
   "source": [
    "print(not(3 >= 3) or not(3 < 4)) # --> False\n",
    "# 3 >= 3 : True --> not(3 >= 3) : False\n",
    "# 3 < 4 : True --> not(3 < 4) : False\n",
    "# False or False --> False\n",
    "\n",
    "print(not(3>= 3 and 3 < 4))\n",
    "# 3>= 3 : True\n",
    "# 3 < 4 : True\n",
    "# True and True --> True\n",
    "# not(True) --> False"
   ]
  },
  {
   "cell_type": "code",
   "execution_count": null,
   "metadata": {},
   "outputs": [],
   "source": [
    "\n",
    "\"\"\"\n",
    "대입연산자\n",
    "    변수에 값을 할당하기 위해 사용\n",
    "\"\"\"\n",
    "\n",
    "\"\"\"\n",
    "문자열연산자\n",
    "    +, *, in, ...\n",
    "\"\"\""
   ]
  }
 ],
 "metadata": {
  "kernelspec": {
   "display_name": "ohio",
   "language": "python",
   "name": "python3"
  },
  "language_info": {
   "codemirror_mode": {
    "name": "ipython",
    "version": 3
   },
   "file_extension": ".py",
   "mimetype": "text/x-python",
   "name": "python",
   "nbconvert_exporter": "python",
   "pygments_lexer": "ipython3",
   "version": "3.13.1"
  }
 },
 "nbformat": 4,
 "nbformat_minor": 2
}
