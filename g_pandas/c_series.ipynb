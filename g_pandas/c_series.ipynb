{
 "cells": [
  {
   "cell_type": "code",
   "execution_count": 1,
   "metadata": {},
   "outputs": [],
   "source": [
    "import numpy as np\n",
    "import pandas as pd"
   ]
  },
  {
   "cell_type": "code",
   "execution_count": 2,
   "metadata": {},
   "outputs": [],
   "source": [
    "# 한 셀에서 여려 결과 출력\n",
    "from IPython.core.interactiveshell import InteractiveShell\n",
    "InteractiveShell.ast_node_interactivity=\"all\""
   ]
  },
  {
   "cell_type": "markdown",
   "metadata": {},
   "source": [
    "#### pandas\n",
    "> numpy 기반 데이터분석 라이브러리   \n",
    "> pandas : series(1차원배열), dataframe(2차원 배열)\n",
    "\n",
    "#### series\n",
    "- 판다스 기본 객체 중 하나\n",
    "- 같은 타입의 데이터를 저장하는 1차원 배열\n",
    "- 인덱스의 value가 일대일로 대응\n"
   ]
  },
  {
   "cell_type": "code",
   "execution_count": 3,
   "metadata": {},
   "outputs": [
    {
     "name": "stdout",
     "output_type": "stream",
     "text": [
      "1\n",
      "1\n",
      "1\n",
      "1\n"
     ]
    }
   ],
   "source": [
    "a = pd.Series([1, 2, 3])\n",
    "b = pd.Series((1, 2, 3))\n",
    "c = pd.Series({'a':64, 'b':65})\n",
    "d = pd.Series(range(5))\n",
    "\n",
    "# index 지정\n",
    "e = pd.Series([1, 2, 3], ['a', 'b', 'c'])\n",
    "\n",
    "# index로 call\n",
    "# print(e[0]) # 위치기반 인덱싱\n",
    "print(e.iloc[0])\n",
    "# print(e['a']) # 라벨기반 인덱싱\n",
    "print(e.loc['a']) \n",
    "print(e.at['a'])\n",
    "print(e.iat[0])"
   ]
  },
  {
   "cell_type": "code",
   "execution_count": 4,
   "metadata": {},
   "outputs": [
    {
     "data": {
      "text/plain": [
       "0    0.0\n",
       "1    NaN\n",
       "2    NaN\n",
       "3    3.0\n",
       "dtype: float64"
      ]
     },
     "execution_count": 4,
     "metadata": {},
     "output_type": "execute_result"
    }
   ],
   "source": [
    "s = pd.Series([0, 1, 3.3])\n",
    "\n",
    "# 결측치 있을 시, 실수로\n",
    "t = pd.Series([0, None, np.nan, 3])\n",
    "t"
   ]
  },
  {
   "cell_type": "code",
   "execution_count": 5,
   "metadata": {},
   "outputs": [
    {
     "name": "stdout",
     "output_type": "stream",
     "text": [
      "Index(['naem', 'age', 'type'], dtype='object')\n",
      "['ayj' 30 'human']\n"
     ]
    }
   ],
   "source": [
    "d= pd.Series({\"naem\" : \"ayj\", \"age\" : 30, \"type\" : \"human\"})\n",
    "print(d.index)\n",
    "print(d.values)"
   ]
  },
  {
   "cell_type": "code",
   "execution_count": 6,
   "metadata": {},
   "outputs": [
    {
     "data": {
      "text/plain": [
       "이름\n",
       "ayj    120\n",
       "fak    150\n",
       "hjh    180\n",
       "Name: 성적, dtype: object"
      ]
     },
     "execution_count": 6,
     "metadata": {},
     "output_type": "execute_result"
    }
   ],
   "source": [
    "e = pd.Series({\"ayj\":\"120\", \"fak\":150, \"hjh\":180})\n",
    "e.index.name = '이름'\n",
    "e.name = '성적'\n",
    "e"
   ]
  },
  {
   "cell_type": "markdown",
   "metadata": {},
   "source": [
    "#### Create"
   ]
  },
  {
   "cell_type": "code",
   "execution_count": 7,
   "metadata": {},
   "outputs": [
    {
     "data": {
      "text/plain": [
       "이름\n",
       "ayj    120\n",
       "fak    150\n",
       "hjh    180\n",
       "iyh    200\n",
       "Name: 성적, dtype: object"
      ]
     },
     "execution_count": 7,
     "metadata": {},
     "output_type": "execute_result"
    }
   ],
   "source": [
    "e[\"iyh\"] = 200\n",
    "# e.loc['jyc'] = 210\n",
    "e"
   ]
  },
  {
   "cell_type": "markdown",
   "metadata": {},
   "source": [
    "#### Read\n",
    "1. 0~base 인덱스를 사용한 슬라이싱   \n",
    "    .iloc[start:end] : start - end-1 까지 추출   \n",
    "2. 라벨 인덱스를 활용한 슬라이싱   \n",
    "    .loc[\"시작라벨\":\"끝라벨\"] : 시작에서 끝까지 양쪽라벨을 포함한 범위 추출"
   ]
  },
  {
   "cell_type": "code",
   "execution_count": 8,
   "metadata": {},
   "outputs": [
    {
     "data": {
      "text/plain": [
       "Index(['서울', '부산', '인천', '대전'], dtype='object')"
      ]
     },
     "execution_count": 8,
     "metadata": {},
     "output_type": "execute_result"
    }
   ],
   "source": [
    "city = pd.Series({\n",
    "    '서울' : 9631482,\n",
    "    '부산' : 3393191,\n",
    "    '인천' : 2632035,\n",
    "    '대전' : 1490158})\n",
    "city.index"
   ]
  },
  {
   "cell_type": "code",
   "execution_count": 9,
   "metadata": {},
   "outputs": [
    {
     "data": {
      "text/plain": [
       "부산    3393191\n",
       "인천    2632035\n",
       "dtype: int64"
      ]
     },
     "execution_count": 9,
     "metadata": {},
     "output_type": "execute_result"
    },
    {
     "data": {
      "text/plain": [
       "부산    3393191\n",
       "인천    2632035\n",
       "dtype: int64"
      ]
     },
     "execution_count": 9,
     "metadata": {},
     "output_type": "execute_result"
    },
    {
     "data": {
      "text/plain": [
       "서울    9631482\n",
       "부산    3393191\n",
       "인천    2632035\n",
       "대전    1490158\n",
       "dtype: int64"
      ]
     },
     "execution_count": 9,
     "metadata": {},
     "output_type": "execute_result"
    },
    {
     "data": {
      "text/plain": [
       "서울    9631482\n",
       "부산    3393191\n",
       "인천    2632035\n",
       "대전    1490158\n",
       "dtype: int64"
      ]
     },
     "execution_count": 9,
     "metadata": {},
     "output_type": "execute_result"
    },
    {
     "data": {
      "text/plain": [
       "서울    9631482\n",
       "대전    1490158\n",
       "dtype: int64"
      ]
     },
     "execution_count": 9,
     "metadata": {},
     "output_type": "execute_result"
    }
   ],
   "source": [
    "city[1:3]\n",
    "city.iloc[1:3]\n",
    "city[\"서울\":\"대전\"]\n",
    "city.loc[\"서울\":\"대전\"]\n",
    "city.loc[[\"서울\",\"대전\"]]\n",
    "# city.iloc[[0, 2]]"
   ]
  },
  {
   "cell_type": "markdown",
   "metadata": {},
   "source": [
    "#### 벡터화 연산\n",
    "- 벡터화연산 : 집합형 자료형의 요소 각각에 대해 계산을 수행"
   ]
  },
  {
   "cell_type": "code",
   "execution_count": 10,
   "metadata": {},
   "outputs": [
    {
     "name": "stdout",
     "output_type": "stream",
     "text": [
      "0    11\n",
      "1    12\n",
      "2    13\n",
      "dtype: int64\n",
      "0   -9\n",
      "1   -8\n",
      "2   -7\n",
      "dtype: int64\n",
      "0    0.1\n",
      "1    0.2\n",
      "2    0.3\n",
      "dtype: float64\n",
      "0    10\n",
      "1    20\n",
      "2    30\n",
      "dtype: int64\n",
      "0    True\n",
      "1    True\n",
      "2    True\n",
      "dtype: bool\n"
     ]
    }
   ],
   "source": [
    "t = pd.Series([1, 2, 3,])\n",
    "print(t + 10)\n",
    "print(t - 10)\n",
    "print(t / 10)\n",
    "print(t * 10)\n",
    "\n",
    "print(t >= 2 & False)"
   ]
  },
  {
   "cell_type": "code",
   "execution_count": 22,
   "metadata": {},
   "outputs": [
    {
     "data": {
      "text/plain": [
       "서울     True\n",
       "부산     True\n",
       "인천    False\n",
       "대전    False\n",
       "dtype: bool"
      ]
     },
     "execution_count": 22,
     "metadata": {},
     "output_type": "execute_result"
    },
    {
     "data": {
      "text/plain": [
       "서울    9631482\n",
       "부산    3393191\n",
       "dtype: int64"
      ]
     },
     "execution_count": 22,
     "metadata": {},
     "output_type": "execute_result"
    },
    {
     "data": {
      "text/plain": [
       "서울    9631482\n",
       "부산    3393191\n",
       "dtype: int64"
      ]
     },
     "execution_count": 22,
     "metadata": {},
     "output_type": "execute_result"
    },
    {
     "data": {
      "text/plain": [
       "부산    3393191\n",
       "dtype: int64"
      ]
     },
     "execution_count": 22,
     "metadata": {},
     "output_type": "execute_result"
    },
    {
     "data": {
      "text/plain": [
       "서울    9631482\n",
       "대전    1490158\n",
       "dtype: int64"
      ]
     },
     "execution_count": 22,
     "metadata": {},
     "output_type": "execute_result"
    }
   ],
   "source": [
    "city > 2700000\n",
    "city.loc[pd.Series([True, True, False, False], index=[\"서울\", \"부산\", \"인천\", \"대전\"])]\n",
    "city.loc[city > 2700000]\n",
    "city.loc[(city > 2700000)&(city < 5000000)]\n",
    "\n",
    "# 인구수가 짝수인 도시\n",
    "city.loc[(city%2==0)]"
   ]
  },
  {
   "cell_type": "markdown",
   "metadata": {},
   "source": [
    "#### 시리즈 속성 및 메서드\n",
    "1. size\n",
    "2. shape\n",
    "3. len()\n",
    "4. unique()\n",
    "5. count()\n",
    "6. mean()\n",
    "7. value_counts()"
   ]
  },
  {
   "cell_type": "code",
   "execution_count": 38,
   "metadata": {},
   "outputs": [
    {
     "data": {
      "text/plain": [
       "17"
      ]
     },
     "execution_count": 38,
     "metadata": {},
     "output_type": "execute_result"
    },
    {
     "data": {
      "text/plain": [
       "(17,)"
      ]
     },
     "execution_count": 38,
     "metadata": {},
     "output_type": "execute_result"
    },
    {
     "data": {
      "text/plain": [
       "17"
      ]
     },
     "execution_count": 38,
     "metadata": {},
     "output_type": "execute_result"
    },
    {
     "data": {
      "text/plain": [
       "array([ 1.,  2., nan,  3.,  4.,  5.,  7.])"
      ]
     },
     "execution_count": 38,
     "metadata": {},
     "output_type": "execute_result"
    },
    {
     "data": {
      "text/plain": [
       "np.int64(15)"
      ]
     },
     "execution_count": 38,
     "metadata": {},
     "output_type": "execute_result"
    },
    {
     "data": {
      "text/plain": [
       "np.float64(2.6666666666666665)"
      ]
     },
     "execution_count": 38,
     "metadata": {},
     "output_type": "execute_result"
    },
    {
     "data": {
      "text/plain": [
       "1.0    5\n",
       "2.0    4\n",
       "3.0    2\n",
       "5.0    2\n",
       "4.0    1\n",
       "7.0    1\n",
       "Name: count, dtype: int64"
      ]
     },
     "execution_count": 38,
     "metadata": {},
     "output_type": "execute_result"
    },
    {
     "data": {
      "text/plain": [
       "10    3.0\n",
       "11    3.0\n",
       "12    4.0\n",
       "13    5.0\n",
       "14    5.0\n",
       "15    7.0\n",
       "dtype: float64"
      ]
     },
     "execution_count": 38,
     "metadata": {},
     "output_type": "execute_result"
    }
   ],
   "source": [
    "s5 = pd.Series([1, 1, 2, 1, 2, np.nan, 2, 2, 1, 1, 3, 3, 4, 5, 5, 7, np.nan])\n",
    "s5.size\n",
    "s5.shape\n",
    "len(s5)\n",
    "s5.unique()\n",
    "s5.count() # 결측 제외됨\n",
    "s5.mean()\n",
    "s5.value_counts()\n",
    "\n",
    "# s5에서 평균보다 큰 요소를 저장하고 잇는 시리즈 출력\n",
    "s5.loc[s5 > s5.mean()]"
   ]
  },
  {
   "cell_type": "code",
   "execution_count": null,
   "metadata": {},
   "outputs": [],
   "source": []
  },
  {
   "cell_type": "code",
   "execution_count": null,
   "metadata": {},
   "outputs": [],
   "source": []
  }
 ],
 "metadata": {
  "kernelspec": {
   "display_name": "ohio",
   "language": "python",
   "name": "python3"
  },
  "language_info": {
   "codemirror_mode": {
    "name": "ipython",
    "version": 3
   },
   "file_extension": ".py",
   "mimetype": "text/x-python",
   "name": "python",
   "nbconvert_exporter": "python",
   "pygments_lexer": "ipython3",
   "version": "3.12.7"
  }
 },
 "nbformat": 4,
 "nbformat_minor": 2
}
