{
 "cells": [
  {
   "cell_type": "code",
   "execution_count": 68,
   "metadata": {},
   "outputs": [],
   "source": [
    "import numpy as np\n",
    "import pandas as pd\n",
    "import matplotlib.pyplot as plt\n",
    "import plotly.express as px"
   ]
  },
  {
   "cell_type": "code",
   "execution_count": 3,
   "metadata": {},
   "outputs": [],
   "source": [
    "# 한 셀에서 여려 결과 출력\n",
    "from IPython.core.interactiveshell import InteractiveShell\n",
    "InteractiveShell.ast_node_interactivity=\"all\""
   ]
  },
  {
   "cell_type": "code",
   "execution_count": 3,
   "metadata": {},
   "outputs": [],
   "source": [
    "# 열이름 / 인덱스 설정\n",
    "user_data = [\n",
    "    ['홍길동', 20, 60.1, 170.5, '남', '1999-01-01', 1100],\n",
    "    ['성춘향', 20, 51.3, 160.5, '여', '1989-03-11', 2200],\n",
    "    ['이몽룡', 20, None, 175.5, '남', '1979-05-21', 3300],\n",
    "    ['변학도', 30, 60.1, None, '여', '1995-07-22', 4400],\n",
    "    ['강길동', 30, 60.1, 173.5, '남', '1929-09-15', 5500],\n",
    "    ['이순신', 30, 60.1, 173.5, '여', '2009-09-01', None]  \n",
    "]\n",
    "columns = ['이름', '연령대', '몸무게', '키', '성별', '생일', '지역코드']\n",
    "user = pd.DataFrame(user_data, columns=columns)"
   ]
  },
  {
   "cell_type": "markdown",
   "metadata": {},
   "source": [
    "## groupby 구성 요소 및 절차\n",
    "### 1. split : 데이터를 그룹으로 나눔\n",
    "### 2. apply : 그룹별로 집계함수를 적용 => mean, sum, agg, ...\n",
    "### 3. combine : 결과를 결합하는 과정 => 자동 수행"
   ]
  },
  {
   "cell_type": "code",
   "execution_count": null,
   "metadata": {},
   "outputs": [
    {
     "data": {
      "text/html": [
       "<div>\n",
       "<style scoped>\n",
       "    .dataframe tbody tr th:only-of-type {\n",
       "        vertical-align: middle;\n",
       "    }\n",
       "\n",
       "    .dataframe tbody tr th {\n",
       "        vertical-align: top;\n",
       "    }\n",
       "\n",
       "    .dataframe thead th {\n",
       "        text-align: right;\n",
       "    }\n",
       "</style>\n",
       "<table border=\"1\" class=\"dataframe\">\n",
       "  <thead>\n",
       "    <tr style=\"text-align: right;\">\n",
       "      <th></th>\n",
       "      <th>몸무게</th>\n",
       "      <th>키</th>\n",
       "    </tr>\n",
       "    <tr>\n",
       "      <th>성별</th>\n",
       "      <th></th>\n",
       "      <th></th>\n",
       "    </tr>\n",
       "  </thead>\n",
       "  <tbody>\n",
       "    <tr>\n",
       "      <th>남</th>\n",
       "      <td>120.2</td>\n",
       "      <td>519.5</td>\n",
       "    </tr>\n",
       "    <tr>\n",
       "      <th>여</th>\n",
       "      <td>171.5</td>\n",
       "      <td>334.0</td>\n",
       "    </tr>\n",
       "  </tbody>\n",
       "</table>\n",
       "</div>"
      ],
      "text/plain": [
       "      몸무게      키\n",
       "성별              \n",
       "남   120.2  519.5\n",
       "여   171.5  334.0"
      ]
     },
     "execution_count": 16,
     "metadata": {},
     "output_type": "execute_result"
    },
    {
     "data": {
      "text/html": [
       "<div>\n",
       "<style scoped>\n",
       "    .dataframe tbody tr th:only-of-type {\n",
       "        vertical-align: middle;\n",
       "    }\n",
       "\n",
       "    .dataframe tbody tr th {\n",
       "        vertical-align: top;\n",
       "    }\n",
       "\n",
       "    .dataframe thead th {\n",
       "        text-align: right;\n",
       "    }\n",
       "</style>\n",
       "<table border=\"1\" class=\"dataframe\">\n",
       "  <thead>\n",
       "    <tr style=\"text-align: right;\">\n",
       "      <th></th>\n",
       "      <th>몸무게</th>\n",
       "      <th>키</th>\n",
       "    </tr>\n",
       "    <tr>\n",
       "      <th>성별</th>\n",
       "      <th></th>\n",
       "      <th></th>\n",
       "    </tr>\n",
       "  </thead>\n",
       "  <tbody>\n",
       "    <tr>\n",
       "      <th>남</th>\n",
       "      <td>60.100000</td>\n",
       "      <td>173.166667</td>\n",
       "    </tr>\n",
       "    <tr>\n",
       "      <th>여</th>\n",
       "      <td>57.166667</td>\n",
       "      <td>167.000000</td>\n",
       "    </tr>\n",
       "  </tbody>\n",
       "</table>\n",
       "</div>"
      ],
      "text/plain": [
       "          몸무게           키\n",
       "성별                       \n",
       "남   60.100000  173.166667\n",
       "여   57.166667  167.000000"
      ]
     },
     "execution_count": 16,
     "metadata": {},
     "output_type": "execute_result"
    },
    {
     "data": {
      "text/html": [
       "<div>\n",
       "<style scoped>\n",
       "    .dataframe tbody tr th:only-of-type {\n",
       "        vertical-align: middle;\n",
       "    }\n",
       "\n",
       "    .dataframe tbody tr th {\n",
       "        vertical-align: top;\n",
       "    }\n",
       "\n",
       "    .dataframe thead th {\n",
       "        text-align: right;\n",
       "    }\n",
       "</style>\n",
       "<table border=\"1\" class=\"dataframe\">\n",
       "  <thead>\n",
       "    <tr style=\"text-align: right;\">\n",
       "      <th></th>\n",
       "      <th>몸무게</th>\n",
       "      <th>키</th>\n",
       "    </tr>\n",
       "    <tr>\n",
       "      <th>성별</th>\n",
       "      <th></th>\n",
       "      <th></th>\n",
       "    </tr>\n",
       "  </thead>\n",
       "  <tbody>\n",
       "    <tr>\n",
       "      <th>남</th>\n",
       "      <td>2</td>\n",
       "      <td>3</td>\n",
       "    </tr>\n",
       "    <tr>\n",
       "      <th>여</th>\n",
       "      <td>3</td>\n",
       "      <td>2</td>\n",
       "    </tr>\n",
       "  </tbody>\n",
       "</table>\n",
       "</div>"
      ],
      "text/plain": [
       "    몸무게  키\n",
       "성별        \n",
       "남     2  3\n",
       "여     3  2"
      ]
     },
     "execution_count": 16,
     "metadata": {},
     "output_type": "execute_result"
    },
    {
     "data": {
      "text/html": [
       "<div>\n",
       "<style scoped>\n",
       "    .dataframe tbody tr th:only-of-type {\n",
       "        vertical-align: middle;\n",
       "    }\n",
       "\n",
       "    .dataframe tbody tr th {\n",
       "        vertical-align: top;\n",
       "    }\n",
       "\n",
       "    .dataframe thead tr th {\n",
       "        text-align: left;\n",
       "    }\n",
       "\n",
       "    .dataframe thead tr:last-of-type th {\n",
       "        text-align: right;\n",
       "    }\n",
       "</style>\n",
       "<table border=\"1\" class=\"dataframe\">\n",
       "  <thead>\n",
       "    <tr>\n",
       "      <th></th>\n",
       "      <th colspan=\"2\" halign=\"left\">몸무게</th>\n",
       "      <th colspan=\"2\" halign=\"left\">키</th>\n",
       "    </tr>\n",
       "    <tr>\n",
       "      <th></th>\n",
       "      <th>sum</th>\n",
       "      <th>mean</th>\n",
       "      <th>sum</th>\n",
       "      <th>mean</th>\n",
       "    </tr>\n",
       "    <tr>\n",
       "      <th>성별</th>\n",
       "      <th></th>\n",
       "      <th></th>\n",
       "      <th></th>\n",
       "      <th></th>\n",
       "    </tr>\n",
       "  </thead>\n",
       "  <tbody>\n",
       "    <tr>\n",
       "      <th>남</th>\n",
       "      <td>120.2</td>\n",
       "      <td>60.100000</td>\n",
       "      <td>519.5</td>\n",
       "      <td>173.166667</td>\n",
       "    </tr>\n",
       "    <tr>\n",
       "      <th>여</th>\n",
       "      <td>171.5</td>\n",
       "      <td>57.166667</td>\n",
       "      <td>334.0</td>\n",
       "      <td>167.000000</td>\n",
       "    </tr>\n",
       "  </tbody>\n",
       "</table>\n",
       "</div>"
      ],
      "text/plain": [
       "      몸무게                 키            \n",
       "      sum       mean    sum        mean\n",
       "성별                                     \n",
       "남   120.2  60.100000  519.5  173.166667\n",
       "여   171.5  57.166667  334.0  167.000000"
      ]
     },
     "execution_count": 16,
     "metadata": {},
     "output_type": "execute_result"
    },
    {
     "data": {
      "text/html": [
       "<div>\n",
       "<style scoped>\n",
       "    .dataframe tbody tr th:only-of-type {\n",
       "        vertical-align: middle;\n",
       "    }\n",
       "\n",
       "    .dataframe tbody tr th {\n",
       "        vertical-align: top;\n",
       "    }\n",
       "\n",
       "    .dataframe thead tr th {\n",
       "        text-align: left;\n",
       "    }\n",
       "\n",
       "    .dataframe thead tr:last-of-type th {\n",
       "        text-align: right;\n",
       "    }\n",
       "</style>\n",
       "<table border=\"1\" class=\"dataframe\">\n",
       "  <thead>\n",
       "    <tr>\n",
       "      <th></th>\n",
       "      <th colspan=\"2\" halign=\"left\">몸무게</th>\n",
       "      <th colspan=\"2\" halign=\"left\">키</th>\n",
       "    </tr>\n",
       "    <tr>\n",
       "      <th></th>\n",
       "      <th>sum</th>\n",
       "      <th>mean</th>\n",
       "      <th>sum</th>\n",
       "      <th>mean</th>\n",
       "    </tr>\n",
       "    <tr>\n",
       "      <th>연령대</th>\n",
       "      <th></th>\n",
       "      <th></th>\n",
       "      <th></th>\n",
       "      <th></th>\n",
       "    </tr>\n",
       "  </thead>\n",
       "  <tbody>\n",
       "    <tr>\n",
       "      <th>20</th>\n",
       "      <td>60.1</td>\n",
       "      <td>60.1</td>\n",
       "      <td>346.0</td>\n",
       "      <td>173.0</td>\n",
       "    </tr>\n",
       "    <tr>\n",
       "      <th>30</th>\n",
       "      <td>60.1</td>\n",
       "      <td>60.1</td>\n",
       "      <td>173.5</td>\n",
       "      <td>173.5</td>\n",
       "    </tr>\n",
       "  </tbody>\n",
       "</table>\n",
       "</div>"
      ],
      "text/plain": [
       "      몸무게            키       \n",
       "      sum  mean    sum   mean\n",
       "연령대                          \n",
       "20   60.1  60.1  346.0  173.0\n",
       "30   60.1  60.1  173.5  173.5"
      ]
     },
     "execution_count": 16,
     "metadata": {},
     "output_type": "execute_result"
    },
    {
     "data": {
      "text/plain": [
       "몸무게  sum      60.1\n",
       "     mean     60.1\n",
       "키    sum     346.0\n",
       "     mean    173.0\n",
       "Name: (남, 20), dtype: float64"
      ]
     },
     "execution_count": 16,
     "metadata": {},
     "output_type": "execute_result"
    }
   ],
   "source": [
    "user.groupby(\"성별\")[[\"몸무게\", \"키\"]].sum()\n",
    "user.groupby(\"성별\")[[\"몸무게\", \"키\"]].mean()\n",
    "user.groupby(\"성별\")[[\"몸무게\", \"키\"]].count()\n",
    "user.groupby(\"성별\")[[\"몸무게\", \"키\"]].agg([\"sum\", \"mean\"])\n",
    "t = user.groupby([\"성별\", \"연령대\"])[[\"몸무게\", \"키\"]].agg([\"sum\", \"mean\"])\n",
    "t.loc[\"남\"]\n",
    "t.loc[(\"남\", 20)]"
   ]
  },
  {
   "cell_type": "markdown",
   "metadata": {},
   "source": [
    "## 과정을 쪼개서 보면 "
   ]
  },
  {
   "cell_type": "code",
   "execution_count": null,
   "metadata": {},
   "outputs": [
    {
     "data": {
      "text/plain": [
       "<pandas.core.groupby.generic.DataFrameGroupBy object at 0x0000027EFB91E300>"
      ]
     },
     "execution_count": 21,
     "metadata": {},
     "output_type": "execute_result"
    },
    {
     "data": {
      "text/html": [
       "<div>\n",
       "<style scoped>\n",
       "    .dataframe tbody tr th:only-of-type {\n",
       "        vertical-align: middle;\n",
       "    }\n",
       "\n",
       "    .dataframe tbody tr th {\n",
       "        vertical-align: top;\n",
       "    }\n",
       "\n",
       "    .dataframe thead th {\n",
       "        text-align: right;\n",
       "    }\n",
       "</style>\n",
       "<table border=\"1\" class=\"dataframe\">\n",
       "  <thead>\n",
       "    <tr style=\"text-align: right;\">\n",
       "      <th></th>\n",
       "      <th>몸무게</th>\n",
       "      <th>키</th>\n",
       "    </tr>\n",
       "  </thead>\n",
       "  <tbody>\n",
       "    <tr>\n",
       "      <th>0</th>\n",
       "      <td>60.1</td>\n",
       "      <td>170.5</td>\n",
       "    </tr>\n",
       "    <tr>\n",
       "      <th>2</th>\n",
       "      <td>NaN</td>\n",
       "      <td>175.5</td>\n",
       "    </tr>\n",
       "  </tbody>\n",
       "</table>\n",
       "</div>"
      ],
      "text/plain": [
       "    몸무게      키\n",
       "0  60.1  170.5\n",
       "2   NaN  175.5"
      ]
     },
     "execution_count": 21,
     "metadata": {},
     "output_type": "execute_result"
    },
    {
     "data": {
      "text/html": [
       "<div>\n",
       "<style scoped>\n",
       "    .dataframe tbody tr th:only-of-type {\n",
       "        vertical-align: middle;\n",
       "    }\n",
       "\n",
       "    .dataframe tbody tr th {\n",
       "        vertical-align: top;\n",
       "    }\n",
       "\n",
       "    .dataframe thead th {\n",
       "        text-align: right;\n",
       "    }\n",
       "</style>\n",
       "<table border=\"1\" class=\"dataframe\">\n",
       "  <thead>\n",
       "    <tr style=\"text-align: right;\">\n",
       "      <th></th>\n",
       "      <th></th>\n",
       "      <th>몸무게</th>\n",
       "      <th>키</th>\n",
       "    </tr>\n",
       "    <tr>\n",
       "      <th>성별</th>\n",
       "      <th>연령대</th>\n",
       "      <th></th>\n",
       "      <th></th>\n",
       "    </tr>\n",
       "  </thead>\n",
       "  <tbody>\n",
       "    <tr>\n",
       "      <th rowspan=\"2\" valign=\"top\">남</th>\n",
       "      <th>20</th>\n",
       "      <td>120.2</td>\n",
       "      <td>346.0</td>\n",
       "    </tr>\n",
       "    <tr>\n",
       "      <th>30</th>\n",
       "      <td>60.1</td>\n",
       "      <td>173.5</td>\n",
       "    </tr>\n",
       "    <tr>\n",
       "      <th rowspan=\"2\" valign=\"top\">여</th>\n",
       "      <th>20</th>\n",
       "      <td>51.3</td>\n",
       "      <td>160.5</td>\n",
       "    </tr>\n",
       "    <tr>\n",
       "      <th>30</th>\n",
       "      <td>120.2</td>\n",
       "      <td>347.0</td>\n",
       "    </tr>\n",
       "  </tbody>\n",
       "</table>\n",
       "</div>"
      ],
      "text/plain": [
       "          몸무게      키\n",
       "성별 연령대              \n",
       "남  20   120.2  346.0\n",
       "   30    60.1  173.5\n",
       "여  20    51.3  160.5\n",
       "   30   120.2  347.0"
      ]
     },
     "execution_count": 21,
     "metadata": {},
     "output_type": "execute_result"
    }
   ],
   "source": [
    "t = user.groupby([\"성별\", \"연령대\"])[[\"몸무게\", \"키\"]] # 1번 split 까지만 진행된 상태인거임\n",
    "t\n",
    "t.get_group((\"남\", 20))\n",
    "t.apply(lambda x :x.fillna(x.mean()).sum()) "
   ]
  },
  {
   "cell_type": "code",
   "execution_count": 15,
   "metadata": {},
   "outputs": [
    {
     "data": {
      "text/html": [
       "<div>\n",
       "<style scoped>\n",
       "    .dataframe tbody tr th:only-of-type {\n",
       "        vertical-align: middle;\n",
       "    }\n",
       "\n",
       "    .dataframe tbody tr th {\n",
       "        vertical-align: top;\n",
       "    }\n",
       "\n",
       "    .dataframe thead th {\n",
       "        text-align: right;\n",
       "    }\n",
       "</style>\n",
       "<table border=\"1\" class=\"dataframe\">\n",
       "  <thead>\n",
       "    <tr style=\"text-align: right;\">\n",
       "      <th></th>\n",
       "      <th>EMP_ID</th>\n",
       "      <th>EMP_NAME</th>\n",
       "      <th>EMP_NO</th>\n",
       "      <th>EMAIL</th>\n",
       "      <th>PHONE</th>\n",
       "      <th>DEPT_CODE</th>\n",
       "      <th>JOB_CODE</th>\n",
       "      <th>SAL_LEVEL</th>\n",
       "      <th>SALARY</th>\n",
       "      <th>BONUS</th>\n",
       "      <th>MANAGER_ID</th>\n",
       "      <th>HIRE_DATE</th>\n",
       "      <th>ENT_DATE</th>\n",
       "      <th>ENT_YN</th>\n",
       "    </tr>\n",
       "  </thead>\n",
       "  <tbody>\n",
       "    <tr>\n",
       "      <th>0</th>\n",
       "      <td>200</td>\n",
       "      <td>선동일</td>\n",
       "      <td>621230-1985634</td>\n",
       "      <td>sun_di@or.kr</td>\n",
       "      <td>1099546325.00</td>\n",
       "      <td>D9</td>\n",
       "      <td>J1</td>\n",
       "      <td>S1</td>\n",
       "      <td>8000000.00</td>\n",
       "      <td>0.30</td>\n",
       "      <td>NaN</td>\n",
       "      <td>1990-02-06 00:00:00</td>\n",
       "      <td>NaN</td>\n",
       "      <td>N</td>\n",
       "    </tr>\n",
       "    <tr>\n",
       "      <th>1</th>\n",
       "      <td>201</td>\n",
       "      <td>송종기</td>\n",
       "      <td>631123-1548654</td>\n",
       "      <td>song_jk@or.kr</td>\n",
       "      <td>1045686656.00</td>\n",
       "      <td>D9</td>\n",
       "      <td>J2</td>\n",
       "      <td>S1</td>\n",
       "      <td>6000000.00</td>\n",
       "      <td>0.00</td>\n",
       "      <td>200.00</td>\n",
       "      <td>2001-09-01 00:00:00</td>\n",
       "      <td>NaN</td>\n",
       "      <td>N</td>\n",
       "    </tr>\n",
       "    <tr>\n",
       "      <th>2</th>\n",
       "      <td>202</td>\n",
       "      <td>노옹철</td>\n",
       "      <td>861015-1356452</td>\n",
       "      <td>no_hc@or.kr</td>\n",
       "      <td>1066656263.00</td>\n",
       "      <td>D9</td>\n",
       "      <td>J2</td>\n",
       "      <td>S4</td>\n",
       "      <td>3700000.00</td>\n",
       "      <td>0.00</td>\n",
       "      <td>201.00</td>\n",
       "      <td>2001-01-01 00:00:00</td>\n",
       "      <td>NaN</td>\n",
       "      <td>N</td>\n",
       "    </tr>\n",
       "    <tr>\n",
       "      <th>3</th>\n",
       "      <td>203</td>\n",
       "      <td>송은희</td>\n",
       "      <td>631010-2653546</td>\n",
       "      <td>song_eh@or.kr</td>\n",
       "      <td>1077607879.00</td>\n",
       "      <td>D6</td>\n",
       "      <td>J4</td>\n",
       "      <td>S5</td>\n",
       "      <td>2800000.00</td>\n",
       "      <td>0.00</td>\n",
       "      <td>204.00</td>\n",
       "      <td>1996-05-03 00:00:00</td>\n",
       "      <td>NaN</td>\n",
       "      <td>N</td>\n",
       "    </tr>\n",
       "    <tr>\n",
       "      <th>4</th>\n",
       "      <td>204</td>\n",
       "      <td>유재식</td>\n",
       "      <td>660508-1342154</td>\n",
       "      <td>yoo_js@or.kr</td>\n",
       "      <td>1099999129.00</td>\n",
       "      <td>D6</td>\n",
       "      <td>J3</td>\n",
       "      <td>S4</td>\n",
       "      <td>3400000.00</td>\n",
       "      <td>0.20</td>\n",
       "      <td>200.00</td>\n",
       "      <td>2000-12-29 00:00:00</td>\n",
       "      <td>NaN</td>\n",
       "      <td>N</td>\n",
       "    </tr>\n",
       "  </tbody>\n",
       "</table>\n",
       "</div>"
      ],
      "text/plain": [
       "   EMP_ID EMP_NAME          EMP_NO          EMAIL         PHONE DEPT_CODE  \\\n",
       "0     200      선동일  621230-1985634   sun_di@or.kr 1099546325.00        D9   \n",
       "1     201      송종기  631123-1548654  song_jk@or.kr 1045686656.00        D9   \n",
       "2     202      노옹철  861015-1356452    no_hc@or.kr 1066656263.00        D9   \n",
       "3     203      송은희  631010-2653546  song_eh@or.kr 1077607879.00        D6   \n",
       "4     204      유재식  660508-1342154   yoo_js@or.kr 1099999129.00        D6   \n",
       "\n",
       "  JOB_CODE SAL_LEVEL     SALARY  BONUS  MANAGER_ID            HIRE_DATE  \\\n",
       "0       J1        S1 8000000.00   0.30         NaN  1990-02-06 00:00:00   \n",
       "1       J2        S1 6000000.00   0.00      200.00  2001-09-01 00:00:00   \n",
       "2       J2        S4 3700000.00   0.00      201.00  2001-01-01 00:00:00   \n",
       "3       J4        S5 2800000.00   0.00      204.00  1996-05-03 00:00:00   \n",
       "4       J3        S4 3400000.00   0.20      200.00  2000-12-29 00:00:00   \n",
       "\n",
       "  ENT_DATE ENT_YN  \n",
       "0      NaN      N  \n",
       "1      NaN      N  \n",
       "2      NaN      N  \n",
       "3      NaN      N  \n",
       "4      NaN      N  "
      ]
     },
     "execution_count": 15,
     "metadata": {},
     "output_type": "execute_result"
    },
    {
     "data": {
      "text/html": [
       "<div>\n",
       "<style scoped>\n",
       "    .dataframe tbody tr th:only-of-type {\n",
       "        vertical-align: middle;\n",
       "    }\n",
       "\n",
       "    .dataframe tbody tr th {\n",
       "        vertical-align: top;\n",
       "    }\n",
       "\n",
       "    .dataframe thead th {\n",
       "        text-align: right;\n",
       "    }\n",
       "</style>\n",
       "<table border=\"1\" class=\"dataframe\">\n",
       "  <thead>\n",
       "    <tr style=\"text-align: right;\">\n",
       "      <th></th>\n",
       "      <th>SALARY</th>\n",
       "    </tr>\n",
       "    <tr>\n",
       "      <th>DEPT_CODE</th>\n",
       "      <th></th>\n",
       "    </tr>\n",
       "  </thead>\n",
       "  <tbody>\n",
       "    <tr>\n",
       "      <th>D1</th>\n",
       "      <td>2606666</td>\n",
       "    </tr>\n",
       "    <tr>\n",
       "      <th>D2</th>\n",
       "      <td>2173333</td>\n",
       "    </tr>\n",
       "    <tr>\n",
       "      <th>D5</th>\n",
       "      <td>2626666</td>\n",
       "    </tr>\n",
       "    <tr>\n",
       "      <th>D6</th>\n",
       "      <td>3366666</td>\n",
       "    </tr>\n",
       "    <tr>\n",
       "      <th>D8</th>\n",
       "      <td>2328746</td>\n",
       "    </tr>\n",
       "    <tr>\n",
       "      <th>D9</th>\n",
       "      <td>5900000</td>\n",
       "    </tr>\n",
       "  </tbody>\n",
       "</table>\n",
       "</div>"
      ],
      "text/plain": [
       "            SALARY\n",
       "DEPT_CODE         \n",
       "D1         2606666\n",
       "D2         2173333\n",
       "D5         2626666\n",
       "D6         3366666\n",
       "D8         2328746\n",
       "D9         5900000"
      ]
     },
     "execution_count": 15,
     "metadata": {},
     "output_type": "execute_result"
    },
    {
     "data": {
      "text/html": [
       "<div>\n",
       "<style scoped>\n",
       "    .dataframe tbody tr th:only-of-type {\n",
       "        vertical-align: middle;\n",
       "    }\n",
       "\n",
       "    .dataframe tbody tr th {\n",
       "        vertical-align: top;\n",
       "    }\n",
       "\n",
       "    .dataframe thead th {\n",
       "        text-align: right;\n",
       "    }\n",
       "</style>\n",
       "<table border=\"1\" class=\"dataframe\">\n",
       "  <thead>\n",
       "    <tr style=\"text-align: right;\">\n",
       "      <th>HIRE_DATE</th>\n",
       "      <th>1990</th>\n",
       "      <th>1994</th>\n",
       "      <th>1996</th>\n",
       "      <th>1997</th>\n",
       "      <th>1999</th>\n",
       "      <th>2000</th>\n",
       "      <th>2001</th>\n",
       "      <th>2004</th>\n",
       "      <th>2007</th>\n",
       "      <th>2008</th>\n",
       "      <th>2010</th>\n",
       "      <th>2011</th>\n",
       "      <th>2012</th>\n",
       "      <th>2013</th>\n",
       "      <th>2014</th>\n",
       "      <th>2015</th>\n",
       "      <th>2016</th>\n",
       "      <th>2017</th>\n",
       "    </tr>\n",
       "  </thead>\n",
       "  <tbody>\n",
       "    <tr>\n",
       "      <th>EMP_ID</th>\n",
       "      <td>1</td>\n",
       "      <td>2</td>\n",
       "      <td>1</td>\n",
       "      <td>1</td>\n",
       "      <td>3</td>\n",
       "      <td>1</td>\n",
       "      <td>3</td>\n",
       "      <td>1</td>\n",
       "      <td>1</td>\n",
       "      <td>1</td>\n",
       "      <td>1</td>\n",
       "      <td>1</td>\n",
       "      <td>1</td>\n",
       "      <td>1</td>\n",
       "      <td>1</td>\n",
       "      <td>1</td>\n",
       "      <td>1</td>\n",
       "      <td>1</td>\n",
       "    </tr>\n",
       "  </tbody>\n",
       "</table>\n",
       "</div>"
      ],
      "text/plain": [
       "HIRE_DATE  1990  1994  1996  1997  1999  2000  2001  2004  2007  2008  2010  \\\n",
       "EMP_ID        1     2     1     1     3     1     3     1     1     1     1   \n",
       "\n",
       "HIRE_DATE  2011  2012  2013  2014  2015  2016  2017  \n",
       "EMP_ID        1     1     1     1     1     1     1  "
      ]
     },
     "execution_count": 15,
     "metadata": {},
     "output_type": "execute_result"
    }
   ],
   "source": [
    "emp = pd.read_csv(\"./data/emp.csv\")\n",
    "emp.head()\n",
    "# 부서별 사원들의 평균 급여를 구하시오\n",
    "pd.options.display.float_format = '{:.2f}'.format\n",
    "emp.groupby(\"DEPT_CODE\")[[\"SALARY\"]].mean().astype(int)\n",
    "\n",
    "# 연도별 입사자 수\n",
    "emp.groupby(pd.to_datetime(emp[\"HIRE_DATE\"]).dt.year)[[\"EMP_ID\"]].count().T"
   ]
  },
  {
   "cell_type": "markdown",
   "metadata": {},
   "source": [
    "- 사고년도,  acc_year\n",
    "- 발생월일시, occrrnc_dt\n",
    "- 낮밤, dght_cd\n",
    "- 사망자수, dth_dnv_cnt\n",
    "- 부상자수, injpsn_cnt\n",
    "- 시도코드, occrrnc_lc_sido_cd,\n",
    "- 시군구코드, occrrnc_lc_sgg_cd\n",
    "- 경도, lo_crd\n",
    "- 위도, la_crd"
   ]
  },
  {
   "cell_type": "code",
   "execution_count": 40,
   "metadata": {},
   "outputs": [
    {
     "data": {
      "text/html": [
       "<div>\n",
       "<style scoped>\n",
       "    .dataframe tbody tr th:only-of-type {\n",
       "        vertical-align: middle;\n",
       "    }\n",
       "\n",
       "    .dataframe tbody tr th {\n",
       "        vertical-align: top;\n",
       "    }\n",
       "\n",
       "    .dataframe thead th {\n",
       "        text-align: right;\n",
       "    }\n",
       "</style>\n",
       "<table border=\"1\" class=\"dataframe\">\n",
       "  <thead>\n",
       "    <tr style=\"text-align: right;\">\n",
       "      <th></th>\n",
       "      <th>resultCode</th>\n",
       "      <th>resultMsg</th>\n",
       "      <th>items</th>\n",
       "      <th>totalCount</th>\n",
       "      <th>numOfRows</th>\n",
       "      <th>pageNo</th>\n",
       "    </tr>\n",
       "  </thead>\n",
       "  <tbody>\n",
       "    <tr>\n",
       "      <th>item</th>\n",
       "      <td>0</td>\n",
       "      <td>NORMAL_CODE</td>\n",
       "      <td>[{'acc_year': '2023', 'occrrnc_dt': '202301010...</td>\n",
       "      <td>2468</td>\n",
       "      <td>2468</td>\n",
       "      <td>1</td>\n",
       "    </tr>\n",
       "  </tbody>\n",
       "</table>\n",
       "</div>"
      ],
      "text/plain": [
       "      resultCode    resultMsg  \\\n",
       "item           0  NORMAL_CODE   \n",
       "\n",
       "                                                  items  totalCount  \\\n",
       "item  [{'acc_year': '2023', 'occrrnc_dt': '202301010...        2468   \n",
       "\n",
       "      numOfRows  pageNo  \n",
       "item       2468       1  "
      ]
     },
     "execution_count": 40,
     "metadata": {},
     "output_type": "execute_result"
    },
    {
     "data": {
      "text/html": [
       "<div>\n",
       "<style scoped>\n",
       "    .dataframe tbody tr th:only-of-type {\n",
       "        vertical-align: middle;\n",
       "    }\n",
       "\n",
       "    .dataframe tbody tr th {\n",
       "        vertical-align: top;\n",
       "    }\n",
       "\n",
       "    .dataframe thead th {\n",
       "        text-align: right;\n",
       "    }\n",
       "</style>\n",
       "<table border=\"1\" class=\"dataframe\">\n",
       "  <thead>\n",
       "    <tr style=\"text-align: right;\">\n",
       "      <th></th>\n",
       "      <th>acc_year</th>\n",
       "      <th>occrrnc_dt</th>\n",
       "      <th>dght_cd</th>\n",
       "      <th>occrrnc_day_cd</th>\n",
       "      <th>dth_dnv_cnt</th>\n",
       "      <th>injpsn_cnt</th>\n",
       "      <th>se_dnv_cnt</th>\n",
       "      <th>sl_dnv_cnt</th>\n",
       "      <th>wnd_dnv_cnt</th>\n",
       "      <th>occrrnc_lc_sido_cd</th>\n",
       "      <th>...</th>\n",
       "      <th>acc_ty_cd</th>\n",
       "      <th>aslt_vtr_cd</th>\n",
       "      <th>road_frm_lclas_cd</th>\n",
       "      <th>road_frm_cd</th>\n",
       "      <th>wrngdo_isrty_vhcty_lclas_cd</th>\n",
       "      <th>dmge_isrty_vhcty_lclas_cd</th>\n",
       "      <th>occrrnc_lc_x_crd</th>\n",
       "      <th>occrrnc_lc_y_crd</th>\n",
       "      <th>lo_crd</th>\n",
       "      <th>la_crd</th>\n",
       "    </tr>\n",
       "  </thead>\n",
       "  <tbody>\n",
       "    <tr>\n",
       "      <th>0</th>\n",
       "      <td>2023</td>\n",
       "      <td>2023010107</td>\n",
       "      <td>1</td>\n",
       "      <td>1</td>\n",
       "      <td>1</td>\n",
       "      <td>1</td>\n",
       "      <td>0</td>\n",
       "      <td>0</td>\n",
       "      <td>0</td>\n",
       "      <td>2000</td>\n",
       "      <td>...</td>\n",
       "      <td>37</td>\n",
       "      <td>05</td>\n",
       "      <td>01</td>\n",
       "      <td>05</td>\n",
       "      <td>05</td>\n",
       "      <td>##</td>\n",
       "      <td>1089954</td>\n",
       "      <td>1651437</td>\n",
       "      <td>128.48401331</td>\n",
       "      <td>34.85362252</td>\n",
       "    </tr>\n",
       "    <tr>\n",
       "      <th>1</th>\n",
       "      <td>2023</td>\n",
       "      <td>2023010107</td>\n",
       "      <td>1</td>\n",
       "      <td>1</td>\n",
       "      <td>1</td>\n",
       "      <td>1</td>\n",
       "      <td>0</td>\n",
       "      <td>0</td>\n",
       "      <td>0</td>\n",
       "      <td>1500</td>\n",
       "      <td>...</td>\n",
       "      <td>05</td>\n",
       "      <td>05</td>\n",
       "      <td>01</td>\n",
       "      <td>05</td>\n",
       "      <td>10</td>\n",
       "      <td>12</td>\n",
       "      <td>1015896</td>\n",
       "      <td>1885475</td>\n",
       "      <td>127.67857890</td>\n",
       "      <td>36.96757277</td>\n",
       "    </tr>\n",
       "    <tr>\n",
       "      <th>2</th>\n",
       "      <td>2023</td>\n",
       "      <td>2023010110</td>\n",
       "      <td>1</td>\n",
       "      <td>1</td>\n",
       "      <td>1</td>\n",
       "      <td>1</td>\n",
       "      <td>0</td>\n",
       "      <td>0</td>\n",
       "      <td>0</td>\n",
       "      <td>1900</td>\n",
       "      <td>...</td>\n",
       "      <td>05</td>\n",
       "      <td>05</td>\n",
       "      <td>01</td>\n",
       "      <td>05</td>\n",
       "      <td>03</td>\n",
       "      <td>12</td>\n",
       "      <td>1181459</td>\n",
       "      <td>1784728</td>\n",
       "      <td>129.51430954</td>\n",
       "      <td>36.04253106</td>\n",
       "    </tr>\n",
       "    <tr>\n",
       "      <th>3</th>\n",
       "      <td>2023</td>\n",
       "      <td>2023010114</td>\n",
       "      <td>1</td>\n",
       "      <td>1</td>\n",
       "      <td>1</td>\n",
       "      <td>1</td>\n",
       "      <td>0</td>\n",
       "      <td>0</td>\n",
       "      <td>0</td>\n",
       "      <td>1300</td>\n",
       "      <td>...</td>\n",
       "      <td>32</td>\n",
       "      <td>05</td>\n",
       "      <td>01</td>\n",
       "      <td>05</td>\n",
       "      <td>05</td>\n",
       "      <td>##</td>\n",
       "      <td>943961</td>\n",
       "      <td>1915763</td>\n",
       "      <td>126.86819905</td>\n",
       "      <td>37.23904589</td>\n",
       "    </tr>\n",
       "    <tr>\n",
       "      <th>4</th>\n",
       "      <td>2023</td>\n",
       "      <td>2023010118</td>\n",
       "      <td>2</td>\n",
       "      <td>1</td>\n",
       "      <td>1</td>\n",
       "      <td>1</td>\n",
       "      <td>0</td>\n",
       "      <td>0</td>\n",
       "      <td>0</td>\n",
       "      <td>1300</td>\n",
       "      <td>...</td>\n",
       "      <td>37</td>\n",
       "      <td>05</td>\n",
       "      <td>01</td>\n",
       "      <td>05</td>\n",
       "      <td>05</td>\n",
       "      <td>##</td>\n",
       "      <td>974470</td>\n",
       "      <td>1970403</td>\n",
       "      <td>127.21026475</td>\n",
       "      <td>37.73288307</td>\n",
       "    </tr>\n",
       "    <tr>\n",
       "      <th>...</th>\n",
       "      <td>...</td>\n",
       "      <td>...</td>\n",
       "      <td>...</td>\n",
       "      <td>...</td>\n",
       "      <td>...</td>\n",
       "      <td>...</td>\n",
       "      <td>...</td>\n",
       "      <td>...</td>\n",
       "      <td>...</td>\n",
       "      <td>...</td>\n",
       "      <td>...</td>\n",
       "      <td>...</td>\n",
       "      <td>...</td>\n",
       "      <td>...</td>\n",
       "      <td>...</td>\n",
       "      <td>...</td>\n",
       "      <td>...</td>\n",
       "      <td>...</td>\n",
       "      <td>...</td>\n",
       "      <td>...</td>\n",
       "      <td>...</td>\n",
       "    </tr>\n",
       "    <tr>\n",
       "      <th>2463</th>\n",
       "      <td>2023</td>\n",
       "      <td>2023123103</td>\n",
       "      <td>2</td>\n",
       "      <td>1</td>\n",
       "      <td>1</td>\n",
       "      <td>1</td>\n",
       "      <td>0</td>\n",
       "      <td>0</td>\n",
       "      <td>0</td>\n",
       "      <td>1300</td>\n",
       "      <td>...</td>\n",
       "      <td>32</td>\n",
       "      <td>05</td>\n",
       "      <td>01</td>\n",
       "      <td>05</td>\n",
       "      <td>01</td>\n",
       "      <td>##</td>\n",
       "      <td>931197</td>\n",
       "      <td>1967305</td>\n",
       "      <td>126.71948916</td>\n",
       "      <td>37.70273252</td>\n",
       "    </tr>\n",
       "    <tr>\n",
       "      <th>2464</th>\n",
       "      <td>2023</td>\n",
       "      <td>2023123108</td>\n",
       "      <td>1</td>\n",
       "      <td>1</td>\n",
       "      <td>1</td>\n",
       "      <td>1</td>\n",
       "      <td>0</td>\n",
       "      <td>0</td>\n",
       "      <td>0</td>\n",
       "      <td>1400</td>\n",
       "      <td>...</td>\n",
       "      <td>25</td>\n",
       "      <td>05</td>\n",
       "      <td>02</td>\n",
       "      <td>06</td>\n",
       "      <td>03</td>\n",
       "      <td>03</td>\n",
       "      <td>1095703</td>\n",
       "      <td>2021093</td>\n",
       "      <td>128.59278007</td>\n",
       "      <td>38.18502071</td>\n",
       "    </tr>\n",
       "    <tr>\n",
       "      <th>2465</th>\n",
       "      <td>2023</td>\n",
       "      <td>2023123111</td>\n",
       "      <td>1</td>\n",
       "      <td>1</td>\n",
       "      <td>1</td>\n",
       "      <td>1</td>\n",
       "      <td>0</td>\n",
       "      <td>0</td>\n",
       "      <td>0</td>\n",
       "      <td>1900</td>\n",
       "      <td>...</td>\n",
       "      <td>37</td>\n",
       "      <td>05</td>\n",
       "      <td>01</td>\n",
       "      <td>05</td>\n",
       "      <td>05</td>\n",
       "      <td>##</td>\n",
       "      <td>1061423</td>\n",
       "      <td>1768007</td>\n",
       "      <td>128.18070603</td>\n",
       "      <td>35.90677059</td>\n",
       "    </tr>\n",
       "    <tr>\n",
       "      <th>2466</th>\n",
       "      <td>2023</td>\n",
       "      <td>2023123121</td>\n",
       "      <td>2</td>\n",
       "      <td>1</td>\n",
       "      <td>1</td>\n",
       "      <td>1</td>\n",
       "      <td>0</td>\n",
       "      <td>0</td>\n",
       "      <td>0</td>\n",
       "      <td>1600</td>\n",
       "      <td>...</td>\n",
       "      <td>01</td>\n",
       "      <td>05</td>\n",
       "      <td>01</td>\n",
       "      <td>05</td>\n",
       "      <td>01</td>\n",
       "      <td>12</td>\n",
       "      <td>970432</td>\n",
       "      <td>1870067</td>\n",
       "      <td>127.16843029</td>\n",
       "      <td>36.82834804</td>\n",
       "    </tr>\n",
       "    <tr>\n",
       "      <th>2467</th>\n",
       "      <td>2023</td>\n",
       "      <td>2023123123</td>\n",
       "      <td>2</td>\n",
       "      <td>1</td>\n",
       "      <td>1</td>\n",
       "      <td>3</td>\n",
       "      <td>1</td>\n",
       "      <td>1</td>\n",
       "      <td>0</td>\n",
       "      <td>1900</td>\n",
       "      <td>...</td>\n",
       "      <td>22</td>\n",
       "      <td>05</td>\n",
       "      <td>01</td>\n",
       "      <td>05</td>\n",
       "      <td>01</td>\n",
       "      <td>01</td>\n",
       "      <td>1171282</td>\n",
       "      <td>1846399</td>\n",
       "      <td>129.41494728</td>\n",
       "      <td>36.60005866</td>\n",
       "    </tr>\n",
       "  </tbody>\n",
       "</table>\n",
       "<p>2468 rows × 23 columns</p>\n",
       "</div>"
      ],
      "text/plain": [
       "     acc_year  occrrnc_dt dght_cd occrrnc_day_cd  dth_dnv_cnt  injpsn_cnt  \\\n",
       "0        2023  2023010107       1              1            1           1   \n",
       "1        2023  2023010107       1              1            1           1   \n",
       "2        2023  2023010110       1              1            1           1   \n",
       "3        2023  2023010114       1              1            1           1   \n",
       "4        2023  2023010118       2              1            1           1   \n",
       "...       ...         ...     ...            ...          ...         ...   \n",
       "2463     2023  2023123103       2              1            1           1   \n",
       "2464     2023  2023123108       1              1            1           1   \n",
       "2465     2023  2023123111       1              1            1           1   \n",
       "2466     2023  2023123121       2              1            1           1   \n",
       "2467     2023  2023123123       2              1            1           3   \n",
       "\n",
       "      se_dnv_cnt  sl_dnv_cnt  wnd_dnv_cnt occrrnc_lc_sido_cd  ... acc_ty_cd  \\\n",
       "0              0           0            0               2000  ...        37   \n",
       "1              0           0            0               1500  ...        05   \n",
       "2              0           0            0               1900  ...        05   \n",
       "3              0           0            0               1300  ...        32   \n",
       "4              0           0            0               1300  ...        37   \n",
       "...          ...         ...          ...                ...  ...       ...   \n",
       "2463           0           0            0               1300  ...        32   \n",
       "2464           0           0            0               1400  ...        25   \n",
       "2465           0           0            0               1900  ...        37   \n",
       "2466           0           0            0               1600  ...        01   \n",
       "2467           1           1            0               1900  ...        22   \n",
       "\n",
       "     aslt_vtr_cd road_frm_lclas_cd road_frm_cd wrngdo_isrty_vhcty_lclas_cd  \\\n",
       "0            05                 01          05                          05   \n",
       "1            05                 01          05                          10   \n",
       "2            05                 01          05                          03   \n",
       "3            05                 01          05                          05   \n",
       "4            05                 01          05                          05   \n",
       "...          ...               ...         ...                         ...   \n",
       "2463         05                 01          05                          01   \n",
       "2464         05                 02          06                          03   \n",
       "2465         05                 01          05                          05   \n",
       "2466         05                 01          05                          01   \n",
       "2467         05                 01          05                          01   \n",
       "\n",
       "     dmge_isrty_vhcty_lclas_cd occrrnc_lc_x_crd occrrnc_lc_y_crd  \\\n",
       "0                           ##         1089954          1651437    \n",
       "1                           12         1015896          1885475    \n",
       "2                           12         1181459          1784728    \n",
       "3                           ##         943961           1915763    \n",
       "4                           ##         974470           1970403    \n",
       "...                        ...              ...              ...   \n",
       "2463                        ##         931197           1967305    \n",
       "2464                        03         1095703          2021093    \n",
       "2465                        ##         1061423          1768007    \n",
       "2466                        12         970432           1870067    \n",
       "2467                        01         1171282          1846399    \n",
       "\n",
       "            lo_crd       la_crd  \n",
       "0     128.48401331  34.85362252  \n",
       "1     127.67857890  36.96757277  \n",
       "2     129.51430954  36.04253106  \n",
       "3     126.86819905  37.23904589  \n",
       "4     127.21026475  37.73288307  \n",
       "...            ...          ...  \n",
       "2463  126.71948916  37.70273252  \n",
       "2464  128.59278007  38.18502071  \n",
       "2465  128.18070603  35.90677059  \n",
       "2466  127.16843029  36.82834804  \n",
       "2467  129.41494728  36.60005866  \n",
       "\n",
       "[2468 rows x 23 columns]"
      ]
     },
     "execution_count": 40,
     "metadata": {},
     "output_type": "execute_result"
    },
    {
     "data": {
      "text/html": [
       "<div>\n",
       "<style scoped>\n",
       "    .dataframe tbody tr th:only-of-type {\n",
       "        vertical-align: middle;\n",
       "    }\n",
       "\n",
       "    .dataframe tbody tr th {\n",
       "        vertical-align: top;\n",
       "    }\n",
       "\n",
       "    .dataframe thead th {\n",
       "        text-align: right;\n",
       "    }\n",
       "</style>\n",
       "<table border=\"1\" class=\"dataframe\">\n",
       "  <thead>\n",
       "    <tr style=\"text-align: right;\">\n",
       "      <th></th>\n",
       "      <th>occrrnc_dt</th>\n",
       "      <th>dght_cd</th>\n",
       "      <th>dth_dnv_cnt</th>\n",
       "      <th>injpsn_cnt</th>\n",
       "    </tr>\n",
       "  </thead>\n",
       "  <tbody>\n",
       "    <tr>\n",
       "      <th>0</th>\n",
       "      <td>2023010107</td>\n",
       "      <td>1</td>\n",
       "      <td>1</td>\n",
       "      <td>1</td>\n",
       "    </tr>\n",
       "    <tr>\n",
       "      <th>1</th>\n",
       "      <td>2023010107</td>\n",
       "      <td>1</td>\n",
       "      <td>1</td>\n",
       "      <td>1</td>\n",
       "    </tr>\n",
       "    <tr>\n",
       "      <th>2</th>\n",
       "      <td>2023010110</td>\n",
       "      <td>1</td>\n",
       "      <td>1</td>\n",
       "      <td>1</td>\n",
       "    </tr>\n",
       "    <tr>\n",
       "      <th>3</th>\n",
       "      <td>2023010114</td>\n",
       "      <td>1</td>\n",
       "      <td>1</td>\n",
       "      <td>1</td>\n",
       "    </tr>\n",
       "    <tr>\n",
       "      <th>4</th>\n",
       "      <td>2023010118</td>\n",
       "      <td>2</td>\n",
       "      <td>1</td>\n",
       "      <td>1</td>\n",
       "    </tr>\n",
       "    <tr>\n",
       "      <th>...</th>\n",
       "      <td>...</td>\n",
       "      <td>...</td>\n",
       "      <td>...</td>\n",
       "      <td>...</td>\n",
       "    </tr>\n",
       "    <tr>\n",
       "      <th>2463</th>\n",
       "      <td>2023123103</td>\n",
       "      <td>2</td>\n",
       "      <td>1</td>\n",
       "      <td>1</td>\n",
       "    </tr>\n",
       "    <tr>\n",
       "      <th>2464</th>\n",
       "      <td>2023123108</td>\n",
       "      <td>1</td>\n",
       "      <td>1</td>\n",
       "      <td>1</td>\n",
       "    </tr>\n",
       "    <tr>\n",
       "      <th>2465</th>\n",
       "      <td>2023123111</td>\n",
       "      <td>1</td>\n",
       "      <td>1</td>\n",
       "      <td>1</td>\n",
       "    </tr>\n",
       "    <tr>\n",
       "      <th>2466</th>\n",
       "      <td>2023123121</td>\n",
       "      <td>2</td>\n",
       "      <td>1</td>\n",
       "      <td>1</td>\n",
       "    </tr>\n",
       "    <tr>\n",
       "      <th>2467</th>\n",
       "      <td>2023123123</td>\n",
       "      <td>2</td>\n",
       "      <td>1</td>\n",
       "      <td>3</td>\n",
       "    </tr>\n",
       "  </tbody>\n",
       "</table>\n",
       "<p>2468 rows × 4 columns</p>\n",
       "</div>"
      ],
      "text/plain": [
       "      occrrnc_dt dght_cd  dth_dnv_cnt  injpsn_cnt\n",
       "0     2023010107       1            1           1\n",
       "1     2023010107       1            1           1\n",
       "2     2023010110       1            1           1\n",
       "3     2023010114       1            1           1\n",
       "4     2023010118       2            1           1\n",
       "...          ...     ...          ...         ...\n",
       "2463  2023123103       2            1           1\n",
       "2464  2023123108       1            1           1\n",
       "2465  2023123111       1            1           1\n",
       "2466  2023123121       2            1           1\n",
       "2467  2023123123       2            1           3\n",
       "\n",
       "[2468 rows x 4 columns]"
      ]
     },
     "execution_count": 40,
     "metadata": {},
     "output_type": "execute_result"
    }
   ],
   "source": [
    "df = pd.read_json(\"./data/fakedata.json\")\n",
    "df\n",
    "df = pd.json_normalize(df[\"items\"].iat[0]) # = df[\"items\"][0]\n",
    "df\n",
    "df = df[[\"occrrnc_dt\", \"dght_cd\", \"dth_dnv_cnt\", \"injpsn_cnt\"]]\n",
    "df"
   ]
  },
  {
   "cell_type": "code",
   "execution_count": 47,
   "metadata": {},
   "outputs": [
    {
     "data": {
      "text/html": [
       "<div>\n",
       "<style scoped>\n",
       "    .dataframe tbody tr th:only-of-type {\n",
       "        vertical-align: middle;\n",
       "    }\n",
       "\n",
       "    .dataframe tbody tr th {\n",
       "        vertical-align: top;\n",
       "    }\n",
       "\n",
       "    .dataframe thead th {\n",
       "        text-align: right;\n",
       "    }\n",
       "</style>\n",
       "<table border=\"1\" class=\"dataframe\">\n",
       "  <thead>\n",
       "    <tr style=\"text-align: right;\">\n",
       "      <th></th>\n",
       "      <th></th>\n",
       "      <th>dth_dnv_cnt</th>\n",
       "      <th>injpsn_cnt</th>\n",
       "    </tr>\n",
       "    <tr>\n",
       "      <th>date</th>\n",
       "      <th>dght_cd</th>\n",
       "      <th></th>\n",
       "      <th></th>\n",
       "    </tr>\n",
       "  </thead>\n",
       "  <tbody>\n",
       "    <tr>\n",
       "      <th rowspan=\"2\" valign=\"top\">0</th>\n",
       "      <th>1</th>\n",
       "      <td>218</td>\n",
       "      <td>337</td>\n",
       "    </tr>\n",
       "    <tr>\n",
       "      <th>2</th>\n",
       "      <td>153</td>\n",
       "      <td>225</td>\n",
       "    </tr>\n",
       "    <tr>\n",
       "      <th rowspan=\"2\" valign=\"top\">1</th>\n",
       "      <th>1</th>\n",
       "      <td>204</td>\n",
       "      <td>291</td>\n",
       "    </tr>\n",
       "    <tr>\n",
       "      <th>2</th>\n",
       "      <td>148</td>\n",
       "      <td>265</td>\n",
       "    </tr>\n",
       "    <tr>\n",
       "      <th rowspan=\"2\" valign=\"top\">2</th>\n",
       "      <th>1</th>\n",
       "      <td>219</td>\n",
       "      <td>307</td>\n",
       "    </tr>\n",
       "    <tr>\n",
       "      <th>2</th>\n",
       "      <td>167</td>\n",
       "      <td>228</td>\n",
       "    </tr>\n",
       "    <tr>\n",
       "      <th rowspan=\"2\" valign=\"top\">3</th>\n",
       "      <th>1</th>\n",
       "      <td>193</td>\n",
       "      <td>317</td>\n",
       "    </tr>\n",
       "    <tr>\n",
       "      <th>2</th>\n",
       "      <td>198</td>\n",
       "      <td>279</td>\n",
       "    </tr>\n",
       "    <tr>\n",
       "      <th rowspan=\"2\" valign=\"top\">4</th>\n",
       "      <th>1</th>\n",
       "      <td>232</td>\n",
       "      <td>404</td>\n",
       "    </tr>\n",
       "    <tr>\n",
       "      <th>2</th>\n",
       "      <td>167</td>\n",
       "      <td>234</td>\n",
       "    </tr>\n",
       "    <tr>\n",
       "      <th rowspan=\"2\" valign=\"top\">5</th>\n",
       "      <th>1</th>\n",
       "      <td>186</td>\n",
       "      <td>332</td>\n",
       "    </tr>\n",
       "    <tr>\n",
       "      <th>2</th>\n",
       "      <td>152</td>\n",
       "      <td>204</td>\n",
       "    </tr>\n",
       "    <tr>\n",
       "      <th rowspan=\"2\" valign=\"top\">6</th>\n",
       "      <th>1</th>\n",
       "      <td>150</td>\n",
       "      <td>237</td>\n",
       "    </tr>\n",
       "    <tr>\n",
       "      <th>2</th>\n",
       "      <td>164</td>\n",
       "      <td>244</td>\n",
       "    </tr>\n",
       "  </tbody>\n",
       "</table>\n",
       "</div>"
      ],
      "text/plain": [
       "              dth_dnv_cnt  injpsn_cnt\n",
       "date dght_cd                         \n",
       "0    1                218         337\n",
       "     2                153         225\n",
       "1    1                204         291\n",
       "     2                148         265\n",
       "2    1                219         307\n",
       "     2                167         228\n",
       "3    1                193         317\n",
       "     2                198         279\n",
       "4    1                232         404\n",
       "     2                167         234\n",
       "5    1                186         332\n",
       "     2                152         204\n",
       "6    1                150         237\n",
       "     2                164         244"
      ]
     },
     "execution_count": 47,
     "metadata": {},
     "output_type": "execute_result"
    },
    {
     "data": {
      "text/plain": [
       "<Axes: ylabel='Frequency'>"
      ]
     },
     "execution_count": 47,
     "metadata": {},
     "output_type": "execute_result"
    },
    {
     "data": {
      "image/png": "[encoded data removed]",
      "text/plain": [
       "<Figure size 640x480 with 1 Axes>"
      ]
     },
     "metadata": {},
     "output_type": "display_data"
    }
   ],
   "source": [
    "# 월별 사망자수와 부상자수 합계를 확인\n",
    "df[\"date\"] = pd.to_datetime(df[\"occrrnc_dt\"].str[0:8])\n",
    "df_1 = df.groupby(df[\"date\"].dt.month)[[\"dth_dnv_cnt\", \"injpsn_cnt\"]].sum()\n",
    "# df_1.plot()\n",
    "\n",
    "# 요일별 낮밤별 사망자 부상자 수 구하기\n",
    "df_2 = df.groupby([df[\"date\"].dt.dayofweek, \"dght_cd\"])[[\"dth_dnv_cnt\", \"injpsn_cnt\"]].sum()\n",
    "df_2\n",
    "df_2.plot(kind = \"hist\")"
   ]
  },
  {
   "cell_type": "code",
   "execution_count": 59,
   "metadata": {},
   "outputs": [
    {
     "data": {
      "text/plain": [
       "EMP_NO\n",
       "1   3610200.00\n",
       "2   2893053.00\n",
       "Name: 총급여, dtype: float64"
      ]
     },
     "execution_count": 59,
     "metadata": {},
     "output_type": "execute_result"
    }
   ],
   "source": [
    "# 성별 총 급여의 평균 \n",
    "# 총 급여 : salary * (1+bonus)\n",
    "emp[\"총급여\"] = emp[\"SALARY\"] * (1 + emp[\"BONUS\"].fillna(0))\n",
    "emp.groupby(emp[\"EMP_NO\"].str[7])[\"총급여\"].mean()"
   ]
  },
  {
   "cell_type": "code",
   "execution_count": 76,
   "metadata": {},
   "outputs": [
    {
     "data": {
      "application/vnd.plotly.v1+json": {
       "config": {
        "plotlyServerURL": "https://plot.ly"
       },
       "data": [
        {
         "hovertemplate": "variable=dth_dnv_cnt<br>date=%{x}<br>value=%{y}<extra></extra>",
         "legendgroup": "dth_dnv_cnt",
         "marker": {
          "color": "#636efa",
          "symbol": "circle"
         },
         "mode": "markers",
         "name": "dth_dnv_cnt",
         "orientation": "v",
         "showlegend": true,
         "type": "scatter",
         "x": [
          1,
          2,
          3,
          4,
          5,
          6,
          7,
          8,
          9,
          10,
          11,
          12
         ],
         "xaxis": "x",
         "y": [
          190,
          181,
          187,
          182,
          203,
          202,
          205,
          246,
          239,
          265,
          257,
          194
         ],
         "yaxis": "y"
        },
        {
         "hovertemplate": "variable=injpsn_cnt<br>date=%{x}<br>value=%{y}<extra></extra>",
         "legendgroup": "injpsn_cnt",
         "marker": {
          "color": "#EF553B",
          "symbol": "circle"
         },
         "mode": "markers",
         "name": "injpsn_cnt",
         "orientation": "v",
         "showlegend": true,
         "type": "scatter",
         "x": [
          1,
          2,
          3,
          4,
          5,
          6,
          7,
          8,
          9,
          10,
          11,
          12
         ],
         "xaxis": "x",
         "y": [
          278,
          252,
          273,
          266,
          276,
          376,
          309,
          401,
          355,
          419,
          405,
          294
         ],
         "yaxis": "y"
        }
       ],
       "layout": {
        "legend": {
         "title": {
          "text": "variable"
         },
         "tracegroupgap": 0
        },
        "template": {
         "data": {
          "bar": [
           {
            "error_x": {
             "color": "#2a3f5f"
            },
            "error_y": {
             "color": "#2a3f5f"
            },
            "marker": {
             "line": {
              "color": "#E5ECF6",
              "width": 0.5
             },
             "pattern": {
              "fillmode": "overlay",
              "size": 10,
              "solidity": 0.2
             }
            },
            "type": "bar"
           }
          ],
          "barpolar": [
           {
            "marker": {
             "line": {
              "color": "#E5ECF6",
              "width": 0.5
             },
             "pattern": {
              "fillmode": "overlay",
              "size": 10,
              "solidity": 0.2
             }
            },
            "type": "barpolar"
           }
          ],
          "carpet": [
           {
            "aaxis": {
             "endlinecolor": "#2a3f5f",
             "gridcolor": "white",
             "linecolor": "white",
             "minorgridcolor": "white",
             "startlinecolor": "#2a3f5f"
            },
            "baxis": {
             "endlinecolor": "#2a3f5f",
             "gridcolor": "white",
             "linecolor": "white",
             "minorgridcolor": "white",
             "startlinecolor": "#2a3f5f"
            },
            "type": "carpet"
           }
          ],
          "choropleth": [
           {
            "colorbar": {
             "outlinewidth": 0,
             "ticks": ""
            },
            "type": "choropleth"
           }
          ],
          "contour": [
           {
            "colorbar": {
             "outlinewidth": 0,
             "ticks": ""
            },
            "colorscale": [
             [
              0,
              "#0d0887"
             ],
             [
              0.1111111111111111,
              "#46039f"
             ],
             [
              0.2222222222222222,
              "#7201a8"
             ],
             [
              0.3333333333333333,
              "#9c179e"
             ],
             [
              0.4444444444444444,
              "#bd3786"
             ],
             [
              0.5555555555555556,
              "#d8576b"
             ],
             [
              0.6666666666666666,
              "#ed7953"
             ],
             [
              0.7777777777777778,
              "#fb9f3a"
             ],
             [
              0.8888888888888888,
              "#fdca26"
             ],
             [
              1,
              "#f0f921"
             ]
            ],
            "type": "contour"
           }
          ],
          "contourcarpet": [
           {
            "colorbar": {
             "outlinewidth": 0,
             "ticks": ""
            },
            "type": "contourcarpet"
           }
          ],
          "heatmap": [
           {
            "colorbar": {
             "outlinewidth": 0,
             "ticks": ""
            },
            "colorscale": [
             [
              0,
              "#0d0887"
             ],
             [
              0.1111111111111111,
              "#46039f"
             ],
             [
              0.2222222222222222,
              "#7201a8"
             ],
             [
              0.3333333333333333,
              "#9c179e"
             ],
             [
              0.4444444444444444,
              "#bd3786"
             ],
             [
              0.5555555555555556,
              "#d8576b"
             ],
             [
              0.6666666666666666,
              "#ed7953"
             ],
             [
              0.7777777777777778,
              "#fb9f3a"
             ],
             [
              0.8888888888888888,
              "#fdca26"
             ],
             [
              1,
              "#f0f921"
             ]
            ],
            "type": "heatmap"
           }
          ],
          "heatmapgl": [
           {
            "colorbar": {
             "outlinewidth": 0,
             "ticks": ""
            },
            "colorscale": [
             [
              0,
              "#0d0887"
             ],
             [
              0.1111111111111111,
              "#46039f"
             ],
             [
              0.2222222222222222,
              "#7201a8"
             ],
             [
              0.3333333333333333,
              "#9c179e"
             ],
             [
              0.4444444444444444,
              "#bd3786"
             ],
             [
              0.5555555555555556,
              "#d8576b"
             ],
             [
              0.6666666666666666,
              "#ed7953"
             ],
             [
              0.7777777777777778,
              "#fb9f3a"
             ],
             [
              0.8888888888888888,
              "#fdca26"
             ],
             [
              1,
              "#f0f921"
             ]
            ],
            "type": "heatmapgl"
           }
          ],
          "histogram": [
           {
            "marker": {
             "pattern": {
              "fillmode": "overlay",
              "size": 10,
              "solidity": 0.2
             }
            },
            "type": "histogram"
           }
          ],
          "histogram2d": [
           {
            "colorbar": {
             "outlinewidth": 0,
             "ticks": ""
            },
            "colorscale": [
             [
              0,
              "#0d0887"
             ],
             [
              0.1111111111111111,
              "#46039f"
             ],
             [
              0.2222222222222222,
              "#7201a8"
             ],
             [
              0.3333333333333333,
              "#9c179e"
             ],
             [
              0.4444444444444444,
              "#bd3786"
             ],
             [
              0.5555555555555556,
              "#d8576b"
             ],
             [
              0.6666666666666666,
              "#ed7953"
             ],
             [
              0.7777777777777778,
              "#fb9f3a"
             ],
             [
              0.8888888888888888,
              "#fdca26"
             ],
             [
              1,
              "#f0f921"
             ]
            ],
            "type": "histogram2d"
           }
          ],
          "histogram2dcontour": [
           {
            "colorbar": {
             "outlinewidth": 0,
             "ticks": ""
            },
            "colorscale": [
             [
              0,
              "#0d0887"
             ],
             [
              0.1111111111111111,
              "#46039f"
             ],
             [
              0.2222222222222222,
              "#7201a8"
             ],
             [
              0.3333333333333333,
              "#9c179e"
             ],
             [
              0.4444444444444444,
              "#bd3786"
             ],
             [
              0.5555555555555556,
              "#d8576b"
             ],
             [
              0.6666666666666666,
              "#ed7953"
             ],
             [
              0.7777777777777778,
              "#fb9f3a"
             ],
             [
              0.8888888888888888,
              "#fdca26"
             ],
             [
              1,
              "#f0f921"
             ]
            ],
            "type": "histogram2dcontour"
           }
          ],
          "mesh3d": [
           {
            "colorbar": {
             "outlinewidth": 0,
             "ticks": ""
            },
            "type": "mesh3d"
           }
          ],
          "parcoords": [
           {
            "line": {
             "colorbar": {
              "outlinewidth": 0,
              "ticks": ""
             }
            },
            "type": "parcoords"
           }
          ],
          "pie": [
           {
            "automargin": true,
            "type": "pie"
           }
          ],
          "scatter": [
           {
            "fillpattern": {
             "fillmode": "overlay",
             "size": 10,
             "solidity": 0.2
            },
            "type": "scatter"
           }
          ],
          "scatter3d": [
           {
            "line": {
             "colorbar": {
              "outlinewidth": 0,
              "ticks": ""
             }
            },
            "marker": {
             "colorbar": {
              "outlinewidth": 0,
              "ticks": ""
             }
            },
            "type": "scatter3d"
           }
          ],
          "scattercarpet": [
           {
            "marker": {
             "colorbar": {
              "outlinewidth": 0,
              "ticks": ""
             }
            },
            "type": "scattercarpet"
           }
          ],
          "scattergeo": [
           {
            "marker": {
             "colorbar": {
              "outlinewidth": 0,
              "ticks": ""
             }
            },
            "type": "scattergeo"
           }
          ],
          "scattergl": [
           {
            "marker": {
             "colorbar": {
              "outlinewidth": 0,
              "ticks": ""
             }
            },
            "type": "scattergl"
           }
          ],
          "scattermapbox": [
           {
            "marker": {
             "colorbar": {
              "outlinewidth": 0,
              "ticks": ""
             }
            },
            "type": "scattermapbox"
           }
          ],
          "scatterpolar": [
           {
            "marker": {
             "colorbar": {
              "outlinewidth": 0,
              "ticks": ""
             }
            },
            "type": "scatterpolar"
           }
          ],
          "scatterpolargl": [
           {
            "marker": {
             "colorbar": {
              "outlinewidth": 0,
              "ticks": ""
             }
            },
            "type": "scatterpolargl"
           }
          ],
          "scatterternary": [
           {
            "marker": {
             "colorbar": {
              "outlinewidth": 0,
              "ticks": ""
             }
            },
            "type": "scatterternary"
           }
          ],
          "surface": [
           {
            "colorbar": {
             "outlinewidth": 0,
             "ticks": ""
            },
            "colorscale": [
             [
              0,
              "#0d0887"
             ],
             [
              0.1111111111111111,
              "#46039f"
             ],
             [
              0.2222222222222222,
              "#7201a8"
             ],
             [
              0.3333333333333333,
              "#9c179e"
             ],
             [
              0.4444444444444444,
              "#bd3786"
             ],
             [
              0.5555555555555556,
              "#d8576b"
             ],
             [
              0.6666666666666666,
              "#ed7953"
             ],
             [
              0.7777777777777778,
              "#fb9f3a"
             ],
             [
              0.8888888888888888,
              "#fdca26"
             ],
             [
              1,
              "#f0f921"
             ]
            ],
            "type": "surface"
           }
          ],
          "table": [
           {
            "cells": {
             "fill": {
              "color": "#EBF0F8"
             },
             "line": {
              "color": "white"
             }
            },
            "header": {
             "fill": {
              "color": "#C8D4E3"
             },
             "line": {
              "color": "white"
             }
            },
            "type": "table"
           }
          ]
         },
         "layout": {
          "annotationdefaults": {
           "arrowcolor": "#2a3f5f",
           "arrowhead": 0,
           "arrowwidth": 1
          },
          "autotypenumbers": "strict",
          "coloraxis": {
           "colorbar": {
            "outlinewidth": 0,
            "ticks": ""
           }
          },
          "colorscale": {
           "diverging": [
            [
             0,
             "#8e0152"
            ],
            [
             0.1,
             "#c51b7d"
            ],
            [
             0.2,
             "#de77ae"
            ],
            [
             0.3,
             "#f1b6da"
            ],
            [
             0.4,
             "#fde0ef"
            ],
            [
             0.5,
             "#f7f7f7"
            ],
            [
             0.6,
             "#e6f5d0"
            ],
            [
             0.7,
             "#b8e186"
            ],
            [
             0.8,
             "#7fbc41"
            ],
            [
             0.9,
             "#4d9221"
            ],
            [
             1,
             "#276419"
            ]
           ],
           "sequential": [
            [
             0,
             "#0d0887"
            ],
            [
             0.1111111111111111,
             "#46039f"
            ],
            [
             0.2222222222222222,
             "#7201a8"
            ],
            [
             0.3333333333333333,
             "#9c179e"
            ],
            [
             0.4444444444444444,
             "#bd3786"
            ],
            [
             0.5555555555555556,
             "#d8576b"
            ],
            [
             0.6666666666666666,
             "#ed7953"
            ],
            [
             0.7777777777777778,
             "#fb9f3a"
            ],
            [
             0.8888888888888888,
             "#fdca26"
            ],
            [
             1,
             "#f0f921"
            ]
           ],
           "sequentialminus": [
            [
             0,
             "#0d0887"
            ],
            [
             0.1111111111111111,
             "#46039f"
            ],
            [
             0.2222222222222222,
             "#7201a8"
            ],
            [
             0.3333333333333333,
             "#9c179e"
            ],
            [
             0.4444444444444444,
             "#bd3786"
            ],
            [
             0.5555555555555556,
             "#d8576b"
            ],
            [
             0.6666666666666666,
             "#ed7953"
            ],
            [
             0.7777777777777778,
             "#fb9f3a"
            ],
            [
             0.8888888888888888,
             "#fdca26"
            ],
            [
             1,
             "#f0f921"
            ]
           ]
          },
          "colorway": [
           "#636efa",
           "#EF553B",
           "#00cc96",
           "#ab63fa",
           "#FFA15A",
           "#19d3f3",
           "#FF6692",
           "#B6E880",
           "#FF97FF",
           "#FECB52"
          ],
          "font": {
           "color": "#2a3f5f"
          },
          "geo": {
           "bgcolor": "white",
           "lakecolor": "white",
           "landcolor": "#E5ECF6",
           "showlakes": true,
           "showland": true,
           "subunitcolor": "white"
          },
          "hoverlabel": {
           "align": "left"
          },
          "hovermode": "closest",
          "mapbox": {
           "style": "light"
          },
          "paper_bgcolor": "white",
          "plot_bgcolor": "#E5ECF6",
          "polar": {
           "angularaxis": {
            "gridcolor": "white",
            "linecolor": "white",
            "ticks": ""
           },
           "bgcolor": "#E5ECF6",
           "radialaxis": {
            "gridcolor": "white",
            "linecolor": "white",
            "ticks": ""
           }
          },
          "scene": {
           "xaxis": {
            "backgroundcolor": "#E5ECF6",
            "gridcolor": "white",
            "gridwidth": 2,
            "linecolor": "white",
            "showbackground": true,
            "ticks": "",
            "zerolinecolor": "white"
           },
           "yaxis": {
            "backgroundcolor": "#E5ECF6",
            "gridcolor": "white",
            "gridwidth": 2,
            "linecolor": "white",
            "showbackground": true,
            "ticks": "",
            "zerolinecolor": "white"
           },
           "zaxis": {
            "backgroundcolor": "#E5ECF6",
            "gridcolor": "white",
            "gridwidth": 2,
            "linecolor": "white",
            "showbackground": true,
            "ticks": "",
            "zerolinecolor": "white"
           }
          },
          "shapedefaults": {
           "line": {
            "color": "#2a3f5f"
           }
          },
          "ternary": {
           "aaxis": {
            "gridcolor": "white",
            "linecolor": "white",
            "ticks": ""
           },
           "baxis": {
            "gridcolor": "white",
            "linecolor": "white",
            "ticks": ""
           },
           "bgcolor": "#E5ECF6",
           "caxis": {
            "gridcolor": "white",
            "linecolor": "white",
            "ticks": ""
           }
          },
          "title": {
           "x": 0.05
          },
          "xaxis": {
           "automargin": true,
           "gridcolor": "white",
           "linecolor": "white",
           "ticks": "",
           "title": {
            "standoff": 15
           },
           "zerolinecolor": "white",
           "zerolinewidth": 2
          },
          "yaxis": {
           "automargin": true,
           "gridcolor": "white",
           "linecolor": "white",
           "ticks": "",
           "title": {
            "standoff": 15
           },
           "zerolinecolor": "white",
           "zerolinewidth": 2
          }
         }
        },
        "title": {
         "text": "월별 사망자 수"
        },
        "xaxis": {
         "anchor": "y",
         "domain": [
          0,
          1
         ],
         "title": {
          "text": "date"
         }
        },
        "yaxis": {
         "anchor": "x",
         "domain": [
          0,
          1
         ],
         "title": {
          "text": "value"
         }
        }
       }
      }
     },
     "metadata": {},
     "output_type": "display_data"
    }
   ],
   "source": [
    "fig = px.scatter(df_1.reset_index(), x=\"date\", y=[\"dth_dnv_cnt\", \"injpsn_cnt\"], title=\"월별 사망자 수\")\n",
    "fig.show()"
   ]
  },
  {
   "cell_type": "code",
   "execution_count": null,
   "metadata": {},
   "outputs": [],
   "source": []
  }
 ],
 "metadata": {
  "kernelspec": {
   "display_name": "ohio",
   "language": "python",
   "name": "python3"
  },
  "language_info": {
   "codemirror_mode": {
    "name": "ipython",
    "version": 3
   },
   "file_extension": ".py",
   "mimetype": "text/x-python",
   "name": "python",
   "nbconvert_exporter": "python",
   "pygments_lexer": "ipython3",
   "version": "3.12.7"
  }
 },
 "nbformat": 4,
 "nbformat_minor": 2
}
