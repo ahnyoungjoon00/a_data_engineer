{
 "cells": [
  {
   "cell_type": "code",
   "execution_count": 33,
   "metadata": {},
   "outputs": [],
   "source": [
    "ARRAY_LENGTH = 5  # 배열의 행과 열 크기(고정)\n",
    "\n",
    "def  loadData() : # 데이터 불러오기\n",
    "    global numData\n",
    "\n",
    "    ###########\n",
    "    # 제공 데이터 세트 1 \n",
    "    # 5x5 숫자 배열. \n",
    "    ###########\n",
    "    numData = \\\n",
    "    [\n",
    "        [ 5, 7, -5, 100, 73 ],\n",
    "        [ 35, 23, 4, 190, 33 ],\n",
    "        [ 49, 85, 662, 39, 81 ],\n",
    "        [ 124, -59, 86, 46, 52 ],\n",
    "        [ 27, 7, 8, 33, -56 ] \n",
    "    ]\n",
    "loadData()"
   ]
  },
  {
   "cell_type": "code",
   "execution_count": 34,
   "metadata": {},
   "outputs": [],
   "source": [
    "def printData() :\n",
    "        for i in range(0, ARRAY_LENGTH) :\n",
    "                for k in range(0, ARRAY_LENGTH) :\n",
    "                        try :\n",
    "                                print(\"%5d\" % numData[i][k], end='')\n",
    "                        except :\n",
    "                                pass\n",
    "                print()\n",
    "        print('--------------------------------------')"
   ]
  },
  {
   "cell_type": "code",
   "execution_count": 35,
   "metadata": {},
   "outputs": [
    {
     "name": "stdout",
     "output_type": "stream",
     "text": [
      "    5    7   -5  100   73\n",
      "   35   23    4  190   33\n",
      "   49   85  662   39   81\n",
      "  124  -59   86   46   52\n",
      "   27    7    8   33  -56\n",
      "--------------------------------------\n"
     ]
    }
   ],
   "source": [
    "lst = loadData()\n",
    "printData()"
   ]
  },
  {
   "cell_type": "code",
   "execution_count": 36,
   "metadata": {},
   "outputs": [
    {
     "ename": "TypeError",
     "evalue": "'NoneType' object is not subscriptable",
     "output_type": "error",
     "traceback": [
      "\u001b[1;31m---------------------------------------------------------------------------\u001b[0m",
      "\u001b[1;31mTypeError\u001b[0m                                 Traceback (most recent call last)",
      "Cell \u001b[1;32mIn[36], line 3\u001b[0m\n\u001b[0;32m      1\u001b[0m \u001b[38;5;28;01mfor\u001b[39;00m i \u001b[38;5;129;01min\u001b[39;00m \u001b[38;5;28mrange\u001b[39m(\u001b[38;5;241m5\u001b[39m):\n\u001b[0;32m      2\u001b[0m     \u001b[38;5;28;01mfor\u001b[39;00m j \u001b[38;5;129;01min\u001b[39;00m \u001b[38;5;28mrange\u001b[39m(\u001b[38;5;241m5\u001b[39m) :\n\u001b[1;32m----> 3\u001b[0m         \u001b[38;5;28;01mif\u001b[39;00m (\u001b[43mlst\u001b[49m\u001b[43m[\u001b[49m\u001b[43mi\u001b[49m\u001b[43m]\u001b[49m[j] \u001b[38;5;241m<\u001b[39m \u001b[38;5;241m0\u001b[39m):\n\u001b[0;32m      4\u001b[0m             lst[i][j] \u001b[38;5;241m=\u001b[39m \u001b[38;5;241m0\u001b[39m\n\u001b[0;32m      5\u001b[0m         \u001b[38;5;28;01melif\u001b[39;00m (lst[i][j]\u001b[38;5;241m>\u001b[39m\u001b[38;5;241m100\u001b[39m) :\n",
      "\u001b[1;31mTypeError\u001b[0m: 'NoneType' object is not subscriptable"
     ]
    }
   ],
   "source": [
    "for i in range(5):\n",
    "    for j in range(5) :\n",
    "        if (lst[i][j] < 0):\n",
    "            lst[i][j] = 0\n",
    "        elif (lst[i][j]>100) :\n",
    "            lst[i][j] = lst[i][j] % 100\n",
    "printData()"
   ]
  },
  {
   "cell_type": "code",
   "execution_count": 30,
   "metadata": {},
   "outputs": [
    {
     "name": "stdout",
     "output_type": "stream",
     "text": [
      "최대 합: 296\n"
     ]
    }
   ],
   "source": [
    "pre_sum = 0\n",
    "for i in range(4):\n",
    "    for j in range(4) :\n",
    "        current_sum = lst[i][j] + lst[i][j+1] + lst[i+1][j] + lst[i+1][j+1]\n",
    "        if current_sum > pre_sum :\n",
    "            pre_sum = current_sum\n",
    "print(f\"최대 합: {pre_sum}\")"
   ]
  },
  {
   "cell_type": "code",
   "execution_count": 31,
   "metadata": {},
   "outputs": [
    {
     "name": "stdout",
     "output_type": "stream",
     "text": [
      "[5, 7, 0, 100, 73]\n",
      "[35, 23, 4, 90, 33]\n",
      "[49, 85, 62, 39, 81]\n",
      "[24, 0, 86, 46, 52]\n",
      "[27, 7, 8, 33, 0]\n"
     ]
    }
   ],
   "source": [
    "for i in lst:\n",
    "    print(i)"
   ]
  },
  {
   "cell_type": "code",
   "execution_count": 32,
   "metadata": {},
   "outputs": [
    {
     "data": {
      "text/plain": [
       "5"
      ]
     },
     "execution_count": 32,
     "metadata": {},
     "output_type": "execute_result"
    }
   ],
   "source": [
    "len(lst)"
   ]
  },
  {
   "cell_type": "code",
   "execution_count": null,
   "metadata": {},
   "outputs": [],
   "source": []
  }
 ],
 "metadata": {
  "kernelspec": {
   "display_name": "ohio",
   "language": "python",
   "name": "python3"
  },
  "language_info": {
   "codemirror_mode": {
    "name": "ipython",
    "version": 3
   },
   "file_extension": ".py",
   "mimetype": "text/x-python",
   "name": "python",
   "nbconvert_exporter": "python",
   "pygments_lexer": "ipython3",
   "version": "3.13.1"
  }
 },
 "nbformat": 4,
 "nbformat_minor": 2
}
