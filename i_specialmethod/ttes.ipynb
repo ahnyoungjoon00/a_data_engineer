
data_url='https://raw.githubusercontent.com/Datamanim/pandas/main/seoul_pm.csv'