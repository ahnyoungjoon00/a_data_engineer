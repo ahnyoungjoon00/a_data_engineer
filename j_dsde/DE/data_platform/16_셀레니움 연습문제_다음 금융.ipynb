{
 "cells": [
  {
   "cell_type": "markdown",
   "id": "e79244eb-a53a-47a9-b9d2-f9f1e74ab3bf",
   "metadata": {},
   "source": [
    "### 셀레니움 연습문제"
   ]
  },
  {
   "cell_type": "markdown",
   "id": "9101442a-6353-49e7-a256-1be7e2d56a17",
   "metadata": {},
   "source": [
    "#### 다음 금융 페이지에서 상승률 상위 / 외국인 순매수 기업 추출  \n",
    "url='http://finance.daum.net/'"
   ]
  },
  {
   "cell_type": "code",
   "execution_count": 62,
   "id": "c5168224",
   "metadata": {},
   "outputs": [],
   "source": [
    "# 한 셀에서 여러 개의 결과값 출력\n",
    "from IPython.core.interactiveshell import InteractiveShell\n",
    "InteractiveShell.ast_node_interactivity=\"all\""
   ]
  },
  {
   "cell_type": "code",
   "execution_count": 63,
   "id": "a75c3607",
   "metadata": {},
   "outputs": [],
   "source": [
    "import time\n",
    "import pandas as pd\n",
    "import numpy as np\n",
    "from bs4 import BeautifulSoup\n",
    "\n",
    "import selenium\n",
    "from selenium import webdriver\n",
    "from selenium.webdriver.common.keys import Keys # 콘트롤되는 브라우저에 직접 키보드 키 신호를 프로그램적으로 전달하기 위해 사용\n",
    "from selenium.webdriver.common.by import By # 셀레니움 4.0부터 포함된 함수(필수)\n",
    "from selenium.webdriver.chrome.service import Service"
   ]
  },
  {
   "cell_type": "code",
   "execution_count": 64,
   "id": "c8e5e937-cdcf-4aeb-b8db-75696b0315d4",
   "metadata": {},
   "outputs": [],
   "source": [
    "service = Service()\n",
    "options = webdriver.ChromeOptions()\n",
    "browser = webdriver.Chrome(service=service, options=options)"
   ]
  },
  {
   "cell_type": "code",
   "execution_count": 65,
   "id": "2c4b0f93-0645-4d22-a6a8-69a5e6298a9b",
   "metadata": {},
   "outputs": [],
   "source": [
    "browser.get('https://finance.daum.net')\n",
    "browser.implicitly_wait(10)\n",
    "browser.maximize_window()"
   ]
  },
  {
   "cell_type": "markdown",
   "id": "7a430507-b64b-42b6-bf99-daa96e815063",
   "metadata": {},
   "source": [
    "#### 상승률 상위 기업"
   ]
  },
  {
   "cell_type": "code",
   "execution_count": 66,
   "id": "f32d246d-da06-47a9-b0f1-1e5e522624da",
   "metadata": {},
   "outputs": [
    {
     "data": {
      "text/plain": [
       "[<selenium.webdriver.remote.webelement.WebElement (session=\"af907b7fe62e48696c149bf4d5deb6d6\", element=\"f.E8024BA86CE69DAC6672F9BE9615AEFC.d.C1F801365031322FD88D9C3BC628F3C5.e.59\")>,\n",
       " <selenium.webdriver.remote.webelement.WebElement (session=\"af907b7fe62e48696c149bf4d5deb6d6\", element=\"f.E8024BA86CE69DAC6672F9BE9615AEFC.d.C1F801365031322FD88D9C3BC628F3C5.e.60\")>,\n",
       " <selenium.webdriver.remote.webelement.WebElement (session=\"af907b7fe62e48696c149bf4d5deb6d6\", element=\"f.E8024BA86CE69DAC6672F9BE9615AEFC.d.C1F801365031322FD88D9C3BC628F3C5.e.61\")>,\n",
       " <selenium.webdriver.remote.webelement.WebElement (session=\"af907b7fe62e48696c149bf4d5deb6d6\", element=\"f.E8024BA86CE69DAC6672F9BE9615AEFC.d.C1F801365031322FD88D9C3BC628F3C5.e.62\")>,\n",
       " <selenium.webdriver.remote.webelement.WebElement (session=\"af907b7fe62e48696c149bf4d5deb6d6\", element=\"f.E8024BA86CE69DAC6672F9BE9615AEFC.d.C1F801365031322FD88D9C3BC628F3C5.e.63\")>]"
      ]
     },
     "execution_count": 66,
     "metadata": {},
     "output_type": "execute_result"
    }
   ],
   "source": [
    "browser.find_element(By.CSS_SELECTOR, \"#boxMarketTrend > div.tab > ul > li:nth-child(1) > a\").click()\n",
    "items = browser.find_element(By.CSS_SELECTOR, \".list.boxKospi\")\n",
    "lis = items.find_elements(By.TAG_NAME, \"li\")\n",
    "lis"
   ]
  },
  {
   "cell_type": "code",
   "execution_count": 67,
   "id": "4806311f",
   "metadata": {},
   "outputs": [
    {
     "name": "stdout",
     "output_type": "stream",
     "text": [
      "1 대구백화점 : 6,490\n",
      "2 에스디바이오센서 : 12,440\n",
      "3 삼화전기 : 36,600\n",
      "4 진원생명과학 : 2,490\n"
     ]
    }
   ],
   "source": [
    "top_em_list = [_.text for _ in browser.find_elements(By.CSS_SELECTOR, \".list.boxKospi em\")]\n",
    "top_coper_list = [_.text for _ in browser.find_elements(By.CSS_SELECTOR, \".list.boxKospi a\")]\n",
    "top_price_list = [_.text for _ in browser.find_elements(By.CSS_SELECTOR, \".list.boxKospi p:nth-child(3)\")]\n",
    "for i in range(1, len(top_em_list)):\n",
    "    print(f\"{top_em_list[i-1]} {top_coper_list[i-1]} : {top_price_list[i-1]}\")"
   ]
  },
  {
   "cell_type": "code",
   "execution_count": 68,
   "id": "0117ee39",
   "metadata": {},
   "outputs": [
    {
     "data": {
      "text/plain": [
       "'<em class=\"ty01\">1</em>\\n<a href=\"/quotes/A006370\" class=\"txt\">대구백화점</a>\\n<p data-realtime-trade-price=\"yes\">6,490</p>\\n<span class=\"num up\" data-realtime-change-price=\"yes\"><i>▲</i>860</span>\\n<span class=\"up\" data-realtime-change-ratio=\"yes\">+15.28%</span>\\n<p class=\"num\" data-realtime-acc-trade-volume=\"yes\">99,657</p>\\n'"
      ]
     },
     "execution_count": 68,
     "metadata": {},
     "output_type": "execute_result"
    },
    {
     "data": {
      "text/html": [
       "<div>\n",
       "<style scoped>\n",
       "    .dataframe tbody tr th:only-of-type {\n",
       "        vertical-align: middle;\n",
       "    }\n",
       "\n",
       "    .dataframe tbody tr th {\n",
       "        vertical-align: top;\n",
       "    }\n",
       "\n",
       "    .dataframe thead th {\n",
       "        text-align: right;\n",
       "    }\n",
       "</style>\n",
       "<table border=\"1\" class=\"dataframe\">\n",
       "  <thead>\n",
       "    <tr style=\"text-align: right;\">\n",
       "      <th></th>\n",
       "      <th>name</th>\n",
       "      <th>price</th>\n",
       "      <th>change</th>\n",
       "      <th>percent</th>\n",
       "      <th>quantity</th>\n",
       "    </tr>\n",
       "  </thead>\n",
       "  <tbody>\n",
       "    <tr>\n",
       "      <th>0</th>\n",
       "      <td>대구백화점</td>\n",
       "      <td>6,490</td>\n",
       "      <td>▲860</td>\n",
       "      <td>+15.28%</td>\n",
       "      <td>99,657</td>\n",
       "    </tr>\n",
       "    <tr>\n",
       "      <th>1</th>\n",
       "      <td>에스디바이오센서</td>\n",
       "      <td>12,440</td>\n",
       "      <td>▲1,610</td>\n",
       "      <td>+14.87%</td>\n",
       "      <td>1,680,033</td>\n",
       "    </tr>\n",
       "    <tr>\n",
       "      <th>2</th>\n",
       "      <td>삼화전기</td>\n",
       "      <td>36,600</td>\n",
       "      <td>▲4,700</td>\n",
       "      <td>+14.73%</td>\n",
       "      <td>345,133</td>\n",
       "    </tr>\n",
       "    <tr>\n",
       "      <th>3</th>\n",
       "      <td>진원생명과학</td>\n",
       "      <td>2,490</td>\n",
       "      <td>▲290</td>\n",
       "      <td>+13.18%</td>\n",
       "      <td>2,859,134</td>\n",
       "    </tr>\n",
       "    <tr>\n",
       "      <th>4</th>\n",
       "      <td>HD현대에너지솔루션</td>\n",
       "      <td>24,600</td>\n",
       "      <td>▲2,850</td>\n",
       "      <td>+13.10%</td>\n",
       "      <td>543,443</td>\n",
       "    </tr>\n",
       "  </tbody>\n",
       "</table>\n",
       "</div>"
      ],
      "text/plain": [
       "         name   price  change  percent   quantity\n",
       "0       대구백화점   6,490    ▲860  +15.28%     99,657\n",
       "1    에스디바이오센서  12,440  ▲1,610  +14.87%  1,680,033\n",
       "2        삼화전기  36,600  ▲4,700  +14.73%    345,133\n",
       "3      진원생명과학   2,490    ▲290  +13.18%  2,859,134\n",
       "4  HD현대에너지솔루션  24,600  ▲2,850  +13.10%    543,443"
      ]
     },
     "execution_count": 68,
     "metadata": {},
     "output_type": "execute_result"
    }
   ],
   "source": [
    "lis[0].get_attribute(\"innerHTML\")\n",
    "n, p, c, per, q = [[] for _ in range(5)]\n",
    "for item in lis:\n",
    "    n.append(item.text.split(\"\\n\")[1])\n",
    "    p.append(item.text.split(\"\\n\")[2])\n",
    "    c.append(item.text.split(\"\\n\")[3])\n",
    "    per.append(item.text.split(\"\\n\")[4])\n",
    "    q.append(item.text.split(\"\\n\")[5])\n",
    "\n",
    "pd.DataFrame({\"name\":n, \"price\":p, \"change\":c, \"percent\":per, \"quantity\":q})\n",
    "# lis[0].find_element(By.TAG_NAME, \"p\").text"
   ]
  },
  {
   "cell_type": "code",
   "execution_count": 75,
   "id": "90c5a06c",
   "metadata": {},
   "outputs": [
    {
     "data": {
      "text/plain": [
       "'외국인 순매수'"
      ]
     },
     "execution_count": 75,
     "metadata": {},
     "output_type": "execute_result"
    }
   ],
   "source": [
    "# browser.find_element(By.CSS_SELECTOR, \"#boxMarketTrend > div.tab > ul > li:nth-child(3) > a\").text\n",
    "browser.find_elements(By.CSS_SELECTOR, \".box_tabs\")[1].find_elements(By.TAG_NAME, \"li\")[2].text\n",
    "# browser.find_element(By.CSS_SELECTOR, \"#boxMarketTrend > div.tab > ul > li:nth-child(3) > a\").click()\n",
    "browser.find_elements(By.CSS_SELECTOR, \".box_tabs\")[1].find_elements(By.TAG_NAME, \"li\")[2].click()\n",
    "time.sleep(2)"
   ]
  },
  {
   "cell_type": "code",
   "execution_count": 84,
   "id": "d936c7fd",
   "metadata": {},
   "outputs": [
    {
     "name": "stdout",
     "output_type": "stream",
     "text": [
      "1 SK하이닉스 : 159,208\n",
      "2 삼성전자 : 35,366\n",
      "3 삼성SDI : 27,514\n",
      "4 NAVER : 20,594\n",
      "5 POSCO홀딩스 : 20,514\n"
     ]
    }
   ],
   "source": [
    "top_em_list = [_.text for _ in browser.find_elements(By.CSS_SELECTOR, \".list.boxKospi em\")]\n",
    "top_coper_list = [_.text for _ in browser.find_elements(By.CSS_SELECTOR, \".list.boxKospi a\")]\n",
    "top_price_list = [_.text for _ in browser.find_elements(By.CSS_SELECTOR, \".list.boxKospi p:nth-child(3)\")]\n",
    "for i in range(6, len(top_em_list)+1):\n",
    "    print(f\"{top_em_list[i-1]} {top_coper_list[i-1]} : {top_price_list[i-1]}\")"
   ]
  },
  {
   "cell_type": "code",
   "execution_count": 90,
   "id": "909c767c",
   "metadata": {},
   "outputs": [
    {
     "data": {
      "text/plain": [
       "[<selenium.webdriver.remote.webelement.WebElement (session=\"af907b7fe62e48696c149bf4d5deb6d6\", element=\"f.E8024BA86CE69DAC6672F9BE9615AEFC.d.C1F801365031322FD88D9C3BC628F3C5.e.59\")>,\n",
       " <selenium.webdriver.remote.webelement.WebElement (session=\"af907b7fe62e48696c149bf4d5deb6d6\", element=\"f.E8024BA86CE69DAC6672F9BE9615AEFC.d.C1F801365031322FD88D9C3BC628F3C5.e.60\")>,\n",
       " <selenium.webdriver.remote.webelement.WebElement (session=\"af907b7fe62e48696c149bf4d5deb6d6\", element=\"f.E8024BA86CE69DAC6672F9BE9615AEFC.d.C1F801365031322FD88D9C3BC628F3C5.e.61\")>,\n",
       " <selenium.webdriver.remote.webelement.WebElement (session=\"af907b7fe62e48696c149bf4d5deb6d6\", element=\"f.E8024BA86CE69DAC6672F9BE9615AEFC.d.C1F801365031322FD88D9C3BC628F3C5.e.62\")>,\n",
       " <selenium.webdriver.remote.webelement.WebElement (session=\"af907b7fe62e48696c149bf4d5deb6d6\", element=\"f.E8024BA86CE69DAC6672F9BE9615AEFC.d.C1F801365031322FD88D9C3BC628F3C5.e.63\")>]"
      ]
     },
     "execution_count": 90,
     "metadata": {},
     "output_type": "execute_result"
    },
    {
     "name": "stdout",
     "output_type": "stream",
     "text": [
      "\n",
      "\n",
      "\n",
      "\n",
      "\n",
      "[]\n"
     ]
    }
   ],
   "source": [
    "items = browser.find_element(By.CSS_SELECTOR, \".list.boxKospi\")\n",
    "lis = items.find_elements(By.TAG_NAME, \"li\")\n",
    "lis\n",
    "for li in lis:\n",
    "    print(li.text)\n",
    "\n",
    "print(lis[5:])"
   ]
  },
  {
   "cell_type": "code",
   "execution_count": 87,
   "id": "7a817b42",
   "metadata": {},
   "outputs": [
    {
     "data": {
      "text/plain": [
       "'<em class=\"ty01\">1</em>\\n<a href=\"/quotes/A006370\" class=\"txt\">대구백화점</a>\\n<p data-realtime-trade-price=\"yes\">6,490</p>\\n<span class=\"num up\" data-realtime-change-price=\"yes\"><i>▲</i>860</span>\\n<span class=\"up\" data-realtime-change-ratio=\"yes\">+15.28%</span>\\n<p class=\"num\" data-realtime-acc-trade-volume=\"yes\">97,958</p>\\n'"
      ]
     },
     "execution_count": 87,
     "metadata": {},
     "output_type": "execute_result"
    }
   ],
   "source": [
    "lis[0].get_attribute(\"innerHTML\")"
   ]
  },
  {
   "cell_type": "code",
   "execution_count": null,
   "id": "a0f4208a",
   "metadata": {},
   "outputs": [],
   "source": [
    "<a href=\"javascript:void(0)\" class=\"\" title=\"외국인 순매수\">외국인 순매수</a>\n",
    "#boxMarketTrend > div.tab > ul > li:nth-child(3) > a"
   ]
  },
  {
   "cell_type": "code",
   "execution_count": 84,
   "id": "a29675f1",
   "metadata": {},
   "outputs": [
    {
     "ename": "IndexError",
     "evalue": "list index out of range",
     "output_type": "error",
     "traceback": [
      "\u001b[1;31m---------------------------------------------------------------------------\u001b[0m",
      "\u001b[1;31mIndexError\u001b[0m                                Traceback (most recent call last)",
      "Cell \u001b[1;32mIn[84], line 4\u001b[0m\n\u001b[0;32m      2\u001b[0m n, p, c, per, q \u001b[38;5;241m=\u001b[39m [[] \u001b[38;5;28;01mfor\u001b[39;00m _ \u001b[38;5;129;01min\u001b[39;00m \u001b[38;5;28mrange\u001b[39m(\u001b[38;5;241m5\u001b[39m)]\n\u001b[0;32m      3\u001b[0m \u001b[38;5;28;01mfor\u001b[39;00m item \u001b[38;5;129;01min\u001b[39;00m lis:\n\u001b[1;32m----> 4\u001b[0m     n\u001b[38;5;241m.\u001b[39mappend(\u001b[43mitem\u001b[49m\u001b[38;5;241;43m.\u001b[39;49m\u001b[43mtext\u001b[49m\u001b[38;5;241;43m.\u001b[39;49m\u001b[43msplit\u001b[49m\u001b[43m(\u001b[49m\u001b[38;5;124;43m\"\u001b[39;49m\u001b[38;5;130;43;01m\\n\u001b[39;49;00m\u001b[38;5;124;43m\"\u001b[39;49m\u001b[43m)\u001b[49m\u001b[43m[\u001b[49m\u001b[38;5;241;43m1\u001b[39;49m\u001b[43m]\u001b[49m)\n\u001b[0;32m      5\u001b[0m     p\u001b[38;5;241m.\u001b[39mappend(item\u001b[38;5;241m.\u001b[39mtext\u001b[38;5;241m.\u001b[39msplit(\u001b[38;5;124m\"\u001b[39m\u001b[38;5;130;01m\\n\u001b[39;00m\u001b[38;5;124m\"\u001b[39m)[\u001b[38;5;241m2\u001b[39m])\n\u001b[0;32m      6\u001b[0m     c\u001b[38;5;241m.\u001b[39mappend(item\u001b[38;5;241m.\u001b[39mtext\u001b[38;5;241m.\u001b[39msplit(\u001b[38;5;124m\"\u001b[39m\u001b[38;5;130;01m\\n\u001b[39;00m\u001b[38;5;124m\"\u001b[39m)[\u001b[38;5;241m3\u001b[39m])\n",
      "\u001b[1;31mIndexError\u001b[0m: list index out of range"
     ]
    }
   ],
   "source": [
    "lis[0].get_attribute(\"innerHTML\")\n",
    "n, p, c, per, q = [[] for _ in range(5)]\n",
    "for item in lis:\n",
    "    n.append(item.text.split(\"\\n\")[1])\n",
    "    p.append(item.text.split(\"\\n\")[2])\n",
    "    c.append(item.text.split(\"\\n\")[3])\n",
    "    per.append(item.text.split(\"\\n\")[4])\n",
    "    q.append(item.text.split(\"\\n\")[5])\n",
    "\n",
    "pd.DataFrame({\"name\":n, \"price\":p, \"change\":c, \"percent\":per, \"quantity\":q})\n",
    "# lis[0].find_element(By.TAG_NAME, \"p\").text"
   ]
  },
  {
   "cell_type": "code",
   "execution_count": 61,
   "id": "e04e0df7",
   "metadata": {},
   "outputs": [
    {
     "ename": "WebDriverException",
     "evalue": "Message: disconnected: not connected to DevTools\n  (failed to check if window was closed: disconnected: not connected to DevTools)\n  (Session info: chrome=131.0.6778.205)\nStacktrace:\n\tGetHandleVerifier [0x00007FF66921FB05+28789]\n\t(No symbol) [0x00007FF6691886E0]\n\t(No symbol) [0x00007FF66902592A]\n\t(No symbol) [0x00007FF669010866]\n\t(No symbol) [0x00007FF669011D1F]\n\t(No symbol) [0x00007FF669025F73]\n\t(No symbol) [0x00007FF668FFEFDD]\n\t(No symbol) [0x00007FF6690AD8B9]\n\t(No symbol) [0x00007FF66909F400]\n\t(No symbol) [0x00007FF66906A938]\n\t(No symbol) [0x00007FF66906BAA1]\n\tGetHandleVerifier [0x00007FF66955933D+3410093]\n\tGetHandleVerifier [0x00007FF66956E7DD+3497293]\n\tGetHandleVerifier [0x00007FF669562A73+3448803]\n\tGetHandleVerifier [0x00007FF6692E7BBB+848171]\n\t(No symbol) [0x00007FF669193C3F]\n\t(No symbol) [0x00007FF66918F6E4]\n\t(No symbol) [0x00007FF66918F87D]\n\t(No symbol) [0x00007FF66917ED49]\n\tBaseThreadInitThunk [0x00007FFCD1C9E8D7+23]\n\tRtlUserThreadStart [0x00007FFCD2E9FBCC+44]\n",
     "output_type": "error",
     "traceback": [
      "\u001b[1;31m---------------------------------------------------------------------------\u001b[0m",
      "\u001b[1;31mWebDriverException\u001b[0m                        Traceback (most recent call last)",
      "Cell \u001b[1;32mIn[61], line 1\u001b[0m\n\u001b[1;32m----> 1\u001b[0m \u001b[43mbrowser\u001b[49m\u001b[38;5;241;43m.\u001b[39;49m\u001b[43mclose\u001b[49m\u001b[43m(\u001b[49m\u001b[43m)\u001b[49m\n",
      "File \u001b[1;32mc:\\Users\\82108\\anaconda3\\envs\\scrap_source\\Lib\\site-packages\\selenium\\webdriver\\remote\\webdriver.py:495\u001b[0m, in \u001b[0;36mWebDriver.close\u001b[1;34m(self)\u001b[0m\n\u001b[0;32m    487\u001b[0m \u001b[38;5;28;01mdef\u001b[39;00m \u001b[38;5;21mclose\u001b[39m(\u001b[38;5;28mself\u001b[39m) \u001b[38;5;241m-\u001b[39m\u001b[38;5;241m>\u001b[39m \u001b[38;5;28;01mNone\u001b[39;00m:\n\u001b[0;32m    488\u001b[0m \u001b[38;5;250m    \u001b[39m\u001b[38;5;124;03m\"\"\"Closes the current window.\u001b[39;00m\n\u001b[0;32m    489\u001b[0m \n\u001b[0;32m    490\u001b[0m \u001b[38;5;124;03m    :Usage:\u001b[39;00m\n\u001b[1;32m   (...)\u001b[0m\n\u001b[0;32m    493\u001b[0m \u001b[38;5;124;03m            driver.close()\u001b[39;00m\n\u001b[0;32m    494\u001b[0m \u001b[38;5;124;03m    \"\"\"\u001b[39;00m\n\u001b[1;32m--> 495\u001b[0m     \u001b[38;5;28;43mself\u001b[39;49m\u001b[38;5;241;43m.\u001b[39;49m\u001b[43mexecute\u001b[49m\u001b[43m(\u001b[49m\u001b[43mCommand\u001b[49m\u001b[38;5;241;43m.\u001b[39;49m\u001b[43mCLOSE\u001b[49m\u001b[43m)\u001b[49m\n",
      "File \u001b[1;32mc:\\Users\\82108\\anaconda3\\envs\\scrap_source\\Lib\\site-packages\\selenium\\webdriver\\remote\\webdriver.py:384\u001b[0m, in \u001b[0;36mWebDriver.execute\u001b[1;34m(self, driver_command, params)\u001b[0m\n\u001b[0;32m    382\u001b[0m response \u001b[38;5;241m=\u001b[39m \u001b[38;5;28mself\u001b[39m\u001b[38;5;241m.\u001b[39mcommand_executor\u001b[38;5;241m.\u001b[39mexecute(driver_command, params)\n\u001b[0;32m    383\u001b[0m \u001b[38;5;28;01mif\u001b[39;00m response:\n\u001b[1;32m--> 384\u001b[0m     \u001b[38;5;28;43mself\u001b[39;49m\u001b[38;5;241;43m.\u001b[39;49m\u001b[43merror_handler\u001b[49m\u001b[38;5;241;43m.\u001b[39;49m\u001b[43mcheck_response\u001b[49m\u001b[43m(\u001b[49m\u001b[43mresponse\u001b[49m\u001b[43m)\u001b[49m\n\u001b[0;32m    385\u001b[0m     response[\u001b[38;5;124m\"\u001b[39m\u001b[38;5;124mvalue\u001b[39m\u001b[38;5;124m\"\u001b[39m] \u001b[38;5;241m=\u001b[39m \u001b[38;5;28mself\u001b[39m\u001b[38;5;241m.\u001b[39m_unwrap_value(response\u001b[38;5;241m.\u001b[39mget(\u001b[38;5;124m\"\u001b[39m\u001b[38;5;124mvalue\u001b[39m\u001b[38;5;124m\"\u001b[39m, \u001b[38;5;28;01mNone\u001b[39;00m))\n\u001b[0;32m    386\u001b[0m     \u001b[38;5;28;01mreturn\u001b[39;00m response\n",
      "File \u001b[1;32mc:\\Users\\82108\\anaconda3\\envs\\scrap_source\\Lib\\site-packages\\selenium\\webdriver\\remote\\errorhandler.py:232\u001b[0m, in \u001b[0;36mErrorHandler.check_response\u001b[1;34m(self, response)\u001b[0m\n\u001b[0;32m    230\u001b[0m         alert_text \u001b[38;5;241m=\u001b[39m value[\u001b[38;5;124m\"\u001b[39m\u001b[38;5;124malert\u001b[39m\u001b[38;5;124m\"\u001b[39m]\u001b[38;5;241m.\u001b[39mget(\u001b[38;5;124m\"\u001b[39m\u001b[38;5;124mtext\u001b[39m\u001b[38;5;124m\"\u001b[39m)\n\u001b[0;32m    231\u001b[0m     \u001b[38;5;28;01mraise\u001b[39;00m exception_class(message, screen, stacktrace, alert_text)  \u001b[38;5;66;03m# type: ignore[call-arg]  # mypy is not smart enough here\u001b[39;00m\n\u001b[1;32m--> 232\u001b[0m \u001b[38;5;28;01mraise\u001b[39;00m exception_class(message, screen, stacktrace)\n",
      "\u001b[1;31mWebDriverException\u001b[0m: Message: disconnected: not connected to DevTools\n  (failed to check if window was closed: disconnected: not connected to DevTools)\n  (Session info: chrome=131.0.6778.205)\nStacktrace:\n\tGetHandleVerifier [0x00007FF66921FB05+28789]\n\t(No symbol) [0x00007FF6691886E0]\n\t(No symbol) [0x00007FF66902592A]\n\t(No symbol) [0x00007FF669010866]\n\t(No symbol) [0x00007FF669011D1F]\n\t(No symbol) [0x00007FF669025F73]\n\t(No symbol) [0x00007FF668FFEFDD]\n\t(No symbol) [0x00007FF6690AD8B9]\n\t(No symbol) [0x00007FF66909F400]\n\t(No symbol) [0x00007FF66906A938]\n\t(No symbol) [0x00007FF66906BAA1]\n\tGetHandleVerifier [0x00007FF66955933D+3410093]\n\tGetHandleVerifier [0x00007FF66956E7DD+3497293]\n\tGetHandleVerifier [0x00007FF669562A73+3448803]\n\tGetHandleVerifier [0x00007FF6692E7BBB+848171]\n\t(No symbol) [0x00007FF669193C3F]\n\t(No symbol) [0x00007FF66918F6E4]\n\t(No symbol) [0x00007FF66918F87D]\n\t(No symbol) [0x00007FF66917ED49]\n\tBaseThreadInitThunk [0x00007FFCD1C9E8D7+23]\n\tRtlUserThreadStart [0x00007FFCD2E9FBCC+44]\n"
     ]
    }
   ],
   "source": [
    "# browser.close()"
   ]
  },
  {
   "cell_type": "code",
   "execution_count": null,
   "id": "dec94dcf",
   "metadata": {},
   "outputs": [],
   "source": []
  }
 ],
 "metadata": {
  "kernelspec": {
   "display_name": "“scrapSrc",
   "language": "python",
   "name": "scraping_source"
  },
  "language_info": {
   "codemirror_mode": {
    "name": "ipython",
    "version": 3
   },
   "file_extension": ".py",
   "mimetype": "text/x-python",
   "name": "python",
   "nbconvert_exporter": "python",
   "pygments_lexer": "ipython3",
   "version": "3.12.7"
  }
 },
 "nbformat": 4,
 "nbformat_minor": 5
}
