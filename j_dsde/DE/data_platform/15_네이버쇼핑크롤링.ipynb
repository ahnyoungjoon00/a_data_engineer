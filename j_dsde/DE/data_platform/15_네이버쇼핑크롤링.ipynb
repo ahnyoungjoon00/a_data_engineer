{
 "cells": [
  {
   "cell_type": "markdown",
   "id": "f18641df",
   "metadata": {},
   "source": [
    "### 네이버 쇼핑몰\n",
    "- 거의 모든 객체가 동적으로 구성되어 있음\n",
    "    - 디스플레이되고 있는 상품의 수가 많음\n",
    "    - 한 화면에 진열이 불가능하므로 스크롤바를 움직여서 하단으로 내려오면 창이 확장되면서 상품이 진열되는 방식\n",
    "- 네이버 스토어 측에서 무분별한 크롤링 방지 정책을 세워둠\n",
    "    - 화면 진열 방식을 무한 크롤링으로 변경\n",
    "    - 특정 횟수만큼 스크룰하고 수집"
   ]
  },
  {
   "cell_type": "code",
   "execution_count": 1,
   "id": "1b2c5b02",
   "metadata": {},
   "outputs": [],
   "source": [
    "import time\n",
    "import pandas as pd\n",
    "import numpy as np\n",
    "from bs4 import BeautifulSoup\n",
    "\n",
    "import selenium\n",
    "from selenium import webdriver\n",
    "from selenium.webdriver.common.keys import Keys # 콘트롤되는 브라우저에 직접 키보드 키 신호를 프로그램적으로 전달하기 위해 사용\n",
    "from selenium.webdriver.common.by import By # 셀레니움 4.0부터 포함된 함수(필수)\n",
    "from selenium.webdriver.chrome.service import Service"
   ]
  },
  {
   "cell_type": "code",
   "execution_count": 2,
   "id": "86b732df",
   "metadata": {},
   "outputs": [],
   "source": [
    "service = Service()\n",
    "options = webdriver.ChromeOptions()\n",
    "#크롬 드라이버의 경로 작성\n",
    "# browser  = webdriver.Chrome(service=ChromeService(ChromeDriverManager().install()))\n",
    "browser = webdriver.Chrome(service=service, options=options)"
   ]
  },
  {
   "cell_type": "code",
   "execution_count": 3,
   "id": "cefc17eb",
   "metadata": {},
   "outputs": [],
   "source": [
    "#웹사이트 열기\n",
    "# site 요청 (site loading 종료까지 기다리는 시간이 필요)\n",
    "browser.get('https://www.naver.com')\n",
    "# 대기시간이 없는 경우 객체가 표현되지 않을 수 있음\n",
    "browser.implicitly_wait(10)"
   ]
  },
  {
   "cell_type": "code",
   "execution_count": 4,
   "id": "41d9f022",
   "metadata": {},
   "outputs": [],
   "source": [
    "# 스토어는 창 크기에 따라 표현되어지는 form이 달라짐 : 전체화면으로 놓고 작업\n",
    "# 창크기가 작으면 mobile mode로 바뀌는 경우도 있음(naver)\n",
    "browser.maximize_window()"
   ]
  },
  {
   "cell_type": "code",
   "execution_count": 5,
   "id": "5857a921",
   "metadata": {},
   "outputs": [],
   "source": [
    "#스토어 메뉴 클릭(쇼핑 메뉴로 자동으로 넘어감)\n",
    "#shortcutArea > ul > li:nth-child(4) > a\n",
    "#shortcutArea > ul > li:nth-child(4) > a > span.service_icon.type_shopping\n",
    "browser.find_element(By.CSS_SELECTOR, \"#shortcutArea > ul > li:nth-child(4) > a\")\n",
    "browser.find_element(By.CSS_SELECTOR, \"#shortcutArea > ul > li:nth-child(4) > a\").click()\n",
    "\n",
    "time.sleep(2)"
   ]
  },
  {
   "cell_type": "code",
   "execution_count": 7,
   "id": "bc6dee3a",
   "metadata": {},
   "outputs": [
    {
     "name": "stdout",
     "output_type": "stream",
     "text": [
      "['132F224C061B216B1932747584C2C50A', 'CA31F6557D346A55AFD98173002CA5C4']\n"
     ]
    }
   ],
   "source": [
    "#창이 2개 이상 열렸을대 핸들 확인\n",
    "# 브라우저의 활성창이 쇼핑창이어도 프로그램내에서는 첫번째 열었던 창의 참조만 연결하고 있음\n",
    "print(browser.window_handles)"
   ]
  },
  {
   "cell_type": "code",
   "execution_count": 8,
   "id": "7f4d853f",
   "metadata": {},
   "outputs": [],
   "source": [
    "# 스토어 창으로 핸들 전환\n",
    "browser.switch_to.window(browser.window_handles[1])"
   ]
  },
  {
   "cell_type": "code",
   "execution_count": 9,
   "id": "df2eccf5",
   "metadata": {},
   "outputs": [],
   "source": [
    "# browser.close()"
   ]
  },
  {
   "cell_type": "code",
   "execution_count": 10,
   "id": "135e3efa",
   "metadata": {},
   "outputs": [],
   "source": [
    "# 검색어 입력 창 태그 확인 (form > div)\n",
    "# <div class=\"_gnbSearch_inner_INhOz\">\n",
    "\n",
    "#  검색창의 div 태그 내에 검색어 입력 태그(input tag)\n",
    "sel = \"._gnbSearch_inner_INhOz input\"\n",
    "\n",
    "# 검색어 입력창 찾아서 검색어 입력 및 enter키 전송\n",
    "search = browser.find_element(By.CSS_SELECTOR, sel)\n",
    "# input 태그에 검색어 전송(send_keys(전달할 키 값))\n",
    "search.send_keys(\"고구마\")\n",
    "# Keys : dict로 구성, 키보드의 모든 키값을 저장하고 있음\n",
    "# Key를 지칭할 수 있는 상수로 저장되어 있음\n",
    "search.send_keys(Keys.ENTER)"
   ]
  },
  {
   "cell_type": "code",
   "execution_count": 11,
   "id": "07ce5073",
   "metadata": {},
   "outputs": [
    {
     "data": {
      "text/plain": [
       "0"
      ]
     },
     "execution_count": 11,
     "metadata": {},
     "output_type": "execute_result"
    }
   ],
   "source": [
    "# 스크롤이 하단으로 내려가면 스크립트가 실행되면서 새로 상품이 전시되는 구조\n",
    "# 스크롤 전 높이 확인(자바 스크립트 명령어 실행)\n",
    "# \"window.scrollY\" # y 스크롤바의 현재 위치값을 저장\n",
    "\n",
    "# \"return window.scrollY\" # 자바스크림트 코드 실행(웹 드라이버 객체 통해서 실행 : exexute_script())\n",
    "before_h = browser.execute_script(\"return window.scrollY\")\n",
    "before_h\n",
    "# y 스크롤 바 변경 후에 before_h와 변경된 y 스크롤 위치를 비교해서 변화가 없으면 중지하는 방식"
   ]
  },
  {
   "cell_type": "code",
   "execution_count": 12,
   "id": "c10a07b2",
   "metadata": {},
   "outputs": [
    {
     "name": "stdout",
     "output_type": "stream",
     "text": [
      "4935.2001953125\n",
      "4935.2001953125\n"
     ]
    }
   ],
   "source": [
    "#스크롤(네이버가 크롤링을 방지하는 정책을 사용하고 있고 무한스크롤 되어도 위쪽 item이 없어지므로 적당히 스크롤한 후 진행)\n",
    "# 더이상 스크롤 되지 않도록 무한 스크롤 해야 하나, 정책상 크롤링 거부될 수 있으므로 20번정도 스크롤 후 정보 추출\n",
    "for i in range(0, 20):\n",
    "    # 현재 화면의 가장 아래로 스크롤 진행(스크롤 바 움직이는 대신 body객체에게 end키를 보내서 화면 가장 아래로 이동하도록)\n",
    "    browser.find_element(By.CSS_SELECTOR, \"body\").send_keys(Keys.END)\n",
    "    time.sleep(1)\n",
    "\n",
    "    after_h = browser.execute_script(\"return window.scrollY\")\n",
    "    print(after_h)\n",
    "    if (after_h == before_h):\n",
    "        break\n",
    "    else :\n",
    "        before_h = after_h\n",
    "        "
   ]
  },
  {
   "cell_type": "code",
   "execution_count": 13,
   "id": "820a8208",
   "metadata": {},
   "outputs": [],
   "source": [
    "# # 무한스크롤  코드\n",
    "# interval = 2\n",
    "# prev_height = browser.execute_script(\"return document.body.scrollHeight\")\n",
    "\n",
    "# while True:\n",
    "#     #화면 가장 아래로 스크롤 내리기\n",
    "#     browser.execute_script(\"window.scrollTo(0, document.body.scrollHeight)\")\n",
    "#     time.sleep(interval)\n",
    "\n",
    "#     curr_height = browser.execute_script(\"return document.body.scrollHeight\")\n",
    "#     if curr_height == prev_height:\n",
    "#         break\n",
    "    \n",
    "#     prev_height = curr_height"
   ]
  },
  {
   "cell_type": "markdown",
   "id": "291ad690",
   "metadata": {},
   "source": [
    "### 상품 정보 추출\n",
    "- 전체 상품 정보 div 태그 추출 후\n",
    "- 내부 li 태그 추출"
   ]
  },
  {
   "cell_type": "code",
   "execution_count": 14,
   "id": "e326bb31",
   "metadata": {},
   "outputs": [
    {
     "data": {
      "text/plain": [
       "[<selenium.webdriver.remote.webelement.WebElement (session=\"19b8be79e3a4d0887d90da3320c7ac90\", element=\"f.CA31F6557D346A55AFD98173002CA5C4.d.677937984D7829F9A29CF83FF8EA3C31.e.529\")>,\n",
       " <selenium.webdriver.remote.webelement.WebElement (session=\"19b8be79e3a4d0887d90da3320c7ac90\", element=\"f.CA31F6557D346A55AFD98173002CA5C4.d.677937984D7829F9A29CF83FF8EA3C31.e.530\")>,\n",
       " <selenium.webdriver.remote.webelement.WebElement (session=\"19b8be79e3a4d0887d90da3320c7ac90\", element=\"f.CA31F6557D346A55AFD98173002CA5C4.d.677937984D7829F9A29CF83FF8EA3C31.e.531\")>,\n",
       " <selenium.webdriver.remote.webelement.WebElement (session=\"19b8be79e3a4d0887d90da3320c7ac90\", element=\"f.CA31F6557D346A55AFD98173002CA5C4.d.677937984D7829F9A29CF83FF8EA3C31.e.532\")>,\n",
       " <selenium.webdriver.remote.webelement.WebElement (session=\"19b8be79e3a4d0887d90da3320c7ac90\", element=\"f.CA31F6557D346A55AFD98173002CA5C4.d.677937984D7829F9A29CF83FF8EA3C31.e.533\")>,\n",
       " <selenium.webdriver.remote.webelement.WebElement (session=\"19b8be79e3a4d0887d90da3320c7ac90\", element=\"f.CA31F6557D346A55AFD98173002CA5C4.d.677937984D7829F9A29CF83FF8EA3C31.e.534\")>,\n",
       " <selenium.webdriver.remote.webelement.WebElement (session=\"19b8be79e3a4d0887d90da3320c7ac90\", element=\"f.CA31F6557D346A55AFD98173002CA5C4.d.677937984D7829F9A29CF83FF8EA3C31.e.535\")>,\n",
       " <selenium.webdriver.remote.webelement.WebElement (session=\"19b8be79e3a4d0887d90da3320c7ac90\", element=\"f.CA31F6557D346A55AFD98173002CA5C4.d.677937984D7829F9A29CF83FF8EA3C31.e.536\")>,\n",
       " <selenium.webdriver.remote.webelement.WebElement (session=\"19b8be79e3a4d0887d90da3320c7ac90\", element=\"f.CA31F6557D346A55AFD98173002CA5C4.d.677937984D7829F9A29CF83FF8EA3C31.e.537\")>,\n",
       " <selenium.webdriver.remote.webelement.WebElement (session=\"19b8be79e3a4d0887d90da3320c7ac90\", element=\"f.CA31F6557D346A55AFD98173002CA5C4.d.677937984D7829F9A29CF83FF8EA3C31.e.538\")>,\n",
       " <selenium.webdriver.remote.webelement.WebElement (session=\"19b8be79e3a4d0887d90da3320c7ac90\", element=\"f.CA31F6557D346A55AFD98173002CA5C4.d.677937984D7829F9A29CF83FF8EA3C31.e.539\")>,\n",
       " <selenium.webdriver.remote.webelement.WebElement (session=\"19b8be79e3a4d0887d90da3320c7ac90\", element=\"f.CA31F6557D346A55AFD98173002CA5C4.d.677937984D7829F9A29CF83FF8EA3C31.e.540\")>,\n",
       " <selenium.webdriver.remote.webelement.WebElement (session=\"19b8be79e3a4d0887d90da3320c7ac90\", element=\"f.CA31F6557D346A55AFD98173002CA5C4.d.677937984D7829F9A29CF83FF8EA3C31.e.541\")>,\n",
       " <selenium.webdriver.remote.webelement.WebElement (session=\"19b8be79e3a4d0887d90da3320c7ac90\", element=\"f.CA31F6557D346A55AFD98173002CA5C4.d.677937984D7829F9A29CF83FF8EA3C31.e.542\")>,\n",
       " <selenium.webdriver.remote.webelement.WebElement (session=\"19b8be79e3a4d0887d90da3320c7ac90\", element=\"f.CA31F6557D346A55AFD98173002CA5C4.d.677937984D7829F9A29CF83FF8EA3C31.e.543\")>,\n",
       " <selenium.webdriver.remote.webelement.WebElement (session=\"19b8be79e3a4d0887d90da3320c7ac90\", element=\"f.CA31F6557D346A55AFD98173002CA5C4.d.677937984D7829F9A29CF83FF8EA3C31.e.544\")>,\n",
       " <selenium.webdriver.remote.webelement.WebElement (session=\"19b8be79e3a4d0887d90da3320c7ac90\", element=\"f.CA31F6557D346A55AFD98173002CA5C4.d.677937984D7829F9A29CF83FF8EA3C31.e.545\")>,\n",
       " <selenium.webdriver.remote.webelement.WebElement (session=\"19b8be79e3a4d0887d90da3320c7ac90\", element=\"f.CA31F6557D346A55AFD98173002CA5C4.d.677937984D7829F9A29CF83FF8EA3C31.e.546\")>,\n",
       " <selenium.webdriver.remote.webelement.WebElement (session=\"19b8be79e3a4d0887d90da3320c7ac90\", element=\"f.CA31F6557D346A55AFD98173002CA5C4.d.677937984D7829F9A29CF83FF8EA3C31.e.547\")>,\n",
       " <selenium.webdriver.remote.webelement.WebElement (session=\"19b8be79e3a4d0887d90da3320c7ac90\", element=\"f.CA31F6557D346A55AFD98173002CA5C4.d.677937984D7829F9A29CF83FF8EA3C31.e.548\")>,\n",
       " <selenium.webdriver.remote.webelement.WebElement (session=\"19b8be79e3a4d0887d90da3320c7ac90\", element=\"f.CA31F6557D346A55AFD98173002CA5C4.d.677937984D7829F9A29CF83FF8EA3C31.e.549\")>,\n",
       " <selenium.webdriver.remote.webelement.WebElement (session=\"19b8be79e3a4d0887d90da3320c7ac90\", element=\"f.CA31F6557D346A55AFD98173002CA5C4.d.677937984D7829F9A29CF83FF8EA3C31.e.550\")>,\n",
       " <selenium.webdriver.remote.webelement.WebElement (session=\"19b8be79e3a4d0887d90da3320c7ac90\", element=\"f.CA31F6557D346A55AFD98173002CA5C4.d.677937984D7829F9A29CF83FF8EA3C31.e.551\")>,\n",
       " <selenium.webdriver.remote.webelement.WebElement (session=\"19b8be79e3a4d0887d90da3320c7ac90\", element=\"f.CA31F6557D346A55AFD98173002CA5C4.d.677937984D7829F9A29CF83FF8EA3C31.e.552\")>,\n",
       " <selenium.webdriver.remote.webelement.WebElement (session=\"19b8be79e3a4d0887d90da3320c7ac90\", element=\"f.CA31F6557D346A55AFD98173002CA5C4.d.677937984D7829F9A29CF83FF8EA3C31.e.553\")>,\n",
       " <selenium.webdriver.remote.webelement.WebElement (session=\"19b8be79e3a4d0887d90da3320c7ac90\", element=\"f.CA31F6557D346A55AFD98173002CA5C4.d.677937984D7829F9A29CF83FF8EA3C31.e.554\")>,\n",
       " <selenium.webdriver.remote.webelement.WebElement (session=\"19b8be79e3a4d0887d90da3320c7ac90\", element=\"f.CA31F6557D346A55AFD98173002CA5C4.d.677937984D7829F9A29CF83FF8EA3C31.e.555\")>,\n",
       " <selenium.webdriver.remote.webelement.WebElement (session=\"19b8be79e3a4d0887d90da3320c7ac90\", element=\"f.CA31F6557D346A55AFD98173002CA5C4.d.677937984D7829F9A29CF83FF8EA3C31.e.556\")>,\n",
       " <selenium.webdriver.remote.webelement.WebElement (session=\"19b8be79e3a4d0887d90da3320c7ac90\", element=\"f.CA31F6557D346A55AFD98173002CA5C4.d.677937984D7829F9A29CF83FF8EA3C31.e.557\")>,\n",
       " <selenium.webdriver.remote.webelement.WebElement (session=\"19b8be79e3a4d0887d90da3320c7ac90\", element=\"f.CA31F6557D346A55AFD98173002CA5C4.d.677937984D7829F9A29CF83FF8EA3C31.e.558\")>,\n",
       " <selenium.webdriver.remote.webelement.WebElement (session=\"19b8be79e3a4d0887d90da3320c7ac90\", element=\"f.CA31F6557D346A55AFD98173002CA5C4.d.677937984D7829F9A29CF83FF8EA3C31.e.559\")>,\n",
       " <selenium.webdriver.remote.webelement.WebElement (session=\"19b8be79e3a4d0887d90da3320c7ac90\", element=\"f.CA31F6557D346A55AFD98173002CA5C4.d.677937984D7829F9A29CF83FF8EA3C31.e.560\")>,\n",
       " <selenium.webdriver.remote.webelement.WebElement (session=\"19b8be79e3a4d0887d90da3320c7ac90\", element=\"f.CA31F6557D346A55AFD98173002CA5C4.d.677937984D7829F9A29CF83FF8EA3C31.e.561\")>,\n",
       " <selenium.webdriver.remote.webelement.WebElement (session=\"19b8be79e3a4d0887d90da3320c7ac90\", element=\"f.CA31F6557D346A55AFD98173002CA5C4.d.677937984D7829F9A29CF83FF8EA3C31.e.562\")>,\n",
       " <selenium.webdriver.remote.webelement.WebElement (session=\"19b8be79e3a4d0887d90da3320c7ac90\", element=\"f.CA31F6557D346A55AFD98173002CA5C4.d.677937984D7829F9A29CF83FF8EA3C31.e.563\")>,\n",
       " <selenium.webdriver.remote.webelement.WebElement (session=\"19b8be79e3a4d0887d90da3320c7ac90\", element=\"f.CA31F6557D346A55AFD98173002CA5C4.d.677937984D7829F9A29CF83FF8EA3C31.e.564\")>,\n",
       " <selenium.webdriver.remote.webelement.WebElement (session=\"19b8be79e3a4d0887d90da3320c7ac90\", element=\"f.CA31F6557D346A55AFD98173002CA5C4.d.677937984D7829F9A29CF83FF8EA3C31.e.565\")>,\n",
       " <selenium.webdriver.remote.webelement.WebElement (session=\"19b8be79e3a4d0887d90da3320c7ac90\", element=\"f.CA31F6557D346A55AFD98173002CA5C4.d.677937984D7829F9A29CF83FF8EA3C31.e.566\")>,\n",
       " <selenium.webdriver.remote.webelement.WebElement (session=\"19b8be79e3a4d0887d90da3320c7ac90\", element=\"f.CA31F6557D346A55AFD98173002CA5C4.d.677937984D7829F9A29CF83FF8EA3C31.e.567\")>,\n",
       " <selenium.webdriver.remote.webelement.WebElement (session=\"19b8be79e3a4d0887d90da3320c7ac90\", element=\"f.CA31F6557D346A55AFD98173002CA5C4.d.677937984D7829F9A29CF83FF8EA3C31.e.568\")>,\n",
       " <selenium.webdriver.remote.webelement.WebElement (session=\"19b8be79e3a4d0887d90da3320c7ac90\", element=\"f.CA31F6557D346A55AFD98173002CA5C4.d.677937984D7829F9A29CF83FF8EA3C31.e.569\")>,\n",
       " <selenium.webdriver.remote.webelement.WebElement (session=\"19b8be79e3a4d0887d90da3320c7ac90\", element=\"f.CA31F6557D346A55AFD98173002CA5C4.d.677937984D7829F9A29CF83FF8EA3C31.e.570\")>,\n",
       " <selenium.webdriver.remote.webelement.WebElement (session=\"19b8be79e3a4d0887d90da3320c7ac90\", element=\"f.CA31F6557D346A55AFD98173002CA5C4.d.677937984D7829F9A29CF83FF8EA3C31.e.571\")>,\n",
       " <selenium.webdriver.remote.webelement.WebElement (session=\"19b8be79e3a4d0887d90da3320c7ac90\", element=\"f.CA31F6557D346A55AFD98173002CA5C4.d.677937984D7829F9A29CF83FF8EA3C31.e.572\")>,\n",
       " <selenium.webdriver.remote.webelement.WebElement (session=\"19b8be79e3a4d0887d90da3320c7ac90\", element=\"f.CA31F6557D346A55AFD98173002CA5C4.d.677937984D7829F9A29CF83FF8EA3C31.e.573\")>,\n",
       " <selenium.webdriver.remote.webelement.WebElement (session=\"19b8be79e3a4d0887d90da3320c7ac90\", element=\"f.CA31F6557D346A55AFD98173002CA5C4.d.677937984D7829F9A29CF83FF8EA3C31.e.574\")>,\n",
       " <selenium.webdriver.remote.webelement.WebElement (session=\"19b8be79e3a4d0887d90da3320c7ac90\", element=\"f.CA31F6557D346A55AFD98173002CA5C4.d.677937984D7829F9A29CF83FF8EA3C31.e.575\")>,\n",
       " <selenium.webdriver.remote.webelement.WebElement (session=\"19b8be79e3a4d0887d90da3320c7ac90\", element=\"f.CA31F6557D346A55AFD98173002CA5C4.d.677937984D7829F9A29CF83FF8EA3C31.e.576\")>,\n",
       " <selenium.webdriver.remote.webelement.WebElement (session=\"19b8be79e3a4d0887d90da3320c7ac90\", element=\"f.CA31F6557D346A55AFD98173002CA5C4.d.677937984D7829F9A29CF83FF8EA3C31.e.577\")>,\n",
       " <selenium.webdriver.remote.webelement.WebElement (session=\"19b8be79e3a4d0887d90da3320c7ac90\", element=\"f.CA31F6557D346A55AFD98173002CA5C4.d.677937984D7829F9A29CF83FF8EA3C31.e.578\")>,\n",
       " <selenium.webdriver.remote.webelement.WebElement (session=\"19b8be79e3a4d0887d90da3320c7ac90\", element=\"f.CA31F6557D346A55AFD98173002CA5C4.d.677937984D7829F9A29CF83FF8EA3C31.e.579\")>,\n",
       " <selenium.webdriver.remote.webelement.WebElement (session=\"19b8be79e3a4d0887d90da3320c7ac90\", element=\"f.CA31F6557D346A55AFD98173002CA5C4.d.677937984D7829F9A29CF83FF8EA3C31.e.580\")>,\n",
       " <selenium.webdriver.remote.webelement.WebElement (session=\"19b8be79e3a4d0887d90da3320c7ac90\", element=\"f.CA31F6557D346A55AFD98173002CA5C4.d.677937984D7829F9A29CF83FF8EA3C31.e.581\")>,\n",
       " <selenium.webdriver.remote.webelement.WebElement (session=\"19b8be79e3a4d0887d90da3320c7ac90\", element=\"f.CA31F6557D346A55AFD98173002CA5C4.d.677937984D7829F9A29CF83FF8EA3C31.e.328\")>,\n",
       " <selenium.webdriver.remote.webelement.WebElement (session=\"19b8be79e3a4d0887d90da3320c7ac90\", element=\"f.CA31F6557D346A55AFD98173002CA5C4.d.677937984D7829F9A29CF83FF8EA3C31.e.349\")>,\n",
       " <selenium.webdriver.remote.webelement.WebElement (session=\"19b8be79e3a4d0887d90da3320c7ac90\", element=\"f.CA31F6557D346A55AFD98173002CA5C4.d.677937984D7829F9A29CF83FF8EA3C31.e.367\")>,\n",
       " <selenium.webdriver.remote.webelement.WebElement (session=\"19b8be79e3a4d0887d90da3320c7ac90\", element=\"f.CA31F6557D346A55AFD98173002CA5C4.d.677937984D7829F9A29CF83FF8EA3C31.e.385\")>,\n",
       " <selenium.webdriver.remote.webelement.WebElement (session=\"19b8be79e3a4d0887d90da3320c7ac90\", element=\"f.CA31F6557D346A55AFD98173002CA5C4.d.677937984D7829F9A29CF83FF8EA3C31.e.403\")>,\n",
       " <selenium.webdriver.remote.webelement.WebElement (session=\"19b8be79e3a4d0887d90da3320c7ac90\", element=\"f.CA31F6557D346A55AFD98173002CA5C4.d.677937984D7829F9A29CF83FF8EA3C31.e.418\")>,\n",
       " <selenium.webdriver.remote.webelement.WebElement (session=\"19b8be79e3a4d0887d90da3320c7ac90\", element=\"f.CA31F6557D346A55AFD98173002CA5C4.d.677937984D7829F9A29CF83FF8EA3C31.e.429\")>,\n",
       " <selenium.webdriver.remote.webelement.WebElement (session=\"19b8be79e3a4d0887d90da3320c7ac90\", element=\"f.CA31F6557D346A55AFD98173002CA5C4.d.677937984D7829F9A29CF83FF8EA3C31.e.440\")>,\n",
       " <selenium.webdriver.remote.webelement.WebElement (session=\"19b8be79e3a4d0887d90da3320c7ac90\", element=\"f.CA31F6557D346A55AFD98173002CA5C4.d.677937984D7829F9A29CF83FF8EA3C31.e.451\")>,\n",
       " <selenium.webdriver.remote.webelement.WebElement (session=\"19b8be79e3a4d0887d90da3320c7ac90\", element=\"f.CA31F6557D346A55AFD98173002CA5C4.d.677937984D7829F9A29CF83FF8EA3C31.e.462\")>,\n",
       " <selenium.webdriver.remote.webelement.WebElement (session=\"19b8be79e3a4d0887d90da3320c7ac90\", element=\"f.CA31F6557D346A55AFD98173002CA5C4.d.677937984D7829F9A29CF83FF8EA3C31.e.582\")>,\n",
       " <selenium.webdriver.remote.webelement.WebElement (session=\"19b8be79e3a4d0887d90da3320c7ac90\", element=\"f.CA31F6557D346A55AFD98173002CA5C4.d.677937984D7829F9A29CF83FF8EA3C31.e.583\")>,\n",
       " <selenium.webdriver.remote.webelement.WebElement (session=\"19b8be79e3a4d0887d90da3320c7ac90\", element=\"f.CA31F6557D346A55AFD98173002CA5C4.d.677937984D7829F9A29CF83FF8EA3C31.e.584\")>,\n",
       " <selenium.webdriver.remote.webelement.WebElement (session=\"19b8be79e3a4d0887d90da3320c7ac90\", element=\"f.CA31F6557D346A55AFD98173002CA5C4.d.677937984D7829F9A29CF83FF8EA3C31.e.585\")>,\n",
       " <selenium.webdriver.remote.webelement.WebElement (session=\"19b8be79e3a4d0887d90da3320c7ac90\", element=\"f.CA31F6557D346A55AFD98173002CA5C4.d.677937984D7829F9A29CF83FF8EA3C31.e.586\")>,\n",
       " <selenium.webdriver.remote.webelement.WebElement (session=\"19b8be79e3a4d0887d90da3320c7ac90\", element=\"f.CA31F6557D346A55AFD98173002CA5C4.d.677937984D7829F9A29CF83FF8EA3C31.e.587\")>,\n",
       " <selenium.webdriver.remote.webelement.WebElement (session=\"19b8be79e3a4d0887d90da3320c7ac90\", element=\"f.CA31F6557D346A55AFD98173002CA5C4.d.677937984D7829F9A29CF83FF8EA3C31.e.588\")>,\n",
       " <selenium.webdriver.remote.webelement.WebElement (session=\"19b8be79e3a4d0887d90da3320c7ac90\", element=\"f.CA31F6557D346A55AFD98173002CA5C4.d.677937984D7829F9A29CF83FF8EA3C31.e.589\")>,\n",
       " <selenium.webdriver.remote.webelement.WebElement (session=\"19b8be79e3a4d0887d90da3320c7ac90\", element=\"f.CA31F6557D346A55AFD98173002CA5C4.d.677937984D7829F9A29CF83FF8EA3C31.e.590\")>,\n",
       " <selenium.webdriver.remote.webelement.WebElement (session=\"19b8be79e3a4d0887d90da3320c7ac90\", element=\"f.CA31F6557D346A55AFD98173002CA5C4.d.677937984D7829F9A29CF83FF8EA3C31.e.591\")>,\n",
       " <selenium.webdriver.remote.webelement.WebElement (session=\"19b8be79e3a4d0887d90da3320c7ac90\", element=\"f.CA31F6557D346A55AFD98173002CA5C4.d.677937984D7829F9A29CF83FF8EA3C31.e.592\")>,\n",
       " <selenium.webdriver.remote.webelement.WebElement (session=\"19b8be79e3a4d0887d90da3320c7ac90\", element=\"f.CA31F6557D346A55AFD98173002CA5C4.d.677937984D7829F9A29CF83FF8EA3C31.e.593\")>,\n",
       " <selenium.webdriver.remote.webelement.WebElement (session=\"19b8be79e3a4d0887d90da3320c7ac90\", element=\"f.CA31F6557D346A55AFD98173002CA5C4.d.677937984D7829F9A29CF83FF8EA3C31.e.594\")>,\n",
       " <selenium.webdriver.remote.webelement.WebElement (session=\"19b8be79e3a4d0887d90da3320c7ac90\", element=\"f.CA31F6557D346A55AFD98173002CA5C4.d.677937984D7829F9A29CF83FF8EA3C31.e.595\")>,\n",
       " <selenium.webdriver.remote.webelement.WebElement (session=\"19b8be79e3a4d0887d90da3320c7ac90\", element=\"f.CA31F6557D346A55AFD98173002CA5C4.d.677937984D7829F9A29CF83FF8EA3C31.e.596\")>,\n",
       " <selenium.webdriver.remote.webelement.WebElement (session=\"19b8be79e3a4d0887d90da3320c7ac90\", element=\"f.CA31F6557D346A55AFD98173002CA5C4.d.677937984D7829F9A29CF83FF8EA3C31.e.597\")>,\n",
       " <selenium.webdriver.remote.webelement.WebElement (session=\"19b8be79e3a4d0887d90da3320c7ac90\", element=\"f.CA31F6557D346A55AFD98173002CA5C4.d.677937984D7829F9A29CF83FF8EA3C31.e.598\")>,\n",
       " <selenium.webdriver.remote.webelement.WebElement (session=\"19b8be79e3a4d0887d90da3320c7ac90\", element=\"f.CA31F6557D346A55AFD98173002CA5C4.d.677937984D7829F9A29CF83FF8EA3C31.e.599\")>,\n",
       " <selenium.webdriver.remote.webelement.WebElement (session=\"19b8be79e3a4d0887d90da3320c7ac90\", element=\"f.CA31F6557D346A55AFD98173002CA5C4.d.677937984D7829F9A29CF83FF8EA3C31.e.600\")>,\n",
       " <selenium.webdriver.remote.webelement.WebElement (session=\"19b8be79e3a4d0887d90da3320c7ac90\", element=\"f.CA31F6557D346A55AFD98173002CA5C4.d.677937984D7829F9A29CF83FF8EA3C31.e.601\")>,\n",
       " <selenium.webdriver.remote.webelement.WebElement (session=\"19b8be79e3a4d0887d90da3320c7ac90\", element=\"f.CA31F6557D346A55AFD98173002CA5C4.d.677937984D7829F9A29CF83FF8EA3C31.e.602\")>,\n",
       " <selenium.webdriver.remote.webelement.WebElement (session=\"19b8be79e3a4d0887d90da3320c7ac90\", element=\"f.CA31F6557D346A55AFD98173002CA5C4.d.677937984D7829F9A29CF83FF8EA3C31.e.603\")>,\n",
       " <selenium.webdriver.remote.webelement.WebElement (session=\"19b8be79e3a4d0887d90da3320c7ac90\", element=\"f.CA31F6557D346A55AFD98173002CA5C4.d.677937984D7829F9A29CF83FF8EA3C31.e.604\")>,\n",
       " <selenium.webdriver.remote.webelement.WebElement (session=\"19b8be79e3a4d0887d90da3320c7ac90\", element=\"f.CA31F6557D346A55AFD98173002CA5C4.d.677937984D7829F9A29CF83FF8EA3C31.e.605\")>,\n",
       " <selenium.webdriver.remote.webelement.WebElement (session=\"19b8be79e3a4d0887d90da3320c7ac90\", element=\"f.CA31F6557D346A55AFD98173002CA5C4.d.677937984D7829F9A29CF83FF8EA3C31.e.606\")>,\n",
       " <selenium.webdriver.remote.webelement.WebElement (session=\"19b8be79e3a4d0887d90da3320c7ac90\", element=\"f.CA31F6557D346A55AFD98173002CA5C4.d.677937984D7829F9A29CF83FF8EA3C31.e.607\")>,\n",
       " <selenium.webdriver.remote.webelement.WebElement (session=\"19b8be79e3a4d0887d90da3320c7ac90\", element=\"f.CA31F6557D346A55AFD98173002CA5C4.d.677937984D7829F9A29CF83FF8EA3C31.e.608\")>,\n",
       " <selenium.webdriver.remote.webelement.WebElement (session=\"19b8be79e3a4d0887d90da3320c7ac90\", element=\"f.CA31F6557D346A55AFD98173002CA5C4.d.677937984D7829F9A29CF83FF8EA3C31.e.609\")>,\n",
       " <selenium.webdriver.remote.webelement.WebElement (session=\"19b8be79e3a4d0887d90da3320c7ac90\", element=\"f.CA31F6557D346A55AFD98173002CA5C4.d.677937984D7829F9A29CF83FF8EA3C31.e.610\")>,\n",
       " <selenium.webdriver.remote.webelement.WebElement (session=\"19b8be79e3a4d0887d90da3320c7ac90\", element=\"f.CA31F6557D346A55AFD98173002CA5C4.d.677937984D7829F9A29CF83FF8EA3C31.e.611\")>,\n",
       " <selenium.webdriver.remote.webelement.WebElement (session=\"19b8be79e3a4d0887d90da3320c7ac90\", element=\"f.CA31F6557D346A55AFD98173002CA5C4.d.677937984D7829F9A29CF83FF8EA3C31.e.612\")>,\n",
       " <selenium.webdriver.remote.webelement.WebElement (session=\"19b8be79e3a4d0887d90da3320c7ac90\", element=\"f.CA31F6557D346A55AFD98173002CA5C4.d.677937984D7829F9A29CF83FF8EA3C31.e.613\")>,\n",
       " <selenium.webdriver.remote.webelement.WebElement (session=\"19b8be79e3a4d0887d90da3320c7ac90\", element=\"f.CA31F6557D346A55AFD98173002CA5C4.d.677937984D7829F9A29CF83FF8EA3C31.e.614\")>,\n",
       " <selenium.webdriver.remote.webelement.WebElement (session=\"19b8be79e3a4d0887d90da3320c7ac90\", element=\"f.CA31F6557D346A55AFD98173002CA5C4.d.677937984D7829F9A29CF83FF8EA3C31.e.615\")>,\n",
       " <selenium.webdriver.remote.webelement.WebElement (session=\"19b8be79e3a4d0887d90da3320c7ac90\", element=\"f.CA31F6557D346A55AFD98173002CA5C4.d.677937984D7829F9A29CF83FF8EA3C31.e.616\")>,\n",
       " <selenium.webdriver.remote.webelement.WebElement (session=\"19b8be79e3a4d0887d90da3320c7ac90\", element=\"f.CA31F6557D346A55AFD98173002CA5C4.d.677937984D7829F9A29CF83FF8EA3C31.e.617\")>,\n",
       " <selenium.webdriver.remote.webelement.WebElement (session=\"19b8be79e3a4d0887d90da3320c7ac90\", element=\"f.CA31F6557D346A55AFD98173002CA5C4.d.677937984D7829F9A29CF83FF8EA3C31.e.618\")>,\n",
       " <selenium.webdriver.remote.webelement.WebElement (session=\"19b8be79e3a4d0887d90da3320c7ac90\", element=\"f.CA31F6557D346A55AFD98173002CA5C4.d.677937984D7829F9A29CF83FF8EA3C31.e.619\")>,\n",
       " <selenium.webdriver.remote.webelement.WebElement (session=\"19b8be79e3a4d0887d90da3320c7ac90\", element=\"f.CA31F6557D346A55AFD98173002CA5C4.d.677937984D7829F9A29CF83FF8EA3C31.e.620\")>,\n",
       " <selenium.webdriver.remote.webelement.WebElement (session=\"19b8be79e3a4d0887d90da3320c7ac90\", element=\"f.CA31F6557D346A55AFD98173002CA5C4.d.677937984D7829F9A29CF83FF8EA3C31.e.621\")>,\n",
       " <selenium.webdriver.remote.webelement.WebElement (session=\"19b8be79e3a4d0887d90da3320c7ac90\", element=\"f.CA31F6557D346A55AFD98173002CA5C4.d.677937984D7829F9A29CF83FF8EA3C31.e.622\")>,\n",
       " <selenium.webdriver.remote.webelement.WebElement (session=\"19b8be79e3a4d0887d90da3320c7ac90\", element=\"f.CA31F6557D346A55AFD98173002CA5C4.d.677937984D7829F9A29CF83FF8EA3C31.e.623\")>,\n",
       " <selenium.webdriver.remote.webelement.WebElement (session=\"19b8be79e3a4d0887d90da3320c7ac90\", element=\"f.CA31F6557D346A55AFD98173002CA5C4.d.677937984D7829F9A29CF83FF8EA3C31.e.624\")>,\n",
       " <selenium.webdriver.remote.webelement.WebElement (session=\"19b8be79e3a4d0887d90da3320c7ac90\", element=\"f.CA31F6557D346A55AFD98173002CA5C4.d.677937984D7829F9A29CF83FF8EA3C31.e.625\")>,\n",
       " <selenium.webdriver.remote.webelement.WebElement (session=\"19b8be79e3a4d0887d90da3320c7ac90\", element=\"f.CA31F6557D346A55AFD98173002CA5C4.d.677937984D7829F9A29CF83FF8EA3C31.e.626\")>,\n",
       " <selenium.webdriver.remote.webelement.WebElement (session=\"19b8be79e3a4d0887d90da3320c7ac90\", element=\"f.CA31F6557D346A55AFD98173002CA5C4.d.677937984D7829F9A29CF83FF8EA3C31.e.627\")>,\n",
       " <selenium.webdriver.remote.webelement.WebElement (session=\"19b8be79e3a4d0887d90da3320c7ac90\", element=\"f.CA31F6557D346A55AFD98173002CA5C4.d.677937984D7829F9A29CF83FF8EA3C31.e.628\")>,\n",
       " <selenium.webdriver.remote.webelement.WebElement (session=\"19b8be79e3a4d0887d90da3320c7ac90\", element=\"f.CA31F6557D346A55AFD98173002CA5C4.d.677937984D7829F9A29CF83FF8EA3C31.e.629\")>,\n",
       " <selenium.webdriver.remote.webelement.WebElement (session=\"19b8be79e3a4d0887d90da3320c7ac90\", element=\"f.CA31F6557D346A55AFD98173002CA5C4.d.677937984D7829F9A29CF83FF8EA3C31.e.630\")>,\n",
       " <selenium.webdriver.remote.webelement.WebElement (session=\"19b8be79e3a4d0887d90da3320c7ac90\", element=\"f.CA31F6557D346A55AFD98173002CA5C4.d.677937984D7829F9A29CF83FF8EA3C31.e.631\")>,\n",
       " <selenium.webdriver.remote.webelement.WebElement (session=\"19b8be79e3a4d0887d90da3320c7ac90\", element=\"f.CA31F6557D346A55AFD98173002CA5C4.d.677937984D7829F9A29CF83FF8EA3C31.e.632\")>,\n",
       " <selenium.webdriver.remote.webelement.WebElement (session=\"19b8be79e3a4d0887d90da3320c7ac90\", element=\"f.CA31F6557D346A55AFD98173002CA5C4.d.677937984D7829F9A29CF83FF8EA3C31.e.633\")>,\n",
       " <selenium.webdriver.remote.webelement.WebElement (session=\"19b8be79e3a4d0887d90da3320c7ac90\", element=\"f.CA31F6557D346A55AFD98173002CA5C4.d.677937984D7829F9A29CF83FF8EA3C31.e.634\")>,\n",
       " <selenium.webdriver.remote.webelement.WebElement (session=\"19b8be79e3a4d0887d90da3320c7ac90\", element=\"f.CA31F6557D346A55AFD98173002CA5C4.d.677937984D7829F9A29CF83FF8EA3C31.e.635\")>,\n",
       " <selenium.webdriver.remote.webelement.WebElement (session=\"19b8be79e3a4d0887d90da3320c7ac90\", element=\"f.CA31F6557D346A55AFD98173002CA5C4.d.677937984D7829F9A29CF83FF8EA3C31.e.636\")>,\n",
       " <selenium.webdriver.remote.webelement.WebElement (session=\"19b8be79e3a4d0887d90da3320c7ac90\", element=\"f.CA31F6557D346A55AFD98173002CA5C4.d.677937984D7829F9A29CF83FF8EA3C31.e.637\")>,\n",
       " <selenium.webdriver.remote.webelement.WebElement (session=\"19b8be79e3a4d0887d90da3320c7ac90\", element=\"f.CA31F6557D346A55AFD98173002CA5C4.d.677937984D7829F9A29CF83FF8EA3C31.e.638\")>,\n",
       " <selenium.webdriver.remote.webelement.WebElement (session=\"19b8be79e3a4d0887d90da3320c7ac90\", element=\"f.CA31F6557D346A55AFD98173002CA5C4.d.677937984D7829F9A29CF83FF8EA3C31.e.639\")>,\n",
       " <selenium.webdriver.remote.webelement.WebElement (session=\"19b8be79e3a4d0887d90da3320c7ac90\", element=\"f.CA31F6557D346A55AFD98173002CA5C4.d.677937984D7829F9A29CF83FF8EA3C31.e.640\")>,\n",
       " <selenium.webdriver.remote.webelement.WebElement (session=\"19b8be79e3a4d0887d90da3320c7ac90\", element=\"f.CA31F6557D346A55AFD98173002CA5C4.d.677937984D7829F9A29CF83FF8EA3C31.e.641\")>,\n",
       " <selenium.webdriver.remote.webelement.WebElement (session=\"19b8be79e3a4d0887d90da3320c7ac90\", element=\"f.CA31F6557D346A55AFD98173002CA5C4.d.677937984D7829F9A29CF83FF8EA3C31.e.642\")>,\n",
       " <selenium.webdriver.remote.webelement.WebElement (session=\"19b8be79e3a4d0887d90da3320c7ac90\", element=\"f.CA31F6557D346A55AFD98173002CA5C4.d.677937984D7829F9A29CF83FF8EA3C31.e.643\")>,\n",
       " <selenium.webdriver.remote.webelement.WebElement (session=\"19b8be79e3a4d0887d90da3320c7ac90\", element=\"f.CA31F6557D346A55AFD98173002CA5C4.d.677937984D7829F9A29CF83FF8EA3C31.e.644\")>,\n",
       " <selenium.webdriver.remote.webelement.WebElement (session=\"19b8be79e3a4d0887d90da3320c7ac90\", element=\"f.CA31F6557D346A55AFD98173002CA5C4.d.677937984D7829F9A29CF83FF8EA3C31.e.645\")>,\n",
       " <selenium.webdriver.remote.webelement.WebElement (session=\"19b8be79e3a4d0887d90da3320c7ac90\", element=\"f.CA31F6557D346A55AFD98173002CA5C4.d.677937984D7829F9A29CF83FF8EA3C31.e.646\")>,\n",
       " <selenium.webdriver.remote.webelement.WebElement (session=\"19b8be79e3a4d0887d90da3320c7ac90\", element=\"f.CA31F6557D346A55AFD98173002CA5C4.d.677937984D7829F9A29CF83FF8EA3C31.e.647\")>]"
      ]
     },
     "execution_count": 14,
     "metadata": {},
     "output_type": "execute_result"
    }
   ],
   "source": [
    "# 전체 상품\n",
    "# <div id=\"composite-card-list\" class=\"compositeCardList_composite_card_list__55sy4\">\n",
    "items = browser.find_element(By.ID, \"composite-card-list\")\n",
    "lis = items.find_elements(By.TAG_NAME, \"li\")\n",
    "lis"
   ]
  },
  {
   "cell_type": "code",
   "execution_count": 15,
   "id": "f2df840b",
   "metadata": {},
   "outputs": [
    {
     "data": {
      "text/plain": [
       "'밤고구마 세척 타박한 여주밤고구마 2kg5kg'"
      ]
     },
     "execution_count": 15,
     "metadata": {},
     "output_type": "execute_result"
    }
   ],
   "source": [
    "# 한개 상품의 상품명\n",
    "#<strong class=\"basicProductCardInformation_title__Bc_Ng\">국내산 24년 햇고구마 꿀고구마10kg 꿀밤 고구마</strong><strong class=\"basicProductCardInformation_title__Bc_Ng\">국내산 24년 햇고구마 꿀고구마10kg 꿀밤 고구마</strong>\n",
    "# lis[0].text\n",
    "# selenium 객체 내 html 태그 확인\n",
    "lis[0].get_attribute(\"innerHTML\") # 객체 내 태그 문자열로 반환\n",
    "lis[0].find_element(By.CSS_SELECTOR, \".basicProductCardInformation_title__Bc_Ng\").text"
   ]
  },
  {
   "cell_type": "code",
   "execution_count": 16,
   "id": "3ba05077",
   "metadata": {},
   "outputs": [
    {
     "data": {
      "text/plain": [
       "'20000'"
      ]
     },
     "execution_count": 16,
     "metadata": {},
     "output_type": "execute_result"
    }
   ],
   "source": [
    "# 상품 가격\n",
    "#<span class=\"priceTag_inner_price__TctbK\">33,800<span class=\"priceTag_unit__IXyyy\">원</span></span>\n",
    "lis[0].find_element(By.CSS_SELECTOR, \".priceTag_inner_price__TctbK\").text.split(\"\\n\")[0].replace(\",\", \"\")"
   ]
  },
  {
   "cell_type": "code",
   "execution_count": 17,
   "id": "f809f239",
   "metadata": {},
   "outputs": [
    {
     "data": {
      "text/plain": [
       "'https://adcr.naver.com/adcr?x=heiDQDpF3ohpcYp/Y6H5E////w==kSZppPOmW1l4VDBxcNMtoLDkt4TSmGYnJTDp2+jnn+VC5K7oWk7EeFOebgPZUy3Rs2EC7X2fN+KfV/AmSxOVf5D21mIjEXnymTBav/+Yp/DfjMvI1uRtBA1SQ+6X1UHVzxoRc5BSa41pPLvs7F5FEZ0qlMUpsU44Hd7ltlbMYWVKahfTP67i0XD3cKr3hTYzDboxuUKQAFMhOW3VQGNxtBU1W6BJ0VQpl8/ABruQL0S9S3jGxxfjqz/+uuk4eqhJ7lIoP19Xy0Dbe6BLSuygN//XO6feS3kfRrKEQyHku/secR4ykqt6aSgE3VQE8qh6WyQvIKynMnidPa3xXjMTCCWnEGVH8Rw9A48vH+ikgqE1d8tc1R3rZAu7BOeFFraMrIkZKMc7lZmjYPUBmCjXP5H9LEYeL8Y1b8owy6FLMjpyZe4BaO/TkVpwYAZL9ftzN5ZLptsR8O2dHnUthb0IxJXKhDdQMVNrdZHWQjwVYhMlslaxBC8mDBeILhov6UwEavB3Rld27S2atRLQzttWMs1I62AGerbDSdBEgFNNPuYQJDYL5Irmkt18UiTkfvqPJL4bPWspzfx5p7+T90wKrFC3qsropU0UqMa1f5l7Clf2CbrmAwxVkev2ouMlve0D8IzOjcTifdZ7WlSivCGoecHOR7e7uRehTrR+sEG5Ivu6sRMHdYDuWUaBEAo410qtYiWiRm+wy2HLkJ33GhCk5wqrkjJVKHFqlrRWkGY6t6eOTFfw893mXUu8Tr9ExnHLDjQMGCXCXBnLlKahK+ZQKgt7HgT6yrtr6+6pYe6As0ZTckFVUtLTrXeqCSxUcbl8yvZW3e0hpcnGDTyU+41P2cEvtqe2GNGeEnuWuIaE7TIrsQvfIRDs19GzAAMIfo+v8ovOjEAHJY5I4Yf7Rt6/Zug==#channelProductNo=4821046505'"
      ]
     },
     "execution_count": 17,
     "metadata": {},
     "output_type": "execute_result"
    }
   ],
   "source": [
    "# 상품링크\n",
    "# 해당 상품에 a태그는 1개 이므로 태그로 추출\n",
    "lis[0].find_element(By.TAG_NAME, \"a\").get_attribute(\"href\")"
   ]
  },
  {
   "cell_type": "code",
   "execution_count": null,
   "id": "e3d523a9",
   "metadata": {},
   "outputs": [
    {
     "name": "stdout",
     "output_type": "stream",
     "text": [
      "밤고구마 세척 타박한 여주밤고구마 2kg5kg 20000 https://adcr.naver.com/adcr?x=heiDQDpF3ohpcYp/Y6H5E////w==kSZppPOmW1l4VDBxcNMtoLDkt4TSmGYnJTDp2+jnn+VC5K7oWk7EeFOebgPZUy3Rs2EC7X2fN+KfV/AmSxOVf5D21mIjEXnymTBav/+Yp/DfjMvI1uRtBA1SQ+6X1UHVzxoRc5BSa41pPLvs7F5FEZ0qlMUpsU44Hd7ltlbMYWVKahfTP67i0XD3cKr3hTYzDboxuUKQAFMhOW3VQGNxtBU1W6BJ0VQpl8/ABruQL0S9S3jGxxfjqz/+uuk4eqhJ7lIoP19Xy0Dbe6BLSuygN//XO6feS3kfRrKEQyHku/secR4ykqt6aSgE3VQE8qh6WyQvIKynMnidPa3xXjMTCCWnEGVH8Rw9A48vH+ikgqE1d8tc1R3rZAu7BOeFFraMrIkZKMc7lZmjYPUBmCjXP5H9LEYeL8Y1b8owy6FLMjpyZe4BaO/TkVpwYAZL9ftzN5ZLptsR8O2dHnUthb0IxJXKhDdQMVNrdZHWQjwVYhMlslaxBC8mDBeILhov6UwEavB3Rld27S2atRLQzttWMs1I62AGerbDSdBEgFNNPuYQJDYL5Irmkt18UiTkfvqPJL4bPWspzfx5p7+T90wKrFC3qsropU0UqMa1f5l7Clf2CbrmAwxVkev2ouMlve0D8IzOjcTifdZ7WlSivCGoecHOR7e7uRehTrR+sEG5Ivu6sRMHdYDuWUaBEAo410qtYiWiRm+wy2HLkJ33GhCk5wqrkjJVKHFqlrRWkGY6t6eOTFfw893mXUu8Tr9ExnHLDjQMGCXCXBnLlKahK+ZQKgt7HgT6yrtr6+6pYe6As0ZTckFVUtLTrXeqCSxUcbl8yvZW3e0hpcnGDTyU+41P2cEvtqe2GNGeEnuWuIaE7TIrsQvfIRDs19GzAAMIfo+v8ovOjEAHJY5I4Yf7Rt6/Zug==#channelProductNo=4821046505\n",
      "산지직송 해들녘 무농약 고창 꿀 고구마 5kg (왕/특상/중/한입) 18000 https://adcr.naver.com/adcr?x=v2OcK8garBa9BDCXHlu3pv///w==kyAee/v8W65FPF6UaVmmWLGolHDTCA+uhD1wm8Na4IlyeA/u+O/8dB+r9lJXBpyIBAfxr4sHKBFlNg1mLpGgJ5nmPoTNX8P3GYhLcvGYSJIQfvScl0xu/ejXLuwPeg63lwdzTha5XzW0NGdtxSnfjKZiSLA2OwwFvSFIZV5D8I0l6cspZNWIFK5qAbJbdY1e3F71w+S1IOc3oOraySxZoN3jTdeu5+Urp04R4lXGMRlTP0Nb3NakKMnKIZc8qX7rTFj5D6FFMAa/ttIShMmtwEEjyC+PKq6b62uIjlWYrsAgV9TfTFuFw7Y1TPIHOK7R7pMRj8szen1rS6BGMeNLNJUYiwBXl5/oeI7zR67d2p9/BglT60vE2DlM8DzF/eHHRRk9yTH+GY42GRYI40fb5w0DZmgv9uXuqlzDnQlhHqyhng+FYLZptn/+VIxSkTR7M3QFSThXXVYpRcC2eHkQlJmaDnYfH+xMvqjmIUgNipptTYzat1AArwPvPNnKyNq3mr/NZNX9ZDsvUqAUhPKr3AkwrOnTSEyJ8QufgNnALuAW8E6iKNWGAbOfKkIuu3Se/i1wf4H1ax1GwhLYwUuTaQVAXUeswOmUsNC1860Jzn0m06jkE6xl34G5cHVFg9TZ0/ljgEaXFXeVfUjM3hNUl8N6KPInebW9vMdRUz7eiUeRxMLZaQMPV2WohldKs2rwF0cSpquQgckl66fcRXgb8F81ELZ51NVCoqPJgeR5tOiCGXUQ3s1QD1OsgpzMj4ZeS06Bv+DbUqOs4FTluZM2iGOxTE3+Y+QNVFLbxLq0rO4vymDbF5B5q4XuiZn6q78cfyNH9t/8F4kRmZXr9GUEm79AiE3Tmar40uR1JcSUHX4kH9TKGxdBC1cr7ISyZrfssvQAZrUUgkQnTkSfDsfBGaQ==#channelProductNo=7199065389\n",
      "전라도 토종 밤고구마 13900 https://adcr.naver.com/adcr?x=gZM1Fd3KkxwSXxLtWTWe+////w==kJzSOk/nEpyclvswPwOw1J7WvehDWrEb8Dc09DE9XrIHyKyz65RGCemh6bjFIi/H8DS6bnzDfl/AA7bBpkdxL6beUe2cZa0VWxoyc1q+Q0aFoFlWSDLKtX7pv3S6S4L6bDH8CgK2VVliV1KIwDmVEo9nvzcwYsOR7IJxJh9Z6+vVsgiPOS6hWr/YiVrPDRojS634c0rfvyPVQCH9+V8KZCmvuYIXPFkMuAAG99LwgHlBBHTJuWKl2BuECwk2Rt5lS9MmNlid5pYkdL+gpNUNF/h31iwdZHKR8OO7C9VtbnJNfpL506LZfuFf8zWrPJKq/AA2okoUg9W3jRqxMfFxnMVqQDXZBuQPL+/HQ89v/8s/hmEpcgs6+12WQoBPHOEuS+bDpUH9w5O3UYuypF9E+djf3ZoR6EfoKoZady112POZLqQ9qrdh46qxHFvlaYS8JBoHfmmRq77yeCmqiKBCWPzu5IqRn0hZaS9NCrGj2Ti+XFtvsyA2AH0AJl0iiLvMiZQDXFEO74IiTDLLzMS5NxHAcytf7Oqw18qviX0HVl+XbTz2UGs0VGKChHbsL3owEmpAgNIlqCqdAZ9Tk1PvOuG0qY937empyCXzG5PrHa1wkQBZgsG/VNcdk1EofhJcqC3YeG3UsST5ahN+NfAWal/8IzbXznPFXNNXzpgjF/kgSoq97s2a2X1SsDSoIBnJAvMXXv70IW+8R1j0kssjsCSA4nmoWDo2ffkLfJiFWgyo8jwbNA5wNlc7AGmD73hLIDO2R33QAKUKh7HSS/8iCGZRetqvH/Zv36JG668l6H3k8C82U+q/D1PG7yn6Olk/bM0SkMOa7O6FK83tc+Ta3Nv5vlJ3rff1PDQt3s9qRx6ttPTt04LKPqGKIw51zL0fOhw7ep26SVLnJnPzrMsU3wQ==#channelProductNo=10798389855\n",
      "해남 꿀 고구마 유황 고구마 황금 베니하루카 농사친구 중상 3kg 5kg 10kg 13900 https://adcr.naver.com/adcr?x=cq4pCD85MOBYDQJZisRxV////w==klEIUbrfak46E0vi73BuAAIjk1TaiTbfLChFRMqVFRfUH8BvcZ1su9sthpBcGKAVQtp7NyONmnQS1MG240cMDUeslzaH/iRvz45jcovP3a4t1D30tL0uBIWeCsGyFpKs5akMO4JCpNnvPEnwcI9QqYoaayW7v4zey7PXqiwi1w9Q5Ni6hv/tOAhtFEgibbDEpiC6ZoH6fVONWHFt9M/U/nSQdGkgJqGqYUTudO3YHubaj53bWv8jB7JGLjSbdu//t4ScTYcdeJWAE0ae58d7+cg4ukgdzYrPzjgFOZhPcWDFWKEjOWQNqlaQesoEru//paOwTXOkfe7rIQZ6gcTijO3CT5orKBm8/z8u9yl9sYMLEAeImSFbNZhXPV/e/3j5A5GCsBQoE6YUVyMO+4e+w2fAJJmTLpancuxho6C3sxYz72J80x6GMiNX5YkYtLxySWL76rZbLXZVB+mY4Q4SIxxqaRpXsAE+SWi4b2YG+63Qj7a/exDovJcFNNtHu/BV9DpAJhqpv+1Ii3vH37s5kTV+cemhnknWqZ5sz/3+nQospW7ug1F0mo1POlg45/fvyhxdOcPQNpPdh3fMCpxv6B4XtSlKrROoqlJzItsQyK27aEcJ1Po0BCstzQLEP7z0xTd7l2qW1WfD3e5gmBAMshdYe1kljJLITtRA8JmaiLvXsJYBMZXaqmqo7fhlWgkjl2Elsk/fy2xYHzC6S3tXmobK0aOmXjTNvQICnU4LLo8xE9aYXm66gVdoewnEyodSwVgAGdZgu5htbiXTJdjlR6vdMwCxrHZIFO7fTpzUf6deAdOhK3VT0KAx3KVzHTs5yxsAioyN4h22HP37gdAapBb6APWpMLbd9uGAHAcFDeqqa4gJCUp+JovBVWrrn07elRTevgPl+kxe57KrvIoZ+bA==#channelProductNo=11002246101\n",
      "영암 세척 꿀 고구마 5kg 3kg 베니하루카 황금호박 26900 https://smartstore.naver.com/main/products/523210042?nl-query=%EA%B3%A0%EA%B5%AC%EB%A7%88&nl-au=5855c0dd57da47bdbb7c08b7b66a38fe&NaPm=ci%3D5855c0dd57da47bdbb7c08b7b66a38fe%7Cct%3Dm5klo5sp%7Ctr%3Dnslspp%7Csn%3D319143%7Chk%3D6d79f5ca3a064cda819099b9447291a6a6fe5d52\n",
      "황토 햇 꿀 고구마 호박고구마 밤고구마 9900 https://smartstore.naver.com/main/products/4856362856?nl-query=%EA%B3%A0%EA%B5%AC%EB%A7%88&nl-au=96163c58bc58493693329b076e307375&NaPm=ci%3D96163c58bc58493693329b076e307375%7Cct%3Dm5klo5sp%7Ctr%3Dnslspp%7Csn%3D813670%7Chk%3D14f2db54f4a3b5d20afbe3f6079c0fb73e569fa7\n",
      "해남 꿀 고구마 3kg 5kg 베니하루카 황금호박고구마 9900 https://smartstore.naver.com/main/products/4454797599?nl-query=%EA%B3%A0%EA%B5%AC%EB%A7%88&nl-au=a2f8681bb2e346789ae5601f8d38701b&NaPm=ci%3Da2f8681bb2e346789ae5601f8d38701b%7Cct%3Dm5klo5sp%7Ctr%3Dnslsl%7Csn%3D313515%7Chk%3Dd790273f8678d514c51540101b2e7869c4de5b7b\n",
      "영암 세척 꿀 고구마 3kg 5kg 베니하루카 황금호박 12900 https://smartstore.naver.com/main/products/5473386730?nl-query=%EA%B3%A0%EA%B5%AC%EB%A7%88&nl-au=06a1f9a17acd41849cf25270eb52b40a&NaPm=ci%3D06a1f9a17acd41849cf25270eb52b40a%7Cct%3Dm5klo5sp%7Ctr%3Dnslsl%7Csn%3D319143%7Chk%3Dfc5214b39dab270f2bdbc7a078cca9946bcfcead\n",
      "토울고구마 유기농 무농약 세척 꿀고구마 호박고구마 5kg 10kg 3kg 2kg 15900 https://smartstore.naver.com/main/products/6056809120?nl-query=%EA%B3%A0%EA%B5%AC%EB%A7%88&nl-au=3f3b80fcf32142e59dac35d48cfb2f0b&NaPm=ci%3D3f3b80fcf32142e59dac35d48cfb2f0b%7Cct%3Dm5klo5sp%7Ctr%3Dnslsl%7Csn%3D4962814%7Chk%3D7b2f5d448bcc1a5391e6c223e389a75332a9416a\n",
      "해남 도시농장고구마 토울황토고구마 못난이 꿀 고구마 10키로 5kg 3kg 11900 https://smartstore.naver.com/main/products/6237807381?nl-query=%EA%B3%A0%EA%B5%AC%EB%A7%88&nl-au=4d191cb9d73847a5878940cf21f007d9&NaPm=ci%3D4d191cb9d73847a5878940cf21f007d9%7Cct%3Dm5klo5sp%7Ctr%3Dnslsl%7Csn%3D1165314%7Chk%3Df871b7ab4690db6cc7d760e2c03d52c49d4c688f\n",
      "영암 토울고구마 베니하루카 꿀고구마 3kg 5kg 10kg 16900 https://smartstore.naver.com/main/products/4658516314?nl-query=%EA%B3%A0%EA%B5%AC%EB%A7%88&nl-au=093e9c803c4946acae3d2518569f299d&NaPm=ci%3D093e9c803c4946acae3d2518569f299d%7Cct%3Dm5klo5sq%7Ctr%3Dnslsl%7Csn%3D1019486%7Chk%3Dbcec1ae8dba88fdab1634459addc98541e879855\n",
      "영암 해남 호박 꿀 밤 고구마 5kg 10kg 베니하루카 호풍미 물 한입 못난이 달수 21900 https://smartstore.naver.com/main/products/341255291?nl-query=%EA%B3%A0%EA%B5%AC%EB%A7%88&nl-au=cc121ff7c5174d8abf0a572f5f5d8954&NaPm=ci%3Dcc121ff7c5174d8abf0a572f5f5d8954%7Cct%3Dm5klo5sq%7Ctr%3Dnslsl%7Csn%3D208445%7Chk%3D9f92891d84603a3f670e4e1ed17265a5da711398\n",
      "해남 꿀밤 고구마 3kg 5kg 10kg 호박 베니하루카 9900 https://smartstore.naver.com/main/products/352710141?nl-query=%EA%B3%A0%EA%B5%AC%EB%A7%88&nl-au=6b572190601149b6aa7a308e652633cf&NaPm=ci%3D6b572190601149b6aa7a308e652633cf%7Cct%3Dm5klo5sq%7Ctr%3Dnslsl%7Csn%3D278926%7Chk%3Ded4759c6947cfa5d20a1011fa7028e0d87fe3f94\n",
      "영암 세척 김의준 꿀고구마 베니하루카 무농약 3kg 5kg 10500 https://smartstore.naver.com/main/products/339273015?nl-query=%EA%B3%A0%EA%B5%AC%EB%A7%88&nl-au=5186570f8e654509acb4a8433b0bfdff&NaPm=ci%3D5186570f8e654509acb4a8433b0bfdff%7Cct%3Dm5klo5sq%7Ctr%3Dnslsl%7Csn%3D288533%7Chk%3Daf6ff4a761d07c63879d4e06333f7ab029ed786c\n",
      "영암 세척 꿀 고구마 10kg 베니하루카 황금호박 40000 https://smartstore.naver.com/main/products/523204066?nl-query=%EA%B3%A0%EA%B5%AC%EB%A7%88&nl-au=17b965c300f64f4aa1e43bc6d8418927&NaPm=ci%3D17b965c300f64f4aa1e43bc6d8418927%7Cct%3Dm5klo5sq%7Ctr%3Dnslsl%7Csn%3D319143%7Chk%3Dd77c8b23d64358a4962dc32ed290f14efdd06dbe\n"
     ]
    }
   ],
   "source": [
    "# 20번 스크롤해서 찾은 모든 상품에 대한 상품명, 가격, 링크 추출(출력)\n",
    "for item in lis:\n",
    "    try:\n",
    "        name = item.find_element(By.CSS_SELECTOR,'.basicProductCardInformation_title__Bc_Ng').text    \n",
    "        price = item.find_element(By.CSS_SELECTOR,'.priceTag_inner_price__TctbK').text.split('\\n')[0].replace(',','')\n",
    "        link = item.find_element(By.TAG_NAME,'a').get_attribute('href')\n",
    "    except:\n",
    "        name = '판매중단'\n",
    "        price = '판매중단'\n",
    "        link = '판매중단'\n",
    "    print(name, price, link)\n",
    "    break\n"
   ]
  },
  {
   "cell_type": "markdown",
   "id": "13474243",
   "metadata": {},
   "source": [
    "## 코드 정리 후 DF 구성"
   ]
  },
  {
   "cell_type": "code",
   "execution_count": null,
   "id": "4a0a8967",
   "metadata": {},
   "outputs": [],
   "source": [
    "# 20번 스크롤해서 찾은 모든 상품에 대한 상품명, 가격, 링크 추출(출력)\n",
    "name, price, link = [[] for _ in range(3)]\n",
    "\n",
    "for item in lis:\n",
    "    try:\n",
    "        n = item.find_element(By.CSS_SELECTOR,'.basicProductCardInformation_title__Bc_Ng').text    \n",
    "        p = item.find_element(By.CSS_SELECTOR,'.priceTag_inner_price__TctbK').text.split('\\n')[0].replace(',','')\n",
    "        l = item.find_element(By.TAG_NAME,'a').get_attribute('href')\n",
    "    except:\n",
    "        n = '판매중단'\n",
    "        p = '판매중단'\n",
    "        l = '판매중단'\n",
    "    name.append(n)\n",
    "    price.append(p)\n",
    "    link.append(l)"
   ]
  },
  {
   "cell_type": "code",
   "execution_count": null,
   "id": "bd157787",
   "metadata": {},
   "outputs": [],
   "source": [
    "df = pd.DataFrame({\"품명\":name, \"가격\":price, \"link\":link})"
   ]
  },
  {
   "cell_type": "code",
   "execution_count": 6,
   "id": "a4269e42",
   "metadata": {},
   "outputs": [],
   "source": [
    "browser.close()\n",
    "browser.switch_to.window(browser.window_handles[0])\n",
    "browser.close()"
   ]
  },
  {
   "cell_type": "markdown",
   "id": "5700ad8d",
   "metadata": {},
   "source": [
    "### 창의 크기가 작을 때\n",
    "- 모바일 버전으로 변경된 것\n",
    "    - 태그를 다시 확인해서 진행할 필요가 생긴다"
   ]
  },
  {
   "cell_type": "code",
   "execution_count": null,
   "id": "8afc9f60",
   "metadata": {},
   "outputs": [],
   "source": []
  },
  {
   "cell_type": "code",
   "execution_count": null,
   "id": "796d21c8",
   "metadata": {},
   "outputs": [],
   "source": []
  }
 ],
 "metadata": {
  "kernelspec": {
   "display_name": "“scrapSrc",
   "language": "python",
   "name": "scraping_source"
  },
  "language_info": {
   "codemirror_mode": {
    "name": "ipython",
    "version": 3
   },
   "file_extension": ".py",
   "mimetype": "text/x-python",
   "name": "python",
   "nbconvert_exporter": "python",
   "pygments_lexer": "ipython3",
   "version": "3.12.7"
  }
 },
 "nbformat": 4,
 "nbformat_minor": 5
}
