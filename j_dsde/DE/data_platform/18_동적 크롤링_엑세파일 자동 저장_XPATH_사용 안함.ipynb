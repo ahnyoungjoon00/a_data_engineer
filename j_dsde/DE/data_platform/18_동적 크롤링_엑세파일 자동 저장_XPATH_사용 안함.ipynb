{
 "cells": [
  {
   "cell_type": "markdown",
   "id": "7892299c-9060-4714-bf37-d9ac310a1c3a",
   "metadata": {},
   "source": [
    "### 서울시 주유소 가격 정보를 갖고 있는 엑셀 파일 자동 다운로드"
   ]
  },
  {
   "cell_type": "markdown",
   "id": "b2446715-eea3-4885-bc7c-84e019f58aa5",
   "metadata": {},
   "source": [
    "#### Opinet 사이트  \n",
    "https://www.opinet.co.kr/user/main/mainView.do  \n",
    "주유소의 가격을 비교하는 사이트  \n"
   ]
  },
  {
   "cell_type": "code",
   "execution_count": 55,
   "id": "2ee2e5e6-f478-464c-a7ac-3a4921de61a1",
   "metadata": {},
   "outputs": [],
   "source": [
    "# 메뉴에서 [싼 주유소 찾기] / [지역별]\n",
    "# 이 페이지부터 시작\n",
    "# https://www.opinet.co.kr/searRgSelect.do\n",
    "# 접속한 지역으로 자동 설정됨\n",
    "# 지역을 [서울] / [강남구] 로 선택 : 동일 data 추출 확인을 위해\n",
    "# 실제 사용시에는 광역시도부터 선택 가능하도록 코드 구성"
   ]
  },
  {
   "cell_type": "code",
   "execution_count": 56,
   "id": "19a04a12-72a0-4549-838e-e4535eb0eda4",
   "metadata": {},
   "outputs": [],
   "source": [
    "from IPython.core.interactiveshell import InteractiveShell\n",
    "InteractiveShell.ast_node_interactivity=\"all\""
   ]
  },
  {
   "cell_type": "code",
   "execution_count": 57,
   "id": "e4373992-445c-4500-b735-497504c33354",
   "metadata": {},
   "outputs": [],
   "source": [
    "from urllib.request import urlopen\n",
    "import pandas as pd\n",
    "import bs4"
   ]
  },
  {
   "cell_type": "code",
   "execution_count": 58,
   "id": "7aa3d0d3-2d4c-4cda-b5f6-44601385278e",
   "metadata": {},
   "outputs": [],
   "source": [
    "import selenium\n",
    "from selenium import webdriver\n",
    "from selenium.webdriver.common.by import By # 셀레니움 4.0부터 포함된 객체(모듈)\n",
    "\n",
    "from selenium.webdriver.chrome.service import Service\n",
    "from webdriver_manager.chrome import ChromeDriverManager"
   ]
  },
  {
   "cell_type": "code",
   "execution_count": 59,
   "id": "2d5ed0a2-a9bb-4441-b7c1-feb952d1160c",
   "metadata": {},
   "outputs": [],
   "source": [
    "# (1) webdriver 객체 생성\n",
    "chrome_options = webdriver.ChromeOptions()\n",
    "driver = webdriver.Chrome(service=Service(ChromeDriverManager().install()), options=chrome_options)"
   ]
  },
  {
   "cell_type": "code",
   "execution_count": 60,
   "id": "393c05a3-e2de-40f7-ba9f-ec598329a2e8",
   "metadata": {},
   "outputs": [],
   "source": [
    "# 페이지 접속\n",
    "url = 'https://www.opinet.co.kr/searRgSelect.do'\n",
    "driver.get(url)\n",
    "\n",
    "# 다른 지역에서 접속 시\n",
    "# 페이지 열리면\n",
    "# 서울 강남구 선택"
   ]
  },
  {
   "cell_type": "markdown",
   "id": "74477a43-b9e8-4a03-a732-f7393537381e",
   "metadata": {},
   "source": [
    "#### 구 이름 추출\n",
    "- 구 이름을 컨트롤 되는 브라우저로 보내야 해당구의 정보요청이 가능\n",
    "    - 브라우저의 소스를 통해서 구 이름을 추출해서 사용해야함"
   ]
  },
  {
   "cell_type": "code",
   "execution_count": 62,
   "id": "c8bf2e19-e0f4-41ee-835b-8e909414b52a",
   "metadata": {},
   "outputs": [
    {
     "data": {
      "text/plain": [
       "<selenium.webdriver.remote.webelement.WebElement (session=\"de2266aea4e4b1378987601169c0cf18\", element=\"f.38EAA898C70034366EC179EBD17D5BCD.d.9DECB620D228BAFF152619D95B33A742.e.46\")>"
      ]
     },
     "execution_count": 62,
     "metadata": {},
     "output_type": "execute_result"
    },
    {
     "data": {
      "text/plain": [
       "52"
      ]
     },
     "execution_count": 62,
     "metadata": {},
     "output_type": "execute_result"
    }
   ],
   "source": [
    "# 구 <select> 태그 \n",
    "# id : SIGUNGU_NM0\n",
    "# id 선택자 사용\n",
    "gu_data = driver.find_element(By.ID, \"SIGUNGU_NM0\")\n",
    "gu_data\n",
    "\n",
    "# <option> 태그 \n",
    "len(gu_data.find_elements(By.TAG_NAME, \"option\"))\n",
    "gu_list = gu_data.find_elements(By.TAG_NAME, \"option\")\n"
   ]
  },
  {
   "cell_type": "code",
   "execution_count": 63,
   "id": "1eebd9bf-cfc9-49a2-9cc5-3e2efbee6162",
   "metadata": {},
   "outputs": [
    {
     "data": {
      "text/plain": [
       "51"
      ]
     },
     "execution_count": 63,
     "metadata": {},
     "output_type": "execute_result"
    }
   ],
   "source": [
    "# element에서 속성값 추출 \n",
    "# <select> 태그 내의 <option> 태그의 value 속성\n",
    "# for opt in gu_list :\n",
    "#     print(opt.get_attribute(\"value\"))\n",
    "\n",
    "gu_name_list = [opt.get_attribute(\"value\") for opt in gu_list][1:]\n",
    "# gu_name_list = [opt.get_attribute(\"value\") for opt in gu_list].remove(\"\")\n",
    "len(gu_name_list)"
   ]
  },
  {
   "cell_type": "markdown",
   "id": "164c4a3d-c6ae-4482-b4d6-71a2d805ae47",
   "metadata": {},
   "source": [
    "### 추출된 gu 이름을 브라우저쪽으로 전송\n",
    "- 동적변화가 자동으로 일어나는지 확인"
   ]
  },
  {
   "cell_type": "code",
   "execution_count": 64,
   "id": "d9307fc3-83fa-408c-8a64-e45ae0f9298e",
   "metadata": {},
   "outputs": [],
   "source": [
    "# 테스트\n",
    "# gu_name_list에 이쓴 구 이름에 해당되는 페이지가 동적으로 바뀌는지 확인\n",
    "# 첫 번째 구 이름(강남구)으로 확인\n",
    "sigungu_sel = driver.find_element(By.ID, \"SIGUNGU_NM0\")\n",
    "\n",
    "# option 태그의 value 값을 가져와서 \n",
    "# send_keys(구이름) 호출하면서 전달 (입력 값 전달)\n",
    "# 입력값에 해당되는 화면으로 전환되고\n",
    "# 전환된  화면에 바뀐 데이터 출력 \n",
    "sigungu_sel.send_keys(gu_name_list[3])\n",
    "driver.find_element(By.CSS_SELECTOR ,\".btn_type6_ex_save\").click()\n",
    "\n",
    "# 인덱스 숫자 변경하면 지도에서 해당구의 지도로 자동 변경되는지 확인\n",
    "# send_keys() : 값을 전달해서 웹 브라우저 내용을 동적으로 변경하는 메소드\n",
    "# 값을 form태그에 전달하고ㅡ 자동으로 select onchange이벤트가 발생하도록 site가 구현되어 있음"
   ]
  },
  {
   "cell_type": "code",
   "execution_count": null,
   "id": "4f5236c0-7c00-403e-b2df-d08b8cfbad55",
   "metadata": {},
   "outputs": [],
   "source": [
    "# 선택자로 선택\n",
    "# 기능 수행 : 다음 페이지로 전환해서 페이지 내의 데이터 추출\n",
    "# 기능 수행 메소드 2가지 방법\n",
    "# (1) send_keys()\n",
    "# (2) click()"
   ]
  },
  {
   "cell_type": "code",
   "execution_count": null,
   "id": "06937886-06d8-43ea-bf7b-d0f524fba74c",
   "metadata": {},
   "outputs": [],
   "source": [
    "# 엑셀 파일  자동 저장\n",
    "# 왼쪽 주유 가격 맨 아래에 [엑셀저장] 버튼을 자동 실행시켜서\n",
    "# 모든 구의  주유  정보를 포함하는 엑셀 파일을 자동으로 다운로드"
   ]
  },
  {
   "cell_type": "code",
   "execution_count": 11,
   "id": "2c766fb5-6b89-4ab5-a9e3-917932259553",
   "metadata": {},
   "outputs": [],
   "source": [
    "# 테스트 : 1개 파일 다운로드 되는지 확인 : 강북구 선택\n",
    "# <a> 태그 class=\"btn_type6_ex_save\" 내 <span> 태그\n",
    "\n",
    "\n",
    "# 1개 파일 다운로드 됨 : 열어서 확인"
   ]
  },
  {
   "cell_type": "code",
   "execution_count": 28,
   "id": "13ded5ad-715b-47cb-a298-f94cf4a628ed",
   "metadata": {},
   "outputs": [],
   "source": []
  },
  {
   "cell_type": "code",
   "execution_count": 65,
   "id": "58c90b38-e204-4518-b8f2-cc5eca53cf59",
   "metadata": {},
   "outputs": [],
   "source": [
    "driver.close()"
   ]
  },
  {
   "cell_type": "code",
   "execution_count": null,
   "id": "cdfb86c3-40c1-44a8-9846-438e1076af08",
   "metadata": {},
   "outputs": [],
   "source": []
  },
  {
   "cell_type": "markdown",
   "id": "ffc5188f-4971-414a-9aa6-a7f6024797e6",
   "metadata": {},
   "source": [
    "#### 서울 시 모든 구의 주유가격 정보 파일 자동 다운로드"
   ]
  },
  {
   "cell_type": "code",
   "execution_count": 66,
   "id": "6b3467a7-fb54-4e42-889c-925ce9520e41",
   "metadata": {},
   "outputs": [],
   "source": [
    "# (1) webdriver 객체 생성\n",
    "chrome_options = webdriver.ChromeOptions()\n",
    "driver = webdriver.Chrome(service=Service(ChromeDriverManager().install()), options=chrome_options)"
   ]
  },
  {
   "cell_type": "code",
   "execution_count": 67,
   "id": "1df3c37f-67c4-4a6c-a27b-dc0ac534230c",
   "metadata": {},
   "outputs": [],
   "source": [
    "# 페이지 접속\n",
    "url = 'https://www.opinet.co.kr/searRgSelect.do'\n",
    "driver.get(url)\n",
    "\n",
    "# 다른 지역에서 접속 시\n",
    "# 페이지 열리면\n",
    "# 서울 강남구 선택"
   ]
  },
  {
   "cell_type": "code",
   "execution_count": 68,
   "id": "6ade8cd8-f3e3-4357-bf7a-24b7af498e55",
   "metadata": {},
   "outputs": [],
   "source": [
    "# 진행 상황 표시 (프로그레스 바 출력하) : tqdm 패키지 사용\n",
    "# !pip install tqdm"
   ]
  },
  {
   "cell_type": "code",
   "execution_count": 75,
   "id": "ae04db42-9e57-4b5e-9858-df5db31e036a",
   "metadata": {},
   "outputs": [],
   "source": [
    "from tqdm import tqdm\n",
    "import time"
   ]
  },
  {
   "cell_type": "code",
   "execution_count": 76,
   "id": "2e8ace13-079c-4b14-8d5b-adc6d7f1f0fb",
   "metadata": {},
   "outputs": [],
   "source": [
    "# (1) webdriver 객체 생성\n",
    "chrome_options = webdriver.ChromeOptions()\n",
    "driver = webdriver.Chrome(service=Service(ChromeDriverManager().install()), options=chrome_options)\n",
    "# 페이지 접속\n",
    "url = 'https://www.opinet.co.kr/searRgSelect.do'\n",
    "driver.get(url)"
   ]
  },
  {
   "cell_type": "code",
   "execution_count": 79,
   "id": "e3ccea22",
   "metadata": {},
   "outputs": [
    {
     "data": {
      "text/plain": [
       "[<selenium.webdriver.remote.webelement.WebElement (session=\"de2266aea4e4b1378987601169c0cf18\", element=\"f.38EAA898C70034366EC179EBD17D5BCD.d.9DECB620D228BAFF152619D95B33A742.e.120\")>,\n",
       " <selenium.webdriver.remote.webelement.WebElement (session=\"de2266aea4e4b1378987601169c0cf18\", element=\"f.38EAA898C70034366EC179EBD17D5BCD.d.9DECB620D228BAFF152619D95B33A742.e.122\")>,\n",
       " <selenium.webdriver.remote.webelement.WebElement (session=\"de2266aea4e4b1378987601169c0cf18\", element=\"f.38EAA898C70034366EC179EBD17D5BCD.d.9DECB620D228BAFF152619D95B33A742.e.124\")>,\n",
       " <selenium.webdriver.remote.webelement.WebElement (session=\"de2266aea4e4b1378987601169c0cf18\", element=\"f.38EAA898C70034366EC179EBD17D5BCD.d.9DECB620D228BAFF152619D95B33A742.e.126\")>,\n",
       " <selenium.webdriver.remote.webelement.WebElement (session=\"de2266aea4e4b1378987601169c0cf18\", element=\"f.38EAA898C70034366EC179EBD17D5BCD.d.9DECB620D228BAFF152619D95B33A742.e.128\")>,\n",
       " <selenium.webdriver.remote.webelement.WebElement (session=\"de2266aea4e4b1378987601169c0cf18\", element=\"f.38EAA898C70034366EC179EBD17D5BCD.d.9DECB620D228BAFF152619D95B33A742.e.130\")>,\n",
       " <selenium.webdriver.remote.webelement.WebElement (session=\"de2266aea4e4b1378987601169c0cf18\", element=\"f.38EAA898C70034366EC179EBD17D5BCD.d.9DECB620D228BAFF152619D95B33A742.e.132\")>,\n",
       " <selenium.webdriver.remote.webelement.WebElement (session=\"de2266aea4e4b1378987601169c0cf18\", element=\"f.38EAA898C70034366EC179EBD17D5BCD.d.9DECB620D228BAFF152619D95B33A742.e.134\")>,\n",
       " <selenium.webdriver.remote.webelement.WebElement (session=\"de2266aea4e4b1378987601169c0cf18\", element=\"f.38EAA898C70034366EC179EBD17D5BCD.d.9DECB620D228BAFF152619D95B33A742.e.136\")>,\n",
       " <selenium.webdriver.remote.webelement.WebElement (session=\"de2266aea4e4b1378987601169c0cf18\", element=\"f.38EAA898C70034366EC179EBD17D5BCD.d.9DECB620D228BAFF152619D95B33A742.e.138\")>,\n",
       " <selenium.webdriver.remote.webelement.WebElement (session=\"de2266aea4e4b1378987601169c0cf18\", element=\"f.38EAA898C70034366EC179EBD17D5BCD.d.9DECB620D228BAFF152619D95B33A742.e.140\")>,\n",
       " <selenium.webdriver.remote.webelement.WebElement (session=\"de2266aea4e4b1378987601169c0cf18\", element=\"f.38EAA898C70034366EC179EBD17D5BCD.d.9DECB620D228BAFF152619D95B33A742.e.142\")>,\n",
       " <selenium.webdriver.remote.webelement.WebElement (session=\"de2266aea4e4b1378987601169c0cf18\", element=\"f.38EAA898C70034366EC179EBD17D5BCD.d.9DECB620D228BAFF152619D95B33A742.e.144\")>,\n",
       " <selenium.webdriver.remote.webelement.WebElement (session=\"de2266aea4e4b1378987601169c0cf18\", element=\"f.38EAA898C70034366EC179EBD17D5BCD.d.9DECB620D228BAFF152619D95B33A742.e.146\")>,\n",
       " <selenium.webdriver.remote.webelement.WebElement (session=\"de2266aea4e4b1378987601169c0cf18\", element=\"f.38EAA898C70034366EC179EBD17D5BCD.d.9DECB620D228BAFF152619D95B33A742.e.148\")>,\n",
       " <selenium.webdriver.remote.webelement.WebElement (session=\"de2266aea4e4b1378987601169c0cf18\", element=\"f.38EAA898C70034366EC179EBD17D5BCD.d.9DECB620D228BAFF152619D95B33A742.e.150\")>,\n",
       " <selenium.webdriver.remote.webelement.WebElement (session=\"de2266aea4e4b1378987601169c0cf18\", element=\"f.38EAA898C70034366EC179EBD17D5BCD.d.9DECB620D228BAFF152619D95B33A742.e.152\")>,\n",
       " <selenium.webdriver.remote.webelement.WebElement (session=\"de2266aea4e4b1378987601169c0cf18\", element=\"f.38EAA898C70034366EC179EBD17D5BCD.d.9DECB620D228BAFF152619D95B33A742.e.154\")>,\n",
       " <selenium.webdriver.remote.webelement.WebElement (session=\"de2266aea4e4b1378987601169c0cf18\", element=\"f.38EAA898C70034366EC179EBD17D5BCD.d.9DECB620D228BAFF152619D95B33A742.e.156\")>,\n",
       " <selenium.webdriver.remote.webelement.WebElement (session=\"de2266aea4e4b1378987601169c0cf18\", element=\"f.38EAA898C70034366EC179EBD17D5BCD.d.9DECB620D228BAFF152619D95B33A742.e.158\")>,\n",
       " <selenium.webdriver.remote.webelement.WebElement (session=\"de2266aea4e4b1378987601169c0cf18\", element=\"f.38EAA898C70034366EC179EBD17D5BCD.d.9DECB620D228BAFF152619D95B33A742.e.160\")>,\n",
       " <selenium.webdriver.remote.webelement.WebElement (session=\"de2266aea4e4b1378987601169c0cf18\", element=\"f.38EAA898C70034366EC179EBD17D5BCD.d.9DECB620D228BAFF152619D95B33A742.e.162\")>,\n",
       " <selenium.webdriver.remote.webelement.WebElement (session=\"de2266aea4e4b1378987601169c0cf18\", element=\"f.38EAA898C70034366EC179EBD17D5BCD.d.9DECB620D228BAFF152619D95B33A742.e.164\")>,\n",
       " <selenium.webdriver.remote.webelement.WebElement (session=\"de2266aea4e4b1378987601169c0cf18\", element=\"f.38EAA898C70034366EC179EBD17D5BCD.d.9DECB620D228BAFF152619D95B33A742.e.166\")>,\n",
       " <selenium.webdriver.remote.webelement.WebElement (session=\"de2266aea4e4b1378987601169c0cf18\", element=\"f.38EAA898C70034366EC179EBD17D5BCD.d.9DECB620D228BAFF152619D95B33A742.e.168\")>,\n",
       " <selenium.webdriver.remote.webelement.WebElement (session=\"de2266aea4e4b1378987601169c0cf18\", element=\"f.38EAA898C70034366EC179EBD17D5BCD.d.9DECB620D228BAFF152619D95B33A742.e.170\")>,\n",
       " <selenium.webdriver.remote.webelement.WebElement (session=\"de2266aea4e4b1378987601169c0cf18\", element=\"f.38EAA898C70034366EC179EBD17D5BCD.d.9DECB620D228BAFF152619D95B33A742.e.172\")>,\n",
       " <selenium.webdriver.remote.webelement.WebElement (session=\"de2266aea4e4b1378987601169c0cf18\", element=\"f.38EAA898C70034366EC179EBD17D5BCD.d.9DECB620D228BAFF152619D95B33A742.e.174\")>,\n",
       " <selenium.webdriver.remote.webelement.WebElement (session=\"de2266aea4e4b1378987601169c0cf18\", element=\"f.38EAA898C70034366EC179EBD17D5BCD.d.9DECB620D228BAFF152619D95B33A742.e.176\")>,\n",
       " <selenium.webdriver.remote.webelement.WebElement (session=\"de2266aea4e4b1378987601169c0cf18\", element=\"f.38EAA898C70034366EC179EBD17D5BCD.d.9DECB620D228BAFF152619D95B33A742.e.178\")>,\n",
       " <selenium.webdriver.remote.webelement.WebElement (session=\"de2266aea4e4b1378987601169c0cf18\", element=\"f.38EAA898C70034366EC179EBD17D5BCD.d.9DECB620D228BAFF152619D95B33A742.e.180\")>,\n",
       " <selenium.webdriver.remote.webelement.WebElement (session=\"de2266aea4e4b1378987601169c0cf18\", element=\"f.38EAA898C70034366EC179EBD17D5BCD.d.9DECB620D228BAFF152619D95B33A742.e.182\")>,\n",
       " <selenium.webdriver.remote.webelement.WebElement (session=\"de2266aea4e4b1378987601169c0cf18\", element=\"f.38EAA898C70034366EC179EBD17D5BCD.d.9DECB620D228BAFF152619D95B33A742.e.184\")>,\n",
       " <selenium.webdriver.remote.webelement.WebElement (session=\"de2266aea4e4b1378987601169c0cf18\", element=\"f.38EAA898C70034366EC179EBD17D5BCD.d.9DECB620D228BAFF152619D95B33A742.e.186\")>,\n",
       " <selenium.webdriver.remote.webelement.WebElement (session=\"de2266aea4e4b1378987601169c0cf18\", element=\"f.38EAA898C70034366EC179EBD17D5BCD.d.9DECB620D228BAFF152619D95B33A742.e.188\")>,\n",
       " <selenium.webdriver.remote.webelement.WebElement (session=\"de2266aea4e4b1378987601169c0cf18\", element=\"f.38EAA898C70034366EC179EBD17D5BCD.d.9DECB620D228BAFF152619D95B33A742.e.190\")>,\n",
       " <selenium.webdriver.remote.webelement.WebElement (session=\"de2266aea4e4b1378987601169c0cf18\", element=\"f.38EAA898C70034366EC179EBD17D5BCD.d.9DECB620D228BAFF152619D95B33A742.e.192\")>,\n",
       " <selenium.webdriver.remote.webelement.WebElement (session=\"de2266aea4e4b1378987601169c0cf18\", element=\"f.38EAA898C70034366EC179EBD17D5BCD.d.9DECB620D228BAFF152619D95B33A742.e.194\")>,\n",
       " <selenium.webdriver.remote.webelement.WebElement (session=\"de2266aea4e4b1378987601169c0cf18\", element=\"f.38EAA898C70034366EC179EBD17D5BCD.d.9DECB620D228BAFF152619D95B33A742.e.196\")>,\n",
       " <selenium.webdriver.remote.webelement.WebElement (session=\"de2266aea4e4b1378987601169c0cf18\", element=\"f.38EAA898C70034366EC179EBD17D5BCD.d.9DECB620D228BAFF152619D95B33A742.e.198\")>,\n",
       " <selenium.webdriver.remote.webelement.WebElement (session=\"de2266aea4e4b1378987601169c0cf18\", element=\"f.38EAA898C70034366EC179EBD17D5BCD.d.9DECB620D228BAFF152619D95B33A742.e.200\")>,\n",
       " <selenium.webdriver.remote.webelement.WebElement (session=\"de2266aea4e4b1378987601169c0cf18\", element=\"f.38EAA898C70034366EC179EBD17D5BCD.d.9DECB620D228BAFF152619D95B33A742.e.202\")>,\n",
       " <selenium.webdriver.remote.webelement.WebElement (session=\"de2266aea4e4b1378987601169c0cf18\", element=\"f.38EAA898C70034366EC179EBD17D5BCD.d.9DECB620D228BAFF152619D95B33A742.e.204\")>,\n",
       " <selenium.webdriver.remote.webelement.WebElement (session=\"de2266aea4e4b1378987601169c0cf18\", element=\"f.38EAA898C70034366EC179EBD17D5BCD.d.9DECB620D228BAFF152619D95B33A742.e.206\")>,\n",
       " <selenium.webdriver.remote.webelement.WebElement (session=\"de2266aea4e4b1378987601169c0cf18\", element=\"f.38EAA898C70034366EC179EBD17D5BCD.d.9DECB620D228BAFF152619D95B33A742.e.208\")>,\n",
       " <selenium.webdriver.remote.webelement.WebElement (session=\"de2266aea4e4b1378987601169c0cf18\", element=\"f.38EAA898C70034366EC179EBD17D5BCD.d.9DECB620D228BAFF152619D95B33A742.e.210\")>,\n",
       " <selenium.webdriver.remote.webelement.WebElement (session=\"de2266aea4e4b1378987601169c0cf18\", element=\"f.38EAA898C70034366EC179EBD17D5BCD.d.9DECB620D228BAFF152619D95B33A742.e.212\")>,\n",
       " <selenium.webdriver.remote.webelement.WebElement (session=\"de2266aea4e4b1378987601169c0cf18\", element=\"f.38EAA898C70034366EC179EBD17D5BCD.d.9DECB620D228BAFF152619D95B33A742.e.214\")>,\n",
       " <selenium.webdriver.remote.webelement.WebElement (session=\"de2266aea4e4b1378987601169c0cf18\", element=\"f.38EAA898C70034366EC179EBD17D5BCD.d.9DECB620D228BAFF152619D95B33A742.e.216\")>,\n",
       " <selenium.webdriver.remote.webelement.WebElement (session=\"de2266aea4e4b1378987601169c0cf18\", element=\"f.38EAA898C70034366EC179EBD17D5BCD.d.9DECB620D228BAFF152619D95B33A742.e.218\")>,\n",
       " <selenium.webdriver.remote.webelement.WebElement (session=\"de2266aea4e4b1378987601169c0cf18\", element=\"f.38EAA898C70034366EC179EBD17D5BCD.d.9DECB620D228BAFF152619D95B33A742.e.220\")>,\n",
       " <selenium.webdriver.remote.webelement.WebElement (session=\"de2266aea4e4b1378987601169c0cf18\", element=\"f.38EAA898C70034366EC179EBD17D5BCD.d.9DECB620D228BAFF152619D95B33A742.e.222\")>]"
      ]
     },
     "execution_count": 79,
     "metadata": {},
     "output_type": "execute_result"
    }
   ],
   "source": [
    "gu_list"
   ]
  },
  {
   "cell_type": "code",
   "execution_count": 81,
   "id": "0c7259a4",
   "metadata": {},
   "outputs": [
    {
     "data": {
      "text/plain": [
       "25"
      ]
     },
     "execution_count": 81,
     "metadata": {},
     "output_type": "execute_result"
    }
   ],
   "source": [
    "gu_data = driver.find_element(By.ID, \"SIGUNGU_NM0\")\n",
    "gu_list = gu_data.find_elements(By.TAG_NAME, \"option\")\n",
    "gu_name_list = [opt.get_attribute(\"value\") for opt in gu_list][1:]\n",
    "# gu_name_list = [opt.get_attribute(\"value\") for opt in gu_list].remove(\"\")\n",
    "len(gu_name_list)"
   ]
  },
  {
   "cell_type": "code",
   "execution_count": 83,
   "id": "93fc598b-313f-4e41-8542-34b2d9094d51",
   "metadata": {},
   "outputs": [
    {
     "name": "stderr",
     "output_type": "stream",
     "text": [
      "100%|██████████| 25/25 [01:15<00:00,  3.00s/it]\n"
     ]
    }
   ],
   "source": [
    "# 페이지 이동하면서 서울시 모든 구 파일 저장\n",
    "for gu in tqdm(gu_name_list):\n",
    "    sigungu_sel = driver.find_element(By.ID, \"SIGUNGU_NM0\")\n",
    "    sigungu_sel.send_keys(gu)\n",
    "\n",
    "    time.sleep(1)\n",
    "\n",
    "    btn = driver.find_element(By.CSS_SELECTOR, \".btn_type6_ex_save\")\n",
    "    btn.click()\n",
    "\n",
    "    time.sleep(1)\n"
   ]
  },
  {
   "cell_type": "code",
   "execution_count": 51,
   "id": "2d222652",
   "metadata": {},
   "outputs": [],
   "source": [
    "driver.close()"
   ]
  },
  {
   "cell_type": "code",
   "execution_count": null,
   "id": "10d1e284",
   "metadata": {},
   "outputs": [],
   "source": []
  }
 ],
 "metadata": {
  "kernelspec": {
   "display_name": "“scrapSrc",
   "language": "python",
   "name": "scraping_source"
  },
  "language_info": {
   "codemirror_mode": {
    "name": "ipython",
    "version": 3
   },
   "file_extension": ".py",
   "mimetype": "text/x-python",
   "name": "python",
   "nbconvert_exporter": "python",
   "pygments_lexer": "ipython3",
   "version": "3.12.7"
  }
 },
 "nbformat": 4,
 "nbformat_minor": 5
}
