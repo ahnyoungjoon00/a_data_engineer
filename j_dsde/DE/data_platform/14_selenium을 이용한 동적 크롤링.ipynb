{
 "cells": [
  {
   "cell_type": "markdown",
   "id": "f410e3ad-ddf9-4eb7-94f3-4190cd5503c8",
   "metadata": {},
   "source": [
    "### 동적 페이지 크롤링"
   ]
  },
  {
   "cell_type": "code",
   "execution_count": 1,
   "id": "bfc2f0ba-783b-4833-8515-f516e02b8b20",
   "metadata": {},
   "outputs": [],
   "source": [
    "from IPython.core.interactiveshell import InteractiveShell\n",
    "InteractiveShell.ast_node_interactivity=\"all\""
   ]
  },
  {
   "cell_type": "code",
   "execution_count": 2,
   "id": "12e0430b-08cb-4644-a5b7-cef6f88c13b5",
   "metadata": {},
   "outputs": [],
   "source": [
    "from urllib.request import urlopen\n",
    "import pandas as pd\n",
    "from bs4 import BeautifulSoup"
   ]
  },
  {
   "cell_type": "markdown",
   "id": "90971448-17b9-4904-9fda-28225c1ced19",
   "metadata": {},
   "source": [
    "#### 실행 중에 자바스크립트를통해 동적으로 변환된 값 추출\n",
    "- 비동기 통신 기술을 활용해 실시간으로 변화되는 값을 추출   \n",
    "- 정적 페이지에서는 추출 안 됨  \n",
    "    - bs4를 이용한 파싱은 불가능해짐\n",
    "- 셀레니움을 사용해서 동적 페이지를 별도로 열어서 추출  \n",
    "    - 방법1 : 동적 소스 추출(그 후에 bs4 이용)\n",
    "    - 방법2 : 셀레니움 함수를 통해서 파싱 --> 주로 이렇게 하는게 맞음"
   ]
  },
  {
   "cell_type": "markdown",
   "id": "d377a322-6ef4-49eb-b338-916c6d2c0458",
   "metadata": {},
   "source": [
    "https://n.news.naver.com/mnews/article/079/0003812365?sid=100"
   ]
  },
  {
   "cell_type": "code",
   "execution_count": 3,
   "id": "0d69fac7-bc88-4313-8937-3c5e9b29f0ae",
   "metadata": {},
   "outputs": [],
   "source": [
    "url = 'https://n.news.naver.com/mnews/article/079/0003812365?sid=100'\n",
    "htmls = urlopen(url)\n",
    "bs_obj = BeautifulSoup(htmls, \"html.parser\")"
   ]
  },
  {
   "cell_type": "code",
   "execution_count": 4,
   "id": "73827a3e",
   "metadata": {},
   "outputs": [
    {
     "data": {
      "text/plain": [
       "'尹 \"가짜뉴스, AI 이용해 빠른 속도 확산…자유민주주의 훼손, 미래 망쳐\"'"
      ]
     },
     "execution_count": 4,
     "metadata": {},
     "output_type": "execute_result"
    },
    {
     "data": {
      "text/plain": [
       "'尹 \"가짜뉴스, AI 이용해 빠른 속도 확산…자유민주주의 훼손, 미래 망쳐\"'"
      ]
     },
     "execution_count": 4,
     "metadata": {},
     "output_type": "execute_result"
    },
    {
     "data": {
      "text/plain": [
       "'尹 \"가짜뉴스, AI 이용해 빠른 속도 확산…자유민주주의 훼손, 미래 망쳐\"'"
      ]
     },
     "execution_count": 4,
     "metadata": {},
     "output_type": "execute_result"
    }
   ],
   "source": [
    "title = bs_obj.select_one('#title_area').text\n",
    "title\n",
    "title = bs_obj.find('div', {'class':'media_end_head_title'}).select_one('span').text\n",
    "title\n",
    "# 제목은 추출 가능\n",
    "title = bs_obj.find(\"title\").text\n",
    "title"
   ]
  },
  {
   "cell_type": "markdown",
   "id": "351ff6ef-b714-4d3b-9c9e-8a6bfd20b2a0",
   "metadata": {},
   "source": [
    "#### 실시간으로 변경되는 값은 BeautifulSoup 사용해서는 추출 안 됨"
   ]
  },
  {
   "cell_type": "code",
   "execution_count": 5,
   "id": "d43fc368-baa9-44bd-9996-9314a189b3a5",
   "metadata": {},
   "outputs": [
    {
     "name": "stdout",
     "output_type": "stream",
     "text": [
      "None\n"
     ]
    }
   ],
   "source": [
    "# 좋아요 수 추출 : 못함 (None)\n",
    "like_num = bs_obj.find(\"span\", {\"class\":\"u_likeit_text _count num\"})\n",
    "like_num\n",
    "\n",
    "if like_num is None :\n",
    "    print(\"None\")\n",
    "\n",
    "# 관련 소스는 urlopen()을 통해서 응답받은 소스에는 포함되어있지 않음 : 동적 생성된 태그로 보임"
   ]
  },
  {
   "cell_type": "code",
   "execution_count": 6,
   "id": "40bd1757-26e5-47ce-98a1-af4098cc95f9",
   "metadata": {},
   "outputs": [
    {
     "data": {
      "text/plain": [
       "<a class=\"media_end_head_cmtcount_button _COMMENT_COUNT_VIEW\" data-clk=\"rplt\" data-max-limit=\"true\" data-zero-allow=\"false\" href=\"/mnews/article/comment/079/0003812365?sid=100\" id=\"comment_count\">댓글</a>"
      ]
     },
     "execution_count": 6,
     "metadata": {},
     "output_type": "execute_result"
    },
    {
     "data": {
      "text/plain": [
       "'댓글'"
      ]
     },
     "execution_count": 6,
     "metadata": {},
     "output_type": "execute_result"
    }
   ],
   "source": [
    "# comment_count 수 추출\n",
    "comment_count = bs_obj.find(\"a\", {\"id\":\"comment_count\"})\n",
    "comment_count\n",
    "comment_count.text"
   ]
  },
  {
   "cell_type": "markdown",
   "id": "61974778-9349-407f-af8a-8bf6063a79bc",
   "metadata": {},
   "source": [
    "- 동적 생성된 태그 또는 동적 생성된 데이터는\n",
    "    - 브라우저 기능을 통한 첫번째 요청만으로는 수집이 불가능\n",
    "        - urlopen(), request.get()으론 안된다는 얘기"
   ]
  },
  {
   "cell_type": "code",
   "execution_count": 7,
   "id": "a657414d-855c-43da-9a95-54a4bf334ffb",
   "metadata": {},
   "outputs": [],
   "source": [
    "######################################################################"
   ]
  },
  {
   "cell_type": "markdown",
   "id": "61f68d29-4173-48a2-abb2-61f4b4020ffd",
   "metadata": {},
   "source": [
    "### selenium 패키지 모듈 이용한 자동 크롤링 \n",
    "- selenium : webdriver라는 API를 통해 웹 브라우저를 제어하는 도구\n",
    "- 써드파티라이브러리이기 때문에 설치 필요\n",
    "- Beautiful Soup과 함께 사용할 수 있어 훨씬 쉽게 크롤링할 수 있음 - 실제 웹 브라우저가 동작하기 때문에\n",
    "- 자바스크립트 실행이 완료된 후에 동적으로 변환된 DOM 결과물에 접근 가능  um"
   ]
  },
  {
   "cell_type": "markdown",
   "id": "dd3ace22-a16f-4039-8877-3fb7b0f55b3b",
   "metadata": {
    "jp-MarkdownHeadingCollapsed": true
   },
   "source": [
    "- selenium 메소드\n",
    "    - find_element() / find_elements()  \n",
    "    - driver.find_element(By.CLASS_NAME, \"information\")  \n",
    "    - driver.find_element(By.CSS_SELECTOR, \"#fname\")  \n",
    "    - driver.find_element(By.ID, \"lname\")   \n",
    "    - driver.find_element(By.NAME, \"newsletter\")  \n",
    "    - driver.find_element(By.TAG_NAME, \"a\")  \n",
    "    - driver.find_element(By.XPATH, \"//input[@value='f']\")  \n",
    "- driver가 접근한 페이지의 source 추출  \n"
   ]
  },
  {
   "cell_type": "markdown",
   "id": "513b4132-efc5-43eb-97f7-44807265d169",
   "metadata": {},
   "source": [
    "#### selenium과 webdriver_manager 설치"
   ]
  },
  {
   "cell_type": "code",
   "execution_count": 8,
   "id": "d26fcef3-5351-4f75-9c37-39a96decce06",
   "metadata": {},
   "outputs": [],
   "source": [
    "# !pip install  selenium\n",
    "# 앞의 주석 제거하고 설치한 다음 다시 주석 처리함"
   ]
  },
  {
   "cell_type": "code",
   "execution_count": 10,
   "id": "1d1b3663-52a1-4845-b36b-cc9e796e0ffc",
   "metadata": {},
   "outputs": [
    {
     "name": "stdout",
     "output_type": "stream",
     "text": [
      "Name: selenium\n",
      "Version: 4.27.1\n",
      "Summary: Official Python bindings for Selenium WebDriver\n",
      "Home-page: https://www.selenium.dev\n",
      "Author: \n",
      "Author-email: \n",
      "License: Apache 2.0\n",
      "Location: C:\\Users\\82108\\anaconda3\\envs\\scrap_source\\Lib\\site-packages\n",
      "Requires: certifi, trio, trio-websocket, typing_extensions, urllib3, websocket-client\n",
      "Required-by: \n"
     ]
    },
    {
     "name": "stderr",
     "output_type": "stream",
     "text": [
      "AutoRun ������Ʈ�� Ű�� ������ ���� ���� �м��� �� �����ϴ�.\n"
     ]
    }
   ],
   "source": [
    "# !pip show selenium"
   ]
  },
  {
   "cell_type": "code",
   "execution_count": null,
   "id": "290bdb79-8acd-4ce8-90be-06af7cdea261",
   "metadata": {},
   "outputs": [],
   "source": []
  },
  {
   "cell_type": "code",
   "execution_count": 4,
   "id": "14fa1191-5a93-4545-939e-0291efbfb37a",
   "metadata": {},
   "outputs": [],
   "source": [
    "#!pip install webdriver_manager\n",
    "# 앞의 주석 제거하고 설치한 다음 다시 주석 처리함"
   ]
  },
  {
   "cell_type": "code",
   "execution_count": 12,
   "id": "0ee26413-ac2d-4995-92b6-d92e6a1327f4",
   "metadata": {},
   "outputs": [],
   "source": [
    "import selenium\n",
    "from selenium import webdriver\n",
    "from selenium.webdriver.common.by import By # 셀레니움 4.0부터 포함된 객체(모듈)\n",
    "\n",
    "from selenium.webdriver.chrome.service import Service\n",
    "from webdriver_manager.chrome import ChromeDriverManager"
   ]
  },
  {
   "cell_type": "markdown",
   "id": "a7af75c4-a948-4978-b66f-01d16b0c553b",
   "metadata": {},
   "source": [
    "#### webdriver 사용 방볍\n",
    "(1) webdriver 객체 생성 : 빈 웹브라우저 열림 -> 프로그램이 콘트롤하는 브라우저  \n",
    "(2) 페이지 접속  : url 페이지 열림  \n",
    "(3) 데이터 추출  \n",
    "(4) webdriver 종료 : driver.close() -> 브라우저 창 종료와는 별개로 프로그램 내에서 자원 반환하는 과정임   \n",
    "    - 프로그램 자원으로 등록된 뒤 종료하지 않으면 프로그램이 느려지게 됨"
   ]
  },
  {
   "cell_type": "code",
   "execution_count": 46,
   "id": "23ee0d89-465a-4944-af11-503a940a9fd8",
   "metadata": {},
   "outputs": [],
   "source": [
    "# (1) webdriver 객체 생성\n",
    "# 크롬 브라우저를 컨트롤하는 드라이버 옵션 생성\n",
    "chrome_options = webdriver.ChromeOptions()\n",
    "\n",
    "# webdriver.브라우저메소드(service=client service 진행 객체, option=브라우저 옵션(기능)관련 정보)\n",
    "driver = webdriver.Chrome(service=Service(ChromeDriverManager().install()), options=chrome_options)"
   ]
  },
  {
   "cell_type": "code",
   "execution_count": 47,
   "id": "86c59431",
   "metadata": {},
   "outputs": [],
   "source": [
    "# driver.close()"
   ]
  },
  {
   "cell_type": "code",
   "execution_count": 56,
   "id": "aee7c93c-d662-4383-8948-33a0b4fa660f",
   "metadata": {},
   "outputs": [],
   "source": [
    "# (2) 페이지 접속\n",
    "url = \"https://n.news.naver.com/mnews/article/079/0003812365?sid=100\"\n",
    "driver.get(url)"
   ]
  },
  {
   "cell_type": "code",
   "execution_count": 57,
   "id": "a2d94bf1-0f76-45b6-949e-a4fed79bac79",
   "metadata": {},
   "outputs": [
    {
     "data": {
      "text/plain": [
       "'2'"
      ]
     },
     "execution_count": 57,
     "metadata": {},
     "output_type": "execute_result"
    },
    {
     "data": {
      "text/plain": [
       "'2'"
      ]
     },
     "execution_count": 57,
     "metadata": {},
     "output_type": "execute_result"
    }
   ],
   "source": [
    "# (3) 데이터 추출\n",
    "# 좋아요 수 추출\n",
    "# like_num = bs_obj.find(\"span\", {\"class\":\"u_likeit_text _count num\"})\n",
    "\n",
    "# 클래스 선택자로 선택 : 앞에 .(점) 붙임\n",
    "like_num = driver.find_element(By.CSS_SELECTOR, \".u_likeit_text._count.num\")\n",
    "like_num.text\n",
    "# 클래스 이름으로 선택 : .(점) 없이 이름으로만 사용\n",
    "like_num = driver.find_element(By.CLASS_NAME, \"u_likeit_text._count.num\")\n",
    "like_num.text\n",
    "\n",
    "# 선택자 주의! class 속성값인 경우 (class=\"u_likeit_text _count num\")\n",
    "# 중간에 스페이스 있으면 안됨 : (.)점으로 연결해야 함"
   ]
  },
  {
   "cell_type": "code",
   "execution_count": 58,
   "id": "6144dd60-6bf7-4797-9c0a-c60d2d5d818f",
   "metadata": {},
   "outputs": [
    {
     "data": {
      "text/plain": [
       "'36'"
      ]
     },
     "execution_count": 58,
     "metadata": {},
     "output_type": "execute_result"
    }
   ],
   "source": [
    "# 댓글 수 추출\n",
    "driver.find_element(By.ID, \"comment_count\").text"
   ]
  },
  {
   "cell_type": "code",
   "execution_count": 59,
   "id": "3cc9929e-c044-4fb2-9cf5-8e8c6201d261",
   "metadata": {},
   "outputs": [
    {
     "data": {
      "text/plain": [
       "<selenium.webdriver.remote.webelement.WebElement (session=\"5d9153365e667c19dc0e02b204d92a36\", element=\"f.41EF100B8AA752C90AE2B28A3507F515.d.52C3E86549DC38AA7C72C55BBC0B3B1E.e.99\")>"
      ]
     },
     "execution_count": 59,
     "metadata": {},
     "output_type": "execute_result"
    },
    {
     "data": {
      "text/plain": [
       "'36'"
      ]
     },
     "execution_count": 59,
     "metadata": {},
     "output_type": "execute_result"
    }
   ],
   "source": [
    "# 반환값은 객체\n",
    "driver.find_element(By.ID, \"comment_count\")\n",
    "# 객체에서 속성값 추출\n",
    "driver.find_element(By.ID, \"comment_count\").text"
   ]
  },
  {
   "cell_type": "markdown",
   "id": "dab4e53d-484c-464c-88a7-2ee68220a6b4",
   "metadata": {},
   "source": [
    "#### 정적 데이터도 셀레니움 사용 가능"
   ]
  },
  {
   "cell_type": "code",
   "execution_count": null,
   "id": "a953587b-911e-4d18-bc80-50f32acb34cc",
   "metadata": {},
   "outputs": [],
   "source": [
    "\n"
   ]
  },
  {
   "cell_type": "code",
   "execution_count": 60,
   "id": "8c51c59b-62ff-4749-b85a-9a9812d1794d",
   "metadata": {},
   "outputs": [
    {
     "data": {
      "text/plain": [
       "'노컷뉴스'"
      ]
     },
     "execution_count": 60,
     "metadata": {},
     "output_type": "execute_result"
    },
    {
     "data": {
      "text/plain": [
       "'尹 \"가짜뉴스, AI 이용해 빠른 속도 확산…자유민주주의 훼손, 미래 망쳐\"'"
      ]
     },
     "execution_count": 60,
     "metadata": {},
     "output_type": "execute_result"
    },
    {
     "data": {
      "text/plain": [
       "'2023.09.13. 오후 3:07'"
      ]
     },
     "execution_count": 60,
     "metadata": {},
     "output_type": "execute_result"
    }
   ],
   "source": [
    "# webdriver로 열린 페이지에서 정적 크롤링으로 데이터 추출\n",
    "# '06_네이버 뉴스 크롤링 최종'에서 했음\n",
    "paper = bs_obj.find('a', {'class':'media_end_head_top_logo'}).select_one('img')['title']\n",
    "paper\n",
    "\n",
    "title = bs_obj.find('div', {'class' : 'media_end_head_title'}).select_one('span').text\n",
    "title\n",
    "\n",
    "datetime = bs_obj.find('span', {'class' : 'media_end_head_info_datestamp_time _ARTICLE_DATE_TIME'}).text\n",
    "datetime\n"
   ]
  },
  {
   "cell_type": "code",
   "execution_count": 61,
   "id": "8f8d6cfd-fb54-437b-b018-33016f25a733",
   "metadata": {},
   "outputs": [
    {
     "data": {
      "text/plain": [
       "'노컷뉴스'"
      ]
     },
     "execution_count": 61,
     "metadata": {},
     "output_type": "execute_result"
    },
    {
     "data": {
      "text/plain": [
       "'尹 \"가짜뉴스, AI 이용해 빠른 속도 확산…자유민주주의 훼손, 미래 망쳐\"'"
      ]
     },
     "execution_count": 61,
     "metadata": {},
     "output_type": "execute_result"
    },
    {
     "data": {
      "text/plain": [
       "'2023.09.13. 오후 3:07'"
      ]
     },
     "execution_count": 61,
     "metadata": {},
     "output_type": "execute_result"
    }
   ],
   "source": [
    "paper = driver.find_element(By.CSS_SELECTOR, \".media_end_head_top_logo img\")\n",
    "paper.get_attribute(\"title\")\n",
    "\n",
    "title = driver.find_element(By.CLASS_NAME, \"media_end_head_title span\")\n",
    "title.text\n",
    "\n",
    "datetime = driver.find_element(By.CSS_SELECTOR, \".media_end_head_info_datestamp_time._ARTICLE_DATE_TIME\")\n",
    "datetime.text"
   ]
  },
  {
   "cell_type": "code",
   "execution_count": 62,
   "id": "3118bb6f-d907-4ab2-bb14-5dd6d3be882e",
   "metadata": {},
   "outputs": [
    {
     "name": "stdout",
     "output_type": "stream",
     "text": [
      "2023.09.13. 오후 3:07\n"
     ]
    }
   ],
   "source": [
    "# find_elements() : 여러 객체를 리스트로 반환\n",
    "# 반환 형태가 list이므로 text를 바로 연결하는 것이 불가능\n",
    "datetime_list = driver.find_elements(By.CSS_SELECTOR, \".media_end_head_info_datestamp_time._ARTICLE_DATE_TIME\")\n",
    "\n",
    "for date in datetime_list:\n",
    "    print(date.text) "
   ]
  },
  {
   "cell_type": "code",
   "execution_count": null,
   "id": "61fe0013-1deb-48e2-8225-c24fd4296d97",
   "metadata": {},
   "outputs": [],
   "source": []
  },
  {
   "cell_type": "code",
   "execution_count": 63,
   "id": "6b8ed47b-5884-4bac-bc19-bea4ca86fd07",
   "metadata": {},
   "outputs": [],
   "source": [
    "# webdriver 종료\n",
    "driver.close()"
   ]
  },
  {
   "cell_type": "code",
   "execution_count": null,
   "id": "66c46a86-bd7e-4953-8f9f-2b16acc928ea",
   "metadata": {},
   "outputs": [],
   "source": [
    "# 주의! \n",
    "# driver를 통해서 연 브라우저는 driver.close() 해서 닫음\n",
    "# 다시 (1) webdriver 객체 생성을 할 때 오류가 발생하면\n",
    "# (1) Kernal / Restart Kernal ...\n",
    "# 그래도 오류나면 주피터 노트북을 닫고 다시 실행시켜야 함"
   ]
  }
 ],
 "metadata": {
  "kernelspec": {
   "display_name": "“scrapSrc",
   "language": "python",
   "name": "scraping_source"
  },
  "language_info": {
   "codemirror_mode": {
    "name": "ipython",
    "version": 3
   },
   "file_extension": ".py",
   "mimetype": "text/x-python",
   "name": "python",
   "nbconvert_exporter": "python",
   "pygments_lexer": "ipython3",
   "version": "3.12.7"
  }
 },
 "nbformat": 4,
 "nbformat_minor": 5
}
