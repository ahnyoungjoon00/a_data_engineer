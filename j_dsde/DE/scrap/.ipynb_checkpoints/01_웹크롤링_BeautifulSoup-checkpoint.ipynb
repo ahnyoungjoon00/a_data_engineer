{
 "cells": [
  {
   "cell_type": "markdown",
   "id": "b33138c4-f547-4823-9d57-722aa21ef905",
   "metadata": {},
   "source": [
    "## 데이터 수집"
   ]
  },
  {
   "cell_type": "markdown",
   "id": "75a81317-7a5d-43cf-8ffe-ca37669dfa64",
   "metadata": {},
   "source": [
    "### 웹 크롤링"
   ]
  },
  {
   "cell_type": "markdown",
   "id": "0e1ecab5-3b5e-423f-9ea9-93ac619a2ae2",
   "metadata": {},
   "source": [
    "#### 웹 크롤링 (web crawling)\n",
    "- 자동화 봇(bot)인 웹 크롤러가 정해진 규칙에 따라 복수 개의 웹 페이지를 브라우징 하는 행위\n",
    "- 크롤러 : 조직적, 자동화된 방법으로 월드와이드 웹을 탐색하는 컴퓨터 프로그램이다.(출처: 위키백과)\n",
    "\n",
    "#### 웹 스크래핑(웹 스크레이핑)(web scraping)\n",
    "- 웹 사이트 상에서 원하는 부분에 위치한 정보를 컴퓨터로 하여금 자동으로 추출하여 수집하는 기술\n",
    "  \n",
    "#### 파싱 (parsing)\n",
    "- 받아온 데이터에서 필요로 하는 내용을 추출하 는 것\n",
    "\n"
   ]
  },
  {
   "cell_type": "markdown",
   "id": "ea211167-6d11-4ae2-b761-c2a6474ecac4",
   "metadata": {},
   "source": [
    "### 웹 크롤링\n",
    "(1) html 문서 내용 읽어오기\n",
    "- url에 접속\n",
    "  - urllib 패키지의 urlopen() 함수 사용\n",
    "  - urllib 패키지 : url(인터넷 주소)을 넣고 실행하면 데이터를 텍스트로 형태로 반환\n",
    "- html 문서  전체 내용 읽어오기\n",
    "   -  read() 함수 사용"
   ]
  },
  {
   "cell_type": "markdown",
   "id": "eae8ee94-fdb2-4740-ae56-cdfdd4ffbf17",
   "metadata": {},
   "source": [
    "### 파싱\n",
    "- html 문서에서 원하는 내용 추출\n",
    "  - 필요한 내용만 추출\n",
    "  - BeautifulSoup 라이브러리 사용\n",
    "    - 데이터를  추출하는데 필요한 기능이 들어 있는라이브러리 (파싱 라이브러리)\n",
    "    - find() / findAll() / find_all() 함수 : 태그 / 속성\n",
    "    - select() / select_one() : 선택자"
   ]
  },
  {
   "cell_type": "markdown",
   "id": "fad7b22b-30d8-473d-961e-fe61b509dffb",
   "metadata": {},
   "source": [
    "### 데이터 수집 방법\n",
    "- BeautifulSoup 라이브러리 사용\n",
    "- Selenium 라이브러리 사용 : 동적 크롤링\n",
    "- Open API 사용"
   ]
  },
  {
   "cell_type": "code",
   "execution_count": null,
   "id": "5283eb4b-69c5-46fb-ac1f-dc277ec734a3",
   "metadata": {},
   "outputs": [],
   "source": []
  },
  {
   "cell_type": "code",
   "execution_count": 1,
   "id": "89f0a65f-e4c5-4401-a540-df7837c5e1be",
   "metadata": {},
   "outputs": [],
   "source": [
    "# 한 셀에서 여러 개의 결과값 출력\n",
    "from IPython.core.interactiveshell import InteractiveShell\n",
    "InteractiveShell.ast_node_interactivity=\"all\""
   ]
  },
  {
   "cell_type": "markdown",
   "id": "e438f1b1-f1d8-4c32-9a0e-8ec1773c5132",
   "metadata": {},
   "source": [
    "### BeautifulSoup 사용법"
   ]
  },
  {
   "cell_type": "code",
   "execution_count": 2,
   "id": "b705b272-f2b7-4605-a6f7-d1a5cc005907",
   "metadata": {},
   "outputs": [],
   "source": [
    "import bs4"
   ]
  },
  {
   "cell_type": "code",
   "execution_count": 3,
   "id": "7f96607b-678f-43ba-9582-291b043b1c03",
   "metadata": {},
   "outputs": [],
   "source": [
    "# 또는\n",
    "from bs4 import BeautifulSoup"
   ]
  },
  {
   "cell_type": "code",
   "execution_count": 4,
   "id": "fa157da4-e0b4-4cf9-9a88-31104313dea0",
   "metadata": {},
   "outputs": [],
   "source": [
    "# import bs4 실행해서 오류 있으면 패키지 설치\n",
    "# !pip install bs4 "
   ]
  },
  {
   "cell_type": "code",
   "execution_count": 5,
   "id": "a325f1ab-c6bf-4787-a91a-f6a47b7df7bb",
   "metadata": {},
   "outputs": [],
   "source": [
    "# test 용 html 문서 내용\n",
    "html_str = \"<html><div>hello</div></html>\""
   ]
  },
  {
   "cell_type": "code",
   "execution_count": null,
   "id": "7cc22a0d-d3b5-4329-9875-8cae03b8cfb7",
   "metadata": {},
   "outputs": [],
   "source": []
  },
  {
   "cell_type": "code",
   "execution_count": 7,
   "id": "fc001548-f760-408f-a7c4-77c3909e9a5e",
   "metadata": {},
   "outputs": [],
   "source": [
    "########################## 태그명으로 추출 ##############"
   ]
  },
  {
   "cell_type": "code",
   "execution_count": null,
   "id": "df12c0c4-6e73-43f2-af14-657ced308668",
   "metadata": {},
   "outputs": [],
   "source": []
  },
  {
   "cell_type": "code",
   "execution_count": 9,
   "id": "279f8a45-b461-4e9f-9f4a-9edd34be7dea",
   "metadata": {},
   "outputs": [],
   "source": [
    "html_str = \"\"\"\n",
    "<html>\n",
    "    <body>\n",
    "        <ul>\n",
    "            <li>hello</li>\n",
    "            <li>bye</li>\n",
    "            <li>welcome</li>\n",
    "        </ul>\n",
    "    </body>\n",
    "</html>\n",
    "\"\"\""
   ]
  },
  {
   "cell_type": "code",
   "execution_count": null,
   "id": "f61c85a2-d429-4081-8918-8a7eb0f70a0f",
   "metadata": {},
   "outputs": [],
   "source": []
  },
  {
   "cell_type": "code",
   "execution_count": 17,
   "id": "532f74e4-f6a1-40d2-a59c-e45576be3e57",
   "metadata": {},
   "outputs": [],
   "source": [
    "###################### class 속성으로 추출 ###################"
   ]
  },
  {
   "cell_type": "code",
   "execution_count": 18,
   "id": "28a8428c-97d9-4b85-a11a-b667a94e2bcd",
   "metadata": {},
   "outputs": [],
   "source": [
    "# 태그 중에 특정 속성을 갖고 있는 태그 추출\n",
    "# find('태그명', {'속성명':'속성값'})\n",
    "# ('ul', {'class':'greet'})"
   ]
  },
  {
   "cell_type": "code",
   "execution_count": 19,
   "id": "4cb1fc5b-254e-43dc-a7cc-af678e56b745",
   "metadata": {},
   "outputs": [],
   "source": [
    "html_str = \"\"\"\n",
    "<html>\n",
    "    <body>\n",
    "        <ul class=\"greet\">\n",
    "            <li>hello</li>\n",
    "            <li>bye</li>\n",
    "            <li>welcome</li>\n",
    "        </ul>\n",
    "        <ul class=\"reply\">\n",
    "            <li>ok</li>\n",
    "            <li>no</li>\n",
    "            <li>sure</li>\n",
    "        </ul>\n",
    "    </body>\n",
    "</html>\n",
    "\"\"\""
   ]
  },
  {
   "cell_type": "code",
   "execution_count": null,
   "id": "1f5d850c-848f-4871-9671-fe848c3da821",
   "metadata": {},
   "outputs": [],
   "source": []
  },
  {
   "cell_type": "code",
   "execution_count": 24,
   "id": "e5900b8c-c42b-45fb-9d09-ff6348a1bbf4",
   "metadata": {},
   "outputs": [],
   "source": [
    "#################### id 속성으로 추출 ######################"
   ]
  },
  {
   "cell_type": "code",
   "execution_count": 25,
   "id": "11b7b5f4-0968-4471-9e2a-163737ef6e24",
   "metadata": {},
   "outputs": [],
   "source": [
    "html_str = '''\n",
    "<html>\n",
    "    <body>\n",
    "        <h1 id='title'>Hello Python</h1>\n",
    "        <p id=\"crawling\">웹 크롤링</p>\n",
    "        <p id=\"parsing\">파싱</p>\n",
    "    </body>\n",
    "</html>'''\n"
   ]
  },
  {
   "cell_type": "code",
   "execution_count": null,
   "id": "152227a4-7218-404f-a761-27a53591acaa",
   "metadata": {},
   "outputs": [],
   "source": []
  },
  {
   "cell_type": "markdown",
   "id": "8fcc7fdf-8418-4809-a404-3086827a3b2b",
   "metadata": {},
   "source": [
    "#### 형제 노드 찾기\n",
    "- next_sibling"
   ]
  },
  {
   "cell_type": "code",
   "execution_count": 29,
   "id": "63a646bb-8851-4dd3-88b3-86f30919608c",
   "metadata": {},
   "outputs": [],
   "source": [
    "html_str = \"\"\"\n",
    "<html>\n",
    "    <body>\n",
    "        <h1>파이썬 프로그래밍</h1>\n",
    "        <p>웹 페이지 분석</p>\n",
    "        <p>크롤링</p><p>파싱</p>        \n",
    "    </body>\n",
    "</html>\n",
    "\"\"\""
   ]
  },
  {
   "cell_type": "code",
   "execution_count": null,
   "id": "c82be7a7-9f31-4f80-85ca-59a7fee44a02",
   "metadata": {},
   "outputs": [],
   "source": []
  },
  {
   "cell_type": "markdown",
   "id": "6805dd32-8581-4d9d-b143-6cbfffa41986",
   "metadata": {},
   "source": [
    "#### 태그 내의 특정 속성의 값 추출\n",
    "- \\<a href=\"www.abc.com\">\n",
    "- <a> 태그의 href 속성의 속성값 : www.abc.com"
   ]
  },
  {
   "cell_type": "code",
   "execution_count": 34,
   "id": "3cfc1808-b5c1-4711-b008-d8dabcb48710",
   "metadata": {},
   "outputs": [],
   "source": [
    "\n",
    "html_str = \"\"\"\n",
    "<html>\n",
    "    <body>\n",
    "        <ul class=\"ko\">\n",
    "            <li><a href=\"https://www.naver.com/\">네이버</a></li>\n",
    "            <li><a href=\"https://www.daum.net/\">다음</a></li>\n",
    "        </ul>\n",
    "        <ul class=\"sns\">\n",
    "            <li><a href=\"https://www.google.com/\">구글</a></li>\n",
    "            <li><a href=\"https://www.facebook.com/\">페이스북</a></li>\n",
    "        </ul>\n",
    "    </body>\n",
    "</html>\n",
    "\"\"\""
   ]
  },
  {
   "cell_type": "code",
   "execution_count": null,
   "id": "fd54f216-34bb-4afe-ac67-1ef419a91ee5",
   "metadata": {},
   "outputs": [],
   "source": []
  },
  {
   "cell_type": "code",
   "execution_count": 40,
   "id": "4f1f94aa-7107-436a-a9d0-5492c5b97cdd",
   "metadata": {},
   "outputs": [],
   "source": [
    "######################## select() 메소드 사용 ########################"
   ]
  },
  {
   "cell_type": "markdown",
   "id": "94d39206-d7c5-4771-94f2-626413327617",
   "metadata": {},
   "source": [
    "select() 메소드\n",
    "- select_one() : 1개의 태그 추출\n",
    "- select() : 여러 개의 태그 추출 (리스트 반환(1개라도 리스트로 반환))\n",
    "- CSS 선택자 그대로 사용 가능 : 아이디 선택자 / 클래스 선택자 / 태그 선택자\n",
    "\n",
    "- .클래스명 : 클래스 선택자\n",
    "  - 같은 클래스 값을 갖는 여러 개 있을 수 있음\n",
    "- #id명 : 유일한 태그 (1개만 추출)\n",
    "- 띄어 쓰기 : 자손 선택\n",
    "  - div li : div 태그 내의 모든 자손 li\n",
    "- \\> : 자식 선택\n",
    "  - div > li : div 태그 내의 바로 밑의 자식 태그 li"
   ]
  },
  {
   "cell_type": "code",
   "execution_count": 41,
   "id": "19f97b80-7911-468d-a8c9-b6436018b452",
   "metadata": {},
   "outputs": [],
   "source": [
    "##################### select() 사용 ###########"
   ]
  },
  {
   "cell_type": "code",
   "execution_count": 42,
   "id": "6b7d899f-538d-40bd-b86e-2fd6d6d1e8af",
   "metadata": {},
   "outputs": [],
   "source": [
    "html_str = \"\"\"\n",
    "<html>\n",
    "   <body>\n",
    "    \t<div id=\"wrap\">\n",
    "        \t<div id=\"mainMenuBox\">                \t\n",
    "                <ul>  \n",
    "                    <li><a href=\"#\" id='fashion'>패션잡화</a></li>    \n",
    "                    <li><a href=\"#\">주방용품</a></li>                     \t          \n",
    "                    <li><a href=\"#\">생활건강</a></li>\n",
    "                    <li><a href=\"#\">DIY가구</a></li>\n",
    "                </ul>\n",
    "            </div>\n",
    "        \t<div>\n",
    "            \t<table>\n",
    "                \t<tr><td><img src=\"shoes1.jpg\"></td>\n",
    "                    \t  <td><img src=\"shoes2.jpg\"></td>\n",
    "                    \t  <td><img src=\"shoes3.jpg\"></td></tr>\n",
    "                    <tr id=\"prdName\"><td>솔로이스트<br>걸리쉬 리본단화</td>\n",
    "                    \t  <td>맥컬린<br>그레이가보시스트랩 펌프스</td>\n",
    "                          <td>맥컬린<br>섹슈얼인사이드펌프스</td></tr>\n",
    "                    <tr id=\"price\"><td>100,000원</td><td>200,000원</td><td>120,000원</td></tr>\n",
    "                </table>\n",
    "            </div>\n",
    "            <div id=\"out_box\">\n",
    "            \t<div class=\"box\">\n",
    "                \t<h4>공지사항</h4>\n",
    "                    <hr>\n",
    "                    <a href=\"#\">[배송] : 무표배송 변경 안내 24.08.20</a><br>\n",
    "                    <a href=\"#\">[전시] : DIY 가구 전시 안내 24.08.31</a><br>\n",
    "                    <a href=\"#\">[판매] : 11월 특가 상품 안내 24.09.05</a><br>\n",
    "                    <div>공지사항 확인 필수</div>\n",
    "                </div>\n",
    "                <div class=\"box\">\n",
    "                \t<h4>커뮤니티</h4>\n",
    "                    <hr>\n",
    "                    <a href=\"#\">[레시피] : 살 안찌는 야식 만들기</a><br>\n",
    "                    <a href=\"#\">[가구] : 헌집 새집 베스트 가구</a><br>\n",
    "                    <a href=\"#\">[후기] : 배송이 잘못 됐어요 ㅠㅠ</a><br>\n",
    "                    <div>커뮤니티 확인 요청</div>\n",
    "                 </div>\n",
    "            </div>            \n",
    "        </div>\n",
    "    </body>\n",
    "</html>\"\"\""
   ]
  },
  {
   "cell_type": "code",
   "execution_count": null,
   "id": "51137662-e140-472e-a9bf-bb6ee0171448",
   "metadata": {},
   "outputs": [],
   "source": []
  }
 ],
 "metadata": {
  "kernelspec": {
   "display_name": "scrapSrc",
   "language": "python",
   "name": "scraping_source"
  },
  "language_info": {
   "codemirror_mode": {
    "name": "ipython",
    "version": 3
   },
   "file_extension": ".py",
   "mimetype": "text/x-python",
   "name": "python",
   "nbconvert_exporter": "python",
   "pygments_lexer": "ipython3",
   "version": "3.12.7"
  }
 },
 "nbformat": 4,
 "nbformat_minor": 5
}
