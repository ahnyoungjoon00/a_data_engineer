{
 "cells": [
  {
   "cell_type": "markdown",
   "id": "59030649",
   "metadata": {},
   "source": [
    "## 크롤링 사이트 연습문제 : 다음 뉴스"
   ]
  },
  {
   "cell_type": "markdown",
   "id": "cfe6242a",
   "metadata": {},
   "source": [
    "- 'https://news.daum.net' 에서\n",
    "- (1) 메뉴의 섹션명과 링크 추출 추출해서\n",
    "    - 데이터프레임으로 생성 후 daum_news_section.csv로 저장\n",
    "    - section :홈, 기후환경, 사회, 경제 ....\n",
    "    - link : https://news.daum.net/, https://news.daum.net/society, https://news.daum.net/politics, .....\n",
    "    - 배열설명서는 추출하지 말 것"
   ]
  },
  {
   "attachments": {
    "1decea34-bb03-4444-aa80-245308e5d29e.png": {
     "image/png": "[encoded data removed]"
    }
   },
   "cell_type": "markdown",
   "id": "a8c39344-ed20-413b-a1f9-9b6250e4b44c",
   "metadata": {},
   "source": [
    "![image.png](attachment:1decea34-bb03-4444-aa80-245308e5d29e.png)"
   ]
  },
  {
   "cell_type": "code",
   "execution_count": 8,
   "id": "7f975d83-b8f0-4341-b83c-42a95efc3ac0",
   "metadata": {},
   "outputs": [],
   "source": [
    "from IPython.core.interactiveshell import InteractiveShell\n",
    "InteractiveShell.ast_node_interactivity=\"all\""
   ]
  },
  {
   "cell_type": "code",
   "execution_count": 9,
   "id": "32a96c78",
   "metadata": {},
   "outputs": [],
   "source": [
    "from urllib.request import urlopen\n",
    "from bs4 import BeautifulSoup\n",
    "import pandas as pd"
   ]
  },
  {
   "cell_type": "code",
   "execution_count": 10,
   "id": "1fa1dda7",
   "metadata": {},
   "outputs": [],
   "source": [
    "url = 'https://news.daum.net'\n",
    "html = urlopen(url)\n",
    "bs_obj = BeautifulSoup(html, \"html.parser\")"
   ]
  },
  {
   "cell_type": "code",
   "execution_count": 22,
   "id": "cec67cfd",
   "metadata": {},
   "outputs": [
    {
     "data": {
      "text/plain": [
       "[<a aria-current=\"page\" class=\"link_gnb\" href=\"/news/home\" role=\"menuitem\"> <span class=\"txt_gnb\">홈</span></a>,\n",
       " <a class=\"link_gnb\" href=\"/news/climate\" role=\"menuitem\"> <span class=\"txt_gnb\">기후/환경</span><span class=\"ir_pm ico_new\" data-svelte-h=\"svelte-bn1hi7\">새로운소식</span></a>,\n",
       " <a class=\"link_gnb\" href=\"/news/society\" role=\"menuitem\"> <span class=\"txt_gnb\">사회</span></a>,\n",
       " <a class=\"link_gnb\" href=\"/news/economy\" role=\"menuitem\"> <span class=\"txt_gnb\">경제</span></a>,\n",
       " <a class=\"link_gnb\" href=\"/news/politics\" role=\"menuitem\"> <span class=\"txt_gnb\">정치</span></a>,\n",
       " <a class=\"link_gnb\" href=\"/news/world\" role=\"menuitem\"> <span class=\"txt_gnb\">국제</span></a>,\n",
       " <a class=\"link_gnb\" href=\"/news/culture\" role=\"menuitem\"> <span class=\"txt_gnb\">문화</span></a>,\n",
       " <a class=\"link_gnb\" href=\"/news/life\" role=\"menuitem\"> <span class=\"txt_gnb\">생활</span></a>,\n",
       " <a class=\"link_gnb\" href=\"/news/tech\" role=\"menuitem\"> <span class=\"txt_gnb\">IT/과학</span></a>,\n",
       " <a class=\"link_gnb\" href=\"/news/people\" role=\"menuitem\"> <span class=\"txt_gnb\">인물</span></a>,\n",
       " <a class=\"link_gnb\" href=\"/news/understanding\" role=\"menuitem\"> <span class=\"txt_gnb\">지식/칼럼</span></a>,\n",
       " <a class=\"link_gnb\" href=\"/news/series\" role=\"menuitem\"> <span class=\"txt_gnb\">연재</span></a>,\n",
       " <a class=\"link_gnb\" href=\"https://focus.daum.net/daum/m/algorithm\" role=\"menuitem\"> <span class=\"txt_gnb\">배열설명서</span></a>]"
      ]
     },
     "execution_count": 22,
     "metadata": {},
     "output_type": "execute_result"
    },
    {
     "name": "stdout",
     "output_type": "stream",
     "text": [
      "<a aria-current=\"page\" class=\"link_gnb\" href=\"/news/home\" role=\"menuitem\"> <span class=\"txt_gnb\">홈</span></a>\n",
      "<a class=\"link_gnb\" href=\"/news/climate\" role=\"menuitem\"> <span class=\"txt_gnb\">기후/환경</span><span class=\"ir_pm ico_new\" data-svelte-h=\"svelte-bn1hi7\">새로운소식</span></a>\n",
      "<a class=\"link_gnb\" href=\"/news/society\" role=\"menuitem\"> <span class=\"txt_gnb\">사회</span></a>\n",
      "<a class=\"link_gnb\" href=\"/news/economy\" role=\"menuitem\"> <span class=\"txt_gnb\">경제</span></a>\n",
      "<a class=\"link_gnb\" href=\"/news/politics\" role=\"menuitem\"> <span class=\"txt_gnb\">정치</span></a>\n",
      "<a class=\"link_gnb\" href=\"/news/world\" role=\"menuitem\"> <span class=\"txt_gnb\">국제</span></a>\n",
      "<a class=\"link_gnb\" href=\"/news/culture\" role=\"menuitem\"> <span class=\"txt_gnb\">문화</span></a>\n",
      "<a class=\"link_gnb\" href=\"/news/life\" role=\"menuitem\"> <span class=\"txt_gnb\">생활</span></a>\n",
      "<a class=\"link_gnb\" href=\"/news/tech\" role=\"menuitem\"> <span class=\"txt_gnb\">IT/과학</span></a>\n",
      "<a class=\"link_gnb\" href=\"/news/people\" role=\"menuitem\"> <span class=\"txt_gnb\">인물</span></a>\n",
      "<a class=\"link_gnb\" href=\"/news/understanding\" role=\"menuitem\"> <span class=\"txt_gnb\">지식/칼럼</span></a>\n",
      "<a class=\"link_gnb\" href=\"/news/series\" role=\"menuitem\"> <span class=\"txt_gnb\">연재</span></a>\n"
     ]
    }
   ],
   "source": [
    "lis = bs_obj.select_one(\".flicking-camera\").select(\"a\")\n",
    "lis\n",
    "for li in lis :\n",
    "    if  (\"배열설명서\" not in li.text) :\n",
    "        print(li)"
   ]
  },
  {
   "cell_type": "code",
   "execution_count": 25,
   "id": "fd68eab5-8cd9-49f2-be41-93cdc9e2837b",
   "metadata": {},
   "outputs": [
    {
     "data": {
      "text/plain": [
       "(12, 12)"
      ]
     },
     "execution_count": 25,
     "metadata": {},
     "output_type": "execute_result"
    }
   ],
   "source": [
    "lis = bs_obj.find(\"div\", {\"class\":\"flicking-camera\"}).find_all(\"a\", {\"class\":\"link_gnb\"})[:-1]\n",
    "# lis = bs_obj.select_one(\".flicking-camera\").select(\"a\")\n",
    "# lis=bs_obj.select(\".flicking-panel > a\")[:-1]\n",
    "menu=[]\n",
    "link=[]\n",
    "for li in lis:\n",
    "    menu.append(li.text)\n",
    "    link.append(url +\"/\"+ li[\"href\"].split(\"/\")[2])\n",
    "len(menu), len(link)"
   ]
  },
  {
   "cell_type": "code",
   "execution_count": 26,
   "id": "9b39f41d",
   "metadata": {},
   "outputs": [
    {
     "data": {
      "text/html": [
       "<div>\n",
       "<style scoped>\n",
       "    .dataframe tbody tr th:only-of-type {\n",
       "        vertical-align: middle;\n",
       "    }\n",
       "\n",
       "    .dataframe tbody tr th {\n",
       "        vertical-align: top;\n",
       "    }\n",
       "\n",
       "    .dataframe thead th {\n",
       "        text-align: right;\n",
       "    }\n",
       "</style>\n",
       "<table border=\"1\" class=\"dataframe\">\n",
       "  <thead>\n",
       "    <tr style=\"text-align: right;\">\n",
       "      <th></th>\n",
       "      <th>menu</th>\n",
       "      <th>link</th>\n",
       "    </tr>\n",
       "  </thead>\n",
       "  <tbody>\n",
       "    <tr>\n",
       "      <th>0</th>\n",
       "      <td>홈</td>\n",
       "      <td>https://news.daum.net/home</td>\n",
       "    </tr>\n",
       "    <tr>\n",
       "      <th>1</th>\n",
       "      <td>기후/환경새로운소식</td>\n",
       "      <td>https://news.daum.net/climate</td>\n",
       "    </tr>\n",
       "    <tr>\n",
       "      <th>2</th>\n",
       "      <td>사회</td>\n",
       "      <td>https://news.daum.net/society</td>\n",
       "    </tr>\n",
       "    <tr>\n",
       "      <th>3</th>\n",
       "      <td>경제</td>\n",
       "      <td>https://news.daum.net/economy</td>\n",
       "    </tr>\n",
       "    <tr>\n",
       "      <th>4</th>\n",
       "      <td>정치</td>\n",
       "      <td>https://news.daum.net/politics</td>\n",
       "    </tr>\n",
       "    <tr>\n",
       "      <th>5</th>\n",
       "      <td>국제</td>\n",
       "      <td>https://news.daum.net/world</td>\n",
       "    </tr>\n",
       "    <tr>\n",
       "      <th>6</th>\n",
       "      <td>문화</td>\n",
       "      <td>https://news.daum.net/culture</td>\n",
       "    </tr>\n",
       "    <tr>\n",
       "      <th>7</th>\n",
       "      <td>생활</td>\n",
       "      <td>https://news.daum.net/life</td>\n",
       "    </tr>\n",
       "    <tr>\n",
       "      <th>8</th>\n",
       "      <td>IT/과학</td>\n",
       "      <td>https://news.daum.net/tech</td>\n",
       "    </tr>\n",
       "    <tr>\n",
       "      <th>9</th>\n",
       "      <td>인물</td>\n",
       "      <td>https://news.daum.net/people</td>\n",
       "    </tr>\n",
       "    <tr>\n",
       "      <th>10</th>\n",
       "      <td>지식/칼럼</td>\n",
       "      <td>https://news.daum.net/understanding</td>\n",
       "    </tr>\n",
       "    <tr>\n",
       "      <th>11</th>\n",
       "      <td>연재</td>\n",
       "      <td>https://news.daum.net/series</td>\n",
       "    </tr>\n",
       "  </tbody>\n",
       "</table>\n",
       "</div>"
      ],
      "text/plain": [
       "           menu                                 link\n",
       "0             홈           https://news.daum.net/home\n",
       "1    기후/환경새로운소식        https://news.daum.net/climate\n",
       "2            사회        https://news.daum.net/society\n",
       "3            경제        https://news.daum.net/economy\n",
       "4            정치       https://news.daum.net/politics\n",
       "5            국제          https://news.daum.net/world\n",
       "6            문화        https://news.daum.net/culture\n",
       "7            생활           https://news.daum.net/life\n",
       "8         IT/과학           https://news.daum.net/tech\n",
       "9            인물         https://news.daum.net/people\n",
       "10        지식/칼럼  https://news.daum.net/understanding\n",
       "11           연재         https://news.daum.net/series"
      ]
     },
     "execution_count": 26,
     "metadata": {},
     "output_type": "execute_result"
    }
   ],
   "source": [
    "daum_news_df = pd.DataFrame({\"menu\":menu, \"link\":link})\n",
    "daum_news_df"
   ]
  },
  {
   "cell_type": "code",
   "execution_count": 36,
   "id": "c6398c4b",
   "metadata": {},
   "outputs": [],
   "source": [
    "# daum_news_df.to_csv(\"./crawl_data/daum_news_df.csv\", index=0, encoding=\"utf-8-sig\")"
   ]
  },
  {
   "cell_type": "code",
   "execution_count": 27,
   "id": "001488f4",
   "metadata": {},
   "outputs": [
    {
     "data": {
      "text/html": [
       "<div>\n",
       "<style scoped>\n",
       "    .dataframe tbody tr th:only-of-type {\n",
       "        vertical-align: middle;\n",
       "    }\n",
       "\n",
       "    .dataframe tbody tr th {\n",
       "        vertical-align: top;\n",
       "    }\n",
       "\n",
       "    .dataframe thead th {\n",
       "        text-align: right;\n",
       "    }\n",
       "</style>\n",
       "<table border=\"1\" class=\"dataframe\">\n",
       "  <thead>\n",
       "    <tr style=\"text-align: right;\">\n",
       "      <th></th>\n",
       "      <th>menu</th>\n",
       "      <th>link</th>\n",
       "    </tr>\n",
       "  </thead>\n",
       "  <tbody>\n",
       "    <tr>\n",
       "      <th>0</th>\n",
       "      <td>홈</td>\n",
       "      <td>https://news.daum.net/home</td>\n",
       "    </tr>\n",
       "    <tr>\n",
       "      <th>1</th>\n",
       "      <td>기후/환경새로운소식</td>\n",
       "      <td>https://news.daum.net/climate</td>\n",
       "    </tr>\n",
       "    <tr>\n",
       "      <th>2</th>\n",
       "      <td>사회</td>\n",
       "      <td>https://news.daum.net/society</td>\n",
       "    </tr>\n",
       "    <tr>\n",
       "      <th>3</th>\n",
       "      <td>경제</td>\n",
       "      <td>https://news.daum.net/economy</td>\n",
       "    </tr>\n",
       "    <tr>\n",
       "      <th>4</th>\n",
       "      <td>정치</td>\n",
       "      <td>https://news.daum.net/politics</td>\n",
       "    </tr>\n",
       "    <tr>\n",
       "      <th>5</th>\n",
       "      <td>국제</td>\n",
       "      <td>https://news.daum.net/world</td>\n",
       "    </tr>\n",
       "    <tr>\n",
       "      <th>6</th>\n",
       "      <td>문화</td>\n",
       "      <td>https://news.daum.net/culture</td>\n",
       "    </tr>\n",
       "    <tr>\n",
       "      <th>7</th>\n",
       "      <td>생활</td>\n",
       "      <td>https://news.daum.net/life</td>\n",
       "    </tr>\n",
       "    <tr>\n",
       "      <th>8</th>\n",
       "      <td>IT/과학</td>\n",
       "      <td>https://news.daum.net/tech</td>\n",
       "    </tr>\n",
       "    <tr>\n",
       "      <th>9</th>\n",
       "      <td>인물</td>\n",
       "      <td>https://news.daum.net/people</td>\n",
       "    </tr>\n",
       "    <tr>\n",
       "      <th>10</th>\n",
       "      <td>지식/칼럼</td>\n",
       "      <td>https://news.daum.net/understanding</td>\n",
       "    </tr>\n",
       "    <tr>\n",
       "      <th>11</th>\n",
       "      <td>연재</td>\n",
       "      <td>https://news.daum.net/series</td>\n",
       "    </tr>\n",
       "  </tbody>\n",
       "</table>\n",
       "</div>"
      ],
      "text/plain": [
       "           menu                                 link\n",
       "0             홈           https://news.daum.net/home\n",
       "1    기후/환경새로운소식        https://news.daum.net/climate\n",
       "2            사회        https://news.daum.net/society\n",
       "3            경제        https://news.daum.net/economy\n",
       "4            정치       https://news.daum.net/politics\n",
       "5            국제          https://news.daum.net/world\n",
       "6            문화        https://news.daum.net/culture\n",
       "7            생활           https://news.daum.net/life\n",
       "8         IT/과학           https://news.daum.net/tech\n",
       "9            인물         https://news.daum.net/people\n",
       "10        지식/칼럼  https://news.daum.net/understanding\n",
       "11           연재         https://news.daum.net/series"
      ]
     },
     "execution_count": 27,
     "metadata": {},
     "output_type": "execute_result"
    }
   ],
   "source": [
    "df = pd.read_csv(\"./crawl_data/daum_news_df.csv\")\n",
    "df"
   ]
  },
  {
   "cell_type": "code",
   "execution_count": null,
   "id": "ce188c0a",
   "metadata": {},
   "outputs": [],
   "source": []
  }
 ],
 "metadata": {
  "kernelspec": {
   "display_name": "“scrapSrc",
   "language": "python",
   "name": "scraping_source"
  },
  "language_info": {
   "codemirror_mode": {
    "name": "ipython",
    "version": 3
   },
   "file_extension": ".py",
   "mimetype": "text/x-python",
   "name": "python",
   "nbconvert_exporter": "python",
   "pygments_lexer": "ipython3",
   "version": "3.12.7"
  }
 },
 "nbformat": 4,
 "nbformat_minor": 5
}
