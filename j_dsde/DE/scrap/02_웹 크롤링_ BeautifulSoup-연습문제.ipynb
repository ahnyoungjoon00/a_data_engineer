{
 "cells": [
  {
   "cell_type": "markdown",
   "id": "24ad86a1-cd09-4ec3-9f00-d712f8c5a9dc",
   "metadata": {},
   "source": [
    "## BeautifulSoup 연습문제"
   ]
  },
  {
   "cell_type": "code",
   "execution_count": 1,
   "id": "51f56d56",
   "metadata": {},
   "outputs": [],
   "source": [
    "from IPython.core.interactiveshell import InteractiveShell\n",
    "InteractiveShell.ast_node_interactivity=\"all\""
   ]
  },
  {
   "cell_type": "code",
   "execution_count": 2,
   "id": "d621ab9a",
   "metadata": {},
   "outputs": [],
   "source": [
    "html_str = '''\n",
    "<!DOCTYPE html>\n",
    "\n",
    "<html>\n",
    "<head>\n",
    "<meta content=\"text/html; charset=utf-8\" http-equiv=\"Content-Type\"/>\n",
    "<title>HTML</title>\n",
    "</head>\n",
    "<body>\n",
    "<h1>HTML의 링크 태그</h1>\n",
    "<hr/>\n",
    "    <a href=\"http://www.w3.org/\">World Wide Consortium</a>\n",
    "    <a href=\"http://java.sun.com/\">Java Page</a>\n",
    "    <a href=\"http://www.python.org/\">Python Page</a>\n",
    "    <a href=\"http://www.w3schools.com/\">Web Client 기술 학습</a>\n",
    "<hr/>\n",
    "<a href=\"http://java.sun.com/\">\n",
    "<img src=\"http://www.abc.co.kr/image/abc.jpg\" width=\"100\"/></a>\n",
    "<h2>좋아하는 색</h2>\n",
    "<ul>\n",
    "    <li class=\"color\">파란색</li>\n",
    "    <li class=\"color\">노란색</li>\n",
    "    <li class=\"color\">녹색</li>\n",
    "    <li class=\"color\">주황색</li>\n",
    "</ul>\n",
    "<h2>먹고싶은 음식</h2>\n",
    "    <ol>\n",
    "        <li>짜장면</li>\n",
    "        <li>김밥</li>\n",
    "        <li>돈까스</li>\n",
    "        <li>떡볶이</li>\n",
    "    </ol>\n",
    "    <table border=\"1\">\n",
    "        <tr class=\"name\">\n",
    "            <th>홍길동</th><th>이몽룡</th><th>성춘향</th>\n",
    "        </tr>\n",
    "        <tr>\n",
    "            <td>학생</td><td>프로그래머</td><td>회계사</td>\n",
    "        </tr>\n",
    "        <tr>\n",
    "            <td>서울시 강남구</td><td id=\"target\">제주도 서귀포시</td><td>경기도 안양시</td>\n",
    "        </tr>\n",
    "    </table>\n",
    "</body>\n",
    "</html>\n",
    "'''"
   ]
  },
  {
   "cell_type": "code",
   "execution_count": 3,
   "id": "c2852205-42e1-477c-ab91-34f02ff70287",
   "metadata": {},
   "outputs": [],
   "source": [
    "from bs4 import BeautifulSoup"
   ]
  },
  {
   "cell_type": "code",
   "execution_count": null,
   "id": "ca9924c9-8ddb-486f-bbb3-3dacefe06d97",
   "metadata": {},
   "outputs": [],
   "source": [
    "bs_obj=BeautifulSoup(html_str,\"html.parser\")"
   ]
  },
  {
   "cell_type": "code",
   "execution_count": 41,
   "id": "d1000d1d",
   "metadata": {},
   "outputs": [
    {
     "data": {
      "text/plain": [
       "'HTML의 링크 태그'"
      ]
     },
     "execution_count": 41,
     "metadata": {},
     "output_type": "execute_result"
    },
    {
     "data": {
      "text/plain": [
       "'HTML의 링크 태그'"
      ]
     },
     "execution_count": 41,
     "metadata": {},
     "output_type": "execute_result"
    }
   ],
   "source": [
    "# <h1> 태그의 텍스트 출력\n",
    "bs_obj.find(\"h1\").text\n",
    "bs_obj.select_one(\"h1\").text"
   ]
  },
  {
   "cell_type": "code",
   "execution_count": 97,
   "id": "e99749a2",
   "metadata": {},
   "outputs": [
    {
     "name": "stdout",
     "output_type": "stream",
     "text": [
      "World Wide Consortium http://www.w3.org/\n",
      "Java Page http://java.sun.com/\n",
      "Python Page http://www.python.org/\n",
      "Web Client 기술 학습 http://www.w3schools.com/\n",
      "\n",
      " http://java.sun.com/\n",
      "World Wide Consortium http://www.w3.org/\n",
      "Java Page http://java.sun.com/\n",
      "Python Page http://www.python.org/\n",
      "Web Client 기술 학습 http://www.w3schools.com/\n",
      "\n",
      " http://java.sun.com/\n"
     ]
    }
   ],
   "source": [
    "# 모든 <a> 태그의 텍스트와 href 속성값 출력\n",
    "for a_href in bs_obj.find_all(\"a\") :\n",
    "    print(a_href.text, a_href[\"href\"])\n",
    "\n",
    "for aa_href in bs_obj.select(\"a\"):\n",
    "    print(aa_href.text, aa_href[\"href\"])"
   ]
  },
  {
   "cell_type": "code",
   "execution_count": 93,
   "id": "d0fd6099",
   "metadata": {},
   "outputs": [
    {
     "data": {
      "text/plain": [
       "'http://www.abc.co.kr/image/abc.jpg'"
      ]
     },
     "execution_count": 93,
     "metadata": {},
     "output_type": "execute_result"
    },
    {
     "data": {
      "text/plain": [
       "[<img src=\"http://www.abc.co.kr/image/abc.jpg\" width=\"100\"/>]"
      ]
     },
     "execution_count": 93,
     "metadata": {},
     "output_type": "execute_result"
    }
   ],
   "source": [
    "# <img> 태그의 src 속성값 출력\n",
    "bs_obj.find(\"img\")[\"src\"]\n",
    "bs_obj.select(\"img\")"
   ]
  },
  {
   "cell_type": "code",
   "execution_count": 98,
   "id": "e2dabf0e",
   "metadata": {},
   "outputs": [
    {
     "data": {
      "text/plain": [
       "'좋아하는 색'"
      ]
     },
     "execution_count": 98,
     "metadata": {},
     "output_type": "execute_result"
    },
    {
     "data": {
      "text/plain": [
       "'좋아하는 색'"
      ]
     },
     "execution_count": 98,
     "metadata": {},
     "output_type": "execute_result"
    }
   ],
   "source": [
    "# 첫 번째 <h2> 태그의 컨텐츠\n",
    "bs_obj.find(\"h2\").text\n",
    "bs_obj.select_one(\"h2\").text"
   ]
  },
  {
   "cell_type": "code",
   "execution_count": 114,
   "id": "2ee511cc-1ddb-4876-90fa-5f1aeb31a9fa",
   "metadata": {},
   "outputs": [
    {
     "data": {
      "text/plain": [
       "[<li class=\"color\">파란색</li>,\n",
       " <li class=\"color\">노란색</li>,\n",
       " <li class=\"color\">녹색</li>,\n",
       " <li class=\"color\">주황색</li>]"
      ]
     },
     "execution_count": 114,
     "metadata": {},
     "output_type": "execute_result"
    },
    {
     "name": "stdout",
     "output_type": "stream",
     "text": [
      "\n",
      "파란색\n",
      "\n",
      "노란색\n",
      "\n",
      "녹색\n",
      "\n",
      "주황색\n",
      "\n",
      "파란색\n",
      "노란색\n",
      "녹색\n",
      "주황색\n"
     ]
    }
   ],
   "source": [
    "# 좋아하는 색 4가지 출력\n",
    "# <ul> 태그의 자식 태그들 중 class 속성 값이 color인 태그의 텍스트 출력\n",
    "bs_obj.find_all(\"li\", {\"class\":\"color\"})\n",
    "for color in bs_obj.find(\"ul\"):\n",
    "    print(color.text.strip())\n",
    "\n",
    "for color2 in bs_obj.select(\"ul > li\"):\n",
    "    print(color2.text)"
   ]
  },
  {
   "cell_type": "code",
   "execution_count": 59,
   "id": "b88ef39b",
   "metadata": {},
   "outputs": [
    {
     "data": {
      "text/plain": [
       "<h2>먹고싶은 음식</h2>"
      ]
     },
     "execution_count": 59,
     "metadata": {},
     "output_type": "execute_result"
    }
   ],
   "source": [
    "# 두 번째 <h2> 태그의 컨텐츠\n",
    "bs_obj.find_all(\"h2\")[1]"
   ]
  },
  {
   "cell_type": "code",
   "execution_count": 112,
   "id": "3b11baff",
   "metadata": {},
   "outputs": [
    {
     "name": "stdout",
     "output_type": "stream",
     "text": [
      "\n",
      "짜장면\n",
      "\n",
      "김밥\n",
      "\n",
      "돈까스\n",
      "\n",
      "떡볶이\n",
      "\n",
      "짜장면\n",
      "김밥\n",
      "돈까스\n",
      "떡볶이\n"
     ]
    }
   ],
   "source": [
    "# 먹고싶은 음식 4개 출력\n",
    "\n",
    "for food in bs_obj.find(\"ol\"):\n",
    "    print(food.text.strip())\n",
    "\n",
    "for food2 in bs_obj.select(\"ol > li\"):\n",
    "    print(food2.text)"
   ]
  },
  {
   "cell_type": "code",
   "execution_count": 115,
   "id": "16c820be",
   "metadata": {},
   "outputs": [
    {
     "data": {
      "text/plain": [
       "<table border=\"1\">\n",
       "<tr class=\"name\">\n",
       "<th>홍길동</th><th>이몽룡</th><th>성춘향</th>\n",
       "</tr>\n",
       "<tr>\n",
       "<td>학생</td><td>프로그래머</td><td>회계사</td>\n",
       "</tr>\n",
       "<tr>\n",
       "<td>서울시 강남구</td><td id=\"target\">제주도 서귀포시</td><td>경기도 안양시</td>\n",
       "</tr>\n",
       "</table>"
      ]
     },
     "execution_count": 115,
     "metadata": {},
     "output_type": "execute_result"
    },
    {
     "data": {
      "text/plain": [
       "<table border=\"1\">\n",
       "<tr class=\"name\">\n",
       "<th>홍길동</th><th>이몽룡</th><th>성춘향</th>\n",
       "</tr>\n",
       "<tr>\n",
       "<td>학생</td><td>프로그래머</td><td>회계사</td>\n",
       "</tr>\n",
       "<tr>\n",
       "<td>서울시 강남구</td><td id=\"target\">제주도 서귀포시</td><td>경기도 안양시</td>\n",
       "</tr>\n",
       "</table>"
      ]
     },
     "execution_count": 115,
     "metadata": {},
     "output_type": "execute_result"
    }
   ],
   "source": [
    "# <table> 태그 출력  \n",
    "bs_obj.find(\"table\")\n",
    "bs_obj.select_one(\"table\")"
   ]
  },
  {
   "cell_type": "code",
   "execution_count": 116,
   "id": "d61af814",
   "metadata": {},
   "outputs": [
    {
     "data": {
      "text/plain": [
       "'노란색'"
      ]
     },
     "execution_count": 116,
     "metadata": {},
     "output_type": "execute_result"
    },
    {
     "data": {
      "text/plain": [
       "'노란색'"
      ]
     },
     "execution_count": 116,
     "metadata": {},
     "output_type": "execute_result"
    },
    {
     "data": {
      "text/plain": [
       "'노란색'"
      ]
     },
     "execution_count": 116,
     "metadata": {},
     "output_type": "execute_result"
    },
    {
     "data": {
      "text/plain": [
       "'노란색'"
      ]
     },
     "execution_count": 116,
     "metadata": {},
     "output_type": "execute_result"
    }
   ],
   "source": [
    "# 좋아하는 색 중에서 '노란색'만 출력\n",
    "bs_obj.find_all(\"li\", {\"class\":\"color\"})[1].text\n",
    "\n",
    "bs_obj.select(\"ul > li\")[1].text\n",
    "bs_obj.select(\"ul >.color\")[1].text\n",
    "bs_obj.select(\".color\")[1].text"
   ]
  },
  {
   "cell_type": "code",
   "execution_count": 86,
   "id": "83d4c13e",
   "metadata": {},
   "outputs": [
    {
     "data": {
      "text/plain": [
       "'제주도 서귀포시'"
      ]
     },
     "execution_count": 86,
     "metadata": {},
     "output_type": "execute_result"
    },
    {
     "data": {
      "text/plain": [
       "[<td id=\"target\">제주도 서귀포시</td>]"
      ]
     },
     "execution_count": 86,
     "metadata": {},
     "output_type": "execute_result"
    }
   ],
   "source": [
    "# target이라는 아이디 속성을 갖는 <td> 태그의 컨텐츠\n",
    "bs_obj.find(\"td\", {\"id\":\"target\"}).text\n",
    "bs_obj.select(\"#target\")"
   ]
  },
  {
   "cell_type": "code",
   "execution_count": null,
   "id": "2084bc58-96bb-461d-973e-d1cf32768c51",
   "metadata": {},
   "outputs": [],
   "source": []
  }
 ],
 "metadata": {
  "kernelspec": {
   "display_name": "“scrapSrc",
   "language": "python",
   "name": "scraping_source"
  },
  "language_info": {
   "codemirror_mode": {
    "name": "ipython",
    "version": 3
   },
   "file_extension": ".py",
   "mimetype": "text/x-python",
   "name": "python",
   "nbconvert_exporter": "python",
   "pygments_lexer": "ipython3",
   "version": "3.12.7"
  }
 },
 "nbformat": 4,
 "nbformat_minor": 5
}
