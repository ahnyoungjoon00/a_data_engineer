{
 "cells": [
  {
   "cell_type": "markdown",
   "id": "ef449059-8b13-412e-be96-bdc8de6a7145",
   "metadata": {},
   "source": [
    "## JSON (JavaScript Object Notation)  \n",
    "- 자바스크립트 객체 표기법  \n",
    "- key와 value 값이 쌍으로 구성된 형태의 객체 표기법  \n",
    "- 클라이언트와 서버 사이에서 정보를 교환하기 위한 목적으로 사용  \n",
    "- API 호출 결과 JSON 형태로 많이 반환   \n",
    "- XML 표기보다 간단  \n",
    "- 파일 확장명 : json (예: data.json)   \n",
    "- ‘제이선’, ‘제이썬’, ‘제이슨’ 등으로 읽음  "
   ]
  },
  {
   "cell_type": "markdown",
   "id": "d0f85e33-1603-4dae-9434-d4ea16cf4cf9",
   "metadata": {},
   "source": [
    "### JSON 사용법\n",
    "- JSON 형식의 문자열 : {\"name\":\"홍길동\", \"age\":33}  \n",
    "- loads() 메소드를 사용해서 문자열을 JSON 객체로 변환 : json.loads(문자열)  \n",
    "- JSON 객체를 통해 메소드 사용 : JSON객체.get('name')  "
   ]
  },
  {
   "cell_type": "code",
   "execution_count": 1,
   "id": "3983744b-b0af-44c6-9a5c-a7499b2efecb",
   "metadata": {},
   "outputs": [],
   "source": [
    "from IPython.core.interactiveshell import InteractiveShell\n",
    "InteractiveShell.ast_node_interactivity=\"all\""
   ]
  },
  {
   "cell_type": "code",
   "execution_count": 2,
   "id": "4203fc91-a436-41e9-b73e-7e3a511cf17d",
   "metadata": {},
   "outputs": [],
   "source": [
    "import json"
   ]
  },
  {
   "cell_type": "code",
   "execution_count": 12,
   "id": "42887058-d6a7-4e05-bdeb-54db35184b46",
   "metadata": {},
   "outputs": [
    {
     "data": {
      "text/plain": [
       "str"
      ]
     },
     "execution_count": 12,
     "metadata": {},
     "output_type": "execute_result"
    },
    {
     "name": "stdout",
     "output_type": "stream",
     "text": [
      "<class 'dict'> {'name': '홍길동', 'age': 33}\n"
     ]
    }
   ],
   "source": [
    "# JSON 형식의 문자열 : 따옴표 있음\n",
    "json_str = \"{'name':'홍길동', 'age':33}\" # key에 대한 따옴표는 큰 따옴표 사용\n",
    "json_str = '{\"name\":\"홍길동\", \"age\":33}' # 이렇게 해줘야 json 객체로 변환시 인식이 가능\n",
    "type(json_str)\n",
    "json_obj = json.loads(json_str)\n",
    "print(type(json_obj), json_obj)"
   ]
  },
  {
   "cell_type": "code",
   "execution_count": 13,
   "id": "e3bf0feb-cc10-41f1-bda6-9660d0216fa4",
   "metadata": {},
   "outputs": [
    {
     "data": {
      "text/plain": [
       "'홍길동'"
      ]
     },
     "execution_count": 13,
     "metadata": {},
     "output_type": "execute_result"
    },
    {
     "data": {
      "text/plain": [
       "33"
      ]
     },
     "execution_count": 13,
     "metadata": {},
     "output_type": "execute_result"
    }
   ],
   "source": [
    "# 각 요소의 값 추출 : get() 메소드 사용\n",
    "json_obj.get(\"name\")\n",
    "json_obj.get(\"age\")"
   ]
  },
  {
   "cell_type": "code",
   "execution_count": 14,
   "id": "b3f0faf1-770e-441e-8176-a46f220e73ce",
   "metadata": {},
   "outputs": [
    {
     "data": {
      "text/plain": [
       "'홍길동'"
      ]
     },
     "execution_count": 14,
     "metadata": {},
     "output_type": "execute_result"
    },
    {
     "data": {
      "text/plain": [
       "33"
      ]
     },
     "execution_count": 14,
     "metadata": {},
     "output_type": "execute_result"
    }
   ],
   "source": [
    "# 각 요소의 값 추출 : key 사용\n",
    "json_obj[\"name\"]\n",
    "json_obj[\"age\"]"
   ]
  },
  {
   "cell_type": "code",
   "execution_count": 15,
   "id": "ca7fc703-7cac-4501-a30d-aa723115776f",
   "metadata": {},
   "outputs": [
    {
     "data": {
      "text/plain": [
       "{'fruits': [{'fruit': 'apple'}, {'fruit': 'pear'}, {'fruit': 'banana'}],\n",
       " 'prices': [{'price': 1000}, {'price': 2000}, {'price': 3000}]}"
      ]
     },
     "execution_count": 15,
     "metadata": {},
     "output_type": "execute_result"
    }
   ],
   "source": [
    "json_str = '''\n",
    "    {\"fruits\":[{\"fruit\":\"apple\"}, {\"fruit\":\"pear\"}, {\"fruit\":\"banana\"}],\n",
    "     \"prices\":[{\"price\":1000}, {\"price\":2000}, {\"price\":3000}]}\n",
    "'''\n",
    "# json 형식이고, value의 원소가 json형식으로 되어져 있는(json안에 또다른 json이 있는 구조)\n",
    "# JSON 형식의 문자열을 JSON 객체로 변환\n",
    "json_obj = json.loads(json_str)\n",
    "json_obj"
   ]
  },
  {
   "cell_type": "code",
   "execution_count": 16,
   "id": "da41631b-f14d-4401-bbde-23963d1f3b4a",
   "metadata": {},
   "outputs": [
    {
     "data": {
      "text/plain": [
       "[{'fruit': 'apple'}, {'fruit': 'pear'}, {'fruit': 'banana'}]"
      ]
     },
     "execution_count": 16,
     "metadata": {},
     "output_type": "execute_result"
    },
    {
     "data": {
      "text/plain": [
       "[{'fruit': 'apple'}, {'fruit': 'pear'}, {'fruit': 'banana'}]"
      ]
     },
     "execution_count": 16,
     "metadata": {},
     "output_type": "execute_result"
    }
   ],
   "source": [
    "# 변수명 fruits 요소 출력\n",
    "json_obj.get(\"fruits\")\n",
    "json_obj[\"fruits\"]"
   ]
  },
  {
   "cell_type": "code",
   "execution_count": 19,
   "id": "17cb7270-bb77-4d22-92bb-0b263033f32e",
   "metadata": {},
   "outputs": [
    {
     "data": {
      "text/plain": [
       "'apple'"
      ]
     },
     "execution_count": 19,
     "metadata": {},
     "output_type": "execute_result"
    },
    {
     "data": {
      "text/plain": [
       "'apple'"
      ]
     },
     "execution_count": 19,
     "metadata": {},
     "output_type": "execute_result"
    }
   ],
   "source": [
    "json_obj.get(\"fruits\")[0].get(\"fruit\")\n",
    "json_obj[\"fruits\"][0][\"fruit\"]"
   ]
  },
  {
   "cell_type": "code",
   "execution_count": 22,
   "id": "71254ce0",
   "metadata": {},
   "outputs": [
    {
     "data": {
      "text/plain": [
       "1000"
      ]
     },
     "execution_count": 22,
     "metadata": {},
     "output_type": "execute_result"
    },
    {
     "data": {
      "text/plain": [
       "1000"
      ]
     },
     "execution_count": 22,
     "metadata": {},
     "output_type": "execute_result"
    }
   ],
   "source": [
    "json_obj.get(\"prices\")[0][\"price\"]\n",
    "json_obj[\"prices\"][0].get(\"price\")"
   ]
  },
  {
   "cell_type": "code",
   "execution_count": 24,
   "id": "9d472563",
   "metadata": {},
   "outputs": [
    {
     "data": {
      "text/plain": [
       "'apple'"
      ]
     },
     "execution_count": 24,
     "metadata": {},
     "output_type": "execute_result"
    },
    {
     "data": {
      "text/plain": [
       "'pear'"
      ]
     },
     "execution_count": 24,
     "metadata": {},
     "output_type": "execute_result"
    },
    {
     "data": {
      "text/plain": [
       "'banana'"
      ]
     },
     "execution_count": 24,
     "metadata": {},
     "output_type": "execute_result"
    },
    {
     "data": {
      "text/plain": [
       "1000"
      ]
     },
     "execution_count": 24,
     "metadata": {},
     "output_type": "execute_result"
    },
    {
     "data": {
      "text/plain": [
       "2000"
      ]
     },
     "execution_count": 24,
     "metadata": {},
     "output_type": "execute_result"
    },
    {
     "data": {
      "text/plain": [
       "3000"
      ]
     },
     "execution_count": 24,
     "metadata": {},
     "output_type": "execute_result"
    }
   ],
   "source": [
    "for item in json_obj[\"fruits\"]:\n",
    "    item[\"fruit\"]\n",
    "for item in json_obj[\"prices\"]:\n",
    "    item[\"price\"]"
   ]
  },
  {
   "cell_type": "code",
   "execution_count": 25,
   "id": "02f6541e",
   "metadata": {},
   "outputs": [
    {
     "name": "stdout",
     "output_type": "stream",
     "text": [
      "apple 1000\n",
      "pear 2000\n",
      "banana 3000\n"
     ]
    }
   ],
   "source": [
    "# 인덱싱이 가능한 집합데이터인 경우 zip(첫번째 집합, 두번째 집합)사용하면 동일 인덱스 data끼리 묶어서 반환가능\n",
    "# [1, 2, 3, 4]/[a, b, c, d]\n",
    "# zip : (1, a), (2, b), (3, c), (4, d)\n",
    "for fruit, price in zip(json_obj[\"fruits\"], json_obj[\"prices\"]):\n",
    "    print(fruit[\"fruit\"], price[\"price\"])"
   ]
  },
  {
   "cell_type": "markdown",
   "id": "3bdf988c-371d-484b-89dd-249399bdf0f2",
   "metadata": {},
   "source": [
    "#### JSON 연습문제"
   ]
  },
  {
   "cell_type": "code",
   "execution_count": 26,
   "id": "65bb900d-7d6e-41de-8470-9ca09b0a790f",
   "metadata": {},
   "outputs": [],
   "source": [
    "json_str = '''\n",
    "{\n",
    "\t\"lastBuildDate\":\"Thu, 15 Sep 2024 12:50:30 +0900\",\n",
    "\t\"total\":949667,\n",
    "\t\"start\":1,\n",
    "\t\"display\":10,\n",
    "\t\"items\":[\n",
    "\t\t{\n",
    "\t\t\t\"title\":\"아이폰 사파리 텍스트 찾기 <b>단어</b> <b>검색</b> 방법 정리\",\n",
    "\t\t\t\"link\":\"https://blog.naver.com/jhbksgi/222982804031\",\n",
    "\t\t\t\"description\":\"아이폰 사파리 크롬 텍스트 찾기 <b>단어</b> <b>검색</b> 방법 정리 글/사진 : 곰T 기본적으로 컴퓨터용, 모바일용 Browser에는 '<b>검색</b>' 기능이 있습니다. 그냥 <b>검색</b>(Search)이라고 하면 감이 잘 오지 않을 수 있겠네요. 좀 더... \",\n",
    "\t\t\t\"bloggername\":\"곰T의 IT트러블슈팅\",\n",
    "\t\t\t\"bloggerlink\":\"blog.naver.com/jhbksgi\",\n",
    "\t\t\t\"postdate\":\"20240112\"\n",
    "\t\t},\n",
    "\t\t{\n",
    "\t\t\t\"title\":\"영어<b>단어</b> <b>검색</b>은 꼭 구글을 이용하기 네이버영어사전 vs... \",\n",
    "\t\t\t\"link\":\"https://blog.naver.com/rhyrhyrhy/222923284547\",\n",
    "\t\t\t\"description\":\"leave 의 뜻이라고 <b>검색</b>이 됩니다. 사실 이 <b>단어</b> 한개 뿐만이 아니라, 이런식으로 네이버 포털<b>검색</b>으로 정확한 의미를 찾을 수 없었던 <b>단어</b>들이 더 있었어요. 0 점대 레벨 도서에 나와있는 <b>단어</b>들, 게다가... \",\n",
    "\t\t\t\"bloggername\":\"키즈 영어서점 중고 영어 원서 전문 (ar가입지사)\",\n",
    "\t\t\t\"bloggerlink\":\"blog.naver.com/rhyrhyrhy\",\n",
    "\t\t\t\"postdate\":\"20240712\"\n",
    "\t\t},\n",
    "\t\t{\n",
    "\t\t\t\"title\":\"영어 <b>단어</b>로 유튜브 영상 <b>검색</b>해주는 유글리쉬 사용법\",\n",
    "\t\t\t\"link\":\"https://blog.naver.com/tepet/222697272255\",\n",
    "\t\t\t\"description\":\"있는 분야의 핵심 <b>단어</b>를 입력하면, 그 <b>단어</b>가 사용된 문장이 나와주기 때문에 발음과 주로 함께 사용되는 <b>단어</b>들까지 강제로 영어 공부가 된다. #영어<b>단어</b> #유튜브 #영상<b>검색</b> #유글리쉬 #사용법\",\n",
    "\t\t\t\"bloggername\":\"19%\",\n",
    "\t\t\t\"bloggerlink\":\"blog.naver.com/tepet\",\n",
    "\t\t\t\"postdate\":\"20240911\"\n",
    "\t\t}\n",
    "\t]\n",
    "}\n",
    "'''"
   ]
  },
  {
   "cell_type": "code",
   "execution_count": 41,
   "id": "1299ee01-2d02-47da-ad90-fce2c44061c1",
   "metadata": {},
   "outputs": [
    {
     "data": {
      "text/plain": [
       "'아이폰 사파리 텍스트 찾기 <b>단어</b> <b>검색</b> 방법 정리'"
      ]
     },
     "execution_count": 41,
     "metadata": {},
     "output_type": "execute_result"
    },
    {
     "data": {
      "text/plain": [
       "'https://blog.naver.com/jhbksgi/222982804031'"
      ]
     },
     "execution_count": 41,
     "metadata": {},
     "output_type": "execute_result"
    }
   ],
   "source": [
    "# (1) title과 link 추출해서 데이터프레임으로 생성\n",
    "json_obj = json.loads(json_str)\n",
    "json_obj[\"items\"][0][\"title\"]\n",
    "json_obj[\"items\"][0][\"link\"]"
   ]
  },
  {
   "cell_type": "code",
   "execution_count": 42,
   "id": "ef67ac3e-a7d4-4569-97b1-fa92a582108c",
   "metadata": {},
   "outputs": [
    {
     "data": {
      "text/html": [
       "<div>\n",
       "<style scoped>\n",
       "    .dataframe tbody tr th:only-of-type {\n",
       "        vertical-align: middle;\n",
       "    }\n",
       "\n",
       "    .dataframe tbody tr th {\n",
       "        vertical-align: top;\n",
       "    }\n",
       "\n",
       "    .dataframe thead th {\n",
       "        text-align: right;\n",
       "    }\n",
       "</style>\n",
       "<table border=\"1\" class=\"dataframe\">\n",
       "  <thead>\n",
       "    <tr style=\"text-align: right;\">\n",
       "      <th></th>\n",
       "      <th>title</th>\n",
       "      <th>link</th>\n",
       "    </tr>\n",
       "  </thead>\n",
       "  <tbody>\n",
       "    <tr>\n",
       "      <th>0</th>\n",
       "      <td>아이폰 사파리 텍스트 찾기 단어 검색 방법 정리</td>\n",
       "      <td>https://blog.naver.com/jhbksgi/222982804031</td>\n",
       "    </tr>\n",
       "    <tr>\n",
       "      <th>1</th>\n",
       "      <td>영어단어 검색은 꼭 구글을 이용하기 네이버영어사전 vs...</td>\n",
       "      <td>https://blog.naver.com/rhyrhyrhy/222923284547</td>\n",
       "    </tr>\n",
       "    <tr>\n",
       "      <th>2</th>\n",
       "      <td>영어 단어로 유튜브 영상 검색해주는 유글리쉬 사용법</td>\n",
       "      <td>https://blog.naver.com/tepet/222697272255</td>\n",
       "    </tr>\n",
       "  </tbody>\n",
       "</table>\n",
       "</div>"
      ],
      "text/plain": [
       "                                title  \\\n",
       "0          아이폰 사파리 텍스트 찾기 단어 검색 방법 정리   \n",
       "1  영어단어 검색은 꼭 구글을 이용하기 네이버영어사전 vs...    \n",
       "2        영어 단어로 유튜브 영상 검색해주는 유글리쉬 사용법   \n",
       "\n",
       "                                            link  \n",
       "0    https://blog.naver.com/jhbksgi/222982804031  \n",
       "1  https://blog.naver.com/rhyrhyrhy/222923284547  \n",
       "2      https://blog.naver.com/tepet/222697272255  "
      ]
     },
     "execution_count": 42,
     "metadata": {},
     "output_type": "execute_result"
    }
   ],
   "source": [
    "import pandas as pd\n",
    "\n",
    "title, link =[], []\n",
    "for item in json_obj[\"items\"]:\n",
    "    title.append(item[\"title\"].replace(\"<b>\", \"\").replace(\"</b>\", \"\"))\n",
    "    link.append(item[\"link\"])\n",
    "df = pd.DataFrame({\"title\":title, \"link\":link})\n",
    "df"
   ]
  },
  {
   "cell_type": "code",
   "execution_count": 3,
   "id": "4c61d2a8-9473-42df-b0d0-5aede4016a59",
   "metadata": {},
   "outputs": [],
   "source": [
    "response_str = '''\n",
    "{\"document\":\n",
    "    {\"sentiment\":\"positive\",\n",
    "     \"confidence\":{\"negative\":49.999836,\"positive\":49.99994,\"neutral\":2.2533219E-4}},\n",
    " \"sentences\":[{\"content\":\"깨끗하고 조용하다.\",\n",
    "               \"offset\":0,\n",
    "               \"length\":10,\n",
    "               \"sentiment\":\"positive\",\n",
    "               \"confidence\":{\"negative\":9.7744305E-6,\"positive\":0.9999782,\"neutral\":1.2002993E-5},\n",
    "               \"highlights\":[{\"offset\":0,\"length\":9}]},\n",
    "              {\"content\":\"너무 좁다.\",\n",
    "               \"offset\":10,\n",
    "               \"length\":7,\n",
    "               \"sentiment\":\"negative\",\n",
    "               \"confidence\":{\"negative\":0.99997044,\"positive\":1.45897975E-5,\"neutral\":1.50368705E-5},\n",
    "               \"highlights\":[{\"offset\":1,\"length\":5}]}\n",
    "             ]\n",
    "}\n",
    "'''"
   ]
  },
  {
   "cell_type": "code",
   "execution_count": 4,
   "id": "d85951f0-65c5-4de4-9e2a-bd1878742222",
   "metadata": {},
   "outputs": [],
   "source": [
    "json_obj = json.loads(response_str)"
   ]
  },
  {
   "cell_type": "code",
   "execution_count": 7,
   "id": "3ea13628-988d-4fd1-a09b-e8aabd4209aa",
   "metadata": {},
   "outputs": [
    {
     "data": {
      "text/plain": [
       "'깨끗하고 조용하다.'"
      ]
     },
     "execution_count": 7,
     "metadata": {},
     "output_type": "execute_result"
    },
    {
     "data": {
      "text/plain": [
       "'깨끗하고 조용하다.'"
      ]
     },
     "execution_count": 7,
     "metadata": {},
     "output_type": "execute_result"
    },
    {
     "data": {
      "text/plain": [
       "'너무 좁다.'"
      ]
     },
     "execution_count": 7,
     "metadata": {},
     "output_type": "execute_result"
    },
    {
     "data": {
      "text/plain": [
       "'너무 좁다.'"
      ]
     },
     "execution_count": 7,
     "metadata": {},
     "output_type": "execute_result"
    }
   ],
   "source": [
    "# (2) '깨끗하고 조용하다.', '너무 좁다.' 추출\n",
    "for sentence in json_obj[\"sentences\"]:\n",
    "    sentence[\"content\"]\n",
    "    sentence.get(\"content\")"
   ]
  },
  {
   "cell_type": "code",
   "execution_count": 9,
   "id": "e4bae88e-54f5-4937-a45c-c7eba8d5d887",
   "metadata": {},
   "outputs": [
    {
     "data": {
      "text/plain": [
       "49.99994"
      ]
     },
     "execution_count": 9,
     "metadata": {},
     "output_type": "execute_result"
    }
   ],
   "source": [
    "# (3) 긍정 수치 출력\n",
    "# \"positive\":0.9999782, \"positive\":1.45897975E-5 에서 0.9999782, 1.45897975E-5\n",
    "json_obj.get(\"document\").get(\"confidence\")[\"positive\"]"
   ]
  },
  {
   "cell_type": "code",
   "execution_count": 12,
   "id": "2cae6535-3a75-4c47-80e5-2216810d34b1",
   "metadata": {},
   "outputs": [
    {
     "data": {
      "text/plain": [
       "0.9999782"
      ]
     },
     "execution_count": 12,
     "metadata": {},
     "output_type": "execute_result"
    },
    {
     "data": {
      "text/plain": [
       "1.45897975e-05"
      ]
     },
     "execution_count": 12,
     "metadata": {},
     "output_type": "execute_result"
    }
   ],
   "source": [
    "for sentence in json_obj[\"sentences\"]:\n",
    "    sentence.get(\"confidence\")[\"positive\"]"
   ]
  },
  {
   "cell_type": "code",
   "execution_count": null,
   "id": "7d2b9c33",
   "metadata": {},
   "outputs": [],
   "source": []
  }
 ],
 "metadata": {
  "kernelspec": {
   "display_name": "“scrapSrc",
   "language": "python",
   "name": "scraping_source"
  },
  "language_info": {
   "codemirror_mode": {
    "name": "ipython",
    "version": 3
   },
   "file_extension": ".py",
   "mimetype": "text/x-python",
   "name": "python",
   "nbconvert_exporter": "python",
   "pygments_lexer": "ipython3",
   "version": "3.12.7"
  }
 },
 "nbformat": 4,
 "nbformat_minor": 5
}
