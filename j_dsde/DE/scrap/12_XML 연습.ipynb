{
 "cells": [
  {
   "cell_type": "markdown",
   "id": "632c1aa6-a253-42ea-8a70-f58c3d1b8f18",
   "metadata": {},
   "source": [
    "### XML 연습"
   ]
  },
  {
   "cell_type": "markdown",
   "id": "9d990561-24f3-445e-87bd-67a4f0058822",
   "metadata": {},
   "source": [
    "#### XML(eXtensible Markup Language)\n",
    "- W3C에서 개발된 특수 목적 마크업 언어를 만드는데 사용하도록 권장하는 다목적 마크업 언   어\n",
    "- HTML의 한계를 극복할   목적"
   ]
  },
  {
   "cell_type": "code",
   "execution_count": 2,
   "id": "89748c39-c94b-415c-8891-f4cafdc0277d",
   "metadata": {},
   "outputs": [],
   "source": [
    "from IPython.core.interactiveshell import InteractiveShell\n",
    "InteractiveShell.ast_node_interactivity=\"all\""
   ]
  },
  {
   "cell_type": "code",
   "execution_count": 1,
   "id": "eadba7f2-68ff-484f-b18a-8ff5d34dae24",
   "metadata": {},
   "outputs": [],
   "source": [
    "from  bs4 import BeautifulSoup"
   ]
  },
  {
   "cell_type": "code",
   "execution_count": 3,
   "id": "6790283f-84bd-41f2-93bc-00b0fbf99908",
   "metadata": {},
   "outputs": [],
   "source": [
    "xml_str = '''\n",
    "<?xml version=\"1.0\" encoding=\"UTF-8\" standalone=\"yes\"?><response><header><resultcode>00</resultcode><resultmsg>NORMAL SERVICE.</resultmsg></header><body><items><item><id>abcd</id><name>홍길동</name><tel>010-1234-1234</tel><address>서울시 강남구</address></item><item><id>sky</id><name>이몽룡</name><tel>010-5678-5678</tel><address>제주도 제주시</address></item><item><id>lucky</id><name>성춘향</name><tel>010-1111-1111</tel><address>경기도 안양시</address></item></items><numofrows>10</numofrows><pageno>1</pageno><totalcount>4</totalcount></body></response>\n",
    "'''"
   ]
  },
  {
   "cell_type": "code",
   "execution_count": 8,
   "id": "dfb963b3-09aa-4664-a2f2-9563ca0e06e2",
   "metadata": {},
   "outputs": [
    {
     "data": {
      "text/plain": [
       "\n",
       "<?xml version=\"1.0\" encoding=\"UTF-8\" standalone=\"yes\"?><response><header><resultcode>00</resultcode><resultmsg>NORMAL SERVICE.</resultmsg></header><body><items><item><id>abcd</id><name>홍길동</name><tel>010-1234-1234</tel><address>서울시 강남구</address></item><item><id>sky</id><name>이몽룡</name><tel>010-5678-5678</tel><address>제주도 제주시</address></item><item><id>lucky</id><name>성춘향</name><tel>010-1111-1111</tel><address>경기도 안양시</address></item></items><numofrows>10</numofrows><pageno>1</pageno><totalcount>4</totalcount></body></response>"
      ]
     },
     "execution_count": 8,
     "metadata": {},
     "output_type": "execute_result"
    }
   ],
   "source": [
    "bs_obj = BeautifulSoup(xml_str)\n",
    "bs_obj"
   ]
  },
  {
   "cell_type": "code",
   "execution_count": null,
   "id": "8de2d8f3-f596-4db2-8a8f-5f9ed996de37",
   "metadata": {},
   "outputs": [],
   "source": [
    "<items>\n",
    "    <item>\n",
    "        <id>abcd</id>\n",
    "        <name>홍길동</name>\n",
    "        <tel>010-1234-1234</tel>\n",
    "        <address>서울시 강남구</address>\n",
    "    </item>\n",
    "    <item>\n",
    "        <id>sky</id>\n",
    "        <name>이몽룡</name>\n",
    "        <tel>010-5678-5678</tel>\n",
    "        <address>제주도 제주시</address>\n",
    "    </item>\n",
    "    <item>\n",
    "        <id>lucky</id>\n",
    "        <name>성춘향</name>\n",
    "        <tel>010-1111-1111</tel>\n",
    "        <address>경기도 안양시</address>\n",
    "    </item>\n",
    "</items>"
   ]
  },
  {
   "cell_type": "code",
   "execution_count": 11,
   "id": "75652949-7cfe-4b5f-843e-bbc4aa3bd262",
   "metadata": {},
   "outputs": [
    {
     "data": {
      "text/plain": [
       "3"
      ]
     },
     "execution_count": 11,
     "metadata": {},
     "output_type": "execute_result"
    },
    {
     "data": {
      "text/plain": [
       "'abcd'"
      ]
     },
     "execution_count": 11,
     "metadata": {},
     "output_type": "execute_result"
    }
   ],
   "source": [
    "item = bs_obj.find_all(\"item\")\n",
    "len(item)\n",
    "item[0].id.text"
   ]
  },
  {
   "cell_type": "code",
   "execution_count": null,
   "id": "cdca4fd1",
   "metadata": {},
   "outputs": [],
   "source": []
  }
 ],
 "metadata": {
  "kernelspec": {
   "display_name": "“scrapSrc",
   "language": "python",
   "name": "scraping_source"
  },
  "language_info": {
   "codemirror_mode": {
    "name": "ipython",
    "version": 3
   },
   "file_extension": ".py",
   "mimetype": "text/x-python",
   "name": "python",
   "nbconvert_exporter": "python",
   "pygments_lexer": "ipython3",
   "version": "3.12.7"
  }
 },
 "nbformat": 4,
 "nbformat_minor": 5
}
