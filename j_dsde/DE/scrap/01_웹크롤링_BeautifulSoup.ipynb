{
 "cells": [
  {
   "cell_type": "markdown",
   "id": "b33138c4-f547-4823-9d57-722aa21ef905",
   "metadata": {},
   "source": [
    "## 데이터 수집"
   ]
  },
  {
   "cell_type": "markdown",
   "id": "75a81317-7a5d-43cf-8ffe-ca37669dfa64",
   "metadata": {},
   "source": [
    "### 웹 크롤링"
   ]
  },
  {
   "cell_type": "markdown",
   "id": "0e1ecab5-3b5e-423f-9ea9-93ac619a2ae2",
   "metadata": {},
   "source": [
    "#### 웹 크롤링 (web crawling)\n",
    "- 자동화 봇(bot)인 웹 크롤러가 정해진 규칙에 따라 복수 개의 웹 페이지를 브라우징 하는 행위\n",
    "- 크롤러 : 조직적, 자동화된 방법으로 월드와이드 웹을 탐색하는 컴퓨터 프로그램이다.(출처: 위키백과)\n",
    "\n",
    "#### 웹 스크래핑(웹 스크레이핑)(web scraping)\n",
    "- 웹 사이트 상에서 원하는 부분에 위치한 정보를 컴퓨터로 하여금 자동으로 추출하여 수집하는 기술\n",
    "  \n",
    "#### 파싱 (parsing)\n",
    "- 받아온 데이터에서 필요로 하는 내용을 추출하 는 것\n",
    "\n"
   ]
  },
  {
   "cell_type": "markdown",
   "id": "ea211167-6d11-4ae2-b761-c2a6474ecac4",
   "metadata": {},
   "source": [
    "### 웹 크롤링\n",
    "(1) html 문서 내용 읽어오기\n",
    "- url에 접속\n",
    "  - urllib 패키지의 urlopen() 함수 사용\n",
    "  - urllib 패키지 : url(인터넷 주소)을 넣고 실행하면 데이터를 텍스트로 형태로 반환\n",
    "- html 문서  전체 내용 읽어오기\n",
    "   -  read() 함수 사용"
   ]
  },
  {
   "cell_type": "markdown",
   "id": "eae8ee94-fdb2-4740-ae56-cdfdd4ffbf17",
   "metadata": {},
   "source": [
    "### 파싱\n",
    "- html 문서에서 원하는 내용 추출\n",
    "  - 필요한 내용만 추출\n",
    "  - BeautifulSoup 라이브러리 사용\n",
    "    - 데이터를  추출하는데 필요한 기능이 들어 있는라이브러리 (파싱 라이브러리)\n",
    "    - find() / findAll() / find_all() 함수 : 태그 / 속성\n",
    "    - select() / select_one() : 선택자"
   ]
  },
  {
   "cell_type": "markdown",
   "id": "fad7b22b-30d8-473d-961e-fe61b509dffb",
   "metadata": {},
   "source": [
    "### 데이터 수집 방법\n",
    "- BeautifulSoup 라이브러리 사용\n",
    "- Selenium 라이브러리 사용 : 동적 크롤링\n",
    "- Open API 사용"
   ]
  },
  {
   "cell_type": "code",
   "execution_count": null,
   "id": "5283eb4b-69c5-46fb-ac1f-dc277ec734a3",
   "metadata": {},
   "outputs": [],
   "source": []
  },
  {
   "cell_type": "code",
   "execution_count": 2,
   "id": "89f0a65f-e4c5-4401-a540-df7837c5e1be",
   "metadata": {},
   "outputs": [],
   "source": [
    "# 한 셀에서 여러 개의 결과값 출력\n",
    "from IPython.core.interactiveshell import InteractiveShell\n",
    "InteractiveShell.ast_node_interactivity=\"all\""
   ]
  },
  {
   "cell_type": "markdown",
   "id": "e438f1b1-f1d8-4c32-9a0e-8ec1773c5132",
   "metadata": {},
   "source": [
    "### BeautifulSoup 사용법"
   ]
  },
  {
   "cell_type": "code",
   "execution_count": 3,
   "id": "b705b272-f2b7-4605-a6f7-d1a5cc005907",
   "metadata": {},
   "outputs": [],
   "source": [
    "import bs4\n",
    "# 또는\n",
    "from bs4 import BeautifulSoup"
   ]
  },
  {
   "cell_type": "code",
   "execution_count": 4,
   "id": "fa157da4-e0b4-4cf9-9a88-31104313dea0",
   "metadata": {},
   "outputs": [],
   "source": [
    "# import bs4 실행해서 오류 있으면 패키지 설치\n",
    "# !pip install bs4 "
   ]
  },
  {
   "cell_type": "code",
   "execution_count": 5,
   "id": "a325f1ab-c6bf-4787-a91a-f6a47b7df7bb",
   "metadata": {},
   "outputs": [],
   "source": [
    "# test 용 html 문서 내용\n",
    "html_str = \"<html><div>hello</div></html>\""
   ]
  },
  {
   "cell_type": "code",
   "execution_count": 6,
   "id": "7cc22a0d-d3b5-4329-9875-8cae03b8cfb7",
   "metadata": {},
   "outputs": [
    {
     "data": {
      "text/plain": [
       "<html><div>hello</div></html>"
      ]
     },
     "execution_count": 6,
     "metadata": {},
     "output_type": "execute_result"
    }
   ],
   "source": [
    "# BeautifulSoup(소스코드, \"파서기명\") => bs4 객체가 반환\n",
    "BeautifulSoup(html_str,\"html.parser\")"
   ]
  },
  {
   "cell_type": "markdown",
   "id": "fc001548-f760-408f-a7c4-77c3909e9a5e",
   "metadata": {},
   "source": [
    "########################## 태그명으로 추출 ##############"
   ]
  },
  {
   "cell_type": "code",
   "execution_count": 7,
   "id": "fbb3f46e",
   "metadata": {},
   "outputs": [
    {
     "data": {
      "text/plain": [
       "<html><div>hello</div></html>"
      ]
     },
     "execution_count": 7,
     "metadata": {},
     "output_type": "execute_result"
    }
   ],
   "source": [
    "bs_obj = BeautifulSoup(html_str,\"html.parser\")\n",
    "bs_obj"
   ]
  },
  {
   "cell_type": "code",
   "execution_count": 9,
   "id": "93991220",
   "metadata": {},
   "outputs": [
    {
     "data": {
      "text/plain": [
       "<div>hello</div>"
      ]
     },
     "execution_count": 9,
     "metadata": {},
     "output_type": "execute_result"
    },
    {
     "data": {
      "text/plain": [
       "'hello'"
      ]
     },
     "execution_count": 9,
     "metadata": {},
     "output_type": "execute_result"
    }
   ],
   "source": [
    "# {2} bs4함수중에 한개 data만 추출하는 함수 활용해서 추출 -> 태그 기준으로 찾으라 명령\n",
    "# bs4_obj.find(\"태그명\") : 해당 태그 찾아서 반환,동일 태그 여러개면 첫번째 태그만 반환\n",
    "bs_obj.find(\"div\")\n",
    "\n",
    "# data를 포함하는 최종태그면 .text라는 속성을 이용해서 내부 문자열 추출 (.연산자 이용해서 사용)\n",
    "bs_obj.find(\"div\").text"
   ]
  },
  {
   "cell_type": "code",
   "execution_count": 10,
   "id": "df12c0c4-6e73-43f2-af14-657ced308668",
   "metadata": {},
   "outputs": [],
   "source": [
    "# bs4_obj 객체의 text 속성\n",
    "# 어떤 계층이던지 해당 계층내에 있는 모든 text를 반환\n",
    "# text : 특수문자, 일반문자"
   ]
  },
  {
   "cell_type": "code",
   "execution_count": 13,
   "id": "279f8a45-b461-4e9f-9f4a-9edd34be7dea",
   "metadata": {},
   "outputs": [],
   "source": [
    "html_str = \"\"\"\n",
    "<html>\n",
    "    <body>\n",
    "        <ul>\n",
    "            <li>hello</li>\n",
    "            <li>bye</li>\n",
    "            <li>welcome</li>\n",
    "        </ul>\n",
    "    </body>\n",
    "</html>\n",
    "\"\"\""
   ]
  },
  {
   "cell_type": "code",
   "execution_count": 48,
   "id": "f61c85a2-d429-4081-8918-8a7eb0f70a0f",
   "metadata": {},
   "outputs": [
    {
     "data": {
      "text/plain": [
       "'hello'"
      ]
     },
     "execution_count": 48,
     "metadata": {},
     "output_type": "execute_result"
    },
    {
     "data": {
      "text/plain": [
       "<ul>\n",
       "<li>hello</li>\n",
       "<li>bye</li>\n",
       "<li>welcome</li>\n",
       "</ul>"
      ]
     },
     "execution_count": 48,
     "metadata": {},
     "output_type": "execute_result"
    },
    {
     "data": {
      "text/plain": [
       "[<li>hello</li>, <li>bye</li>, <li>welcome</li>]"
      ]
     },
     "execution_count": 48,
     "metadata": {},
     "output_type": "execute_result"
    },
    {
     "name": "stdout",
     "output_type": "stream",
     "text": [
      "hello\n",
      "bye\n",
      "welcome\n",
      "hello\n",
      "bye\n",
      "welcome\n"
     ]
    }
   ],
   "source": [
    "# text 속성 확인\n",
    "bs_obj = BeautifulSoup(html_str, \"html.parser\")\n",
    "bs_obj.find(\"ul\").find(\"li\").text # 이러면 처음 만난 대상만 뱉어냄\n",
    "bs_ul = bs_obj.find(\"ul\")\n",
    "bs_ul\n",
    "bs_ul.find_all(\"li\")\n",
    "# bs_ul[0]"
   ]
  },
  {
   "cell_type": "markdown",
   "id": "848cf6d1",
   "metadata": {},
   "source": [
    "### 여러 객체 값 찾기\n",
    "- 반환 타입이 list이므로 반복문을 이용해 접근하는게 보편적"
   ]
  },
  {
   "cell_type": "code",
   "execution_count": 49,
   "id": "f6d38596",
   "metadata": {},
   "outputs": [
    {
     "name": "stdout",
     "output_type": "stream",
     "text": [
      "hello\n",
      "bye\n",
      "welcome\n",
      "hello\n",
      "bye\n",
      "welcome\n"
     ]
    }
   ],
   "source": [
    "for li in bs_ul.find_all(\"li\"):\n",
    "    print(li.text.strip())\n",
    "\n",
    "text_list = [li.text for li in bs_ul.find_all(\"li\")]\n",
    "result = \"\\n\".join(text_list)\n",
    "print(result)"
   ]
  },
  {
   "cell_type": "markdown",
   "id": "532f74e4-f6a1-40d2-a59c-e45576be3e57",
   "metadata": {},
   "source": [
    "## class 속성으로 추출\n",
    "- 태그 중에 특정 속성을 갖고 있는 태그 추출\n",
    "- find('태그명', {'속성명':'속성값'})\n",
    "- ('ul', {'class':'greet'})"
   ]
  },
  {
   "cell_type": "code",
   "execution_count": 51,
   "id": "4cb1fc5b-254e-43dc-a7cc-af678e56b745",
   "metadata": {},
   "outputs": [],
   "source": [
    "html_str = \"\"\"\n",
    "<html>\n",
    "    <body>\n",
    "        <ul class=\"greet\">\n",
    "            <li>hello</li>\n",
    "            <li>bye</li>\n",
    "            <li>welcome</li>\n",
    "        </ul>\n",
    "        <ul class=\"reply\">\n",
    "            <li>ok</li>\n",
    "            <li>no</li>\n",
    "            <li>sure</li>\n",
    "        </ul>\n",
    "    </body>\n",
    "</html>\n",
    "\"\"\""
   ]
  },
  {
   "cell_type": "code",
   "execution_count": 58,
   "id": "1f5d850c-848f-4871-9671-fe848c3da821",
   "metadata": {},
   "outputs": [
    {
     "data": {
      "text/plain": [
       "<ul class=\"greet\">\n",
       "<li>hello</li>\n",
       "<li>bye</li>\n",
       "<li>welcome</li>\n",
       "</ul>"
      ]
     },
     "execution_count": 58,
     "metadata": {},
     "output_type": "execute_result"
    },
    {
     "data": {
      "text/plain": [
       "[<ul class=\"greet\">\n",
       " <li>hello</li>\n",
       " <li>bye</li>\n",
       " <li>welcome</li>\n",
       " </ul>,\n",
       " <ul class=\"reply\">\n",
       " <li>ok</li>\n",
       " <li>no</li>\n",
       " <li>sure</li>\n",
       " </ul>]"
      ]
     },
     "execution_count": 58,
     "metadata": {},
     "output_type": "execute_result"
    },
    {
     "data": {
      "text/plain": [
       "<ul class=\"reply\">\n",
       "<li>ok</li>\n",
       "<li>no</li>\n",
       "<li>sure</li>\n",
       "</ul>"
      ]
     },
     "execution_count": 58,
     "metadata": {},
     "output_type": "execute_result"
    },
    {
     "data": {
      "text/plain": [
       "[<ul class=\"reply\">\n",
       " <li>ok</li>\n",
       " <li>no</li>\n",
       " <li>sure</li>\n",
       " </ul>]"
      ]
     },
     "execution_count": 58,
     "metadata": {},
     "output_type": "execute_result"
    }
   ],
   "source": [
    "bs_obj=BeautifulSoup(html_str, \"html.parser\")\n",
    "bs_obj.find(\"ul\")\n",
    "bs_obj.find_all(\"ul\")\n",
    "bs_obj.find(\"ul\", {\"class\":\"reply\"})\n",
    "bs_obj.find_all(\"ul\", {\"class\":\"reply\"})"
   ]
  },
  {
   "cell_type": "code",
   "execution_count": 62,
   "id": "b1786581",
   "metadata": {},
   "outputs": [
    {
     "data": {
      "text/plain": [
       "'\\nok\\nno\\nsure\\n'"
      ]
     },
     "execution_count": 62,
     "metadata": {},
     "output_type": "execute_result"
    },
    {
     "data": {
      "text/plain": [
       "<ul class=\"reply\">\n",
       "<li>ok</li>\n",
       "<li>no</li>\n",
       "<li>sure</li>\n",
       "</ul>"
      ]
     },
     "execution_count": 62,
     "metadata": {},
     "output_type": "execute_result"
    },
    {
     "data": {
      "text/plain": [
       "<li>ok</li>"
      ]
     },
     "execution_count": 62,
     "metadata": {},
     "output_type": "execute_result"
    },
    {
     "data": {
      "text/plain": [
       "<li>no</li>"
      ]
     },
     "execution_count": 62,
     "metadata": {},
     "output_type": "execute_result"
    },
    {
     "data": {
      "text/plain": [
       "<li>sure</li>"
      ]
     },
     "execution_count": 62,
     "metadata": {},
     "output_type": "execute_result"
    }
   ],
   "source": [
    "bs_obj.find(\"ul\", {\"class\":\"reply\"}).text\n",
    "\n",
    "bs_ul = bs_obj.find(\"ul\", {\"class\":\"reply\"})\n",
    "bs_ul\n",
    "for li in bs_ul.find_all(\"li\"):\n",
    "    li"
   ]
  },
  {
   "cell_type": "markdown",
   "id": "e5900b8c-c42b-45fb-9d09-ff6348a1bbf4",
   "metadata": {},
   "source": [
    "## id 속성으로 추출 \n",
    "- 태그 내에 id 속성이 포함되어 있어야함"
   ]
  },
  {
   "cell_type": "code",
   "execution_count": 68,
   "id": "11b7b5f4-0968-4471-9e2a-163737ef6e24",
   "metadata": {},
   "outputs": [],
   "source": [
    "html_str = '''\n",
    "<html>\n",
    "    <body>\n",
    "        <h1 id='title'>Hello Python</h1>\n",
    "        <p id=\"crawling\">웹 크롤링</p>\n",
    "        <p id=\"parsing\">파싱</p>\n",
    "    </body>\n",
    "</html>'''\n"
   ]
  },
  {
   "cell_type": "code",
   "execution_count": 69,
   "id": "152227a4-7218-404f-a761-27a53591acaa",
   "metadata": {},
   "outputs": [],
   "source": [
    "bs_obj= BeautifulSoup(html_str, \"html.parser\")"
   ]
  },
  {
   "cell_type": "code",
   "execution_count": 72,
   "id": "9dcf1b2f",
   "metadata": {},
   "outputs": [
    {
     "data": {
      "text/plain": [
       "<h1 id=\"title\">Hello Python</h1>"
      ]
     },
     "execution_count": 72,
     "metadata": {},
     "output_type": "execute_result"
    },
    {
     "data": {
      "text/plain": [
       "'웹 크롤링'"
      ]
     },
     "execution_count": 72,
     "metadata": {},
     "output_type": "execute_result"
    },
    {
     "data": {
      "text/plain": [
       "<h1 id=\"title\">Hello Python</h1>"
      ]
     },
     "execution_count": 72,
     "metadata": {},
     "output_type": "execute_result"
    }
   ],
   "source": [
    "# id의 속성값은 현재 소스내에서 유일해야함 - find를 이용해서 측정지어 찾으면 됨\n",
    "bs_obj.find(\"h1\") # 태그를 활용한 추출은 동일 태그가 여러번 반복되기 때문에 거의 사용 안함\n",
    "bs_obj.find(id=\"crawling\").text\n",
    "bs_obj.find(\"h1\", {\"id\":\"title\"})"
   ]
  },
  {
   "cell_type": "code",
   "execution_count": 73,
   "id": "9be7ae61",
   "metadata": {},
   "outputs": [
    {
     "data": {
      "text/plain": [
       "<p id=\"parsing\">파싱</p>"
      ]
     },
     "execution_count": 73,
     "metadata": {},
     "output_type": "execute_result"
    },
    {
     "data": {
      "text/plain": [
       "'파싱'"
      ]
     },
     "execution_count": 73,
     "metadata": {},
     "output_type": "execute_result"
    }
   ],
   "source": [
    "bs_obj.find(\"p\", {\"id\":\"parsing\"})\n",
    "bs_obj.find(\"p\", {\"id\":\"parsing\"}).text"
   ]
  },
  {
   "cell_type": "markdown",
   "id": "8fcc7fdf-8418-4809-a404-3086827a3b2b",
   "metadata": {},
   "source": [
    "## 형제 노드 찾기\n",
    "- next_sibling"
   ]
  },
  {
   "cell_type": "code",
   "execution_count": 74,
   "id": "63a646bb-8851-4dd3-88b3-86f30919608c",
   "metadata": {},
   "outputs": [],
   "source": [
    "html_str = \"\"\"\n",
    "<html>\n",
    "    <body>\n",
    "        <h1>파이썬 프로그래밍</h1>\n",
    "        <p>웹 페이지 분석</p>\n",
    "        <p>크롤링</p><p>파싱</p>        \n",
    "    </body>\n",
    "</html>\n",
    "\"\"\""
   ]
  },
  {
   "cell_type": "code",
   "execution_count": 75,
   "id": "c82be7a7-9f31-4f80-85ca-59a7fee44a02",
   "metadata": {},
   "outputs": [
    {
     "data": {
      "text/plain": [
       "\n",
       "<html>\n",
       "<body>\n",
       "<h1>파이썬 프로그래밍</h1>\n",
       "<p>웹 페이지 분석</p>\n",
       "<p>크롤링</p><p>파싱</p>\n",
       "</body>\n",
       "</html>"
      ]
     },
     "execution_count": 75,
     "metadata": {},
     "output_type": "execute_result"
    }
   ],
   "source": [
    "bs_obj=BeautifulSoup(html_str,\"html.parser\")\n",
    "bs_obj"
   ]
  },
  {
   "cell_type": "code",
   "execution_count": 83,
   "id": "1e2faf44",
   "metadata": {},
   "outputs": [
    {
     "data": {
      "text/plain": [
       "<p>웹 페이지 분석</p>"
      ]
     },
     "execution_count": 83,
     "metadata": {},
     "output_type": "execute_result"
    },
    {
     "data": {
      "text/plain": [
       "'\\n'"
      ]
     },
     "execution_count": 83,
     "metadata": {},
     "output_type": "execute_result"
    },
    {
     "data": {
      "text/plain": [
       "<p>웹 페이지 분석</p>"
      ]
     },
     "execution_count": 83,
     "metadata": {},
     "output_type": "execute_result"
    },
    {
     "data": {
      "text/plain": [
       "<p>크롤링</p>"
      ]
     },
     "execution_count": 83,
     "metadata": {},
     "output_type": "execute_result"
    },
    {
     "data": {
      "text/plain": [
       "[<p>웹 페이지 분석</p>, <p>크롤링</p>, <p>파싱</p>]"
      ]
     },
     "execution_count": 83,
     "metadata": {},
     "output_type": "execute_result"
    }
   ],
   "source": [
    "bs_obj.find(\"p\") # 첫 p태그\n",
    "bs_obj.find(\"p\").next_sibling # 첫 p태그를 찾고, 그 후에 처음 나오는 같은 depth에 있는 바로 다음 요소를 추출\n",
    "bs_obj.find(\"h1\").next_sibling.next_sibling # 첫 p태그를 찾고, 그 후에 처음 나오는 같은 depth에 있는 바로 다음 요소를 추출 \n",
    "\n",
    "bs_obj.find(\"p\").next_sibling.next_sibling # 첫 h1 태그 이후에 같은 body태그 내의 형제인 p태그를 뱉어냄\n",
    "\n",
    "bs_obj.find_all(\"p\")"
   ]
  },
  {
   "cell_type": "markdown",
   "id": "6805dd32-8581-4d9d-b143-6cbfffa41986",
   "metadata": {},
   "source": [
    "## 태그 내의 특정 속성의 값 추출\n",
    "- \\<a href=\"www.abc.com\">\n",
    "- <a> 태그의 href 속성의 속성값 : www.abc.com   \n",
    "\n",
    "    - a 태그 href 속성을 이용하면 객체가 링크하고 있는 주소 수집이 가능해짐\n",
    "    - img 등 미디어 태그인 경우 src속성을 활용하면 미디어 파일이나 이미지파일을 다운받을 수 있음\n",
    "    - input 태그/select option 등의 value 속성을 활용하면 연결문자등의 구성이 쉬워진다."
   ]
  },
  {
   "cell_type": "code",
   "execution_count": 84,
   "id": "3cfc1808-b5c1-4711-b008-d8dabcb48710",
   "metadata": {},
   "outputs": [],
   "source": [
    "\n",
    "html_str = \"\"\"\n",
    "<html>\n",
    "    <body>\n",
    "        <ul class=\"ko\">\n",
    "            <li><a href=\"https://www.naver.com/\">네이버</a></li>\n",
    "            <li><a href=\"https://www.daum.net/\">다음</a></li>\n",
    "        </ul>\n",
    "        <ul class=\"sns\">\n",
    "            <li><a href=\"https://www.google.com/\">구글</a></li>\n",
    "            <li><a href=\"https://www.facebook.com/\">페이스북</a></li>\n",
    "        </ul>\n",
    "    </body>\n",
    "</html>\n",
    "\"\"\""
   ]
  },
  {
   "cell_type": "code",
   "execution_count": 93,
   "id": "fd54f216-34bb-4afe-ac67-1ef419a91ee5",
   "metadata": {},
   "outputs": [
    {
     "data": {
      "text/plain": [
       "'https://www.naver.com/'"
      ]
     },
     "execution_count": 93,
     "metadata": {},
     "output_type": "execute_result"
    },
    {
     "data": {
      "text/plain": [
       "'https://www.naver.com/'"
      ]
     },
     "execution_count": 93,
     "metadata": {},
     "output_type": "execute_result"
    },
    {
     "data": {
      "text/plain": [
       "'네이버'"
      ]
     },
     "execution_count": 93,
     "metadata": {},
     "output_type": "execute_result"
    },
    {
     "data": {
      "text/plain": [
       "'https://www.daum.net/'"
      ]
     },
     "execution_count": 93,
     "metadata": {},
     "output_type": "execute_result"
    },
    {
     "data": {
      "text/plain": [
       "'다음'"
      ]
     },
     "execution_count": 93,
     "metadata": {},
     "output_type": "execute_result"
    },
    {
     "data": {
      "text/plain": [
       "'https://www.google.com/'"
      ]
     },
     "execution_count": 93,
     "metadata": {},
     "output_type": "execute_result"
    },
    {
     "data": {
      "text/plain": [
       "'구글'"
      ]
     },
     "execution_count": 93,
     "metadata": {},
     "output_type": "execute_result"
    },
    {
     "data": {
      "text/plain": [
       "'https://www.facebook.com/'"
      ]
     },
     "execution_count": 93,
     "metadata": {},
     "output_type": "execute_result"
    },
    {
     "data": {
      "text/plain": [
       "'페이스북'"
      ]
     },
     "execution_count": 93,
     "metadata": {},
     "output_type": "execute_result"
    }
   ],
   "source": [
    "bs_obj=BeautifulSoup(html_str, \"html.parser\")\n",
    "# bs_obj.find_all(\"a\") # 이렇게 태그 객체를 찾는 것이 아니고, 찾아온 태그 객체 내 속성 값을 찾아야함\n",
    "bs_obj.find_all(\"a\")[0][\"href\"]\n",
    "\n",
    "# 소스 내 모든 태그 요소를 가져오는 반복문을 구성해서 씀\n",
    "for a_href in bs_obj.find_all(\"a\"):\n",
    "    a_href[\"href\"]\n",
    "    a_href.text\n",
    "    # 동일한 기능으로는 a_href.get_text()가 있다."
   ]
  },
  {
   "cell_type": "markdown",
   "id": "4f1f94aa-7107-436a-a9d0-5492c5b97cdd",
   "metadata": {},
   "source": [
    "## select() 메소드 사용"
   ]
  },
  {
   "cell_type": "markdown",
   "id": "94d39206-d7c5-4771-94f2-626413327617",
   "metadata": {},
   "source": [
    "select() 메소드\n",
    "- select_one() : 1개의 태그 추출\n",
    "- select() : 여러 개의 태그 추출 (리스트 반환(1개라도 리스트로 반환))\n",
    "- CSS 선택자 그대로 사용 가능 : 아이디 선택자 / 클래스 선택자 / 태그 선택자\n",
    "\n",
    "- .클래스명 : 클래스 선택자\n",
    "  - 같은 클래스 값을 갖는 여러 개 있을 수 있음\n",
    "- #id명 : 유일한 태그 (1개만 추출)\n",
    "- 띄어 쓰기 : **자손** 선택\n",
    "  - div li : div 태그 내의 모든 자손 li\n",
    "- \\> : 자식 선택\n",
    "  - div > li : div 태그 내의 바로 밑의 자식 태그 li"
   ]
  },
  {
   "cell_type": "code",
   "execution_count": 94,
   "id": "6b7d899f-538d-40bd-b86e-2fd6d6d1e8af",
   "metadata": {},
   "outputs": [],
   "source": [
    "html_str = \"\"\"\n",
    "<html>\n",
    "   <body>\n",
    "    \t<div id=\"wrap\">\n",
    "        \t<div id=\"mainMenuBox\">                \t\n",
    "                <ul>  \n",
    "                    <li><a href=\"#\" id='fashion'>패션잡화</a></li>    \n",
    "                    <li><a href=\"#\">주방용품</a></li>                     \t          \n",
    "                    <li><a href=\"#\">생활건강</a></li>\n",
    "                    <li><a href=\"#\">DIY가구</a></li>\n",
    "                </ul>\n",
    "            </div>\n",
    "        \t<div>\n",
    "            \t<table>\n",
    "                \t<tr><td><img src=\"shoes1.jpg\"></td>\n",
    "                    \t  <td><img src=\"shoes2.jpg\"></td>\n",
    "                    \t  <td><img src=\"shoes3.jpg\"></td></tr>\n",
    "                    <tr id=\"prdName\"><td>솔로이스트<br>걸리쉬 리본단화</td>\n",
    "                    \t  <td>맥컬린<br>그레이가보시스트랩 펌프스</td>\n",
    "                          <td>맥컬린<br>섹슈얼인사이드펌프스</td></tr>\n",
    "                    <tr id=\"price\"><td>100,000원</td><td>200,000원</td><td>120,000원</td></tr>\n",
    "                </table>\n",
    "            </div>\n",
    "            <div id=\"out_box\">\n",
    "            \t<div class=\"box\">\n",
    "                \t<h4>공지사항</h4>\n",
    "                    <hr>\n",
    "                    <a href=\"#\">[배송] : 무표배송 변경 안내 24.08.20</a><br>\n",
    "                    <a href=\"#\">[전시] : DIY 가구 전시 안내 24.08.31</a><br>\n",
    "                    <a href=\"#\">[판매] : 11월 특가 상품 안내 24.09.05</a><br>\n",
    "                    <div>공지사항 확인 필수</div>\n",
    "                </div>\n",
    "                <div class=\"box\">\n",
    "                \t<h4>커뮤니티</h4>\n",
    "                    <hr>\n",
    "                    <a href=\"#\">[레시피] : 살 안찌는 야식 만들기</a><br>\n",
    "                    <a href=\"#\">[가구] : 헌집 새집 베스트 가구</a><br>\n",
    "                    <a href=\"#\">[후기] : 배송이 잘못 됐어요 ㅠㅠ</a><br>\n",
    "                    <div>커뮤니티 확인 요청</div>\n",
    "                 </div>\n",
    "            </div>            \n",
    "        </div>\n",
    "    </body>\n",
    "</html>\"\"\""
   ]
  },
  {
   "cell_type": "code",
   "execution_count": 95,
   "id": "51137662-e140-472e-a9bf-bb6ee0171448",
   "metadata": {},
   "outputs": [],
   "source": [
    "bs_obj=BeautifulSoup(html_str,\"html.parser\")"
   ]
  },
  {
   "cell_type": "code",
   "execution_count": 103,
   "id": "f41cd785",
   "metadata": {},
   "outputs": [
    {
     "data": {
      "text/plain": [
       "[<a href=\"#\" id=\"fashion\">패션잡화</a>,\n",
       " <a href=\"#\">주방용품</a>,\n",
       " <a href=\"#\">생활건강</a>,\n",
       " <a href=\"#\">DIY가구</a>,\n",
       " <a href=\"#\">[배송] : 무표배송 변경 안내 24.08.20</a>,\n",
       " <a href=\"#\">[전시] : DIY 가구 전시 안내 24.08.31</a>,\n",
       " <a href=\"#\">[판매] : 11월 특가 상품 안내 24.09.05</a>,\n",
       " <a href=\"#\">[레시피] : 살 안찌는 야식 만들기</a>,\n",
       " <a href=\"#\">[가구] : 헌집 새집 베스트 가구</a>,\n",
       " <a href=\"#\">[후기] : 배송이 잘못 됐어요 ㅠㅠ</a>]"
      ]
     },
     "execution_count": 103,
     "metadata": {},
     "output_type": "execute_result"
    },
    {
     "data": {
      "text/plain": [
       "<a href=\"#\" id=\"fashion\">패션잡화</a>"
      ]
     },
     "execution_count": 103,
     "metadata": {},
     "output_type": "execute_result"
    }
   ],
   "source": [
    "bs_obj.select(\"a\") # 소스 안의 모든 a 태그를 한번에 가져옴, type=list\n",
    "bs_obj.select_one(\"a\")"
   ]
  },
  {
   "cell_type": "code",
   "execution_count": 109,
   "id": "26407831",
   "metadata": {},
   "outputs": [
    {
     "data": {
      "text/plain": [
       "[<div id=\"mainMenuBox\">\n",
       " <ul>\n",
       " <li><a href=\"#\" id=\"fashion\">패션잡화</a></li>\n",
       " <li><a href=\"#\">주방용품</a></li>\n",
       " <li><a href=\"#\">생활건강</a></li>\n",
       " <li><a href=\"#\">DIY가구</a></li>\n",
       " </ul>\n",
       " </div>]"
      ]
     },
     "execution_count": 109,
     "metadata": {},
     "output_type": "execute_result"
    },
    {
     "data": {
      "text/plain": [
       "1"
      ]
     },
     "execution_count": 109,
     "metadata": {},
     "output_type": "execute_result"
    },
    {
     "data": {
      "text/plain": [
       "<div id=\"mainMenuBox\">\n",
       "<ul>\n",
       "<li><a href=\"#\" id=\"fashion\">패션잡화</a></li>\n",
       "<li><a href=\"#\">주방용품</a></li>\n",
       "<li><a href=\"#\">생활건강</a></li>\n",
       "<li><a href=\"#\">DIY가구</a></li>\n",
       "</ul>\n",
       "</div>"
      ]
     },
     "execution_count": 109,
     "metadata": {},
     "output_type": "execute_result"
    }
   ],
   "source": [
    "bs_obj.select(\"#mainMenuBox\") # 어떤 태그로 작성된지 모르고, id만 알고 있는 경우 앞에 #을 붙여서 찾아오기 가능\n",
    "len(bs_obj.select(\"#mainMenuBox\")) # id기준으로 div 태그를 찾았고, div 하나니까 길이가 1로 잡힘\n",
    "bs_obj.select_one(\"#mainMenuBox\") # 그래서 selec_one과 똑같다"
   ]
  },
  {
   "cell_type": "code",
   "execution_count": 110,
   "id": "1c57e131",
   "metadata": {},
   "outputs": [
    {
     "data": {
      "text/plain": [
       "<div id=\"mainMenuBox\">\n",
       "<ul>\n",
       "<li><a href=\"#\" id=\"fashion\">패션잡화</a></li>\n",
       "<li><a href=\"#\">주방용품</a></li>\n",
       "<li><a href=\"#\">생활건강</a></li>\n",
       "<li><a href=\"#\">DIY가구</a></li>\n",
       "</ul>\n",
       "</div>"
      ]
     },
     "execution_count": 110,
     "metadata": {},
     "output_type": "execute_result"
    }
   ],
   "source": [
    "# id값이 mainMenuBox인 div객체 추출\n",
    "bs_obj.select_one(\"div#mainMenuBox\") # 앞에 태그명 붙이면 코드 가독성이 좋음"
   ]
  },
  {
   "cell_type": "code",
   "execution_count": 119,
   "id": "231c6ef8",
   "metadata": {},
   "outputs": [
    {
     "data": {
      "text/plain": [
       "[]"
      ]
     },
     "execution_count": 119,
     "metadata": {},
     "output_type": "execute_result"
    },
    {
     "data": {
      "text/plain": [
       "[<li><a href=\"#\" id=\"fashion\">패션잡화</a></li>,\n",
       " <li><a href=\"#\">주방용품</a></li>,\n",
       " <li><a href=\"#\">생활건강</a></li>,\n",
       " <li><a href=\"#\">DIY가구</a></li>]"
      ]
     },
     "execution_count": 119,
     "metadata": {},
     "output_type": "execute_result"
    }
   ],
   "source": [
    "# id값이 mainMenuBox인 객체 내 모든 li태그 추출, 계층 상관없이 추출:자손선택자 사용\n",
    "bs_obj.select(\"#mainMenuBox > li\") # 이렇게 li를 자식객체로 찾으면 안나옴, 한 depth 아래만 탐색\n",
    "bs_obj.select(\"#mainMenuBox li\") # 이렇게 자손 전체로 찾게되면 나옴"
   ]
  },
  {
   "cell_type": "code",
   "execution_count": 125,
   "id": "efe06c97",
   "metadata": {},
   "outputs": [
    {
     "data": {
      "text/plain": [
       "<div class=\"box\">\n",
       "<h4>공지사항</h4>\n",
       "<hr/>\n",
       "<a href=\"#\">[배송] : 무표배송 변경 안내 24.08.20</a><br/>\n",
       "<a href=\"#\">[전시] : DIY 가구 전시 안내 24.08.31</a><br/>\n",
       "<a href=\"#\">[판매] : 11월 특가 상품 안내 24.09.05</a><br/>\n",
       "<div>공지사항 확인 필수</div>\n",
       "</div>"
      ]
     },
     "execution_count": 125,
     "metadata": {},
     "output_type": "execute_result"
    },
    {
     "data": {
      "text/plain": [
       "16"
      ]
     },
     "execution_count": 125,
     "metadata": {},
     "output_type": "execute_result"
    }
   ],
   "source": [
    "# class 선택자를 사용(.) : 클래스 값이 box인 객체 추출\n",
    "# bs_obj.select(\".box\")\n",
    "# len(bs_obj.select(\".box\"))\n",
    "\n",
    "bs_obj.select_one(\".box\")\n",
    "len(bs_obj.select_one(\".box\"))"
   ]
  },
  {
   "cell_type": "code",
   "execution_count": 133,
   "id": "eea9db7f",
   "metadata": {},
   "outputs": [
    {
     "data": {
      "text/plain": [
       "[<a href=\"#\">[배송] : 무표배송 변경 안내 24.08.20</a>,\n",
       " <a href=\"#\">[전시] : DIY 가구 전시 안내 24.08.31</a>,\n",
       " <a href=\"#\">[판매] : 11월 특가 상품 안내 24.09.05</a>,\n",
       " <a href=\"#\">[레시피] : 살 안찌는 야식 만들기</a>,\n",
       " <a href=\"#\">[가구] : 헌집 새집 베스트 가구</a>,\n",
       " <a href=\"#\">[후기] : 배송이 잘못 됐어요 ㅠㅠ</a>]"
      ]
     },
     "execution_count": 133,
     "metadata": {},
     "output_type": "execute_result"
    },
    {
     "data": {
      "text/plain": [
       "<div>공지사항 확인 필수</div>"
      ]
     },
     "execution_count": 133,
     "metadata": {},
     "output_type": "execute_result"
    },
    {
     "data": {
      "text/plain": [
       "'공지사항 확인 필수'"
      ]
     },
     "execution_count": 133,
     "metadata": {},
     "output_type": "execute_result"
    }
   ],
   "source": [
    "# 클래스 값이 box인 객체의 특정 태그 추출\n",
    "bs_obj.select(\".box a\") # "
   ]
  },
  {
   "cell_type": "code",
   "execution_count": 134,
   "id": "e27805e8",
   "metadata": {},
   "outputs": [
    {
     "data": {
      "text/plain": [
       "<div>공지사항 확인 필수</div>"
      ]
     },
     "execution_count": 134,
     "metadata": {},
     "output_type": "execute_result"
    },
    {
     "data": {
      "text/plain": [
       "'공지사항 확인 필수'"
      ]
     },
     "execution_count": 134,
     "metadata": {},
     "output_type": "execute_result"
    }
   ],
   "source": [
    "# 클래스 값이 box인 객체의 특정 div태그를 추출\n",
    "bs_obj.select(\".box > div\")[0] # 특정 div .box 객체의 자식이면서 자손 태그그\n",
    "bs_obj.select(\".box  div\")[0].text #"
   ]
  },
  {
   "cell_type": "code",
   "execution_count": 136,
   "id": "53a2c04d",
   "metadata": {},
   "outputs": [
    {
     "data": {
      "text/plain": [
       "[<a href=\"#\">[배송] : 무표배송 변경 안내 24.08.20</a>,\n",
       " <a href=\"#\">[전시] : DIY 가구 전시 안내 24.08.31</a>,\n",
       " <a href=\"#\">[판매] : 11월 특가 상품 안내 24.09.05</a>,\n",
       " <a href=\"#\">[레시피] : 살 안찌는 야식 만들기</a>,\n",
       " <a href=\"#\">[가구] : 헌집 새집 베스트 가구</a>,\n",
       " <a href=\"#\">[후기] : 배송이 잘못 됐어요 ㅠㅠ</a>]"
      ]
     },
     "execution_count": 136,
     "metadata": {},
     "output_type": "execute_result"
    },
    {
     "data": {
      "text/plain": [
       "[<a href=\"#\">[배송] : 무표배송 변경 안내 24.08.20</a>,\n",
       " <a href=\"#\">[전시] : DIY 가구 전시 안내 24.08.31</a>,\n",
       " <a href=\"#\">[판매] : 11월 특가 상품 안내 24.09.05</a>,\n",
       " <a href=\"#\">[레시피] : 살 안찌는 야식 만들기</a>,\n",
       " <a href=\"#\">[가구] : 헌집 새집 베스트 가구</a>,\n",
       " <a href=\"#\">[후기] : 배송이 잘못 됐어요 ㅠㅠ</a>]"
      ]
     },
     "execution_count": 136,
     "metadata": {},
     "output_type": "execute_result"
    }
   ],
   "source": [
    "# 클래스 값이 box인 객체의 모든 a 태그를 추출\n",
    "# a태그는 .box객체의 자식이면서 자손인 태그\n",
    "bs_obj.select(\".box  a\")\n",
    "bs_obj.select(\".box > a\")"
   ]
  },
  {
   "cell_type": "code",
   "execution_count": 137,
   "id": "e6ab2b93",
   "metadata": {},
   "outputs": [
    {
     "data": {
      "text/plain": [
       "[<li><a href=\"#\" id=\"fashion\">패션잡화</a></li>,\n",
       " <li><a href=\"#\">주방용품</a></li>,\n",
       " <li><a href=\"#\">생활건강</a></li>,\n",
       " <li><a href=\"#\">DIY가구</a></li>]"
      ]
     },
     "execution_count": 137,
     "metadata": {},
     "output_type": "execute_result"
    },
    {
     "data": {
      "text/plain": [
       "[<li><a href=\"#\" id=\"fashion\">패션잡화</a></li>,\n",
       " <li><a href=\"#\">주방용품</a></li>,\n",
       " <li><a href=\"#\">생활건강</a></li>,\n",
       " <li><a href=\"#\">DIY가구</a></li>]"
      ]
     },
     "execution_count": 137,
     "metadata": {},
     "output_type": "execute_result"
    }
   ],
   "source": [
    "bs_obj.select(\"ul > li\")\n",
    "bs_obj.select(\"ul li\")"
   ]
  },
  {
   "cell_type": "code",
   "execution_count": 138,
   "id": "2bb7826f",
   "metadata": {},
   "outputs": [
    {
     "data": {
      "text/plain": [
       "[<ul>\n",
       " <li><a href=\"#\" id=\"fashion\">패션잡화</a></li>\n",
       " <li><a href=\"#\">주방용품</a></li>\n",
       " <li><a href=\"#\">생활건강</a></li>\n",
       " <li><a href=\"#\">DIY가구</a></li>\n",
       " </ul>]"
      ]
     },
     "execution_count": 138,
     "metadata": {},
     "output_type": "execute_result"
    },
    {
     "data": {
      "text/plain": [
       "[<li><a href=\"#\" id=\"fashion\">패션잡화</a></li>,\n",
       " <a href=\"#\" id=\"fashion\">패션잡화</a>,\n",
       " <li><a href=\"#\">주방용품</a></li>,\n",
       " <a href=\"#\">주방용품</a>,\n",
       " <li><a href=\"#\">생활건강</a></li>,\n",
       " <a href=\"#\">생활건강</a>,\n",
       " <li><a href=\"#\">DIY가구</a></li>,\n",
       " <a href=\"#\">DIY가구</a>]"
      ]
     },
     "execution_count": 138,
     "metadata": {},
     "output_type": "execute_result"
    }
   ],
   "source": [
    "# 선택자 중 * 선택자 : all\n",
    "bs_obj.select(\"ul\")\n",
    "bs_obj.select(\"ul *\") # 모든 태그 내부를 순회하면서 태그를 모두 찾아온다."
   ]
  },
  {
   "cell_type": "markdown",
   "id": "800fed13",
   "metadata": {},
   "source": [
    "## 함수 정리\n",
    "- find()\n",
    "- find함수의 선택자 적용 : {\"속성명\":\"value\"} 형태 // 특정 속성을 제한하지는 않는다.\n",
    "- find_all() = findAll() : 동일 기능\n",
    "\n",
    "- select_one() = find() : 동일 기능, 단, 태그 선택자 이용시\n",
    "- css 선택자를 동일하게 사용 : select()/select_one() 사용"
   ]
  },
  {
   "cell_type": "code",
   "execution_count": null,
   "id": "988d736a",
   "metadata": {},
   "outputs": [],
   "source": []
  }
 ],
 "metadata": {
  "kernelspec": {
   "display_name": "“scrapSrc",
   "language": "python",
   "name": "scraping_source"
  },
  "language_info": {
   "codemirror_mode": {
    "name": "ipython",
    "version": 3
   },
   "file_extension": ".py",
   "mimetype": "text/x-python",
   "name": "python",
   "nbconvert_exporter": "python",
   "pygments_lexer": "ipython3",
   "version": "3.12.7"
  }
 },
 "nbformat": 4,
 "nbformat_minor": 5
}
