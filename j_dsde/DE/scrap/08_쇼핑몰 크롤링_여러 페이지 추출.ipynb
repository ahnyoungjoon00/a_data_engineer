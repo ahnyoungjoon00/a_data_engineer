{
 "cells": [
  {
   "cell_type": "markdown",
   "id": "2789f7e5-ae51-41f9-b617-869e3dc412ff",
   "metadata": {},
   "source": [
    "### 쇼핑몰 크롤링\n",
    "- 상품의 시세 파악을 위해서는 쇼핑몰 데이터를 추출하여 파악하는 것이 일반적임\n",
    "- 특정 사이트를 선정하여 매일 상품의 가격 변환를 확인\n",
    "- 사이트 선정 시 구성이 변하지 않고, 접속량이 일정 수준 이상인 사이트를  선정\n",
    "- http://jolse.com/category/toners-mists/1019/page=1"
   ]
  },
  {
   "cell_type": "markdown",
   "id": "1445775a-20e1-4579-a8eb-1c89c03c56ca",
   "metadata": {},
   "source": [
    "#### 크롤링 작업 순서\n",
    "(1) 첫 번째 페이지에서 상품 정보 추출   \n",
    "    - 상품 40개  \n",
    "    - 각 상품박스  \n",
    "        - 상품명  \n",
    "        - 상품가격   \n",
    "            - 정상가  \n",
    "            - 세일가  \n",
    "\n",
    "(2) 여러 페이지 크롤링  \n",
    "    - (1) 접속 & 파싱 함수  \n",
    "    - (2) 1개의 상품 추출 함수  \n",
    "    - (3) 한 페이지에서 상품 추출  \n",
    "    - (4) 여러 페이지에서 추출  \n",
    "        - base_url + page 번호(i)  "
   ]
  },
  {
   "cell_type": "code",
   "execution_count": 2,
   "id": "d046e280-131a-4307-8584-59aab74473d2",
   "metadata": {},
   "outputs": [],
   "source": [
    "from IPython.core.interactiveshell import InteractiveShell\n",
    "InteractiveShell.ast_node_interactivity=\"all\""
   ]
  },
  {
   "cell_type": "code",
   "execution_count": 46,
   "id": "c701b4f4-4362-4363-a560-6f2ad0c86ba7",
   "metadata": {},
   "outputs": [],
   "source": [
    "from urllib.request import urlopen\n",
    "from bs4 import BeautifulSoup\n",
    "import pandas as pd\n",
    "import requests"
   ]
  },
  {
   "cell_type": "code",
   "execution_count": 4,
   "id": "6f010480-b462-4907-b007-d223cc1408dc",
   "metadata": {},
   "outputs": [],
   "source": [
    "# http://jolse.com/category/toners-mists/1019/page=1\n",
    "# F12 개발자 도구에서 확인\n"
   ]
  },
  {
   "cell_type": "code",
   "execution_count": null,
   "id": "2bce4f11-2323-4e0f-9b1a-5c18c9d0887e",
   "metadata": {},
   "outputs": [],
   "source": [
    "url = 'http://jolse.com/category/toners-mists/1019/page=1'\n",
    "html = urlopen(url)\n",
    "# 파서 객체 생성\n",
    "bs_obj = BeautifulSoup(html, 'html.parser') "
   ]
  },
  {
   "cell_type": "code",
   "execution_count": 17,
   "id": "32b22f02-ef09-4b21-8efb-0720b49fe734",
   "metadata": {},
   "outputs": [
    {
     "data": {
      "text/plain": [
       "120"
      ]
     },
     "execution_count": 17,
     "metadata": {},
     "output_type": "execute_result"
    },
    {
     "data": {
      "text/plain": [
       "120"
      ]
     },
     "execution_count": 17,
     "metadata": {},
     "output_type": "execute_result"
    },
    {
     "data": {
      "text/plain": [
       "120"
      ]
     },
     "execution_count": 17,
     "metadata": {},
     "output_type": "execute_result"
    }
   ],
   "source": [
    "# 페이지 구조\n",
    "# 추출할 content만 담고 있는 div(class:description)영역을 활용해서 추출\n",
    "ul = bs_obj.find(\"ul\",{\"class\":\"prdList grid5\"})\n",
    "# ul\n",
    "lis = ul.find_all(\"li\")\n",
    "len(lis)\n",
    "lis = ul.select(\"li\")\n",
    "len(lis)\n",
    "lis = bs_obj.select(\"ul.prdList.grid5 li\")\n",
    "len(lis)"
   ]
  },
  {
   "cell_type": "code",
   "execution_count": 18,
   "id": "d8328aea-4fa8-41b0-85fd-2205e0d7afca",
   "metadata": {},
   "outputs": [
    {
     "data": {
      "text/plain": [
       "40"
      ]
     },
     "execution_count": 18,
     "metadata": {},
     "output_type": "execute_result"
    }
   ],
   "source": [
    "# 첫 페이지에서 상품 정보 추출\n",
    "# 상품 정보만 담고 있는 div 태그 사용 (상품 이미지 제외)\n",
    "boxes = bs_obj.find_all(\"div\", {\"class\":\"description\"})\n",
    "len(boxes)"
   ]
  },
  {
   "cell_type": "code",
   "execution_count": 19,
   "id": "cb764ac0-6eed-41a3-8d96-91f0235caca8",
   "metadata": {},
   "outputs": [
    {
     "data": {
      "text/plain": [
       "<strong class=\"name\"><a class=\"\" href=\"/product/skinfood-royal-honey-propolis-enrich-cream-mist-120ml/46912/category/1019/display/1/\"><span class=\"title displaynone\"><span style=\"font-size:14px;color:#555555;font-weight:bold;\">Product Name</span> :</span> <span style=\"font-size:14px;color:#555555;font-weight:bold;\">SKINFOOD Royal Honey Propolis Enrich Cream Mist 120ml</span></a></strong>"
      ]
     },
     "execution_count": 19,
     "metadata": {},
     "output_type": "execute_result"
    },
    {
     "data": {
      "text/plain": [
       "'Product Name : SKINFOOD Royal Honey Propolis Enrich Cream Mist 120ml'"
      ]
     },
     "execution_count": 19,
     "metadata": {},
     "output_type": "execute_result"
    },
    {
     "data": {
      "text/plain": [
       "'SKINFOOD Royal Honey Propolis Enrich Cream Mist 120ml'"
      ]
     },
     "execution_count": 19,
     "metadata": {},
     "output_type": "execute_result"
    }
   ],
   "source": [
    "# 추출할 요소 파악\n",
    "boxes[10].find(\"strong\", {\"class\":\"name\"})\n",
    "boxes[10].find(\"strong\", {\"class\":\"name\"}).text\n",
    "boxes[10].find(\"strong\", {\"class\":\"name\"}).text.split(\" : \")[1]"
   ]
  },
  {
   "cell_type": "markdown",
   "id": "7c60bd58-f98e-4e08-9571-90ce589c8746",
   "metadata": {},
   "source": [
    "#### (1) 상품명 추출"
   ]
  },
  {
   "cell_type": "code",
   "execution_count": null,
   "id": "e21d0829-43f3-47c6-be5a-cbbbc928f4d2",
   "metadata": {
    "scrolled": true
   },
   "outputs": [],
   "source": [
    "# 전체 상품명 출력\n",
    "for box in boxes:\n",
    "    name = box.find(\"strong\", {\"class\":\"name\"}).text.split(\" : \")[1]"
   ]
  },
  {
   "cell_type": "code",
   "execution_count": 23,
   "id": "682d9311-bb00-45dd-930d-ae455fc5168a",
   "metadata": {},
   "outputs": [],
   "source": [
    "# 상품명을 리스트로 저장\n"
   ]
  },
  {
   "cell_type": "markdown",
   "id": "479a056c-cb3b-4886-857f-f5eed13093e0",
   "metadata": {},
   "source": [
    "#### (2) 상품 가격 추출"
   ]
  },
  {
   "cell_type": "code",
   "execution_count": 38,
   "id": "68edbdbb-22c4-40e1-992b-f42d46e1caaa",
   "metadata": {},
   "outputs": [
    {
     "data": {
      "text/plain": [
       "1"
      ]
     },
     "execution_count": 38,
     "metadata": {},
     "output_type": "execute_result"
    },
    {
     "data": {
      "text/plain": [
       "'USD 21.00'"
      ]
     },
     "execution_count": 38,
     "metadata": {},
     "output_type": "execute_result"
    },
    {
     "data": {
      "text/plain": [
       "'(30% OFF)'"
      ]
     },
     "execution_count": 38,
     "metadata": {},
     "output_type": "execute_result"
    },
    {
     "data": {
      "text/plain": [
       "'USD 14.70'"
      ]
     },
     "execution_count": 38,
     "metadata": {},
     "output_type": "execute_result"
    }
   ],
   "source": [
    "# 정상 가격 / 할인 가격 추출\n",
    "len(boxes[5].ul.find_all(\"span\")[1])\n",
    "boxes[5].ul.find_all(\"span\")[1].text\n",
    "boxes[5].ul.find_all(\"span\")[-1].text\n",
    "boxes[5].ul.find_all(\"span\")[-2].text.split(\"(\")[0].strip()"
   ]
  },
  {
   "cell_type": "code",
   "execution_count": null,
   "id": "5b5d9683-cbda-4449-b2df-630d6647fd09",
   "metadata": {},
   "outputs": [],
   "source": [
    "#########################################################################################"
   ]
  },
  {
   "cell_type": "markdown",
   "id": "1dfe676d-2b82-4930-9b16-39aecd30291b",
   "metadata": {},
   "source": [
    "### (1) 첫 페이지의 전체 상품 정보 추출"
   ]
  },
  {
   "cell_type": "code",
   "execution_count": 43,
   "id": "0f9ad119-33a5-4ea9-9f60-134fe3150e5e",
   "metadata": {},
   "outputs": [],
   "source": [
    "# 첫 페이지의 전체 상품 정보 추출\n",
    "# 상품명, 정상가격, 세일가격\n",
    "for box in boxes:\n",
    "    name = box.find(\"strong\", {\"class\":\"name\"}).text.split(\" : \")[1]\n",
    "    price = box.ul.find_all(\"span\")[1].text\n",
    "    sale_price = box.ul.find_all(\"span\")[-2].text.split(\"(\")[0].strip()\n",
    "    # print(\"제품평 :\", name, \"가격 :\", price, \"할인 가격 :\", sale_price)"
   ]
  },
  {
   "cell_type": "code",
   "execution_count": null,
   "id": "bf19c4fb-606e-4a36-8b69-8fd1ce0c583b",
   "metadata": {},
   "outputs": [],
   "source": [
    "##################################################################"
   ]
  },
  {
   "cell_type": "markdown",
   "id": "b768d008-f1e6-47e1-9707-a90536597791",
   "metadata": {},
   "source": [
    "#### 첫 페이지에서 상품 정보 추출하여 df로 저장\n",
    "(1) 접속 / 파싱  \n",
    "(2) 수집  \n",
    "(3) df로 저장  "
   ]
  },
  {
   "cell_type": "code",
   "execution_count": 58,
   "id": "203d4b06-3814-4228-8533-667e49ea6562",
   "metadata": {},
   "outputs": [],
   "source": [
    "# (1) 접속 / 파싱\n",
    "url = 'http://jolse.com/category/toners-mists/1019/page=1'\n",
    "html = urlopen(url)\n",
    "# 파서 객체 생성\n",
    "bs_obj = BeautifulSoup(html, 'html.parser') "
   ]
  },
  {
   "cell_type": "code",
   "execution_count": 44,
   "id": "e0e78919-e5a8-48a7-aaba-2e51985cf28d",
   "metadata": {},
   "outputs": [],
   "source": [
    "# (2) 수집\n",
    "\n",
    "# 빈 리스트  생성\n",
    "prd_list=[]\n",
    "price_list=[]\n",
    "sale_price_list=[]\n",
    "\n",
    "# 전체 상품 데이터 추출 : boxes 추출\n",
    "boxes = bs_obj.find_all(\"div\", {\"class\":\"description\"})\n",
    "\n",
    "# 각 box에서 상품명, 정상가, 세일가 추출해서 리스트에 저장\n",
    "for box in boxes:\n",
    "    prd_list.append(box.find(\"strong\", {\"class\":\"name\"}).text.split(\" : \")[1])\n",
    "    price_list.append(box.ul.find_all(\"span\")[1].text)\n",
    "    sale_price_list.append(box.ul.find_all(\"span\")[-2].text.split(\"(\")[0].strip())"
   ]
  },
  {
   "cell_type": "code",
   "execution_count": 45,
   "id": "78074765-4dc7-41da-b4fd-a1f4ae12e711",
   "metadata": {},
   "outputs": [
    {
     "data": {
      "text/html": [
       "<div>\n",
       "<style scoped>\n",
       "    .dataframe tbody tr th:only-of-type {\n",
       "        vertical-align: middle;\n",
       "    }\n",
       "\n",
       "    .dataframe tbody tr th {\n",
       "        vertical-align: top;\n",
       "    }\n",
       "\n",
       "    .dataframe thead th {\n",
       "        text-align: right;\n",
       "    }\n",
       "</style>\n",
       "<table border=\"1\" class=\"dataframe\">\n",
       "  <thead>\n",
       "    <tr style=\"text-align: right;\">\n",
       "      <th></th>\n",
       "      <th>품목</th>\n",
       "      <th>가격</th>\n",
       "      <th>할인가격</th>\n",
       "    </tr>\n",
       "  </thead>\n",
       "  <tbody>\n",
       "    <tr>\n",
       "      <th>0</th>\n",
       "      <td>SKIN1004 Madagascar Centella Toning Toner 210ml</td>\n",
       "      <td>USD 20.00</td>\n",
       "      <td>USD 14.80</td>\n",
       "    </tr>\n",
       "    <tr>\n",
       "      <th>1</th>\n",
       "      <td>COSRX Full Fit Propolis Synergy Toner 150ml</td>\n",
       "      <td>USD 28.00</td>\n",
       "      <td>USD 14.00</td>\n",
       "    </tr>\n",
       "    <tr>\n",
       "      <th>2</th>\n",
       "      <td>ROUND LAB 1025 Dokdo Toner 200ml</td>\n",
       "      <td>USD 17.00</td>\n",
       "      <td>USD 12.29</td>\n",
       "    </tr>\n",
       "    <tr>\n",
       "      <th>3</th>\n",
       "      <td>SKIN1004 Madagascar Centella Probio-Cica Essen...</td>\n",
       "      <td>USD 24.00</td>\n",
       "      <td>USD 14.88</td>\n",
       "    </tr>\n",
       "    <tr>\n",
       "      <th>4</th>\n",
       "      <td>numbuzin No.5 Vitamin-Niacinamide Concentrated...</td>\n",
       "      <td>USD 26.00</td>\n",
       "      <td>USD 20.80</td>\n",
       "    </tr>\n",
       "    <tr>\n",
       "      <th>5</th>\n",
       "      <td>SKIN1004 Madagascar Centella Poremizing Clear ...</td>\n",
       "      <td>USD 21.00</td>\n",
       "      <td>USD 14.70</td>\n",
       "    </tr>\n",
       "    <tr>\n",
       "      <th>6</th>\n",
       "      <td>celimax Jiwoogae Heartleaf BHA Peeling Pad 60p...</td>\n",
       "      <td>USD 17.50</td>\n",
       "      <td>USD 12.25</td>\n",
       "    </tr>\n",
       "    <tr>\n",
       "      <th>7</th>\n",
       "      <td>haruharu wonder Black Rice Hyaluronic Toner 15...</td>\n",
       "      <td>USD 22.00</td>\n",
       "      <td>USD 15.40</td>\n",
       "    </tr>\n",
       "    <tr>\n",
       "      <th>8</th>\n",
       "      <td>COSRX AHA/BHA CLARIFYING TREATMENT TONER 150ml</td>\n",
       "      <td>USD 17.25</td>\n",
       "      <td>USD 12.76</td>\n",
       "    </tr>\n",
       "    <tr>\n",
       "      <th>9</th>\n",
       "      <td>ROUND LAB 1025 Dokdo Toner 100ml</td>\n",
       "      <td>USD 13.00</td>\n",
       "      <td>USD 8.79</td>\n",
       "    </tr>\n",
       "    <tr>\n",
       "      <th>10</th>\n",
       "      <td>SKINFOOD Royal Honey Propolis Enrich Cream Mis...</td>\n",
       "      <td>USD 28.30</td>\n",
       "      <td>USD 14.15</td>\n",
       "    </tr>\n",
       "    <tr>\n",
       "      <th>11</th>\n",
       "      <td>Anua Heartleaf 77% Soothing Toner 250ml</td>\n",
       "      <td>USD 23.00</td>\n",
       "      <td>USD 18.40</td>\n",
       "    </tr>\n",
       "    <tr>\n",
       "      <th>12</th>\n",
       "      <td>COSRX BHA BLACKHEAD POWER LIQUID 100 ML</td>\n",
       "      <td>USD 20.81</td>\n",
       "      <td>USD 13.32</td>\n",
       "    </tr>\n",
       "    <tr>\n",
       "      <th>13</th>\n",
       "      <td>I'M FROM Rice Toner 150ml</td>\n",
       "      <td>USD 28.00</td>\n",
       "      <td>USD 18.20</td>\n",
       "    </tr>\n",
       "    <tr>\n",
       "      <th>14</th>\n",
       "      <td>celimax The Real Noni Energy Ampoule Mist 50ml</td>\n",
       "      <td>USD 16.00</td>\n",
       "      <td>USD 11.20</td>\n",
       "    </tr>\n",
       "    <tr>\n",
       "      <th>15</th>\n",
       "      <td>SKIN1004 Madagascar Centella Hyalu-Cica Cloudy...</td>\n",
       "      <td>USD 22.00</td>\n",
       "      <td>USD 13.64</td>\n",
       "    </tr>\n",
       "    <tr>\n",
       "      <th>16</th>\n",
       "      <td>SOME BY MI AHA BHA PHA 30 Days Miracle Toner 1...</td>\n",
       "      <td>USD 22.57</td>\n",
       "      <td>USD 15.80</td>\n",
       "    </tr>\n",
       "    <tr>\n",
       "      <th>17</th>\n",
       "      <td>COSRX Balancium Comfort Ceramide Cream Mist 120ml</td>\n",
       "      <td>USD 29.00</td>\n",
       "      <td>USD 13.34</td>\n",
       "    </tr>\n",
       "    <tr>\n",
       "      <th>18</th>\n",
       "      <td>Anua HEARTLEAF 77% SOOTHING TONER 40ml</td>\n",
       "      <td>USD 9.00</td>\n",
       "      <td>USD 7.20</td>\n",
       "    </tr>\n",
       "    <tr>\n",
       "      <th>19</th>\n",
       "      <td>numbuzin No.1 Pure-Full Calming Herb Toner 300ml</td>\n",
       "      <td>USD 24.00</td>\n",
       "      <td>USD 19.20</td>\n",
       "    </tr>\n",
       "    <tr>\n",
       "      <th>20</th>\n",
       "      <td>Anua Heartleaf 77% Soothing Toner 150ml</td>\n",
       "      <td>USD 18.00</td>\n",
       "      <td>USD 14.40</td>\n",
       "    </tr>\n",
       "    <tr>\n",
       "      <th>21</th>\n",
       "      <td>SKIN1004 Madagascar Centella Toning Toner 30ml</td>\n",
       "      <td>USD 9.30</td>\n",
       "      <td>USD 7.90</td>\n",
       "    </tr>\n",
       "    <tr>\n",
       "      <th>22</th>\n",
       "      <td>SKIN1004 Madagascar Centella Tea-Trica Purifyi...</td>\n",
       "      <td>USD 20.00</td>\n",
       "      <td>USD 16.80</td>\n",
       "    </tr>\n",
       "    <tr>\n",
       "      <th>23</th>\n",
       "      <td>numbuzin No.5+ Vitamin Boosting Essence Toner ...</td>\n",
       "      <td>USD 22.00</td>\n",
       "      <td>USD 17.60</td>\n",
       "    </tr>\n",
       "    <tr>\n",
       "      <th>24</th>\n",
       "      <td>celimax The Real Noni Moisture Balancing Toner...</td>\n",
       "      <td>USD 25.00</td>\n",
       "      <td>USD 17.50</td>\n",
       "    </tr>\n",
       "    <tr>\n",
       "      <th>25</th>\n",
       "      <td>celimax Dual Barrier Creamy Toner 150ml</td>\n",
       "      <td>USD 24.00</td>\n",
       "      <td>USD 16.80</td>\n",
       "    </tr>\n",
       "    <tr>\n",
       "      <th>26</th>\n",
       "      <td>SKIN1004 Madagascar Centella Toning Toner 400ml</td>\n",
       "      <td>USD 33.00</td>\n",
       "      <td>USD 22.44</td>\n",
       "    </tr>\n",
       "    <tr>\n",
       "      <th>27</th>\n",
       "      <td>numbuzin No.3 Super Glowing Essence Toner 200ml</td>\n",
       "      <td>USD 22.00</td>\n",
       "      <td>USD 17.60</td>\n",
       "    </tr>\n",
       "    <tr>\n",
       "      <th>28</th>\n",
       "      <td>SKIN1004 Madagascar Centella Tone Brightening ...</td>\n",
       "      <td>USD 24.00</td>\n",
       "      <td>USD 14.88</td>\n",
       "    </tr>\n",
       "    <tr>\n",
       "      <th>29</th>\n",
       "      <td>numbuzin No.1 Centella Re-Leaf Green Toner Pad...</td>\n",
       "      <td>USD 24.00</td>\n",
       "      <td>USD 19.20</td>\n",
       "    </tr>\n",
       "    <tr>\n",
       "      <th>30</th>\n",
       "      <td>WELLDERMA RETINOL PEPTIDE LIFTING RESTORE ESSE...</td>\n",
       "      <td>USD 48.60</td>\n",
       "      <td>USD 13.61</td>\n",
       "    </tr>\n",
       "    <tr>\n",
       "      <th>31</th>\n",
       "      <td>Isntree Ultra-Low Molecular Hyaluronic Acid To...</td>\n",
       "      <td>USD 23.40</td>\n",
       "      <td>USD 15.21</td>\n",
       "    </tr>\n",
       "    <tr>\n",
       "      <th>32</th>\n",
       "      <td>ROUND LAB 1025 Dokdo Toner 500ml</td>\n",
       "      <td>USD 34.00</td>\n",
       "      <td>USD 21.99</td>\n",
       "    </tr>\n",
       "    <tr>\n",
       "      <th>33</th>\n",
       "      <td>APLB Glutathione Niacinamide Toner Pad 60pads</td>\n",
       "      <td>USD 16.40</td>\n",
       "      <td>USD 9.84</td>\n",
       "    </tr>\n",
       "    <tr>\n",
       "      <th>34</th>\n",
       "      <td>Isntree Green tea Fresh Toner 200ml</td>\n",
       "      <td>USD 19.90</td>\n",
       "      <td>USD 12.93</td>\n",
       "    </tr>\n",
       "    <tr>\n",
       "      <th>35</th>\n",
       "      <td>AXIS-Y The Mini Glow Set</td>\n",
       "      <td>USD 9.80</td>\n",
       "      <td>USD 7.84</td>\n",
       "    </tr>\n",
       "    <tr>\n",
       "      <th>36</th>\n",
       "      <td>COSRX CENTELLA WATER ALCOHOL FREE TONER 150ml</td>\n",
       "      <td>USD 17.25</td>\n",
       "      <td>USD 12.76</td>\n",
       "    </tr>\n",
       "    <tr>\n",
       "      <th>37</th>\n",
       "      <td>numbuzin No.3 Super Glowing Essence Toner 100ml</td>\n",
       "      <td>USD 13.00</td>\n",
       "      <td>USD 10.40</td>\n",
       "    </tr>\n",
       "    <tr>\n",
       "      <th>38</th>\n",
       "      <td>COSRX AHA 7 WHITEHEAD POWER LIQUID 100ml</td>\n",
       "      <td>USD 17.81</td>\n",
       "      <td>USD 12.11</td>\n",
       "    </tr>\n",
       "    <tr>\n",
       "      <th>39</th>\n",
       "      <td>Anua Heartleaf 77% Clear Pad 160ml</td>\n",
       "      <td>USD 26.00</td>\n",
       "      <td>USD 20.80</td>\n",
       "    </tr>\n",
       "  </tbody>\n",
       "</table>\n",
       "</div>"
      ],
      "text/plain": [
       "                                                   품목         가격       할인가격\n",
       "0     SKIN1004 Madagascar Centella Toning Toner 210ml  USD 20.00  USD 14.80\n",
       "1         COSRX Full Fit Propolis Synergy Toner 150ml  USD 28.00  USD 14.00\n",
       "2                    ROUND LAB 1025 Dokdo Toner 200ml  USD 17.00  USD 12.29\n",
       "3   SKIN1004 Madagascar Centella Probio-Cica Essen...  USD 24.00  USD 14.88\n",
       "4   numbuzin No.5 Vitamin-Niacinamide Concentrated...  USD 26.00  USD 20.80\n",
       "5   SKIN1004 Madagascar Centella Poremizing Clear ...  USD 21.00  USD 14.70\n",
       "6   celimax Jiwoogae Heartleaf BHA Peeling Pad 60p...  USD 17.50  USD 12.25\n",
       "7   haruharu wonder Black Rice Hyaluronic Toner 15...  USD 22.00  USD 15.40\n",
       "8      COSRX AHA/BHA CLARIFYING TREATMENT TONER 150ml  USD 17.25  USD 12.76\n",
       "9                    ROUND LAB 1025 Dokdo Toner 100ml  USD 13.00   USD 8.79\n",
       "10  SKINFOOD Royal Honey Propolis Enrich Cream Mis...  USD 28.30  USD 14.15\n",
       "11            Anua Heartleaf 77% Soothing Toner 250ml  USD 23.00  USD 18.40\n",
       "12            COSRX BHA BLACKHEAD POWER LIQUID 100 ML  USD 20.81  USD 13.32\n",
       "13                          I'M FROM Rice Toner 150ml  USD 28.00  USD 18.20\n",
       "14     celimax The Real Noni Energy Ampoule Mist 50ml  USD 16.00  USD 11.20\n",
       "15  SKIN1004 Madagascar Centella Hyalu-Cica Cloudy...  USD 22.00  USD 13.64\n",
       "16  SOME BY MI AHA BHA PHA 30 Days Miracle Toner 1...  USD 22.57  USD 15.80\n",
       "17  COSRX Balancium Comfort Ceramide Cream Mist 120ml  USD 29.00  USD 13.34\n",
       "18             Anua HEARTLEAF 77% SOOTHING TONER 40ml   USD 9.00   USD 7.20\n",
       "19   numbuzin No.1 Pure-Full Calming Herb Toner 300ml  USD 24.00  USD 19.20\n",
       "20            Anua Heartleaf 77% Soothing Toner 150ml  USD 18.00  USD 14.40\n",
       "21     SKIN1004 Madagascar Centella Toning Toner 30ml   USD 9.30   USD 7.90\n",
       "22  SKIN1004 Madagascar Centella Tea-Trica Purifyi...  USD 20.00  USD 16.80\n",
       "23  numbuzin No.5+ Vitamin Boosting Essence Toner ...  USD 22.00  USD 17.60\n",
       "24  celimax The Real Noni Moisture Balancing Toner...  USD 25.00  USD 17.50\n",
       "25            celimax Dual Barrier Creamy Toner 150ml  USD 24.00  USD 16.80\n",
       "26    SKIN1004 Madagascar Centella Toning Toner 400ml  USD 33.00  USD 22.44\n",
       "27    numbuzin No.3 Super Glowing Essence Toner 200ml  USD 22.00  USD 17.60\n",
       "28  SKIN1004 Madagascar Centella Tone Brightening ...  USD 24.00  USD 14.88\n",
       "29  numbuzin No.1 Centella Re-Leaf Green Toner Pad...  USD 24.00  USD 19.20\n",
       "30  WELLDERMA RETINOL PEPTIDE LIFTING RESTORE ESSE...  USD 48.60  USD 13.61\n",
       "31  Isntree Ultra-Low Molecular Hyaluronic Acid To...  USD 23.40  USD 15.21\n",
       "32                   ROUND LAB 1025 Dokdo Toner 500ml  USD 34.00  USD 21.99\n",
       "33      APLB Glutathione Niacinamide Toner Pad 60pads  USD 16.40   USD 9.84\n",
       "34                Isntree Green tea Fresh Toner 200ml  USD 19.90  USD 12.93\n",
       "35                           AXIS-Y The Mini Glow Set   USD 9.80   USD 7.84\n",
       "36      COSRX CENTELLA WATER ALCOHOL FREE TONER 150ml  USD 17.25  USD 12.76\n",
       "37    numbuzin No.3 Super Glowing Essence Toner 100ml  USD 13.00  USD 10.40\n",
       "38           COSRX AHA 7 WHITEHEAD POWER LIQUID 100ml  USD 17.81  USD 12.11\n",
       "39                 Anua Heartleaf 77% Clear Pad 160ml  USD 26.00  USD 20.80"
      ]
     },
     "execution_count": 45,
     "metadata": {},
     "output_type": "execute_result"
    }
   ],
   "source": [
    "# (3) df로 저장\n",
    "# 각 리스트를 데이터프레임으로 생성\n",
    "product_df = pd.DataFrame({\"품목\":prd_list,\n",
    "                           \"가격\":price_list,\n",
    "                           \"할인가격\":sale_price_list})\n",
    "product_df"
   ]
  },
  {
   "cell_type": "code",
   "execution_count": null,
   "id": "be6e32f6-63be-42a4-ad4b-ce8213818b51",
   "metadata": {},
   "outputs": [],
   "source": [
    "######################### 첫 페이지(한 페이지)에서 상품 정보 추출 완료"
   ]
  },
  {
   "cell_type": "markdown",
   "id": "f83dc004-4a3a-46a4-8cb6-2e4154929916",
   "metadata": {},
   "source": [
    "### (2) 여러 페이지 크롤링\n",
    "- 현재 페이지 뿐 아니라 다른 모든 페이지에서도 반복 적용할 수 있도록 함수로 작성"
   ]
  },
  {
   "cell_type": "markdown",
   "id": "0278cabe-0c8c-4906-88b9-96d3dc170214",
   "metadata": {},
   "source": [
    "####  함수명 및 수행 기능   \n",
    "(1) get_request_product(url) : 접속 및 파싱 함수   \n",
    "    - url 받아서 접속 및 파싱  \n",
    "    - 반환값 : bs4 객체  \n",
    "(2) get_product_info(box) : 1개 상품 정보 추출 함수  \n",
    "    - box 받아서 상품 정보 추출 후 반환  \n",
    "    - 반환값 : 1개 상품의 상품명/가격/세일가격을 딕셔너리 형태로 반환  \n",
    "(3) get_page_product(url) : 각 페이지에서 전체 상품 정보 추출하고 df에 추가 함수  \n",
    "    - 전달받은 url 페이지에서 box 추출하여  \n",
    "    - get_product_info(box) 호출해서 전달하고 반환된 1개의 상품 정보로  \n",
    "    - 데이터프레임 생성 및 추가  "
   ]
  },
  {
   "cell_type": "code",
   "execution_count": 1,
   "id": "c2314154",
   "metadata": {},
   "outputs": [],
   "source": [
    "from IPython.core.interactiveshell import InteractiveShell\n",
    "InteractiveShell.ast_node_interactivity=\"all\""
   ]
  },
  {
   "cell_type": "code",
   "execution_count": 2,
   "id": "bfa299ce",
   "metadata": {},
   "outputs": [],
   "source": [
    "from urllib.request import urlopen\n",
    "from bs4 import BeautifulSoup\n",
    "import pandas as pd\n",
    "import requests"
   ]
  },
  {
   "cell_type": "code",
   "execution_count": 3,
   "id": "cfd7e8e2-949d-4e51-b1f2-ae84ff18c282",
   "metadata": {},
   "outputs": [],
   "source": [
    "# 최종 상품 정보 저장할 빈 데이터프레임 생성\n",
    "all_product_df = pd.DataFrame({\"품목\":[],\n",
    "                               \"가격\":[],\n",
    "                               \"할인가격\":[]})"
   ]
  },
  {
   "cell_type": "code",
   "execution_count": 41,
   "id": "496bc024-00e4-4150-8b29-519bb21c7f1b",
   "metadata": {},
   "outputs": [],
   "source": [
    "# (1) 접속 및 파싱 기능 수행하는 함수\n",
    "def get_request_product(url):\n",
    "    try :\n",
    "        # url 받아서 접속 및 파싱\n",
    "        html = urlopen(url)\n",
    "        bs_obj = BeautifulSoup(html, 'html.parser') \n",
    "    except Exception as e:\n",
    "        print(\"오류 발생\", e)\n",
    "        \n",
    "    # bs4 객체 반환\n",
    "    return bs_obj"
   ]
  },
  {
   "cell_type": "code",
   "execution_count": 42,
   "id": "48309271-70a3-45aa-a112-407eeade8587",
   "metadata": {},
   "outputs": [],
   "source": [
    "# (2) 1개의 상품 정보를 추출하는 함수\n",
    "def get_product_info(box):\n",
    "    try:\n",
    "        # 1개 상품 정보 추출\n",
    "        # box 받아서 상품 정보 추출 후 반환\n",
    "        name = box.find(\"strong\", {\"class\":\"name\"}).text.split(\" : \")[1]\n",
    "        price = box.ul.find_all(\"span\")[1].text\n",
    "        sale_price = box.ul.find_all(\"span\")[-2].text.split(\"(\")[0].strip()\n",
    "    except Exception as e:\n",
    "        print(\"오류 발생\", e)\n",
    "\n",
    "    # 반환값: 1개 상품의 상품명/가격/할인가격을 딕셔너리 형태로 반환\n",
    "    return {\"품목\":name, \"가격\":price, \"할인가격\":sale_price}"
   ]
  },
  {
   "cell_type": "code",
   "execution_count": 57,
   "id": "01ec3804-3adb-41f8-a896-b2102dc3ac03",
   "metadata": {},
   "outputs": [],
   "source": [
    "# (3) 전달 받은 url 한 페이지에서 상품 정보 추출하고 df에 추가하는 함수\n",
    "def get_page_product(url):\n",
    "    global all_product_df # 함수 외부에서 정의된 변수를 인지하도록 할 때 쓰는 예약어\n",
    "    # print(url)\n",
    "    try:\n",
    "        bs_obj=get_request_product(url)\n",
    "\n",
    "        boxes=bs_obj.find_all(\"div\", {\"class\":\"description\"})\n",
    "    except Exception as e:\n",
    "        print(\"오류 발생\", e)\n",
    "\n",
    "    for box in boxes:\n",
    "        temp_df = pd.DataFrame(get_product_info(box), index=range(1, 2))\n",
    "        all_product_df = pd.concat([all_product_df, temp_df], axis=0, ignore_index=True)"
   ]
  },
  {
   "cell_type": "code",
   "execution_count": 51,
   "id": "fd00887b",
   "metadata": {},
   "outputs": [
    {
     "name": "stdout",
     "output_type": "stream",
     "text": [
      "http://jolse.com/category/toners-mists/1019/page=2\n"
     ]
    },
    {
     "data": {
      "text/html": [
       "<div>\n",
       "<style scoped>\n",
       "    .dataframe tbody tr th:only-of-type {\n",
       "        vertical-align: middle;\n",
       "    }\n",
       "\n",
       "    .dataframe tbody tr th {\n",
       "        vertical-align: top;\n",
       "    }\n",
       "\n",
       "    .dataframe thead th {\n",
       "        text-align: right;\n",
       "    }\n",
       "</style>\n",
       "<table border=\"1\" class=\"dataframe\">\n",
       "  <thead>\n",
       "    <tr style=\"text-align: right;\">\n",
       "      <th></th>\n",
       "      <th>품목</th>\n",
       "      <th>가격</th>\n",
       "      <th>할인가격</th>\n",
       "    </tr>\n",
       "  </thead>\n",
       "  <tbody>\n",
       "    <tr>\n",
       "      <th>0</th>\n",
       "      <td>SKIN1004 Madagascar Centella Toning Toner 210ml</td>\n",
       "      <td>USD 20.00</td>\n",
       "      <td>USD 13.99</td>\n",
       "    </tr>\n",
       "    <tr>\n",
       "      <th>1</th>\n",
       "      <td>COSRX Full Fit Propolis Synergy Toner 150ml</td>\n",
       "      <td>USD 28.00</td>\n",
       "      <td>USD 13.29</td>\n",
       "    </tr>\n",
       "    <tr>\n",
       "      <th>2</th>\n",
       "      <td>ROUND LAB 1025 Dokdo Toner 200ml</td>\n",
       "      <td>USD 17.00</td>\n",
       "      <td>USD 13.60</td>\n",
       "    </tr>\n",
       "    <tr>\n",
       "      <th>3</th>\n",
       "      <td>SKIN1004 Madagascar Centella Probio-Cica Essen...</td>\n",
       "      <td>USD 24.00</td>\n",
       "      <td>USD 13.99</td>\n",
       "    </tr>\n",
       "    <tr>\n",
       "      <th>4</th>\n",
       "      <td>numbuzin No.5 Vitamin-Niacinamide Concentrated...</td>\n",
       "      <td>USD 26.00</td>\n",
       "      <td>USD 20.80</td>\n",
       "    </tr>\n",
       "    <tr>\n",
       "      <th>...</th>\n",
       "      <td>...</td>\n",
       "      <td>...</td>\n",
       "      <td>...</td>\n",
       "    </tr>\n",
       "    <tr>\n",
       "      <th>2095</th>\n",
       "      <td>COSRX CENTELLA WATER ALCOHOL FREE TONER 150ml</td>\n",
       "      <td>USD 17.25</td>\n",
       "      <td>USD 12.39</td>\n",
       "    </tr>\n",
       "    <tr>\n",
       "      <th>2096</th>\n",
       "      <td>AXIS-Y The Mini Glow Set</td>\n",
       "      <td>USD 9.80</td>\n",
       "      <td>USD 7.84</td>\n",
       "    </tr>\n",
       "    <tr>\n",
       "      <th>2097</th>\n",
       "      <td>numbuzin No.3 Super Glowing Essence Toner 100ml</td>\n",
       "      <td>USD 13.00</td>\n",
       "      <td>USD 10.40</td>\n",
       "    </tr>\n",
       "    <tr>\n",
       "      <th>2098</th>\n",
       "      <td>COSRX AHA 7 WHITEHEAD POWER LIQUID 100ml</td>\n",
       "      <td>USD 17.81</td>\n",
       "      <td>USD 11.59</td>\n",
       "    </tr>\n",
       "    <tr>\n",
       "      <th>2099</th>\n",
       "      <td>Anua Heartleaf 77% Clear Pad 160ml</td>\n",
       "      <td>USD 26.00</td>\n",
       "      <td>USD 22.10</td>\n",
       "    </tr>\n",
       "  </tbody>\n",
       "</table>\n",
       "<p>2100 rows × 3 columns</p>\n",
       "</div>"
      ],
      "text/plain": [
       "                                                     품목         가격       할인가격\n",
       "0       SKIN1004 Madagascar Centella Toning Toner 210ml  USD 20.00  USD 13.99\n",
       "1           COSRX Full Fit Propolis Synergy Toner 150ml  USD 28.00  USD 13.29\n",
       "2                      ROUND LAB 1025 Dokdo Toner 200ml  USD 17.00  USD 13.60\n",
       "3     SKIN1004 Madagascar Centella Probio-Cica Essen...  USD 24.00  USD 13.99\n",
       "4     numbuzin No.5 Vitamin-Niacinamide Concentrated...  USD 26.00  USD 20.80\n",
       "...                                                 ...        ...        ...\n",
       "2095      COSRX CENTELLA WATER ALCOHOL FREE TONER 150ml  USD 17.25  USD 12.39\n",
       "2096                           AXIS-Y The Mini Glow Set   USD 9.80   USD 7.84\n",
       "2097    numbuzin No.3 Super Glowing Essence Toner 100ml  USD 13.00  USD 10.40\n",
       "2098           COSRX AHA 7 WHITEHEAD POWER LIQUID 100ml  USD 17.81  USD 11.59\n",
       "2099                 Anua Heartleaf 77% Clear Pad 160ml  USD 26.00  USD 22.10\n",
       "\n",
       "[2100 rows x 3 columns]"
      ]
     },
     "execution_count": 51,
     "metadata": {},
     "output_type": "execute_result"
    }
   ],
   "source": [
    "# 함수 테스트 : 테스트 후  주석 처리할 것\n",
    "\n",
    "url = 'http://jolse.com/category/toners-mists/1019/page=2'\n",
    "get_page_product(url)\n",
    "# all_product_df.tail()\n",
    "# ---------------------------------------------------------------------------\n",
    "# UnboundLocalError                         Traceback (most recent call last)\n",
    "# Cell In[65], line 2\n",
    "#       1 url = 'http://jolse.com/category/toners-mists/1019/page=2'\n",
    "# ----> 2 get_page_product(url)\n",
    "#       3 all_product_df\n",
    "# Cell In[64], line 12\n",
    "#      10 for box in boxes:\n",
    "#      11     temp_df = pd.DataFrame(get_product_info(box), index=range(1, 2))\n",
    "# ---> 12     all_product_df = pd.concat([all_product_df, temp_df], axis=0, ignore_index=True)\n",
    "\n",
    "# UnboundLocalError: cannot access local variable 'all_product_df' where it is not associated with a value\n",
    "\n",
    "# 해당 변수가 만들어지지 않았거나 함수 밖에서 만들어져서 인식을 못하는 경우에 생기는 에러\n",
    "# 이런 경우에는 global 예약어를 통해서 함수에 전달해줘야함 or 인수로 전달 or 함수 내부에서 변수 선언"
   ]
  },
  {
   "cell_type": "code",
   "execution_count": 26,
   "id": "02df8aaa-53f0-47ee-a1c7-6284958125c4",
   "metadata": {},
   "outputs": [],
   "source": [
    "# 상품 저장 결과 확인\n",
    "# 결과 확인 후\n",
    "# 데이터프레임을 다시 초기화 할 것"
   ]
  },
  {
   "cell_type": "code",
   "execution_count": 27,
   "id": "91025f39-6b30-4e68-a630-96137fac0f8c",
   "metadata": {},
   "outputs": [],
   "source": [
    "################# 함수 잘 수행되는 것 확인했음"
   ]
  },
  {
   "cell_type": "markdown",
   "id": "e75fa5a6-77fe-40cd-ba52-52acbe6c9f82",
   "metadata": {},
   "source": [
    "#### 여러 페이지 추출  \n",
    "- url 뒤에 페이지 번호 있음  \n",
    "- url 작성 시 페이지 번호를 따로 붙임   \n",
    "- 'http://jolse.com/category/toners-mists/1019/page=' + 페이지 번호  \n",
    "    - url 중간에 ? : get method 요청\n",
    "    - url?전송데이터 : 뒤쪽의 문자열은 서버에게 보내는 정보 : page"
   ]
  },
  {
   "cell_type": "code",
   "execution_count": 44,
   "id": "d5261dd9-a18f-42d3-bac8-870e9dd6ed2e",
   "metadata": {},
   "outputs": [],
   "source": [
    "# 마지막 페이지 수 추출\n",
    "url = 'https://jolse.com/category/toners-mists/1019/page=1?page=1'\n",
    "html = urlopen(url)\n",
    "# 파서 객체 생성\n",
    "bs_obj = get_request_product(url)"
   ]
  },
  {
   "cell_type": "code",
   "execution_count": 45,
   "id": "4cf27e3e",
   "metadata": {},
   "outputs": [
    {
     "data": {
      "text/plain": [
       "str"
      ]
     },
     "execution_count": 45,
     "metadata": {},
     "output_type": "execute_result"
    }
   ],
   "source": [
    "last_page = bs_obj.find(\"a\", {\"class\":\"last\"})[\"href\"].split(\"=\")[1]\n",
    "type(last_page)"
   ]
  },
  {
   "cell_type": "markdown",
   "id": "36587e5f-a90b-4370-a80b-4664a0a6ff7a",
   "metadata": {},
   "source": [
    "### 모든 페이지에서 상품 정보 추출"
   ]
  },
  {
   "cell_type": "code",
   "execution_count": 58,
   "id": "7bc87473",
   "metadata": {},
   "outputs": [],
   "source": [
    "# 최종 상품 정보 저장할 빈 데이터프레임 생성\n",
    "all_product_df = pd.DataFrame({\"품목\":[],\n",
    "                               \"가격\":[],\n",
    "                               \"할인가격\":[]})"
   ]
  },
  {
   "cell_type": "code",
   "execution_count": 59,
   "id": "ce42f78f",
   "metadata": {},
   "outputs": [],
   "source": [
    "base_url = 'https://jolse.com/category/toners-mists/1019/page=1?page='\n",
    "\n",
    "for page in range(1, int(last_page)+1):\n",
    "    url = base_url+str(page)\n",
    "    get_page_product(url)"
   ]
  },
  {
   "cell_type": "code",
   "execution_count": 62,
   "id": "d1c15197-1d03-4be1-9d8e-66e00a275c87",
   "metadata": {},
   "outputs": [
    {
     "data": {
      "text/html": [
       "<div>\n",
       "<style scoped>\n",
       "    .dataframe tbody tr th:only-of-type {\n",
       "        vertical-align: middle;\n",
       "    }\n",
       "\n",
       "    .dataframe tbody tr th {\n",
       "        vertical-align: top;\n",
       "    }\n",
       "\n",
       "    .dataframe thead th {\n",
       "        text-align: right;\n",
       "    }\n",
       "</style>\n",
       "<table border=\"1\" class=\"dataframe\">\n",
       "  <thead>\n",
       "    <tr style=\"text-align: right;\">\n",
       "      <th></th>\n",
       "      <th>품목</th>\n",
       "      <th>가격</th>\n",
       "      <th>할인가격</th>\n",
       "    </tr>\n",
       "  </thead>\n",
       "  <tbody>\n",
       "    <tr>\n",
       "      <th>500</th>\n",
       "      <td>preange Angelica Toner Quick Calming Pad 5ea</td>\n",
       "      <td>USD 12.00</td>\n",
       "      <td>USD 10.20</td>\n",
       "    </tr>\n",
       "    <tr>\n",
       "      <th>501</th>\n",
       "      <td>MAY ISLAND 7 Days Secret Vita Plus-10 Toner 155ml</td>\n",
       "      <td>USD 16.50</td>\n",
       "      <td>USD 14.02</td>\n",
       "    </tr>\n",
       "    <tr>\n",
       "      <th>502</th>\n",
       "      <td>Wish Formula Fermented Hydra Essential Toner 1...</td>\n",
       "      <td>USD 25.26</td>\n",
       "      <td>USD 19.20</td>\n",
       "    </tr>\n",
       "    <tr>\n",
       "      <th>503</th>\n",
       "      <td>BLITHE VItal Treatment 9 Essential Seeds 150ml</td>\n",
       "      <td>USD 40.80</td>\n",
       "      <td>USD 34.68</td>\n",
       "    </tr>\n",
       "    <tr>\n",
       "      <th>504</th>\n",
       "      <td>su:m37 LosecSumma Elixir Skin Softner 150ml</td>\n",
       "      <td>USD 110.00</td>\n",
       "      <td>USD 93.50</td>\n",
       "    </tr>\n",
       "  </tbody>\n",
       "</table>\n",
       "</div>"
      ],
      "text/plain": [
       "                                                    품목          가격       할인가격\n",
       "500       preange Angelica Toner Quick Calming Pad 5ea   USD 12.00  USD 10.20\n",
       "501  MAY ISLAND 7 Days Secret Vita Plus-10 Toner 155ml   USD 16.50  USD 14.02\n",
       "502  Wish Formula Fermented Hydra Essential Toner 1...   USD 25.26  USD 19.20\n",
       "503     BLITHE VItal Treatment 9 Essential Seeds 150ml   USD 40.80  USD 34.68\n",
       "504        su:m37 LosecSumma Elixir Skin Softner 150ml  USD 110.00  USD 93.50"
      ]
     },
     "execution_count": 62,
     "metadata": {},
     "output_type": "execute_result"
    }
   ],
   "source": [
    "all_product_df.tail()\n",
    "# df 파일로 저장\n",
    "all_product_df.to_csv(\"./crawl_data/shopping_product.csv\", index=0, encoding=\"utf-8-sig\")"
   ]
  },
  {
   "cell_type": "code",
   "execution_count": 64,
   "id": "5b1545f4-8d09-4235-b0ae-f738351f5bee",
   "metadata": {},
   "outputs": [
    {
     "data": {
      "text/html": [
       "<div>\n",
       "<style scoped>\n",
       "    .dataframe tbody tr th:only-of-type {\n",
       "        vertical-align: middle;\n",
       "    }\n",
       "\n",
       "    .dataframe tbody tr th {\n",
       "        vertical-align: top;\n",
       "    }\n",
       "\n",
       "    .dataframe thead th {\n",
       "        text-align: right;\n",
       "    }\n",
       "</style>\n",
       "<table border=\"1\" class=\"dataframe\">\n",
       "  <thead>\n",
       "    <tr style=\"text-align: right;\">\n",
       "      <th></th>\n",
       "      <th>품목</th>\n",
       "      <th>가격</th>\n",
       "      <th>할인가격</th>\n",
       "    </tr>\n",
       "  </thead>\n",
       "  <tbody>\n",
       "    <tr>\n",
       "      <th>0</th>\n",
       "      <td>SKIN1004 Madagascar Centella Toning Toner 210ml</td>\n",
       "      <td>USD 20.00</td>\n",
       "      <td>USD 13.99</td>\n",
       "    </tr>\n",
       "    <tr>\n",
       "      <th>1</th>\n",
       "      <td>COSRX Full Fit Propolis Synergy Toner 150ml</td>\n",
       "      <td>USD 28.00</td>\n",
       "      <td>USD 13.29</td>\n",
       "    </tr>\n",
       "    <tr>\n",
       "      <th>2</th>\n",
       "      <td>ROUND LAB 1025 Dokdo Toner 200ml</td>\n",
       "      <td>USD 17.00</td>\n",
       "      <td>USD 13.60</td>\n",
       "    </tr>\n",
       "    <tr>\n",
       "      <th>3</th>\n",
       "      <td>SKIN1004 Madagascar Centella Probio-Cica Essen...</td>\n",
       "      <td>USD 24.00</td>\n",
       "      <td>USD 13.99</td>\n",
       "    </tr>\n",
       "    <tr>\n",
       "      <th>4</th>\n",
       "      <td>numbuzin No.5 Vitamin-Niacinamide Concentrated...</td>\n",
       "      <td>USD 26.00</td>\n",
       "      <td>USD 20.80</td>\n",
       "    </tr>\n",
       "    <tr>\n",
       "      <th>...</th>\n",
       "      <td>...</td>\n",
       "      <td>...</td>\n",
       "      <td>...</td>\n",
       "    </tr>\n",
       "    <tr>\n",
       "      <th>500</th>\n",
       "      <td>preange Angelica Toner Quick Calming Pad 5ea</td>\n",
       "      <td>USD 12.00</td>\n",
       "      <td>USD 10.20</td>\n",
       "    </tr>\n",
       "    <tr>\n",
       "      <th>501</th>\n",
       "      <td>MAY ISLAND 7 Days Secret Vita Plus-10 Toner 155ml</td>\n",
       "      <td>USD 16.50</td>\n",
       "      <td>USD 14.02</td>\n",
       "    </tr>\n",
       "    <tr>\n",
       "      <th>502</th>\n",
       "      <td>Wish Formula Fermented Hydra Essential Toner 1...</td>\n",
       "      <td>USD 25.26</td>\n",
       "      <td>USD 19.20</td>\n",
       "    </tr>\n",
       "    <tr>\n",
       "      <th>503</th>\n",
       "      <td>BLITHE VItal Treatment 9 Essential Seeds 150ml</td>\n",
       "      <td>USD 40.80</td>\n",
       "      <td>USD 34.68</td>\n",
       "    </tr>\n",
       "    <tr>\n",
       "      <th>504</th>\n",
       "      <td>su:m37 LosecSumma Elixir Skin Softner 150ml</td>\n",
       "      <td>USD 110.00</td>\n",
       "      <td>USD 93.50</td>\n",
       "    </tr>\n",
       "  </tbody>\n",
       "</table>\n",
       "<p>505 rows × 3 columns</p>\n",
       "</div>"
      ],
      "text/plain": [
       "                                                    품목          가격       할인가격\n",
       "0      SKIN1004 Madagascar Centella Toning Toner 210ml   USD 20.00  USD 13.99\n",
       "1          COSRX Full Fit Propolis Synergy Toner 150ml   USD 28.00  USD 13.29\n",
       "2                     ROUND LAB 1025 Dokdo Toner 200ml   USD 17.00  USD 13.60\n",
       "3    SKIN1004 Madagascar Centella Probio-Cica Essen...   USD 24.00  USD 13.99\n",
       "4    numbuzin No.5 Vitamin-Niacinamide Concentrated...   USD 26.00  USD 20.80\n",
       "..                                                 ...         ...        ...\n",
       "500       preange Angelica Toner Quick Calming Pad 5ea   USD 12.00  USD 10.20\n",
       "501  MAY ISLAND 7 Days Secret Vita Plus-10 Toner 155ml   USD 16.50  USD 14.02\n",
       "502  Wish Formula Fermented Hydra Essential Toner 1...   USD 25.26  USD 19.20\n",
       "503     BLITHE VItal Treatment 9 Essential Seeds 150ml   USD 40.80  USD 34.68\n",
       "504        su:m37 LosecSumma Elixir Skin Softner 150ml  USD 110.00  USD 93.50\n",
       "\n",
       "[505 rows x 3 columns]"
      ]
     },
     "execution_count": 64,
     "metadata": {},
     "output_type": "execute_result"
    }
   ],
   "source": [
    "# 파일에서 읽어오기 확인\n",
    "all_product_df = pd.read_csv(\"./crawl_data/shopping_product.csv\")\n",
    "all_product_df"
   ]
  },
  {
   "cell_type": "code",
   "execution_count": null,
   "id": "17e7ae89",
   "metadata": {},
   "outputs": [],
   "source": []
  }
 ],
 "metadata": {
  "kernelspec": {
   "display_name": "“scrapSrc",
   "language": "python",
   "name": "scraping_source"
  },
  "language_info": {
   "codemirror_mode": {
    "name": "ipython",
    "version": 3
   },
   "file_extension": ".py",
   "mimetype": "text/x-python",
   "name": "python",
   "nbconvert_exporter": "python",
   "pygments_lexer": "ipython3",
   "version": "3.12.7"
  }
 },
 "nbformat": 4,
 "nbformat_minor": 5
}
