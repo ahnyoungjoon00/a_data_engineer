{
 "cells": [
  {
   "cell_type": "markdown",
   "id": "0894b413-6234-41da-a3a5-f390b15a103a",
   "metadata": {},
   "source": [
    "### 네이버 API 사용"
   ]
  },
  {
   "cell_type": "markdown",
   "id": "ea5e395c-4a01-44dc-970e-a506925e22c1",
   "metadata": {},
   "source": [
    "#### 네이버 api 키 발급\n",
    "- 네이버 개발자 센터: https://developers.naver.com/  \n",
    "- 상단 탭에서 'Application - 어플리케이션 등록' 을 선택  \n",
    "- 애플리케이션 이름 : hello  \n",
    "- 사용 API : 검색  \n",
    "- 환경 추가 : Android 설정  \n",
    "- 안드로이드 앱 페티지 이름 : com.hello  \n",
    "- 등록하기\n",
    "- Client ID 와 Client Secret 복사해둘 것  "
   ]
  },
  {
   "cell_type": "code",
   "execution_count": 1,
   "id": "b4f108b1-dc84-4651-bd05-48ac4f7ad62f",
   "metadata": {},
   "outputs": [],
   "source": [
    "from IPython.core.interactiveshell import InteractiveShell\n",
    "InteractiveShell.ast_node_interactivity=\"all\""
   ]
  },
  {
   "cell_type": "code",
   "execution_count": 4,
   "id": "30a39db2-cfe4-4635-b7f4-67378614150d",
   "metadata": {},
   "outputs": [],
   "source": [
    "client_id = \"gv6WrVUFyZviqGBAtlSV\"\n",
    "client_secret = \"nJ3Kxb67QL\""
   ]
  },
  {
   "cell_type": "code",
   "execution_count": 5,
   "id": "a4968382-67a3-46e0-a8fe-0c45125fee88",
   "metadata": {},
   "outputs": [
    {
     "name": "stdout",
     "output_type": "stream",
     "text": [
      "{\n",
      "\t\"lastBuildDate\":\"Fri, 27 Dec 2024 14:07:20 +0900\",\n",
      "\t\"total\":2616520,\n",
      "\t\"start\":1,\n",
      "\t\"display\":10,\n",
      "\t\"items\":[\n",
      "\t\t{\n",
      "\t\t\t\"title\":\"<b>강남역<\\/b>눈썹반영구 잘하는곳 가격과 시술 후 관리 방법 및... \",\n",
      "\t\t\t\"link\":\"https:\\/\\/blog.naver.com\\/senas2468\\/223702745597\",\n",
      "\t\t\t\"description\":\"바탕으로 <b>강남역<\\/b>눈썹반영구 잘하는곳, 눈썹반영구 가격, 눈썹반영구 시술 후 관리 방법과 주의사항에... 강남눈썹반영구 가격 비교 분석 가격은 정말 샵마다 천차만별이더라고요! 제가 꼼꼼히 알아본 바로는... \",\n",
      "\t\t\t\"bloggername\":\"미프로반영구클리닉\",\n",
      "\t\t\t\"bloggerlink\":\"blog.naver.com\\/senas2468\",\n",
      "\t\t\t\"postdate\":\"20241223\"\n",
      "\t\t},\n",
      "\t\t{\n",
      "\t\t\t\"title\":\"레티젠 착한 가격으로 받고 온 <b>강남역<\\/b> 콜라겐 주사 효과 후기\",\n",
      "\t\t\t\"link\":\"https:\\/\\/blog.naver.com\\/shuenmama\\/223706106428\",\n",
      "\t\t\t\"description\":\"방문하는 #<b>강남역<\\/b> 피부과에 미리 예약하고 요콜라겐 생성을 유도하는 시술이 아닌 직접적으로 콜라겐을... 계신 <b>강남역<\\/b> 피부과로 예약했다 여기는 항상 문의 할때마다 내가 원하는 모든 시술이 왠만하면 다... \",\n",
      "\t\t\t\"bloggername\":\"shuen\",\n",
      "\t\t\t\"bloggerlink\":\"blog.naver.com\\/shuenmama\",\n",
      "\t\t\t\"postdate\":\"20241226\"\n",
      "\t\t},\n",
      "\t\t{\n",
      "\t\t\t\"title\":\"<b>강남역<\\/b>피부과 울쎄라 티타늄리프팅 시술 통증 가격 후기\",\n",
      "\t\t\t\"link\":\"https:\\/\\/blog.naver.com\\/doughnutzz\\/223705193789\",\n",
      "\t\t\t\"description\":\"강남피부과 어매니티 울쎄라 - 티타늄리프팅 - 턱보톡스 <b>강남역<\\/b> 피부과 <b>강남역<\\/b> 울쎄라 후기 시술은 울쎄라부터 시작했어요. 울쎄라 타겟부위가 하관과 목이라서 마취크림을 바르고 대기했습니다 ㅎㅎ 하관에... \",\n",
      "\t\t\t\"bloggername\":\"아무거나 블로그\",\n",
      "\t\t\t\"bloggerlink\":\"blog.naver.com\\/doughnutzz\",\n",
      "\t\t\t\"postdate\":\"20241225\"\n",
      "\t\t},\n",
      "\t\t{\n",
      "\t\t\t\"title\":\"<b>강남역<\\/b> 데이트 역대급이던 벌툰 엔틱 <b>강남역<\\/b>점\",\n",
      "\t\t\t\"link\":\"https:\\/\\/blog.naver.com\\/eaenvy77\\/223705945185\",\n",
      "\t\t\t\"description\":\"며칠 전에 짝꿍이랑 같이 실내에서 하기좋은 <b>강남역<\\/b> 데이트를 즐기고 왔어요 만화책부터 안마기, 넷플릭스는 물론이고 맛있는 음식도 먹고와서 공유해보려 하는데요 벌툰 엔틱 <b>강남역<\\/b>점 주소 : 서울 강남구... \",\n",
      "\t\t\t\"bloggername\":\"두근두근..\",\n",
      "\t\t\t\"bloggerlink\":\"blog.naver.com\\/eaenvy77\",\n",
      "\t\t\t\"postdate\":\"20241226\"\n",
      "\t\t},\n",
      "\t\t{\n",
      "\t\t\t\"title\":\"<b>강남역<\\/b>사진관 만족스러웠던 증명사진 촬영 후기\",\n",
      "\t\t\t\"link\":\"https:\\/\\/blog.naver.com\\/ryuby019\\/223703529782\",\n",
      "\t\t\t\"description\":\"채용하는 회사에 선보이는 첫 인상이자 10년 동안 계속 붙이고 다닐 내 얼굴이니까 만족하실만한 선택하시길 바라요. <b>강남역<\\/b> 지스튜디오 서울 서초구 강남대로 453 서초빌딩\",\n",
      "\t\t\t\"bloggername\":\"Impossible is I'm possible..\",\n",
      "\t\t\t\"bloggerlink\":\"blog.naver.com\\/ryuby019\",\n",
      "\t\t\t\"postdate\":\"20241224\"\n",
      "\t\t},\n",
      "\t\t{\n",
      "\t\t\t\"title\":\"<b>강남역<\\/b> 회식장소 진씨화로 룸 있는 맛집 치즈 새우와 함께... \",\n",
      "\t\t\t\"link\":\"https:\\/\\/blog.naver.com\\/everybean\\/223706044520\",\n",
      "\t\t\t\"description\":\"위치 및 주차 정보 서울시 강남구 테헤란로 10길 21 <b>강남역<\\/b> 1번출구 7분거리 발렛 주차 가능 전화번호 02 - 566 - 0292 영업시간 매일 11시 ~ 22시 (주문마감 21시 30분) 연중 무휴 2. 실내 인테리어 <b>강남역<\\/b> 진씨화로는... \",\n",
      "\t\t\t\"bloggername\":\"ARARIO Blog\",\n",
      "\t\t\t\"bloggerlink\":\"blog.naver.com\\/everybean\",\n",
      "\t\t\t\"postdate\":\"20241226\"\n",
      "\t\t},\n",
      "\t\t{\n",
      "\t\t\t\"title\":\"<b>강남역<\\/b> 저녁 맛집 남소관 우육도삭면, 홍콩식 가지딤섬 추천\",\n",
      "\t\t\t\"link\":\"https:\\/\\/blog.naver.com\\/yeb0111\\/223705081620\",\n",
      "\t\t\t\"description\":\"위치 주소: 서울 강남구 테헤란로 1길 19 1~2층 <b>강남역<\\/b> 11번 출구, 장인닭갈비 건물입니다 술집 말고 식사 위주의 <b>강남역<\\/b> 맛집 라스토오더가 대체적으로 8시인데 남소관 우육도삭면은 8시30분 라스트오더에요... \",\n",
      "\t\t\t\"bloggername\":\"윤궁금의 매일궁금\",\n",
      "\t\t\t\"bloggerlink\":\"blog.naver.com\\/yeb0111\",\n",
      "\t\t\t\"postdate\":\"20241225\"\n",
      "\t\t},\n",
      "\t\t{\n",
      "\t\t\t\"title\":\"루카831 <b>강남역<\\/b> 오피스텔 분양가 혜택\",\n",
      "\t\t\t\"link\":\"https:\\/\\/blog.naver.com\\/chldltmfzz\\/223698869258\",\n",
      "\t\t\t\"description\":\"루카831 <b>강남역<\\/b> 오피스텔 분양가 혜택 서울 강남구 역삼동에 위치한 <b>강남역<\\/b> 루카831은 현대엔지니어링이 선보이는 하이엔드 오피스텔로, 강남권의 새로운 랜드마크로 주목받고 있습니다. 지하 7층부터 지상... \",\n",
      "\t\t\t\"bloggername\":\"울지말고 꽃을보라\",\n",
      "\t\t\t\"bloggerlink\":\"blog.naver.com\\/chldltmfzz\",\n",
      "\t\t\t\"postdate\":\"20241219\"\n",
      "\t\t},\n",
      "\t\t{\n",
      "\t\t\t\"title\":\"<b>강남역<\\/b> 사무실 임대 에피소드강남\",\n",
      "\t\t\t\"link\":\"https:\\/\\/blog.naver.com\\/dltnqls6107\\/223695384150\",\n",
      "\t\t\t\"description\":\"<b>강남역<\\/b> 사무실 임대 에피소드강남 #<b>강남역<\\/b>사무실 안녕하십니까 강남권의 비즈니스 업무 시설 공간을 소개드리고 있는 미르리얼티 입니다. 오늘은 200평 남짓의 사무실 면적을 필요로 하고 있는 기업의... \",\n",
      "\t\t\t\"bloggername\":\"미르리얼티\",\n",
      "\t\t\t\"bloggerlink\":\"blog.naver.com\\/dltnqls6107\",\n",
      "\t\t\t\"postdate\":\"20241216\"\n",
      "\t\t},\n",
      "\t\t{\n",
      "\t\t\t\"title\":\"<b>강남역<\\/b> 회식장소 하루의 피로를 제대로 푼 봉우화로\",\n",
      "\t\t\t\"link\":\"https:\\/\\/blog.naver.com\\/dkdaf\\/223637016791\",\n",
      "\t\t\t\"description\":\"봉우화로 주소 : 강남구 역삼동 619-14 1층 번호 : 0507-1375-8452 운영시간 : 11:30 - 23:00 이날 방문한 <b>강남역<\\/b> 회식장소 봉우화로는 <b>강남역<\\/b>에서 5분정도 거리에 위치했어요. 건물 코너에 걸린 간판이 멀리서도 한눈에... \",\n",
      "\t\t\t\"bloggername\":\"꿈을 찾아 떠나는 여행\",\n",
      "\t\t\t\"bloggerlink\":\"blog.naver.com\\/dkdaf\",\n",
      "\t\t\t\"postdate\":\"20241028\"\n",
      "\t\t}\n",
      "\t]\n",
      "}\n"
     ]
    }
   ],
   "source": [
    "# 네이버 검색 API 예제 - 블로그 검색 \n",
    "import os\n",
    "import sys\n",
    "import urllib.request\n",
    "client_id = client_id\n",
    "client_secret = client_secret\n",
    "encText = urllib.parse.quote(\"강남역\")\n",
    "url = \"https://openapi.naver.com/v1/search/blog?query=\" + encText # JSON 결과\n",
    "# url = \"https://openapi.naver.com/v1/search/blog.xml?query=\" + encText # XML 결과\n",
    "request = urllib.request.Request(url)\n",
    "request.add_header(\"X-Naver-Client-Id\",client_id) # 헤더 추가\n",
    "request.add_header(\"X-Naver-Client-Secret\",client_secret) # 헤더 추가\n",
    "# 요청 객체 구성 끝=================================================\n",
    "\n",
    "response = urllib.request.urlopen(request) # 헤더 포한한 url을 활용해 api요청 실행\n",
    "rescode = response.getcode() # 요청 시 서버가 보내준 http상태코드 반환(200/400/404/500)\n",
    "if(rescode==200):\n",
    "    response_body = response.read()\n",
    "    print(response_body.decode('utf-8'))\n",
    "else:\n",
    "    print(\"Error Code:\" + rescode)"
   ]
  },
  {
   "cell_type": "markdown",
   "id": "77bbb62b-21c9-46ed-a2fe-937529eb880c",
   "metadata": {},
   "source": [
    "#### 네이버 오픈 API 예제"
   ]
  },
  {
   "cell_type": "code",
   "execution_count": null,
   "id": "74244516-abc6-4ac8-bb7c-a34ca24bcc92",
   "metadata": {},
   "outputs": [],
   "source": [
    "# 블로그 검색"
   ]
  },
  {
   "cell_type": "code",
   "execution_count": 6,
   "id": "382bde32-adb9-413a-b3b6-4da0fa9aa918",
   "metadata": {},
   "outputs": [],
   "source": [
    "import os\n",
    "import sys\n",
    "import urllib.request\n",
    "import pandas as pd"
   ]
  },
  {
   "cell_type": "markdown",
   "id": "106317dd-c2fe-4213-aa6a-a5d42d6be6d8",
   "metadata": {},
   "source": [
    "#### 요청 방법1"
   ]
  },
  {
   "cell_type": "code",
   "execution_count": 7,
   "id": "d4df9328-933d-47bd-b661-a553c067bad0",
   "metadata": {},
   "outputs": [],
   "source": [
    "# 검색할 단어 인코딩\n",
    "# https://search.naver.com/search.naver?where=nexearch&sm=top_hty&fbm=0&ie=utf8&query=강남역\n",
    "# https://search.naver.com/search.naver?where=nexearch&sm=top_hty&fbm=0&ie=utf8&query=%EA%B0%95%EB%82%A8%EC%97%AD\n",
    "# 웹 url에서 보이는거랑 실제 작동 url은 다름, 한글을 인식하려면 변환이 필요\n",
    "# 따라서\n",
    "encText=urllib.parse.quote(\"강남역\")\n",
    "# 이렇게 변환 변수를 만들어서"
   ]
  },
  {
   "cell_type": "code",
   "execution_count": 8,
   "id": "d303f5bc-4fd3-423c-a9bb-8d0517c73097",
   "metadata": {},
   "outputs": [
    {
     "data": {
      "text/plain": [
       "'https://openapi.naver.com/v1/search/blog.json?query=%EA%B0%95%EB%82%A8%EC%97%AD'"
      ]
     },
     "execution_count": 8,
     "metadata": {},
     "output_type": "execute_result"
    }
   ],
   "source": [
    "# url 호출하면서 인코딩된 검색어를 파라미터로 전달\n",
    "url= \"https://openapi.naver.com/v1/search/blog.json?query=\" + encText\n",
    "url"
   ]
  },
  {
   "cell_type": "code",
   "execution_count": 9,
   "id": "4e7dca20-79ab-42bc-bdf3-06f2e3d2a6aa",
   "metadata": {},
   "outputs": [],
   "source": [
    "# 서버로 전송\n",
    "request = urllib.request.Request(url)\n",
    "request.add_header(\"X-Naver-Client-Id\", client_id)\n",
    "request.add_header(\"X-Naver-Client-Secret\", client_secret)"
   ]
  },
  {
   "cell_type": "code",
   "execution_count": 10,
   "id": "4d8c99c6-eb3e-4022-8a69-9806f2d8cb1a",
   "metadata": {},
   "outputs": [
    {
     "data": {
      "text/plain": [
       "200"
      ]
     },
     "execution_count": 10,
     "metadata": {},
     "output_type": "execute_result"
    }
   ],
   "source": [
    "# 서버로부터 응답 받음\n",
    "response = urllib.request.urlopen(request)\n",
    "rescode = response.getcode()\n",
    "rescode\n",
    "# 200 성공\n",
    "# 400 Bad Request\n",
    "# 401 Unthorized\n",
    "# 403 Forbidden \n",
    "# 404 Not Found\n",
    "# 408 Request Timeout"
   ]
  },
  {
   "cell_type": "code",
   "execution_count": 15,
   "id": "4e326b7d-d486-4444-a37d-17b254d026a1",
   "metadata": {
    "scrolled": true
   },
   "outputs": [
    {
     "name": "stdout",
     "output_type": "stream",
     "text": [
      "\n",
      "<class 'str'>\n"
     ]
    }
   ],
   "source": [
    "# 성공한 경우 : response_body = response.read() 결과 받아옴 / 출력\n",
    "# 기본 display : 10\n",
    "\n",
    "if(rescode==200):\n",
    "    response_body = response.read()\n",
    "    print(response_body.decode('utf-8'))\n",
    "    print(type(response_body.decode('utf-8'))) # 그래서 이걸 받아다가 json객체 변환을 해줘야하는\n",
    "else:\n",
    "    print(\"Error Code:\" + rescode)\n",
    "    "
   ]
  },
  {
   "cell_type": "code",
   "execution_count": null,
   "id": "372e9fe0-8110-4ac6-9845-d093a40f8299",
   "metadata": {},
   "outputs": [],
   "source": []
  },
  {
   "cell_type": "code",
   "execution_count": null,
   "id": "e9c8c2aa-2108-4fc2-bca2-414c74aade93",
   "metadata": {},
   "outputs": [],
   "source": [
    "# 요청 방법2"
   ]
  },
  {
   "cell_type": "code",
   "execution_count": 11,
   "id": "4d454039-66fd-4b5a-aab7-0cecc901f109",
   "metadata": {},
   "outputs": [],
   "source": [
    "# requests.get() 메소드 사용\n",
    "# heaer 구성이 간단\n",
    "import requests\n",
    "from urllib.parse import urlparse # 한글 처리\n",
    "import urllib.parse"
   ]
  },
  {
   "cell_type": "code",
   "execution_count": 12,
   "id": "23069802-0e33-4378-85f4-e814e31f6868",
   "metadata": {},
   "outputs": [
    {
     "data": {
      "text/plain": [
       "'%EC%84%9C%EC%9A%B8%EC%97%AD'"
      ]
     },
     "execution_count": 12,
     "metadata": {},
     "output_type": "execute_result"
    }
   ],
   "source": [
    "# 검색할 단어 인코딩\n",
    "keyword=urllib.parse.quote(\"서울역\")\n",
    "keyword"
   ]
  },
  {
   "cell_type": "code",
   "execution_count": 35,
   "id": "cd7bd308-75f6-461c-885a-c21c593f95ff",
   "metadata": {},
   "outputs": [],
   "source": [
    "# url = \"https://openapi.naver.com/v1/search/blog?query=\" + encText"
   ]
  },
  {
   "cell_type": "code",
   "execution_count": 6,
   "id": "e56b8633-5967-45e8-9c5e-24d579f3f01e",
   "metadata": {},
   "outputs": [],
   "source": [
    "# url 생성 : 기본 url + 요청 파라미터 \n",
    "# 기본 url\n",
    "base_url = \"https://openapi.naver.com/v1/search/blog.json?\"\n",
    "\n",
    "# 요청 파라미터 : 쿼리스트링 서버주소?파라미터명=값&파라미터명=값&.......\n",
    "param=\"query=\"+keyword\n",
    "\n",
    "# 최종 url \n",
    "url = base_url+param"
   ]
  },
  {
   "cell_type": "code",
   "execution_count": 17,
   "id": "98349431-953c-4f44-aea8-b5ea4fe5ff7e",
   "metadata": {},
   "outputs": [
    {
     "data": {
      "text/plain": [
       "requests.models.Response"
      ]
     },
     "execution_count": 17,
     "metadata": {},
     "output_type": "execute_result"
    }
   ],
   "source": [
    "# 인증정보 header에 포함\n",
    "# 전송할 모든 header key:value 타입으로 추가\n",
    "headers = {\n",
    "    \"X-Naver-Client-Id\":client_id,\n",
    "    \"X-Naver-Client-Secret\":client_secret\n",
    "}\n",
    "\n",
    "# 요청\n",
    "result = requests.get(url, headers=headers)\n",
    "result"
   ]
  },
  {
   "cell_type": "code",
   "execution_count": 19,
   "id": "0beb2c04-cdb7-422f-913d-3ec2cd5ee57a",
   "metadata": {
    "scrolled": true
   },
   "outputs": [
    {
     "data": {
      "text/plain": [
       "requests.models.Response"
      ]
     },
     "execution_count": 19,
     "metadata": {},
     "output_type": "execute_result"
    },
    {
     "data": {
      "text/plain": [
       "dict"
      ]
     },
     "execution_count": 19,
     "metadata": {},
     "output_type": "execute_result"
    }
   ],
   "source": [
    "# 서버로부터 결과로 받은 result 파싱\n",
    "# JSON 객체로 변환\n",
    "type(result) # requests.models.Response -> json객체로 변환해줘야함\n",
    "json_obj= result.json() # requests.models.Response.json()과 같은 형태\n",
    "                        # response 객체 안의 body부분을 json으로 반환\n",
    "                        # 이렇게 바로 .json() 붙여서 쓴다는건 저 라이브러리+함수 안에 기능이 자체 탑재되어있는거임\n",
    "type(json_obj)\n",
    "# 결과를 JSON 뷰어로 확인 "
   ]
  },
  {
   "cell_type": "code",
   "execution_count": null,
   "id": "f6b8e155-138f-44f2-898f-30ecd4cc9cf6",
   "metadata": {},
   "outputs": [],
   "source": [
    "# 키 확인\n",
    "# lastBuildDate \n",
    "# total \n",
    "# start \n",
    "# display \n",
    "# items\n",
    "\n",
    "# items\n",
    "# - title\n",
    "# - link\n",
    "# - description\n",
    "# - bloggername\n",
    "# - bloggerlink \n",
    "# - postdate\n"
   ]
  },
  {
   "cell_type": "code",
   "execution_count": 21,
   "id": "90c75398-2c44-4e70-993d-1f1b5c0257c7",
   "metadata": {},
   "outputs": [
    {
     "data": {
      "text/plain": [
       "dict_keys(['lastBuildDate', 'total', 'start', 'display', 'items'])"
      ]
     },
     "execution_count": 21,
     "metadata": {},
     "output_type": "execute_result"
    },
    {
     "data": {
      "text/plain": [
       "dict_keys(['title', 'link', 'description', 'bloggername', 'bloggerlink', 'postdate'])"
      ]
     },
     "execution_count": 21,
     "metadata": {},
     "output_type": "execute_result"
    }
   ],
   "source": [
    "# 키 확인\n",
    "json_obj.keys()\n",
    "json_obj[\"items\"][0].keys()"
   ]
  },
  {
   "cell_type": "code",
   "execution_count": 22,
   "id": "259807ba-a0f8-4a95-8459-b9a961de135b",
   "metadata": {},
   "outputs": [
    {
     "data": {
      "text/plain": [
       "10"
      ]
     },
     "execution_count": 22,
     "metadata": {},
     "output_type": "execute_result"
    }
   ],
   "source": [
    "json_obj['display']"
   ]
  },
  {
   "cell_type": "code",
   "execution_count": 24,
   "id": "1c150991-6980-4dbe-893f-312620831db2",
   "metadata": {},
   "outputs": [
    {
     "name": "stdout",
     "output_type": "stream",
     "text": [
      "레티젠 착한 가격으로 받고 온 강남역 콜라겐 주사 효과 후기 : https://blog.naver.com/shuenmama/223706106428\n",
      "강남역눈썹반영구 잘하는곳 가격과 시술 후 관리 방법 및...  : https://blog.naver.com/senas2468/223702745597\n",
      "강남역피부과 울쎄라 티타늄리프팅 시술 통증 가격 후기 : https://blog.naver.com/doughnutzz/223705193789\n",
      "강남역 데이트 역대급이던 벌툰 엔틱 강남역점 : https://blog.naver.com/eaenvy77/223705945185\n",
      "강남역사진관 만족스러웠던 증명사진 촬영 후기 : https://blog.naver.com/ryuby019/223703529782\n",
      "강남역 회식장소 진씨화로 룸 있는 맛집 치즈 새우와 함께...  : https://blog.naver.com/everybean/223706044520\n",
      "강남역 저녁 맛집 남소관 우육도삭면, 홍콩식 가지딤섬 추천 : https://blog.naver.com/yeb0111/223705081620\n",
      "루카831 강남역 오피스텔 분양가 혜택 : https://blog.naver.com/chldltmfzz/223698869258\n",
      "강남역 사무실 임대 에피소드강남 : https://blog.naver.com/dltnqls6107/223695384150\n",
      "강남역 회식장소 하루의 피로를 제대로 푼 봉우화로 : https://blog.naver.com/dkdaf/223637016791\n"
     ]
    }
   ],
   "source": [
    "# 각 item의 제목과 링크 추출 \n",
    "for item in json_obj[\"items\"]:\n",
    "    print(item[\"title\"].replace(\"<b>\", \"\").replace(\"</b>\", \"\") + \" : \" + item[\"link\"])"
   ]
  },
  {
   "cell_type": "markdown",
   "id": "7d8e591f-f14d-44ff-a4b8-f894848ead7b",
   "metadata": {},
   "source": [
    "#### 검색 결과를 100개로 변경\n",
    "- 검색 결과 기본값 : 10\n",
    "- 최대 검색 개수 : 100\n",
    "- 관련 요청 변수 : display\n",
    "    - display = 100 으로 설정"
   ]
  },
  {
   "cell_type": "code",
   "execution_count": 27,
   "id": "ed09c827-339a-41f1-b1cb-b31f59144154",
   "metadata": {},
   "outputs": [
    {
     "data": {
      "text/plain": [
       "'https://openapi.naver.com/v1/search/blog.json?query=%EC%84%9C%EC%9A%B8%EC%97%AD&display=100'"
      ]
     },
     "execution_count": 27,
     "metadata": {},
     "output_type": "execute_result"
    }
   ],
   "source": [
    "keyword=urllib.parse.quote(\"서울역\")\n",
    "disNum=100\n",
    "base_url=\"https://openapi.naver.com/v1/search/blog.json?\"\n",
    "\n",
    "# 파라미터 설정\n",
    "param = \"query=\" + keyword + \"&display=\" + str(disNum)\n",
    "# 요청 파라미터 : 쿼리스트링 서버주소?파라미터명=값&파라미터명=값&.......\n",
    "# 최종 url\n",
    "url=base_url+param\n",
    "url"
   ]
  },
  {
   "cell_type": "code",
   "execution_count": 28,
   "id": "f9359ce2-220b-4126-a67a-5fcedbdd1be0",
   "metadata": {},
   "outputs": [
    {
     "data": {
      "text/plain": [
       "<Response [200]>"
      ]
     },
     "execution_count": 28,
     "metadata": {},
     "output_type": "execute_result"
    }
   ],
   "source": [
    "# 요청\n",
    "headers = {\n",
    "    \"X-Naver-Client-Id\":client_id,\n",
    "    \"X-Naver-Client-Secret\":client_secret\n",
    "}\n",
    "\n",
    "# 요청\n",
    "result = requests.get(url, headers=headers)\n",
    "result"
   ]
  },
  {
   "cell_type": "code",
   "execution_count": 29,
   "id": "41ffc2d1-5e2b-410b-bc54-7ec9a3b07cd7",
   "metadata": {},
   "outputs": [
    {
     "data": {
      "text/plain": [
       "100"
      ]
     },
     "execution_count": 29,
     "metadata": {},
     "output_type": "execute_result"
    }
   ],
   "source": [
    "# 요청 결과 확인\n",
    "json_obj=result.json()\n",
    "len(json_obj[\"items\"])"
   ]
  },
  {
   "cell_type": "code",
   "execution_count": 30,
   "id": "c3e5ab64-577e-46a7-9ae6-4c4af0bf70d5",
   "metadata": {},
   "outputs": [
    {
     "name": "stdout",
     "output_type": "stream",
     "text": [
      "서울역 근처 카페 만리재길 카페 더하우스1932 : https://blog.naver.com/tlalsguraud/223691037711\n",
      "서울역 와인_콤바크_만리동 파스타, 뇨끼 맛집 : https://blog.naver.com/thstjdus0629/223698726645\n",
      "서울역 카페 포컬포인트 : https://blog.naver.com/kellysweethome/223700747043\n",
      "회현역 맛집 서울역 근처 근사한 미도인 그랜드센트럴 직장인...  : https://blog.naver.com/al_dente/223699284331\n",
      "서울역 브런치 맛집 콤바크 또 가고 싶다요 : https://blog.naver.com/chorong0620/223695398565\n",
      "경의선 서울역, 서울 7024번 버스 소개 및 탑승기 - 241212. : https://blog.naver.com/newpark314/223700464346\n",
      "GTX-A 파주운정 서울역 개통 D-8일! 서울역까지 22분 : https://blog.naver.com/toys999/223699820388\n",
      "서울역 미소라멘 맛집, 마츠도 서울역점 내돈내산 후기 : https://blog.naver.com/slowdownandenjoylife/223704181336\n",
      "서울역 기차 시간 KTX 타는 법 시간표는 미리 확인 : https://blog.naver.com/rizmam/223697642093\n",
      "한화건설 서울역 북부역세권 복합개발사업 착공 소식 : https://blog.naver.com/yhm4082/223701202264\n",
      "서울역 떡볶이 맛집 철도떡볶이 혼밥 혼술 가능 웨이팅...  : https://blog.naver.com/dlrwnsaka/223702329852\n",
      "서울역센트럴자이(서센자) 가벼운 임장 리뷰 : https://blog.naver.com/gmj9128/223697785815\n",
      "한화건설 서울역 복합개발사업 착공! 북부 역세권 랜드마크...  : https://blog.naver.com/herwardrobe/223706376544\n",
      "서울역 모임 콤바크 친구들과 연말굿바이 와인 파스타 : https://blog.naver.com/banity_/223700120549\n",
      "서울역 사무실 임대 후암로 서울시티타워 : https://blog.naver.com/ckdaecheol/223675497508\n",
      "한화건설과 서울시의 비전, 서울역 북부역세권 복합개발사업...  : https://blog.naver.com/nightd/223706384621\n",
      "회현역 맛집 서울역 스테이크 놉스 연말모임 : https://blog.naver.com/gnldnjs2215/223701036714\n",
      "GTX-A 28일 운정중앙역 - 서울역 개통 예정, GTX-A 노선, 수혜...  : https://blog.naver.com/airtc1007/223706323240\n",
      "통창 야경뷰 서울역 회식 맛집 어슬 서울 퓨전한식 레스토랑 : https://blog.naver.com/godmz_/223697444605\n",
      "서울역 북부역세권개발 착공에 더욱 기대되는 용산구 청파 2구역! : https://blog.naver.com/core_tumi/223691830551\n",
      "서울역 레이저제모, 대부분이 오해하는 3가지 착각 - 의사 작성 : https://blog.naver.com/garam_73/223669587890\n",
      "시청역&amp;서울역비상주사무실 장점과 최저가격 : https://blog.naver.com/against3254/223706282046\n",
      "서울역 라멘 맛집 마츠도는 재료의 풍미가 좋음 : https://blog.naver.com/sunlight4u/223705480000\n",
      "서울역 필라테스 vs 서울역 pt / *나에게 잘 맞는 운동은? : https://blog.naver.com/novusfiveton/223699102171\n",
      "서울역 북부역세권 복합개발사업, 한화건설과 함께 미래로! : https://blog.naver.com/heung213/223705263713\n",
      "서울역 ktx 캐리어 짐보관소 물품보관함, 위치 시간 요금 정보 : https://blog.naver.com/jinnnnnyj/223705339706\n",
      "수도권광역급행철도 개통 연신내역에서 서울역까지 5.5분 : https://blog.naver.com/glorian4u/223705055761\n",
      "웨딩 베뉴 투어, 서울역 근처 웨딩홀 중구 아벤티움 &amp; 명동...  : https://blog.naver.com/oo115o/223704916476\n",
      "서울역 사무실 임대 세종대로 그랜드센트럴 : https://blog.naver.com/ckdaecheol/223661474149\n",
      "서울역 선물세트 태극당 서울광장점 : https://blog.naver.com/hyein811/223700350276\n",
      "서울역 위트앤미트 수제버거 맛집이네 : https://blog.naver.com/mjhan0621/223694531869\n",
      "서울역 맛집 유즈라멘 라멘맛집  (캐치테이블 웨이팅) : https://blog.naver.com/kim-see/223694649156\n",
      "서울역 쌀국수 맛집 노이덴 베트남 음식점 : https://blog.naver.com/chichitable/223687834148\n",
      "[용산구] 태향_서울역 주변 유명한 가성비 중국집. 푸짐한 양 인정! : https://blog.naver.com/slumkill/223703085506\n",
      "투스타의 파인다이닝 어슬서울 l 서울역 회식 맛집 : https://blog.naver.com/zuzuuzu/223694014275\n",
      "서울역 라멘 맛집 유즈라멘은 오프런하는 맛집 : https://blog.naver.com/sunlight4u/223700704484\n",
      "서울역 가성비 스테이크 맛집 NOPS 놉스 서울역점! 사이드도...  : https://blog.naver.com/tjgus2060/223675842386\n",
      "[국내/서울/청파동 맛집] 프리미엄값이 붙은걸까? 땀땀 서울역점. : https://blog.naver.com/whithorblack/223701666338\n",
      "[서울역 카페] 커넥트테라스 카페홀 서울역 빈스앤베리즈 : https://blog.naver.com/lpsh111/223706028532\n",
      "서울역 만리동 데이트 소개팅 추천 분위기 좋은 콤바크 : https://blog.naver.com/soojikong/223702259823\n",
      "서울역 강민경맛집 위트앤미트 수제버거&amp;바나나푸딩 : https://blog.naver.com/ttiizz/223698199685\n",
      "서울역 사무실 임대 그레이츠숭례 : https://blog.naver.com/ckdaecheol/223655518040\n",
      "서울역 맛집 - 제일제면소 리뷰, 할인, 대기 : https://blog.naver.com/lantern/223689399773\n",
      "[서울역 맛집] 슈가스컬 _디즈니 코코 느낌의 멕시칸...  : https://blog.naver.com/muly21/223704853076\n",
      "서울역 하이마트 연말오픈행사로 풍성한 혜택을 : https://blog.naver.com/jamong_tea/223679924287\n",
      "서울역 글로벌 미래 플랫폼으로의 도약 한화건설 북부역세권...  : https://blog.naver.com/rain930814/223706465031\n",
      "서울역 북부역세권 착공으로 관심 집중되는 용산 서계동 급매물! : https://blog.naver.com/ksi0067/223696501414\n",
      "GTXA서울역과 GTX A노선도, 편리한 출퇴근을 위한 필수정보 : https://blog.naver.com/dlwpqnxk/223675289329\n",
      "서울 연말 모임 숙소 서울역 UH Suite The Seoul 후기! : https://blog.naver.com/r71223/223697439061\n",
      "서울 전시 한국관광 사진전 서울역 놀거리 12월 가볼만한곳 : https://blog.naver.com/gftravel/223678836573\n",
      "내돈내산 [회현 / 서울역] 서령 - 남대문 근처 생활의 달인에...  : https://blog.naver.com/pink_717/223706360375\n",
      "GTXA서울역과 GTX A노선 요금, 비용과 편리성 비교 : https://blog.naver.com/guard100/223673345689\n",
      "서울역 맛집 후라토식당 규카츠 : https://blog.naver.com/hyein811/223696929601\n",
      "서울역 맛집 멕시코 음식점 슈가스컬 서울역점 : https://blog.naver.com/01234590/223690670581\n",
      "서울스퀘어 임대 서울역 사무실 대형빌딩 오피스 : https://blog.naver.com/smspkkb/223706621893\n",
      "서울역 고가공원 겨울 : https://blog.naver.com/csk319/223696849122\n",
      "공항철도 직통열차 예약 서울역 도심공항터미널 인천공항 AREX : https://blog.naver.com/overroad89/223674819673\n",
      "서울역공유오피스 패파, 패스트파이브 서울역점 사무실 후기 : https://blog.naver.com/bk32167/223701301048\n",
      "서울역~인천공항 공항철도 직통열차 첫차 막차 시간표 및 요금 : https://blog.naver.com/shipbest/223702951314\n",
      "공항철도타고 인천공항으로서울역 도심공항터미널 이용후기 : https://blog.naver.com/vivajin819/223701476430\n",
      "서울역맛집 핫도그앤스프 수제소세지 : https://blog.naver.com/hyein811/223706815961\n",
      "서울역 맛집 파리크라상 케이크 추천 : https://blog.naver.com/sirunai/223706169691\n",
      "서울역 - 슈가스컬 / 인스타감성의 타코맛집 : https://blog.naver.com/rinoayuna/223695626512\n",
      "서울역 회식 맛집 모던한 분위기의 한식다이닝 어슬 서울 : https://blog.naver.com/sumin3646/223702379862\n",
      "서울역 데이트 | 꼭 먹어야하는 흑백요리사 맛집, 야키토리혼바 : https://blog.naver.com/sunny823/223704553570\n",
      "[서울역 술집] 산첩첩물첩첩_닭볶음탕, 전 : https://blog.naver.com/khskhj503/223697357584\n",
      "매장이 넓어 회식하기 좋은 서울역고기집 l 식껍 남대문 본점 : https://blog.naver.com/ha3790/223697937559\n",
      "서울역 태향에서 점심 식사를 하다. : https://blog.naver.com/schroedervan/223697946367\n",
      "서울역 디저트카페 추천 : 서울역사 쪽 커넥트테라스...  : https://blog.naver.com/nekkokaburi/223705535491\n",
      "이제 파주에서 서울역까지 30분도 안걸린대요 : https://blog.naver.com/stinstyle/223692718558\n",
      "서울역 맛집 :: 서울역 주변 간단하게 혼밥하기 좋은 맛집...  : https://blog.naver.com/juhki2_2/223692745992\n",
      "서울역 태국 음식 맛집 크루아타이 그랜드센트럴 쌀국수 점심 : https://blog.naver.com/no1cye/223704461278\n",
      "서울역 맛집 수제버거 맛있는 위트앤미트 서울역점 : https://blog.naver.com/cea8828/223675119597\n",
      "서울역 카페 : 청파동 드로우 에스프레소바 (feat. 백설기) : https://blog.naver.com/kmjhan91/223704564010\n",
      "서울역 맛집 추천, 일본가정식 토끼정 KTX 내돈내산 점심 후기 : https://blog.naver.com/tlsalswn000/223700981679\n",
      "서울역 인근, 대변신 시작! 지금이 기회입니다! : https://blog.naver.com/tumi4474_/223699633722\n",
      "서울역 카페 포컬포인트 : https://blog.naver.com/poohhoo/223685732382\n",
      "[615]서울역 봉래축산-또 또 또 찾은 봉래축산 : https://blog.naver.com/hjh345/223699282001\n",
      "[서울역 맛집] 파이브 가이즈 : https://blog.naver.com/uncle_dann/223694309268\n",
      "서울역 근처 빈티지 카페 상향선 내돈내산 리뷰 : https://blog.naver.com/renarenaworld/223692684812\n",
      "서울역_서울역철도떡볶이 &amp; 커피업(coffee Up) : https://blog.naver.com/deepblue124/223697811392\n",
      "서울역 태국 음식 서울역 그랜드센트럴 맛집 크루아타이...  : https://blog.naver.com/icebox34/223698362630\n",
      "서울역 근처 회식은 레트로 감성 가득한 속초집에서! : https://blog.naver.com/ihapkidongja/223698829566\n",
      "서울역 선물세트 | 태극당 서울역점 연말선물 할인 : https://blog.naver.com/happinessboo-ya/223700692920\n",
      "서울역 근처 맛집/유즈라멘; 웨이팅하는 서울역 혼밥 맛집 : https://blog.naver.com/sk8ergirl88/223694798156\n",
      "서울역 롯데아울렛 유어굿즈 크리스마스 마켓 후기 : https://blog.naver.com/alicenyang/223701573695\n",
      "[서울역 브런치] 콤바크_프렌치토스트 : https://blog.naver.com/khskhj503/223702178529\n",
      "서울역 카페 _ 서울역 3층 커넥트테라스 카페홀에 위치한...  : https://blog.naver.com/wonnyrang/223703443829\n",
      "포포인츠 쉐라톤 서울역 숙소와 조식후기 : https://blog.naver.com/miru0408/223703560570\n",
      "서울역 만리재로 &lt;봉래축산&gt; 양념 소갈비살 맛집 : https://blog.naver.com/min__yejee/223662046509\n",
      "포포인츠 바이 쉐라톤 조선 서울역 트윈 라지룸 간단 후기 : https://blog.naver.com/pauseand/223700874006\n",
      "[서울역] 진1926 - 맛있을만하고 맛있어야만 해 : https://blog.naver.com/realblue88/223686259270\n",
      "미라클북클럽 송년모임 with 공간햅삐 서울역점 : https://blog.naver.com/webhoi01/223695683882\n",
      "서울역 단체도시락 샌드홈 샌드위치 컵과일190인분 : https://blog.naver.com/saggarigi/223702300654\n",
      "&lt;SNOW PARADISE&gt; 아이라최 개인전, 서울역 커넥트플레이스...  : https://blog.naver.com/airachoi/223696705397\n",
      "서울_서울역 커넥트플레이스 이도곰탕(&amp; ..) : https://blog.naver.com/cal_howstory/223694634455\n",
      "서울 :: 이도곰탕 서울역 직영점, 서울역 한식 추천 : https://blog.naver.com/wondddy/223687751363\n",
      "[서울]서울역 근처 중화요리 맛집 태향 : https://blog.naver.com/freehayo/223695769508\n",
      "서울역 _ 문화역서울284 크리스마스마켓 '비밀의 성탄역' : https://blog.naver.com/wonnyrang/223701676737\n",
      "서울역에서 시청앞까지 / 일삼산악회173차 : https://blog.naver.com/sonjson/223701362614\n"
     ]
    }
   ],
   "source": [
    "# 100개 결과 출력 \n",
    "for item in json_obj[\"items\"]:\n",
    "    print(item[\"title\"].replace(\"<b>\", \"\").replace(\"</b>\", \"\") + \" : \" + item[\"link\"])  "
   ]
  },
  {
   "cell_type": "code",
   "execution_count": 36,
   "id": "d27f4e18-a425-4039-8415-cb576cbeb3dc",
   "metadata": {},
   "outputs": [
    {
     "data": {
      "text/plain": [
       "'https://openapi.naver.com/v1/search/blog.json?query=%EC%84%9C%EC%9A%B8%EC%97%AD&display=5'"
      ]
     },
     "execution_count": 36,
     "metadata": {},
     "output_type": "execute_result"
    }
   ],
   "source": [
    "# keywor와 display 변경해서 검색\n",
    "#서울역, 5개 출력\n",
    "base_url=\"https://openapi.naver.com/v1/search/blog.json?\"\n",
    "\n",
    "keyword=urllib.parse.quote(\"서울역\")\n",
    "disNum=5\n",
    "# 파라미터 설정\n",
    "param = \"query=\" + keyword + \"&display=\" + str(disNum)\n",
    "# 요청 파라미터 : 쿼리스트링 서버주소?파라미터명=값&파라미터명=값&.......\n",
    "# 최종 url\n",
    "url=base_url+param\n",
    "url\n",
    "# headers = {\n",
    "#     \"X-Naver-Client-Id\":client_id,\n",
    "#     \"X-Naver-Client-Secret\":client_secret\n",
    "# }\n",
    "# # 요청\n",
    "# result = requests.get(url, headers=headers)\n",
    "# # 요청 결과 확인\n",
    "# json_obj=result.json()\n",
    "# # len(json_obj[\"items\"])\n",
    "\n",
    "# # 100개 결과 출력 \n",
    "# for item in json_obj[\"items\"]:\n",
    "#     print(item[\"title\"].replace(\"<b>\", \"\").replace(\"</b>\", \"\") + \" : \" + item[\"link\"])  "
   ]
  },
  {
   "cell_type": "code",
   "execution_count": 35,
   "id": "3f87c0c8-75c2-472b-9d6b-4ee7190e4b51",
   "metadata": {},
   "outputs": [
    {
     "data": {
      "text/plain": [
       "'https://openapi.naver.com/v1/search/blog.json?query=%EC%95%95%EA%B5%AC%EC%A0%95%EC%97%AD&display=5'"
      ]
     },
     "execution_count": 35,
     "metadata": {},
     "output_type": "execute_result"
    }
   ],
   "source": [
    "# keywor와 display 변경해서 검색\n",
    "#압구정역, 5개 출력\n",
    "base_url=\"https://openapi.naver.com/v1/search/blog.json?\"\n",
    "keyword=urllib.parse.quote(\"압구정역\")\n",
    "disNum=5\n",
    "# 파라미터 설정\n",
    "param = \"query=\" + keyword + \"&display=\" + str(disNum)\n",
    "# 요청 파라미터 : 쿼리스트링 서버주소?파라미터명=값&파라미터명=값&.......\n",
    "# 최종 url\n",
    "url=base_url+param\n",
    "url\n",
    "headers = {\n",
    "    \"X-Naver-Client-Id\":client_id,\n",
    "    \"X-Naver-Client-Secret\":client_secret\n",
    "}\n",
    "# 요청\n",
    "result = requests.get(url, headers=headers)\n",
    "# 요청 결과 확인\n",
    "json_obj=result.json()\n",
    "# len(json_obj[\"items\"])\n",
    "\n",
    "# 100개 결과 출력 \n",
    "for item in json_obj[\"items\"]:\n",
    "    print(item[\"title\"].replace(\"<b>\", \"\").replace(\"</b>\", \"\") + \" : \" + item[\"link\"])  "
   ]
  },
  {
   "cell_type": "markdown",
   "id": "112bc9e5-e230-44b4-97de-b2a78f9aeae9",
   "metadata": {},
   "source": [
    "#### 검색 기능을 함수로 구현  \n",
    "- 결과 최대 100개   \n",
    "- 100개 이상 수집하려면 페이지(start) 이동하면서 여러 번 호출해야 함  \n",
    "- 함수로 구현해 놓고 여러 번 호출해서 사용  \n",
    "- get_api_result(keyword, display)  "
   ]
  },
  {
   "cell_type": "code",
   "execution_count": 44,
   "id": "1e065aa2-3628-4696-9924-eb8d9ad51fe0",
   "metadata": {},
   "outputs": [],
   "source": [
    "# keyword(검색어)와 display(검색 결과 수) 전달받아서\n",
    "# API 호출 결과를 반환하는 함수\n",
    "def get_api_result(keyword, display):\n",
    "    base_url=\"https://openapi.naver.com/v1/search/blog.json?\"\n",
    "\n",
    "    keyword = urllib.parse.quote(keyword)\n",
    "    disNum = str(display)\n",
    "    param = \"query=\"+keyword+\"&display=\"+disNum\n",
    "\n",
    "    url=base_url+param\n",
    "    print(url)\n",
    "    headers = {\n",
    "    \"X-Naver-Client-Id\":client_id,\n",
    "    \"X-Naver-Client-Secret\":client_secret\n",
    "    }\n",
    "    result=requests.get(url, headers=headers)\n",
    "    json_obj=result.json()\n",
    "    return json_obj"
   ]
  },
  {
   "cell_type": "code",
   "execution_count": null,
   "id": "fe72de9a-d0c1-4140-b417-3d15d5ef5582",
   "metadata": {
    "scrolled": true
   },
   "outputs": [],
   "source": [
    "# 함수 호출 및 결과 확인\n",
    "get_api_result(\"가을\", 50)"
   ]
  },
  {
   "cell_type": "markdown",
   "id": "8737af27-1a82-461a-a2aa-287564a23ed4",
   "metadata": {},
   "source": [
    "#### 검색 결과 페이징 하기\n",
    "- 현재 검색 결과는 1~100개 (요청 파라미터 : start = 1)  \n",
    "- 1~500 개를 추출하려면  \n",
    "    - 1~ 100 : 100개  \n",
    "    - 101 ~ 200 : 100개  \n",
    "    - ...  \n",
    "- 시작 값을 변경하려면  \n",
    " - 요청 파라미터 start를 101, 201, 301,   "
   ]
  },
  {
   "cell_type": "code",
   "execution_count": 92,
   "id": "44e1f3bc-8200-4947-a61e-5839317d1832",
   "metadata": {},
   "outputs": [],
   "source": [
    "headers = {\n",
    "\"X-Naver-Client-Id\":client_id,\n",
    "\"X-Naver-Client-Secret\":client_secret\n",
    "}"
   ]
  },
  {
   "cell_type": "code",
   "execution_count": 48,
   "id": "f52896b6-8013-4de7-8d75-82fdeb63ba65",
   "metadata": {},
   "outputs": [],
   "source": [
    "# get_api_result() 함수 수정\n",
    "# 시작페이지 지정 : start 파라미터 사용\n",
    "def get_api_result(keyword, startpage, display):\n",
    "    base_url=\"https://openapi.naver.com/v1/search/blog.json?\"\n",
    "\n",
    "    keyword = urllib.parse.quote(keyword)\n",
    "    startNum=str(startpage)\n",
    "    disNum = str(display)\n",
    "    param = \"query=\"+keyword+\"&start=\"+startNum+\"&display=\"+disNum\n",
    "\n",
    "    url=base_url+param\n",
    "    print(url)\n",
    "    headers = {\n",
    "    \"X-Naver-Client-Id\":client_id,\n",
    "    \"X-Naver-Client-Secret\":client_secret\n",
    "    }\n",
    "    result=requests.get(url, headers=headers)\n",
    "    json_obj=result.json()\n",
    "    return json_obj"
   ]
  },
  {
   "cell_type": "code",
   "execution_count": null,
   "id": "feacf107-fc64-4417-a9fb-4b1b7ac7f41d",
   "metadata": {},
   "outputs": [],
   "source": [
    "# api 요청하고 결과를 반환하는 함수\n",
    "# 매개변수 : keyword, display, start\n",
    "# 반환형 : JSON\n",
    "\n",
    "get_api_result(\"동대문\", 201, 100)"
   ]
  },
  {
   "cell_type": "markdown",
   "id": "a7ff70f1",
   "metadata": {},
   "source": [
    "### 검색카테고리를 선택할 수 있는 함수로 수정\n",
    "- base_url의 카테고리를 파라미터로 전달 받아 검색 종류를 변경하는 함수로 구성\n",
    "- get_api_result()를 수정해서"
   ]
  },
  {
   "cell_type": "code",
   "execution_count": 50,
   "id": "f45470d3",
   "metadata": {},
   "outputs": [],
   "source": [
    "def get_api_result(keyword, startpage, display, catg): # 카테고리 인수는 검색종류를 변경시키는 파라미터값\n",
    "    base_url=f\"https://openapi.naver.com/v1/search/{catg}.json?\"\n",
    "\n",
    "    keyword = urllib.parse.quote(keyword)\n",
    "    startNum=str(startpage)\n",
    "    disNum = str(display)\n",
    "    \n",
    "    param = \"query=\"+keyword+\"&start=\"+startNum+\"&display=\"+disNum\n",
    "\n",
    "    url=base_url+param\n",
    "    print(url)\n",
    "    headers = {\n",
    "    \"X-Naver-Client-Id\":client_id,\n",
    "    \"X-Naver-Client-Secret\":client_secret\n",
    "    }\n",
    "    result=requests.get(url, headers=headers)\n",
    "    json_obj=result.json()\n",
    "    return json_obj"
   ]
  },
  {
   "cell_type": "code",
   "execution_count": 52,
   "id": "2721f197",
   "metadata": {},
   "outputs": [
    {
     "name": "stdout",
     "output_type": "stream",
     "text": [
      "https://openapi.naver.com/v1/search/encyc.json?query=%EC%88%98%EC%9B%90%EC%97%AD&start=2&display=2\n"
     ]
    },
    {
     "data": {
      "text/plain": [
       "{'lastBuildDate': 'Fri, 27 Dec 2024 15:50:09 +0900',\n",
       " 'total': 92,\n",
       " 'start': 2,\n",
       " 'display': 2,\n",
       " 'items': [{'title': '<b>수원역</b>',\n",
       "   'link': 'https://terms.naver.com/entry.naver?docId=1253947&cid=40942&categoryId=32190',\n",
       "   'description': ' 경기도 수원시 팔달구 덕영대로 924(매산로 1가)에 있는 전철역이다.  1905년 1월 1일 보통 기차역으로 영업을 개시하였으며 1975년 12월 31일 전철역사를 준공하였다. 새마을호와 무궁화호를 포함한 모든... ',\n",
       "   'thumbnail': 'http://openapi-dbscthumb.phinf.naver.net/2765_000_379/20210722084958218_XQ0RT5GY9.jpg/12079624.jpg?type=m160_160'},\n",
       "  {'title': '<b>수원역</b>',\n",
       "   'link': 'https://terms.naver.com/entry.naver?docId=410482&cid=43722&categoryId=43722',\n",
       "   'description': '수원시 권선구 매산로1가 18번지에 있는 지하철 1호선 역 이름이다. 경부선 철도가 부설되면서 역 이름이 되고, 국철 1호선 개통으로 전철역 이름이 되었다.',\n",
       "   'thumbnail': ''}]}"
      ]
     },
     "execution_count": 52,
     "metadata": {},
     "output_type": "execute_result"
    }
   ],
   "source": [
    "get_api_result(\"수원역\", 2, 2, \"encyc\")"
   ]
  },
  {
   "cell_type": "markdown",
   "id": "202a9858-fdbf-499d-9a2f-d0de52f5a1fe",
   "metadata": {},
   "source": [
    "#### 여러 페이지 호출하는 함수 구현\n",
    "- start 값에 따라 페이지 별로 쉽게 출력하기 위해  \n",
    "- 출력 부분을 함수로 묶기  \n",
    "- call_and_print(keyword, display, start):  \n",
    "    - 검색어, 추출 개수, 시작 페이지 전달받아서  \n",
    "    - 검색 결과에 대해 블로그 제목, 글링크,  블로거 이름을 출력하는 함수  \n",
    "    - 함수 내에서 get_api_result(keyword, display, start) 함수 호출하고  \n",
    "    - 결과 받아서 추출  "
   ]
  },
  {
   "cell_type": "code",
   "execution_count": null,
   "id": "9af23e2c-7233-4a05-97ea-04d1bd234cc0",
   "metadata": {},
   "outputs": [],
   "source": [
    "\n"
   ]
  },
  {
   "cell_type": "code",
   "execution_count": 17,
   "id": "2d47cf38-3ed4-4f8a-a92a-bb6ce57e3583",
   "metadata": {
    "scrolled": true
   },
   "outputs": [],
   "source": [
    "# 함수 테스트\n"
   ]
  },
  {
   "cell_type": "code",
   "execution_count": null,
   "id": "8b83785b-d66a-4eb6-8903-8966a73efa34",
   "metadata": {},
   "outputs": [],
   "source": []
  },
  {
   "cell_type": "markdown",
   "id": "7dc02f87-27ed-4f76-9691-c802856173d9",
   "metadata": {},
   "source": [
    "#### 검색결과 요청 후 결과를 데이터프레임으로 반환하는 함수"
   ]
  },
  {
   "cell_type": "code",
   "execution_count": null,
   "id": "d7ca292b-5060-4ebe-a2ad-4dd37f9b800f",
   "metadata": {},
   "outputs": [],
   "source": []
  },
  {
   "cell_type": "code",
   "execution_count": 87,
   "id": "4dae9411-3531-4bea-8495-6caf36ddfdbc",
   "metadata": {},
   "outputs": [],
   "source": [
    "import pandas as pd"
   ]
  },
  {
   "cell_type": "code",
   "execution_count": null,
   "id": "1ffe46f4-f9a2-4420-9636-eb4a8b831189",
   "metadata": {},
   "outputs": [],
   "source": []
  },
  {
   "cell_type": "code",
   "execution_count": null,
   "id": "5e4b40f7-3e1f-404d-8dca-0d829348fbed",
   "metadata": {},
   "outputs": [],
   "source": []
  },
  {
   "cell_type": "markdown",
   "id": "4ebdb2ae-e1f5-4176-9fd4-14d640ede939",
   "metadata": {},
   "source": [
    "#### call_and_save() 함수 여러 번 호출"
   ]
  },
  {
   "cell_type": "code",
   "execution_count": 18,
   "id": "bde3aae4-f7b6-476d-a8f7-d853e7e0309e",
   "metadata": {},
   "outputs": [],
   "source": [
    "# 최종 결과 저장할 빈 데이터프레임 생성\n"
   ]
  },
  {
   "cell_type": "code",
   "execution_count": 144,
   "id": "d45652cb-af71-488e-ad58-529e497b99e0",
   "metadata": {},
   "outputs": [],
   "source": [
    "# call_and_save() 함수 5번 호출 : 500개 검색 결과"
   ]
  },
  {
   "cell_type": "code",
   "execution_count": null,
   "id": "ed4a35e9-05fd-4c7e-b968-cfceb5c0d926",
   "metadata": {},
   "outputs": [],
   "source": []
  },
  {
   "cell_type": "code",
   "execution_count": null,
   "id": "025c63b5-3e60-45fa-b6e8-55fea3685b78",
   "metadata": {},
   "outputs": [],
   "source": [
    "#######################################################################"
   ]
  },
  {
   "cell_type": "markdown",
   "id": "16084a36-d408-4227-bd7e-5be3d5632d10",
   "metadata": {},
   "source": [
    "#### 뉴스/블로그 둘 다  검색 가능하게 함수 수정\n",
    "- 블로그 또는 뉴스 검색 후 결과를 저장하는 함수로 구현\n",
    "- 블로그와 뉴스에 대한 url 변경되도록 구성\n",
    "    - category 사용  \n",
    "- title, link 추출  \n",
    "- get_api_result() 함수 수정 : category 매개변수 추가  \n",
    "- call_and_save() 함수 수정  : category 매개변수 추가  \n",
    "- if cagtegory == '뉴스' :  \n",
    "    - ctg = 'news'    \n",
    "- else:  \n",
    "    - ctg = 'blog'  \n",
    "  \n",
    "- base_url 변경  : category 매개변수 추가  \n",
    "\n",
    "- 원하는 검색 개수를 몇 번 호출할지 계산  \n",
    "  - 302  \n",
    "        - 100으로 나눈 몫 : 3 (100개)  \n",
    "        - 나머지 : 2 (낱개)\n",
    "        - display가 100으로 3번, 2로 1번 전달"
   ]
  },
  {
   "cell_type": "code",
   "execution_count": 188,
   "id": "8dbee322-076d-4a08-a798-0faad22ed2e2",
   "metadata": {},
   "outputs": [],
   "source": [
    "# get_api_result() 수정 : category 추가\n"
   ]
  },
  {
   "cell_type": "code",
   "execution_count": 202,
   "id": "9883e7c6-2374-471e-9a65-a2e048c84561",
   "metadata": {},
   "outputs": [],
   "source": [
    "# call_and_save() 수정\n",
    "# 요청하는 display와 start 계산해서 반복\n",
    "# 데이터프레임데 다 저장해서 데이터프레임 반환\n"
   ]
  },
  {
   "cell_type": "code",
   "execution_count": null,
   "id": "e96952e7-18ab-40c4-8422-fc20d24a1254",
   "metadata": {},
   "outputs": [],
   "source": []
  },
  {
   "cell_type": "code",
   "execution_count": null,
   "id": "36184fcc-fec4-4d34-92cc-5b40091656fe",
   "metadata": {},
   "outputs": [],
   "source": []
  },
  {
   "cell_type": "code",
   "execution_count": null,
   "id": "3040ee14-1fdc-4ff1-af0b-4c9f6f01ac5f",
   "metadata": {},
   "outputs": [],
   "source": []
  }
 ],
 "metadata": {
  "kernelspec": {
   "display_name": "“scrapSrc",
   "language": "python",
   "name": "scraping_source"
  },
  "language_info": {
   "codemirror_mode": {
    "name": "ipython",
    "version": 3
   },
   "file_extension": ".py",
   "mimetype": "text/x-python",
   "name": "python",
   "nbconvert_exporter": "python",
   "pygments_lexer": "ipython3",
   "version": "3.12.7"
  }
 },
 "nbformat": 4,
 "nbformat_minor": 5
}
