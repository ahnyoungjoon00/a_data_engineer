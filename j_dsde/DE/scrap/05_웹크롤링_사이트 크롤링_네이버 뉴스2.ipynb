{
 "cells": [
  {
   "cell_type": "markdown",
   "id": "ad3914cc-be6e-44ae-a4e2-9a36d1a8e37c",
   "metadata": {},
   "source": [
    "- '03_웹크롤링_사이트 크롤링_네이버 뉴스1' 파일에서 수집한   \n",
    "- 네이버 뉴스 섹션 메뉴와 섹션별 URL 활용해서  \n",
    "(1) 섹션별 헤드라인 페이지 크롤링 : title, url 추출  \n",
    "(2) (1)에서 추출한 url로 sub 페이지 내용 추출   \n",
    "    - 각 기사 상세 내용 추출 : 언론사, 기사제목, 작성 날짜 시간, 기사 내용, 작성자"
   ]
  },
  {
   "cell_type": "code",
   "execution_count": 1,
   "id": "8954a92b-239e-491b-9cf3-9c7f2cc176a4",
   "metadata": {},
   "outputs": [],
   "source": [
    "from IPython.core.interactiveshell import InteractiveShell\n",
    "InteractiveShell.ast_node_interactivity=\"all\""
   ]
  },
  {
   "cell_type": "code",
   "execution_count": 2,
   "id": "3add4c6b-d7a4-47ff-842b-954788a4fd89",
   "metadata": {},
   "outputs": [],
   "source": [
    "# !pip install pandas"
   ]
  },
  {
   "cell_type": "code",
   "execution_count": 3,
   "id": "cc629a96-35bf-4a0b-a9d1-8c3ad933786c",
   "metadata": {},
   "outputs": [],
   "source": [
    "from urllib.request import urlopen\n",
    "import pandas as pd\n",
    "# import bs4\n",
    "from bs4 import BeautifulSoup\n",
    "import requests"
   ]
  },
  {
   "cell_type": "markdown",
   "id": "9500ecd6-c54b-4ba9-8547-b763383c103c",
   "metadata": {},
   "source": [
    "### (1) 네이버 뉴스 섹션별 헤드라인(topic) 페이지 크롤링"
   ]
  },
  {
   "cell_type": "code",
   "execution_count": 4,
   "id": "02c5242c-c25e-47e3-b9c2-39e15f84a380",
   "metadata": {},
   "outputs": [],
   "source": [
    "# 네이버 뉴스1에서 저장한 naver_news_section.csv 읽어오기\n",
    "section_menu_df = pd.read_csv('./crawl_data/new_section_df.csv')"
   ]
  },
  {
   "cell_type": "code",
   "execution_count": 40,
   "id": "7a78bc18-5432-4918-b47c-27689f879a9b",
   "metadata": {},
   "outputs": [
    {
     "data": {
      "text/html": [
       "<div>\n",
       "<style scoped>\n",
       "    .dataframe tbody tr th:only-of-type {\n",
       "        vertical-align: middle;\n",
       "    }\n",
       "\n",
       "    .dataframe tbody tr th {\n",
       "        vertical-align: top;\n",
       "    }\n",
       "\n",
       "    .dataframe thead th {\n",
       "        text-align: right;\n",
       "    }\n",
       "</style>\n",
       "<table border=\"1\" class=\"dataframe\">\n",
       "  <thead>\n",
       "    <tr style=\"text-align: right;\">\n",
       "      <th></th>\n",
       "      <th>menu</th>\n",
       "      <th>link</th>\n",
       "    </tr>\n",
       "  </thead>\n",
       "  <tbody>\n",
       "    <tr>\n",
       "      <th>2</th>\n",
       "      <td>경제</td>\n",
       "      <td>https://news.naver.com/section/101</td>\n",
       "    </tr>\n",
       "  </tbody>\n",
       "</table>\n",
       "</div>"
      ],
      "text/plain": [
       "  menu                                link\n",
       "2   경제  https://news.naver.com/section/101"
      ]
     },
     "execution_count": 40,
     "metadata": {},
     "output_type": "execute_result"
    }
   ],
   "source": [
    "# 경제 섹션 링크 확인\n",
    "section_menu_df[section_menu_df[\"menu\"] == \"경제\"]"
   ]
  },
  {
   "cell_type": "code",
   "execution_count": 41,
   "id": "77b7ca77-dc6d-4cae-8bd2-1f26ea8bc2d7",
   "metadata": {},
   "outputs": [
    {
     "data": {
      "text/plain": [
       "'https://news.naver.com/section/101'"
      ]
     },
     "execution_count": 41,
     "metadata": {},
     "output_type": "execute_result"
    }
   ],
   "source": [
    "# url = section_menu_df[section_menu_df[\"menu\"] == \"경제\"][\"link\"]\n",
    "url = section_menu_df[\"link\"][2]\n",
    "url"
   ]
  },
  {
   "cell_type": "markdown",
   "id": "76871ff9",
   "metadata": {},
   "source": [
    "### 포털에서 제공하는 각 언론사 기사들의 카테고리인\n",
    "- 정치~세계까지 6개 section에 대해 headline뉴스의 컨텐츠 수집\n",
    "- 경제 섹션을 기준으로 코드 생성 후, 전체 수집 테스트\n",
    "- 적용되지 않는 섹션의 코드만 수정해서 진행하는"
   ]
  },
  {
   "cell_type": "code",
   "execution_count": 42,
   "id": "13f8390c-1634-4317-9ccd-b06e4d5393b8",
   "metadata": {},
   "outputs": [],
   "source": [
    "html = urlopen(url)\n",
    "bs_obj = BeautifulSoup(html, 'html.parser')"
   ]
  },
  {
   "cell_type": "code",
   "execution_count": 44,
   "id": "1929c9f7-334d-427e-9ae2-ebd66c3ee75c",
   "metadata": {},
   "outputs": [],
   "source": [
    "# 네이버 뉴스 섹션을 확인하면 \n",
    "# 섹션별 헤드라인(topic)이 있고 \n",
    "# topic의 title과 link를 크롤링할 예정"
   ]
  },
  {
   "cell_type": "code",
   "execution_count": 80,
   "id": "2ea1f7aa-02ba-493a-bcea-12fd8350f146",
   "metadata": {},
   "outputs": [
    {
     "data": {
      "text/plain": [
       "(46, 46)"
      ]
     },
     "execution_count": 80,
     "metadata": {},
     "output_type": "execute_result"
    },
    {
     "data": {
      "text/html": [
       "<div>\n",
       "<style scoped>\n",
       "    .dataframe tbody tr th:only-of-type {\n",
       "        vertical-align: middle;\n",
       "    }\n",
       "\n",
       "    .dataframe tbody tr th {\n",
       "        vertical-align: top;\n",
       "    }\n",
       "\n",
       "    .dataframe thead th {\n",
       "        text-align: right;\n",
       "    }\n",
       "</style>\n",
       "<table border=\"1\" class=\"dataframe\">\n",
       "  <thead>\n",
       "    <tr style=\"text-align: right;\">\n",
       "      <th></th>\n",
       "      <th>title</th>\n",
       "      <th>titleLink</th>\n",
       "    </tr>\n",
       "  </thead>\n",
       "  <tbody>\n",
       "    <tr>\n",
       "      <th>0</th>\n",
       "      <td>포스코이앤씨 대표이사 사장에 정희민 건축사업본부장 선임</td>\n",
       "      <td>https://n.news.naver.com/mnews/article/366/000...</td>\n",
       "    </tr>\n",
       "    <tr>\n",
       "      <th>1</th>\n",
       "      <td>내년 실손보험료 평균 7.5% 인상</td>\n",
       "      <td>https://n.news.naver.com/mnews/article/082/000...</td>\n",
       "    </tr>\n",
       "    <tr>\n",
       "      <th>2</th>\n",
       "      <td>소비심리, 계엄 사태에 금융위기 수준 악화</td>\n",
       "      <td>https://n.news.naver.com/mnews/article/055/000...</td>\n",
       "    </tr>\n",
       "    <tr>\n",
       "      <th>3</th>\n",
       "      <td>여행플랫폼 만족도 1위 ‘여기어때’·고객응대 최하점 받은 ‘이곳’ 최하위</td>\n",
       "      <td>https://n.news.naver.com/mnews/article/009/000...</td>\n",
       "    </tr>\n",
       "    <tr>\n",
       "      <th>4</th>\n",
       "      <td>한은 \"환율 전망 어렵지만, 금융기관 건전성에 큰 영향 없어\"</td>\n",
       "      <td>https://n.news.naver.com/mnews/article/421/000...</td>\n",
       "    </tr>\n",
       "  </tbody>\n",
       "</table>\n",
       "</div>"
      ],
      "text/plain": [
       "                                      title  \\\n",
       "0            포스코이앤씨 대표이사 사장에 정희민 건축사업본부장 선임   \n",
       "1                       내년 실손보험료 평균 7.5% 인상   \n",
       "2                   소비심리, 계엄 사태에 금융위기 수준 악화   \n",
       "3  여행플랫폼 만족도 1위 ‘여기어때’·고객응대 최하점 받은 ‘이곳’ 최하위   \n",
       "4        한은 \"환율 전망 어렵지만, 금융기관 건전성에 큰 영향 없어\"   \n",
       "\n",
       "                                           titleLink  \n",
       "0  https://n.news.naver.com/mnews/article/366/000...  \n",
       "1  https://n.news.naver.com/mnews/article/082/000...  \n",
       "2  https://n.news.naver.com/mnews/article/055/000...  \n",
       "3  https://n.news.naver.com/mnews/article/009/000...  \n",
       "4  https://n.news.naver.com/mnews/article/421/000...  "
      ]
     },
     "execution_count": 80,
     "metadata": {},
     "output_type": "execute_result"
    }
   ],
   "source": [
    "lis = bs_obj.select(\"ul.sa_list div.sa_text\")\n",
    "title = []\n",
    "titleLink= []\n",
    "for li in lis:\n",
    "    title.append(li.a.text.replace(\"\\n\", \"\"))\n",
    "    titleLink.append(li.a[\"href\"])\n",
    "len(title), len(titleLink)\n",
    "naver_headline_link = pd.DataFrame({\"title\":title, \"titleLink\":titleLink})\n",
    "naver_headline_link.head()"
   ]
  },
  {
   "cell_type": "code",
   "execution_count": 78,
   "id": "efdd7e35",
   "metadata": {},
   "outputs": [],
   "source": [
    "# lis = bs_obj.find_all(\"div\", {\"class\":\"sa_text\"})\n",
    "\n",
    "# title = []\n",
    "# titleLink= []\n",
    "# for li in lis:\n",
    "#     title.append(li.a.text.replace(\"\\n\", \"\"))\n",
    "#     titleLink.append(li.a[\"href\"])\n",
    "# len(title), len(titleLink)\n",
    "# naver_headline_link = pd.DataFrame({\"title\":title, \"titleLink\":titleLink})\n",
    "# naver_headline_link"
   ]
  },
  {
   "cell_type": "markdown",
   "id": "2cee5105",
   "metadata": {},
   "source": [
    "- 경제 섹션을 기준으로 작성한 코드가 여러 섹션에 적용되어야 함\n",
    "- 다른 섹션에 대해 test하지 않으므로 반복 진행하다가 문제(error)가 생기면 해당 기사는 pass 후, 수집하지 않음\n",
    "- 반복적으로 많은 내용 수집할때는 예외처리 해야함 : 예외가 생기는 컨텐츠는 pass 처리"
   ]
  },
  {
   "cell_type": "code",
   "execution_count": null,
   "id": "18eaa592",
   "metadata": {},
   "outputs": [],
   "source": [
    "# divs에서 전체 title과 link 리스트에 저장 :예외처리 포함"
   ]
  },
  {
   "cell_type": "code",
   "execution_count": 81,
   "id": "00a5253b",
   "metadata": {},
   "outputs": [
    {
     "data": {
      "text/plain": [
       "(46, 46)"
      ]
     },
     "execution_count": 81,
     "metadata": {},
     "output_type": "execute_result"
    }
   ],
   "source": [
    "title=[]\n",
    "titleLink=[]\n",
    "for li in lis:\n",
    "    try:\n",
    "        title.append(li.a.text.replace(\"\\n\", \"\"))\n",
    "        titleLink.append(li.a[\"href\"])\n",
    "    except:\n",
    "        print(\"예외 발생\")\n",
    "len(title), len(titleLink)"
   ]
  },
  {
   "cell_type": "code",
   "execution_count": null,
   "id": "820f4c44-5415-4cee-a43d-d0dad627861d",
   "metadata": {},
   "outputs": [],
   "source": [
    "# 헤드라인 뉴스에서 각 topic 추출"
   ]
  },
  {
   "cell_type": "markdown",
   "id": "84369b67-0475-454c-97a9-af98ae2ad6b4",
   "metadata": {},
   "source": [
    "#### 수집한 데이터를 데이터프레임으로 생성하고, 파일로 저장"
   ]
  },
  {
   "cell_type": "code",
   "execution_count": 86,
   "id": "e5be9d42-d588-4fe9-86f5-78c5f2b26502",
   "metadata": {},
   "outputs": [],
   "source": [
    "tmp_section_data=pd.DataFrame({\"기사제목\":title,\"기사링크\":titleLink, \"section\":\"경제\"})\n",
    "tmp_section_data.to_csv(\"./crawl_data/tmp_section_data.csv\", index=0, encoding=\"utf-8-sig\")"
   ]
  },
  {
   "cell_type": "markdown",
   "id": "e7d5057c-31f8-421c-9988-ac6a9302da82",
   "metadata": {},
   "source": [
    "############################################################################"
   ]
  },
  {
   "cell_type": "markdown",
   "id": "afcbea40-eba0-4837-8831-83a1eea989bc",
   "metadata": {},
   "source": [
    "#### 지금까지 한 내용을 결합해서 함수로 구성\n",
    "- 현재 경제 섹션 1개에 대해서 처리했는데\n",
    "- 다른 섹션에도 적용하기 위해 함수로 구성\n",
    "- 함수명 : get_topic(url)\n",
    "      - 섹션별 수집한 데이터를 딕셔너리로 구성 후 반환\n",
    "- 반환된 딕셔너리를 데이터프레임에 추가해서 최종 데이터프레임 완성\n",
    "      \n",
    "      - 빈 DF를 생성해놓고 여기에 항목별로 concat하는 방식\n",
    "      - \n",
    "  "
   ]
  },
  {
   "cell_type": "markdown",
   "id": "408bf21f-b32d-4a1f-9081-04c1dbdcaffe",
   "metadata": {},
   "source": [
    "#### 참고\n",
    "- 접속할 때 자동화 봇으로 간주하고 연결을 끊는 경우가 발생  \n",
    "- 서버에 요청 시 header 구성해서  \n",
    "- 내 웹 브라우저의 User-Agent 정보 입력해서  \n",
    "- bot이 아님을 증명해야 함  \n",
    "- header 확인  \n",
    "    - 개발자 도구 (F12)  \n",
    "    - Network 탭에서, 아래 왼쪽에 있는 이름에서 하나 선택하면 '헤더' 탭 보임\n",
    "    - '헤더' 탭 / '요청 헤더' 맨 아래에 User-Agent 확인  \n",
    "- {'User-Agent':'Mozilla/5.0 (Windows NT 10.0; Win64; x64) AppleWebKit/537.36 (KHTML, like Gecko) Chrome/130.0.0.0 Safari/537.36'}"
   ]
  },
  {
   "cell_type": "code",
   "execution_count": 5,
   "id": "ba715b88-690a-4583-b532-eab2df0d521a",
   "metadata": {},
   "outputs": [],
   "source": [
    "import requests"
   ]
  },
  {
   "cell_type": "code",
   "execution_count": 6,
   "id": "907fbd45-980c-48e1-9883-b68d7987e6e2",
   "metadata": {},
   "outputs": [],
   "source": [
    "# 함수로 구성\n",
    "# 섹션과 url 전달 받아서, 헤드라인 topic의 제목, 링크, 섹션을 추출하여\n",
    "# 딕셔너리로 만들어 반환하는 함수\n",
    "def get_topic(url, section):\n",
    "    # {1} 요청 후 응답 받고 파싱객체 생성\n",
    "    # 요청 시 전달할 header : 딕셔너리루 구성(key:value, 모두 문자열)\n",
    "    headers = {\"User-Agent\":\"Mozilla/5.0 (Windows NT 10.0; Win64; x64) AppleWebKit/537.36 (KHTML, like Gecko) Chrome/131.0.0.0 Safari/537.36\"}\n",
    "    res = requests.get(url, headers=headers) # 응답객체를 반환 :해당 객체가 복잡하므로 bs4가 인식할 수 없음\n",
    "    html = res.text\n",
    "\n",
    "    # 파싱 객체\n",
    "    bs_obj=BeautifulSoup(html, \"html.parser\")\n",
    "    \n",
    "    # 파싱\n",
    "    lis = bs_obj.select(\"ul.sa_list div.sa_text\")\n",
    "\n",
    "    # 컨텐츠 추출\n",
    "    title=[]\n",
    "    titleLink=[]\n",
    "    for li in lis:\n",
    "        try:\n",
    "            title.append(li.a.text.replace(\"\\n\", \"\"))\n",
    "            titleLink.append(li.a[\"href\"])\n",
    "        except:\n",
    "            print(\"예외 발생\")\n",
    "    return ({\"기사제목\":title,\"기사링크\":titleLink, \"분류\":section})"
   ]
  },
  {
   "cell_type": "code",
   "execution_count": 7,
   "id": "3ac8996c-916e-401a-af26-616e54488e20",
   "metadata": {},
   "outputs": [
    {
     "data": {
      "text/plain": [
       "('경제', 'https://news.naver.com/section/101')"
      ]
     },
     "execution_count": 7,
     "metadata": {},
     "output_type": "execute_result"
    },
    {
     "data": {
      "text/html": [
       "<div>\n",
       "<style scoped>\n",
       "    .dataframe tbody tr th:only-of-type {\n",
       "        vertical-align: middle;\n",
       "    }\n",
       "\n",
       "    .dataframe tbody tr th {\n",
       "        vertical-align: top;\n",
       "    }\n",
       "\n",
       "    .dataframe thead th {\n",
       "        text-align: right;\n",
       "    }\n",
       "</style>\n",
       "<table border=\"1\" class=\"dataframe\">\n",
       "  <thead>\n",
       "    <tr style=\"text-align: right;\">\n",
       "      <th></th>\n",
       "      <th>기사제목</th>\n",
       "      <th>기사링크</th>\n",
       "      <th>분류</th>\n",
       "    </tr>\n",
       "  </thead>\n",
       "  <tbody>\n",
       "    <tr>\n",
       "      <th>0</th>\n",
       "      <td>우리금융, 윤리경영실 신설...검찰 출신 이동수 변호사 영입(종합)</td>\n",
       "      <td>https://n.news.naver.com/mnews/article/119/000...</td>\n",
       "      <td>경제</td>\n",
       "    </tr>\n",
       "    <tr>\n",
       "      <th>1</th>\n",
       "      <td>고려아연, 최윤범 회장 가족회사 동원 집중투표 청구 논란</td>\n",
       "      <td>https://n.news.naver.com/mnews/article/001/001...</td>\n",
       "      <td>경제</td>\n",
       "    </tr>\n",
       "    <tr>\n",
       "      <th>2</th>\n",
       "      <td>산업연 “트럼프 보편관세 부과시 한국의 대미 수출 최대 13.1% 감소할 것”</td>\n",
       "      <td>https://n.news.naver.com/mnews/article/016/000...</td>\n",
       "      <td>경제</td>\n",
       "    </tr>\n",
       "    <tr>\n",
       "      <th>3</th>\n",
       "      <td>통영시, 국내 1호 관광형 기회발전특구 지정…도산면 복합관광개발</td>\n",
       "      <td>https://n.news.naver.com/mnews/article/421/000...</td>\n",
       "      <td>경제</td>\n",
       "    </tr>\n",
       "    <tr>\n",
       "      <th>4</th>\n",
       "      <td>'강달러 지속' 환율 5거래일 연속 1450원↑…1465원도 돌파(종합)</td>\n",
       "      <td>https://n.news.naver.com/mnews/article/421/000...</td>\n",
       "      <td>경제</td>\n",
       "    </tr>\n",
       "  </tbody>\n",
       "</table>\n",
       "</div>"
      ],
      "text/plain": [
       "                                          기사제목  \\\n",
       "0        우리금융, 윤리경영실 신설...검찰 출신 이동수 변호사 영입(종합)   \n",
       "1              고려아연, 최윤범 회장 가족회사 동원 집중투표 청구 논란   \n",
       "2  산업연 “트럼프 보편관세 부과시 한국의 대미 수출 최대 13.1% 감소할 것”   \n",
       "3          통영시, 국내 1호 관광형 기회발전특구 지정…도산면 복합관광개발   \n",
       "4     '강달러 지속' 환율 5거래일 연속 1450원↑…1465원도 돌파(종합)   \n",
       "\n",
       "                                                기사링크  분류  \n",
       "0  https://n.news.naver.com/mnews/article/119/000...  경제  \n",
       "1  https://n.news.naver.com/mnews/article/001/001...  경제  \n",
       "2  https://n.news.naver.com/mnews/article/016/000...  경제  \n",
       "3  https://n.news.naver.com/mnews/article/421/000...  경제  \n",
       "4  https://n.news.naver.com/mnews/article/421/000...  경제  "
      ]
     },
     "execution_count": 7,
     "metadata": {},
     "output_type": "execute_result"
    }
   ],
   "source": [
    "section = section_menu_df[\"menu\"][2]\n",
    "link = section_menu_df[\"link\"][2]\n",
    "section, link\n",
    "test_df = pd.DataFrame(get_topic(link, section))\n",
    "test_df.head()"
   ]
  },
  {
   "cell_type": "code",
   "execution_count": 8,
   "id": "a132d965-b1c5-4bd8-b11f-00d411ce6f98",
   "metadata": {},
   "outputs": [
    {
     "data": {
      "text/html": [
       "<div>\n",
       "<style scoped>\n",
       "    .dataframe tbody tr th:only-of-type {\n",
       "        vertical-align: middle;\n",
       "    }\n",
       "\n",
       "    .dataframe tbody tr th {\n",
       "        vertical-align: top;\n",
       "    }\n",
       "\n",
       "    .dataframe thead th {\n",
       "        text-align: right;\n",
       "    }\n",
       "</style>\n",
       "<table border=\"1\" class=\"dataframe\">\n",
       "  <thead>\n",
       "    <tr style=\"text-align: right;\">\n",
       "      <th></th>\n",
       "      <th>기사제목</th>\n",
       "      <th>기사링크</th>\n",
       "      <th>분류</th>\n",
       "    </tr>\n",
       "  </thead>\n",
       "  <tbody>\n",
       "    <tr>\n",
       "      <th>0</th>\n",
       "      <td>도입 코앞인데 '빨간불' 켜진 AI 디지털교과서…지위 격하되나</td>\n",
       "      <td>https://n.news.naver.com/mnews/article/008/000...</td>\n",
       "      <td>사회</td>\n",
       "    </tr>\n",
       "    <tr>\n",
       "      <th>1</th>\n",
       "      <td>공조본 “尹대통령 측, 오후 6시 현재 연락 없어”...조사 무산</td>\n",
       "      <td>https://n.news.naver.com/mnews/article/023/000...</td>\n",
       "      <td>사회</td>\n",
       "    </tr>\n",
       "    <tr>\n",
       "      <th>2</th>\n",
       "      <td>김형두 헌법재판관 \"국회 측의 계엄사령관 포고령 등으로 증거 갈음\"</td>\n",
       "      <td>https://n.news.naver.com/mnews/article/586/000...</td>\n",
       "      <td>사회</td>\n",
       "    </tr>\n",
       "    <tr>\n",
       "      <th>3</th>\n",
       "      <td>\"부모 욕해서\" 20대가 던진 폰에, 생후 10개월 아기 두개골 함몰</td>\n",
       "      <td>https://n.news.naver.com/mnews/article/025/000...</td>\n",
       "      <td>사회</td>\n",
       "    </tr>\n",
       "    <tr>\n",
       "      <th>4</th>\n",
       "      <td>경희대, 전체 모집인원 45% 정시 선발…자유전공학부 확대[2025 정시특집]</td>\n",
       "      <td>https://n.news.naver.com/mnews/article/277/000...</td>\n",
       "      <td>사회</td>\n",
       "    </tr>\n",
       "  </tbody>\n",
       "</table>\n",
       "</div>"
      ],
      "text/plain": [
       "                                          기사제목  \\\n",
       "0           도입 코앞인데 '빨간불' 켜진 AI 디지털교과서…지위 격하되나   \n",
       "1         공조본 “尹대통령 측, 오후 6시 현재 연락 없어”...조사 무산   \n",
       "2        김형두 헌법재판관 \"국회 측의 계엄사령관 포고령 등으로 증거 갈음\"   \n",
       "3       \"부모 욕해서\" 20대가 던진 폰에, 생후 10개월 아기 두개골 함몰   \n",
       "4  경희대, 전체 모집인원 45% 정시 선발…자유전공학부 확대[2025 정시특집]   \n",
       "\n",
       "                                                기사링크  분류  \n",
       "0  https://n.news.naver.com/mnews/article/008/000...  사회  \n",
       "1  https://n.news.naver.com/mnews/article/023/000...  사회  \n",
       "2  https://n.news.naver.com/mnews/article/586/000...  사회  \n",
       "3  https://n.news.naver.com/mnews/article/025/000...  사회  \n",
       "4  https://n.news.naver.com/mnews/article/277/000...  사회  "
      ]
     },
     "execution_count": 8,
     "metadata": {},
     "output_type": "execute_result"
    }
   ],
   "source": [
    "# 함수 테스트 : 사회 섹션도 url과 섹션 전달하고 반환 결과 확인\n",
    "pd.DataFrame(get_topic(section_menu_df[\"link\"][3], section_menu_df[\"menu\"][3])).head()"
   ]
  },
  {
   "cell_type": "markdown",
   "id": "95d2376f-e8e4-4cbc-bc27-13a6b0528678",
   "metadata": {},
   "source": [
    "#### 데이터프레임으로 저장\n",
    "\n",
    "- 6개 섹션의 모든 topic을 하나의 데이터프레임에 저장\n",
    "    - df와 df를 병합하는 방법 사용: {1} 빈데이터 프레임 생성 후, {2} get_topic함수 호출해서 dict 반환, {3} df로 구성\n",
    "        - 빈 데이터프레임에 반환 data df를 concat 진행"
   ]
  },
  {
   "cell_type": "code",
   "execution_count": 11,
   "id": "0e3d8c95",
   "metadata": {},
   "outputs": [],
   "source": [
    "# 페이지 구조(포맷)이 동일하게 보이는 6개의 섹션에 대해서만 수집 진행\n",
    "# 6번 반복하면서 각 섹션의 결과 dict를 반환 후, df로 구성하는 코드\n",
    "all_topic_df = pd.DataFrame({\n",
    "                \"기사제목\":[],\n",
    "                \"기사링크\":[],\n",
    "                \"분류\":[],\n",
    "                })\n",
    "\n",
    "for i in range(1, 7):\n",
    "    tmpDF=pd.DataFrame(get_topic(section_menu_df[\"link\"][i], section_menu_df[\"menu\"][i]))\n",
    "    all_topic_df = pd.concat([all_topic_df, tmpDF], axis=0, ignore_index=True)\n",
    "all_topic_df.to_csv(\"./crawl_data/naver_news_all_topic.csv\", index=0, encoding=\"utf-8-sig\")"
   ]
  },
  {
   "cell_type": "markdown",
   "id": "ac11cb7a-7167-4f0c-8110-8ca592c14fff",
   "metadata": {},
   "source": [
    "### (2) 각 기사 상세 내용 추출 : sub 페이지 내용 추출\n",
    "- 언론사, 기사제목, 작성 날짜 시간, 기사 내용, 작성자"
   ]
  },
  {
   "cell_type": "code",
   "execution_count": 14,
   "id": "e697b0fa-4101-42cd-af7e-ab7287398bb1",
   "metadata": {},
   "outputs": [
    {
     "data": {
      "text/html": [
       "<div>\n",
       "<style scoped>\n",
       "    .dataframe tbody tr th:only-of-type {\n",
       "        vertical-align: middle;\n",
       "    }\n",
       "\n",
       "    .dataframe tbody tr th {\n",
       "        vertical-align: top;\n",
       "    }\n",
       "\n",
       "    .dataframe thead th {\n",
       "        text-align: right;\n",
       "    }\n",
       "</style>\n",
       "<table border=\"1\" class=\"dataframe\">\n",
       "  <thead>\n",
       "    <tr style=\"text-align: right;\">\n",
       "      <th></th>\n",
       "      <th>기사제목</th>\n",
       "      <th>기사링크</th>\n",
       "      <th>분류</th>\n",
       "    </tr>\n",
       "  </thead>\n",
       "  <tbody>\n",
       "    <tr>\n",
       "      <th>0</th>\n",
       "      <td>박찬대 “한덕수, 국회 헌법재판관 임명동의안 처리 즉시 임명해야”</td>\n",
       "      <td>https://n.news.naver.com/mnews/article/056/001...</td>\n",
       "      <td>정치</td>\n",
       "    </tr>\n",
       "    <tr>\n",
       "      <th>1</th>\n",
       "      <td>국정협의체, '한덕수 탄핵' 변수…첫 회의부터 불투명</td>\n",
       "      <td>https://n.news.naver.com/mnews/article/277/000...</td>\n",
       "      <td>정치</td>\n",
       "    </tr>\n",
       "    <tr>\n",
       "      <th>2</th>\n",
       "      <td>국민의힘, 헌법재판관 임명안 표결 불참 결정</td>\n",
       "      <td>https://n.news.naver.com/mnews/article/018/000...</td>\n",
       "      <td>정치</td>\n",
       "    </tr>\n",
       "    <tr>\n",
       "      <th>3</th>\n",
       "      <td>민주, 명태균 녹취 공개…\"윤에 대우조선 파업 당장 진압하라고 보고\"</td>\n",
       "      <td>https://n.news.naver.com/mnews/article/003/001...</td>\n",
       "      <td>정치</td>\n",
       "    </tr>\n",
       "    <tr>\n",
       "      <th>4</th>\n",
       "      <td>민주당 \"윤 대통령, 수사거부로 시간끌기\"…한덕수 탄핵은 유보</td>\n",
       "      <td>https://n.news.naver.com/mnews/article/374/000...</td>\n",
       "      <td>정치</td>\n",
       "    </tr>\n",
       "    <tr>\n",
       "      <th>...</th>\n",
       "      <td>...</td>\n",
       "      <td>...</td>\n",
       "      <td>...</td>\n",
       "    </tr>\n",
       "    <tr>\n",
       "      <th>264</th>\n",
       "      <td>트럼프 취임 목전인데…\"한국 대응은 마비 상태\"</td>\n",
       "      <td>https://n.news.naver.com/mnews/article/003/001...</td>\n",
       "      <td>세계</td>\n",
       "    </tr>\n",
       "    <tr>\n",
       "      <th>265</th>\n",
       "      <td>지중해서 폭발후 침몰 러시아 화물선주 \"테러행위\" 주장</td>\n",
       "      <td>https://n.news.naver.com/mnews/article/001/001...</td>\n",
       "      <td>세계</td>\n",
       "    </tr>\n",
       "    <tr>\n",
       "      <th>266</th>\n",
       "      <td>포드부터 암호화폐 기업까지, 트럼프 취임식 후원 나선 기업들</td>\n",
       "      <td>https://n.news.naver.com/mnews/article/366/000...</td>\n",
       "      <td>세계</td>\n",
       "    </tr>\n",
       "    <tr>\n",
       "      <th>267</th>\n",
       "      <td>의회 폭동 이유 트럼프 지지 철회했던 기업들 속속 취임식 기부</td>\n",
       "      <td>https://n.news.naver.com/mnews/article/003/001...</td>\n",
       "      <td>세계</td>\n",
       "    </tr>\n",
       "    <tr>\n",
       "      <th>268</th>\n",
       "      <td>\"요즘 누가 그걸\"…다이아몬드의 굴욕</td>\n",
       "      <td>https://n.news.naver.com/mnews/article/215/000...</td>\n",
       "      <td>세계</td>\n",
       "    </tr>\n",
       "  </tbody>\n",
       "</table>\n",
       "<p>269 rows × 3 columns</p>\n",
       "</div>"
      ],
      "text/plain": [
       "                                       기사제목  \\\n",
       "0      박찬대 “한덕수, 국회 헌법재판관 임명동의안 처리 즉시 임명해야”   \n",
       "1             국정협의체, '한덕수 탄핵' 변수…첫 회의부터 불투명   \n",
       "2                  국민의힘, 헌법재판관 임명안 표결 불참 결정   \n",
       "3    민주, 명태균 녹취 공개…\"윤에 대우조선 파업 당장 진압하라고 보고\"   \n",
       "4        민주당 \"윤 대통령, 수사거부로 시간끌기\"…한덕수 탄핵은 유보   \n",
       "..                                      ...   \n",
       "264              트럼프 취임 목전인데…\"한국 대응은 마비 상태\"   \n",
       "265          지중해서 폭발후 침몰 러시아 화물선주 \"테러행위\" 주장   \n",
       "266       포드부터 암호화폐 기업까지, 트럼프 취임식 후원 나선 기업들   \n",
       "267      의회 폭동 이유 트럼프 지지 철회했던 기업들 속속 취임식 기부   \n",
       "268                    \"요즘 누가 그걸\"…다이아몬드의 굴욕   \n",
       "\n",
       "                                                  기사링크  분류  \n",
       "0    https://n.news.naver.com/mnews/article/056/001...  정치  \n",
       "1    https://n.news.naver.com/mnews/article/277/000...  정치  \n",
       "2    https://n.news.naver.com/mnews/article/018/000...  정치  \n",
       "3    https://n.news.naver.com/mnews/article/003/001...  정치  \n",
       "4    https://n.news.naver.com/mnews/article/374/000...  정치  \n",
       "..                                                 ...  ..  \n",
       "264  https://n.news.naver.com/mnews/article/003/001...  세계  \n",
       "265  https://n.news.naver.com/mnews/article/001/001...  세계  \n",
       "266  https://n.news.naver.com/mnews/article/366/000...  세계  \n",
       "267  https://n.news.naver.com/mnews/article/003/001...  세계  \n",
       "268  https://n.news.naver.com/mnews/article/215/000...  세계  \n",
       "\n",
       "[269 rows x 3 columns]"
      ]
     },
     "execution_count": 14,
     "metadata": {},
     "output_type": "execute_result"
    }
   ],
   "source": [
    "all_topic_df=pd.read_csv(\"./crawl_data/naver_news_all_topic.csv\")\n",
    "all_topic_df"
   ]
  },
  {
   "cell_type": "code",
   "execution_count": 15,
   "id": "a11484f4-939e-44f4-9dac-af774dec20c8",
   "metadata": {},
   "outputs": [
    {
     "data": {
      "text/plain": [
       "'https://n.news.naver.com/mnews/article/003/0012981678'"
      ]
     },
     "execution_count": 15,
     "metadata": {},
     "output_type": "execute_result"
    }
   ],
   "source": [
    "url=all_topic_df[\"기사링크\"][3]\n",
    "url"
   ]
  },
  {
   "cell_type": "code",
   "execution_count": 16,
   "id": "f897ae84-b69f-4ae4-9074-994f68683052",
   "metadata": {},
   "outputs": [],
   "source": [
    "headers = {\"User-Agent\":\"Mozilla/5.0 (Windows NT 10.0; Win64; x64) AppleWebKit/537.36 (KHTML, like Gecko) Chrome/131.0.0.0 Safari/537.36\"}\n",
    "res = requests.get(url, headers=headers)\n",
    "html = res.text\n",
    "bs_obj = BeautifulSoup(html, 'html.parser')\n",
    "# bs_obj"
   ]
  },
  {
   "cell_type": "code",
   "execution_count": 17,
   "id": "a78ffb4a-aeb7-4424-b3cd-3566c87b8d56",
   "metadata": {},
   "outputs": [
    {
     "data": {
      "text/plain": [
       "'뉴시스'"
      ]
     },
     "execution_count": 17,
     "metadata": {},
     "output_type": "execute_result"
    }
   ],
   "source": [
    "# 언론사 : a태그의 클래스를 이용해서 추출 예정, 이미의 속성값 title을 활용해서 언론사 이름 추출 예정\n",
    "# <a href=\"http://www.edaily.co.kr/\" class=\"media_end_head_top_logo\">\n",
    "# \t\t\t<img width=\"\" height=\"32\" alt=\"이데일리\" title=\"이데일리\" class=\"media_end_head_top_logo_img light_type _LAZY_LOADING _LAZY_LOADING_INIT_HIDE _LAZY_LOADING_ERROR_HIDE\" style=\"\" src=\"https://mimgnews.pstatic.net/image/upload/office_logo/018/2020/09/15/logo_018_6_20200915185838.png\">\n",
    "# \t\t\t<span class=\"media_end_head_top_logo_text light_type _LAZY_LOADING_ERROR_SHOW\" style=\"display: none;\">이데일리</span>\n",
    "# \t\t\t<img width=\"\" height=\"32\" alt=\"이데일리\" title=\"이데일리\" class=\"media_end_head_top_logo_img dark_type _LAZY_LOADING _LAZY_LOADING_INIT_HIDE _LAZY_LOADING_ERROR_HIDE\" style=\"display: inline;\" src=\"https://mimgnews.pstatic.net/image/upload/office_logo/018/2020/09/15/dark_logo_018_6_20200915145317.png\">\n",
    "# \t\t\t<span class=\"media_end_head_top_logo_text dark_type _LAZY_LOADING_ERROR_SHOW\" style=\"display: none;\">이데일리</span>\n",
    "# \t\t</a>\n",
    "paper = bs_obj.find(\"a\", {\"class\":\"media_end_head_top_logo\"}).select_one(\"img\")[\"title\"]\n",
    "paper"
   ]
  },
  {
   "cell_type": "code",
   "execution_count": 18,
   "id": "8bc2cc2f-97c5-41d0-a1e1-96fe4972a2ea",
   "metadata": {},
   "outputs": [
    {
     "data": {
      "text/plain": [
       "'민주, 명태균 녹취 공개…\"윤에 대우조선 파업 당장 진압하라고 보고\"'"
      ]
     },
     "execution_count": 18,
     "metadata": {},
     "output_type": "execute_result"
    }
   ],
   "source": [
    "# 기사 제목\n",
    "# <div class=\"media_end_head_title\">\n",
    "# \t\t<h2 id=\"title_area\" class=\"media_end_head_headline\"><span>트럼프 2.0시대 투자법은? SC제일은행 “미국 주식·금 늘리고 현금 축소”</span></h2>\n",
    "# \t</div>\n",
    "title = bs_obj.select_one(\"div.media_end_head_title span\").text\n",
    "title = bs_obj.select_one(\"h2#title_area span\").text\n",
    "\n",
    "title"
   ]
  },
  {
   "cell_type": "code",
   "execution_count": 19,
   "id": "faef2cf0-83b1-4f8c-9213-49dcc82d4455",
   "metadata": {},
   "outputs": [
    {
     "data": {
      "text/plain": [
       "'2024.12.26. 오전 11:13'"
      ]
     },
     "execution_count": 19,
     "metadata": {},
     "output_type": "execute_result"
    },
    {
     "name": "stdout",
     "output_type": "stream",
     "text": [
      "bs_obj.select_one(\".media_end_head_info_datestamp_time _ARTICLE_DATE_TIME\").text\n"
     ]
    },
    {
     "data": {
      "text/plain": [
       "'2024.12.26. 오전 11:13'"
      ]
     },
     "execution_count": 19,
     "metadata": {},
     "output_type": "execute_result"
    }
   ],
   "source": [
    "# 작성 일자 및 시간\n",
    "# <span class=\"media_end_head_info_datestamp_time _ARTICLE_DATE_TIME\" data-date-time=\"2024-12-26 10:34:17\" data-date-time-age-in-minutes=\"34\">2024.12.26. 오전 10:34</span>\n",
    "bs_obj.find(\"span\", {\"class\":\"media_end_head_info_datestamp_time _ARTICLE_DATE_TIME\"}).text\n",
    "# 아래 css 선택자는 .media_end_head_info_datestamp_time인 태그를 찾고, 자손 객체 _ARTICLE_DATE_TIME를 찾으라는 의미가 되어버림\n",
    "print(\"\"\"bs_obj.select_one(\".media_end_head_info_datestamp_time _ARTICLE_DATE_TIME\").text\"\"\")\n",
    "\n",
    "# 클래스값에 공백이 있는 경우\n",
    "# {1} 공백이전까지만 매칭\n",
    "bs_obj.select_one(\".media_end_head_info_datestamp_time\").text\n",
    "# {2} 공백자리에 .을 추가(정확도가 1번보다 높음)\n",
    "datetime = bs_obj.select_one(\".media_end_head_info_datestamp_time._ARTICLE_DATE_TIME\").text\n"
   ]
  },
  {
   "cell_type": "code",
   "execution_count": 20,
   "id": "25f8ca8c-7f89-4041-b689-83a6d70b23b6",
   "metadata": {},
   "outputs": [
    {
     "data": {
      "text/plain": [
       "'\"이영호 부사장 보고서 전달 받아 윤·김에 보고\"\"내가 보고한 직후 한덕수 총리가 긴급회의 소집\"[창원=뉴시스] 차용현 기자 = 김건희 여사 공천 개입 의혹 핵심 당사자인 명태균 씨가 14일 오후 영장실질심사를 받기 위해 경남 창원시 성산구 소재 창원지방법원에 출석하고 있다. 2024.11.14. con@newsis.com[서울=뉴시스]조재완 기자 = 윤석열 대통령 부부 공천개입 의혹 핵심 당사자인 명태균 씨가 2022년 대우조선 하청업체 파업에 대한 정부 대응에 적극 개입했다고 과시하는 녹취가 공개됐다. 민주당은 26일 명 씨가 그해 7월 파업 중이었던 경남 거제 조선소에 가는 도중 지인과 이 같은 내용으로 대화했다며 명 씨 육성이 담긴 녹취 파일을 공개했다.녹취에서 명 씨는 대우조선 측이 제출한 보고서를 토대로 파업을 강경 진압해야 한다는 취지로 윤 대통령과 김건희 여사에게 보고했다고 발언했다. 자신이 보고한 직후 파업 대응을 위해 한덕수 국무총리가 긴급회의를 소집했다고도 말했다. 명 씨는 \"조선소고 뭐고 내용을 잘 모른다. 거기 문제가 심각한데 지난주 대통령한테 내가 보고를 했다\"며 \"이영호 부사장인가 내가 보고서를 만들어달라고 했다. (이 부사장이) 만들어주더라고\"라고 말했다.이어 \"내가 보고하고 나서 한 총리가 긴급 소집한 것 아니냐. 또 내가 보고했지. 당장 진압하라고\"라고 말했다. 그는 \"대통령이 보고해달라고 해서 보고를 했고, 보고하니까 그날 바로 긴급소집하더라\"며 \"아래(그저께)는 한동훈 법무부 장관하고 다 불러가지고\"라고 했다. 또 \"데모하는 놈은 150명이고 거기 하청 일하는 놈은 만 명인데 150명 때문에 만 명이 다 죽게 생겼던데\"라며 \"(피해 규모가) 그게 지금 5700억원 해가지고 이래저래 하면 7000억원이 된다는데 말이 7000억원이지\"라고 했다. 명 씨는 \"하여튼 내가 대통령하고 사모님한테 이야기한 게 있어서 보고를 올렸으니까 내가 가서 눈으로 쳐다보기라도 해야지\"라며 \"갔다와야 나중에 할 말이라도 있지\"라고 했다. 민주당은 명 씨 발언과 당시 정부 대응이 실제 일치했다고 설명했다. 2022년 7월 14일 한 총리 주재로 국정현안점검조정회의가 열렸고, 나흘 뒤엔 당시 한 장관과 추경호 경제부총리 등 관계부처 합동 담화문이 발표됐다. 민주당에 따르면 해당 파일은 같은 달 20일에 녹취됐다. 민주당 측은 \"명씨는 실제 거제 조선소를 방문해 부사장 등 영접을 받았다\"며 \"방문 당일 현장에 있었던 이정식 당시 고용노동부 장관도 만난 듯 하다. 주변에 자랑했다고 한다\"고 말했다.'"
      ]
     },
     "execution_count": 20,
     "metadata": {},
     "output_type": "execute_result"
    }
   ],
   "source": [
    "# 기사 내용\n",
    "# article 태그 id: dic_area\n",
    "writing=bs_obj.select_one(\"#dic_area\").text.replace(\"\\n\", \"\")\n",
    "writing"
   ]
  },
  {
   "cell_type": "code",
   "execution_count": 21,
   "id": "e5c5e9e8-7799-4696-b7e3-aefcd7f8e8f6",
   "metadata": {},
   "outputs": [
    {
     "data": {
      "text/plain": [
       "'조재완 기자(wander@newsis.com)'"
      ]
     },
     "execution_count": 21,
     "metadata": {},
     "output_type": "execute_result"
    }
   ],
   "source": [
    "# 작성자\n",
    "writer = bs_obj.select_one(\".byline_s\").text\n",
    "writer"
   ]
  },
  {
   "cell_type": "code",
   "execution_count": null,
   "id": "a3b6a091",
   "metadata": {},
   "outputs": [],
   "source": [
    "# 좋아요 수: 동적 태그임(html 소스로 전달되지 않고 js코드로 전달됨 : 태그 내 content는 실시간 변화)\n",
    "# bs4로 파싱 불가\n",
    "# <span class=\"u_likeit_text _count\">추천</span>\n",
    "# bs_obj.select_one(\"u_likeit_text _count num\").text\n",
    "# bs_obj.find(\"span\", {\"class\":\"u_likeit_text _count num\"}).text"
   ]
  },
  {
   "cell_type": "markdown",
   "id": "323b596c-ee95-4e29-8d5a-61d5c16c0ea2",
   "metadata": {},
   "source": [
    "#### sub 페이지 내용 추출하는 함수 작성"
   ]
  },
  {
   "cell_type": "code",
   "execution_count": 47,
   "id": "ce50781d",
   "metadata": {},
   "outputs": [],
   "source": [
    "# sub 페이지 추출 함수\n",
    "def get_sub_news_info(url):\n",
    "    try:\n",
    "        headers = {\"User-Agent\":\"Mozilla/5.0 (Windows NT 10.0; Win64; x64) AppleWebKit/537.36 (KHTML, like Gecko) Chrome/131.0.0.0 Safari/537.36\"}\n",
    "        res = requests.get(url, headers=headers)\n",
    "        html=res.text\n",
    "        bs_obj=BeautifulSoup(html, \"html.parser\")\n",
    "\n",
    "        # 데이터 자장용 빈리스트 생성\n",
    "        paper_list, title_list, datetime_list, writing_list, writer_list = [[]for _ in range(5)]\n",
    "        # 데이터 추출\n",
    "        # 언론사\n",
    "        paper_list.append(bs_obj.find(\"a\", {\"class\":\"media_end_head_top_logo\"}).select_one(\"img\")[\"title\"])\n",
    "        # 기사제목\n",
    "        title_list.append(bs_obj.select_one(\"h2#title_area span\").text)\n",
    "        # 기사입력 날짜 및 시간\n",
    "        datetime_list.append(bs_obj.select_one(\".media_end_head_info_datestamp_time._ARTICLE_DATE_TIME\").text)\n",
    "        # 기사 내용\n",
    "        writing_list.append(bs_obj.select_one(\"#dic_area\").text.replace(\"\\n\", \"\"))\n",
    "        # 작성 기자\n",
    "        if (bs_obj.select_one(\".byline_s\") == None):\n",
    "            writer_list.append(\"없음\")\n",
    "        else:\n",
    "            writer_list.append(bs_obj.select_one(\".byline_s\").text)\n",
    "    except Exception as e:\n",
    "        print(\"오류 발생 :\", e)\n",
    "    \n",
    "    # 지정된 list 내 원소수 일치여부 확인\n",
    "    print(len(paper_list), len(title_list), len(datetime_list), len(writing_list), len(writer_list))\n",
    "    sub_new_dict = {\"paper\":paper_list, \n",
    "                                 \"title\":title_list, \n",
    "                                 \"datetime\":datetime_list, \n",
    "                                 \"writing\":writing_list, \n",
    "                                 \"writer\":writer_list}\n",
    "    return sub_new_dict"
   ]
  },
  {
   "cell_type": "code",
   "execution_count": 33,
   "id": "7cbbd147-353d-474f-8a5e-5555542b46b5",
   "metadata": {},
   "outputs": [
    {
     "name": "stdout",
     "output_type": "stream",
     "text": [
      "1 1 1 1 1\n"
     ]
    },
    {
     "data": {
      "text/plain": [
       "{'paper': ['KBS'],\n",
       " 'title': ['박찬대 “한덕수, 국회 헌법재판관 임명동의안 처리 즉시 임명해야”'],\n",
       " 'datetime': ['2024.12.26. 오전 9:48'],\n",
       " 'writing': [\"더불어민주당 박찬대 원내대표는 한덕수 대통령 권한대행 겸 국무총리를 향해 국회 본회의에서 헌법재판관 3명에 대한 임명동의안이 처리되면 곧바로 임명할 것을 촉구했습니다.  박 원내대표는 오늘(26일) 국회에서 열린 정책조정회의에서 “한덕수 총리는 국회가 헌법재판관 임명동의안을 이송하는 즉시 일분일초도 지체하지 말고 바로 임명하라”고 말했습니다.  이어 “헌법재판관을 임명하지 않는 건 명백한 위헌 행위이고 12·3 내란 사태를 조속히 끝내지 않겠다는 심각한 반국가 행위”라며 “역사의 반역자, 을사오적의 길을 걷지 말라”고도 말했습니다.  박 원내대표는 “5천만 국민이 한 총리를 지켜보고 있다”며 “오늘까지가 인내할 수 있는 마지막 시한”이라고 덧붙였습니다.  앞서 민주당은 지난 24일 한 대행에 대한 탄핵소추안을 제출하려다 막판에 결정을 뒤집고 26일까지 기다려보겠다며 헌법재판관 임명을 촉구한 바 있습니다.  한편, 국민의힘 새로운 비대위 출범과 관련해 박 원내대표는 “검찰총장 출신 내란수괴로 탄핵된 윤석열과 검사 출신 원내대표 권성동, 검사 출신 비대위원장 권영세는 검사동일체를 넘어선 내란 동일체‘라고 비판했습니다.  그러면서 ”국민의힘이 헌법과 법률에 반해 헌법재판관 임명을 반대하는 이유는 이들이 내란 수괴와 한 몸이기 때문“이라며 ”헌정질서를 파괴하는 공당의 자격이 없다“고 주장했습니다.[사진 출처 : 연합뉴스]■ 제보하기▷ 전화 : 02-781-1234, 4444▷ 이메일 : kbs1234@kbs.co.kr▷ 카카오톡 : 'KBS제보' 검색, 채널 추가▷ 네이버, 유튜브에서 KBS뉴스를 구독해주세요!\"],\n",
       " 'writer': ['손서영 (bellesy@kbs.co.kr)']}"
      ]
     },
     "execution_count": 33,
     "metadata": {},
     "output_type": "execute_result"
    },
    {
     "name": "stdout",
     "output_type": "stream",
     "text": [
      "1 1 1 1 1\n"
     ]
    },
    {
     "data": {
      "text/plain": [
       "{'paper': ['아시아경제'],\n",
       " 'title': [\"국정협의체, '한덕수 탄핵' 변수…첫 회의부터 불투명\"],\n",
       " 'datetime': ['2024.12.25. 오후 5:51'],\n",
       " 'writing': ['野, 한덕수 탄핵소추안 발의 압박내일 첫 회의인데 협의 진전 없어\"향후 일정도 차례로 순연 가능성\"비상계엄 사태에 따른 탄핵 정국의 혼란을 수습하기 위해 여야와 정부가 머리를 맞대기로 했지만 국정안전협의체는 첫발을 떼기 전부터 차질을 빚게 됐다. 정부를 대표하는 한덕수 대통령 권한대행 겸 국무총리에 대해 야당이 탄핵소추를 예고하고 나선 만큼 당장 26일로 예정된 첫 회의부터 개최 여부가 불투명하다.한덕수 대통령 권한대행 국무총리가 연말연시를 맞아 24일 서울 중부소방서를 방문해 현황 보고를 받고 있다. 연합뉴스국회 관계자는 \"협의체 가동을 위한 실무진 회의가 늦어도 오늘까진 이뤄졌어야 하는데 그러지 못했다\"며 \"내일로 예정됐던 협의체 출범 등 향후 일정도 차례로 순연될 가능성이 크다\"고 25일 밝혔다. 국민의힘 관계자도 \"실무 단계에서 논의가 전혀 진행되지 않고 있다\"며 \"현재로선 협의체 개최가 매우 불투명하다\"고 했다.야권에선 국민의힘이 권영세 비상대책위원장을 지명하고 이에 따른 지도부 개편을 진행 중인 게 영향을 줬다는 입장이다. 박성준 민주당 원내수석부대표는 MBC 라디오에서 \"(의제 등) 실무 협의를 하자고 했는데 국민의힘이 준비가 안 됐다\"며 \"내일 국정안정 협의체 첫발을 떼기가 상당히 어려울 것\"이라고 내다봤다.25일 서울 여의도 국회의사당 정문에 \"총리마저 탄핵합니까? 안정이 우선입니다\"라고 적힌 국민의힘의 현수막이 걸려 있다. 연합뉴스정치권에선 한덕수 대행에 대한 탄핵 문제가 협의체 출범에 차질을 초래했다고 보는 시각이 많다. 민주당은 26일로 예정된 본회의에서 국회 추천 몫 헌법재판관 후보자 3명에 대한 임명동의안을 통과시킨 뒤 한 대행이 곧바로 임명 절차를 밟지 않을 경우 그에 대한 탄핵소추안을 발의하겠다고 엄포를 놓은 상황이다.실제 탄핵안을 발의할 경우 한 대행의 국정 수행에 \\'부적격\\' 결론을 내린다는 의미가 된다. 그런 한 대행과 협의체에서 마주 앉아 국정에 대한 논의를 나누는 건 여야뿐만 아니라 한 대행의 입장에서도 불편한 그림이 만들어진다. 야권 관계자는 \"탄핵 문제가 풀리지 않으면 협의체 논의도 진전을 보기 힘들다\"고 했다.국회 관계자는 \"지금 상황으로는 이번 주 안에 협의체가 가동되기는 쉽지 않아 보인다\"고 전망했다.'],\n",
       " 'writer': ['장희준 기자 junh@asiae.co.kr']}"
      ]
     },
     "execution_count": 33,
     "metadata": {},
     "output_type": "execute_result"
    },
    {
     "name": "stdout",
     "output_type": "stream",
     "text": [
      "1 1 1 1 1\n"
     ]
    },
    {
     "data": {
      "text/plain": [
       "{'paper': ['이데일리'],\n",
       " 'title': ['국민의힘, 헌법재판관 임명안 표결 불참 결정'],\n",
       " 'datetime': ['2024.12.26. 오후 12:04'],\n",
       " 'writing': ['26일 오전 의원총회서 결정…의원 전원 불참에 만장일치권성동 “검사가 판사 고르는 꼴…탄핵심판 무효화될 수도”[이데일리 김응열 기자] 국민의힘이 헌법재판관 임명동의안 표결에 불참한다.권성동 국민의힘 대표 권한대행 겸 원내대표가 26일 오전 서울 여의도 국회에서 열린 의원총회에서 모두발언을 하고 있다. (사진=노진환 기자)권성동 국민의힘 대표 권한대행 겸 원내대표는 26일 오전 서울 국회에서 진행한 의원총회를 마친 뒤 취재진과 만나 “한덕수 대통령 권한대행에게 헌법재판관 임명 권한이 없다는 입장을 여전히 견지하고 있다”며 “그런 차원에서 헌법재판관 인사청문회에 참여하지 않았고 표결도 참여하지 않기로 결정했다”고 밝혔다.권 권한대행은 “당론 결정 절차는 밟지 않았으나 불참하자는 의사에 의원들이 만장일치로 동의했다”고 설명했다.야권 주도로 헌법재판관 임명동의안이 본회의를 통과할 경우 권한쟁의 심판이나 효력정지 가처분 등을 신청할지 여부에 관해서는 “한 권한대행에게 헌법재판관 임명권이 없다고 생각해서, 당에선 관련한 후속 절차를 밟을 계획이 없다”고 언급했다.권 권한대행 의원총회 모두발언에서도 국회 몫 헌법재판관 3명의 임명을 한 권한대행이 할 수 없다는 점을 거듭 강조했다. 권 권한대행은 “국회가 대통령 탄핵 심판의 소추인인데 국회가 헌법재판관을 추천하는 건 검사가 판사를 고르는 것”이라고 지적했다.또 “과거 윤석열 대통령이 검찰총장이던 시절 당시 추미애 법무부장관이 윤 총장 징계처분을 하고나서 징계위원 한 명을 추가 임명했는데 서울고등법원이 헌법상 적정 절차 위반이라고 징계 청구 자체를 무효라고 판시한 바 있다”며 “국회가 추천한 헌법재판관 3인의 임명을 강행하면 탄핵심판 자체가 무효화될 수 있다”고 주장했다.더불어민주당이 추진하는 한 권한대행 탄핵을 두고는 “대통령 권한대행의 탄핵 정족수는 대통령을 기준을 해야 한다”며 “민주당 주장처럼 국회 과반으로 권한대행을 탄핵하면 그다음 권한대행도 과반으로 탄핵이 가능하고 그 결과는 국정초토화”라고 비난했다.그러면서 “민주당이 국정초토화를 불사하며 탄핵을 난사하는 이유는 조기대선으로 이재명 민주당 대표의 사법리스크를 가려보겠다는 것”이라며 “조기대선 단꿈에 빠져있겠지만 악행이 반드시 국민 심판으로 되돌아올 것”이라고 덧붙였다.'],\n",
       " 'writer': ['김응열(keynews@edaily.co.kr)']}"
      ]
     },
     "execution_count": 33,
     "metadata": {},
     "output_type": "execute_result"
    },
    {
     "name": "stdout",
     "output_type": "stream",
     "text": [
      "1 1 1 1 1\n"
     ]
    },
    {
     "data": {
      "text/plain": [
       "{'paper': ['뉴시스'],\n",
       " 'title': ['민주, 명태균 녹취 공개…\"윤에 대우조선 파업 당장 진압하라고 보고\"'],\n",
       " 'datetime': ['2024.12.26. 오전 11:13'],\n",
       " 'writing': ['\"이영호 부사장 보고서 전달 받아 윤·김에 보고\"\"내가 보고한 직후 한덕수 총리가 긴급회의 소집\"[창원=뉴시스] 차용현 기자 = 김건희 여사 공천 개입 의혹 핵심 당사자인 명태균 씨가 14일 오후 영장실질심사를 받기 위해 경남 창원시 성산구 소재 창원지방법원에 출석하고 있다. 2024.11.14. con@newsis.com[서울=뉴시스]조재완 기자 = 윤석열 대통령 부부 공천개입 의혹 핵심 당사자인 명태균 씨가 2022년 대우조선 하청업체 파업에 대한 정부 대응에 적극 개입했다고 과시하는 녹취가 공개됐다. 민주당은 26일 명 씨가 그해 7월 파업 중이었던 경남 거제 조선소에 가는 도중 지인과 이 같은 내용으로 대화했다며 명 씨 육성이 담긴 녹취 파일을 공개했다.녹취에서 명 씨는 대우조선 측이 제출한 보고서를 토대로 파업을 강경 진압해야 한다는 취지로 윤 대통령과 김건희 여사에게 보고했다고 발언했다. 자신이 보고한 직후 파업 대응을 위해 한덕수 국무총리가 긴급회의를 소집했다고도 말했다. 명 씨는 \"조선소고 뭐고 내용을 잘 모른다. 거기 문제가 심각한데 지난주 대통령한테 내가 보고를 했다\"며 \"이영호 부사장인가 내가 보고서를 만들어달라고 했다. (이 부사장이) 만들어주더라고\"라고 말했다.이어 \"내가 보고하고 나서 한 총리가 긴급 소집한 것 아니냐. 또 내가 보고했지. 당장 진압하라고\"라고 말했다. 그는 \"대통령이 보고해달라고 해서 보고를 했고, 보고하니까 그날 바로 긴급소집하더라\"며 \"아래(그저께)는 한동훈 법무부 장관하고 다 불러가지고\"라고 했다. 또 \"데모하는 놈은 150명이고 거기 하청 일하는 놈은 만 명인데 150명 때문에 만 명이 다 죽게 생겼던데\"라며 \"(피해 규모가) 그게 지금 5700억원 해가지고 이래저래 하면 7000억원이 된다는데 말이 7000억원이지\"라고 했다. 명 씨는 \"하여튼 내가 대통령하고 사모님한테 이야기한 게 있어서 보고를 올렸으니까 내가 가서 눈으로 쳐다보기라도 해야지\"라며 \"갔다와야 나중에 할 말이라도 있지\"라고 했다. 민주당은 명 씨 발언과 당시 정부 대응이 실제 일치했다고 설명했다. 2022년 7월 14일 한 총리 주재로 국정현안점검조정회의가 열렸고, 나흘 뒤엔 당시 한 장관과 추경호 경제부총리 등 관계부처 합동 담화문이 발표됐다. 민주당에 따르면 해당 파일은 같은 달 20일에 녹취됐다. 민주당 측은 \"명씨는 실제 거제 조선소를 방문해 부사장 등 영접을 받았다\"며 \"방문 당일 현장에 있었던 이정식 당시 고용노동부 장관도 만난 듯 하다. 주변에 자랑했다고 한다\"고 말했다.'],\n",
       " 'writer': ['조재완 기자(wander@newsis.com)']}"
      ]
     },
     "execution_count": 33,
     "metadata": {},
     "output_type": "execute_result"
    },
    {
     "name": "stdout",
     "output_type": "stream",
     "text": [
      "1 1 1 1 1\n"
     ]
    },
    {
     "data": {
      "text/plain": [
       "{'paper': ['SBS Biz'],\n",
       " 'title': ['민주당 \"윤 대통령, 수사거부로 시간끌기\"…한덕수 탄핵은 유보'],\n",
       " 'datetime': ['2024.12.25. 오후 5:21'],\n",
       " 'writing': ['[야6당 의원들이 12일 오전 서울 여의도 국회 의안과에 윤석열 대통령 탄핵 소추안을 제출하고 있다. (사진=연합뉴스)]더불어민주당 등 야권은 오늘(25일) 윤석열 대통령이 고위공직자범죄수사처의 2차 출석 요구에 불응한 것과 관련해 구속수사를 촉구했습니다.한덕수 대통령 권한대행 국무총리에 대해선 국회 몫 헌법재판관 3인을 임명할 때까지 탄핵을 유보하기로 했습니다.한민수 민주당 대변인은 이날 브리핑에서 \"내란수괴 윤석열이 또 다시 공수처의 출석 요구를 거부했다\"고 지적했습니다.이어 공수처에 \"반복되는 출석요구와 수사 지연은 국민의 불신만 초래할 뿐\"이라며 \"사건의 엄중함을 직시하고 즉시 내란수괴에 대한 체포와 구속수사를 진행하라\"고 촉구했습니다.민주당은 전날 한 권한대행 국무총리 탄핵안을 발의 직전에 유보했습니다.대통령 탄핵절차를 위해선 앞서\\xa0한 권한대행이 사실상 거부한 특검법 공포보다 헌법재판관 임명이 더 중요하다고 판단한 겁니다.민주당은 오는 27일 오전까지 상황을 지켜보고, 이때까지도 한 권한대행이 헌법재판관을 임명하지 않는다면 같은 날 한 권한대행에 대한 탄핵안을 발의할 것으로 예상됩니다.탄핵안은 보고된 시점부터 24시간 이후 72시간 이내에 표결돼야 하므로\\xa0이 경우 다음 주 월요일인 30일에 탄핵안 표결이 이뤄질 것으로 보입니다.한 권한대행 탄핵안이 본회의를 통과할 경우, 최상목 부총리 겸 기획재정부 장관이 그 뒤를 이어 대통령 권한대행을 맡게 됩니다.이와 관련해 박범계 민주당 의원은 한 라디오 인터뷰에서 \"비상계엄 전 (국무위원이 모였을 때) 계엄에 가장 강하게 반대한 점 등을 보면 한 권한대행보다는 낫지 않겠나\"라고 말하기도 했습니다.당신의 제보가 뉴스로 만들어집니다.SBS Biz는 여러분의 제보를 기다리고 있습니다.홈페이지 = https://url.kr/9pghjn'],\n",
       " 'writer': ['정광윤 기자(jky@sbs.co.kr)']}"
      ]
     },
     "execution_count": 33,
     "metadata": {},
     "output_type": "execute_result"
    }
   ],
   "source": [
    "# 함수 테스트 : 1개의 url 전달해서 반환 결과 확인f\n",
    "for url in all_topic_df[\"기사링크\"][:5]:\n",
    "    get_sub_news_info(url)"
   ]
  },
  {
   "cell_type": "markdown",
   "id": "3e1d493c-96a1-4480-8578-e284ac376378",
   "metadata": {},
   "source": [
    "#### 함수에서 반환된 값으로 데이터프레임에 추가해서 최종 데이터프레임 생성"
   ]
  },
  {
   "cell_type": "code",
   "execution_count": 48,
   "id": "46dc110d-7faa-4e2e-a0f0-7e8dd6958066",
   "metadata": {},
   "outputs": [
    {
     "data": {
      "text/html": [
       "<div>\n",
       "<style scoped>\n",
       "    .dataframe tbody tr th:only-of-type {\n",
       "        vertical-align: middle;\n",
       "    }\n",
       "\n",
       "    .dataframe tbody tr th {\n",
       "        vertical-align: top;\n",
       "    }\n",
       "\n",
       "    .dataframe thead th {\n",
       "        text-align: right;\n",
       "    }\n",
       "</style>\n",
       "<table border=\"1\" class=\"dataframe\">\n",
       "  <thead>\n",
       "    <tr style=\"text-align: right;\">\n",
       "      <th></th>\n",
       "      <th>paper</th>\n",
       "      <th>title</th>\n",
       "      <th>datetime</th>\n",
       "      <th>writing</th>\n",
       "      <th>writer</th>\n",
       "    </tr>\n",
       "  </thead>\n",
       "  <tbody>\n",
       "  </tbody>\n",
       "</table>\n",
       "</div>"
      ],
      "text/plain": [
       "Empty DataFrame\n",
       "Columns: [paper, title, datetime, writing, writer]\n",
       "Index: []"
      ]
     },
     "execution_count": 48,
     "metadata": {},
     "output_type": "execute_result"
    },
    {
     "name": "stdout",
     "output_type": "stream",
     "text": [
      "1 1 1 1 1\n",
      "1 1 1 1 1\n",
      "1 1 1 1 1\n",
      "1 1 1 1 1\n",
      "1 1 1 1 1\n",
      "1 1 1 1 1\n",
      "1 1 1 1 1\n",
      "1 1 1 1 1\n",
      "1 1 1 1 1\n",
      "1 1 1 1 1\n",
      "1 1 1 1 1\n",
      "1 1 1 1 1\n",
      "1 1 1 1 1\n",
      "1 1 1 1 1\n",
      "1 1 1 1 1\n",
      "1 1 1 1 1\n",
      "1 1 1 1 1\n",
      "1 1 1 1 1\n",
      "1 1 1 1 1\n",
      "1 1 1 1 1\n",
      "1 1 1 1 1\n",
      "1 1 1 1 1\n",
      "1 1 1 1 1\n",
      "1 1 1 1 1\n",
      "1 1 1 1 1\n",
      "1 1 1 1 1\n",
      "1 1 1 1 1\n",
      "1 1 1 1 1\n",
      "1 1 1 1 1\n",
      "1 1 1 1 1\n",
      "1 1 1 1 1\n",
      "1 1 1 1 1\n",
      "1 1 1 1 1\n",
      "1 1 1 1 1\n",
      "1 1 1 1 1\n",
      "1 1 1 1 1\n",
      "1 1 1 1 1\n",
      "1 1 1 1 1\n",
      "1 1 1 1 1\n",
      "1 1 1 1 1\n",
      "1 1 1 1 1\n",
      "1 1 1 1 1\n",
      "1 1 1 1 1\n",
      "1 1 1 1 1\n",
      "1 1 1 1 1\n",
      "1 1 1 1 1\n",
      "1 1 1 1 1\n",
      "1 1 1 1 1\n",
      "1 1 1 1 1\n",
      "1 1 1 1 1\n",
      "1 1 1 1 1\n",
      "1 1 1 1 1\n",
      "1 1 1 1 1\n",
      "1 1 1 1 1\n",
      "1 1 1 1 1\n",
      "1 1 1 1 1\n",
      "1 1 1 1 1\n",
      "1 1 1 1 1\n",
      "1 1 1 1 1\n",
      "1 1 1 1 1\n",
      "1 1 1 1 1\n",
      "1 1 1 1 1\n",
      "1 1 1 1 1\n",
      "1 1 1 1 1\n",
      "1 1 1 1 1\n",
      "1 1 1 1 1\n",
      "1 1 1 1 1\n",
      "1 1 1 1 1\n",
      "1 1 1 1 1\n",
      "1 1 1 1 1\n",
      "1 1 1 1 1\n",
      "1 1 1 1 1\n",
      "1 1 1 1 1\n",
      "1 1 1 1 1\n",
      "1 1 1 1 1\n",
      "1 1 1 1 1\n",
      "1 1 1 1 1\n",
      "1 1 1 1 1\n",
      "1 1 1 1 1\n",
      "1 1 1 1 1\n",
      "1 1 1 1 1\n",
      "1 1 1 1 1\n",
      "1 1 1 1 1\n",
      "1 1 1 1 1\n",
      "1 1 1 1 1\n",
      "1 1 1 1 1\n",
      "1 1 1 1 1\n",
      "1 1 1 1 1\n",
      "1 1 1 1 1\n",
      "1 1 1 1 1\n",
      "1 1 1 1 1\n",
      "1 1 1 1 1\n",
      "1 1 1 1 1\n",
      "1 1 1 1 1\n",
      "1 1 1 1 1\n",
      "1 1 1 1 1\n",
      "1 1 1 1 1\n",
      "1 1 1 1 1\n",
      "1 1 1 1 1\n",
      "1 1 1 1 1\n",
      "1 1 1 1 1\n",
      "1 1 1 1 1\n",
      "1 1 1 1 1\n",
      "1 1 1 1 1\n",
      "1 1 1 1 1\n",
      "1 1 1 1 1\n",
      "1 1 1 1 1\n",
      "1 1 1 1 1\n",
      "1 1 1 1 1\n",
      "1 1 1 1 1\n",
      "1 1 1 1 1\n",
      "1 1 1 1 1\n",
      "1 1 1 1 1\n",
      "1 1 1 1 1\n",
      "1 1 1 1 1\n",
      "1 1 1 1 1\n",
      "1 1 1 1 1\n",
      "1 1 1 1 1\n",
      "1 1 1 1 1\n",
      "1 1 1 1 1\n",
      "1 1 1 1 1\n",
      "1 1 1 1 1\n",
      "1 1 1 1 1\n",
      "1 1 1 1 1\n",
      "1 1 1 1 1\n",
      "1 1 1 1 1\n",
      "1 1 1 1 1\n",
      "1 1 1 1 1\n",
      "1 1 1 1 1\n",
      "1 1 1 1 1\n",
      "1 1 1 1 1\n",
      "1 1 1 1 1\n",
      "1 1 1 1 1\n",
      "1 1 1 1 1\n",
      "1 1 1 1 1\n",
      "1 1 1 1 1\n",
      "1 1 1 1 1\n",
      "1 1 1 1 1\n",
      "1 1 1 1 1\n",
      "1 1 1 1 1\n",
      "1 1 1 1 1\n",
      "1 1 1 1 1\n",
      "1 1 1 1 1\n",
      "1 1 1 1 1\n",
      "1 1 1 1 1\n",
      "1 1 1 1 1\n",
      "1 1 1 1 1\n",
      "1 1 1 1 1\n",
      "1 1 1 1 1\n",
      "1 1 1 1 1\n",
      "1 1 1 1 1\n",
      "1 1 1 1 1\n",
      "1 1 1 1 1\n",
      "1 1 1 1 1\n",
      "1 1 1 1 1\n",
      "1 1 1 1 1\n",
      "1 1 1 1 1\n",
      "1 1 1 1 1\n",
      "1 1 1 1 1\n",
      "1 1 1 1 1\n",
      "1 1 1 1 1\n",
      "1 1 1 1 1\n",
      "1 1 1 1 1\n",
      "1 1 1 1 1\n",
      "1 1 1 1 1\n",
      "1 1 1 1 1\n",
      "1 1 1 1 1\n",
      "1 1 1 1 1\n",
      "1 1 1 1 1\n",
      "1 1 1 1 1\n",
      "1 1 1 1 1\n",
      "1 1 1 1 1\n",
      "1 1 1 1 1\n",
      "1 1 1 1 1\n",
      "1 1 1 1 1\n",
      "1 1 1 1 1\n",
      "1 1 1 1 1\n",
      "1 1 1 1 1\n",
      "1 1 1 1 1\n",
      "1 1 1 1 1\n",
      "1 1 1 1 1\n",
      "1 1 1 1 1\n",
      "1 1 1 1 1\n",
      "1 1 1 1 1\n",
      "1 1 1 1 1\n",
      "1 1 1 1 1\n",
      "1 1 1 1 1\n",
      "1 1 1 1 1\n",
      "1 1 1 1 1\n",
      "1 1 1 1 1\n",
      "1 1 1 1 1\n",
      "1 1 1 1 1\n",
      "1 1 1 1 1\n",
      "1 1 1 1 1\n",
      "1 1 1 1 1\n",
      "1 1 1 1 1\n",
      "1 1 1 1 1\n",
      "1 1 1 1 1\n",
      "1 1 1 1 1\n",
      "1 1 1 1 1\n",
      "1 1 1 1 1\n",
      "1 1 1 1 1\n",
      "1 1 1 1 1\n",
      "1 1 1 1 1\n",
      "1 1 1 1 1\n",
      "1 1 1 1 1\n",
      "1 1 1 1 1\n",
      "1 1 1 1 1\n",
      "1 1 1 1 1\n",
      "1 1 1 1 1\n",
      "1 1 1 1 1\n",
      "1 1 1 1 1\n",
      "1 1 1 1 1\n",
      "1 1 1 1 1\n",
      "1 1 1 1 1\n",
      "1 1 1 1 1\n",
      "1 1 1 1 1\n",
      "1 1 1 1 1\n",
      "1 1 1 1 1\n",
      "1 1 1 1 1\n",
      "1 1 1 1 1\n",
      "1 1 1 1 1\n",
      "1 1 1 1 1\n",
      "1 1 1 1 1\n",
      "1 1 1 1 1\n",
      "1 1 1 1 1\n",
      "1 1 1 1 1\n",
      "1 1 1 1 1\n",
      "1 1 1 1 1\n",
      "1 1 1 1 1\n",
      "1 1 1 1 1\n",
      "1 1 1 1 1\n",
      "1 1 1 1 1\n",
      "1 1 1 1 1\n",
      "1 1 1 1 1\n",
      "1 1 1 1 1\n",
      "1 1 1 1 1\n",
      "1 1 1 1 1\n",
      "1 1 1 1 1\n",
      "1 1 1 1 1\n",
      "1 1 1 1 1\n",
      "1 1 1 1 1\n",
      "1 1 1 1 1\n",
      "1 1 1 1 1\n",
      "1 1 1 1 1\n",
      "1 1 1 1 1\n",
      "1 1 1 1 1\n",
      "1 1 1 1 1\n",
      "1 1 1 1 1\n",
      "1 1 1 1 1\n",
      "1 1 1 1 1\n",
      "1 1 1 1 1\n",
      "1 1 1 1 1\n",
      "1 1 1 1 1\n",
      "1 1 1 1 1\n",
      "1 1 1 1 1\n",
      "1 1 1 1 1\n",
      "1 1 1 1 1\n",
      "1 1 1 1 1\n",
      "1 1 1 1 1\n",
      "1 1 1 1 1\n",
      "1 1 1 1 1\n",
      "1 1 1 1 1\n",
      "1 1 1 1 1\n",
      "1 1 1 1 1\n",
      "1 1 1 1 1\n",
      "1 1 1 1 1\n",
      "1 1 1 1 1\n",
      "1 1 1 1 1\n"
     ]
    },
    {
     "data": {
      "text/html": [
       "<div>\n",
       "<style scoped>\n",
       "    .dataframe tbody tr th:only-of-type {\n",
       "        vertical-align: middle;\n",
       "    }\n",
       "\n",
       "    .dataframe tbody tr th {\n",
       "        vertical-align: top;\n",
       "    }\n",
       "\n",
       "    .dataframe thead th {\n",
       "        text-align: right;\n",
       "    }\n",
       "</style>\n",
       "<table border=\"1\" class=\"dataframe\">\n",
       "  <thead>\n",
       "    <tr style=\"text-align: right;\">\n",
       "      <th></th>\n",
       "      <th>paper</th>\n",
       "      <th>title</th>\n",
       "      <th>datetime</th>\n",
       "      <th>writing</th>\n",
       "      <th>writer</th>\n",
       "    </tr>\n",
       "  </thead>\n",
       "  <tbody>\n",
       "    <tr>\n",
       "      <th>0</th>\n",
       "      <td>KBS</td>\n",
       "      <td>박찬대 “한덕수, 국회 헌법재판관 임명동의안 처리 즉시 임명해야”</td>\n",
       "      <td>2024.12.26. 오전 9:48</td>\n",
       "      <td>더불어민주당 박찬대 원내대표는 한덕수 대통령 권한대행 겸 국무총리를 향해 국회 본회...</td>\n",
       "      <td>손서영 (bellesy@kbs.co.kr)</td>\n",
       "    </tr>\n",
       "    <tr>\n",
       "      <th>1</th>\n",
       "      <td>아시아경제</td>\n",
       "      <td>국정협의체, '한덕수 탄핵' 변수…첫 회의부터 불투명</td>\n",
       "      <td>2024.12.25. 오후 5:51</td>\n",
       "      <td>野, 한덕수 탄핵소추안 발의 압박내일 첫 회의인데 협의 진전 없어\"향후 일정도 차례...</td>\n",
       "      <td>장희준 기자 junh@asiae.co.kr</td>\n",
       "    </tr>\n",
       "    <tr>\n",
       "      <th>2</th>\n",
       "      <td>이데일리</td>\n",
       "      <td>국민의힘, 헌법재판관 임명안 표결 불참 결정</td>\n",
       "      <td>2024.12.26. 오후 12:04</td>\n",
       "      <td>26일 오전 의원총회서 결정…의원 전원 불참에 만장일치권성동 “검사가 판사 고르는 ...</td>\n",
       "      <td>김응열(keynews@edaily.co.kr)</td>\n",
       "    </tr>\n",
       "    <tr>\n",
       "      <th>3</th>\n",
       "      <td>뉴시스</td>\n",
       "      <td>민주, 명태균 녹취 공개…\"윤에 대우조선 파업 당장 진압하라고 보고\"</td>\n",
       "      <td>2024.12.26. 오전 11:13</td>\n",
       "      <td>\"이영호 부사장 보고서 전달 받아 윤·김에 보고\"\"내가 보고한 직후 한덕수 총리가 ...</td>\n",
       "      <td>조재완 기자(wander@newsis.com)</td>\n",
       "    </tr>\n",
       "    <tr>\n",
       "      <th>4</th>\n",
       "      <td>SBS Biz</td>\n",
       "      <td>민주당 \"윤 대통령, 수사거부로 시간끌기\"…한덕수 탄핵은 유보</td>\n",
       "      <td>2024.12.25. 오후 5:21</td>\n",
       "      <td>[야6당 의원들이 12일 오전 서울 여의도 국회 의안과에 윤석열 대통령 탄핵 소추안...</td>\n",
       "      <td>정광윤 기자(jky@sbs.co.kr)</td>\n",
       "    </tr>\n",
       "    <tr>\n",
       "      <th>...</th>\n",
       "      <td>...</td>\n",
       "      <td>...</td>\n",
       "      <td>...</td>\n",
       "      <td>...</td>\n",
       "      <td>...</td>\n",
       "    </tr>\n",
       "    <tr>\n",
       "      <th>264</th>\n",
       "      <td>뉴시스</td>\n",
       "      <td>트럼프 취임 목전인데…\"한국 대응은 마비 상태\"</td>\n",
       "      <td>2024.12.26. 오전 10:28</td>\n",
       "      <td>尹계엄 이후 정국 혼란에…\"가장 필요할 때 대응 못 해\"[피닉스=AP/뉴시스] 도널...</td>\n",
       "      <td>김난영 기자(imzero@newsis.com)</td>\n",
       "    </tr>\n",
       "    <tr>\n",
       "      <th>265</th>\n",
       "      <td>연합뉴스</td>\n",
       "      <td>지중해서 폭발후 침몰 러시아 화물선주 \"테러행위\" 주장</td>\n",
       "      <td>2024.12.26. 오전 10:27</td>\n",
       "      <td>러시아 화물선 우르사 메이저[로이터 연합뉴스 자료사진 재판매 및 DB 금지](서울=...</td>\n",
       "      <td>김계환(kp@yna.co.kr)</td>\n",
       "    </tr>\n",
       "    <tr>\n",
       "      <th>266</th>\n",
       "      <td>조선비즈</td>\n",
       "      <td>포드부터 암호화폐 기업까지, 트럼프 취임식 후원 나선 기업들</td>\n",
       "      <td>2024.12.26. 오전 10:26</td>\n",
       "      <td>2021년 1·6 의회 폭동 이후   정치 기부 중단 선언했던 기업들    트럼프 ...</td>\n",
       "      <td>정미하 기자 viva@chosunbiz.com</td>\n",
       "    </tr>\n",
       "    <tr>\n",
       "      <th>267</th>\n",
       "      <td>뉴시스</td>\n",
       "      <td>의회 폭동 이유 트럼프 지지 철회했던 기업들 속속 취임식 기부</td>\n",
       "      <td>2024.12.26. 오전 10:18</td>\n",
       "      <td>\"식탁에 앉지 못하면 메뉴판에 오른다\" 속담 따라 줄대기 성황100만 달러 기부하면...</td>\n",
       "      <td>강영진 기자(yjkang1@newsis.com)</td>\n",
       "    </tr>\n",
       "    <tr>\n",
       "      <th>268</th>\n",
       "      <td>한국경제TV</td>\n",
       "      <td>\"요즘 누가 그걸\"…다이아몬드의 굴욕</td>\n",
       "      <td>2024.12.26. 오전 10:17</td>\n",
       "      <td>'보석중의 보석'으로 꼽히던 다이아몬드 수요가 급격하게 줄면서 역대급 재고가 쌓이고...</td>\n",
       "      <td>김현경 기자 khkkim@wowtv.co.kr</td>\n",
       "    </tr>\n",
       "  </tbody>\n",
       "</table>\n",
       "<p>269 rows × 5 columns</p>\n",
       "</div>"
      ],
      "text/plain": [
       "       paper                                   title              datetime  \\\n",
       "0        KBS    박찬대 “한덕수, 국회 헌법재판관 임명동의안 처리 즉시 임명해야”   2024.12.26. 오전 9:48   \n",
       "1      아시아경제           국정협의체, '한덕수 탄핵' 변수…첫 회의부터 불투명   2024.12.25. 오후 5:51   \n",
       "2       이데일리                국민의힘, 헌법재판관 임명안 표결 불참 결정  2024.12.26. 오후 12:04   \n",
       "3        뉴시스  민주, 명태균 녹취 공개…\"윤에 대우조선 파업 당장 진압하라고 보고\"  2024.12.26. 오전 11:13   \n",
       "4    SBS Biz      민주당 \"윤 대통령, 수사거부로 시간끌기\"…한덕수 탄핵은 유보   2024.12.25. 오후 5:21   \n",
       "..       ...                                     ...                   ...   \n",
       "264      뉴시스              트럼프 취임 목전인데…\"한국 대응은 마비 상태\"  2024.12.26. 오전 10:28   \n",
       "265     연합뉴스          지중해서 폭발후 침몰 러시아 화물선주 \"테러행위\" 주장  2024.12.26. 오전 10:27   \n",
       "266     조선비즈       포드부터 암호화폐 기업까지, 트럼프 취임식 후원 나선 기업들  2024.12.26. 오전 10:26   \n",
       "267      뉴시스      의회 폭동 이유 트럼프 지지 철회했던 기업들 속속 취임식 기부  2024.12.26. 오전 10:18   \n",
       "268   한국경제TV                    \"요즘 누가 그걸\"…다이아몬드의 굴욕  2024.12.26. 오전 10:17   \n",
       "\n",
       "                                               writing  \\\n",
       "0    더불어민주당 박찬대 원내대표는 한덕수 대통령 권한대행 겸 국무총리를 향해 국회 본회...   \n",
       "1    野, 한덕수 탄핵소추안 발의 압박내일 첫 회의인데 협의 진전 없어\"향후 일정도 차례...   \n",
       "2    26일 오전 의원총회서 결정…의원 전원 불참에 만장일치권성동 “검사가 판사 고르는 ...   \n",
       "3    \"이영호 부사장 보고서 전달 받아 윤·김에 보고\"\"내가 보고한 직후 한덕수 총리가 ...   \n",
       "4    [야6당 의원들이 12일 오전 서울 여의도 국회 의안과에 윤석열 대통령 탄핵 소추안...   \n",
       "..                                                 ...   \n",
       "264  尹계엄 이후 정국 혼란에…\"가장 필요할 때 대응 못 해\"[피닉스=AP/뉴시스] 도널...   \n",
       "265  러시아 화물선 우르사 메이저[로이터 연합뉴스 자료사진 재판매 및 DB 금지](서울=...   \n",
       "266  2021년 1·6 의회 폭동 이후   정치 기부 중단 선언했던 기업들    트럼프 ...   \n",
       "267  \"식탁에 앉지 못하면 메뉴판에 오른다\" 속담 따라 줄대기 성황100만 달러 기부하면...   \n",
       "268  '보석중의 보석'으로 꼽히던 다이아몬드 수요가 급격하게 줄면서 역대급 재고가 쌓이고...   \n",
       "\n",
       "                         writer  \n",
       "0       손서영 (bellesy@kbs.co.kr)  \n",
       "1       장희준 기자 junh@asiae.co.kr  \n",
       "2     김응열(keynews@edaily.co.kr)  \n",
       "3     조재완 기자(wander@newsis.com)  \n",
       "4         정광윤 기자(jky@sbs.co.kr)  \n",
       "..                          ...  \n",
       "264   김난영 기자(imzero@newsis.com)  \n",
       "265           김계환(kp@yna.co.kr)  \n",
       "266   정미하 기자 viva@chosunbiz.com  \n",
       "267  강영진 기자(yjkang1@newsis.com)  \n",
       "268   김현경 기자 khkkim@wowtv.co.kr  \n",
       "\n",
       "[269 rows x 5 columns]"
      ]
     },
     "execution_count": 48,
     "metadata": {},
     "output_type": "execute_result"
    }
   ],
   "source": [
    "all_sub_news_info_df = pd.DataFrame({\"paper\":[], \n",
    "                                 \"title\":[], \n",
    "                                 \"datetime\":[], \n",
    "                                 \"writing\":[], \n",
    "                                 \"writer\":[]\n",
    "                                 })\n",
    "all_sub_news_info_df\n",
    "for url in all_topic_df[\"기사링크\"]:\n",
    "    tmp_df = pd.DataFrame(get_sub_news_info(url))\n",
    "    all_sub_news_info_df=pd.concat([all_sub_news_info_df, tmp_df], axis = 0, ignore_index=True)\n",
    "# 여기서 나오는 에러값은 요소의 길이중 1이 아닌 것이 있다는 얘기, writer가 공란인 경우가 있음\n",
    "all_sub_news_info_df"
   ]
  },
  {
   "cell_type": "code",
   "execution_count": 49,
   "id": "c535e4f1-01fb-4b6b-a4b2-78ab45626283",
   "metadata": {},
   "outputs": [],
   "source": [
    "all_sub_news_info_df.to_csv(\"./crawl_data/naver_sub_news_section.csv\", index=0, encoding=\"utf-8-sig\")"
   ]
  },
  {
   "cell_type": "code",
   "execution_count": null,
   "id": "383ae684-3ef8-4d5c-88f9-608dc6df033a",
   "metadata": {},
   "outputs": [],
   "source": []
  }
 ],
 "metadata": {
  "kernelspec": {
   "display_name": "“scrapSrc",
   "language": "python",
   "name": "scraping_source"
  },
  "language_info": {
   "codemirror_mode": {
    "name": "ipython",
    "version": 3
   },
   "file_extension": ".py",
   "mimetype": "text/x-python",
   "name": "python",
   "nbconvert_exporter": "python",
   "pygments_lexer": "ipython3",
   "version": "3.12.7"
  }
 },
 "nbformat": 4,
 "nbformat_minor": 5
}
