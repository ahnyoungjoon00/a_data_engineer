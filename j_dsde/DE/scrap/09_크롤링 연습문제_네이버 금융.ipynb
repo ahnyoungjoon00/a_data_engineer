{
 "cells": [
  {
   "cell_type": "markdown",
   "id": "04a520f5-d1cc-4118-8476-49f5807d37ab",
   "metadata": {},
   "source": [
    "### 크롤링 연습문제"
   ]
  },
  {
   "cell_type": "markdown",
   "id": "0eb0ec36-39ef-4f88-9fd8-7727477ae2f6",
   "metadata": {},
   "source": [
    "#### 문제 1\n",
    "- 네이버 금융 페이지에서 유가/환율/국제금 시세/국내금 시세 추출\n",
    "- url = 'https://finance.naver.com'"
   ]
  },
  {
   "cell_type": "code",
   "execution_count": 1,
   "id": "e3d826a1-746f-45f9-ba41-94ac48ea16b7",
   "metadata": {},
   "outputs": [],
   "source": [
    "from IPython.core.interactiveshell import InteractiveShell\n",
    "InteractiveShell.ast_node_interactivity=\"all\""
   ]
  },
  {
   "cell_type": "code",
   "execution_count": 11,
   "id": "6e4f03e7-c854-48b3-897b-1e290ae494f9",
   "metadata": {},
   "outputs": [],
   "source": [
    "# 네이버 증둰(금융)에서 환율 정보 읽어 오기\n",
    "\n",
    "from urllib.request import urlopen\n",
    "import bs4\n",
    "\n",
    "url = \"https://finance.naver.com/\"\n",
    "htmls = urlopen(url)\n",
    "\n",
    "bs_obj = bs4.BeautifulSoup(htmls, \"html.parser\")"
   ]
  },
  {
   "cell_type": "code",
   "execution_count": 52,
   "id": "e4dd21cb-b561-4e5c-9cf5-59d7150ff86f",
   "metadata": {},
   "outputs": [
    {
     "name": "stdout",
     "output_type": "stream",
     "text": [
      "유가 :  73.05\n",
      "USD :  1,401.30\n",
      "국제금 :  2,694.80\n",
      "국내금 :  117,774.92\n"
     ]
    }
   ],
   "source": []
  },
  {
   "cell_type": "code",
   "execution_count": null,
   "id": "70e695cd-2592-4f7f-92f4-b3d0b2de42d1",
   "metadata": {},
   "outputs": [],
   "source": []
  },
  {
   "cell_type": "markdown",
   "id": "0dd8fd18-8437-4e12-bc95-5ccef638860d",
   "metadata": {},
   "source": [
    "#### 문제 2\n",
    "- 네이버 증권 페이지에서 상한가 / 하한가 / 시가총액상위 기업 추출\n",
    "- url = \"http://finance.naver.com/sise/\""
   ]
  },
  {
   "cell_type": "code",
   "execution_count": 53,
   "id": "a764fbdb-a126-453f-b41b-26b6c18086ab",
   "metadata": {},
   "outputs": [],
   "source": [
    "url = \"http://finance.naver.com/sise/\"\n",
    "htmls = urlopen(url)\n",
    "bs_obj = bs4.BeautifulSoup(htmls, \"html.parser\")"
   ]
  },
  {
   "cell_type": "code",
   "execution_count": 55,
   "id": "b824df10-7dee-4eef-bfb3-f4be6a60c994",
   "metadata": {},
   "outputs": [
    {
     "name": "stdout",
     "output_type": "stream",
     "text": [
      "---------- 상한가 ----------\n",
      "1 삼부토건 = 1,274\n",
      "2 범양건영 = 1,314\n",
      "3 DS단석 = 166,700\n",
      "4 케이엔더블유 = 5,490\n",
      "5 LK삼양 = 3,395\n",
      "6 엔투텍 = 562\n",
      "7 테크트랜스 = 371\n",
      "8 지오릿에너지 = 1,287\n",
      "9 티엘엔지니어링 = 1,012\n"
     ]
    }
   ],
   "source": []
  },
  {
   "cell_type": "code",
   "execution_count": 60,
   "id": "f90f32d8-d1d4-4556-95d4-cfc0978bec75",
   "metadata": {},
   "outputs": [
    {
     "name": "stdout",
     "output_type": "stream",
     "text": [
      "\n",
      "----------- 하한가 -----------\n",
      "1 KC산업 = 1,173\n",
      "2 엔에스엠 = 677\n",
      "3 엘리비젼 = 473\n",
      "4 바이오텐 = 5,860\n"
     ]
    }
   ],
   "source": [
    "\n",
    " "
   ]
  },
  {
   "cell_type": "code",
   "execution_count": 62,
   "id": "6d13fccd-284c-4424-ad53-0a17a9bd5374",
   "metadata": {},
   "outputs": [
    {
     "name": "stdout",
     "output_type": "stream",
     "text": [
      "\n",
      "----------- 시가총액 상위 -----------\n",
      "1 삼성전자 = 55,000\n",
      "2 SK하이닉스 = 192,600\n",
      "3 LG에너지솔루션 = 416,000\n",
      "4 삼성바이오로직스 = 1,007,000\n",
      "5 현대차 = 211,000\n",
      "6 삼성전자우 = 46,000\n",
      "7 기아 = 94,600\n",
      "8 셀트리온 = 174,100\n",
      "9 KB금융 = 92,700\n",
      "10 신한지주 = 56,500\n"
     ]
    }
   ],
   "source": [
    "\n"
   ]
  },
  {
   "cell_type": "code",
   "execution_count": null,
   "id": "875bf67a-3571-411d-9bfa-40bd6372dfd4",
   "metadata": {},
   "outputs": [],
   "source": []
  }
 ],
 "metadata": {
  "kernelspec": {
   "display_name": "Python 3 (ipykernel)",
   "language": "python",
   "name": "python3"
  },
  "language_info": {
   "codemirror_mode": {
    "name": "ipython",
    "version": 3
   },
   "file_extension": ".py",
   "mimetype": "text/x-python",
   "name": "python",
   "nbconvert_exporter": "python",
   "pygments_lexer": "ipython3",
   "version": "3.12.7"
  }
 },
 "nbformat": 4,
 "nbformat_minor": 5
}
