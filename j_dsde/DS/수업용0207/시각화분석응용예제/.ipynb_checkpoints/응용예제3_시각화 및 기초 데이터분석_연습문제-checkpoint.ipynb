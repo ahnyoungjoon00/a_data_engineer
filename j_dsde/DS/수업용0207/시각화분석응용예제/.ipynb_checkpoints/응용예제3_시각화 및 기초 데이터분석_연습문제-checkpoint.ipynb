{
 "cells": [
  {
   "cell_type": "code",
   "execution_count": 1,
   "id": "87f76d20-496c-40d6-9ec0-42faf228dd0c",
   "metadata": {},
   "outputs": [],
   "source": [
    "# 한 셀에서 여러 변수 출력코드\n",
    "from IPython.core.interactiveshell import InteractiveShell\n",
    "InteractiveShell.ast_node_interactivity=\"all\"\n",
    "\n",
    "import matplotlib.pyplot as plt\n",
    "%matplotlib inline\n",
    "\n",
    "import pandas as pd\n",
    "import numpy as np"
   ]
  },
  {
   "cell_type": "code",
   "execution_count": 2,
   "id": "b1814fdb-f369-41fd-8e9d-adc30444fc1b",
   "metadata": {},
   "outputs": [],
   "source": [
    "# 한글 문제\n",
    "# matplotlib의 기본 폰트에서 한글이 지원되지 않기 때문에\n",
    "# matplotlib의 폰트 변경 필요\n",
    "import platform\n",
    "\n",
    "from matplotlib import font_manager, rc\n",
    "plt.rcParams['axes.unicode_minus'] = False\n",
    "\n",
    "if platform.system() == 'Darwin':  # 맥OS \n",
    "    rc('font', family='AppleGothic')\n",
    "elif platform.system() == 'Windows':  # 윈도우\n",
    "    path = \"c:/Windows/Fonts/malgun.ttf\"\n",
    "    font_name = font_manager.FontProperties(fname=path).get_name()\n",
    "    rc('font', family=font_name)\n",
    "else:\n",
    "    print('Unknown system...  sorry~~~')"
   ]
  },
  {
   "cell_type": "markdown",
   "id": "fc011574-797c-4308-9e92-95b2539524aa",
   "metadata": {},
   "source": [
    "---"
   ]
  },
  {
   "cell_type": "markdown",
   "id": "7048898e-06c5-4e5c-9b21-8a385b85f4e0",
   "metadata": {},
   "source": [
    "### 데이터 분석 기초 연습"
   ]
  },
  {
   "cell_type": "markdown",
   "id": "84557add-2955-4498-b97a-fab479205142",
   "metadata": {
    "tags": []
   },
   "source": [
    "#### 한국인의 삶 파악\n",
    "- '한국복지패널 데이터' 사용 "
   ]
  },
  {
   "cell_type": "code",
   "execution_count": 4,
   "id": "e1fd51f9-fa50-49aa-ad3f-d075d8ed2533",
   "metadata": {},
   "outputs": [
    {
     "data": {
      "text/html": [
       "<div>\n",
       "<style scoped>\n",
       "    .dataframe tbody tr th:only-of-type {\n",
       "        vertical-align: middle;\n",
       "    }\n",
       "\n",
       "    .dataframe tbody tr th {\n",
       "        vertical-align: top;\n",
       "    }\n",
       "\n",
       "    .dataframe thead th {\n",
       "        text-align: right;\n",
       "    }\n",
       "</style>\n",
       "<table border=\"1\" class=\"dataframe\">\n",
       "  <thead>\n",
       "    <tr style=\"text-align: right;\">\n",
       "      <th></th>\n",
       "      <th>h14_reg7</th>\n",
       "      <th>h14_g3</th>\n",
       "      <th>h14_g4</th>\n",
       "      <th>h14_g10</th>\n",
       "      <th>h14_g11</th>\n",
       "      <th>h14_eco9</th>\n",
       "      <th>p1402_8aq1</th>\n",
       "    </tr>\n",
       "  </thead>\n",
       "  <tbody>\n",
       "    <tr>\n",
       "      <th>0</th>\n",
       "      <td>1.0</td>\n",
       "      <td>2.0</td>\n",
       "      <td>1945.0</td>\n",
       "      <td>2.0</td>\n",
       "      <td>1.0</td>\n",
       "      <td>NaN</td>\n",
       "      <td>NaN</td>\n",
       "    </tr>\n",
       "    <tr>\n",
       "      <th>1</th>\n",
       "      <td>1.0</td>\n",
       "      <td>1.0</td>\n",
       "      <td>1948.0</td>\n",
       "      <td>2.0</td>\n",
       "      <td>2.0</td>\n",
       "      <td>NaN</td>\n",
       "      <td>NaN</td>\n",
       "    </tr>\n",
       "    <tr>\n",
       "      <th>2</th>\n",
       "      <td>1.0</td>\n",
       "      <td>1.0</td>\n",
       "      <td>1942.0</td>\n",
       "      <td>3.0</td>\n",
       "      <td>1.0</td>\n",
       "      <td>762.0</td>\n",
       "      <td>107.0</td>\n",
       "    </tr>\n",
       "    <tr>\n",
       "      <th>3</th>\n",
       "      <td>1.0</td>\n",
       "      <td>1.0</td>\n",
       "      <td>1962.0</td>\n",
       "      <td>1.0</td>\n",
       "      <td>1.0</td>\n",
       "      <td>855.0</td>\n",
       "      <td>192.0</td>\n",
       "    </tr>\n",
       "    <tr>\n",
       "      <th>4</th>\n",
       "      <td>1.0</td>\n",
       "      <td>2.0</td>\n",
       "      <td>1963.0</td>\n",
       "      <td>1.0</td>\n",
       "      <td>1.0</td>\n",
       "      <td>NaN</td>\n",
       "      <td>NaN</td>\n",
       "    </tr>\n",
       "  </tbody>\n",
       "</table>\n",
       "</div>"
      ],
      "text/plain": [
       "   h14_reg7  h14_g3  h14_g4  h14_g10  h14_g11  h14_eco9  p1402_8aq1\n",
       "0       1.0     2.0  1945.0      2.0      1.0       NaN         NaN\n",
       "1       1.0     1.0  1948.0      2.0      2.0       NaN         NaN\n",
       "2       1.0     1.0  1942.0      3.0      1.0     762.0       107.0\n",
       "3       1.0     1.0  1962.0      1.0      1.0     855.0       192.0\n",
       "4       1.0     2.0  1963.0      1.0      1.0       NaN         NaN"
      ]
     },
     "execution_count": 4,
     "metadata": {},
     "output_type": "execute_result"
    }
   ],
   "source": [
    "welfare = pd.read_csv('./data/Koweps_hpwc14_2019.csv',\n",
    "                     usecols = ['h14_g3', 'h14_g4','h14_g10', 'h14_g11', \n",
    "                                'p1402_8aq1','h14_eco9', 'h14_reg7'])\n",
    "welfare.head()"
   ]
  },
  {
   "cell_type": "code",
   "execution_count": 5,
   "id": "142595fc-6771-44c6-b8ef-844296291799",
   "metadata": {},
   "outputs": [
    {
     "name": "stdout",
     "output_type": "stream",
     "text": [
      "<class 'pandas.core.frame.DataFrame'>\n",
      "RangeIndex: 14418 entries, 0 to 14417\n",
      "Data columns (total 7 columns):\n",
      " #   Column      Non-Null Count  Dtype  \n",
      "---  ------      --------------  -----  \n",
      " 0   h14_reg7    14418 non-null  float64\n",
      " 1   h14_g3      14418 non-null  float64\n",
      " 2   h14_g4      14418 non-null  float64\n",
      " 3   h14_g10     14418 non-null  float64\n",
      " 4   h14_g11     14418 non-null  float64\n",
      " 5   h14_eco9    6878 non-null   float64\n",
      " 6   p1402_8aq1  4534 non-null   float64\n",
      "dtypes: float64(7)\n",
      "memory usage: 788.6 KB\n"
     ]
    }
   ],
   "source": [
    "# 데이터 확인\n",
    "welfare.info()"
   ]
  },
  {
   "cell_type": "code",
   "execution_count": null,
   "id": "461f4de6-364e-4aa2-aaab-7b040af204d1",
   "metadata": {},
   "outputs": [],
   "source": []
  },
  {
   "cell_type": "markdown",
   "id": "3c72cb13",
   "metadata": {},
   "source": [
    "#### 변수명 바꾸기"
   ]
  },
  {
   "cell_type": "code",
   "execution_count": 6,
   "id": "1b17969d",
   "metadata": {},
   "outputs": [
    {
     "data": {
      "text/html": [
       "<div>\n",
       "<style scoped>\n",
       "    .dataframe tbody tr th:only-of-type {\n",
       "        vertical-align: middle;\n",
       "    }\n",
       "\n",
       "    .dataframe tbody tr th {\n",
       "        vertical-align: top;\n",
       "    }\n",
       "\n",
       "    .dataframe thead th {\n",
       "        text-align: right;\n",
       "    }\n",
       "</style>\n",
       "<table border=\"1\" class=\"dataframe\">\n",
       "  <thead>\n",
       "    <tr style=\"text-align: right;\">\n",
       "      <th></th>\n",
       "      <th>code_region</th>\n",
       "      <th>sex</th>\n",
       "      <th>birth</th>\n",
       "      <th>marriage_type</th>\n",
       "      <th>religion</th>\n",
       "      <th>code_job</th>\n",
       "      <th>income</th>\n",
       "    </tr>\n",
       "  </thead>\n",
       "  <tbody>\n",
       "    <tr>\n",
       "      <th>0</th>\n",
       "      <td>1.0</td>\n",
       "      <td>2.0</td>\n",
       "      <td>1945.0</td>\n",
       "      <td>2.0</td>\n",
       "      <td>1.0</td>\n",
       "      <td>NaN</td>\n",
       "      <td>NaN</td>\n",
       "    </tr>\n",
       "    <tr>\n",
       "      <th>1</th>\n",
       "      <td>1.0</td>\n",
       "      <td>1.0</td>\n",
       "      <td>1948.0</td>\n",
       "      <td>2.0</td>\n",
       "      <td>2.0</td>\n",
       "      <td>NaN</td>\n",
       "      <td>NaN</td>\n",
       "    </tr>\n",
       "    <tr>\n",
       "      <th>2</th>\n",
       "      <td>1.0</td>\n",
       "      <td>1.0</td>\n",
       "      <td>1942.0</td>\n",
       "      <td>3.0</td>\n",
       "      <td>1.0</td>\n",
       "      <td>762.0</td>\n",
       "      <td>107.0</td>\n",
       "    </tr>\n",
       "    <tr>\n",
       "      <th>3</th>\n",
       "      <td>1.0</td>\n",
       "      <td>1.0</td>\n",
       "      <td>1962.0</td>\n",
       "      <td>1.0</td>\n",
       "      <td>1.0</td>\n",
       "      <td>855.0</td>\n",
       "      <td>192.0</td>\n",
       "    </tr>\n",
       "    <tr>\n",
       "      <th>4</th>\n",
       "      <td>1.0</td>\n",
       "      <td>2.0</td>\n",
       "      <td>1963.0</td>\n",
       "      <td>1.0</td>\n",
       "      <td>1.0</td>\n",
       "      <td>NaN</td>\n",
       "      <td>NaN</td>\n",
       "    </tr>\n",
       "  </tbody>\n",
       "</table>\n",
       "</div>"
      ],
      "text/plain": [
       "   code_region  sex   birth  marriage_type  religion  code_job  income\n",
       "0          1.0  2.0  1945.0            2.0       1.0       NaN     NaN\n",
       "1          1.0  1.0  1948.0            2.0       2.0       NaN     NaN\n",
       "2          1.0  1.0  1942.0            3.0       1.0     762.0   107.0\n",
       "3          1.0  1.0  1962.0            1.0       1.0     855.0   192.0\n",
       "4          1.0  2.0  1963.0            1.0       1.0       NaN     NaN"
      ]
     },
     "execution_count": 6,
     "metadata": {},
     "output_type": "execute_result"
    }
   ],
   "source": [
    "welfare2 = welfare.rename(columns = {'h14_g3'     : 'sex',            #  성별\n",
    "                                     'h14_g4'     : 'birth',          #  태어난 연도\n",
    "                                     'h14_g10'    : 'marriage_type',  #  혼인 상태\n",
    "                                     'h14_g11'    : 'religion',       #  종교 \n",
    "                                     'p1402_8aq1' : 'income',         #  월급 \n",
    "                                     'h14_eco9'   : 'code_job',       #  직업 코드\n",
    "                                     'h14_reg7'   : 'code_region'})   #  지역 코드\n",
    "welfare2.head()"
   ]
  },
  {
   "cell_type": "code",
   "execution_count": 64,
   "id": "98fc2a5a-5c47-4879-8796-9be4d1c3d7e4",
   "metadata": {},
   "outputs": [
    {
     "data": {
      "text/html": [
       "<div>\n",
       "<style scoped>\n",
       "    .dataframe tbody tr th:only-of-type {\n",
       "        vertical-align: middle;\n",
       "    }\n",
       "\n",
       "    .dataframe tbody tr th {\n",
       "        vertical-align: top;\n",
       "    }\n",
       "\n",
       "    .dataframe thead th {\n",
       "        text-align: right;\n",
       "    }\n",
       "</style>\n",
       "<table border=\"1\" class=\"dataframe\">\n",
       "  <thead>\n",
       "    <tr style=\"text-align: right;\">\n",
       "      <th></th>\n",
       "      <th>code_region</th>\n",
       "      <th>sex</th>\n",
       "      <th>birth</th>\n",
       "      <th>marriage_type</th>\n",
       "      <th>religion</th>\n",
       "      <th>code_job</th>\n",
       "      <th>income</th>\n",
       "    </tr>\n",
       "  </thead>\n",
       "  <tbody>\n",
       "    <tr>\n",
       "      <th>0</th>\n",
       "      <td>1.0</td>\n",
       "      <td>2.0</td>\n",
       "      <td>1945.0</td>\n",
       "      <td>2.0</td>\n",
       "      <td>1.0</td>\n",
       "      <td>NaN</td>\n",
       "      <td>NaN</td>\n",
       "    </tr>\n",
       "    <tr>\n",
       "      <th>1</th>\n",
       "      <td>1.0</td>\n",
       "      <td>1.0</td>\n",
       "      <td>1948.0</td>\n",
       "      <td>2.0</td>\n",
       "      <td>2.0</td>\n",
       "      <td>NaN</td>\n",
       "      <td>NaN</td>\n",
       "    </tr>\n",
       "    <tr>\n",
       "      <th>2</th>\n",
       "      <td>1.0</td>\n",
       "      <td>1.0</td>\n",
       "      <td>1942.0</td>\n",
       "      <td>3.0</td>\n",
       "      <td>1.0</td>\n",
       "      <td>762.0</td>\n",
       "      <td>107.0</td>\n",
       "    </tr>\n",
       "    <tr>\n",
       "      <th>3</th>\n",
       "      <td>1.0</td>\n",
       "      <td>1.0</td>\n",
       "      <td>1962.0</td>\n",
       "      <td>1.0</td>\n",
       "      <td>1.0</td>\n",
       "      <td>855.0</td>\n",
       "      <td>192.0</td>\n",
       "    </tr>\n",
       "    <tr>\n",
       "      <th>4</th>\n",
       "      <td>1.0</td>\n",
       "      <td>2.0</td>\n",
       "      <td>1963.0</td>\n",
       "      <td>1.0</td>\n",
       "      <td>1.0</td>\n",
       "      <td>NaN</td>\n",
       "      <td>NaN</td>\n",
       "    </tr>\n",
       "    <tr>\n",
       "      <th>...</th>\n",
       "      <td>...</td>\n",
       "      <td>...</td>\n",
       "      <td>...</td>\n",
       "      <td>...</td>\n",
       "      <td>...</td>\n",
       "      <td>...</td>\n",
       "      <td>...</td>\n",
       "    </tr>\n",
       "    <tr>\n",
       "      <th>14413</th>\n",
       "      <td>5.0</td>\n",
       "      <td>2.0</td>\n",
       "      <td>1967.0</td>\n",
       "      <td>1.0</td>\n",
       "      <td>1.0</td>\n",
       "      <td>NaN</td>\n",
       "      <td>NaN</td>\n",
       "    </tr>\n",
       "    <tr>\n",
       "      <th>14414</th>\n",
       "      <td>5.0</td>\n",
       "      <td>2.0</td>\n",
       "      <td>1992.0</td>\n",
       "      <td>5.0</td>\n",
       "      <td>1.0</td>\n",
       "      <td>NaN</td>\n",
       "      <td>NaN</td>\n",
       "    </tr>\n",
       "    <tr>\n",
       "      <th>14415</th>\n",
       "      <td>5.0</td>\n",
       "      <td>1.0</td>\n",
       "      <td>1995.0</td>\n",
       "      <td>5.0</td>\n",
       "      <td>1.0</td>\n",
       "      <td>910.0</td>\n",
       "      <td>NaN</td>\n",
       "    </tr>\n",
       "    <tr>\n",
       "      <th>14416</th>\n",
       "      <td>5.0</td>\n",
       "      <td>2.0</td>\n",
       "      <td>1998.0</td>\n",
       "      <td>5.0</td>\n",
       "      <td>1.0</td>\n",
       "      <td>246.0</td>\n",
       "      <td>200.0</td>\n",
       "    </tr>\n",
       "    <tr>\n",
       "      <th>14417</th>\n",
       "      <td>5.0</td>\n",
       "      <td>1.0</td>\n",
       "      <td>2001.0</td>\n",
       "      <td>0.0</td>\n",
       "      <td>1.0</td>\n",
       "      <td>NaN</td>\n",
       "      <td>NaN</td>\n",
       "    </tr>\n",
       "  </tbody>\n",
       "</table>\n",
       "<p>14418 rows × 7 columns</p>\n",
       "</div>"
      ],
      "text/plain": [
       "       code_region  sex   birth  marriage_type  religion  code_job  income\n",
       "0              1.0  2.0  1945.0            2.0       1.0       NaN     NaN\n",
       "1              1.0  1.0  1948.0            2.0       2.0       NaN     NaN\n",
       "2              1.0  1.0  1942.0            3.0       1.0     762.0   107.0\n",
       "3              1.0  1.0  1962.0            1.0       1.0     855.0   192.0\n",
       "4              1.0  2.0  1963.0            1.0       1.0       NaN     NaN\n",
       "...            ...  ...     ...            ...       ...       ...     ...\n",
       "14413          5.0  2.0  1967.0            1.0       1.0       NaN     NaN\n",
       "14414          5.0  2.0  1992.0            5.0       1.0       NaN     NaN\n",
       "14415          5.0  1.0  1995.0            5.0       1.0     910.0     NaN\n",
       "14416          5.0  2.0  1998.0            5.0       1.0     246.0   200.0\n",
       "14417          5.0  1.0  2001.0            0.0       1.0       NaN     NaN\n",
       "\n",
       "[14418 rows x 7 columns]"
      ]
     },
     "execution_count": 64,
     "metadata": {},
     "output_type": "execute_result"
    }
   ],
   "source": [
    "welfare_df = welfare2.copy()\n",
    "welfare_df"
   ]
  },
  {
   "cell_type": "markdown",
   "id": "4973e90e-181a-496c-a1ce-c42419ae51a3",
   "metadata": {},
   "source": [
    "#### (1) 성별에 따른 월급 차이 - 성별에 따라 월급이 다른지 확인 "
   ]
  },
  {
   "cell_type": "code",
   "execution_count": 65,
   "id": "2242db4a-6c5f-496a-8924-a151ffd0156d",
   "metadata": {},
   "outputs": [
    {
     "name": "stdout",
     "output_type": "stream",
     "text": [
      "남성평균월급 : 349.04\n",
      "여성평균월급 : 186.29\n"
     ]
    }
   ],
   "source": [
    "# 1: 남성\n",
    "# 2: 여성\n",
    "print(\"남성평균월급 :\", welfare_df[welfare_df[\"sex\"]==1][\"income\"].mean().round(2))\n",
    "print(\"여성평균월급 :\", welfare_df[welfare_df[\"sex\"]==2][\"income\"].mean().round(2))"
   ]
  },
  {
   "cell_type": "markdown",
   "id": "f86fab2e",
   "metadata": {},
   "source": [
    "#### (2) 나이와 월급의 관계 - 언제 급여가 가장 높은지 확인 \n"
   ]
  },
  {
   "cell_type": "code",
   "execution_count": 66,
   "id": "108ee32e-0ea3-4d03-886d-24f2e9b40c1a",
   "metadata": {},
   "outputs": [
    {
     "data": {
      "text/plain": [
       "array([1945., 1948., 1942., 1962., 1963., 2003., 1927., 1934., 1940.,\n",
       "       1970., 1992., 1941., 1978., 1975., 2004., 2008., 1964., 1982.,\n",
       "       1961., 1986., 1985., 1952., 1984., 1971., 1943., 1972., 1974.,\n",
       "       2006., 1980., 1954., 1973., 1926., 1936., 1968., 1976., 2010.,\n",
       "       2012., 1937., 2009., 1959., 1967., 1995., 1998., 1955., 1958.,\n",
       "       1994., 1999., 2007., 1950., 1956., 1930., 1938., 1991., 1989.,\n",
       "       1997., 1957., 1947., 1960., 1983., 1981., 1946., 1965., 2001.,\n",
       "       1988., 1979., 1987., 2013., 2017., 1996., 1933., 1935., 1953.,\n",
       "       1990., 1977., 2000., 2002., 2014., 1939., 1949., 2016., 1966.,\n",
       "       1969., 1925., 2011., 2015., 1932., 1951., 1944., 1993., 1929.,\n",
       "       2005., 1917., 2018., 1931., 1922., 1924., 1923., 1907., 1921.,\n",
       "       1928., 1919., 1920.])"
      ]
     },
     "execution_count": 66,
     "metadata": {},
     "output_type": "execute_result"
    },
    {
     "data": {
      "text/html": [
       "<div>\n",
       "<style scoped>\n",
       "    .dataframe tbody tr th:only-of-type {\n",
       "        vertical-align: middle;\n",
       "    }\n",
       "\n",
       "    .dataframe tbody tr th {\n",
       "        vertical-align: top;\n",
       "    }\n",
       "\n",
       "    .dataframe thead th {\n",
       "        text-align: right;\n",
       "    }\n",
       "</style>\n",
       "<table border=\"1\" class=\"dataframe\">\n",
       "  <thead>\n",
       "    <tr style=\"text-align: right;\">\n",
       "      <th></th>\n",
       "      <th>code_region</th>\n",
       "      <th>sex</th>\n",
       "      <th>birth</th>\n",
       "      <th>marriage_type</th>\n",
       "      <th>religion</th>\n",
       "      <th>code_job</th>\n",
       "      <th>income</th>\n",
       "      <th>age</th>\n",
       "    </tr>\n",
       "  </thead>\n",
       "  <tbody>\n",
       "    <tr>\n",
       "      <th>0</th>\n",
       "      <td>1.0</td>\n",
       "      <td>2.0</td>\n",
       "      <td>1945.0</td>\n",
       "      <td>2.0</td>\n",
       "      <td>1.0</td>\n",
       "      <td>NaN</td>\n",
       "      <td>NaN</td>\n",
       "      <td>80</td>\n",
       "    </tr>\n",
       "    <tr>\n",
       "      <th>1</th>\n",
       "      <td>1.0</td>\n",
       "      <td>1.0</td>\n",
       "      <td>1948.0</td>\n",
       "      <td>2.0</td>\n",
       "      <td>2.0</td>\n",
       "      <td>NaN</td>\n",
       "      <td>NaN</td>\n",
       "      <td>77</td>\n",
       "    </tr>\n",
       "    <tr>\n",
       "      <th>2</th>\n",
       "      <td>1.0</td>\n",
       "      <td>1.0</td>\n",
       "      <td>1942.0</td>\n",
       "      <td>3.0</td>\n",
       "      <td>1.0</td>\n",
       "      <td>762.0</td>\n",
       "      <td>107.0</td>\n",
       "      <td>83</td>\n",
       "    </tr>\n",
       "    <tr>\n",
       "      <th>3</th>\n",
       "      <td>1.0</td>\n",
       "      <td>1.0</td>\n",
       "      <td>1962.0</td>\n",
       "      <td>1.0</td>\n",
       "      <td>1.0</td>\n",
       "      <td>855.0</td>\n",
       "      <td>192.0</td>\n",
       "      <td>63</td>\n",
       "    </tr>\n",
       "    <tr>\n",
       "      <th>4</th>\n",
       "      <td>1.0</td>\n",
       "      <td>2.0</td>\n",
       "      <td>1963.0</td>\n",
       "      <td>1.0</td>\n",
       "      <td>1.0</td>\n",
       "      <td>NaN</td>\n",
       "      <td>NaN</td>\n",
       "      <td>62</td>\n",
       "    </tr>\n",
       "  </tbody>\n",
       "</table>\n",
       "</div>"
      ],
      "text/plain": [
       "   code_region  sex   birth  marriage_type  religion  code_job  income  age\n",
       "0          1.0  2.0  1945.0            2.0       1.0       NaN     NaN   80\n",
       "1          1.0  1.0  1948.0            2.0       2.0       NaN     NaN   77\n",
       "2          1.0  1.0  1942.0            3.0       1.0     762.0   107.0   83\n",
       "3          1.0  1.0  1962.0            1.0       1.0     855.0   192.0   63\n",
       "4          1.0  2.0  1963.0            1.0       1.0       NaN     NaN   62"
      ]
     },
     "execution_count": 66,
     "metadata": {},
     "output_type": "execute_result"
    }
   ],
   "source": [
    "welfare_df[\"birth\"].unique()\n",
    "welfare_df[\"age\"] = (2025 - welfare_df[\"birth\"]).astype(int)\n",
    "welfare_df.head()"
   ]
  },
  {
   "cell_type": "code",
   "execution_count": 69,
   "id": "937bf15d-8354-4c64-94ec-5cb4d87da857",
   "metadata": {},
   "outputs": [
    {
     "data": {
      "text/plain": [
       "<seaborn.axisgrid.FacetGrid at 0x27d8271f4d0>"
      ]
     },
     "execution_count": 69,
     "metadata": {},
     "output_type": "execute_result"
    },
    {
     "data": {
      "image/png": "[encoded data removed]",
      "text/plain": [
       "<Figure size 500x500 with 1 Axes>"
      ]
     },
     "metadata": {},
     "output_type": "display_data"
    }
   ],
   "source": [
    "import seaborn as sns\n",
    "\n",
    "sns.lmplot(x=\"age\", y=\"income\", data=welfare_df)"
   ]
  },
  {
   "cell_type": "code",
   "execution_count": 84,
   "id": "7a340223-7a7d-4efe-ab08-2034fd6dd8a4",
   "metadata": {},
   "outputs": [
    {
     "data": {
      "text/plain": [
       "age\n",
       "49    386.195876\n",
       "53    379.827586\n",
       "55    368.539683\n",
       "Name: income, dtype: float64"
      ]
     },
     "execution_count": 84,
     "metadata": {},
     "output_type": "execute_result"
    }
   ],
   "source": [
    "ageIncome = welfare_df.groupby(\"age\")[\"income\"].mean()\n",
    "ageIncome.sort_values(ascending=False).head(3)"
   ]
  },
  {
   "cell_type": "code",
   "execution_count": 85,
   "id": "a36c89c9-a273-46a4-b6b7-207f3877d81a",
   "metadata": {},
   "outputs": [
    {
     "data": {
      "text/html": [
       "<div>\n",
       "<style scoped>\n",
       "    .dataframe tbody tr th:only-of-type {\n",
       "        vertical-align: middle;\n",
       "    }\n",
       "\n",
       "    .dataframe tbody tr th {\n",
       "        vertical-align: top;\n",
       "    }\n",
       "\n",
       "    .dataframe thead th {\n",
       "        text-align: right;\n",
       "    }\n",
       "</style>\n",
       "<table border=\"1\" class=\"dataframe\">\n",
       "  <thead>\n",
       "    <tr style=\"text-align: right;\">\n",
       "      <th></th>\n",
       "      <th>income</th>\n",
       "    </tr>\n",
       "    <tr>\n",
       "      <th>age</th>\n",
       "      <th></th>\n",
       "    </tr>\n",
       "  </thead>\n",
       "  <tbody>\n",
       "    <tr>\n",
       "      <th>49</th>\n",
       "      <td>386.195876</td>\n",
       "    </tr>\n",
       "    <tr>\n",
       "      <th>53</th>\n",
       "      <td>379.827586</td>\n",
       "    </tr>\n",
       "    <tr>\n",
       "      <th>55</th>\n",
       "      <td>368.539683</td>\n",
       "    </tr>\n",
       "  </tbody>\n",
       "</table>\n",
       "</div>"
      ],
      "text/plain": [
       "         income\n",
       "age            \n",
       "49   386.195876\n",
       "53   379.827586\n",
       "55   368.539683"
      ]
     },
     "execution_count": 85,
     "metadata": {},
     "output_type": "execute_result"
    }
   ],
   "source": [
    "ageIncome = pd.DataFrame(welfare_df.groupby(\"age\")[\"income\"].mean())\n",
    "ageIncome.sort_values(by =\"income\", ascending=False).head(3)"
   ]
  },
  {
   "cell_type": "code",
   "execution_count": 74,
   "id": "7addd5ba-00e7-4818-8aa5-52285077a953",
   "metadata": {},
   "outputs": [
    {
     "name": "stdout",
     "output_type": "stream",
     "text": [
      "2018.0\n"
     ]
    }
   ],
   "source": [
    "print(welfare_df[\"birth\"].max())"
   ]
  },
  {
   "cell_type": "markdown",
   "id": "59c6bae6-39cf-47bb-91c9-4b3c2e73dba2",
   "metadata": {},
   "source": [
    "#### (3) 연령대에 따른 월급 차이 - 어떤 연령대의 월급이 가장 많은지 확인"
   ]
  },
  {
   "cell_type": "markdown",
   "id": "715b3e44-88d8-4020-b996-9944107d96d4",
   "metadata": {},
   "source": [
    "- 파생변수 만들기 - 연령대¶  \n",
    "- 연령대에 따른 월급 차이 분석  \n",
    "- 시각화 해서 확인  "
   ]
  },
  {
   "cell_type": "code",
   "execution_count": 75,
   "id": "0563f056-d572-4fce-a7d3-4367bd78ffdc",
   "metadata": {},
   "outputs": [],
   "source": [
    "welfare_df[\"연령대\"] =  welfare_df[\"age\"] // 10 * 10"
   ]
  },
  {
   "cell_type": "code",
   "execution_count": null,
   "id": "60555a0b-6278-4e80-9d0f-c04109ae6212",
   "metadata": {},
   "outputs": [],
   "source": [
    "welfare_df[\"연령대\"]"
   ]
  },
  {
   "cell_type": "code",
   "execution_count": 80,
   "id": "4f2d9bbb-eb5e-4f55-b4c5-bddefa254dbb",
   "metadata": {},
   "outputs": [
    {
     "data": {
      "text/plain": [
       "118      0\n",
       "157      0\n",
       "164      0\n",
       "360      0\n",
       "365      0\n",
       "        ..\n",
       "14077    0\n",
       "14223    0\n",
       "14281    0\n",
       "14330    0\n",
       "14342    0\n",
       "Name: 연령대, Length: 185, dtype: int64"
      ]
     },
     "execution_count": 80,
     "metadata": {},
     "output_type": "execute_result"
    },
    {
     "data": {
      "text/plain": [
       "array([nan])"
      ]
     },
     "execution_count": 80,
     "metadata": {},
     "output_type": "execute_result"
    }
   ],
   "source": [
    "welfare_df[welfare_df[\"age\"]<10][\"연령대\"]\n",
    "welfare_df[welfare_df[\"age\"]<10][\"income\"].unique()"
   ]
  },
  {
   "cell_type": "code",
   "execution_count": 86,
   "id": "43cd0de9-fff1-44cd-b992-da89bf4079d7",
   "metadata": {},
   "outputs": [
    {
     "data": {
      "text/plain": [
       "연령대\n",
       "50    351.883117\n",
       "40    334.201699\n",
       "60    277.910968\n",
       "Name: income, dtype: float64"
      ]
     },
     "execution_count": 86,
     "metadata": {},
     "output_type": "execute_result"
    }
   ],
   "source": [
    "ageRangeInc = welfare_df.groupby(\"연령대\")[\"income\"].mean()\n",
    "ageRangeInc.sort_values(ascending=False).head(3)"
   ]
  },
  {
   "cell_type": "code",
   "execution_count": 87,
   "id": "cf33b8ff-8890-4a53-a03f-1495a80e797e",
   "metadata": {},
   "outputs": [
    {
     "data": {
      "text/html": [
       "<div>\n",
       "<style scoped>\n",
       "    .dataframe tbody tr th:only-of-type {\n",
       "        vertical-align: middle;\n",
       "    }\n",
       "\n",
       "    .dataframe tbody tr th {\n",
       "        vertical-align: top;\n",
       "    }\n",
       "\n",
       "    .dataframe thead th {\n",
       "        text-align: right;\n",
       "    }\n",
       "</style>\n",
       "<table border=\"1\" class=\"dataframe\">\n",
       "  <thead>\n",
       "    <tr style=\"text-align: right;\">\n",
       "      <th></th>\n",
       "      <th>income</th>\n",
       "    </tr>\n",
       "    <tr>\n",
       "      <th>연령대</th>\n",
       "      <th></th>\n",
       "    </tr>\n",
       "  </thead>\n",
       "  <tbody>\n",
       "    <tr>\n",
       "      <th>50</th>\n",
       "      <td>351.883117</td>\n",
       "    </tr>\n",
       "    <tr>\n",
       "      <th>40</th>\n",
       "      <td>334.201699</td>\n",
       "    </tr>\n",
       "    <tr>\n",
       "      <th>60</th>\n",
       "      <td>277.910968</td>\n",
       "    </tr>\n",
       "  </tbody>\n",
       "</table>\n",
       "</div>"
      ],
      "text/plain": [
       "         income\n",
       "연령대            \n",
       "50   351.883117\n",
       "40   334.201699\n",
       "60   277.910968"
      ]
     },
     "execution_count": 87,
     "metadata": {},
     "output_type": "execute_result"
    }
   ],
   "source": [
    "ageRangeInc = pd.DataFrame(welfare_df.groupby(\"연령대\")[\"income\"].mean())\n",
    "ageRangeInc.sort_values(by =\"income\", ascending=False).head(3)"
   ]
  },
  {
   "cell_type": "markdown",
   "id": "bf9714f1",
   "metadata": {
    "toc-hr-collapsed": true
   },
   "source": [
    "#### (4) 연령대 및 성별 월급 차이 - 성별 월급 차이는 연령대별로 다른지 확인 \n"
   ]
  },
  {
   "cell_type": "code",
   "execution_count": 97,
   "id": "b0c9ed08-9969-4391-8279-c65a58591703",
   "metadata": {},
   "outputs": [],
   "source": [
    "ageRangeSex = pd.DataFrame(welfare_df.groupby([\"연령대\", \"sex\"])[\"income\"].mean())\n",
    "ageSexFin = ageRangeSex.reset_index().dropna()"
   ]
  },
  {
   "cell_type": "code",
   "execution_count": 128,
   "id": "781f3a71-7c13-4c43-9c1b-48a61e72f5de",
   "metadata": {},
   "outputs": [
    {
     "data": {
      "text/html": [
       "<div>\n",
       "<style scoped>\n",
       "    .dataframe tbody tr th:only-of-type {\n",
       "        vertical-align: middle;\n",
       "    }\n",
       "\n",
       "    .dataframe tbody tr th {\n",
       "        vertical-align: top;\n",
       "    }\n",
       "\n",
       "    .dataframe thead th {\n",
       "        text-align: right;\n",
       "    }\n",
       "</style>\n",
       "<table border=\"1\" class=\"dataframe\">\n",
       "  <thead>\n",
       "    <tr style=\"text-align: right;\">\n",
       "      <th>sex</th>\n",
       "      <th>1.0</th>\n",
       "      <th>2.0</th>\n",
       "      <th>diff</th>\n",
       "    </tr>\n",
       "    <tr>\n",
       "      <th>연령대</th>\n",
       "      <th></th>\n",
       "      <th></th>\n",
       "      <th></th>\n",
       "    </tr>\n",
       "  </thead>\n",
       "  <tbody>\n",
       "    <tr>\n",
       "      <th>50</th>\n",
       "      <td>450.053968</td>\n",
       "      <td>234.078095</td>\n",
       "      <td>215.975873</td>\n",
       "    </tr>\n",
       "    <tr>\n",
       "      <th>60</th>\n",
       "      <td>377.130326</td>\n",
       "      <td>172.622340</td>\n",
       "      <td>204.507985</td>\n",
       "    </tr>\n",
       "    <tr>\n",
       "      <th>40</th>\n",
       "      <td>399.794545</td>\n",
       "      <td>242.170918</td>\n",
       "      <td>157.623627</td>\n",
       "    </tr>\n",
       "    <tr>\n",
       "      <th>70</th>\n",
       "      <td>192.247191</td>\n",
       "      <td>95.085714</td>\n",
       "      <td>97.161477</td>\n",
       "    </tr>\n",
       "    <tr>\n",
       "      <th>80</th>\n",
       "      <td>69.495327</td>\n",
       "      <td>37.211957</td>\n",
       "      <td>32.283371</td>\n",
       "    </tr>\n",
       "    <tr>\n",
       "      <th>30</th>\n",
       "      <td>255.259067</td>\n",
       "      <td>226.846348</td>\n",
       "      <td>28.412720</td>\n",
       "    </tr>\n",
       "    <tr>\n",
       "      <th>20</th>\n",
       "      <td>156.310345</td>\n",
       "      <td>144.128713</td>\n",
       "      <td>12.181632</td>\n",
       "    </tr>\n",
       "    <tr>\n",
       "      <th>90</th>\n",
       "      <td>33.200000</td>\n",
       "      <td>29.680000</td>\n",
       "      <td>3.520000</td>\n",
       "    </tr>\n",
       "  </tbody>\n",
       "</table>\n",
       "</div>"
      ],
      "text/plain": [
       "sex         1.0         2.0        diff\n",
       "연령대                                    \n",
       "50   450.053968  234.078095  215.975873\n",
       "60   377.130326  172.622340  204.507985\n",
       "40   399.794545  242.170918  157.623627\n",
       "70   192.247191   95.085714   97.161477\n",
       "80    69.495327   37.211957   32.283371\n",
       "30   255.259067  226.846348   28.412720\n",
       "20   156.310345  144.128713   12.181632\n",
       "90    33.200000   29.680000    3.520000"
      ]
     },
     "execution_count": 128,
     "metadata": {},
     "output_type": "execute_result"
    }
   ],
   "source": [
    "ageSexpivot = ageSexFin.pivot(index=\"연령대\", columns=\"sex\", values=\"income\")\n",
    "ageSexpivot[\"diff\"] =  np.abs(ageSexpivot[1.0] - ageSexpivot[2.0])\n",
    "ageSexpivot.sort_values(by=\"diff\", ascending=False)"
   ]
  },
  {
   "cell_type": "code",
   "execution_count": null,
   "id": "8ca9f9f1-dc95-4da9-b139-cc6745c3f8cd",
   "metadata": {},
   "outputs": [],
   "source": []
  }
 ],
 "metadata": {
  "jupytext": {
   "cell_metadata_filter": "eval,name,warning,cache,tags,echo,message,-all",
   "notebook_metadata_filter": "-all"
  },
  "kernelspec": {
   "display_name": "Python 3 (ipykernel)",
   "language": "python",
   "name": "python3"
  },
  "language_info": {
   "codemirror_mode": {
    "name": "ipython",
    "version": 3
   },
   "file_extension": ".py",
   "mimetype": "text/x-python",
   "name": "python",
   "nbconvert_exporter": "python",
   "pygments_lexer": "ipython3",
   "version": "3.13.1"
  }
 },
 "nbformat": 4,
 "nbformat_minor": 5
}
