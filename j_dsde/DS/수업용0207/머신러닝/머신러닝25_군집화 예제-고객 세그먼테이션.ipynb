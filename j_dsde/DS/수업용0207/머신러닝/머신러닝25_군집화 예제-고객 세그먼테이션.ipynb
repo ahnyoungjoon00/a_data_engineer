{
 "cells": [
  {
   "cell_type": "markdown",
   "id": "726a5ad2",
   "metadata": {},
   "source": [
    "## 군집화 실습\n",
    "- 고객 세그먼테이션 (Custoemr Segmentation)"
   ]
  },
  {
   "cell_type": "markdown",
   "id": "cbbaf8f1",
   "metadata": {},
   "source": [
    "고객 세그먼테이션\n",
    "\n",
    "\n",
    "고객 분류 요소\n"
   ]
  },
  {
   "cell_type": "markdown",
   "id": "ba61f9fb",
   "metadata": {},
   "source": [
    "고객 세그먼테이션의 주요 목표 : 타깃 마케팅\n",
    "    \n"
   ]
  },
  {
   "cell_type": "markdown",
   "id": "6dc7d27f",
   "metadata": {},
   "source": [
    "고객 세그먼테이션 군집화\n",
    "- 고객의 어떤 요소를 기반으로 군집화할 것인가를 결정하는 것이 중요\n",
    "- 예제 : 기본적인 고객 분석 요소인 FRM 기법 이용 \n",
    "\n",
    "FRM 기법\n",
    "- Recency(R)  \n",
    "- Frequency(F)  \n",
    "- Monetary Value(M) "
   ]
  },
  {
   "cell_type": "markdown",
   "id": "95c5691b",
   "metadata": {},
   "source": [
    "### 고객 세그먼테이션 예제 \n",
    "- 온라인 판매 데이터를 기반으로  \n",
    "    - 고객 세그먼테이션을 군집화 기반으로 수행  \n",
    "\n",
    "사용 데이터 \n",
    "- UCI : Machine Learning Repository에서 다운로드\n",
    "- http://archive.ics.uci.edu/ml/datasets/online+retail\n",
    "- Datasets \n",
    "- Online Retail.xslx\n",
    "- 제품 주문 데이터 세트  "
   ]
  },
  {
   "cell_type": "markdown",
   "id": "f3e847e6",
   "metadata": {},
   "source": [
    "### 고객 세그먼테이션 군집화 과정\n",
    "\n",
    "- 데이터 세트 로딩과 데이터 클린징\n",
    "\n",
    "- RFM 기반 데이터 가공\n",
    "\n",
    "- RFM 기반 고객 세그먼테이션\n"
   ]
  },
  {
   "cell_type": "markdown",
   "id": "e30449d4",
   "metadata": {},
   "source": [
    "### 데이터 세트 로딩과 전처리 작업"
   ]
  },
  {
   "cell_type": "code",
   "execution_count": 2,
   "id": "747a5d3a-f19b-4565-a209-576798cb5650",
   "metadata": {},
   "outputs": [],
   "source": [
    "# !pip install openpyxl\n",
    "# 아마콘다 가상환경에서 설치"
   ]
  },
  {
   "cell_type": "code",
   "execution_count": 3,
   "id": "bfe31a4c-77b4-4222-b0fd-ebb7433e39f9",
   "metadata": {},
   "outputs": [],
   "source": [
    "from IPython.core.interactiveshell import InteractiveShell\n",
    "InteractiveShell.ast_node_interactivity=\"all\"\n",
    "\n",
    "import pandas as pd\n",
    "import numpy as np\n",
    "import datetime\n",
    "import matplotlib.pyplot as plt\n",
    "%matplotlib inline"
   ]
  },
  {
   "cell_type": "code",
   "execution_count": 4,
   "id": "c4176c84",
   "metadata": {},
   "outputs": [
    {
     "data": {
      "text/html": [
       "<div>\n",
       "<style scoped>\n",
       "    .dataframe tbody tr th:only-of-type {\n",
       "        vertical-align: middle;\n",
       "    }\n",
       "\n",
       "    .dataframe tbody tr th {\n",
       "        vertical-align: top;\n",
       "    }\n",
       "\n",
       "    .dataframe thead th {\n",
       "        text-align: right;\n",
       "    }\n",
       "</style>\n",
       "<table border=\"1\" class=\"dataframe\">\n",
       "  <thead>\n",
       "    <tr style=\"text-align: right;\">\n",
       "      <th></th>\n",
       "      <th>InvoiceNo</th>\n",
       "      <th>StockCode</th>\n",
       "      <th>Description</th>\n",
       "      <th>Quantity</th>\n",
       "      <th>InvoiceDate</th>\n",
       "      <th>UnitPrice</th>\n",
       "      <th>CustomerID</th>\n",
       "      <th>Country</th>\n",
       "    </tr>\n",
       "  </thead>\n",
       "  <tbody>\n",
       "    <tr>\n",
       "      <th>0</th>\n",
       "      <td>536365</td>\n",
       "      <td>85123A</td>\n",
       "      <td>WHITE HANGING HEART T-LIGHT HOLDER</td>\n",
       "      <td>6</td>\n",
       "      <td>2010-12-01 08:26:00</td>\n",
       "      <td>2.55</td>\n",
       "      <td>17850.0</td>\n",
       "      <td>United Kingdom</td>\n",
       "    </tr>\n",
       "    <tr>\n",
       "      <th>1</th>\n",
       "      <td>536365</td>\n",
       "      <td>71053</td>\n",
       "      <td>WHITE METAL LANTERN</td>\n",
       "      <td>6</td>\n",
       "      <td>2010-12-01 08:26:00</td>\n",
       "      <td>3.39</td>\n",
       "      <td>17850.0</td>\n",
       "      <td>United Kingdom</td>\n",
       "    </tr>\n",
       "    <tr>\n",
       "      <th>2</th>\n",
       "      <td>536365</td>\n",
       "      <td>84406B</td>\n",
       "      <td>CREAM CUPID HEARTS COAT HANGER</td>\n",
       "      <td>8</td>\n",
       "      <td>2010-12-01 08:26:00</td>\n",
       "      <td>2.75</td>\n",
       "      <td>17850.0</td>\n",
       "      <td>United Kingdom</td>\n",
       "    </tr>\n",
       "    <tr>\n",
       "      <th>3</th>\n",
       "      <td>536365</td>\n",
       "      <td>84029G</td>\n",
       "      <td>KNITTED UNION FLAG HOT WATER BOTTLE</td>\n",
       "      <td>6</td>\n",
       "      <td>2010-12-01 08:26:00</td>\n",
       "      <td>3.39</td>\n",
       "      <td>17850.0</td>\n",
       "      <td>United Kingdom</td>\n",
       "    </tr>\n",
       "    <tr>\n",
       "      <th>4</th>\n",
       "      <td>536365</td>\n",
       "      <td>84029E</td>\n",
       "      <td>RED WOOLLY HOTTIE WHITE HEART.</td>\n",
       "      <td>6</td>\n",
       "      <td>2010-12-01 08:26:00</td>\n",
       "      <td>3.39</td>\n",
       "      <td>17850.0</td>\n",
       "      <td>United Kingdom</td>\n",
       "    </tr>\n",
       "  </tbody>\n",
       "</table>\n",
       "</div>"
      ],
      "text/plain": [
       "  InvoiceNo StockCode                          Description  Quantity  \\\n",
       "0    536365    85123A   WHITE HANGING HEART T-LIGHT HOLDER         6   \n",
       "1    536365     71053                  WHITE METAL LANTERN         6   \n",
       "2    536365    84406B       CREAM CUPID HEARTS COAT HANGER         8   \n",
       "3    536365    84029G  KNITTED UNION FLAG HOT WATER BOTTLE         6   \n",
       "4    536365    84029E       RED WOOLLY HOTTIE WHITE HEART.         6   \n",
       "\n",
       "          InvoiceDate  UnitPrice  CustomerID         Country  \n",
       "0 2010-12-01 08:26:00       2.55     17850.0  United Kingdom  \n",
       "1 2010-12-01 08:26:00       3.39     17850.0  United Kingdom  \n",
       "2 2010-12-01 08:26:00       2.75     17850.0  United Kingdom  \n",
       "3 2010-12-01 08:26:00       3.39     17850.0  United Kingdom  \n",
       "4 2010-12-01 08:26:00       3.39     17850.0  United Kingdom  "
      ]
     },
     "execution_count": 4,
     "metadata": {},
     "output_type": "execute_result"
    },
    {
     "data": {
      "text/html": [
       "<div>\n",
       "<style scoped>\n",
       "    .dataframe tbody tr th:only-of-type {\n",
       "        vertical-align: middle;\n",
       "    }\n",
       "\n",
       "    .dataframe tbody tr th {\n",
       "        vertical-align: top;\n",
       "    }\n",
       "\n",
       "    .dataframe thead th {\n",
       "        text-align: right;\n",
       "    }\n",
       "</style>\n",
       "<table border=\"1\" class=\"dataframe\">\n",
       "  <thead>\n",
       "    <tr style=\"text-align: right;\">\n",
       "      <th></th>\n",
       "      <th>InvoiceNo</th>\n",
       "      <th>StockCode</th>\n",
       "      <th>Description</th>\n",
       "      <th>Quantity</th>\n",
       "      <th>InvoiceDate</th>\n",
       "      <th>UnitPrice</th>\n",
       "      <th>CustomerID</th>\n",
       "      <th>Country</th>\n",
       "    </tr>\n",
       "  </thead>\n",
       "  <tbody>\n",
       "    <tr>\n",
       "      <th>541904</th>\n",
       "      <td>581587</td>\n",
       "      <td>22613</td>\n",
       "      <td>PACK OF 20 SPACEBOY NAPKINS</td>\n",
       "      <td>12</td>\n",
       "      <td>2011-12-09 12:50:00</td>\n",
       "      <td>0.85</td>\n",
       "      <td>12680.0</td>\n",
       "      <td>France</td>\n",
       "    </tr>\n",
       "    <tr>\n",
       "      <th>541905</th>\n",
       "      <td>581587</td>\n",
       "      <td>22899</td>\n",
       "      <td>CHILDREN'S APRON DOLLY GIRL</td>\n",
       "      <td>6</td>\n",
       "      <td>2011-12-09 12:50:00</td>\n",
       "      <td>2.10</td>\n",
       "      <td>12680.0</td>\n",
       "      <td>France</td>\n",
       "    </tr>\n",
       "    <tr>\n",
       "      <th>541906</th>\n",
       "      <td>581587</td>\n",
       "      <td>23254</td>\n",
       "      <td>CHILDRENS CUTLERY DOLLY GIRL</td>\n",
       "      <td>4</td>\n",
       "      <td>2011-12-09 12:50:00</td>\n",
       "      <td>4.15</td>\n",
       "      <td>12680.0</td>\n",
       "      <td>France</td>\n",
       "    </tr>\n",
       "    <tr>\n",
       "      <th>541907</th>\n",
       "      <td>581587</td>\n",
       "      <td>23255</td>\n",
       "      <td>CHILDRENS CUTLERY CIRCUS PARADE</td>\n",
       "      <td>4</td>\n",
       "      <td>2011-12-09 12:50:00</td>\n",
       "      <td>4.15</td>\n",
       "      <td>12680.0</td>\n",
       "      <td>France</td>\n",
       "    </tr>\n",
       "    <tr>\n",
       "      <th>541908</th>\n",
       "      <td>581587</td>\n",
       "      <td>22138</td>\n",
       "      <td>BAKING SET 9 PIECE RETROSPOT</td>\n",
       "      <td>3</td>\n",
       "      <td>2011-12-09 12:50:00</td>\n",
       "      <td>4.95</td>\n",
       "      <td>12680.0</td>\n",
       "      <td>France</td>\n",
       "    </tr>\n",
       "  </tbody>\n",
       "</table>\n",
       "</div>"
      ],
      "text/plain": [
       "       InvoiceNo StockCode                      Description  Quantity  \\\n",
       "541904    581587     22613      PACK OF 20 SPACEBOY NAPKINS        12   \n",
       "541905    581587     22899     CHILDREN'S APRON DOLLY GIRL          6   \n",
       "541906    581587     23254    CHILDRENS CUTLERY DOLLY GIRL          4   \n",
       "541907    581587     23255  CHILDRENS CUTLERY CIRCUS PARADE         4   \n",
       "541908    581587     22138    BAKING SET 9 PIECE RETROSPOT          3   \n",
       "\n",
       "               InvoiceDate  UnitPrice  CustomerID Country  \n",
       "541904 2011-12-09 12:50:00       0.85     12680.0  France  \n",
       "541905 2011-12-09 12:50:00       2.10     12680.0  France  \n",
       "541906 2011-12-09 12:50:00       4.15     12680.0  France  \n",
       "541907 2011-12-09 12:50:00       4.15     12680.0  France  \n",
       "541908 2011-12-09 12:50:00       4.95     12680.0  France  "
      ]
     },
     "execution_count": 4,
     "metadata": {},
     "output_type": "execute_result"
    }
   ],
   "source": [
    "retail_df_origin = pd.read_excel('./data/Online Retail.xlsx')\n",
    "retail_df_origin.head()\n",
    "retail_df_origin.tail()"
   ]
  },
  {
   "cell_type": "code",
   "execution_count": 5,
   "id": "30ce036f-08c3-418c-8b37-a98d8d4cb146",
   "metadata": {},
   "outputs": [],
   "source": [
    "retail_df = retail_df_origin.copy()"
   ]
  },
  {
   "cell_type": "code",
   "execution_count": null,
   "id": "6a820fbe-7c86-4a91-9614-00dba910705d",
   "metadata": {},
   "outputs": [
    {
     "name": "stdout",
     "output_type": "stream",
     "text": [
      "<class 'pandas.core.frame.DataFrame'>\n",
      "RangeIndex: 541909 entries, 0 to 541908\n",
      "Data columns (total 8 columns):\n",
      " #   Column       Non-Null Count   Dtype         \n",
      "---  ------       --------------   -----         \n",
      " 0   InvoiceNo    541909 non-null  object        \n",
      " 1   StockCode    541909 non-null  object        \n",
      " 2   Description  540455 non-null  object        \n",
      " 3   Quantity     541909 non-null  int64         \n",
      " 4   InvoiceDate  541909 non-null  datetime64[ns]\n",
      " 5   UnitPrice    541909 non-null  float64       \n",
      " 6   CustomerID   406829 non-null  float64       \n",
      " 7   Country      541909 non-null  object        \n",
      "dtypes: datetime64[ns](1), float64(2), int64(1), object(4)\n",
      "memory usage: 33.1+ MB\n"
     ]
    }
   ],
   "source": [
    "# 데이터 확인\n"
   ]
  },
  {
   "cell_type": "code",
   "execution_count": null,
   "id": "a4aa89d6-ad7c-45ee-b2fe-4bc5f69a0b00",
   "metadata": {},
   "outputs": [],
   "source": []
  },
  {
   "cell_type": "code",
   "execution_count": null,
   "id": "240a5530",
   "metadata": {},
   "outputs": [
    {
     "data": {
      "text/html": [
       "<div>\n",
       "<style scoped>\n",
       "    .dataframe tbody tr th:only-of-type {\n",
       "        vertical-align: middle;\n",
       "    }\n",
       "\n",
       "    .dataframe tbody tr th {\n",
       "        vertical-align: top;\n",
       "    }\n",
       "\n",
       "    .dataframe thead th {\n",
       "        text-align: right;\n",
       "    }\n",
       "</style>\n",
       "<table border=\"1\" class=\"dataframe\">\n",
       "  <thead>\n",
       "    <tr style=\"text-align: right;\">\n",
       "      <th></th>\n",
       "      <th>Quantity</th>\n",
       "      <th>InvoiceDate</th>\n",
       "      <th>UnitPrice</th>\n",
       "      <th>CustomerID</th>\n",
       "    </tr>\n",
       "  </thead>\n",
       "  <tbody>\n",
       "    <tr>\n",
       "      <th>count</th>\n",
       "      <td>541909.000000</td>\n",
       "      <td>541909</td>\n",
       "      <td>541909.000000</td>\n",
       "      <td>406829.000000</td>\n",
       "    </tr>\n",
       "    <tr>\n",
       "      <th>mean</th>\n",
       "      <td>9.552250</td>\n",
       "      <td>2011-07-04 13:34:57.156386048</td>\n",
       "      <td>4.611114</td>\n",
       "      <td>15287.690570</td>\n",
       "    </tr>\n",
       "    <tr>\n",
       "      <th>min</th>\n",
       "      <td>-80995.000000</td>\n",
       "      <td>2010-12-01 08:26:00</td>\n",
       "      <td>-11062.060000</td>\n",
       "      <td>12346.000000</td>\n",
       "    </tr>\n",
       "    <tr>\n",
       "      <th>25%</th>\n",
       "      <td>1.000000</td>\n",
       "      <td>2011-03-28 11:34:00</td>\n",
       "      <td>1.250000</td>\n",
       "      <td>13953.000000</td>\n",
       "    </tr>\n",
       "    <tr>\n",
       "      <th>50%</th>\n",
       "      <td>3.000000</td>\n",
       "      <td>2011-07-19 17:17:00</td>\n",
       "      <td>2.080000</td>\n",
       "      <td>15152.000000</td>\n",
       "    </tr>\n",
       "    <tr>\n",
       "      <th>75%</th>\n",
       "      <td>10.000000</td>\n",
       "      <td>2011-10-19 11:27:00</td>\n",
       "      <td>4.130000</td>\n",
       "      <td>16791.000000</td>\n",
       "    </tr>\n",
       "    <tr>\n",
       "      <th>max</th>\n",
       "      <td>80995.000000</td>\n",
       "      <td>2011-12-09 12:50:00</td>\n",
       "      <td>38970.000000</td>\n",
       "      <td>18287.000000</td>\n",
       "    </tr>\n",
       "    <tr>\n",
       "      <th>std</th>\n",
       "      <td>218.081158</td>\n",
       "      <td>NaN</td>\n",
       "      <td>96.759853</td>\n",
       "      <td>1713.600303</td>\n",
       "    </tr>\n",
       "  </tbody>\n",
       "</table>\n",
       "</div>"
      ],
      "text/plain": [
       "            Quantity                    InvoiceDate      UnitPrice  \\\n",
       "count  541909.000000                         541909  541909.000000   \n",
       "mean        9.552250  2011-07-04 13:34:57.156386048       4.611114   \n",
       "min    -80995.000000            2010-12-01 08:26:00  -11062.060000   \n",
       "25%         1.000000            2011-03-28 11:34:00       1.250000   \n",
       "50%         3.000000            2011-07-19 17:17:00       2.080000   \n",
       "75%        10.000000            2011-10-19 11:27:00       4.130000   \n",
       "max     80995.000000            2011-12-09 12:50:00   38970.000000   \n",
       "std       218.081158                            NaN      96.759853   \n",
       "\n",
       "          CustomerID  \n",
       "count  406829.000000  \n",
       "mean    15287.690570  \n",
       "min     12346.000000  \n",
       "25%     13953.000000  \n",
       "50%     15152.000000  \n",
       "75%     16791.000000  \n",
       "max     18287.000000  \n",
       "std      1713.600303  "
      ]
     },
     "execution_count": 8,
     "metadata": {},
     "output_type": "execute_result"
    }
   ],
   "source": [
    "# 기초 통계 정보 확인"
   ]
  },
  {
   "cell_type": "code",
   "execution_count": null,
   "id": "b44deaae",
   "metadata": {},
   "outputs": [
    {
     "data": {
      "text/html": [
       "<div>\n",
       "<style scoped>\n",
       "    .dataframe tbody tr th:only-of-type {\n",
       "        vertical-align: middle;\n",
       "    }\n",
       "\n",
       "    .dataframe tbody tr th {\n",
       "        vertical-align: top;\n",
       "    }\n",
       "\n",
       "    .dataframe thead th {\n",
       "        text-align: right;\n",
       "    }\n",
       "</style>\n",
       "<table border=\"1\" class=\"dataframe\">\n",
       "  <thead>\n",
       "    <tr style=\"text-align: right;\">\n",
       "      <th></th>\n",
       "      <th>InvoiceNo</th>\n",
       "      <th>StockCode</th>\n",
       "      <th>Description</th>\n",
       "      <th>Quantity</th>\n",
       "      <th>InvoiceDate</th>\n",
       "      <th>UnitPrice</th>\n",
       "      <th>CustomerID</th>\n",
       "      <th>Country</th>\n",
       "    </tr>\n",
       "  </thead>\n",
       "  <tbody>\n",
       "    <tr>\n",
       "      <th>141</th>\n",
       "      <td>C536379</td>\n",
       "      <td>D</td>\n",
       "      <td>Discount</td>\n",
       "      <td>-1</td>\n",
       "      <td>2010-12-01 09:41:00</td>\n",
       "      <td>27.50</td>\n",
       "      <td>14527.0</td>\n",
       "      <td>United Kingdom</td>\n",
       "    </tr>\n",
       "    <tr>\n",
       "      <th>154</th>\n",
       "      <td>C536383</td>\n",
       "      <td>35004C</td>\n",
       "      <td>SET OF 3 COLOURED  FLYING DUCKS</td>\n",
       "      <td>-1</td>\n",
       "      <td>2010-12-01 09:49:00</td>\n",
       "      <td>4.65</td>\n",
       "      <td>15311.0</td>\n",
       "      <td>United Kingdom</td>\n",
       "    </tr>\n",
       "    <tr>\n",
       "      <th>235</th>\n",
       "      <td>C536391</td>\n",
       "      <td>22556</td>\n",
       "      <td>PLASTERS IN TIN CIRCUS PARADE</td>\n",
       "      <td>-12</td>\n",
       "      <td>2010-12-01 10:24:00</td>\n",
       "      <td>1.65</td>\n",
       "      <td>17548.0</td>\n",
       "      <td>United Kingdom</td>\n",
       "    </tr>\n",
       "    <tr>\n",
       "      <th>236</th>\n",
       "      <td>C536391</td>\n",
       "      <td>21984</td>\n",
       "      <td>PACK OF 12 PINK PAISLEY TISSUES</td>\n",
       "      <td>-24</td>\n",
       "      <td>2010-12-01 10:24:00</td>\n",
       "      <td>0.29</td>\n",
       "      <td>17548.0</td>\n",
       "      <td>United Kingdom</td>\n",
       "    </tr>\n",
       "    <tr>\n",
       "      <th>237</th>\n",
       "      <td>C536391</td>\n",
       "      <td>21983</td>\n",
       "      <td>PACK OF 12 BLUE PAISLEY TISSUES</td>\n",
       "      <td>-24</td>\n",
       "      <td>2010-12-01 10:24:00</td>\n",
       "      <td>0.29</td>\n",
       "      <td>17548.0</td>\n",
       "      <td>United Kingdom</td>\n",
       "    </tr>\n",
       "    <tr>\n",
       "      <th>...</th>\n",
       "      <td>...</td>\n",
       "      <td>...</td>\n",
       "      <td>...</td>\n",
       "      <td>...</td>\n",
       "      <td>...</td>\n",
       "      <td>...</td>\n",
       "      <td>...</td>\n",
       "      <td>...</td>\n",
       "    </tr>\n",
       "    <tr>\n",
       "      <th>540449</th>\n",
       "      <td>C581490</td>\n",
       "      <td>23144</td>\n",
       "      <td>ZINC T-LIGHT HOLDER STARS SMALL</td>\n",
       "      <td>-11</td>\n",
       "      <td>2011-12-09 09:57:00</td>\n",
       "      <td>0.83</td>\n",
       "      <td>14397.0</td>\n",
       "      <td>United Kingdom</td>\n",
       "    </tr>\n",
       "    <tr>\n",
       "      <th>541541</th>\n",
       "      <td>C581499</td>\n",
       "      <td>M</td>\n",
       "      <td>Manual</td>\n",
       "      <td>-1</td>\n",
       "      <td>2011-12-09 10:28:00</td>\n",
       "      <td>224.69</td>\n",
       "      <td>15498.0</td>\n",
       "      <td>United Kingdom</td>\n",
       "    </tr>\n",
       "    <tr>\n",
       "      <th>541715</th>\n",
       "      <td>C581568</td>\n",
       "      <td>21258</td>\n",
       "      <td>VICTORIAN SEWING BOX LARGE</td>\n",
       "      <td>-5</td>\n",
       "      <td>2011-12-09 11:57:00</td>\n",
       "      <td>10.95</td>\n",
       "      <td>15311.0</td>\n",
       "      <td>United Kingdom</td>\n",
       "    </tr>\n",
       "    <tr>\n",
       "      <th>541716</th>\n",
       "      <td>C581569</td>\n",
       "      <td>84978</td>\n",
       "      <td>HANGING HEART JAR T-LIGHT HOLDER</td>\n",
       "      <td>-1</td>\n",
       "      <td>2011-12-09 11:58:00</td>\n",
       "      <td>1.25</td>\n",
       "      <td>17315.0</td>\n",
       "      <td>United Kingdom</td>\n",
       "    </tr>\n",
       "    <tr>\n",
       "      <th>541717</th>\n",
       "      <td>C581569</td>\n",
       "      <td>20979</td>\n",
       "      <td>36 PENCILS TUBE RED RETROSPOT</td>\n",
       "      <td>-5</td>\n",
       "      <td>2011-12-09 11:58:00</td>\n",
       "      <td>1.25</td>\n",
       "      <td>17315.0</td>\n",
       "      <td>United Kingdom</td>\n",
       "    </tr>\n",
       "  </tbody>\n",
       "</table>\n",
       "<p>10624 rows × 8 columns</p>\n",
       "</div>"
      ],
      "text/plain": [
       "       InvoiceNo StockCode                       Description  Quantity  \\\n",
       "141      C536379         D                          Discount        -1   \n",
       "154      C536383    35004C   SET OF 3 COLOURED  FLYING DUCKS        -1   \n",
       "235      C536391     22556    PLASTERS IN TIN CIRCUS PARADE        -12   \n",
       "236      C536391     21984  PACK OF 12 PINK PAISLEY TISSUES        -24   \n",
       "237      C536391     21983  PACK OF 12 BLUE PAISLEY TISSUES        -24   \n",
       "...          ...       ...                               ...       ...   \n",
       "540449   C581490     23144   ZINC T-LIGHT HOLDER STARS SMALL       -11   \n",
       "541541   C581499         M                            Manual        -1   \n",
       "541715   C581568     21258        VICTORIAN SEWING BOX LARGE        -5   \n",
       "541716   C581569     84978  HANGING HEART JAR T-LIGHT HOLDER        -1   \n",
       "541717   C581569     20979     36 PENCILS TUBE RED RETROSPOT        -5   \n",
       "\n",
       "               InvoiceDate  UnitPrice  CustomerID         Country  \n",
       "141    2010-12-01 09:41:00      27.50     14527.0  United Kingdom  \n",
       "154    2010-12-01 09:49:00       4.65     15311.0  United Kingdom  \n",
       "235    2010-12-01 10:24:00       1.65     17548.0  United Kingdom  \n",
       "236    2010-12-01 10:24:00       0.29     17548.0  United Kingdom  \n",
       "237    2010-12-01 10:24:00       0.29     17548.0  United Kingdom  \n",
       "...                    ...        ...         ...             ...  \n",
       "540449 2011-12-09 09:57:00       0.83     14397.0  United Kingdom  \n",
       "541541 2011-12-09 10:28:00     224.69     15498.0  United Kingdom  \n",
       "541715 2011-12-09 11:57:00      10.95     15311.0  United Kingdom  \n",
       "541716 2011-12-09 11:58:00       1.25     17315.0  United Kingdom  \n",
       "541717 2011-12-09 11:58:00       1.25     17315.0  United Kingdom  \n",
       "\n",
       "[10624 rows x 8 columns]"
      ]
     },
     "execution_count": 9,
     "metadata": {},
     "output_type": "execute_result"
    }
   ],
   "source": [
    "# 주문수량이 음수 있는지 확인 : 음수인 데이터 출력\n"
   ]
  },
  {
   "cell_type": "code",
   "execution_count": null,
   "id": "6216bd13",
   "metadata": {},
   "outputs": [
    {
     "data": {
      "text/html": [
       "<div>\n",
       "<style scoped>\n",
       "    .dataframe tbody tr th:only-of-type {\n",
       "        vertical-align: middle;\n",
       "    }\n",
       "\n",
       "    .dataframe tbody tr th {\n",
       "        vertical-align: top;\n",
       "    }\n",
       "\n",
       "    .dataframe thead th {\n",
       "        text-align: right;\n",
       "    }\n",
       "</style>\n",
       "<table border=\"1\" class=\"dataframe\">\n",
       "  <thead>\n",
       "    <tr style=\"text-align: right;\">\n",
       "      <th></th>\n",
       "      <th>InvoiceNo</th>\n",
       "      <th>StockCode</th>\n",
       "      <th>Description</th>\n",
       "      <th>Quantity</th>\n",
       "      <th>InvoiceDate</th>\n",
       "      <th>UnitPrice</th>\n",
       "      <th>CustomerID</th>\n",
       "      <th>Country</th>\n",
       "    </tr>\n",
       "  </thead>\n",
       "  <tbody>\n",
       "    <tr>\n",
       "      <th>299983</th>\n",
       "      <td>A563186</td>\n",
       "      <td>B</td>\n",
       "      <td>Adjust bad debt</td>\n",
       "      <td>1</td>\n",
       "      <td>2011-08-12 14:51:00</td>\n",
       "      <td>-11062.06</td>\n",
       "      <td>NaN</td>\n",
       "      <td>United Kingdom</td>\n",
       "    </tr>\n",
       "    <tr>\n",
       "      <th>299984</th>\n",
       "      <td>A563187</td>\n",
       "      <td>B</td>\n",
       "      <td>Adjust bad debt</td>\n",
       "      <td>1</td>\n",
       "      <td>2011-08-12 14:52:00</td>\n",
       "      <td>-11062.06</td>\n",
       "      <td>NaN</td>\n",
       "      <td>United Kingdom</td>\n",
       "    </tr>\n",
       "  </tbody>\n",
       "</table>\n",
       "</div>"
      ],
      "text/plain": [
       "       InvoiceNo StockCode      Description  Quantity         InvoiceDate  \\\n",
       "299983   A563186         B  Adjust bad debt         1 2011-08-12 14:51:00   \n",
       "299984   A563187         B  Adjust bad debt         1 2011-08-12 14:52:00   \n",
       "\n",
       "        UnitPrice  CustomerID         Country  \n",
       "299983  -11062.06         NaN  United Kingdom  \n",
       "299984  -11062.06         NaN  United Kingdom  "
      ]
     },
     "execution_count": 10,
     "metadata": {},
     "output_type": "execute_result"
    }
   ],
   "source": [
    "# 가격이 음수 있는지 확인 : 음수인 데이터 출력\n"
   ]
  },
  {
   "cell_type": "markdown",
   "id": "05ac4d06",
   "metadata": {},
   "source": [
    "### 전처리 작업 필요\n",
    "\n",
    "- CustomerID   \n",
    "\n",
    "- Quantity와 UnitPrice에 음수값 존재 (반품)  \n"
   ]
  },
  {
   "cell_type": "markdown",
   "id": "41858ab7",
   "metadata": {},
   "source": [
    "#### 음수값, CustomerID가 Null인 데이터, 영국 이외의 국가 데이터는 제외"
   ]
  },
  {
   "cell_type": "code",
   "execution_count": null,
   "id": "ccdb0f4f",
   "metadata": {},
   "outputs": [
    {
     "data": {
      "text/plain": [
       "(397884, 8)"
      ]
     },
     "execution_count": 11,
     "metadata": {},
     "output_type": "execute_result"
    },
    {
     "data": {
      "text/plain": [
       "InvoiceNo      0\n",
       "StockCode      0\n",
       "Description    0\n",
       "Quantity       0\n",
       "InvoiceDate    0\n",
       "UnitPrice      0\n",
       "CustomerID     0\n",
       "Country        0\n",
       "dtype: int64"
      ]
     },
     "execution_count": 11,
     "metadata": {},
     "output_type": "execute_result"
    }
   ],
   "source": [
    "# Quantity와 UnitPrice에 음수값 포함된 데이터와  CustomerID가 Null삭제\n",
    "\n",
    "\n",
    "\n",
    "# 크기 확인\n",
    "retail_df.shape\n",
    "\n",
    "# null 있는지 확인\n",
    "retail_df.isnull().sum()\n"
   ]
  },
  {
   "cell_type": "code",
   "execution_count": 12,
   "id": "a9a044ac-e769-4cf0-9259-19fb164ab7ae",
   "metadata": {},
   "outputs": [
    {
     "data": {
      "text/plain": [
       "Country\n",
       "United Kingdom    354321\n",
       "Germany             9040\n",
       "France              8341\n",
       "EIRE                7236\n",
       "Spain               2484\n",
       "Name: count, dtype: int64"
      ]
     },
     "execution_count": 12,
     "metadata": {},
     "output_type": "execute_result"
    }
   ],
   "source": [
    "# 주문 고객 나라별 주문수 확인\n",
    "# 각 나라별 몇 건씩 있는 지 확인\n",
    "retail_df['Country'].value_counts()[:5]"
   ]
  },
  {
   "cell_type": "code",
   "execution_count": null,
   "id": "d7cc5a6b-3c54-4a7c-9622-f7dfa282d063",
   "metadata": {},
   "outputs": [
    {
     "data": {
      "text/plain": [
       "(354321, 8)"
      ]
     },
     "execution_count": 13,
     "metadata": {},
     "output_type": "execute_result"
    },
    {
     "data": {
      "text/plain": [
       "Country\n",
       "United Kingdom    354321\n",
       "Name: count, dtype: int64"
      ]
     },
     "execution_count": 13,
     "metadata": {},
     "output_type": "execute_result"
    }
   ],
   "source": [
    "# 영국 외의 다른 국가 삭제\n"
   ]
  },
  {
   "cell_type": "code",
   "execution_count": null,
   "id": "a4dd964d-3d05-4923-9b90-10bf403fd5c8",
   "metadata": {},
   "outputs": [],
   "source": []
  },
  {
   "cell_type": "markdown",
   "id": "d4c7c3df",
   "metadata": {},
   "source": [
    "### RFM 기반 데이터 가공\n",
    "\n",
    "- 고객 세그먼테이션 군집화를 RFM 기반으로 수행하는 데 필요한 데이터 가공  \n",
    "- Recency, Frequency, Monetary  "
   ]
  },
  {
   "cell_type": "code",
   "execution_count": null,
   "id": "1fe216e7",
   "metadata": {},
   "outputs": [
    {
     "data": {
      "text/html": [
       "<div>\n",
       "<style scoped>\n",
       "    .dataframe tbody tr th:only-of-type {\n",
       "        vertical-align: middle;\n",
       "    }\n",
       "\n",
       "    .dataframe tbody tr th {\n",
       "        vertical-align: top;\n",
       "    }\n",
       "\n",
       "    .dataframe thead th {\n",
       "        text-align: right;\n",
       "    }\n",
       "</style>\n",
       "<table border=\"1\" class=\"dataframe\">\n",
       "  <thead>\n",
       "    <tr style=\"text-align: right;\">\n",
       "      <th></th>\n",
       "      <th>InvoiceNo</th>\n",
       "      <th>StockCode</th>\n",
       "      <th>Description</th>\n",
       "      <th>Quantity</th>\n",
       "      <th>InvoiceDate</th>\n",
       "      <th>UnitPrice</th>\n",
       "      <th>CustomerID</th>\n",
       "      <th>Country</th>\n",
       "      <th>SaleAmount</th>\n",
       "    </tr>\n",
       "  </thead>\n",
       "  <tbody>\n",
       "    <tr>\n",
       "      <th>0</th>\n",
       "      <td>536365</td>\n",
       "      <td>85123A</td>\n",
       "      <td>WHITE HANGING HEART T-LIGHT HOLDER</td>\n",
       "      <td>6</td>\n",
       "      <td>2010-12-01 08:26:00</td>\n",
       "      <td>2.55</td>\n",
       "      <td>17850.0</td>\n",
       "      <td>United Kingdom</td>\n",
       "      <td>15.30</td>\n",
       "    </tr>\n",
       "    <tr>\n",
       "      <th>1</th>\n",
       "      <td>536365</td>\n",
       "      <td>71053</td>\n",
       "      <td>WHITE METAL LANTERN</td>\n",
       "      <td>6</td>\n",
       "      <td>2010-12-01 08:26:00</td>\n",
       "      <td>3.39</td>\n",
       "      <td>17850.0</td>\n",
       "      <td>United Kingdom</td>\n",
       "      <td>20.34</td>\n",
       "    </tr>\n",
       "  </tbody>\n",
       "</table>\n",
       "</div>"
      ],
      "text/plain": [
       "  InvoiceNo StockCode                         Description  Quantity  \\\n",
       "0    536365    85123A  WHITE HANGING HEART T-LIGHT HOLDER         6   \n",
       "1    536365     71053                 WHITE METAL LANTERN         6   \n",
       "\n",
       "          InvoiceDate  UnitPrice  CustomerID         Country  SaleAmount  \n",
       "0 2010-12-01 08:26:00       2.55     17850.0  United Kingdom       15.30  \n",
       "1 2010-12-01 08:26:00       3.39     17850.0  United Kingdom       20.34  "
      ]
     },
     "execution_count": 14,
     "metadata": {},
     "output_type": "execute_result"
    }
   ],
   "source": [
    "# 구매 금액 계산해서 df에 추가\n",
    "retail_df['SaleAmount'] =  \n",
    "retail_df.head(2)"
   ]
  },
  {
   "cell_type": "code",
   "execution_count": null,
   "id": "a378589b",
   "metadata": {},
   "outputs": [
    {
     "data": {
      "text/plain": [
       "0    17850\n",
       "1    17850\n",
       "Name: CustomerID, dtype: int32"
      ]
     },
     "execution_count": 15,
     "metadata": {},
     "output_type": "execute_result"
    }
   ],
   "source": [
    "# 고객번호 (CustomerID) 수치인데 float : Null 값이 포함되어 있기 때문\n",
    "# 고객번호가 Null 인 데이터 삭제했으로\n",
    "# 고객번호 (CustomerID)를 편리하게 식별하기 위해 float형을 int 형으로 변환\n",
    "retail_df['CustomerID'] = \n",
    "retail_df['CustomerID'].head(2)"
   ]
  },
  {
   "cell_type": "code",
   "execution_count": null,
   "id": "be4a87b1",
   "metadata": {},
   "outputs": [
    {
     "data": {
      "text/plain": [
       "3920"
      ]
     },
     "execution_count": 16,
     "metadata": {},
     "output_type": "execute_result"
    }
   ],
   "source": [
    "# 주문한 적이 있는 고객 수 확인\n",
    "# 주문한 적이 있는 고객 : 주문 df에 존재하는 고객\n"
   ]
  },
  {
   "cell_type": "code",
   "execution_count": null,
   "id": "723b1a9d",
   "metadata": {},
   "outputs": [
    {
     "data": {
      "text/plain": [
       "CustomerID\n",
       "17841    7847\n",
       "14096    5111\n",
       "12748    4595\n",
       "14606    2700\n",
       "15311    2379\n",
       "Name: count, dtype: int64"
      ]
     },
     "execution_count": 17,
     "metadata": {},
     "output_type": "execute_result"
    }
   ],
   "source": [
    "# 고객별 주문 건수 확인 : 상위 5위 확인\n"
   ]
  },
  {
   "cell_type": "code",
   "execution_count": null,
   "id": "ce6a7a49",
   "metadata": {},
   "outputs": [
    {
     "data": {
      "text/plain": [
       "CustomerID\n",
       "17752    1\n",
       "16742    1\n",
       "13120    1\n",
       "16144    1\n",
       "17956    1\n",
       "Name: count, dtype: int64"
      ]
     },
     "execution_count": 18,
     "metadata": {},
     "output_type": "execute_result"
    }
   ],
   "source": [
    "# 고객별 주문 건수 확인 : 하위 5위 확인\n"
   ]
  },
  {
   "cell_type": "code",
   "execution_count": null,
   "id": "1b2d96f6",
   "metadata": {},
   "outputs": [
    {
     "data": {
      "text/plain": [
       "CustomerID\n",
       "18102    259657.30\n",
       "17450    194550.79\n",
       "16446    168472.50\n",
       "17511     91062.38\n",
       "16029     81024.84\n",
       "Name: SaleAmount, dtype: float64"
      ]
     },
     "execution_count": 19,
     "metadata": {},
     "output_type": "execute_result"
    }
   ],
   "source": [
    "# 고객별 주문액 상위 5위 확인 \n"
   ]
  },
  {
   "cell_type": "markdown",
   "id": "ff4e05f5",
   "metadata": {},
   "source": [
    "### 식별자 확인\n",
    "- 식별자 확인 : InvoiceNo + StockCode\n",
    "    - InvoiceNo StockCode\n",
    "    - 536365    85123A\n",
    "    - 536365    71053\n",
    "    - 536365    84406B"
   ]
  },
  {
   "cell_type": "code",
   "execution_count": null,
   "id": "a74350d3-ad51-4a6b-bc7a-7d8e0d79c474",
   "metadata": {},
   "outputs": [
    {
     "data": {
      "text/plain": [
       "1.028702077315023"
      ]
     },
     "execution_count": 20,
     "metadata": {},
     "output_type": "execute_result"
    }
   ],
   "source": []
  },
  {
   "cell_type": "code",
   "execution_count": null,
   "id": "7b0f6401",
   "metadata": {},
   "outputs": [],
   "source": []
  },
  {
   "cell_type": "markdown",
   "id": "7072936f",
   "metadata": {},
   "source": [
    "### RFM 기반의 고객 세그먼테이션 수행 방향\n",
    "- 지금 수행하려는 RFM 기반의 고객 세그먼테이션은\n",
    "    - 고객 레벨로 주문기간, 주문횟수, 주문금액 데이터를 기반으로 해서  \n",
    "    - 세그먼테이션 수행  \n",
    "\n",
    "    - 따라서 주문번호+제품코드 기준의 데이터를 \n",
    "        - 고객 기준의 Recency, Frequency, Monetary value 데이터로 변경 필요 \n",
    "\n",
    "    --> 주문번호 기준의 데이터를 개별 고객 기준의 데이터로 Group By 수행    \n",
    "        - 현재의 retail_df 데이터 프레임에 CustomerID로 Group By를 해서  \n",
    "        - CustomerID 기준으로 데이터 프레임 새로 생성  \n",
    "---\n",
    "- 그런데 DataFrame의 groupby()만 사용해서   \n",
    "- 여러 개의 칼럼에 서로 다른 aggregation(count(), max(), sum()) 연산을 한 번에 수행하기 어려움  \n",
    "- DataFrame의 groupby()의 multiple 연산을 위해 agg() 사용\n",
    "- InvoiceNo 1개가 주문 1건 : 주문횟수 count()  \n",
    "- InvoiceDate 최근 주문날짜 : max()  \n",
    "- SaleAmout 주문 금액 : sum()  "
   ]
  },
  {
   "cell_type": "code",
   "execution_count": null,
   "id": "1edb1a07-f68f-4c4a-941b-3a1f037393c6",
   "metadata": {},
   "outputs": [
    {
     "data": {
      "text/html": [
       "<div>\n",
       "<style scoped>\n",
       "    .dataframe tbody tr th:only-of-type {\n",
       "        vertical-align: middle;\n",
       "    }\n",
       "\n",
       "    .dataframe tbody tr th {\n",
       "        vertical-align: top;\n",
       "    }\n",
       "\n",
       "    .dataframe thead th {\n",
       "        text-align: right;\n",
       "    }\n",
       "</style>\n",
       "<table border=\"1\" class=\"dataframe\">\n",
       "  <thead>\n",
       "    <tr style=\"text-align: right;\">\n",
       "      <th></th>\n",
       "      <th>InvoiceDate</th>\n",
       "      <th>InvoiceNo</th>\n",
       "      <th>SaleAmount</th>\n",
       "    </tr>\n",
       "    <tr>\n",
       "      <th>CustomerID</th>\n",
       "      <th></th>\n",
       "      <th></th>\n",
       "      <th></th>\n",
       "    </tr>\n",
       "  </thead>\n",
       "  <tbody>\n",
       "    <tr>\n",
       "      <th>12346</th>\n",
       "      <td>2011-01-18 10:01:00</td>\n",
       "      <td>1</td>\n",
       "      <td>77183.60</td>\n",
       "    </tr>\n",
       "    <tr>\n",
       "      <th>12747</th>\n",
       "      <td>2011-12-07 14:34:00</td>\n",
       "      <td>103</td>\n",
       "      <td>4196.01</td>\n",
       "    </tr>\n",
       "    <tr>\n",
       "      <th>12748</th>\n",
       "      <td>2011-12-09 12:20:00</td>\n",
       "      <td>4595</td>\n",
       "      <td>33719.73</td>\n",
       "    </tr>\n",
       "    <tr>\n",
       "      <th>12749</th>\n",
       "      <td>2011-12-06 09:56:00</td>\n",
       "      <td>199</td>\n",
       "      <td>4090.88</td>\n",
       "    </tr>\n",
       "    <tr>\n",
       "      <th>12820</th>\n",
       "      <td>2011-12-06 15:12:00</td>\n",
       "      <td>59</td>\n",
       "      <td>942.34</td>\n",
       "    </tr>\n",
       "  </tbody>\n",
       "</table>\n",
       "</div>"
      ],
      "text/plain": [
       "                   InvoiceDate  InvoiceNo  SaleAmount\n",
       "CustomerID                                           \n",
       "12346      2011-01-18 10:01:00          1    77183.60\n",
       "12747      2011-12-07 14:34:00        103     4196.01\n",
       "12748      2011-12-09 12:20:00       4595    33719.73\n",
       "12749      2011-12-06 09:56:00        199     4090.88\n",
       "12820      2011-12-06 15:12:00         59      942.34"
      ]
     },
     "execution_count": 21,
     "metadata": {},
     "output_type": "execute_result"
    }
   ],
   "source": [
    "# groupby() : 여러 개의 함수를 수행하기 위해 agg() 사용\n",
    "# Recency(R) : 가장 최근 상품 구입일에서 오늘까지의 기간\n",
    "#    - InvoiceDate 컬럼의 max()에서 데이터 가공\n",
    "# Frequency(F) : 상품 구매 회수 (InvoiceNo 컬럼의 count())\n",
    "# Monetary vlaue(M) : 총 구매 금액 (SaleAmount 컬럼의 sum())\n",
    "\n",
    "aggregations = {\n",
    "\n",
    "}\n",
    "\n",
    "cust_df = \n",
    "cust_df.head()"
   ]
  },
  {
   "cell_type": "code",
   "execution_count": 22,
   "id": "acdd61d3-9c9c-4b1a-bd76-60eda1bd9299",
   "metadata": {},
   "outputs": [],
   "source": [
    "# groupby 된 결과 컬럼명 변경 : Recency, Frequency, Monetary\n",
    "cust_df = cust_df.rename(columns = {'InvoiceDate' :'Recency',\n",
    "                                    'InvoiceNo' : 'Frequency',\n",
    "                                    'SaleAmount' : 'Monetary'})"
   ]
  },
  {
   "cell_type": "code",
   "execution_count": 23,
   "id": "6697af9f",
   "metadata": {},
   "outputs": [
    {
     "data": {
      "text/html": [
       "<div>\n",
       "<style scoped>\n",
       "    .dataframe tbody tr th:only-of-type {\n",
       "        vertical-align: middle;\n",
       "    }\n",
       "\n",
       "    .dataframe tbody tr th {\n",
       "        vertical-align: top;\n",
       "    }\n",
       "\n",
       "    .dataframe thead th {\n",
       "        text-align: right;\n",
       "    }\n",
       "</style>\n",
       "<table border=\"1\" class=\"dataframe\">\n",
       "  <thead>\n",
       "    <tr style=\"text-align: right;\">\n",
       "      <th></th>\n",
       "      <th>Recency</th>\n",
       "      <th>Frequency</th>\n",
       "      <th>Monetary</th>\n",
       "    </tr>\n",
       "    <tr>\n",
       "      <th>CustomerID</th>\n",
       "      <th></th>\n",
       "      <th></th>\n",
       "      <th></th>\n",
       "    </tr>\n",
       "  </thead>\n",
       "  <tbody>\n",
       "    <tr>\n",
       "      <th>12346</th>\n",
       "      <td>2011-01-18 10:01:00</td>\n",
       "      <td>1</td>\n",
       "      <td>77183.60</td>\n",
       "    </tr>\n",
       "    <tr>\n",
       "      <th>12747</th>\n",
       "      <td>2011-12-07 14:34:00</td>\n",
       "      <td>103</td>\n",
       "      <td>4196.01</td>\n",
       "    </tr>\n",
       "    <tr>\n",
       "      <th>12748</th>\n",
       "      <td>2011-12-09 12:20:00</td>\n",
       "      <td>4595</td>\n",
       "      <td>33719.73</td>\n",
       "    </tr>\n",
       "    <tr>\n",
       "      <th>12749</th>\n",
       "      <td>2011-12-06 09:56:00</td>\n",
       "      <td>199</td>\n",
       "      <td>4090.88</td>\n",
       "    </tr>\n",
       "    <tr>\n",
       "      <th>12820</th>\n",
       "      <td>2011-12-06 15:12:00</td>\n",
       "      <td>59</td>\n",
       "      <td>942.34</td>\n",
       "    </tr>\n",
       "  </tbody>\n",
       "</table>\n",
       "</div>"
      ],
      "text/plain": [
       "                       Recency  Frequency  Monetary\n",
       "CustomerID                                         \n",
       "12346      2011-01-18 10:01:00          1  77183.60\n",
       "12747      2011-12-07 14:34:00        103   4196.01\n",
       "12748      2011-12-09 12:20:00       4595  33719.73\n",
       "12749      2011-12-06 09:56:00        199   4090.88\n",
       "12820      2011-12-06 15:12:00         59    942.34"
      ]
     },
     "execution_count": 23,
     "metadata": {},
     "output_type": "execute_result"
    }
   ],
   "source": [
    "cust_df.head()"
   ]
  },
  {
   "cell_type": "code",
   "execution_count": null,
   "id": "20cd813a-5d5d-48af-abdb-53a5d9d3e7a9",
   "metadata": {},
   "outputs": [
    {
     "data": {
      "text/html": [
       "<div>\n",
       "<style scoped>\n",
       "    .dataframe tbody tr th:only-of-type {\n",
       "        vertical-align: middle;\n",
       "    }\n",
       "\n",
       "    .dataframe tbody tr th {\n",
       "        vertical-align: top;\n",
       "    }\n",
       "\n",
       "    .dataframe thead th {\n",
       "        text-align: right;\n",
       "    }\n",
       "</style>\n",
       "<table border=\"1\" class=\"dataframe\">\n",
       "  <thead>\n",
       "    <tr style=\"text-align: right;\">\n",
       "      <th></th>\n",
       "      <th>CustomerID</th>\n",
       "      <th>Recency</th>\n",
       "      <th>Frequency</th>\n",
       "      <th>Monetary</th>\n",
       "    </tr>\n",
       "  </thead>\n",
       "  <tbody>\n",
       "    <tr>\n",
       "      <th>0</th>\n",
       "      <td>12346</td>\n",
       "      <td>2011-01-18 10:01:00</td>\n",
       "      <td>1</td>\n",
       "      <td>77183.60</td>\n",
       "    </tr>\n",
       "    <tr>\n",
       "      <th>1</th>\n",
       "      <td>12747</td>\n",
       "      <td>2011-12-07 14:34:00</td>\n",
       "      <td>103</td>\n",
       "      <td>4196.01</td>\n",
       "    </tr>\n",
       "    <tr>\n",
       "      <th>2</th>\n",
       "      <td>12748</td>\n",
       "      <td>2011-12-09 12:20:00</td>\n",
       "      <td>4595</td>\n",
       "      <td>33719.73</td>\n",
       "    </tr>\n",
       "    <tr>\n",
       "      <th>3</th>\n",
       "      <td>12749</td>\n",
       "      <td>2011-12-06 09:56:00</td>\n",
       "      <td>199</td>\n",
       "      <td>4090.88</td>\n",
       "    </tr>\n",
       "    <tr>\n",
       "      <th>4</th>\n",
       "      <td>12820</td>\n",
       "      <td>2011-12-06 15:12:00</td>\n",
       "      <td>59</td>\n",
       "      <td>942.34</td>\n",
       "    </tr>\n",
       "  </tbody>\n",
       "</table>\n",
       "</div>"
      ],
      "text/plain": [
       "   CustomerID             Recency  Frequency  Monetary\n",
       "0       12346 2011-01-18 10:01:00          1  77183.60\n",
       "1       12747 2011-12-07 14:34:00        103   4196.01\n",
       "2       12748 2011-12-09 12:20:00       4595  33719.73\n",
       "3       12749 2011-12-06 09:56:00        199   4090.88\n",
       "4       12820 2011-12-06 15:12:00         59    942.34"
      ]
     },
     "execution_count": 24,
     "metadata": {},
     "output_type": "execute_result"
    }
   ],
   "source": [
    "# CustomerID index를 열로 변경\n",
    "cust_df = \n",
    "cust_df.head()"
   ]
  },
  {
   "cell_type": "code",
   "execution_count": null,
   "id": "6a3d0f06-8a29-45a8-ab8a-621e69db9fa8",
   "metadata": {},
   "outputs": [],
   "source": []
  },
  {
   "cell_type": "markdown",
   "id": "dde1ad68",
   "metadata": {},
   "source": [
    "### Recency를 날짜에서 정수형으로 가공\n",
    "- 온라인 판매기간을 기준으로 가장 최근 주문일로부터 얼마나 지났는지를 계산하여 필드 생성  \n",
    "- Recency = 오늘 날짜 - 가장 최근 주문일  \n",
    "- 온라인 판매 데이터 판매 기간 확인  \n",
    "- 2010-12-01 ~ 2011-12-09  \n",
    "- 따라서 오늘은 하루 더해서 2011-12-10로 설정  "
   ]
  },
  {
   "cell_type": "code",
   "execution_count": 28,
   "id": "c7d63a0b",
   "metadata": {},
   "outputs": [
    {
     "data": {
      "text/plain": [
       "Timestamp('2010-12-01 08:26:00')"
      ]
     },
     "execution_count": 28,
     "metadata": {},
     "output_type": "execute_result"
    },
    {
     "data": {
      "text/plain": [
       "Timestamp('2011-12-09 12:49:00')"
      ]
     },
     "execution_count": 28,
     "metadata": {},
     "output_type": "execute_result"
    }
   ],
   "source": [
    "# 온라인 판매 데이터 판매 기간 확인\n",
    "retail_df['InvoiceDate'].min()\n",
    "retail_df['InvoiceDate'].max()\n",
    "# 기간 : 2010-12-01 ~ 2011-12-09\n",
    "# 데이터 기준 오늘 : 2011-12-10"
   ]
  },
  {
   "cell_type": "code",
   "execution_count": 29,
   "id": "efc8f5f5-a139-4e7a-ba04-776e5aead4c0",
   "metadata": {},
   "outputs": [
    {
     "data": {
      "text/plain": [
       "Timestamp('2010-12-01 09:53:00')"
      ]
     },
     "execution_count": 29,
     "metadata": {},
     "output_type": "execute_result"
    },
    {
     "data": {
      "text/plain": [
       "Timestamp('2011-12-09 12:49:00')"
      ]
     },
     "execution_count": 29,
     "metadata": {},
     "output_type": "execute_result"
    }
   ],
   "source": [
    "cust_df['Recency'].min()\n",
    "cust_df['Recency'].max()"
   ]
  },
  {
   "cell_type": "code",
   "execution_count": 30,
   "id": "a48a8040",
   "metadata": {},
   "outputs": [
    {
     "data": {
      "text/plain": [
       "0      325 days 13:59:00\n",
       "1        2 days 09:26:00\n",
       "2        0 days 11:40:00\n",
       "3        3 days 14:04:00\n",
       "4        3 days 08:48:00\n",
       "              ...       \n",
       "3915   277 days 14:08:00\n",
       "3916   180 days 13:07:00\n",
       "3917     7 days 12:17:00\n",
       "3918     3 days 11:58:00\n",
       "3919    42 days 14:31:00\n",
       "Name: Recency, Length: 3920, dtype: timedelta64[ns]"
      ]
     },
     "execution_count": 30,
     "metadata": {},
     "output_type": "execute_result"
    }
   ],
   "source": [
    "# 빼기 연산 : 오늘 날짜 - 가장 최근 주문일 \n",
    "import datetime as dt\n",
    "dt.datetime(2011, 12, 10) - cust_df['Recency']\n",
    "# 빼기 연산 수행 결과 0 값 존재 --> + 1 수행 (더하기 1)"
   ]
  },
  {
   "cell_type": "code",
   "execution_count": 31,
   "id": "c10e2bbb",
   "metadata": {},
   "outputs": [
    {
     "data": {
      "text/plain": [
       "datetime.timedelta(days=2)"
      ]
     },
     "execution_count": 31,
     "metadata": {},
     "output_type": "execute_result"
    },
    {
     "data": {
      "text/plain": [
       "2"
      ]
     },
     "execution_count": 31,
     "metadata": {},
     "output_type": "execute_result"
    }
   ],
   "source": [
    "# 참고 : 날짜 연산 후 정수만 추출\n",
    "result = dt.datetime(2011, 12, 10) - dt.datetime(2011, 12, 8) \n",
    "result\n",
    "result.days  # 2"
   ]
  },
  {
   "cell_type": "code",
   "execution_count": 32,
   "id": "92f3de4d",
   "metadata": {},
   "outputs": [
    {
     "data": {
      "text/html": [
       "<div>\n",
       "<style scoped>\n",
       "    .dataframe tbody tr th:only-of-type {\n",
       "        vertical-align: middle;\n",
       "    }\n",
       "\n",
       "    .dataframe tbody tr th {\n",
       "        vertical-align: top;\n",
       "    }\n",
       "\n",
       "    .dataframe thead th {\n",
       "        text-align: right;\n",
       "    }\n",
       "</style>\n",
       "<table border=\"1\" class=\"dataframe\">\n",
       "  <thead>\n",
       "    <tr style=\"text-align: right;\">\n",
       "      <th></th>\n",
       "      <th>CustomerID</th>\n",
       "      <th>Recency</th>\n",
       "      <th>Frequency</th>\n",
       "      <th>Monetary</th>\n",
       "    </tr>\n",
       "  </thead>\n",
       "  <tbody>\n",
       "    <tr>\n",
       "      <th>0</th>\n",
       "      <td>12346</td>\n",
       "      <td>326</td>\n",
       "      <td>1</td>\n",
       "      <td>77183.60</td>\n",
       "    </tr>\n",
       "    <tr>\n",
       "      <th>1</th>\n",
       "      <td>12747</td>\n",
       "      <td>3</td>\n",
       "      <td>103</td>\n",
       "      <td>4196.01</td>\n",
       "    </tr>\n",
       "    <tr>\n",
       "      <th>2</th>\n",
       "      <td>12748</td>\n",
       "      <td>1</td>\n",
       "      <td>4595</td>\n",
       "      <td>33719.73</td>\n",
       "    </tr>\n",
       "    <tr>\n",
       "      <th>3</th>\n",
       "      <td>12749</td>\n",
       "      <td>4</td>\n",
       "      <td>199</td>\n",
       "      <td>4090.88</td>\n",
       "    </tr>\n",
       "    <tr>\n",
       "      <th>4</th>\n",
       "      <td>12820</td>\n",
       "      <td>4</td>\n",
       "      <td>59</td>\n",
       "      <td>942.34</td>\n",
       "    </tr>\n",
       "  </tbody>\n",
       "</table>\n",
       "</div>"
      ],
      "text/plain": [
       "   CustomerID  Recency  Frequency  Monetary\n",
       "0       12346      326          1  77183.60\n",
       "1       12747        3        103   4196.01\n",
       "2       12748        1       4595  33719.73\n",
       "3       12749        4        199   4090.88\n",
       "4       12820        4         59    942.34"
      ]
     },
     "execution_count": 32,
     "metadata": {},
     "output_type": "execute_result"
    }
   ],
   "source": [
    "# Recency를 날짜에서 정수형으로 변환\n",
    "# 오늘 : 2011-12-10\n",
    "\n",
    "cust_df['Recency'] = dt.datetime(2011, 12, 10) - cust_df['Recency'] # 0 값 존재\n",
    "\n",
    "# 각 값에 더하기 1 수행 \n",
    "cust_df['Recency'] = cust_df['Recency'].apply(lambda x : x.days+1) # 날짜 정수에 1 더하기 \n",
    "cust_df.head()"
   ]
  },
  {
   "cell_type": "code",
   "execution_count": null,
   "id": "ae8e3f7c",
   "metadata": {},
   "outputs": [],
   "source": []
  },
  {
   "cell_type": "markdown",
   "id": "ce5f96df",
   "metadata": {},
   "source": [
    "### RFM 기반 고객 세그먼테이션\n",
    "- 고객 RFM 데이터 세트의 특성 확인하고  \n",
    "- FRM 기반에서 고객 세그먼테이션 수행  "
   ]
  },
  {
   "cell_type": "markdown",
   "id": "d1aa35c4",
   "metadata": {},
   "source": [
    "#### Recency, Frequency, Monetary 값의 분포도 확인"
   ]
  },
  {
   "cell_type": "code",
   "execution_count": 33,
   "id": "40a87d41",
   "metadata": {},
   "outputs": [
    {
     "data": {
      "text/plain": [
       "Text(0.5, 1.0, 'Recency Histogram')"
      ]
     },
     "execution_count": 33,
     "metadata": {},
     "output_type": "execute_result"
    },
    {
     "data": {
      "text/plain": [
       "(array([1701.,  728.,  331.,  215.,  208.,  179.,  170.,  153.,  120.,\n",
       "         115.]),\n",
       " array([  1. ,  38.3,  75.6, 112.9, 150.2, 187.5, 224.8, 262.1, 299.4,\n",
       "        336.7, 374. ]),\n",
       " <BarContainer object of 10 artists>)"
      ]
     },
     "execution_count": 33,
     "metadata": {},
     "output_type": "execute_result"
    },
    {
     "data": {
      "text/plain": [
       "Text(0.5, 1.0, 'Frequency Histogram')"
      ]
     },
     "execution_count": 33,
     "metadata": {},
     "output_type": "execute_result"
    },
    {
     "data": {
      "text/plain": [
       "(array([3.894e+03, 1.800e+01, 3.000e+00, 2.000e+00, 0.000e+00, 1.000e+00,\n",
       "        1.000e+00, 0.000e+00, 0.000e+00, 1.000e+00]),\n",
       " array([1.0000e+00, 7.8560e+02, 1.5702e+03, 2.3548e+03, 3.1394e+03,\n",
       "        3.9240e+03, 4.7086e+03, 5.4932e+03, 6.2778e+03, 7.0624e+03,\n",
       "        7.8470e+03]),\n",
       " <BarContainer object of 10 artists>)"
      ]
     },
     "execution_count": 33,
     "metadata": {},
     "output_type": "execute_result"
    },
    {
     "data": {
      "text/plain": [
       "Text(0.5, 1.0, 'Monetary Histogram')"
      ]
     },
     "execution_count": 33,
     "metadata": {},
     "output_type": "execute_result"
    },
    {
     "data": {
      "text/plain": [
       "(array([3.887e+03, 1.900e+01, 9.000e+00, 2.000e+00, 0.000e+00, 0.000e+00,\n",
       "        1.000e+00, 1.000e+00, 0.000e+00, 1.000e+00]),\n",
       " array([3.75000000e+00, 2.59691050e+04, 5.19344600e+04, 7.78998150e+04,\n",
       "        1.03865170e+05, 1.29830525e+05, 1.55795880e+05, 1.81761235e+05,\n",
       "        2.07726590e+05, 2.33691945e+05, 2.59657300e+05]),\n",
       " <BarContainer object of 10 artists>)"
      ]
     },
     "execution_count": 33,
     "metadata": {},
     "output_type": "execute_result"
    },
    {
     "data": {
      "image/png": "[encoded data removed]",
      "text/plain": [
       "<Figure size 1200x400 with 3 Axes>"
      ]
     },
     "metadata": {},
     "output_type": "display_data"
    }
   ],
   "source": [
    "# 히스토그램으로 분포도 확인\n",
    "fig, (ax1, ax2, ax3) = plt.subplots(figsize = (12, 4), nrows=1, ncols=3)\n",
    "ax1.set_title('Recency Histogram')\n",
    "ax1.hist(cust_df['Recency'])\n",
    "\n",
    "ax2.set_title('Frequency Histogram')\n",
    "ax2.hist(cust_df['Frequency'])\n",
    "\n",
    "ax3.set_title('Monetary Histogram')\n",
    "ax3.hist(cust_df['Monetary'])\n",
    "plt.show()\n"
   ]
  },
  {
   "cell_type": "code",
   "execution_count": null,
   "id": "29369e2c",
   "metadata": {},
   "outputs": [
    {
     "data": {
      "text/html": [
       "<div>\n",
       "<style scoped>\n",
       "    .dataframe tbody tr th:only-of-type {\n",
       "        vertical-align: middle;\n",
       "    }\n",
       "\n",
       "    .dataframe tbody tr th {\n",
       "        vertical-align: top;\n",
       "    }\n",
       "\n",
       "    .dataframe thead th {\n",
       "        text-align: right;\n",
       "    }\n",
       "</style>\n",
       "<table border=\"1\" class=\"dataframe\">\n",
       "  <thead>\n",
       "    <tr style=\"text-align: right;\">\n",
       "      <th></th>\n",
       "      <th>Recency</th>\n",
       "      <th>Frequency</th>\n",
       "      <th>Monetary</th>\n",
       "    </tr>\n",
       "  </thead>\n",
       "  <tbody>\n",
       "    <tr>\n",
       "      <th>count</th>\n",
       "      <td>3920.000000</td>\n",
       "      <td>3920.000000</td>\n",
       "      <td>3920.000000</td>\n",
       "    </tr>\n",
       "    <tr>\n",
       "      <th>mean</th>\n",
       "      <td>92.742092</td>\n",
       "      <td>90.388010</td>\n",
       "      <td>1864.385601</td>\n",
       "    </tr>\n",
       "    <tr>\n",
       "      <th>std</th>\n",
       "      <td>99.533485</td>\n",
       "      <td>217.808385</td>\n",
       "      <td>7482.817477</td>\n",
       "    </tr>\n",
       "    <tr>\n",
       "      <th>min</th>\n",
       "      <td>1.000000</td>\n",
       "      <td>1.000000</td>\n",
       "      <td>3.750000</td>\n",
       "    </tr>\n",
       "    <tr>\n",
       "      <th>25%</th>\n",
       "      <td>18.000000</td>\n",
       "      <td>17.000000</td>\n",
       "      <td>300.280000</td>\n",
       "    </tr>\n",
       "    <tr>\n",
       "      <th>50%</th>\n",
       "      <td>51.000000</td>\n",
       "      <td>41.000000</td>\n",
       "      <td>652.280000</td>\n",
       "    </tr>\n",
       "    <tr>\n",
       "      <th>75%</th>\n",
       "      <td>143.000000</td>\n",
       "      <td>99.250000</td>\n",
       "      <td>1576.585000</td>\n",
       "    </tr>\n",
       "    <tr>\n",
       "      <th>max</th>\n",
       "      <td>374.000000</td>\n",
       "      <td>7847.000000</td>\n",
       "      <td>259657.300000</td>\n",
       "    </tr>\n",
       "  </tbody>\n",
       "</table>\n",
       "</div>"
      ],
      "text/plain": [
       "           Recency    Frequency       Monetary\n",
       "count  3920.000000  3920.000000    3920.000000\n",
       "mean     92.742092    90.388010    1864.385601\n",
       "std      99.533485   217.808385    7482.817477\n",
       "min       1.000000     1.000000       3.750000\n",
       "25%      18.000000    17.000000     300.280000\n",
       "50%      51.000000    41.000000     652.280000\n",
       "75%     143.000000    99.250000    1576.585000\n",
       "max     374.000000  7847.000000  259657.300000"
      ]
     },
     "execution_count": 34,
     "metadata": {},
     "output_type": "execute_result"
    }
   ],
   "source": [
    "# 기초 통계 정보 확인\n",
    "cust_df[['Recency', 'Frequency', 'Monetary']].describe()\n",
    "\n",
    "# Recency\n",
    "# - 평균이 92.742092로 50%(중위값 2/4)인 51 보다 크게 높음\n",
    "# - max 값은 374로 75%(3/4)인 143보다  커서\n",
    "# - 왜곡 정도가 어느 정도 있음을 알 수 있음\n",
    "\n",
    "# Frequency\n",
    "# - 왜곡 정도가 더 심함\n",
    "# - 평균이 90.38인데 75% 99.25\n",
    "# - 이유 : max 값 7847을 포함한 상위 몇 개의 큰 값 때문이라 판단됨\n",
    "\n",
    "# Monetary\n",
    "# - 마찬가지로 왜곡 정도가 매우 심함\n",
    "# - 평균 1864로 75%인 1576 보다 훨씬 큼\n",
    "# - 이유 : max 값 259,657를 포함한 상위 몇 개의 큰 값으로 인해 발생한 현상으로 보임 "
   ]
  },
  {
   "cell_type": "code",
   "execution_count": null,
   "id": "c6ca2142",
   "metadata": {},
   "outputs": [],
   "source": []
  },
  {
   "cell_type": "markdown",
   "id": "e7839949",
   "metadata": {},
   "source": [
    "### 온라인 판매 데이터 세트 특징\n",
    "- 개인 고객 주문 + 소매점 주문\n"
   ]
  },
  {
   "cell_type": "markdown",
   "id": "d23365ee",
   "metadata": {},
   "source": [
    "### 왜곡 정도가 매우 높은 데이터 세트에\n",
    "- K-평균 군집을 적용하면  \n",
    "    - 중심의 개수를 증가시키더라도 변별력이 떨어지는 군집화가 수행됨  \n",
    "\n",
    "    - 그래서 먼저 평균과 표준편차 재조정한 뒤에 K-평균 수행  \n",
    "        - (StandardScaler 사용해서 표준화해서 변환)   "
   ]
  },
  {
   "cell_type": "markdown",
   "id": "6effbd3f",
   "metadata": {},
   "source": [
    "### K-Means로 군집화 후에 실루엣 계수 평가\n",
    "- (1) 왜곡정도가 심한 데이터를 그대로 사용할 경우  \n",
    "- (2) 표준화 변환 수행후 군집화¶  "
   ]
  },
  {
   "cell_type": "markdown",
   "id": "c52341a0",
   "metadata": {},
   "source": [
    "#### (1) 왜곡정도가 심한 데이터를 그대로 사용해서 실루엣 계수 확인"
   ]
  },
  {
   "cell_type": "code",
   "execution_count": null,
   "id": "a8c54767",
   "metadata": {},
   "outputs": [],
   "source": [
    "# 군집화 수행 : 군집 개수 4개로 구성\n",
    "\n",
    "from sklearn.cluster import KMeans\n",
    "\n"
   ]
  },
  {
   "cell_type": "code",
   "execution_count": 36,
   "id": "5b1b7067-9363-4cf0-abb8-c679709f1fcc",
   "metadata": {},
   "outputs": [
    {
     "data": {
      "text/plain": [
       "array([2, 0, 2, ..., 0, 0, 0])"
      ]
     },
     "execution_count": 36,
     "metadata": {},
     "output_type": "execute_result"
    }
   ],
   "source": [
    "labels"
   ]
  },
  {
   "cell_type": "code",
   "execution_count": 37,
   "id": "0cef3a3d",
   "metadata": {},
   "outputs": [
    {
     "name": "stdout",
     "output_type": "stream",
     "text": [
      "실루엣 스코어 : 0.839\n"
     ]
    }
   ],
   "source": [
    "# 실루엣 스코어 출력 : labels 값을 cust_df에 컬럼으로 추가 \n",
    "\n",
    "from sklearn.metrics import silhouette_score\n",
    "\n",
    "\n",
    "cust_df['cluster_label1'] = labels\n",
    "print('실루엣 스코어 : {0:.3f}'.format(silhouette_score(X_features, labels)))\n",
    "\n",
    "\n",
    "# 실루엣 스코어 : 0.839\n",
    "# 왜곡 정도가 매우 심한 데이터 세트인데 \n",
    "# 높은 실루엣 계수가 산출됨 : 이상치에 반응해서 과적합이 발생한 것으로 간주\n",
    "# 왜곡도 심한 데이터 세트로 K-평균 군집을 적용하면\n",
    "# 변별력이 떨어지는 군집화가 수행될 수 있음\n",
    "\n",
    "# -> 실루엣 계수 절대적 수치 보다는\n",
    "# -> 개별 군집의 균일도도 같이 확인해야 함\n",
    "\n",
    "# 먼저 평균과 표준편차를 재조정한 후 \n",
    "# K-평균 군집화 재 수행 \n",
    "\n"
   ]
  },
  {
   "cell_type": "markdown",
   "id": "74ac5be2",
   "metadata": {},
   "source": [
    "#### (2) 표준화 변환 수행후 군집화"
   ]
  },
  {
   "cell_type": "code",
   "execution_count": 38,
   "id": "26f360f2",
   "metadata": {},
   "outputs": [
    {
     "data": {
      "text/plain": [
       "array([[ 2.3438109 , -0.41044983, 10.06690642],\n",
       "       [-0.90174217,  0.05791145,  0.31163688],\n",
       "       [-0.92183848, 20.68417459,  4.25767546]])"
      ]
     },
     "execution_count": 38,
     "metadata": {},
     "output_type": "execute_result"
    }
   ],
   "source": [
    "# StandardScaler 사용해서 표준 변환 수행\n",
    "\n",
    "from sklearn.preprocessing import StandardScaler\n",
    "\n",
    "X_features = cust_df[['Recency', 'Frequency', 'Monetary']].values\n",
    "X_features_scaled = StandardScaler().fit_transform(X_features)\n",
    "X_features_scaled[:3]"
   ]
  },
  {
   "cell_type": "code",
   "execution_count": 39,
   "id": "1beef267-01be-45ce-bc7d-c7ca52de72c6",
   "metadata": {},
   "outputs": [
    {
     "name": "stdout",
     "output_type": "stream",
     "text": [
      "실루엣 스코어 : 0.616\n"
     ]
    }
   ],
   "source": [
    "# 군집화 재 수행 : 군집 5개로 구성\n",
    "X_features = cust_df[['Recency','Frequency','Monetary']].values\n",
    "kmeans = KMeans(n_clusters=5, n_init=10, init='k-means++', max_iter=300, random_state=0)\n",
    "labels = kmeans.fit_predict(X_features_scaled)\n",
    "cust_df['cluster_label'] = labels\n",
    "\n",
    "print('실루엣 스코어 : {0:.3f}'.format(silhouette_score(X_features_scaled, labels)))\n"
   ]
  },
  {
   "cell_type": "code",
   "execution_count": 40,
   "id": "e14fdbb0",
   "metadata": {},
   "outputs": [
    {
     "name": "stdout",
     "output_type": "stream",
     "text": [
      "실루엣 스코어 : 0.595\n"
     ]
    }
   ],
   "source": [
    "# 군집화 재 수행 : 군집 4개로 구성\n",
    "X_features = cust_df[['Recency','Frequency','Monetary']].values\n",
    "kmeans = KMeans(n_clusters=4, n_init=10, init='k-means++', max_iter=300, random_state=0)\n",
    "labels = kmeans.fit_predict(X_features_scaled)\n",
    "cust_df['cluster_label'] = labels\n",
    "\n",
    "print('실루엣 스코어 : {0:.3f}'.format(silhouette_score(X_features_scaled, labels)))"
   ]
  },
  {
   "cell_type": "code",
   "execution_count": 41,
   "id": "bf1858c3",
   "metadata": {},
   "outputs": [
    {
     "name": "stdout",
     "output_type": "stream",
     "text": [
      "실루엣 스코어 : 0.592\n"
     ]
    }
   ],
   "source": [
    "# 군집화 재 수행 : 군집 3개로 구성\n",
    "X_features = cust_df[['Recency','Frequency','Monetary']].values\n",
    "kmeans = KMeans(n_clusters=3, n_init=10, init='k-means++', max_iter=300, random_state=0)\n",
    "labels = kmeans.fit_predict(X_features_scaled)\n",
    "cust_df['cluster_label'] = labels\n",
    "\n",
    "print('실루엣 스코어 : {0:.3f}'.format(silhouette_score(X_features_scaled, labels)))"
   ]
  },
  {
   "cell_type": "code",
   "execution_count": 42,
   "id": "a4375003-2682-4cdf-a429-546c2b708620",
   "metadata": {},
   "outputs": [],
   "source": [
    "# 군집 개수에 따른 실루엣 스코어\n",
    "# 3 : 0.592\n",
    "# 4 : 0.595\n",
    "# 5 : 0.616\n",
    "\n",
    "# 표준화한 후 실루엣 스코어는 더 떨어졌고\n",
    "# 군집의 개수에 따라서 크게 편차가 없음을 확인\n",
    "# --> 실루엣 계수만으로는 군집화가 더 잘되었다고 판단할 수 없음\n",
    "# --> 시각화해서 실루엣 계수뿐 아니라 \n",
    "# --> 균일도를 같이 확인할 필요가 있음"
   ]
  },
  {
   "cell_type": "code",
   "execution_count": null,
   "id": "358f8ccb-65e8-4129-9ac0-166875450d5b",
   "metadata": {},
   "outputs": [],
   "source": []
  },
  {
   "cell_type": "code",
   "execution_count": 43,
   "id": "bdeb62b3",
   "metadata": {},
   "outputs": [],
   "source": [
    "from sklearn.preprocessing import StandardScaler\n",
    "from sklearn.cluster import KMeans\n",
    "from sklearn.metrics import silhouette_score, silhouette_samples"
   ]
  },
  {
   "cell_type": "code",
   "execution_count": null,
   "id": "34fa4a67",
   "metadata": {},
   "outputs": [],
   "source": []
  },
  {
   "cell_type": "markdown",
   "id": "db06ec51",
   "metadata": {},
   "source": [
    "### K-Means 군집화 후에 실루엣 계수 및 군집을 시각화\n",
    "- (1) 왜곡된 데이터인데 로그 변환 수행하지 않고 군집화 후 실루엣 계수 평가   \n",
    "- (2) 로그 변환 수행하고 군집화 후 실루엣 계수 평가    "
   ]
  },
  {
   "cell_type": "markdown",
   "id": "cd0f7f3d",
   "metadata": {},
   "source": [
    "visualize_silhouette() 함수와 visualize_kmeans_plot_multi() 함수 사용\n",
    "\n",
    "visualize_silhouette()\n",
    "- 군집 개수를 변화시키면서 K-평균 군집을 수행했을 때\n",
    "- 개별 군집별 평균 실루엣 계수 값을 시각화하는 함수 (앞에서 사용했음)\n",
    "\n",
    "visualize_kmeans_plot_multi() \n",
    "- 군집 개수별로 군집화 구성을 시각화하는 함수"
   ]
  },
  {
   "cell_type": "markdown",
   "id": "63ebca65",
   "metadata": {},
   "source": [
    "#### (1) 왜곡된 데이터인데 로그 변환 수행하지 않고 군집화 후 실루엣 계수 평가  "
   ]
  },
  {
   "cell_type": "code",
   "execution_count": null,
   "id": "17638452-2d02-472e-9350-b52175e762c3",
   "metadata": {},
   "outputs": [],
   "source": []
  },
  {
   "cell_type": "code",
   "execution_count": 44,
   "id": "f9f980ed",
   "metadata": {},
   "outputs": [],
   "source": [
    "def visualize_silhouette(cluster_lists, X_features): \n",
    "    \n",
    "    from sklearn.datasets import make_blobs\n",
    "    from sklearn.cluster import KMeans\n",
    "    from sklearn.metrics import silhouette_samples, silhouette_score\n",
    "\n",
    "    import matplotlib.pyplot as plt\n",
    "    import matplotlib.cm as cm\n",
    "    import math\n",
    "    \n",
    "    # 입력값으로 클러스터링 갯수들을 리스트로 받아서, 각 갯수별로 클러스터링을 적용하고 실루엣 개수를 구함\n",
    "    n_cols = len(cluster_lists)\n",
    "    \n",
    "    # plt.subplots()으로 리스트에 기재된 클러스터링 수만큼의 sub figures를 가지는 axs 생성 \n",
    "    fig, axs = plt.subplots(figsize=(4*n_cols, 4), nrows=1, ncols=n_cols)\n",
    "    \n",
    "    # 리스트에 기재된 클러스터링 갯수들을 차례로 iteration 수행하면서 실루엣 개수 시각화\n",
    "    for ind, n_cluster in enumerate(cluster_lists):        \n",
    "        \n",
    "        # KMeans 클러스터링 수행하고, 실루엣 스코어와 개별 데이터의 실루엣 값 계산. \n",
    "        clusterer = KMeans(n_clusters=n_cluster, n_init=10, init='k-means++', max_iter=500, \n",
    "                           random_state=0)\n",
    "        cluster_labels = clusterer.fit_predict(X_features)\n",
    "        \n",
    "        sil_avg = silhouette_score(X_features, cluster_labels)\n",
    "        sil_values = silhouette_samples(X_features, cluster_labels)\n",
    "        \n",
    "        y_lower = 10\n",
    "        axs[ind].set_title('Number of Cluster : '+ str(n_cluster)+'\\n' \\\n",
    "                          'Silhouette Score :' + str(round(sil_avg,3)) )\n",
    "        axs[ind].set_xlabel(\"The silhouette coefficient values\")\n",
    "        axs[ind].set_ylabel(\"Cluster label\")\n",
    "        axs[ind].set_xlim([-0.1, 1])\n",
    "        axs[ind].set_ylim([0, len(X_features) + (n_cluster + 1) * 10])\n",
    "        axs[ind].set_yticks([])  # Clear the yaxis labels / ticks\n",
    "        axs[ind].set_xticks([0, 0.2, 0.4, 0.6, 0.8, 1])\n",
    "        \n",
    "        # 클러스터링 갯수별로 fill_betweenx( )형태의 막대 그래프 표현. \n",
    "        for i in range(n_cluster):\n",
    "            ith_cluster_sil_values = sil_values[cluster_labels==i]\n",
    "            ith_cluster_sil_values.sort()\n",
    "            \n",
    "            size_cluster_i = ith_cluster_sil_values.shape[0]\n",
    "            y_upper = y_lower + size_cluster_i\n",
    "            \n",
    "            color = cm.nipy_spectral(float(i) / n_cluster)\n",
    "            axs[ind].fill_betweenx(np.arange(y_lower, y_upper), 0, ith_cluster_sil_values, \\\n",
    "                                facecolor=color, edgecolor=color, alpha=0.7)\n",
    "            axs[ind].text(-0.05, y_lower + 0.5 * size_cluster_i, str(i))\n",
    "            y_lower = y_upper + 10\n",
    "            \n",
    "        axs[ind].axvline(x=sil_avg, color=\"red\", linestyle=\"--\")\n",
    "    plt.show()"
   ]
  },
  {
   "cell_type": "code",
   "execution_count": 45,
   "id": "69d47f00",
   "metadata": {},
   "outputs": [],
   "source": [
    "### 여러개의 클러스터링 갯수를 List로 입력 받아 각각의 클러스터링 결과를 시각화 \n",
    "def visualize_kmeans_plot_multi(cluster_lists, X_features):\n",
    "    \n",
    "    from sklearn.cluster import KMeans\n",
    "    from sklearn.decomposition import PCA\n",
    "    import pandas as pd\n",
    "    import numpy as np\n",
    "    \n",
    "    # plt.subplots()으로 리스트에 기재된 클러스터링 만큼의 sub figures를 가지는 axs 생성 \n",
    "    n_cols = len(cluster_lists)\n",
    "    fig, axs = plt.subplots(figsize=(4*n_cols, 4), nrows=1, ncols=n_cols)\n",
    "    \n",
    "    # 입력 데이터의 FEATURE가 여러개일 경우 2차원 데이터 시각화가 어려우므로 PCA 변환하여 2차원 시각화\n",
    "    pca = PCA(n_components=2)\n",
    "    pca_transformed = pca.fit_transform(X_features)\n",
    "    dataframe = pd.DataFrame(pca_transformed, columns=['PCA1','PCA2'])\n",
    "    \n",
    "     # 리스트에 기재된 클러스터링 갯수들을 차례로 iteration 수행하면서 KMeans 클러스터링 수행하고 시각화\n",
    "    for ind, n_cluster in enumerate(cluster_lists):\n",
    "        \n",
    "        # KMeans 클러스터링으로 클러스터링 결과를 dataframe에 저장. \n",
    "        clusterer = KMeans(n_clusters = n_cluster, n_init=10, max_iter=500, random_state=0)\n",
    "        cluster_labels = clusterer.fit_predict(pca_transformed)\n",
    "        dataframe['cluster']=cluster_labels\n",
    "        \n",
    "        unique_labels = np.unique(clusterer.labels_)\n",
    "        markers=['o', 's', '^', 'd', '*']\n",
    "       \n",
    "        # 클러스터링 결과값 별로 scatter plot 으로 시각화\n",
    "        for label in unique_labels:\n",
    "            label_df = dataframe[dataframe['cluster']==label]\n",
    "            if label == -1:\n",
    "                cluster_legend = 'Noise'\n",
    "            else :\n",
    "                cluster_legend = 'Cluster '+str(label)           \n",
    "            axs[ind].scatter(x=label_df['PCA1'], y=label_df['PCA2'], s=70,\\\n",
    "                        edgecolor='k', marker=markers[label], label=cluster_legend)\n",
    "\n",
    "        axs[ind].set_title('Number of Cluster : '+ str(n_cluster))    \n",
    "        axs[ind].legend(loc='upper right')\n",
    "    \n",
    "    plt.show()"
   ]
  },
  {
   "cell_type": "markdown",
   "id": "2d8d8f3e",
   "metadata": {},
   "source": [
    "### 실루엣 계수 / 군집화 그래프 출력\n",
    "- (1) 표준화만 수행한 데이터 사용해서 군집화  \n",
    "- (2) 로그 변환 수행 후 군집화 "
   ]
  },
  {
   "cell_type": "code",
   "execution_count": 46,
   "id": "e687d38a",
   "metadata": {},
   "outputs": [
    {
     "data": {
      "image/png": "[encoded data removed]",
      "text/plain": [
       "<Figure size 1600x400 with 4 Axes>"
      ]
     },
     "metadata": {},
     "output_type": "display_data"
    },
    {
     "data": {
      "image/png": "[encoded data removed]",
      "text/plain": [
       "<Figure size 1600x400 with 4 Axes>"
      ]
     },
     "metadata": {},
     "output_type": "display_data"
    }
   ],
   "source": [
    "# (1) 표준화만 수행한 데이터 사용해서 군집화 : 로그변환 수행하지 않고 시각화\n",
    "# 실루엣 계수 / 군집화 그래프 출력 함수 호출\n",
    "visualize_silhouette([2, 3, 4, 5], X_features_scaled)\n",
    "visualize_kmeans_plot_multi([2, 3, 4, 5], X_features_scaled)"
   ]
  },
  {
   "cell_type": "code",
   "execution_count": null,
   "id": "9fd6370f",
   "metadata": {},
   "outputs": [],
   "source": []
  },
  {
   "cell_type": "markdown",
   "id": "fcf9b444",
   "metadata": {},
   "source": [
    "### 왜곡된 데이터에 로그 변환 수행\n",
    " "
   ]
  },
  {
   "cell_type": "markdown",
   "id": "f5c956d8",
   "metadata": {},
   "source": [
    "### (2) 로그 변환 수행하고 군집화 후 실루엣 계수 평가\n",
    "- 로그 변환 / StandardScale 수행 "
   ]
  },
  {
   "cell_type": "code",
   "execution_count": 47,
   "id": "7e44d284",
   "metadata": {},
   "outputs": [],
   "source": [
    "from sklearn.cluster import KMeans\n",
    "from sklearn.metrics import silhouette_score, silhouette_samples"
   ]
  },
  {
   "cell_type": "code",
   "execution_count": null,
   "id": "765ac33f",
   "metadata": {},
   "outputs": [],
   "source": [
    "# 로그 변환 수행\n"
   ]
  },
  {
   "cell_type": "code",
   "execution_count": 49,
   "id": "fcc56c16",
   "metadata": {},
   "outputs": [
    {
     "data": {
      "text/html": [
       "<div>\n",
       "<style scoped>\n",
       "    .dataframe tbody tr th:only-of-type {\n",
       "        vertical-align: middle;\n",
       "    }\n",
       "\n",
       "    .dataframe tbody tr th {\n",
       "        vertical-align: top;\n",
       "    }\n",
       "\n",
       "    .dataframe thead th {\n",
       "        text-align: right;\n",
       "    }\n",
       "</style>\n",
       "<table border=\"1\" class=\"dataframe\">\n",
       "  <thead>\n",
       "    <tr style=\"text-align: right;\">\n",
       "      <th></th>\n",
       "      <th>CustomerID</th>\n",
       "      <th>Recency</th>\n",
       "      <th>Frequency</th>\n",
       "      <th>Monetary</th>\n",
       "      <th>cluster_label1</th>\n",
       "      <th>cluster_label</th>\n",
       "      <th>Recency_log</th>\n",
       "      <th>Frequency_log</th>\n",
       "      <th>Monetary_log</th>\n",
       "    </tr>\n",
       "  </thead>\n",
       "  <tbody>\n",
       "    <tr>\n",
       "      <th>0</th>\n",
       "      <td>12346</td>\n",
       "      <td>326</td>\n",
       "      <td>1</td>\n",
       "      <td>77183.60</td>\n",
       "      <td>2</td>\n",
       "      <td>1</td>\n",
       "      <td>5.789960</td>\n",
       "      <td>0.693147</td>\n",
       "      <td>11.253955</td>\n",
       "    </tr>\n",
       "    <tr>\n",
       "      <th>1</th>\n",
       "      <td>12747</td>\n",
       "      <td>3</td>\n",
       "      <td>103</td>\n",
       "      <td>4196.01</td>\n",
       "      <td>0</td>\n",
       "      <td>0</td>\n",
       "      <td>1.386294</td>\n",
       "      <td>4.644391</td>\n",
       "      <td>8.342128</td>\n",
       "    </tr>\n",
       "  </tbody>\n",
       "</table>\n",
       "</div>"
      ],
      "text/plain": [
       "   CustomerID  Recency  Frequency  Monetary  cluster_label1  cluster_label  \\\n",
       "0       12346      326          1  77183.60               2              1   \n",
       "1       12747        3        103   4196.01               0              0   \n",
       "\n",
       "   Recency_log  Frequency_log  Monetary_log  \n",
       "0     5.789960       0.693147     11.253955  \n",
       "1     1.386294       4.644391      8.342128  "
      ]
     },
     "execution_count": 49,
     "metadata": {},
     "output_type": "execute_result"
    }
   ],
   "source": [
    "cust_df.head(2)"
   ]
  },
  {
   "cell_type": "code",
   "execution_count": null,
   "id": "2c9cf928",
   "metadata": {},
   "outputs": [
    {
     "data": {
      "text/plain": [
       "array([[ 1.48161832, -2.40338709,  3.78591383],\n",
       "       [-1.88997639,  0.73257781,  1.44428   ],\n",
       "       [-2.42067319,  3.73941895,  3.1199826 ]])"
      ]
     },
     "execution_count": 50,
     "metadata": {},
     "output_type": "execute_result"
    }
   ],
   "source": [
    "# 로그 변환된 데이터 StandardScaler 적용\n",
    "\n",
    "\n",
    "X_features_scaled[:3]"
   ]
  },
  {
   "cell_type": "code",
   "execution_count": null,
   "id": "9f83bce8-3155-4cf4-945a-26f37e5783bb",
   "metadata": {},
   "outputs": [
    {
     "name": "stdout",
     "output_type": "stream",
     "text": [
      "실루엣 스코어 : 0.303\n"
     ]
    }
   ],
   "source": [
    "# 군집화 수행\n",
    "\n",
    "\n",
    "\n",
    "print('실루엣 스코어 : {0:.3f}'.format(silhouette_score(X_features_scaled, labels)))\n",
    "\n",
    "# 결과\n",
    "# 실루엣 계수가 로그 변환하기 전보더 더 떨어짐\n",
    "# 그러나 실루엣 계수의 절대치가 절대적으로 중요한 것은 아니고\n",
    "# 개별 군집이 얼마나 더 균일하게 군집화되었는지가 더 중요\n",
    "# -> 균일도와 그래프 확인 "
   ]
  },
  {
   "cell_type": "code",
   "execution_count": 52,
   "id": "c73c53d2-5c97-46f2-951a-e7c49efff08e",
   "metadata": {},
   "outputs": [
    {
     "data": {
      "image/png": "[encoded data removed]",
      "text/plain": [
       "<Figure size 1600x400 with 4 Axes>"
      ]
     },
     "metadata": {},
     "output_type": "display_data"
    },
    {
     "data": {
      "image/png": "[encoded data removed]",
      "text/plain": [
       "<Figure size 1600x400 with 4 Axes>"
      ]
     },
     "metadata": {},
     "output_type": "display_data"
    }
   ],
   "source": [
    "# 로그 변환된 데이터 세트로 실루엣 계수와 군집화 구성 시각화\n",
    "\n",
    "# 실루엣 계수 / 군집화 그래프 출력 함수 호출\n",
    "visualize_silhouette([2, 3, 4, 5], X_features_scaled)\n",
    "visualize_kmeans_plot_multi([2, 3, 4, 5], X_features_scaled)\n",
    "\n",
    "# 결과\n",
    "# 실루엣 계수는 로그 변환 전 보다 더 떨어졌지만\n",
    "# 균일하게 군집화가 구성된 것을 확인할 수 있음\n",
    "# 실루엣 계수 절대치보다 개별 군짐의 균일도도 같이 확인해야 함\n",
    "\n",
    "# 결론\n",
    "# 왜곡된 데이터 세트에 대해서는\n",
    "# 로그 변환 수행해서 데이터를 변환한 후에\n",
    "# 군집화를 수행하면 더 나은 결과를 도출할 수 있음 "
   ]
  },
  {
   "cell_type": "code",
   "execution_count": 53,
   "id": "1f1e6567-7f4a-4dd3-8a77-c1aefd4c7a74",
   "metadata": {},
   "outputs": [
    {
     "data": {
      "text/html": [
       "<div>\n",
       "<style scoped>\n",
       "    .dataframe tbody tr th:only-of-type {\n",
       "        vertical-align: middle;\n",
       "    }\n",
       "\n",
       "    .dataframe tbody tr th {\n",
       "        vertical-align: top;\n",
       "    }\n",
       "\n",
       "    .dataframe thead th {\n",
       "        text-align: right;\n",
       "    }\n",
       "</style>\n",
       "<table border=\"1\" class=\"dataframe\">\n",
       "  <thead>\n",
       "    <tr style=\"text-align: right;\">\n",
       "      <th></th>\n",
       "      <th>CustomerID</th>\n",
       "      <th>Recency</th>\n",
       "      <th>Frequency</th>\n",
       "      <th>Monetary</th>\n",
       "      <th>cluster_label1</th>\n",
       "      <th>cluster_label</th>\n",
       "      <th>Recency_log</th>\n",
       "      <th>Frequency_log</th>\n",
       "      <th>Monetary_log</th>\n",
       "    </tr>\n",
       "  </thead>\n",
       "  <tbody>\n",
       "    <tr>\n",
       "      <th>0</th>\n",
       "      <td>12346</td>\n",
       "      <td>326</td>\n",
       "      <td>1</td>\n",
       "      <td>77183.60</td>\n",
       "      <td>2</td>\n",
       "      <td>2</td>\n",
       "      <td>5.789960</td>\n",
       "      <td>0.693147</td>\n",
       "      <td>11.253955</td>\n",
       "    </tr>\n",
       "    <tr>\n",
       "      <th>1</th>\n",
       "      <td>12747</td>\n",
       "      <td>3</td>\n",
       "      <td>103</td>\n",
       "      <td>4196.01</td>\n",
       "      <td>0</td>\n",
       "      <td>0</td>\n",
       "      <td>1.386294</td>\n",
       "      <td>4.644391</td>\n",
       "      <td>8.342128</td>\n",
       "    </tr>\n",
       "    <tr>\n",
       "      <th>2</th>\n",
       "      <td>12748</td>\n",
       "      <td>1</td>\n",
       "      <td>4595</td>\n",
       "      <td>33719.73</td>\n",
       "      <td>2</td>\n",
       "      <td>0</td>\n",
       "      <td>0.693147</td>\n",
       "      <td>8.432942</td>\n",
       "      <td>10.425868</td>\n",
       "    </tr>\n",
       "    <tr>\n",
       "      <th>3</th>\n",
       "      <td>12749</td>\n",
       "      <td>4</td>\n",
       "      <td>199</td>\n",
       "      <td>4090.88</td>\n",
       "      <td>0</td>\n",
       "      <td>0</td>\n",
       "      <td>1.609438</td>\n",
       "      <td>5.298317</td>\n",
       "      <td>8.316760</td>\n",
       "    </tr>\n",
       "    <tr>\n",
       "      <th>4</th>\n",
       "      <td>12820</td>\n",
       "      <td>4</td>\n",
       "      <td>59</td>\n",
       "      <td>942.34</td>\n",
       "      <td>0</td>\n",
       "      <td>0</td>\n",
       "      <td>1.609438</td>\n",
       "      <td>4.094345</td>\n",
       "      <td>6.849427</td>\n",
       "    </tr>\n",
       "  </tbody>\n",
       "</table>\n",
       "</div>"
      ],
      "text/plain": [
       "   CustomerID  Recency  Frequency  Monetary  cluster_label1  cluster_label  \\\n",
       "0       12346      326          1  77183.60               2              2   \n",
       "1       12747        3        103   4196.01               0              0   \n",
       "2       12748        1       4595  33719.73               2              0   \n",
       "3       12749        4        199   4090.88               0              0   \n",
       "4       12820        4         59    942.34               0              0   \n",
       "\n",
       "   Recency_log  Frequency_log  Monetary_log  \n",
       "0     5.789960       0.693147     11.253955  \n",
       "1     1.386294       4.644391      8.342128  \n",
       "2     0.693147       8.432942     10.425868  \n",
       "3     1.609438       5.298317      8.316760  \n",
       "4     1.609438       4.094345      6.849427  "
      ]
     },
     "execution_count": 53,
     "metadata": {},
     "output_type": "execute_result"
    }
   ],
   "source": [
    "cust_df.head()"
   ]
  },
  {
   "cell_type": "code",
   "execution_count": 54,
   "id": "54d96716-9d88-4a66-9023-2743071e82fe",
   "metadata": {},
   "outputs": [
    {
     "data": {
      "text/plain": [
       "cluster_label\n",
       "2    1660\n",
       "1    1365\n",
       "0     895\n",
       "Name: count, dtype: int64"
      ]
     },
     "execution_count": 54,
     "metadata": {},
     "output_type": "execute_result"
    }
   ],
   "source": [
    "cust_df['cluster_label'].value_counts()"
   ]
  },
  {
   "cell_type": "markdown",
   "id": "4970fad8",
   "metadata": {},
   "source": [
    "### 군집결과 확인"
   ]
  },
  {
   "cell_type": "code",
   "execution_count": null,
   "id": "49589fca-2caf-4aa5-a511-b37b6e43ba95",
   "metadata": {},
   "outputs": [],
   "source": []
  },
  {
   "cell_type": "markdown",
   "id": "faed5a40",
   "metadata": {},
   "source": [
    "데이터 분석 도메인\n",
    "- 특정 분야의 전문화된 지식. 데이터가 발생한 환경에 관한 지식  \n",
    "- 데이터 사이언스를 통해서 해결하고자 하는 문제가 속한 업계, 산업에 대한 전문성을 의미\n",
    "  - 예 : 병원 데이터 : 병원 관련 도메인 지식 \n",
    "- 도메인 지식이 있는 사람들을 해당 분야의 전문가로 간주\n",
    "\n",
    "- 우리의 경우 전문가라고 할 수는 없지만\n",
    "- 데이터 분석할 때 주어진 데이터의 도메인을 해석하려고 노력은 해야 함\n",
    "\n",
    "\n",
    "- 예로 상품 판매 데이터를 분석하려고 하면\n",
    "  - 당연히 상품에 관련 데이터를 확인하고\n",
    "  - 고객 데이터도 분석하고\n",
    "  - 관련 매출 관련 행태도 분석해야 함\n",
    "- 이런 것들을 좀 더 관찰하고 분석할 때\n",
    "- 도메인 지식을 얻을 수 있음 \n",
    "\n",
    "- 도메인 지식 예\n",
    "  - 고객 \n",
    "    - 성별, 나이, 거주지, 직업\n",
    "    - 소득, 신용도, 계정 등 \n",
    "    \n",
    "  - 상품 \n",
    "    - 가격, 특성\n",
    "    \n",
    "  - 주문\n",
    "    - 주문 건수, 주문 금액, 평균 구매액, 구매 주기, 최근 구매 여부 등 \n",
    "    \n",
    "- 이러한 정보들을 확인하고\n",
    "- 이러한 정보들이 주어져 있지 않다면 \n",
    "- 가공해서 추출 "
   ]
  },
  {
   "cell_type": "code",
   "execution_count": null,
   "id": "63e47669",
   "metadata": {},
   "outputs": [],
   "source": []
  },
  {
   "cell_type": "code",
   "execution_count": null,
   "id": "35d07f8c-1d50-4c7a-a9a4-90a7de0bc5e2",
   "metadata": {},
   "outputs": [],
   "source": []
  }
 ],
 "metadata": {
  "kernelspec": {
   "display_name": "ML_ENV_NOTE",
   "language": "python",
   "name": "mlenv_note"
  },
  "language_info": {
   "codemirror_mode": {
    "name": "ipython",
    "version": 3
   },
   "file_extension": ".py",
   "mimetype": "text/x-python",
   "name": "python",
   "nbconvert_exporter": "python",
   "pygments_lexer": "ipython3",
   "version": "3.11.5"
  }
 },
 "nbformat": 4,
 "nbformat_minor": 5
}
