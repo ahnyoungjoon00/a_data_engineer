{
 "cells": [
  {
   "cell_type": "code",
   "execution_count": 106,
   "id": "87f76d20-496c-40d6-9ec0-42faf228dd0c",
   "metadata": {},
   "outputs": [],
   "source": [
    "import warnings\n",
    "warnings.filterwarnings(action='ignore')\n",
    "# 한 셀에서 여러 변수 출력코드\n",
    "from IPython.core.interactiveshell import InteractiveShell\n",
    "InteractiveShell.ast_node_interactivity=\"all\"\n",
    "\n",
    "import matplotlib.pyplot as plt\n",
    "%matplotlib inline\n",
    "import seaborn as sns\n",
    "\n",
    "import pandas as pd\n",
    "import numpy as np"
   ]
  },
  {
   "cell_type": "code",
   "execution_count": 2,
   "id": "b1814fdb-f369-41fd-8e9d-adc30444fc1b",
   "metadata": {},
   "outputs": [],
   "source": [
    "# 한글 문제\n",
    "# matplotlib의 기본 폰트에서 한글이 지원되지 않기 때문에\n",
    "# matplotlib의 폰트 변경 필요\n",
    "import platform\n",
    "\n",
    "from matplotlib import font_manager, rc\n",
    "plt.rcParams['axes.unicode_minus'] = False\n",
    "\n",
    "if platform.system() == 'Darwin':  # 맥OS \n",
    "    rc('font', family='AppleGothic')\n",
    "elif platform.system() == 'Windows':  # 윈도우\n",
    "    path = \"c:/Windows/Fonts/malgun.ttf\"\n",
    "    font_name = font_manager.FontProperties(fname=path).get_name()\n",
    "    rc('font', family=font_name)\n",
    "else:\n",
    "    print('Unknown system...  sorry~~~')"
   ]
  },
  {
   "cell_type": "markdown",
   "id": "fc011574-797c-4308-9e92-95b2539524aa",
   "metadata": {},
   "source": [
    "---"
   ]
  },
  {
   "cell_type": "markdown",
   "id": "7048898e-06c5-4e5c-9b21-8a385b85f4e0",
   "metadata": {},
   "source": [
    "### 데이터 분석 기초 연습"
   ]
  },
  {
   "cell_type": "markdown",
   "id": "84557add-2955-4498-b97a-fab479205142",
   "metadata": {
    "tags": []
   },
   "source": [
    "#### 한국인의 삶 파악\n",
    "- '한국복지패널 데이터' 사용 "
   ]
  },
  {
   "cell_type": "code",
   "execution_count": 5,
   "id": "e1fd51f9-fa50-49aa-ad3f-d075d8ed2533",
   "metadata": {},
   "outputs": [
    {
     "data": {
      "text/html": [
       "<div>\n",
       "<style scoped>\n",
       "    .dataframe tbody tr th:only-of-type {\n",
       "        vertical-align: middle;\n",
       "    }\n",
       "\n",
       "    .dataframe tbody tr th {\n",
       "        vertical-align: top;\n",
       "    }\n",
       "\n",
       "    .dataframe thead th {\n",
       "        text-align: right;\n",
       "    }\n",
       "</style>\n",
       "<table border=\"1\" class=\"dataframe\">\n",
       "  <thead>\n",
       "    <tr style=\"text-align: right;\">\n",
       "      <th></th>\n",
       "      <th>h14_reg7</th>\n",
       "      <th>h14_g3</th>\n",
       "      <th>h14_g4</th>\n",
       "      <th>h14_g10</th>\n",
       "      <th>h14_g11</th>\n",
       "      <th>h14_eco9</th>\n",
       "      <th>p1402_8aq1</th>\n",
       "    </tr>\n",
       "  </thead>\n",
       "  <tbody>\n",
       "    <tr>\n",
       "      <th>0</th>\n",
       "      <td>1.0</td>\n",
       "      <td>2.0</td>\n",
       "      <td>1945.0</td>\n",
       "      <td>2.0</td>\n",
       "      <td>1.0</td>\n",
       "      <td>NaN</td>\n",
       "      <td>NaN</td>\n",
       "    </tr>\n",
       "    <tr>\n",
       "      <th>1</th>\n",
       "      <td>1.0</td>\n",
       "      <td>1.0</td>\n",
       "      <td>1948.0</td>\n",
       "      <td>2.0</td>\n",
       "      <td>2.0</td>\n",
       "      <td>NaN</td>\n",
       "      <td>NaN</td>\n",
       "    </tr>\n",
       "    <tr>\n",
       "      <th>2</th>\n",
       "      <td>1.0</td>\n",
       "      <td>1.0</td>\n",
       "      <td>1942.0</td>\n",
       "      <td>3.0</td>\n",
       "      <td>1.0</td>\n",
       "      <td>762.0</td>\n",
       "      <td>107.0</td>\n",
       "    </tr>\n",
       "    <tr>\n",
       "      <th>3</th>\n",
       "      <td>1.0</td>\n",
       "      <td>1.0</td>\n",
       "      <td>1962.0</td>\n",
       "      <td>1.0</td>\n",
       "      <td>1.0</td>\n",
       "      <td>855.0</td>\n",
       "      <td>192.0</td>\n",
       "    </tr>\n",
       "    <tr>\n",
       "      <th>4</th>\n",
       "      <td>1.0</td>\n",
       "      <td>2.0</td>\n",
       "      <td>1963.0</td>\n",
       "      <td>1.0</td>\n",
       "      <td>1.0</td>\n",
       "      <td>NaN</td>\n",
       "      <td>NaN</td>\n",
       "    </tr>\n",
       "  </tbody>\n",
       "</table>\n",
       "</div>"
      ],
      "text/plain": [
       "   h14_reg7  h14_g3  h14_g4  h14_g10  h14_g11  h14_eco9  p1402_8aq1\n",
       "0       1.0     2.0  1945.0      2.0      1.0       NaN         NaN\n",
       "1       1.0     1.0  1948.0      2.0      2.0       NaN         NaN\n",
       "2       1.0     1.0  1942.0      3.0      1.0     762.0       107.0\n",
       "3       1.0     1.0  1962.0      1.0      1.0     855.0       192.0\n",
       "4       1.0     2.0  1963.0      1.0      1.0       NaN         NaN"
      ]
     },
     "execution_count": 5,
     "metadata": {},
     "output_type": "execute_result"
    }
   ],
   "source": [
    "welfare = pd.read_csv('./수업용0207/data/Koweps_hpwc14_2019.csv',\n",
    "                     usecols = ['h14_g3', 'h14_g4','h14_g10', 'h14_g11', \n",
    "                                'p1402_8aq1','h14_eco9', 'h14_reg7'])\n",
    "welfare.head()"
   ]
  },
  {
   "cell_type": "code",
   "execution_count": 6,
   "id": "142595fc-6771-44c6-b8ef-844296291799",
   "metadata": {},
   "outputs": [
    {
     "name": "stdout",
     "output_type": "stream",
     "text": [
      "<class 'pandas.core.frame.DataFrame'>\n",
      "RangeIndex: 14418 entries, 0 to 14417\n",
      "Data columns (total 7 columns):\n",
      " #   Column      Non-Null Count  Dtype  \n",
      "---  ------      --------------  -----  \n",
      " 0   h14_reg7    14418 non-null  float64\n",
      " 1   h14_g3      14418 non-null  float64\n",
      " 2   h14_g4      14418 non-null  float64\n",
      " 3   h14_g10     14418 non-null  float64\n",
      " 4   h14_g11     14418 non-null  float64\n",
      " 5   h14_eco9    6878 non-null   float64\n",
      " 6   p1402_8aq1  4534 non-null   float64\n",
      "dtypes: float64(7)\n",
      "memory usage: 788.6 KB\n"
     ]
    }
   ],
   "source": [
    "# 데이터 확인\n",
    "welfare.info()"
   ]
  },
  {
   "cell_type": "code",
   "execution_count": null,
   "id": "461f4de6-364e-4aa2-aaab-7b040af204d1",
   "metadata": {},
   "outputs": [],
   "source": []
  },
  {
   "cell_type": "markdown",
   "id": "3c72cb13",
   "metadata": {},
   "source": [
    "#### 변수명 바꾸기"
   ]
  },
  {
   "cell_type": "code",
   "execution_count": 7,
   "id": "1b17969d",
   "metadata": {},
   "outputs": [
    {
     "data": {
      "text/html": [
       "<div>\n",
       "<style scoped>\n",
       "    .dataframe tbody tr th:only-of-type {\n",
       "        vertical-align: middle;\n",
       "    }\n",
       "\n",
       "    .dataframe tbody tr th {\n",
       "        vertical-align: top;\n",
       "    }\n",
       "\n",
       "    .dataframe thead th {\n",
       "        text-align: right;\n",
       "    }\n",
       "</style>\n",
       "<table border=\"1\" class=\"dataframe\">\n",
       "  <thead>\n",
       "    <tr style=\"text-align: right;\">\n",
       "      <th></th>\n",
       "      <th>code_region</th>\n",
       "      <th>sex</th>\n",
       "      <th>birth</th>\n",
       "      <th>marriage_type</th>\n",
       "      <th>religion</th>\n",
       "      <th>code_job</th>\n",
       "      <th>income</th>\n",
       "    </tr>\n",
       "  </thead>\n",
       "  <tbody>\n",
       "    <tr>\n",
       "      <th>0</th>\n",
       "      <td>1.0</td>\n",
       "      <td>2.0</td>\n",
       "      <td>1945.0</td>\n",
       "      <td>2.0</td>\n",
       "      <td>1.0</td>\n",
       "      <td>NaN</td>\n",
       "      <td>NaN</td>\n",
       "    </tr>\n",
       "    <tr>\n",
       "      <th>1</th>\n",
       "      <td>1.0</td>\n",
       "      <td>1.0</td>\n",
       "      <td>1948.0</td>\n",
       "      <td>2.0</td>\n",
       "      <td>2.0</td>\n",
       "      <td>NaN</td>\n",
       "      <td>NaN</td>\n",
       "    </tr>\n",
       "    <tr>\n",
       "      <th>2</th>\n",
       "      <td>1.0</td>\n",
       "      <td>1.0</td>\n",
       "      <td>1942.0</td>\n",
       "      <td>3.0</td>\n",
       "      <td>1.0</td>\n",
       "      <td>762.0</td>\n",
       "      <td>107.0</td>\n",
       "    </tr>\n",
       "    <tr>\n",
       "      <th>3</th>\n",
       "      <td>1.0</td>\n",
       "      <td>1.0</td>\n",
       "      <td>1962.0</td>\n",
       "      <td>1.0</td>\n",
       "      <td>1.0</td>\n",
       "      <td>855.0</td>\n",
       "      <td>192.0</td>\n",
       "    </tr>\n",
       "    <tr>\n",
       "      <th>4</th>\n",
       "      <td>1.0</td>\n",
       "      <td>2.0</td>\n",
       "      <td>1963.0</td>\n",
       "      <td>1.0</td>\n",
       "      <td>1.0</td>\n",
       "      <td>NaN</td>\n",
       "      <td>NaN</td>\n",
       "    </tr>\n",
       "  </tbody>\n",
       "</table>\n",
       "</div>"
      ],
      "text/plain": [
       "   code_region  sex   birth  marriage_type  religion  code_job  income\n",
       "0          1.0  2.0  1945.0            2.0       1.0       NaN     NaN\n",
       "1          1.0  1.0  1948.0            2.0       2.0       NaN     NaN\n",
       "2          1.0  1.0  1942.0            3.0       1.0     762.0   107.0\n",
       "3          1.0  1.0  1962.0            1.0       1.0     855.0   192.0\n",
       "4          1.0  2.0  1963.0            1.0       1.0       NaN     NaN"
      ]
     },
     "execution_count": 7,
     "metadata": {},
     "output_type": "execute_result"
    }
   ],
   "source": [
    "welfare2 = welfare.rename(columns = {'h14_g3'     : 'sex',            #  성별\n",
    "                                     'h14_g4'     : 'birth',          #  태어난 연도\n",
    "                                     'h14_g10'    : 'marriage_type',  #  혼인 상태\n",
    "                                     'h14_g11'    : 'religion',       #  종교 \n",
    "                                     'p1402_8aq1' : 'income',         #  월급 \n",
    "                                     'h14_eco9'   : 'code_job',       #  직업 코드\n",
    "                                     'h14_reg7'   : 'code_region'})   #  지역 코드\n",
    "welfare2.head()"
   ]
  },
  {
   "cell_type": "code",
   "execution_count": 27,
   "id": "98fc2a5a-5c47-4879-8796-9be4d1c3d7e4",
   "metadata": {},
   "outputs": [
    {
     "data": {
      "text/html": [
       "<div>\n",
       "<style scoped>\n",
       "    .dataframe tbody tr th:only-of-type {\n",
       "        vertical-align: middle;\n",
       "    }\n",
       "\n",
       "    .dataframe tbody tr th {\n",
       "        vertical-align: top;\n",
       "    }\n",
       "\n",
       "    .dataframe thead th {\n",
       "        text-align: right;\n",
       "    }\n",
       "</style>\n",
       "<table border=\"1\" class=\"dataframe\">\n",
       "  <thead>\n",
       "    <tr style=\"text-align: right;\">\n",
       "      <th></th>\n",
       "      <th>code_region</th>\n",
       "      <th>sex</th>\n",
       "      <th>birth</th>\n",
       "      <th>marriage_type</th>\n",
       "      <th>religion</th>\n",
       "      <th>code_job</th>\n",
       "      <th>income</th>\n",
       "    </tr>\n",
       "  </thead>\n",
       "  <tbody>\n",
       "    <tr>\n",
       "      <th>0</th>\n",
       "      <td>1.0</td>\n",
       "      <td>2.0</td>\n",
       "      <td>1945.0</td>\n",
       "      <td>2.0</td>\n",
       "      <td>1.0</td>\n",
       "      <td>NaN</td>\n",
       "      <td>NaN</td>\n",
       "    </tr>\n",
       "    <tr>\n",
       "      <th>1</th>\n",
       "      <td>1.0</td>\n",
       "      <td>1.0</td>\n",
       "      <td>1948.0</td>\n",
       "      <td>2.0</td>\n",
       "      <td>2.0</td>\n",
       "      <td>NaN</td>\n",
       "      <td>NaN</td>\n",
       "    </tr>\n",
       "    <tr>\n",
       "      <th>2</th>\n",
       "      <td>1.0</td>\n",
       "      <td>1.0</td>\n",
       "      <td>1942.0</td>\n",
       "      <td>3.0</td>\n",
       "      <td>1.0</td>\n",
       "      <td>762.0</td>\n",
       "      <td>107.0</td>\n",
       "    </tr>\n",
       "    <tr>\n",
       "      <th>3</th>\n",
       "      <td>1.0</td>\n",
       "      <td>1.0</td>\n",
       "      <td>1962.0</td>\n",
       "      <td>1.0</td>\n",
       "      <td>1.0</td>\n",
       "      <td>855.0</td>\n",
       "      <td>192.0</td>\n",
       "    </tr>\n",
       "    <tr>\n",
       "      <th>4</th>\n",
       "      <td>1.0</td>\n",
       "      <td>2.0</td>\n",
       "      <td>1963.0</td>\n",
       "      <td>1.0</td>\n",
       "      <td>1.0</td>\n",
       "      <td>NaN</td>\n",
       "      <td>NaN</td>\n",
       "    </tr>\n",
       "    <tr>\n",
       "      <th>...</th>\n",
       "      <td>...</td>\n",
       "      <td>...</td>\n",
       "      <td>...</td>\n",
       "      <td>...</td>\n",
       "      <td>...</td>\n",
       "      <td>...</td>\n",
       "      <td>...</td>\n",
       "    </tr>\n",
       "    <tr>\n",
       "      <th>14413</th>\n",
       "      <td>5.0</td>\n",
       "      <td>2.0</td>\n",
       "      <td>1967.0</td>\n",
       "      <td>1.0</td>\n",
       "      <td>1.0</td>\n",
       "      <td>NaN</td>\n",
       "      <td>NaN</td>\n",
       "    </tr>\n",
       "    <tr>\n",
       "      <th>14414</th>\n",
       "      <td>5.0</td>\n",
       "      <td>2.0</td>\n",
       "      <td>1992.0</td>\n",
       "      <td>5.0</td>\n",
       "      <td>1.0</td>\n",
       "      <td>NaN</td>\n",
       "      <td>NaN</td>\n",
       "    </tr>\n",
       "    <tr>\n",
       "      <th>14415</th>\n",
       "      <td>5.0</td>\n",
       "      <td>1.0</td>\n",
       "      <td>1995.0</td>\n",
       "      <td>5.0</td>\n",
       "      <td>1.0</td>\n",
       "      <td>910.0</td>\n",
       "      <td>NaN</td>\n",
       "    </tr>\n",
       "    <tr>\n",
       "      <th>14416</th>\n",
       "      <td>5.0</td>\n",
       "      <td>2.0</td>\n",
       "      <td>1998.0</td>\n",
       "      <td>5.0</td>\n",
       "      <td>1.0</td>\n",
       "      <td>246.0</td>\n",
       "      <td>200.0</td>\n",
       "    </tr>\n",
       "    <tr>\n",
       "      <th>14417</th>\n",
       "      <td>5.0</td>\n",
       "      <td>1.0</td>\n",
       "      <td>2001.0</td>\n",
       "      <td>0.0</td>\n",
       "      <td>1.0</td>\n",
       "      <td>NaN</td>\n",
       "      <td>NaN</td>\n",
       "    </tr>\n",
       "  </tbody>\n",
       "</table>\n",
       "<p>14418 rows × 7 columns</p>\n",
       "</div>"
      ],
      "text/plain": [
       "       code_region  sex   birth  marriage_type  religion  code_job  income\n",
       "0              1.0  2.0  1945.0            2.0       1.0       NaN     NaN\n",
       "1              1.0  1.0  1948.0            2.0       2.0       NaN     NaN\n",
       "2              1.0  1.0  1942.0            3.0       1.0     762.0   107.0\n",
       "3              1.0  1.0  1962.0            1.0       1.0     855.0   192.0\n",
       "4              1.0  2.0  1963.0            1.0       1.0       NaN     NaN\n",
       "...            ...  ...     ...            ...       ...       ...     ...\n",
       "14413          5.0  2.0  1967.0            1.0       1.0       NaN     NaN\n",
       "14414          5.0  2.0  1992.0            5.0       1.0       NaN     NaN\n",
       "14415          5.0  1.0  1995.0            5.0       1.0     910.0     NaN\n",
       "14416          5.0  2.0  1998.0            5.0       1.0     246.0   200.0\n",
       "14417          5.0  1.0  2001.0            0.0       1.0       NaN     NaN\n",
       "\n",
       "[14418 rows x 7 columns]"
      ]
     },
     "execution_count": 27,
     "metadata": {},
     "output_type": "execute_result"
    }
   ],
   "source": [
    "welfare_df = welfare2.copy()\n",
    "welfare_df"
   ]
  },
  {
   "cell_type": "markdown",
   "id": "4973e90e-181a-496c-a1ce-c42419ae51a3",
   "metadata": {},
   "source": [
    "#### (1) 성별에 따른 월급 차이 - 성별에 따라 월급이 다른지 확인 "
   ]
  },
  {
   "cell_type": "markdown",
   "id": "dda3884d-4394-4f7f-b900-088cd9b8086d",
   "metadata": {},
   "source": [
    "- 결측값이 어느정도인지\n",
    "- 성별 빈도수 차이 확인"
   ]
  },
  {
   "cell_type": "code",
   "execution_count": 28,
   "id": "6dfb4d8e-1db0-4c9c-87d9-99091bcba283",
   "metadata": {},
   "outputs": [
    {
     "data": {
      "text/plain": [
       "sex\n",
       "여    7913\n",
       "남    6505\n",
       "Name: count, dtype: int64"
      ]
     },
     "execution_count": 28,
     "metadata": {},
     "output_type": "execute_result"
    }
   ],
   "source": [
    "welfare_df[\"sex\"] = [\"남\" if n==1.0 else \"여\" for n in welfare_df[\"sex\"]]\n",
    "welfare_df[\"sex\"].value_counts()"
   ]
  },
  {
   "cell_type": "code",
   "execution_count": 32,
   "id": "1cdf497a-7708-40bb-a441-e89806ed5808",
   "metadata": {},
   "outputs": [
    {
     "data": {
      "text/plain": [
       "<seaborn.axisgrid.FacetGrid at 0x25fbead47d0>"
      ]
     },
     "execution_count": 32,
     "metadata": {},
     "output_type": "execute_result"
    },
    {
     "data": {
      "image/png": "[encoded data removed]",
      "text/plain": [
       "<Figure size 500x500 with 1 Axes>"
      ]
     },
     "metadata": {},
     "output_type": "display_data"
    }
   ],
   "source": [
    "# 성별 빈도수 시각화\n",
    "# sns 패키지의 catplot 활용 : kind=count 데이터를 카테고리별로 count한 결과를 bar 그래프 생성\n",
    "sns.catplot(x=\"sex\",\n",
    "            kind=\"count\",\n",
    "            data=welfare_df,)"
   ]
  },
  {
   "cell_type": "code",
   "execution_count": 29,
   "id": "2242db4a-6c5f-496a-8924-a151ffd0156d",
   "metadata": {},
   "outputs": [
    {
     "name": "stdout",
     "output_type": "stream",
     "text": [
      "남성평균월급 : 349.04\n",
      "여성평균월급 : 186.29\n"
     ]
    }
   ],
   "source": [
    "# 1: 남성\n",
    "# 2: 여성\n",
    "print(\"남성평균월급 :\", welfare_df[welfare_df[\"sex\"]==\"남\"][\"income\"].mean().round(2))\n",
    "print(\"여성평균월급 :\", welfare_df[welfare_df[\"sex\"]==\"여\"][\"income\"].mean().round(2))"
   ]
  },
  {
   "cell_type": "code",
   "execution_count": 36,
   "id": "96c5422f-e79b-4a80-95bc-0a3297aa609c",
   "metadata": {},
   "outputs": [
    {
     "data": {
      "text/plain": [
       "<seaborn.axisgrid.FacetGrid at 0x25fc1152ad0>"
      ]
     },
     "execution_count": 36,
     "metadata": {},
     "output_type": "execute_result"
    },
    {
     "data": {
      "image/png": "[encoded data removed]",
      "text/plain": [
       "<Figure size 500x500 with 1 Axes>"
      ]
     },
     "metadata": {},
     "output_type": "display_data"
    }
   ],
   "source": [
    "sns.catplot(x=\"sex\",\n",
    "            y=\"income\",\n",
    "            kind=\"box\",\n",
    "            data=welfare_df,)"
   ]
  },
  {
   "cell_type": "markdown",
   "id": "d2e2bce2-65dd-488d-9ae7-f48181432d0a",
   "metadata": {},
   "source": [
    "- 월급변수 확인\n",
    "- 히스토그램으로 급여분포 확인"
   ]
  },
  {
   "cell_type": "code",
   "execution_count": 40,
   "id": "5e1598c4-30db-41ee-8af6-6e874a7450d3",
   "metadata": {},
   "outputs": [
    {
     "data": {
      "text/plain": [
       "count    4534.000000\n",
       "mean      268.455007\n",
       "std       198.021206\n",
       "min         0.000000\n",
       "25%       150.000000\n",
       "50%       220.000000\n",
       "75%       345.750000\n",
       "max      1892.000000\n",
       "Name: income, dtype: float64"
      ]
     },
     "execution_count": 40,
     "metadata": {},
     "output_type": "execute_result"
    },
    {
     "name": "stderr",
     "output_type": "stream",
     "text": [
      "c:\\Users\\82108\\anaconda3\\envs\\ohio\\Lib\\site-packages\\seaborn\\_oldcore.py:1119: FutureWarning: use_inf_as_na option is deprecated and will be removed in a future version. Convert inf values to NaN before operating instead.\n",
      "  with pd.option_context('mode.use_inf_as_na', True):\n"
     ]
    },
    {
     "data": {
      "text/plain": [
       "<Axes: xlabel='income', ylabel='Count'>"
      ]
     },
     "execution_count": 40,
     "metadata": {},
     "output_type": "execute_result"
    },
    {
     "data": {
      "image/png": "[encoded data removed]",
      "text/plain": [
       "<Figure size 640x480 with 1 Axes>"
      ]
     },
     "metadata": {},
     "output_type": "display_data"
    }
   ],
   "source": [
    "welfare_df[\"income\"].describe()\n",
    "sns.histplot(data=welfare_df, x=\"income\")"
   ]
  },
  {
   "cell_type": "code",
   "execution_count": 41,
   "id": "d8ae62ff-ab1f-456b-af92-896373e3f17c",
   "metadata": {},
   "outputs": [
    {
     "data": {
      "text/plain": [
       "<Axes: >"
      ]
     },
     "execution_count": 41,
     "metadata": {},
     "output_type": "execute_result"
    },
    {
     "data": {
      "image/png": "[encoded data removed]",
      "text/plain": [
       "<Figure size 640x480 with 1 Axes>"
      ]
     },
     "metadata": {},
     "output_type": "display_data"
    }
   ],
   "source": [
    "sns.boxplot(data=welfare_df[\"income\"])"
   ]
  },
  {
   "cell_type": "code",
   "execution_count": 43,
   "id": "5d6f7ade-7a16-40f5-93ef-f0d00f83a209",
   "metadata": {},
   "outputs": [
    {
     "data": {
      "text/plain": [
       "np.int64(9884)"
      ]
     },
     "execution_count": 43,
     "metadata": {},
     "output_type": "execute_result"
    }
   ],
   "source": [
    "welfare_df[\"income\"].isna().sum()\n",
    "# 급여 data가 없는 결측치는 9884개 : 급여가 없으면 잘못된 data가 아니고 경제활동이 없는 0"
   ]
  },
  {
   "cell_type": "code",
   "execution_count": 46,
   "id": "c4e403dd-a1e6-407d-9cc7-e3a27f1c44ca",
   "metadata": {},
   "outputs": [
    {
     "data": {
      "text/html": [
       "<div>\n",
       "<style scoped>\n",
       "    .dataframe tbody tr th:only-of-type {\n",
       "        vertical-align: middle;\n",
       "    }\n",
       "\n",
       "    .dataframe tbody tr th {\n",
       "        vertical-align: top;\n",
       "    }\n",
       "\n",
       "    .dataframe thead th {\n",
       "        text-align: right;\n",
       "    }\n",
       "</style>\n",
       "<table border=\"1\" class=\"dataframe\">\n",
       "  <thead>\n",
       "    <tr style=\"text-align: right;\">\n",
       "      <th></th>\n",
       "      <th>income</th>\n",
       "    </tr>\n",
       "    <tr>\n",
       "      <th>sex</th>\n",
       "      <th></th>\n",
       "    </tr>\n",
       "  </thead>\n",
       "  <tbody>\n",
       "    <tr>\n",
       "      <th>남</th>\n",
       "      <td>349.037571</td>\n",
       "    </tr>\n",
       "    <tr>\n",
       "      <th>여</th>\n",
       "      <td>186.293096</td>\n",
       "    </tr>\n",
       "  </tbody>\n",
       "</table>\n",
       "</div>"
      ],
      "text/plain": [
       "         income\n",
       "sex            \n",
       "남    349.037571\n",
       "여    186.293096"
      ]
     },
     "execution_count": 46,
     "metadata": {},
     "output_type": "execute_result"
    }
   ],
   "source": [
    "# 성별에 따른 급여 평균의 차이 - 수치 확인\n",
    "income_sex = welfare_df.groupby([\"sex\"], observed=True)[[\"income\"]].mean()\n",
    "income_sex\n",
    "# df.mean()함수는 연산시 null값은 제외되기 때문에 연산시 null값이 영향을 주지 않음"
   ]
  },
  {
   "cell_type": "code",
   "execution_count": 47,
   "id": "d5239715-9385-431c-ad87-50ef5d9e37f8",
   "metadata": {},
   "outputs": [
    {
     "data": {
      "text/html": [
       "<div>\n",
       "<style scoped>\n",
       "    .dataframe tbody tr th:only-of-type {\n",
       "        vertical-align: middle;\n",
       "    }\n",
       "\n",
       "    .dataframe tbody tr th {\n",
       "        vertical-align: top;\n",
       "    }\n",
       "\n",
       "    .dataframe thead th {\n",
       "        text-align: right;\n",
       "    }\n",
       "</style>\n",
       "<table border=\"1\" class=\"dataframe\">\n",
       "  <thead>\n",
       "    <tr style=\"text-align: right;\">\n",
       "      <th></th>\n",
       "      <th>income</th>\n",
       "    </tr>\n",
       "    <tr>\n",
       "      <th>sex</th>\n",
       "      <th></th>\n",
       "    </tr>\n",
       "  </thead>\n",
       "  <tbody>\n",
       "    <tr>\n",
       "      <th>남</th>\n",
       "      <td>349.037571</td>\n",
       "    </tr>\n",
       "    <tr>\n",
       "      <th>여</th>\n",
       "      <td>186.293096</td>\n",
       "    </tr>\n",
       "  </tbody>\n",
       "</table>\n",
       "</div>"
      ],
      "text/plain": [
       "         income\n",
       "sex            \n",
       "남    349.037571\n",
       "여    186.293096"
      ]
     },
     "execution_count": 47,
     "metadata": {},
     "output_type": "execute_result"
    }
   ],
   "source": [
    "# dropna\n",
    "welfare_df.dropna(subset=\"income\").groupby([\"sex\"], observed=True)[[\"income\"]].mean()"
   ]
  },
  {
   "cell_type": "markdown",
   "id": "8e2e7d13-5633-4deb-aa8a-51fda8035cbc",
   "metadata": {},
   "source": [
    "----------\n",
    "### observed=True 기능 알아보기\n"
   ]
  },
  {
   "cell_type": "code",
   "execution_count": 48,
   "id": "659778bb-5c9b-4109-a226-71e02ef4d4e5",
   "metadata": {},
   "outputs": [
    {
     "name": "stdout",
     "output_type": "stream",
     "text": [
      "   index  col1  col2  col3\n",
      "0      A     1     4     2\n",
      "1      A     6     4     6\n",
      "2      B     3     3     2\n",
      "3      B     8     0     4\n",
      "4      B     6     0     6\n",
      "5      C     2     7     3\n",
      "6      C     1     0     5\n",
      "7      C     5     7     3\n",
      "8      D     6     8     1\n",
      "9      D     8     7     3\n",
      "10     D     5     7     3\n",
      "11     D     1     4     2\n",
      "12     E     4     3     5\n",
      "13     E     7     4     5\n",
      "14     E     8     4     7\n"
     ]
    }
   ],
   "source": [
    "# 예제 data 생성\n",
    "idx=['A','A','B','B','B','C','C','C','D','D','D','D','E','E','E']\n",
    "col=['col1','col2','col3']\n",
    "data = np.random.randint(0,9,(15,3))\n",
    "df = pd.DataFrame(data=data, index=idx, columns=col).reset_index()\n",
    "print(df)"
   ]
  },
  {
   "cell_type": "markdown",
   "id": "63b1ee2c-5522-4c79-b171-ff885b9cb28b",
   "metadata": {},
   "source": [
    "- categorical 객체 : 카테고리형 데이터의 기준 cate를 생성, groupby 기준 객체로 사용가능"
   ]
  },
  {
   "cell_type": "code",
   "execution_count": 50,
   "id": "5e677b5f-1692-485c-82cc-3003317f2e41",
   "metadata": {},
   "outputs": [
    {
     "name": "stdout",
     "output_type": "stream",
     "text": [
      "<class 'pandas.core.arrays.categorical.Categorical'> ['A', 'A', 'B', 'B', 'B', ..., 'D', 'D', 'E', 'E', 'E']\n",
      "Length: 15\n",
      "Categories (6, object): ['A', 'B', 'C', 'D', 'E', 'F']\n"
     ]
    }
   ],
   "source": [
    "# categorical 객체 생성\n",
    "df_cat = pd.Categorical(df[\"index\"], categories= [\"A\", \"B\", \"C\", \"D\", \"E\", \"F\"])\n",
    "print(type(df_cat), df_cat)"
   ]
  },
  {
   "cell_type": "code",
   "execution_count": 52,
   "id": "40bd1d95-c156-41e7-b699-9cbf0693e699",
   "metadata": {},
   "outputs": [
    {
     "name": "stdout",
     "output_type": "stream",
     "text": [
      "A    2\n",
      "B    3\n",
      "C    3\n",
      "D    4\n",
      "E    3\n",
      "F    0\n",
      "Name: col1, dtype: int64\n",
      "A    2\n",
      "B    3\n",
      "C    3\n",
      "D    4\n",
      "E    3\n",
      "Name: col1, dtype: int64\n"
     ]
    }
   ],
   "source": [
    "# cate의 데이터가 없어도 F까지 표현\n",
    "print(df[\"col1\"].groupby(df_cat, observed=False).count())\n",
    "# cate의 데이터가 없으면 탈락시키고 표현\n",
    "print(df[\"col1\"].groupby(df_cat, observed=True).count())"
   ]
  },
  {
   "cell_type": "markdown",
   "id": "5f45c5b3-76c7-4d57-8d0a-91fea0d44ee2",
   "metadata": {},
   "source": [
    "----------"
   ]
  },
  {
   "cell_type": "markdown",
   "id": "24d1d87f-8ef9-4c5b-a229-6a47f40d9c0b",
   "metadata": {},
   "source": [
    "- 성별에 따른 급여차이 시각화"
   ]
  },
  {
   "cell_type": "code",
   "execution_count": 55,
   "id": "a5301f41-52b0-47c3-9a44-0e1b91d63f61",
   "metadata": {},
   "outputs": [
    {
     "data": {
      "text/html": [
       "<div>\n",
       "<style scoped>\n",
       "    .dataframe tbody tr th:only-of-type {\n",
       "        vertical-align: middle;\n",
       "    }\n",
       "\n",
       "    .dataframe tbody tr th {\n",
       "        vertical-align: top;\n",
       "    }\n",
       "\n",
       "    .dataframe thead th {\n",
       "        text-align: right;\n",
       "    }\n",
       "</style>\n",
       "<table border=\"1\" class=\"dataframe\">\n",
       "  <thead>\n",
       "    <tr style=\"text-align: right;\">\n",
       "      <th></th>\n",
       "      <th>income</th>\n",
       "    </tr>\n",
       "    <tr>\n",
       "      <th>sex</th>\n",
       "      <th></th>\n",
       "    </tr>\n",
       "  </thead>\n",
       "  <tbody>\n",
       "    <tr>\n",
       "      <th>남</th>\n",
       "      <td>349.037571</td>\n",
       "    </tr>\n",
       "    <tr>\n",
       "      <th>여</th>\n",
       "      <td>186.293096</td>\n",
       "    </tr>\n",
       "  </tbody>\n",
       "</table>\n",
       "</div>"
      ],
      "text/plain": [
       "         income\n",
       "sex            \n",
       "남    349.037571\n",
       "여    186.293096"
      ]
     },
     "execution_count": 55,
     "metadata": {},
     "output_type": "execute_result"
    }
   ],
   "source": [
    "income_sex"
   ]
  },
  {
   "cell_type": "code",
   "execution_count": 56,
   "id": "bd26aa04-a092-4367-8973-0de0ad11051d",
   "metadata": {},
   "outputs": [
    {
     "data": {
      "text/plain": [
       "<Axes: xlabel='sex', ylabel='income'>"
      ]
     },
     "execution_count": 56,
     "metadata": {},
     "output_type": "execute_result"
    },
    {
     "data": {
      "image/png": "[encoded data removed]",
      "text/plain": [
       "<Figure size 640x480 with 1 Axes>"
      ]
     },
     "metadata": {},
     "output_type": "display_data"
    }
   ],
   "source": [
    "# sns.barplot(data=income_sex, x=\"sex\", y=\"income\")\n",
    "# plt.show()\n",
    "sns.boxplot(data=welfare_df, x=\"sex\", y=\"income\")\n",
    "plt.show()"
   ]
  },
  {
   "cell_type": "markdown",
   "id": "ed692cb2-4496-4110-94ed-ea34a04b8178",
   "metadata": {},
   "source": [
    "#### 결론\n",
    "- 성별에 따른 월급 차이가 난다\n",
    "- 남성이 여성에 비해 평균 163만원 높다"
   ]
  },
  {
   "cell_type": "markdown",
   "id": "f86fab2e",
   "metadata": {},
   "source": [
    "#### (2) 나이와 월급의 관계 - 언제 급여가 가장 높은지 확인 \n",
    "- 히스토그램으로 나이분포 확인"
   ]
  },
  {
   "cell_type": "code",
   "execution_count": 74,
   "id": "7addd5ba-00e7-4818-8aa5-52285077a953",
   "metadata": {},
   "outputs": [
    {
     "name": "stdout",
     "output_type": "stream",
     "text": [
      "2018.0\n"
     ]
    }
   ],
   "source": [
    "print(welfare_df[\"birth\"].max())"
   ]
  },
  {
   "cell_type": "code",
   "execution_count": 66,
   "id": "241a9d3f-614a-4465-9ebb-ce3861df77f4",
   "metadata": {},
   "outputs": [
    {
     "name": "stdout",
     "output_type": "stream",
     "text": [
      "0\n"
     ]
    }
   ],
   "source": [
    "# 결측치 확인 : 데이터 교체 대비 결측치 확인 코드\n",
    "# 현재 데이터에는 결측이 없음\n",
    "print(welfare_df[\"birth\"].isna().sum())"
   ]
  },
  {
   "cell_type": "code",
   "execution_count": 64,
   "id": "108ee32e-0ea3-4d03-886d-24f2e9b40c1a",
   "metadata": {},
   "outputs": [
    {
     "data": {
      "text/plain": [
       "array([1945., 1948., 1942., 1962., 1963., 2003., 1927., 1934., 1940.,\n",
       "       1970., 1992., 1941., 1978., 1975., 2004., 2008., 1964., 1982.,\n",
       "       1961., 1986., 1985., 1952., 1984., 1971., 1943., 1972., 1974.,\n",
       "       2006., 1980., 1954., 1973., 1926., 1936., 1968., 1976., 2010.,\n",
       "       2012., 1937., 2009., 1959., 1967., 1995., 1998., 1955., 1958.,\n",
       "       1994., 1999., 2007., 1950., 1956., 1930., 1938., 1991., 1989.,\n",
       "       1997., 1957., 1947., 1960., 1983., 1981., 1946., 1965., 2001.,\n",
       "       1988., 1979., 1987., 2013., 2017., 1996., 1933., 1935., 1953.,\n",
       "       1990., 1977., 2000., 2002., 2014., 1939., 1949., 2016., 1966.,\n",
       "       1969., 1925., 2011., 2015., 1932., 1951., 1944., 1993., 1929.,\n",
       "       2005., 1917., 2018., 1931., 1922., 1924., 1923., 1907., 1921.,\n",
       "       1928., 1919., 1920.])"
      ]
     },
     "execution_count": 64,
     "metadata": {},
     "output_type": "execute_result"
    },
    {
     "data": {
      "text/html": [
       "<div>\n",
       "<style scoped>\n",
       "    .dataframe tbody tr th:only-of-type {\n",
       "        vertical-align: middle;\n",
       "    }\n",
       "\n",
       "    .dataframe tbody tr th {\n",
       "        vertical-align: top;\n",
       "    }\n",
       "\n",
       "    .dataframe thead th {\n",
       "        text-align: right;\n",
       "    }\n",
       "</style>\n",
       "<table border=\"1\" class=\"dataframe\">\n",
       "  <thead>\n",
       "    <tr style=\"text-align: right;\">\n",
       "      <th></th>\n",
       "      <th>code_region</th>\n",
       "      <th>sex</th>\n",
       "      <th>birth</th>\n",
       "      <th>marriage_type</th>\n",
       "      <th>religion</th>\n",
       "      <th>code_job</th>\n",
       "      <th>income</th>\n",
       "      <th>age</th>\n",
       "    </tr>\n",
       "  </thead>\n",
       "  <tbody>\n",
       "    <tr>\n",
       "      <th>0</th>\n",
       "      <td>1.0</td>\n",
       "      <td>여</td>\n",
       "      <td>1945.0</td>\n",
       "      <td>2.0</td>\n",
       "      <td>1.0</td>\n",
       "      <td>NaN</td>\n",
       "      <td>NaN</td>\n",
       "      <td>74</td>\n",
       "    </tr>\n",
       "    <tr>\n",
       "      <th>1</th>\n",
       "      <td>1.0</td>\n",
       "      <td>남</td>\n",
       "      <td>1948.0</td>\n",
       "      <td>2.0</td>\n",
       "      <td>2.0</td>\n",
       "      <td>NaN</td>\n",
       "      <td>NaN</td>\n",
       "      <td>71</td>\n",
       "    </tr>\n",
       "    <tr>\n",
       "      <th>2</th>\n",
       "      <td>1.0</td>\n",
       "      <td>남</td>\n",
       "      <td>1942.0</td>\n",
       "      <td>3.0</td>\n",
       "      <td>1.0</td>\n",
       "      <td>762.0</td>\n",
       "      <td>107.0</td>\n",
       "      <td>77</td>\n",
       "    </tr>\n",
       "    <tr>\n",
       "      <th>3</th>\n",
       "      <td>1.0</td>\n",
       "      <td>남</td>\n",
       "      <td>1962.0</td>\n",
       "      <td>1.0</td>\n",
       "      <td>1.0</td>\n",
       "      <td>855.0</td>\n",
       "      <td>192.0</td>\n",
       "      <td>57</td>\n",
       "    </tr>\n",
       "    <tr>\n",
       "      <th>4</th>\n",
       "      <td>1.0</td>\n",
       "      <td>여</td>\n",
       "      <td>1963.0</td>\n",
       "      <td>1.0</td>\n",
       "      <td>1.0</td>\n",
       "      <td>NaN</td>\n",
       "      <td>NaN</td>\n",
       "      <td>56</td>\n",
       "    </tr>\n",
       "  </tbody>\n",
       "</table>\n",
       "</div>"
      ],
      "text/plain": [
       "   code_region sex   birth  marriage_type  religion  code_job  income  age\n",
       "0          1.0   여  1945.0            2.0       1.0       NaN     NaN   74\n",
       "1          1.0   남  1948.0            2.0       2.0       NaN     NaN   71\n",
       "2          1.0   남  1942.0            3.0       1.0     762.0   107.0   77\n",
       "3          1.0   남  1962.0            1.0       1.0     855.0   192.0   57\n",
       "4          1.0   여  1963.0            1.0       1.0       NaN     NaN   56"
      ]
     },
     "execution_count": 64,
     "metadata": {},
     "output_type": "execute_result"
    }
   ],
   "source": [
    "welfare_df[\"birth\"].unique()\n",
    "welfare_df[\"age\"] = (2019 - welfare_df[\"birth\"]).astype(int)\n",
    "welfare_df.head()"
   ]
  },
  {
   "cell_type": "code",
   "execution_count": 65,
   "id": "937bf15d-8354-4c64-94ec-5cb4d87da857",
   "metadata": {},
   "outputs": [
    {
     "name": "stderr",
     "output_type": "stream",
     "text": [
      "c:\\Users\\82108\\anaconda3\\envs\\ohio\\Lib\\site-packages\\seaborn\\_oldcore.py:1119: FutureWarning: use_inf_as_na option is deprecated and will be removed in a future version. Convert inf values to NaN before operating instead.\n",
      "  with pd.option_context('mode.use_inf_as_na', True):\n"
     ]
    },
    {
     "data": {
      "text/plain": [
       "<Axes: xlabel='age', ylabel='Count'>"
      ]
     },
     "execution_count": 65,
     "metadata": {},
     "output_type": "execute_result"
    },
    {
     "data": {
      "image/png": "[encoded data removed]",
      "text/plain": [
       "<Figure size 640x480 with 1 Axes>"
      ]
     },
     "metadata": {},
     "output_type": "display_data"
    }
   ],
   "source": [
    "import seaborn as sns\n",
    "\n",
    "sns.histplot(x=\"age\", data=welfare_df)\n",
    "plt.show()"
   ]
  },
  {
   "cell_type": "markdown",
   "id": "174316c0-773d-4c87-aca8-b67bfd2eca37",
   "metadata": {},
   "source": [
    "- 나이에 따른 평균 월급 구하기\n",
    "- 급여를 받지 않는 레코드는 제외"
   ]
  },
  {
   "cell_type": "code",
   "execution_count": null,
   "id": "2320e220-83b1-4dce-973c-0a6987983594",
   "metadata": {},
   "outputs": [],
   "source": [
    "welfare_df.dropna(subset=\"income\").groupby([\"age\"], observed=True)[[\"income\"]].mean()"
   ]
  },
  {
   "cell_type": "code",
   "execution_count": 71,
   "id": "7a340223-7a7d-4efe-ab08-2034fd6dd8a4",
   "metadata": {},
   "outputs": [
    {
     "data": {
      "text/html": [
       "<div>\n",
       "<style scoped>\n",
       "    .dataframe tbody tr th:only-of-type {\n",
       "        vertical-align: middle;\n",
       "    }\n",
       "\n",
       "    .dataframe tbody tr th {\n",
       "        vertical-align: top;\n",
       "    }\n",
       "\n",
       "    .dataframe thead th {\n",
       "        text-align: right;\n",
       "    }\n",
       "</style>\n",
       "<table border=\"1\" class=\"dataframe\">\n",
       "  <thead>\n",
       "    <tr style=\"text-align: right;\">\n",
       "      <th></th>\n",
       "      <th>income</th>\n",
       "    </tr>\n",
       "    <tr>\n",
       "      <th>age</th>\n",
       "      <th></th>\n",
       "    </tr>\n",
       "  </thead>\n",
       "  <tbody>\n",
       "    <tr>\n",
       "      <th>18</th>\n",
       "      <td>162.000000</td>\n",
       "    </tr>\n",
       "    <tr>\n",
       "      <th>19</th>\n",
       "      <td>121.333333</td>\n",
       "    </tr>\n",
       "    <tr>\n",
       "      <th>20</th>\n",
       "      <td>136.400000</td>\n",
       "    </tr>\n",
       "  </tbody>\n",
       "</table>\n",
       "</div>"
      ],
      "text/plain": [
       "         income\n",
       "age            \n",
       "18   162.000000\n",
       "19   121.333333\n",
       "20   136.400000"
      ]
     },
     "execution_count": 71,
     "metadata": {},
     "output_type": "execute_result"
    },
    {
     "data": {
      "text/html": [
       "<div>\n",
       "<style scoped>\n",
       "    .dataframe tbody tr th:only-of-type {\n",
       "        vertical-align: middle;\n",
       "    }\n",
       "\n",
       "    .dataframe tbody tr th {\n",
       "        vertical-align: top;\n",
       "    }\n",
       "\n",
       "    .dataframe thead th {\n",
       "        text-align: right;\n",
       "    }\n",
       "</style>\n",
       "<table border=\"1\" class=\"dataframe\">\n",
       "  <thead>\n",
       "    <tr style=\"text-align: right;\">\n",
       "      <th></th>\n",
       "      <th>income</th>\n",
       "    </tr>\n",
       "    <tr>\n",
       "      <th>age</th>\n",
       "      <th></th>\n",
       "    </tr>\n",
       "  </thead>\n",
       "  <tbody>\n",
       "    <tr>\n",
       "      <th>89</th>\n",
       "      <td>27.0</td>\n",
       "    </tr>\n",
       "    <tr>\n",
       "      <th>90</th>\n",
       "      <td>20.0</td>\n",
       "    </tr>\n",
       "    <tr>\n",
       "      <th>91</th>\n",
       "      <td>27.0</td>\n",
       "    </tr>\n",
       "  </tbody>\n",
       "</table>\n",
       "</div>"
      ],
      "text/plain": [
       "     income\n",
       "age        \n",
       "89     27.0\n",
       "90     20.0\n",
       "91     27.0"
      ]
     },
     "execution_count": 71,
     "metadata": {},
     "output_type": "execute_result"
    }
   ],
   "source": [
    "ageIncome = welfare_df.dropna(subset=\"income\").groupby([\"age\"], observed=True)[[\"income\"]].mean()\n",
    "ageIncome.head(3)\n",
    "ageIncome.tail(3)"
   ]
  },
  {
   "cell_type": "code",
   "execution_count": 72,
   "id": "d0b3b0b3-a887-4203-99f1-854e2970978e",
   "metadata": {},
   "outputs": [
    {
     "name": "stderr",
     "output_type": "stream",
     "text": [
      "c:\\Users\\82108\\anaconda3\\envs\\ohio\\Lib\\site-packages\\seaborn\\_oldcore.py:1119: FutureWarning: use_inf_as_na option is deprecated and will be removed in a future version. Convert inf values to NaN before operating instead.\n",
      "  with pd.option_context('mode.use_inf_as_na', True):\n",
      "c:\\Users\\82108\\anaconda3\\envs\\ohio\\Lib\\site-packages\\seaborn\\_oldcore.py:1119: FutureWarning: use_inf_as_na option is deprecated and will be removed in a future version. Convert inf values to NaN before operating instead.\n",
      "  with pd.option_context('mode.use_inf_as_na', True):\n"
     ]
    },
    {
     "data": {
      "text/plain": [
       "<Axes: xlabel='age', ylabel='income'>"
      ]
     },
     "execution_count": 72,
     "metadata": {},
     "output_type": "execute_result"
    },
    {
     "data": {
      "image/png": "[encoded data removed]",
      "text/plain": [
       "<Figure size 640x480 with 1 Axes>"
      ]
     },
     "metadata": {},
     "output_type": "display_data"
    }
   ],
   "source": [
    "# 나이에 따른 월급 차이 시각화 -2019기준\n",
    "sns.lineplot(data=ageIncome, x=\"age\", y=\"income\")\n",
    "plt.show()"
   ]
  },
  {
   "cell_type": "code",
   "execution_count": 73,
   "id": "42eb36cf-e6f5-423b-8c2e-cf6b8d5273bc",
   "metadata": {},
   "outputs": [
    {
     "data": {
      "text/plain": [
       "count    14418.000000\n",
       "mean        49.719795\n",
       "std         24.402250\n",
       "min          1.000000\n",
       "25%         29.000000\n",
       "50%         51.000000\n",
       "75%         71.000000\n",
       "max        112.000000\n",
       "Name: age, dtype: float64"
      ]
     },
     "execution_count": 73,
     "metadata": {},
     "output_type": "execute_result"
    }
   ],
   "source": [
    "# 나이 기초통계\n",
    "welfare_df[\"age\"].describe()"
   ]
  },
  {
   "cell_type": "code",
   "execution_count": 74,
   "id": "a36c89c9-a273-46a4-b6b7-207f3877d81a",
   "metadata": {},
   "outputs": [
    {
     "data": {
      "text/html": [
       "<div>\n",
       "<style scoped>\n",
       "    .dataframe tbody tr th:only-of-type {\n",
       "        vertical-align: middle;\n",
       "    }\n",
       "\n",
       "    .dataframe tbody tr th {\n",
       "        vertical-align: top;\n",
       "    }\n",
       "\n",
       "    .dataframe thead th {\n",
       "        text-align: right;\n",
       "    }\n",
       "</style>\n",
       "<table border=\"1\" class=\"dataframe\">\n",
       "  <thead>\n",
       "    <tr style=\"text-align: right;\">\n",
       "      <th></th>\n",
       "      <th>income</th>\n",
       "    </tr>\n",
       "    <tr>\n",
       "      <th>age</th>\n",
       "      <th></th>\n",
       "    </tr>\n",
       "  </thead>\n",
       "  <tbody>\n",
       "    <tr>\n",
       "      <th>43</th>\n",
       "      <td>386.195876</td>\n",
       "    </tr>\n",
       "    <tr>\n",
       "      <th>47</th>\n",
       "      <td>379.827586</td>\n",
       "    </tr>\n",
       "    <tr>\n",
       "      <th>49</th>\n",
       "      <td>368.539683</td>\n",
       "    </tr>\n",
       "  </tbody>\n",
       "</table>\n",
       "</div>"
      ],
      "text/plain": [
       "         income\n",
       "age            \n",
       "43   386.195876\n",
       "47   379.827586\n",
       "49   368.539683"
      ]
     },
     "execution_count": 74,
     "metadata": {},
     "output_type": "execute_result"
    }
   ],
   "source": [
    "ageIncome = pd.DataFrame(welfare_df.groupby(\"age\")[\"income\"].mean())\n",
    "ageIncome.sort_values(by =\"income\", ascending=False).head(3)"
   ]
  },
  {
   "cell_type": "code",
   "execution_count": 76,
   "id": "4ba3a1a6-f958-418d-9255-4f97941bdbed",
   "metadata": {},
   "outputs": [
    {
     "data": {
      "text/plain": [
       "count    4527.000000\n",
       "mean       47.873647\n",
       "std        15.293994\n",
       "min        18.000000\n",
       "25%        37.000000\n",
       "50%        47.000000\n",
       "75%        58.000000\n",
       "max        91.000000\n",
       "Name: age, dtype: float64"
      ]
     },
     "execution_count": 76,
     "metadata": {},
     "output_type": "execute_result"
    }
   ],
   "source": [
    "welfare_df[welfare_df[\"income\"]>0][\"age\"].describe()"
   ]
  },
  {
   "cell_type": "code",
   "execution_count": 81,
   "id": "b6f4fc43-9311-4e00-841a-26c09c07cc4f",
   "metadata": {},
   "outputs": [
    {
     "data": {
      "text/plain": [
       "np.int64(1)"
      ]
     },
     "execution_count": 81,
     "metadata": {},
     "output_type": "execute_result"
    },
    {
     "data": {
      "text/plain": [
       "np.int64(2121)"
      ]
     },
     "execution_count": 81,
     "metadata": {},
     "output_type": "execute_result"
    },
    {
     "name": "stdout",
     "output_type": "stream",
     "text": [
      "<class 'pandas.core.series.Series'>\n",
      "Index: 2122 entries, 5 to 14417\n",
      "Series name: income\n",
      "Non-Null Count  Dtype  \n",
      "--------------  -----  \n",
      "1 non-null      float64\n",
      "dtypes: float64(1)\n",
      "memory usage: 33.2 KB\n"
     ]
    }
   ],
   "source": [
    "welfare_df[welfare_df[\"age\"]<19][\"income\"].count()\n",
    "welfare_df[welfare_df[\"age\"]<19][\"income\"].isna().sum()\n",
    "welfare_df[welfare_df[\"age\"]<19][\"income\"].info()"
   ]
  },
  {
   "cell_type": "markdown",
   "id": "59c6bae6-39cf-47bb-91c9-4b3c2e73dba2",
   "metadata": {},
   "source": [
    "#### (3) 연령대에 따른 월급 차이 - 어떤 연령대의 월급이 가장 많은지 확인"
   ]
  },
  {
   "cell_type": "markdown",
   "id": "715b3e44-88d8-4020-b996-9944107d96d4",
   "metadata": {},
   "source": [
    "- 파생변수 만들기 - 연령대¶  \n",
    "- 연령대에 따른 월급 차이 분석  \n",
    "- 시각화 해서 확인\n",
    "    - 미성년(~19),\n",
    "    - 청년(19~39),\n",
    "    - 중년(40~49),\n",
    "    - 장년(50~64),\n",
    "    - 노년(65이상)\n",
    "- pandas. cut(data, bins=, labels=)"
   ]
  },
  {
   "cell_type": "code",
   "execution_count": 84,
   "id": "7e6ac368-fc7d-4822-9376-44e2861887c6",
   "metadata": {},
   "outputs": [
    {
     "data": {
      "text/plain": [
       "age_bin\n",
       "노년    4815\n",
       "청년    2790\n",
       "장년    2772\n",
       "중년    1919\n",
       "Name: count, dtype: int64"
      ]
     },
     "execution_count": 84,
     "metadata": {},
     "output_type": "execute_result"
    }
   ],
   "source": [
    "# 연령대 컬럼\n",
    "bins = [18, 39, 49, 64, 113]\n",
    "labels = [\"청년\", \"중년\", \"장년\", \"노년\"]\n",
    "welfare_df[\"age_bin\"] = pd.cut(welfare_df[\"age\"], bins = bins, labels=labels)\n",
    "welfare_df[\"age_bin\"].value_counts()"
   ]
  },
  {
   "cell_type": "code",
   "execution_count": 85,
   "id": "73dcef64-0f80-4516-837a-3622cf05b7da",
   "metadata": {},
   "outputs": [
    {
     "data": {
      "text/plain": [
       "np.int64(2122)"
      ]
     },
     "execution_count": 85,
     "metadata": {},
     "output_type": "execute_result"
    }
   ],
   "source": [
    "welfare_df[\"age_bin\"].isna().sum()"
   ]
  },
  {
   "cell_type": "code",
   "execution_count": 86,
   "id": "d344b410-21d2-490f-a1c0-429c8fbc63f6",
   "metadata": {},
   "outputs": [
    {
     "data": {
      "text/html": [
       "<div>\n",
       "<style scoped>\n",
       "    .dataframe tbody tr th:only-of-type {\n",
       "        vertical-align: middle;\n",
       "    }\n",
       "\n",
       "    .dataframe tbody tr th {\n",
       "        vertical-align: top;\n",
       "    }\n",
       "\n",
       "    .dataframe thead th {\n",
       "        text-align: right;\n",
       "    }\n",
       "</style>\n",
       "<table border=\"1\" class=\"dataframe\">\n",
       "  <thead>\n",
       "    <tr style=\"text-align: right;\">\n",
       "      <th></th>\n",
       "      <th>income</th>\n",
       "    </tr>\n",
       "    <tr>\n",
       "      <th>age_bin</th>\n",
       "      <th></th>\n",
       "    </tr>\n",
       "  </thead>\n",
       "  <tbody>\n",
       "    <tr>\n",
       "      <th>청년</th>\n",
       "      <td>261.186844</td>\n",
       "    </tr>\n",
       "    <tr>\n",
       "      <th>중년</th>\n",
       "      <td>355.277496</td>\n",
       "    </tr>\n",
       "    <tr>\n",
       "      <th>장년</th>\n",
       "      <td>294.555738</td>\n",
       "    </tr>\n",
       "    <tr>\n",
       "      <th>노년</th>\n",
       "      <td>91.853276</td>\n",
       "    </tr>\n",
       "  </tbody>\n",
       "</table>\n",
       "</div>"
      ],
      "text/plain": [
       "             income\n",
       "age_bin            \n",
       "청년       261.186844\n",
       "중년       355.277496\n",
       "장년       294.555738\n",
       "노년        91.853276"
      ]
     },
     "execution_count": 86,
     "metadata": {},
     "output_type": "execute_result"
    }
   ],
   "source": [
    "# 연령대별 급여의 평균 df 생성\n",
    "incomAge_bin = welfare_df.dropna(subset=\"income\").groupby([\"age_bin\"], observed=True)[[\"income\"]].mean()\n",
    "incomAge_bin"
   ]
  },
  {
   "cell_type": "code",
   "execution_count": 93,
   "id": "8e96477e-c588-432b-9f95-c856b62f68ff",
   "metadata": {},
   "outputs": [
    {
     "name": "stderr",
     "output_type": "stream",
     "text": [
      "c:\\Users\\82108\\anaconda3\\envs\\ohio\\Lib\\site-packages\\seaborn\\categorical.py:641: FutureWarning: The default of observed=False is deprecated and will be changed to True in a future version of pandas. Pass observed=False to retain current behavior or observed=True to adopt the future default and silence this warning.\n",
      "  grouped_vals = vals.groupby(grouper)\n"
     ]
    },
    {
     "data": {
      "text/plain": [
       "<Axes: xlabel='age_bin', ylabel='income'>"
      ]
     },
     "execution_count": 93,
     "metadata": {},
     "output_type": "execute_result"
    },
    {
     "data": {
      "image/png": "[encoded data removed]",
      "text/plain": [
       "<Figure size 640x480 with 1 Axes>"
      ]
     },
     "metadata": {},
     "output_type": "display_data"
    }
   ],
   "source": [
    "sns.barplot(data=incomAge_bin.reset_index(), x=\"age_bin\", y=\"income\")\n",
    "plt.show()\n",
    "# 노년 <청년 <장년 <중년\n",
    "# 40~49세 : 평균 급여 352만원으로 가장 높게 나타낫음"
   ]
  },
  {
   "cell_type": "code",
   "execution_count": 75,
   "id": "0563f056-d572-4fce-a7d3-4367bd78ffdc",
   "metadata": {},
   "outputs": [],
   "source": [
    "welfare_df[\"연령대\"] =  welfare_df[\"age\"] // 10 * 10"
   ]
  },
  {
   "cell_type": "code",
   "execution_count": null,
   "id": "60555a0b-6278-4e80-9d0f-c04109ae6212",
   "metadata": {},
   "outputs": [],
   "source": [
    "welfare_df[\"연령대\"]"
   ]
  },
  {
   "cell_type": "code",
   "execution_count": 80,
   "id": "4f2d9bbb-eb5e-4f55-b4c5-bddefa254dbb",
   "metadata": {},
   "outputs": [
    {
     "data": {
      "text/plain": [
       "118      0\n",
       "157      0\n",
       "164      0\n",
       "360      0\n",
       "365      0\n",
       "        ..\n",
       "14077    0\n",
       "14223    0\n",
       "14281    0\n",
       "14330    0\n",
       "14342    0\n",
       "Name: 연령대, Length: 185, dtype: int64"
      ]
     },
     "execution_count": 80,
     "metadata": {},
     "output_type": "execute_result"
    },
    {
     "data": {
      "text/plain": [
       "array([nan])"
      ]
     },
     "execution_count": 80,
     "metadata": {},
     "output_type": "execute_result"
    }
   ],
   "source": [
    "welfare_df[welfare_df[\"age\"]<10][\"연령대\"]\n",
    "welfare_df[welfare_df[\"age\"]<10][\"income\"].unique()"
   ]
  },
  {
   "cell_type": "code",
   "execution_count": 86,
   "id": "43cd0de9-fff1-44cd-b992-da89bf4079d7",
   "metadata": {},
   "outputs": [
    {
     "data": {
      "text/plain": [
       "연령대\n",
       "50    351.883117\n",
       "40    334.201699\n",
       "60    277.910968\n",
       "Name: income, dtype: float64"
      ]
     },
     "execution_count": 86,
     "metadata": {},
     "output_type": "execute_result"
    }
   ],
   "source": [
    "ageRangeInc = welfare_df.groupby(\"연령대\")[\"income\"].mean()\n",
    "ageRangeInc.sort_values(ascending=False).head(3)"
   ]
  },
  {
   "cell_type": "code",
   "execution_count": 87,
   "id": "cf33b8ff-8890-4a53-a03f-1495a80e797e",
   "metadata": {},
   "outputs": [
    {
     "data": {
      "text/html": [
       "<div>\n",
       "<style scoped>\n",
       "    .dataframe tbody tr th:only-of-type {\n",
       "        vertical-align: middle;\n",
       "    }\n",
       "\n",
       "    .dataframe tbody tr th {\n",
       "        vertical-align: top;\n",
       "    }\n",
       "\n",
       "    .dataframe thead th {\n",
       "        text-align: right;\n",
       "    }\n",
       "</style>\n",
       "<table border=\"1\" class=\"dataframe\">\n",
       "  <thead>\n",
       "    <tr style=\"text-align: right;\">\n",
       "      <th></th>\n",
       "      <th>income</th>\n",
       "    </tr>\n",
       "    <tr>\n",
       "      <th>연령대</th>\n",
       "      <th></th>\n",
       "    </tr>\n",
       "  </thead>\n",
       "  <tbody>\n",
       "    <tr>\n",
       "      <th>50</th>\n",
       "      <td>351.883117</td>\n",
       "    </tr>\n",
       "    <tr>\n",
       "      <th>40</th>\n",
       "      <td>334.201699</td>\n",
       "    </tr>\n",
       "    <tr>\n",
       "      <th>60</th>\n",
       "      <td>277.910968</td>\n",
       "    </tr>\n",
       "  </tbody>\n",
       "</table>\n",
       "</div>"
      ],
      "text/plain": [
       "         income\n",
       "연령대            \n",
       "50   351.883117\n",
       "40   334.201699\n",
       "60   277.910968"
      ]
     },
     "execution_count": 87,
     "metadata": {},
     "output_type": "execute_result"
    }
   ],
   "source": [
    "ageRangeInc = pd.DataFrame(welfare_df.groupby(\"연령대\")[\"income\"].mean())\n",
    "ageRangeInc.sort_values(by =\"income\", ascending=False).head(3)"
   ]
  },
  {
   "cell_type": "markdown",
   "id": "bf9714f1",
   "metadata": {
    "toc-hr-collapsed": true
   },
   "source": [
    "#### (4) 연령대 및 성별 월급 차이 - 성별 월급 차이는 연령대별로 다른지 확인 \n",
    "- 연령대 및 성별 groupby : 급여가 없는 연령대는 group에서 배제할 수 잇도록\n",
    "- income이 없는 레코드는 제외시키고 구성"
   ]
  },
  {
   "cell_type": "code",
   "execution_count": 94,
   "id": "619a0d2f-9547-4d44-af49-259e4e4bb2de",
   "metadata": {},
   "outputs": [
    {
     "data": {
      "text/html": [
       "<div>\n",
       "<style scoped>\n",
       "    .dataframe tbody tr th:only-of-type {\n",
       "        vertical-align: middle;\n",
       "    }\n",
       "\n",
       "    .dataframe tbody tr th {\n",
       "        vertical-align: top;\n",
       "    }\n",
       "\n",
       "    .dataframe thead th {\n",
       "        text-align: right;\n",
       "    }\n",
       "</style>\n",
       "<table border=\"1\" class=\"dataframe\">\n",
       "  <thead>\n",
       "    <tr style=\"text-align: right;\">\n",
       "      <th></th>\n",
       "      <th></th>\n",
       "      <th>income</th>\n",
       "    </tr>\n",
       "    <tr>\n",
       "      <th>age_bin</th>\n",
       "      <th>sex</th>\n",
       "      <th></th>\n",
       "    </tr>\n",
       "  </thead>\n",
       "  <tbody>\n",
       "    <tr>\n",
       "      <th rowspan=\"2\" valign=\"top\">청년</th>\n",
       "      <th>남</th>\n",
       "      <td>303.703390</td>\n",
       "    </tr>\n",
       "    <tr>\n",
       "      <th>여</th>\n",
       "      <td>219.436893</td>\n",
       "    </tr>\n",
       "    <tr>\n",
       "      <th rowspan=\"2\" valign=\"top\">중년</th>\n",
       "      <th>남</th>\n",
       "      <td>441.393124</td>\n",
       "    </tr>\n",
       "    <tr>\n",
       "      <th>여</th>\n",
       "      <td>242.974659</td>\n",
       "    </tr>\n",
       "    <tr>\n",
       "      <th rowspan=\"2\" valign=\"top\">장년</th>\n",
       "      <th>남</th>\n",
       "      <td>394.359498</td>\n",
       "    </tr>\n",
       "    <tr>\n",
       "      <th>여</th>\n",
       "      <td>185.507719</td>\n",
       "    </tr>\n",
       "    <tr>\n",
       "      <th rowspan=\"2\" valign=\"top\">노년</th>\n",
       "      <th>남</th>\n",
       "      <td>136.000000</td>\n",
       "    </tr>\n",
       "    <tr>\n",
       "      <th>여</th>\n",
       "      <td>63.591121</td>\n",
       "    </tr>\n",
       "  </tbody>\n",
       "</table>\n",
       "</div>"
      ],
      "text/plain": [
       "                 income\n",
       "age_bin sex            \n",
       "청년      남    303.703390\n",
       "        여    219.436893\n",
       "중년      남    441.393124\n",
       "        여    242.974659\n",
       "장년      남    394.359498\n",
       "        여    185.507719\n",
       "노년      남    136.000000\n",
       "        여     63.591121"
      ]
     },
     "execution_count": 94,
     "metadata": {},
     "output_type": "execute_result"
    }
   ],
   "source": [
    "income_age_bin_sex = welfare_df.dropna(subset=\"income\").groupby([\"age_bin\", \"sex\"], observed=True)[[\"income\"]].mean()\n",
    "income_age_bin_sex"
   ]
  },
  {
   "cell_type": "code",
   "execution_count": 101,
   "id": "15ba35e7-611f-44d1-b9a1-69900c1ac05f",
   "metadata": {},
   "outputs": [
    {
     "name": "stderr",
     "output_type": "stream",
     "text": [
      "c:\\Users\\82108\\anaconda3\\envs\\ohio\\Lib\\site-packages\\seaborn\\categorical.py:641: FutureWarning: The default of observed=False is deprecated and will be changed to True in a future version of pandas. Pass observed=False to retain current behavior or observed=True to adopt the future default and silence this warning.\n",
      "  grouped_vals = vals.groupby(grouper)\n",
      "c:\\Users\\82108\\anaconda3\\envs\\ohio\\Lib\\site-packages\\seaborn\\categorical.py:641: FutureWarning: The default of observed=False is deprecated and will be changed to True in a future version of pandas. Pass observed=False to retain current behavior or observed=True to adopt the future default and silence this warning.\n",
      "  grouped_vals = vals.groupby(grouper)\n"
     ]
    },
    {
     "data": {
      "text/plain": [
       "<Axes: xlabel='age_bin', ylabel='income'>"
      ]
     },
     "execution_count": 101,
     "metadata": {},
     "output_type": "execute_result"
    },
    {
     "data": {
      "image/png": "[encoded data removed]",
      "text/plain": [
       "<Figure size 640x480 with 1 Axes>"
      ]
     },
     "metadata": {},
     "output_type": "display_data"
    }
   ],
   "source": [
    "sns.barplot(data=income_age_bin_sex.reset_index(), x=\"age_bin\", y=\"income\", hue=\"sex\")\n",
    "plt.show()"
   ]
  },
  {
   "cell_type": "code",
   "execution_count": 102,
   "id": "fde614e6-ba19-4463-a5be-7cb8660e91b9",
   "metadata": {},
   "outputs": [
    {
     "data": {
      "text/html": [
       "<div>\n",
       "<style scoped>\n",
       "    .dataframe tbody tr th:only-of-type {\n",
       "        vertical-align: middle;\n",
       "    }\n",
       "\n",
       "    .dataframe tbody tr th {\n",
       "        vertical-align: top;\n",
       "    }\n",
       "\n",
       "    .dataframe thead th {\n",
       "        text-align: right;\n",
       "    }\n",
       "</style>\n",
       "<table border=\"1\" class=\"dataframe\">\n",
       "  <thead>\n",
       "    <tr style=\"text-align: right;\">\n",
       "      <th></th>\n",
       "      <th></th>\n",
       "      <th>income</th>\n",
       "    </tr>\n",
       "    <tr>\n",
       "      <th>age</th>\n",
       "      <th>sex</th>\n",
       "      <th></th>\n",
       "    </tr>\n",
       "  </thead>\n",
       "  <tbody>\n",
       "    <tr>\n",
       "      <th>18</th>\n",
       "      <th>남</th>\n",
       "      <td>162.000000</td>\n",
       "    </tr>\n",
       "    <tr>\n",
       "      <th rowspan=\"2\" valign=\"top\">19</th>\n",
       "      <th>남</th>\n",
       "      <td>155.000000</td>\n",
       "    </tr>\n",
       "    <tr>\n",
       "      <th>여</th>\n",
       "      <td>87.666667</td>\n",
       "    </tr>\n",
       "    <tr>\n",
       "      <th rowspan=\"2\" valign=\"top\">20</th>\n",
       "      <th>남</th>\n",
       "      <td>186.000000</td>\n",
       "    </tr>\n",
       "    <tr>\n",
       "      <th>여</th>\n",
       "      <td>124.000000</td>\n",
       "    </tr>\n",
       "    <tr>\n",
       "      <th>...</th>\n",
       "      <th>...</th>\n",
       "      <td>...</td>\n",
       "    </tr>\n",
       "    <tr>\n",
       "      <th>88</th>\n",
       "      <th>여</th>\n",
       "      <td>27.000000</td>\n",
       "    </tr>\n",
       "    <tr>\n",
       "      <th>89</th>\n",
       "      <th>여</th>\n",
       "      <td>27.000000</td>\n",
       "    </tr>\n",
       "    <tr>\n",
       "      <th rowspan=\"2\" valign=\"top\">90</th>\n",
       "      <th>남</th>\n",
       "      <td>13.000000</td>\n",
       "    </tr>\n",
       "    <tr>\n",
       "      <th>여</th>\n",
       "      <td>27.000000</td>\n",
       "    </tr>\n",
       "    <tr>\n",
       "      <th>91</th>\n",
       "      <th>여</th>\n",
       "      <td>27.000000</td>\n",
       "    </tr>\n",
       "  </tbody>\n",
       "</table>\n",
       "<p>145 rows × 1 columns</p>\n",
       "</div>"
      ],
      "text/plain": [
       "             income\n",
       "age sex            \n",
       "18  남    162.000000\n",
       "19  남    155.000000\n",
       "    여     87.666667\n",
       "20  남    186.000000\n",
       "    여    124.000000\n",
       "...             ...\n",
       "88  여     27.000000\n",
       "89  여     27.000000\n",
       "90  남     13.000000\n",
       "    여     27.000000\n",
       "91  여     27.000000\n",
       "\n",
       "[145 rows x 1 columns]"
      ]
     },
     "execution_count": 102,
     "metadata": {},
     "output_type": "execute_result"
    }
   ],
   "source": [
    "# 나이에 따른 성별간 월급 차이\n",
    "incom_age_sex = welfare_df.dropna(subset=\"income\").groupby([\"age\", \"sex\"], observed=True)[[\"income\"]].mean()\n",
    "incom_age_sex"
   ]
  },
  {
   "cell_type": "code",
   "execution_count": 108,
   "id": "117b40a1-2751-428a-9977-d473729b6351",
   "metadata": {},
   "outputs": [
    {
     "data": {
      "text/plain": [
       "<Axes: xlabel='age', ylabel='income'>"
      ]
     },
     "execution_count": 108,
     "metadata": {},
     "output_type": "execute_result"
    },
    {
     "data": {
      "image/png": "[encoded data removed]",
      "text/plain": [
       "<Figure size 640x480 with 1 Axes>"
      ]
     },
     "metadata": {},
     "output_type": "display_data"
    }
   ],
   "source": [
    "# 나이에 따른 급여 변화\n",
    "sns.lineplot(data=incom_age_sex, x=\"age\", y=\"income\", hue=\"sex\")\n",
    "plt.show()\n",
    "# 여성보다 남성의 급여가 높게 나타남\n",
    "# 20대 초~30대 초는 비슷하게 증가\n",
    "# 30대 중반의 남성의 급여가 올라가는 반면 여성 급여 변화없이 유지 추세\n",
    "# 50대 중반부터 남성과 여성 모두 급격히 하락"
   ]
  },
  {
   "cell_type": "code",
   "execution_count": null,
   "id": "8a27e6da-56be-46d9-83eb-a43daadfa0dd",
   "metadata": {},
   "outputs": [],
   "source": []
  },
  {
   "cell_type": "code",
   "execution_count": null,
   "id": "67d79adf-0bf2-4b56-9ce0-7fd95ac43a4c",
   "metadata": {},
   "outputs": [],
   "source": []
  },
  {
   "cell_type": "code",
   "execution_count": null,
   "id": "b291b1d1-bb56-4629-8657-5dc80d3b3678",
   "metadata": {},
   "outputs": [],
   "source": []
  },
  {
   "cell_type": "code",
   "execution_count": 97,
   "id": "b0c9ed08-9969-4391-8279-c65a58591703",
   "metadata": {},
   "outputs": [],
   "source": [
    "ageRangeSex = pd.DataFrame(welfare_df.groupby([\"연령대\", \"sex\"])[\"income\"].mean())\n",
    "ageSexFin = ageRangeSex.reset_index().dropna()"
   ]
  },
  {
   "cell_type": "code",
   "execution_count": 128,
   "id": "781f3a71-7c13-4c43-9c1b-48a61e72f5de",
   "metadata": {},
   "outputs": [
    {
     "data": {
      "text/html": [
       "<div>\n",
       "<style scoped>\n",
       "    .dataframe tbody tr th:only-of-type {\n",
       "        vertical-align: middle;\n",
       "    }\n",
       "\n",
       "    .dataframe tbody tr th {\n",
       "        vertical-align: top;\n",
       "    }\n",
       "\n",
       "    .dataframe thead th {\n",
       "        text-align: right;\n",
       "    }\n",
       "</style>\n",
       "<table border=\"1\" class=\"dataframe\">\n",
       "  <thead>\n",
       "    <tr style=\"text-align: right;\">\n",
       "      <th>sex</th>\n",
       "      <th>1.0</th>\n",
       "      <th>2.0</th>\n",
       "      <th>diff</th>\n",
       "    </tr>\n",
       "    <tr>\n",
       "      <th>연령대</th>\n",
       "      <th></th>\n",
       "      <th></th>\n",
       "      <th></th>\n",
       "    </tr>\n",
       "  </thead>\n",
       "  <tbody>\n",
       "    <tr>\n",
       "      <th>50</th>\n",
       "      <td>450.053968</td>\n",
       "      <td>234.078095</td>\n",
       "      <td>215.975873</td>\n",
       "    </tr>\n",
       "    <tr>\n",
       "      <th>60</th>\n",
       "      <td>377.130326</td>\n",
       "      <td>172.622340</td>\n",
       "      <td>204.507985</td>\n",
       "    </tr>\n",
       "    <tr>\n",
       "      <th>40</th>\n",
       "      <td>399.794545</td>\n",
       "      <td>242.170918</td>\n",
       "      <td>157.623627</td>\n",
       "    </tr>\n",
       "    <tr>\n",
       "      <th>70</th>\n",
       "      <td>192.247191</td>\n",
       "      <td>95.085714</td>\n",
       "      <td>97.161477</td>\n",
       "    </tr>\n",
       "    <tr>\n",
       "      <th>80</th>\n",
       "      <td>69.495327</td>\n",
       "      <td>37.211957</td>\n",
       "      <td>32.283371</td>\n",
       "    </tr>\n",
       "    <tr>\n",
       "      <th>30</th>\n",
       "      <td>255.259067</td>\n",
       "      <td>226.846348</td>\n",
       "      <td>28.412720</td>\n",
       "    </tr>\n",
       "    <tr>\n",
       "      <th>20</th>\n",
       "      <td>156.310345</td>\n",
       "      <td>144.128713</td>\n",
       "      <td>12.181632</td>\n",
       "    </tr>\n",
       "    <tr>\n",
       "      <th>90</th>\n",
       "      <td>33.200000</td>\n",
       "      <td>29.680000</td>\n",
       "      <td>3.520000</td>\n",
       "    </tr>\n",
       "  </tbody>\n",
       "</table>\n",
       "</div>"
      ],
      "text/plain": [
       "sex         1.0         2.0        diff\n",
       "연령대                                    \n",
       "50   450.053968  234.078095  215.975873\n",
       "60   377.130326  172.622340  204.507985\n",
       "40   399.794545  242.170918  157.623627\n",
       "70   192.247191   95.085714   97.161477\n",
       "80    69.495327   37.211957   32.283371\n",
       "30   255.259067  226.846348   28.412720\n",
       "20   156.310345  144.128713   12.181632\n",
       "90    33.200000   29.680000    3.520000"
      ]
     },
     "execution_count": 128,
     "metadata": {},
     "output_type": "execute_result"
    }
   ],
   "source": [
    "ageSexpivot = ageSexFin.pivot(index=\"연령대\", columns=\"sex\", values=\"income\")\n",
    "ageSexpivot[\"diff\"] =  np.abs(ageSexpivot[1.0] - ageSexpivot[2.0])\n",
    "ageSexpivot.sort_values(by=\"diff\", ascending=False)"
   ]
  },
  {
   "cell_type": "code",
   "execution_count": null,
   "id": "8ca9f9f1-dc95-4da9-b139-cc6745c3f8cd",
   "metadata": {},
   "outputs": [],
   "source": []
  }
 ],
 "metadata": {
  "jupytext": {
   "cell_metadata_filter": "eval,name,warning,cache,tags,echo,message,-all",
   "notebook_metadata_filter": "-all"
  },
  "kernelspec": {
   "display_name": "Python 3 (ipykernel)",
   "language": "python",
   "name": "python3"
  },
  "language_info": {
   "codemirror_mode": {
    "name": "ipython",
    "version": 3
   },
   "file_extension": ".py",
   "mimetype": "text/x-python",
   "name": "python",
   "nbconvert_exporter": "python",
   "pygments_lexer": "ipython3",
   "version": "3.13.1"
  }
 },
 "nbformat": 4,
 "nbformat_minor": 5
}
