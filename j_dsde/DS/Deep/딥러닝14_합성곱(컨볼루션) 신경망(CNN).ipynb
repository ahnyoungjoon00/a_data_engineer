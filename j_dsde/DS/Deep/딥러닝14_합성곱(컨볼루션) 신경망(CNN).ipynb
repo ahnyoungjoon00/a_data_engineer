{
 "cells": [
  {
   "cell_type": "markdown",
   "metadata": {},
   "source": [
    "## 컨볼루션 신경망(CNN)"
   ]
  },
  {
   "cell_type": "markdown",
   "metadata": {},
   "source": [
    "### 간단한 convenets 예제\n",
    "\n",
    "- 딥러닝3_손글씨 숫자 분류 예제"
   ]
  },
  {
   "cell_type": "code",
   "execution_count": 1,
   "metadata": {},
   "outputs": [],
   "source": [
    "from IPython.core.interactiveshell import InteractiveShell\n",
    "InteractiveShell.ast_node_interactivity=\"all\""
   ]
  },
  {
   "cell_type": "code",
   "execution_count": 2,
   "metadata": {},
   "outputs": [],
   "source": [
    "import numpy as np\n",
    "import matplotlib.pyplot as plt\n",
    "%matplotlib inline"
   ]
  },
  {
   "cell_type": "code",
   "execution_count": 10,
   "metadata": {},
   "outputs": [],
   "source": [
    "# 이미지 데이터 로드 및 전처리 "
   ]
  },
  {
   "cell_type": "code",
   "execution_count": 4,
   "metadata": {},
   "outputs": [],
   "source": [
    "# 데이터 로드 \n",
    "from keras.datasets import mnist\n",
    "\n",
    "(X_train, y_train), (X_test, y_test) = mnist.load_data()"
   ]
  },
  {
   "cell_type": "code",
   "execution_count": 6,
   "metadata": {},
   "outputs": [
    {
     "data": {
      "text/plain": [
       "(60000, 28, 28)"
      ]
     },
     "execution_count": 6,
     "metadata": {},
     "output_type": "execute_result"
    },
    {
     "data": {
      "text/plain": [
       "(60000,)"
      ]
     },
     "execution_count": 6,
     "metadata": {},
     "output_type": "execute_result"
    },
    {
     "data": {
      "text/plain": [
       "(10000, 28, 28)"
      ]
     },
     "execution_count": 6,
     "metadata": {},
     "output_type": "execute_result"
    },
    {
     "data": {
      "text/plain": [
       "(10000,)"
      ]
     },
     "execution_count": 6,
     "metadata": {},
     "output_type": "execute_result"
    }
   ],
   "source": [
    "X_train.shape\n",
    "y_train.shape\n",
    "\n",
    "X_test.shape\n",
    "y_test.shape"
   ]
  },
  {
   "cell_type": "code",
   "execution_count": 7,
   "metadata": {},
   "outputs": [
    {
     "data": {
      "text/plain": [
       "60000"
      ]
     },
     "execution_count": 7,
     "metadata": {},
     "output_type": "execute_result"
    }
   ],
   "source": [
    "X_train.shape[0]"
   ]
  },
  {
   "cell_type": "code",
   "execution_count": 8,
   "metadata": {},
   "outputs": [],
   "source": [
    "# 차원 변환 및 정규화\n",
    "\n",
    "# (이미지수,세로, 가로, 채널) : 1(흑백), 3(컬러)\n",
    "X_train = X_train.reshape(X_train.shape[0], 28, 28, 1).astype('float32') / 255\n",
    "X_test = X_test.reshape(X_test.shape[0], 28, 28, 1).astype('float32') / 255"
   ]
  },
  {
   "cell_type": "code",
   "execution_count": 9,
   "metadata": {},
   "outputs": [
    {
     "data": {
      "text/plain": [
       "(60000, 28, 28, 1)"
      ]
     },
     "execution_count": 9,
     "metadata": {},
     "output_type": "execute_result"
    },
    {
     "data": {
      "text/plain": [
       "(60000,)"
      ]
     },
     "execution_count": 9,
     "metadata": {},
     "output_type": "execute_result"
    },
    {
     "data": {
      "text/plain": [
       "(10000, 28, 28, 1)"
      ]
     },
     "execution_count": 9,
     "metadata": {},
     "output_type": "execute_result"
    },
    {
     "data": {
      "text/plain": [
       "(10000,)"
      ]
     },
     "execution_count": 9,
     "metadata": {},
     "output_type": "execute_result"
    }
   ],
   "source": [
    "X_train.shape\n",
    "y_train.shape\n",
    "\n",
    "X_test.shape\n",
    "y_test.shape"
   ]
  },
  {
   "cell_type": "code",
   "execution_count": null,
   "metadata": {},
   "outputs": [],
   "source": []
  },
  {
   "cell_type": "code",
   "execution_count": 10,
   "metadata": {},
   "outputs": [],
   "source": [
    "from  keras.utils import to_categorical\n",
    "\n",
    "y_train = to_categorical(y_train, 10)\n",
    "y_test = to_categorical(y_test, 10)"
   ]
  },
  {
   "cell_type": "code",
   "execution_count": 11,
   "metadata": {},
   "outputs": [
    {
     "data": {
      "text/plain": [
       "array([[0., 0., 0., ..., 1., 0., 0.],\n",
       "       [0., 0., 1., ..., 0., 0., 0.],\n",
       "       [0., 1., 0., ..., 0., 0., 0.],\n",
       "       ...,\n",
       "       [0., 0., 0., ..., 0., 0., 0.],\n",
       "       [0., 0., 0., ..., 0., 0., 0.],\n",
       "       [0., 0., 0., ..., 0., 0., 0.]], dtype=float32)"
      ]
     },
     "execution_count": 11,
     "metadata": {},
     "output_type": "execute_result"
    }
   ],
   "source": [
    "y_test"
   ]
  },
  {
   "cell_type": "code",
   "execution_count": null,
   "metadata": {},
   "outputs": [],
   "source": [
    "# 컨볼류션 신경망 설정 \n",
    "\n",
    "import tensorflow as tf\n",
    "tf.random.set_seed(3)\n",
    "\n",
    "# (1) 모델 설정 \n",
    "\n",
    "from tensorflow.keras.models import Sequential\n",
    "from tensorflow.keras.layers import Dense, Dropout, Flatten, Conv2D, MaxPooling2D\n",
    "\n"
   ]
  },
  {
   "cell_type": "code",
   "execution_count": null,
   "metadata": {},
   "outputs": [],
   "source": []
  },
  {
   "cell_type": "code",
   "execution_count": 14,
   "metadata": {},
   "outputs": [
    {
     "name": "stdout",
     "output_type": "stream",
     "text": [
      "Model: \"sequential_1\"\n",
      "_________________________________________________________________\n",
      " Layer (type)                Output Shape              Param #   \n",
      "=================================================================\n",
      " conv2d_1 (Conv2D)           (None, 26, 26, 32)        320       \n",
      "                                                                 \n",
      " max_pooling2d_1 (MaxPoolin  (None, 13, 13, 32)        0         \n",
      " g2D)                                                            \n",
      "                                                                 \n",
      " conv2d_2 (Conv2D)           (None, 11, 11, 64)        18496     \n",
      "                                                                 \n",
      " max_pooling2d_2 (MaxPoolin  (None, 5, 5, 64)          0         \n",
      " g2D)                                                            \n",
      "                                                                 \n",
      " dropout (Dropout)           (None, 5, 5, 64)          0         \n",
      "                                                                 \n",
      " flatten (Flatten)           (None, 1600)              0         \n",
      "                                                                 \n",
      " dense (Dense)               (None, 128)               204928    \n",
      "                                                                 \n",
      " dropout_1 (Dropout)         (None, 128)               0         \n",
      "                                                                 \n",
      " dense_1 (Dense)             (None, 10)                1290      \n",
      "                                                                 \n",
      "=================================================================\n",
      "Total params: 225034 (879.04 KB)\n",
      "Trainable params: 225034 (879.04 KB)\n",
      "Non-trainable params: 0 (0.00 Byte)\n",
      "_________________________________________________________________\n"
     ]
    }
   ],
   "source": [
    "model.summary()"
   ]
  },
  {
   "cell_type": "code",
   "execution_count": null,
   "metadata": {},
   "outputs": [
    {
     "name": "stdout",
     "output_type": "stream",
     "text": [
      "WARNING:tensorflow:From C:\\Users\\student\\AppData\\Local\\Programs\\Python\\Python311\\Lib\\site-packages\\keras\\src\\optimizers\\__init__.py:309: The name tf.train.Optimizer is deprecated. Please use tf.compat.v1.train.Optimizer instead.\n",
      "\n"
     ]
    }
   ],
   "source": [
    "# (2) 컴파일\n"
   ]
  },
  {
   "cell_type": "code",
   "execution_count": 23,
   "metadata": {},
   "outputs": [],
   "source": [
    "# CheckPoint와 EarlyStopping 적용\n",
    "\n",
    "from tensorflow.keras.callbacks import ModelCheckpoint, EarlyStopping\n",
    "import os\n",
    "\n",
    "# 파일 저장할 폴더 지정 : 없으면 새로 생성\n",
    "MODEL_DIR = './model/'\n",
    "if not os.path.exists(MODEL_DIR):\n",
    "    os.mkdir(MODEL_DIR)\n",
    "    \n",
    "# model 안에 파일로 저장\n",
    "model_path = \"./model/{epoch:02d}-{val_loss: .4f}.keras\"\n",
    "\n",
    "# EearlyStopping : 모델 최적화 단계에서 학습 자동 중단 설정\n",
    "check_pointer = ModelCheckpoint(filepath=model_path,\n",
    "                               monitor='val_loss',\n",
    "                               verbose=1,\n",
    "                               save_best_only=True)\n",
    "\n",
    "early_stopping= EarlyStopping(monitor='val_loss', patience=5)"
   ]
  },
  {
   "cell_type": "code",
   "execution_count": null,
   "metadata": {},
   "outputs": [
    {
     "name": "stdout",
     "output_type": "stream",
     "text": [
      "Epoch 1/30\n",
      "WARNING:tensorflow:From C:\\Users\\student\\AppData\\Local\\Programs\\Python\\Python311\\Lib\\site-packages\\keras\\src\\utils\\tf_utils.py:492: The name tf.ragged.RaggedTensorValue is deprecated. Please use tf.compat.v1.ragged.RaggedTensorValue instead.\n",
      "\n",
      "WARNING:tensorflow:From C:\\Users\\student\\AppData\\Local\\Programs\\Python\\Python311\\Lib\\site-packages\\keras\\src\\engine\\base_layer_utils.py:384: The name tf.executing_eagerly_outside_functions is deprecated. Please use tf.compat.v1.executing_eagerly_outside_functions instead.\n",
      "\n",
      "299/300 [============================>.] - ETA: 0s - loss: 0.3649 - accuracy: 0.8870\n",
      "Epoch 1: val_loss improved from inf to 0.06842, saving model to ./model\\01- 0.0684.keras\n",
      "300/300 [==============================] - 7s 22ms/step - loss: 0.3641 - accuracy: 0.8873 - val_loss: 0.0684 - val_accuracy: 0.9776\n",
      "Epoch 2/30\n",
      "299/300 [============================>.] - ETA: 0s - loss: 0.1166 - accuracy: 0.9659\n",
      "Epoch 2: val_loss improved from 0.06842 to 0.04588, saving model to ./model\\02- 0.0459.keras\n",
      "300/300 [==============================] - 7s 22ms/step - loss: 0.1167 - accuracy: 0.9658 - val_loss: 0.0459 - val_accuracy: 0.9840\n",
      "Epoch 3/30\n",
      "298/300 [============================>.] - ETA: 0s - loss: 0.0847 - accuracy: 0.9743\n",
      "Epoch 3: val_loss improved from 0.04588 to 0.03655, saving model to ./model\\03- 0.0366.keras\n",
      "300/300 [==============================] - 6s 21ms/step - loss: 0.0847 - accuracy: 0.9743 - val_loss: 0.0366 - val_accuracy: 0.9876\n",
      "Epoch 4/30\n",
      "300/300 [==============================] - ETA: 0s - loss: 0.0692 - accuracy: 0.9793\n",
      "Epoch 4: val_loss improved from 0.03655 to 0.03319, saving model to ./model\\04- 0.0332.keras\n",
      "300/300 [==============================] - 7s 22ms/step - loss: 0.0692 - accuracy: 0.9793 - val_loss: 0.0332 - val_accuracy: 0.9889\n",
      "Epoch 5/30\n",
      "298/300 [============================>.] - ETA: 0s - loss: 0.0597 - accuracy: 0.9827\n",
      "Epoch 5: val_loss improved from 0.03319 to 0.03233, saving model to ./model\\05- 0.0323.keras\n",
      "300/300 [==============================] - 6s 21ms/step - loss: 0.0599 - accuracy: 0.9826 - val_loss: 0.0323 - val_accuracy: 0.9894\n",
      "Epoch 6/30\n",
      "299/300 [============================>.] - ETA: 0s - loss: 0.0542 - accuracy: 0.9838\n",
      "Epoch 6: val_loss improved from 0.03233 to 0.02680, saving model to ./model\\06- 0.0268.keras\n",
      "300/300 [==============================] - 7s 22ms/step - loss: 0.0542 - accuracy: 0.9838 - val_loss: 0.0268 - val_accuracy: 0.9896\n",
      "Epoch 7/30\n",
      "299/300 [============================>.] - ETA: 0s - loss: 0.0500 - accuracy: 0.9844\n",
      "Epoch 7: val_loss improved from 0.02680 to 0.02443, saving model to ./model\\07- 0.0244.keras\n",
      "300/300 [==============================] - 7s 22ms/step - loss: 0.0501 - accuracy: 0.9844 - val_loss: 0.0244 - val_accuracy: 0.9915\n",
      "Epoch 8/30\n",
      "298/300 [============================>.] - ETA: 0s - loss: 0.0441 - accuracy: 0.9864\n",
      "Epoch 8: val_loss improved from 0.02443 to 0.02343, saving model to ./model\\08- 0.0234.keras\n",
      "300/300 [==============================] - 7s 23ms/step - loss: 0.0441 - accuracy: 0.9864 - val_loss: 0.0234 - val_accuracy: 0.9917\n",
      "Epoch 9/30\n",
      "300/300 [==============================] - ETA: 0s - loss: 0.0404 - accuracy: 0.9872\n",
      "Epoch 9: val_loss did not improve from 0.02343\n",
      "300/300 [==============================] - 7s 23ms/step - loss: 0.0404 - accuracy: 0.9872 - val_loss: 0.0237 - val_accuracy: 0.9913\n",
      "Epoch 10/30\n",
      "300/300 [==============================] - ETA: 0s - loss: 0.0389 - accuracy: 0.9881\n",
      "Epoch 10: val_loss improved from 0.02343 to 0.02310, saving model to ./model\\10- 0.0231.keras\n",
      "300/300 [==============================] - 7s 22ms/step - loss: 0.0389 - accuracy: 0.9881 - val_loss: 0.0231 - val_accuracy: 0.9922\n",
      "Epoch 11/30\n",
      "299/300 [============================>.] - ETA: 0s - loss: 0.0362 - accuracy: 0.9884\n",
      "Epoch 11: val_loss improved from 0.02310 to 0.02233, saving model to ./model\\11- 0.0223.keras\n",
      "300/300 [==============================] - 7s 23ms/step - loss: 0.0361 - accuracy: 0.9884 - val_loss: 0.0223 - val_accuracy: 0.9921\n",
      "Epoch 12/30\n",
      "300/300 [==============================] - ETA: 0s - loss: 0.0328 - accuracy: 0.9898\n",
      "Epoch 12: val_loss did not improve from 0.02233\n",
      "300/300 [==============================] - 7s 22ms/step - loss: 0.0328 - accuracy: 0.9898 - val_loss: 0.0259 - val_accuracy: 0.9920\n",
      "Epoch 13/30\n",
      "299/300 [============================>.] - ETA: 0s - loss: 0.0322 - accuracy: 0.9898\n",
      "Epoch 13: val_loss did not improve from 0.02233\n",
      "300/300 [==============================] - 7s 23ms/step - loss: 0.0324 - accuracy: 0.9898 - val_loss: 0.0257 - val_accuracy: 0.9919\n",
      "Epoch 14/30\n",
      "300/300 [==============================] - ETA: 0s - loss: 0.0302 - accuracy: 0.9905\n",
      "Epoch 14: val_loss improved from 0.02233 to 0.02156, saving model to ./model\\14- 0.0216.keras\n",
      "300/300 [==============================] - 7s 22ms/step - loss: 0.0302 - accuracy: 0.9905 - val_loss: 0.0216 - val_accuracy: 0.9933\n",
      "Epoch 15/30\n",
      "299/300 [============================>.] - ETA: 0s - loss: 0.0274 - accuracy: 0.9913\n",
      "Epoch 15: val_loss did not improve from 0.02156\n",
      "300/300 [==============================] - 7s 24ms/step - loss: 0.0275 - accuracy: 0.9913 - val_loss: 0.0246 - val_accuracy: 0.9924\n",
      "Epoch 16/30\n",
      "300/300 [==============================] - ETA: 0s - loss: 0.0256 - accuracy: 0.9918\n",
      "Epoch 16: val_loss improved from 0.02156 to 0.02140, saving model to ./model\\16- 0.0214.keras\n",
      "300/300 [==============================] - 7s 23ms/step - loss: 0.0256 - accuracy: 0.9918 - val_loss: 0.0214 - val_accuracy: 0.9933\n",
      "Epoch 17/30\n",
      "300/300 [==============================] - ETA: 0s - loss: 0.0235 - accuracy: 0.9923\n",
      "Epoch 17: val_loss did not improve from 0.02140\n",
      "300/300 [==============================] - 7s 23ms/step - loss: 0.0235 - accuracy: 0.9923 - val_loss: 0.0255 - val_accuracy: 0.9920\n",
      "Epoch 18/30\n",
      "299/300 [============================>.] - ETA: 0s - loss: 0.0254 - accuracy: 0.9919\n",
      "Epoch 18: val_loss improved from 0.02140 to 0.01987, saving model to ./model\\18- 0.0199.keras\n",
      "300/300 [==============================] - 7s 23ms/step - loss: 0.0254 - accuracy: 0.9919 - val_loss: 0.0199 - val_accuracy: 0.9943\n",
      "Epoch 19/30\n",
      "298/300 [============================>.] - ETA: 0s - loss: 0.0234 - accuracy: 0.9926\n",
      "Epoch 19: val_loss did not improve from 0.01987\n",
      "300/300 [==============================] - 7s 22ms/step - loss: 0.0233 - accuracy: 0.9927 - val_loss: 0.0215 - val_accuracy: 0.9934\n",
      "Epoch 20/30\n",
      "299/300 [============================>.] - ETA: 0s - loss: 0.0226 - accuracy: 0.9932\n",
      "Epoch 20: val_loss did not improve from 0.01987\n",
      "300/300 [==============================] - 7s 22ms/step - loss: 0.0226 - accuracy: 0.9932 - val_loss: 0.0208 - val_accuracy: 0.9928\n",
      "Epoch 21/30\n",
      "298/300 [============================>.] - ETA: 0s - loss: 0.0219 - accuracy: 0.9932\n",
      "Epoch 21: val_loss did not improve from 0.01987\n",
      "300/300 [==============================] - 7s 22ms/step - loss: 0.0219 - accuracy: 0.9932 - val_loss: 0.0211 - val_accuracy: 0.9931\n",
      "Epoch 22/30\n",
      "299/300 [============================>.] - ETA: 0s - loss: 0.0197 - accuracy: 0.9935\n",
      "Epoch 22: val_loss did not improve from 0.01987\n",
      "300/300 [==============================] - 7s 23ms/step - loss: 0.0197 - accuracy: 0.9935 - val_loss: 0.0235 - val_accuracy: 0.9923\n",
      "Epoch 23/30\n",
      "299/300 [============================>.] - ETA: 0s - loss: 0.0212 - accuracy: 0.9929\n",
      "Epoch 23: val_loss did not improve from 0.01987\n",
      "300/300 [==============================] - 7s 23ms/step - loss: 0.0212 - accuracy: 0.9929 - val_loss: 0.0223 - val_accuracy: 0.9927\n"
     ]
    }
   ],
   "source": [
    "# (3) 모델 학습 (실행)\n"
   ]
  },
  {
   "cell_type": "code",
   "execution_count": 25,
   "metadata": {},
   "outputs": [
    {
     "name": "stdout",
     "output_type": "stream",
     "text": [
      "313/313 [==============================] - 1s 2ms/step - loss: 0.0223 - accuracy: 0.9927\n",
      "정확도: 0.9927, 손실: 0.0223\n"
     ]
    }
   ],
   "source": [
    "loss, accuracy = model.evaluate(X_test, y_test)\n",
    "\n",
    "print(f'정확도: {accuracy:.4f}, 손실: {loss:.4f}')\n",
    "\n",
    "# 정확도: 0.9927, 손실: 0.0223 val_loss: 0.0223 - val_accuracy: 0.9927"
   ]
  },
  {
   "cell_type": "code",
   "execution_count": 26,
   "metadata": {},
   "outputs": [
    {
     "data": {
      "text/plain": [
       "[<matplotlib.lines.Line2D at 0x2ab86ecf150>]"
      ]
     },
     "execution_count": 26,
     "metadata": {},
     "output_type": "execute_result"
    },
    {
     "data": {
      "text/plain": [
       "[<matplotlib.lines.Line2D at 0x2abeea894d0>]"
      ]
     },
     "execution_count": 26,
     "metadata": {},
     "output_type": "execute_result"
    },
    {
     "data": {
      "text/plain": [
       "<matplotlib.legend.Legend at 0x2abeeaa89d0>"
      ]
     },
     "execution_count": 26,
     "metadata": {},
     "output_type": "execute_result"
    },
    {
     "data": {
      "text/plain": [
       "Text(0.5, 0, 'epoch')"
      ]
     },
     "execution_count": 26,
     "metadata": {},
     "output_type": "execute_result"
    },
    {
     "data": {
      "text/plain": [
       "Text(0, 0.5, 'loss')"
      ]
     },
     "execution_count": 26,
     "metadata": {},
     "output_type": "execute_result"
    },
    {
     "data": {
      "image/png": "[encoded data removed]",
      "text/plain": [
       "<Figure size 640x480 with 1 Axes>"
      ]
     },
     "metadata": {},
     "output_type": "display_data"
    }
   ],
   "source": [
    "import numpy as np\n",
    "\n",
    "# 시각화 \n",
    "acc = history.history['accuracy']\n",
    "val_acc = history.history['val_accuracy']\n",
    "loss = history.history['loss']\n",
    "val_loss = history.history['val_loss']\n",
    "\n",
    "# Loss\n",
    "x_len = np.arange(len(loss))\n",
    "plt.plot(x_len, val_loss, marker='.', c='red', label='Validation loss')\n",
    "plt.plot(x_len, loss, marker='.', c='blue', label='Training loss')\n",
    "\n",
    "plt.legend(loc='upper right')\n",
    "plt.grid()\n",
    "plt.xlabel('epoch')\n",
    "plt.ylabel('loss')\n",
    "plt.show()"
   ]
  },
  {
   "cell_type": "code",
   "execution_count": 27,
   "metadata": {},
   "outputs": [
    {
     "data": {
      "text/plain": [
       "[<matplotlib.lines.Line2D at 0x2abeeb56b10>]"
      ]
     },
     "execution_count": 27,
     "metadata": {},
     "output_type": "execute_result"
    },
    {
     "data": {
      "text/plain": [
       "[<matplotlib.lines.Line2D at 0x2ab89cfb350>]"
      ]
     },
     "execution_count": 27,
     "metadata": {},
     "output_type": "execute_result"
    },
    {
     "data": {
      "text/plain": [
       "<matplotlib.legend.Legend at 0x2abe2afdb90>"
      ]
     },
     "execution_count": 27,
     "metadata": {},
     "output_type": "execute_result"
    },
    {
     "data": {
      "text/plain": [
       "Text(0.5, 0, 'epoch')"
      ]
     },
     "execution_count": 27,
     "metadata": {},
     "output_type": "execute_result"
    },
    {
     "data": {
      "text/plain": [
       "Text(0, 0.5, 'loss')"
      ]
     },
     "execution_count": 27,
     "metadata": {},
     "output_type": "execute_result"
    },
    {
     "data": {
      "image/png": "[encoded data removed]",
      "text/plain": [
       "<Figure size 640x480 with 1 Axes>"
      ]
     },
     "metadata": {},
     "output_type": "display_data"
    }
   ],
   "source": [
    "x_len = np.arange(len(loss))\n",
    "plt.plot(x_len, val_acc, marker='.', c='red', label='Validation accuracy')\n",
    "plt.plot(x_len, acc, marker='.', c='blue', label='Training accuracy')\n",
    "\n",
    "plt.legend(loc='lower right')\n",
    "plt.grid()\n",
    "plt.xlabel('epoch')\n",
    "plt.ylabel('loss')\n",
    "plt.show()"
   ]
  },
  {
   "cell_type": "code",
   "execution_count": null,
   "metadata": {},
   "outputs": [],
   "source": []
  },
  {
   "cell_type": "code",
   "execution_count": null,
   "metadata": {},
   "outputs": [],
   "source": []
  }
 ],
 "metadata": {
  "kernelspec": {
   "display_name": "DL_ENV",
   "language": "python",
   "name": "dlenv"
  },
  "language_info": {
   "codemirror_mode": {
    "name": "ipython",
    "version": 3
   },
   "file_extension": ".py",
   "mimetype": "text/x-python",
   "name": "python",
   "nbconvert_exporter": "python",
   "pygments_lexer": "ipython3",
   "version": "3.12.9"
  }
 },
 "nbformat": 4,
 "nbformat_minor": 4
}
