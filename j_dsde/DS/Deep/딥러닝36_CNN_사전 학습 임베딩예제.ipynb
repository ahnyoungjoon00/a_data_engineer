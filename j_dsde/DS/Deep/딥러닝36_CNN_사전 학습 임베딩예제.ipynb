{
 "cells": [
  {
   "cell_type": "markdown",
   "metadata": {},
   "source": [
    "## Conv1D를 활용한 의도(intent) 분류"
   ]
  },
  {
   "cell_type": "markdown",
   "metadata": {},
   "source": [
    "- 의도(intent) 분류 모델 생성   \n",
    "- intent 텍스트 분류  \n",
    "- 6개의 label 값으로 구성    \n",
    "- 사전 훈련된 워드 임베딩 glove.6B.100d.txt 사용 \n",
    "- intent_train_data.csv\n",
    "- intent_test_data.csv"
   ]
  },
  {
   "cell_type": "code",
   "execution_count": 1,
   "metadata": {},
   "outputs": [],
   "source": [
    "from IPython.core.interactiveshell import InteractiveShell\n",
    "InteractiveShell.ast_node_interactivity=\"all\""
   ]
  },
  {
   "cell_type": "code",
   "execution_count": null,
   "metadata": {},
   "outputs": [],
   "source": []
  },
  {
   "cell_type": "code",
   "execution_count": 2,
   "metadata": {
    "colab": {
     "base_uri": "https://localhost:8080/"
    },
    "id": "aGnhtBquVnUt",
    "outputId": "e17e77eb-e82b-4806-8cb6-8f664c3c9156"
   },
   "outputs": [
    {
     "data": {
      "text/plain": [
       "('./data/intent_train_data.csv', <http.client.HTTPMessage at 0x1f674f56930>)"
      ]
     },
     "execution_count": 2,
     "metadata": {},
     "output_type": "execute_result"
    },
    {
     "data": {
      "text/plain": [
       "('./data/intent_test_data.csv', <http.client.HTTPMessage at 0x1f674f54410>)"
      ]
     },
     "execution_count": 2,
     "metadata": {},
     "output_type": "execute_result"
    }
   ],
   "source": [
    "import urllib.request\n",
    "urllib.request.urlretrieve(\"https://raw.githubusercontent.com/ukairia777/tensorflow-nlp-tutorial/main/11.%201D%20CNN%20Text%20Classification/dataset/intent_train_data.csv\", filename=\"./data/intent_train_data.csv\")\n",
    "urllib.request.urlretrieve(\"https://raw.githubusercontent.com/ukairia777/tensorflow-nlp-tutorial/main/11.%201D%20CNN%20Text%20Classification/dataset/intent_test_data.csv\", filename=\"./data/intent_test_data.csv\")"
   ]
  },
  {
   "cell_type": "code",
   "execution_count": 3,
   "metadata": {},
   "outputs": [],
   "source": [
    "import pandas as pd\n",
    "df_train =  pd.read_csv('./data/intent_train_data.csv')\n",
    "df_test =  pd.read_csv('./data/intent_test_data.csv')"
   ]
  },
  {
   "cell_type": "code",
   "execution_count": 4,
   "metadata": {},
   "outputs": [
    {
     "data": {
      "text/html": [
       "<div>\n",
       "<style scoped>\n",
       "    .dataframe tbody tr th:only-of-type {\n",
       "        vertical-align: middle;\n",
       "    }\n",
       "\n",
       "    .dataframe tbody tr th {\n",
       "        vertical-align: top;\n",
       "    }\n",
       "\n",
       "    .dataframe thead th {\n",
       "        text-align: right;\n",
       "    }\n",
       "</style>\n",
       "<table border=\"1\" class=\"dataframe\">\n",
       "  <thead>\n",
       "    <tr style=\"text-align: right;\">\n",
       "      <th></th>\n",
       "      <th>intent</th>\n",
       "      <th>label</th>\n",
       "    </tr>\n",
       "  </thead>\n",
       "  <tbody>\n",
       "    <tr>\n",
       "      <th>0</th>\n",
       "      <td>add another song to the cita rom ntica playlist</td>\n",
       "      <td>AddToPlaylist</td>\n",
       "    </tr>\n",
       "    <tr>\n",
       "      <th>1</th>\n",
       "      <td>add clem burke in my playlist pre party r b jams</td>\n",
       "      <td>AddToPlaylist</td>\n",
       "    </tr>\n",
       "    <tr>\n",
       "      <th>2</th>\n",
       "      <td>add live from aragon ballroom to trapeo</td>\n",
       "      <td>AddToPlaylist</td>\n",
       "    </tr>\n",
       "    <tr>\n",
       "      <th>3</th>\n",
       "      <td>add unite and win to my night out</td>\n",
       "      <td>AddToPlaylist</td>\n",
       "    </tr>\n",
       "    <tr>\n",
       "      <th>4</th>\n",
       "      <td>add track to my digster future hits</td>\n",
       "      <td>AddToPlaylist</td>\n",
       "    </tr>\n",
       "  </tbody>\n",
       "</table>\n",
       "</div>"
      ],
      "text/plain": [
       "                                             intent          label\n",
       "0   add another song to the cita rom ntica playlist  AddToPlaylist\n",
       "1  add clem burke in my playlist pre party r b jams  AddToPlaylist\n",
       "2           add live from aragon ballroom to trapeo  AddToPlaylist\n",
       "3                 add unite and win to my night out  AddToPlaylist\n",
       "4               add track to my digster future hits  AddToPlaylist"
      ]
     },
     "execution_count": 4,
     "metadata": {},
     "output_type": "execute_result"
    },
    {
     "data": {
      "text/html": [
       "<div>\n",
       "<style scoped>\n",
       "    .dataframe tbody tr th:only-of-type {\n",
       "        vertical-align: middle;\n",
       "    }\n",
       "\n",
       "    .dataframe tbody tr th {\n",
       "        vertical-align: top;\n",
       "    }\n",
       "\n",
       "    .dataframe thead th {\n",
       "        text-align: right;\n",
       "    }\n",
       "</style>\n",
       "<table border=\"1\" class=\"dataframe\">\n",
       "  <thead>\n",
       "    <tr style=\"text-align: right;\">\n",
       "      <th></th>\n",
       "      <th>intent</th>\n",
       "      <th>label</th>\n",
       "    </tr>\n",
       "  </thead>\n",
       "  <tbody>\n",
       "    <tr>\n",
       "      <th>11779</th>\n",
       "      <td>can a i get the movie schedule for sympathy fo...</td>\n",
       "      <td>SearchScreeningEvent</td>\n",
       "    </tr>\n",
       "    <tr>\n",
       "      <th>11780</th>\n",
       "      <td>find movie schedules for animated movies aroun...</td>\n",
       "      <td>SearchScreeningEvent</td>\n",
       "    </tr>\n",
       "    <tr>\n",
       "      <th>11781</th>\n",
       "      <td>what time is bordertown trail showing</td>\n",
       "      <td>SearchScreeningEvent</td>\n",
       "    </tr>\n",
       "    <tr>\n",
       "      <th>11782</th>\n",
       "      <td>in the neighbourhood find movies with movie times</td>\n",
       "      <td>SearchScreeningEvent</td>\n",
       "    </tr>\n",
       "    <tr>\n",
       "      <th>11783</th>\n",
       "      <td>what cinema has the closest movies</td>\n",
       "      <td>SearchScreeningEvent</td>\n",
       "    </tr>\n",
       "  </tbody>\n",
       "</table>\n",
       "</div>"
      ],
      "text/plain": [
       "                                                  intent                 label\n",
       "11779  can a i get the movie schedule for sympathy fo...  SearchScreeningEvent\n",
       "11780  find movie schedules for animated movies aroun...  SearchScreeningEvent\n",
       "11781              what time is bordertown trail showing  SearchScreeningEvent\n",
       "11782  in the neighbourhood find movies with movie times  SearchScreeningEvent\n",
       "11783                 what cinema has the closest movies  SearchScreeningEvent"
      ]
     },
     "execution_count": 4,
     "metadata": {},
     "output_type": "execute_result"
    }
   ],
   "source": [
    "df_train.head()\n",
    "df_train.tail()"
   ]
  },
  {
   "cell_type": "code",
   "execution_count": 9,
   "metadata": {},
   "outputs": [],
   "source": [
    "# 데이터 섞어주기 >> index reset해서 다시 구성\n",
    "df_train = df_train.sample(frac=1).reset_index(drop=True)\n",
    "df_test = df_test.sample(frac=1).reset_index(drop=True)"
   ]
  },
  {
   "cell_type": "code",
   "execution_count": 10,
   "metadata": {},
   "outputs": [
    {
     "name": "stdout",
     "output_type": "stream",
     "text": [
      "<class 'pandas.core.frame.DataFrame'>\n",
      "RangeIndex: 11784 entries, 0 to 11783\n",
      "Data columns (total 2 columns):\n",
      " #   Column  Non-Null Count  Dtype \n",
      "---  ------  --------------  ----- \n",
      " 0   intent  11784 non-null  object\n",
      " 1   label   11784 non-null  object\n",
      "dtypes: object(2)\n",
      "memory usage: 184.3+ KB\n"
     ]
    }
   ],
   "source": [
    "df_train.info()"
   ]
  },
  {
   "cell_type": "code",
   "execution_count": 11,
   "metadata": {},
   "outputs": [
    {
     "data": {
      "text/html": [
       "<div>\n",
       "<style scoped>\n",
       "    .dataframe tbody tr th:only-of-type {\n",
       "        vertical-align: middle;\n",
       "    }\n",
       "\n",
       "    .dataframe tbody tr th {\n",
       "        vertical-align: top;\n",
       "    }\n",
       "\n",
       "    .dataframe thead th {\n",
       "        text-align: right;\n",
       "    }\n",
       "</style>\n",
       "<table border=\"1\" class=\"dataframe\">\n",
       "  <thead>\n",
       "    <tr style=\"text-align: right;\">\n",
       "      <th></th>\n",
       "      <th>intent</th>\n",
       "      <th>label</th>\n",
       "    </tr>\n",
       "  </thead>\n",
       "  <tbody>\n",
       "    <tr>\n",
       "      <th>0</th>\n",
       "      <td>do you know of a song by the mande studies ass...</td>\n",
       "      <td>SearchCreativeWork</td>\n",
       "    </tr>\n",
       "    <tr>\n",
       "      <th>1</th>\n",
       "      <td>add global underground 006 sydney to my best m...</td>\n",
       "      <td>AddToPlaylist</td>\n",
       "    </tr>\n",
       "    <tr>\n",
       "      <th>2</th>\n",
       "      <td>put this artist onto the chillin' on a dirt ro...</td>\n",
       "      <td>AddToPlaylist</td>\n",
       "    </tr>\n",
       "    <tr>\n",
       "      <th>3</th>\n",
       "      <td>find three in the attic</td>\n",
       "      <td>SearchScreeningEvent</td>\n",
       "    </tr>\n",
       "    <tr>\n",
       "      <th>4</th>\n",
       "      <td>find the closest cinema playing the st francis...</td>\n",
       "      <td>SearchScreeningEvent</td>\n",
       "    </tr>\n",
       "  </tbody>\n",
       "</table>\n",
       "</div>"
      ],
      "text/plain": [
       "                                              intent                 label\n",
       "0  do you know of a song by the mande studies ass...    SearchCreativeWork\n",
       "1  add global underground 006 sydney to my best m...         AddToPlaylist\n",
       "2  put this artist onto the chillin' on a dirt ro...         AddToPlaylist\n",
       "3                            find three in the attic  SearchScreeningEvent\n",
       "4  find the closest cinema playing the st francis...  SearchScreeningEvent"
      ]
     },
     "execution_count": 11,
     "metadata": {},
     "output_type": "execute_result"
    }
   ],
   "source": [
    "df_train.head()"
   ]
  },
  {
   "cell_type": "code",
   "execution_count": 12,
   "metadata": {},
   "outputs": [
    {
     "data": {
      "text/plain": [
       "11784"
      ]
     },
     "execution_count": 12,
     "metadata": {},
     "output_type": "execute_result"
    }
   ],
   "source": [
    "len(df_train)"
   ]
  },
  {
   "cell_type": "code",
   "execution_count": 17,
   "metadata": {},
   "outputs": [
    {
     "name": "stdout",
     "output_type": "stream",
     "text": [
      "intent열의 유니크한 값 : 11580\n",
      "총 샘플의 수 : 11580\n"
     ]
    }
   ],
   "source": [
    "print('intent열의 유니크한 값 :', df_train['intent'].nunique())\n",
    "df_train.drop_duplicates(subset=['intent'], inplace=True)\n",
    "print('총 샘플의 수 :', len(df_train))"
   ]
  },
  {
   "cell_type": "code",
   "execution_count": 13,
   "metadata": {},
   "outputs": [
    {
     "data": {
      "text/plain": [
       "600"
      ]
     },
     "execution_count": 13,
     "metadata": {},
     "output_type": "execute_result"
    }
   ],
   "source": [
    "len(df_test)"
   ]
  },
  {
   "cell_type": "code",
   "execution_count": 14,
   "metadata": {},
   "outputs": [
    {
     "name": "stdout",
     "output_type": "stream",
     "text": [
      "intent열의 유니크한 값 : 595\n",
      "총 샘플의 수 : 595\n"
     ]
    }
   ],
   "source": [
    "print('intent열의 유니크한 값 :', df_test['intent'].nunique())\n",
    "df_test.drop_duplicates(subset=['intent'], inplace=True)\n",
    "print('총 샘플의 수 :', len(df_test))"
   ]
  },
  {
   "cell_type": "code",
   "execution_count": 16,
   "metadata": {},
   "outputs": [
    {
     "data": {
      "text/plain": [
       "label\n",
       "GetWeather              2000\n",
       "BookRestaurant          1973\n",
       "SearchScreeningEvent    1959\n",
       "RateBook                1956\n",
       "SearchCreativeWork      1954\n",
       "AddToPlaylist           1942\n",
       "Name: count, dtype: int64"
      ]
     },
     "execution_count": 16,
     "metadata": {},
     "output_type": "execute_result"
    }
   ],
   "source": [
    "# label 카테고리 확인\n",
    "df_train[\"label\"].value_counts()"
   ]
  },
  {
   "cell_type": "code",
   "execution_count": 37,
   "metadata": {},
   "outputs": [
    {
     "data": {
      "text/html": [
       "<div>\n",
       "<style scoped>\n",
       "    .dataframe tbody tr th:only-of-type {\n",
       "        vertical-align: middle;\n",
       "    }\n",
       "\n",
       "    .dataframe tbody tr th {\n",
       "        vertical-align: top;\n",
       "    }\n",
       "\n",
       "    .dataframe thead th {\n",
       "        text-align: right;\n",
       "    }\n",
       "</style>\n",
       "<table border=\"1\" class=\"dataframe\">\n",
       "  <thead>\n",
       "    <tr style=\"text-align: right;\">\n",
       "      <th></th>\n",
       "      <th>intent</th>\n",
       "      <th>label</th>\n",
       "      <th>label_</th>\n",
       "      <th>cleaned</th>\n",
       "    </tr>\n",
       "  </thead>\n",
       "  <tbody>\n",
       "    <tr>\n",
       "      <th>0</th>\n",
       "      <td>do you know of a song by the mande studies ass...</td>\n",
       "      <td>SearchCreativeWork</td>\n",
       "      <td>4</td>\n",
       "      <td>know song mande studies association</td>\n",
       "    </tr>\n",
       "    <tr>\n",
       "      <th>1</th>\n",
       "      <td>add global underground 006 sydney to my best m...</td>\n",
       "      <td>AddToPlaylist</td>\n",
       "      <td>0</td>\n",
       "      <td>add global underground sydney best metal new m...</td>\n",
       "    </tr>\n",
       "    <tr>\n",
       "      <th>2</th>\n",
       "      <td>put this artist onto the chillin' on a dirt ro...</td>\n",
       "      <td>AddToPlaylist</td>\n",
       "      <td>0</td>\n",
       "      <td>put artist onto chillin dirt road playlist</td>\n",
       "    </tr>\n",
       "    <tr>\n",
       "      <th>3</th>\n",
       "      <td>find three in the attic</td>\n",
       "      <td>SearchScreeningEvent</td>\n",
       "      <td>5</td>\n",
       "      <td>find three attic</td>\n",
       "    </tr>\n",
       "    <tr>\n",
       "      <th>4</th>\n",
       "      <td>find the closest cinema playing the st francis...</td>\n",
       "      <td>SearchScreeningEvent</td>\n",
       "      <td>5</td>\n",
       "      <td>find closest cinema playing st francisville ex...</td>\n",
       "    </tr>\n",
       "  </tbody>\n",
       "</table>\n",
       "</div>"
      ],
      "text/plain": [
       "                                              intent                 label  \\\n",
       "0  do you know of a song by the mande studies ass...    SearchCreativeWork   \n",
       "1  add global underground 006 sydney to my best m...         AddToPlaylist   \n",
       "2  put this artist onto the chillin' on a dirt ro...         AddToPlaylist   \n",
       "3                            find three in the attic  SearchScreeningEvent   \n",
       "4  find the closest cinema playing the st francis...  SearchScreeningEvent   \n",
       "\n",
       "   label_                                            cleaned  \n",
       "0       4                know song mande studies association  \n",
       "1       0  add global underground sydney best metal new m...  \n",
       "2       0         put artist onto chillin dirt road playlist  \n",
       "3       5                                   find three attic  \n",
       "4       5  find closest cinema playing st francisville ex...  "
      ]
     },
     "execution_count": 37,
     "metadata": {},
     "output_type": "execute_result"
    },
    {
     "data": {
      "text/html": [
       "<div>\n",
       "<style scoped>\n",
       "    .dataframe tbody tr th:only-of-type {\n",
       "        vertical-align: middle;\n",
       "    }\n",
       "\n",
       "    .dataframe tbody tr th {\n",
       "        vertical-align: top;\n",
       "    }\n",
       "\n",
       "    .dataframe thead th {\n",
       "        text-align: right;\n",
       "    }\n",
       "</style>\n",
       "<table border=\"1\" class=\"dataframe\">\n",
       "  <thead>\n",
       "    <tr style=\"text-align: right;\">\n",
       "      <th></th>\n",
       "      <th>intent</th>\n",
       "      <th>label</th>\n",
       "      <th>label_</th>\n",
       "      <th>cleaned</th>\n",
       "    </tr>\n",
       "  </thead>\n",
       "  <tbody>\n",
       "    <tr>\n",
       "      <th>11779</th>\n",
       "      <td>add boyce and hart to urban hits playlist</td>\n",
       "      <td>AddToPlaylist</td>\n",
       "      <td>0</td>\n",
       "      <td>add boyce hart urban hits playlist</td>\n",
       "    </tr>\n",
       "    <tr>\n",
       "      <th>11780</th>\n",
       "      <td>what is the weather forecast for israel</td>\n",
       "      <td>GetWeather</td>\n",
       "      <td>2</td>\n",
       "      <td>weather forecast israel</td>\n",
       "    </tr>\n",
       "    <tr>\n",
       "      <th>11781</th>\n",
       "      <td>will it be hot in new york on october the 1st ...</td>\n",
       "      <td>GetWeather</td>\n",
       "      <td>2</td>\n",
       "      <td>hot new york october st</td>\n",
       "    </tr>\n",
       "    <tr>\n",
       "      <th>11782</th>\n",
       "      <td>i want to play the game the carny</td>\n",
       "      <td>SearchCreativeWork</td>\n",
       "      <td>4</td>\n",
       "      <td>want play game carny</td>\n",
       "    </tr>\n",
       "    <tr>\n",
       "      <th>11783</th>\n",
       "      <td>read the novel friend the great legacy</td>\n",
       "      <td>SearchCreativeWork</td>\n",
       "      <td>4</td>\n",
       "      <td>read novel friend great legacy</td>\n",
       "    </tr>\n",
       "  </tbody>\n",
       "</table>\n",
       "</div>"
      ],
      "text/plain": [
       "                                                  intent               label  \\\n",
       "11779          add boyce and hart to urban hits playlist       AddToPlaylist   \n",
       "11780            what is the weather forecast for israel          GetWeather   \n",
       "11781  will it be hot in new york on october the 1st ...          GetWeather   \n",
       "11782                  i want to play the game the carny  SearchCreativeWork   \n",
       "11783             read the novel friend the great legacy  SearchCreativeWork   \n",
       "\n",
       "       label_                             cleaned  \n",
       "11779       0  add boyce hart urban hits playlist  \n",
       "11780       2             weather forecast israel  \n",
       "11781       2             hot new york october st  \n",
       "11782       4                want play game carny  \n",
       "11783       4      read novel friend great legacy  "
      ]
     },
     "execution_count": 37,
     "metadata": {},
     "output_type": "execute_result"
    },
    {
     "data": {
      "text/plain": [
       "label_\n",
       "2    2000\n",
       "1    1973\n",
       "5    1959\n",
       "3    1956\n",
       "4    1954\n",
       "0    1942\n",
       "Name: count, dtype: int64"
      ]
     },
     "execution_count": 37,
     "metadata": {},
     "output_type": "execute_result"
    },
    {
     "data": {
      "text/plain": [
       "<Axes: xlabel='label_'>"
      ]
     },
     "execution_count": 37,
     "metadata": {},
     "output_type": "execute_result"
    },
    {
     "data": {
      "image/png": "[encoded data removed]",
      "text/plain": [
       "<Figure size 640x480 with 1 Axes>"
      ]
     },
     "metadata": {},
     "output_type": "display_data"
    }
   ],
   "source": [
    "from sklearn.preprocessing import LabelEncoder\n",
    "encoder = LabelEncoder()\n",
    "df_train[\"label_\"] = encoder.fit_transform(df_train[\"label\"])\n",
    "\n",
    "df_train.head()\n",
    "df_train.tail()\n",
    "df_train['label_'].value_counts()\n",
    "df_train['label_'].value_counts().plot(kind='bar')\n"
   ]
  },
  {
   "cell_type": "code",
   "execution_count": 38,
   "metadata": {},
   "outputs": [
    {
     "data": {
      "text/plain": [
       "array(['AddToPlaylist', 'BookRestaurant', 'GetWeather', 'RateBook',\n",
       "       'SearchCreativeWork', 'SearchScreeningEvent'], dtype=object)"
      ]
     },
     "execution_count": 38,
     "metadata": {},
     "output_type": "execute_result"
    }
   ],
   "source": [
    "encoder.classes_"
   ]
  },
  {
   "cell_type": "code",
   "execution_count": 39,
   "metadata": {},
   "outputs": [
    {
     "name": "stdout",
     "output_type": "stream",
     "text": [
      "{'AddToPlaylist': 0, 'BookRestaurant': 1, 'GetWeather': 2, 'RateBook': 3, 'SearchCreativeWork': 4, 'SearchScreeningEvent': 5}\n"
     ]
    }
   ],
   "source": [
    "# 각 label별 label_ 확인\n",
    "category = dict(zip(encoder.classes_, range(len(encoder.classes_))))\n",
    "print(category)"
   ]
  },
  {
   "cell_type": "code",
   "execution_count": 40,
   "metadata": {},
   "outputs": [
    {
     "data": {
      "text/html": [
       "<div>\n",
       "<style scoped>\n",
       "    .dataframe tbody tr th:only-of-type {\n",
       "        vertical-align: middle;\n",
       "    }\n",
       "\n",
       "    .dataframe tbody tr th {\n",
       "        vertical-align: top;\n",
       "    }\n",
       "\n",
       "    .dataframe thead th {\n",
       "        text-align: right;\n",
       "    }\n",
       "</style>\n",
       "<table border=\"1\" class=\"dataframe\">\n",
       "  <thead>\n",
       "    <tr style=\"text-align: right;\">\n",
       "      <th></th>\n",
       "      <th>intent</th>\n",
       "      <th>label</th>\n",
       "      <th>label_</th>\n",
       "      <th>cleaned</th>\n",
       "    </tr>\n",
       "  </thead>\n",
       "  <tbody>\n",
       "    <tr>\n",
       "      <th>0</th>\n",
       "      <td>add the album to the might and myth power meta...</td>\n",
       "      <td>AddToPlaylist</td>\n",
       "      <td>0</td>\n",
       "      <td>add album might myth power metal playlist</td>\n",
       "    </tr>\n",
       "    <tr>\n",
       "      <th>1</th>\n",
       "      <td>add jack white to my playlist this is shakira</td>\n",
       "      <td>AddToPlaylist</td>\n",
       "      <td>0</td>\n",
       "      <td>add jack white playlist shakira</td>\n",
       "    </tr>\n",
       "    <tr>\n",
       "      <th>2</th>\n",
       "      <td>add andy hunter to my evening commute playlist</td>\n",
       "      <td>AddToPlaylist</td>\n",
       "      <td>0</td>\n",
       "      <td>add andy hunter evening commute playlist</td>\n",
       "    </tr>\n",
       "    <tr>\n",
       "      <th>3</th>\n",
       "      <td>book a reservation for 1 at a diner in wi</td>\n",
       "      <td>BookRestaurant</td>\n",
       "      <td>1</td>\n",
       "      <td>book reservation diner wi</td>\n",
       "    </tr>\n",
       "    <tr>\n",
       "      <th>4</th>\n",
       "      <td>what is the overcast forecast for the current ...</td>\n",
       "      <td>GetWeather</td>\n",
       "      <td>2</td>\n",
       "      <td>overcast forecast current position starting jul</td>\n",
       "    </tr>\n",
       "  </tbody>\n",
       "</table>\n",
       "</div>"
      ],
      "text/plain": [
       "                                              intent           label  label_  \\\n",
       "0  add the album to the might and myth power meta...   AddToPlaylist       0   \n",
       "1      add jack white to my playlist this is shakira   AddToPlaylist       0   \n",
       "2     add andy hunter to my evening commute playlist   AddToPlaylist       0   \n",
       "3          book a reservation for 1 at a diner in wi  BookRestaurant       1   \n",
       "4  what is the overcast forecast for the current ...      GetWeather       2   \n",
       "\n",
       "                                           cleaned  \n",
       "0        add album might myth power metal playlist  \n",
       "1                  add jack white playlist shakira  \n",
       "2         add andy hunter evening commute playlist  \n",
       "3                        book reservation diner wi  \n",
       "4  overcast forecast current position starting jul  "
      ]
     },
     "execution_count": 40,
     "metadata": {},
     "output_type": "execute_result"
    },
    {
     "data": {
      "text/html": [
       "<div>\n",
       "<style scoped>\n",
       "    .dataframe tbody tr th:only-of-type {\n",
       "        vertical-align: middle;\n",
       "    }\n",
       "\n",
       "    .dataframe tbody tr th {\n",
       "        vertical-align: top;\n",
       "    }\n",
       "\n",
       "    .dataframe thead th {\n",
       "        text-align: right;\n",
       "    }\n",
       "</style>\n",
       "<table border=\"1\" class=\"dataframe\">\n",
       "  <thead>\n",
       "    <tr style=\"text-align: right;\">\n",
       "      <th></th>\n",
       "      <th>intent</th>\n",
       "      <th>label</th>\n",
       "      <th>label_</th>\n",
       "      <th>cleaned</th>\n",
       "    </tr>\n",
       "  </thead>\n",
       "  <tbody>\n",
       "    <tr>\n",
       "      <th>595</th>\n",
       "      <td>what is the forecast for lansford for temperat...</td>\n",
       "      <td>GetWeather</td>\n",
       "      <td>2</td>\n",
       "      <td>forecast lansford temperate weather</td>\n",
       "    </tr>\n",
       "    <tr>\n",
       "      <th>596</th>\n",
       "      <td>what movies are playing close by</td>\n",
       "      <td>SearchScreeningEvent</td>\n",
       "      <td>5</td>\n",
       "      <td>movies playing close</td>\n",
       "    </tr>\n",
       "    <tr>\n",
       "      <th>597</th>\n",
       "      <td>can you find me the national anthem of the anc...</td>\n",
       "      <td>SearchCreativeWork</td>\n",
       "      <td>4</td>\n",
       "      <td>find national anthem ancient britons televisio...</td>\n",
       "    </tr>\n",
       "    <tr>\n",
       "      <th>598</th>\n",
       "      <td>wish to see the photograph with the name live ...</td>\n",
       "      <td>SearchCreativeWork</td>\n",
       "      <td>4</td>\n",
       "      <td>wish see photograph name live right</td>\n",
       "    </tr>\n",
       "    <tr>\n",
       "      <th>599</th>\n",
       "      <td>will it be colder here in 48 and a half weeks</td>\n",
       "      <td>GetWeather</td>\n",
       "      <td>2</td>\n",
       "      <td>colder half weeks</td>\n",
       "    </tr>\n",
       "  </tbody>\n",
       "</table>\n",
       "</div>"
      ],
      "text/plain": [
       "                                                intent                 label  \\\n",
       "595  what is the forecast for lansford for temperat...            GetWeather   \n",
       "596                   what movies are playing close by  SearchScreeningEvent   \n",
       "597  can you find me the national anthem of the anc...    SearchCreativeWork   \n",
       "598  wish to see the photograph with the name live ...    SearchCreativeWork   \n",
       "599      will it be colder here in 48 and a half weeks            GetWeather   \n",
       "\n",
       "     label_                                            cleaned  \n",
       "595       2                forecast lansford temperate weather  \n",
       "596       5                               movies playing close  \n",
       "597       4  find national anthem ancient britons televisio...  \n",
       "598       4                wish see photograph name live right  \n",
       "599       2                                  colder half weeks  "
      ]
     },
     "execution_count": 40,
     "metadata": {},
     "output_type": "execute_result"
    },
    {
     "data": {
      "text/plain": [
       "label_\n",
       "0    100\n",
       "1    100\n",
       "4    100\n",
       "2     99\n",
       "5     98\n",
       "3     98\n",
       "Name: count, dtype: int64"
      ]
     },
     "execution_count": 40,
     "metadata": {},
     "output_type": "execute_result"
    },
    {
     "data": {
      "text/plain": [
       "<Axes: xlabel='label_'>"
      ]
     },
     "execution_count": 40,
     "metadata": {},
     "output_type": "execute_result"
    },
    {
     "data": {
      "image/png": "[encoded data removed]",
      "text/plain": [
       "<Figure size 640x480 with 1 Axes>"
      ]
     },
     "metadata": {},
     "output_type": "display_data"
    }
   ],
   "source": [
    "# test 데이터도 동일하게 변환\n",
    "# encoder는 학습데이터에서 사용했던 객체 그대로 사용\n",
    "\n",
    "df_test['label_'] = encoder.fit_transform(df_test['label'])\n",
    "df_test.head()\n",
    "df_test.tail()\n",
    "df_test['label_'].value_counts()\n",
    "df_test['label_'].value_counts().plot(kind='bar')\n",
    "\n"
   ]
  },
  {
   "cell_type": "code",
   "execution_count": 41,
   "metadata": {},
   "outputs": [],
   "source": [
    "# 영문 전처리 진행\n",
    "from nltk.tokenize import RegexpTokenizer\n",
    "from nltk.corpus import stopwords\n",
    "import re\n",
    "def _removeNonAscii(s):\n",
    "    return \"\".join(i for i in s if  ord(i)<128) # chr(128) : '\\x80'\n",
    "\n",
    "def make_lower_case(text):\n",
    "    return text.lower()\n",
    "\n",
    "def remove_stop_words(text):\n",
    "    text = text.split()\n",
    "    stops = set(stopwords.words(\"english\"))\n",
    "    text = [w for w in text if not w in stops]\n",
    "    text = \" \".join(text)\n",
    "    return text\n",
    "\n",
    "def remove_html(text):\n",
    "    html_pattern = re.compile('<.*?>')\n",
    "    return html_pattern.sub(r'', text)\n",
    "\n",
    "def remove_punctuation(text):\n",
    "    tokenizer = RegexpTokenizer(r'[a-zA-Z]+')\n",
    "    text = tokenizer.tokenize(text)\n",
    "    text = \" \".join(text)\n",
    "    return text"
   ]
  },
  {
   "cell_type": "code",
   "execution_count": 42,
   "metadata": {},
   "outputs": [],
   "source": [
    "df_train['cleaned'] = df_train['intent'].apply(_removeNonAscii)\n",
    "df_train['cleaned'] = df_train.cleaned.apply(make_lower_case)\n",
    "df_train['cleaned'] = df_train.cleaned.apply(remove_stop_words)\n",
    "df_train['cleaned'] = df_train.cleaned.apply(remove_punctuation)\n",
    "df_train['cleaned'] = df_train.cleaned.apply(remove_html)\n",
    "\n",
    "df_test['cleaned'] = df_test['intent'].apply(_removeNonAscii)\n",
    "df_test['cleaned'] = df_test.cleaned.apply(make_lower_case)\n",
    "df_test['cleaned'] = df_test.cleaned.apply(remove_stop_words)\n",
    "df_test['cleaned'] = df_test.cleaned.apply(remove_punctuation)\n",
    "df_test['cleaned'] = df_test.cleaned.apply(remove_html)"
   ]
  },
  {
   "cell_type": "code",
   "execution_count": 43,
   "metadata": {},
   "outputs": [
    {
     "data": {
      "text/html": [
       "<div>\n",
       "<style scoped>\n",
       "    .dataframe tbody tr th:only-of-type {\n",
       "        vertical-align: middle;\n",
       "    }\n",
       "\n",
       "    .dataframe tbody tr th {\n",
       "        vertical-align: top;\n",
       "    }\n",
       "\n",
       "    .dataframe thead th {\n",
       "        text-align: right;\n",
       "    }\n",
       "</style>\n",
       "<table border=\"1\" class=\"dataframe\">\n",
       "  <thead>\n",
       "    <tr style=\"text-align: right;\">\n",
       "      <th></th>\n",
       "      <th>intent</th>\n",
       "      <th>label</th>\n",
       "      <th>label_</th>\n",
       "      <th>cleaned</th>\n",
       "    </tr>\n",
       "  </thead>\n",
       "  <tbody>\n",
       "    <tr>\n",
       "      <th>0</th>\n",
       "      <td>do you know of a song by the mande studies ass...</td>\n",
       "      <td>SearchCreativeWork</td>\n",
       "      <td>4</td>\n",
       "      <td>know song mande studies association</td>\n",
       "    </tr>\n",
       "    <tr>\n",
       "      <th>1</th>\n",
       "      <td>add global underground 006 sydney to my best m...</td>\n",
       "      <td>AddToPlaylist</td>\n",
       "      <td>0</td>\n",
       "      <td>add global underground sydney best metal new m...</td>\n",
       "    </tr>\n",
       "    <tr>\n",
       "      <th>2</th>\n",
       "      <td>put this artist onto the chillin' on a dirt ro...</td>\n",
       "      <td>AddToPlaylist</td>\n",
       "      <td>0</td>\n",
       "      <td>put artist onto chillin dirt road playlist</td>\n",
       "    </tr>\n",
       "    <tr>\n",
       "      <th>3</th>\n",
       "      <td>find three in the attic</td>\n",
       "      <td>SearchScreeningEvent</td>\n",
       "      <td>5</td>\n",
       "      <td>find three attic</td>\n",
       "    </tr>\n",
       "    <tr>\n",
       "      <th>4</th>\n",
       "      <td>find the closest cinema playing the st francis...</td>\n",
       "      <td>SearchScreeningEvent</td>\n",
       "      <td>5</td>\n",
       "      <td>find closest cinema playing st francisville ex...</td>\n",
       "    </tr>\n",
       "  </tbody>\n",
       "</table>\n",
       "</div>"
      ],
      "text/plain": [
       "                                              intent                 label  \\\n",
       "0  do you know of a song by the mande studies ass...    SearchCreativeWork   \n",
       "1  add global underground 006 sydney to my best m...         AddToPlaylist   \n",
       "2  put this artist onto the chillin' on a dirt ro...         AddToPlaylist   \n",
       "3                            find three in the attic  SearchScreeningEvent   \n",
       "4  find the closest cinema playing the st francis...  SearchScreeningEvent   \n",
       "\n",
       "   label_                                            cleaned  \n",
       "0       4                know song mande studies association  \n",
       "1       0  add global underground sydney best metal new m...  \n",
       "2       0         put artist onto chillin dirt road playlist  \n",
       "3       5                                   find three attic  \n",
       "4       5  find closest cinema playing st francisville ex...  "
      ]
     },
     "execution_count": 43,
     "metadata": {},
     "output_type": "execute_result"
    }
   ],
   "source": [
    "df_train.head()"
   ]
  },
  {
   "cell_type": "code",
   "execution_count": 44,
   "metadata": {},
   "outputs": [],
   "source": [
    "from tensorflow.keras.preprocessing.text import Tokenizer\n",
    "\n",
    "tokenizer = Tokenizer()\n",
    "tokenizer.fit_on_texts(df_train[\"cleaned\"])\n",
    "X_train_encoded = tokenizer.texts_to_sequences(df_train[\"cleaned\"])"
   ]
  },
  {
   "cell_type": "code",
   "execution_count": 45,
   "metadata": {},
   "outputs": [
    {
     "name": "stdout",
     "output_type": "stream",
     "text": [
      "[[170, 32, 3745, 1760, 1761], [2, 718, 1384, 3746, 75, 121, 70, 1762], [37, 65, 97, 1385, 884, 246, 4], [3, 39, 1147], [3, 66, 50, 16, 185, 3747, 1386]]\n"
     ]
    }
   ],
   "source": [
    "print(X_train_encoded[:5])"
   ]
  },
  {
   "cell_type": "code",
   "execution_count": null,
   "metadata": {},
   "outputs": [],
   "source": []
  },
  {
   "cell_type": "code",
   "execution_count": 46,
   "metadata": {},
   "outputs": [
    {
     "name": "stdout",
     "output_type": "stream",
     "text": [
      "{'book': 1, 'add': 2, 'find': 3, 'playlist': 4, 'movie': 5, 'rate': 6, 'weather': 7, 'show': 8, 'give': 9, 'restaurant': 10, 'current': 11, 'stars': 12, 'forecast': 13, 'points': 14, 's': 15, 'playing': 16, 'table': 17, 'want': 18, 'like': 19, 'movies': 20, 'album': 21, 'need': 22, 'called': 23, 'one': 24, 'schedule': 25, 'theatres': 26, 'd': 27, 'please': 28, 'house': 29, 'four': 30, 'time': 31, 'song': 32, 'reservation': 33, 'novel': 34, 'get': 35, 'rating': 36, 'put': 37, 'two': 38, 'three': 39, 'people': 40, 'animated': 41, 'five': 42, 'times': 43, 'schedules': 44, 'films': 45, 'tune': 46, 'party': 47, 'saga': 48, 'tv': 49, 'cinema': 50, 'series': 51, 'serves': 52, 'essay': 53, 'track': 54, 'game': 55, 'see': 56, 'textbook': 57, 'area': 58, 'nearest': 59, 'close': 60, 'list': 61, 'zero': 62, 'showing': 63, 'spot': 64, 'artist': 65, 'closest': 66, 'theatre': 67, 'tell': 68, 'rated': 69, 'new': 70, 'going': 71, 'would': 72, 'play': 73, 'park': 74, 'best': 75, 'watch': 76, 'pm': 77, 'food': 78, 'bar': 79, 'around': 80, 'chronicle': 81, 'eat': 82, 'national': 83, 'th': 84, 'love': 85, 'place': 86, 'picture': 87, 'next': 88, 'looking': 89, 'brasserie': 90, 'nearby': 91, 'look': 92, 'search': 93, 'state': 94, 'photograph': 95, 'trailer': 96, 'onto': 97, 'city': 98, 'pub': 99, 'seven': 100, 'nine': 101, 'television': 102, 'within': 103, 'ten': 104, 'six': 105, 'top': 106, 'soundtrack': 107, 'reservations': 108, 'neighborhood': 109, 'video': 110, 'painting': 111, 'highly': 112, 'go': 113, 'far': 114, 'hours': 115, 'hot': 116, 'make': 117, 'rock': 118, 'minute': 119, 'day': 120, 'metal': 121, 'eight': 122, 'reserve': 123, 'second': 124, 'years': 125, 'neighbourhood': 126, 'north': 127, 'clock': 128, 'de': 129, 'minutes': 130, 'hour': 131, 'o': 132, 'south': 133, 'weeks': 134, 'islands': 135, 'live': 136, 'b': 137, 'gets': 138, 'today': 139, 'night': 140, 'another': 141, 'work': 142, 'american': 143, 'hits': 144, 'man': 145, 'indie': 146, 'colder': 147, 'week': 148, 'pop': 149, 'warm': 150, 'corporation': 151, 'chilly': 152, 'women': 153, 'cold': 154, 'titled': 155, 'life': 156, 'country': 157, 'days': 158, 'music': 159, 'star': 160, 'twenty': 161, 'black': 162, 'showtimes': 163, 'freezing': 164, 'island': 165, 'deserves': 166, 'world': 167, 'last': 168, 'value': 169, 'know': 170, 'seconds': 171, 'distance': 172, 'creativity': 173, 'cinemas': 174, 'hotter': 175, 'soul': 176, 'creative': 177, 'dance': 178, 'walking': 179, 'chillier': 180, 'near': 181, 'warmer': 182, 'cineplex': 183, 'year': 184, 'st': 185, 'entertainment': 186, 'lake': 187, 'la': 188, 'neighboring': 189, 'faraway': 190, 'theaters': 191, 'saint': 192, 'wildlife': 193, 'location': 194, 'chill': 195, 'name': 196, 'popular': 197, 'tea': 198, 'r': 199, 'tavern': 200, 'named': 201, 'serving': 202, 'temperate': 203, 'latin': 204, 'death': 205, 'east': 206, 'west': 207, 'half': 208, 'great': 209, 'n': 210, 'blues': 211, 'fire': 212, 'cafe': 213, 'position': 214, 'rain': 215, 'right': 216, 'history': 217, 'jazz': 218, 'court': 219, 'dinner': 220, 'story': 221, 'good': 222, 'group': 223, 'workout': 224, 'distant': 225, 'lo': 226, 'room': 227, 'river': 228, 'storm': 229, 'southern': 230, 'folk': 231, 'take': 232, 'starting': 233, 'red': 234, 'months': 235, 'check': 236, 'help': 237, 'classical': 238, 'pool': 239, 'evening': 240, 'taverna': 241, 'blizzard': 242, 'white': 243, 'old': 244, 'journal': 245, 'road': 246, 'wild': 247, 'something': 248, 'cloudy': 249, 'ii': 250, 'fast': 251, 'somewhere': 252, 'york': 253, 'little': 254, 'nature': 255, 'tomorrow': 256, 'month': 257, 'beach': 258, 'added': 259, 'songs': 260, 'truck': 261, 'acoustic': 262, 'windy': 263, 'loews': 264, 'dakota': 265, 'jan': 266, 'll': 267, 'spring': 268, 'midnight': 269, 'think': 270, 'snowstorm': 271, 'sun': 272, 'classics': 273, 'punk': 274, 'french': 275, 'cafeteria': 276, 'parking': 277, 'mountain': 278, 'cloud': 279, 'feb': 280, 'carolina': 281, 'war': 282, 'wind': 283, 'big': 284, 'snow': 285, 'united': 286, 'first': 287, 'power': 288, 'heart': 289, 'local': 290, 'hail': 291, 'amc': 292, 'feel': 293, 'refuge': 294, 'dead': 295, 'hotel': 296, 'espa': 297, 'magic': 298, 'classic': 299, 'company': 300, 'bakery': 301, 'home': 302, 'street': 303, 'giving': 304, 'baby': 305, 'san': 306, 'gastropub': 307, 'christmas': 308, 'fresh': 309, 'supposed': 310, 'january': 311, 'earth': 312, 'overcast': 313, 'spa': 314, 'diner': 315, 'john': 316, 'reggae': 317, 'mexico': 318, 'eleven': 319, 'joint': 320, 'let': 321, 'tracks': 322, 'gaming': 323, 'forest': 324, 'el': 325, 'conditions': 326, 'needs': 327, 'green': 328, 'summer': 329, 'fox': 330, 'back': 331, 'blood': 332, 'august': 333, 'snowfall': 334, 'step': 335, 'seats': 336, 'internet': 337, 'seating': 338, 'pacific': 339, 'october': 340, 'hip': 341, 'hop': 342, 'mejor': 343, 'samoa': 344, 'steakhouse': 345, 'spotify': 346, 'snowy': 347, 'pull': 348, 'johnson': 349, 'king': 350, 'person': 351, 'stormy': 352, 'indoor': 353, 'valley': 354, 'chicken': 355, 'malco': 356, 'read': 357, 'buy': 358, 'piano': 359, 'include': 360, 'forever': 361, 'guest': 362, 'school': 363, 'autumn': 364, 'coffeehouse': 365, 'following': 366, 'girl': 367, 'cuisine': 368, 'high': 369, 'creek': 370, 'meal': 371, 'may': 372, 'twelve': 373, 'june': 374, 'amco': 375, 'blue': 376, 'land': 377, 'georgia': 378, 'march': 379, 'young': 380, 'point': 381, 'sep': 382, 'previous': 383, 'churrascaria': 384, 'morning': 385, 'winter': 386, 'ok': 387, 'listen': 388, 'oct': 389, 'sunny': 390, 'whats': 391, 'trip': 392, 'july': 393, 'kids': 394, 'wifi': 395, 'nationalpark': 396, 'disco': 397, 'funk': 398, 'al': 399, 'fall': 400, 'humidity': 401, 'martin': 402, 'ol': 403, 'april': 404, 'outdoor': 405, 'queen': 406, 'p': 407, 'foggy': 408, 'states': 409, 'pizzeria': 410, 'us': 411, 'town': 412, 'hundred': 413, 'december': 414, 'post': 415, 'fog': 416, 'dec': 417, 'caribbean': 418, 'hills': 419, 'bistro': 420, 'nov': 421, 'law': 422, 'que': 423, 'afternoon': 424, 'depression': 425, 'nothing': 426, 'scheduled': 427, 'start': 428, 'av': 429, 'long': 430, 'vibes': 431, 'sea': 432, 'imax': 433, 'temps': 434, 'purchase': 435, 'nd': 436, 'locate': 437, 'free': 438, 'bay': 439, 'kentucky': 440, 'natural': 441, 'jul': 442, 'future': 443, 'humid': 444, 'dickinson': 445, 'wish': 446, 'theater': 447, 'september': 448, 'lost': 449, 'los': 450, 'quality': 451, 'odeon': 452, 'february': 453, 'guinea': 454, 'colorado': 455, 'girls': 456, 'much': 457, 'hill': 458, 'indian': 459, 'douglas': 460, 'jams': 461, 'jersey': 462, 'northern': 463, 'cooper': 464, 'woman': 465, 'smoking': 466, 'discography': 467, 'noon': 468, 'part': 469, 'oyster': 470, 'marcus': 471, 'fish': 472, 'cinemark': 473, 'light': 474, 'e': 475, 'dark': 476, 'mi': 477, 'ne': 478, 'lounge': 479, 'november': 480, 'sky': 481, 'family': 482, 'vermont': 483, 'coming': 484, 'fort': 485, 'foundation': 486, 'harkins': 487, 'delaware': 488, 'mar': 489, 'apr': 490, 'megaplex': 491, 'end': 492, 'wisconsin': 493, 'club': 494, 'downtown': 495, 'ak': 496, 'goodrich': 497, 'oh': 498, 'amusements': 499, 'id': 500, 'rainy': 501, 'moon': 502, 'lady': 503, 'dipson': 504, 'escape': 505, 'rising': 506, 'general': 507, 'come': 508, 'k': 509, 'pa': 510, 'third': 511, 'beat': 512, 'texas': 513, 'david': 514, 'mystery': 515, 'brazilian': 516, 'mary': 517, 'novedades': 518, 'prince': 519, 'tonight': 520, 'tennessee': 521, 'fine': 522, 'cool': 523, 'century': 524, 'jun': 525, 'supper': 526, 'il': 527, 'kerasotes': 528, 'ultimate': 529, 'guitar': 530, 'mills': 531, 'title': 532, 'entitled': 533, 'center': 534, 'sunset': 535, 'secret': 536, 'film': 537, 'hollywood': 538, 'hear': 539, 'temperature': 540, 'elevenses': 541, 'michael': 542, 'walk': 543, 'suena': 544, 'virginia': 545, 'stories': 546, 'men': 547, 'sanctuary': 548, 'james': 549, 'minnesota': 550, 'lets': 551, 'seventh': 552, 'alamo': 553, 'drafthouse': 554, 'battle': 555, 'glass': 556, 'california': 557, 'gold': 558, 'total': 559, 'springs': 560, 'mann': 561, 'nv': 562, 'osteria': 563, 'mt': 564, 'fm': 565, 'ms': 566, 'para': 567, 'inn': 568, 'tree': 569, 'rush': 570, 'cobb': 571, 'tales': 572, 'rhode': 573, 'iowa': 574, 'english': 575, 'devil': 576, 'collection': 577, 'members': 578, 'news': 579, 'republic': 580, 'view': 581, 'washington': 582, 'palau': 583, 'rainfall': 584, 'sound': 585, 'arkansas': 586, 'breakfast': 587, 'grand': 588, 'digster': 589, 'lunch': 590, 'nice': 591, 'spirit': 592, 'historic': 593, 'alaska': 594, 'plitt': 595, 'short': 596, 'sica': 597, 'virgin': 598, 'chips': 599, 'laundry': 600, 'boy': 601, 'micronesia': 602, 'mr': 603, 'type': 604, 'perfect': 605, 'heights': 606, 'air': 607, 'indiana': 608, 'falls': 609, 'mother': 610, 'case': 611, 'paramount': 612, 'romance': 613, 'happy': 614, 'con': 615, 'fear': 616, 'santikos': 617, 'sweet': 618, 'volume': 619, 'delicatessen': 620, 'beyond': 621, 'showcase': 622, 'hell': 623, 'connecticut': 624, 'die': 625, 'thing': 626, 'rd': 627, 'way': 628, 'del': 629, 'ghost': 630, 'instrumental': 631, 'mariana': 632, 'columbia': 633, 'season': 634, 'son': 635, 'thirteen': 636, 'u': 637, 'consolidated': 638, 'sc': 639, 'space': 640, 'warren': 641, 'bridge': 642, 'castle': 643, 'fever': 644, 'sleep': 645, 'evil': 646, 'showings': 647, 'latino': 648, 'j': 649, 'anywhere': 650, 'fifth': 651, 'heaven': 652, 'gu': 653, 'away': 654, 'spanish': 655, 'legend': 656, 'midday': 657, 'george': 658, 'harry': 659, 'eighth': 660, 'mark': 661, 'child': 662, 'sixteen': 663, 'return': 664, 'seat': 665, 'sister': 666, 'tom': 667, 'borough': 668, 'cheese': 669, 'fourteen': 670, 'rhythm': 671, 'missouri': 672, 'bill': 673, 'wars': 674, 'wy': 675, 'aug': 676, 'thirty': 677, 'calm': 678, 'wife': 679, 'lord': 680, 'glory': 681, 'worth': 682, 'district': 683, 'nh': 684, 'stone': 685, 'ny': 686, 'louisiana': 687, 'ut': 688, 'focus': 689, 'md': 690, 'vincent': 691, 'peace': 692, 'kind': 693, 'ks': 694, 'finds': 695, 'hands': 696, 'journey': 697, 'lovers': 698, 'adventures': 699, 'paul': 700, 'mon': 701, 'puerto': 702, 'rico': 703, 'greatest': 704, 'call': 705, 'federated': 706, 'arclight': 707, 'ia': 708, 'landmark': 709, 'dawn': 710, 'lakes': 711, 'bring': 712, 'cl': 713, 'mind': 714, 'paris': 715, 'union': 716, 'china': 717, 'global': 718, 'hit': 719, 'ice': 720, 'bow': 721, 'tie': 722, 'serbia': 723, 'trail': 724, 'coffee': 725, 'secrets': 726, 'forcast': 727, 'sing': 728, 'ct': 729, 'gave': 730, 'ri': 731, 'sex': 732, 'iron': 733, 'newest': 734, 'di': 735, 'wave': 736, 'daily': 737, 'ar': 738, 'radio': 739, 'fl': 740, 'price': 741, 'todo': 742, 'ga': 743, 'running': 744, 'bear': 745, 'central': 746, 'african': 747, 'fourth': 748, 'water': 749, 'sword': 750, 'sd': 751, 'thomas': 752, 'living': 753, 'theory': 754, 'favorite': 755, 'dc': 756, 'currently': 757, 'deep': 758, 'thirteenth': 759, 'sons': 760, 'amor': 761, 'arizona': 762, 'kb': 763, 'van': 764, 'groove': 765, 'frank': 766, 'clinton': 767, 'cleaning': 768, 'lee': 769, 'smash': 770, 'kansas': 771, 'caf': 772, 'tale': 773, 'en': 774, 'throwback': 775, 'darkness': 776, 'nebraska': 777, 'friday': 778, 'god': 779, 'montana': 780, 'fiction': 781, 'tn': 782, 'monday': 783, 'review': 784, 'thursday': 785, 'brazil': 786, 'regal': 787, 'pw': 788, 'c': 789, 'mount': 790, 'children': 791, 'le': 792, 'australia': 793, 'seventeen': 794, 'goes': 795, 'art': 796, 'dirty': 797, 'speakeasy': 798, 'america': 799, 'pierre': 800, 'tears': 801, 'ad': 802, 'sxsw': 803, 'releases': 804, 'spain': 805, 'brooklyn': 806, 'johnny': 807, 'junction': 808, 'alternative': 809, 'kingdom': 810, 'pre': 811, 'paradise': 812, 'move': 813, 'fairy': 814, 'could': 815, 'friends': 816, 'european': 817, 'illinois': 818, 'keep': 819, 'fiesta': 820, 'billy': 821, 'lazy': 822, 'russia': 823, 'fried': 824, 'epic': 825, 'dreams': 826, 'edition': 827, 'brother': 828, 'solid': 829, 'side': 830, 'montenegro': 831, 'loving': 832, 'possible': 833, 'ky': 834, 'netherlands': 835, 'father': 836, 'cry': 837, 'adventure': 838, 'las': 839, 'verano': 840, 'kiss': 841, 'accommodate': 842, 'hand': 843, 'fair': 844, 'co': 845, 'machine': 846, 'electronic': 847, 'provincial': 848, 'line': 849, 'nj': 850, 'drive': 851, 'emily': 852, 'science': 853, 'car': 854, 'cream': 855, 'cake': 856, 'justice': 857, 'ca': 858, 'animal': 859, 'copy': 860, 'picks': 861, 'dine': 862, 'hero': 863, 'maryland': 864, 'sunrise': 865, 'things': 866, 'dragon': 867, 'alabama': 868, 'sicos': 869, 'cross': 870, 'wi': 871, 'dog': 872, 'talk': 873, 'college': 874, 'body': 875, 'ocean': 876, 'niger': 877, 'worlds': 878, 'grenadines': 879, 'kuwait': 880, 'hearts': 881, 'information': 882, 'oklahoma': 883, 'dirt': 884, 'dubstep': 885, 'recreation': 886, 'reading': 887, 'saturday': 888, 'marshall': 889, 'totally': 890, 'da': 891, 'comedy': 892, 'gay': 893, 'sounds': 894, 'welcome': 895, 'booking': 896, 'project': 897, 'hampshire': 898, 'chocolate': 899, 'still': 900, 'stress': 901, 'shown': 902, 'boys': 903, 'warning': 904, 'grandfather': 905, 'heat': 906, 'irish': 907, 'mississippi': 908, 'memorial': 909, 'football': 910, 'real': 911, 'burkina': 912, 'hard': 913, 'falling': 914, 'passion': 915, 'az': 916, 'universe': 917, 'oregon': 918, 'l': 919, 'string': 920, 'tony': 921, 'palylist': 922, 'jack': 923, 'site': 924, 'original': 925, 'sixth': 926, 'plays': 927, 'wa': 928, 'wine': 929, 'rose': 930, 'arabia': 931, 'albania': 932, 'kitchen': 933, 'ace': 934, 'without': 935, 'princess': 936, 'steve': 937, 'possiable': 938, 'luis': 939, 'nuclear': 940, 'pat': 941, 'crown': 942, 'xitos': 943, 'naked': 944, 'trap': 945, 'venezuela': 946, 'always': 947, 'preserve': 948, 'goodbye': 949, 'lot': 950, 'activity': 951, 'wyoming': 952, 'cape': 953, 'ni': 954, 'zambia': 955, 'togo': 956, 'infinite': 957, 'twentieth': 958, 'florida': 959, 'shadows': 960, 'pr': 961, 'remix': 962, 'michigan': 963, 'sudan': 964, 'robin': 965, 'x': 966, 'eighteen': 967, 'france': 968, 'heroes': 969, 'mix': 970, 'heavy': 971, 'grill': 972, 'middle': 973, 'hunter': 974, 'mjr': 975, 'tyrolean': 976, 'brian': 977, 'nineteen': 978, 'loves': 979, 'concert': 980, 'awards': 981, 'miss': 982, 'lullaby': 983, 'vi': 984, 'wilderness': 985, 'jones': 986, 'neo': 987, 'trouble': 988, 'miquelon': 989, 'robert': 990, 'hall': 991, 'shall': 992, 'crystal': 993, 'greenland': 994, 'monument': 995, 'indonesia': 996, 'ross': 997, 'wilson': 998, 'desert': 999, 'late': 1000, 'ninth': 1001, 'shadow': 1002, 'conservation': 1003, 'final': 1004, 'nc': 1005, 'endorphin': 1006, 'daughter': 1007, 'mellow': 1008, 'ntc': 1009, 'bpm': 1010, 'thousand': 1011, 'lies': 1012, 'bad': 1013, 'touch': 1014, 'eastern': 1015, 'duetos': 1016, 'london': 1017, 'korea': 1018, 'nation': 1019, 'rom': 1020, 'jim': 1021, 'pure': 1022, 'birds': 1023, 'band': 1024, 'electro': 1025, 'complete': 1026, 'gate': 1027, 'well': 1028, 'vanuatu': 1029, 'birth': 1030, 'chronicles': 1031, 'bird': 1032, 'jam': 1033, 'rica': 1034, 'polynesia': 1035, 'montserrat': 1036, 'punks': 1037, 'pastelaria': 1038, 'halloween': 1039, 'bonaire': 1040, 'getting': 1041, 'mp': 1042, 'wv': 1043, 'rise': 1044, 'falkland': 1045, 'matt': 1046, 'enemy': 1047, 'yellow': 1048, 'poems': 1049, 'maine': 1050, 'horse': 1051, 'never': 1052, 'brunch': 1053, 'commute': 1054, 'trey': 1055, 'predicted': 1056, 'sandwich': 1057, 'coney': 1058, 'tokyo': 1059, 'mike': 1060, 'fonsi': 1061, 'manhattan': 1062, 'roots': 1063, 'soulful': 1064, 'holmes': 1065, 'pot': 1066, 'steak': 1067, 'encyclopedia': 1068, 'dr': 1069, 'saudi': 1070, 'te': 1071, 'zen': 1072, 'ridge': 1073, 'nevada': 1074, 'nightmare': 1075, 'hi': 1076, 'joe': 1077, 'played': 1078, 'taylor': 1079, 'confidence': 1080, 'head': 1081, 'flight': 1082, 'british': 1083, 'shores': 1084, 'village': 1085, 'salvador': 1086, 'clark': 1087, 'surface': 1088, 'might': 1089, 'parc': 1090, 'g': 1091, 'hat': 1092, 'chris': 1093, 'trabajo': 1094, 'relax': 1095, 'silver': 1096, 'incorporate': 1097, 'sixteenth': 1098, 'italian': 1099, 'key': 1100, 'waltz': 1101, 'hipster': 1102, 'came': 1103, 'birthday': 1104, 'speed': 1105, 'casa': 1106, 'eleventh': 1107, 'behind': 1108, 'ukraine': 1109, 'modern': 1110, 'papua': 1111, 'uzbekistan': 1112, 'australian': 1113, 'conexiones': 1114, 'funtime': 1115, 'style': 1116, 'chaos': 1117, 'download': 1118, 'broken': 1119, 'weekly': 1120, 'zealand': 1121, 'eyes': 1122, 'garrix': 1123, 'parents': 1124, 'wondering': 1125, 'husband': 1126, 'western': 1127, 'croatia': 1128, 'roll': 1129, 'port': 1130, 'dream': 1131, 'concentraci': 1132, 'angry': 1133, 'fusion': 1134, 'fest': 1135, 'management': 1136, 'colony': 1137, 'cardio': 1138, 'noise': 1139, 'southeastern': 1140, 'pass': 1141, 'holy': 1142, 'strong': 1143, 'broadway': 1144, 'dancing': 1145, 'gabon': 1146, 'attic': 1147, 'cash': 1148, 'building': 1149, 'apple': 1150, 'meet': 1151, 'smith': 1152, 'lisa': 1153, 'zimbabwe': 1154, 'greece': 1155, 'thieves': 1156, 'scott': 1157, 'finland': 1158, 'strict': 1159, 'revival': 1160, 'fiji': 1161, 'joseph': 1162, 'tanzania': 1163, 'philip': 1164, 'face': 1165, 'religion': 1166, 'jean': 1167, 'warrior': 1168, 'steps': 1169, 'leche': 1170, 'relief': 1171, 'rocks': 1172, 'strange': 1173, 'ultra': 1174, 'goiano': 1175, 'gates': 1176, 'chapter': 1177, 'door': 1178, 'mac': 1179, 'pakistan': 1180, 'selektor': 1181, 'truth': 1182, 'jazzy': 1183, 'alone': 1184, 'score': 1185, 'bosnia': 1186, 'herzegovina': 1187, 'singer': 1188, 'playlists': 1189, 'mh': 1190, 'training': 1191, 'jennie': 1192, 'edge': 1193, 'online': 1194, 'guam': 1195, 'eighteenth': 1196, 'myanmar': 1197, 'rap': 1198, 'highway': 1199, 'coast': 1200, 'lesotho': 1201, 'monterey': 1202, 'marine': 1203, 'train': 1204, 'roy': 1205, 'reed': 1206, 'stop': 1207, 'crew': 1208, 'box': 1209, 'tx': 1210, 'dying': 1211, 'waiting': 1212, 'made': 1213, 'rex': 1214, 'romania': 1215, 'souls': 1216, 'hanging': 1217, 'relaxing': 1218, 'taiwan': 1219, 'canada': 1220, 'eric': 1221, 'nicky': 1222, 'viernes': 1223, 'sudam': 1224, 'ian': 1225, 'sunday': 1226, 'political': 1227, 'apart': 1228, 'ball': 1229, 'whole': 1230, 'cut': 1231, 'wanda': 1232, 'liberty': 1233, 'monster': 1234, 'hong': 1235, 'kong': 1236, 'beast': 1237, 'run': 1238, 'tour': 1239, 'full': 1240, 'hillary': 1241, 'pirates': 1242, 'russian': 1243, 'afterwork': 1244, 'guernsey': 1245, 'miami': 1246, 'jordan': 1247, 'bruce': 1248, 'va': 1249, 'gray': 1250, 'india': 1251, 'williams': 1252, 'winnie': 1253, 'pok': 1254, 'eye': 1255, 'aruba': 1256, 'horror': 1257, 'bone': 1258, 'paper': 1259, 'kings': 1260, 'corner': 1261, 'songz': 1262, 'jane': 1263, 'bones': 1264, 'canciones': 1265, 'slovakia': 1266, 'louis': 1267, 'official': 1268, 'fifteenth': 1269, 'hamilton': 1270, 'main': 1271, 'idaho': 1272, 'weekend': 1273, 'mysterious': 1274, 'nova': 1275, 'guy': 1276, 't': 1277, 'massachusetts': 1278, 'nu': 1279, 'fifteen': 1280, 'decade': 1281, 'collective': 1282, 'animals': 1283, 'brunei': 1284, 'wedding': 1285, 'francisco': 1286, 'alley': 1287, 'prairie': 1288, 'facility': 1289, 'pizza': 1290, 'voices': 1291, 'society': 1292, 'square': 1293, 'turks': 1294, 'caicos': 1295, 'beats': 1296, 'denmark': 1297, 'pulse': 1298, 'americana': 1299, 'international': 1300, 'research': 1301, 'richard': 1302, 'detective': 1303, 'nathan': 1304, 'dragons': 1305, 'works': 1306, 'education': 1307, 'assign': 1308, 'bermuda': 1309, 'corn': 1310, 'age': 1311, 'makers': 1312, 'liechtenstein': 1313, 'cena': 1314, 'kid': 1315, 'save': 1316, 'qatar': 1317, 'comes': 1318, 'holiday': 1319, 'aftercluv': 1320, 'joy': 1321, 'teenager': 1322, 'bachelor': 1323, 'express': 1324, 'path': 1325, 'grime': 1326, 'say': 1327, 'wonderful': 1328, 'garage': 1329, 'prefectural': 1330, 'nights': 1331, 'grey': 1332, 'ti': 1333, 'argentina': 1334, 'canadian': 1335, 'portugal': 1336, 'atmospheric': 1337, 'jacob': 1338, 'sunshine': 1339, 'early': 1340, 'reserved': 1341, 'trance': 1342, 'bride': 1343, 'clear': 1344, 'isle': 1345, 'equatorial': 1346, 'purple': 1347, 'rare': 1348, 'chicago': 1349, 'shake': 1350, 'honduras': 1351, 'sweden': 1352, 'vol': 1353, 'diary': 1354, 'office': 1355, 'seventeenth': 1356, 'primavera': 1357, 'barcelona': 1358, 'africa': 1359, 'ballads': 1360, 'ohio': 1361, 'bean': 1362, 'instrumentals': 1363, 'ex': 1364, 'study': 1365, 'force': 1366, 'gun': 1367, 'nm': 1368, 'seafood': 1369, 'ranch': 1370, 'concentration': 1371, 'ride': 1372, 'grace': 1373, 'spotlight': 1374, 'mn': 1375, 'deathcore': 1376, 'malaysia': 1377, 'condition': 1378, 'nelson': 1379, 'rainbow': 1380, 'sri': 1381, 'screened': 1382, 'na': 1383, 'underground': 1384, 'chillin': 1385, 'experiment': 1386, 'better': 1387, 'dangles': 1388, 'organ': 1389, 'iv': 1390, 'masters': 1391, 'benin': 1392, 'mozart': 1393, 'jewish': 1394, 'walker': 1395, 'generation': 1396, 'teddy': 1397, 'miller': 1398, 'apocalypse': 1399, 'jerry': 1400, 'baker': 1401, 'dj': 1402, 'sam': 1403, 'revived': 1404, 'pine': 1405, 'got': 1406, 'bedroom': 1407, 'sint': 1408, 'maarten': 1409, 'health': 1410, 'pura': 1411, 'vida': 1412, 'everywhere': 1413, 'latvia': 1414, 'grandkid': 1415, 'sensation': 1416, 'morgan': 1417, 'access': 1418, 'sessions': 1419, 'england': 1420, 'brave': 1421, 'playlis': 1422, 'terrible': 1423, 'afghanistan': 1424, 'tres': 1425, 'knight': 1426, 'timeless': 1427, 'ground': 1428, 'bank': 1429, 'funny': 1430, 'every': 1431, 'kitts': 1432, 'nevis': 1433, 'un': 1434, 'dave': 1435, 'armenia': 1436, 'girlfriend': 1437, 'madness': 1438, 'noodle': 1439, 'macedonia': 1440, 'moldova': 1441, 'alternativa': 1442, 'singapore': 1443, 'cuba': 1444, 'flying': 1445, 'ep': 1446, 'ntica': 1447, 'rings': 1448, 'landscape': 1449, 'travel': 1450, 'macao': 1451, 'guide': 1452, 'practice': 1453, 'metalsucks': 1454, 'info': 1455, 'om': 1456, 'camp': 1457, 'andorra': 1458, 'hole': 1459, 'por': 1460, 'redemption': 1461, 'flash': 1462, 'motion': 1463, 'smart': 1464, 'crowd': 1465, 'sierra': 1466, 'eagle': 1467, 'kosovo': 1468, 'douglass': 1469, 'revolution': 1470, 'expected': 1471, 'upon': 1472, 'viajes': 1473, 'mongolia': 1474, 'santa': 1475, 'beginning': 1476, 'army': 1477, 'edna': 1478, 'bahrain': 1479, 'luck': 1480, 'others': 1481, 'twelfth': 1482, 'merry': 1483, 'caledonia': 1484, 'flame': 1485, 'belgium': 1486, 'canyon': 1487, 'trying': 1488, 'travelling': 1489, 'bound': 1490, 'wilda': 1491, 'arthur': 1492, 'letters': 1493, 'apartment': 1494, 'emotron': 1495, 'economic': 1496, 'fi': 1497, 'rosana': 1498, 'everybody': 1499, 'university': 1500, 'infusions': 1501, 'past': 1502, 'human': 1503, 'tenth': 1504, 'anniversary': 1505, 'ribbon': 1506, 'private': 1507, 'games': 1508, 'dominican': 1509, 'betty': 1510, 'cat': 1511, 'crash': 1512, 'course': 1513, 'curious': 1514, 'italy': 1515, 'beaver': 1516, 'puccini': 1517, 'boss': 1518, 'bluff': 1519, 'enamor': 1520, 'ndose': 1521, 'marino': 1522, 'flesh': 1523, 'norfolk': 1524, 'pitcairn': 1525, 'sleeping': 1526, 'favorites': 1527, 'block': 1528, 'palm': 1529, 'puglia': 1530, 'barbara': 1531, 'met': 1532, 'bright': 1533, 'marry': 1534, 'hurricane': 1535, 'guadeloupe': 1536, 'chinese': 1537, 'irma': 1538, 'sherlock': 1539, 'deli': 1540, 'build': 1541, 'egypt': 1542, 'mayotte': 1543, 'sin': 1544, 'quiero': 1545, 'singles': 1546, 'store': 1547, 'contemporary': 1548, 'religious': 1549, 'satanism': 1550, 'crossing': 1551, 'bossa': 1552, 'phillips': 1553, 'destiny': 1554, 'azerbaijan': 1555, 'listas': 1556, 'doctor': 1557, 'background': 1558, 'gretchen': 1559, 'antilles': 1560, 'set': 1561, 'thailand': 1562, 'together': 1563, 'dale': 1564, 'biography': 1565, 'ship': 1566, 'historical': 1567, 'boost': 1568, 'plague': 1569, 'moments': 1570, 'houston': 1571, 'verde': 1572, 'workday': 1573, 'battlefield': 1574, 'flower': 1575, 'electronow': 1576, 'cayman': 1577, 'rwanda': 1578, 'hombres': 1579, 'horrible': 1580, 'angola': 1581, 'remember': 1582, 'uncharted': 1583, 'drake': 1584, 'awful': 1585, 'somalia': 1586, 'many': 1587, 'mom': 1588, 'hunting': 1589, 'hello': 1590, 'myth': 1591, 'award': 1592, 'fry': 1593, 'laos': 1594, 'theme': 1595, 'thunder': 1596, 'catch': 1597, 'charlie': 1598, 'orchestra': 1599, 'cello': 1600, 'dallas': 1601, 'boots': 1602, 'windows': 1603, 'palestine': 1604, 'angels': 1605, 'attack': 1606, 'adobe': 1607, 'digital': 1608, 'tgif': 1609, 'burke': 1610, 'baking': 1611, 'camino': 1612, 'twilight': 1613, 'shawn': 1614, 'botswana': 1615, 'send': 1616, 'w': 1617, 'self': 1618, 'elegante': 1619, 'carter': 1620, 'timor': 1621, 'cameroon': 1622, 'deception': 1623, 'monkey': 1624, 'anarchy': 1625, 'serve': 1626, 'sudden': 1627, 'rainstorm': 1628, 'angeles': 1629, 'kevin': 1630, 'dictionary': 1631, 'utah': 1632, 'keys': 1633, 'soft': 1634, 'gods': 1635, 'starship': 1636, 'hood': 1637, 'break': 1638, 'melody': 1639, 'anne': 1640, 'couples': 1641, 'lives': 1642, 'mad': 1643, 'provide': 1644, 'image': 1645, 'blast': 1646, 'toast': 1647, 'leopold': 1648, 'peaceful': 1649, 'v': 1650, 'seed': 1651, 'shop': 1652, 'psychedelic': 1653, 'essentials': 1654, 'hype': 1655, 'barbados': 1656, 'crab': 1657, 'bolivia': 1658, 'nineteenth': 1659, 'andy': 1660, 'presents': 1661, 'teacher': 1662, 'pennsylvania': 1663, 'grandes': 1664, 'unplugged': 1665, 'mountains': 1666, 'lobster': 1667, 'rouge': 1668, 'souvlaki': 1669, 'xplorer': 1670, 'chillout': 1671, 'curacao': 1672, 'cherry': 1673, 'showstopper': 1674, 'crime': 1675, 'sahara': 1676, 'tunisia': 1677, 'urban': 1678, 'bite': 1679, 'mash': 1680, 'outlaw': 1681, 'among': 1682, 'captain': 1683, 'hynes': 1684, 'massive': 1685, 'soca': 1686, 'maid': 1687, 'skull': 1688, 'system': 1689, 'bacon': 1690, 'diann': 1691, 'elephant': 1692, 'innocent': 1693, 'zez': 1694, 'camargo': 1695, 'luciano': 1696, 'bahamas': 1697, 'mama': 1698, 'lebanon': 1699, 'fourteenth': 1700, 'beauty': 1701, 'round': 1702, 'mars': 1703, 'congo': 1704, 'sense': 1705, 'grove': 1706, 'alice': 1707, 'buccaneer': 1708, 'molly': 1709, 'entity': 1710, 'across': 1711, 'wright': 1712, 'peter': 1713, 'reggaeton': 1714, 'kickass': 1715, 'victory': 1716, 'honor': 1717, 'creatures': 1718, 'mill': 1719, 'friend': 1720, 'indonesian': 1721, 'xiang': 1722, 'landing': 1723, 'jennifer': 1724, 'lopez': 1725, 'chile': 1726, 'mouse': 1727, 'stand': 1728, 'platinum': 1729, 'tajikistan': 1730, 'lincoln': 1731, 'comfort': 1732, 'youth': 1733, 'lights': 1734, 'gamer': 1735, 'antoinette': 1736, 'todd': 1737, 'creole': 1738, 'pig': 1739, 'race': 1740, 'tuvalu': 1741, 'domingo': 1742, 'lands': 1743, 'funky': 1744, 'chu': 1745, 'lanka': 1746, 'empire': 1747, 'korean': 1748, 'osts': 1749, 'civil': 1750, 'ghosts': 1751, 'behavior': 1752, 'must': 1753, 'treatment': 1754, 'confessions': 1755, 'genuine': 1756, 'oman': 1757, 'rats': 1758, 'vampire': 1759, 'studies': 1760, 'association': 1761, 'millennium': 1762, 'wolf': 1763, 'township': 1764, 'riders': 1765, 'mighty': 1766, 'transatlantic': 1767, 'anthony': 1768, 'newport': 1769, 'salsa': 1770, 'devils': 1771, 'straight': 1772, 'mim': 1773, 'fat': 1774, 'ireland': 1775, 'true': 1776, 'riley': 1777, 'magical': 1778, 'andrews': 1779, 'residence': 1780, 'episode': 1781, 'mediterranean': 1782, 'issue': 1783, 'nationaal': 1784, 'confusion': 1785, 'cruel': 1786, 'sand': 1787, 'gregori': 1788, 'wed': 1789, 'phoenix': 1790, 'algeria': 1791, 'yesterday': 1792, 'moroccan': 1793, 'medal': 1794, 'sabbath': 1795, 'covered': 1796, 'wagon': 1797, 'angel': 1798, 'burn': 1799, 'fifty': 1800, 'thin': 1801, 'sold': 1802, 'djibouti': 1803, 'hope': 1804, 'adam': 1805, 'vengeance': 1806, 'niue': 1807, 'hyun': 1808, 'carpenter': 1809, 'anochecer': 1810, 'urbano': 1811, 'friendesemana': 1812, 'christ': 1813, 'pretty': 1814, 'kill': 1815, 'wide': 1816, 'pigs': 1817, 'futuros': 1818, 'words': 1819, 'sexy': 1820, 'esenciales': 1821, 'hannah': 1822, 'pain': 1823, 'praise': 1824, 'blind': 1825, 'tara': 1826, 'nicaragua': 1827, 'royal': 1828, 'astronomy': 1829, 'tuscan': 1830, 'evangeline': 1831, 'territories': 1832, 'siempre': 1833, 'survival': 1834, 'extreme': 1835, 'dinnertime': 1836, 'acoustics': 1837, 'vt': 1838, 'protected': 1839, 'railroad': 1840, 'vickie': 1841, 'ruby': 1842, 'jacinto': 1843, 'anderson': 1844, 'colleagues': 1845, 'gluten': 1846, 'church': 1847, 'navy': 1848, 'section': 1849, 'electric': 1850, 'grass': 1851, 'changes': 1852, 'suriname': 1853, 'obama': 1854, 'fun': 1855, 'lion': 1856, 'yet': 1857, 'sur': 1858, 'reality': 1859, 'making': 1860, 'racing': 1861, 'fries': 1862, 'twerkout': 1863, 'playist': 1864, 'language': 1865, 'bloody': 1866, 'bible': 1867, 'throne': 1868, 'pursuit': 1869, 'radical': 1870, 'burning': 1871, 'rapcaviar': 1872, 'michelle': 1873, 'chopin': 1874, 'episodes': 1875, 'wizard': 1876, 'money': 1877, 'colombia': 1878, 'silence': 1879, 'legendary': 1880, 'solos': 1881, 'corinne': 1882, 'targeted': 1883, 'fashion': 1884, 'slaughterhouse': 1885, 'dunbrody': 1886, 'harbor': 1887, 'f': 1888, 'diamond': 1889, 'bhutan': 1890, 'mcdonald': 1891, 'kenya': 1892, 'grenada': 1893, 'champagne': 1894, 'damned': 1895, 'natalie': 1896, 'sad': 1897, 'upstairs': 1898, 'wrong': 1899, 'mirror': 1900, 'gear': 1901, 'bobby': 1902, 'flow': 1903, 'rockin': 1904, 'shine': 1905, 'cassie': 1906, 'cappella': 1907, 'berghoff': 1908, 'caucasian': 1909, 'sins': 1910, 'cave': 1911, 'super': 1912, 'davis': 1913, 'farian': 1914, 'sings': 1915, 'sammy': 1916, 'feast': 1917, 'hollow': 1918, 'dixon': 1919, 'campus': 1920, 'yukon': 1921, 'luxembourg': 1922, 'ava': 1923, 'wants': 1924, 'alma': 1925, 'gambia': 1926, 'sign': 1927, 'deborah': 1928, 'robinson': 1929, 'paraguay': 1930, 'tus': 1931, 'fiestas': 1932, 'ups': 1933, 'mughlai': 1934, 'blonde': 1935, 'papers': 1936, 'connection': 1937, 'act': 1938, 'sylvia': 1939, 'plath': 1940, 'knife': 1941, 'juan': 1942, 'sicilian': 1943, 'roses': 1944, 'halal': 1945, 'alive': 1946, 'trentino': 1947, 'rosemary': 1948, 'tibetan': 1949, 'kan': 1950, 'detroit': 1951, 'route': 1952, 'program': 1953, 'norway': 1954, 'stuffed': 1955, 'charles': 1956, 'cabin': 1957, 'knowledge': 1958, 'chase': 1959, 'ali': 1960, 'terror': 1961, 'lords': 1962, 'hawaii': 1963, 'una': 1964, 'ina': 1965, 'hiphop': 1966, 'uganda': 1967, 'marina': 1968, 'crossroads': 1969, 'skies': 1970, 'clay': 1971, 'ko': 1972, 'ever': 1973, 'exit': 1974, 'rollerdisco': 1975, 'dancehall': 1976, 'sos': 1977, 'swiss': 1978, 'witness': 1979, 'hold': 1980, 'coverage': 1981, 'doughnuts': 1982, 'bougatsa': 1983, 'radar': 1984, 'wicked': 1985, 'chasity': 1986, 'thompson': 1987, 'rumba': 1988, 'burger': 1989, 'selections': 1990, 'boon': 1991, 'brick': 1992, 'sondra': 1993, 'wings': 1994, 'ecology': 1995, 'retro': 1996, 'yolanda': 1997, 'com': 1998, 'hurts': 1999, 'watson': 2000, 'atlas': 2001, 'social': 2002, 'restaurants': 2003, 'turn': 2004, 'writing': 2005, 'heath': 2006, 'nuts': 2007, 'pleasant': 2008, 'found': 2009, 'czech': 2010, 'trattoria': 2011, 'carol': 2012, 'refugee': 2013, 'fantasy': 2014, 'business': 2015, 'fires': 2016, 'panama': 2017, 'single': 2018, 'feeling': 2019, 'origins': 2020, 'liberia': 2021, 'northeast': 2022, 'rob': 2023, 'icon': 2024, 'adrenaline': 2025, 'shoot': 2026, 'enough': 2027, 'rocky': 2028, 'butterfly': 2029, 'fist': 2030, 'hostel': 2031, 'twice': 2032, 'mujeres': 2033, 'community': 2034, 'conan': 2035, 'giants': 2036, 'breed': 2037, 'roadrunner': 2038, 'rec': 2039, 'selena': 2040, 'stracciatella': 2041, 'slick': 2042, 'studio': 2043, 'rapids': 2044, 'antarctica': 2045, 'memoirs': 2046, 'bissau': 2047, 'sauce': 2048, 'chavez': 2049, 'maggie': 2050, 'indietronic': 2051, 'drum': 2052, 'trapeo': 2053, 'job': 2054, 'starts': 2055, 'martinique': 2056, 'mis': 2057, 'os': 2058, 'vs': 2059, 'sushis': 2060, 'brasileiro': 2061, 'darkest': 2062, 'yemen': 2063, 'holly': 2064, 'planet': 2065, 'phunkadelic': 2066, 'shoes': 2067, 'definitely': 2068, 'clase': 2069, 'patrick': 2070, 'wwe': 2071, 'tarzan': 2072, 'quantum': 2073, 'gaslight': 2074, 'metropolitan': 2075, 'randy': 2076, 'myths': 2077, 'tribute': 2078, 'z': 2079, 'til': 2080, 'oak': 2081, 'jr': 2082, 'sheila': 2083, 'senegal': 2084, 'llegando': 2085, 'restaurnt': 2086, 'signed': 2087, 'xoxo': 2088, 'fr': 2089, 'escapada': 2090, 'nana': 2091, 'nauru': 2092, 'kyrgyzstan': 2093, 'roads': 2094, 'soundscapes': 2095, 'small': 2096, 'ways': 2097, 'portrait': 2098, 'saw': 2099, 'unfinished': 2100, 'talks': 2101, 'metallica': 2102, 'cheapest': 2103, 'sonning': 2104, 'montreal': 2105, 'sinfon': 2106, 'clarke': 2107, 'harlem': 2108, 'tommie': 2109, 'tourte': 2110, 'dominica': 2111, 'buffalo': 2112, 'leonard': 2113, 'umbrian': 2114, 'brutal': 2115, 'cambodia': 2116, 'tim': 2117, 'cupcake': 2118, 'suffer': 2119, 'mc': 2120, 'morris': 2121, 'maldives': 2122, 'boone': 2123, 'invisible': 2124, 'witch': 2125, 'peak': 2126, 'using': 2127, 'trips': 2128, 'costa': 2129, 'buzz': 2130, 'surf': 2131, 'rewind': 2132, 'manor': 2133, 'dean': 2134, 'shoe': 2135, 'complex': 2136, 'military': 2137, 'ecological': 2138, 'progress': 2139, 'gregory': 2140, 'crying': 2141, 'hoping': 2142, 'novelties': 2143, 'press': 2144, 'kosher': 2145, 'flamenco': 2146, 'joan': 2147, 'mile': 2148, 'palace': 2149, 'dressing': 2150, 'league': 2151, 'hawk': 2152, 'rainforest': 2153, 'sacred': 2154, 'wirth': 2155, 'conspiracy': 2156, 'troy': 2157, 'bush': 2158, 'everything': 2159, 'municipal': 2160, 'savage': 2161, 'died': 2162, 'gwynedd': 2163, 'ricky': 2164, 'waters': 2165, 'word': 2166, 'available': 2167, 'window': 2168, 'polish': 2169, 'reverie': 2170, 'conduct': 2171, 'madagascar': 2172, 'berry': 2173, 'lou': 2174, 'catholic': 2175, 'guys': 2176, 'decades': 2177, 'circus': 2178, 'guatemala': 2179, 'emoji': 2180, 'operation': 2181, 'lane': 2182, 'japanese': 2183, 'special': 2184, 'killing': 2185, 'polygon': 2186, 'beloved': 2187, 'cuban': 2188, 'partners': 2189, 'open': 2190, 'team': 2191, 'tarte': 2192, 'fortune': 2193, 'uruguay': 2194, 'bobcat': 2195, 'cia': 2196, 'manadonese': 2197, 'picnic': 2198, 'gary': 2199, 'woods': 2200, 'rat': 2201, 'memory': 2202, 'angela': 2203, 'police': 2204, 'gardens': 2205, 'operaci': 2206, 'bikini': 2207, 'europe': 2208, 'taste': 2209, 'low': 2210, 'rough': 2211, 'ready': 2212, 'musica': 2213, 'ola': 2214, 'maple': 2215, 'pie': 2216, 'legacy': 2217, 'fabri': 2218, 'fibra': 2219, 'niece': 2220, 'fighting': 2221, 'tin': 2222, 'mellowed': 2223, 'knew': 2224, 'casserole': 2225, 'mo': 2226, 'todays': 2227, 'rates': 2228, 'logic': 2229, 'disney': 2230, 'sherri': 2231, 'waves': 2232, 'musical': 2233, 'madison': 2234, 'javanese': 2235, 'michel': 2236, 'agent': 2237, 'sardinian': 2238, 'given': 2239, 'countdown': 2240, 'lewis': 2241, 'naomi': 2242, 'rio': 2243, 'brown': 2244, 'assault': 2245, 'fantas': 2246, 'andrew': 2247, 'amityville': 2248, 'wood': 2249, 'berlin': 2250, 'chemistry': 2251, 'returns': 2252, 'bread': 2253, 'clayton': 2254, 'skatepark': 2255, 'electrosafari': 2256, 'dish': 2257, 'jenifer': 2258, 'bon': 2259, 'ford': 2260, 'hurley': 2261, 'loved': 2262, 'gus': 2263, 'stevens': 2264, 'salt': 2265, 'listings': 2266, 'saucisse': 2267, 'canal': 2268, 'poland': 2269, 'mahatma': 2270, 'estonia': 2271, 'israel': 2272, 'gym': 2273, 'colleague': 2274, 'h': 2275, 'bandas': 2276, 'sonoras': 2277, 'pearl': 2278, 'jamaica': 2279, 'dinosaurs': 2280, 'experience': 2281, 'bliss': 2282, 'smoke': 2283, 'pasta': 2284, 'taking': 2285, 'channel': 2286, 'meredith': 2287, 'cierra': 2288, 'puerta': 2289, 'nephew': 2290, 'paula': 2291, 'petar': 2292, 'daughters': 2293, 'fern': 2294, 'tokelau': 2295, 'axis': 2296, 'carry': 2297, 'newberg': 2298, 'screen': 2299, 'charlotte': 2300, 'warriors': 2301, 'puppet': 2302, 'meets': 2303, 'trails': 2304, 'farm': 2305, 'honeymoon': 2306, 'master': 2307, 'famous': 2308, 'wall': 2309, 'collected': 2310, 'comics': 2311, 'ashley': 2312, 'zone': 2313, 'haunted': 2314, 'jigs': 2315, 'reels': 2316, 'mccracken': 2317, 'trinidad': 2318, 'tobago': 2319, 'brenda': 2320, 'stupid': 2321, 'atlantic': 2322, 'maker': 2323, 'dear': 2324, 'crossroad': 2325, 'malta': 2326, 'maxine': 2327, 'delta': 2328, 'chasing': 2329, 'granddaughter': 2330, 'cadas': 2331, 'matrix': 2332, 'liberalism': 2333, 'tiger': 2334, 'bettye': 2335, 'sarah': 2336, 'tropic': 2337, 'worms': 2338, 'record': 2339, 'twin': 2340, 'relish': 2341, 'teens': 2342, 'edit': 2343, 'indiespensables': 2344, 'carey': 2345, 'page': 2346, 'outpost': 2347, 'even': 2348, 'golden': 2349, 'engadget': 2350, 'romantic': 2351, 'biosphere': 2352, 'orchard': 2353, 'robot': 2354, 'pizzas': 2355, 'plain': 2356, 'anna': 2357, 'bajo': 2358, 'estrellas': 2359, 'rivers': 2360, 'peru': 2361, 'crate': 2362, 'diggers': 2363, 'anonymous': 2364, 'burrito': 2365, 'chrome': 2366, 'matters': 2367, 'smile': 2368, 'shot': 2369, 'olympia': 2370, 'station': 2371, 'astor': 2372, 'northeastern': 2373, 'iran': 2374, 'nigeria': 2375, 'medicine': 2376, 'nashville': 2377, 'hawaiian': 2378, 'mexican': 2379, 'apache': 2380, 'belize': 2381, 'kirk': 2382, 'patty': 2383, 'moment': 2384, 'push': 2385, 'button': 2386, 'saison': 2387, 'william': 2388, 'franklin': 2389, 'register': 2390, 'idols': 2391, 'softly': 2392, 'eef': 2393, 'barzelay': 2394, 'stranger': 2395, 'havana': 2396, 'nadine': 2397, 'sharlene': 2398, 'napoleon': 2399, 'xiv': 2400, 'conrey': 2401, 'faroe': 2402, 'try': 2403, 'sappho': 2404, 'carnot': 2405, 'chapel': 2406, 'tesh': 2407, 'gordon': 2408, 'treasure': 2409, 'triple': 2410, 'wartime': 2411, 'vanishing': 2412, 'shooter': 2413, 'ines': 2414, 'turkmenistan': 2415, 'willow': 2416, 'cali': 2417, 'along': 2418, 'duck': 2419, 'status': 2420, 'quo': 2421, 'brat': 2422, 'hammer': 2423, 'mask': 2424, 'viktor': 2425, 'really': 2426, 'steampunk': 2427, 'lambertville': 2428, 'pachangueo': 2429, 'bass': 2430, 'climax': 2431, 'ariston': 2432, 'dharma': 2433, 'lexington': 2434, 'fayette': 2435, 'francesco': 2436, 'german': 2437, 'im': 2438, 'norma': 2439, 'swaziland': 2440, 'prophet': 2441, 'dio': 2442, 'features': 2443, 'moved': 2444, 'ray': 2445, 'willy': 2446, 'fusil': 2447, 'diarios': 2448, 'bicicleta': 2449, 'visit': 2450, 'sirivantha': 2451, 'scream': 2452, 'blini': 2453, 'glenn': 2454, 'ecola': 2455, 'principle': 2456, 'alok': 2457, 'marguerite': 2458, 'spooning': 2459, 'zenith': 2460, 'doomsday': 2461, 'roberto': 2462, 'electronics': 2463, 'sugarfoot': 2464, 'bake': 2465, 'deanna': 2466, 'alexandra': 2467, 'balinese': 2468, 'od': 2469, 'rachael': 2470, 'edm': 2471, 'romanian': 2472, 'stle': 2473, 'electronica': 2474, 'gas': 2475, 'fleetwood': 2476, 'lakeisha': 2477, 'temple': 2478, 'expelled': 2479, 'monaco': 2480, 'coon': 2481, 'clarice': 2482, 'debbie': 2483, 'count': 2484, 'etta': 2485, 'trad': 2486, 'highlands': 2487, 'pillow': 2488, 'ivan': 2489, 'bf': 2490, 'countess': 2491, 'livonia': 2492, 'burns': 2493, 'intensity': 2494, 'caper': 2495, 'dans': 2496, 'belinda': 2497, 'dena': 2498, 'syria': 2499, 'stuart': 2500, 'working': 2501, 'challenge': 2502, 'dschiwan': 2503, 'gasparjan': 2504, 'rimsky': 2505, 'korsakoffee': 2506, 'legion': 2507, 'rustic': 2508, 'faces': 2509, 'claw': 2510, 'virales': 2511, 'prophecy': 2512, 'files': 2513, 'personal': 2514, 'juliana': 2515, 'notes': 2516, 'reproductions': 2517, 'kudai': 2518, 'freight': 2519, 'rodriguez': 2520, 'ealing': 2521, 'prediction': 2522, 'sail': 2523, 'mound': 2524, 'banana': 2525, 'swamp': 2526, 'dutch': 2527, 'bangladesh': 2528, 'safety': 2529, 'strayhorn': 2530, 'fimd': 2531, 'spirits': 2532, 'easy': 2533, 'physics': 2534, 'almost': 2535, 'friona': 2536, 'dickson': 2537, 'target': 2538, 'citrus': 2539, 'industry': 2540, 'guests': 2541, 'mcgill': 2542, 'avant': 2543, 'christopher': 2544, 'columbus': 2545, 'darker': 2546, 'eternal': 2547, 'digging': 2548, 'springside': 2549, 'greensburg': 2550, 'dorothy': 2551, 'oz': 2552, 'char': 2553, 'yo': 2554, 'screams': 2555, 'lesley': 2556, 'tape': 2557, 'leanne': 2558, 'chandra': 2559, 'clapton': 2560, 'rockaway': 2561, 'blanca': 2562, 'airbnb': 2563, 'gateway': 2564, 'lithuania': 2565, 'clothes': 2566, 'simple': 2567, 'repeat': 2568, 'prix': 2569, 'gang': 2570, 'tia': 2571, 'hallwood': 2572, 'wather': 2573, 'deadly': 2574, 'farmer': 2575, 'showers': 2576, 'directions': 2577, 'anchor': 2578, 'chamber': 2579, 'sot': 2580, 'gothic': 2581, 'macmaster': 2582, 'barth': 2583, 'lemy': 2584, 'fins': 2585, 'rhett': 2586, 'fe': 2587, 'rope': 2588, 'millay': 2589, 'flats': 2590, 'quartet': 2591, 'laurelhurst': 2592, 'anatomy': 2593, 'mongolian': 2594, 'pumping': 2595, 'hiptronix': 2596, 'medley': 2597, 'ventura': 2598, 'wing': 2599, 'sandoval': 2600, 'treeful': 2601, 'starling': 2602, 'impulso': 2603, 'creativo': 2604, 'showtime': 2605, 'yeah': 2606, 'leonville': 2607, 'spyforce': 2608, 'parade': 2609, 'sanders': 2610, 'sleeps': 2611, 'abyss': 2612, 'nick': 2613, 'triumph': 2614, 'porcupine': 2615, 'brit': 2616, 'jeannie': 2617, 'mister': 2618, 'soup': 2619, 'starlight': 2620, 'atomic': 2621, 'carne': 2622, 'tamra': 2623, 'viola': 2624, 'dorothea': 2625, 'alta': 2626, 'sinatra': 2627, 'select': 2628, 'cahn': 2629, 'mason': 2630, 'supernatural': 2631, 'events': 2632, 'natsu': 2633, 'fork': 2634, 'valarie': 2635, 'arctic': 2636, 'dolls': 2637, 'gratin': 2638, 'georgetown': 2639, 'reflection': 2640, 'holidays': 2641, 'female': 2642, 'anthology': 2643, 'bonnie': 2644, 'infantil': 2645, 'cover': 2646, 'svalbard': 2647, 'mayen': 2648, 'momy': 2649, 'curl': 2650, 'deweese': 2651, 'magnificent': 2652, 'teh': 2653, 'thorn': 2654, 'edinburgh': 2655, 'phantom': 2656, 'walls': 2657, 'lebanese': 2658, 'medical': 2659, 'truly': 2660, 'pooh': 2661, 'zachary': 2662, 'dana': 2663, 'symphony': 2664, 'fallen': 2665, 'allardt': 2666, 'liver': 2667, 'onions': 2668, 'economics': 2669, 'yuna': 2670, 'ito': 2671, 'shows': 2672, 'rod': 2673, 'elk': 2674, 'grape': 2675, 'matter': 2676, 'beardslee': 2677, 'tami': 2678, 'onion': 2679, 'reno': 2680, 'indiespain': 2681, 'tun': 2682, 'frontier': 2683, 'bloom': 2684, 'ham': 2685, 'suicide': 2686, 'peters': 2687, 'operative': 2688, 'resturant': 2689, 'pavarotti': 2690, 'fillmore': 2691, 'candy': 2692, 'forecasted': 2693, 'ghana': 2694, 'waterscapes': 2695, 'baba': 2696, 'frontiers': 2697, 'freud': 2698, 'swan': 2699, 'glenda': 2700, 'lois': 2701, 'alba': 2702, 'uncle': 2703, 'iris': 2704, 'heidi': 2705, 'knows': 2706, 'joanna': 2707, 'clone': 2708, 'fabulosos': 2709, 'cadillacs': 2710, 'mesa': 2711, 'leticia': 2712, 'melva': 2713, 'glassy': 2714, 'secondary': 2715, 'educational': 2716, 'psychologist': 2717, 'mu': 2718, 'phetra': 2719, 'administrative': 2720, 'professionals': 2721, 'panic': 2722, 'streets': 2723, 'wheatley': 2724, 'barberville': 2725, 'manthan': 2726, 'potter': 2727, 'dcode': 2728, 'josefina': 2729, 'gamesradar': 2730, 'siesta': 2731, 'retrovisor': 2732, 'bach': 2733, 'karl': 2734, 'reyna': 2735, 'pelican': 2736, 'uintah': 2737, 'argentinian': 2738, 'row': 2739, 'skills': 2740, 'elsa': 2741, 'zombie': 2742, 'lit': 2743, 'written': 2744, 'jesus': 2745, 'em': 2746, 'sentenced': 2747, 'jewel': 2748, 'tower': 2749, 'documentary': 2750, 'brass': 2751, 'mountainair': 2752, 'haigler': 2753, 'charleston': 2754, 'tunnel': 2755, 'putnam': 2756, 'crusher': 2757, 'transformers': 2758, 'according': 2759, 'evans': 2760, 'vatican': 2761, 'cistern': 2762, 'fred': 2763, 'milk': 2764, 'lavina': 2765, 'nets': 2766, 'therese': 2767, 'clara': 2768, 'bullet': 2769, 'bars': 2770, 'eddie': 2771, 'seeing': 2772, 'journeyman': 2773, 'jesper': 2774, 'kyd': 2775, 'fly': 2776, 'schuyler': 2777, 'psychology': 2778, 'childs': 2779, 'geraldine': 2780, 'powerhouses': 2781, 'chymical': 2782, 'scarlet': 2783, 'entrenar': 2784, 'yesudas': 2785, 'hopes': 2786, 'baroque': 2787, 'bears': 2788, 'gateau': 2789, 'lopeno': 2790, 'beautiful': 2791, 'immortals': 2792, 'powers': 2793, 'aunt': 2794, 'lock': 2795, 'beef': 2796, 'maximum': 2797, 'freedom': 2798, 'raining': 2799, 'santos': 2800, 'mouth': 2801, 'meriton': 2802, 'tallinn': 2803, 'concepcion': 2804, 'closer': 2805, 'culture': 2806, 'keeling': 2807, 'casey': 2808, 'beijing': 2809, 'huanying': 2810, 'kane': 2811, 'crisis': 2812, 'smelt': 2813, 'fame': 2814, 'wolseley': 2815, 'amir': 2816, 'khan': 2817, 'independent': 2818, 'ethics': 2819, 'foot': 2820, 'clan': 2821, 'tailor': 2822, 'downtempo': 2823, 'halfway': 2824, 'aurora': 2825, 'struggle': 2826, 'network': 2827, 'shelley': 2828, 'chisholm': 2829, 'elder': 2830, 'maisonette': 2831, 'selling': 2832, 'elephants': 2833, 'horizons': 2834, 'mortal': 2835, 'arms': 2836, 'lil': 2837, 'armstrong': 2838, 'winning': 2839, 'sixty': 2840, 'breakers': 2841, 'level': 2842, 'singing': 2843, 'bitten': 2844, 'stewart': 2845, 'robotics': 2846, 'cats': 2847, 'brewing': 2848, 'intimate': 2849, 'arlene': 2850, 'also': 2851, 'fisn': 2852, 'postman': 2853, 'shoals': 2854, 'pearson': 2855, 'soda': 2856, 'mauritius': 2857, 'saddle': 2858, 'rick': 2859, 'cure': 2860, 'heritage': 2861, 'philippines': 2862, 'adams': 2863, 'roadhouse': 2864, 'inconfundible': 2865, 'driven': 2866, 'engine': 2867, 'letha': 2868, 'claude': 2869, 'vonstroke': 2870, 'solitude': 2871, 'numbers': 2872, 'cole': 2873, 'cocktail': 2874, 'daddy': 2875, 'demonstration': 2876, 'roger': 2877, 'terrace': 2878, 'karina': 2879, 'sociology': 2880, 'walt': 2881, 'mickey': 2882, 'offers': 2883, 'anguilla': 2884, 'remains': 2885, 'brad': 2886, 'paisley': 2887, 'claudine': 2888, 'action': 2889, 'mine': 2890, 'jeanne': 2891, 'collins': 2892, 'amy': 2893, 'angelita': 2894, 'ashlee': 2895, 'morocco': 2896, 'rogues': 2897, 'caretaker': 2898, 'clem': 2899, 'winifred': 2900, 'unite': 2901, 'win': 2902, 'ozzy': 2903, 'loneliness': 2904, 'holtville': 2905, 'pickled': 2906, 'cucumber': 2907, 'thought': 2908, 'pugu': 2909, 'potato': 2910, 'salad': 2911, 'gibraltar': 2912, 'britain': 2913, 'austin': 2914, 'eighty': 2915, 'nerding': 2916, 'factory': 2917, 'theology': 2918, 'cities': 2919, 'jimmy': 2920, 'pipe': 2921, 'audio': 2922, 'stained': 2923, 'aragon': 2924, 'slimm': 2925, 'cutta': 2926, 'calhoun': 2927, 'sisters': 2928, 'bet': 2929, 'endangered': 2930, 'species': 2931, 'recordings': 2932, 'number': 2933, 'hate': 2934, 'cove': 2935, 'jefferson': 2936, 'andreas': 2937, 'damon': 2938, 'breaking': 2939, 'market': 2940, 'claus': 2941, 'chance': 2942, 'muppet': 2943, 'ncipe': 2944, 'ironing': 2945, 'violet': 2946, 'phish': 2947, 'iraq': 2948, 'afterlife': 2949, 'amigos': 2950, 'fight': 2951, 'unleashed': 2952, 'learning': 2953, 'grammar': 2954, 'harrison': 2955, 'crawford': 2956, 'rogue': 2957, 'anti': 2958, 'mcguire': 2959, 'laugh': 2960, 'hagerman': 2961, 'lie': 2962, 'scandinavian': 2963, 'falmouth': 2964, 'hungary': 2965, 'overload': 2966, 'dune': 2967, 'humor': 2968, 'dearest': 2969, 'cowboy': 2970, 'orthodox': 2971, 'incident': 2972, 'avenue': 2973, 'tamagotchi': 2974, 'johansen': 2975, 'brunswick': 2976, 'chandler': 2977, 'aux': 2978, 'cord': 2979, 'privileges': 2980, 'technical': 2981, 'lolo': 2982, 'whispers': 2983, 'used': 2984, 'basement': 2985, 'unborn': 2986, 'bulgaria': 2987, 'jillian': 2988, 'tide': 2989, 'belle': 2990, 'sale': 2991, 'guilty': 2992, 'ring': 2993, 'sells': 2994, 'upper': 2995, 'au': 2996, 'effortless': 2997, 'kirsten': 2998, 'abby': 2999, 'echo': 3000, 'monsters': 3001, 'trek': 3002, 'academy': 3003, 'phineas': 3004, 'redux': 3005, 'patti': 3006, 'richardson': 3007, 'camille': 3008, 'shannon': 3009, 'troll': 3010, 'woven': 3011, 'sterling': 3012, 'porch': 3013, 'donut': 3014, 'theodore': 3015, 'robbie': 3016, 'oasis': 3017, 'rider': 3018, 'therapy': 3019, 'towers': 3020, 'bees': 3021, 'letty': 3022, 'cissy': 3023, 'app': 3024, 'castles': 3025, 'steel': 3026, 'willows': 3027, 'grows': 3028, 'corrina': 3029, 'beard': 3030, 'nile': 3031, 'meze': 3032, 'trottole': 3033, 'inside': 3034, 'stage': 3035, 'bluegrass': 3036, 'uncommon': 3037, 'grounds': 3038, 'jami': 3039, 'whm': 3040, 'cock': 3041, 'gonzales': 3042, 'timbo': 3043, 'connie': 3044, 'madeline': 3045, 'turbulent': 3046, 'term': 3047, 'tyke': 3048, 'tiler': 3049, 'tables': 3050, 'bell': 3051, 'hess': 3052, 'kouglof': 3053, 'orion': 3054, 'essential': 3055, 'brigade': 3056, 'kjetil': 3057, 'vidar': 3058, 'haraldstad': 3059, 'dangers': 3060, 'mounted': 3061, 'entire': 3062, 'wildorado': 3063, 'malawi': 3064, 'question': 3065, 'ik': 3066, 'brothers': 3067, 'lao': 3068, 'heartland': 3069, 'stacy': 3070, 'sukkot': 3071, 'sandy': 3072, 'booze': 3073, 'carbuncle': 3074, 'jeff': 3075, 'tear': 3076, 'selection': 3077, 'atop': 3078, 'underwood': 3079, 'writings': 3080, 'iii': 3081, 'tourist': 3082, 'jade': 3083, 'aisha': 3084, 'mustard': 3085, 'looked': 3086, 'least': 3087, 'message': 3088, 'forty': 3089, 'ivory': 3090, 'dungeons': 3091, 'mystara': 3092, 'melba': 3093, 'dishwashing': 3094, 'beneath': 3095, 'harvest': 3096, 'billboard': 3097, 'fantastic': 3098, 'doodle': 3099, 'cyber': 3100, 'rogers': 3101, 'sal': 3102, 'rey': 3103, 'overton': 3104, 'tooth': 3105, 'beating': 3106, 'whitby': 3107, 'whether': 3108, 'germany': 3109, 'major': 3110, 'pesterminator': 3111, 'exterminator': 3112, 'singers': 3113, 'elrow': 3114, 'minor': 3115, 'outlying': 3116, 'kristine': 3117, 'werewolf': 3118, 'milagros': 3119, 'toy': 3120, 'pendleton': 3121, 'den': 3122, 'rage': 3123, 'dvd': 3124, 'indestructible': 3125, 'miranda': 3126, 'sorrow': 3127, 'courtney': 3128, 'crouch': 3129, 'impressions': 3130, 'closed': 3131, 'doors': 3132, 'totowa': 3133, 'paulinho': 3134, 'myrtle': 3135, 'ouzeri': 3136, 'tries': 3137, 'control': 3138, 'seal': 3139, 'frederick': 3140, 'forward': 3141, 'eletro': 3142, 'br': 3143, 'enfield': 3144, 'pauline': 3145, 'heartbreak': 3146, 'lindas': 3147, 'mundo': 3148, 'ticket': 3149, 'phil': 3150, 'ochs': 3151, 'divine': 3152, 'scottish': 3153, 'factbook': 3154, 'socrates': 3155, 'providence': 3156, 'vasquez': 3157, 'meyer': 3158, 'waits': 3159, 'assassin': 3160, 'cosby': 3161, 'cook': 3162, 'pioneer': 3163, 'spy': 3164, 'recovery': 3165, 'crush': 3166, 'release': 3167, 'monty': 3168, 'secunderabad': 3169, 'abbott': 3170, 'costello': 3171, 'harveys': 3172, 'handful': 3173, 'dust': 3174, 'waffles': 3175, 'savoy': 3176, 'klamath': 3177, 'unholy': 3178, 'contact': 3179, 'ancient': 3180, 'angle': 3181, 'born': 3182, 'rides': 3183, 'cupcakes': 3184, 'forecase': 3185, 'animation': 3186, 'cocos': 3187, 'canem': 3188, 'demos': 3189, 'falcon': 3190, 'weapon': 3191, 'ideas': 3192, 'magpie': 3193, 'catahoula': 3194, 'elements': 3195, 'mauritania': 3196, 'ribbons': 3197, 'frog': 3198, 'propuesta': 3199, 'jarvis': 3200, 'cocker': 3201, 'michele': 3202, 'sugar': 3203, 'capital': 3204, 'chain': 3205, 'torrey': 3206, 'pines': 3207, 'cin': 3208, 'poet': 3209, 'li': 3210, 'heard': 3211, 'limit': 3212, 'amanda': 3213, 'aliens': 3214, 'batman': 3215, 'aired': 3216, 'cycle': 3217, 'graduate': 3218, 'philosophy': 3219, 'lawrence': 3220, 'beverly': 3221, 'fuzzy': 3222, 'starcross': 3223, 'common': 3224, 'yamazaki': 3225, 'thai': 3226, 'marlene': 3227, 'desire': 3228, 'spider': 3229, 'bonaparte': 3230, 'strogoff': 3231, 'laine': 3232, 'swagger': 3233, 'justin': 3234, 'niagara': 3235, 'apes': 3236, 'vera': 3237, 'dancer': 3238, 'belongs': 3239, 'elizabeth': 3240, 'county': 3241, 'double': 3242, 'cope': 3243, 'tobias': 3244, 'scene': 3245, 'deacon': 3246, 'folly': 3247, 'dolly': 3248, 'ayumi': 3249, 'hamasaki': 3250, 'arena': 3251, 'libre': 3252, 'mikami': 3253, 'tombstone': 3254, 'deal': 3255, 'pocket': 3256, 'whitebrook': 3257, 'solomon': 3258, 'floor': 3259, 'robyn': 3260, 'maude': 3261, 'caliente': 3262, 'als': 3263, 'handel': 3264, 'allentown': 3265, 'expect': 3266, 'glacier': 3267, 'burundi': 3268, 'griffin': 3269, 'cleveland': 3270, 'enid': 3271, 'kiribati': 3272, 'intelligence': 3273, 'sacrifice': 3274, 'wagner': 3275, 'shamrock': 3276, 'atticus': 3277, 'barbecue': 3278, 'trisha': 3279, 'amber': 3280, 'memories': 3281, 'odd': 3282, 'asking': 3283, 'follow': 3284, 'henry': 3285, 'metalcore': 3286, 'reasons': 3287, 'udupi': 3288, 'persian': 3289, 'rebekah': 3290, 'prisoner': 3291, 'link': 3292, 'skystone': 3293, 'cotton': 3294, 'chapman': 3295, 'crimson': 3296, 'affair': 3297, 'plot': 3298, 'success': 3299, 'lamp': 3300, 'petra': 3301, 'alvarez': 3302, 'nicer': 3303, 'emma': 3304, 'madeleine': 3305, 'dies': 3306, 'meadowood': 3307, 'croquembouche': 3308, 'venetian': 3309, 'isabella': 3310, 'bullets': 3311, 'lafayette': 3312, 'stick': 3313, 'thick': 3314, 'miles': 3315, 'monroe': 3316, 'promise': 3317, 'charenton': 3318, 'comoros': 3319, 'archive': 3320, 'stain': 3321, 'wanna': 3322, 'empires': 3323, 'voyage': 3324, 'beer': 3325, 'cleopatra': 3326, 'spades': 3327, 'yogurt': 3328, 'simon': 3329, 'schuster': 3330, 'prehistoric': 3331, 'remembrance': 3332, 'masks': 3333, 'sims': 3334, 'assignments': 3335, 'hook': 3336, 'torn': 3337, 'foreign': 3338, 'wren': 3339, 'nee': 3340, 'velvet': 3341, 'mineiro': 3342, 'tchaikovsky': 3343, 'mezes': 3344, 'tawakoni': 3345, 'muscle': 3346, 'mirrors': 3347, 'pelham': 3348, 'itch': 3349, 'freak': 3350, 'places': 3351, 'descendants': 3352, 'madden': 3353, 'nfl': 3354, 'trower': 3355, 'conspiracies': 3356, 'switzer': 3357, 'faer': 3358, 'lace': 3359, 'garrison': 3360, 'cuisines': 3361, 'lasts': 3362, 'maria': 3363, 'kebab': 3364, 'souvenirs': 3365, 'shaolin': 3366, 'billion': 3367, 'ransom': 3368, 'ascension': 3369, 'hound': 3370, 'commons': 3371, 'beauregard': 3372, 'shelter': 3373, 'edith': 3374, 'computer': 3375, 'wikipedia': 3376, 'cd': 3377, 'peaches': 3378, 'egg': 3379, 'collecting': 3380, 'covenant': 3381, 'shore': 3382, 'trilogy': 3383, 'immortal': 3384, 'haiti': 3385, 'villa': 3386, 'brand': 3387, 'strings': 3388, 'stonewood': 3389, 'masada': 3390, 'thy': 3391, 'generations': 3392, 'snake': 3393, 'quiet': 3394, 'sontha': 3395, 'ooru': 3396, 'newspaper': 3397, 'marsch': 3398, 'note': 3399, 'samurai': 3400, 'doi': 3401, 'noel': 3402, 'seamus': 3403, 'heaney': 3404, 'ruiz': 3405, 'lloyd': 3406, 'willie': 3407, 'playlsit': 3408, 'bouchon': 3409, 'retrowave': 3410, 'outrun': 3411, 'ben': 3412, 'taken': 3413, 'care': 3414, 'chad': 3415, 'sweeney': 3416, 'dillard': 3417, 'breaks': 3418, 'bless': 3419, 'stephanie': 3420, 'biddle': 3421, 'effect': 3422, 'politics': 3423, 'rebellion': 3424, 'vegetarian': 3425, 'wolfenberger': 3426, 'funked': 3427, 'beware': 3428, 'oath': 3429, 'swords': 3430, 'birch': 3431, 'rita': 3432, 'buddy': 3433, 'sara': 3434, 'oblivion': 3435, 'scrolls': 3436, 'screening': 3437, 'moore': 3438, 'meatball': 3439, 'josephine': 3440, 'granite': 3441, 'sean': 3442, 'elma': 3443, 'slovenia': 3444, 'burgers': 3445, 'corcovado': 3446, 'ye': 3447, 'caitlin': 3448, 'capistrano': 3449, 'leone': 3450, 'fury': 3451, 'blob': 3452, 'poetry': 3453, 'nazad': 3454, 'shell': 3455, 'scientific': 3456, 'hercules': 3457, 'antebellum': 3458, 'legends': 3459, 'parker': 3460, 'horace': 3461, 'beggar': 3462, 'titanic': 3463, 'limits': 3464, 'samba': 3465, 'mendoza': 3466, 'teeth': 3467, 'unseen': 3468, 'belles': 3469, 'clements': 3470, 'hart': 3471, 'cubby': 3472, 'fairview': 3473, 'wore': 3474, 'fate': 3475, 'monica': 3476, 'folksy': 3477, 'hindus': 3478, 'philly': 3479, 'inyecci': 3480, 'teresa': 3481, 'meditate': 3482, 'peaks': 3483, 'charming': 3484, 'salade': 3485, 'jimmie': 3486, 'timings': 3487, 'mercy': 3488, 'tommy': 3489, 'punishment': 3490, 'belarus': 3491, 'cambodian': 3492, 'firehouse': 3493, 'peacefulness': 3494, 'occasional': 3495, 'lunchtime': 3496, 'sundown': 3497, 'eternity': 3498, 'gorilla': 3499, 'false': 3500, 'ann': 3501, 'lists': 3502, 'sir': 3503, 'winston': 3504, 'ono': 3505, 'lennon': 3506, 'forth': 3507, 'farmington': 3508, 'turkey': 3509, 'mission': 3510, 'roars': 3511, 'doom': 3512, 'alfred': 3513, 'kazakhstan': 3514, 'manuelita': 3515, 'drink': 3516, 'passage': 3517, 'impossible': 3518, 'rolls': 3519, 'riding': 3520, 'syndrome': 3521, 'thief': 3522, 'danny': 3523, 'saturn': 3524, 'kate': 3525, 'crazy': 3526, 'festoni': 3527, 'notebook': 3528, 'sp': 3529, 'exiled': 3530, 'paranormal': 3531, 'git': 3532, 'cousin': 3533, 'traffic': 3534, 'olga': 3535, 'iceland': 3536, 'episodi': 3537, 'princesas': 3538, 'abrar': 3539, 'ul': 3540, 'haq': 3541, 'lightning': 3542, 'grunge': 3543, 'details': 3544, 'das': 3545, 'entre': 3546, 'testament': 3547, 'jesse': 3548, 'dinosaur': 3549, 'drowning': 3550, 'killed': 3551, 'rest': 3552, 'loyola': 3553, 'traitor': 3554, 'ribs': 3555, 'absolutely': 3556, 'ishq': 3557, 'natasha': 3558, 'lonely': 3559, 'sushi': 3560, 'ethiopian': 3561, 'empanada': 3562, 'autobiography': 3563, 'blvd': 3564, 'latest': 3565, 'ballachulish': 3566, 'greek': 3567, 'tinker': 3568, 'rice': 3569, 'abdul': 3570, 'bottom': 3571, 'kurt': 3572, 'craving': 3573, 'johnnie': 3574, 'manifesto': 3575, 'nevermore': 3576, 'acres': 3577, 'aprite': 3578, 'finestre': 3579, 'mode': 3580, 'synth': 3581, 'worthy': 3582, 'booked': 3583, 'dancefloor': 3584, 'tight': 3585, 'annette': 3586, 'darlene': 3587, 'chant': 3588, 'babylon': 3589, 'turtle': 3590, 'enter': 3591, 'ballet': 3592, 'goof': 3593, 'troopers': 3594, 'namibia': 3595, 'shame': 3596, 'kickboxer': 3597, 'vegan': 3598, 'frescura': 3599, 'lover': 3600, 'seduction': 3601, 'environment': 3602, 'fields': 3603, 'laurie': 3604, 'deersville': 3605, 'honey': 3606, 'mare': 3607, 'feather': 3608, 'garden': 3609, 'grandparents': 3610, 'warp': 3611, 'sports': 3612, 'roman': 3613, 'spinnin': 3614, 'records': 3615, 'miracle': 3616, 'missing': 3617, 'cookie': 3618, 'armageddon': 3619, 'wayne': 3620, 'movement': 3621, 'seychelles': 3622, 'areas': 3623, 'hillview': 3624, 'hitchcock': 3625, 'noreen': 3626, 'arab': 3627, 'emirates': 3628, 'pepperoni': 3629, 'dishes': 3630, 'average': 3631, 'restaraunt': 3632, 'zebra': 3633, 'gap': 3634, 'manual': 3635, 'anthems': 3636, 'bouvet': 3637, 'feelin': 3638, 'piazzolla': 3639, 'audra': 3640, 'maxwell': 3641, 'mantler': 3642, 'fargo': 3643, 'thornton': 3644, 'curse': 3645, 'warped': 3646, 'hola': 3647, 'prom': 3648, 'satanta': 3649, 'battles': 3650, 'seas': 3651, 'opa': 3652, 'laying': 3653, 'boomtown': 3654, 'cohen': 3655, 'moonlight': 3656, 'jacksonville': 3657, 'scoop': 3658, 'bb': 3659, 'feels': 3660, 'marilyn': 3661, 'ron': 3662, 'cheat': 3663, 'bettie': 3664, 'heavenly': 3665, 'anything': 3666, 'colour': 3667, 'faith': 3668, 'division': 3669, 'beethoven': 3670, 'sure': 3671, 'canta': 3672, 'ducha': 3673, 'bump': 3674, 'flood': 3675, 'grande': 3676, 'jonathan': 3677, 'teen': 3678, 'killarney': 3679, 'orgullo': 3680, 'cliffs': 3681, 'brain': 3682, 'ghostbusters': 3683, 'khedive': 3684, 'gathering': 3685, 'switzerland': 3686, 'fathers': 3687, 'caught': 3688, 'brubeck': 3689, 'datil': 3690, 'melbourne': 3691, 'unicorn': 3692, 'hammett': 3693, 'jain': 3694, 'kreator': 3695, 'pillars': 3696, 'wisdom': 3697, 'kim': 3698, 'ladies': 3699, 'thrash': 3700, 'scorpion': 3701, 'julian': 3702, 'lift': 3703, 'imelda': 3704, 'covers': 3705, 'boat': 3706, 'org': 3707, 'nica': 3708, 'hocus': 3709, 'bogus': 3710, 'horton': 3711, 'wee': 3712, 'spent': 3713, 'wells': 3714, 'feed': 3715, 'tsipouro': 3716, 'author': 3717, 'rockabilly': 3718, 'mania': 3719, 'swine': 3720, 'tracy': 3721, 'austria': 3722, 'amelia': 3723, 'slap': 3724, 'ethiopia': 3725, 'hows': 3726, 'marriage': 3727, 'oxford': 3728, 'victini': 3729, 'bunny': 3730, 'mane': 3731, 'cyprus': 3732, 'published': 3733, 'larsen': 3734, 'deana': 3735, 'nips': 3736, 'cabeza': 3737, 'um': 3738, 'picasso': 3739, 'marylou': 3740, 'nearly': 3741, 'baila': 3742, 'dick': 3743, 'orange': 3744, 'mande': 3745, 'sydney': 3746, 'francisville': 3747, 'sparks': 3748, 'soon': 3749, 'bang': 3750, 'chattahoochee': 3751, 'address': 3752, 'frightened': 3753, 'phnom': 3754, 'sankos': 3755, 'tall': 3756, 'armistead': 3757, 'burwell': 3758, 'dalbello': 3759, 'cma': 3760, 'nominees': 3761, 'throats': 3762, 'beckon': 3763, 'thaw': 3764, 'southwest': 3765, 'castaway': 3766, 'tremont': 3767, 'sherrie': 3768, 'fortress': 3769, 'jency': 3770, 'creamery': 3771, 'cheaper': 3772, 'dozen': 3773, 'shoots': 3774, 'choper': 3775, 'gilson': 3776, 'glades': 3777, 'wynter': 3778, 'geminism': 3779, 'sonic': 3780, 'cattle': 3781, 'fenton': 3782, 'godlike': 3783, 'genius': 3784, 'feud': 3785, 'lea': 3786, 'mandrake': 3787, 'coersion': 3788, 'winfield': 3789, 'cj': 3790, 'snare': 3791, 'maltio': 3792, 'deed': 3793, 'paksenarrion': 3794, 'beyblade': 3795, 'fierce': 3796, 'refrain': 3797, 'torch': 3798, 'sankertown': 3799, 'bastards': 3800, 'exploring': 3801, 'reef': 3802, 'soak': 3803, 'carnegie': 3804, 'deron': 3805, 'fridays': 3806, 'mascoutah': 3807, 'zos': 3808, 'kia': 3809, 'cultus': 3810, 'lure': 3811, 'wabuska': 3812, 'merjanov': 3813, 'hut': 3814, 'liza': 3815, 'oumarova': 3816, 'zorro': 3817, 'male': 3818, 'pornography': 3819, 'discrimination': 3820, 'garphyttan': 3821, 'consume': 3822, 'wenham': 3823, 'lieutenant': 3824, 'inishmore': 3825, 'keyboard': 3826, 'angeline': 3827, 'coordinates': 3828, 'mel': 3829, 'draisey': 3830, 'tomy': 3831, 'recorder': 3832, 'randsell': 3833, 'gayle': 3834, 'haines': 3835, 'elinor': 3836, 'turner': 3837, 'nita': 3838, 'sparro': 3839, 'hagaman': 3840, 'chipmunk': 3841, 'narew': 3842, 'salemburg': 3843, 'iw': 3844, 'atch': 3845, 'balls': 3846, 'vampate': 3847, 'fuoco': 3848, 'bonga': 3849, 'penthouse': 3850, 'scorching': 3851, 'limerick': 3852, 'jerky': 3853, 'noble': 3854, 'bag': 3855, 'chapin': 3856, 'poor': 3857, 'crepes': 3858, 'contra': 3859, 'slaughter': 3860, 'der': 3861, 'und': 3862, 'kalypso': 3863, 'aus': 3864, 'wien': 3865, 'vonda': 3866, 'nattbuss': 3867, 'coleslaw': 3868, 'prefect': 3869, 'strasburg': 3870, 'molise': 3871, 'baltic': 3872, 'deeds': 3873, 'finn': 3874, 'maccool': 3875, 'baeckeoffe': 3876, 'nba': 3877, 'ahmad': 3878, 'rashad': 3879, 'hardesty': 3880, 'groesbeck': 3881, 'crossfit': 3882, 'htoo': 3883, 'ein': 3884, 'hungarian': 3885, 'tory': 3886, 'admiralty': 3887, 'freed': 3888, 'sichuan': 3889, 'different': 3890, 'waconia': 3891, 'archer': 3892, 'whisper': 3893, 'stetson': 3894, 'routine': 3895, 'palisades': 3896, 'dwele': 3897, 'eurovision': 3898, 'yauch': 3899, 'superman': 3900, 'yang': 3901, 'seok': 3902, 'actrices': 3903, 'valverde': 3904, 'jacqueline': 3905, 'uncas': 3906, 'govere': 3907, 'dummy': 3908, 'pagan': 3909, 'reader': 3910, 'warned': 3911, 'wakelin': 3912, 'lis': 3913, 'unreleased': 3914, 'discografia': 3915, 'reckless': 3916, 'bleach': 3917, 'giant': 3918, 'olmitz': 3919, 'pagosa': 3920, 'cusine': 3921, 'heroic': 3922, 'failures': 3923, 'frisell': 3924, 'eyed': 3925, 'ignorant': 3926, 'thenaruvi': 3927, 'newts': 3928, 'mortem': 3929, 'axelrod': 3930, 'fahl': 3931, 'avatar': 3932, 'cummings': 3933, 'cuyabeno': 3934, 'rakuen': 3935, 'tsuihou': 3936, 'fertile': 3937, 'muncie': 3938, 'kelloe': 3939, 'beamer': 3940, 'superior': 3941, 'scofield': 3942, 'tolerance': 3943, 'von': 3944, 'cosels': 3945, 'obsession': 3946, 'creola': 3947, 'spine': 3948, 'surfs': 3949, 'judas': 3950, 'gwenno': 3951, 'pipette': 3952, 'metamora': 3953, 'spasmolytic': 3954, 'tanque': 3955, 'roudyk': 3956, 'slut': 3957, 'skycity': 3958, 'salado': 3959, 'perdu': 3960, 'matinee': 3961, 'idol': 3962, 'kipp': 3963, 'shops': 3964, 'mccoy': 3965, 'stepmother': 3966, 'jungo': 3967, 'roseburg': 3968, 'augustine': 3969, 'kingfisher': 3970, 'playig': 3971, 'warpaint': 3972, 'jour': 3973, 'notre': 3974, 'vie': 3975, 'blaise': 3976, 'friesland': 3977, 'searsport': 3978, 'lawns': 3979, 'loco': 3980, 'yonder': 3981, 'orleans': 3982, 'marty': 3983, 'abbruzzese': 3984, 'specialist': 3985, 'valle': 3986, 'jarama': 3987, 'deathsmiles': 3988, 'atrocity': 3989, 'exhibition': 3990, 'castolon': 3991, 'cham': 3992, 'japan': 3993, 'aubrey': 3994, 'garcia': 3995, 'nappanee': 3996, 'manhunt': 3997, 'scarabaeus': 3998, 'fondue': 3999, 'acquacotta': 4000, 'dumping': 4001, 'bim': 4002, 'ear': 4003, 'freddie': 4004, 'freeloader': 4005, 'constructs': 4006, 'mali': 4007, 'olton': 4008, 'bluffs': 4009, 'po': 4010, 'tofu': 4011, 'meatballs': 4012, 'annabella': 4013, 'lwin': 4014, 'mariah': 4015, 'elusive': 4016, 'chanteuse': 4017, 'loup': 4018, 'rayvon': 4019, 'citadel': 4020, 'fleischmanns': 4021, 'intense': 4022, 'studying': 4023, 'dong': 4024, 'phou': 4025, 'vieng': 4026, 'depot': 4027, 'lila': 4028, 'reyes': 4029, 'acworth': 4030, 'conception': 4031, 'lenin': 4032, 'steam': 4033, 'ths': 4034, 'pilot': 4035, 'norman': 4036, 'deer': 4037, 'ewen': 4038, 'brittney': 4039, 'fir': 4040, 'wreck': 4041, 'gravy': 4042, 'orbison': 4043, 'morphin': 4044, 'rangers': 4045, 'stream': 4046, 'adelaide': 4047, 'windber': 4048, 'maki': 4049, 'ohguro': 4050, 'spiderman': 4051, 'rocketeer': 4052, 'coastal': 4053, 'prefer': 4054, 'kearneysville': 4055, 'nightfall': 4056, 'bomberman': 4057, 'warhead': 4058, 'sh': 4059, 'nen': 4060, 'toppa': 4061, 'bashin': 4062, 'dawns': 4063, 'abacus': 4064, 'occoquan': 4065, 'caravan': 4066, 'dora': 4067, 'fernwood': 4068, 'leo': 4069, 'cochran': 4070, 'weight': 4071, 'dorsey': 4072, 'understanding': 4073, 'memoir': 4074, 'unalaska': 4075, 'allenwood': 4076, 'kanopolis': 4077, 'valentyne': 4078, 'suite': 4079, 'wuill': 4080, 'laws': 4081, 'milwaukee': 4082, 'cliff': 4083, 'touchdown': 4084, 'masonville': 4085, 'villotta': 4086, 'glennie': 4087, 'gina': 4088, 'schock': 4089, 'foreast': 4090, 'siler': 4091, 'reklaw': 4092, 'linguistic': 4093, 'whaere': 4094, 'baldur': 4095, 'bhaal': 4096, 'restless': 4097, 'natives': 4098, 'rhapsody': 4099, 'fare': 4100, 'thee': 4101, 'celebrating': 4102, 'grateful': 4103, 'ombre': 4104, 'bercy': 4105, 'pastwatch': 4106, 'whiteside': 4107, 'osierfield': 4108, 'somme': 4109, 'daedelus': 4110, 'lothian': 4111, 'bg': 4112, 'knocc': 4113, 'heaton': 4114, 'autry': 4115, 'inman': 4116, 'trussville': 4117, 'certainty': 4118, 'margie': 4119, 'formed': 4120, 'applied': 4121, 'linguistics': 4122, 'rumyantsev': 4123, 'drawa': 4124, 'finiti': 4125, 'rete': 4126, 'went': 4127, 'marcella': 4128, 'erma': 4129, 'rivera': 4130, 'finding': 4131, 'invasion': 4132, 'eurythmics': 4133, 'asia': 4134, 'ripley': 4135, 'diwali': 4136, 'westfield': 4137, 'emperor': 4138, 'wears': 4139, 'naive': 4140, 'stumble': 4141, 'cotopaxi': 4142, 'cairngorms': 4143, 'bother': 4144, 'osyka': 4145, 'dazey': 4146, 'coleville': 4147, 'alibi': 4148, 'method': 4149, 'sawai': 4150, 'gandharva': 4151, 'chart': 4152, 'throb': 4153, 'revoluci': 4154, 'youngest': 4155, 'profession': 4156, 'dells': 4157, 'beckley': 4158, 'abode': 4159, 'kd': 4160, 'lang': 4161, 'deus': 4162, 'deceptor': 4163, 'anjo': 4164, 'boreas': 4165, 'dilvish': 4166, 'hermaphrodite': 4167, 'greenback': 4168, 'lamy': 4169, 'stuck': 4170, 'sax': 4171, 'woburn': 4172, 'harmony': 4173, 'boating': 4174, 'epte': 4175, 'wilma': 4176, 'gowanus': 4177, 'yacht': 4178, 'tetrazzini': 4179, 'puro': 4180, 'reager': 4181, 'trifecta': 4182, 'morton': 4183, 'feldman': 4184, 'eugene': 4185, 'mahoney': 4186, 'rudolph': 4187, 'kaltag': 4188, 'appleby': 4189, 'mcguinness': 4190, 'clash': 4191, 'codes': 4192, 'unarchigal': 4193, 'lauren': 4194, 'typeface': 4195, 'townes': 4196, 'zandt': 4197, 'northway': 4198, 'polka': 4199, 'genre': 4200, 'bender': 4201, 'masterful': 4202, 'pirate': 4203, 'alejandra': 4204, 'sehlabathebe': 4205, 'lampi': 4206, 'sistersville': 4207, 'juliff': 4208, 'bucatini': 4209, 'foghat': 4210, 'cougar': 4211, 'divorced': 4212, 'selmer': 4213, 'backyard': 4214, 'annunciation': 4215, 'richfield': 4216, 'ilse': 4217, 'delange': 4218, 'willimantic': 4219, 'finsbury': 4220, 'simplescreenrecorder': 4221, 'colt': 4222, 'winchester': 4223, 'saxophone': 4224, 'supremacy': 4225, 'ofelia': 4226, 'dress': 4227, 'joni': 4228, 'gt': 4229, 'clafoutis': 4230, 'wonders': 4231, 'darnestown': 4232, 'dyskografia': 4233, 'seeds': 4234, 'russell': 4235, 'hermann': 4236, 'baumann': 4237, 'jasmine': 4238, 'leta': 4239, 'bothwell': 4240, 'lodge': 4241, 'whiskers': 4242, 'favourite': 4243, 'nursery': 4244, 'rhymes': 4245, 'fears': 4246, 'tal': 4247, 'chhapar': 4248, 'sync': 4249, 'adeline': 4250, 'eastlake': 4251, 'baconton': 4252, 'turnt': 4253, 'voyages': 4254, 'tires': 4255, 'pizzaiola': 4256, 'blanco': 4257, 'shirley': 4258, 'aviatrice': 4259, 'vega': 4260, 'noveskey': 4261, 'lydia': 4262, 'mixtape': 4263, 'croissant': 4264, 'leisure': 4265, 'knoll': 4266, 'jtr': 4267, 'deceive': 4268, 'pesotum': 4269, 'mini': 4270, 'berryz': 4271, 'mari': 4272, 'shingleton': 4273, 'feature': 4274, 'geek': 4275, 'chic': 4276, 'florewood': 4277, 'sci': 4278, 'crimes': 4279, 'erin': 4280, 'max': 4281, 'richter': 4282, 'elsmore': 4283, 'freshwater': 4284, 'palmetto': 4285, 'playstation': 4286, 'ilo': 4287, 'mtv': 4288, 'uncensored': 4289, 'shit': 4290, 'mater': 4291, 'lipstick': 4292, 'vogue': 4293, 'plaid': 4294, 'retina': 4295, 'wildwood': 4296, 'argumentative': 4297, 'portales': 4298, 'hamlet': 4299, 'lampoon': 4300, 'hal': 4301, 'patino': 4302, 'ambiente': 4303, 'rnb': 4304, 'carl': 4305, 'mcgee': 4306, 'column': 4307, 'botna': 4308, 'balkan': 4309, 'rhapsodies': 4310, 'measures': 4311, 'owl': 4312, 'arnett': 4313, 'pataskala': 4314, 'crepe': 4315, 'tisha': 4316, 'ambition': 4317, 'puthri': 4318, 'seduced': 4319, 'wrestling': 4320, 'widow': 4321, 'hefner': 4322, 'unauthorized': 4323, 'marching': 4324, 'xsuie': 4325, 'econfina': 4326, 'hridaynath': 4327, 'mangeshkar': 4328, 'booker': 4329, 'madwoman': 4330, 'elida': 4331, 'crow': 4332, 'omoide': 4333, 'okkusenman': 4334, 'shirts': 4335, 'exploits': 4336, 'vikki': 4337, 'dome': 4338, 'juniper': 4339, 'che': 4340, 'bond': 4341, 'junior': 4342, 'schools': 4343, 'walks': 4344, 'requests': 4345, 'standard': 4346, 'ultimatum': 4347, 'icac': 4348, 'investigators': 4349, 'hank': 4350, 'citizen': 4351, 'boo': 4352, 'awakened': 4353, 'aventuras': 4354, 'antonito': 4355, 'splendido': 4356, 'offerman': 4357, 'bock': 4358, 'cliffwood': 4359, 'thibaults': 4360, 'sealed': 4361, 'mastermind': 4362, 'mirage': 4363, 'blink': 4364, 'bashkirsky': 4365, 'herkimer': 4366, 'bessie': 4367, 'antonia': 4368, 'switching': 4369, 'channels': 4370, 'ajoy': 4371, 'chakrabarty': 4372, 'pimpernel': 4373, 'rods': 4374, 'parts': 4375, 'nozomi': 4376, 'tsuji': 4377, 'trancers': 4378, 'laughs': 4379, 'zei': 4380, 'deserve': 4381, 'moby': 4382, 'selmont': 4383, 'khaled': 4384, 'gift': 4385, 'tarja': 4386, 'turunen': 4387, 'ibm': 4388, 'temporary': 4389, 'fix': 4390, 'kremmling': 4391, 'verdure': 4392, 'independence': 4393, 'nitti': 4394, 'thorogood': 4395, 'blossom': 4396, 'caleigh': 4397, 'jon': 4398, 'mclaughlin': 4399, 'doughnut': 4400, 'ts': 4401, 'zetsu': 4402, 'outer': 4403, 'greenville': 4404, 'posiabble': 4405, 'bottles': 4406, 'crack': 4407, 'cottageville': 4408, 'toto': 4409, 'bonnaroo': 4410, 'spatial': 4411, 'query': 4412, 'server': 4413, 'epiphany': 4414, 'loyalhanna': 4415, 'owlet': 4416, 'olivor': 4417, 'faultline': 4418, 'jannie': 4419, 'strength': 4420, 'rev': 4421, 'raptor': 4422, 'anston': 4423, 'hilt': 4424, 'fragile': 4425, 'mumbai': 4426, 'attacks': 4427, 'nubians': 4428, 'plutonia': 4429, 'taskcracker': 4430, 'outlook': 4431, 'winwood': 4432, 'likely': 4433, 'pray': 4434, 'koontz': 4435, 'rim': 4436, 'conversations': 4437, 'eyota': 4438, 'storia': 4439, 'natale': 4440, 'candlelight': 4441, 'flies': 4442, 'ask': 4443, 'dahmer': 4444, 'packed': 4445, 'rafters': 4446, 'minority': 4447, 'report': 4448, 'lego': 4449, 'lots': 4450, 'playslist': 4451, 'highways': 4452, 'hiding': 4453, 'vicki': 4454, 'verona': 4455, 'reuben': 4456, 'potje': 4457, 'vet': 4458, 'lambs': 4459, 'battlement': 4460, 'lotus': 4461, 'ambush': 4462, 'twila': 4463, 'edwards': 4464, 'recuerdo': 4465, 'improvisatore': 4466, 'gie': 4467, 'fernandina': 4468, 'nicholasville': 4469, 'northcote': 4470, 'como': 4471, 'tatuaje': 4472, 'vertically': 4473, 'challenged': 4474, 'fingers': 4475, 'philosopher': 4476, 'vl': 4477, 'pla': 4478, 'isabelle': 4479, 'bernardsville': 4480, 'lovex': 4481, 'wolfe': 4482, 'gilbert': 4483, 'period': 4484, 'jamie': 4485, 'hallie': 4486, 'satisfied': 4487, 'branton': 4488, 'gisela': 4489, 'davydov': 4490, 'tolmatschowa': 4491, 'schwestern': 4492, 'hayden': 4493, 'mayya': 4494, 'westhampton': 4495, 'outsiders': 4496, 'bums': 4497, 'uranus': 4498, 'sonntagskind': 4499, 'everytime': 4500, 'tatico': 4501, 'henriquez': 4502, 'bleeps': 4503, 'bloops': 4504, 'mene': 4505, 'se': 4506, 'odvikavaj': 4507, 'split': 4508, 'difference': 4509, 'doris': 4510, 'tulsa': 4511, 'clowns': 4512, 'wauseon': 4513, 'jay': 4514, 'terrorists': 4515, 'kirtley': 4516, 'bioruby': 4517, 'zaleski': 4518, 'gem': 4519, 'preaching': 4520, 'perverted': 4521, 'trout': 4522, 'furnace': 4523, 'alain': 4524, 'caron': 4525, 'connee': 4526, 'boswell': 4527, 'cyclists': 4528, 'mezzes': 4529, 'integer': 4530, 'sequences': 4531, 'trunk': 4532, 'craters': 4533, 'sac': 4534, 'honigberger': 4535, 'kegs': 4536, 'turning': 4537, 'holladay': 4538, 'hitchita': 4539, 'rencor': 4540, 'batuecas': 4541, 'ethel': 4542, 'screwed': 4543, 'grits': 4544, 'impostors': 4545, 'eunice': 4546, 'elisa': 4547, 'manack': 4548, 'carrousel': 4549, 'coltrane': 4550, 'treasures': 4551, 'able': 4552, 'camping': 4553, 'toad': 4554, 'keeneland': 4555, 'linzi': 4556, 'stoppard': 4557, 'katz': 4558, 'inning': 4559, 'ahead': 4560, 'blowfly': 4561, 'schubert': 4562, 'watsons': 4563, 'mckenna': 4564, 'shakira': 4565, 'aion': 4566, 'vineyard': 4567, 'candace': 4568, 'deathly': 4569, 'hallows': 4570, 'andr': 4571, 'calamaro': 4572, 'metabolights': 4573, 'individuals': 4574, 'ecosystems': 4575, 'stretch': 4576, 'kingdoms': 4577, 'emo': 4578, 'kloden': 4579, 'drejer': 4580, 'banking': 4581, 'violence': 4582, 'inner': 4583, 'kiara': 4584, 'ihsahn': 4585, 'mothstorm': 4586, 'yoshiki': 4587, 'kris': 4588, 'chetan': 4589, 'ramlu': 4590, 'armenian': 4591, 'ochopee': 4592, 'voce': 4593, 'kewanee': 4594, 'pattie': 4595, 'bomb': 4596, 'lahore': 4597, 'steamboat': 4598, 'danger': 4599, 'lomax': 4600, 'kaya': 4601, 'kurdishmedia': 4602, 'carmen': 4603, 'carlson': 4604, 'kunnon': 4605, 'syy': 4606, 'playa': 4607, 'bradner': 4608, 'hamatora': 4609, 'adaptive': 4610, 'coloration': 4611, 'vigus': 4612, 'personality': 4613, 'gf': 4614, 'wilderville': 4615, 'saviour': 4616, 'meek': 4617, 'pilgrims': 4618, 'rayne': 4619, 'harassed': 4620, 'bret': 4621, 'mckenzie': 4622, 'begonias': 4623, 'talbot': 4624, 'mundy': 4625, 'messenger': 4626, 'edward': 4627, 'ryerson': 4628, 'screamplay': 4629, 'lenexa': 4630, 'setting': 4631, 'grammy': 4632, 'thicket': 4633, 'grant': 4634, 'ledger': 4635, 'brigitte': 4636, 'katelyn': 4637, 'dough': 4638, 'hematite': 4639, 'battlestations': 4640, 'editor': 4641, 'publisher': 4642, 'waubay': 4643, 'gulfport': 4644, 'unbound': 4645, 'rakim': 4646, 'ken': 4647, 'rajinikanth': 4648, 'definitive': 4649, 'islanders': 4650, 'wipers': 4651, 'lollipop': 4652, 'gillespie': 4653, 'klondike': 4654, 'finest': 4655, 'bondage': 4656, 'medeiros': 4657, 'tatamy': 4658, 'contesting': 4659, 'varnado': 4660, 'jovino': 4661, 'neto': 4662, 'prism': 4663, 'christie': 4664, 'johnston': 4665, 'gamble': 4666, 'neylandville': 4667, 'ruel': 4668, 'gilmer': 4669, 'tsongas': 4670, 'arkinda': 4671, 'barbary': 4672, 'beatles': 4673, 'rileyville': 4674, 'moye': 4675, 'stallion': 4676, 'rockies': 4677, 'nellieburg': 4678, 'farmerville': 4679, 'lamar': 4680, 'onnaam': 4681, 'muhurtham': 4682, 'christy': 4683, 'louise': 4684, 'vii': 4685, 'fifa': 4686, 'wannabe': 4687, 'spice': 4688, 'reinvented': 4689, 'ritchie': 4690, 'valens': 4691, 'phalcon': 4692, 'teenage': 4693, 'mutant': 4694, 'turtles': 4695, 'manhasset': 4696, 'defined': 4697, 'elvira': 4698, 'nyoil': 4699, 'jeeves': 4700, 'wooster': 4701, 'nonsense': 4702, 'arcadian': 4703, 'kanon': 4704, 'wakeshima': 4705, 'chrisman': 4706, 'pete': 4707, 'epleys': 4708, 'mascotte': 4709, 'microsoft': 4710, 'scanner': 4711, 'uses': 4712, 'alyson': 4713, 'lictor': 4714, 'endless': 4715, 'dovre': 4716, 'crosswind': 4717, 'elba': 4718, 'corina': 4719, 'nichiren': 4720, 'daish': 4721, 'rai': 4722, 'lousy': 4723, 'dougan': 4724, 'mustoe': 4725, 'gould': 4726, 'revenge': 4727, 'nerds': 4728, 'ninety': 4729, 'hardcastle': 4730, 'altyn': 4731, 'emel': 4732, 'stalinism': 4733, 'bohemia': 4734, 'actors': 4735, 'indifferent': 4736, 'clinchco': 4737, 'forgetting': 4738, 'dermatology': 4739, 'colic': 4740, 'hext': 4741, 'kingsman': 4742, 'service': 4743, 'oil': 4744, 'endgame': 4745, 'accesss': 4746, 'phase': 4747, 'jara': 4748, 'reservtion': 4749, 'cottondale': 4750, 'chowchilla': 4751, 'kool': 4752, 'keith': 4753, 'roar': 4754, 'marche': 4755, 'headed': 4756, 'trees': 4757, 'rena': 4758, 'blocher': 4759, 'twinkie': 4760, 'squad': 4761, 'compound': 4762, 'fracture': 4763, 'mailman': 4764, 'rocksteady': 4765, 'balzary': 4766, 'pho': 4767, 'benkelman': 4768, 'rosalie': 4769, 'evelyn': 4770, 'seward': 4771, 'shabbona': 4772, 'priest': 4773, 'shi': 4774, 'xin': 4775, 'hui': 4776, 'jason': 4777, 'webley': 4778, 'sugarville': 4779, 'dimensional': 4780, 'sniper': 4781, 'nur': 4782, 'mit': 4783, 'dir': 4784, 'swain': 4785, 'bestiary': 4786, 'jboss': 4787, 'enterprise': 4788, 'soa': 4789, 'platform': 4790, 'glazier': 4791, 'nevado': 4792, 'cruces': 4793, 'mommy': 4794, 'whitney': 4795, 'paragraphe': 4796, 'turnin': 4797, 'eastport': 4798, 'ware': 4799, 'hazel': 4800, 'bilal': 4801, 'maze': 4802, 'lono': 4803, 'avispa': 4804, 'generaci': 4805, 'rbd': 4806, 'vivo': 4807, 'corpus': 4808, 'dreamstone': 4809, 'douthat': 4810, 'chippewa': 4811, 'accidentally': 4812, 'repeating': 4813, 'thesis': 4814, 'stomp': 4815, 'holler': 4816, 'panisses': 4817, 'naytahwaush': 4818, 'eifel': 4819, 'rathinirvedam': 4820, 'riddim': 4821, 'humanity': 4822, 'liberation': 4823, 'prime': 4824, 'irvington': 4825, 'gn': 4826, 'uetoaya': 4827, 'redington': 4828, 'snapfinger': 4829, 'heads': 4830, 'ringin': 4831, 'luke': 4832, 'afghan': 4833, 'maps': 4834, 'aviation': 4835, 'appeal': 4836, 'whigs': 4837, 'chemical': 4838, 'engineers': 4839, 'boggs': 4840, 'lidell': 4841, 'townsell': 4842, 'stelvio': 4843, 'qriii': 4844, 'whittaker': 4845, 'bowie': 4846, 'beeb': 4847, 'comer': 4848, 'gladness': 4849, 'monika': 4850, 'lucinda': 4851, 'atlantis': 4852, 'terre': 4853, 'engloutie': 4854, 'grisly': 4855, 'yale': 4856, 'compact': 4857, 'proposal': 4858, 'rented': 4859, 'lips': 4860, 'liked': 4861, 'ports': 4862, 'gazer': 4863, 'misato': 4864, 'watanabe': 4865, 'goodland': 4866, 'atom': 4867, 'conker': 4868, 'reloaded': 4869, 'cooler': 4870, 'climate': 4871, 'kolkheti': 4872, 'millions': 4873, 'leong': 4874, 'brasil': 4875, 'arista': 4876, 'conflict': 4877, 'helena': 4878, 'countryman': 4879, 'deve': 4880, 'morire': 4881, 'acta': 4882, 'mathematicae': 4883, 'applicatae': 4884, 'sinica': 4885, 'caverns': 4886, 'infernal': 4887, 'devices': 4888, 'tracyton': 4889, 'helianthushof': 4890, 'hurffville': 4891, 'patrica': 4892, 'kelsey': 4893, 'bernard': 4894, 'mohammad': 4895, 'reza': 4896, 'shadjarian': 4897, 'esquivando': 4898, 'charcos': 4899, 'paulette': 4900, 'smashers': 4901, 'extraordinary': 4902, 'cindy': 4903, 'statham': 4904, 'editions': 4905, 'walla': 4906, 'cammack': 4907, 'susan': 4908, 'eviatar': 4909, 'banai': 4910, 'range': 4911, 'ooze': 4912, 'clooney': 4913, 'minotaur': 4914, 'zamiast': 4915, 'burzy': 4916, 'linger': 4917, 'awhile': 4918, 'alan': 4919, 'shiralee': 4920, 'rainwater': 4921, 'lp': 4922, 'thayer': 4923, 'apples': 4924, 'estr': 4925, 'klute': 4926, 'salvation': 4927, 'decisions': 4928, 'stump': 4929, 'maritza': 4930, 'russel': 4931, 'walder': 4932, 'journals': 4933, 'almighty': 4934, 'johnsons': 4935, 'armand': 4936, 'helden': 4937, 'judgment': 4938, 'salina': 4939, 'runner': 4940, 'foley': 4941, 'leasburg': 4942, 'della': 4943, 'surprise': 4944, 'bowers': 4945, 'crossett': 4946, 'philosophic': 4947, 'ayn': 4948, 'rand': 4949, 'banc': 4950, 'arguin': 4951, 'woodruff': 4952, 'teterville': 4953, 'goug': 4954, 'laneville': 4955, 'operetta': 4956, 'cova': 4957, 'frisco': 4958, 'malcom': 4959, 'chin': 4960, 'rules': 4961, 'mimi': 4962, 'biscuit': 4963, 'elderton': 4964, 'lambeth': 4965, 'shahrum': 4966, 'kashani': 4967, 'luray': 4968, 'scotsman': 4969, 'manufacturing': 4970, 'consent': 4971, 'clue': 4972, 'rhoads': 4973, 'parra': 4974, 'dachigam': 4975, 'cactus': 4976, 'gwen': 4977, 'nightbirds': 4978, 'nantucket': 4979, 'shamus': 4980, 'visual': 4981, 'sensory': 4982, 'unit': 4983, 'mirrorshades': 4984, 'humphrey': 4985, 'else': 4986, 'troops': 4987, 'ballroom': 4988, 'cars': 4989, 'malcolm': 4990, 'scrapple': 4991, 'harriett': 4992, 'deanne': 4993, 'scales': 4994, 'stairs': 4995, 'spooky': 4996, 'goodreader': 4997, 'dungeonmaster': 4998, 'hash': 4999, 'luther': 5000, 'odessa': 5001, 'ode': 5002, 'timbers': 5003, 'chettathi': 5004, 'repose': 5005, 'rugrats': 5006, 'benson': 5007, 'meditation': 5008, 'doolittle': 5009, 'thap': 5010, 'lan': 5011, 'singular': 5012, 'traverse': 5013, 'bottomland': 5014, 'boston': 5015, 'noblesville': 5016, 'creeper': 5017, 'cannon': 5018, 'mowrystown': 5019, 'vyechnyy': 5020, 'strannik': 5021, 'diamondville': 5022, 'sewickley': 5023, 'krystal': 5024, 'dongola': 5025, 'joad': 5026, 'ranger': 5027, 'hofer': 5028, 'malin': 5029, 'cascading': 5030, 'waterfall': 5031, 'sonora': 5032, 'janie': 5033, 'zion': 5034, 'golan': 5035, 'dusk': 5036, 'oswego': 5037, 'fairness': 5038, 'pause': 5039, 'deaf': 5040, 'karin': 5041, 'dreijer': 5042, 'andersson': 5043, 'kitade': 5044, 'psychedelia': 5045, 'xyy': 5046, 'kinbrae': 5047, 'travelled': 5048, 'lenzburg': 5049, 'dukes': 5050, 'cum': 5051, 'noize': 5052, 'elizeth': 5053, 'cardoso': 5054, 'dianne': 5055, 'chickens': 5056, 'karoly': 5057, 'vegas': 5058, 'morrow': 5059, 'dub': 5060, 'licorice': 5061, 'mckechnie': 5062, 'winchell': 5063, 'mosses': 5064, 'manse': 5065, 'illness': 5066, 'metaphor': 5067, 'fraser': 5068, 'mansion': 5069, 'tullytown': 5070, 'mapa': 5071, 'instincts': 5072, 'suit': 5073, 'belhaven': 5074, 'mancos': 5075, 'congeniality': 5076, 'jill': 5077, 'vidal': 5078, 'text': 5079, 'finnish': 5080, 'sequoyah': 5081, 'windhorst': 5082, 'sanilac': 5083, 'petroglyphs': 5084, 'cooke': 5085, 'jessica': 5086, 'mauboy': 5087, 'wandering': 5088, 'fade': 5089, 'barry': 5090, 'aguila': 5091, 'harsh': 5092, 'tanimura': 5093, 'bonita': 5094, 'myers': 5095, 'viaje': 5096, 'copperpot': 5097, 'sungmin': 5098, 'watcher': 5099, 'hayvoronsky': 5100, 'tyner': 5101, 'betsy': 5102, 'sandworms': 5103, 'honest': 5104, 'noah': 5105, 'wuv': 5106, 'bernardo': 5107, 'naseer': 5108, 'shamma': 5109, 'renewable': 5110, 'electricity': 5111, 'grid': 5112, 'liberator': 5113, 'kentmore': 5114, 'tsidii': 5115, 'loka': 5116, 'salute': 5117, 'armour': 5118, 'varenyky': 5119, 'sanibel': 5120, 'berryessa': 5121, 'abdel': 5122, 'halim': 5123, 'hafez': 5124, 'esperanza': 5125, 'mew': 5126, 'roselle': 5127, 'looks': 5128, 'luiza': 5129, 'possi': 5130, 'minna': 5131, 'lyncourt': 5132, 'casting': 5133, 'crowns': 5134, 'shack': 5135, 'chas': 5136, 'priority': 5137, 'masala': 5138, 'dayne': 5139, 'google': 5140, 'czarna': 5141, 'dziewczyna': 5142, 'epworth': 5143, 'grandmother': 5144, 'stares': 5145, 'slang': 5146, 'unconventional': 5147, 'innocents': 5148, 'advocate': 5149, 'forgotten': 5150, 'uncut': 5151, 'borys': 5152, 'ljatoschynskyj': 5153, 'caplinger': 5154, 'snowball': 5155, 'jingle': 5156, 'ryan': 5157, 'shutdown': 5158, 'profiteers': 5159, 'biggest': 5160, 'loser': 5161, 'bal': 5162, 'ganesh': 5163, 'pleasures': 5164, 'hitman': 5165, 'thornville': 5166, 'projections': 5167, 'arcims': 5168, 'tritonian': 5169, 'courts': 5170, 'concerts': 5171, 'krondor': 5172, 'plau': 5173, 'chef': 5174, 'eggo': 5175, 'lumpkin': 5176, 'gladiators': 5177, 'clawson': 5178, 'marlboro': 5179, 'joelia': 5180, 'savitsjeva': 5181, 'racionais': 5182, 'drumline': 5183, 'breeze': 5184, 'rank': 5185, 'bslade': 5186, 'rhum': 5187, 'marxism': 5188, 'oppression': 5189, 'anniston': 5190, 'regurgitation': 5191, 'kiahsville': 5192, 'anson': 5193, 'hu': 5194, 'design': 5195, 'madlib': 5196, 'invazion': 5197, 'prog': 5198, 'paint': 5199, 'masterpiece': 5200, 'starfleet': 5201, 'simulator': 5202, 'equal': 5203, 'affections': 5204, 'leann': 5205, 'rimes': 5206, 'bunky': 5207, 'hester': 5208, 'bury': 5209, 'xandee': 5210, 'amnicon': 5211, 'ce': 5212, 'cher': 5213, 'intrus': 5214, 'korra': 5215, 'agnolotti': 5216, 'hellboy': 5217, 'madge': 5218, 'divan': 5219, 'scratchy': 5220, 'bobbie': 5221, 'colette': 5222, 'lookout': 5223, 'felicity': 5224, 'estelle': 5225, 'object': 5226, 'butter': 5227, 'hattiesburg': 5228, 'accused': 5229, 'ettrick': 5230, 'destination': 5231, 'prague': 5232, 'crawlspace': 5233, 'rodna': 5234, 'moo': 5235, 'cab': 5236, 'darwin': 5237, 'mamaroneck': 5238, 'noelle': 5239, 'daniel': 5240, 'zueras': 5241, 'lush': 5242, 'honeysuckle': 5243, 'andouillettes': 5244, 'kamen': 5245, 'ooo': 5246, 'shogun': 5247, 'core': 5248, 'medals': 5249, 'streaming': 5250, 'bells': 5251, 'abo': 5252, 'growth': 5253, 'fetish': 5254, 'robinette': 5255, 'encounters': 5256, 'hearted': 5257, 'nishi': 5258, 'sonogi': 5259, 'hant': 5260, 'musketeers': 5261, 'rss': 5262, 'tracking': 5263, 'spaulding': 5264, 'vichyssoise': 5265, 'inform': 5266, 'abdication': 5267, 'sinful': 5268, 'lucerne': 5269, 'nugget': 5270, 'taco': 5271, 'uniontown': 5272, 'exiles': 5273, 'alloway': 5274, 'granbury': 5275, 'darnell': 5276, 'sisterhood': 5277, 'lance': 5278, 'emmy': 5279, 'rossum': 5280, 'glenarden': 5281, 'pies': 5282, 'plandome': 5283, 'kiley': 5284, 'vogues': 5285, 'rome': 5286, 'budayeen': 5287, 'brumley': 5288, 'martine': 5289, 'mccutcheon': 5290, 'jazzmasters': 5291, 'duchess': 5292, 'langeais': 5293, 'blackbox': 5294, 'mina': 5295, 'caputo': 5296, 'millinocket': 5297, 'pillar': 5298, 'coup': 5299, 'invades': 5300, 'everyday': 5301, 'liar': 5302, 'removers': 5303, 'shiva': 5304, 'option': 5305, 'scientist': 5306, 'remler': 5307, 'hineston': 5308, 'decaturville': 5309, 'advances': 5310, 'brothel': 5311, 'jackals': 5312, 'denationalization': 5313, 'remedial': 5314, 'todos': 5315, 'entfesselt': 5316, 'bull': 5317, 'ramos': 5318, 'janice': 5319, 'tartinery': 5320, 'lick': 5321, 'creamed': 5322, 'eggs': 5323, 'territory': 5324, 'engelchen': 5325, 'medford': 5326, 'essie': 5327, 'tonya': 5328, 'cavour': 5329, 'wontons': 5330, 'boyertown': 5331, 'toynbee': 5332, 'convector': 5333, 'meeres': 5334, 'insel': 5335, 'bastimentos': 5336, 'proudly': 5337, 'marches': 5338, 'curve': 5339, 'lapponia': 5340, 'alot': 5341, 'wasser': 5342, 'elise': 5343, 'ravensdale': 5344, 'toward': 5345, 'receipt': 5346, 'tanintharyi': 5347, 'loveless': 5348, 'took': 5349, 'marbles': 5350, 'nina': 5351, 'hagen': 5352, 'cardinal': 5353, 'voice': 5354, 'pitch': 5355, 'cashel': 5356, 'betrayer': 5357, 'keltech': 5358, 'jetmore': 5359, 'glace': 5360, 'atmosphere': 5361, 'reminderville': 5362, 'labyrinthe': 5363, 'strongest': 5364, 'instinct': 5365, 'form': 5366, 'spenard': 5367, 'firebrand': 5368, 'farruko': 5369, 'presenta': 5370, 'menores': 5371, 'duson': 5372, 'arletta': 5373, 'join': 5374, 'dots': 5375, 'sides': 5376, 'rarities': 5377, 'trotamundos': 5378, 'update': 5379, 'phera': 5380, 'vermicelli': 5381, 'edwyn': 5382, 'assumption': 5383, 'playlst': 5384, 'cary': 5385, 'travels': 5386, 'shenandoah': 5387, 'hog': 5388, 'haley': 5389, 'scarnato': 5390, 'elkie': 5391, 'brooks': 5392, 'nightdress': 5393, 'denali': 5394, 'gunn': 5395, 'giaour': 5396, 'however': 5397, 'penermon': 5398, 'celestial': 5399, 'disasters': 5400, 'changed': 5401, 'burrows': 5402, 'moncove': 5403, 'anstruther': 5404, 'aura': 5405, 'pineridge': 5406, 'dangerous': 5407, 'ronnie': 5408, 'laguna': 5409, 'tashan': 5410, 'dorrsett': 5411, 'wintersong': 5412, 'jaula': 5413, 'oro': 5414, 'yameen': 5415, 'swindlers': 5416, 'nastya': 5417, 'kamenskih': 5418, 'hogs': 5419, 'lakebay': 5420, 'aroostook': 5421, 'capicollo': 5422, 'kit': 5423, 'carson': 5424, 'ilene': 5425, 'agate': 5426, 'pontypool': 5427, 'stroll': 5428, 'pork': 5429, 'rupee': 5430, 'mitcham': 5431, 'doc': 5432, 'bronze': 5433, 'baseball': 5434, 'silvia': 5435, 'wxhexeditor': 5436, 'thames': 5437, 'tomb': 5438, 'twinkler': 5439, 'frantz': 5440, 'ludden': 5441, 'airport': 5442, 'suryavanshi': 5443, 'nightwork': 5444, 'informix': 5445, 'wingz': 5446, 'minto': 5447, 'introducing': 5448, 'rahman': 5449, 'vanlue': 5450, 'vietnam': 5451, 'ila': 5452, 'manera': 5453, 'recopilatorio': 5454, 'stood': 5455, 'baxter': 5456, 'malaysian': 5457, 'durbin': 5458, 'tingley': 5459, 'peking': 5460, 'cazenovia': 5461, 'quicksand': 5462, 'valentine': 5463, 'schooltool': 5464, 'sell': 5465, 'geddes': 5466, 'utsler': 5467, 'skaggs': 5468, 'margaret': 5469, 'purcell': 5470, 'nothin': 5471, 'inez': 5472, 'kisaki': 5473, 'upbuilding': 5474, 'discourses': 5475, 'allen': 5476, 'dances': 5477, 'ward': 5478, 'hostile': 5479, 'doo': 5480, 'rmx': 5481, 'ayu': 5482, 'judy': 5483, 'sophisticated': 5484, 'druss': 5485, 'creature': 5486, 'boma': 5487, 'slender': 5488, 'thread': 5489, 'donkey': 5490, 'eckstine': 5491, 'ocilla': 5492, 'jackass': 5493, 'investing': 5494, 'moran': 5495, 'violent': 5496, 'chair': 5497, 'cabinet': 5498, 'ristigouche': 5499, 'ussr': 5500, 'regional': 5501, 'op': 5502, 'ration': 5503, 'wakefield': 5504, 'palco': 5505, 'lucky': 5506, 'mulligan': 5507, 'stew': 5508, 'contract': 5509, 'opinion': 5510, 'tarpon': 5511, 'wonka': 5512, 'gregg': 5513, 'bissonette': 5514, 'leeds': 5515, 'forks': 5516, 'thrills': 5517, 'som': 5518, 'tam': 5519, 'graduates': 5520, 'malibu': 5521, 'choptank': 5522, 'maxim': 5523, 'sleepytime': 5524, 'limberlost': 5525, 'hex': 5526, 'hector': 5527, 'lines': 5528, 'fullerville': 5529, 'readstown': 5530, 'sometimes': 5531, 'passing': 5532, 'pelahatchie': 5533, 'badmeaningood': 5534, 'jaime': 5535, 'boyish': 5536, 'rotem': 5537, 'elegant': 5538, 'allenton': 5539, 'healthy': 5540, 'karamazov': 5541, 'provider': 5542, 'inheritance': 5543, 'loss': 5544, 'midnights': 5545, 'sebastien': 5546, 'grainger': 5547, 'hoffman': 5548, 'kenmore': 5549, 'sulle': 5550, 'sathya': 5551, 'trac': 5552, 'monson': 5553, 'dolores': 5554, 'tillicum': 5555, 'simply': 5556, 'howling': 5557, 'joshua': 5558, 'radin': 5559, 'leopard': 5560, 'sat': 5561, 'socca': 5562, 'alexia': 5563, 'chili': 5564, 'tribeca': 5565, 'jacklyn': 5566, 'caps': 5567, 'vertexguy': 5568, 'alderwood': 5569, 'solo': 5570, 'wight': 5571, 'toucher': 5572, 'rich': 5573, 'halsey': 5574, 'leaves': 5575, 'complots': 5576, 'rachelle': 5577, 'pay': 5578, 'meers': 5579, 'unwind': 5580, 'terrorism': 5581, 'preventable': 5582, 'catastrophe': 5583, 'hardest': 5584, 'sha': 5585, 'lambert': 5586, 'terrors': 5587, 'nightmute': 5588, 'refugio': 5589, 'rillettes': 5590, 'scorpio': 5591, 'illusion': 5592, 'tsoi': 5593, 'shooting': 5594, 'sombrero': 5595, 'fallout': 5596, 'abominations': 5597, 'maltby': 5598, 'wayside': 5599, 'gabrial': 5600, 'mcnair': 5601, 'manuela': 5602, 'yvonne': 5603, 'discord': 5604, 'prayer': 5605, 'earls': 5606, 'lucille': 5607, 'shaun': 5608, 'sheep': 5609, 'louella': 5610, 'tracie': 5611, 'noyack': 5612, 'fernley': 5613, 'homicide': 5614, 'shout': 5615, 'pangaea': 5616, 'peveril': 5617, 'cone': 5618, 'petrified': 5619, 'hearth': 5620, 'solutions': 5621, 'perchance': 5622, 'sparrow': 5623, 'dos': 5624, 'jarreau': 5625, 'keke': 5626, 'wyatt': 5627, 'jasmund': 5628, 'pencil': 5629, 'mustache': 5630, 'viderunt': 5631, 'omnes': 5632, 'nona': 5633, 'alison': 5634, 'horatio': 5635, 'joann': 5636, 'encyclopaedia': 5637, 'sciences': 5638, 'golconda': 5639, 'daigo': 5640, 'stu': 5641, 'firepower': 5642, 'kulpsville': 5643, 'spears': 5644, 'harmar': 5645, 'cadogan': 5646, 'donnelly': 5647, 'bertha': 5648, 'strabane': 5649, 'mafia': 5650, 'williamsport': 5651, 'rosie': 5652, 'tatin': 5653, 'macy': 5654, 'districts': 5655, 'elsewhere': 5656, 'composer': 5657, 'oliveros': 5658, 'shadowchaser': 5659, 'azeroth': 5660, 'nash': 5661, 'jacksboro': 5662, 'powersville': 5663, 'mojito': 5664, 'grilled': 5665, 'meat': 5666, 'infernus': 5667, 'marsha': 5668, 'brice': 5669, 'whitehouse': 5670, 'scotia': 5671, 'speculative': 5672, 'needmore': 5673, 'turf': 5674, 'lbc': 5675, 'argentino': 5676, 'cargnello': 5677, 'morse': 5678, 'festival': 5679, 'chamberlain': 5680, 'stops': 5681, 'faced': 5682, 'certification': 5683, 'vanished': 5684, 'cosnarati': 5685, 'emergency': 5686, 'housemaid': 5687, 'rutherfordton': 5688, 'outside': 5689, 'syndicate': 5690, 'millicent': 5691, 'rajasthani': 5692, 'twentynine': 5693, 'palms': 5694, 'rivalry': 5695, 'songlines': 5696, 'yamhill': 5697, 'counter': 5698, 'snack': 5699, 'blush': 5700, 'niggers': 5701, 'frisbee': 5702, 'hippie': 5703, 'preacher': 5704, 'conducting': 5705, 'grave': 5706, 'continue': 5707, 'perfecting': 5708, 'questions': 5709, 'answers': 5710, 'bonner': 5711, 'wes': 5712, 'scantlin': 5713, 'scaramouche': 5714, 'valenciano': 5715, 'jkt': 5716, 'nickelsville': 5717, 'bearsville': 5718, 'kidd': 5719, 'terri': 5720, 'arp': 5721, 'patetown': 5722, 'wahhabi': 5723, 'islam': 5724, 'reform': 5725, 'jihad': 5726, 'digimon': 5727, 'clam': 5728, 'scarecrow': 5729, 'sugarolly': 5730, 'southside': 5731, 'elliotts': 5732, 'tuolumne': 5733, 'infidels': 5734, 'tenderfoot': 5735, 'random': 5736, 'mercedes': 5737, 'cimarron': 5738, 'slave': 5739, 'asian': 5740, 'bradford': 5741, 'igor': 5742, 'talkow': 5743, 'marva': 5744, 'bit': 5745, 'mambo': 5746, 'videogames': 5747, 'patagonia': 5748, 'hadon': 5749, 'opar': 5750, 'supercop': 5751, 'rite': 5752, 'mansfield': 5753, 'dna': 5754, 'repair': 5755, 'mutagenesis': 5756, 'paducah': 5757, 'xenomania': 5758, 'dread': 5759, 'whaling': 5760, 'woodport': 5761, 'persecution': 5762, 'jews': 5763, 'montgomery': 5764, 'cassidy': 5765, 'blackberries': 5766, 'boyd': 5767, 'piperton': 5768, 'moor': 5769, 'graphics': 5770, 'wakarusa': 5771, 'chaparral': 5772, 'enkitta': 5773, 'mothathe': 5774, 'vintage': 5775, 'tied': 5776, 'alien': 5777, 'continues': 5778, 'lone': 5779, 'costs': 5780, 'accidents': 5781, 'brook': 5782, 'czechia': 5783, 'monahan': 5784, 'cherryh': 5785, 'odyssey': 5786, 'harrowing': 5787, 'cuckoo': 5788, 'clocks': 5789, 'marcial': 5790, 'downward': 5791, 'forza': 5792, 'amore': 5793, 'shelby': 5794, 'lynne': 5795, 'thieving': 5796, 'couch': 5797, 'icewind': 5798, 'literary': 5799, 'peel': 5800, 'tron': 5801, 'reconfigured': 5802, 'longet': 5803, 'ruxpin': 5804, 'whit': 5805, 'railway': 5806, 'managing': 5807, 'hopatcong': 5808, 'comertown': 5809, 'blodgett': 5810, 'georgina': 5811, 'model': 5812, 'craftsman': 5813, 'latham': 5814, 'diaries': 5815, 'thirayum': 5816, 'theeravum': 5817, 'continued': 5818, 'cineexport': 5819, 'kommeni': 5820, 'anasa': 5821, 'wallsburg': 5822, 'pam': 5823, 'otho': 5824, 'supply': 5825, 'sveta': 5826, 'ljubav': 5827, 'augusta': 5828, 'wallington': 5829, 'jeffrey': 5830, 'pelland': 5831, 'khlong': 5832, 'phraya': 5833, 'simplest': 5834, 'mindy': 5835, 'geois': 5836, 'suribachi': 5837, 'becky': 5838, 'coorgs': 5839, 'umizaru': 5840, 'televised': 5841, 'morality': 5842, 'device': 5843, 'nike': 5844, 'tempo': 5845, 'safe': 5846, 'stern': 5847, 'fujimoto': 5848, 'yae': 5849, 'halls': 5850, 'smiles': 5851, 'lime': 5852, 'intrepid': 5853, 'beth': 5854, 'halibut': 5855, 'bethany': 5856, 'getzville': 5857, 'spyro': 5858, 'poplar': 5859, 'impractical': 5860, 'jokers': 5861, 'uk': 5862, 'faculty': 5863, 'kalkaska': 5864, 'shangha': 5865, 'wizardry': 5866, 'jennings': 5867, 'glen': 5868, 'flic': 5869, 'signals': 5870, 'belief': 5871, 'troubles': 5872, 'berowra': 5873, 'plylist': 5874, 'easel': 5875, 'laarni': 5876, 'lozada': 5877, 'whosoever': 5878, 'offend': 5879, 'adolf': 5880, 'hitler': 5881, 'downfall': 5882, 'kingsley': 5883, 'masayoshi': 5884, 'engaged': 5885, 'unidentified': 5886, 'senior': 5887, 'renee': 5888, 'bachand': 5889, 'temptation': 5890, 'louder': 5891, 'bombs': 5892, 'eleele': 5893, 'frankie': 5894, 'cantautor': 5895, 'vice': 5896, 'trade': 5897, 'campanian': 5898, 'jiro': 5899, 'borrow': 5900, 'westlake': 5901, 'collaborators': 5902, 'gone': 5903, 'ashland': 5904, 'inversion': 5905, 'utley': 5906, 'slemp': 5907, 'skin': 5908, 'leaf': 5909, 'matlacha': 5910, 'slinger': 5911, 'phrazes': 5912, 'mandaean': 5913, 'holi': 5914, 'seek': 5915, 'destroy': 5916, 'older': 5917, 'seductive': 5918, 'tongue': 5919, 'longwave': 5920, 'broadcast': 5921, 'iheartradio': 5922, 'macclenny': 5923, 'tube': 5924, 'nest': 5925, 'smit': 5926, 'espen': 5927, 'lind': 5928, 'josefa': 5929, 'branford': 5930, 'ziwa': 5931, 'rhino': 5932, 'rebbe': 5933, 'teachings': 5934, 'menachem': 5935, 'schneerson': 5936, 'influential': 5937, 'rabbi': 5938, 'wynonna': 5939, 'session': 5940, 'reverse': 5941, 'tightrope': 5942, 'trina': 5943, 'latoya': 5944, 'judge': 5945, 'jules': 5946, 'fabrice': 5947, 'morvan': 5948, 'pittsburgh': 5949, 'slim': 5950, 'hopeful': 5951, 'enrique': 5952, 'iglesias': 5953, 'defense': 5954, 'sawtooth': 5955, 'escapes': 5956, 'ledoux': 5957, 'nurse': 5958, 'tells': 5959, 'divergent': 5960, 'throwing': 5961, 'gill': 5962, 'cretan': 5963, 'welch': 5964, 'parton': 5965, 'mirrored': 5966, 'heavens': 5967, 'woodchuck': 5968, 'chuck': 5969, 'layhigh': 5970, 'forrecast': 5971, 'kes': 5972, 'brookdale': 5973, 'placers': 5974, 'sheriff': 5975, 'universum': 5976, 'montchanin': 5977, 'ricardo': 5978, 'villalobos': 5979, 'successful': 5980, 'dealmaking': 5981, 'irving': 5982, 'carvel': 5983, 'boners': 5984, 'amrithavaahini': 5985, 'gor': 5986, 'cuney': 5987, 'kettleman': 5988, 'yoakum': 5989, 'lachman': 5990, 'albino': 5991, 'blacksheep': 5992, 'development': 5993, 'perspectives': 5994, 'yearbook': 5995, 'ignacio': 5996, 'figueredo': 5997, 'bowlegs': 5998, 'tapper': 5999, 'zukie': 6000, 'martinez': 6001, 'probes': 6002, 'taneyamagahara': 6003, 'redby': 6004, 'jo': 6005, 'bruno': 6006, 'swat': 6007, 'het': 6008, 'liefde': 6009, 'gaat': 6010, 'octagon': 6011, 'christchurch': 6012, 'bud': 6013, 'mole': 6014, 'roxy': 6015, 'salads': 6016, 'bronco': 6017, 'coaldale': 6018, 'compleat': 6019, 'housewife': 6020, 'testing': 6021, 'bhutto': 6022, 'mausoleum': 6023, 'conflicts': 6024, 'thunderbolt': 6025, 'bhoot': 6026, 'spade': 6027, 'breaux': 6028, 'olive': 6029, 'hocking': 6030, 'eather': 6031, 'coyote': 6032, 'pad': 6033, 'oshin': 6034, 'dyke': 6035, 'calipuy': 6036, 'wideacre': 6037, 'monique': 6038, 'twas': 6039, 'tatar': 6040, 'moravian': 6041, 'germantown': 6042, 'vernon': 6043, 'suus': 6044, 'freakbeat': 6045, 'hollows': 6046, 'kearney': 6047, 'museum': 6048, 'mabel': 6049, 'dramatic': 6050, 'career': 6051, 'cityzen': 6052, 'stanford': 6053, 'biology': 6054, 'issues': 6055, 'approach': 6056, 'hewitt': 6057, 'prescription': 6058, 'mysteries': 6059, 'administration': 6060, 'grecian': 6061, 'moribund': 6062, 'burgermeister': 6063, 'shades': 6064, 'drums': 6065, 'deaths': 6066, 'elvis': 6067, 'maritime': 6068, 'coffins': 6069, 'iemand': 6070, 'jij': 6071, 'glarus': 6072, 'homestead': 6073, 'meadows': 6074, 'nora': 6075, 'hwang': 6076, 'perseo': 6077, 'thousands': 6078, 'honourable': 6079, 'blogbridge': 6080, 'steward': 6081, 'reviews': 6082, 'genetics': 6083, 'salami': 6084, 'bastian': 6085, 'ottoville': 6086, 'martyr': 6087, 'andrea': 6088, 'blythewood': 6089, 'cahoots': 6090, 'unbelievable': 6091, 'grocery': 6092, 'idledale': 6093, 'selma': 6094, 'mcsherrystown': 6095, 'bearmouth': 6096, 'monro': 6097, 'fanatic': 6098, 'orienta': 6099, 'tiplersville': 6100, 'fulton': 6101, 'adele': 6102, 'krieg': 6103, 'chinatown': 6104, 'monk': 6105, 'bt': 6106, 'peggy': 6107, 'sue': 6108, 'marcie': 6109, 'clink': 6110, 'defenestration': 6111, 'ermintrude': 6112, 'inch': 6113, 'fondo': 6114, 'buio': 6115, 'brady': 6116, 'copper': 6117, 'hoonah': 6118, 'childersburg': 6119, 'prey': 6120, 'prosser': 6121, 'montverde': 6122, 'burr': 6123, 'unwelcome': 6124, 'insurrection': 6125, 'phinizy': 6126, 'basic': 6127, 'due': 6128, 'wyandotte': 6129, 'racketeers': 6130, 'pedro': 6131, 'navaja': 6132, 'interview': 6133, 'chirping': 6134, 'crickets': 6135, 'hicks': 6136, 'portal': 6137, 'chichi': 6138, 'antelope': 6139, 'spots': 6140, 'exodus': 6141, 'gd': 6142, 'osmanthus': 6143, 'pet': 6144, 'cairo': 6145, 'zoo': 6146, 'godmusic': 6147, 'chatmoss': 6148, 'jailbird': 6149, 'otis': 6150, 'dekalb': 6151, 'danni': 6152, 'bassan': 6153, 'mizuki': 6154, 'fighter': 6155, 'interesting': 6156, 'pablo': 6157, 'marin': 6158, 'gandhi': 6159, 'butcher': 6160, 'paella': 6161, 'roseland': 6162, 'sifow': 6163, 'prentice': 6164, 'notasulga': 6165, 'irvine': 6166, 'harris': 6167, 'dynasties': 6168, 'statue': 6169, 'fake': 6170, 'moody': 6171, 'deloris': 6172, 'ester': 6173, 'crofton': 6174, 'irene': 6175, 'rosella': 6176, 'iwers': 6177, 'cozy': 6178, 'pe': 6179, 'zwanzig': 6180, 'zw': 6181, 'lf': 6182, 'skylar': 6183, 'diggins': 6184, 'concrete': 6185, 'crucible': 6186, 'hinckley': 6187, 'somis': 6188, 'bashful': 6189, 'oswald': 6190, 'keisha': 6191, 'twitches': 6192, 'sumner': 6193, 'suns': 6194, 'jessie': 6195, 'lupe': 6196, 'unbeatable': 6197, 'harold': 6198, 'peninsula': 6199, 'woodston': 6200, 'katina': 6201, 'economy': 6202, 'gamaliel': 6203, 'kelso': 6204, 'princes': 6205, 'snares': 6206, 'garfunkel': 6207, 'catchphrase': 6208, 'motivation': 6209, 'watauga': 6210, 'knockabout': 6211, 'clermont': 6212, 'workin': 6213, 'quintet': 6214, 'appalachian': 6215, 'tennyson': 6216, 'gravity': 6217, 'pump': 6218, 'whittier': 6219, 'indigenous': 6220, 'ramy': 6221, 'ayach': 6222, 'cretu': 6223, 'sport': 6224, 'pastime': 6225, 'cordell': 6226, 'mosson': 6227, 'sandman': 6228, 'crocus': 6229, 'boca': 6230, 'raton': 6231, 'snows': 6232, 'kilimanjaro': 6233, 'tenbrooks': 6234, 'beatmaster': 6235, 'annihilated': 6236, 'treader': 6237, 'timerider': 6238, 'lyle': 6239, 'swann': 6240, 'ambient': 6241, 'jolley': 6242, 'performance': 6243, 'terminator': 6244, 'incomplete': 6245, 'soapsuds': 6246, 'sapheads': 6247, 'piskies': 6248, 'cornish': 6249, 'sai': 6250, 'thong': 6251, 'guyra': 6252, 'odetta': 6253, 'steady': 6254, 'pictures': 6255, 'watchman': 6256, 'vadivel': 6257, 'rainelle': 6258, 'eylem': 6259, 'piqua': 6260, 'dressed': 6261, 'towel': 6262, 'whistler': 6263, 'pollock': 6264, 'mclean': 6265, 'soultaker': 6266, 'guanica': 6267, 'decides': 6268, 'penelopiad': 6269, 'marx': 6270, 'emptiness': 6271, 'deviled': 6272, 'ives': 6273, 'alger': 6274, 'placed': 6275, 'swing': 6276, 'pheba': 6277, 'snowman': 6278, 'movietimes': 6279, 'intrigue': 6280, 'laid': 6281, 'battleaxe': 6282, 'twist': 6283, 'chorus': 6284, 'swordsman': 6285, 'chong': 6286, 'spread': 6287, 'gospel': 6288, 'tristan': 6289, 'betrayal': 6290, 'ion': 6291, 'gobles': 6292, 'collision': 6293, 'tragedy': 6294, 'buick': 6295, 'kitchin': 6296, 'caxtons': 6297, 'reestaurant': 6298, 'enemies': 6299, 'pediatric': 6300, 'oncology': 6301, 'nursing': 6302, 'strauss': 6303, 'leaps': 6304, 'wang': 6305, 'lun': 6306, 'conway': 6307, 'twitty': 6308, 'doves': 6309, 'pythons': 6310, 'milas': 6311, 'poli': 6312, 'wendy': 6313, 'scholarmate': 6314, 'soulblighter': 6315, 'raz': 6316, 'moores': 6317, 'solromar': 6318, 'polite': 6319, 'scampi': 6320, 'karol': 6321, 'pope': 6322, 'bonneville': 6323, 'ripper': 6324, 'begums': 6325, 'thugs': 6326, 'mughals': 6327, 'technicolor': 6328, 'apothecary': 6329, 'rx': 6330, 'ringlestone': 6331, 'lemonheads': 6332, 'birta': 6333, 'brew': 6334, 'zahn': 6335, 'feminist': 6336, 'venice': 6337, 'raffaele': 6338, 'riefoli': 6339, 'players': 6340, 'hornblower': 6341, 'indies': 6342, 'onward': 6343, 'decoded': 6344, 'langdon': 6345, 'solution': 6346, 'harveysburg': 6347, 'nathaniel': 6348, 'fludd': 6349, 'beastologist': 6350, 'whiskey': 6351, 'waffle': 6352, 'plankinton': 6353, 'glam': 6354, 'satan': 6355, 'carpet': 6356, 'georges': 6357, 'transmission': 6358, 'alejandro': 6359, 'ndez': 6360, 'pearblossom': 6361, 'ankimo': 6362, 'twentysomething': 6363, 'roach': 6364, 'beavis': 6365, 'butt': 6366, 'gilgamesh': 6367, 'irritating': 6368, 'crooked': 6369, 'windsor': 6370, 'carlisle': 6371, 'swarna': 6372, 'trishna': 6373, 'playinh': 6374, 'entry': 6375, 'beau': 6376, 'sapin': 6377, 'lela': 6378, 'achilles': 6379, 'tortoise': 6380, 'inspector': 6381, 'mamie': 6382, 'fisk': 6383, 'bilingualism': 6384, 'boiling': 6385, 'hickerson': 6386, 'crossings': 6387, 'inflated': 6388, 'canfield': 6389, 'tramp': 6390, 'order': 6391, 'cup': 6392, 'winner': 6393, 'tetsuya': 6394, 'komuro': 6395, 'hutchinson': 6396, 'amal': 6397, 'hijazi': 6398, 'musiri': 6399, 'subramania': 6400, 'iyer': 6401, 'bombshells': 6402, 'moss': 6403, 'flaxton': 6404, 'sailor': 6405, 'supers': 6406, 'nhl': 6407, 'nimba': 6408, 'ambler': 6409, 'iconic': 6410, 'photographer': 6411, 'dennis': 6412, 'stock': 6413, 'resort': 6414, 'dollar': 6415, 'tschetter': 6416, 'drift': 6417, 'unmooring': 6418, 'ferrer': 6419, 'divided': 6420, 'wagram': 6421, 'muffuletta': 6422, 'unsettled': 6423, 'sahuarita': 6424, 'pulaski': 6425, 'lilacs': 6426, 'vikku': 6427, 'vinayakram': 6428, 'mccready': 6429, 'christian': 6430, 'susana': 6431, 'salmon': 6432, 'pekin': 6433, 'raytown': 6434, 'hugh': 6435, 'masekela': 6436, 'ibiza': 6437, 'ties': 6438, 'bind': 6439, 'colored': 6440, 'jappeloup': 6441, 'natchaug': 6442, 'asiate': 6443, 'sturgeon': 6444, 'runs': 6445, 'drawn': 6446, 'athol': 6447, 'raise': 6448, 'escondida': 6449, 'ninaview': 6450, 'bulat': 6451, 'schalwowitsch': 6452, 'okudschawa': 6453, 'nimule': 6454, 'dales': 6455, 'farnworth': 6456, 'saracens': 6457, 'dement': 6458, 'arsho': 6459, 'bowman': 6460, 'peddling': 6461, 'prosperity': 6462, 'deathlord': 6463, 'ixia': 6464, 'divorce': 6465, 'recent': 6466, 'censored': 6467, 'decoding': 6468, 'donuts': 6469, 'innocence': 6470, 'preminchi': 6471, 'choodu': 6472, 'bailey': 6473, 'iparty': 6474, 'victorious': 6475, 'attell': 6476, 'mcmurray': 6477, 'marjorie': 6478, 'martina': 6479, 'heresy': 6480, 'choir': 6481, 'cyborg': 6482, 'joyful': 6483, 'nichols': 6484, 'olivet': 6485, 'merced': 6486, 'empty': 6487, 'hybla': 6488, 'spectres': 6489, 'dodgers': 6490, 'lynn': 6491, 'thug': 6492, 'lordz': 6493, 'lpaying': 6494, 'hominids': 6495, 'gustar': 6496, 'glue': 6497, 'coventry': 6498, 'meeting': 6499, 'unpleasantness': 6500, 'bellona': 6501, 'selva': 6502, 'jedediah': 6503, 'yakima': 6504, 'rusty': 6505, 'otselic': 6506, 'cathedral': 6507, 'restasurant': 6508, 'pohick': 6509, 'thomson': 6510, 'lower': 6511, 'calientes': 6512, 'descanso': 6513, 'infinito': 6514, 'kaffir': 6515, 'birdsong': 6516, 'bleeding': 6517, 'nude': 6518, 'unknown': 6519, 'sreekumar': 6520, 'laidback': 6521, 'transcending': 6522, 'worldly': 6523, 'goods': 6524, 'stethoscope': 6525, 'rak': 6526, 'biszewilo': 6527, 'killers': 6528, 'suu': 6529, 'commitments': 6530, 'cancelled': 6531, 'ecru': 6532, 'bigger': 6533, 'mediod': 6534, 'ac': 6535, 'stico': 6536, 'hamburger': 6537, 'wake': 6538, 'putesky': 6539, 'bouch': 6540, 'satisfaction': 6541, 'deepwater': 6542, 'reservea': 6543, 'hahntown': 6544, 'accion': 6545, 'ghetto': 6546, 'emerald': 6547, 'meast': 6548, 'leeuwen': 6549, 'badonviller': 6550, 'proud': 6551, 'inthanon': 6552, 'vacation': 6553, 'petrov': 6554, 'vasechkin': 6555, 'holtwood': 6556, 'construction': 6557, 'committee': 6558, 'sammet': 6559, 'gentleman': 6560, 'linnane': 6561, 'schenker': 6562, 'antisleep': 6563, 'coulee': 6564, 'insert': 6565, 'bethesda': 6566, 'scars': 6567, 'tisdale': 6568, 'yma': 6569, 'sumac': 6570, 'matriarchal': 6571, 'prehistory': 6572, 'gene': 6573, 'roscoff': 6574, 'policemen': 6575, 'mothers': 6576, 'proof': 6577, 'daphne': 6578, 'horn': 6579, 'chemdex': 6580, 'neutral': 6581, 'totsuzen': 6582, 'accident': 6583, 'analysis': 6584, 'prevention': 6585, 'loogootee': 6586, 'inheritors': 6587, 'mashed': 6588, 'pumpkin': 6589, 'jono': 6590, 'crazysexycool': 6591, 'burnside': 6592, 'petree': 6593, 'ringside': 6594, 'haugan': 6595, 'madman': 6596, 'blaydon': 6597, 'races': 6598, 'cter': 6599, 'aree': 6600, 'poneto': 6601, 'compiled': 6602, 'fragments': 6603, 'parthenon': 6604, 'pizzette': 6605, 'duxbury': 6606, 'civilization': 6607, 'diabolico': 6608, 'barbiere': 6609, 'fleet': 6610, 'decoration': 6611, 'houses': 6612, 'mummy': 6613, 'cortelyou': 6614, 'mathematical': 6615, 'anatone': 6616, 'chieko': 6617, 'ochi': 6618, 'spencer': 6619, 'checkmate': 6620, 'chowder': 6621, 'wentworth': 6622, 'sit': 6623, 'incredible': 6624, 'hulk': 6625, 'choucroute': 6626, 'palmyra': 6627, 'nassau': 6628, 'lamentable': 6629, 'omaha': 6630, 'bigelow': 6631, 'impenetrable': 6632, 'loisaida': 6633, 'jungle': 6634, 'ojo': 6635, 'amarillo': 6636, 'wadsworth': 6637, 'conshohocken': 6638, 'vegucated': 6639, 'cause': 6640, 'gutting': 6641, 'couffignal': 6642, 'graf': 6643, 'kin': 6644, 'hubbell': 6645, 'handle': 6646, 'ticks': 6647, 'migration': 6648, 'fuca': 6649, 'ram': 6650, 'alexander': 6651, 'thornbury': 6652, 'magician': 6653, 'critical': 6654, 'soundscape': 6655, 'expansion': 6656, 'adela': 6657, 'hallam': 6658, 'goethe': 6659, 'fencing': 6660, 'pembina': 6661, 'gorge': 6662, 'rule': 6663, 'janell': 6664, 'mulawin': 6665, 'yankee': 6666, 'bachelors': 6667, 'seasons': 6668, 'skid': 6669, 'tanya': 6670, 'stephens': 6671, 'luambe': 6672, 'wits': 6673, 'spooks': 6674, 'addo': 6675, 'elefanten': 6676, 'zena': 6677, 'passover': 6678, 'rila': 6679, 'tate': 6680, 'tiffany': 6681, 'aboriginal': 6682, 'folio': 6683, 'novels': 6684, 'barometer': 6685, 'lunchbox': 6686, 'rochelle': 6687, 'basaseachic': 6688, 'whisperer': 6689, 'touches': 6690, 'parry': 6691, 'sittor': 6692, 'shawnna': 6693, 'breckenridge': 6694, 'yury': 6695, 'chernavsky': 6696, 'afdlin': 6697, 'shauki': 6698, 'deasy': 6699, 'neon': 6700, 'satanas': 6701, 'legions': 6702, 'heterocycles': 6703, 'tyresta': 6704, 'delanson': 6705, 'burnout': 6706, 'drag': 6707, 'lecanto': 6708, 'tivington': 6709, 'nott': 6710, 'dewey': 6711, 'rockport': 6712, 'olives': 6713, 'edesville': 6714, 'flossmoor': 6715, 'frybread': 6716, 'expendables': 6717, 'stehekin': 6718, 'ifind': 6719, 'heyy': 6720, 'babyy': 6721, 'pruntytown': 6722, 'magnifico': 6723, 'surfer': 6724, 'topton': 6725, 'chatyrkul': 6726, 'padangnese': 6727, 'vinyl': 6728, 'notebooks': 6729, 'julia': 6730, 'fordham': 6731, 'wiggs': 6732, 'competitors': 6733, 'tsubasa': 6734, 'imai': 6735, 'stansbury': 6736, 'moosic': 6737, 'yseult': 6738, 'kaitlin': 6739, 'cawker': 6740, 'brief': 6741, 'albertson': 6742, 'restaurantin': 6743, 'perrytown': 6744, 'candice': 6745, 'nichole': 6746, 'mineola': 6747, 'clean': 6748, 'sober': 6749, 'wallis': 6750, 'futuna': 6751, 'sioux': 6752, 'groundhog': 6753, 'megon': 6754, 'mcdonough': 6755, 'slackers': 6756, 'wow': 6757, 'bandits': 6758, 'maylay': 6759, 'gasport': 6760, 'wheeler': 6761, 'agincourt': 6762, 'owes': 6763, 'standing': 6764, 'lottery': 6765, 'trenton': 6766, 'nico': 6767, 'christine': 6768, 'foreclosure': 6769, 'sixpence': 6770, 'hadar': 6771, 'manxman': 6772, 'albini': 6773, 'histoire': 6774, 'musgrave': 6775, 'barnard': 6776, 'ora': 6777, 'tania': 6778, 'waverly': 6779, 'umatilla': 6780, 'dry': 6781, 'prong': 6782, 'reason': 6783, 'tieghem': 6784, 'canci': 6785, 'observations': 6786, 'orson': 6787, 'mcclinton': 6788, 'vivian': 6789, 'sinclair': 6790, 'opera': 6791, 'kerry': 6792, 'magdalena': 6793, 'westernport': 6794, 'flipper': 6795, 'isthmus': 6796, 'remote': 6797, 'scoundrels': 6798, 'kalino': 6799, 'mome': 6800, 'towne': 6801, 'chief': 6802, 'papa': 6803, 'bue': 6804, 'kitlope': 6805, 'conservancy': 6806, 'quotations': 6807, 'chairman': 6808, 'mao': 6809, 'tse': 6810, 'tung': 6811, 'trivial': 6812, 'princeton': 6813, 'chalkyitsik': 6814, 'measuring': 6815, 'tenacious': 6816, 'pick': 6817, 'kepler': 6818, 'workflow': 6819, 'madera': 6820, 'teahouse': 6821, 'xena': 6822, 'olympus': 6823, 'goldy': 6824, 'mcjohn': 6825, 'nikki': 6826, 'christianity': 6827, 'thor': 6828, 'jets': 6829, 'gonna': 6830, 'lawyer': 6831, 'ginestrata': 6832, 'wrestlemania': 6833, 'clutching': 6834, 'variation': 6835, 'plants': 6836, 'domestication': 6837, 'tango': 6838, 'durant': 6839, 'testaroli': 6840, 'methuen': 6841, 'krista': 6842, 'chab': 6843, 'utopian': 6844, 'kom': 6845, 'silly': 6846, 'messengers': 6847, 'volubilis': 6848, 'expressive': 6849, 'processing': 6850, 'jukebox': 6851, 'boogie': 6852, 'ballantrae': 6853, 'searchlights': 6854, 'demotte': 6855, 'blackberry': 6856, 'romagna': 6857, 'naughty': 6858, 'jonny': 6859, 'buckland': 6860, 'widows': 6861, 'tschaikovsky': 6862, 'trust': 6863, 'worship': 6864, 'moen': 6865, 'timberville': 6866, 'plkaying': 6867, 'fernando': 6868, 'worthington': 6869, 'none': 6870, 'kakko': 6871, 'omnipresent': 6872, 'coteau': 6873, 'hears': 6874, 'cie': 6875, 'caseya': 6876, 'spaghetti': 6877, 'warehouse': 6878, 'catalina': 6879, 'delores': 6880, 'brandie': 6881, 'greyest': 6882, 'alexandria': 6883, 'plying': 6884, 'wildreservaat': 6885, 'ithala': 6886, 'cyclone': 6887, 'brookland': 6888, 'bed': 6889, 'bradenton': 6890, 'katharine': 6891, 'maisry': 6892, 'hurstville': 6893, 'lacy': 6894, 'wand': 6895, 'coach': 6896, 'luxor': 6897, 'etna': 6898, 'photographic': 6899, 'squared': 6900, 'lofgreen': 6901, 'sardonic': 6902, 'wrath': 6903, 'monte': 6904, 'sereno': 6905, 'jalal': 6906, 'zolfonun': 6907, 'seattle': 6908, 'consequences': 6909, 'tapes': 6910, 'kaanapali': 6911, 'swedish': 6912, 'butler': 6913, 'already': 6914, 'pt': 6915, 'keystone': 6916, 'kops': 6917, 'stunt': 6918, 'jeremy': 6919, 'fisher': 6920, 'ate': 6921, 'mattawan': 6922, 'appreciation': 6923, 'experienced': 6924, 'embrace': 6925, 'budokan': 6926, 'farmingdale': 6927, 'noses': 6928, 'mrs': 6929, 'criminal': 6930, 'criminology': 6931, 'nun': 6932, 'kellnersville': 6933, 'leave': 6934, 'needing': 6935, 'beatrice': 6936, 'blasko': 6937, 'ulterior': 6938, 'motive': 6939, 'brokeback': 6940, 'iroquois': 6941, 'gougoush': 6942, 'hippocratic': 6943, 'szahram': 6944, 'nazeri': 6945, 'junkies': 6946, 'nairobi': 6947, 'meltdown': 6948, 'destruction': 6949, 'nanette': 6950, 'cancer': 6951, 'principii': 6952, 'evangelikum': 6953, 'broonzy': 6954, 'tkk': 6955, 'yuchun': 6956, 'pixley': 6957, 'kristina': 6958, 'conrad': 6959, 'kentuckians': 6960, 'fancy': 6961, 'highest': 6962, 'oldfield': 6963, 'estela': 6964, 'eddy': 6965, 'duchin': 6966, 'canto': 6967, 'gypsy': 6968, 'waxhaw': 6969, 'crucial': 6970, 'guenther': 6971, 'waddy': 6972, 'munawar': 6973, 'lighthouse': 6974, 'berville': 6975, 'wastedagain': 6976, 'mint': 6977, 'radnor': 6978, 'noone': 6979, 'cracked': 6980, 'severe': 6981, 'tailspin': 6982, 'later': 6983, 'miso': 6984, 'smolan': 6985, 'tehama': 6986, 'fools': 6987, 'xquery': 6988, 'api': 6989, 'java': 6990, 'lu': 6991, 'bing': 6992, 'ana': 6993, 'vicky': 6994, 'leandros': 6995, 'witches': 6996, 'demolished': 6997, 'alisha': 6998, 'florine': 6999, 'carmel': 7000, 'moving': 7001, 'faithless': 7002, 'grisdale': 7003, 'canarsie': 7004, 'parkway': 7005, 'bennington': 7006, 'orchestrion': 7007, 'tar': 7008, 'midwest': 7009, 'childhood': 7010, 'awaiting': 7011, 'weird': 7012, 'lovecraftian': 7013, 'fictions': 7014, 'hurry': 7015, 'sabah': 7016, 'hangtown': 7017, 'jagual': 7018, 'fairwood': 7019, 'donnie': 7020, 'izuna': 7021, 'unemployed': 7022, 'ninja': 7023, 'vanquished': 7024, 'chouse': 7025, 'rocksprings': 7026, 'chelsea': 7027, 'porphyry': 7028, 'umbrellas': 7029, 'cherbourg': 7030, 'ultima': 7031, 'xanadu': 7032, 'alex': 7033, 'gaudino': 7034, 'ch': 7035, 'shawna': 7036, 'lizzie': 7037, 'histoires': 7038, 'sans': 7039, 'paroles': 7040, 'abstinence': 7041, 'maquoketa': 7042, 'primal': 7043, 'brochure': 7044, 'soil': 7045, 'ottumwa': 7046, 'mir': 7047, 'emmons': 7048, 'coxs': 7049, 'ramble': 7050, 'sergeants': 7051, 'iene': 7052, 'miene': 7053, 'mutte': 7054, 'aria': 7055, 'rixford': 7056, 'custar': 7057, 'nib': 7058, 'fay': 7059, 'shavuot': 7060, 'branded': 7061, 'q': 7062, 'scarab': 7063, 'murder': 7064, 'kropp': 7065, 'bushkill': 7066, 'leap': 7067, 'lorain': 7068, 'akers': 7069, 'tortuga': 7070, 'nuestros': 7071, 'schemer': 7072, 'moldy': 7073, 'dombey': 7074, 'brandon': 7075, 'heroquest': 7076, 'sorasil': 7077, 'wolcott': 7078, 'putting': 7079, 'gibbs': 7080, 'pussyfoot': 7081, 'warheart': 7082, 'dawning': 7083, 'hardinsburg': 7084, 'dubach': 7085, 'wauregan': 7086, 'suitcase': 7087, 'cater': 7088, 'sloane': 7089, 'tobymac': 7090, 'poets': 7091, 'novelists': 7092, 'heartbeat': 7093, 'weathervane': 7094, 'tuesday': 7095, 'rendezvous': 7096, 'kaakai': 7097, 'shuffle': 7098, 'class': 7099, 'freiberg': 7100, 'cult': 7101, 'opium': 7102, 'talking': 7103, 'thale': 7104, 'roxbox': 7105, 'apshawa': 7106, 'dumplings': 7107, 'nokia': 7108, 'lafitte': 7109, 'brazen': 7110, 'hecker': 7111, 'remixed': 7112, 'trigorin': 7113, 'fri': 7114, 'casualties': 7115, 'firewall': 7116, 'pro': 7117, 'bunker': 7118, 'tzle': 7119, 'somwhere': 7120, 'nightmares': 7121, 'shallow': 7122, 'hover': 7123, 'racer': 7124, 'grainola': 7125, 'jacobsburg': 7126, 'demon': 7127, 'warlock': 7128, 'doctrine': 7129, 'bolsa': 7130, 'chica': 7131, 'lindsey': 7132, 'cardinale': 7133, 'valor': 7134, 'cochrane': 7135, 'unconscious': 7136, 'scouse': 7137, 'mokena': 7138, 'debtors': 7139, 'souza': 7140, 'femme': 7141, 'fatale': 7142, 'slept': 7143, 'rum': 7144, 'denial': 7145, 'danville': 7146, 'enduser': 7147, 'leonor': 7148, 'imogene': 7149, 'sanchez': 7150, 'eulogy': 7151, 'grab': 7152, 'oriel': 7153, 'allison': 7154, 'brandy': 7155, 'chan': 7156, 'whee': 7157, 'zenda': 7158, 'serendipity': 7159, 'veyo': 7160, 'beam': 7161, 'atari': 7162, 'cusinie': 7163, 'aioli': 7164, 'unlimited': 7165, 'comeback': 7166, 'dicey': 7167, 'geographic': 7168, 'aerial': 7169, 'stuff': 7170, 'gillan': 7171, 'conehatta': 7172, 'consciousness': 7173, 'amenia': 7174, 'mango': 7175, 'bidoup': 7176, 'web': 7177, 'saratoga': 7178, 'germfask': 7179, 'pauls': 7180, 'cracking': 7181, 'contraptions': 7182, 'winnfield': 7183, 'ammunition': 7184, 'tasher': 7185, 'desh': 7186, 'libros': 7187, 'bien': 7188, 'acompa': 7189, 'ado': 7190, 'ende': 7191, 'precinct': 7192, 'trop': 7193, 'zienne': 7194, 'important': 7195, 'harding': 7196, 'lavender': 7197, 'visible': 7198, 'andes': 7199, 'idea': 7200, 'sonntag': 7201, 'creed': 7202, 'beroun': 7203, 'bamboccioni': 7204, 'scattered': 7205, 'bodies': 7206, 'scarred': 7207, 'archie': 7208, 'formby': 7209, 'dresbach': 7210, 'bernie': 7211, 'hatfield': 7212, 'branch': 7213, 'noew': 7214, 'dundee': 7215, 'returned': 7216, 'itsu': 7217, 'eva': 7218, 'ansonia': 7219, 'orpheus': 7220, 'ragged': 7221, 'curtain': 7222, 'gradyville': 7223, 'maschi': 7224, 'altri': 7225, 'lihula': 7226, 'ritchey': 7227, 'panther': 7228, 'winterheart': 7229, 'guild': 7230, 'freund': 7231, 'yellowstone': 7232, 'kinder': 7233, 'brush': 7234, 'indiahoma': 7235, 'policeman': 7236, 'chariot': 7237, 'inquiry': 7238, 'maimi': 7239, 'yajima': 7240, 'yangtze': 7241, 'sight': 7242, 'profile': 7243, 'midfield': 7244, 'broke': 7245, 'classes': 7246, 'sonya': 7247, 'lansford': 7248, 'kindness': 7249, 'lease': 7250, 'addition': 7251, 'enjoy': 7252, 'barre': 7253, 'ichiby': 7254, 'goto': 7255, 'gaddar': 7256, 'wyomissing': 7257, 'marie': 7258, 'slippery': 7259, 'gober': 7260, 'execution': 7261, 'shambaugh': 7262, 'ek': 7263, 'boond': 7264, 'eternally': 7265, 'sunil': 7266, 'santha': 7267, 'twins': 7268, 'breakheart': 7269, 'kryptonite': 7270, 'careless': 7271, 'sorry': 7272, 'vigilantes': 7273, 'meherrin': 7274, 'breasts': 7275, 'hips': 7276, 'collide': 7277, 'cienega': 7278, 'dickey': 7279, 'betts': 7280, 'harbour': 7281, 'rattus': 7282, 'roundhouse': 7283, 'crafty': 7284, 'clifton': 7285, 'forge': 7286, 'dock': 7287, 'carmichaels': 7288, 'shagrath': 7289, 'brucetown': 7290, 'smear': 7291, 'ircle': 7292, 'intimidators': 7293, 'melancholy': 7294, 'demolition': 7295, 'donaldson': 7296, 'erica': 7297, 'aransas': 7298, 'curry': 7299, 'toklas': 7300, 'beda': 7301, 'heredity': 7302, 'field': 7303, 'ismol': 7304, 'calakmul': 7305, 'garrochales': 7306, 'bedford': 7307, 'lehman': 7308, 'ganges': 7309, 'homo': 7310, 'handbook': 7311, 'saba': 7312, 'lewisville': 7313, 'wimpy': 7314, 'dared': 7315, 'scribblings': 7316, 'prejudice': 7317, 'farewell': 7318, 'wannadies': 7319, 'uli': 7320, 'derickson': 7321, 'dresden': 7322, 'funtwo': 7323, 'wooly': 7324, 'perception': 7325, 'neverbeast': 7326, 'vaughn': 7327, 'walpole': 7328, 'califon': 7329, 'tallahassee': 7330, 'marks': 7331, 'lohan': 7332, 'upcoming': 7333, 'lantern': 7334, 'faccetta': 7335, 'nera': 7336, 'lochearn': 7337, 'grandson': 7338, 'aquariums': 7339, 'pyongyang': 7340, 'mailroom': 7341, 'print': 7342, 'baotianman': 7343, 'phenomenological': 7344, 'wolves': 7345, 'dogs': 7346, 'wash': 7347, 'becharof': 7348, 'conquest': 7349, 'clontarf': 7350, 'hendley': 7351, 'cobain': 7352, 'nations': 7353, 'creator': 7354, 'percy': 7355, 'jackson': 7356, 'santana': 7357, 'performs': 7358, 'twisted': 7359, 'minidoka': 7360, 'glamour': 7361, 'unexpected': 7362, 'elgin': 7363, 'schoolhouse': 7364, 'romain': 7365, 'courtship': 7366, 'leia': 7367, 'tender': 7368, 'cordon': 7369, 'bleu': 7370, 'mackville': 7371, 'zephyrhills': 7372, 'discipline': 7373, 'beatmania': 7374, 'iidx': 7375, 'bibb': 7376, 'structured': 7377, 'fax': 7378, 'file': 7379, 'floors': 7380, 'faint': 7381, 'tira': 7382, 'jenny': 7383, 'dancepop': 7384, 'tarkan': 7385, 'madrugando': 7386, 'lonergan': 7387, 'cho': 7388, 'kyu': 7389, 'beverley': 7390, 'exira': 7391, 'oysters': 7392, 'rockefeller': 7393, 'sturgis': 7394, 'patiala': 7395, 'minutos': 7396, 'coin': 7397, 'charlene': 7398, 'dutchess': 7399, 'shorty': 7400, 'profil': 7401, 'amina': 7402, 'ulen': 7403, 'boonton': 7404, 'marcia': 7405, 'carolus': 7406, 'beech': 7407, 'cebu': 7408, 'franj': 7409, 'nordland': 7410, 'positively': 7411, 'henlopen': 7412, 'millvale': 7413, 'roel': 7414, 'velzen': 7415, 'tailwind': 7416, 'berkley': 7417, 'mccoll': 7418, 'hive': 7419, 'propolis': 7420, 'ljubam': 7421, 'loyalty': 7422, 'milladore': 7423, 'elisabeth': 7424, 'palying': 7425, 'germania': 7426, 'comprehensive': 7427, 'pax': 7428, 'kurious': 7429, 'jorge': 7430, 'lora': 7431, 'tonga': 7432, 'howard': 7433, 'resource': 7434, 'thinking': 7435, 'joey': 7436, 'fatone': 7437, 'keene': 7438, 'monks': 7439, 'thelema': 7440, 'fool': 7441, 'miguel': 7442, 'bos': 7443, 'semenovich': 7444, 'karthaus': 7445, 'script': 7446, 'mer': 7447, 'kimberley': 7448, 'emanuel': 7449, 'kiriakou': 7450, 'fro': 7451, 'cage': 7452, 'khao': 7453, 'phanom': 7454, 'bencha': 7455, 'dallesport': 7456, 'microphone': 7457, 'palmview': 7458, 'manorama': 7459, 'feet': 7460, 'camel': 7461, 'fascism': 7462, 'gentle': 7463, 'resurrection': 7464, 'distrowatch': 7465, 'located': 7466, 'moron': 7467, 'carnik': 7468, 'mariem': 7469, 'hassan': 7470, 'leyoad': 7471, 'jil': 7472, 'sealy': 7473, 'cropper': 7474, 'envoy': 7475, 'lucifer': 7476, 'knoblock': 7477, 'doch': 7478, 'tsu': 7479, 'bretton': 7480, 'sympathy': 7481, 'magica': 7482, 'cobbler': 7483, 'taberville': 7484, 'betances': 7485, 'geoff': 7486, 'ryman': 7487, 'bibliography': 7488, 'wise': 7489, 'darth': 7490, 'maul': 7491, 'mood': 7492, 'moto': 7493, 'borrowed': 7494, 'ithkar': 7495, 'pidcoke': 7496, 'steele': 7497, 'bullfeathers': 7498, 'capture': 7499, 'monifah': 7500, 'lidia': 7501, 'latasha': 7502, 'topock': 7503, 'abolition': 7504, 'brats': 7505, 'battalions': 7506, 'trapper': 7507, 'psycho': 7508, 'hokendauqua': 7509, 'nankin': 7510, 'agnew': 7511, 'extremely': 7512, 'priscilla': 7513, 'bellwood': 7514, 'ferret': 7515, 'othappu': 7516, 'unnaturals': 7517, 'pecan': 7518, 'travis': 7519, 'madchild': 7520, 'espn': 7521, 'soccer': 7522, 'cherwell': 7523, 'boathouse': 7524, 'gyrls': 7525, 'holla': 7526, 'flake': 7527, 'fabes': 7528, 'niobrara': 7529, 'erika': 7530, 'fran': 7531, 'shmini': 7532, 'atzeret': 7533, 'lavalette': 7534, 'narodowy': 7535, 'kushiro': 7536, 'shitsugen': 7537, 'bishop': 7538, 'josie': 7539, 'carissa': 7540, 'lindsay': 7541, 'korona': 7542, 'stolen': 7543, 'galactic': 7544, 'healer': 7545, 'romulus': 7546, 'sabines': 7547, 'ren': 7548, 'toi': 7549, 'purples': 7550, 'spirituals': 7551, 'calistoga': 7552, 'minestrone': 7553, 'trauma': 7554, 'shivers': 7555, 'kuk': 7556, 'harrell': 7557, 'ringgold': 7558, 'public': 7559, 'toilet': 7560, 'cotati': 7561, 'cleo': 7562, 'sompio': 7563, 'koi': 7564, 'senkyo': 7565, 'itv': 7566, 'hair': 7567, 'content': 7568, 'wear': 7569, 'brows': 7570, 'intruders': 7571, 'intersections': 7572, 'owen': 7573, 'pan': 7574, 'reva': 7575, 'bernadine': 7576, 'quadrophenia': 7577, 'alberton': 7578, 'plaine': 7579, 'selinsgrove': 7580, 'edda': 7581, 'curtains': 7582, 'thompsontown': 7583, 'karen': 7584, 'airi': 7585, 'suzuki': 7586, 'tyrant': 7587, 'psychopathic': 7588, 'gurram': 7589, 'exmore': 7590, 'trapaholics': 7591, 'lionheart': 7592, 'convoy': 7593, 'busters': 7594, 'morrison': 7595, 'tera': 7596, 'realm': 7597, 'arborea': 7598, 'candi': 7599, 'staton': 7600, 'am': 7601, 'hubbardston': 7602, 'huxley': 7603, 'calpella': 7604, 'geneva': 7605, 'blacksville': 7606, 'cocco': 7607, 'hush': 7608, 'brownfield': 7609, 'hamorton': 7610, 'mandya': 7611, 'barnum': 7612, 'wielding': 7613, 'kellerton': 7614, 'harper': 7615, 'campanella': 7616, 'noi': 7617, 'lander': 7618, 'murone': 7619, 'gen': 7620, 'argent': 7621, 'culdesac': 7622, 'stanislaus': 7623, 'darling': 7624, 'carlos': 7625, 'cecil': 7626, 'womack': 7627, 'mondamin': 7628, 'bengali': 7629, 'secour': 7630, 'statistical': 7631, 'gota': 7632, 'lille': 7633, 'maunabo': 7634, 'exile': 7635, 'stripes': 7636, 'gurabo': 7637, 'velma': 7638, 'gloria': 7639, 'sonja': 7640, 'recite': 7641, 'portage': 7642, 'botanical': 7643, 'bonn': 7644, 'hooven': 7645, 'convicted': 7646, 'crugers': 7647, 'marlton': 7648, 'circle': 7649, 'ennarukil': 7650, 'irunthal': 7651, 'sebesky': 7652, 'weir': 7653, 'omega': 7654, 'sonata': 7655, 'dwarf': 7656, 'cosmos': 7657, 'selected': 7658, 'lovecraft': 7659, 'hide': 7660, 'almyra': 7661, 'survey': 7662, 'bynum': 7663, 'brenham': 7664, 'apparatus': 7665, 'hale': 7666, 'chen': 7667, 'jiafeng': 7668, 'lacassine': 7669, 'ry': 7670, 'galena': 7671, 'highwayman': 7672, 'rafet': 7673, 'parnell': 7674, 'whistling': 7675, 'closet': 7676, 'burst': 7677, 'foucault': 7678, 'amour': 7679, 'shesher': 7680, 'kobita': 7681, 'revisited': 7682, 'pinckney': 7683, 'meadow': 7684, 'vale': 7685, 'servec': 7686, 'quiche': 7687, 'robotix': 7688, 'ammonia': 7689, 'volga': 7690, 'photoscape': 7691, 'bellechester': 7692, 'pansette': 7693, 'skaneateles': 7694, 'executive': 7695, 'critic': 7696, 'mcisaac': 7697, 'fairchild': 7698, 'ponsonby': 7699, 'earns': 7700, 'tofy': 7701, 'bordertown': 7702, 'northvale': 7703, 'ones': 7704, 'connorville': 7705, 'dobie': 7706, 'gillis': 7707, 'cradle': 7708, 'robbers': 7709, 'premiering': 7710, 'carpathian': 7711, 'ugliness': 7712, 'boden': 7713, 'tembe': 7714, 'fit': 7715, 'benedict': 7716, 'coffin': 7717, 'meaning': 7718, 'tabor': 7719, 'leviathan': 7720, 'sanford': 7721, 'herald': 7722, 'parkers': 7723, 'horseshoe': 7724, 'budapest': 7725, 'beacon': 7726, 'stadium': 7727, 'genola': 7728, 'chuckys': 7729, 'aira': 7730, 'yuhki': 7731, 'turk': 7732, 'weissberg': 7733, 'burkettsville': 7734, 'rhoda': 7735, 'roxanne': 7736, 'viral': 7737, 'semanal': 7738, 'apocalisse': 7739, 'prospect': 7740, 'blaine': 7741, 'submarine': 7742, 'roseville': 7743, 'louisa': 7744, 'corrine': 7745, 'daring': 7746, 'dobermans': 7747, 'lankan': 7748, 'tues': 7749, 'persistence': 7750, 'vision': 7751, 'kackley': 7752, 'edgemoor': 7753, 'sundanese': 7754, 'resistance': 7755, 'woodmere': 7756, 'jip': 7757, 'roosevelt': 7758, 'inaugural': 7759, 'lied': 7760, 'blandings': 7761, 'hunters': 7762, 'kenedy': 7763, 'vipers': 7764, 'sugarloaf': 7765, 'gackt': 7766, 'camui': 7767, 'circleville': 7768, 'cafagna': 7769, 'tesoro': 7770, 'polymer': 7771, 'loathing': 7772, 'campaign': 7773, 'hanksville': 7774, 'hull': 7775, 'alternativo': 7776, 'portland': 7777, 'starr': 7778, 'delft': 7779, 'libby': 7780, 'diana': 7781, 'prompton': 7782, 'scotland': 7783, 'jansen': 7784, 'embers': 7785, 'needle': 7786, 'currents': 7787, 'egoist': 7788, 'documents': 7789, 'putrefactive': 7790, 'infestation': 7791, 'banks': 7792, 'payette': 7793, 'puzzles': 7794, 'holstein': 7795, 'clubbing': 7796, 'manassa': 7797, 'outback': 7798, 'highs': 7799, 'mid': 7800, 'sixties': 7801, 'jump': 7802, 'texola': 7803, 'playground': 7804, 'eim': 7805, 'suitable': 7806, 'baden': 7807, 'perfume': 7808, 'murderer': 7809, 'runaljod': 7810, 'var': 7811, 'ginnunga': 7812, 'bonaventure': 7813, 'messed': 7814, 'strandburg': 7815, 'sofia': 7816, 'gena': 7817, 'phishing': 7818, 'bayside': 7819, 'embryo': 7820, 'lessie': 7821, 'newton': 7822, 'prefereably': 7823, 'piety': 7824, 'emperors': 7825, 'thyatis': 7826, 'alphatia': 7827, 'naches': 7828, 'rites': 7829, 'cumberland': 7830, 'actress': 7831, 'wuthering': 7832, 'rhames': 7833, 'coats': 7834, 'ballylickey': 7835, 'disorderly': 7836, 'patrol': 7837, 'caledonian': 7838, 'unnikrishnante': 7839, 'adyathe': 7840, 'kraken': 7841, 'tentacles': 7842, 'electrochemical': 7843, 'kylie': 7844, 'minogue': 7845, 'karobar': 7846, 'sentimental': 7847, 'bloke': 7848, 'glimpses': 7849, 'mai': 7850, 'selim': 7851, 'volver': 7852, 'hulmeville': 7853, 'francis': 7854, 'healy': 7855, 'wonder': 7856, 'provinciale': 7857, 'exell': 7858, 'diego': 7859, 'tarts': 7860, 'shopping': 7861, 'spree': 7862, 'dalcour': 7863, 'effie': 7864, 'giv': 7865, 'lari': 7866, 'ennis': 7867, 'hoc': 7868, 'moneta': 7869, 'becomes': 7870, 'adding': 7871, 'smokefree': 7872, 'rockquest': 7873, 'president': 7874, 'breton': 7875, 'toxicology': 7876, 'environmental': 7877, 'fettucine': 7878, 'programming': 7879, 'wolin': 7880, 'myin': 7881, 'thit': 7882, 'furano': 7883, 'ashibetsu': 7884, 'wheesung': 7885, 'filthy': 7886, 'lucre': 7887, 'fangs': 7888, 'olpe': 7889, 'orwell': 7890, 'cavalero': 7891, 'harlow': 7892, 'wilcox': 7893, 'bangers': 7894, 'suburbia': 7895, 'lene': 7896, 'lovich': 7897, 'vaughan': 7898, 'inniswold': 7899, 'invitation': 7900, 'rileys': 7901, 'venedig': 7902, 'regen': 7903, 'wanderer': 7904, 'dive': 7905, 'bomber': 7906, 'tbe': 7907, 'federico': 7908, 'albert': 7909, 'wendell': 7910, 'tanisha': 7911, 'lorena': 7912, 'ebony': 7913, 'archivist': 7914, 'winnebago': 7915, 'neuroscience': 7916, 'callicoon': 7917, 'soupe': 7918, 'doll': 7919, 'guru': 7920, 'brittany': 7921, 'shw': 7922, 'husbands': 7923, 'arrows': 7924, 'whispering': 7925, 'penuelas': 7926, 'dimitri': 7927, 'fampas': 7928, 'verdery': 7929, 'sandie': 7930, 'shaw': 7931, 'galsoft': 7932, 'linux': 7933, 'compilation': 7934, 'mourner': 7935, 'leigh': 7936, 'workplace': 7937, 'frozen': 7938, 'bachata': 7939, 'framed': 7940, 'tholireyi': 7941, 'gadichindi': 7942, 'bob': 7943, 'klose': 7944, 'cynthia': 7945, 'unreachable': 7946, 'concerns': 7947, 'cypress': 7948, 'altai': 7949, 'tavan': 7950, 'bogd': 7951, 'goshenville': 7952, 'rhodes': 7953, 'chalice': 7954, 'knierim': 7955, 'vortex': 7956, 'outta': 7957, 'trash': 7958, 'yacoubian': 7959, 'border': 7960, 'compton': 7961, 'fra': 7962, 'mols': 7963, 'skagen': 7964, 'subcontract': 7965, 'lago': 7966, 'vista': 7967, 'jovanotti': 7968, 'dina': 7969, 'alexis': 7970, 'cricket': 7971, 'michigantown': 7972, 'farallon': 7973, 'ruled': 7974, 'britannia': 7975, 'takilma': 7976, 'catherine': 7977, 'walnut': 7978, 'grantsburg': 7979, 'stobo': 7980, 'spoiler': 7981, 'pavo': 7982, 'dustin': 7983, 'bloodstained': 7984, 'emile': 7985, 'medieval': 7986, 'tammi': 7987, 'muddy': 7988, 'beltsville': 7989, 'brazuca': 7990, 'macaroni': 7991, 'manos': 7992, 'hatzidakis': 7993, 'englishman': 7994, 'roeland': 7995, 'keyes': 7996, 'summit': 7997, 'submerged': 7998, 'ares': 7999, 'gobler': 8000, 'bleed': 8001, 'quantity': 8002, 'insanity': 8003, 'scale': 8004, 'jackal': 8005, 'avalon': 8006, 'favoretta': 8007, 'strumpet': 8008, 'sailing': 8009, 'karnataka': 8010, 'vandalia': 8011, 'flint': 8012, 'luisa': 8013, 'seminary': 8014, 'milligan': 8015, 'britpop': 8016, 'etc': 8017, 'stoneage': 8018, 'romeos': 8019, 'teleform': 8020, 'banker': 8021, 'syrup': 8022, 'hord': 8023, 'teide': 8024, 'glorious': 8025, 'goddess': 8026, 'quick': 8027, 'matthew': 8028, 'helders': 8029, 'cuan': 8030, 'dubh': 8031, 'drilseach': 8032, 'leah': 8033, 'kauffman': 8034, 'via': 8035, 'dolorosa': 8036, 'lamb': 8037, 'squire': 8038, 'shrunk': 8039, 'encino': 8040, 'meatcake': 8041, 'wynnedale': 8042, 'morrisonville': 8043, 'raquel': 8044, 'hainesville': 8045, 'fascility': 8046, 'repent': 8047, 'replenish': 8048, 'halley': 8049, 'moped': 8050, 'plated': 8051, 'handlebars': 8052, 'yard': 8053, 'jermaine': 8054, 'fagan': 8055, 'shubuta': 8056, 'whiteman': 8057, 'carmella': 8058, 'mccunn': 8059, 'index': 8060, 'elizabethville': 8061, 'investigating': 8062, 'beechman': 8063, 'furious': 8064, 'serpents': 8065, 'utopia': 8066, 'fogata': 8067, 'politicsnation': 8068, 'sharpton': 8069, 'luquillo': 8070, 'angelus': 8071, 'student': 8072, 'mus': 8073, 'kerbridge': 8074, 'skyfall': 8075, 'nokio': 8076, 'tity': 8077, 'trevor': 8078, 'mcnevan': 8079, 'whitewater': 8080, 'kokomo': 8081, 'biscay': 8082, 'maharashtrian': 8083, 'brokaw': 8084, 'coronado': 8085, 'counting': 8086, 'rosaries': 8087, 'toms': 8088, 'oregonia': 8089, 'riverfront': 8090, 'kanwar': 8091, 'strolghino': 8092, 'ida': 8093, 'testifying': 8094, 'donna': 8095, 'murray': 8096, 'mist': 8097, 'cornelia': 8098, 'spaceball': 8099, 'hey': 8100, 'waking': 8101, 'camden': 8102, 'nicole': 8103, 'mitchell': 8104, 'powder': 8105, 'puff': 8106, 'sherry': 8107, 'nunam': 8108, 'iqua': 8109, 'fickle': 8110, 'tarass': 8111, 'boulba': 8112, 'helix': 8113, 'adrian': 8114, 'trains': 8115, 'planes': 8116, 'cargray': 8117, 'stereophonics': 8118, 'argusville': 8119, 'fourche': 8120, 'glaring': 8121, 'ending': 8122, 'ufc': 8123, 'ruth': 8124, 'seeger': 8125, 'garner': 8126, 'hopeless': 8127, 'brockway': 8128, 'bonobo': 8129, 'salaam': 8130, 'outlaws': 8131, 'sherwood': 8132, 'ethridge': 8133, 'teaching': 8134, 'adriana': 8135, 'hallowell': 8136, 'brotherhood': 8137, 'stefanie': 8138, 'parent': 8139, 'banquet': 8140, 'cerebellum': 8141, 'thyme': 8142, 'milton': 8143, 'freewater': 8144, 'patriot': 8145, 'wittig': 8146, 'bridle': 8147, 'portions': 8148, 'essays': 8149, 'flag': 8150, 'carpenterville': 8151, 'chameleon': 8152, 'domestic': 8153, 'kaori': 8154, 'utatsuki': 8155, 'scription': 8156, 'data': 8157, 'manassas': 8158, 'brilliant': 8159, 'tragic': 8160, 'analyzer': 8161, 'mcroberts': 8162, 'weathr': 8163, 'akin': 8164, 'lomas': 8165, 'susanne': 8166, 'pricedale': 8167, 'bystrzyca': 8168, 'bbc': 8169, 'hamelin': 8170, 'searves': 8171, 'require': 8172, 'desylva': 8173, 'balvin': 8174, 'projectors': 8175, 'woodcliff': 8176, 'melon': 8177, 'osgood': 8178, 'mahwah': 8179, 'delisle': 8180, 'valery': 8181, 'kipelov': 8182, 'ton': 8183, 'wrigley': 8184, 'sita': 8185, 'sardis': 8186, 'maxime': 8187, 'shopsins': 8188, 'tripp': 8189, 'eisen': 8190, 'apollo': 8191, 'artani': 8192, 'cristina': 8193, 'moose': 8194, 'gve': 8195, 'stinky': 8196, 'fairly': 8197, 'hickman': 8198, 'craig': 8199, 'parable': 8200, 'sower': 8201, 'elbridge': 8202, 'bryant': 8203, 'stripped': 8204, 'phinally': 8205, 'phamous': 8206, 'roseau': 8207, 'ashes': 8208, 'morten': 8209, 'harket': 8210, 'semitism': 8211, 'resurgence': 8212, 'maybe': 8213, 'caddo': 8214, 'frewen': 8215, 'callahan': 8216, 'es': 8217, 'tuya': 8218, 'oficial': 8219, 'command': 8220, 'willits': 8221, 'pinguicula': 8222, 'newsletter': 8223, 'eleanor': 8224, 'rigby': 8225, 'hoggard': 8226, 'mg': 8227, 'visionary': 8228, 'wrightstown': 8229, 'todesfalle': 8230, 'servidor': 8231, 'inlet': 8232, 'hotline': 8233, 'cameia': 8234, 'penalty': 8235, 'careful': 8236, 'choclair': 8237, 'bso': 8238, 'amsterdam': 8239, 'abel': 8240, 'nchez': 8241, 'virtue': 8242, 'duett': 8243, 'croix': 8244, 'pioneers': 8245, 'justified': 8246, 'mulvane': 8247, 'kenneth': 8248, 'jethro': 8249, 'skip': 8250, 'kick': 8251, 'traces': 8252, 'generator': 8253, 'lagaylia': 8254, 'frazier': 8255, 'vinci': 8256, 'code': 8257, 'revelations': 8258, 'dissociatives': 8259, 'hind': 8260, 'etin': 8261, 'leena': 8262, 'peisa': 8263, 'scenic': 8264, 'jemez': 8265, 'roommate': 8266, 'livingston': 8267, 'belknap': 8268, 'ucolo': 8269, 'hellacopters': 8270, 'opus': 8271, 'saintly': 8272, 'switch': 8273, 'extended': 8274, 'astley': 8275, 'marit': 8276, 'bergman': 8277, 'oclock': 8278, 'bryan': 8279, 'merlin': 8280, 'jetta': 8281, 'gryphon': 8282, 'display': 8283, 'manager': 8284, 'infrared': 8285, 'erik': 8286, 'ringold': 8287, 'lineage': 8288, 'kronos': 8289, 'tactics': 8290, 'hampartsoum': 8291, 'limondjian': 8292, 'presence': 8293, 'whens': 8294, 'marble': 8295, 'spotat': 8296, 'brought': 8297, 'bickler': 8298, 'helen': 8299, 'miriam': 8300, 'bum': 8301, 'bead': 8302, 'sweat': 8303, 'arkport': 8304, 'hornersville': 8305, 'nam': 8306, 'kading': 8307, 'cristo': 8308, 'seagraves': 8309, 'verden': 8310, 'graveyard': 8311, 'cherie': 8312, 'christina': 8313, 'foie': 8314, 'gras': 8315, 'somiedo': 8316, 'puttering': 8317, 'imposter': 8318, 'directive': 8319, 'papeton': 8320, 'comunas': 8321, 'strays': 8322, 'radhae': 8323, 'unakku': 8324, 'kobam': 8325, 'aagathadi': 8326, 'jenkins': 8327, 'scheudle': 8328, 'snobs': 8329, 'mercenary': 8330, 'canteen': 8331, 'marsh': 8332, 'lateness': 8333, 'ingenuity': 8334, 'manatee': 8335, 'patricia': 8336, 'accounting': 8337, 'multiversity': 8338, 'wetumpka': 8339, 'fell': 8340, 'ghostly': 8341, 'swim': 8342, 'grim': 8343, 'skunk': 8344, 'gleed': 8345, 'heber': 8346, 'stays': 8347, 'converging': 8348, 'ely': 8349, 'maalaea': 8350, 'frankfort': 8351, 'cincinnati': 8352, 'ludlow': 8353, 'mystical': 8354, 'owens': 8355, 'happened': 8356, 'melly': 8357, 'match': 8358, 'becoming': 8359, 'royston': 8360, 'wedlock': 8361, 'active': 8362, 'debby': 8363, 'kasey': 8364, 'chambers': 8365, 'hoyt': 8366, 'affairs': 8367, 'bel': 8368, 'ami': 8369, 'lovesong': 8370, 'pero': 8371, 'bettles': 8372, 'karusellen': 8373, 'keller': 8374, 'laserlight': 8375, 'presskopf': 8376, 'intel': 8377, 'array': 8378, 'blocks': 8379, 'lifelong': 8380, 'ambitions': 8381, 'higher': 8382, 'lowest': 8383, 'reprise': 8384, 'mythology': 8385, 'orlovista': 8386, 'huns': 8387, 'americans': 8388, 'apathy': 8389, 'doyle': 8390, 'otsego': 8391, 'briarwood': 8392, 'agua': 8393, 'concise': 8394, 'treatise': 8395, 'angling': 8396, 'geschwisterliebe': 8397, 'munia': 8398, 'balko': 8399, 'toxic': 8400, 'avenger': 8401, 'lodi': 8402, 'spells': 8403, 'philtres': 8404, 'playmaker': 8405, 'pledge': 8406, 'allegiance': 8407, 'grind': 8408, 'genocide': 8409, 'released': 8410, 'share': 8411, 'buddhists': 8412, 'tessa': 8413, 'petit': 8414, 'manan': 8415, 'harder': 8416, 'litchfield': 8417, 'dorchester': 8418, 'evocation': 8419, 'arcane': 8420, 'dominion': 8421, 'gertrude': 8422, 'known': 8423, 'scandalous': 8424, 'handicap': 8425, 'tequesta': 8426, 'gipsy': 8427, 'wildland': 8428, 'nameless': 8429, 'westcountry': 8430, 'jeanette': 8431, 'matching': 8432, 'okay': 8433, 'luzon': 8434, 'halfbreed': 8435, 'gilluly': 8436, 'moralist': 8437, 'riverside': 8438, 'restautant': 8439, 'carpathians': 8440, 'deuce': 8441, 'beaman': 8442, 'knocked': 8443, 'loaded': 8444, 'josiah': 8445, 'leming': 8446, 'origin': 8447, 'milky': 8448, 'prodigal': 8449, 'deeth': 8450, 'licia': 8451, 'dreamt': 8452, 'barclays': 8453, 'ctr': 8454, 'rejoicing': 8455, 'pinto': 8456, 'soonchild': 8457, 'maximilian': 8458, 'mutzke': 8459, 'democratic': 8460, 'concord': 8461, 'situation': 8462, 'henniker': 8463, 'underneath': 8464, 'mcintosh': 8465, 'goan': 8466, 'since': 8467, 'beside': 8468, 'hackney': 8469, 'unbecoming': 8470, 'tu': 8471, 'maldito': 8472, 'nao': 8473, 'kawakita': 8474, 'cale': 8475, 'contre': 8476, 'ars': 8477, 'lupin': 8478, 'mojave': 8479, 'phone': 8480, 'booth': 8481, 'strike': 8482, 'cajah': 8483, 'sunnybrook': 8484, 'yeager': 8485, 'minnie': 8486, 'riperton': 8487, 'sheikh': 8488, 'chilli': 8489, 'nosh': 8490, 'regis': 8491, 'lyrical': 8492, 'nanoha': 8493, 'strikers': 8494, 'uproar': 8495, 'tropical': 8496, 'manitou': 8497, 'emida': 8498, 'maiden': 8499, 'danced': 8500, 'bevilacqua': 8501, 'glade': 8502, 'garrett': 8503, 'wins': 8504, 'pilar': 8505, 'dan': 8506, 'automator': 8507, 'revan': 8508, 'reaches': 8509, 'flamingo': 8510, 'marta': 8511, 'cabi': 8512, 'orgy': 8513, 'leather': 8514, 'maldeamores': 8515, 'det': 8516, 'kimer': 8517, 'julefest': 8518, 'giancarlo': 8519, 'erra': 8520, 'addicted': 8521, 'joong': 8522, 'payne': 8523, 'alton': 8524, 'daimidaler': 8525, 'penguin': 8526, 'palmer': 8527, 'screaming': 8528, 'staircase': 8529, 'suwannee': 8530, 'diplomat': 8531, 'neffs': 8532, 'mandela': 8533, 'authorised': 8534, 'wenn': 8535, 'lucy': 8536, 'springt': 8537, 'cuts': 8538, 'iranian': 8539, 'systems': 8540, 'isles': 8541, 'sencha': 8542, 'breath': 8543, 'less': 8544, 'candles': 8545, 'tire': 8546, 'cartel': 8547, 'lanta': 8548, 'assassination': 8549, 'coward': 8550, 'steptoe': 8551, 'graniteville': 8552, 'bowling': 8553, 'attractive': 8554, 'burgh': 8555, 'melancholia': 8556, 'eater': 8557, 'wasps': 8558, 'merle': 8559, 'haggard': 8560, 'brixton': 8561, 'balloon': 8562, 'entrevistas': 8563, 'tameka': 8564, 'jenners': 8565, 'eucalyptus': 8566, 'manthra': 8567, 'mothiram': 8568, 'stratan': 8569, 'masterworks': 8570, 'teenagers': 8571, 'sutphin': 8572, 'ncaa': 8573, 'arch': 8574, 'dishyum': 8575, 'eudaemonic': 8576, 'nighthawk': 8577, 'fonseca': 8578, 'glittering': 8579, 'yarra': 8580, 'nimble': 8581, 'bombastic': 8582, 'elastic': 8583, 'stormzy': 8584, 'judging': 8585, 'krypto': 8586, 'superdog': 8587, 'waretown': 8588, 'claudia': 8589, 'raging': 8590, 'pack': 8591, 'tabloid': 8592, 'minami': 8593, 'alps': 8594, 'koma': 8595, 'gearhart': 8596, 'desserts': 8597, 'ashmore': 8598, 'ratings': 8599, 'rag': 8600, 'raney': 8601, 'floating': 8602, 'hath': 8603, 'hollidaysburg': 8604, 'lolita': 8605, 'wizards': 8606, 'loveday': 8607, 'trials': 8608, 'practical': 8609, 'maryanne': 8610, 'per': 8611, 'yngve': 8612, 'ohlin': 8613, 'pickens': 8614, 'ruins': 8615, 'joplin': 8616, 'marc': 8617, 'lilly': 8618, 'licence': 8619, 'renewed': 8620, 'schenectady': 8621, 'niceville': 8622, 'breathless': 8623, 'inverness': 8624, 'schlitt': 8625, 'somesville': 8626, 'somewhee': 8627, 'hollenberg': 8628, 'crocker': 8629, 'kwuggerbug': 8630, 'connick': 8631, 'pamela': 8632, 'date': 8633, 'guard': 8634, 'posey': 8635, 'sweets': 8636, 'edison': 8637, 'mcphee': 8638, 'scarface': 8639, 'tukaram': 8640, 'lima': 8641, 'mozambique': 8642, 'caveman': 8643, 'monkeys': 8644, 'indicate': 8645, 'ledbury': 8646, 'marshal': 8647, 'duty': 8648, 'artifacts': 8649, 'liquor': 8650, 'shouted': 8651, 'albums': 8652, 'belgian': 8653, 'javine': 8654, 'hylton': 8655, 'timeline': 8656, 'anders': 8657, 'morganville': 8658, 'vampires': 8659, 'doctors': 8660, 'longest': 8661, 'kokhanok': 8662, 'bienville': 8663, 'bombay': 8664, 'verna': 8665, 'slated': 8666, 'ash': 8667, 'wednesday': 8668, 'spell': 8669, 'whitechapel': 8670, 'southtown': 8671, 'tioga': 8672, 'punjabi': 8673, 'vilma': 8674, 'pinson': 8675, 'grizzled': 8676, 'squirrel': 8677, 'kitchener': 8678, 'soudan': 8679, 'apolobamba': 8680, 'integrated': 8681, 'nightingale': 8682, 'ashford': 8683, 'gears': 8684, 'varieties': 8685, 'tenor': 8686, 'tapshoes': 8687, 'patient': 8688, 'wesley': 8689, 'raphael': 8690, 'rabello': 8691, 'rosebud': 8692, 'cluster': 8693, 'computing': 8694, 'molino': 8695, 'gormenghast': 8696, 'incite': 8697, 'rambow': 8698, 'oreo': 8699, 'naguabo': 8700, 'pimp': 8701, 'tmpgenc': 8702, 'kj': 8703, 'mopreme': 8704, 'shakur': 8705, 'ksi': 8706, 'urodzaju': 8707, 'abigail': 8708, 'thorns': 8709, 'jebel': 8710, 'offroad': 8711, 'sierraville': 8712, 'evolution': 8713, 'steppe': 8714, 'buh': 8715, 'twink': 8716, 'tiny': 8717, 'salinas': 8718, 'johnstown': 8719, 'winger': 8720, 'rapid': 8721, 'lunacy': 8722, 'fatty': 8723, 'haskell': 8724, 'matrimony': 8725, 'virginian': 8726, 'friendship': 8727, 'lying': 8728, 'stamps': 8729, 'newtown': 8730, 'raven': 8731, 'rockholds': 8732, 'primitive': 8733, 'inferno': 8734, 'getaway': 8735, 'maro': 8736, 'believe': 8737, 'gamblers': 8738, 'cinnaminson': 8739, 'seabrook': 8740, 'rosales': 8741, 'aqua': 8742, 'disturbance': 8743, 'yumi': 8744, 'matsuzawa': 8745, 'warfare': 8746, 'nour': 8747, 'mhanna': 8748, 'engadine': 8749, 'riverview': 8750, 'runkaus': 8751, 'garin': 8752, 'nypd': 8753, 'department': 8754, 'wylliesburg': 8755, 'grigorjewna': 8756, 'semenowitsch': 8757, 'osage': 8758, 'anymore': 8759, 'snuffy': 8760, 'walden': 8761, 'finalists': 8762, 'patmos': 8763, 'paedophilia': 8764, 'koichi': 8765, 'sugiyama': 8766, 'aire': 8767, 'blobby': 8768, 'labworth': 8769, 'dooneen': 8770, 'bio': 8771, 'irv': 8772, 'gotti': 8773, 'murderers': 8774, 'sneaky': 8775, 'ralls': 8776, 'josh': 8777, 'kear': 8778, 'myra': 8779, 'restarunt': 8780, 'federal': 8781, 'stillest': 8782, 'chicamocha': 8783, 'ellington': 8784, 'dressmaker': 8785, 'emre': 8786, 'aydin': 8787, 'kent': 8788, 'shootings': 8789, 'cocuy': 8790, 'swift': 8791, 'framing': 8792, 'ages': 8793, 'braindead': 8794, 'megaphone': 8795, 'covering': 8796, 'hidden': 8797, 'rights': 8798, 'dodge': 8799, 'kendall': 8800, 'felices': 8801, 'wickens': 8802, 'ruud': 8803, 'jolie': 8804, 'oneonta': 8805, 'demi': 8806, 'semi': 8807, 'kenova': 8808, 'nannie': 8809, 'songimvelo': 8810, 'priorities': 8811, 'steinway': 8812, 'truffade': 8813, 'crows': 8814, 'baraga': 8815, 'pinecliffe': 8816, 'tortano': 8817, 'carly': 8818, 'buffy': 8819, 'commit': 8820, 'treasury': 8821, 'bagnell': 8822, 'viroqua': 8823, 'elites': 8824, 'necessary': 8825, 'reshiram': 8826, 'zekrom': 8827, 'limited': 8828, 'occult': 8829, 'saved': 8830, 'telepathic': 8831, 'experiences': 8832, 'baladas': 8833, 'nticas': 8834, 'opening': 8835, 'sandstone': 8836, 'hendthighelbedi': 8837, 'bette': 8838, 'delhi': 8839, 'spotted': 8840, 'robertson': 8841, 'wiktor': 8842, 'coj': 8843, 'oakdale': 8844, 'sidnaw': 8845, 'secretary': 8846, 'totality': 8847, 'carterville': 8848, 'culver': 8849, 'telogia': 8850, 'chucky': 8851, 'astonishing': 8852, 'octavian': 8853, 'challenges': 8854, 'terrie': 8855, 'hypoluxo': 8856, 'manning': 8857, 'gainesville': 8858, 'frost': 8859, 'confederate': 8860, 'chamillionaire': 8861, 'lina': 8862, 'cormorant': 8863, 'sensations': 8864, 'brookneal': 8865, 'breezy': 8866, 'gucci': 8867, 'hutchings': 8868, 'champion': 8869, 'hahnville': 8870, 'tanana': 8871, 'saurials': 8872, 'indocumentado': 8873, 'heston': 8874, 'blumenthal': 8875, 'warcraft': 8876, 'tides': 8877, 'moffett': 8878, 'pasqual': 8879, 'bridges': 8880, 'hohenfriedberger': 8881, 'scriptures': 8882, 'sportsdome': 8883, 'congress': 8884, 'revolutions': 8885, 'exorcising': 8886, 'dedicated': 8887, 'shed': 8888, 'portman': 8889, 'beyonders': 8890, 'arranged': 8891, 'plalist': 8892, 'visjoner': 8893, 'labor': 8894, 'gettysburg': 8895, 'poncha': 8896, 'sheri': 8897, 'incense': 8898, 'montreux': 8899, 'leven': 8900, 'thumps': 8901, 'foo': 8902, 'spoils': 8903, 'hallucinations': 8904, 'despair': 8905, 'pointe': 8906, 'brotherly': 8907, 'molecular': 8908, 'gastronomy': 8909, 'jamesedition': 8910, 'boring': 8911, 'telemark': 8912, 'meg': 8913, 'seron': 8914, 'dame': 8915, 'gideon': 8916, 'mack': 8917, 'rump': 8918, 'tuna': 8919, 'deposit': 8920, 'sohl': 8921, 'maliau': 8922, 'basin': 8923, 'elnora': 8924, 'noxubee': 8925, 'duel': 8926, 'matilda': 8927, 'collectors': 8928, 'happiness': 8929, 'tallgrass': 8930, 'blackman': 8931, 'centenary': 8932, 'bathgate': 8933, 'walsenburg': 8934, 'alchemyst': 8935, 'nicholas': 8936, 'flamel': 8937, 'putrid': 8938, 'sorcery': 8939, 'glove': 8940, 'clerk': 8941, 'blankets': 8942, 'kaaawa': 8943, 'inca': 8944, 'yoshimi': 8945, 'robots': 8946, 'noroi': 8947, 'brusly': 8948, 'toby': 8949, 'nemiciamici': 8950, 'cardin': 8951, 'colorless': 8952, 'tsukuru': 8953, 'tazaki': 8954, 'pilgrimage': 8955, 'eastville': 8956, 'bugs': 8957, 'labonte': 8958, 'kibum': 8959, 'nepal': 8960, 'skillman': 8961, 'choclo': 8962, 'specialises': 8963, 'protein': 8964, 'novena': 8965, 'nocturn': 8966, 'tsingy': 8967, 'bemaraha': 8968, 'minestra': 8969, 'nauseam': 8970, 'ringo': 8971, 'sheena': 8972, 'takei': 8973, 'ellen': 8974, 'lentil': 8975, 'bradbury': 8976, 'dynamite': 8977, 'loudon': 8978, 'labyrinth': 8979, 'poverty': 8980, 'nobility': 8981, 'storeys': 8982, 'resevation': 8983, 'mistborn': 8984, 'eiffel': 8985, 'mythologies': 8986, 'caroline': 8987, 'soldier': 8988, 'pond': 8989, 'cannabis': 8990, 'tartine': 8991, 'haystack': 8992, 'hotchpotch': 8993, 'nerves': 8994, 'leoti': 8995, 'furniture': 8996, 'thrones': 8997, 'hesston': 8998, 'prestige': 8999, 'ya': 9000, 'workweek': 9001, 'lemonade': 9002, 'takahito': 9003, 'eguchi': 9004, 'council': 9005, 'dads': 9006, 'abuja': 9007, 'farristown': 9008, 'mettawa': 9009, 'hardcore': 9010, 'ide': 9011, 'pershing': 9012, 'coalton': 9013, 'johto': 9014, 'journeys': 9015, 'cannelloni': 9016, 'hardcover': 9017, 'intangibles': 9018, 'leadership': 9019, 'preston': 9020, 'coco': 9021, 'adeus': 9022, 'maison': 9023, 'parthenais': 9024, 'perrault': 9025, 'palacio': 9026, 'sligo': 9027, 'untold': 9028, 'crossgenesis': 9029, 'antigua': 9030, 'barbuda': 9031, 'grandview': 9032, 'montevallo': 9033, 'katherine': 9034, 'coti': 9035, 'plutonium': 9036, 'midland': 9037, 'operace': 9038, 'tranquility': 9039, 'slovak': 9040, 'serenata': 9041, 'ove': 9042, 'maksim': 9043, 'witchcraft': 9044, 'paganism': 9045, 'henrieville': 9046, 'waipio': 9047, 'modesto': 9048, 'ella': 9049, 'input': 9050, 'wiseman': 9051, 'greenfoot': 9052, 'quarry': 9053, 'ridel': 9054, 'tortelloni': 9055, 'kamil': 9056, 'rustam': 9057, 'kitty': 9058, 'mob': 9059, 'bunce': 9060, 'highland': 9061, 'burleigh': 9062, 'sirusho': 9063, 'chained': 9064, 'lafe': 9065, 'lowden': 9066, 'murph': 9067, 'marianne': 9068, 'faithfull': 9069, 'earline': 9070, 'bhoomi': 9071, 'geetha': 9072, 'lakeview': 9073, 'sabrina': 9074, 'salerno': 9075, 'helens': 9076, 'blighty': 9077, 'giodi': 9078, 'piper': 9079, 'sher': 9080, 'activists': 9081, 'robb': 9082, 'lualualei': 9083, 'champ': 9084, 'boxing': 9085, 'capricorn': 9086, 'survive': 9087, 'reidland': 9088, 'ludowici': 9089, 'nudity': 9090, 'punished': 9091, 'cedar': 9092, 'jacksons': 9093, 'bloodhounds': 9094, 'cedarburg': 9095, 'hamel': 9096, 'bourne': 9097, 'wholehearted': 9098, 'daewon': 9099, 'cohocton': 9100, 'saxis': 9101, 'luckiest': 9102, 'keytesville': 9103, 'salvage': 9104, 'mice': 9105, 'marci': 9106, 'geese': 9107, 'whatever': 9108, 'turns': 9109, 'grainer': 9110, 'punta': 9111, 'gorda': 9112, 'croatan': 9113, 'drugs': 9114, 'apostolos': 9115, 'nikolaidis': 9116, 'hemanta': 9117, 'kumar': 9118, 'mukhopadhyay': 9119, 'serenada': 9120, 'pulsions': 9121, 'kamrar': 9122, 'utamaro': 9123, 'dickinsonian': 9124, 'salil': 9125, 'chowdhury': 9126, 'nightcall': 9127, 'metalblood': 9128, 'oaklawn': 9129, 'varney': 9130, 'lest': 9131, 'forget': 9132, 'ernie': 9133, 'hawkins': 9134, 'toa': 9135, 'hooksett': 9136, 'kavanaughs': 9137, 'discontinuity': 9138, 'kerrick': 9139, 'codebreakers': 9140, 'birdland': 9141, 'wheel': 9142, 'owings': 9143, 'blurred': 9144, 'crusade': 9145, 'veneto': 9146, 'antietam': 9147, 'verdi': 9148, 'flowers': 9149, 'schultz': 9150, 'clint': 9151, 'mansell': 9152, 'toaster': 9153, 'rescue': 9154, 'dew': 9155, 'learn': 9156, 'draw': 9157, 'inwood': 9158, 'shohola': 9159, 'oakes': 9160, 'preferably': 9161, 'nobody': 9162, 'bitter': 9163, 'freckled': 9164, 'isobel': 9165, 'campbell': 9166, 'zec': 9167, 'mitchinamecus': 9168, 'savannah': 9169, 'lauderdale': 9170, 'nusic': 9171, 'stronda': 9172, 'organization': 9173, 'howards': 9174, 'balasubrahmanyam': 9175, 'reckoning': 9176, 'parksdale': 9177, 'yeoh': 9178, 'shockscape': 9179, 'jarnowick': 9180, 'roaring': 9181, 'vue': 9182, 'republican': 9183, 'miley': 9184, 'cyrus': 9185, 'camdeboo': 9186, 'maidens': 9187, 'madawaska': 9188, 'hagar': 9189, 'bodyguard': 9190, 'quest': 9191, 'iranon': 9192, 'nancy': 9193, 'balance': 9194, 'timing': 9195, 'iberville': 9196, 'trick': 9197, 'treats': 9198, 'lyons': 9199, 'ferry': 9200, 'suthep': 9201, 'pui': 9202, 'tortured': 9203, 'eminence': 9204, 'stephen': 9205, 'mcnally': 9206, 'kernersville': 9207, 'primate': 9208, 'crabfish': 9209, 'jimenez': 9210, 'riddlesburg': 9211, 'farragut': 9212, 'waltersville': 9213, 'crook': 9214, 'nanny': 9215, 'quebeck': 9216, 'thacker': 9217, 'craft': 9218, 'rebirth': 9219, 'blackpool': 9220, 'nisswa': 9221, 'diamonds': 9222, 'ronski': 9223, 'cholame': 9224, 'stray': 9225, 'jumbo': 9226, 'guts': 9227, 'zombieland': 9228, 'noct': 9229, 'mbulo': 9230, 'brando': 9231, 'retreat': 9232, 'limbo': 9233, 'whitewood': 9234, 'reaching': 9235, 'carencro': 9236, 'frl': 9237, 'menke': 9238, 'midongy': 9239, 'du': 9240, 'sud': 9241, 'bethnal': 9242, 'gibassier': 9243, 'aap': 9244, 'aise': 9245, 'redacted': 9246, 'manson': 9247, 'hironobu': 9248, 'kageyama': 9249, 'parempi': 9250, 'mies': 9251, 'darkworld': 9252, 'aretha': 9253, 'dormir': 9254, 'playcanvas': 9255, 'slice': 9256, 'doomsters': 9257, 'dante': 9258, 'aspinwall': 9259, 'shari': 9260, 'raleigh': 9261, 'colfax': 9262, 'sting': 9263, 'paloma': 9264, 'negra': 9265, 're': 9266, 'greenport': 9267, 'ellenton': 9268, 'dalles': 9269, 'kathleen': 9270, 'brianna': 9271, 'jewell': 9272, 'cemetery': 9273, 'tempunauts': 9274, 'doggy': 9275, 'rombola': 9276, 'reverence': 9277, 'georgiev': 9278, 'kalica': 9279, 'armen': 9280, 'movsessian': 9281, 'skepta': 9282, 'nautch': 9283, 'temperance': 9284, 'ah': 9285, 'elberta': 9286, 'currituck': 9287, 'dixie': 9288, 'beginnings': 9289, 'horses': 9290, 'stationery': 9291, 'zapata': 9292, 'lacuna': 9293, 'foros': 9294, 'timis': 9295, 'ston': 9296, 'greco': 9297, 'homer': 9298, 'shasha': 9299, 'fruit': 9300, 'hydration': 9301, 'cinderella': 9302, 'mondovi': 9303, 'snider': 9304, 'ufo': 9305, 'senshi': 9306, 'dai': 9307, 'apolon': 9308, 'beardyman': 9309, 'undressed': 9310, 'kettle': 9311, 'hymn': 9312, 'rambler': 9313, 'chestnut': 9314, 'nijinsky': 9315, 'aflame': 9316, 'companion': 9317, 'mating': 9318, 'elmer': 9319, 'terraphiles': 9320, 'seeley': 9321, 'misterioso': 9322, 'unraveling': 9323, 'arons': 9324, 'gnocchi': 9325, 'owenyo': 9326, 'reach': 9327, 'change': 9328, 'skeptic': 9329, 'teuflische': 9330, 'haus': 9331, 'dauset': 9332, 'vezione': 9333, 'verro': 9334, 'front': 9335, 'gareth': 9336, 'petersville': 9337, 'sadface': 9338, 'ruskin': 9339, 'piece': 9340, 'colors': 9341, 'dates': 9342, 'urbanette': 9343, 'rabbit': 9344, 'canon': 9345, 'bronislau': 9346, 'kaper': 9347, 'trentwood': 9348, 'meditations': 9349, 'godslayer': 9350, 'mutation': 9351, 'boundary': 9352, 'walter': 9353, 'vallecito': 9354, 'seung': 9355, 'gi': 9356, 'compendium': 9357, 'analytical': 9358, 'nomenclature': 9359, 'mogis': 9360, 'keine': 9361, 'grenzen': 9362, 'dimension': 9363, 'samuel': 9364, 'tyne': 9365, 'neurotoxicology': 9366, 'brookwood': 9367, 'everson': 9368, 'conchiglie': 9369, 'hitchland': 9370, 'tianjin': 9371, 'janeane': 9372, 'des': 9373, 'moines': 9374, 'toll': 9375, 'teriazume': 9376, 'ayr': 9377, 'advise': 9378, 'guyana': 9379, 'blag': 9380, 'dahlia': 9381, 'wagener': 9382, 'brackets': 9383, 'jarbidge': 9384, 'cenizo': 9385, 'rosanna': 9386, 'ejercicio': 9387, 'sashimi': 9388, 'looney': 9389, 'tunes': 9390, 'anacreon': 9391, 'lanes': 9392, 'mashable': 9393, 'chompa': 9394, 'toung': 9395, 'tonopah': 9396, 'built': 9397, 'mucho': 9398, 'moulin': 9399, 'mentioned': 9400, 'lay': 9401, 'nationale': 9402, 'davy': 9403, 'crockett': 9404, 'ironbound': 9405, 'beedeville': 9406, 'shangri': 9407, 'sails': 9408, 'diners': 9409, 'purim': 9410, 'neva': 9411, 'rear': 9412, 'mckinley': 9413, 'limey': 9414, 'rail': 9415, 'elf': 9416, 'mum': 9417, 'blyde': 9418, 'alerce': 9419, 'andino': 9420, 'follett': 9421, 'geriatric': 9422, 'psychiatry': 9423, 'neurology': 9424, 'eden': 9425, 'tomohisa': 9426, 'yamashita': 9427, 'garry': 9428, 'shider': 9429, 'completely': 9430, 'mclaurin': 9431, 'chandranath': 9432, 'ojuelegba': 9433, 'ritmos': 9434, 'riceboro': 9435, 'licensed': 9436, 'roc': 9437, 'executioner': 9438, 'neighbor': 9439, 'boogaloo': 9440, 'raisins': 9441, 'secs': 9442, 'et': 9443, 'amandes': 9444, 'orford': 9445, 'kelley': 9446, 'suzette': 9447, 'melcher': 9448, 'trilogie': 9449, 'allan': 9450, 'pocono': 9451, 'kelli': 9452, 'neil': 9453, 'newburyport': 9454, 'rosenberg': 9455, 'nefertiti': 9456, 'bagels': 9457, 'collector': 9458, 'peppers': 9459, 'woodsfield': 9460, 'weed': 9461, 'mastery': 9462, 'irreconcilable': 9463, 'differences': 9464, 'nails': 9465, 'bok': 9466, 'preparedness': 9467, 'medici': 9468, 'acchiappafantasmi': 9469, 'leningrad': 9470, 'cowboys': 9471, 'spartan': 9472, 'deidre': 9473, 'rosa': 9474, 'jquery': 9475, 'mobile': 9476, 'bert': 9477, 'ruthless': 9478, 'hebbronville': 9479, 'genesis': 9480, 'singstar': 9481, 'ape': 9482, 'hooker': 9483, 'nooks': 9484, 'canaich': 9485, 'nas': 9486, 'lepond': 9487, 'cita': 9488, 'neshanic': 9489, 'premiere': 9490, 'pow': 9491, 'mia': 9492, 'recognition': 9493, 'laverne': 9494, 'kay': 9495, 'slay': 9496, 'turbonegro': 9497, 'use': 9498, 'terminal': 9499, 'ho': 9500, 'arcola': 9501, 'halifax': 9502, 'disaster': 9503, 'gasconade': 9504, 'keachi': 9505, 'auto': 9506, 'choate': 9507, 'topinabee': 9508, 'hickory': 9509, 'jang': 9510, 'nara': 9511, 'goldimouse': 9512, 'atanassow': 9513, 'exclusive': 9514, 'eve': 9515, 'olution': 9516, 'tha': 9517, 'funkee': 9518, 'homosapien': 9519, 'druid': 9520, 'boyce': 9521, 'carny': 9522}\n"
     ]
    }
   ],
   "source": [
    "print(tokenizer.word_index)"
   ]
  },
  {
   "cell_type": "code",
   "execution_count": 47,
   "metadata": {},
   "outputs": [
    {
     "name": "stdout",
     "output_type": "stream",
     "text": [
      "단어 집합의 크기: 9523\n"
     ]
    }
   ],
   "source": [
    "vocab_size = len(tokenizer.word_index)+1\n",
    "print('단어 집합의 크기:', vocab_size)"
   ]
  },
  {
   "cell_type": "code",
   "execution_count": 48,
   "metadata": {},
   "outputs": [
    {
     "name": "stdout",
     "output_type": "stream",
     "text": [
      "intent의 최대 길이 : 22\n",
      "intent의 평균 길이 :  5.271300067888663\n"
     ]
    },
    {
     "data": {
      "text/plain": [
       "(array([3.100e+01, 0.000e+00, 4.340e+02, 0.000e+00, 1.456e+03, 0.000e+00,\n",
       "        0.000e+00, 2.408e+03, 0.000e+00, 2.699e+03, 0.000e+00, 2.140e+03,\n",
       "        0.000e+00, 0.000e+00, 1.272e+03, 0.000e+00, 7.260e+02, 0.000e+00,\n",
       "        0.000e+00, 3.020e+02, 0.000e+00, 1.560e+02, 0.000e+00, 9.500e+01,\n",
       "        0.000e+00, 0.000e+00, 3.100e+01, 0.000e+00, 2.100e+01, 0.000e+00,\n",
       "        5.000e+00, 0.000e+00, 0.000e+00, 2.000e+00, 0.000e+00, 4.000e+00,\n",
       "        0.000e+00, 0.000e+00, 1.000e+00, 0.000e+00, 0.000e+00, 0.000e+00,\n",
       "        0.000e+00, 0.000e+00, 0.000e+00, 0.000e+00, 0.000e+00, 0.000e+00,\n",
       "        0.000e+00, 1.000e+00]),\n",
       " array([ 1.  ,  1.42,  1.84,  2.26,  2.68,  3.1 ,  3.52,  3.94,  4.36,\n",
       "         4.78,  5.2 ,  5.62,  6.04,  6.46,  6.88,  7.3 ,  7.72,  8.14,\n",
       "         8.56,  8.98,  9.4 ,  9.82, 10.24, 10.66, 11.08, 11.5 , 11.92,\n",
       "        12.34, 12.76, 13.18, 13.6 , 14.02, 14.44, 14.86, 15.28, 15.7 ,\n",
       "        16.12, 16.54, 16.96, 17.38, 17.8 , 18.22, 18.64, 19.06, 19.48,\n",
       "        19.9 , 20.32, 20.74, 21.16, 21.58, 22.  ]),\n",
       " <BarContainer object of 50 artists>)"
      ]
     },
     "execution_count": 48,
     "metadata": {},
     "output_type": "execute_result"
    },
    {
     "data": {
      "text/plain": [
       "Text(0.5, 1.0, 'Train data')"
      ]
     },
     "execution_count": 48,
     "metadata": {},
     "output_type": "execute_result"
    },
    {
     "data": {
      "text/plain": [
       "Text(0.5, 0, 'length of samples')"
      ]
     },
     "execution_count": 48,
     "metadata": {},
     "output_type": "execute_result"
    },
    {
     "data": {
      "text/plain": [
       "Text(0, 0.5, 'number of samples')"
      ]
     },
     "execution_count": 48,
     "metadata": {},
     "output_type": "execute_result"
    },
    {
     "data": {
      "image/png": "[encoded data removed]",
      "text/plain": [
       "<Figure size 640x480 with 1 Axes>"
      ]
     },
     "metadata": {},
     "output_type": "display_data"
    }
   ],
   "source": [
    "import matplotlib.pyplot as plt\n",
    "print('intent의 최대 길이 :', max(len(l) for l in X_train_encoded))\n",
    "print('intent의 평균 길이 : ', (sum(map(len, X_train_encoded))/len(X_train_encoded)))\n",
    "plt.hist([len(s) for s in X_train_encoded], bins=50)\n",
    "plt.title('Train data')\n",
    "plt.xlabel('length of samples')\n",
    "plt.ylabel('number of samples')\n",
    "plt.show()"
   ]
  },
  {
   "cell_type": "code",
   "execution_count": null,
   "metadata": {},
   "outputs": [],
   "source": []
  },
  {
   "cell_type": "code",
   "execution_count": 49,
   "metadata": {},
   "outputs": [
    {
     "data": {
      "text/plain": [
       "22"
      ]
     },
     "execution_count": 49,
     "metadata": {},
     "output_type": "execute_result"
    }
   ],
   "source": [
    "max_len = max(len(seq) for seq in X_train_encoded)\n",
    "max_len"
   ]
  },
  {
   "cell_type": "code",
   "execution_count": 50,
   "metadata": {},
   "outputs": [
    {
     "name": "stdout",
     "output_type": "stream",
     "text": [
      "학습 데이터의 크기(shape):  (11784, 22)\n"
     ]
    }
   ],
   "source": [
    "from tensorflow.keras.preprocessing.sequence import pad_sequences\n",
    "\n",
    "X_train_padded = pad_sequences(X_train_encoded, maxlen=max_len)\n",
    "print(\"학습 데이터의 크기(shape): \", X_train_padded.shape)"
   ]
  },
  {
   "cell_type": "code",
   "execution_count": 51,
   "metadata": {},
   "outputs": [],
   "source": [
    "X_test_encoded = tokenizer.texts_to_sequences(df_test['cleaned'])\n",
    "X_test_padded = pad_sequences(X_test_encoded, maxlen = max_len)"
   ]
  },
  {
   "cell_type": "code",
   "execution_count": 52,
   "metadata": {},
   "outputs": [
    {
     "name": "stdout",
     "output_type": "stream",
     "text": [
      "intent의 최대 길이 : 12\n",
      "intent의 평균 길이 :  4.756302521008403\n"
     ]
    },
    {
     "data": {
      "text/plain": [
       "(array([  5.,   0.,   0.,   0.,  31.,   0.,   0.,   0.,   0., 110.,   0.,\n",
       "          0.,   0., 135.,   0.,   0.,   0.,   0., 140.,   0.,   0.,   0.,\n",
       "         96.,   0.,   0.,   0.,   0.,  39.,   0.,   0.,   0.,  18.,   0.,\n",
       "          0.,   0.,   0.,  14.,   0.,   0.,   0.,   4.,   0.,   0.,   0.,\n",
       "          0.,   2.,   0.,   0.,   0.,   1.]),\n",
       " array([ 1.  ,  1.22,  1.44,  1.66,  1.88,  2.1 ,  2.32,  2.54,  2.76,\n",
       "         2.98,  3.2 ,  3.42,  3.64,  3.86,  4.08,  4.3 ,  4.52,  4.74,\n",
       "         4.96,  5.18,  5.4 ,  5.62,  5.84,  6.06,  6.28,  6.5 ,  6.72,\n",
       "         6.94,  7.16,  7.38,  7.6 ,  7.82,  8.04,  8.26,  8.48,  8.7 ,\n",
       "         8.92,  9.14,  9.36,  9.58,  9.8 , 10.02, 10.24, 10.46, 10.68,\n",
       "        10.9 , 11.12, 11.34, 11.56, 11.78, 12.  ]),\n",
       " <BarContainer object of 50 artists>)"
      ]
     },
     "execution_count": 52,
     "metadata": {},
     "output_type": "execute_result"
    },
    {
     "data": {
      "text/plain": [
       "Text(0.5, 1.0, 'Test data')"
      ]
     },
     "execution_count": 52,
     "metadata": {},
     "output_type": "execute_result"
    },
    {
     "data": {
      "text/plain": [
       "Text(0.5, 0, 'length of samples')"
      ]
     },
     "execution_count": 52,
     "metadata": {},
     "output_type": "execute_result"
    },
    {
     "data": {
      "text/plain": [
       "Text(0, 0.5, 'number of samples')"
      ]
     },
     "execution_count": 52,
     "metadata": {},
     "output_type": "execute_result"
    },
    {
     "data": {
      "image/png": "[encoded data removed]",
      "text/plain": [
       "<Figure size 640x480 with 1 Axes>"
      ]
     },
     "metadata": {},
     "output_type": "display_data"
    }
   ],
   "source": [
    "import matplotlib.pyplot as plt\n",
    "print('intent의 최대 길이 :', max(len(l) for l in X_test_encoded))\n",
    "print('intent의 평균 길이 : ', (sum(map(len, X_test_encoded))/len(X_test_encoded)))\n",
    "plt.hist([len(s) for s in X_test_encoded], bins=50)\n",
    "plt.title('Test data')\n",
    "plt.xlabel('length of samples')\n",
    "plt.ylabel('number of samples')\n",
    "plt.show()"
   ]
  },
  {
   "cell_type": "code",
   "execution_count": 53,
   "metadata": {},
   "outputs": [],
   "source": [
    "from tensorflow.keras.utils import to_categorical\n",
    "y = to_categorical(df_train[\"label_\"], num_classes=6)\n",
    "z = to_categorical(df_test[\"label_\"], num_classes=6)"
   ]
  },
  {
   "cell_type": "code",
   "execution_count": 55,
   "metadata": {},
   "outputs": [
    {
     "data": {
      "text/plain": [
       "11784"
      ]
     },
     "execution_count": 55,
     "metadata": {},
     "output_type": "execute_result"
    },
    {
     "data": {
      "text/plain": [
       "595"
      ]
     },
     "execution_count": 55,
     "metadata": {},
     "output_type": "execute_result"
    }
   ],
   "source": [
    "len(y)\n",
    "len(z)"
   ]
  },
  {
   "cell_type": "code",
   "execution_count": 56,
   "metadata": {},
   "outputs": [],
   "source": [
    "from sklearn.model_selection import train_test_split\n",
    "\n",
    "features = X_train_padded\n",
    "target = y\n",
    "\n",
    "X_train, X_val, y_train, y_val = train_test_split(features, target, test_size=0.2, \n",
    "                                                    random_state=0, stratify=target)\n"
   ]
  },
  {
   "cell_type": "code",
   "execution_count": 57,
   "metadata": {},
   "outputs": [
    {
     "data": {
      "text/plain": [
       "(11784, 22)"
      ]
     },
     "execution_count": 57,
     "metadata": {},
     "output_type": "execute_result"
    },
    {
     "data": {
      "text/plain": [
       "(11784, 6)"
      ]
     },
     "execution_count": 57,
     "metadata": {},
     "output_type": "execute_result"
    },
    {
     "data": {
      "text/plain": [
       "(9427, 22)"
      ]
     },
     "execution_count": 57,
     "metadata": {},
     "output_type": "execute_result"
    },
    {
     "data": {
      "text/plain": [
       "(9427, 6)"
      ]
     },
     "execution_count": 57,
     "metadata": {},
     "output_type": "execute_result"
    },
    {
     "data": {
      "text/plain": [
       "(2357, 22)"
      ]
     },
     "execution_count": 57,
     "metadata": {},
     "output_type": "execute_result"
    },
    {
     "data": {
      "text/plain": [
       "(2357, 6)"
      ]
     },
     "execution_count": 57,
     "metadata": {},
     "output_type": "execute_result"
    }
   ],
   "source": [
    "X_train_padded.shape\n",
    "target.shape\n",
    "X_train.shape\n",
    "y_train.shape\n",
    "X_val.shape\n",
    "y_val.shape"
   ]
  },
  {
   "cell_type": "code",
   "execution_count": 58,
   "metadata": {},
   "outputs": [
    {
     "name": "stdout",
     "output_type": "stream",
     "text": [
      "Embedding vector : 400000 개\n"
     ]
    }
   ],
   "source": [
    "#  사전학습 임베딩 DATA DICT 형태로 변환\n",
    "import numpy as np\n",
    "embedding_dict= dict()\n",
    "\n",
    "f = open(\"./data/0307/glove.6B.100d.txt\", encoding=\"utf8\")\n",
    "for line in f :\n",
    "    word_vector = line.split()\n",
    "    word = word_vector[0]\n",
    "    word_vector_arr = np.array(word_vector[1:], dtype=\"float32\")\n",
    "    embedding_dict[word]=word_vector_arr\n",
    "f.close()\n",
    "\n",
    "print(f'Embedding vector : {len(embedding_dict)} 개')"
   ]
  },
  {
   "cell_type": "code",
   "execution_count": 60,
   "metadata": {
    "scrolled": true
   },
   "outputs": [
    {
     "data": {
      "text/plain": [
       "100"
      ]
     },
     "execution_count": 60,
     "metadata": {},
     "output_type": "execute_result"
    }
   ],
   "source": [
    "# book 단어 임베딩확인\n",
    "len(embedding_dict[\"book\"])"
   ]
  },
  {
   "cell_type": "markdown",
   "metadata": {},
   "source": [
    "- 학습데이터 사전학습된 임베딩 벡터로 매핑"
   ]
  },
  {
   "cell_type": "code",
   "execution_count": 61,
   "metadata": {},
   "outputs": [
    {
     "data": {
      "text/plain": [
       "1"
      ]
     },
     "execution_count": 61,
     "metadata": {},
     "output_type": "execute_result"
    }
   ],
   "source": [
    "tokenizer.word_index[\"book\"]"
   ]
  },
  {
   "cell_type": "code",
   "execution_count": 65,
   "metadata": {},
   "outputs": [
    {
     "data": {
      "text/plain": [
       "9523"
      ]
     },
     "execution_count": 65,
     "metadata": {},
     "output_type": "execute_result"
    },
    {
     "data": {
      "text/plain": [
       "(9523, 100)"
      ]
     },
     "execution_count": 65,
     "metadata": {},
     "output_type": "execute_result"
    }
   ],
   "source": [
    "# 1) 학습데이터 단어 수 만큼 밀집벡터 행렬 생성(크기 : vocab_size * 100)\n",
    "vocab_size\n",
    "embedding_matrix = np.zeros((vocab_size, 100))\n",
    "embedding_matrix.shape\n",
    "# X_train"
   ]
  },
  {
   "cell_type": "code",
   "execution_count": 66,
   "metadata": {},
   "outputs": [],
   "source": [
    "# 2) 사전학습 임베딩 dict에서 학습데이터 단어 찾아 반환하는 함수(없으면 None 반환)\n",
    "def get_vectors(word):\n",
    "    if word in embedding_dict :\n",
    "        return embedding_dict[word]\n",
    "    else:\n",
    "        None"
   ]
  },
  {
   "cell_type": "code",
   "execution_count": 68,
   "metadata": {},
   "outputs": [],
   "source": [
    "embedding_matrix[1] = get_vectors(\"book\")"
   ]
  },
  {
   "cell_type": "code",
   "execution_count": 70,
   "metadata": {},
   "outputs": [],
   "source": [
    "# 3) 학습데이터 단어사전의 각 단어 2번 함수 활용 임베딩벡터 찾고 1번에서 준비한 밀집벡터행렬에 저장\n",
    "for word, index in tokenizer.word_index.items() :\n",
    "    vect_value = get_vectors(word)\n",
    "    if vect_value is not None :\n",
    "        embedding_matrix[index] = vect_value"
   ]
  },
  {
   "cell_type": "code",
   "execution_count": 71,
   "metadata": {},
   "outputs": [
    {
     "data": {
      "text/plain": [
       "array([-1.97439998e-01,  4.48309988e-01,  1.36889994e-01, -1.55949995e-01,\n",
       "        9.35999990e-01,  7.29860008e-01,  3.40990007e-01, -3.38959992e-01,\n",
       "       -8.95690024e-02, -4.77059990e-01,  3.51119995e-01, -4.21979994e-01,\n",
       "       -1.22210003e-01, -6.33750036e-02, -4.58200008e-01,  7.87230015e-01,\n",
       "        9.40450013e-01,  8.11010003e-02, -2.32240006e-01,  4.07779992e-01,\n",
       "        3.32580000e-01, -4.44579989e-01, -4.71170008e-01,  1.48519993e-01,\n",
       "        9.63079989e-01, -6.52669966e-02, -5.36610000e-02, -6.74740016e-01,\n",
       "       -4.23640013e-01,  9.43920016e-02, -3.86680007e-01,  1.82370007e-01,\n",
       "       -1.28460005e-01, -2.19520003e-01, -5.89929998e-01,  7.36020029e-01,\n",
       "       -2.40089998e-01,  3.23920012e-01, -2.46629998e-01, -4.06839997e-01,\n",
       "       -5.24680018e-01,  4.61739987e-01, -1.49360001e-01, -1.19989999e-01,\n",
       "       -1.39899999e-01, -4.49440002e-01, -2.65650004e-01, -7.00609982e-01,\n",
       "        3.01880002e-01, -1.12089999e-01,  6.63230002e-01,  3.96979988e-01,\n",
       "        6.91579998e-01,  8.34420025e-01, -5.27170002e-01, -2.53139997e+00,\n",
       "        1.32809997e-01,  3.02529991e-01,  1.10619998e+00,  7.22210016e-03,\n",
       "        2.60309994e-01,  1.15840006e+00, -7.93299973e-02, -7.66589999e-01,\n",
       "        1.26230001e+00, -6.20710015e-01,  5.98209977e-01,  7.35390007e-01,\n",
       "        3.85729998e-01, -4.02929991e-01, -3.14400010e-02,  7.78630018e-01,\n",
       "        3.15250009e-01,  1.90029994e-01, -6.58209980e-01,  4.05479997e-01,\n",
       "        5.35959983e-03,  5.52739985e-02, -1.22379994e+00, -4.89119999e-02,\n",
       "       -3.05110008e-01,  4.44730014e-01, -3.38259995e-01, -2.21330002e-01,\n",
       "       -1.32140005e+00, -6.47610009e-01, -4.40210015e-01, -1.49100006e+00,\n",
       "       -2.24949997e-02,  6.03459999e-02,  1.48330003e-01,  4.41619992e-01,\n",
       "        7.97869980e-01, -2.80759990e-01, -2.94000003e-02, -1.56560004e-01,\n",
       "       -1.26499996e-01, -5.69679976e-01,  1.53739995e-03,  6.66000009e-01])"
      ]
     },
     "execution_count": 71,
     "metadata": {},
     "output_type": "execute_result"
    }
   ],
   "source": [
    "embedding_matrix[1]"
   ]
  },
  {
   "cell_type": "code",
   "execution_count": 72,
   "metadata": {},
   "outputs": [
    {
     "data": {
      "text/plain": [
       "array([-1.9744e-01,  4.4831e-01,  1.3689e-01, -1.5595e-01,  9.3600e-01,\n",
       "        7.2986e-01,  3.4099e-01, -3.3896e-01, -8.9569e-02, -4.7706e-01,\n",
       "        3.5112e-01, -4.2198e-01, -1.2221e-01, -6.3375e-02, -4.5820e-01,\n",
       "        7.8723e-01,  9.4045e-01,  8.1101e-02, -2.3224e-01,  4.0778e-01,\n",
       "        3.3258e-01, -4.4458e-01, -4.7117e-01,  1.4852e-01,  9.6308e-01,\n",
       "       -6.5267e-02, -5.3661e-02, -6.7474e-01, -4.2364e-01,  9.4392e-02,\n",
       "       -3.8668e-01,  1.8237e-01, -1.2846e-01, -2.1952e-01, -5.8993e-01,\n",
       "        7.3602e-01, -2.4009e-01,  3.2392e-01, -2.4663e-01, -4.0684e-01,\n",
       "       -5.2468e-01,  4.6174e-01, -1.4936e-01, -1.1999e-01, -1.3990e-01,\n",
       "       -4.4944e-01, -2.6565e-01, -7.0061e-01,  3.0188e-01, -1.1209e-01,\n",
       "        6.6323e-01,  3.9698e-01,  6.9158e-01,  8.3442e-01, -5.2717e-01,\n",
       "       -2.5314e+00,  1.3281e-01,  3.0253e-01,  1.1062e+00,  7.2221e-03,\n",
       "        2.6031e-01,  1.1584e+00, -7.9330e-02, -7.6659e-01,  1.2623e+00,\n",
       "       -6.2071e-01,  5.9821e-01,  7.3539e-01,  3.8573e-01, -4.0293e-01,\n",
       "       -3.1440e-02,  7.7863e-01,  3.1525e-01,  1.9003e-01, -6.5821e-01,\n",
       "        4.0548e-01,  5.3596e-03,  5.5274e-02, -1.2238e+00, -4.8912e-02,\n",
       "       -3.0511e-01,  4.4473e-01, -3.3826e-01, -2.2133e-01, -1.3214e+00,\n",
       "       -6.4761e-01, -4.4021e-01, -1.4910e+00, -2.2495e-02,  6.0346e-02,\n",
       "        1.4833e-01,  4.4162e-01,  7.9787e-01, -2.8076e-01, -2.9400e-02,\n",
       "       -1.5656e-01, -1.2650e-01, -5.6968e-01,  1.5374e-03,  6.6600e-01],\n",
       "      dtype=float32)"
      ]
     },
     "execution_count": 72,
     "metadata": {},
     "output_type": "execute_result"
    }
   ],
   "source": [
    "embedding_dict[\"book\"]"
   ]
  },
  {
   "cell_type": "code",
   "execution_count": 77,
   "metadata": {},
   "outputs": [],
   "source": [
    "# 모델 생성 및 컴파일\n",
    "dropout_rate = 0.3\n",
    "num_filters = 32\n",
    "embedding_dim = 100\n",
    "kernel_size = 5\n",
    "activation = 'relu'\n",
    "optimizer = 'adam'\n",
    "batch_size = 32\n",
    "epochs = 10\n",
    "validation_split = 0.2"
   ]
  },
  {
   "cell_type": "code",
   "execution_count": 78,
   "metadata": {},
   "outputs": [],
   "source": [
    "# 학습 설정\n",
    "from tensorflow.keras.layers import Dense, Conv1D, GlobalMaxPooling1D, Embedding, Dropout, MaxPooling1D\n",
    "from tensorflow.keras.models import Sequential\n",
    "from tensorflow.keras.callbacks import EarlyStopping, ModelCheckpoint\n",
    "\n",
    "model = Sequential([\n",
    "        Embedding(vocab_size, embedding_dim, weights=[embedding_matrix], trainable=True),\n",
    "        Dropout(dropout_rate),\n",
    "        Conv1D(filters=num_filters, kernel_size=kernel_size, padding=\"valid\", activation=activation),\n",
    "        GlobalMaxPooling1D(),\n",
    "        Dropout(dropout_rate),\n",
    "        Dense(6, activation=\"softmax\")\n",
    "])\n",
    "model.compile(optimizer=optimizer, loss=\"categorical_crossentropy\",\n",
    "              metrics=[\"acc\"])\n",
    "\n",
    "early_stopping_callback = EarlyStopping(monitor=\"val_loss\", patience=3, restore_best_weights=True)\n",
    "check_pointer = ModelCheckpoint(\"./model/best_model_intent.keras\", save_best_only=True, monitor=\"val_loss\", verbose=1)"
   ]
  },
  {
   "cell_type": "code",
   "execution_count": 79,
   "metadata": {
    "scrolled": true
   },
   "outputs": [
    {
     "name": "stdout",
     "output_type": "stream",
     "text": [
      "Epoch 1/10\n",
      "\u001b[1m231/236\u001b[0m \u001b[32m━━━━━━━━━━━━━━━━━━━\u001b[0m\u001b[37m━\u001b[0m \u001b[1m0s\u001b[0m 6ms/step - acc: 0.5683 - loss: 1.2687\n",
      "Epoch 1: val_loss improved from inf to 0.20151, saving model to ./model/best_model_intent.keras\n",
      "\u001b[1m236/236\u001b[0m \u001b[32m━━━━━━━━━━━━━━━━━━━━\u001b[0m\u001b[37m\u001b[0m \u001b[1m3s\u001b[0m 8ms/step - acc: 0.5728 - loss: 1.2562 - val_acc: 0.9618 - val_loss: 0.2015\n",
      "Epoch 2/10\n",
      "\u001b[1m229/236\u001b[0m \u001b[32m━━━━━━━━━━━━━━━━━━━\u001b[0m\u001b[37m━\u001b[0m \u001b[1m0s\u001b[0m 7ms/step - acc: 0.9257 - loss: 0.2668 \n",
      "Epoch 2: val_loss improved from 0.20151 to 0.10255, saving model to ./model/best_model_intent.keras\n",
      "\u001b[1m236/236\u001b[0m \u001b[32m━━━━━━━━━━━━━━━━━━━━\u001b[0m\u001b[37m\u001b[0m \u001b[1m2s\u001b[0m 8ms/step - acc: 0.9259 - loss: 0.2658 - val_acc: 0.9788 - val_loss: 0.1026\n",
      "Epoch 3/10\n",
      "\u001b[1m233/236\u001b[0m \u001b[32m━━━━━━━━━━━━━━━━━━━\u001b[0m\u001b[37m━\u001b[0m \u001b[1m0s\u001b[0m 7ms/step - acc: 0.9577 - loss: 0.1515\n",
      "Epoch 3: val_loss improved from 0.10255 to 0.07377, saving model to ./model/best_model_intent.keras\n",
      "\u001b[1m236/236\u001b[0m \u001b[32m━━━━━━━━━━━━━━━━━━━━\u001b[0m\u001b[37m\u001b[0m \u001b[1m2s\u001b[0m 7ms/step - acc: 0.9578 - loss: 0.1512 - val_acc: 0.9841 - val_loss: 0.0738\n",
      "Epoch 4/10\n",
      "\u001b[1m235/236\u001b[0m \u001b[32m━━━━━━━━━━━━━━━━━━━\u001b[0m\u001b[37m━\u001b[0m \u001b[1m0s\u001b[0m 7ms/step - acc: 0.9687 - loss: 0.1048\n",
      "Epoch 4: val_loss improved from 0.07377 to 0.05691, saving model to ./model/best_model_intent.keras\n",
      "\u001b[1m236/236\u001b[0m \u001b[32m━━━━━━━━━━━━━━━━━━━━\u001b[0m\u001b[37m\u001b[0m \u001b[1m2s\u001b[0m 7ms/step - acc: 0.9687 - loss: 0.1048 - val_acc: 0.9867 - val_loss: 0.0569\n",
      "Epoch 5/10\n",
      "\u001b[1m232/236\u001b[0m \u001b[32m━━━━━━━━━━━━━━━━━━━\u001b[0m\u001b[37m━\u001b[0m \u001b[1m0s\u001b[0m 6ms/step - acc: 0.9781 - loss: 0.0832\n",
      "Epoch 5: val_loss improved from 0.05691 to 0.05251, saving model to ./model/best_model_intent.keras\n",
      "\u001b[1m236/236\u001b[0m \u001b[32m━━━━━━━━━━━━━━━━━━━━\u001b[0m\u001b[37m\u001b[0m \u001b[1m2s\u001b[0m 7ms/step - acc: 0.9781 - loss: 0.0832 - val_acc: 0.9846 - val_loss: 0.0525\n",
      "Epoch 6/10\n",
      "\u001b[1m230/236\u001b[0m \u001b[32m━━━━━━━━━━━━━━━━━━━\u001b[0m\u001b[37m━\u001b[0m \u001b[1m0s\u001b[0m 7ms/step - acc: 0.9796 - loss: 0.0703\n",
      "Epoch 6: val_loss improved from 0.05251 to 0.04754, saving model to ./model/best_model_intent.keras\n",
      "\u001b[1m236/236\u001b[0m \u001b[32m━━━━━━━━━━━━━━━━━━━━\u001b[0m\u001b[37m\u001b[0m \u001b[1m2s\u001b[0m 8ms/step - acc: 0.9796 - loss: 0.0703 - val_acc: 0.9867 - val_loss: 0.0475\n",
      "Epoch 7/10\n",
      "\u001b[1m235/236\u001b[0m \u001b[32m━━━━━━━━━━━━━━━━━━━\u001b[0m\u001b[37m━\u001b[0m \u001b[1m0s\u001b[0m 7ms/step - acc: 0.9854 - loss: 0.0541\n",
      "Epoch 7: val_loss improved from 0.04754 to 0.04381, saving model to ./model/best_model_intent.keras\n",
      "\u001b[1m236/236\u001b[0m \u001b[32m━━━━━━━━━━━━━━━━━━━━\u001b[0m\u001b[37m\u001b[0m \u001b[1m2s\u001b[0m 7ms/step - acc: 0.9854 - loss: 0.0541 - val_acc: 0.9883 - val_loss: 0.0438\n",
      "Epoch 8/10\n",
      "\u001b[1m230/236\u001b[0m \u001b[32m━━━━━━━━━━━━━━━━━━━\u001b[0m\u001b[37m━\u001b[0m \u001b[1m0s\u001b[0m 6ms/step - acc: 0.9865 - loss: 0.0557\n",
      "Epoch 8: val_loss improved from 0.04381 to 0.04149, saving model to ./model/best_model_intent.keras\n",
      "\u001b[1m236/236\u001b[0m \u001b[32m━━━━━━━━━━━━━━━━━━━━\u001b[0m\u001b[37m\u001b[0m \u001b[1m2s\u001b[0m 7ms/step - acc: 0.9864 - loss: 0.0556 - val_acc: 0.9883 - val_loss: 0.0415\n",
      "Epoch 9/10\n",
      "\u001b[1m228/236\u001b[0m \u001b[32m━━━━━━━━━━━━━━━━━━━\u001b[0m\u001b[37m━\u001b[0m \u001b[1m0s\u001b[0m 7ms/step - acc: 0.9892 - loss: 0.0423\n",
      "Epoch 9: val_loss improved from 0.04149 to 0.04120, saving model to ./model/best_model_intent.keras\n",
      "\u001b[1m236/236\u001b[0m \u001b[32m━━━━━━━━━━━━━━━━━━━━\u001b[0m\u001b[37m\u001b[0m \u001b[1m2s\u001b[0m 8ms/step - acc: 0.9892 - loss: 0.0423 - val_acc: 0.9862 - val_loss: 0.0412\n",
      "Epoch 10/10\n",
      "\u001b[1m230/236\u001b[0m \u001b[32m━━━━━━━━━━━━━━━━━━━\u001b[0m\u001b[37m━\u001b[0m \u001b[1m0s\u001b[0m 8ms/step - acc: 0.9906 - loss: 0.0402\n",
      "Epoch 10: val_loss improved from 0.04120 to 0.03896, saving model to ./model/best_model_intent.keras\n",
      "\u001b[1m236/236\u001b[0m \u001b[32m━━━━━━━━━━━━━━━━━━━━\u001b[0m\u001b[37m\u001b[0m \u001b[1m2s\u001b[0m 8ms/step - acc: 0.9906 - loss: 0.0402 - val_acc: 0.9883 - val_loss: 0.0390\n"
     ]
    },
    {
     "data": {
      "text/plain": [
       "<keras.src.callbacks.history.History at 0x1f6236b4590>"
      ]
     },
     "execution_count": 79,
     "metadata": {},
     "output_type": "execute_result"
    }
   ],
   "source": [
    "# 학습\n",
    "model.fit(\n",
    "    X_train, y_train,\n",
    "    validation_split=validation_split,\n",
    "    epochs=epochs,\n",
    "    batch_size = batch_size,\n",
    "    callbacks=[early_stopping_callback, check_pointer]\n",
    ")"
   ]
  },
  {
   "cell_type": "code",
   "execution_count": 81,
   "metadata": {},
   "outputs": [
    {
     "name": "stdout",
     "output_type": "stream",
     "text": [
      "\u001b[1m19/19\u001b[0m \u001b[32m━━━━━━━━━━━━━━━━━━━━\u001b[0m\u001b[37m\u001b[0m \u001b[1m0s\u001b[0m 2ms/step - acc: 0.9884 - loss: 0.0264     \n",
      "테스트 데이터 정확도\n",
      "Loss: 0.03229399770498276, Accuracy: 0.9865546226501465\n"
     ]
    }
   ],
   "source": [
    "loss, accuracy = model.evaluate(X_test_padded, z)\n",
    "print(\"테스트 데이터 정확도\")\n",
    "print(f'Loss: {loss}, Accuracy: {accuracy}')"
   ]
  },
  {
   "cell_type": "code",
   "execution_count": 84,
   "metadata": {},
   "outputs": [
    {
     "data": {
      "text/plain": [
       "array([[0., 0., 0., 1., 0., 0.],\n",
       "       [0., 0., 1., 0., 0., 0.],\n",
       "       [0., 0., 0., 1., 0., 0.],\n",
       "       ...,\n",
       "       [1., 0., 0., 0., 0., 0.],\n",
       "       [0., 0., 1., 0., 0., 0.],\n",
       "       [0., 0., 1., 0., 0., 0.]])"
      ]
     },
     "execution_count": 84,
     "metadata": {},
     "output_type": "execute_result"
    }
   ],
   "source": [
    "y_val"
   ]
  },
  {
   "cell_type": "code",
   "execution_count": 85,
   "metadata": {},
   "outputs": [
    {
     "name": "stdout",
     "output_type": "stream",
     "text": [
      "\u001b[1m74/74\u001b[0m \u001b[32m━━━━━━━━━━━━━━━━━━━━\u001b[0m\u001b[37m\u001b[0m \u001b[1m0s\u001b[0m 1ms/step \n",
      "검증 데이터 정확도: 0.9804836656767076\n"
     ]
    }
   ],
   "source": [
    "from sklearn.metrics import accuracy_score\n",
    "\n",
    "val_pred = model.predict(X_val)\n",
    "y_val_label = np.argmax(y_val, axis=1)\n",
    "val_pred_label = np.argmax(val_pred, axis=1)\n",
    "print(\"검증 데이터 정확도:\", accuracy_score(y_val_label, val_pred_label))"
   ]
  },
  {
   "cell_type": "code",
   "execution_count": 93,
   "metadata": {
    "scrolled": true
   },
   "outputs": [
    {
     "name": "stdout",
     "output_type": "stream",
     "text": [
      "Epoch 1/20\n",
      "\u001b[1m19/19\u001b[0m \u001b[32m━━━━━━━━━━━━━━━━━━━━\u001b[0m\u001b[37m\u001b[0m \u001b[1m1s\u001b[0m 23ms/step - acc: 0.9900 - loss: 0.0368 - val_acc: 0.9805 - val_loss: 0.0566\n",
      "Epoch 2/20\n",
      "\u001b[1m19/19\u001b[0m \u001b[32m━━━━━━━━━━━━━━━━━━━━\u001b[0m\u001b[37m\u001b[0m \u001b[1m0s\u001b[0m 18ms/step - acc: 0.9928 - loss: 0.0307 - val_acc: 0.9809 - val_loss: 0.0560\n",
      "Epoch 3/20\n",
      "\u001b[1m19/19\u001b[0m \u001b[32m━━━━━━━━━━━━━━━━━━━━\u001b[0m\u001b[37m\u001b[0m \u001b[1m0s\u001b[0m 19ms/step - acc: 0.9904 - loss: 0.0388 - val_acc: 0.9818 - val_loss: 0.0554\n",
      "Epoch 4/20\n",
      "\u001b[1m19/19\u001b[0m \u001b[32m━━━━━━━━━━━━━━━━━━━━\u001b[0m\u001b[37m\u001b[0m \u001b[1m0s\u001b[0m 18ms/step - acc: 0.9895 - loss: 0.0332 - val_acc: 0.9818 - val_loss: 0.0551\n",
      "Epoch 5/20\n",
      "\u001b[1m19/19\u001b[0m \u001b[32m━━━━━━━━━━━━━━━━━━━━\u001b[0m\u001b[37m\u001b[0m \u001b[1m0s\u001b[0m 20ms/step - acc: 0.9927 - loss: 0.0334 - val_acc: 0.9818 - val_loss: 0.0550\n",
      "Epoch 6/20\n",
      "\u001b[1m19/19\u001b[0m \u001b[32m━━━━━━━━━━━━━━━━━━━━\u001b[0m\u001b[37m\u001b[0m \u001b[1m0s\u001b[0m 19ms/step - acc: 0.9904 - loss: 0.0374 - val_acc: 0.9809 - val_loss: 0.0548\n",
      "Epoch 7/20\n",
      "\u001b[1m19/19\u001b[0m \u001b[32m━━━━━━━━━━━━━━━━━━━━\u001b[0m\u001b[37m\u001b[0m \u001b[1m0s\u001b[0m 18ms/step - acc: 0.9902 - loss: 0.0357 - val_acc: 0.9818 - val_loss: 0.0546\n",
      "Epoch 8/20\n",
      "\u001b[1m19/19\u001b[0m \u001b[32m━━━━━━━━━━━━━━━━━━━━\u001b[0m\u001b[37m\u001b[0m \u001b[1m0s\u001b[0m 18ms/step - acc: 0.9939 - loss: 0.0276 - val_acc: 0.9822 - val_loss: 0.0543\n",
      "Epoch 9/20\n",
      "\u001b[1m19/19\u001b[0m \u001b[32m━━━━━━━━━━━━━━━━━━━━\u001b[0m\u001b[37m\u001b[0m \u001b[1m0s\u001b[0m 19ms/step - acc: 0.9931 - loss: 0.0295 - val_acc: 0.9822 - val_loss: 0.0545\n",
      "Epoch 10/20\n",
      "\u001b[1m19/19\u001b[0m \u001b[32m━━━━━━━━━━━━━━━━━━━━\u001b[0m\u001b[37m\u001b[0m \u001b[1m0s\u001b[0m 18ms/step - acc: 0.9911 - loss: 0.0284 - val_acc: 0.9822 - val_loss: 0.0544\n",
      "Epoch 11/20\n",
      "\u001b[1m19/19\u001b[0m \u001b[32m━━━━━━━━━━━━━━━━━━━━\u001b[0m\u001b[37m\u001b[0m \u001b[1m0s\u001b[0m 19ms/step - acc: 0.9921 - loss: 0.0277 - val_acc: 0.9822 - val_loss: 0.0542\n",
      "Epoch 12/20\n",
      "\u001b[1m19/19\u001b[0m \u001b[32m━━━━━━━━━━━━━━━━━━━━\u001b[0m\u001b[37m\u001b[0m \u001b[1m0s\u001b[0m 19ms/step - acc: 0.9918 - loss: 0.0319 - val_acc: 0.9830 - val_loss: 0.0540\n",
      "Epoch 13/20\n",
      "\u001b[1m19/19\u001b[0m \u001b[32m━━━━━━━━━━━━━━━━━━━━\u001b[0m\u001b[37m\u001b[0m \u001b[1m0s\u001b[0m 19ms/step - acc: 0.9936 - loss: 0.0288 - val_acc: 0.9830 - val_loss: 0.0539\n",
      "Epoch 14/20\n",
      "\u001b[1m19/19\u001b[0m \u001b[32m━━━━━━━━━━━━━━━━━━━━\u001b[0m\u001b[37m\u001b[0m \u001b[1m0s\u001b[0m 19ms/step - acc: 0.9922 - loss: 0.0293 - val_acc: 0.9830 - val_loss: 0.0540\n",
      "Epoch 15/20\n",
      "\u001b[1m19/19\u001b[0m \u001b[32m━━━━━━━━━━━━━━━━━━━━\u001b[0m\u001b[37m\u001b[0m \u001b[1m0s\u001b[0m 19ms/step - acc: 0.9912 - loss: 0.0270 - val_acc: 0.9822 - val_loss: 0.0541\n",
      "Epoch 16/20\n",
      "\u001b[1m19/19\u001b[0m \u001b[32m━━━━━━━━━━━━━━━━━━━━\u001b[0m\u001b[37m\u001b[0m \u001b[1m0s\u001b[0m 20ms/step - acc: 0.9944 - loss: 0.0232 - val_acc: 0.9818 - val_loss: 0.0542\n",
      "Epoch 17/20\n",
      "\u001b[1m19/19\u001b[0m \u001b[32m━━━━━━━━━━━━━━━━━━━━\u001b[0m\u001b[37m\u001b[0m \u001b[1m0s\u001b[0m 20ms/step - acc: 0.9946 - loss: 0.0256 - val_acc: 0.9818 - val_loss: 0.0542\n",
      "Epoch 18/20\n",
      "\u001b[1m19/19\u001b[0m \u001b[32m━━━━━━━━━━━━━━━━━━━━\u001b[0m\u001b[37m\u001b[0m \u001b[1m0s\u001b[0m 20ms/step - acc: 0.9936 - loss: 0.0243 - val_acc: 0.9818 - val_loss: 0.0543\n",
      "Epoch 19/20\n",
      "\u001b[1m19/19\u001b[0m \u001b[32m━━━━━━━━━━━━━━━━━━━━\u001b[0m\u001b[37m\u001b[0m \u001b[1m0s\u001b[0m 19ms/step - acc: 0.9946 - loss: 0.0231 - val_acc: 0.9822 - val_loss: 0.0543\n",
      "Epoch 20/20\n",
      "\u001b[1m19/19\u001b[0m \u001b[32m━━━━━━━━━━━━━━━━━━━━\u001b[0m\u001b[37m\u001b[0m \u001b[1m0s\u001b[0m 19ms/step - acc: 0.9945 - loss: 0.0204 - val_acc: 0.9822 - val_loss: 0.0545\n"
     ]
    }
   ],
   "source": [
    "history= model.fit(X_train, y_train,\n",
    "                  epochs = 20, batch_size=512,\n",
    "                  validation_data=(X_val, y_val))"
   ]
  },
  {
   "cell_type": "code",
   "execution_count": 94,
   "metadata": {},
   "outputs": [
    {
     "data": {
      "text/plain": [
       "[<matplotlib.lines.Line2D at 0x1f622eb4d70>]"
      ]
     },
     "execution_count": 94,
     "metadata": {},
     "output_type": "execute_result"
    },
    {
     "data": {
      "text/plain": [
       "[<matplotlib.lines.Line2D at 0x1f6336e6a50>]"
      ]
     },
     "execution_count": 94,
     "metadata": {},
     "output_type": "execute_result"
    },
    {
     "data": {
      "text/plain": [
       "Text(0.5, 1.0, 'model loss')"
      ]
     },
     "execution_count": 94,
     "metadata": {},
     "output_type": "execute_result"
    },
    {
     "data": {
      "text/plain": [
       "Text(0, 0.5, 'loss')"
      ]
     },
     "execution_count": 94,
     "metadata": {},
     "output_type": "execute_result"
    },
    {
     "data": {
      "text/plain": [
       "Text(0.5, 0, 'epoch')"
      ]
     },
     "execution_count": 94,
     "metadata": {},
     "output_type": "execute_result"
    },
    {
     "data": {
      "text/plain": [
       "<matplotlib.legend.Legend at 0x1f63361f110>"
      ]
     },
     "execution_count": 94,
     "metadata": {},
     "output_type": "execute_result"
    },
    {
     "data": {
      "image/png": "[encoded data removed]",
      "text/plain": [
       "<Figure size 640x480 with 1 Axes>"
      ]
     },
     "metadata": {},
     "output_type": "display_data"
    }
   ],
   "source": [
    "epochs = range(1, len(history.history['acc']) + 1)\n",
    "plt.plot(epochs, history.history['loss'])\n",
    "plt.plot(epochs, history.history['val_loss'])\n",
    "plt.title('model loss')\n",
    "plt.ylabel('loss')\n",
    "plt.xlabel('epoch')\n",
    "plt.legend(['train', 'val'], loc='upper left')\n",
    "plt.show()"
   ]
  },
  {
   "cell_type": "code",
   "execution_count": 95,
   "metadata": {},
   "outputs": [
    {
     "data": {
      "text/plain": [
       "[<matplotlib.lines.Line2D at 0x1f633605430>]"
      ]
     },
     "execution_count": 95,
     "metadata": {},
     "output_type": "execute_result"
    },
    {
     "data": {
      "text/plain": [
       "[<matplotlib.lines.Line2D at 0x1f63373efc0>]"
      ]
     },
     "execution_count": 95,
     "metadata": {},
     "output_type": "execute_result"
    },
    {
     "data": {
      "text/plain": [
       "Text(0.5, 1.0, 'model accuracy')"
      ]
     },
     "execution_count": 95,
     "metadata": {},
     "output_type": "execute_result"
    },
    {
     "data": {
      "text/plain": [
       "Text(0, 0.5, 'acc')"
      ]
     },
     "execution_count": 95,
     "metadata": {},
     "output_type": "execute_result"
    },
    {
     "data": {
      "text/plain": [
       "Text(0.5, 0, 'epoch')"
      ]
     },
     "execution_count": 95,
     "metadata": {},
     "output_type": "execute_result"
    },
    {
     "data": {
      "text/plain": [
       "<matplotlib.legend.Legend at 0x1f6336f1ca0>"
      ]
     },
     "execution_count": 95,
     "metadata": {},
     "output_type": "execute_result"
    },
    {
     "data": {
      "image/png": "[encoded data removed]",
      "text/plain": [
       "<Figure size 640x480 with 1 Axes>"
      ]
     },
     "metadata": {},
     "output_type": "display_data"
    }
   ],
   "source": [
    "epochs = range(1, len(history.history['acc']) + 1)\n",
    "plt.plot(epochs, history.history['acc'])\n",
    "plt.plot(epochs, history.history['val_acc'])\n",
    "plt.title('model accuracy')\n",
    "plt.ylabel('acc')\n",
    "plt.xlabel('epoch')\n",
    "plt.legend(['train', 'val'], loc='upper left')\n",
    "plt.show()"
   ]
  },
  {
   "cell_type": "code",
   "execution_count": 298,
   "metadata": {},
   "outputs": [
    {
     "data": {
      "text/html": [
       "<pre style=\"white-space:pre;overflow-x:auto;line-height:normal;font-family:Menlo,'DejaVu Sans Mono',consolas,'Courier New',monospace\"><span style=\"font-weight: bold\">Model: \"sequential_2\"</span>\n",
       "</pre>\n"
      ],
      "text/plain": [
       "\u001b[1mModel: \"sequential_2\"\u001b[0m\n"
      ]
     },
     "metadata": {},
     "output_type": "display_data"
    },
    {
     "data": {
      "text/html": [
       "<pre style=\"white-space:pre;overflow-x:auto;line-height:normal;font-family:Menlo,'DejaVu Sans Mono',consolas,'Courier New',monospace\">┏━━━━━━━━━━━━━━━━━━━━━━━━━━━━━━━━━━━━━━┳━━━━━━━━━━━━━━━━━━━━━━━━━━━━━┳━━━━━━━━━━━━━━━━━┓\n",
       "┃<span style=\"font-weight: bold\"> Layer (type)                         </span>┃<span style=\"font-weight: bold\"> Output Shape                </span>┃<span style=\"font-weight: bold\">         Param # </span>┃\n",
       "┡━━━━━━━━━━━━━━━━━━━━━━━━━━━━━━━━━━━━━━╇━━━━━━━━━━━━━━━━━━━━━━━━━━━━━╇━━━━━━━━━━━━━━━━━┩\n",
       "│ embedding_2 (<span style=\"color: #0087ff; text-decoration-color: #0087ff\">Embedding</span>)              │ (<span style=\"color: #00d7ff; text-decoration-color: #00d7ff\">None</span>, <span style=\"color: #00af00; text-decoration-color: #00af00\">22</span>, <span style=\"color: #00af00; text-decoration-color: #00af00\">100</span>)             │         <span style=\"color: #00af00; text-decoration-color: #00af00\">952,500</span> │\n",
       "├──────────────────────────────────────┼─────────────────────────────┼─────────────────┤\n",
       "│ dropout_4 (<span style=\"color: #0087ff; text-decoration-color: #0087ff\">Dropout</span>)                  │ (<span style=\"color: #00d7ff; text-decoration-color: #00d7ff\">None</span>, <span style=\"color: #00af00; text-decoration-color: #00af00\">22</span>, <span style=\"color: #00af00; text-decoration-color: #00af00\">100</span>)             │               <span style=\"color: #00af00; text-decoration-color: #00af00\">0</span> │\n",
       "├──────────────────────────────────────┼─────────────────────────────┼─────────────────┤\n",
       "│ conv1d_2 (<span style=\"color: #0087ff; text-decoration-color: #0087ff\">Conv1D</span>)                    │ (<span style=\"color: #00d7ff; text-decoration-color: #00d7ff\">None</span>, <span style=\"color: #00af00; text-decoration-color: #00af00\">18</span>, <span style=\"color: #00af00; text-decoration-color: #00af00\">32</span>)              │          <span style=\"color: #00af00; text-decoration-color: #00af00\">16,032</span> │\n",
       "├──────────────────────────────────────┼─────────────────────────────┼─────────────────┤\n",
       "│ global_max_pooling1d_2               │ (<span style=\"color: #00d7ff; text-decoration-color: #00d7ff\">None</span>, <span style=\"color: #00af00; text-decoration-color: #00af00\">32</span>)                  │               <span style=\"color: #00af00; text-decoration-color: #00af00\">0</span> │\n",
       "│ (<span style=\"color: #0087ff; text-decoration-color: #0087ff\">GlobalMaxPooling1D</span>)                 │                             │                 │\n",
       "├──────────────────────────────────────┼─────────────────────────────┼─────────────────┤\n",
       "│ dropout_5 (<span style=\"color: #0087ff; text-decoration-color: #0087ff\">Dropout</span>)                  │ (<span style=\"color: #00d7ff; text-decoration-color: #00d7ff\">None</span>, <span style=\"color: #00af00; text-decoration-color: #00af00\">32</span>)                  │               <span style=\"color: #00af00; text-decoration-color: #00af00\">0</span> │\n",
       "├──────────────────────────────────────┼─────────────────────────────┼─────────────────┤\n",
       "│ dense_2 (<span style=\"color: #0087ff; text-decoration-color: #0087ff\">Dense</span>)                      │ (<span style=\"color: #00d7ff; text-decoration-color: #00d7ff\">None</span>, <span style=\"color: #00af00; text-decoration-color: #00af00\">6</span>)                   │             <span style=\"color: #00af00; text-decoration-color: #00af00\">198</span> │\n",
       "└──────────────────────────────────────┴─────────────────────────────┴─────────────────┘\n",
       "</pre>\n"
      ],
      "text/plain": [
       "┏━━━━━━━━━━━━━━━━━━━━━━━━━━━━━━━━━━━━━━┳━━━━━━━━━━━━━━━━━━━━━━━━━━━━━┳━━━━━━━━━━━━━━━━━┓\n",
       "┃\u001b[1m \u001b[0m\u001b[1mLayer (type)                        \u001b[0m\u001b[1m \u001b[0m┃\u001b[1m \u001b[0m\u001b[1mOutput Shape               \u001b[0m\u001b[1m \u001b[0m┃\u001b[1m \u001b[0m\u001b[1m        Param #\u001b[0m\u001b[1m \u001b[0m┃\n",
       "┡━━━━━━━━━━━━━━━━━━━━━━━━━━━━━━━━━━━━━━╇━━━━━━━━━━━━━━━━━━━━━━━━━━━━━╇━━━━━━━━━━━━━━━━━┩\n",
       "│ embedding_2 (\u001b[38;5;33mEmbedding\u001b[0m)              │ (\u001b[38;5;45mNone\u001b[0m, \u001b[38;5;34m22\u001b[0m, \u001b[38;5;34m100\u001b[0m)             │         \u001b[38;5;34m952,500\u001b[0m │\n",
       "├──────────────────────────────────────┼─────────────────────────────┼─────────────────┤\n",
       "│ dropout_4 (\u001b[38;5;33mDropout\u001b[0m)                  │ (\u001b[38;5;45mNone\u001b[0m, \u001b[38;5;34m22\u001b[0m, \u001b[38;5;34m100\u001b[0m)             │               \u001b[38;5;34m0\u001b[0m │\n",
       "├──────────────────────────────────────┼─────────────────────────────┼─────────────────┤\n",
       "│ conv1d_2 (\u001b[38;5;33mConv1D\u001b[0m)                    │ (\u001b[38;5;45mNone\u001b[0m, \u001b[38;5;34m18\u001b[0m, \u001b[38;5;34m32\u001b[0m)              │          \u001b[38;5;34m16,032\u001b[0m │\n",
       "├──────────────────────────────────────┼─────────────────────────────┼─────────────────┤\n",
       "│ global_max_pooling1d_2               │ (\u001b[38;5;45mNone\u001b[0m, \u001b[38;5;34m32\u001b[0m)                  │               \u001b[38;5;34m0\u001b[0m │\n",
       "│ (\u001b[38;5;33mGlobalMaxPooling1D\u001b[0m)                 │                             │                 │\n",
       "├──────────────────────────────────────┼─────────────────────────────┼─────────────────┤\n",
       "│ dropout_5 (\u001b[38;5;33mDropout\u001b[0m)                  │ (\u001b[38;5;45mNone\u001b[0m, \u001b[38;5;34m32\u001b[0m)                  │               \u001b[38;5;34m0\u001b[0m │\n",
       "├──────────────────────────────────────┼─────────────────────────────┼─────────────────┤\n",
       "│ dense_2 (\u001b[38;5;33mDense\u001b[0m)                      │ (\u001b[38;5;45mNone\u001b[0m, \u001b[38;5;34m6\u001b[0m)                   │             \u001b[38;5;34m198\u001b[0m │\n",
       "└──────────────────────────────────────┴─────────────────────────────┴─────────────────┘\n"
      ]
     },
     "metadata": {},
     "output_type": "display_data"
    },
    {
     "data": {
      "text/html": [
       "<pre style=\"white-space:pre;overflow-x:auto;line-height:normal;font-family:Menlo,'DejaVu Sans Mono',consolas,'Courier New',monospace\"><span style=\"font-weight: bold\"> Total params: </span><span style=\"color: #00af00; text-decoration-color: #00af00\">2,906,192</span> (11.09 MB)\n",
       "</pre>\n"
      ],
      "text/plain": [
       "\u001b[1m Total params: \u001b[0m\u001b[38;5;34m2,906,192\u001b[0m (11.09 MB)\n"
      ]
     },
     "metadata": {},
     "output_type": "display_data"
    },
    {
     "data": {
      "text/html": [
       "<pre style=\"white-space:pre;overflow-x:auto;line-height:normal;font-family:Menlo,'DejaVu Sans Mono',consolas,'Courier New',monospace\"><span style=\"font-weight: bold\"> Trainable params: </span><span style=\"color: #00af00; text-decoration-color: #00af00\">968,730</span> (3.70 MB)\n",
       "</pre>\n"
      ],
      "text/plain": [
       "\u001b[1m Trainable params: \u001b[0m\u001b[38;5;34m968,730\u001b[0m (3.70 MB)\n"
      ]
     },
     "metadata": {},
     "output_type": "display_data"
    },
    {
     "data": {
      "text/html": [
       "<pre style=\"white-space:pre;overflow-x:auto;line-height:normal;font-family:Menlo,'DejaVu Sans Mono',consolas,'Courier New',monospace\"><span style=\"font-weight: bold\"> Non-trainable params: </span><span style=\"color: #00af00; text-decoration-color: #00af00\">0</span> (0.00 B)\n",
       "</pre>\n"
      ],
      "text/plain": [
       "\u001b[1m Non-trainable params: \u001b[0m\u001b[38;5;34m0\u001b[0m (0.00 B)\n"
      ]
     },
     "metadata": {},
     "output_type": "display_data"
    },
    {
     "data": {
      "text/html": [
       "<pre style=\"white-space:pre;overflow-x:auto;line-height:normal;font-family:Menlo,'DejaVu Sans Mono',consolas,'Courier New',monospace\"><span style=\"font-weight: bold\"> Optimizer params: </span><span style=\"color: #00af00; text-decoration-color: #00af00\">1,937,462</span> (7.39 MB)\n",
       "</pre>\n"
      ],
      "text/plain": [
       "\u001b[1m Optimizer params: \u001b[0m\u001b[38;5;34m1,937,462\u001b[0m (7.39 MB)\n"
      ]
     },
     "metadata": {},
     "output_type": "display_data"
    }
   ],
   "source": [
    "model.summary()"
   ]
  }
 ],
 "metadata": {
  "accelerator": "GPU",
  "colab": {
   "collapsed_sections": [],
   "machine_shape": "hm",
   "name": "Intent Classification Using Pre-Trained Embeddings.ipynb",
   "provenance": []
  },
  "kernelspec": {
   "display_name": "Python 3 (ipykernel)",
   "language": "python",
   "name": "python3"
  },
  "language_info": {
   "codemirror_mode": {
    "name": "ipython",
    "version": 3
   },
   "file_extension": ".py",
   "mimetype": "text/x-python",
   "name": "python",
   "nbconvert_exporter": "python",
   "pygments_lexer": "ipython3",
   "version": "3.12.9"
  }
 },
 "nbformat": 4,
 "nbformat_minor": 4
}
