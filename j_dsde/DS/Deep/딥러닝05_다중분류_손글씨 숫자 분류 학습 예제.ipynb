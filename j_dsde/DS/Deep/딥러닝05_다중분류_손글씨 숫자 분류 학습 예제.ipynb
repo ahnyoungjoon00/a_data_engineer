{
 "cells": [
  {
   "cell_type": "markdown",
   "metadata": {},
   "source": [
    "## 다중 분류 손글씨 숫자 분류"
   ]
  },
  {
   "cell_type": "markdown",
   "metadata": {},
   "source": [
    "케라스 파이썬 라이브러리를 사용하여 손글씨 숫자 분류 학습\n",
    "- 흑백 손글씨 숫자 이미지(28x28 픽셀)를 10개의 범주(0에서 9까지)로 분류\n",
    "- MNIST 데이터셋 사용\n",
    "- 1980년대에 미국 국립표준기술연구소에서 수집한 \n",
    "- 6만 개의 훈련 이미지와 1만 개의 테스트 이미지로 구성\n",
    "- MNIST 데이터셋은 넘파이 배열 형태로 케라스에 이미 포함되어 있음"
   ]
  },
  {
   "cell_type": "markdown",
   "metadata": {},
   "source": [
    "## 손글씨 숫자 분류 작업\n",
    "- (1) 데이터 준비     \n",
    "- (2) 이미지 데이터 전처리  \n",
    "  - 2차원 이미지를 1차원 벡터로 변환    \n",
    "  - 정규화   \n",
    "  - 원-핫 인코딩       \n",
    "- (3) 모델링  \n"
   ]
  },
  {
   "cell_type": "code",
   "execution_count": null,
   "metadata": {},
   "outputs": [],
   "source": []
  },
  {
   "cell_type": "code",
   "execution_count": null,
   "metadata": {},
   "outputs": [],
   "source": []
  },
  {
   "cell_type": "markdown",
   "metadata": {},
   "source": [
    "### (1) 데이터 준비 "
   ]
  },
  {
   "cell_type": "code",
   "execution_count": 1,
   "metadata": {},
   "outputs": [],
   "source": [
    "from IPython.core.interactiveshell import InteractiveShell\n",
    "InteractiveShell.ast_node_interactivity=\"all\""
   ]
  },
  {
   "cell_type": "code",
   "execution_count": 2,
   "metadata": {},
   "outputs": [],
   "source": [
    "# 가상환경에서 matplotlib"
   ]
  },
  {
   "cell_type": "code",
   "execution_count": 3,
   "metadata": {},
   "outputs": [],
   "source": [
    "import numpy as np\n",
    "import matplotlib.pyplot as plt\n",
    "%matplotlib inline"
   ]
  },
  {
   "cell_type": "code",
   "execution_count": 4,
   "metadata": {},
   "outputs": [
    {
     "name": "stdout",
     "output_type": "stream",
     "text": [
      "Downloading data from https://storage.googleapis.com/tensorflow/tf-keras-datasets/mnist.npz\n",
      "\u001b[1m11490434/11490434\u001b[0m \u001b[32m━━━━━━━━━━━━━━━━━━━━\u001b[0m\u001b[37m\u001b[0m \u001b[1m7s\u001b[0m 1us/step \n"
     ]
    }
   ],
   "source": [
    "# 데이터 로드 \n",
    "from keras.datasets import mnist\n",
    "\n",
    "(X_train, y_train), (X_test, y_test) = mnist.load_data()\n",
    "# 괄호 없으면 오류"
   ]
  },
  {
   "cell_type": "code",
   "execution_count": 5,
   "metadata": {},
   "outputs": [
    {
     "data": {
      "text/plain": [
       "(60000, 28, 28)"
      ]
     },
     "execution_count": 5,
     "metadata": {},
     "output_type": "execute_result"
    },
    {
     "data": {
      "text/plain": [
       "(60000,)"
      ]
     },
     "execution_count": 5,
     "metadata": {},
     "output_type": "execute_result"
    },
    {
     "data": {
      "text/plain": [
       "(10000, 28, 28)"
      ]
     },
     "execution_count": 5,
     "metadata": {},
     "output_type": "execute_result"
    },
    {
     "data": {
      "text/plain": [
       "(10000,)"
      ]
     },
     "execution_count": 5,
     "metadata": {},
     "output_type": "execute_result"
    }
   ],
   "source": [
    "# 데이터 세트 확인\n",
    "\n",
    "X_train.shape\n",
    "y_train.shape\n",
    "X_test.shape\n",
    "y_test.shape"
   ]
  },
  {
   "cell_type": "code",
   "execution_count": 6,
   "metadata": {},
   "outputs": [],
   "source": [
    "# (60000, 28, 28) : 3D 텐서    : (샘플수, 세로, 가로)\n",
    "# --> 2D 텐서 : (60000, 28*28) == (60000, 784) (샘플수, 피처수)\n",
    "# -> 1차원 : (784, ) (샘플수(데이터 개수))\n",
    "# input_shape(28*28, ) == input_shape(784, )"
   ]
  },
  {
   "cell_type": "code",
   "execution_count": 6,
   "metadata": {},
   "outputs": [
    {
     "data": {
      "text/plain": [
       "(28, 28)"
      ]
     },
     "execution_count": 6,
     "metadata": {},
     "output_type": "execute_result"
    }
   ],
   "source": [
    "# X_train 확인\n",
    "X_train[0].shape"
   ]
  },
  {
   "cell_type": "code",
   "execution_count": 7,
   "metadata": {},
   "outputs": [
    {
     "data": {
      "text/plain": [
       "array([5, 0, 4, 1, 9, 2, 1, 3, 1, 4], dtype=uint8)"
      ]
     },
     "execution_count": 7,
     "metadata": {},
     "output_type": "execute_result"
    },
    {
     "data": {
      "text/plain": [
       "np.uint8(4)"
      ]
     },
     "execution_count": 7,
     "metadata": {},
     "output_type": "execute_result"
    }
   ],
   "source": [
    "# 레이블 값 확인\n",
    "y_train[:10]\n",
    "y_train[9] # 열 번째 값 : 4"
   ]
  },
  {
   "cell_type": "code",
   "execution_count": 11,
   "metadata": {},
   "outputs": [
    {
     "data": {
      "text/plain": [
       "<matplotlib.image.AxesImage at 0x19e63f31280>"
      ]
     },
     "execution_count": 11,
     "metadata": {},
     "output_type": "execute_result"
    },
    {
     "data": {
      "text/plain": [
       "(np.float64(-0.5), np.float64(27.5), np.float64(27.5), np.float64(-0.5))"
      ]
     },
     "execution_count": 11,
     "metadata": {},
     "output_type": "execute_result"
    },
    {
     "data": {
      "image/png": "[encoded data removed]",
      "text/plain": [
       "<Figure size 640x480 with 1 Axes>"
      ]
     },
     "metadata": {},
     "output_type": "display_data"
    }
   ],
   "source": [
    "# 10 번째 샘플을 시각화해서 확인\n",
    "digit = X_train[9]\n",
    "\n",
    "plt.imshow(digit) \n",
    "plt.axis(\"off\")\n",
    "plt.show()  # 디폴트 : cmap='virdis'"
   ]
  },
  {
   "cell_type": "code",
   "execution_count": 12,
   "metadata": {},
   "outputs": [],
   "source": [
    "# digit\n",
    " # 0 ~ 255 픽셀값"
   ]
  },
  {
   "cell_type": "code",
   "execution_count": 13,
   "metadata": {},
   "outputs": [
    {
     "data": {
      "text/plain": [
       "<matplotlib.image.AxesImage at 0x19e63f33da0>"
      ]
     },
     "execution_count": 13,
     "metadata": {},
     "output_type": "execute_result"
    },
    {
     "data": {
      "text/plain": [
       "(np.float64(-0.5), np.float64(27.5), np.float64(27.5), np.float64(-0.5))"
      ]
     },
     "execution_count": 13,
     "metadata": {},
     "output_type": "execute_result"
    },
    {
     "data": {
      "text/plain": [
       "<matplotlib.image.AxesImage at 0x19e64285340>"
      ]
     },
     "execution_count": 13,
     "metadata": {},
     "output_type": "execute_result"
    },
    {
     "data": {
      "text/plain": [
       "(np.float64(-0.5), np.float64(27.5), np.float64(27.5), np.float64(-0.5))"
      ]
     },
     "execution_count": 13,
     "metadata": {},
     "output_type": "execute_result"
    },
    {
     "data": {
      "text/plain": [
       "<matplotlib.image.AxesImage at 0x19e64285ca0>"
      ]
     },
     "execution_count": 13,
     "metadata": {},
     "output_type": "execute_result"
    },
    {
     "data": {
      "text/plain": [
       "(np.float64(-0.5), np.float64(27.5), np.float64(27.5), np.float64(-0.5))"
      ]
     },
     "execution_count": 13,
     "metadata": {},
     "output_type": "execute_result"
    },
    {
     "data": {
      "text/plain": [
       "<matplotlib.image.AxesImage at 0x19e64286300>"
      ]
     },
     "execution_count": 13,
     "metadata": {},
     "output_type": "execute_result"
    },
    {
     "data": {
      "text/plain": [
       "(np.float64(-0.5), np.float64(27.5), np.float64(27.5), np.float64(-0.5))"
      ]
     },
     "execution_count": 13,
     "metadata": {},
     "output_type": "execute_result"
    },
    {
     "data": {
      "text/plain": [
       "<matplotlib.image.AxesImage at 0x19e64285730>"
      ]
     },
     "execution_count": 13,
     "metadata": {},
     "output_type": "execute_result"
    },
    {
     "data": {
      "text/plain": [
       "(np.float64(-0.5), np.float64(27.5), np.float64(27.5), np.float64(-0.5))"
      ]
     },
     "execution_count": 13,
     "metadata": {},
     "output_type": "execute_result"
    },
    {
     "data": {
      "text/plain": [
       "<matplotlib.image.AxesImage at 0x19e64286c30>"
      ]
     },
     "execution_count": 13,
     "metadata": {},
     "output_type": "execute_result"
    },
    {
     "data": {
      "text/plain": [
       "(np.float64(-0.5), np.float64(27.5), np.float64(27.5), np.float64(-0.5))"
      ]
     },
     "execution_count": 13,
     "metadata": {},
     "output_type": "execute_result"
    },
    {
     "data": {
      "text/plain": [
       "<matplotlib.image.AxesImage at 0x19e642878c0>"
      ]
     },
     "execution_count": 13,
     "metadata": {},
     "output_type": "execute_result"
    },
    {
     "data": {
      "text/plain": [
       "(np.float64(-0.5), np.float64(27.5), np.float64(27.5), np.float64(-0.5))"
      ]
     },
     "execution_count": 13,
     "metadata": {},
     "output_type": "execute_result"
    },
    {
     "data": {
      "text/plain": [
       "<matplotlib.image.AxesImage at 0x19e642b0290>"
      ]
     },
     "execution_count": 13,
     "metadata": {},
     "output_type": "execute_result"
    },
    {
     "data": {
      "text/plain": [
       "(np.float64(-0.5), np.float64(27.5), np.float64(27.5), np.float64(-0.5))"
      ]
     },
     "execution_count": 13,
     "metadata": {},
     "output_type": "execute_result"
    },
    {
     "data": {
      "text/plain": [
       "<matplotlib.image.AxesImage at 0x19e642b0a70>"
      ]
     },
     "execution_count": 13,
     "metadata": {},
     "output_type": "execute_result"
    },
    {
     "data": {
      "text/plain": [
       "(np.float64(-0.5), np.float64(27.5), np.float64(27.5), np.float64(-0.5))"
      ]
     },
     "execution_count": 13,
     "metadata": {},
     "output_type": "execute_result"
    },
    {
     "data": {
      "text/plain": [
       "<matplotlib.image.AxesImage at 0x19e642b1160>"
      ]
     },
     "execution_count": 13,
     "metadata": {},
     "output_type": "execute_result"
    },
    {
     "data": {
      "text/plain": [
       "(np.float64(-0.5), np.float64(27.5), np.float64(27.5), np.float64(-0.5))"
      ]
     },
     "execution_count": 13,
     "metadata": {},
     "output_type": "execute_result"
    },
    {
     "data": {
      "image/png": "[encoded data removed]",
      "text/plain": [
       "<Figure size 1000x1000 with 10 Axes>"
      ]
     },
     "metadata": {},
     "output_type": "display_data"
    }
   ],
   "source": [
    "# 처음 10개 손글씨 이미지 확인\n",
    "\n",
    "fig, axs = plt.subplots(1, 10, figsize=(10, 10))\n",
    "for i in  range(10):\n",
    "    axs[i].imshow(X_train[i], cmap=plt.cm.binary) # cmap='PuRd'\n",
    "    axs[i].axis('off') # 그래프의 모든 축과 라벨(이름)을 제거\n",
    "    \n",
    "plt.show()"
   ]
  },
  {
   "cell_type": "code",
   "execution_count": null,
   "metadata": {},
   "outputs": [],
   "source": []
  },
  {
   "cell_type": "code",
   "execution_count": null,
   "metadata": {},
   "outputs": [],
   "source": []
  },
  {
   "cell_type": "code",
   "execution_count": null,
   "metadata": {},
   "outputs": [],
   "source": []
  },
  {
   "cell_type": "markdown",
   "metadata": {},
   "source": [
    "### (2) 이미지 데이터 전처리\n",
    "- 3차원 이미지를 2차원으로 변환\n",
    " \n",
    "- 정규화  \n",
    "\n",
    "- 레이블 데이터 :원-핫 인코딩 된 상태로 "
   ]
  },
  {
   "attachments": {
    "image-2.png": {
     "image/png": "[encoded data removed]"
    }
   },
   "cell_type": "markdown",
   "metadata": {},
   "source": [
    "![image-2.png](attachment:image-2.png)"
   ]
  },
  {
   "cell_type": "markdown",
   "metadata": {},
   "source": [
    "####  reshape / 정규화 (Normalization)"
   ]
  },
  {
   "cell_type": "code",
   "execution_count": 14,
   "metadata": {},
   "outputs": [
    {
     "data": {
      "text/plain": [
       "(np.uint8(0), np.uint8(255))"
      ]
     },
     "execution_count": 14,
     "metadata": {},
     "output_type": "execute_result"
    }
   ],
   "source": [
    "np.min(X_train), np.max(X_train)"
   ]
  },
  {
   "cell_type": "code",
   "execution_count": 15,
   "metadata": {},
   "outputs": [
    {
     "data": {
      "text/plain": [
       "(np.float64(0.0), np.float64(1.0))"
      ]
     },
     "execution_count": 15,
     "metadata": {},
     "output_type": "execute_result"
    }
   ],
   "source": [
    "x = X_train / 255\n",
    "np.min(x), np.max(x)"
   ]
  },
  {
   "cell_type": "code",
   "execution_count": 16,
   "metadata": {},
   "outputs": [
    {
     "data": {
      "text/plain": [
       "(60000, 28, 28)"
      ]
     },
     "execution_count": 16,
     "metadata": {},
     "output_type": "execute_result"
    },
    {
     "data": {
      "text/plain": [
       "(10000, 28, 28)"
      ]
     },
     "execution_count": 16,
     "metadata": {},
     "output_type": "execute_result"
    }
   ],
   "source": [
    "# 변환 전 데이터\n",
    "X_train.shape\n",
    "X_test.shape"
   ]
  },
  {
   "cell_type": "code",
   "execution_count": 17,
   "metadata": {},
   "outputs": [],
   "source": [
    "#####################################################################################\n",
    "# 차원 변환 및 정규화\n",
    "X_train_scaled = X_train.reshape(-1, 28*28)\n",
    "X_test_scaled = X_test.reshape(-1, 28*28)\n",
    "\n",
    "# 이미지 데이터 정규화\n",
    "X_train_scaled = X_train_scaled/255\n",
    "X_test_scaled = X_test_scaled/255\n",
    "\n",
    "# 이미지 픽셀값이 0~255 범위이므로 255로 나누면 0.0~1.0 범위로 변환되어 정규화 되었음 "
   ]
  },
  {
   "cell_type": "code",
   "execution_count": null,
   "metadata": {},
   "outputs": [],
   "source": []
  },
  {
   "cell_type": "code",
   "execution_count": 18,
   "metadata": {},
   "outputs": [
    {
     "data": {
      "text/plain": [
       "(60000, 784)"
      ]
     },
     "execution_count": 18,
     "metadata": {},
     "output_type": "execute_result"
    },
    {
     "data": {
      "text/plain": [
       "(10000, 784)"
      ]
     },
     "execution_count": 18,
     "metadata": {},
     "output_type": "execute_result"
    }
   ],
   "source": [
    "# 변환 후 데이터 \n",
    "X_train_scaled.shape\n",
    "X_test_scaled.shape"
   ]
  },
  {
   "cell_type": "code",
   "execution_count": 19,
   "metadata": {},
   "outputs": [
    {
     "data": {
      "text/plain": [
       "np.float64(0.0)"
      ]
     },
     "execution_count": 19,
     "metadata": {},
     "output_type": "execute_result"
    },
    {
     "data": {
      "text/plain": [
       "np.float64(1.0)"
      ]
     },
     "execution_count": 19,
     "metadata": {},
     "output_type": "execute_result"
    },
    {
     "data": {
      "text/plain": [
       "np.float64(0.0)"
      ]
     },
     "execution_count": 19,
     "metadata": {},
     "output_type": "execute_result"
    },
    {
     "data": {
      "text/plain": [
       "np.float64(1.0)"
      ]
     },
     "execution_count": 19,
     "metadata": {},
     "output_type": "execute_result"
    }
   ],
   "source": [
    "X_train_scaled.min()\n",
    "X_train_scaled.max()\n",
    "X_test_scaled.min()\n",
    "X_test_scaled.max()"
   ]
  },
  {
   "cell_type": "code",
   "execution_count": null,
   "metadata": {},
   "outputs": [],
   "source": []
  },
  {
   "cell_type": "markdown",
   "metadata": {},
   "source": [
    "#### 원-핫 인코딩 "
   ]
  },
  {
   "cell_type": "code",
   "execution_count": 20,
   "metadata": {},
   "outputs": [
    {
     "data": {
      "text/plain": [
       "array([5, 0, 4, 1, 9, 2, 1, 3, 1, 4], dtype=uint8)"
      ]
     },
     "execution_count": 20,
     "metadata": {},
     "output_type": "execute_result"
    }
   ],
   "source": [
    "y_train[:10]"
   ]
  },
  {
   "cell_type": "code",
   "execution_count": 21,
   "metadata": {},
   "outputs": [],
   "source": [
    "# 0~9 값의 레이블을 원-핫 인코딩 변환 (바이너리화) : 0 또는 1로 변환\n",
    "from  keras.utils import to_categorical\n",
    "y_train2 = to_categorical(y_train)\n",
    "y_test2 = to_categorical(y_test)"
   ]
  },
  {
   "cell_type": "code",
   "execution_count": 22,
   "metadata": {},
   "outputs": [
    {
     "data": {
      "text/plain": [
       "array([[0., 0., 0., 0., 0., 1., 0., 0., 0., 0.],\n",
       "       [1., 0., 0., 0., 0., 0., 0., 0., 0., 0.],\n",
       "       [0., 0., 0., 0., 1., 0., 0., 0., 0., 0.],\n",
       "       [0., 1., 0., 0., 0., 0., 0., 0., 0., 0.],\n",
       "       [0., 0., 0., 0., 0., 0., 0., 0., 0., 1.],\n",
       "       [0., 0., 1., 0., 0., 0., 0., 0., 0., 0.],\n",
       "       [0., 1., 0., 0., 0., 0., 0., 0., 0., 0.],\n",
       "       [0., 0., 0., 1., 0., 0., 0., 0., 0., 0.],\n",
       "       [0., 1., 0., 0., 0., 0., 0., 0., 0., 0.],\n",
       "       [0., 0., 0., 0., 1., 0., 0., 0., 0., 0.]])"
      ]
     },
     "execution_count": 22,
     "metadata": {},
     "output_type": "execute_result"
    }
   ],
   "source": [
    "# 원-핫 인코딩 수행 후\n",
    "y_train2[:10]"
   ]
  },
  {
   "cell_type": "code",
   "execution_count": null,
   "metadata": {},
   "outputs": [],
   "source": []
  },
  {
   "cell_type": "code",
   "execution_count": null,
   "metadata": {},
   "outputs": [],
   "source": []
  },
  {
   "cell_type": "markdown",
   "metadata": {},
   "source": [
    "### (3) 모델링 "
   ]
  },
  {
   "cell_type": "markdown",
   "metadata": {},
   "source": [
    "#### 모델링 순서  \n",
    "(1) 모델 설정   \n",
    "(2) 모델 컴파일   \n",
    "(3) 모델 학습(실행)   \n",
    "(4) 모델 평가(결과 출력)  \n",
    "- 사용 데이터\n",
    "  - 위에서 전처리 작업 끝낸 데이터 사용\n",
    "  - X_train2, y_train2, X_test2, y_test2  "
   ]
  },
  {
   "cell_type": "code",
   "execution_count": 23,
   "metadata": {},
   "outputs": [],
   "source": [
    "from tensorflow.keras.models import Sequential\n",
    "from tensorflow.keras.layers import Dense\n",
    "import tensorflow as tf\n",
    "\n",
    "tf.random.set_seed(3)\n",
    "\n"
   ]
  },
  {
   "cell_type": "code",
   "execution_count": 24,
   "metadata": {
    "scrolled": true
   },
   "outputs": [
    {
     "name": "stderr",
     "output_type": "stream",
     "text": [
      "C:\\Users\\82108\\anaconda3\\envs\\DLenv\\Lib\\site-packages\\keras\\src\\layers\\core\\dense.py:87: UserWarning: Do not pass an `input_shape`/`input_dim` argument to a layer. When using Sequential models, prefer using an `Input(shape)` object as the first layer in the model instead.\n",
      "  super().__init__(activity_regularizer=activity_regularizer, **kwargs)\n"
     ]
    },
    {
     "name": "stdout",
     "output_type": "stream",
     "text": [
      "Epoch 1/100\n",
      "\u001b[1m469/469\u001b[0m \u001b[32m━━━━━━━━━━━━━━━━━━━━\u001b[0m\u001b[37m\u001b[0m \u001b[1m3s\u001b[0m 6ms/step - accuracy: 0.8721 - loss: 0.4432 - val_accuracy: 0.9626 - val_loss: 0.1262\n",
      "Epoch 2/100\n",
      "\u001b[1m469/469\u001b[0m \u001b[32m━━━━━━━━━━━━━━━━━━━━\u001b[0m\u001b[37m\u001b[0m \u001b[1m2s\u001b[0m 5ms/step - accuracy: 0.9658 - loss: 0.1168 - val_accuracy: 0.9732 - val_loss: 0.0875\n",
      "Epoch 3/100\n",
      "\u001b[1m469/469\u001b[0m \u001b[32m━━━━━━━━━━━━━━━━━━━━\u001b[0m\u001b[37m\u001b[0m \u001b[1m2s\u001b[0m 5ms/step - accuracy: 0.9789 - loss: 0.0726 - val_accuracy: 0.9760 - val_loss: 0.0757\n",
      "Epoch 4/100\n",
      "\u001b[1m469/469\u001b[0m \u001b[32m━━━━━━━━━━━━━━━━━━━━\u001b[0m\u001b[37m\u001b[0m \u001b[1m3s\u001b[0m 5ms/step - accuracy: 0.9853 - loss: 0.0506 - val_accuracy: 0.9786 - val_loss: 0.0667\n",
      "Epoch 5/100\n",
      "\u001b[1m469/469\u001b[0m \u001b[32m━━━━━━━━━━━━━━━━━━━━\u001b[0m\u001b[37m\u001b[0m \u001b[1m2s\u001b[0m 5ms/step - accuracy: 0.9900 - loss: 0.0364 - val_accuracy: 0.9800 - val_loss: 0.0626\n",
      "Epoch 6/100\n",
      "\u001b[1m469/469\u001b[0m \u001b[32m━━━━━━━━━━━━━━━━━━━━\u001b[0m\u001b[37m\u001b[0m \u001b[1m3s\u001b[0m 5ms/step - accuracy: 0.9937 - loss: 0.0262 - val_accuracy: 0.9813 - val_loss: 0.0605\n",
      "Epoch 7/100\n",
      "\u001b[1m469/469\u001b[0m \u001b[32m━━━━━━━━━━━━━━━━━━━━\u001b[0m\u001b[37m\u001b[0m \u001b[1m3s\u001b[0m 5ms/step - accuracy: 0.9961 - loss: 0.0188 - val_accuracy: 0.9817 - val_loss: 0.0611\n",
      "Epoch 8/100\n",
      "\u001b[1m469/469\u001b[0m \u001b[32m━━━━━━━━━━━━━━━━━━━━\u001b[0m\u001b[37m\u001b[0m \u001b[1m2s\u001b[0m 5ms/step - accuracy: 0.9973 - loss: 0.0131 - val_accuracy: 0.9810 - val_loss: 0.0628\n",
      "Epoch 9/100\n",
      "\u001b[1m469/469\u001b[0m \u001b[32m━━━━━━━━━━━━━━━━━━━━\u001b[0m\u001b[37m\u001b[0m \u001b[1m2s\u001b[0m 5ms/step - accuracy: 0.9984 - loss: 0.0093 - val_accuracy: 0.9808 - val_loss: 0.0649\n",
      "Epoch 10/100\n",
      "\u001b[1m469/469\u001b[0m \u001b[32m━━━━━━━━━━━━━━━━━━━━\u001b[0m\u001b[37m\u001b[0m \u001b[1m3s\u001b[0m 5ms/step - accuracy: 0.9992 - loss: 0.0063 - val_accuracy: 0.9807 - val_loss: 0.0668\n",
      "Epoch 11/100\n",
      "\u001b[1m469/469\u001b[0m \u001b[32m━━━━━━━━━━━━━━━━━━━━\u001b[0m\u001b[37m\u001b[0m \u001b[1m3s\u001b[0m 5ms/step - accuracy: 0.9995 - loss: 0.0043 - val_accuracy: 0.9824 - val_loss: 0.0659\n",
      "Epoch 12/100\n",
      "\u001b[1m469/469\u001b[0m \u001b[32m━━━━━━━━━━━━━━━━━━━━\u001b[0m\u001b[37m\u001b[0m \u001b[1m3s\u001b[0m 5ms/step - accuracy: 0.9997 - loss: 0.0031 - val_accuracy: 0.9817 - val_loss: 0.0680\n",
      "Epoch 13/100\n",
      "\u001b[1m469/469\u001b[0m \u001b[32m━━━━━━━━━━━━━━━━━━━━\u001b[0m\u001b[37m\u001b[0m \u001b[1m2s\u001b[0m 5ms/step - accuracy: 0.9999 - loss: 0.0021 - val_accuracy: 0.9822 - val_loss: 0.0679\n",
      "Epoch 14/100\n",
      "\u001b[1m469/469\u001b[0m \u001b[32m━━━━━━━━━━━━━━━━━━━━\u001b[0m\u001b[37m\u001b[0m \u001b[1m3s\u001b[0m 5ms/step - accuracy: 0.9999 - loss: 0.0015 - val_accuracy: 0.9835 - val_loss: 0.0667\n",
      "Epoch 15/100\n",
      "\u001b[1m469/469\u001b[0m \u001b[32m━━━━━━━━━━━━━━━━━━━━\u001b[0m\u001b[37m\u001b[0m \u001b[1m3s\u001b[0m 5ms/step - accuracy: 1.0000 - loss: 9.8953e-04 - val_accuracy: 0.9832 - val_loss: 0.0665\n",
      "Epoch 16/100\n",
      "\u001b[1m469/469\u001b[0m \u001b[32m━━━━━━━━━━━━━━━━━━━━\u001b[0m\u001b[37m\u001b[0m \u001b[1m2s\u001b[0m 5ms/step - accuracy: 1.0000 - loss: 7.4411e-04 - val_accuracy: 0.9833 - val_loss: 0.0665\n",
      "Epoch 17/100\n",
      "\u001b[1m469/469\u001b[0m \u001b[32m━━━━━━━━━━━━━━━━━━━━\u001b[0m\u001b[37m\u001b[0m \u001b[1m3s\u001b[0m 5ms/step - accuracy: 1.0000 - loss: 5.9724e-04 - val_accuracy: 0.9834 - val_loss: 0.0667\n",
      "Epoch 18/100\n",
      "\u001b[1m469/469\u001b[0m \u001b[32m━━━━━━━━━━━━━━━━━━━━\u001b[0m\u001b[37m\u001b[0m \u001b[1m2s\u001b[0m 5ms/step - accuracy: 1.0000 - loss: 4.9827e-04 - val_accuracy: 0.9832 - val_loss: 0.0667\n",
      "Epoch 19/100\n",
      "\u001b[1m469/469\u001b[0m \u001b[32m━━━━━━━━━━━━━━━━━━━━\u001b[0m\u001b[37m\u001b[0m \u001b[1m2s\u001b[0m 5ms/step - accuracy: 1.0000 - loss: 4.2724e-04 - val_accuracy: 0.9833 - val_loss: 0.0670\n",
      "Epoch 20/100\n",
      "\u001b[1m469/469\u001b[0m \u001b[32m━━━━━━━━━━━━━━━━━━━━\u001b[0m\u001b[37m\u001b[0m \u001b[1m2s\u001b[0m 5ms/step - accuracy: 1.0000 - loss: 3.7487e-04 - val_accuracy: 0.9834 - val_loss: 0.0674\n",
      "Epoch 21/100\n",
      "\u001b[1m469/469\u001b[0m \u001b[32m━━━━━━━━━━━━━━━━━━━━\u001b[0m\u001b[37m\u001b[0m \u001b[1m3s\u001b[0m 5ms/step - accuracy: 1.0000 - loss: 3.3350e-04 - val_accuracy: 0.9834 - val_loss: 0.0678\n",
      "Epoch 22/100\n",
      "\u001b[1m469/469\u001b[0m \u001b[32m━━━━━━━━━━━━━━━━━━━━\u001b[0m\u001b[37m\u001b[0m \u001b[1m2s\u001b[0m 5ms/step - accuracy: 1.0000 - loss: 3.0052e-04 - val_accuracy: 0.9833 - val_loss: 0.0682\n",
      "Epoch 23/100\n",
      "\u001b[1m469/469\u001b[0m \u001b[32m━━━━━━━━━━━━━━━━━━━━\u001b[0m\u001b[37m\u001b[0m \u001b[1m3s\u001b[0m 5ms/step - accuracy: 1.0000 - loss: 2.7310e-04 - val_accuracy: 0.9835 - val_loss: 0.0686\n",
      "Epoch 24/100\n",
      "\u001b[1m469/469\u001b[0m \u001b[32m━━━━━━━━━━━━━━━━━━━━\u001b[0m\u001b[37m\u001b[0m \u001b[1m3s\u001b[0m 5ms/step - accuracy: 1.0000 - loss: 2.5012e-04 - val_accuracy: 0.9837 - val_loss: 0.0689\n",
      "Epoch 25/100\n",
      "\u001b[1m469/469\u001b[0m \u001b[32m━━━━━━━━━━━━━━━━━━━━\u001b[0m\u001b[37m\u001b[0m \u001b[1m2s\u001b[0m 5ms/step - accuracy: 1.0000 - loss: 2.3063e-04 - val_accuracy: 0.9835 - val_loss: 0.0692\n",
      "Epoch 26/100\n",
      "\u001b[1m469/469\u001b[0m \u001b[32m━━━━━━━━━━━━━━━━━━━━\u001b[0m\u001b[37m\u001b[0m \u001b[1m3s\u001b[0m 5ms/step - accuracy: 1.0000 - loss: 2.1372e-04 - val_accuracy: 0.9835 - val_loss: 0.0696\n",
      "Epoch 27/100\n",
      "\u001b[1m469/469\u001b[0m \u001b[32m━━━━━━━━━━━━━━━━━━━━\u001b[0m\u001b[37m\u001b[0m \u001b[1m2s\u001b[0m 5ms/step - accuracy: 1.0000 - loss: 1.9913e-04 - val_accuracy: 0.9834 - val_loss: 0.0698\n",
      "Epoch 28/100\n",
      "\u001b[1m469/469\u001b[0m \u001b[32m━━━━━━━━━━━━━━━━━━━━\u001b[0m\u001b[37m\u001b[0m \u001b[1m3s\u001b[0m 5ms/step - accuracy: 1.0000 - loss: 1.8646e-04 - val_accuracy: 0.9835 - val_loss: 0.0701\n",
      "Epoch 29/100\n",
      "\u001b[1m469/469\u001b[0m \u001b[32m━━━━━━━━━━━━━━━━━━━━\u001b[0m\u001b[37m\u001b[0m \u001b[1m3s\u001b[0m 5ms/step - accuracy: 1.0000 - loss: 1.7497e-04 - val_accuracy: 0.9833 - val_loss: 0.0704\n",
      "Epoch 30/100\n",
      "\u001b[1m469/469\u001b[0m \u001b[32m━━━━━━━━━━━━━━━━━━━━\u001b[0m\u001b[37m\u001b[0m \u001b[1m2s\u001b[0m 5ms/step - accuracy: 1.0000 - loss: 1.6493e-04 - val_accuracy: 0.9834 - val_loss: 0.0707\n",
      "Epoch 31/100\n",
      "\u001b[1m469/469\u001b[0m \u001b[32m━━━━━━━━━━━━━━━━━━━━\u001b[0m\u001b[37m\u001b[0m \u001b[1m3s\u001b[0m 5ms/step - accuracy: 1.0000 - loss: 1.5595e-04 - val_accuracy: 0.9834 - val_loss: 0.0709\n",
      "Epoch 32/100\n",
      "\u001b[1m469/469\u001b[0m \u001b[32m━━━━━━━━━━━━━━━━━━━━\u001b[0m\u001b[37m\u001b[0m \u001b[1m2s\u001b[0m 5ms/step - accuracy: 1.0000 - loss: 1.4777e-04 - val_accuracy: 0.9834 - val_loss: 0.0712\n",
      "Epoch 33/100\n",
      "\u001b[1m469/469\u001b[0m \u001b[32m━━━━━━━━━━━━━━━━━━━━\u001b[0m\u001b[37m\u001b[0m \u001b[1m2s\u001b[0m 5ms/step - accuracy: 1.0000 - loss: 1.4041e-04 - val_accuracy: 0.9833 - val_loss: 0.0714\n",
      "Epoch 34/100\n",
      "\u001b[1m469/469\u001b[0m \u001b[32m━━━━━━━━━━━━━━━━━━━━\u001b[0m\u001b[37m\u001b[0m \u001b[1m3s\u001b[0m 5ms/step - accuracy: 1.0000 - loss: 1.3383e-04 - val_accuracy: 0.9833 - val_loss: 0.0716\n",
      "Epoch 35/100\n",
      "\u001b[1m469/469\u001b[0m \u001b[32m━━━━━━━━━━━━━━━━━━━━\u001b[0m\u001b[37m\u001b[0m \u001b[1m3s\u001b[0m 5ms/step - accuracy: 1.0000 - loss: 1.2768e-04 - val_accuracy: 0.9834 - val_loss: 0.0719\n",
      "Epoch 36/100\n",
      "\u001b[1m469/469\u001b[0m \u001b[32m━━━━━━━━━━━━━━━━━━━━\u001b[0m\u001b[37m\u001b[0m \u001b[1m3s\u001b[0m 5ms/step - accuracy: 1.0000 - loss: 1.2209e-04 - val_accuracy: 0.9834 - val_loss: 0.0720\n",
      "Epoch 37/100\n",
      "\u001b[1m469/469\u001b[0m \u001b[32m━━━━━━━━━━━━━━━━━━━━\u001b[0m\u001b[37m\u001b[0m \u001b[1m3s\u001b[0m 5ms/step - accuracy: 1.0000 - loss: 1.1698e-04 - val_accuracy: 0.9836 - val_loss: 0.0722\n",
      "Epoch 38/100\n",
      "\u001b[1m469/469\u001b[0m \u001b[32m━━━━━━━━━━━━━━━━━━━━\u001b[0m\u001b[37m\u001b[0m \u001b[1m3s\u001b[0m 6ms/step - accuracy: 1.0000 - loss: 1.1226e-04 - val_accuracy: 0.9835 - val_loss: 0.0724\n",
      "Epoch 39/100\n",
      "\u001b[1m469/469\u001b[0m \u001b[32m━━━━━━━━━━━━━━━━━━━━\u001b[0m\u001b[37m\u001b[0m \u001b[1m3s\u001b[0m 5ms/step - accuracy: 1.0000 - loss: 1.0787e-04 - val_accuracy: 0.9835 - val_loss: 0.0726\n",
      "Epoch 40/100\n",
      "\u001b[1m469/469\u001b[0m \u001b[32m━━━━━━━━━━━━━━━━━━━━\u001b[0m\u001b[37m\u001b[0m \u001b[1m3s\u001b[0m 6ms/step - accuracy: 1.0000 - loss: 1.0384e-04 - val_accuracy: 0.9836 - val_loss: 0.0728\n",
      "Epoch 41/100\n",
      "\u001b[1m469/469\u001b[0m \u001b[32m━━━━━━━━━━━━━━━━━━━━\u001b[0m\u001b[37m\u001b[0m \u001b[1m3s\u001b[0m 5ms/step - accuracy: 1.0000 - loss: 1.0006e-04 - val_accuracy: 0.9836 - val_loss: 0.0730\n",
      "Epoch 42/100\n",
      "\u001b[1m469/469\u001b[0m \u001b[32m━━━━━━━━━━━━━━━━━━━━\u001b[0m\u001b[37m\u001b[0m \u001b[1m2s\u001b[0m 5ms/step - accuracy: 1.0000 - loss: 9.6568e-05 - val_accuracy: 0.9836 - val_loss: 0.0732\n",
      "Epoch 43/100\n",
      "\u001b[1m469/469\u001b[0m \u001b[32m━━━━━━━━━━━━━━━━━━━━\u001b[0m\u001b[37m\u001b[0m \u001b[1m3s\u001b[0m 5ms/step - accuracy: 1.0000 - loss: 9.3294e-05 - val_accuracy: 0.9836 - val_loss: 0.0733\n",
      "Epoch 44/100\n",
      "\u001b[1m469/469\u001b[0m \u001b[32m━━━━━━━━━━━━━━━━━━━━\u001b[0m\u001b[37m\u001b[0m \u001b[1m3s\u001b[0m 5ms/step - accuracy: 1.0000 - loss: 9.0198e-05 - val_accuracy: 0.9836 - val_loss: 0.0735\n",
      "Epoch 45/100\n",
      "\u001b[1m469/469\u001b[0m \u001b[32m━━━━━━━━━━━━━━━━━━━━\u001b[0m\u001b[37m\u001b[0m \u001b[1m2s\u001b[0m 5ms/step - accuracy: 1.0000 - loss: 8.7312e-05 - val_accuracy: 0.9836 - val_loss: 0.0736\n",
      "Epoch 46/100\n",
      "\u001b[1m469/469\u001b[0m \u001b[32m━━━━━━━━━━━━━━━━━━━━\u001b[0m\u001b[37m\u001b[0m \u001b[1m2s\u001b[0m 5ms/step - accuracy: 1.0000 - loss: 8.4640e-05 - val_accuracy: 0.9836 - val_loss: 0.0738\n",
      "Epoch 47/100\n",
      "\u001b[1m469/469\u001b[0m \u001b[32m━━━━━━━━━━━━━━━━━━━━\u001b[0m\u001b[37m\u001b[0m \u001b[1m2s\u001b[0m 5ms/step - accuracy: 1.0000 - loss: 8.2111e-05 - val_accuracy: 0.9836 - val_loss: 0.0740\n",
      "Epoch 48/100\n",
      "\u001b[1m469/469\u001b[0m \u001b[32m━━━━━━━━━━━━━━━━━━━━\u001b[0m\u001b[37m\u001b[0m \u001b[1m2s\u001b[0m 5ms/step - accuracy: 1.0000 - loss: 7.9692e-05 - val_accuracy: 0.9835 - val_loss: 0.0741\n",
      "Epoch 49/100\n",
      "\u001b[1m469/469\u001b[0m \u001b[32m━━━━━━━━━━━━━━━━━━━━\u001b[0m\u001b[37m\u001b[0m \u001b[1m2s\u001b[0m 5ms/step - accuracy: 1.0000 - loss: 7.7426e-05 - val_accuracy: 0.9835 - val_loss: 0.0743\n",
      "Epoch 50/100\n",
      "\u001b[1m469/469\u001b[0m \u001b[32m━━━━━━━━━━━━━━━━━━━━\u001b[0m\u001b[37m\u001b[0m \u001b[1m2s\u001b[0m 5ms/step - accuracy: 1.0000 - loss: 7.5311e-05 - val_accuracy: 0.9835 - val_loss: 0.0744\n",
      "Epoch 51/100\n",
      "\u001b[1m469/469\u001b[0m \u001b[32m━━━━━━━━━━━━━━━━━━━━\u001b[0m\u001b[37m\u001b[0m \u001b[1m2s\u001b[0m 5ms/step - accuracy: 1.0000 - loss: 7.3287e-05 - val_accuracy: 0.9834 - val_loss: 0.0746\n",
      "Epoch 52/100\n",
      "\u001b[1m469/469\u001b[0m \u001b[32m━━━━━━━━━━━━━━━━━━━━\u001b[0m\u001b[37m\u001b[0m \u001b[1m2s\u001b[0m 5ms/step - accuracy: 1.0000 - loss: 7.1357e-05 - val_accuracy: 0.9834 - val_loss: 0.0747\n",
      "Epoch 53/100\n",
      "\u001b[1m469/469\u001b[0m \u001b[32m━━━━━━━━━━━━━━━━━━━━\u001b[0m\u001b[37m\u001b[0m \u001b[1m2s\u001b[0m 5ms/step - accuracy: 1.0000 - loss: 6.9549e-05 - val_accuracy: 0.9834 - val_loss: 0.0749\n",
      "Epoch 54/100\n",
      "\u001b[1m469/469\u001b[0m \u001b[32m━━━━━━━━━━━━━━━━━━━━\u001b[0m\u001b[37m\u001b[0m \u001b[1m2s\u001b[0m 5ms/step - accuracy: 1.0000 - loss: 6.7791e-05 - val_accuracy: 0.9834 - val_loss: 0.0750\n",
      "Epoch 55/100\n",
      "\u001b[1m469/469\u001b[0m \u001b[32m━━━━━━━━━━━━━━━━━━━━\u001b[0m\u001b[37m\u001b[0m \u001b[1m2s\u001b[0m 5ms/step - accuracy: 1.0000 - loss: 6.6141e-05 - val_accuracy: 0.9834 - val_loss: 0.0751\n",
      "Epoch 56/100\n",
      "\u001b[1m469/469\u001b[0m \u001b[32m━━━━━━━━━━━━━━━━━━━━\u001b[0m\u001b[37m\u001b[0m \u001b[1m2s\u001b[0m 5ms/step - accuracy: 1.0000 - loss: 6.4569e-05 - val_accuracy: 0.9834 - val_loss: 0.0753\n",
      "Epoch 57/100\n",
      "\u001b[1m469/469\u001b[0m \u001b[32m━━━━━━━━━━━━━━━━━━━━\u001b[0m\u001b[37m\u001b[0m \u001b[1m3s\u001b[0m 5ms/step - accuracy: 1.0000 - loss: 6.3071e-05 - val_accuracy: 0.9835 - val_loss: 0.0754\n",
      "Epoch 58/100\n",
      "\u001b[1m469/469\u001b[0m \u001b[32m━━━━━━━━━━━━━━━━━━━━\u001b[0m\u001b[37m\u001b[0m \u001b[1m2s\u001b[0m 5ms/step - accuracy: 1.0000 - loss: 6.1631e-05 - val_accuracy: 0.9835 - val_loss: 0.0755\n",
      "Epoch 59/100\n",
      "\u001b[1m469/469\u001b[0m \u001b[32m━━━━━━━━━━━━━━━━━━━━\u001b[0m\u001b[37m\u001b[0m \u001b[1m2s\u001b[0m 5ms/step - accuracy: 1.0000 - loss: 6.0245e-05 - val_accuracy: 0.9835 - val_loss: 0.0756\n",
      "Epoch 60/100\n",
      "\u001b[1m469/469\u001b[0m \u001b[32m━━━━━━━━━━━━━━━━━━━━\u001b[0m\u001b[37m\u001b[0m \u001b[1m2s\u001b[0m 5ms/step - accuracy: 1.0000 - loss: 5.8943e-05 - val_accuracy: 0.9835 - val_loss: 0.0758\n",
      "Epoch 61/100\n",
      "\u001b[1m469/469\u001b[0m \u001b[32m━━━━━━━━━━━━━━━━━━━━\u001b[0m\u001b[37m\u001b[0m \u001b[1m2s\u001b[0m 5ms/step - accuracy: 1.0000 - loss: 5.7682e-05 - val_accuracy: 0.9835 - val_loss: 0.0759\n",
      "Epoch 62/100\n",
      "\u001b[1m469/469\u001b[0m \u001b[32m━━━━━━━━━━━━━━━━━━━━\u001b[0m\u001b[37m\u001b[0m \u001b[1m2s\u001b[0m 5ms/step - accuracy: 1.0000 - loss: 5.6474e-05 - val_accuracy: 0.9835 - val_loss: 0.0760\n",
      "Epoch 63/100\n",
      "\u001b[1m469/469\u001b[0m \u001b[32m━━━━━━━━━━━━━━━━━━━━\u001b[0m\u001b[37m\u001b[0m \u001b[1m2s\u001b[0m 5ms/step - accuracy: 1.0000 - loss: 5.5303e-05 - val_accuracy: 0.9835 - val_loss: 0.0761\n",
      "Epoch 64/100\n",
      "\u001b[1m469/469\u001b[0m \u001b[32m━━━━━━━━━━━━━━━━━━━━\u001b[0m\u001b[37m\u001b[0m \u001b[1m2s\u001b[0m 5ms/step - accuracy: 1.0000 - loss: 5.4185e-05 - val_accuracy: 0.9835 - val_loss: 0.0762\n",
      "Epoch 65/100\n",
      "\u001b[1m469/469\u001b[0m \u001b[32m━━━━━━━━━━━━━━━━━━━━\u001b[0m\u001b[37m\u001b[0m \u001b[1m2s\u001b[0m 5ms/step - accuracy: 1.0000 - loss: 5.3119e-05 - val_accuracy: 0.9835 - val_loss: 0.0764\n",
      "Epoch 66/100\n",
      "\u001b[1m469/469\u001b[0m \u001b[32m━━━━━━━━━━━━━━━━━━━━\u001b[0m\u001b[37m\u001b[0m \u001b[1m2s\u001b[0m 5ms/step - accuracy: 1.0000 - loss: 5.2087e-05 - val_accuracy: 0.9835 - val_loss: 0.0765\n",
      "Epoch 67/100\n",
      "\u001b[1m469/469\u001b[0m \u001b[32m━━━━━━━━━━━━━━━━━━━━\u001b[0m\u001b[37m\u001b[0m \u001b[1m2s\u001b[0m 5ms/step - accuracy: 1.0000 - loss: 5.1088e-05 - val_accuracy: 0.9835 - val_loss: 0.0766\n",
      "Epoch 68/100\n",
      "\u001b[1m469/469\u001b[0m \u001b[32m━━━━━━━━━━━━━━━━━━━━\u001b[0m\u001b[37m\u001b[0m \u001b[1m2s\u001b[0m 5ms/step - accuracy: 1.0000 - loss: 5.0134e-05 - val_accuracy: 0.9835 - val_loss: 0.0767\n",
      "Epoch 69/100\n",
      "\u001b[1m469/469\u001b[0m \u001b[32m━━━━━━━━━━━━━━━━━━━━\u001b[0m\u001b[37m\u001b[0m \u001b[1m2s\u001b[0m 5ms/step - accuracy: 1.0000 - loss: 4.9207e-05 - val_accuracy: 0.9835 - val_loss: 0.0768\n",
      "Epoch 70/100\n",
      "\u001b[1m469/469\u001b[0m \u001b[32m━━━━━━━━━━━━━━━━━━━━\u001b[0m\u001b[37m\u001b[0m \u001b[1m2s\u001b[0m 5ms/step - accuracy: 1.0000 - loss: 4.8314e-05 - val_accuracy: 0.9835 - val_loss: 0.0769\n",
      "Epoch 71/100\n",
      "\u001b[1m469/469\u001b[0m \u001b[32m━━━━━━━━━━━━━━━━━━━━\u001b[0m\u001b[37m\u001b[0m \u001b[1m2s\u001b[0m 5ms/step - accuracy: 1.0000 - loss: 4.7454e-05 - val_accuracy: 0.9835 - val_loss: 0.0770\n",
      "Epoch 72/100\n",
      "\u001b[1m469/469\u001b[0m \u001b[32m━━━━━━━━━━━━━━━━━━━━\u001b[0m\u001b[37m\u001b[0m \u001b[1m2s\u001b[0m 5ms/step - accuracy: 1.0000 - loss: 4.6613e-05 - val_accuracy: 0.9835 - val_loss: 0.0771\n",
      "Epoch 73/100\n",
      "\u001b[1m469/469\u001b[0m \u001b[32m━━━━━━━━━━━━━━━━━━━━\u001b[0m\u001b[37m\u001b[0m \u001b[1m2s\u001b[0m 5ms/step - accuracy: 1.0000 - loss: 4.5804e-05 - val_accuracy: 0.9835 - val_loss: 0.0772\n",
      "Epoch 74/100\n",
      "\u001b[1m469/469\u001b[0m \u001b[32m━━━━━━━━━━━━━━━━━━━━\u001b[0m\u001b[37m\u001b[0m \u001b[1m2s\u001b[0m 5ms/step - accuracy: 1.0000 - loss: 4.5041e-05 - val_accuracy: 0.9835 - val_loss: 0.0773\n",
      "Epoch 75/100\n",
      "\u001b[1m469/469\u001b[0m \u001b[32m━━━━━━━━━━━━━━━━━━━━\u001b[0m\u001b[37m\u001b[0m \u001b[1m2s\u001b[0m 5ms/step - accuracy: 1.0000 - loss: 4.4278e-05 - val_accuracy: 0.9835 - val_loss: 0.0774\n",
      "Epoch 76/100\n",
      "\u001b[1m469/469\u001b[0m \u001b[32m━━━━━━━━━━━━━━━━━━━━\u001b[0m\u001b[37m\u001b[0m \u001b[1m2s\u001b[0m 5ms/step - accuracy: 1.0000 - loss: 4.3559e-05 - val_accuracy: 0.9835 - val_loss: 0.0775\n",
      "Epoch 77/100\n",
      "\u001b[1m469/469\u001b[0m \u001b[32m━━━━━━━━━━━━━━━━━━━━\u001b[0m\u001b[37m\u001b[0m \u001b[1m2s\u001b[0m 5ms/step - accuracy: 1.0000 - loss: 4.2846e-05 - val_accuracy: 0.9835 - val_loss: 0.0776\n",
      "Epoch 78/100\n",
      "\u001b[1m469/469\u001b[0m \u001b[32m━━━━━━━━━━━━━━━━━━━━\u001b[0m\u001b[37m\u001b[0m \u001b[1m2s\u001b[0m 5ms/step - accuracy: 1.0000 - loss: 4.2156e-05 - val_accuracy: 0.9835 - val_loss: 0.0777\n",
      "Epoch 79/100\n",
      "\u001b[1m469/469\u001b[0m \u001b[32m━━━━━━━━━━━━━━━━━━━━\u001b[0m\u001b[37m\u001b[0m \u001b[1m2s\u001b[0m 5ms/step - accuracy: 1.0000 - loss: 4.1503e-05 - val_accuracy: 0.9835 - val_loss: 0.0778\n",
      "Epoch 80/100\n",
      "\u001b[1m469/469\u001b[0m \u001b[32m━━━━━━━━━━━━━━━━━━━━\u001b[0m\u001b[37m\u001b[0m \u001b[1m2s\u001b[0m 5ms/step - accuracy: 1.0000 - loss: 4.0852e-05 - val_accuracy: 0.9834 - val_loss: 0.0779\n",
      "Epoch 81/100\n",
      "\u001b[1m469/469\u001b[0m \u001b[32m━━━━━━━━━━━━━━━━━━━━\u001b[0m\u001b[37m\u001b[0m \u001b[1m2s\u001b[0m 5ms/step - accuracy: 1.0000 - loss: 4.0227e-05 - val_accuracy: 0.9834 - val_loss: 0.0780\n",
      "Epoch 82/100\n",
      "\u001b[1m469/469\u001b[0m \u001b[32m━━━━━━━━━━━━━━━━━━━━\u001b[0m\u001b[37m\u001b[0m \u001b[1m2s\u001b[0m 5ms/step - accuracy: 1.0000 - loss: 3.9617e-05 - val_accuracy: 0.9834 - val_loss: 0.0781\n",
      "Epoch 83/100\n",
      "\u001b[1m469/469\u001b[0m \u001b[32m━━━━━━━━━━━━━━━━━━━━\u001b[0m\u001b[37m\u001b[0m \u001b[1m2s\u001b[0m 5ms/step - accuracy: 1.0000 - loss: 3.9025e-05 - val_accuracy: 0.9834 - val_loss: 0.0782\n",
      "Epoch 84/100\n",
      "\u001b[1m469/469\u001b[0m \u001b[32m━━━━━━━━━━━━━━━━━━━━\u001b[0m\u001b[37m\u001b[0m \u001b[1m2s\u001b[0m 5ms/step - accuracy: 1.0000 - loss: 3.8461e-05 - val_accuracy: 0.9834 - val_loss: 0.0783\n",
      "Epoch 85/100\n",
      "\u001b[1m469/469\u001b[0m \u001b[32m━━━━━━━━━━━━━━━━━━━━\u001b[0m\u001b[37m\u001b[0m \u001b[1m2s\u001b[0m 5ms/step - accuracy: 1.0000 - loss: 3.7892e-05 - val_accuracy: 0.9834 - val_loss: 0.0784\n",
      "Epoch 86/100\n",
      "\u001b[1m469/469\u001b[0m \u001b[32m━━━━━━━━━━━━━━━━━━━━\u001b[0m\u001b[37m\u001b[0m \u001b[1m2s\u001b[0m 5ms/step - accuracy: 1.0000 - loss: 3.7355e-05 - val_accuracy: 0.9834 - val_loss: 0.0784\n",
      "Epoch 87/100\n",
      "\u001b[1m469/469\u001b[0m \u001b[32m━━━━━━━━━━━━━━━━━━━━\u001b[0m\u001b[37m\u001b[0m \u001b[1m2s\u001b[0m 5ms/step - accuracy: 1.0000 - loss: 3.6827e-05 - val_accuracy: 0.9834 - val_loss: 0.0785\n",
      "Epoch 88/100\n",
      "\u001b[1m469/469\u001b[0m \u001b[32m━━━━━━━━━━━━━━━━━━━━\u001b[0m\u001b[37m\u001b[0m \u001b[1m2s\u001b[0m 5ms/step - accuracy: 1.0000 - loss: 3.6308e-05 - val_accuracy: 0.9834 - val_loss: 0.0786\n",
      "Epoch 89/100\n",
      "\u001b[1m469/469\u001b[0m \u001b[32m━━━━━━━━━━━━━━━━━━━━\u001b[0m\u001b[37m\u001b[0m \u001b[1m2s\u001b[0m 5ms/step - accuracy: 1.0000 - loss: 3.5812e-05 - val_accuracy: 0.9833 - val_loss: 0.0787\n",
      "Epoch 90/100\n",
      "\u001b[1m469/469\u001b[0m \u001b[32m━━━━━━━━━━━━━━━━━━━━\u001b[0m\u001b[37m\u001b[0m \u001b[1m2s\u001b[0m 5ms/step - accuracy: 1.0000 - loss: 3.5323e-05 - val_accuracy: 0.9833 - val_loss: 0.0788\n",
      "Epoch 91/100\n",
      "\u001b[1m469/469\u001b[0m \u001b[32m━━━━━━━━━━━━━━━━━━━━\u001b[0m\u001b[37m\u001b[0m \u001b[1m2s\u001b[0m 5ms/step - accuracy: 1.0000 - loss: 3.4855e-05 - val_accuracy: 0.9833 - val_loss: 0.0789\n",
      "Epoch 92/100\n",
      "\u001b[1m469/469\u001b[0m \u001b[32m━━━━━━━━━━━━━━━━━━━━\u001b[0m\u001b[37m\u001b[0m \u001b[1m2s\u001b[0m 5ms/step - accuracy: 1.0000 - loss: 3.4387e-05 - val_accuracy: 0.9833 - val_loss: 0.0789\n",
      "Epoch 93/100\n",
      "\u001b[1m469/469\u001b[0m \u001b[32m━━━━━━━━━━━━━━━━━━━━\u001b[0m\u001b[37m\u001b[0m \u001b[1m2s\u001b[0m 5ms/step - accuracy: 1.0000 - loss: 3.3943e-05 - val_accuracy: 0.9833 - val_loss: 0.0790\n",
      "Epoch 94/100\n",
      "\u001b[1m469/469\u001b[0m \u001b[32m━━━━━━━━━━━━━━━━━━━━\u001b[0m\u001b[37m\u001b[0m \u001b[1m2s\u001b[0m 5ms/step - accuracy: 1.0000 - loss: 3.3500e-05 - val_accuracy: 0.9833 - val_loss: 0.0791\n",
      "Epoch 95/100\n",
      "\u001b[1m469/469\u001b[0m \u001b[32m━━━━━━━━━━━━━━━━━━━━\u001b[0m\u001b[37m\u001b[0m \u001b[1m2s\u001b[0m 5ms/step - accuracy: 1.0000 - loss: 3.3071e-05 - val_accuracy: 0.9833 - val_loss: 0.0792\n",
      "Epoch 96/100\n",
      "\u001b[1m469/469\u001b[0m \u001b[32m━━━━━━━━━━━━━━━━━━━━\u001b[0m\u001b[37m\u001b[0m \u001b[1m2s\u001b[0m 5ms/step - accuracy: 1.0000 - loss: 3.2653e-05 - val_accuracy: 0.9833 - val_loss: 0.0793\n",
      "Epoch 97/100\n",
      "\u001b[1m469/469\u001b[0m \u001b[32m━━━━━━━━━━━━━━━━━━━━\u001b[0m\u001b[37m\u001b[0m \u001b[1m2s\u001b[0m 5ms/step - accuracy: 1.0000 - loss: 3.2245e-05 - val_accuracy: 0.9833 - val_loss: 0.0793\n",
      "Epoch 98/100\n",
      "\u001b[1m469/469\u001b[0m \u001b[32m━━━━━━━━━━━━━━━━━━━━\u001b[0m\u001b[37m\u001b[0m \u001b[1m2s\u001b[0m 5ms/step - accuracy: 1.0000 - loss: 3.1842e-05 - val_accuracy: 0.9833 - val_loss: 0.0794\n",
      "Epoch 99/100\n",
      "\u001b[1m469/469\u001b[0m \u001b[32m━━━━━━━━━━━━━━━━━━━━\u001b[0m\u001b[37m\u001b[0m \u001b[1m2s\u001b[0m 5ms/step - accuracy: 1.0000 - loss: 3.1459e-05 - val_accuracy: 0.9834 - val_loss: 0.0795\n",
      "Epoch 100/100\n",
      "\u001b[1m469/469\u001b[0m \u001b[32m━━━━━━━━━━━━━━━━━━━━\u001b[0m\u001b[37m\u001b[0m \u001b[1m2s\u001b[0m 5ms/step - accuracy: 1.0000 - loss: 3.1079e-05 - val_accuracy: 0.9834 - val_loss: 0.0795\n"
     ]
    }
   ],
   "source": [
    "tf.random.set_seed(3)\n",
    "model = Sequential()\n",
    "model.add(Dense(units=512, input_shape=(784,), activation=\"relu\"))\n",
    "model.add(Dense(units=10, activation=\"softmax\"))\n",
    "\n",
    "model.compile(loss=\"categorical_crossentropy\", \n",
    "              optimizer=\"rmsprop\",\n",
    "              metrics=[\"accuracy\"])\n",
    "\n",
    "# 학습 중에 발생하는 정확도와 오차값을 활용해서 모델에 대한 시각화 진행 예정\n",
    "# 그러려면 오차값 학습함수에서 반환값으로 제공 받아야함\n",
    "# 학습중에 검증까지 진행할 수 있도록 검증 데이터를 전달 가능\n",
    "\n",
    "history = model.fit(X_train_scaled, y_train2,\n",
    "                   epochs=100, batch_size=128,\n",
    "                   validation_data=(X_test_scaled, y_test2)) # 학습 + 검증\n",
    "# 학습데이터에 대한 loss, accuracy\n",
    "# 검증데이터에 대한 val_loss, val_accuracy"
   ]
  },
  {
   "cell_type": "code",
   "execution_count": 25,
   "metadata": {},
   "outputs": [
    {
     "name": "stdout",
     "output_type": "stream",
     "text": [
      "\u001b[1m313/313\u001b[0m \u001b[32m━━━━━━━━━━━━━━━━━━━━\u001b[0m\u001b[37m\u001b[0m \u001b[1m0s\u001b[0m 1ms/step - accuracy: 0.9797 - loss: 0.0976     \n",
      "정화도 : 0.9833999872207642 손실값 : 0.07954946160316467\n"
     ]
    }
   ],
   "source": [
    "# 모델 평가 (검증과 테스트 데이터 구성해서 검증은 학습에, 테스트는 평가에 사용해야함)\n",
    "loss, acc = model.evaluate(X_test_scaled, y_test2)\n",
    "print(\"정화도 :\", acc, \"손실값 :\", loss)"
   ]
  },
  {
   "cell_type": "code",
   "execution_count": 28,
   "metadata": {},
   "outputs": [
    {
     "data": {
      "text/plain": [
       "<keras.src.callbacks.history.History at 0x19e642b2ab0>"
      ]
     },
     "execution_count": 28,
     "metadata": {},
     "output_type": "execute_result"
    },
    {
     "data": {
      "text/plain": [
       "[0.26473942399024963,\n",
       " 0.10646877437829971,\n",
       " 0.06900274753570557,\n",
       " 0.04868507757782936,\n",
       " 0.03512968868017197,\n",
       " 0.0253750067204237,\n",
       " 0.01817259192466736,\n",
       " 0.0128319738432765,\n",
       " 0.00910184346139431,\n",
       " 0.006361213978379965,\n",
       " 0.004408592823892832,\n",
       " 0.0030802080873399973,\n",
       " 0.002012399025261402,\n",
       " 0.001423126319423318,\n",
       " 0.000981005490757525,\n",
       " 0.0007389024831354618,\n",
       " 0.0005884343408979475,\n",
       " 0.000487352954223752,\n",
       " 0.0004174200294073671,\n",
       " 0.0003656432672869414,\n",
       " 0.0003255698538850993,\n",
       " 0.00029330019606277347,\n",
       " 0.0002668173983693123,\n",
       " 0.00024460424901917577,\n",
       " 0.00022571312729269266,\n",
       " 0.00020928404410369694,\n",
       " 0.00019511878781486303,\n",
       " 0.00018270857981406152,\n",
       " 0.0001716275146463886,\n",
       " 0.00016181255341507494,\n",
       " 0.0001530166482552886,\n",
       " 0.00014508255117107183,\n",
       " 0.000137905910378322,\n",
       " 0.00013144240074325353,\n",
       " 0.00012546371726784855,\n",
       " 0.00012002493895124644,\n",
       " 0.00011501081462483853,\n",
       " 0.00011039882519980893,\n",
       " 0.0001061165748978965,\n",
       " 0.00010216639202553779,\n",
       " 9.848098852671683e-05,\n",
       " 9.50489702518098e-05,\n",
       " 9.184297232422978e-05,\n",
       " 8.882288966560736e-05,\n",
       " 8.600712317274883e-05,\n",
       " 8.33771046018228e-05,\n",
       " 8.08870026958175e-05,\n",
       " 7.853293209336698e-05,\n",
       " 7.631311746081337e-05,\n",
       " 7.42131524020806e-05,\n",
       " 7.222550630103797e-05,\n",
       " 7.033738074824214e-05,\n",
       " 6.854392995592207e-05,\n",
       " 6.682672392344102e-05,\n",
       " 6.520565511891618e-05,\n",
       " 6.364977889461443e-05,\n",
       " 6.217146437847987e-05,\n",
       " 6.076666613807902e-05,\n",
       " 5.939868060522713e-05,\n",
       " 5.810483708046377e-05,\n",
       " 5.687313023372553e-05,\n",
       " 5.5677592172287405e-05,\n",
       " 5.452612094813958e-05,\n",
       " 5.3434778237715364e-05,\n",
       " 5.2381881687324494e-05,\n",
       " 5.1361170335439965e-05,\n",
       " 5.0379774620523676e-05,\n",
       " 4.943399108015001e-05,\n",
       " 4.852590791415423e-05,\n",
       " 4.765562334796414e-05,\n",
       " 4.6798533730907366e-05,\n",
       " 4.597836232278496e-05,\n",
       " 4.518405330600217e-05,\n",
       " 4.4429129047784954e-05,\n",
       " 4.3677260691765696e-05,\n",
       " 4.296716724638827e-05,\n",
       " 4.226699093123898e-05,\n",
       " 4.159111631452106e-05,\n",
       " 4.094606265425682e-05,\n",
       " 4.030665149912238e-05,\n",
       " 3.969034878537059e-05,\n",
       " 3.909245424438268e-05,\n",
       " 3.85112471121829e-05,\n",
       " 3.795179873122834e-05,\n",
       " 3.7397690903162584e-05,\n",
       " 3.6864254070678726e-05,\n",
       " 3.634774839156307e-05,\n",
       " 3.584101432352327e-05,\n",
       " 3.534969437168911e-05,\n",
       " 3.487016510916874e-05,\n",
       " 3.440673754084855e-05,\n",
       " 3.395048770471476e-05,\n",
       " 3.350784390931949e-05,\n",
       " 3.307593215140514e-05,\n",
       " 3.2654235837981105e-05,\n",
       " 3.224397005396895e-05,\n",
       " 3.184087836416438e-05,\n",
       " 3.144653237541206e-05,\n",
       " 3.1068029784364626e-05,\n",
       " 3.069155718549155e-05]"
      ]
     },
     "execution_count": 28,
     "metadata": {},
     "output_type": "execute_result"
    },
    {
     "data": {
      "text/plain": [
       "[0.9241999983787537,\n",
       " 0.968999981880188,\n",
       " 0.9801333546638489,\n",
       " 0.9858999848365784,\n",
       " 0.9905666708946228,\n",
       " 0.9937833547592163,\n",
       " 0.9961666464805603,\n",
       " 0.9973499774932861,\n",
       " 0.998283326625824,\n",
       " 0.9990500211715698,\n",
       " 0.9994666576385498,\n",
       " 0.9996500015258789,\n",
       " 0.9998666644096375,\n",
       " 0.999916672706604,\n",
       " 0.9999833106994629,\n",
       " 0.9999833106994629,\n",
       " 0.9999833106994629,\n",
       " 1.0,\n",
       " 1.0,\n",
       " 1.0,\n",
       " 1.0,\n",
       " 1.0,\n",
       " 1.0,\n",
       " 1.0,\n",
       " 1.0,\n",
       " 1.0,\n",
       " 1.0,\n",
       " 1.0,\n",
       " 1.0,\n",
       " 1.0,\n",
       " 1.0,\n",
       " 1.0,\n",
       " 1.0,\n",
       " 1.0,\n",
       " 1.0,\n",
       " 1.0,\n",
       " 1.0,\n",
       " 1.0,\n",
       " 1.0,\n",
       " 1.0,\n",
       " 1.0,\n",
       " 1.0,\n",
       " 1.0,\n",
       " 1.0,\n",
       " 1.0,\n",
       " 1.0,\n",
       " 1.0,\n",
       " 1.0,\n",
       " 1.0,\n",
       " 1.0,\n",
       " 1.0,\n",
       " 1.0,\n",
       " 1.0,\n",
       " 1.0,\n",
       " 1.0,\n",
       " 1.0,\n",
       " 1.0,\n",
       " 1.0,\n",
       " 1.0,\n",
       " 1.0,\n",
       " 1.0,\n",
       " 1.0,\n",
       " 1.0,\n",
       " 1.0,\n",
       " 1.0,\n",
       " 1.0,\n",
       " 1.0,\n",
       " 1.0,\n",
       " 1.0,\n",
       " 1.0,\n",
       " 1.0,\n",
       " 1.0,\n",
       " 1.0,\n",
       " 1.0,\n",
       " 1.0,\n",
       " 1.0,\n",
       " 1.0,\n",
       " 1.0,\n",
       " 1.0,\n",
       " 1.0,\n",
       " 1.0,\n",
       " 1.0,\n",
       " 1.0,\n",
       " 1.0,\n",
       " 1.0,\n",
       " 1.0,\n",
       " 1.0,\n",
       " 1.0,\n",
       " 1.0,\n",
       " 1.0,\n",
       " 1.0,\n",
       " 1.0,\n",
       " 1.0,\n",
       " 1.0,\n",
       " 1.0,\n",
       " 1.0,\n",
       " 1.0,\n",
       " 1.0,\n",
       " 1.0,\n",
       " 1.0]"
      ]
     },
     "execution_count": 28,
     "metadata": {},
     "output_type": "execute_result"
    },
    {
     "data": {
      "text/plain": [
       "[0.12620316445827484,\n",
       " 0.08751975744962692,\n",
       " 0.07567467540502548,\n",
       " 0.06672736257314682,\n",
       " 0.06258442997932434,\n",
       " 0.06049054116010666,\n",
       " 0.061139270663261414,\n",
       " 0.06281299889087677,\n",
       " 0.06491491943597794,\n",
       " 0.06678760796785355,\n",
       " 0.06588717550039291,\n",
       " 0.06800007075071335,\n",
       " 0.067862369120121,\n",
       " 0.06666859984397888,\n",
       " 0.06650932878255844,\n",
       " 0.06647621095180511,\n",
       " 0.06665831059217453,\n",
       " 0.06672869622707367,\n",
       " 0.0670102909207344,\n",
       " 0.06742201000452042,\n",
       " 0.0677948147058487,\n",
       " 0.06819776445627213,\n",
       " 0.06857980042695999,\n",
       " 0.06891971826553345,\n",
       " 0.06920874118804932,\n",
       " 0.06956908106803894,\n",
       " 0.06983669847249985,\n",
       " 0.070149727165699,\n",
       " 0.07041443139314651,\n",
       " 0.07067570090293884,\n",
       " 0.07092230767011642,\n",
       " 0.07117310166358948,\n",
       " 0.07138561457395554,\n",
       " 0.07162292301654816,\n",
       " 0.07185187935829163,\n",
       " 0.07203975319862366,\n",
       " 0.07223772257566452,\n",
       " 0.0724276602268219,\n",
       " 0.07260794192552567,\n",
       " 0.07279597967863083,\n",
       " 0.0729791596531868,\n",
       " 0.07316003739833832,\n",
       " 0.07332263886928558,\n",
       " 0.07348892092704773,\n",
       " 0.07364175468683243,\n",
       " 0.0738191157579422,\n",
       " 0.0739826112985611,\n",
       " 0.07413162291049957,\n",
       " 0.07428449392318726,\n",
       " 0.07443033158779144,\n",
       " 0.07456713914871216,\n",
       " 0.07471437007188797,\n",
       " 0.07485584169626236,\n",
       " 0.0749855637550354,\n",
       " 0.07512146979570389,\n",
       " 0.07526141405105591,\n",
       " 0.07539405673742294,\n",
       " 0.07552088797092438,\n",
       " 0.07564165443181992,\n",
       " 0.0757707729935646,\n",
       " 0.07590022683143616,\n",
       " 0.0760110467672348,\n",
       " 0.07614149898290634,\n",
       " 0.07624184340238571,\n",
       " 0.07636810839176178,\n",
       " 0.076473169028759,\n",
       " 0.0765959843993187,\n",
       " 0.0766989216208458,\n",
       " 0.07679446041584015,\n",
       " 0.07690686732530594,\n",
       " 0.07701487094163895,\n",
       " 0.0771201029419899,\n",
       " 0.07721806317567825,\n",
       " 0.07732536643743515,\n",
       " 0.07742112129926682,\n",
       " 0.07752211391925812,\n",
       " 0.0776217058300972,\n",
       " 0.0777180939912796,\n",
       " 0.07781563699245453,\n",
       " 0.07790018618106842,\n",
       " 0.077997587621212,\n",
       " 0.07808630168437958,\n",
       " 0.07817855477333069,\n",
       " 0.07827165722846985,\n",
       " 0.07835481315851212,\n",
       " 0.07844824343919754,\n",
       " 0.07852611690759659,\n",
       " 0.07861198484897614,\n",
       " 0.07869352400302887,\n",
       " 0.07877740263938904,\n",
       " 0.07885386049747467,\n",
       " 0.07893911004066467,\n",
       " 0.07901731878519058,\n",
       " 0.07909971475601196,\n",
       " 0.07917574793100357,\n",
       " 0.07925601303577423,\n",
       " 0.07932910323143005,\n",
       " 0.07939895987510681,\n",
       " 0.07947631180286407,\n",
       " 0.07954948395490646]"
      ]
     },
     "execution_count": 28,
     "metadata": {},
     "output_type": "execute_result"
    },
    {
     "data": {
      "text/plain": [
       "[0.9625999927520752,\n",
       " 0.9732000231742859,\n",
       " 0.9760000109672546,\n",
       " 0.978600025177002,\n",
       " 0.9800000190734863,\n",
       " 0.9812999963760376,\n",
       " 0.9817000031471252,\n",
       " 0.9810000061988831,\n",
       " 0.9807999730110168,\n",
       " 0.9807000160217285,\n",
       " 0.9824000000953674,\n",
       " 0.9817000031471252,\n",
       " 0.982200026512146,\n",
       " 0.9835000038146973,\n",
       " 0.9832000136375427,\n",
       " 0.983299970626831,\n",
       " 0.9833999872207642,\n",
       " 0.9832000136375427,\n",
       " 0.983299970626831,\n",
       " 0.9833999872207642,\n",
       " 0.9833999872207642,\n",
       " 0.983299970626831,\n",
       " 0.9835000038146973,\n",
       " 0.9836999773979187,\n",
       " 0.9835000038146973,\n",
       " 0.9835000038146973,\n",
       " 0.9833999872207642,\n",
       " 0.9835000038146973,\n",
       " 0.983299970626831,\n",
       " 0.9833999872207642,\n",
       " 0.9833999872207642,\n",
       " 0.9833999872207642,\n",
       " 0.983299970626831,\n",
       " 0.983299970626831,\n",
       " 0.9833999872207642,\n",
       " 0.9833999872207642,\n",
       " 0.9836000204086304,\n",
       " 0.9835000038146973,\n",
       " 0.9835000038146973,\n",
       " 0.9836000204086304,\n",
       " 0.9836000204086304,\n",
       " 0.9836000204086304,\n",
       " 0.9836000204086304,\n",
       " 0.9836000204086304,\n",
       " 0.9836000204086304,\n",
       " 0.9836000204086304,\n",
       " 0.9836000204086304,\n",
       " 0.9835000038146973,\n",
       " 0.9835000038146973,\n",
       " 0.9835000038146973,\n",
       " 0.9833999872207642,\n",
       " 0.9833999872207642,\n",
       " 0.9833999872207642,\n",
       " 0.9833999872207642,\n",
       " 0.9833999872207642,\n",
       " 0.9833999872207642,\n",
       " 0.9835000038146973,\n",
       " 0.9835000038146973,\n",
       " 0.9835000038146973,\n",
       " 0.9835000038146973,\n",
       " 0.9835000038146973,\n",
       " 0.9835000038146973,\n",
       " 0.9835000038146973,\n",
       " 0.9835000038146973,\n",
       " 0.9835000038146973,\n",
       " 0.9835000038146973,\n",
       " 0.9835000038146973,\n",
       " 0.9835000038146973,\n",
       " 0.9835000038146973,\n",
       " 0.9835000038146973,\n",
       " 0.9835000038146973,\n",
       " 0.9835000038146973,\n",
       " 0.9835000038146973,\n",
       " 0.9835000038146973,\n",
       " 0.9835000038146973,\n",
       " 0.9835000038146973,\n",
       " 0.9835000038146973,\n",
       " 0.9835000038146973,\n",
       " 0.9835000038146973,\n",
       " 0.9833999872207642,\n",
       " 0.9833999872207642,\n",
       " 0.9833999872207642,\n",
       " 0.9833999872207642,\n",
       " 0.9833999872207642,\n",
       " 0.9833999872207642,\n",
       " 0.9833999872207642,\n",
       " 0.9833999872207642,\n",
       " 0.9833999872207642,\n",
       " 0.983299970626831,\n",
       " 0.983299970626831,\n",
       " 0.983299970626831,\n",
       " 0.983299970626831,\n",
       " 0.983299970626831,\n",
       " 0.983299970626831,\n",
       " 0.983299970626831,\n",
       " 0.983299970626831,\n",
       " 0.983299970626831,\n",
       " 0.983299970626831,\n",
       " 0.9833999872207642,\n",
       " 0.9833999872207642]"
      ]
     },
     "execution_count": 28,
     "metadata": {},
     "output_type": "execute_result"
    }
   ],
   "source": [
    "history\n",
    "history.history[\"loss\"]\n",
    "history.history[\"accuracy\"]\n",
    "history.history[\"val_loss\"]\n",
    "history.history[\"val_accuracy\"]"
   ]
  },
  {
   "cell_type": "markdown",
   "metadata": {},
   "source": [
    "### 시각화"
   ]
  },
  {
   "cell_type": "code",
   "execution_count": 29,
   "metadata": {},
   "outputs": [
    {
     "data": {
      "text/plain": [
       "<Figure size 1800x600 with 0 Axes>"
      ]
     },
     "execution_count": 29,
     "metadata": {},
     "output_type": "execute_result"
    },
    {
     "data": {
      "text/plain": [
       "<Axes: >"
      ]
     },
     "execution_count": 29,
     "metadata": {},
     "output_type": "execute_result"
    },
    {
     "data": {
      "text/plain": [
       "[<matplotlib.lines.Line2D at 0x19e80429a60>]"
      ]
     },
     "execution_count": 29,
     "metadata": {},
     "output_type": "execute_result"
    },
    {
     "data": {
      "text/plain": [
       "[<matplotlib.lines.Line2D at 0x19e8041c1d0>]"
      ]
     },
     "execution_count": 29,
     "metadata": {},
     "output_type": "execute_result"
    },
    {
     "data": {
      "text/plain": [
       "Text(0.5, 1.0, 'accuracy')"
      ]
     },
     "execution_count": 29,
     "metadata": {},
     "output_type": "execute_result"
    },
    {
     "data": {
      "text/plain": [
       "<matplotlib.legend.Legend at 0x19e803a12b0>"
      ]
     },
     "execution_count": 29,
     "metadata": {},
     "output_type": "execute_result"
    },
    {
     "data": {
      "text/plain": [
       "<Axes: >"
      ]
     },
     "execution_count": 29,
     "metadata": {},
     "output_type": "execute_result"
    },
    {
     "data": {
      "text/plain": [
       "[<matplotlib.lines.Line2D at 0x19e8042ed80>]"
      ]
     },
     "execution_count": 29,
     "metadata": {},
     "output_type": "execute_result"
    },
    {
     "data": {
      "text/plain": [
       "[<matplotlib.lines.Line2D at 0x19e8042ef30>]"
      ]
     },
     "execution_count": 29,
     "metadata": {},
     "output_type": "execute_result"
    },
    {
     "data": {
      "text/plain": [
       "Text(0.5, 1.0, 'loss')"
      ]
     },
     "execution_count": 29,
     "metadata": {},
     "output_type": "execute_result"
    },
    {
     "data": {
      "text/plain": [
       "<matplotlib.legend.Legend at 0x19e803a1b50>"
      ]
     },
     "execution_count": 29,
     "metadata": {},
     "output_type": "execute_result"
    },
    {
     "data": {
      "image/png": "[encoded data removed]",
      "text/plain": [
       "<Figure size 1800x600 with 2 Axes>"
      ]
     },
     "metadata": {},
     "output_type": "display_data"
    }
   ],
   "source": [
    "# accuracy와 loss 확인\n",
    "# accuracy / val_accuracy\n",
    "# loss / val_loss\n",
    "\n",
    "# loss: 훈련 데이터에 대한 손실값\n",
    "# val_loss: 검증 데이터에 대한 손실값\n",
    "# accuracy: 훈련 데이터에 대한 정확도\n",
    "# val_accuracy: 검증 데이터에 대한 정확도\n",
    "\n",
    "# 필요한 값\n",
    "# history 객체의 history['accuracy'] \n",
    "# history 객체의 history['val_accuracy']\n",
    "# history 객체의 history['loss']\n",
    "# history 객체의 history['val_loss']\n",
    "\n",
    "plt.figure(figsize=(18, 6))\n",
    "\n",
    "# 정확도\n",
    "plt.subplot(1, 2, 1)\n",
    "plt.plot(history.history[\"accuracy\"], label=\"accuracy\")\n",
    "plt.plot(history.history[\"val_accuracy\"], label=\"val_accuracy\")\n",
    "plt.title('accuracy')\n",
    "plt.legend()\n",
    "\n",
    "# 손실률\n",
    "plt.subplot(1, 2, 2)\n",
    "plt.plot(history.history[\"loss\"], label=\"loss\")\n",
    "plt.plot(history.history[\"val_loss\"], label=\"val_loss\")\n",
    "plt.title('loss')\n",
    "plt.legend()\n",
    "\n",
    "plt.show()"
   ]
  },
  {
   "cell_type": "code",
   "execution_count": null,
   "metadata": {},
   "outputs": [],
   "source": []
  },
  {
   "cell_type": "markdown",
   "metadata": {},
   "source": [
    "### 모델 저장 \n",
    "- 모델 구조와 가중치 모두를 저장\n",
    "- 구조와 가중치가 저장될 경우 load해서 바로 사용 가능"
   ]
  },
  {
   "cell_type": "code",
   "execution_count": 30,
   "metadata": {},
   "outputs": [
    {
     "name": "stderr",
     "output_type": "stream",
     "text": [
      "WARNING:absl:You are saving your model as an HDF5 file via `model.save()` or `keras.saving.save_model(model)`. This file format is considered legacy. We recommend using instead the native Keras format, e.g. `model.save('my_model.keras')` or `keras.saving.save_model(model, 'my_model.keras')`. \n"
     ]
    }
   ],
   "source": [
    "model.save('./model/img_model.h5') # legacy"
   ]
  },
  {
   "cell_type": "code",
   "execution_count": 31,
   "metadata": {},
   "outputs": [],
   "source": [
    "model.save('./model/img_model.keras')"
   ]
  },
  {
   "cell_type": "code",
   "execution_count": null,
   "metadata": {},
   "outputs": [],
   "source": []
  },
  {
   "cell_type": "markdown",
   "metadata": {},
   "source": [
    "### 모델 불러오기 "
   ]
  },
  {
   "cell_type": "code",
   "execution_count": 32,
   "metadata": {},
   "outputs": [
    {
     "name": "stderr",
     "output_type": "stream",
     "text": [
      "WARNING:absl:Compiled the loaded model, but the compiled metrics have yet to be built. `model.compile_metrics` will be empty until you train or evaluate the model.\n"
     ]
    }
   ],
   "source": [
    "from tensorflow.keras.models import load_model\n",
    "# 모델의 구성 객체 + 파라미터 + 가중치 등 \n",
    "loaded_model_h5 = load_model('./model/img_model.h5')"
   ]
  },
  {
   "cell_type": "code",
   "execution_count": 33,
   "metadata": {},
   "outputs": [],
   "source": [
    "loaded_model_keras = load_model('./model/img_model.keras')"
   ]
  },
  {
   "cell_type": "code",
   "execution_count": null,
   "metadata": {},
   "outputs": [],
   "source": []
  },
  {
   "cell_type": "markdown",
   "metadata": {},
   "source": [
    "### loaded_model 모델로 예측"
   ]
  },
  {
   "cell_type": "code",
   "execution_count": 28,
   "metadata": {},
   "outputs": [],
   "source": [
    "# predict() 사용해서 예측\n",
    "# 예측 확률 반환 \n",
    "# 예 : [0.1111111], 0.55777. 0.3333333,....]"
   ]
  },
  {
   "cell_type": "code",
   "execution_count": 36,
   "metadata": {},
   "outputs": [
    {
     "data": {
      "text/plain": [
       "array([[4.51126063e-15, 1.14483062e-17, 3.62157418e-12, ...,\n",
       "        1.00000000e+00, 4.50731675e-17, 2.00431165e-12],\n",
       "       [1.12018684e-14, 1.08424576e-12, 1.00000000e+00, ...,\n",
       "        1.35913854e-29, 3.63645420e-13, 3.55205873e-25],\n",
       "       [1.12530047e-14, 9.99999881e-01, 1.45975818e-08, ...,\n",
       "        2.47366283e-09, 5.18199847e-08, 3.18486387e-14],\n",
       "       ...,\n",
       "       [2.97256550e-28, 2.97476197e-23, 4.76878451e-31, ...,\n",
       "        4.30601599e-14, 1.45150398e-16, 1.48334426e-14],\n",
       "       [3.20150333e-14, 3.21852900e-19, 3.66446918e-22, ...,\n",
       "        2.76018823e-19, 2.82682278e-09, 2.54009441e-23],\n",
       "       [1.82274604e-18, 4.55858104e-27, 3.80622151e-20, ...,\n",
       "        1.41672893e-30, 9.23625674e-23, 2.78617290e-24]], dtype=float32)"
      ]
     },
     "execution_count": 36,
     "metadata": {},
     "output_type": "execute_result"
    },
    {
     "data": {
      "text/plain": [
       "(10000, 10)"
      ]
     },
     "execution_count": 36,
     "metadata": {},
     "output_type": "execute_result"
    },
    {
     "data": {
      "text/plain": [
       "array([4.5112606e-15, 1.1448306e-17, 3.6215742e-12, 3.4834755e-10,\n",
       "       2.1320833e-22, 4.7529295e-16, 3.2355840e-23, 1.0000000e+00,\n",
       "       4.5073168e-17, 2.0043116e-12], dtype=float32)"
      ]
     },
     "execution_count": 36,
     "metadata": {},
     "output_type": "execute_result"
    }
   ],
   "source": [
    "# loaded_model_h5 사용 예측\n",
    "y_pre_prob = loaded_model_h5.predict(X_test_scaled, verbose=0)\n",
    "y_pre_prob\n",
    "y_pre_prob.shape\n",
    "y_pre_prob[0]\n",
    "#[0일 확률, 1일 확률, ..., 9일 확률]\n",
    "# 7일 확률 : 1.0000000e+00 제일 큼"
   ]
  },
  {
   "cell_type": "code",
   "execution_count": 37,
   "metadata": {},
   "outputs": [
    {
     "data": {
      "text/plain": [
       "array([1.12018684e-14, 1.08424576e-12, 1.00000000e+00, 5.07654289e-14,\n",
       "       2.37572848e-28, 1.77033029e-17, 1.29795263e-15, 1.35913854e-29,\n",
       "       3.63645420e-13, 3.55205873e-25], dtype=float32)"
      ]
     },
     "execution_count": 37,
     "metadata": {},
     "output_type": "execute_result"
    }
   ],
   "source": [
    "y_pre_prob[1] # 2일 확률이 제일 큼 -> 2로 예측"
   ]
  },
  {
   "cell_type": "code",
   "execution_count": 31,
   "metadata": {},
   "outputs": [
    {
     "data": {
      "text/plain": [
       "array([2.1903899e-13, 9.9999988e-01, 2.3724601e-08, 5.7184357e-13,\n",
       "       6.0653043e-09, 4.0620163e-12, 1.9977710e-11, 2.7239890e-09,\n",
       "       7.6785369e-08, 3.5905096e-14], dtype=float32)"
      ]
     },
     "execution_count": 31,
     "metadata": {},
     "output_type": "execute_result"
    }
   ],
   "source": [
    "y_pre_prob[2] # 1일 확률이 제일 큼 -> 1로 예측"
   ]
  },
  {
   "cell_type": "code",
   "execution_count": 38,
   "metadata": {},
   "outputs": [
    {
     "data": {
      "text/plain": [
       "array([7, 2, 1, 0, 4, 1, 4, 9, 5, 9, 0, 6, 9, 0, 1, 5, 9, 7, 3, 4])"
      ]
     },
     "execution_count": 38,
     "metadata": {},
     "output_type": "execute_result"
    },
    {
     "data": {
      "text/plain": [
       "array([7, 2, 1, 0, 4, 1, 4, 9, 5, 9, 0, 6, 9, 0, 1, 5, 9, 7, 3, 4],\n",
       "      dtype=uint8)"
      ]
     },
     "execution_count": 38,
     "metadata": {},
     "output_type": "execute_result"
    }
   ],
   "source": [
    "# argmax(axis=1) : 열방향(가로축) 값들 중에서 최대값 반환\n",
    "y_pred = y_pre_prob.argmax(axis=1) # 열방향(가로축) 값들 중에서 최대값으로 예측\n",
    "y_pred[:20] # 예측값\n",
    "y_test[:20] # 실제값"
   ]
  },
  {
   "cell_type": "code",
   "execution_count": 39,
   "metadata": {},
   "outputs": [
    {
     "data": {
      "text/plain": [
       "array([5, 0, 4, ..., 5, 6, 8], dtype=uint8)"
      ]
     },
     "execution_count": 39,
     "metadata": {},
     "output_type": "execute_result"
    },
    {
     "data": {
      "text/plain": [
       "np.uint8(4)"
      ]
     },
     "execution_count": 39,
     "metadata": {},
     "output_type": "execute_result"
    }
   ],
   "source": [
    "y_train\n",
    "y_train[9]"
   ]
  },
  {
   "cell_type": "code",
   "execution_count": null,
   "metadata": {},
   "outputs": [],
   "source": []
  },
  {
   "cell_type": "code",
   "execution_count": 41,
   "metadata": {},
   "outputs": [
    {
     "data": {
      "text/plain": [
       "array([7, 2, 1, 0, 4, 1, 4, 9, 5, 9])"
      ]
     },
     "execution_count": 41,
     "metadata": {},
     "output_type": "execute_result"
    },
    {
     "data": {
      "text/plain": [
       "array([7, 2, 1, 0, 4, 1, 4, 9, 5, 9], dtype=uint8)"
      ]
     },
     "execution_count": 41,
     "metadata": {},
     "output_type": "execute_result"
    }
   ],
   "source": [
    "# loaded_model_keras 모델 사용 예측 : 동일\n",
    "y_pre_prob = loaded_model_keras.predict(X_test_scaled, verbose=0)\n",
    "y_pred = y_pre_prob.argmax(axis=1) # 열방향(가로축) 값들 중에서 최대값으로 예측\n",
    "y_pred[:10]\n",
    "y_test[:10]"
   ]
  },
  {
   "cell_type": "code",
   "execution_count": 46,
   "metadata": {},
   "outputs": [
    {
     "data": {
      "text/plain": [
       "np.uint8(4)"
      ]
     },
     "execution_count": 46,
     "metadata": {},
     "output_type": "execute_result"
    }
   ],
   "source": [
    "y_train[9]"
   ]
  },
  {
   "cell_type": "code",
   "execution_count": 47,
   "metadata": {},
   "outputs": [],
   "source": [
    "##################################################################"
   ]
  },
  {
   "cell_type": "code",
   "execution_count": null,
   "metadata": {},
   "outputs": [],
   "source": []
  },
  {
   "cell_type": "code",
   "execution_count": 53,
   "metadata": {},
   "outputs": [
    {
     "data": {
      "text/plain": [
       "np.float32(1.0)"
      ]
     },
     "execution_count": 53,
     "metadata": {},
     "output_type": "execute_result"
    },
    {
     "data": {
      "text/plain": [
       "array([4])"
      ]
     },
     "execution_count": 53,
     "metadata": {},
     "output_type": "execute_result"
    },
    {
     "name": "stdout",
     "output_type": "stream",
     "text": [
      "[4]\n"
     ]
    }
   ],
   "source": [
    "# X_train[9] 값으로 예측 \n",
    "# X_train[9] 값을 적절한 형태로 변환하여 \n",
    "# predict() 함수에 넣어서 4로 예측하는지 확인\n",
    "\n",
    "# 학습할 때 0 ~ 1 사이의 값으로 학습\n",
    "test_var = X_train[9].reshape(1, 28*28) / 255\n",
    "# test_var = test_var / 255\n",
    "y_pre_prob = loaded_model_keras.predict(test_var, verbose=0)\n",
    "y_pre_prob.max()\n",
    "y_pred = y_pre_prob.argmax(axis=1)\n",
    "y_pred\n",
    "print(y_pred)\n"
   ]
  },
  {
   "cell_type": "code",
   "execution_count": 55,
   "metadata": {},
   "outputs": [
    {
     "data": {
      "text/plain": [
       "array([[0.        , 0.        , 0.        , 0.        , 0.        ,\n",
       "        0.        , 0.        , 0.        , 0.        , 0.        ,\n",
       "        0.        , 0.        , 0.        , 0.        , 0.        ,\n",
       "        0.        , 0.        , 0.        , 0.        , 0.        ,\n",
       "        0.        , 0.        , 0.        , 0.        , 0.        ,\n",
       "        0.        , 0.        , 0.        ],\n",
       "       [0.        , 0.        , 0.        , 0.        , 0.        ,\n",
       "        0.        , 0.        , 0.        , 0.        , 0.        ,\n",
       "        0.        , 0.        , 0.        , 0.        , 0.        ,\n",
       "        0.        , 0.        , 0.        , 0.        , 0.        ,\n",
       "        0.        , 0.        , 0.        , 0.        , 0.        ,\n",
       "        0.        , 0.        , 0.        ],\n",
       "       [0.        , 0.        , 0.        , 0.        , 0.        ,\n",
       "        0.        , 0.        , 0.        , 0.        , 0.        ,\n",
       "        0.        , 0.        , 0.        , 0.        , 0.        ,\n",
       "        0.        , 0.        , 0.        , 0.        , 0.        ,\n",
       "        0.        , 0.        , 0.        , 0.        , 0.        ,\n",
       "        0.        , 0.        , 0.        ],\n",
       "       [0.        , 0.        , 0.        , 0.        , 0.        ,\n",
       "        0.        , 0.        , 0.        , 0.        , 0.        ,\n",
       "        0.        , 0.        , 0.        , 0.        , 0.        ,\n",
       "        0.        , 0.        , 0.        , 0.        , 0.        ,\n",
       "        0.        , 0.        , 0.        , 0.        , 0.        ,\n",
       "        0.        , 0.        , 0.        ],\n",
       "       [0.        , 0.        , 0.        , 0.        , 0.        ,\n",
       "        0.        , 0.        , 0.        , 0.        , 0.        ,\n",
       "        0.        , 0.        , 0.        , 0.        , 0.        ,\n",
       "        0.        , 0.        , 0.        , 0.        , 0.        ,\n",
       "        0.        , 0.        , 0.74117647, 0.74509804, 0.        ,\n",
       "        0.        , 0.        , 0.        ],\n",
       "       [0.        , 0.        , 0.        , 0.        , 0.        ,\n",
       "        0.        , 0.        , 0.        , 0.        , 0.        ,\n",
       "        0.        , 0.        , 0.        , 0.        , 0.        ,\n",
       "        0.        , 0.        , 0.        , 0.        , 0.        ,\n",
       "        0.        , 0.56078431, 0.96862745, 0.6       , 0.        ,\n",
       "        0.        , 0.        , 0.        ],\n",
       "       [0.        , 0.        , 0.        , 0.        , 0.        ,\n",
       "        0.        , 0.        , 0.        , 0.        , 0.        ,\n",
       "        0.        , 0.        , 0.        , 0.        , 0.        ,\n",
       "        0.        , 0.        , 0.        , 0.        , 0.        ,\n",
       "        0.53333333, 0.96862745, 0.94901961, 0.3372549 , 0.        ,\n",
       "        0.        , 0.        , 0.        ],\n",
       "       [0.        , 0.        , 0.        , 0.        , 0.        ,\n",
       "        0.        , 0.        , 0.        , 0.        , 0.        ,\n",
       "        0.        , 0.        , 0.        , 0.        , 0.        ,\n",
       "        0.        , 0.        , 0.        , 0.        , 0.        ,\n",
       "        0.75294118, 0.98823529, 0.73333333, 0.        , 0.        ,\n",
       "        0.        , 0.        , 0.        ],\n",
       "       [0.        , 0.        , 0.        , 0.        , 0.        ,\n",
       "        0.        , 0.        , 0.        , 0.        , 0.        ,\n",
       "        0.        , 0.        , 0.24313725, 0.7254902 , 0.07058824,\n",
       "        0.        , 0.        , 0.        , 0.        , 0.34901961,\n",
       "        0.9254902 , 0.85098039, 0.18431373, 0.        , 0.        ,\n",
       "        0.        , 0.        , 0.        ],\n",
       "       [0.        , 0.        , 0.        , 0.        , 0.        ,\n",
       "        0.        , 0.        , 0.        , 0.        , 0.        ,\n",
       "        0.        , 0.        , 0.84705882, 0.99215686, 0.23529412,\n",
       "        0.        , 0.        , 0.        , 0.        , 0.83137255,\n",
       "        1.        , 0.31764706, 0.        , 0.        , 0.        ,\n",
       "        0.        , 0.        , 0.        ],\n",
       "       [0.        , 0.        , 0.        , 0.        , 0.        ,\n",
       "        0.        , 0.        , 0.        , 0.        , 0.        ,\n",
       "        0.        , 0.        , 0.80784314, 0.98823529, 0.26666667,\n",
       "        0.        , 0.        , 0.        , 0.18823529, 0.94901961,\n",
       "        0.99215686, 0.34901961, 0.        , 0.        , 0.        ,\n",
       "        0.        , 0.        , 0.        ],\n",
       "       [0.        , 0.        , 0.        , 0.        , 0.        ,\n",
       "        0.        , 0.        , 0.        , 0.        , 0.        ,\n",
       "        0.        , 0.51372549, 0.98431373, 0.83137255, 0.08235294,\n",
       "        0.        , 0.        , 0.04313725, 0.65490196, 0.98823529,\n",
       "        0.77254902, 0.01960784, 0.        , 0.        , 0.        ,\n",
       "        0.        , 0.        , 0.        ],\n",
       "       [0.        , 0.        , 0.        , 0.        , 0.        ,\n",
       "        0.        , 0.        , 0.        , 0.        , 0.        ,\n",
       "        0.11372549, 0.90980392, 0.96862745, 0.24705882, 0.        ,\n",
       "        0.        , 0.        , 0.6       , 0.98823529, 0.88627451,\n",
       "        0.        , 0.        , 0.        , 0.        , 0.        ,\n",
       "        0.        , 0.        , 0.        ],\n",
       "       [0.        , 0.        , 0.        , 0.        , 0.        ,\n",
       "        0.        , 0.        , 0.        , 0.        , 0.17647059,\n",
       "        0.85882353, 0.98823529, 0.56078431, 0.        , 0.        ,\n",
       "        0.        , 0.45490196, 0.97647059, 0.98823529, 0.40392157,\n",
       "        0.        , 0.        , 0.        , 0.        , 0.        ,\n",
       "        0.        , 0.        , 0.        ],\n",
       "       [0.        , 0.        , 0.        , 0.        , 0.        ,\n",
       "        0.        , 0.        , 0.01568627, 0.37647059, 0.99215686,\n",
       "        1.        , 0.99215686, 0.78431373, 0.47843137, 0.02745098,\n",
       "        0.09803922, 0.78823529, 0.98039216, 0.61960784, 0.        ,\n",
       "        0.        , 0.        , 0.        , 0.        , 0.        ,\n",
       "        0.        , 0.        , 0.        ],\n",
       "       [0.        , 0.        , 0.        , 0.        , 0.        ,\n",
       "        0.        , 0.        , 0.36078431, 0.98823529, 0.98823529,\n",
       "        0.99215686, 0.85098039, 0.98823529, 0.98823529, 0.78431373,\n",
       "        0.89019608, 0.98823529, 0.90588235, 0.        , 0.        ,\n",
       "        0.        , 0.        , 0.        , 0.        , 0.        ,\n",
       "        0.        , 0.        , 0.        ],\n",
       "       [0.        , 0.        , 0.        , 0.        , 0.        ,\n",
       "        0.        , 0.34117647, 0.98431373, 0.96862745, 0.90588235,\n",
       "        0.25490196, 0.18823529, 0.74117647, 0.98823529, 0.98823529,\n",
       "        0.99215686, 0.98823529, 0.98431373, 0.89019608, 0.1372549 ,\n",
       "        0.        , 0.        , 0.        , 0.        , 0.        ,\n",
       "        0.        , 0.        , 0.        ],\n",
       "       [0.        , 0.        , 0.        , 0.        , 0.        ,\n",
       "        0.        , 0.74509804, 0.86666667, 0.38431373, 0.        ,\n",
       "        0.        , 0.        , 0.16470588, 0.76862745, 0.98823529,\n",
       "        0.99215686, 0.98823529, 0.98823529, 0.63529412, 0.        ,\n",
       "        0.        , 0.        , 0.        , 0.        , 0.        ,\n",
       "        0.        , 0.        , 0.        ],\n",
       "       [0.        , 0.        , 0.        , 0.        , 0.        ,\n",
       "        0.        , 0.43529412, 0.11372549, 0.        , 0.        ,\n",
       "        0.        , 0.        , 0.24313725, 0.9372549 , 0.98823529,\n",
       "        0.3372549 , 0.16470588, 0.16470588, 0.05490196, 0.        ,\n",
       "        0.        , 0.        , 0.        , 0.        , 0.        ,\n",
       "        0.        , 0.        , 0.        ],\n",
       "       [0.        , 0.        , 0.        , 0.        , 0.        ,\n",
       "        0.        , 0.        , 0.        , 0.        , 0.        ,\n",
       "        0.        , 0.05882353, 0.58039216, 0.99215686, 0.85490196,\n",
       "        0.        , 0.        , 0.        , 0.        , 0.        ,\n",
       "        0.        , 0.        , 0.        , 0.        , 0.        ,\n",
       "        0.        , 0.        , 0.        ],\n",
       "       [0.        , 0.        , 0.        , 0.        , 0.        ,\n",
       "        0.        , 0.        , 0.        , 0.        , 0.        ,\n",
       "        0.        , 0.4745098 , 0.98823529, 0.90588235, 0.10980392,\n",
       "        0.        , 0.        , 0.        , 0.        , 0.        ,\n",
       "        0.        , 0.        , 0.        , 0.        , 0.        ,\n",
       "        0.        , 0.        , 0.        ],\n",
       "       [0.        , 0.        , 0.        , 0.        , 0.        ,\n",
       "        0.        , 0.        , 0.        , 0.        , 0.        ,\n",
       "        0.12156863, 0.86666667, 0.98431373, 0.50588235, 0.        ,\n",
       "        0.        , 0.        , 0.        , 0.        , 0.        ,\n",
       "        0.        , 0.        , 0.        , 0.        , 0.        ,\n",
       "        0.        , 0.        , 0.        ],\n",
       "       [0.        , 0.        , 0.        , 0.        , 0.        ,\n",
       "        0.        , 0.        , 0.        , 0.        , 0.        ,\n",
       "        0.85490196, 0.98823529, 0.62745098, 0.        , 0.        ,\n",
       "        0.        , 0.        , 0.        , 0.        , 0.        ,\n",
       "        0.        , 0.        , 0.        , 0.        , 0.        ,\n",
       "        0.        , 0.        , 0.        ],\n",
       "       [0.        , 0.        , 0.        , 0.        , 0.        ,\n",
       "        0.        , 0.        , 0.        , 0.        , 0.        ,\n",
       "        0.47843137, 0.98823529, 0.32156863, 0.        , 0.        ,\n",
       "        0.        , 0.        , 0.        , 0.        , 0.        ,\n",
       "        0.        , 0.        , 0.        , 0.        , 0.        ,\n",
       "        0.        , 0.        , 0.        ],\n",
       "       [0.        , 0.        , 0.        , 0.        , 0.        ,\n",
       "        0.        , 0.        , 0.        , 0.        , 0.        ,\n",
       "        0.        , 0.        , 0.        , 0.        , 0.        ,\n",
       "        0.        , 0.        , 0.        , 0.        , 0.        ,\n",
       "        0.        , 0.        , 0.        , 0.        , 0.        ,\n",
       "        0.        , 0.        , 0.        ],\n",
       "       [0.        , 0.        , 0.        , 0.        , 0.        ,\n",
       "        0.        , 0.        , 0.        , 0.        , 0.        ,\n",
       "        0.        , 0.        , 0.        , 0.        , 0.        ,\n",
       "        0.        , 0.        , 0.        , 0.        , 0.        ,\n",
       "        0.        , 0.        , 0.        , 0.        , 0.        ,\n",
       "        0.        , 0.        , 0.        ],\n",
       "       [0.        , 0.        , 0.        , 0.        , 0.        ,\n",
       "        0.        , 0.        , 0.        , 0.        , 0.        ,\n",
       "        0.        , 0.        , 0.        , 0.        , 0.        ,\n",
       "        0.        , 0.        , 0.        , 0.        , 0.        ,\n",
       "        0.        , 0.        , 0.        , 0.        , 0.        ,\n",
       "        0.        , 0.        , 0.        ],\n",
       "       [0.        , 0.        , 0.        , 0.        , 0.        ,\n",
       "        0.        , 0.        , 0.        , 0.        , 0.        ,\n",
       "        0.        , 0.        , 0.        , 0.        , 0.        ,\n",
       "        0.        , 0.        , 0.        , 0.        , 0.        ,\n",
       "        0.        , 0.        , 0.        , 0.        , 0.        ,\n",
       "        0.        , 0.        , 0.        ]])"
      ]
     },
     "execution_count": 55,
     "metadata": {},
     "output_type": "execute_result"
    }
   ],
   "source": [
    "test_var.reshape(28, 28)"
   ]
  },
  {
   "cell_type": "code",
   "execution_count": 57,
   "metadata": {},
   "outputs": [
    {
     "data": {
      "text/plain": [
       "<matplotlib.image.AxesImage at 0x19e852fa6c0>"
      ]
     },
     "execution_count": 57,
     "metadata": {},
     "output_type": "execute_result"
    },
    {
     "data": {
      "image/png": "[encoded data removed]",
      "text/plain": [
       "<Figure size 640x480 with 1 Axes>"
      ]
     },
     "metadata": {},
     "output_type": "display_data"
    }
   ],
   "source": [
    "# X_train2[9] 값을 적절한 형태로 변환하여 \n",
    "# 그래프로 출력 : imshow() 사용\n",
    "digit = X_train[9].reshape(28, 28)\n",
    "# digit = test_var.reshape(28, 28)\n",
    "plt.imshow(digit) #cmap=plt.cm.binary, cmap='RdBu', 디폴트 : viridis\n",
    "plt.show()"
   ]
  },
  {
   "cell_type": "code",
   "execution_count": null,
   "metadata": {},
   "outputs": [],
   "source": []
  },
  {
   "cell_type": "code",
   "execution_count": null,
   "metadata": {},
   "outputs": [],
   "source": []
  }
 ],
 "metadata": {
  "kernelspec": {
   "display_name": "DL_ENV",
   "language": "python",
   "name": "dlenv"
  },
  "language_info": {
   "codemirror_mode": {
    "name": "ipython",
    "version": 3
   },
   "file_extension": ".py",
   "mimetype": "text/x-python",
   "name": "python",
   "nbconvert_exporter": "python",
   "pygments_lexer": "ipython3",
   "version": "3.12.9"
  }
 },
 "nbformat": 4,
 "nbformat_minor": 4
}
