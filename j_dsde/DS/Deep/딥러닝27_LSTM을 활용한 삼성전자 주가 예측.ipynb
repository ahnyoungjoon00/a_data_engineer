{
 "cells": [
  {
   "cell_type": "markdown",
   "id": "874998df",
   "metadata": {},
   "source": [
    "## LSTM을 활용한 삼성전자 주가 예측"
   ]
  },
  {
   "cell_type": "code",
   "execution_count": 36,
   "id": "0ef493dd",
   "metadata": {},
   "outputs": [],
   "source": [
    "# 아나콘다 가상환경에서 설치 \n",
    "# !pip install finance-datareader\n",
    "# !pip install beautifulsoup4\n",
    "# !pip install plotly  \n",
    "# 의존성 있는 패키지도 같이 설치"
   ]
  },
  {
   "cell_type": "code",
   "execution_count": 37,
   "id": "5794516a",
   "metadata": {},
   "outputs": [],
   "source": [
    "from IPython.core.interactiveshell import InteractiveShell\n",
    "InteractiveShell.ast_node_interactivity=\"all\""
   ]
  },
  {
   "cell_type": "code",
   "execution_count": 38,
   "id": "fc3ff28e",
   "metadata": {},
   "outputs": [],
   "source": [
    "import FinanceDataReader as fdr\n",
    "import numpy as np\n",
    "import matplotlib.pyplot as plt"
   ]
  },
  {
   "cell_type": "code",
   "execution_count": 45,
   "id": "816f2a00",
   "metadata": {},
   "outputs": [
    {
     "data": {
      "text/html": [
       "<div>\n",
       "<style scoped>\n",
       "    .dataframe tbody tr th:only-of-type {\n",
       "        vertical-align: middle;\n",
       "    }\n",
       "\n",
       "    .dataframe tbody tr th {\n",
       "        vertical-align: top;\n",
       "    }\n",
       "\n",
       "    .dataframe thead th {\n",
       "        text-align: right;\n",
       "    }\n",
       "</style>\n",
       "<table border=\"1\" class=\"dataframe\">\n",
       "  <thead>\n",
       "    <tr style=\"text-align: right;\">\n",
       "      <th></th>\n",
       "      <th>Open</th>\n",
       "      <th>High</th>\n",
       "      <th>Low</th>\n",
       "      <th>Close</th>\n",
       "      <th>Volume</th>\n",
       "      <th>Change</th>\n",
       "    </tr>\n",
       "    <tr>\n",
       "      <th>Date</th>\n",
       "      <th></th>\n",
       "      <th></th>\n",
       "      <th></th>\n",
       "      <th></th>\n",
       "      <th></th>\n",
       "      <th></th>\n",
       "    </tr>\n",
       "  </thead>\n",
       "  <tbody>\n",
       "    <tr>\n",
       "      <th>2022-12-01</th>\n",
       "      <td>63100</td>\n",
       "      <td>63200</td>\n",
       "      <td>62300</td>\n",
       "      <td>62600</td>\n",
       "      <td>16631445</td>\n",
       "      <td>0.006431</td>\n",
       "    </tr>\n",
       "    <tr>\n",
       "      <th>2022-12-02</th>\n",
       "      <td>62500</td>\n",
       "      <td>62500</td>\n",
       "      <td>60400</td>\n",
       "      <td>60400</td>\n",
       "      <td>15331184</td>\n",
       "      <td>-0.035144</td>\n",
       "    </tr>\n",
       "    <tr>\n",
       "      <th>2022-12-05</th>\n",
       "      <td>60900</td>\n",
       "      <td>61100</td>\n",
       "      <td>60000</td>\n",
       "      <td>60300</td>\n",
       "      <td>13767787</td>\n",
       "      <td>-0.001656</td>\n",
       "    </tr>\n",
       "    <tr>\n",
       "      <th>2022-12-06</th>\n",
       "      <td>59800</td>\n",
       "      <td>60100</td>\n",
       "      <td>59200</td>\n",
       "      <td>59200</td>\n",
       "      <td>13888300</td>\n",
       "      <td>-0.018242</td>\n",
       "    </tr>\n",
       "    <tr>\n",
       "      <th>2022-12-07</th>\n",
       "      <td>58800</td>\n",
       "      <td>59600</td>\n",
       "      <td>58500</td>\n",
       "      <td>58900</td>\n",
       "      <td>12100662</td>\n",
       "      <td>-0.005068</td>\n",
       "    </tr>\n",
       "  </tbody>\n",
       "</table>\n",
       "</div>"
      ],
      "text/plain": [
       "             Open   High    Low  Close    Volume    Change\n",
       "Date                                                      \n",
       "2022-12-01  63100  63200  62300  62600  16631445  0.006431\n",
       "2022-12-02  62500  62500  60400  60400  15331184 -0.035144\n",
       "2022-12-05  60900  61100  60000  60300  13767787 -0.001656\n",
       "2022-12-06  59800  60100  59200  59200  13888300 -0.018242\n",
       "2022-12-07  58800  59600  58500  58900  12100662 -0.005068"
      ]
     },
     "execution_count": 45,
     "metadata": {},
     "output_type": "execute_result"
    },
    {
     "data": {
      "text/html": [
       "<div>\n",
       "<style scoped>\n",
       "    .dataframe tbody tr th:only-of-type {\n",
       "        vertical-align: middle;\n",
       "    }\n",
       "\n",
       "    .dataframe tbody tr th {\n",
       "        vertical-align: top;\n",
       "    }\n",
       "\n",
       "    .dataframe thead th {\n",
       "        text-align: right;\n",
       "    }\n",
       "</style>\n",
       "<table border=\"1\" class=\"dataframe\">\n",
       "  <thead>\n",
       "    <tr style=\"text-align: right;\">\n",
       "      <th></th>\n",
       "      <th>Open</th>\n",
       "      <th>High</th>\n",
       "      <th>Low</th>\n",
       "      <th>Close</th>\n",
       "      <th>Volume</th>\n",
       "      <th>Change</th>\n",
       "    </tr>\n",
       "    <tr>\n",
       "      <th>Date</th>\n",
       "      <th></th>\n",
       "      <th></th>\n",
       "      <th></th>\n",
       "      <th></th>\n",
       "      <th></th>\n",
       "      <th></th>\n",
       "    </tr>\n",
       "  </thead>\n",
       "  <tbody>\n",
       "    <tr>\n",
       "      <th>2024-11-25</th>\n",
       "      <td>57400</td>\n",
       "      <td>57900</td>\n",
       "      <td>56700</td>\n",
       "      <td>57900</td>\n",
       "      <td>36237325</td>\n",
       "      <td>0.033929</td>\n",
       "    </tr>\n",
       "    <tr>\n",
       "      <th>2024-11-26</th>\n",
       "      <td>57900</td>\n",
       "      <td>58900</td>\n",
       "      <td>57500</td>\n",
       "      <td>58300</td>\n",
       "      <td>23209405</td>\n",
       "      <td>0.006908</td>\n",
       "    </tr>\n",
       "    <tr>\n",
       "      <th>2024-11-27</th>\n",
       "      <td>57700</td>\n",
       "      <td>57800</td>\n",
       "      <td>56000</td>\n",
       "      <td>56300</td>\n",
       "      <td>21808387</td>\n",
       "      <td>-0.034305</td>\n",
       "    </tr>\n",
       "    <tr>\n",
       "      <th>2024-11-28</th>\n",
       "      <td>56000</td>\n",
       "      <td>56400</td>\n",
       "      <td>55200</td>\n",
       "      <td>55500</td>\n",
       "      <td>20001134</td>\n",
       "      <td>-0.014210</td>\n",
       "    </tr>\n",
       "    <tr>\n",
       "      <th>2024-11-29</th>\n",
       "      <td>55100</td>\n",
       "      <td>55300</td>\n",
       "      <td>53800</td>\n",
       "      <td>54200</td>\n",
       "      <td>24513531</td>\n",
       "      <td>-0.023423</td>\n",
       "    </tr>\n",
       "  </tbody>\n",
       "</table>\n",
       "</div>"
      ],
      "text/plain": [
       "             Open   High    Low  Close    Volume    Change\n",
       "Date                                                      \n",
       "2024-11-25  57400  57900  56700  57900  36237325  0.033929\n",
       "2024-11-26  57900  58900  57500  58300  23209405  0.006908\n",
       "2024-11-27  57700  57800  56000  56300  21808387 -0.034305\n",
       "2024-11-28  56000  56400  55200  55500  20001134 -0.014210\n",
       "2024-11-29  55100  55300  53800  54200  24513531 -0.023423"
      ]
     },
     "execution_count": 45,
     "metadata": {},
     "output_type": "execute_result"
    }
   ],
   "source": [
    "# 2년치 데이터만 사용\n",
    "# FinanceDataReader.DataReader(\"종목코드\", \"시작일\", \"종료일\") : \n",
    "# 해당 종목의 시작가 고가, 저가, 종가, 거래량, 등락폭을 일일데이터로\n",
    "df = fdr.DataReader(\"005930\", \"2022-12-01\", \"2024-11-29\")\n",
    "\n",
    "df.head()\n",
    "df.tail()\n"
   ]
  },
  {
   "cell_type": "code",
   "execution_count": 46,
   "id": "6a0365ee",
   "metadata": {},
   "outputs": [],
   "source": [
    "df_sc = df.copy()"
   ]
  },
  {
   "cell_type": "code",
   "execution_count": 47,
   "id": "2aa1cadf-a2f5-4332-8e24-4ee43641192c",
   "metadata": {},
   "outputs": [],
   "source": [
    "# df_sc['Close'].values.reshape(-1,1)"
   ]
  },
  {
   "cell_type": "code",
   "execution_count": null,
   "id": "60d192d7-d7bb-4ac3-adc8-4f8accf4a98c",
   "metadata": {},
   "outputs": [],
   "source": []
  },
  {
   "cell_type": "code",
   "execution_count": 48,
   "id": "10edc9d9-2ac3-4794-ae31-88177fc17197",
   "metadata": {},
   "outputs": [
    {
     "data": {
      "text/html": [
       "<div>\n",
       "<style scoped>\n",
       "    .dataframe tbody tr th:only-of-type {\n",
       "        vertical-align: middle;\n",
       "    }\n",
       "\n",
       "    .dataframe tbody tr th {\n",
       "        vertical-align: top;\n",
       "    }\n",
       "\n",
       "    .dataframe thead th {\n",
       "        text-align: right;\n",
       "    }\n",
       "</style>\n",
       "<table border=\"1\" class=\"dataframe\">\n",
       "  <thead>\n",
       "    <tr style=\"text-align: right;\">\n",
       "      <th></th>\n",
       "      <th>Open</th>\n",
       "      <th>High</th>\n",
       "      <th>Low</th>\n",
       "      <th>Close</th>\n",
       "      <th>Volume</th>\n",
       "      <th>Change</th>\n",
       "    </tr>\n",
       "    <tr>\n",
       "      <th>Date</th>\n",
       "      <th></th>\n",
       "      <th></th>\n",
       "      <th></th>\n",
       "      <th></th>\n",
       "      <th></th>\n",
       "      <th></th>\n",
       "    </tr>\n",
       "  </thead>\n",
       "  <tbody>\n",
       "    <tr>\n",
       "      <th>2022-12-01</th>\n",
       "      <td>0.336815</td>\n",
       "      <td>0.308108</td>\n",
       "      <td>0.333333</td>\n",
       "      <td>0.335092</td>\n",
       "      <td>0.208358</td>\n",
       "      <td>0.006431</td>\n",
       "    </tr>\n",
       "    <tr>\n",
       "      <th>2022-12-02</th>\n",
       "      <td>0.321149</td>\n",
       "      <td>0.289189</td>\n",
       "      <td>0.282258</td>\n",
       "      <td>0.277045</td>\n",
       "      <td>0.183288</td>\n",
       "      <td>-0.035144</td>\n",
       "    </tr>\n",
       "    <tr>\n",
       "      <th>2022-12-05</th>\n",
       "      <td>0.279373</td>\n",
       "      <td>0.251351</td>\n",
       "      <td>0.271505</td>\n",
       "      <td>0.274406</td>\n",
       "      <td>0.153146</td>\n",
       "      <td>-0.001656</td>\n",
       "    </tr>\n",
       "    <tr>\n",
       "      <th>2022-12-06</th>\n",
       "      <td>0.250653</td>\n",
       "      <td>0.224324</td>\n",
       "      <td>0.250000</td>\n",
       "      <td>0.245383</td>\n",
       "      <td>0.155469</td>\n",
       "      <td>-0.018242</td>\n",
       "    </tr>\n",
       "    <tr>\n",
       "      <th>2022-12-07</th>\n",
       "      <td>0.224543</td>\n",
       "      <td>0.210811</td>\n",
       "      <td>0.231183</td>\n",
       "      <td>0.237467</td>\n",
       "      <td>0.121003</td>\n",
       "      <td>-0.005068</td>\n",
       "    </tr>\n",
       "  </tbody>\n",
       "</table>\n",
       "</div>"
      ],
      "text/plain": [
       "                Open      High       Low     Close    Volume    Change\n",
       "Date                                                                  \n",
       "2022-12-01  0.336815  0.308108  0.333333  0.335092  0.208358  0.006431\n",
       "2022-12-02  0.321149  0.289189  0.282258  0.277045  0.183288 -0.035144\n",
       "2022-12-05  0.279373  0.251351  0.271505  0.274406  0.153146 -0.001656\n",
       "2022-12-06  0.250653  0.224324  0.250000  0.245383  0.155469 -0.018242\n",
       "2022-12-07  0.224543  0.210811  0.231183  0.237467  0.121003 -0.005068"
      ]
     },
     "execution_count": 48,
     "metadata": {},
     "output_type": "execute_result"
    }
   ],
   "source": [
    " # 피처 / 타깃 값 나눠서 스케일링\n",
    "from sklearn.preprocessing import MinMaxScaler\n",
    "\n",
    "scaler1 = MinMaxScaler() # 4개 컬럼에 대한 스케일링 기준\n",
    "df_sc[['Open','High','Low','Volume']] = scaler1.fit_transform(df_sc[['Open','High','Low','Volume']])\n",
    "\n",
    "scaler2 = MinMaxScaler() # 1개의 컬럼에 대한 스케일링 기준\n",
    "df_sc['Close'] = scaler2.fit_transform(df_sc['Close'].values.reshape(-1,1))\n",
    "\n",
    "df_sc.head()"
   ]
  },
  {
   "cell_type": "code",
   "execution_count": 49,
   "id": "42501bbb-38ee-4ca5-ad48-e4999541e81c",
   "metadata": {},
   "outputs": [],
   "source": [
    "df_x = df_sc[['Open','High','Low','Volume']]\n",
    "df_y = df_sc[['Close']]"
   ]
  },
  {
   "cell_type": "code",
   "execution_count": 50,
   "id": "c66ffb51-86d5-4c10-939e-49dd300045e0",
   "metadata": {},
   "outputs": [
    {
     "data": {
      "text/html": [
       "<div>\n",
       "<style scoped>\n",
       "    .dataframe tbody tr th:only-of-type {\n",
       "        vertical-align: middle;\n",
       "    }\n",
       "\n",
       "    .dataframe tbody tr th {\n",
       "        vertical-align: top;\n",
       "    }\n",
       "\n",
       "    .dataframe thead th {\n",
       "        text-align: right;\n",
       "    }\n",
       "</style>\n",
       "<table border=\"1\" class=\"dataframe\">\n",
       "  <thead>\n",
       "    <tr style=\"text-align: right;\">\n",
       "      <th></th>\n",
       "      <th>Open</th>\n",
       "      <th>High</th>\n",
       "      <th>Low</th>\n",
       "      <th>Volume</th>\n",
       "    </tr>\n",
       "    <tr>\n",
       "      <th>Date</th>\n",
       "      <th></th>\n",
       "      <th></th>\n",
       "      <th></th>\n",
       "      <th></th>\n",
       "    </tr>\n",
       "  </thead>\n",
       "  <tbody>\n",
       "    <tr>\n",
       "      <th>2022-12-01</th>\n",
       "      <td>0.336815</td>\n",
       "      <td>0.308108</td>\n",
       "      <td>0.333333</td>\n",
       "      <td>0.208358</td>\n",
       "    </tr>\n",
       "    <tr>\n",
       "      <th>2022-12-02</th>\n",
       "      <td>0.321149</td>\n",
       "      <td>0.289189</td>\n",
       "      <td>0.282258</td>\n",
       "      <td>0.183288</td>\n",
       "    </tr>\n",
       "    <tr>\n",
       "      <th>2022-12-05</th>\n",
       "      <td>0.279373</td>\n",
       "      <td>0.251351</td>\n",
       "      <td>0.271505</td>\n",
       "      <td>0.153146</td>\n",
       "    </tr>\n",
       "  </tbody>\n",
       "</table>\n",
       "</div>"
      ],
      "text/plain": [
       "                Open      High       Low    Volume\n",
       "Date                                              \n",
       "2022-12-01  0.336815  0.308108  0.333333  0.208358\n",
       "2022-12-02  0.321149  0.289189  0.282258  0.183288\n",
       "2022-12-05  0.279373  0.251351  0.271505  0.153146"
      ]
     },
     "execution_count": 50,
     "metadata": {},
     "output_type": "execute_result"
    },
    {
     "data": {
      "text/html": [
       "<div>\n",
       "<style scoped>\n",
       "    .dataframe tbody tr th:only-of-type {\n",
       "        vertical-align: middle;\n",
       "    }\n",
       "\n",
       "    .dataframe tbody tr th {\n",
       "        vertical-align: top;\n",
       "    }\n",
       "\n",
       "    .dataframe thead th {\n",
       "        text-align: right;\n",
       "    }\n",
       "</style>\n",
       "<table border=\"1\" class=\"dataframe\">\n",
       "  <thead>\n",
       "    <tr style=\"text-align: right;\">\n",
       "      <th></th>\n",
       "      <th>Close</th>\n",
       "    </tr>\n",
       "    <tr>\n",
       "      <th>Date</th>\n",
       "      <th></th>\n",
       "    </tr>\n",
       "  </thead>\n",
       "  <tbody>\n",
       "    <tr>\n",
       "      <th>2022-12-01</th>\n",
       "      <td>0.335092</td>\n",
       "    </tr>\n",
       "    <tr>\n",
       "      <th>2022-12-02</th>\n",
       "      <td>0.277045</td>\n",
       "    </tr>\n",
       "    <tr>\n",
       "      <th>2022-12-05</th>\n",
       "      <td>0.274406</td>\n",
       "    </tr>\n",
       "  </tbody>\n",
       "</table>\n",
       "</div>"
      ],
      "text/plain": [
       "               Close\n",
       "Date                \n",
       "2022-12-01  0.335092\n",
       "2022-12-02  0.277045\n",
       "2022-12-05  0.274406"
      ]
     },
     "execution_count": 50,
     "metadata": {},
     "output_type": "execute_result"
    }
   ],
   "source": [
    "df_x[:3]\n",
    "df_y[:3]"
   ]
  },
  {
   "cell_type": "code",
   "execution_count": 51,
   "id": "72bdcd32-cac9-4958-8f59-089aaf5b288f",
   "metadata": {},
   "outputs": [
    {
     "data": {
      "text/html": [
       "<div>\n",
       "<style scoped>\n",
       "    .dataframe tbody tr th:only-of-type {\n",
       "        vertical-align: middle;\n",
       "    }\n",
       "\n",
       "    .dataframe tbody tr th {\n",
       "        vertical-align: top;\n",
       "    }\n",
       "\n",
       "    .dataframe thead th {\n",
       "        text-align: right;\n",
       "    }\n",
       "</style>\n",
       "<table border=\"1\" class=\"dataframe\">\n",
       "  <thead>\n",
       "    <tr style=\"text-align: right;\">\n",
       "      <th></th>\n",
       "      <th>Open</th>\n",
       "      <th>High</th>\n",
       "      <th>Low</th>\n",
       "      <th>Volume</th>\n",
       "    </tr>\n",
       "  </thead>\n",
       "  <tbody>\n",
       "    <tr>\n",
       "      <th>count</th>\n",
       "      <td>490.000000</td>\n",
       "      <td>490.000000</td>\n",
       "      <td>490.000000</td>\n",
       "      <td>490.000000</td>\n",
       "    </tr>\n",
       "    <tr>\n",
       "      <th>mean</th>\n",
       "      <td>0.512218</td>\n",
       "      <td>0.502868</td>\n",
       "      <td>0.516996</td>\n",
       "      <td>0.221296</td>\n",
       "    </tr>\n",
       "    <tr>\n",
       "      <th>std</th>\n",
       "      <td>0.202661</td>\n",
       "      <td>0.210209</td>\n",
       "      <td>0.206104</td>\n",
       "      <td>0.160756</td>\n",
       "    </tr>\n",
       "    <tr>\n",
       "      <th>min</th>\n",
       "      <td>0.000000</td>\n",
       "      <td>0.000000</td>\n",
       "      <td>0.000000</td>\n",
       "      <td>0.000000</td>\n",
       "    </tr>\n",
       "    <tr>\n",
       "      <th>25%</th>\n",
       "      <td>0.352480</td>\n",
       "      <td>0.327027</td>\n",
       "      <td>0.348118</td>\n",
       "      <td>0.113088</td>\n",
       "    </tr>\n",
       "    <tr>\n",
       "      <th>50%</th>\n",
       "      <td>0.533943</td>\n",
       "      <td>0.522973</td>\n",
       "      <td>0.540323</td>\n",
       "      <td>0.172718</td>\n",
       "    </tr>\n",
       "    <tr>\n",
       "      <th>75%</th>\n",
       "      <td>0.637076</td>\n",
       "      <td>0.632432</td>\n",
       "      <td>0.639785</td>\n",
       "      <td>0.277964</td>\n",
       "    </tr>\n",
       "    <tr>\n",
       "      <th>max</th>\n",
       "      <td>1.000000</td>\n",
       "      <td>1.000000</td>\n",
       "      <td>1.000000</td>\n",
       "      <td>1.000000</td>\n",
       "    </tr>\n",
       "  </tbody>\n",
       "</table>\n",
       "</div>"
      ],
      "text/plain": [
       "             Open        High         Low      Volume\n",
       "count  490.000000  490.000000  490.000000  490.000000\n",
       "mean     0.512218    0.502868    0.516996    0.221296\n",
       "std      0.202661    0.210209    0.206104    0.160756\n",
       "min      0.000000    0.000000    0.000000    0.000000\n",
       "25%      0.352480    0.327027    0.348118    0.113088\n",
       "50%      0.533943    0.522973    0.540323    0.172718\n",
       "75%      0.637076    0.632432    0.639785    0.277964\n",
       "max      1.000000    1.000000    1.000000    1.000000"
      ]
     },
     "execution_count": 51,
     "metadata": {},
     "output_type": "execute_result"
    }
   ],
   "source": [
    "df_x.describe()"
   ]
  },
  {
   "cell_type": "code",
   "execution_count": 82,
   "id": "6f16d006-5949-49ac-9e12-b4ac08d3e0d6",
   "metadata": {},
   "outputs": [],
   "source": [
    "# 두 데이터를 리스트 형태로 저장\n",
    "X = df_x.values.tolist()\n",
    "y = df_y.values.tolist()"
   ]
  },
  {
   "cell_type": "code",
   "execution_count": 103,
   "id": "70c9ba31",
   "metadata": {},
   "outputs": [
    {
     "name": "stdout",
     "output_type": "stream",
     "text": [
      "[[0.0026109660574413773, 0.06486486486486487, 0.010752688172043001, 0.7895221008926778], [0.17754569190600522, 0.15405405405405403, 0.16129032258064524, 0.814986427306123], [0.164490861618799, 0.15405405405405403, 0.16129032258064524, 0.49579083957591386], [0.15404699738903416, 0.12702702702702706, 0.131720430107527, 0.2899752052562188], [0.12271540469973896, 0.13783783783783798, 0.12903225806451624, 0.25589131109674], [0.15143603133159278, 0.1324324324324324, 0.16129032258064524, 0.18233136684124387], [0.18798955613577029, 0.16486486486486496, 0.18279569892473124, 0.5863633767818148], [0.2010443864229765, 0.19189189189189193, 0.20430107526881724, 0.3351822610904528], [0.1958224543080942, 0.16216216216216228, 0.163978494623656, 0.3081703309938847], [0.15143603133159278, 0.12432432432432439, 0.14247311827957, 0.27332610222393827]] -> [0.11345646437994716]\n"
     ]
    }
   ],
   "source": [
    "# 이전 10일 동안의 OHLV의 데이터를 이용하여 다음 날의 종가(C) 예측\n",
    "# 1~10 ->11예측\n",
    "# 2~11 ->12예측..\n",
    "window_size = 10\n",
    "data_X = []\n",
    "data_y = []\n",
    "for i in range(len(y)-window_size):\n",
    "    _X = X[i:i+window_size] # i 시점부터 10일간 feature >> i가 0일때 0번부터 9번인덱스까지\n",
    "    _y = y[i+window_size] # i가 0일때 10번인텍스 값\n",
    "    data_X.append(_X)\n",
    "    data_y.append(_y)\n",
    "print(_X, \"->\", _y)"
   ]
  },
  {
   "cell_type": "code",
   "execution_count": 104,
   "id": "7c7bce19-da22-4a1e-aa96-d770e7225e72",
   "metadata": {},
   "outputs": [
    {
     "data": {
      "text/plain": [
       "480"
      ]
     },
     "execution_count": 104,
     "metadata": {},
     "output_type": "execute_result"
    },
    {
     "data": {
      "text/plain": [
       "10"
      ]
     },
     "execution_count": 104,
     "metadata": {},
     "output_type": "execute_result"
    }
   ],
   "source": [
    "len(data_X)\n",
    "len(data_X[0])"
   ]
  },
  {
   "cell_type": "code",
   "execution_count": null,
   "id": "2f890a7a-523d-413a-ad5c-d17211662c9a",
   "metadata": {},
   "outputs": [],
   "source": []
  },
  {
   "cell_type": "code",
   "execution_count": 105,
   "id": "586caeb6",
   "metadata": {},
   "outputs": [
    {
     "name": "stdout",
     "output_type": "stream",
     "text": [
      "훈련 데이터의 크기 : (336, 10, 4) (336, 1)\n",
      "테스트 데이터의 크기 : (144, 10, 4) (144, 1)\n"
     ]
    }
   ],
   "source": [
    "# 데이터셋 분리 : 7:3 \n",
    "# 시계열 데이터이므로 train_test_split할때 랜덤하게 하면 안됨\n",
    "\n",
    "train_size = int(len(data_y) * 0.7)\n",
    "X_train = np.array(data_X[0 : train_size])\n",
    "y_train = np.array(data_y[0 : train_size])\n",
    "\n",
    "test_size = len(data_y) - train_size\n",
    "X_test = np.array(data_X[train_size : len(data_X)])\n",
    "y_test = np.array(data_y[train_size : len(data_y)])\n",
    "\n",
    "print('훈련 데이터의 크기 :', X_train.shape, y_train.shape)\n",
    "print('테스트 데이터의 크기 :', X_test.shape, y_test.shape)"
   ]
  },
  {
   "cell_type": "code",
   "execution_count": null,
   "id": "4ff0a238",
   "metadata": {},
   "outputs": [],
   "source": []
  },
  {
   "cell_type": "code",
   "execution_count": 106,
   "id": "7048df2a",
   "metadata": {},
   "outputs": [],
   "source": [
    "from tensorflow.keras import Sequential\n",
    "from tensorflow.keras.layers import Dense, LSTM, Dropout"
   ]
  },
  {
   "cell_type": "code",
   "execution_count": 107,
   "id": "5108102b",
   "metadata": {},
   "outputs": [],
   "source": [
    "from tensorflow.keras.callbacks import ModelCheckpoint, EarlyStopping\n",
    "\n",
    "early_stopping = EarlyStopping(monitor=\"val_loss\", patience=2)\n",
    "check_pointer = ModelCheckpoint(\"sec_best_model.keras\",\n",
    "                                monitor=\"val_loss\",\n",
    "                                verbose=1,\n",
    "                                save_best_only=True)"
   ]
  },
  {
   "cell_type": "code",
   "execution_count": 108,
   "id": "9d3d5e1a",
   "metadata": {},
   "outputs": [],
   "source": [
    "# 모델 구성\n",
    "model = Sequential()\n",
    "model.add(LSTM(units=20, activation=\"relu\", return_sequences=True, input_shape=(10,4)))\n",
    "model.add(Dropout(0.1))\n",
    "model.add(Dropout(0.1))\n",
    "\n",
    "model.add(LSTM(units=20, activation=\"relu\"))\n",
    "model.add(Dense(units=1))\n"
   ]
  },
  {
   "cell_type": "code",
   "execution_count": 109,
   "id": "2fe0cdb4-cc8b-4ef1-aca5-18ac0e898d2f",
   "metadata": {},
   "outputs": [],
   "source": [
    "model.compile(optimizer=\"adam\", loss=\"mean_squared_error\", metrics=[\"mean_absolute_error\"])"
   ]
  },
  {
   "cell_type": "code",
   "execution_count": 110,
   "id": "4491d714-142f-490c-bb3c-eb2a1e3207f6",
   "metadata": {
    "scrolled": true
   },
   "outputs": [
    {
     "name": "stdout",
     "output_type": "stream",
     "text": [
      "Epoch 1/70\n",
      "\u001b[1m11/11\u001b[0m \u001b[32m━━━━━━━━━━━━━━━━━━━━\u001b[0m\u001b[37m\u001b[0m \u001b[1m3s\u001b[0m 48ms/step - loss: 0.2147 - mean_absolute_error: 0.4454 - val_loss: 0.3354 - val_mean_absolute_error: 0.5716\n",
      "Epoch 2/70\n",
      "\u001b[1m11/11\u001b[0m \u001b[32m━━━━━━━━━━━━━━━━━━━━\u001b[0m\u001b[37m\u001b[0m \u001b[1m0s\u001b[0m 14ms/step - loss: 0.1077 - mean_absolute_error: 0.3087 - val_loss: 0.0623 - val_mean_absolute_error: 0.2335\n",
      "Epoch 3/70\n",
      "\u001b[1m11/11\u001b[0m \u001b[32m━━━━━━━━━━━━━━━━━━━━\u001b[0m\u001b[37m\u001b[0m \u001b[1m0s\u001b[0m 12ms/step - loss: 0.0129 - mean_absolute_error: 0.0926 - val_loss: 0.0651 - val_mean_absolute_error: 0.2076\n",
      "Epoch 4/70\n",
      "\u001b[1m11/11\u001b[0m \u001b[32m━━━━━━━━━━━━━━━━━━━━\u001b[0m\u001b[37m\u001b[0m \u001b[1m0s\u001b[0m 12ms/step - loss: 0.0094 - mean_absolute_error: 0.0820 - val_loss: 0.0150 - val_mean_absolute_error: 0.1067\n",
      "Epoch 5/70\n",
      "\u001b[1m11/11\u001b[0m \u001b[32m━━━━━━━━━━━━━━━━━━━━\u001b[0m\u001b[37m\u001b[0m \u001b[1m0s\u001b[0m 12ms/step - loss: 0.0057 - mean_absolute_error: 0.0608 - val_loss: 0.0119 - val_mean_absolute_error: 0.0945\n",
      "Epoch 6/70\n",
      "\u001b[1m11/11\u001b[0m \u001b[32m━━━━━━━━━━━━━━━━━━━━\u001b[0m\u001b[37m\u001b[0m \u001b[1m0s\u001b[0m 11ms/step - loss: 0.0037 - mean_absolute_error: 0.0489 - val_loss: 0.0174 - val_mean_absolute_error: 0.1016\n",
      "Epoch 7/70\n",
      "\u001b[1m11/11\u001b[0m \u001b[32m━━━━━━━━━━━━━━━━━━━━\u001b[0m\u001b[37m\u001b[0m \u001b[1m0s\u001b[0m 12ms/step - loss: 0.0043 - mean_absolute_error: 0.0539 - val_loss: 0.0119 - val_mean_absolute_error: 0.0917\n",
      "Epoch 8/70\n",
      "\u001b[1m11/11\u001b[0m \u001b[32m━━━━━━━━━━━━━━━━━━━━\u001b[0m\u001b[37m\u001b[0m \u001b[1m0s\u001b[0m 15ms/step - loss: 0.0039 - mean_absolute_error: 0.0510 - val_loss: 0.0125 - val_mean_absolute_error: 0.0928\n",
      "Epoch 9/70\n",
      "\u001b[1m11/11\u001b[0m \u001b[32m━━━━━━━━━━━━━━━━━━━━\u001b[0m\u001b[37m\u001b[0m \u001b[1m0s\u001b[0m 12ms/step - loss: 0.0037 - mean_absolute_error: 0.0491 - val_loss: 0.0120 - val_mean_absolute_error: 0.0920\n",
      "Epoch 10/70\n",
      "\u001b[1m11/11\u001b[0m \u001b[32m━━━━━━━━━━━━━━━━━━━━\u001b[0m\u001b[37m\u001b[0m \u001b[1m0s\u001b[0m 11ms/step - loss: 0.0033 - mean_absolute_error: 0.0463 - val_loss: 0.0131 - val_mean_absolute_error: 0.0943\n",
      "Epoch 11/70\n",
      "\u001b[1m11/11\u001b[0m \u001b[32m━━━━━━━━━━━━━━━━━━━━\u001b[0m\u001b[37m\u001b[0m \u001b[1m0s\u001b[0m 11ms/step - loss: 0.0035 - mean_absolute_error: 0.0480 - val_loss: 0.0127 - val_mean_absolute_error: 0.0940\n",
      "Epoch 12/70\n",
      "\u001b[1m11/11\u001b[0m \u001b[32m━━━━━━━━━━━━━━━━━━━━\u001b[0m\u001b[37m\u001b[0m \u001b[1m0s\u001b[0m 13ms/step - loss: 0.0042 - mean_absolute_error: 0.0512 - val_loss: 0.0129 - val_mean_absolute_error: 0.0945\n",
      "Epoch 13/70\n",
      "\u001b[1m11/11\u001b[0m \u001b[32m━━━━━━━━━━━━━━━━━━━━\u001b[0m\u001b[37m\u001b[0m \u001b[1m0s\u001b[0m 11ms/step - loss: 0.0035 - mean_absolute_error: 0.0478 - val_loss: 0.0144 - val_mean_absolute_error: 0.0972\n",
      "Epoch 14/70\n",
      "\u001b[1m11/11\u001b[0m \u001b[32m━━━━━━━━━━━━━━━━━━━━\u001b[0m\u001b[37m\u001b[0m \u001b[1m0s\u001b[0m 11ms/step - loss: 0.0034 - mean_absolute_error: 0.0467 - val_loss: 0.0141 - val_mean_absolute_error: 0.0971\n",
      "Epoch 15/70\n",
      "\u001b[1m11/11\u001b[0m \u001b[32m━━━━━━━━━━━━━━━━━━━━\u001b[0m\u001b[37m\u001b[0m \u001b[1m0s\u001b[0m 14ms/step - loss: 0.0035 - mean_absolute_error: 0.0474 - val_loss: 0.0136 - val_mean_absolute_error: 0.0964\n",
      "Epoch 16/70\n",
      "\u001b[1m11/11\u001b[0m \u001b[32m━━━━━━━━━━━━━━━━━━━━\u001b[0m\u001b[37m\u001b[0m \u001b[1m0s\u001b[0m 11ms/step - loss: 0.0033 - mean_absolute_error: 0.0443 - val_loss: 0.0136 - val_mean_absolute_error: 0.0968\n",
      "Epoch 17/70\n",
      "\u001b[1m11/11\u001b[0m \u001b[32m━━━━━━━━━━━━━━━━━━━━\u001b[0m\u001b[37m\u001b[0m \u001b[1m0s\u001b[0m 11ms/step - loss: 0.0029 - mean_absolute_error: 0.0436 - val_loss: 0.0163 - val_mean_absolute_error: 0.1018\n",
      "Epoch 18/70\n",
      "\u001b[1m11/11\u001b[0m \u001b[32m━━━━━━━━━━━━━━━━━━━━\u001b[0m\u001b[37m\u001b[0m \u001b[1m0s\u001b[0m 10ms/step - loss: 0.0032 - mean_absolute_error: 0.0456 - val_loss: 0.0146 - val_mean_absolute_error: 0.0984\n",
      "Epoch 19/70\n",
      "\u001b[1m11/11\u001b[0m \u001b[32m━━━━━━━━━━━━━━━━━━━━\u001b[0m\u001b[37m\u001b[0m \u001b[1m0s\u001b[0m 12ms/step - loss: 0.0030 - mean_absolute_error: 0.0419 - val_loss: 0.0140 - val_mean_absolute_error: 0.0976\n",
      "Epoch 20/70\n",
      "\u001b[1m11/11\u001b[0m \u001b[32m━━━━━━━━━━━━━━━━━━━━\u001b[0m\u001b[37m\u001b[0m \u001b[1m0s\u001b[0m 11ms/step - loss: 0.0032 - mean_absolute_error: 0.0453 - val_loss: 0.0143 - val_mean_absolute_error: 0.0981\n",
      "Epoch 21/70\n",
      "\u001b[1m11/11\u001b[0m \u001b[32m━━━━━━━━━━━━━━━━━━━━\u001b[0m\u001b[37m\u001b[0m \u001b[1m0s\u001b[0m 11ms/step - loss: 0.0032 - mean_absolute_error: 0.0450 - val_loss: 0.0130 - val_mean_absolute_error: 0.0955\n",
      "Epoch 22/70\n",
      "\u001b[1m11/11\u001b[0m \u001b[32m━━━━━━━━━━━━━━━━━━━━\u001b[0m\u001b[37m\u001b[0m \u001b[1m0s\u001b[0m 12ms/step - loss: 0.0027 - mean_absolute_error: 0.0415 - val_loss: 0.0138 - val_mean_absolute_error: 0.0971\n",
      "Epoch 23/70\n",
      "\u001b[1m11/11\u001b[0m \u001b[32m━━━━━━━━━━━━━━━━━━━━\u001b[0m\u001b[37m\u001b[0m \u001b[1m0s\u001b[0m 11ms/step - loss: 0.0033 - mean_absolute_error: 0.0479 - val_loss: 0.0127 - val_mean_absolute_error: 0.0946\n",
      "Epoch 24/70\n",
      "\u001b[1m11/11\u001b[0m \u001b[32m━━━━━━━━━━━━━━━━━━━━\u001b[0m\u001b[37m\u001b[0m \u001b[1m0s\u001b[0m 10ms/step - loss: 0.0032 - mean_absolute_error: 0.0449 - val_loss: 0.0128 - val_mean_absolute_error: 0.0946\n",
      "Epoch 25/70\n",
      "\u001b[1m11/11\u001b[0m \u001b[32m━━━━━━━━━━━━━━━━━━━━\u001b[0m\u001b[37m\u001b[0m \u001b[1m0s\u001b[0m 11ms/step - loss: 0.0026 - mean_absolute_error: 0.0408 - val_loss: 0.0123 - val_mean_absolute_error: 0.0931\n",
      "Epoch 26/70\n",
      "\u001b[1m11/11\u001b[0m \u001b[32m━━━━━━━━━━━━━━━━━━━━\u001b[0m\u001b[37m\u001b[0m \u001b[1m0s\u001b[0m 13ms/step - loss: 0.0031 - mean_absolute_error: 0.0443 - val_loss: 0.0121 - val_mean_absolute_error: 0.0928\n",
      "Epoch 27/70\n",
      "\u001b[1m11/11\u001b[0m \u001b[32m━━━━━━━━━━━━━━━━━━━━\u001b[0m\u001b[37m\u001b[0m \u001b[1m0s\u001b[0m 10ms/step - loss: 0.0031 - mean_absolute_error: 0.0438 - val_loss: 0.0119 - val_mean_absolute_error: 0.0928\n",
      "Epoch 28/70\n",
      "\u001b[1m11/11\u001b[0m \u001b[32m━━━━━━━━━━━━━━━━━━━━\u001b[0m\u001b[37m\u001b[0m \u001b[1m0s\u001b[0m 11ms/step - loss: 0.0030 - mean_absolute_error: 0.0431 - val_loss: 0.0119 - val_mean_absolute_error: 0.0927\n",
      "Epoch 29/70\n",
      "\u001b[1m11/11\u001b[0m \u001b[32m━━━━━━━━━━━━━━━━━━━━\u001b[0m\u001b[37m\u001b[0m \u001b[1m0s\u001b[0m 13ms/step - loss: 0.0030 - mean_absolute_error: 0.0422 - val_loss: 0.0124 - val_mean_absolute_error: 0.0959\n",
      "Epoch 30/70\n",
      "\u001b[1m11/11\u001b[0m \u001b[32m━━━━━━━━━━━━━━━━━━━━\u001b[0m\u001b[37m\u001b[0m \u001b[1m0s\u001b[0m 10ms/step - loss: 0.0026 - mean_absolute_error: 0.0421 - val_loss: 0.0116 - val_mean_absolute_error: 0.0916\n",
      "Epoch 31/70\n",
      "\u001b[1m11/11\u001b[0m \u001b[32m━━━━━━━━━━━━━━━━━━━━\u001b[0m\u001b[37m\u001b[0m \u001b[1m0s\u001b[0m 16ms/step - loss: 0.0027 - mean_absolute_error: 0.0418 - val_loss: 0.0119 - val_mean_absolute_error: 0.0930\n",
      "Epoch 32/70\n",
      "\u001b[1m11/11\u001b[0m \u001b[32m━━━━━━━━━━━━━━━━━━━━\u001b[0m\u001b[37m\u001b[0m \u001b[1m0s\u001b[0m 11ms/step - loss: 0.0027 - mean_absolute_error: 0.0416 - val_loss: 0.0125 - val_mean_absolute_error: 0.0954\n",
      "Epoch 33/70\n",
      "\u001b[1m11/11\u001b[0m \u001b[32m━━━━━━━━━━━━━━━━━━━━\u001b[0m\u001b[37m\u001b[0m \u001b[1m0s\u001b[0m 10ms/step - loss: 0.0024 - mean_absolute_error: 0.0385 - val_loss: 0.0126 - val_mean_absolute_error: 0.0958\n",
      "Epoch 34/70\n",
      "\u001b[1m11/11\u001b[0m \u001b[32m━━━━━━━━━━━━━━━━━━━━\u001b[0m\u001b[37m\u001b[0m \u001b[1m0s\u001b[0m 10ms/step - loss: 0.0022 - mean_absolute_error: 0.0384 - val_loss: 0.0117 - val_mean_absolute_error: 0.0921\n",
      "Epoch 35/70\n",
      "\u001b[1m11/11\u001b[0m \u001b[32m━━━━━━━━━━━━━━━━━━━━\u001b[0m\u001b[37m\u001b[0m \u001b[1m0s\u001b[0m 10ms/step - loss: 0.0027 - mean_absolute_error: 0.0421 - val_loss: 0.0117 - val_mean_absolute_error: 0.0921\n",
      "Epoch 36/70\n",
      "\u001b[1m11/11\u001b[0m \u001b[32m━━━━━━━━━━━━━━━━━━━━\u001b[0m\u001b[37m\u001b[0m \u001b[1m0s\u001b[0m 11ms/step - loss: 0.0024 - mean_absolute_error: 0.0392 - val_loss: 0.0123 - val_mean_absolute_error: 0.0941\n",
      "Epoch 37/70\n",
      "\u001b[1m11/11\u001b[0m \u001b[32m━━━━━━━━━━━━━━━━━━━━\u001b[0m\u001b[37m\u001b[0m \u001b[1m0s\u001b[0m 10ms/step - loss: 0.0027 - mean_absolute_error: 0.0427 - val_loss: 0.0128 - val_mean_absolute_error: 0.0958\n",
      "Epoch 38/70\n",
      "\u001b[1m11/11\u001b[0m \u001b[32m━━━━━━━━━━━━━━━━━━━━\u001b[0m\u001b[37m\u001b[0m \u001b[1m0s\u001b[0m 12ms/step - loss: 0.0026 - mean_absolute_error: 0.0411 - val_loss: 0.0111 - val_mean_absolute_error: 0.0900\n",
      "Epoch 39/70\n",
      "\u001b[1m11/11\u001b[0m \u001b[32m━━━━━━━━━━━━━━━━━━━━\u001b[0m\u001b[37m\u001b[0m \u001b[1m0s\u001b[0m 11ms/step - loss: 0.0029 - mean_absolute_error: 0.0447 - val_loss: 0.0177 - val_mean_absolute_error: 0.1117\n",
      "Epoch 40/70\n",
      "\u001b[1m11/11\u001b[0m \u001b[32m━━━━━━━━━━━━━━━━━━━━\u001b[0m\u001b[37m\u001b[0m \u001b[1m0s\u001b[0m 11ms/step - loss: 0.0042 - mean_absolute_error: 0.0506 - val_loss: 0.0107 - val_mean_absolute_error: 0.0886\n",
      "Epoch 41/70\n",
      "\u001b[1m11/11\u001b[0m \u001b[32m━━━━━━━━━━━━━━━━━━━━\u001b[0m\u001b[37m\u001b[0m \u001b[1m0s\u001b[0m 12ms/step - loss: 0.0035 - mean_absolute_error: 0.0476 - val_loss: 0.0153 - val_mean_absolute_error: 0.1036\n",
      "Epoch 42/70\n",
      "\u001b[1m11/11\u001b[0m \u001b[32m━━━━━━━━━━━━━━━━━━━━\u001b[0m\u001b[37m\u001b[0m \u001b[1m0s\u001b[0m 11ms/step - loss: 0.0027 - mean_absolute_error: 0.0420 - val_loss: 0.0111 - val_mean_absolute_error: 0.0898\n",
      "Epoch 43/70\n",
      "\u001b[1m11/11\u001b[0m \u001b[32m━━━━━━━━━━━━━━━━━━━━\u001b[0m\u001b[37m\u001b[0m \u001b[1m0s\u001b[0m 13ms/step - loss: 0.0021 - mean_absolute_error: 0.0376 - val_loss: 0.0128 - val_mean_absolute_error: 0.0952\n",
      "Epoch 44/70\n",
      "\u001b[1m11/11\u001b[0m \u001b[32m━━━━━━━━━━━━━━━━━━━━\u001b[0m\u001b[37m\u001b[0m \u001b[1m0s\u001b[0m 13ms/step - loss: 0.0027 - mean_absolute_error: 0.0411 - val_loss: 0.0111 - val_mean_absolute_error: 0.0898\n",
      "Epoch 45/70\n",
      "\u001b[1m11/11\u001b[0m \u001b[32m━━━━━━━━━━━━━━━━━━━━\u001b[0m\u001b[37m\u001b[0m \u001b[1m0s\u001b[0m 13ms/step - loss: 0.0024 - mean_absolute_error: 0.0379 - val_loss: 0.0136 - val_mean_absolute_error: 0.0974\n",
      "Epoch 46/70\n",
      "\u001b[1m11/11\u001b[0m \u001b[32m━━━━━━━━━━━━━━━━━━━━\u001b[0m\u001b[37m\u001b[0m \u001b[1m0s\u001b[0m 10ms/step - loss: 0.0025 - mean_absolute_error: 0.0408 - val_loss: 0.0157 - val_mean_absolute_error: 0.1039\n",
      "Epoch 47/70\n",
      "\u001b[1m11/11\u001b[0m \u001b[32m━━━━━━━━━━━━━━━━━━━━\u001b[0m\u001b[37m\u001b[0m \u001b[1m0s\u001b[0m 10ms/step - loss: 0.0023 - mean_absolute_error: 0.0385 - val_loss: 0.0126 - val_mean_absolute_error: 0.0935\n",
      "Epoch 48/70\n",
      "\u001b[1m11/11\u001b[0m \u001b[32m━━━━━━━━━━━━━━━━━━━━\u001b[0m\u001b[37m\u001b[0m \u001b[1m0s\u001b[0m 10ms/step - loss: 0.0024 - mean_absolute_error: 0.0394 - val_loss: 0.0127 - val_mean_absolute_error: 0.0940\n",
      "Epoch 49/70\n",
      "\u001b[1m11/11\u001b[0m \u001b[32m━━━━━━━━━━━━━━━━━━━━\u001b[0m\u001b[37m\u001b[0m \u001b[1m0s\u001b[0m 10ms/step - loss: 0.0027 - mean_absolute_error: 0.0426 - val_loss: 0.0120 - val_mean_absolute_error: 0.0917\n",
      "Epoch 50/70\n",
      "\u001b[1m11/11\u001b[0m \u001b[32m━━━━━━━━━━━━━━━━━━━━\u001b[0m\u001b[37m\u001b[0m \u001b[1m0s\u001b[0m 10ms/step - loss: 0.0025 - mean_absolute_error: 0.0402 - val_loss: 0.0129 - val_mean_absolute_error: 0.0942\n",
      "Epoch 51/70\n",
      "\u001b[1m11/11\u001b[0m \u001b[32m━━━━━━━━━━━━━━━━━━━━\u001b[0m\u001b[37m\u001b[0m \u001b[1m0s\u001b[0m 11ms/step - loss: 0.0021 - mean_absolute_error: 0.0365 - val_loss: 0.0141 - val_mean_absolute_error: 0.0984\n",
      "Epoch 52/70\n",
      "\u001b[1m11/11\u001b[0m \u001b[32m━━━━━━━━━━━━━━━━━━━━\u001b[0m\u001b[37m\u001b[0m \u001b[1m0s\u001b[0m 10ms/step - loss: 0.0025 - mean_absolute_error: 0.0399 - val_loss: 0.0143 - val_mean_absolute_error: 0.0993\n",
      "Epoch 53/70\n",
      "\u001b[1m11/11\u001b[0m \u001b[32m━━━━━━━━━━━━━━━━━━━━\u001b[0m\u001b[37m\u001b[0m \u001b[1m0s\u001b[0m 10ms/step - loss: 0.0021 - mean_absolute_error: 0.0368 - val_loss: 0.0121 - val_mean_absolute_error: 0.0917\n",
      "Epoch 54/70\n",
      "\u001b[1m11/11\u001b[0m \u001b[32m━━━━━━━━━━━━━━━━━━━━\u001b[0m\u001b[37m\u001b[0m \u001b[1m0s\u001b[0m 10ms/step - loss: 0.0022 - mean_absolute_error: 0.0381 - val_loss: 0.0156 - val_mean_absolute_error: 0.1035\n",
      "Epoch 55/70\n",
      "\u001b[1m11/11\u001b[0m \u001b[32m━━━━━━━━━━━━━━━━━━━━\u001b[0m\u001b[37m\u001b[0m \u001b[1m0s\u001b[0m 12ms/step - loss: 0.0024 - mean_absolute_error: 0.0396 - val_loss: 0.0122 - val_mean_absolute_error: 0.0918\n",
      "Epoch 56/70\n",
      "\u001b[1m11/11\u001b[0m \u001b[32m━━━━━━━━━━━━━━━━━━━━\u001b[0m\u001b[37m\u001b[0m \u001b[1m0s\u001b[0m 12ms/step - loss: 0.0022 - mean_absolute_error: 0.0376 - val_loss: 0.0110 - val_mean_absolute_error: 0.0891\n",
      "Epoch 57/70\n",
      "\u001b[1m11/11\u001b[0m \u001b[32m━━━━━━━━━━━━━━━━━━━━\u001b[0m\u001b[37m\u001b[0m \u001b[1m0s\u001b[0m 11ms/step - loss: 0.0023 - mean_absolute_error: 0.0392 - val_loss: 0.0144 - val_mean_absolute_error: 0.1005\n",
      "Epoch 58/70\n",
      "\u001b[1m11/11\u001b[0m \u001b[32m━━━━━━━━━━━━━━━━━━━━\u001b[0m\u001b[37m\u001b[0m \u001b[1m0s\u001b[0m 12ms/step - loss: 0.0024 - mean_absolute_error: 0.0384 - val_loss: 0.0112 - val_mean_absolute_error: 0.0884\n",
      "Epoch 59/70\n",
      "\u001b[1m11/11\u001b[0m \u001b[32m━━━━━━━━━━━━━━━━━━━━\u001b[0m\u001b[37m\u001b[0m \u001b[1m0s\u001b[0m 14ms/step - loss: 0.0021 - mean_absolute_error: 0.0376 - val_loss: 0.0142 - val_mean_absolute_error: 0.0988\n",
      "Epoch 60/70\n",
      "\u001b[1m11/11\u001b[0m \u001b[32m━━━━━━━━━━━━━━━━━━━━\u001b[0m\u001b[37m\u001b[0m \u001b[1m0s\u001b[0m 10ms/step - loss: 0.0021 - mean_absolute_error: 0.0377 - val_loss: 0.0136 - val_mean_absolute_error: 0.0969\n",
      "Epoch 61/70\n",
      "\u001b[1m11/11\u001b[0m \u001b[32m━━━━━━━━━━━━━━━━━━━━\u001b[0m\u001b[37m\u001b[0m \u001b[1m0s\u001b[0m 10ms/step - loss: 0.0024 - mean_absolute_error: 0.0385 - val_loss: 0.0142 - val_mean_absolute_error: 0.0991\n",
      "Epoch 62/70\n",
      "\u001b[1m11/11\u001b[0m \u001b[32m━━━━━━━━━━━━━━━━━━━━\u001b[0m\u001b[37m\u001b[0m \u001b[1m0s\u001b[0m 11ms/step - loss: 0.0023 - mean_absolute_error: 0.0377 - val_loss: 0.0118 - val_mean_absolute_error: 0.0901\n",
      "Epoch 63/70\n",
      "\u001b[1m11/11\u001b[0m \u001b[32m━━━━━━━━━━━━━━━━━━━━\u001b[0m\u001b[37m\u001b[0m \u001b[1m0s\u001b[0m 10ms/step - loss: 0.0028 - mean_absolute_error: 0.0424 - val_loss: 0.0119 - val_mean_absolute_error: 0.0902\n",
      "Epoch 64/70\n",
      "\u001b[1m11/11\u001b[0m \u001b[32m━━━━━━━━━━━━━━━━━━━━\u001b[0m\u001b[37m\u001b[0m \u001b[1m0s\u001b[0m 10ms/step - loss: 0.0023 - mean_absolute_error: 0.0386 - val_loss: 0.0166 - val_mean_absolute_error: 0.1060\n",
      "Epoch 65/70\n",
      "\u001b[1m11/11\u001b[0m \u001b[32m━━━━━━━━━━━━━━━━━━━━\u001b[0m\u001b[37m\u001b[0m \u001b[1m0s\u001b[0m 12ms/step - loss: 0.0021 - mean_absolute_error: 0.0362 - val_loss: 0.0124 - val_mean_absolute_error: 0.0922\n",
      "Epoch 66/70\n",
      "\u001b[1m11/11\u001b[0m \u001b[32m━━━━━━━━━━━━━━━━━━━━\u001b[0m\u001b[37m\u001b[0m \u001b[1m0s\u001b[0m 10ms/step - loss: 0.0028 - mean_absolute_error: 0.0413 - val_loss: 0.0106 - val_mean_absolute_error: 0.0872\n",
      "Epoch 67/70\n",
      "\u001b[1m11/11\u001b[0m \u001b[32m━━━━━━━━━━━━━━━━━━━━\u001b[0m\u001b[37m\u001b[0m \u001b[1m0s\u001b[0m 10ms/step - loss: 0.0039 - mean_absolute_error: 0.0514 - val_loss: 0.0214 - val_mean_absolute_error: 0.1237\n",
      "Epoch 68/70\n",
      "\u001b[1m11/11\u001b[0m \u001b[32m━━━━━━━━━━━━━━━━━━━━\u001b[0m\u001b[37m\u001b[0m \u001b[1m0s\u001b[0m 10ms/step - loss: 0.0025 - mean_absolute_error: 0.0400 - val_loss: 0.0101 - val_mean_absolute_error: 0.0860\n",
      "Epoch 69/70\n",
      "\u001b[1m11/11\u001b[0m \u001b[32m━━━━━━━━━━━━━━━━━━━━\u001b[0m\u001b[37m\u001b[0m \u001b[1m0s\u001b[0m 13ms/step - loss: 0.0024 - mean_absolute_error: 0.0390 - val_loss: 0.0156 - val_mean_absolute_error: 0.1028\n",
      "Epoch 70/70\n",
      "\u001b[1m11/11\u001b[0m \u001b[32m━━━━━━━━━━━━━━━━━━━━\u001b[0m\u001b[37m\u001b[0m \u001b[1m0s\u001b[0m 11ms/step - loss: 0.0022 - mean_absolute_error: 0.0375 - val_loss: 0.0110 - val_mean_absolute_error: 0.0871\n"
     ]
    }
   ],
   "source": [
    "# history = model.fit(X_train, y_train, epochs=70, batch_size=30,\n",
    "#                     validation_split=0.1,\n",
    "#                     callbacks=[early_stopping, check_pointer])\n",
    "history = model.fit(X_train, y_train, epochs=70, batch_size=30,\n",
    "                    validation_split=0.1)"
   ]
  },
  {
   "cell_type": "code",
   "execution_count": 112,
   "id": "f266e08d-8c3d-406a-bd95-1cb1c25eba67",
   "metadata": {},
   "outputs": [
    {
     "name": "stdout",
     "output_type": "stream",
     "text": [
      "\u001b[1m5/5\u001b[0m \u001b[32m━━━━━━━━━━━━━━━━━━━━\u001b[0m\u001b[37m\u001b[0m \u001b[1m0s\u001b[0m 6ms/step - loss: 0.0072 - mean_absolute_error: 0.0687 \n"
     ]
    },
    {
     "data": {
      "text/plain": [
       "[0.008662253618240356, 0.07754161953926086]"
      ]
     },
     "execution_count": 112,
     "metadata": {},
     "output_type": "execute_result"
    }
   ],
   "source": [
    "model.evaluate(X_test, y_test)"
   ]
  },
  {
   "cell_type": "code",
   "execution_count": 113,
   "id": "ed566a29-06b5-4e47-86b0-07cfcf514600",
   "metadata": {},
   "outputs": [
    {
     "name": "stdout",
     "output_type": "stream",
     "text": [
      "\u001b[1m5/5\u001b[0m \u001b[32m━━━━━━━━━━━━━━━━━━━━\u001b[0m\u001b[37m\u001b[0m \u001b[1m0s\u001b[0m 55ms/step \n"
     ]
    },
    {
     "data": {
      "text/plain": [
       "array([[0.712196  ],\n",
       "       [0.70021623],\n",
       "       [0.69675833],\n",
       "       [0.6936614 ],\n",
       "       [0.6907157 ],\n",
       "       [0.69833297],\n",
       "       [0.70902956],\n",
       "       [0.7199055 ],\n",
       "       [0.7270782 ],\n",
       "       [0.73297715],\n",
       "       [0.73603165],\n",
       "       [0.74089736],\n",
       "       [0.7433229 ],\n",
       "       [0.7431301 ],\n",
       "       [0.74365807],\n",
       "       [0.73886895],\n",
       "       [0.7314625 ],\n",
       "       [0.72362214],\n",
       "       [0.7168041 ],\n",
       "       [0.71235186],\n",
       "       [0.7061952 ],\n",
       "       [0.6967539 ],\n",
       "       [0.6857336 ],\n",
       "       [0.67397374],\n",
       "       [0.66494876],\n",
       "       [0.6641506 ],\n",
       "       [0.6639824 ],\n",
       "       [0.6620828 ],\n",
       "       [0.65946054],\n",
       "       [0.6580546 ],\n",
       "       [0.6652511 ],\n",
       "       [0.67708236],\n",
       "       [0.6874911 ],\n",
       "       [0.69700634],\n",
       "       [0.7083053 ],\n",
       "       [0.7182339 ],\n",
       "       [0.7261467 ],\n",
       "       [0.7365418 ],\n",
       "       [0.7496206 ],\n",
       "       [0.76010066],\n",
       "       [0.7682179 ],\n",
       "       [0.7729283 ],\n",
       "       [0.7801359 ],\n",
       "       [0.78707594],\n",
       "       [0.7897067 ],\n",
       "       [0.79654515],\n",
       "       [0.80881184],\n",
       "       [0.82355964],\n",
       "       [0.83974427],\n",
       "       [0.8577622 ],\n",
       "       [0.8747832 ],\n",
       "       [0.8853179 ],\n",
       "       [0.8956045 ],\n",
       "       [0.90467346],\n",
       "       [0.9141668 ],\n",
       "       [0.9213944 ],\n",
       "       [0.92211956],\n",
       "       [0.9132557 ],\n",
       "       [0.904253  ],\n",
       "       [0.8921983 ],\n",
       "       [0.8746326 ],\n",
       "       [0.86310756],\n",
       "       [0.8534087 ],\n",
       "       [0.83646905],\n",
       "       [0.8247574 ],\n",
       "       [0.8218804 ],\n",
       "       [0.81160325],\n",
       "       [0.79466844],\n",
       "       [0.7716347 ],\n",
       "       [0.7508592 ],\n",
       "       [0.73475313],\n",
       "       [0.716851  ],\n",
       "       [0.6960107 ],\n",
       "       [0.6799193 ],\n",
       "       [0.6703279 ],\n",
       "       [0.6629762 ],\n",
       "       [0.66144454],\n",
       "       [0.6697651 ],\n",
       "       [0.6809898 ],\n",
       "       [0.6944013 ],\n",
       "       [0.7085638 ],\n",
       "       [0.7152695 ],\n",
       "       [0.7165586 ],\n",
       "       [0.7141838 ],\n",
       "       [0.70571846],\n",
       "       [0.69461495],\n",
       "       [0.68196845],\n",
       "       [0.66838086],\n",
       "       [0.65044594],\n",
       "       [0.6304769 ],\n",
       "       [0.60669357],\n",
       "       [0.58265513],\n",
       "       [0.56101036],\n",
       "       [0.5367444 ],\n",
       "       [0.5161249 ],\n",
       "       [0.49497074],\n",
       "       [0.47565877],\n",
       "       [0.45762527],\n",
       "       [0.44413266],\n",
       "       [0.43160778],\n",
       "       [0.41972   ],\n",
       "       [0.41171426],\n",
       "       [0.4073997 ],\n",
       "       [0.4031844 ],\n",
       "       [0.39556652],\n",
       "       [0.38827893],\n",
       "       [0.3828589 ],\n",
       "       [0.3758244 ],\n",
       "       [0.36931843],\n",
       "       [0.35864702],\n",
       "       [0.34656385],\n",
       "       [0.33600262],\n",
       "       [0.32608175],\n",
       "       [0.31677705],\n",
       "       [0.3090558 ],\n",
       "       [0.3008356 ],\n",
       "       [0.29263657],\n",
       "       [0.287284  ],\n",
       "       [0.28401753],\n",
       "       [0.27927315],\n",
       "       [0.2731618 ],\n",
       "       [0.2682696 ],\n",
       "       [0.26592693],\n",
       "       [0.26740155],\n",
       "       [0.2675023 ],\n",
       "       [0.26681185],\n",
       "       [0.26481083],\n",
       "       [0.26053512],\n",
       "       [0.25845027],\n",
       "       [0.25795075],\n",
       "       [0.2543918 ],\n",
       "       [0.24920198],\n",
       "       [0.243617  ],\n",
       "       [0.23316532],\n",
       "       [0.2267186 ],\n",
       "       [0.22505292],\n",
       "       [0.22526908],\n",
       "       [0.2225135 ],\n",
       "       [0.21798944],\n",
       "       [0.21232331],\n",
       "       [0.21278125],\n",
       "       [0.21612248],\n",
       "       [0.22135922],\n",
       "       [0.22688222]], dtype=float32)"
      ]
     },
     "execution_count": 113,
     "metadata": {},
     "output_type": "execute_result"
    },
    {
     "data": {
      "text/plain": [
       "(144, 1)"
      ]
     },
     "execution_count": 113,
     "metadata": {},
     "output_type": "execute_result"
    }
   ],
   "source": [
    "y_pred = model.predict(X_test)\n",
    "y_pred\n",
    "y_pred.shape"
   ]
  },
  {
   "cell_type": "code",
   "execution_count": 114,
   "id": "8d1c2429-e554-4bb5-98e3-d9b074be6746",
   "metadata": {},
   "outputs": [
    {
     "data": {
      "text/plain": [
       "490"
      ]
     },
     "execution_count": 114,
     "metadata": {},
     "output_type": "execute_result"
    },
    {
     "data": {
      "text/plain": [
       "144"
      ]
     },
     "execution_count": 114,
     "metadata": {},
     "output_type": "execute_result"
    }
   ],
   "source": [
    "len(df_sc['Close'])\n",
    "len(y_pred)"
   ]
  },
  {
   "cell_type": "code",
   "execution_count": null,
   "id": "3beda4f3-4eba-4525-a0a1-30dc3618fce6",
   "metadata": {},
   "outputs": [],
   "source": []
  },
  {
   "cell_type": "code",
   "execution_count": 116,
   "id": "df79193f-db72-4492-b7e3-ef24da03b238",
   "metadata": {},
   "outputs": [
    {
     "data": {
      "text/plain": [
       "Date\n",
       "2024-04-29    0.707124\n",
       "2024-04-30    0.728232\n",
       "2024-05-02    0.741425\n",
       "2024-05-03    0.730871\n",
       "2024-05-07    0.828496\n",
       "                ...   \n",
       "2024-11-25    0.211082\n",
       "2024-11-26    0.221636\n",
       "2024-11-27    0.168865\n",
       "2024-11-28    0.147757\n",
       "2024-11-29    0.113456\n",
       "Name: Close, Length: 144, dtype: float64"
      ]
     },
     "execution_count": 116,
     "metadata": {},
     "output_type": "execute_result"
    }
   ],
   "source": [
    "df_sc[\"Close\"][490-144:]"
   ]
  },
  {
   "cell_type": "code",
   "execution_count": 124,
   "id": "f6611fff-5faf-4351-96fc-d6e0a9524658",
   "metadata": {
    "scrolled": true
   },
   "outputs": [
    {
     "data": {
      "text/plain": [
       "array([[76700.],\n",
       "       [77500.],\n",
       "       [78000.],\n",
       "       [77600.],\n",
       "       [81300.],\n",
       "       [81300.],\n",
       "       [79700.],\n",
       "       [79200.],\n",
       "       [78400.],\n",
       "       [78300.],\n",
       "       [78200.],\n",
       "       [77400.],\n",
       "       [78900.],\n",
       "       [78400.],\n",
       "       [77700.],\n",
       "       [78300.],\n",
       "       [75900.],\n",
       "       [77200.],\n",
       "       [77600.],\n",
       "       [75200.],\n",
       "       [73500.],\n",
       "       [73500.],\n",
       "       [75700.],\n",
       "       [75300.],\n",
       "       [77400.],\n",
       "       [77300.],\n",
       "       [75700.],\n",
       "       [75200.],\n",
       "       [76500.],\n",
       "       [78600.],\n",
       "       [79600.],\n",
       "       [78100.],\n",
       "       [79800.],\n",
       "       [81200.],\n",
       "       [81600.],\n",
       "       [80000.],\n",
       "       [80600.],\n",
       "       [80800.],\n",
       "       [81300.],\n",
       "       [81600.],\n",
       "       [81500.],\n",
       "       [81800.],\n",
       "       [81800.],\n",
       "       [81800.],\n",
       "       [84600.],\n",
       "       [87100.],\n",
       "       [87400.],\n",
       "       [87800.],\n",
       "       [87800.],\n",
       "       [87600.],\n",
       "       [84400.],\n",
       "       [86700.],\n",
       "       [87700.],\n",
       "       [86700.],\n",
       "       [86900.],\n",
       "       [84400.],\n",
       "       [83000.],\n",
       "       [83900.],\n",
       "       [82000.],\n",
       "       [80400.],\n",
       "       [80900.],\n",
       "       [81200.],\n",
       "       [81000.],\n",
       "       [83900.],\n",
       "       [83100.],\n",
       "       [79600.],\n",
       "       [71400.],\n",
       "       [72500.],\n",
       "       [74700.],\n",
       "       [73400.],\n",
       "       [74700.],\n",
       "       [75500.],\n",
       "       [76100.],\n",
       "       [77200.],\n",
       "       [80200.],\n",
       "       [78300.],\n",
       "       [78900.],\n",
       "       [78300.],\n",
       "       [78300.],\n",
       "       [77700.],\n",
       "       [76100.],\n",
       "       [75800.],\n",
       "       [76400.],\n",
       "       [74000.],\n",
       "       [74300.],\n",
       "       [74400.],\n",
       "       [72500.],\n",
       "       [70000.],\n",
       "       [69000.],\n",
       "       [68900.],\n",
       "       [67500.],\n",
       "       [66200.],\n",
       "       [64900.],\n",
       "       [66300.],\n",
       "       [64400.],\n",
       "       [63100.],\n",
       "       [63000.],\n",
       "       [62600.],\n",
       "       [63200.],\n",
       "       [62200.],\n",
       "       [64700.],\n",
       "       [64200.],\n",
       "       [61500.],\n",
       "       [61300.],\n",
       "       [60600.],\n",
       "       [61000.],\n",
       "       [60300.],\n",
       "       [58900.],\n",
       "       [59300.],\n",
       "       [60800.],\n",
       "       [61000.],\n",
       "       [59500.],\n",
       "       [59700.],\n",
       "       [59200.],\n",
       "       [59000.],\n",
       "       [57700.],\n",
       "       [59100.],\n",
       "       [56600.],\n",
       "       [55900.],\n",
       "       [58100.],\n",
       "       [59600.],\n",
       "       [59100.],\n",
       "       [59200.],\n",
       "       [58300.],\n",
       "       [58700.],\n",
       "       [57600.],\n",
       "       [57300.],\n",
       "       [57500.],\n",
       "       [57000.],\n",
       "       [55000.],\n",
       "       [53000.],\n",
       "       [50600.],\n",
       "       [49900.],\n",
       "       [53500.],\n",
       "       [56700.],\n",
       "       [56300.],\n",
       "       [55300.],\n",
       "       [56400.],\n",
       "       [56000.],\n",
       "       [57900.],\n",
       "       [58300.],\n",
       "       [56300.],\n",
       "       [55500.],\n",
       "       [54200.]])"
      ]
     },
     "execution_count": 124,
     "metadata": {},
     "output_type": "execute_result"
    }
   ],
   "source": [
    "# 원래 값으로 복원한 후 그래프 작성\n",
    "# df_sc[\"Close\"] : 490개\n",
    "# 예측 수는 144개 >> 490-144의 index 데이터부터 추출해서 원래값으로 복원해서 비교 시각화\n",
    "\n",
    "rescaled_actual = scaler2.inverse_transform(y_test)\n",
    "rescaled_actual1 = scaler2.inverse_transform(df_sc[\"Close\"][490-144:].values.reshape(-1,1))\n",
    "rescaled_pred = scaler2.inverse_transform(y_pred)\n",
    "\n",
    "# 또는 실제값 y_test 사용해도 됨\n",
    "rescaled_actual"
   ]
  },
  {
   "cell_type": "code",
   "execution_count": 128,
   "id": "32e6e94c-ad38-415d-91cf-bd489e8db7fc",
   "metadata": {},
   "outputs": [
    {
     "data": {
      "text/plain": [
       "(144, 1)"
      ]
     },
     "execution_count": 128,
     "metadata": {},
     "output_type": "execute_result"
    },
    {
     "data": {
      "text/plain": [
       "(144, 1)"
      ]
     },
     "execution_count": 128,
     "metadata": {},
     "output_type": "execute_result"
    },
    {
     "data": {
      "text/plain": [
       "(144, 1)"
      ]
     },
     "execution_count": 128,
     "metadata": {},
     "output_type": "execute_result"
    }
   ],
   "source": [
    "rescaled_actual.shape\n",
    "rescaled_actual1.shape\n",
    "rescaled_pred.shape"
   ]
  },
  {
   "cell_type": "code",
   "execution_count": 122,
   "id": "7f364b50-c10b-4b98-a363-2d011ee41cbe",
   "metadata": {},
   "outputs": [
    {
     "data": {
      "text/plain": [
       "array([58498.836], dtype=float32)"
      ]
     },
     "execution_count": 122,
     "metadata": {},
     "output_type": "execute_result"
    }
   ],
   "source": [
    "rescaled_pred[-1]"
   ]
  },
  {
   "cell_type": "code",
   "execution_count": 123,
   "id": "238ca4df-c602-4d28-b6c7-3aa313d84e2a",
   "metadata": {},
   "outputs": [
    {
     "data": {
      "text/plain": [
       "<Figure size 640x480 with 0 Axes>"
      ]
     },
     "execution_count": 123,
     "metadata": {},
     "output_type": "execute_result"
    },
    {
     "data": {
      "text/plain": [
       "[<matplotlib.lines.Line2D at 0x1d16e1a8da0>]"
      ]
     },
     "execution_count": 123,
     "metadata": {},
     "output_type": "execute_result"
    },
    {
     "data": {
      "text/plain": [
       "[<matplotlib.lines.Line2D at 0x1d170c43440>]"
      ]
     },
     "execution_count": 123,
     "metadata": {},
     "output_type": "execute_result"
    },
    {
     "data": {
      "text/plain": [
       "Text(0.5, 1.0, 'SEC stock price prediction')"
      ]
     },
     "execution_count": 123,
     "metadata": {},
     "output_type": "execute_result"
    },
    {
     "data": {
      "text/plain": [
       "Text(0.5, 0, 'time')"
      ]
     },
     "execution_count": 123,
     "metadata": {},
     "output_type": "execute_result"
    },
    {
     "data": {
      "text/plain": [
       "Text(0, 0.5, 'stock price')"
      ]
     },
     "execution_count": 123,
     "metadata": {},
     "output_type": "execute_result"
    },
    {
     "data": {
      "text/plain": [
       "<matplotlib.legend.Legend at 0x1d173ba8c50>"
      ]
     },
     "execution_count": 123,
     "metadata": {},
     "output_type": "execute_result"
    },
    {
     "data": {
      "image/png": "[encoded data removed]",
      "text/plain": [
       "<Figure size 640x480 with 1 Axes>"
      ]
     },
     "metadata": {},
     "output_type": "display_data"
    },
    {
     "name": "stdout",
     "output_type": "stream",
     "text": [
      "내일 SEC 주가 : [108385.32959805] KRW\n"
     ]
    },
    {
     "name": "stderr",
     "output_type": "stream",
     "text": [
      "C:\\Users\\82108\\AppData\\Local\\Temp\\ipykernel_19436\\2429689874.py:10: FutureWarning: Series.__getitem__ treating keys as positions is deprecated. In a future version, integer keys will always be treated as labels (consistent with DataFrame behavior). To access a value by position, use `ser.iloc[pos]`\n",
      "  print(\"내일 SEC 주가 :\", df.Close[-1] * y_pred[-1] / df_y.Close[-1], 'KRW')\n"
     ]
    }
   ],
   "source": [
    "plt.figure()\n",
    "plt.plot(rescaled_actual, color='red', label='real SEC stock price')\n",
    "plt.plot(rescaled_pred, color='blue', label='predicted SEC stock price')\n",
    "plt.title('SEC stock price prediction')\n",
    "plt.xlabel('time')\n",
    "plt.ylabel('stock price')\n",
    "plt.legend()\n",
    "plt.show()\n",
    "\n",
    "print(\"내일 SEC 주가 :\", df.Close[-1] * y_pred[-1] / df_y.Close[-1], 'KRW')"
   ]
  },
  {
   "cell_type": "code",
   "execution_count": null,
   "id": "8dccd058-3973-46d4-b3a0-ed51209a0040",
   "metadata": {},
   "outputs": [],
   "source": []
  },
  {
   "cell_type": "code",
   "execution_count": null,
   "id": "24176e76-0a30-4df4-bc08-43ee04472174",
   "metadata": {},
   "outputs": [],
   "source": []
  },
  {
   "cell_type": "code",
   "execution_count": null,
   "id": "77fe0ac2-d66e-4c17-bf9c-e71bd2d137ef",
   "metadata": {},
   "outputs": [],
   "source": []
  },
  {
   "cell_type": "code",
   "execution_count": null,
   "id": "4b103cb1-e755-4f60-846a-03af61e749d9",
   "metadata": {},
   "outputs": [],
   "source": []
  },
  {
   "cell_type": "code",
   "execution_count": null,
   "id": "0d4ed1cf-2eee-4b5d-a778-808b181de0b3",
   "metadata": {},
   "outputs": [],
   "source": []
  },
  {
   "cell_type": "code",
   "execution_count": null,
   "id": "11b61b5b-16d1-4abf-9afd-9259bf69a5dc",
   "metadata": {},
   "outputs": [],
   "source": []
  },
  {
   "cell_type": "code",
   "execution_count": null,
   "id": "2c2eae82-58b3-4e0e-b2ec-c0ff2a6363ab",
   "metadata": {},
   "outputs": [],
   "source": []
  },
  {
   "cell_type": "code",
   "execution_count": null,
   "id": "121719ca-ab9f-4c4b-8007-aaa6865b3b7d",
   "metadata": {},
   "outputs": [],
   "source": []
  },
  {
   "cell_type": "code",
   "execution_count": null,
   "id": "bf01a2de-6475-4f65-934b-65a4eb8dc659",
   "metadata": {},
   "outputs": [],
   "source": []
  },
  {
   "cell_type": "code",
   "execution_count": null,
   "id": "b6ee4a0b-e5b4-46b1-a33a-deb3df9899d9",
   "metadata": {},
   "outputs": [],
   "source": []
  },
  {
   "cell_type": "code",
   "execution_count": null,
   "id": "588dce75-e6fe-4b0d-bf19-a685af675fc6",
   "metadata": {},
   "outputs": [],
   "source": []
  },
  {
   "cell_type": "code",
   "execution_count": null,
   "id": "f6dd44f0-a136-474c-bbf8-bf01327a322c",
   "metadata": {},
   "outputs": [],
   "source": []
  }
 ],
 "metadata": {
  "kernelspec": {
   "display_name": "DL_ENV",
   "language": "python",
   "name": "dlenv"
  },
  "language_info": {
   "codemirror_mode": {
    "name": "ipython",
    "version": 3
   },
   "file_extension": ".py",
   "mimetype": "text/x-python",
   "name": "python",
   "nbconvert_exporter": "python",
   "pygments_lexer": "ipython3",
   "version": "3.12.9"
  }
 },
 "nbformat": 4,
 "nbformat_minor": 5
}
