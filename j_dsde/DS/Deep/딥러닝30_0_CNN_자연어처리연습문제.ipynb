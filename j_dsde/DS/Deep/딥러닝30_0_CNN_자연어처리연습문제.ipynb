{
 "cells": [
  {
   "cell_type": "markdown",
   "id": "16a623b9-6818-48f8-ad14-7d97250768c5",
   "metadata": {},
   "source": [
    "## Conv1D를 활용한 다음 movie 리뷰 감성 분석"
   ]
  },
  {
   "cell_type": "markdown",
   "id": "49d7677b-ef42-44f9-87ed-10223035e06d",
   "metadata": {},
   "source": [
    "- daum_movie_review.csv 사용"
   ]
  },
  {
   "cell_type": "code",
   "execution_count": 2,
   "id": "b990d1e8-9797-4055-b0f0-140fb96235fd",
   "metadata": {},
   "outputs": [],
   "source": [
    "from IPython.core.interactiveshell import InteractiveShell\n",
    "InteractiveShell.ast_node_interactivity=\"all\""
   ]
  },
  {
   "cell_type": "code",
   "execution_count": 3,
   "id": "0481344f-96ce-458c-a2d1-59b9fb750e84",
   "metadata": {},
   "outputs": [],
   "source": [
    "import numpy as np\n",
    "import pandas as pd\n",
    "import os\n",
    "import matplotlib.pyplot as plt\n",
    "import seaborn as sns"
   ]
  },
  {
   "cell_type": "code",
   "execution_count": 4,
   "id": "a934d4cc-484c-405c-9cb8-d7d024217cae",
   "metadata": {},
   "outputs": [
    {
     "data": {
      "text/html": [
       "<div>\n",
       "<style scoped>\n",
       "    .dataframe tbody tr th:only-of-type {\n",
       "        vertical-align: middle;\n",
       "    }\n",
       "\n",
       "    .dataframe tbody tr th {\n",
       "        vertical-align: top;\n",
       "    }\n",
       "\n",
       "    .dataframe thead th {\n",
       "        text-align: right;\n",
       "    }\n",
       "</style>\n",
       "<table border=\"1\" class=\"dataframe\">\n",
       "  <thead>\n",
       "    <tr style=\"text-align: right;\">\n",
       "      <th></th>\n",
       "      <th>review</th>\n",
       "      <th>rating</th>\n",
       "      <th>date</th>\n",
       "      <th>title</th>\n",
       "    </tr>\n",
       "  </thead>\n",
       "  <tbody>\n",
       "    <tr>\n",
       "      <th>0</th>\n",
       "      <td>돈 들인건 티가 나지만 보는 내내 하품만</td>\n",
       "      <td>1</td>\n",
       "      <td>2018.10.29</td>\n",
       "      <td>인피니티 워</td>\n",
       "    </tr>\n",
       "    <tr>\n",
       "      <th>1</th>\n",
       "      <td>몰입할수밖에 없다. 어렵게 생각할 필요없다. 내가 전투에 참여한듯 손에 땀이남.</td>\n",
       "      <td>10</td>\n",
       "      <td>2018.10.26</td>\n",
       "      <td>인피니티 워</td>\n",
       "    </tr>\n",
       "    <tr>\n",
       "      <th>2</th>\n",
       "      <td>이전 작품에 비해 더 화려하고 스케일도 커졌지만.... 전국 맛집의 음식들을 한데 ...</td>\n",
       "      <td>8</td>\n",
       "      <td>2018.10.24</td>\n",
       "      <td>인피니티 워</td>\n",
       "    </tr>\n",
       "    <tr>\n",
       "      <th>3</th>\n",
       "      <td>이 정도면 볼만하다고 할 수 있음!</td>\n",
       "      <td>8</td>\n",
       "      <td>2018.10.22</td>\n",
       "      <td>인피니티 워</td>\n",
       "    </tr>\n",
       "    <tr>\n",
       "      <th>4</th>\n",
       "      <td>재미있다</td>\n",
       "      <td>10</td>\n",
       "      <td>2018.10.20</td>\n",
       "      <td>인피니티 워</td>\n",
       "    </tr>\n",
       "  </tbody>\n",
       "</table>\n",
       "</div>"
      ],
      "text/plain": [
       "                                              review  rating        date  \\\n",
       "0                             돈 들인건 티가 나지만 보는 내내 하품만       1  2018.10.29   \n",
       "1       몰입할수밖에 없다. 어렵게 생각할 필요없다. 내가 전투에 참여한듯 손에 땀이남.      10  2018.10.26   \n",
       "2  이전 작품에 비해 더 화려하고 스케일도 커졌지만.... 전국 맛집의 음식들을 한데 ...       8  2018.10.24   \n",
       "3                                이 정도면 볼만하다고 할 수 있음!       8  2018.10.22   \n",
       "4                                               재미있다      10  2018.10.20   \n",
       "\n",
       "    title  \n",
       "0  인피니티 워  \n",
       "1  인피니티 워  \n",
       "2  인피니티 워  \n",
       "3  인피니티 워  \n",
       "4  인피니티 워  "
      ]
     },
     "execution_count": 4,
     "metadata": {},
     "output_type": "execute_result"
    }
   ],
   "source": [
    "df = pd.read_csv('./data/daum_movie_review.csv', sep=',')\n",
    "df.head()"
   ]
  },
  {
   "cell_type": "code",
   "execution_count": 8,
   "id": "2fc09e1d-6602-476e-995d-c49265acc93e",
   "metadata": {},
   "outputs": [
    {
     "name": "stdout",
     "output_type": "stream",
     "text": [
      "전체 데이터 개수: 14725\n"
     ]
    },
    {
     "data": {
      "text/plain": [
       "0     22\n",
       "1     44\n",
       "2    107\n",
       "3     19\n",
       "4      4\n",
       "Name: review, dtype: int64"
      ]
     },
     "execution_count": 8,
     "metadata": {},
     "output_type": "execute_result"
    }
   ],
   "source": [
    "print('전체 데이터 개수: {}'.format(len(df)))\n",
    "data_length = df['review'].astype(str).apply(len)\n",
    "data_length.head()"
   ]
  },
  {
   "cell_type": "code",
   "execution_count": 10,
   "id": "1a9511bf-0369-4483-b04f-37b6976ca668",
   "metadata": {},
   "outputs": [
    {
     "data": {
      "text/plain": [
       "count    14725.000000\n",
       "mean        52.780170\n",
       "std         56.534392\n",
       "min          2.000000\n",
       "25%         16.000000\n",
       "50%         34.000000\n",
       "75%         70.000000\n",
       "max        482.000000\n",
       "Name: review, dtype: float64"
      ]
     },
     "execution_count": 10,
     "metadata": {},
     "output_type": "execute_result"
    }
   ],
   "source": [
    "data_length.describe()"
   ]
  },
  {
   "cell_type": "code",
   "execution_count": 11,
   "id": "2aaae955-7a63-482e-bbbe-7ac4cb35b610",
   "metadata": {},
   "outputs": [
    {
     "name": "stdout",
     "output_type": "stream",
     "text": [
      "리뷰 길이 최댓값: 482\n",
      "리뷰 길이 최솟값: 2\n",
      "리뷰 길이 평균값: 52.78\n",
      "리뷰 길이 표준편차: 56.53\n",
      "리뷰 길이 중간값: 34.0\n",
      "리뷰 길이 제1사분위: 16.0\n",
      "리뷰 길이 제3사분위: 70.0\n"
     ]
    }
   ],
   "source": [
    "#리뷰 통계 정보\n",
    "print('리뷰 길이 최댓값: {}'.format(np.max(data_length)))\n",
    "print('리뷰 길이 최솟값: {}'.format(np.min(data_length)))\n",
    "print('리뷰 길이 평균값: {:.2f}'.format(np.mean(data_length)))\n",
    "print('리뷰 길이 표준편차: {:.2f}'.format(np.std(data_length)))\n",
    "print('리뷰 길이 중간값: {}'.format(np.median(data_length)))\n",
    "print('리뷰 길이 제1사분위: {}'.format(np.percentile(data_length,25)))\n",
    "print('리뷰 길이 제3사분위: {}'.format(np.percentile(data_length,75)))"
   ]
  },
  {
   "cell_type": "code",
   "execution_count": 46,
   "id": "0ef8fabf-f6c3-45dc-958a-6a86fefd5d01",
   "metadata": {},
   "outputs": [
    {
     "data": {
      "text/html": [
       "<div>\n",
       "<style scoped>\n",
       "    .dataframe tbody tr th:only-of-type {\n",
       "        vertical-align: middle;\n",
       "    }\n",
       "\n",
       "    .dataframe tbody tr th {\n",
       "        vertical-align: top;\n",
       "    }\n",
       "\n",
       "    .dataframe thead th {\n",
       "        text-align: right;\n",
       "    }\n",
       "</style>\n",
       "<table border=\"1\" class=\"dataframe\">\n",
       "  <thead>\n",
       "    <tr style=\"text-align: right;\">\n",
       "      <th></th>\n",
       "      <th>review</th>\n",
       "      <th>rating</th>\n",
       "      <th>date</th>\n",
       "      <th>title</th>\n",
       "    </tr>\n",
       "  </thead>\n",
       "  <tbody>\n",
       "    <tr>\n",
       "      <th>1225</th>\n",
       "      <td>낚였다! 일반적인 어벤저스 영화임 10주년 기념작이라고 기대하고서 예매 하면 실망....</td>\n",
       "      <td>8</td>\n",
       "      <td>2018.04.27</td>\n",
       "      <td>인피니티 워</td>\n",
       "    </tr>\n",
       "    <tr>\n",
       "      <th>4905</th>\n",
       "      <td>근데 귀인으로 재판 올클리어 해서 다시 인간으로 환생 됬는데. 다시 태어나고 보니 ...</td>\n",
       "      <td>8</td>\n",
       "      <td>2018.05.12</td>\n",
       "      <td>신과함께</td>\n",
       "    </tr>\n",
       "    <tr>\n",
       "      <th>1537</th>\n",
       "      <td>영화를 보고 나서 얼이 빠져버렸다. 이 영화로서 결론을 낸 것은 아니지 싶은데 그 ...</td>\n",
       "      <td>9</td>\n",
       "      <td>2018.04.25</td>\n",
       "      <td>인피니티 워</td>\n",
       "    </tr>\n",
       "    <tr>\n",
       "      <th>7669</th>\n",
       "      <td>난 여기에 잼 없고 졸다 왔고 만석이 아니라고 댓글 단 사람들 머하는 사람들인지 잘...</td>\n",
       "      <td>9</td>\n",
       "      <td>2017.12.27</td>\n",
       "      <td>신과함께</td>\n",
       "    </tr>\n",
       "    <tr>\n",
       "      <th>5714</th>\n",
       "      <td>신파 환타지라는 이상한 장르라고 해서 안 보려다가 1300만이 봤다길래 궁금해서 봤...</td>\n",
       "      <td>8</td>\n",
       "      <td>2018.01.18</td>\n",
       "      <td>신과함께</td>\n",
       "    </tr>\n",
       "  </tbody>\n",
       "</table>\n",
       "</div>"
      ],
      "text/plain": [
       "                                                 review  rating        date  \\\n",
       "1225  낚였다! 일반적인 어벤저스 영화임 10주년 기념작이라고 기대하고서 예매 하면 실망....       8  2018.04.27   \n",
       "4905  근데 귀인으로 재판 올클리어 해서 다시 인간으로 환생 됬는데. 다시 태어나고 보니 ...       8  2018.05.12   \n",
       "1537  영화를 보고 나서 얼이 빠져버렸다. 이 영화로서 결론을 낸 것은 아니지 싶은데 그 ...       9  2018.04.25   \n",
       "7669  난 여기에 잼 없고 졸다 왔고 만석이 아니라고 댓글 단 사람들 머하는 사람들인지 잘...       9  2017.12.27   \n",
       "5714  신파 환타지라는 이상한 장르라고 해서 안 보려다가 1300만이 봤다길래 궁금해서 봤...       8  2018.01.18   \n",
       "\n",
       "       title  \n",
       "1225  인피니티 워  \n",
       "4905    신과함께  \n",
       "1537  인피니티 워  \n",
       "7669    신과함께  \n",
       "5714    신과함께  "
      ]
     },
     "execution_count": 46,
     "metadata": {},
     "output_type": "execute_result"
    }
   ],
   "source": [
    "df.loc[data_length.sort_values(ascending=False).index].head()"
   ]
  },
  {
   "cell_type": "code",
   "execution_count": 99,
   "id": "d8d6b9ae-734b-4e0b-82cc-3310f66b3485",
   "metadata": {},
   "outputs": [
    {
     "data": {
      "text/plain": [
       "1    11179\n",
       "0     3546\n",
       "Name: count, dtype: int64"
      ]
     },
     "execution_count": 99,
     "metadata": {},
     "output_type": "execute_result"
    }
   ],
   "source": [
    "X = df[\"review\"]\n",
    "y = [1 if i >= 6 else 0 for i in df[\"rating\"]]\n",
    "pd.Series(y).value_counts()"
   ]
  },
  {
   "cell_type": "code",
   "execution_count": 100,
   "id": "ace845c4-e92f-4fdf-880d-6efc6100e4b4",
   "metadata": {},
   "outputs": [],
   "source": [
    "# lable 대신 rating score가 포함되어 있음\n",
    "# 1~10점으로 구성되어 있음 >> 긍/부정 레이블(target)은 자체 생성해서\n",
    "# 타겟에 대한 레코드 수 확인해서 편향되지 않도록\n",
    "\n",
    "# 23번 네이버 영화 리뷰 긍부정 분석 참고해서 진행"
   ]
  },
  {
   "cell_type": "code",
   "execution_count": 101,
   "id": "a962b83f-0d04-4bfe-baf9-504c48e215d2",
   "metadata": {},
   "outputs": [],
   "source": [
    "import re\n",
    "import json\n",
    "\n",
    "import konlpy\n",
    "from konlpy.tag import Okt\n",
    "from tensorflow.keras.preprocessing.sequence import pad_sequences\n",
    "from tensorflow.keras.preprocessing.text import Tokenizer"
   ]
  },
  {
   "cell_type": "code",
   "execution_count": 102,
   "id": "9c355533-3c28-4ea6-9ca0-b40bbb70bab1",
   "metadata": {},
   "outputs": [],
   "source": [
    "def preprocessing(review, okt, remove_stopwords = False, stop_words =[]):\n",
    "\n",
    "    review_text = re.sub('[^가-힣 ㄱ-ㅎ ㅏ-ㅣ\\\\ㄴ]', ' ', review)\n",
    "    word_review = okt.morphs(review_text, stem=True)\n",
    "\n",
    "    if remove_stopwords :\n",
    "        word_review = [tk for tk in word_review if not tk in stop_words]\n",
    "\n",
    "    return word_review"
   ]
  },
  {
   "cell_type": "code",
   "execution_count": 103,
   "id": "2023983f-a2d2-44ef-b04c-fc13109969e0",
   "metadata": {},
   "outputs": [],
   "source": [
    "stop_words = ['은','는','이','가','하','아','것','들','의','있','되','수','보','주','등','한']\n",
    "okt = Okt()\n",
    "clean_train_review = []"
   ]
  },
  {
   "cell_type": "code",
   "execution_count": 69,
   "id": "4c396bbf-136b-4dab-b8a6-d6358088c1bc",
   "metadata": {},
   "outputs": [],
   "source": []
  },
  {
   "cell_type": "code",
   "execution_count": 105,
   "id": "575728cc-e861-4b97-aab2-b006a70da888",
   "metadata": {},
   "outputs": [
    {
     "name": "stderr",
     "output_type": "stream",
     "text": [
      "100%|████████████████████████████████████████████████████████████████████████████| 14725/14725 [03:31<00:00, 69.70it/s]\n"
     ]
    },
    {
     "data": {
      "text/plain": [
       "[['돈', '들이다', '티', '나', '지만', '보다', '내내', '하품', '만'],\n",
       " ['몰입',\n",
       "  '하다',\n",
       "  '없다',\n",
       "  '어렵다',\n",
       "  '생각',\n",
       "  '하다',\n",
       "  '필요없다',\n",
       "  '내',\n",
       "  '전투',\n",
       "  '에',\n",
       "  '참여',\n",
       "  '듯',\n",
       "  '손',\n",
       "  '에',\n",
       "  '땀',\n",
       "  '이남'],\n",
       " ['이전',\n",
       "  '작품',\n",
       "  '에',\n",
       "  '비다',\n",
       "  '더',\n",
       "  '화려하다',\n",
       "  '스케일',\n",
       "  '도',\n",
       "  '커지다',\n",
       "  '전국',\n",
       "  '맛집',\n",
       "  '음식',\n",
       "  '을',\n",
       "  '한데',\n",
       "  '모으다',\n",
       "  '까지는',\n",
       "  '좋다',\n",
       "  '걸',\n",
       "  '모두',\n",
       "  '하다',\n",
       "  '그릇',\n",
       "  '에',\n",
       "  '섞다',\n",
       "  '버리다',\n",
       "  '듯',\n",
       "  '느낌',\n",
       "  '그래도',\n",
       "  '다음',\n",
       "  '작품',\n",
       "  '을',\n",
       "  '기대하다',\n",
       "  '만들다'],\n",
       " ['정도', '면', '볼', '만', '하다', '하다', '있다']]"
      ]
     },
     "execution_count": 105,
     "metadata": {},
     "output_type": "execute_result"
    }
   ],
   "source": [
    "from tqdm import tqdm\n",
    "\n",
    "for review in tqdm(X):\n",
    "    if type(review) == str:\n",
    "        clean_train_review.append(preprocessing(review, okt, remove_stopwords=True, stop_words=stop_words))\n",
    "    else :\n",
    "        clean_train_review.append([]) # str이 아닌 행을 빈 리스트를 추가\n",
    "\n",
    "clean_train_review[:4]"
   ]
  },
  {
   "cell_type": "code",
   "execution_count": 106,
   "id": "d9152d58-c880-4ae0-8bda-3c23b28415a6",
   "metadata": {},
   "outputs": [],
   "source": [
    "# 인덱스 벡터 변환 후 일정 길이 넘어가거나 모자라는 리뷰 패딩처리\n",
    "tokenizer = Tokenizer()\n",
    "tokenizer.fit_on_texts(clean_train_review) # 학습데이터로 단어 사전을 생성\n",
    "train_sequences = tokenizer.texts_to_sequences(clean_train_review)"
   ]
  },
  {
   "cell_type": "code",
   "execution_count": 86,
   "id": "44a16eb3-e18f-4755-95f6-76484d4a4c21",
   "metadata": {},
   "outputs": [],
   "source": [
    "X = train_sequences.copy()\n"
   ]
  },
  {
   "cell_type": "code",
   "execution_count": 97,
   "id": "027d9c5e-f65f-4367-98e7-78fb5bb33366",
   "metadata": {},
   "outputs": [
    {
     "data": {
      "text/plain": [
       "12859"
      ]
     },
     "execution_count": 97,
     "metadata": {},
     "output_type": "execute_result"
    }
   ],
   "source": [
    "word_vocab = tokenizer.word_index\n",
    "len(word_vocab)\n",
    "MAX_SEQ_LEN = 34"
   ]
  },
  {
   "cell_type": "code",
   "execution_count": null,
   "id": "4b495468-b5cc-4d9a-b4ea-6e3d65466893",
   "metadata": {},
   "outputs": [],
   "source": []
  },
  {
   "cell_type": "code",
   "execution_count": 90,
   "id": "7fd2aff7-7881-441c-aa54-da32d88fefa2",
   "metadata": {},
   "outputs": [],
   "source": [
    "train_inputs = pad_sequences(train_sequences, maxlen = MAX_SEQ_LEN, padding= \"post\")\n",
    "train_labels = np.array(y)"
   ]
  },
  {
   "cell_type": "code",
   "execution_count": 96,
   "id": "139168cc-7271-441b-a214-782cf5fd3a80",
   "metadata": {},
   "outputs": [
    {
     "data": {
      "text/plain": [
       "array([ 46, 213,  11,   0,   0,   0,   0,   0,   0,   0,   0,   0,   0,\n",
       "         0,   0,   0,   0,   0,   0,   0,   0,   0,   0,   0,   0,   0,\n",
       "         0,   0,   0,   0,   0,   0,   0,   0,   0,   0,   0,   0,   0,\n",
       "         0,   0,   0,   0,   0,   0,   0,   0,   0,   0,   0], dtype=int32)"
      ]
     },
     "execution_count": 96,
     "metadata": {},
     "output_type": "execute_result"
    },
    {
     "data": {
      "text/plain": [
       "array([0, 1, 1, 1, 1, 1, 0, 1, 1, 1])"
      ]
     },
     "execution_count": 96,
     "metadata": {},
     "output_type": "execute_result"
    }
   ],
   "source": [
    "train_inputs[6]\n",
    "train_labels[:10]"
   ]
  },
  {
   "cell_type": "code",
   "execution_count": null,
   "id": "5a365cb2-d830-472c-8633-8ab2267514c1",
   "metadata": {},
   "outputs": [],
   "source": []
  }
 ],
 "metadata": {
  "kernelspec": {
   "display_name": "Python 3 (ipykernel)",
   "language": "python",
   "name": "python3"
  },
  "language_info": {
   "codemirror_mode": {
    "name": "ipython",
    "version": 3
   },
   "file_extension": ".py",
   "mimetype": "text/x-python",
   "name": "python",
   "nbconvert_exporter": "python",
   "pygments_lexer": "ipython3",
   "version": "3.12.9"
  }
 },
 "nbformat": 4,
 "nbformat_minor": 5
}
