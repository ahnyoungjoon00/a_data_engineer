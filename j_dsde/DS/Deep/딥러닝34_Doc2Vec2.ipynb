{
 "cells": [
  {
   "cell_type": "code",
   "execution_count": 1,
   "id": "c426d44e",
   "metadata": {},
   "outputs": [],
   "source": [
    "# 한 셀에서 여려 결과 출력\n",
    "from IPython.core.interactiveshell import InteractiveShell\n",
    "InteractiveShell.ast_node_interactivity=\"all\""
   ]
  },
  {
   "cell_type": "code",
   "execution_count": 3,
   "id": "79340f3b-5ff8-423e-b7d4-397db703a28c",
   "metadata": {},
   "outputs": [
    {
     "data": {
      "text/html": [
       "<div>\n",
       "<style scoped>\n",
       "    .dataframe tbody tr th:only-of-type {\n",
       "        vertical-align: middle;\n",
       "    }\n",
       "\n",
       "    .dataframe tbody tr th {\n",
       "        vertical-align: top;\n",
       "    }\n",
       "\n",
       "    .dataframe thead th {\n",
       "        text-align: right;\n",
       "    }\n",
       "</style>\n",
       "<table border=\"1\" class=\"dataframe\">\n",
       "  <thead>\n",
       "    <tr style=\"text-align: right;\">\n",
       "      <th></th>\n",
       "      <th>Unnamed: 0.1</th>\n",
       "      <th>Desc</th>\n",
       "      <th>Unnamed: 0</th>\n",
       "      <th>author</th>\n",
       "      <th>genre</th>\n",
       "      <th>image_link</th>\n",
       "      <th>rating</th>\n",
       "      <th>title</th>\n",
       "    </tr>\n",
       "  </thead>\n",
       "  <tbody>\n",
       "    <tr>\n",
       "      <th>0</th>\n",
       "      <td>0</td>\n",
       "      <td>We know that power is shifting: From West to E...</td>\n",
       "      <td>0.0</td>\n",
       "      <td>Moisés Naím</td>\n",
       "      <td>Business</td>\n",
       "      <td>https://i.gr-assets.com/images/S/compressed.ph...</td>\n",
       "      <td>3.63</td>\n",
       "      <td>The End of Power: From Boardrooms to Battlefie...</td>\n",
       "    </tr>\n",
       "    <tr>\n",
       "      <th>1</th>\n",
       "      <td>1</td>\n",
       "      <td>Following the success of The Accidental Billio...</td>\n",
       "      <td>1.0</td>\n",
       "      <td>Blake J. Harris</td>\n",
       "      <td>Business</td>\n",
       "      <td>https://i.gr-assets.com/images/S/compressed.ph...</td>\n",
       "      <td>3.94</td>\n",
       "      <td>Console Wars: Sega, Nintendo, and the Battle t...</td>\n",
       "    </tr>\n",
       "    <tr>\n",
       "      <th>2</th>\n",
       "      <td>2</td>\n",
       "      <td>How to tap the power of social software and ne...</td>\n",
       "      <td>2.0</td>\n",
       "      <td>Chris Brogan</td>\n",
       "      <td>Business</td>\n",
       "      <td>https://i.gr-assets.com/images/S/compressed.ph...</td>\n",
       "      <td>3.78</td>\n",
       "      <td>Trust Agents: Using the Web to Build Influence...</td>\n",
       "    </tr>\n",
       "    <tr>\n",
       "      <th>3</th>\n",
       "      <td>3</td>\n",
       "      <td>William J. Bernstein is an American financial ...</td>\n",
       "      <td>3.0</td>\n",
       "      <td>William J. Bernstein</td>\n",
       "      <td>Business</td>\n",
       "      <td>https://i.gr-assets.com/images/S/compressed.ph...</td>\n",
       "      <td>4.20</td>\n",
       "      <td>The Four Pillars of Investing</td>\n",
       "    </tr>\n",
       "    <tr>\n",
       "      <th>4</th>\n",
       "      <td>4</td>\n",
       "      <td>Amazing book. And I joined Steve Jobs and many...</td>\n",
       "      <td>4.0</td>\n",
       "      <td>Akio Morita</td>\n",
       "      <td>Business</td>\n",
       "      <td>https://i.gr-assets.com/images/S/compressed.ph...</td>\n",
       "      <td>4.05</td>\n",
       "      <td>Made in Japan: Akio Morita and Sony</td>\n",
       "    </tr>\n",
       "  </tbody>\n",
       "</table>\n",
       "</div>"
      ],
      "text/plain": [
       "   Unnamed: 0.1                                               Desc  \\\n",
       "0             0  We know that power is shifting: From West to E...   \n",
       "1             1  Following the success of The Accidental Billio...   \n",
       "2             2  How to tap the power of social software and ne...   \n",
       "3             3  William J. Bernstein is an American financial ...   \n",
       "4             4  Amazing book. And I joined Steve Jobs and many...   \n",
       "\n",
       "   Unnamed: 0                author     genre  \\\n",
       "0         0.0           Moisés Naím  Business   \n",
       "1         1.0       Blake J. Harris  Business   \n",
       "2         2.0          Chris Brogan  Business   \n",
       "3         3.0  William J. Bernstein  Business   \n",
       "4         4.0           Akio Morita  Business   \n",
       "\n",
       "                                          image_link  rating  \\\n",
       "0  https://i.gr-assets.com/images/S/compressed.ph...    3.63   \n",
       "1  https://i.gr-assets.com/images/S/compressed.ph...    3.94   \n",
       "2  https://i.gr-assets.com/images/S/compressed.ph...    3.78   \n",
       "3  https://i.gr-assets.com/images/S/compressed.ph...    4.20   \n",
       "4  https://i.gr-assets.com/images/S/compressed.ph...    4.05   \n",
       "\n",
       "                                               title  \n",
       "0  The End of Power: From Boardrooms to Battlefie...  \n",
       "1  Console Wars: Sega, Nintendo, and the Battle t...  \n",
       "2  Trust Agents: Using the Web to Build Influence...  \n",
       "3                      The Four Pillars of Investing  \n",
       "4                Made in Japan: Akio Morita and Sony  "
      ]
     },
     "execution_count": 3,
     "metadata": {},
     "output_type": "execute_result"
    }
   ],
   "source": [
    "import pandas as pd\n",
    "df = pd.read_csv(\"./data/0307/data.csv\")\n",
    "df.head()"
   ]
  },
  {
   "cell_type": "code",
   "execution_count": 4,
   "id": "64470e8b-da26-43b4-a622-067ad3ecb353",
   "metadata": {},
   "outputs": [],
   "source": [
    "from nltk.tokenize import RegexpTokenizer\n",
    "from nltk.corpus import stopwords\n",
    "import re"
   ]
  },
  {
   "cell_type": "code",
   "execution_count": 5,
   "id": "45cd19eb-c2a5-4be8-adca-868eec4ea259",
   "metadata": {},
   "outputs": [],
   "source": [
    "# 아스키 문자 아니면 제거  \n",
    "def _removeNonAscii(s):\n",
    "    return \"\".join(i for i in s if  ord(i)<128) # chr(128) : '\\x80'\n",
    "\n",
    "def make_lower_case(text):\n",
    "    return text.lower()\n",
    "\n",
    "def remove_stop_words(text):\n",
    "    text = text.split()\n",
    "    stops = set(stopwords.words(\"english\"))\n",
    "    text = [w for w in text if not w in stops]\n",
    "    text = \" \".join(text)\n",
    "    return text\n",
    "\n",
    "def remove_html(text):\n",
    "    html_pattern = re.compile('<.*?>')\n",
    "    return html_pattern.sub(r'', text)\n",
    "\n",
    "def remove_punctuation(text):\n",
    "    tokenizer = RegexpTokenizer(r'[a-zA-Z]+')\n",
    "    text = tokenizer.tokenize(text)\n",
    "    text = \" \".join(text)\n",
    "    return text\n",
    "\n",
    "df['cleaned'] = df['Desc'].apply(_removeNonAscii)\n",
    "df['cleaned'] = df.cleaned.apply(make_lower_case)\n",
    "df['cleaned'] = df.cleaned.apply(remove_stop_words)\n",
    "df['cleaned'] = df.cleaned.apply(remove_punctuation)\n",
    "df['cleaned'] = df.cleaned.apply(remove_html)\n"
   ]
  },
  {
   "cell_type": "code",
   "execution_count": 6,
   "id": "b9383a7d-092e-4115-98ca-53fb717608aa",
   "metadata": {},
   "outputs": [
    {
     "data": {
      "text/html": [
       "<div>\n",
       "<style scoped>\n",
       "    .dataframe tbody tr th:only-of-type {\n",
       "        vertical-align: middle;\n",
       "    }\n",
       "\n",
       "    .dataframe tbody tr th {\n",
       "        vertical-align: top;\n",
       "    }\n",
       "\n",
       "    .dataframe thead th {\n",
       "        text-align: right;\n",
       "    }\n",
       "</style>\n",
       "<table border=\"1\" class=\"dataframe\">\n",
       "  <thead>\n",
       "    <tr style=\"text-align: right;\">\n",
       "      <th></th>\n",
       "      <th>Unnamed: 0.1</th>\n",
       "      <th>Desc</th>\n",
       "      <th>Unnamed: 0</th>\n",
       "      <th>author</th>\n",
       "      <th>genre</th>\n",
       "      <th>image_link</th>\n",
       "      <th>rating</th>\n",
       "      <th>title</th>\n",
       "      <th>cleaned</th>\n",
       "      <th>title_lower</th>\n",
       "    </tr>\n",
       "  </thead>\n",
       "  <tbody>\n",
       "    <tr>\n",
       "      <th>0</th>\n",
       "      <td>0</td>\n",
       "      <td>We know that power is shifting: From West to E...</td>\n",
       "      <td>0.0</td>\n",
       "      <td>Moisés Naím</td>\n",
       "      <td>Business</td>\n",
       "      <td>https://i.gr-assets.com/images/S/compressed.ph...</td>\n",
       "      <td>3.63</td>\n",
       "      <td>The End of Power: From Boardrooms to Battlefie...</td>\n",
       "      <td>know power shifting west east north south pres...</td>\n",
       "      <td>the end of power: from boardrooms to battlefie...</td>\n",
       "    </tr>\n",
       "  </tbody>\n",
       "</table>\n",
       "</div>"
      ],
      "text/plain": [
       "   Unnamed: 0.1                                               Desc  \\\n",
       "0             0  We know that power is shifting: From West to E...   \n",
       "\n",
       "   Unnamed: 0       author     genre  \\\n",
       "0         0.0  Moisés Naím  Business   \n",
       "\n",
       "                                          image_link  rating  \\\n",
       "0  https://i.gr-assets.com/images/S/compressed.ph...    3.63   \n",
       "\n",
       "                                               title  \\\n",
       "0  The End of Power: From Boardrooms to Battlefie...   \n",
       "\n",
       "                                             cleaned  \\\n",
       "0  know power shifting west east north south pres...   \n",
       "\n",
       "                                         title_lower  \n",
       "0  the end of power: from boardrooms to battlefie...  "
      ]
     },
     "execution_count": 6,
     "metadata": {},
     "output_type": "execute_result"
    }
   ],
   "source": [
    "# 위에서 생성한 함수\n",
    "#def make_lower_case(text):\n",
    "#    return text.lower()\n",
    "df[\"title_lower\"] = df[\"title\"].apply(make_lower_case)\n",
    "\n",
    "df.head(1)"
   ]
  },
  {
   "cell_type": "code",
   "execution_count": 7,
   "id": "274ea6f6-fdf1-41e7-b23a-705f7109097a",
   "metadata": {},
   "outputs": [
    {
     "data": {
      "text/plain": [
       "0    the end of power: from boardrooms to battlefie...\n",
       "1    console wars: sega, nintendo, and the battle t...\n",
       "2    trust agents: using the web to build influence...\n",
       "3                        the four pillars of investing\n",
       "4                  made in japan: akio morita and sony\n",
       "Name: title_lower, dtype: object"
      ]
     },
     "execution_count": 7,
     "metadata": {},
     "output_type": "execute_result"
    }
   ],
   "source": [
    "df['title_lower'][:5]"
   ]
  },
  {
   "cell_type": "code",
   "execution_count": 8,
   "id": "4bee4350-1b6c-43b8-8311-50bb4d9e9ebc",
   "metadata": {},
   "outputs": [],
   "source": [
    "from gensim.models.doc2vec import TaggedDocument\n",
    "from konlpy.tag import Okt\n",
    "okt = Okt()"
   ]
  },
  {
   "cell_type": "code",
   "execution_count": 10,
   "id": "8df764f4-17c7-45fe-a3cc-0b60e8bfaab5",
   "metadata": {},
   "outputs": [
    {
     "name": "stderr",
     "output_type": "stream",
     "text": [
      "100%|█████████████████████████████████| 2382/2382 [00:06<00:00, 341.92it/s]"
     ]
    },
    {
     "name": "stdout",
     "output_type": "stream",
     "text": [
      "문서의 수 : 2382\n",
      "CPU times: total: 8.23 s\n",
      "Wall time: 6.97 s\n"
     ]
    },
    {
     "name": "stderr",
     "output_type": "stream",
     "text": [
      "\n"
     ]
    }
   ],
   "source": [
    "%%time\n",
    "from tqdm import tqdm\n",
    "\n",
    "tagged_corpus_list = []\n",
    "\n",
    "for index, row in tqdm(df.iterrows(), total=len(df)):\n",
    "    text = row[\"cleaned\"]\n",
    "    tag=row[\"title_lower\"] # 소문자로 이루어진 제목\n",
    "    tagged_corpus_list.append(TaggedDocument(tags=[tag], words=okt.morphs(text))) # 도서 각 줄거리에 제목이 tag로 포함된 data\n",
    "    \n",
    "print('문서의 수 :', len(tagged_corpus_list))"
   ]
  },
  {
   "cell_type": "code",
   "execution_count": 11,
   "id": "90f6b8e7-70e9-452a-b9f3-85fc27ced3c7",
   "metadata": {},
   "outputs": [],
   "source": [
    "from gensim.models import Doc2Vec\n",
    "model2 = Doc2Vec(vector_size=300, workers=8, window=8)"
   ]
  },
  {
   "cell_type": "code",
   "execution_count": 12,
   "id": "124c6db6-4d55-4b26-af4c-d9fe61b5c5a4",
   "metadata": {},
   "outputs": [],
   "source": [
    "# Vocabulary 빌드\n",
    "model2.build_vocab(tagged_corpus_list)\n",
    "\n",
    "# Doc2Vec 학습\n",
    "model2.train(tagged_corpus_list, total_examples=model2.corpus_count, epochs=20)"
   ]
  },
  {
   "cell_type": "code",
   "execution_count": 14,
   "id": "e5bb1a34",
   "metadata": {},
   "outputs": [
    {
     "ename": "KeyError",
     "evalue": "\"Key 'the Murder of Roger ackroyd' not present in vocabulary\"",
     "output_type": "error",
     "traceback": [
      "\u001b[1;31m---------------------------------------------------------------------------\u001b[0m",
      "\u001b[1;31mKeyError\u001b[0m                                  Traceback (most recent call last)",
      "Cell \u001b[1;32mIn[14], line 2\u001b[0m\n\u001b[0;32m      1\u001b[0m title \u001b[38;5;241m=\u001b[39m \u001b[38;5;124m\"\u001b[39m\u001b[38;5;124mthe Murder of Roger ackroyd\u001b[39m\u001b[38;5;124m\"\u001b[39m\n\u001b[1;32m----> 2\u001b[0m model2\u001b[38;5;241m.\u001b[39mdv\u001b[38;5;241m.\u001b[39mmost_similar(title)\n",
      "File \u001b[1;32m~\\anaconda3\\envs\\DLenv\\Lib\\site-packages\\gensim\\models\\keyedvectors.py:841\u001b[0m, in \u001b[0;36mKeyedVectors.most_similar\u001b[1;34m(self, positive, negative, topn, clip_start, clip_end, restrict_vocab, indexer)\u001b[0m\n\u001b[0;32m    838\u001b[0m         weight[idx] \u001b[38;5;241m=\u001b[39m item[\u001b[38;5;241m1\u001b[39m]\n\u001b[0;32m    840\u001b[0m \u001b[38;5;66;03m# compute the weighted average of all keys\u001b[39;00m\n\u001b[1;32m--> 841\u001b[0m mean \u001b[38;5;241m=\u001b[39m \u001b[38;5;28mself\u001b[39m\u001b[38;5;241m.\u001b[39mget_mean_vector(keys, weight, pre_normalize\u001b[38;5;241m=\u001b[39m\u001b[38;5;28;01mTrue\u001b[39;00m, post_normalize\u001b[38;5;241m=\u001b[39m\u001b[38;5;28;01mTrue\u001b[39;00m, ignore_missing\u001b[38;5;241m=\u001b[39m\u001b[38;5;28;01mFalse\u001b[39;00m)\n\u001b[0;32m    842\u001b[0m all_keys \u001b[38;5;241m=\u001b[39m [\n\u001b[0;32m    843\u001b[0m     \u001b[38;5;28mself\u001b[39m\u001b[38;5;241m.\u001b[39mget_index(key) \u001b[38;5;28;01mfor\u001b[39;00m key \u001b[38;5;129;01min\u001b[39;00m keys \u001b[38;5;28;01mif\u001b[39;00m \u001b[38;5;28misinstance\u001b[39m(key, _KEY_TYPES) \u001b[38;5;129;01mand\u001b[39;00m \u001b[38;5;28mself\u001b[39m\u001b[38;5;241m.\u001b[39mhas_index_for(key)\n\u001b[0;32m    844\u001b[0m ]\n\u001b[0;32m    846\u001b[0m \u001b[38;5;28;01mif\u001b[39;00m indexer \u001b[38;5;129;01mis\u001b[39;00m \u001b[38;5;129;01mnot\u001b[39;00m \u001b[38;5;28;01mNone\u001b[39;00m \u001b[38;5;129;01mand\u001b[39;00m \u001b[38;5;28misinstance\u001b[39m(topn, \u001b[38;5;28mint\u001b[39m):\n",
      "File \u001b[1;32m~\\anaconda3\\envs\\DLenv\\Lib\\site-packages\\gensim\\models\\keyedvectors.py:518\u001b[0m, in \u001b[0;36mKeyedVectors.get_mean_vector\u001b[1;34m(self, keys, weights, pre_normalize, post_normalize, ignore_missing)\u001b[0m\n\u001b[0;32m    516\u001b[0m         total_weight \u001b[38;5;241m+\u001b[39m\u001b[38;5;241m=\u001b[39m \u001b[38;5;28mabs\u001b[39m(weights[idx])\n\u001b[0;32m    517\u001b[0m     \u001b[38;5;28;01melif\u001b[39;00m \u001b[38;5;129;01mnot\u001b[39;00m ignore_missing:\n\u001b[1;32m--> 518\u001b[0m         \u001b[38;5;28;01mraise\u001b[39;00m \u001b[38;5;167;01mKeyError\u001b[39;00m(\u001b[38;5;124mf\u001b[39m\u001b[38;5;124m\"\u001b[39m\u001b[38;5;124mKey \u001b[39m\u001b[38;5;124m'\u001b[39m\u001b[38;5;132;01m{\u001b[39;00mkey\u001b[38;5;132;01m}\u001b[39;00m\u001b[38;5;124m'\u001b[39m\u001b[38;5;124m not present in vocabulary\u001b[39m\u001b[38;5;124m\"\u001b[39m)\n\u001b[0;32m    520\u001b[0m \u001b[38;5;28;01mif\u001b[39;00m total_weight \u001b[38;5;241m>\u001b[39m \u001b[38;5;241m0\u001b[39m:\n\u001b[0;32m    521\u001b[0m     mean \u001b[38;5;241m=\u001b[39m mean \u001b[38;5;241m/\u001b[39m total_weight\n",
      "\u001b[1;31mKeyError\u001b[0m: \"Key 'the Murder of Roger ackroyd' not present in vocabulary\""
     ]
    }
   ],
   "source": [
    "title = \"the Murder of Roger ackroyd\"\n",
    "model2.dv.most_similar(title) # 대문자가 들어가면서 에러값 "
   ]
  },
  {
   "cell_type": "code",
   "execution_count": null,
   "id": "8283567d",
   "metadata": {},
   "outputs": [],
   "source": []
  },
  {
   "cell_type": "code",
   "execution_count": 15,
   "id": "1ba80bba-cfcd-4ea5-96d9-041ba3c071d2",
   "metadata": {},
   "outputs": [],
   "source": [
    "def book_recommend(title):\n",
    "    try:\n",
    "        for similar_doc in model2.dv.most_similar(title.lower()):\n",
    "            # print(similar_doc) # 제목, 유사도\n",
    "            print(df[df['title_lower']==similar_doc[0]].title.values[0]) # 제목만 추출\n",
    "    except:\n",
    "        print(f\"입력하신 도서 '{title}'에 대한 정보를 찾을 수 없습니다.\")"
   ]
  },
  {
   "cell_type": "code",
   "execution_count": 18,
   "id": "2874fd9f-6bdd-441d-964a-1b877a8b86e8",
   "metadata": {},
   "outputs": [
    {
     "name": "stdin",
     "output_type": "stream",
     "text": [
      "도서 제목 입력 :  the Murder of Roger ackroyd\n"
     ]
    },
    {
     "name": "stdout",
     "output_type": "stream",
     "text": [
      "The Eyes of the Dragon\n",
      "Equal Rites\n",
      "Still Life\n",
      "The Maltese Falcon\n",
      "Crime and Punishment\n",
      "Miss Peregrine's Home for Peculiar Children\n",
      "The Girls\n",
      "The Lightning Thief\n",
      "The Woman in Cabin 10\n",
      "Murder at the Vicarage\n"
     ]
    }
   ],
   "source": [
    "title = input('도서 제목 입력 : ') #the da vinci code\n",
    "book_recommend(title)"
   ]
  },
  {
   "cell_type": "code",
   "execution_count": 17,
   "id": "ab53fab8-c73d-4795-b621-1c0275d356e9",
   "metadata": {},
   "outputs": [
    {
     "name": "stdin",
     "output_type": "stream",
     "text": [
      "도서 제목 입력 :  The Da Vinci Code\n"
     ]
    },
    {
     "name": "stdout",
     "output_type": "stream",
     "text": [
      "Watership Down\n",
      "The Girl with the Dragon Tattoo\n",
      "The Story of Edgar Sawtelle\n",
      "The Two Towers\n",
      "Inferno\n",
      "Origin\n",
      "The Woman in White\n",
      "Snow\n",
      "A Discovery of Witches\n",
      "Madame Bovary\n"
     ]
    }
   ],
   "source": [
    "title = input('도서 제목 입력 : ') # The Da Vinci Code\n",
    "book_recommend(title)"
   ]
  },
  {
   "cell_type": "code",
   "execution_count": null,
   "id": "7ca7eb24-b4e2-4b76-ba77-abe422116e90",
   "metadata": {},
   "outputs": [],
   "source": []
  }
 ],
 "metadata": {
  "kernelspec": {
   "display_name": "DL_ENV",
   "language": "python",
   "name": "dlenv"
  },
  "language_info": {
   "codemirror_mode": {
    "name": "ipython",
    "version": 3
   },
   "file_extension": ".py",
   "mimetype": "text/x-python",
   "name": "python",
   "nbconvert_exporter": "python",
   "pygments_lexer": "ipython3",
   "version": "3.12.9"
  }
 },
 "nbformat": 4,
 "nbformat_minor": 5
}
