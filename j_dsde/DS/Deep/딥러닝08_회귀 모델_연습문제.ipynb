{
 "cells": [
  {
   "cell_type": "markdown",
   "id": "dced8c1e",
   "metadata": {},
   "source": [
    "## 회귀 모델 연습문제"
   ]
  },
  {
   "cell_type": "markdown",
   "id": "4c5a2c72",
   "metadata": {},
   "source": [
    "### 회귀 모델 예측 작업\n",
    "- 아래 프로세스로 모델링 진행\n",
    "- (1) 데이터 준비 : 보스턴 주택 가격 데이터 : boston_dataset.csv\n",
    "- (2) 전처리 : 피처 스케일링 수행  \n",
    "- (3) 모델링   \n",
    "      - 회귀 모델   \n",
    "      - loss='mean_squared_error'  \n",
    "      - metrics=['mean_absolute_error']  \n",
    "      - loss, mean_absolute_error = model.evaluate(X_test, y_test)    \n",
    "- (4) 실제가격과 예측가격 비교 : 20건 (실체 수치로 비교)\n",
    "- (5) 모델 저장 / 불러오기 \n",
    "- (6) 시각화 "
   ]
  },
  {
   "cell_type": "code",
   "execution_count": 1,
   "id": "2db6a54a-79ac-4ad7-8e5b-bc91de758ba4",
   "metadata": {},
   "outputs": [],
   "source": [
    "from IPython.core.interactiveshell import InteractiveShell\n",
    "InteractiveShell.ast_node_interactivity=\"all\""
   ]
  },
  {
   "cell_type": "code",
   "execution_count": 2,
   "id": "24be59b2-de55-4416-badf-bc896fb5c8b8",
   "metadata": {},
   "outputs": [],
   "source": [
    "import numpy as np\n",
    "import pandas as pd\n",
    "import seaborn as sns\n",
    "import matplotlib.pyplot as plt\n",
    "%matplotlib inline"
   ]
  },
  {
   "cell_type": "code",
   "execution_count": 3,
   "id": "5c0f511b-23fe-40db-8c10-25ac8c6a0781",
   "metadata": {},
   "outputs": [],
   "source": [
    "import tensorflow as tf\n",
    "from tensorflow.keras.models import Sequential\n",
    "from tensorflow.keras.layers import Dense\n",
    "from tensorflow.keras.models import load_model\n",
    "from keras.utils import to_categorical"
   ]
  },
  {
   "cell_type": "code",
   "execution_count": 4,
   "id": "f38a34ca-8bbb-4d80-bebb-3a3c1fe7fa41",
   "metadata": {},
   "outputs": [],
   "source": [
    "from sklearn.model_selection import train_test_split\n",
    "from sklearn.preprocessing import StandardScaler\n",
    "from sklearn.metrics import mean_squared_error, r2_score"
   ]
  },
  {
   "cell_type": "markdown",
   "id": "ec87aa2e-5a4f-4d83-ab1e-26b8acacd5bc",
   "metadata": {},
   "source": [
    "### (1) 데이터 로드"
   ]
  },
  {
   "cell_type": "code",
   "execution_count": 5,
   "id": "de8fe2a5-1a14-439d-b446-a7b649acca77",
   "metadata": {},
   "outputs": [
    {
     "data": {
      "text/html": [
       "<div>\n",
       "<style scoped>\n",
       "    .dataframe tbody tr th:only-of-type {\n",
       "        vertical-align: middle;\n",
       "    }\n",
       "\n",
       "    .dataframe tbody tr th {\n",
       "        vertical-align: top;\n",
       "    }\n",
       "\n",
       "    .dataframe thead th {\n",
       "        text-align: right;\n",
       "    }\n",
       "</style>\n",
       "<table border=\"1\" class=\"dataframe\">\n",
       "  <thead>\n",
       "    <tr style=\"text-align: right;\">\n",
       "      <th></th>\n",
       "      <th>CRIM</th>\n",
       "      <th>ZN</th>\n",
       "      <th>INDUS</th>\n",
       "      <th>CHAS</th>\n",
       "      <th>NOX</th>\n",
       "      <th>RM</th>\n",
       "      <th>AGE</th>\n",
       "      <th>DIS</th>\n",
       "      <th>RAD</th>\n",
       "      <th>TAX</th>\n",
       "      <th>PTRATIO</th>\n",
       "      <th>B</th>\n",
       "      <th>LSTAT</th>\n",
       "      <th>PRICE</th>\n",
       "    </tr>\n",
       "  </thead>\n",
       "  <tbody>\n",
       "    <tr>\n",
       "      <th>0</th>\n",
       "      <td>0.00632</td>\n",
       "      <td>18.0</td>\n",
       "      <td>2.31</td>\n",
       "      <td>0</td>\n",
       "      <td>0.538</td>\n",
       "      <td>6.575</td>\n",
       "      <td>65.2</td>\n",
       "      <td>4.09</td>\n",
       "      <td>1</td>\n",
       "      <td>296</td>\n",
       "      <td>15.3</td>\n",
       "      <td>396.9</td>\n",
       "      <td>4.98</td>\n",
       "      <td>24.0</td>\n",
       "    </tr>\n",
       "  </tbody>\n",
       "</table>\n",
       "</div>"
      ],
      "text/plain": [
       "      CRIM    ZN  INDUS  CHAS    NOX     RM   AGE   DIS  RAD  TAX  PTRATIO  \\\n",
       "0  0.00632  18.0   2.31     0  0.538  6.575  65.2  4.09    1  296     15.3   \n",
       "\n",
       "       B  LSTAT  PRICE  \n",
       "0  396.9   4.98   24.0  "
      ]
     },
     "execution_count": 5,
     "metadata": {},
     "output_type": "execute_result"
    },
    {
     "data": {
      "text/html": [
       "<div>\n",
       "<style scoped>\n",
       "    .dataframe tbody tr th:only-of-type {\n",
       "        vertical-align: middle;\n",
       "    }\n",
       "\n",
       "    .dataframe tbody tr th {\n",
       "        vertical-align: top;\n",
       "    }\n",
       "\n",
       "    .dataframe thead th {\n",
       "        text-align: right;\n",
       "    }\n",
       "</style>\n",
       "<table border=\"1\" class=\"dataframe\">\n",
       "  <thead>\n",
       "    <tr style=\"text-align: right;\">\n",
       "      <th></th>\n",
       "      <th>CRIM</th>\n",
       "      <th>ZN</th>\n",
       "      <th>INDUS</th>\n",
       "      <th>CHAS</th>\n",
       "      <th>NOX</th>\n",
       "      <th>RM</th>\n",
       "      <th>AGE</th>\n",
       "      <th>DIS</th>\n",
       "      <th>RAD</th>\n",
       "      <th>TAX</th>\n",
       "      <th>PTRATIO</th>\n",
       "      <th>B</th>\n",
       "      <th>LSTAT</th>\n",
       "      <th>PRICE</th>\n",
       "    </tr>\n",
       "  </thead>\n",
       "  <tbody>\n",
       "    <tr>\n",
       "      <th>505</th>\n",
       "      <td>0.04741</td>\n",
       "      <td>0.0</td>\n",
       "      <td>11.93</td>\n",
       "      <td>0</td>\n",
       "      <td>0.573</td>\n",
       "      <td>6.03</td>\n",
       "      <td>80.8</td>\n",
       "      <td>2.505</td>\n",
       "      <td>1</td>\n",
       "      <td>273</td>\n",
       "      <td>21.0</td>\n",
       "      <td>396.9</td>\n",
       "      <td>7.88</td>\n",
       "      <td>11.9</td>\n",
       "    </tr>\n",
       "  </tbody>\n",
       "</table>\n",
       "</div>"
      ],
      "text/plain": [
       "        CRIM   ZN  INDUS  CHAS    NOX    RM   AGE    DIS  RAD  TAX  PTRATIO  \\\n",
       "505  0.04741  0.0  11.93     0  0.573  6.03  80.8  2.505    1  273     21.0   \n",
       "\n",
       "         B  LSTAT  PRICE  \n",
       "505  396.9   7.88   11.9  "
      ]
     },
     "execution_count": 5,
     "metadata": {},
     "output_type": "execute_result"
    }
   ],
   "source": [
    "boston_df = df_pop = pd.read_csv('./data/boston_dataset.csv', index_col=0) \n",
    "boston_df.head(1)\n",
    "boston_df.tail(1)"
   ]
  },
  {
   "cell_type": "code",
   "execution_count": 6,
   "id": "cc94d852-3dfe-46d2-af97-d0a9694ccd79",
   "metadata": {},
   "outputs": [
    {
     "name": "stdout",
     "output_type": "stream",
     "text": [
      "<class 'pandas.core.frame.DataFrame'>\n",
      "Index: 506 entries, 0 to 505\n",
      "Data columns (total 14 columns):\n",
      " #   Column   Non-Null Count  Dtype  \n",
      "---  ------   --------------  -----  \n",
      " 0   CRIM     506 non-null    float64\n",
      " 1   ZN       506 non-null    float64\n",
      " 2   INDUS    506 non-null    float64\n",
      " 3   CHAS     506 non-null    int64  \n",
      " 4   NOX      506 non-null    float64\n",
      " 5   RM       506 non-null    float64\n",
      " 6   AGE      506 non-null    float64\n",
      " 7   DIS      506 non-null    float64\n",
      " 8   RAD      506 non-null    int64  \n",
      " 9   TAX      506 non-null    int64  \n",
      " 10  PTRATIO  506 non-null    float64\n",
      " 11  B        506 non-null    float64\n",
      " 12  LSTAT    506 non-null    float64\n",
      " 13  PRICE    506 non-null    float64\n",
      "dtypes: float64(11), int64(3)\n",
      "memory usage: 59.3 KB\n"
     ]
    }
   ],
   "source": [
    "boston_df.info()"
   ]
  },
  {
   "cell_type": "markdown",
   "id": "ad1c7a0f-0085-471a-8bd2-cd55f0650e40",
   "metadata": {},
   "source": [
    "### (2) 피처 / 타깃 설정 "
   ]
  },
  {
   "cell_type": "code",
   "execution_count": 7,
   "id": "207ad1ce-1000-4b30-b50c-9753885edb46",
   "metadata": {},
   "outputs": [],
   "source": [
    "# 타깃값 데이터 세트\n",
    "target = boston_df['PRICE']\n",
    "# 피처값 데이터 세트\n",
    "features = boston_df.drop('PRICE', axis=1)"
   ]
  },
  {
   "cell_type": "code",
   "execution_count": null,
   "id": "88e2e23b-6a86-4092-a1ff-dfadd535e264",
   "metadata": {},
   "outputs": [],
   "source": []
  },
  {
   "cell_type": "markdown",
   "id": "a7c4ba04-c3f5-4b77-9165-7c74e34cb008",
   "metadata": {},
   "source": [
    "### (3) 피처 스케일링 "
   ]
  },
  {
   "cell_type": "code",
   "execution_count": 8,
   "id": "4ee129f0-636c-4c83-9afb-583dae13cf3d",
   "metadata": {},
   "outputs": [],
   "source": [
    "scaler = StandardScaler()\n",
    "features_sc = scaler.fit_transform(features)"
   ]
  },
  {
   "cell_type": "markdown",
   "id": "a78c3ae0-ef38-4dfc-8163-316895e856d1",
   "metadata": {},
   "source": [
    "### (4) 훈련 / 테스트 데이터셋 분리"
   ]
  },
  {
   "cell_type": "code",
   "execution_count": 9,
   "id": "a12052e7-4658-4add-9e1b-ff8eab5e6892",
   "metadata": {},
   "outputs": [],
   "source": [
    "\n",
    "X_train , X_test , y_train , y_test = train_test_split(features_sc,\n",
    "                                                       target,\n",
    "                                                       test_size=0.3, \n",
    "                                                       random_state=156)"
   ]
  },
  {
   "cell_type": "code",
   "execution_count": null,
   "id": "967b0aa0-2962-43dc-b94a-d818c9e97206",
   "metadata": {},
   "outputs": [],
   "source": []
  },
  {
   "cell_type": "markdown",
   "id": "06371f7a-7bec-4d8a-82f2-4b4b3b88decd",
   "metadata": {},
   "source": [
    "### (4) 모델 생성 / 평가 "
   ]
  },
  {
   "cell_type": "code",
   "execution_count": 16,
   "id": "d9e15908-08eb-4526-8f92-995de2e8fcd6",
   "metadata": {
    "scrolled": true
   },
   "outputs": [
    {
     "name": "stdout",
     "output_type": "stream",
     "text": [
      "Epoch 1/100\n"
     ]
    },
    {
     "name": "stderr",
     "output_type": "stream",
     "text": [
      "C:\\Users\\82108\\anaconda3\\envs\\DLenv\\Lib\\site-packages\\keras\\src\\layers\\core\\dense.py:87: UserWarning: Do not pass an `input_shape`/`input_dim` argument to a layer. When using Sequential models, prefer using an `Input(shape)` object as the first layer in the model instead.\n",
      "  super().__init__(activity_regularizer=activity_regularizer, **kwargs)\n"
     ]
    },
    {
     "name": "stdout",
     "output_type": "stream",
     "text": [
      "\u001b[1m12/12\u001b[0m \u001b[32m━━━━━━━━━━━━━━━━━━━━\u001b[0m\u001b[37m\u001b[0m \u001b[1m1s\u001b[0m 18ms/step - loss: 606.4658 - mean_absolute_error: 22.6793 - val_loss: 534.2455 - val_mean_absolute_error: 21.5853\n",
      "Epoch 2/100\n",
      "\u001b[1m12/12\u001b[0m \u001b[32m━━━━━━━━━━━━━━━━━━━━\u001b[0m\u001b[37m\u001b[0m \u001b[1m0s\u001b[0m 7ms/step - loss: 596.5120 - mean_absolute_error: 22.6053 - val_loss: 523.1990 - val_mean_absolute_error: 21.4814\n",
      "Epoch 3/100\n",
      "\u001b[1m12/12\u001b[0m \u001b[32m━━━━━━━━━━━━━━━━━━━━\u001b[0m\u001b[37m\u001b[0m \u001b[1m0s\u001b[0m 7ms/step - loss: 587.4254 - mean_absolute_error: 22.5363 - val_loss: 512.6399 - val_mean_absolute_error: 21.3733\n",
      "Epoch 4/100\n",
      "\u001b[1m12/12\u001b[0m \u001b[32m━━━━━━━━━━━━━━━━━━━━\u001b[0m\u001b[37m\u001b[0m \u001b[1m0s\u001b[0m 7ms/step - loss: 578.6817 - mean_absolute_error: 22.4615 - val_loss: 502.2972 - val_mean_absolute_error: 21.2576\n",
      "Epoch 5/100\n",
      "\u001b[1m12/12\u001b[0m \u001b[32m━━━━━━━━━━━━━━━━━━━━\u001b[0m\u001b[37m\u001b[0m \u001b[1m0s\u001b[0m 6ms/step - loss: 570.0403 - mean_absolute_error: 22.3779 - val_loss: 491.9817 - val_mean_absolute_error: 21.1316\n",
      "Epoch 6/100\n",
      "\u001b[1m12/12\u001b[0m \u001b[32m━━━━━━━━━━━━━━━━━━━━\u001b[0m\u001b[37m\u001b[0m \u001b[1m0s\u001b[0m 7ms/step - loss: 561.3507 - mean_absolute_error: 22.2834 - val_loss: 481.6037 - val_mean_absolute_error: 20.9932\n",
      "Epoch 7/100\n",
      "\u001b[1m12/12\u001b[0m \u001b[32m━━━━━━━━━━━━━━━━━━━━\u001b[0m\u001b[37m\u001b[0m \u001b[1m0s\u001b[0m 6ms/step - loss: 552.5389 - mean_absolute_error: 22.1761 - val_loss: 471.1482 - val_mean_absolute_error: 20.8410\n",
      "Epoch 8/100\n",
      "\u001b[1m12/12\u001b[0m \u001b[32m━━━━━━━━━━━━━━━━━━━━\u001b[0m\u001b[37m\u001b[0m \u001b[1m0s\u001b[0m 6ms/step - loss: 543.5782 - mean_absolute_error: 22.0546 - val_loss: 460.6399 - val_mean_absolute_error: 20.6746\n",
      "Epoch 9/100\n",
      "\u001b[1m12/12\u001b[0m \u001b[32m━━━━━━━━━━━━━━━━━━━━\u001b[0m\u001b[37m\u001b[0m \u001b[1m0s\u001b[0m 6ms/step - loss: 534.4590 - mean_absolute_error: 21.9177 - val_loss: 450.1104 - val_mean_absolute_error: 20.4936\n",
      "Epoch 10/100\n",
      "\u001b[1m12/12\u001b[0m \u001b[32m━━━━━━━━━━━━━━━━━━━━\u001b[0m\u001b[37m\u001b[0m \u001b[1m0s\u001b[0m 7ms/step - loss: 525.1641 - mean_absolute_error: 21.7645 - val_loss: 439.5741 - val_mean_absolute_error: 20.2981\n",
      "Epoch 11/100\n",
      "\u001b[1m12/12\u001b[0m \u001b[32m━━━━━━━━━━━━━━━━━━━━\u001b[0m\u001b[37m\u001b[0m \u001b[1m0s\u001b[0m 7ms/step - loss: 515.6549 - mean_absolute_error: 21.5945 - val_loss: 429.0171 - val_mean_absolute_error: 20.0885\n",
      "Epoch 12/100\n",
      "\u001b[1m12/12\u001b[0m \u001b[32m━━━━━━━━━━━━━━━━━━━━\u001b[0m\u001b[37m\u001b[0m \u001b[1m0s\u001b[0m 7ms/step - loss: 505.8698 - mean_absolute_error: 21.4070 - val_loss: 418.3977 - val_mean_absolute_error: 19.8650\n",
      "Epoch 13/100\n",
      "\u001b[1m12/12\u001b[0m \u001b[32m━━━━━━━━━━━━━━━━━━━━\u001b[0m\u001b[37m\u001b[0m \u001b[1m0s\u001b[0m 7ms/step - loss: 495.7317 - mean_absolute_error: 21.2019 - val_loss: 407.6558 - val_mean_absolute_error: 19.6276\n",
      "Epoch 14/100\n",
      "\u001b[1m12/12\u001b[0m \u001b[32m━━━━━━━━━━━━━━━━━━━━\u001b[0m\u001b[37m\u001b[0m \u001b[1m0s\u001b[0m 7ms/step - loss: 485.1604 - mean_absolute_error: 20.9788 - val_loss: 396.7247 - val_mean_absolute_error: 19.3765\n",
      "Epoch 15/100\n",
      "\u001b[1m12/12\u001b[0m \u001b[32m━━━━━━━━━━━━━━━━━━━━\u001b[0m\u001b[37m\u001b[0m \u001b[1m0s\u001b[0m 7ms/step - loss: 474.0850 - mean_absolute_error: 20.7375 - val_loss: 385.5431 - val_mean_absolute_error: 19.1114\n",
      "Epoch 16/100\n",
      "\u001b[1m12/12\u001b[0m \u001b[32m━━━━━━━━━━━━━━━━━━━━\u001b[0m\u001b[37m\u001b[0m \u001b[1m0s\u001b[0m 7ms/step - loss: 462.4530 - mean_absolute_error: 20.4778 - val_loss: 374.0628 - val_mean_absolute_error: 18.8319\n",
      "Epoch 17/100\n",
      "\u001b[1m12/12\u001b[0m \u001b[32m━━━━━━━━━━━━━━━━━━━━\u001b[0m\u001b[37m\u001b[0m \u001b[1m0s\u001b[0m 7ms/step - loss: 450.2353 - mean_absolute_error: 20.1996 - val_loss: 362.2532 - val_mean_absolute_error: 18.5376\n",
      "Epoch 18/100\n",
      "\u001b[1m12/12\u001b[0m \u001b[32m━━━━━━━━━━━━━━━━━━━━\u001b[0m\u001b[37m\u001b[0m \u001b[1m0s\u001b[0m 7ms/step - loss: 437.4271 - mean_absolute_error: 19.9027 - val_loss: 350.1029 - val_mean_absolute_error: 18.2279\n",
      "Epoch 19/100\n",
      "\u001b[1m12/12\u001b[0m \u001b[32m━━━━━━━━━━━━━━━━━━━━\u001b[0m\u001b[37m\u001b[0m \u001b[1m0s\u001b[0m 7ms/step - loss: 424.0463 - mean_absolute_error: 19.5870 - val_loss: 337.6186 - val_mean_absolute_error: 17.9023\n",
      "Epoch 20/100\n",
      "\u001b[1m12/12\u001b[0m \u001b[32m━━━━━━━━━━━━━━━━━━━━\u001b[0m\u001b[37m\u001b[0m \u001b[1m0s\u001b[0m 7ms/step - loss: 410.1307 - mean_absolute_error: 19.2525 - val_loss: 324.8227 - val_mean_absolute_error: 17.5606\n",
      "Epoch 21/100\n",
      "\u001b[1m12/12\u001b[0m \u001b[32m━━━━━━━━━━━━━━━━━━━━\u001b[0m\u001b[37m\u001b[0m \u001b[1m0s\u001b[0m 6ms/step - loss: 395.7341 - mean_absolute_error: 18.8994 - val_loss: 311.7513 - val_mean_absolute_error: 17.2023\n",
      "Epoch 22/100\n",
      "\u001b[1m12/12\u001b[0m \u001b[32m━━━━━━━━━━━━━━━━━━━━\u001b[0m\u001b[37m\u001b[0m \u001b[1m0s\u001b[0m 6ms/step - loss: 380.9232 - mean_absolute_error: 18.5277 - val_loss: 298.4509 - val_mean_absolute_error: 16.8274\n",
      "Epoch 23/100\n",
      "\u001b[1m12/12\u001b[0m \u001b[32m━━━━━━━━━━━━━━━━━━━━\u001b[0m\u001b[37m\u001b[0m \u001b[1m0s\u001b[0m 7ms/step - loss: 365.7740 - mean_absolute_error: 18.1381 - val_loss: 284.9757 - val_mean_absolute_error: 16.4359\n",
      "Epoch 24/100\n",
      "\u001b[1m12/12\u001b[0m \u001b[32m━━━━━━━━━━━━━━━━━━━━\u001b[0m\u001b[37m\u001b[0m \u001b[1m0s\u001b[0m 7ms/step - loss: 350.3686 - mean_absolute_error: 17.7311 - val_loss: 271.3850 - val_mean_absolute_error: 16.0284\n",
      "Epoch 25/100\n",
      "\u001b[1m12/12\u001b[0m \u001b[32m━━━━━━━━━━━━━━━━━━━━\u001b[0m\u001b[37m\u001b[0m \u001b[1m0s\u001b[0m 7ms/step - loss: 334.7919 - mean_absolute_error: 17.3074 - val_loss: 257.7406 - val_mean_absolute_error: 15.6051\n",
      "Epoch 26/100\n",
      "\u001b[1m12/12\u001b[0m \u001b[32m━━━━━━━━━━━━━━━━━━━━\u001b[0m\u001b[37m\u001b[0m \u001b[1m0s\u001b[0m 7ms/step - loss: 319.1294 - mean_absolute_error: 16.8680 - val_loss: 244.1051 - val_mean_absolute_error: 15.1669\n",
      "Epoch 27/100\n",
      "\u001b[1m12/12\u001b[0m \u001b[32m━━━━━━━━━━━━━━━━━━━━\u001b[0m\u001b[37m\u001b[0m \u001b[1m0s\u001b[0m 7ms/step - loss: 303.4643 - mean_absolute_error: 16.4149 - val_loss: 230.5403 - val_mean_absolute_error: 14.7146\n",
      "Epoch 28/100\n",
      "\u001b[1m12/12\u001b[0m \u001b[32m━━━━━━━━━━━━━━━━━━━━\u001b[0m\u001b[37m\u001b[0m \u001b[1m0s\u001b[0m 7ms/step - loss: 287.8761 - mean_absolute_error: 15.9493 - val_loss: 217.1056 - val_mean_absolute_error: 14.2493\n",
      "Epoch 29/100\n",
      "\u001b[1m12/12\u001b[0m \u001b[32m━━━━━━━━━━━━━━━━━━━━\u001b[0m\u001b[37m\u001b[0m \u001b[1m0s\u001b[0m 7ms/step - loss: 272.4390 - mean_absolute_error: 15.4716 - val_loss: 203.8579 - val_mean_absolute_error: 13.7723\n",
      "Epoch 30/100\n",
      "\u001b[1m12/12\u001b[0m \u001b[32m━━━━━━━━━━━━━━━━━━━━\u001b[0m\u001b[37m\u001b[0m \u001b[1m0s\u001b[0m 7ms/step - loss: 257.2214 - mean_absolute_error: 14.9833 - val_loss: 190.8506 - val_mean_absolute_error: 13.2847\n",
      "Epoch 31/100\n",
      "\u001b[1m12/12\u001b[0m \u001b[32m━━━━━━━━━━━━━━━━━━━━\u001b[0m\u001b[37m\u001b[0m \u001b[1m0s\u001b[0m 8ms/step - loss: 242.2855 - mean_absolute_error: 14.4857 - val_loss: 178.1336 - val_mean_absolute_error: 12.7881\n",
      "Epoch 32/100\n",
      "\u001b[1m12/12\u001b[0m \u001b[32m━━━━━━━━━━━━━━━━━━━━\u001b[0m\u001b[37m\u001b[0m \u001b[1m0s\u001b[0m 9ms/step - loss: 227.6874 - mean_absolute_error: 13.9805 - val_loss: 165.7532 - val_mean_absolute_error: 12.2838\n",
      "Epoch 33/100\n",
      "\u001b[1m12/12\u001b[0m \u001b[32m━━━━━━━━━━━━━━━━━━━━\u001b[0m\u001b[37m\u001b[0m \u001b[1m0s\u001b[0m 7ms/step - loss: 213.4774 - mean_absolute_error: 13.4692 - val_loss: 153.7518 - val_mean_absolute_error: 11.7735\n",
      "Epoch 34/100\n",
      "\u001b[1m12/12\u001b[0m \u001b[32m━━━━━━━━━━━━━━━━━━━━\u001b[0m\u001b[37m\u001b[0m \u001b[1m0s\u001b[0m 8ms/step - loss: 199.7002 - mean_absolute_error: 12.9532 - val_loss: 142.1682 - val_mean_absolute_error: 11.2586\n",
      "Epoch 35/100\n",
      "\u001b[1m12/12\u001b[0m \u001b[32m━━━━━━━━━━━━━━━━━━━━\u001b[0m\u001b[37m\u001b[0m \u001b[1m0s\u001b[0m 7ms/step - loss: 186.3955 - mean_absolute_error: 12.4352 - val_loss: 131.0370 - val_mean_absolute_error: 10.7417\n",
      "Epoch 36/100\n",
      "\u001b[1m12/12\u001b[0m \u001b[32m━━━━━━━━━━━━━━━━━━━━\u001b[0m\u001b[37m\u001b[0m \u001b[1m0s\u001b[0m 7ms/step - loss: 173.5980 - mean_absolute_error: 11.9201 - val_loss: 120.3891 - val_mean_absolute_error: 10.2309\n",
      "Epoch 37/100\n",
      "\u001b[1m12/12\u001b[0m \u001b[32m━━━━━━━━━━━━━━━━━━━━\u001b[0m\u001b[37m\u001b[0m \u001b[1m0s\u001b[0m 7ms/step - loss: 161.3378 - mean_absolute_error: 11.4049 - val_loss: 110.2510 - val_mean_absolute_error: 9.7201\n",
      "Epoch 38/100\n",
      "\u001b[1m12/12\u001b[0m \u001b[32m━━━━━━━━━━━━━━━━━━━━\u001b[0m\u001b[37m\u001b[0m \u001b[1m0s\u001b[0m 7ms/step - loss: 149.6407 - mean_absolute_error: 10.8912 - val_loss: 100.6451 - val_mean_absolute_error: 9.2109\n",
      "Epoch 39/100\n",
      "\u001b[1m12/12\u001b[0m \u001b[32m━━━━━━━━━━━━━━━━━━━━\u001b[0m\u001b[37m\u001b[0m \u001b[1m0s\u001b[0m 8ms/step - loss: 138.5276 - mean_absolute_error: 10.3807 - val_loss: 91.5893 - val_mean_absolute_error: 8.7049\n",
      "Epoch 40/100\n",
      "\u001b[1m12/12\u001b[0m \u001b[32m━━━━━━━━━━━━━━━━━━━━\u001b[0m\u001b[37m\u001b[0m \u001b[1m0s\u001b[0m 7ms/step - loss: 128.0150 - mean_absolute_error: 9.8770 - val_loss: 83.0971 - val_mean_absolute_error: 8.2142\n",
      "Epoch 41/100\n",
      "\u001b[1m12/12\u001b[0m \u001b[32m━━━━━━━━━━━━━━━━━━━━\u001b[0m\u001b[37m\u001b[0m \u001b[1m0s\u001b[0m 7ms/step - loss: 118.1149 - mean_absolute_error: 9.3799 - val_loss: 75.1772 - val_mean_absolute_error: 7.7469\n",
      "Epoch 42/100\n",
      "\u001b[1m12/12\u001b[0m \u001b[32m━━━━━━━━━━━━━━━━━━━━\u001b[0m\u001b[37m\u001b[0m \u001b[1m0s\u001b[0m 7ms/step - loss: 108.8345 - mean_absolute_error: 8.8899 - val_loss: 67.8335 - val_mean_absolute_error: 7.2946\n",
      "Epoch 43/100\n",
      "\u001b[1m12/12\u001b[0m \u001b[32m━━━━━━━━━━━━━━━━━━━━\u001b[0m\u001b[37m\u001b[0m \u001b[1m0s\u001b[0m 8ms/step - loss: 100.1761 - mean_absolute_error: 8.4094 - val_loss: 61.0651 - val_mean_absolute_error: 6.8743\n",
      "Epoch 44/100\n",
      "\u001b[1m12/12\u001b[0m \u001b[32m━━━━━━━━━━━━━━━━━━━━\u001b[0m\u001b[37m\u001b[0m \u001b[1m0s\u001b[0m 7ms/step - loss: 92.1376 - mean_absolute_error: 7.9400 - val_loss: 54.8667 - val_mean_absolute_error: 6.4670\n",
      "Epoch 45/100\n",
      "\u001b[1m12/12\u001b[0m \u001b[32m━━━━━━━━━━━━━━━━━━━━\u001b[0m\u001b[37m\u001b[0m \u001b[1m0s\u001b[0m 7ms/step - loss: 84.7119 - mean_absolute_error: 7.4842 - val_loss: 49.2278 - val_mean_absolute_error: 6.0683\n",
      "Epoch 46/100\n",
      "\u001b[1m12/12\u001b[0m \u001b[32m━━━━━━━━━━━━━━━━━━━━\u001b[0m\u001b[37m\u001b[0m \u001b[1m0s\u001b[0m 6ms/step - loss: 77.8878 - mean_absolute_error: 7.0503 - val_loss: 44.1339 - val_mean_absolute_error: 5.6937\n",
      "Epoch 47/100\n",
      "\u001b[1m12/12\u001b[0m \u001b[32m━━━━━━━━━━━━━━━━━━━━\u001b[0m\u001b[37m\u001b[0m \u001b[1m0s\u001b[0m 7ms/step - loss: 71.6494 - mean_absolute_error: 6.6390 - val_loss: 39.5662 - val_mean_absolute_error: 5.3324\n",
      "Epoch 48/100\n",
      "\u001b[1m12/12\u001b[0m \u001b[32m━━━━━━━━━━━━━━━━━━━━\u001b[0m\u001b[37m\u001b[0m \u001b[1m0s\u001b[0m 7ms/step - loss: 65.9773 - mean_absolute_error: 6.2507 - val_loss: 35.5020 - val_mean_absolute_error: 4.9867\n",
      "Epoch 49/100\n",
      "\u001b[1m12/12\u001b[0m \u001b[32m━━━━━━━━━━━━━━━━━━━━\u001b[0m\u001b[37m\u001b[0m \u001b[1m0s\u001b[0m 6ms/step - loss: 60.8481 - mean_absolute_error: 5.8887 - val_loss: 31.9154 - val_mean_absolute_error: 4.6704\n",
      "Epoch 50/100\n",
      "\u001b[1m12/12\u001b[0m \u001b[32m━━━━━━━━━━━━━━━━━━━━\u001b[0m\u001b[37m\u001b[0m \u001b[1m0s\u001b[0m 8ms/step - loss: 56.2356 - mean_absolute_error: 5.5590 - val_loss: 28.7779 - val_mean_absolute_error: 4.3853\n",
      "Epoch 51/100\n",
      "\u001b[1m12/12\u001b[0m \u001b[32m━━━━━━━━━━━━━━━━━━━━\u001b[0m\u001b[37m\u001b[0m \u001b[1m0s\u001b[0m 7ms/step - loss: 52.1108 - mean_absolute_error: 5.2519 - val_loss: 26.0586 - val_mean_absolute_error: 4.1190\n",
      "Epoch 52/100\n",
      "\u001b[1m12/12\u001b[0m \u001b[32m━━━━━━━━━━━━━━━━━━━━\u001b[0m\u001b[37m\u001b[0m \u001b[1m0s\u001b[0m 7ms/step - loss: 48.4429 - mean_absolute_error: 4.9717 - val_loss: 23.7253 - val_mean_absolute_error: 3.8806\n",
      "Epoch 53/100\n",
      "\u001b[1m12/12\u001b[0m \u001b[32m━━━━━━━━━━━━━━━━━━━━\u001b[0m\u001b[37m\u001b[0m \u001b[1m0s\u001b[0m 7ms/step - loss: 45.1995 - mean_absolute_error: 4.7229 - val_loss: 21.7445 - val_mean_absolute_error: 3.6767\n",
      "Epoch 54/100\n",
      "\u001b[1m12/12\u001b[0m \u001b[32m━━━━━━━━━━━━━━━━━━━━\u001b[0m\u001b[37m\u001b[0m \u001b[1m0s\u001b[0m 8ms/step - loss: 42.3473 - mean_absolute_error: 4.4997 - val_loss: 20.0830 - val_mean_absolute_error: 3.4945\n",
      "Epoch 55/100\n",
      "\u001b[1m12/12\u001b[0m \u001b[32m━━━━━━━━━━━━━━━━━━━━\u001b[0m\u001b[37m\u001b[0m \u001b[1m0s\u001b[0m 11ms/step - loss: 39.8530 - mean_absolute_error: 4.3133 - val_loss: 18.7075 - val_mean_absolute_error: 3.3373\n",
      "Epoch 56/100\n",
      "\u001b[1m12/12\u001b[0m \u001b[32m━━━━━━━━━━━━━━━━━━━━\u001b[0m\u001b[37m\u001b[0m \u001b[1m0s\u001b[0m 7ms/step - loss: 37.6835 - mean_absolute_error: 4.1585 - val_loss: 17.5856 - val_mean_absolute_error: 3.2025\n",
      "Epoch 57/100\n",
      "\u001b[1m12/12\u001b[0m \u001b[32m━━━━━━━━━━━━━━━━━━━━\u001b[0m\u001b[37m\u001b[0m \u001b[1m0s\u001b[0m 7ms/step - loss: 35.8064 - mean_absolute_error: 4.0265 - val_loss: 16.6863 - val_mean_absolute_error: 3.0912\n",
      "Epoch 58/100\n",
      "\u001b[1m12/12\u001b[0m \u001b[32m━━━━━━━━━━━━━━━━━━━━\u001b[0m\u001b[37m\u001b[0m \u001b[1m0s\u001b[0m 8ms/step - loss: 34.1905 - mean_absolute_error: 3.9097 - val_loss: 15.9803 - val_mean_absolute_error: 2.9893\n",
      "Epoch 59/100\n",
      "\u001b[1m12/12\u001b[0m \u001b[32m━━━━━━━━━━━━━━━━━━━━\u001b[0m\u001b[37m\u001b[0m \u001b[1m0s\u001b[0m 7ms/step - loss: 32.8063 - mean_absolute_error: 3.8127 - val_loss: 15.4403 - val_mean_absolute_error: 2.9109\n",
      "Epoch 60/100\n",
      "\u001b[1m12/12\u001b[0m \u001b[32m━━━━━━━━━━━━━━━━━━━━\u001b[0m\u001b[37m\u001b[0m \u001b[1m0s\u001b[0m 9ms/step - loss: 31.6262 - mean_absolute_error: 3.7332 - val_loss: 15.0410 - val_mean_absolute_error: 2.8558\n",
      "Epoch 61/100\n",
      "\u001b[1m12/12\u001b[0m \u001b[32m━━━━━━━━━━━━━━━━━━━━\u001b[0m\u001b[37m\u001b[0m \u001b[1m0s\u001b[0m 7ms/step - loss: 30.6245 - mean_absolute_error: 3.6675 - val_loss: 14.7598 - val_mean_absolute_error: 2.8190\n",
      "Epoch 62/100\n",
      "\u001b[1m12/12\u001b[0m \u001b[32m━━━━━━━━━━━━━━━━━━━━\u001b[0m\u001b[37m\u001b[0m \u001b[1m0s\u001b[0m 7ms/step - loss: 29.7777 - mean_absolute_error: 3.6178 - val_loss: 14.5760 - val_mean_absolute_error: 2.7990\n",
      "Epoch 63/100\n",
      "\u001b[1m12/12\u001b[0m \u001b[32m━━━━━━━━━━━━━━━━━━━━\u001b[0m\u001b[37m\u001b[0m \u001b[1m0s\u001b[0m 7ms/step - loss: 29.0646 - mean_absolute_error: 3.5796 - val_loss: 14.4718 - val_mean_absolute_error: 2.7927\n",
      "Epoch 64/100\n",
      "\u001b[1m12/12\u001b[0m \u001b[32m━━━━━━━━━━━━━━━━━━━━\u001b[0m\u001b[37m\u001b[0m \u001b[1m0s\u001b[0m 7ms/step - loss: 28.4661 - mean_absolute_error: 3.5495 - val_loss: 14.4312 - val_mean_absolute_error: 2.7971\n",
      "Epoch 65/100\n",
      "\u001b[1m12/12\u001b[0m \u001b[32m━━━━━━━━━━━━━━━━━━━━\u001b[0m\u001b[37m\u001b[0m \u001b[1m0s\u001b[0m 7ms/step - loss: 27.9653 - mean_absolute_error: 3.5262 - val_loss: 14.4407 - val_mean_absolute_error: 2.8081\n",
      "Epoch 66/100\n",
      "\u001b[1m12/12\u001b[0m \u001b[32m━━━━━━━━━━━━━━━━━━━━\u001b[0m\u001b[37m\u001b[0m \u001b[1m0s\u001b[0m 7ms/step - loss: 27.5473 - mean_absolute_error: 3.5055 - val_loss: 14.4887 - val_mean_absolute_error: 2.8242\n",
      "Epoch 67/100\n",
      "\u001b[1m12/12\u001b[0m \u001b[32m━━━━━━━━━━━━━━━━━━━━\u001b[0m\u001b[37m\u001b[0m \u001b[1m0s\u001b[0m 7ms/step - loss: 27.1991 - mean_absolute_error: 3.4891 - val_loss: 14.5653 - val_mean_absolute_error: 2.8416\n",
      "Epoch 68/100\n",
      "\u001b[1m12/12\u001b[0m \u001b[32m━━━━━━━━━━━━━━━━━━━━\u001b[0m\u001b[37m\u001b[0m \u001b[1m0s\u001b[0m 7ms/step - loss: 26.9097 - mean_absolute_error: 3.4755 - val_loss: 14.6625 - val_mean_absolute_error: 2.8587\n",
      "Epoch 69/100\n",
      "\u001b[1m12/12\u001b[0m \u001b[32m━━━━━━━━━━━━━━━━━━━━\u001b[0m\u001b[37m\u001b[0m \u001b[1m0s\u001b[0m 7ms/step - loss: 26.6692 - mean_absolute_error: 3.4659 - val_loss: 14.7736 - val_mean_absolute_error: 2.8742\n",
      "Epoch 70/100\n",
      "\u001b[1m12/12\u001b[0m \u001b[32m━━━━━━━━━━━━━━━━━━━━\u001b[0m\u001b[37m\u001b[0m \u001b[1m0s\u001b[0m 8ms/step - loss: 26.4696 - mean_absolute_error: 3.4611 - val_loss: 14.8932 - val_mean_absolute_error: 2.8905\n",
      "Epoch 71/100\n",
      "\u001b[1m12/12\u001b[0m \u001b[32m━━━━━━━━━━━━━━━━━━━━\u001b[0m\u001b[37m\u001b[0m \u001b[1m0s\u001b[0m 10ms/step - loss: 26.3039 - mean_absolute_error: 3.4571 - val_loss: 15.0172 - val_mean_absolute_error: 2.9071\n",
      "Epoch 72/100\n",
      "\u001b[1m12/12\u001b[0m \u001b[32m━━━━━━━━━━━━━━━━━━━━\u001b[0m\u001b[37m\u001b[0m \u001b[1m0s\u001b[0m 7ms/step - loss: 26.1662 - mean_absolute_error: 3.4551 - val_loss: 15.1422 - val_mean_absolute_error: 2.9242\n",
      "Epoch 73/100\n",
      "\u001b[1m12/12\u001b[0m \u001b[32m━━━━━━━━━━━━━━━━━━━━\u001b[0m\u001b[37m\u001b[0m \u001b[1m0s\u001b[0m 7ms/step - loss: 26.0516 - mean_absolute_error: 3.4545 - val_loss: 15.2657 - val_mean_absolute_error: 2.9404\n",
      "Epoch 74/100\n",
      "\u001b[1m12/12\u001b[0m \u001b[32m━━━━━━━━━━━━━━━━━━━━\u001b[0m\u001b[37m\u001b[0m \u001b[1m0s\u001b[0m 8ms/step - loss: 25.9562 - mean_absolute_error: 3.4543 - val_loss: 15.3859 - val_mean_absolute_error: 2.9569\n",
      "Epoch 75/100\n",
      "\u001b[1m12/12\u001b[0m \u001b[32m━━━━━━━━━━━━━━━━━━━━\u001b[0m\u001b[37m\u001b[0m \u001b[1m0s\u001b[0m 6ms/step - loss: 25.8764 - mean_absolute_error: 3.4545 - val_loss: 15.5013 - val_mean_absolute_error: 2.9738\n",
      "Epoch 76/100\n",
      "\u001b[1m12/12\u001b[0m \u001b[32m━━━━━━━━━━━━━━━━━━━━\u001b[0m\u001b[37m\u001b[0m \u001b[1m0s\u001b[0m 7ms/step - loss: 25.8096 - mean_absolute_error: 3.4555 - val_loss: 15.6112 - val_mean_absolute_error: 2.9891\n",
      "Epoch 77/100\n",
      "\u001b[1m12/12\u001b[0m \u001b[32m━━━━━━━━━━━━━━━━━━━━\u001b[0m\u001b[37m\u001b[0m \u001b[1m0s\u001b[0m 6ms/step - loss: 25.7534 - mean_absolute_error: 3.4565 - val_loss: 15.7150 - val_mean_absolute_error: 3.0029\n",
      "Epoch 78/100\n",
      "\u001b[1m12/12\u001b[0m \u001b[32m━━━━━━━━━━━━━━━━━━━━\u001b[0m\u001b[37m\u001b[0m \u001b[1m0s\u001b[0m 6ms/step - loss: 25.7059 - mean_absolute_error: 3.4579 - val_loss: 15.8123 - val_mean_absolute_error: 3.0155\n",
      "Epoch 79/100\n",
      "\u001b[1m12/12\u001b[0m \u001b[32m━━━━━━━━━━━━━━━━━━━━\u001b[0m\u001b[37m\u001b[0m \u001b[1m0s\u001b[0m 6ms/step - loss: 25.6657 - mean_absolute_error: 3.4594 - val_loss: 15.9031 - val_mean_absolute_error: 3.0274\n",
      "Epoch 80/100\n",
      "\u001b[1m12/12\u001b[0m \u001b[32m━━━━━━━━━━━━━━━━━━━━\u001b[0m\u001b[37m\u001b[0m \u001b[1m0s\u001b[0m 6ms/step - loss: 25.6314 - mean_absolute_error: 3.4609 - val_loss: 15.9876 - val_mean_absolute_error: 3.0382\n",
      "Epoch 81/100\n",
      "\u001b[1m12/12\u001b[0m \u001b[32m━━━━━━━━━━━━━━━━━━━━\u001b[0m\u001b[37m\u001b[0m \u001b[1m0s\u001b[0m 7ms/step - loss: 25.6021 - mean_absolute_error: 3.4622 - val_loss: 16.0658 - val_mean_absolute_error: 3.0480\n",
      "Epoch 82/100\n",
      "\u001b[1m12/12\u001b[0m \u001b[32m━━━━━━━━━━━━━━━━━━━━\u001b[0m\u001b[37m\u001b[0m \u001b[1m0s\u001b[0m 7ms/step - loss: 25.5768 - mean_absolute_error: 3.4636 - val_loss: 16.1381 - val_mean_absolute_error: 3.0567\n",
      "Epoch 83/100\n",
      "\u001b[1m12/12\u001b[0m \u001b[32m━━━━━━━━━━━━━━━━━━━━\u001b[0m\u001b[37m\u001b[0m \u001b[1m0s\u001b[0m 7ms/step - loss: 25.5549 - mean_absolute_error: 3.4650 - val_loss: 16.2047 - val_mean_absolute_error: 3.0645\n",
      "Epoch 84/100\n",
      "\u001b[1m12/12\u001b[0m \u001b[32m━━━━━━━━━━━━━━━━━━━━\u001b[0m\u001b[37m\u001b[0m \u001b[1m0s\u001b[0m 8ms/step - loss: 25.5359 - mean_absolute_error: 3.4663 - val_loss: 16.2660 - val_mean_absolute_error: 3.0715\n",
      "Epoch 85/100\n",
      "\u001b[1m12/12\u001b[0m \u001b[32m━━━━━━━━━━━━━━━━━━━━\u001b[0m\u001b[37m\u001b[0m \u001b[1m0s\u001b[0m 8ms/step - loss: 25.5192 - mean_absolute_error: 3.4677 - val_loss: 16.3225 - val_mean_absolute_error: 3.0778\n",
      "Epoch 86/100\n",
      "\u001b[1m12/12\u001b[0m \u001b[32m━━━━━━━━━━━━━━━━━━━━\u001b[0m\u001b[37m\u001b[0m \u001b[1m0s\u001b[0m 7ms/step - loss: 25.5046 - mean_absolute_error: 3.4690 - val_loss: 16.3743 - val_mean_absolute_error: 3.0844\n",
      "Epoch 87/100\n",
      "\u001b[1m12/12\u001b[0m \u001b[32m━━━━━━━━━━━━━━━━━━━━\u001b[0m\u001b[37m\u001b[0m \u001b[1m0s\u001b[0m 7ms/step - loss: 25.4917 - mean_absolute_error: 3.4702 - val_loss: 16.4220 - val_mean_absolute_error: 3.0907\n",
      "Epoch 88/100\n",
      "\u001b[1m12/12\u001b[0m \u001b[32m━━━━━━━━━━━━━━━━━━━━\u001b[0m\u001b[37m\u001b[0m \u001b[1m0s\u001b[0m 7ms/step - loss: 25.4802 - mean_absolute_error: 3.4712 - val_loss: 16.4658 - val_mean_absolute_error: 3.0965\n",
      "Epoch 89/100\n",
      "\u001b[1m12/12\u001b[0m \u001b[32m━━━━━━━━━━━━━━━━━━━━\u001b[0m\u001b[37m\u001b[0m \u001b[1m0s\u001b[0m 7ms/step - loss: 25.4700 - mean_absolute_error: 3.4721 - val_loss: 16.5061 - val_mean_absolute_error: 3.1017\n",
      "Epoch 90/100\n",
      "\u001b[1m12/12\u001b[0m \u001b[32m━━━━━━━━━━━━━━━━━━━━\u001b[0m\u001b[37m\u001b[0m \u001b[1m0s\u001b[0m 7ms/step - loss: 25.4608 - mean_absolute_error: 3.4731 - val_loss: 16.5432 - val_mean_absolute_error: 3.1064\n",
      "Epoch 91/100\n",
      "\u001b[1m12/12\u001b[0m \u001b[32m━━━━━━━━━━━━━━━━━━━━\u001b[0m\u001b[37m\u001b[0m \u001b[1m0s\u001b[0m 7ms/step - loss: 25.4525 - mean_absolute_error: 3.4741 - val_loss: 16.5773 - val_mean_absolute_error: 3.1108\n",
      "Epoch 92/100\n",
      "\u001b[1m12/12\u001b[0m \u001b[32m━━━━━━━━━━━━━━━━━━━━\u001b[0m\u001b[37m\u001b[0m \u001b[1m0s\u001b[0m 9ms/step - loss: 25.4451 - mean_absolute_error: 3.4752 - val_loss: 16.6088 - val_mean_absolute_error: 3.1150\n",
      "Epoch 93/100\n",
      "\u001b[1m12/12\u001b[0m \u001b[32m━━━━━━━━━━━━━━━━━━━━\u001b[0m\u001b[37m\u001b[0m \u001b[1m0s\u001b[0m 8ms/step - loss: 25.4383 - mean_absolute_error: 3.4761 - val_loss: 16.6379 - val_mean_absolute_error: 3.1189\n",
      "Epoch 94/100\n",
      "\u001b[1m12/12\u001b[0m \u001b[32m━━━━━━━━━━━━━━━━━━━━\u001b[0m\u001b[37m\u001b[0m \u001b[1m0s\u001b[0m 6ms/step - loss: 25.4321 - mean_absolute_error: 3.4769 - val_loss: 16.6648 - val_mean_absolute_error: 3.1224\n",
      "Epoch 95/100\n",
      "\u001b[1m12/12\u001b[0m \u001b[32m━━━━━━━━━━━━━━━━━━━━\u001b[0m\u001b[37m\u001b[0m \u001b[1m0s\u001b[0m 7ms/step - loss: 25.4265 - mean_absolute_error: 3.4777 - val_loss: 16.6897 - val_mean_absolute_error: 3.1256\n",
      "Epoch 96/100\n",
      "\u001b[1m12/12\u001b[0m \u001b[32m━━━━━━━━━━━━━━━━━━━━\u001b[0m\u001b[37m\u001b[0m \u001b[1m0s\u001b[0m 6ms/step - loss: 25.4213 - mean_absolute_error: 3.4783 - val_loss: 16.7127 - val_mean_absolute_error: 3.1287\n",
      "Epoch 97/100\n",
      "\u001b[1m12/12\u001b[0m \u001b[32m━━━━━━━━━━━━━━━━━━━━\u001b[0m\u001b[37m\u001b[0m \u001b[1m0s\u001b[0m 7ms/step - loss: 25.4166 - mean_absolute_error: 3.4790 - val_loss: 16.7342 - val_mean_absolute_error: 3.1315\n",
      "Epoch 98/100\n",
      "\u001b[1m12/12\u001b[0m \u001b[32m━━━━━━━━━━━━━━━━━━━━\u001b[0m\u001b[37m\u001b[0m \u001b[1m0s\u001b[0m 7ms/step - loss: 25.4122 - mean_absolute_error: 3.4796 - val_loss: 16.7541 - val_mean_absolute_error: 3.1341\n",
      "Epoch 99/100\n",
      "\u001b[1m12/12\u001b[0m \u001b[32m━━━━━━━━━━━━━━━━━━━━\u001b[0m\u001b[37m\u001b[0m \u001b[1m0s\u001b[0m 7ms/step - loss: 25.4081 - mean_absolute_error: 3.4801 - val_loss: 16.7727 - val_mean_absolute_error: 3.1365\n",
      "Epoch 100/100\n",
      "\u001b[1m12/12\u001b[0m \u001b[32m━━━━━━━━━━━━━━━━━━━━\u001b[0m\u001b[37m\u001b[0m \u001b[1m0s\u001b[0m 7ms/step - loss: 25.4043 - mean_absolute_error: 3.4806 - val_loss: 16.7900 - val_mean_absolute_error: 3.1387\n",
      "\u001b[1m5/5\u001b[0m \u001b[32m━━━━━━━━━━━━━━━━━━━━\u001b[0m\u001b[37m\u001b[0m \u001b[1m0s\u001b[0m 5ms/step - loss: 18.3094 - mean_absolute_error: 3.2592 \n"
     ]
    }
   ],
   "source": [
    "# 회귀 모델 \n",
    "# - loss='mean_squared_error'\n",
    "# - metrics=['mean_absolute_error']\n",
    "# - loss, mean_absolute_error = model.evaluate(X_test, y_test)\n",
    "\n",
    "tf.random.set_seed(3)\n",
    "model = Sequential()\n",
    "# model.add(Dense(42, input_shape=(13, ), activation=\"relu\"))\n",
    "model.add(Dense(42, input_shape=(13, )))\n",
    "model.add(Dense(1)) # 회귀문제이므로 출력층에 activation을 사용할 필요 없음\n",
    "\n",
    "model.compile(loss=\"mean_squared_error\", optimizer=\"adam\", metrics=[\"mean_absolute_error\"])\n",
    "\n",
    "epochs = 100\n",
    "batch_size = 32 # 기본값이고 이걸 배수로 늘려가는게 일반적이다\n",
    "\n",
    "history = model.fit(X_train, y_train,\n",
    "                    epochs = epochs,\n",
    "                    batch_size = batch_size,\n",
    "                    validation_data=(X_test, y_test))\n",
    "loss, mean_abs = model.evaluate(X_test, y_test)"
   ]
  },
  {
   "cell_type": "code",
   "execution_count": 17,
   "id": "05b3d8f0-0910-423d-8ebc-f90b13552b79",
   "metadata": {},
   "outputs": [
    {
     "name": "stdout",
     "output_type": "stream",
     "text": [
      "mean_absolute_error : 3.1387, loss : 16.7900\n"
     ]
    }
   ],
   "source": [
    "print(f'mean_absolute_error : {mean_abs:.4f}, loss : {loss :.4f}')\n",
    "# mean_absolute_error : 2.7533, loss : 12.9317"
   ]
  },
  {
   "cell_type": "code",
   "execution_count": null,
   "id": "5cef0ee9-eb88-4b19-a820-330c44fee486",
   "metadata": {},
   "outputs": [],
   "source": []
  },
  {
   "cell_type": "markdown",
   "id": "4ed06a39-b313-4526-8763-61d39643832e",
   "metadata": {},
   "source": [
    "### (5) 시각화 "
   ]
  },
  {
   "cell_type": "code",
   "execution_count": 18,
   "id": "5979b090-b340-4574-8285-76687091f76f",
   "metadata": {},
   "outputs": [
    {
     "data": {
      "text/plain": [
       "<Figure size 1800x600 with 0 Axes>"
      ]
     },
     "execution_count": 18,
     "metadata": {},
     "output_type": "execute_result"
    },
    {
     "data": {
      "text/plain": [
       "<Axes: >"
      ]
     },
     "execution_count": 18,
     "metadata": {},
     "output_type": "execute_result"
    },
    {
     "data": {
      "text/plain": [
       "[<matplotlib.lines.Line2D at 0x15e7fad52e0>]"
      ]
     },
     "execution_count": 18,
     "metadata": {},
     "output_type": "execute_result"
    },
    {
     "data": {
      "text/plain": [
       "[<matplotlib.lines.Line2D at 0x15e7fad5bb0>]"
      ]
     },
     "execution_count": 18,
     "metadata": {},
     "output_type": "execute_result"
    },
    {
     "data": {
      "text/plain": [
       "Text(0.5, 1.0, 'mean_absolute_error')"
      ]
     },
     "execution_count": 18,
     "metadata": {},
     "output_type": "execute_result"
    },
    {
     "data": {
      "text/plain": [
       "<matplotlib.legend.Legend at 0x15e03605d60>"
      ]
     },
     "execution_count": 18,
     "metadata": {},
     "output_type": "execute_result"
    },
    {
     "data": {
      "text/plain": [
       "<Axes: >"
      ]
     },
     "execution_count": 18,
     "metadata": {},
     "output_type": "execute_result"
    },
    {
     "data": {
      "text/plain": [
       "[<matplotlib.lines.Line2D at 0x15e033b5820>]"
      ]
     },
     "execution_count": 18,
     "metadata": {},
     "output_type": "execute_result"
    },
    {
     "data": {
      "text/plain": [
       "[<matplotlib.lines.Line2D at 0x15e03428aa0>]"
      ]
     },
     "execution_count": 18,
     "metadata": {},
     "output_type": "execute_result"
    },
    {
     "data": {
      "text/plain": [
       "Text(0.5, 1.0, 'loss')"
      ]
     },
     "execution_count": 18,
     "metadata": {},
     "output_type": "execute_result"
    },
    {
     "data": {
      "text/plain": [
       "<matplotlib.legend.Legend at 0x15e0368b980>"
      ]
     },
     "execution_count": 18,
     "metadata": {},
     "output_type": "execute_result"
    },
    {
     "data": {
      "image/png": "[encoded data removed]",
      "text/plain": [
       "<Figure size 1800x600 with 2 Axes>"
      ]
     },
     "metadata": {},
     "output_type": "display_data"
    }
   ],
   "source": [
    "plt. figure(figsize=(18, 6))\n",
    "\n",
    "# 평균 절대 오차 (MAE)\n",
    "plt.subplot(1, 2, 1)\n",
    "plt.plot(history.history[\"mean_absolute_error\"], label=\"mae\")\n",
    "plt.plot(history.history[\"val_mean_absolute_error\"], label=\"val_mae\")\n",
    "\n",
    "plt.title('mean_absolute_error')\n",
    "plt.legend()\n",
    "\n",
    "# 손실률\n",
    "plt.subplot(1, 2, 2)\n",
    "plt.plot(history.history[\"loss\"], label=\"loss\")\n",
    "plt.plot(history.history[\"val_loss\"], label=\"val_loss\")\n",
    "plt.title('loss')\n",
    "plt.legend()\n",
    "\n",
    "plt.show()"
   ]
  },
  {
   "cell_type": "code",
   "execution_count": null,
   "id": "ddfdabe1-7a87-463a-aee5-9cbc4bd86041",
   "metadata": {},
   "outputs": [],
   "source": []
  },
  {
   "cell_type": "markdown",
   "id": "f7976389-7cc2-47fe-9372-0cb1952ddac0",
   "metadata": {},
   "source": [
    "### (6) 모델 저장 / 로드 \n",
    "- boston_house_model.keras 로 저장"
   ]
  },
  {
   "cell_type": "code",
   "execution_count": 19,
   "id": "77178534-a05a-4415-9850-7c6ab68c4228",
   "metadata": {},
   "outputs": [],
   "source": [
    "# model.save(\"/model/boston_house_model.h5\")\n",
    "model.save(\"./model/boston_house_model.keras\")"
   ]
  },
  {
   "cell_type": "code",
   "execution_count": 22,
   "id": "6277d3f6-f13e-4c4b-b618-35cb04d2fe79",
   "metadata": {},
   "outputs": [
    {
     "data": {
      "text/plain": [
       "<Sequential name=sequential_2, built=True>"
      ]
     },
     "execution_count": 22,
     "metadata": {},
     "output_type": "execute_result"
    }
   ],
   "source": [
    "# 모델 읽어오기\n",
    "loaded_model = load_model(\"./model/boston_house_model.keras\")\n",
    "loaded_model"
   ]
  },
  {
   "cell_type": "code",
   "execution_count": null,
   "id": "0ecdb0b3-0420-4264-8949-43c8ddc947c4",
   "metadata": {},
   "outputs": [],
   "source": []
  },
  {
   "cell_type": "markdown",
   "id": "c9bd5d66-2f10-48f5-8f55-11fc05bff3ec",
   "metadata": {},
   "source": [
    "### (7) 예측 \n",
    "- 실제값과 예측값 비교"
   ]
  },
  {
   "cell_type": "code",
   "execution_count": 25,
   "id": "8420d55f-79d9-405f-8ab4-591a0913a0f4",
   "metadata": {},
   "outputs": [
    {
     "name": "stdout",
     "output_type": "stream",
     "text": [
      "\u001b[1m5/5\u001b[0m \u001b[32m━━━━━━━━━━━━━━━━━━━━\u001b[0m\u001b[37m\u001b[0m \u001b[1m0s\u001b[0m 6ms/step \n"
     ]
    },
    {
     "data": {
      "text/plain": [
       "array([23. , 19.5, 36.3, 19.9, 32.3, 17.6, 30.7, 17.8, 10.9, 12.9, 21. ,\n",
       "       17.2, 28.5, 36.6, 23.6, 24.3, 14.6, 11.5, 30.5, 22.1],\n",
       "      dtype=float32)"
      ]
     },
     "execution_count": 25,
     "metadata": {},
     "output_type": "execute_result"
    }
   ],
   "source": [
    "y_pred = loaded_model.predict(X_test, verbose=True)\n",
    "y_pred_top20 = y_pred[:20].reshape(1, -1)[0].round(1)\n",
    "y_pred_top20"
   ]
  },
  {
   "cell_type": "code",
   "execution_count": 26,
   "id": "85667732-0e25-4f7d-8f20-e039efa26a83",
   "metadata": {},
   "outputs": [
    {
     "data": {
      "text/plain": [
       "array([21.7, 19.9, 36.5, 12.5, 29. , 18.1, 24.1, 20. ,  9.7, 12.7, 16.7,\n",
       "       18.6, 23.3, 48.3, 19.4, 23.1, 10.4, 12.7, 24. , 20.3])"
      ]
     },
     "execution_count": 26,
     "metadata": {},
     "output_type": "execute_result"
    }
   ],
   "source": [
    "# 실제 테스트 타겟 값\n",
    "y_test.values[:20]"
   ]
  },
  {
   "cell_type": "code",
   "execution_count": 27,
   "id": "f81eafa5-ff8c-4344-a88c-e8f739f6a132",
   "metadata": {},
   "outputs": [
    {
     "data": {
      "text/html": [
       "<div>\n",
       "<style scoped>\n",
       "    .dataframe tbody tr th:only-of-type {\n",
       "        vertical-align: middle;\n",
       "    }\n",
       "\n",
       "    .dataframe tbody tr th {\n",
       "        vertical-align: top;\n",
       "    }\n",
       "\n",
       "    .dataframe thead th {\n",
       "        text-align: right;\n",
       "    }\n",
       "</style>\n",
       "<table border=\"1\" class=\"dataframe\">\n",
       "  <thead>\n",
       "    <tr style=\"text-align: right;\">\n",
       "      <th></th>\n",
       "      <th>예측가격</th>\n",
       "      <th>실제가격</th>\n",
       "    </tr>\n",
       "  </thead>\n",
       "  <tbody>\n",
       "    <tr>\n",
       "      <th>0</th>\n",
       "      <td>23.000000</td>\n",
       "      <td>21.7</td>\n",
       "    </tr>\n",
       "    <tr>\n",
       "      <th>1</th>\n",
       "      <td>19.500000</td>\n",
       "      <td>19.9</td>\n",
       "    </tr>\n",
       "    <tr>\n",
       "      <th>2</th>\n",
       "      <td>36.299999</td>\n",
       "      <td>36.5</td>\n",
       "    </tr>\n",
       "    <tr>\n",
       "      <th>3</th>\n",
       "      <td>19.900000</td>\n",
       "      <td>12.5</td>\n",
       "    </tr>\n",
       "    <tr>\n",
       "      <th>4</th>\n",
       "      <td>32.299999</td>\n",
       "      <td>29.0</td>\n",
       "    </tr>\n",
       "    <tr>\n",
       "      <th>5</th>\n",
       "      <td>17.600000</td>\n",
       "      <td>18.1</td>\n",
       "    </tr>\n",
       "    <tr>\n",
       "      <th>6</th>\n",
       "      <td>30.700001</td>\n",
       "      <td>24.1</td>\n",
       "    </tr>\n",
       "    <tr>\n",
       "      <th>7</th>\n",
       "      <td>17.799999</td>\n",
       "      <td>20.0</td>\n",
       "    </tr>\n",
       "    <tr>\n",
       "      <th>8</th>\n",
       "      <td>10.900000</td>\n",
       "      <td>9.7</td>\n",
       "    </tr>\n",
       "    <tr>\n",
       "      <th>9</th>\n",
       "      <td>12.900000</td>\n",
       "      <td>12.7</td>\n",
       "    </tr>\n",
       "    <tr>\n",
       "      <th>10</th>\n",
       "      <td>21.000000</td>\n",
       "      <td>16.7</td>\n",
       "    </tr>\n",
       "    <tr>\n",
       "      <th>11</th>\n",
       "      <td>17.200001</td>\n",
       "      <td>18.6</td>\n",
       "    </tr>\n",
       "    <tr>\n",
       "      <th>12</th>\n",
       "      <td>28.500000</td>\n",
       "      <td>23.3</td>\n",
       "    </tr>\n",
       "    <tr>\n",
       "      <th>13</th>\n",
       "      <td>36.599998</td>\n",
       "      <td>48.3</td>\n",
       "    </tr>\n",
       "    <tr>\n",
       "      <th>14</th>\n",
       "      <td>23.600000</td>\n",
       "      <td>19.4</td>\n",
       "    </tr>\n",
       "    <tr>\n",
       "      <th>15</th>\n",
       "      <td>24.299999</td>\n",
       "      <td>23.1</td>\n",
       "    </tr>\n",
       "    <tr>\n",
       "      <th>16</th>\n",
       "      <td>14.600000</td>\n",
       "      <td>10.4</td>\n",
       "    </tr>\n",
       "    <tr>\n",
       "      <th>17</th>\n",
       "      <td>11.500000</td>\n",
       "      <td>12.7</td>\n",
       "    </tr>\n",
       "    <tr>\n",
       "      <th>18</th>\n",
       "      <td>30.500000</td>\n",
       "      <td>24.0</td>\n",
       "    </tr>\n",
       "    <tr>\n",
       "      <th>19</th>\n",
       "      <td>22.100000</td>\n",
       "      <td>20.3</td>\n",
       "    </tr>\n",
       "  </tbody>\n",
       "</table>\n",
       "</div>"
      ],
      "text/plain": [
       "         예측가격  실제가격\n",
       "0   23.000000  21.7\n",
       "1   19.500000  19.9\n",
       "2   36.299999  36.5\n",
       "3   19.900000  12.5\n",
       "4   32.299999  29.0\n",
       "5   17.600000  18.1\n",
       "6   30.700001  24.1\n",
       "7   17.799999  20.0\n",
       "8   10.900000   9.7\n",
       "9   12.900000  12.7\n",
       "10  21.000000  16.7\n",
       "11  17.200001  18.6\n",
       "12  28.500000  23.3\n",
       "13  36.599998  48.3\n",
       "14  23.600000  19.4\n",
       "15  24.299999  23.1\n",
       "16  14.600000  10.4\n",
       "17  11.500000  12.7\n",
       "18  30.500000  24.0\n",
       "19  22.100000  20.3"
      ]
     },
     "execution_count": 27,
     "metadata": {},
     "output_type": "execute_result"
    }
   ],
   "source": [
    "price_pred_df = pd.DataFrame({'예측가격': y_pred_top20, '실제가격': y_test.values[:20]})\n",
    "price_pred_df"
   ]
  },
  {
   "cell_type": "code",
   "execution_count": null,
   "id": "6b25d5eb-58dd-46b5-9761-c116961b55b4",
   "metadata": {},
   "outputs": [],
   "source": []
  },
  {
   "cell_type": "markdown",
   "id": "4b176e9b-af3e-4d88-ac7f-6828ec871bed",
   "metadata": {},
   "source": [
    "### (8) 평가 지표 출력하고 머신러닝 LinearRegression과 비교"
   ]
  },
  {
   "cell_type": "code",
   "execution_count": 28,
   "id": "5df985d9-54b5-43ef-910c-454ead77815d",
   "metadata": {},
   "outputs": [
    {
     "name": "stdout",
     "output_type": "stream",
     "text": [
      "MSE : 16.790, RMSE : 4.098\n",
      "R제곱 : 0.764\n"
     ]
    }
   ],
   "source": [
    "# MSE / RMSE R제곱 \n",
    "from sklearn.metrics import mean_squared_error, r2_score\n",
    "\n",
    "mse = mean_squared_error(y_test, y_pred)\n",
    "rmse = np.sqrt(mse)\n",
    "r2 = r2_score(y_test, y_pred)\n",
    "\n",
    "print(f\"MSE : {mse:.3F}, RMSE : {rmse:.3f}\")\n",
    "print(f\"R제곱 : {r2:.3F}\")\n",
    "\n",
    "# MSE : 12.932, RMSE : 3.596\n",
    "# R제곱 : 0.818"
   ]
  },
  {
   "cell_type": "markdown",
   "id": "9587baa3-09aa-4e33-b05b-c2fb2369ed5b",
   "metadata": {},
   "source": [
    "- 일반 선형회귀에 적용했을때보단 성능이 떨어짐\n",
    "- 데이터 양 문제로 딥러닝(은닉층에 활성화 함수를 사용하지 않은) 에서는 제대로 학습이 안되어 잇는 모델일 수 있음\n",
    "    - MSE : 16.790, RMSE : 4.098\n",
    "    - R제곱 : 0.764"
   ]
  },
  {
   "cell_type": "code",
   "execution_count": null,
   "id": "19e0c966-a931-4a98-b3e3-0056780c1c72",
   "metadata": {},
   "outputs": [],
   "source": []
  },
  {
   "cell_type": "code",
   "execution_count": null,
   "id": "a890d698-d3ab-44bd-950c-cb2c4e6f56e7",
   "metadata": {},
   "outputs": [],
   "source": []
  },
  {
   "cell_type": "code",
   "execution_count": null,
   "id": "7a7b365b-921c-4519-bea4-737f13be29a4",
   "metadata": {},
   "outputs": [],
   "source": []
  }
 ],
 "metadata": {
  "kernelspec": {
   "display_name": "DL_ENV",
   "language": "python",
   "name": "dlenv"
  },
  "language_info": {
   "codemirror_mode": {
    "name": "ipython",
    "version": 3
   },
   "file_extension": ".py",
   "mimetype": "text/x-python",
   "name": "python",
   "nbconvert_exporter": "python",
   "pygments_lexer": "ipython3",
   "version": "3.12.9"
  }
 },
 "nbformat": 4,
 "nbformat_minor": 5
}
