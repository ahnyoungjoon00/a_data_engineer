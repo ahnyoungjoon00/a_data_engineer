{
 "cells": [
  {
   "cell_type": "markdown",
   "id": "f91ec9b1-7b6c-4714-b46c-31f1443aef60",
   "metadata": {},
   "source": [
    "### GloVe\n",
    "- 카운트기반과 예측기반을 모두 사용하는 임베딩 방법론\n",
    "- 문서 전체에서 다른 단어들과의 관계를 반영하기 위한 알고리즘 적용한 모듈\n",
    "- word2Vec, fastText, GloVe 중에 가장 성능이 좋다고 알려져 있음"
   ]
  },
  {
   "cell_type": "markdown",
   "id": "8e60d613-9456-4246-925f-d1621705812c",
   "metadata": {},
   "source": [
    "### 기존에 학습된 임베딩 벡터를 사용\n",
    "- gensim 데이터를 사용\n",
    "    - 'glove-wiki-gigaword-50' : 사전 학습된 모델\n",
    "        - 50 : 임베딩 벡터의 크기"
   ]
  },
  {
   "cell_type": "code",
   "execution_count": 1,
   "id": "0dca1d22-b18a-465f-ad15-af891fc3ece7",
   "metadata": {},
   "outputs": [
    {
     "data": {
      "text/plain": [
       "'4.3.3'"
      ]
     },
     "execution_count": 1,
     "metadata": {},
     "output_type": "execute_result"
    }
   ],
   "source": [
    "import gensim\n",
    "gensim.__version__"
   ]
  },
  {
   "cell_type": "code",
   "execution_count": 2,
   "id": "bbb39361-4e6e-4daf-8943-9ad6daf5f8fe",
   "metadata": {},
   "outputs": [
    {
     "name": "stdout",
     "output_type": "stream",
     "text": [
      "[=================---------------------------------] 35.5% 23.4/66.0MB downloaded"
     ]
    },
    {
     "name": "stderr",
     "output_type": "stream",
     "text": [
      "IOPub message rate exceeded.\n",
      "The Jupyter server will temporarily stop sending output\n",
      "to the client in order to avoid crashing it.\n",
      "To change this limit, set the config variable\n",
      "`--ServerApp.iopub_msg_rate_limit`.\n",
      "\n",
      "Current values:\n",
      "ServerApp.iopub_msg_rate_limit=1000.0 (msgs/sec)\n",
      "ServerApp.rate_limit_window=3.0 (secs)\n",
      "\n"
     ]
    },
    {
     "name": "stdout",
     "output_type": "stream",
     "text": [
      "[==============================================----] 93.5% 61.7/66.0MB downloaded"
     ]
    },
    {
     "name": "stderr",
     "output_type": "stream",
     "text": [
      "IOPub message rate exceeded.\n",
      "The Jupyter server will temporarily stop sending output\n",
      "to the client in order to avoid crashing it.\n",
      "To change this limit, set the config variable\n",
      "`--ServerApp.iopub_msg_rate_limit`.\n",
      "\n",
      "Current values:\n",
      "ServerApp.iopub_msg_rate_limit=1000.0 (msgs/sec)\n",
      "ServerApp.rate_limit_window=3.0 (secs)\n",
      "\n"
     ]
    }
   ],
   "source": [
    "import gensim.downloader as api\n",
    "glove_wv = api.load(\"glove-wiki-gigaword-50\")"
   ]
  },
  {
   "cell_type": "code",
   "execution_count": 3,
   "id": "d6ab7bb5-dd8e-4f17-b794-63543f4e7242",
   "metadata": {},
   "outputs": [
    {
     "data": {
      "text/plain": [
       "gensim.models.keyedvectors.KeyedVectors"
      ]
     },
     "execution_count": 3,
     "metadata": {},
     "output_type": "execute_result"
    }
   ],
   "source": [
    "type(glove_wv)"
   ]
  },
  {
   "cell_type": "code",
   "execution_count": 4,
   "id": "2c34e1cd-7d1f-4d67-9849-a4a3ef82ca65",
   "metadata": {},
   "outputs": [
    {
     "data": {
      "text/plain": [
       "400000"
      ]
     },
     "execution_count": 4,
     "metadata": {},
     "output_type": "execute_result"
    }
   ],
   "source": [
    "len(glove_wv)"
   ]
  },
  {
   "cell_type": "code",
   "execution_count": 5,
   "id": "6570cb0c-161f-4980-914b-5d8a9fc36ff5",
   "metadata": {},
   "outputs": [
    {
     "data": {
      "text/plain": [
       "array([ 0.50451 ,  0.68607 , -0.59517 , -0.022801,  0.60046 , -0.13498 ,\n",
       "       -0.08813 ,  0.47377 , -0.61798 , -0.31012 , -0.076666,  1.493   ,\n",
       "       -0.034189, -0.98173 ,  0.68229 ,  0.81722 , -0.51874 , -0.31503 ,\n",
       "       -0.55809 ,  0.66421 ,  0.1961  , -0.13495 , -0.11476 , -0.30344 ,\n",
       "        0.41177 , -2.223   , -1.0756  , -1.0783  , -0.34354 ,  0.33505 ,\n",
       "        1.9927  , -0.04234 , -0.64319 ,  0.71125 ,  0.49159 ,  0.16754 ,\n",
       "        0.34344 , -0.25663 , -0.8523  ,  0.1661  ,  0.40102 ,  1.1685  ,\n",
       "       -1.0137  , -0.21585 , -0.15155 ,  0.78321 , -0.91241 , -1.6106  ,\n",
       "       -0.64426 , -0.51042 ], dtype=float32)"
      ]
     },
     "execution_count": 5,
     "metadata": {},
     "output_type": "execute_result"
    }
   ],
   "source": [
    "# 특정 단어 벡터 확인\n",
    "glove_wv[\"king\"]"
   ]
  },
  {
   "cell_type": "code",
   "execution_count": 6,
   "id": "eae3edd7-4aec-409b-82ff-33e18766e6b1",
   "metadata": {},
   "outputs": [
    {
     "data": {
      "text/plain": [
       "50"
      ]
     },
     "execution_count": 6,
     "metadata": {},
     "output_type": "execute_result"
    }
   ],
   "source": [
    "len(glove_wv[\"king\"])"
   ]
  },
  {
   "cell_type": "code",
   "execution_count": 7,
   "id": "9ccfd24c-6043-4053-a29c-b80085fe631c",
   "metadata": {},
   "outputs": [
    {
     "data": {
      "text/plain": [
       "[('prince', 0.8236179351806641),\n",
       " ('queen', 0.7839043140411377),\n",
       " ('ii', 0.7746230363845825),\n",
       " ('emperor', 0.7736247777938843),\n",
       " ('son', 0.766719400882721),\n",
       " ('uncle', 0.7627150416374207),\n",
       " ('kingdom', 0.7542160749435425),\n",
       " ('throne', 0.7539913654327393),\n",
       " ('brother', 0.7492411136627197),\n",
       " ('ruler', 0.7434253692626953)]"
      ]
     },
     "execution_count": 7,
     "metadata": {},
     "output_type": "execute_result"
    }
   ],
   "source": [
    "glove_wv.most_similar(\"king\")"
   ]
  },
  {
   "cell_type": "code",
   "execution_count": 8,
   "id": "07d63739-d8b5-4452-8f4e-e7691418fdcc",
   "metadata": {},
   "outputs": [
    {
     "data": {
      "text/plain": [
       "0.53093773"
      ]
     },
     "execution_count": 8,
     "metadata": {},
     "output_type": "execute_result"
    }
   ],
   "source": [
    "glove_wv.similarity(\"king\", \"man\")"
   ]
  },
  {
   "cell_type": "code",
   "execution_count": 9,
   "id": "f162692a-8cd1-4c96-82ec-55e9fdbbcdec",
   "metadata": {},
   "outputs": [
    {
     "data": {
      "text/plain": [
       "0.41133785"
      ]
     },
     "execution_count": 9,
     "metadata": {},
     "output_type": "execute_result"
    }
   ],
   "source": [
    "glove_wv.similarity(\"king\", \"woman\")"
   ]
  },
  {
   "cell_type": "code",
   "execution_count": 10,
   "id": "56c2c8b1-7497-4e59-9e88-e1b30a2c24f9",
   "metadata": {},
   "outputs": [
    {
     "data": {
      "text/plain": [
       "0.60031056"
      ]
     },
     "execution_count": 10,
     "metadata": {},
     "output_type": "execute_result"
    }
   ],
   "source": [
    "glove_wv.similarity(\"queen\", \"woman\")"
   ]
  },
  {
   "cell_type": "code",
   "execution_count": 11,
   "id": "41b86806-676f-4625-8937-5a11debd2135",
   "metadata": {},
   "outputs": [
    {
     "data": {
      "text/plain": [
       "0.53667"
      ]
     },
     "execution_count": 11,
     "metadata": {},
     "output_type": "execute_result"
    }
   ],
   "source": [
    "glove_wv.similarity(\"queen\", \"man\")"
   ]
  },
  {
   "cell_type": "code",
   "execution_count": 12,
   "id": "750e92a7-621b-4f43-8207-db63ceb0c971",
   "metadata": {},
   "outputs": [
    {
     "data": {
      "text/plain": [
       "0.7839043"
      ]
     },
     "execution_count": 12,
     "metadata": {},
     "output_type": "execute_result"
    }
   ],
   "source": [
    "glove_wv.similarity(\"queen\", \"king\")"
   ]
  },
  {
   "cell_type": "code",
   "execution_count": null,
   "id": "c36b465f-5379-4b51-9187-09d733f79ea1",
   "metadata": {},
   "outputs": [],
   "source": []
  }
 ],
 "metadata": {
  "kernelspec": {
   "display_name": "DL_ENV",
   "language": "python",
   "name": "dlenv"
  },
  "language_info": {
   "codemirror_mode": {
    "name": "ipython",
    "version": 3
   },
   "file_extension": ".py",
   "mimetype": "text/x-python",
   "name": "python",
   "nbconvert_exporter": "python",
   "pygments_lexer": "ipython3",
   "version": "3.12.9"
  }
 },
 "nbformat": 4,
 "nbformat_minor": 5
}
