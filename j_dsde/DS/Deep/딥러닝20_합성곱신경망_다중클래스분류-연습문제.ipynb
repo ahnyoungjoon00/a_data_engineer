{
 "cells": [
  {
   "cell_type": "markdown",
   "id": "38da6281",
   "metadata": {},
   "source": [
    "## 합성곱신경망 다중 클래스 분류 연습문제\n",
    "- fruits 이미지 사용해서 \n",
    "- 다중 클래스 분류 모델 생성    "
   ]
  },
  {
   "cell_type": "code",
   "execution_count": null,
   "id": "eafec711",
   "metadata": {},
   "outputs": [],
   "source": []
  },
  {
   "cell_type": "code",
   "execution_count": null,
   "id": "bb99b246-714b-4067-b976-e044745f4059",
   "metadata": {},
   "outputs": [],
   "source": []
  }
 ],
 "metadata": {
  "kernelspec": {
   "display_name": "DL_ENV",
   "language": "python",
   "name": "dlenv"
  },
  "language_info": {
   "codemirror_mode": {
    "name": "ipython",
    "version": 3
   },
   "file_extension": ".py",
   "mimetype": "text/x-python",
   "name": "python",
   "nbconvert_exporter": "python",
   "pygments_lexer": "ipython3",
   "version": "3.12.9"
  }
 },
 "nbformat": 4,
 "nbformat_minor": 5
}
