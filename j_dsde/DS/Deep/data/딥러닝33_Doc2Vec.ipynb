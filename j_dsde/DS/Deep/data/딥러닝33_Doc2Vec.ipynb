{
 "cells": [
  {
   "cell_type": "markdown",
   "id": "e7be870d-7b1c-4883-b6d0-c0c4e4fc17ab",
   "metadata": {},
   "source": [
    "## Doc2Vec"
   ]
  },
  {
   "cell_type": "markdown",
   "id": "07db6916-36a3-497e-b629-ffdba86e58ed",
   "metadata": {},
   "source": [
    "- Word2Vec을 변형하여 문서의 임베딩을 얻을 수 있도록 한 알고리즘\n",
    "- 문서에 대해 직접 임베딩 수행\n",
    "- 문맥을 고려한 임베딩\n",
    "- (딥러닝 활용 자연어 처리 방법에서는 대부분 단어에 대해 임베딩)\n",
    "- BoW 방식의 카운트 백터나 TF-IDF 벡터 : 문서 임베딩\n",
    "  - 단어의 순서를 고려한 문맥 정보 무시 "
   ]
  },
  {
   "cell_type": "markdown",
   "id": "387cad8a-d462-4443-be93-39ef7dc98ae3",
   "metadata": {},
   "source": [
    "#### Doc2Vec 원리\n",
    "- Doc2Vec에서는 문서의 ID를 단어와 동일하게 취급해서 학습 과정에 포함\n",
    "- 다른 단어들이 문맥정보가 반영되어 학습되는 동안 문서 ID도 그 문서에서 나온 단어들의 문백정보를 같이 학습\n",
    "- 말뭉치에 있는 문서들에 대해 학습이 완료되면 문서들 간의 직접적인 비교 가능\n",
    "- Doc2Vec과 같이 주어진 문서에 대해 유사한 문서를 찾거나 다양한 연산들 가능\n",
    "- 또한 임베딩 벡터를 이용해 문서 분류와 같은 목적으로 활용 가능 \n",
    "- 문서의 임베딩 벡터를 분류기의 입력으로 사용하면 감성 분석 등 다양한 작업 가능 "
   ]
  },
  {
   "cell_type": "code",
   "execution_count": 2,
   "id": "0a4b64a5-5935-4f10-b5be-35ea4bbe762e",
   "metadata": {},
   "outputs": [],
   "source": [
    "# 문서의 ID가 전체 단어의 일반적인 특성을 학습하게 됨"
   ]
  },
  {
   "cell_type": "markdown",
   "id": "2e0649d4-ffa7-4d3e-aa2c-47a1d30bb827",
   "metadata": {},
   "source": [
    "### Doc2Vec 예제 : 추천 시스템"
   ]
  },
  {
   "cell_type": "markdown",
   "id": "aaec7753-a074-4f35-b1a2-ce29b3d187fe",
   "metadata": {},
   "source": [
    "- 도서 제목을 입력하면 줄거리의 유사도가 높은 순으로 도서 추천 "
   ]
  },
  {
   "cell_type": "code",
   "execution_count": 1,
   "id": "101a8573-d8e4-438b-9bc7-b8b7209b15a2",
   "metadata": {},
   "outputs": [],
   "source": [
    "# 한 셀에서 여려 결과 출력\n",
    "from IPython.core.interactiveshell import InteractiveShell\n",
    "InteractiveShell.ast_node_interactivity=\"all\""
   ]
  },
  {
   "cell_type": "code",
   "execution_count": 87,
   "id": "82e01202-de1f-4320-aad5-83b0905b66b8",
   "metadata": {},
   "outputs": [
    {
     "data": {
      "text/html": [
       "<div>\n",
       "<style scoped>\n",
       "    .dataframe tbody tr th:only-of-type {\n",
       "        vertical-align: middle;\n",
       "    }\n",
       "\n",
       "    .dataframe tbody tr th {\n",
       "        vertical-align: top;\n",
       "    }\n",
       "\n",
       "    .dataframe thead th {\n",
       "        text-align: right;\n",
       "    }\n",
       "</style>\n",
       "<table border=\"1\" class=\"dataframe\">\n",
       "  <thead>\n",
       "    <tr style=\"text-align: right;\">\n",
       "      <th></th>\n",
       "      <th>Unnamed: 0.1</th>\n",
       "      <th>Desc</th>\n",
       "      <th>Unnamed: 0</th>\n",
       "      <th>author</th>\n",
       "      <th>genre</th>\n",
       "      <th>image_link</th>\n",
       "      <th>rating</th>\n",
       "      <th>title</th>\n",
       "    </tr>\n",
       "  </thead>\n",
       "  <tbody>\n",
       "    <tr>\n",
       "      <th>0</th>\n",
       "      <td>0</td>\n",
       "      <td>We know that power is shifting: From West to E...</td>\n",
       "      <td>0.0</td>\n",
       "      <td>Moisés Naím</td>\n",
       "      <td>Business</td>\n",
       "      <td>https://i.gr-assets.com/images/S/compressed.ph...</td>\n",
       "      <td>3.63</td>\n",
       "      <td>The End of Power: From Boardrooms to Battlefie...</td>\n",
       "    </tr>\n",
       "    <tr>\n",
       "      <th>1</th>\n",
       "      <td>1</td>\n",
       "      <td>Following the success of The Accidental Billio...</td>\n",
       "      <td>1.0</td>\n",
       "      <td>Blake J. Harris</td>\n",
       "      <td>Business</td>\n",
       "      <td>https://i.gr-assets.com/images/S/compressed.ph...</td>\n",
       "      <td>3.94</td>\n",
       "      <td>Console Wars: Sega, Nintendo, and the Battle t...</td>\n",
       "    </tr>\n",
       "    <tr>\n",
       "      <th>2</th>\n",
       "      <td>2</td>\n",
       "      <td>How to tap the power of social software and ne...</td>\n",
       "      <td>2.0</td>\n",
       "      <td>Chris Brogan</td>\n",
       "      <td>Business</td>\n",
       "      <td>https://i.gr-assets.com/images/S/compressed.ph...</td>\n",
       "      <td>3.78</td>\n",
       "      <td>Trust Agents: Using the Web to Build Influence...</td>\n",
       "    </tr>\n",
       "    <tr>\n",
       "      <th>3</th>\n",
       "      <td>3</td>\n",
       "      <td>William J. Bernstein is an American financial ...</td>\n",
       "      <td>3.0</td>\n",
       "      <td>William J. Bernstein</td>\n",
       "      <td>Business</td>\n",
       "      <td>https://i.gr-assets.com/images/S/compressed.ph...</td>\n",
       "      <td>4.20</td>\n",
       "      <td>The Four Pillars of Investing</td>\n",
       "    </tr>\n",
       "    <tr>\n",
       "      <th>4</th>\n",
       "      <td>4</td>\n",
       "      <td>Amazing book. And I joined Steve Jobs and many...</td>\n",
       "      <td>4.0</td>\n",
       "      <td>Akio Morita</td>\n",
       "      <td>Business</td>\n",
       "      <td>https://i.gr-assets.com/images/S/compressed.ph...</td>\n",
       "      <td>4.05</td>\n",
       "      <td>Made in Japan: Akio Morita and Sony</td>\n",
       "    </tr>\n",
       "  </tbody>\n",
       "</table>\n",
       "</div>"
      ],
      "text/plain": [
       "   Unnamed: 0.1                                               Desc  \\\n",
       "0             0  We know that power is shifting: From West to E...   \n",
       "1             1  Following the success of The Accidental Billio...   \n",
       "2             2  How to tap the power of social software and ne...   \n",
       "3             3  William J. Bernstein is an American financial ...   \n",
       "4             4  Amazing book. And I joined Steve Jobs and many...   \n",
       "\n",
       "   Unnamed: 0                author     genre  \\\n",
       "0         0.0           Moisés Naím  Business   \n",
       "1         1.0       Blake J. Harris  Business   \n",
       "2         2.0          Chris Brogan  Business   \n",
       "3         3.0  William J. Bernstein  Business   \n",
       "4         4.0           Akio Morita  Business   \n",
       "\n",
       "                                          image_link  rating  \\\n",
       "0  https://i.gr-assets.com/images/S/compressed.ph...    3.63   \n",
       "1  https://i.gr-assets.com/images/S/compressed.ph...    3.94   \n",
       "2  https://i.gr-assets.com/images/S/compressed.ph...    3.78   \n",
       "3  https://i.gr-assets.com/images/S/compressed.ph...    4.20   \n",
       "4  https://i.gr-assets.com/images/S/compressed.ph...    4.05   \n",
       "\n",
       "                                               title  \n",
       "0  The End of Power: From Boardrooms to Battlefie...  \n",
       "1  Console Wars: Sega, Nintendo, and the Battle t...  \n",
       "2  Trust Agents: Using the Web to Build Influence...  \n",
       "3                      The Four Pillars of Investing  \n",
       "4                Made in Japan: Akio Morita and Sony  "
      ]
     },
     "execution_count": 87,
     "metadata": {},
     "output_type": "execute_result"
    }
   ],
   "source": [
    "import pandas as pd\n",
    "df = pd.read_csv(\"./data/data.csv\")\n",
    "df.head()"
   ]
  },
  {
   "cell_type": "code",
   "execution_count": 88,
   "id": "2bd8c2b0-3a09-4fec-9a24-ab82e78e9cc6",
   "metadata": {},
   "outputs": [
    {
     "name": "stdout",
     "output_type": "stream",
     "text": [
      "<class 'pandas.core.frame.DataFrame'>\n",
      "RangeIndex: 2382 entries, 0 to 2381\n",
      "Data columns (total 8 columns):\n",
      " #   Column        Non-Null Count  Dtype  \n",
      "---  ------        --------------  -----  \n",
      " 0   Unnamed: 0.1  2382 non-null   int64  \n",
      " 1   Desc          2382 non-null   object \n",
      " 2   Unnamed: 0    1185 non-null   float64\n",
      " 3   author        2382 non-null   object \n",
      " 4   genre         2382 non-null   object \n",
      " 5   image_link    2382 non-null   object \n",
      " 6   rating        2382 non-null   float64\n",
      " 7   title         2382 non-null   object \n",
      "dtypes: float64(2), int64(1), object(5)\n",
      "memory usage: 149.0+ KB\n"
     ]
    }
   ],
   "source": [
    "df.info()"
   ]
  },
  {
   "cell_type": "code",
   "execution_count": 89,
   "id": "6ea7aa3c-f861-4ddb-b723-3c95a61af1d6",
   "metadata": {},
   "outputs": [
    {
     "data": {
      "text/plain": [
       "\"The End of Power: From Boardrooms to Battlefields and Churches to States, Why Being In Charge Isn't What It Used to Be\""
      ]
     },
     "execution_count": 89,
     "metadata": {},
     "output_type": "execute_result"
    }
   ],
   "source": [
    "df.title[0]"
   ]
  },
  {
   "cell_type": "code",
   "execution_count": 90,
   "id": "dc6d8ce5-e557-4d37-8019-aaaf322b58ae",
   "metadata": {},
   "outputs": [
    {
     "data": {
      "text/plain": [
       "\"We know that power is shifting: From West to East and North to South, from presidential palaces to public squares, from once formidable corporate behemoths to nimble startups and, slowly but surely, from men to women. But power is not merely shifting and dispersing. It is also decaying. Those in power today are more constrained in what they can do with it and more at risk of losing it than ever before. In The End of Power, award-winning columnist and former Foreign Policy editor Moisés Naím illuminates the struggle between once-dominant megaplayers and the new micropowers challenging them in every field of human endeavor. Drawing on provocative, original research, Naím shows how the antiestablishment drive of micropowers can topple tyrants, dislodge monopolies, and open remarkable new opportunities, but it can also lead to chaos and paralysis. Naím deftly covers the seismic changes underway in business, religion, education, within families, and in all matters of war and peace. Examples abound in all walks of life: In 1977, eighty-nine countries were ruled by autocrats while today more than half the world's population lives in democracies. CEO's are more constrained and have shorter tenures than their predecessors. Modern tools of war, cheaper and more accessible, make it possible for groups like Hezbollah to afford their own drones. In the second half of 2010, the top ten hedge funds earned more than the world's largest six banks combined. Those in power retain it by erecting powerful barriers to keep challengers at bay. Today, insurgent forces dismantle those barriers more quickly and easily than ever, only to find that they themselves become vulnerable in the process. Accessible and captivating, Naím offers a revolutionary look at the inevitable end of power—and how it will change your world.\""
      ]
     },
     "execution_count": 90,
     "metadata": {},
     "output_type": "execute_result"
    }
   ],
   "source": [
    "df.Desc[0]"
   ]
  },
  {
   "cell_type": "code",
   "execution_count": null,
   "id": "138c9682-7b0e-460b-a092-08a74d9c7737",
   "metadata": {},
   "outputs": [],
   "source": [
    "# Desc 열에 대해 전처리 \n",
    "# 아스키 문자 아니면 제거\n",
    "# 소문자로 변환\n",
    "# stopwords 제거\n",
    "# HTML 태그 제거\n",
    "# 구두점 제거 \n",
    "# 영문자만 남기기"
   ]
  },
  {
   "cell_type": "code",
   "execution_count": null,
   "id": "c8434d7a",
   "metadata": {},
   "outputs": [],
   "source": [
    "import nltk\n",
    "nltk.download('stopwords')"
   ]
  },
  {
   "cell_type": "code",
   "execution_count": null,
   "id": "d97e2dda-ab18-432a-9b36-fca98a5b8a3e",
   "metadata": {},
   "outputs": [],
   "source": [
    "from nltk.tokenize import RegexpTokenizer\n",
    "from nltk.corpus import stopwords\n",
    "import re\n",
    "\n",
    "# 아스키 문자 아니면 제거  \n",
    "def _removeNonAscii(s):\n",
    "    return \n",
    "\n",
    "def make_lower_case(text):\n",
    "    return \n",
    "\n",
    "def remove_stop_words(text):\n",
    "\n",
    "    return text\n",
    "\n",
    "def remove_html(text):\n",
    "    \n",
    "    return html_pattern.sub(r'', text)\n",
    "\n",
    "def remove_punctuation(text):\n",
    "\n",
    "    text = \" \".join(text)\n",
    "    return text\n",
    "\n",
    "df['cleaned'] = df['Desc'].apply(_removeNonAscii)\n",
    "df['cleaned'] = df.cleaned.apply(make_lower_case)\n",
    "df['cleaned'] = df.cleaned.apply(remove_stop_words)\n",
    "df['cleaned'] = df.cleaned.apply(remove_punctuation)\n",
    "df['cleaned'] = df.cleaned.apply(remove_html)"
   ]
  },
  {
   "cell_type": "code",
   "execution_count": 93,
   "id": "b1c354fa-224c-4f59-b0f8-6bb83af93c02",
   "metadata": {},
   "outputs": [
    {
     "data": {
      "text/html": [
       "<div>\n",
       "<style scoped>\n",
       "    .dataframe tbody tr th:only-of-type {\n",
       "        vertical-align: middle;\n",
       "    }\n",
       "\n",
       "    .dataframe tbody tr th {\n",
       "        vertical-align: top;\n",
       "    }\n",
       "\n",
       "    .dataframe thead th {\n",
       "        text-align: right;\n",
       "    }\n",
       "</style>\n",
       "<table border=\"1\" class=\"dataframe\">\n",
       "  <thead>\n",
       "    <tr style=\"text-align: right;\">\n",
       "      <th></th>\n",
       "      <th>Unnamed: 0.1</th>\n",
       "      <th>Desc</th>\n",
       "      <th>Unnamed: 0</th>\n",
       "      <th>author</th>\n",
       "      <th>genre</th>\n",
       "      <th>image_link</th>\n",
       "      <th>rating</th>\n",
       "      <th>title</th>\n",
       "      <th>cleaned</th>\n",
       "    </tr>\n",
       "  </thead>\n",
       "  <tbody>\n",
       "    <tr>\n",
       "      <th>0</th>\n",
       "      <td>0</td>\n",
       "      <td>We know that power is shifting: From West to E...</td>\n",
       "      <td>0.0</td>\n",
       "      <td>Moisés Naím</td>\n",
       "      <td>Business</td>\n",
       "      <td>https://i.gr-assets.com/images/S/compressed.ph...</td>\n",
       "      <td>3.63</td>\n",
       "      <td>The End of Power: From Boardrooms to Battlefie...</td>\n",
       "      <td>know power shifting west east north south pres...</td>\n",
       "    </tr>\n",
       "    <tr>\n",
       "      <th>1</th>\n",
       "      <td>1</td>\n",
       "      <td>Following the success of The Accidental Billio...</td>\n",
       "      <td>1.0</td>\n",
       "      <td>Blake J. Harris</td>\n",
       "      <td>Business</td>\n",
       "      <td>https://i.gr-assets.com/images/S/compressed.ph...</td>\n",
       "      <td>3.94</td>\n",
       "      <td>Console Wars: Sega, Nintendo, and the Battle t...</td>\n",
       "      <td>following success accidental billionaires mone...</td>\n",
       "    </tr>\n",
       "    <tr>\n",
       "      <th>2</th>\n",
       "      <td>2</td>\n",
       "      <td>How to tap the power of social software and ne...</td>\n",
       "      <td>2.0</td>\n",
       "      <td>Chris Brogan</td>\n",
       "      <td>Business</td>\n",
       "      <td>https://i.gr-assets.com/images/S/compressed.ph...</td>\n",
       "      <td>3.78</td>\n",
       "      <td>Trust Agents: Using the Web to Build Influence...</td>\n",
       "      <td>tap power social software networks build busin...</td>\n",
       "    </tr>\n",
       "    <tr>\n",
       "      <th>3</th>\n",
       "      <td>3</td>\n",
       "      <td>William J. Bernstein is an American financial ...</td>\n",
       "      <td>3.0</td>\n",
       "      <td>William J. Bernstein</td>\n",
       "      <td>Business</td>\n",
       "      <td>https://i.gr-assets.com/images/S/compressed.ph...</td>\n",
       "      <td>4.20</td>\n",
       "      <td>The Four Pillars of Investing</td>\n",
       "      <td>william j bernstein american financial theoris...</td>\n",
       "    </tr>\n",
       "    <tr>\n",
       "      <th>4</th>\n",
       "      <td>4</td>\n",
       "      <td>Amazing book. And I joined Steve Jobs and many...</td>\n",
       "      <td>4.0</td>\n",
       "      <td>Akio Morita</td>\n",
       "      <td>Business</td>\n",
       "      <td>https://i.gr-assets.com/images/S/compressed.ph...</td>\n",
       "      <td>4.05</td>\n",
       "      <td>Made in Japan: Akio Morita and Sony</td>\n",
       "      <td>amazing book joined steve jobs many akio morit...</td>\n",
       "    </tr>\n",
       "  </tbody>\n",
       "</table>\n",
       "</div>"
      ],
      "text/plain": [
       "   Unnamed: 0.1                                               Desc  \\\n",
       "0             0  We know that power is shifting: From West to E...   \n",
       "1             1  Following the success of The Accidental Billio...   \n",
       "2             2  How to tap the power of social software and ne...   \n",
       "3             3  William J. Bernstein is an American financial ...   \n",
       "4             4  Amazing book. And I joined Steve Jobs and many...   \n",
       "\n",
       "   Unnamed: 0                author     genre  \\\n",
       "0         0.0           Moisés Naím  Business   \n",
       "1         1.0       Blake J. Harris  Business   \n",
       "2         2.0          Chris Brogan  Business   \n",
       "3         3.0  William J. Bernstein  Business   \n",
       "4         4.0           Akio Morita  Business   \n",
       "\n",
       "                                          image_link  rating  \\\n",
       "0  https://i.gr-assets.com/images/S/compressed.ph...    3.63   \n",
       "1  https://i.gr-assets.com/images/S/compressed.ph...    3.94   \n",
       "2  https://i.gr-assets.com/images/S/compressed.ph...    3.78   \n",
       "3  https://i.gr-assets.com/images/S/compressed.ph...    4.20   \n",
       "4  https://i.gr-assets.com/images/S/compressed.ph...    4.05   \n",
       "\n",
       "                                               title  \\\n",
       "0  The End of Power: From Boardrooms to Battlefie...   \n",
       "1  Console Wars: Sega, Nintendo, and the Battle t...   \n",
       "2  Trust Agents: Using the Web to Build Influence...   \n",
       "3                      The Four Pillars of Investing   \n",
       "4                Made in Japan: Akio Morita and Sony   \n",
       "\n",
       "                                             cleaned  \n",
       "0  know power shifting west east north south pres...  \n",
       "1  following success accidental billionaires mone...  \n",
       "2  tap power social software networks build busin...  \n",
       "3  william j bernstein american financial theoris...  \n",
       "4  amazing book joined steve jobs many akio morit...  "
      ]
     },
     "execution_count": 93,
     "metadata": {},
     "output_type": "execute_result"
    }
   ],
   "source": [
    "df.head()"
   ]
  },
  {
   "cell_type": "code",
   "execution_count": null,
   "id": "114f059a",
   "metadata": {},
   "outputs": [],
   "source": [
    "df['Desc'][2][:50]"
   ]
  },
  {
   "cell_type": "code",
   "execution_count": null,
   "id": "01fe2c36-ef56-40a7-8ada-6bf956f53be6",
   "metadata": {},
   "outputs": [
    {
     "data": {
      "text/plain": [
       "'tap power social software networks build business trust agents two social media veterans show tap power social networks build brand s influence reputation and course profits today s online influencers web natives trade trust reputation relationships using social media accrue influence builds brings businesses online the book shows people use online social tools build networks influence use networks positively impact business trust key building online reputations traffic trust agents key people business needs side delivers actionable steps case studies show social media positively impact business written authors ten years online media experience shows build wield influence online benefit brand combines high level theory practical step by step guidance want business succeed sit sidelines instead use web build trust consumers using trust agents'"
      ]
     },
     "execution_count": 94,
     "metadata": {},
     "output_type": "execute_result"
    }
   ],
   "source": [
    "df['cleaned'][2][:50]"
   ]
  },
  {
   "cell_type": "code",
   "execution_count": 95,
   "id": "236e1ee1-e81b-4b79-b3e9-169339490eff",
   "metadata": {},
   "outputs": [],
   "source": [
    "from gensim.models.doc2vec import TaggedDocument\n",
    "from konlpy.tag import Okt\n",
    "okt = Okt()"
   ]
  },
  {
   "cell_type": "markdown",
   "id": "52cb5db3",
   "metadata": {},
   "source": [
    "- genism의 TaggedDocument\n",
    "    - 문서에 그 문서의 분류명이나 키워드 같은 메타 정보를 담은 문자열 또는 정수값을 부여하는 기능"
   ]
  },
  {
   "cell_type": "code",
   "execution_count": null,
   "id": "f45887c6-9f2d-4583-9bdc-1f31ed300fb8",
   "metadata": {},
   "outputs": [
    {
     "name": "stderr",
     "output_type": "stream",
     "text": [
      "100%|█████████████████████████████████████████████████████████████████████████████| 2382/2382 [00:07<00:00, 323.71it/s]"
     ]
    },
    {
     "name": "stdout",
     "output_type": "stream",
     "text": [
      "문서의 수 : 2382\n",
      "CPU times: total: 3.45 s\n",
      "Wall time: 7.38 s\n"
     ]
    },
    {
     "name": "stderr",
     "output_type": "stream",
     "text": [
      "\n"
     ]
    }
   ],
   "source": [
    "%%time\n",
    "from tqdm import tqdm\n",
    "\n",
    "tagged_corpus_list = []\n",
    "\n",
    "for index, row in tqdm(df.iterrows(), total=len(df)):\n",
    "  text = row['cleaned']\n",
    "  tag = row['title']\n",
    "\n",
    "\n",
    "print('문서의 수 :', len(tagged_corpus_list))"
   ]
  },
  {
   "cell_type": "code",
   "execution_count": 97,
   "id": "1174a7cb-a60a-4c18-ad8b-9c9c7936e97d",
   "metadata": {
    "collapsed": true,
    "jupyter": {
     "outputs_hidden": true
    }
   },
   "outputs": [
    {
     "data": {
      "text/plain": [
       "TaggedDocument(words=['know', 'power', 'shifting', 'west', 'east', 'north', 'south', 'presidential', 'palaces', 'public', 'squares', 'formidable', 'corporate', 'behemoths', 'nimble', 'startups', 'and', 'slowly', 'surely', 'men', 'women', 'power', 'merely', 'shifting', 'dispersing', 'also', 'decaying', 'power', 'today', 'constrained', 'risk', 'losing', 'ever', 'before', 'end', 'power', 'award', 'winning', 'columnist', 'former', 'foreign', 'policy', 'editor', 'moiss', 'nam', 'illuminates', 'struggle', 'once', 'dominant', 'megaplayers', 'new', 'micropowers', 'challenging', 'every', 'field', 'human', 'endeavor', 'drawing', 'provocative', 'original', 'research', 'nam', 'shows', 'antiestablishment', 'drive', 'micropowers', 'topple', 'tyrants', 'dislodge', 'monopolies', 'open', 'remarkable', 'new', 'opportunities', 'also', 'lead', 'chaos', 'paralysis', 'nam', 'deftly', 'covers', 'seismic', 'changes', 'underway', 'business', 'religion', 'education', 'within', 'families', 'matters', 'war', 'peace', 'examples', 'abound', 'walks', 'life', 'eighty', 'nine', 'countries', 'ruled', 'autocrats', 'today', 'half', 'world', 's', 'population', 'lives', 'democracies', 'ceo', 's', 'constrained', 'shorter', 'tenures', 'predecessors', 'modern', 'tools', 'war', 'cheaper', 'accessible', 'make', 'possible', 'groups', 'like', 'hezbollah', 'afford', 'drones', 'second', 'half', 'top', 'ten', 'hedge', 'funds', 'earned', 'world', 's', 'largest', 'six', 'banks', 'combined', 'power', 'retain', 'erecting', 'powerful', 'barriers', 'keep', 'challengers', 'bay', 'today', 'insurgent', 'forces', 'dismantle', 'barriers', 'quickly', 'easily', 'ever', 'find', 'become', 'vulnerable', 'process', 'accessible', 'captivating', 'nam', 'offers', 'revolutionary', 'look', 'inevitable', 'end', 'powerand', 'change', 'world'], tags=[\"The End of Power: From Boardrooms to Battlefields and Churches to States, Why Being In Charge Isn't What It Used to Be\"])"
      ]
     },
     "execution_count": 97,
     "metadata": {},
     "output_type": "execute_result"
    }
   ],
   "source": [
    "tagged_corpus_list[0]"
   ]
  },
  {
   "cell_type": "markdown",
   "id": "e9adcf5e",
   "metadata": {},
   "source": [
    "- window ( int , 선택 사항 ) – 문장 내에서 현재 단어와 예측 단어 사이의 최대 거리\n",
    "- workers ( int , 선택 사항 ) – 이 많은 작업자 스레드를 사용하여 모델을 학습(=멀티코어 머신으로 더 빠른 학습)\n",
    "- total_examples ( int , 선택 사항 ) – 문서 수\n",
    "- corpus_count : input 데이터에서 문장이 몇개 들어가 있는지 확인 가능"
   ]
  },
  {
   "cell_type": "code",
   "execution_count": 98,
   "id": "0d9cce3d-6ba4-4f74-bc9d-d3b0da571bb5",
   "metadata": {},
   "outputs": [],
   "source": [
    "from gensim.models import Doc2Vec"
   ]
  },
  {
   "cell_type": "code",
   "execution_count": null,
   "id": "498555bf-461d-4b8a-8661-19223f1a429f",
   "metadata": {},
   "outputs": [],
   "source": [
    "\n",
    "\n",
    "\n"
   ]
  },
  {
   "cell_type": "code",
   "execution_count": null,
   "id": "c6f1e3d6-f7b3-44a3-820d-4ceb263eec75",
   "metadata": {},
   "outputs": [],
   "source": []
  },
  {
   "cell_type": "code",
   "execution_count": null,
   "id": "56a6e360-7338-4038-902f-3cfb4e12c3b9",
   "metadata": {},
   "outputs": [],
   "source": [
    "# 추천 시스템\n",
    "# 도서명(title) 입력하면 도서의 줄거리와 유사한 도서 추천 "
   ]
  },
  {
   "cell_type": "code",
   "execution_count": null,
   "id": "2f243100-0623-4f57-8350-2c4ef992e3d2",
   "metadata": {},
   "outputs": [],
   "source": [
    "# 함수로 작성\n",
    "def book_recommend(title):\n"
   ]
  },
  {
   "cell_type": "code",
   "execution_count": null,
   "id": "36c0096b-05d4-487e-8e21-eff8f5dcb5ed",
   "metadata": {},
   "outputs": [],
   "source": []
  },
  {
   "cell_type": "code",
   "execution_count": null,
   "id": "54788ac9-7823-4ceb-a5a4-b89ef7e044e3",
   "metadata": {},
   "outputs": [],
   "source": [
    "############################################################################################################"
   ]
  },
  {
   "cell_type": "code",
   "execution_count": null,
   "id": "192ab47b-c8c7-46cd-b328-a5e4dbcb329d",
   "metadata": {},
   "outputs": [],
   "source": [
    "# 추천 시스템에서 도서명 입력 시 대소문자 상관없이 검색해서 \n",
    "# 대문자로 된 원래 도서명으로 출력  - 딥러닝 34"
   ]
  }
 ],
 "metadata": {
  "kernelspec": {
   "display_name": "DL_ENV",
   "language": "python",
   "name": "dlenv"
  },
  "language_info": {
   "codemirror_mode": {
    "name": "ipython",
    "version": 3
   },
   "file_extension": ".py",
   "mimetype": "text/x-python",
   "name": "python",
   "nbconvert_exporter": "python",
   "pygments_lexer": "ipython3",
   "version": "3.12.9"
  }
 },
 "nbformat": 4,
 "nbformat_minor": 5
}
