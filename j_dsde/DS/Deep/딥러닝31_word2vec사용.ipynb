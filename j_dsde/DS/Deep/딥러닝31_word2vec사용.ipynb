{
 "cells": [
  {
   "cell_type": "markdown",
   "id": "76f81150-6531-490f-93a2-51eec8b71e87",
   "metadata": {},
   "source": [
    "## gensim 패키지에서 제공하는 이미 구현된 Word2Vec사용\n",
    "- 이미 구현된 Word2Vec을 사용하여 영어와 한국어 데이터로 학습한 모델 생성 \n",
    "- 영어 데이터로 학습한 Word2Vec 모델 생성\n",
    "  - 영어로 된 코퍼스를 다운받아 전처리 수행하고\n",
    "  - 전처리한 데이터로 Word2Vec 작업 진행\n",
    "- 한국어 데이터로 학습한 Word2Vec 모델 생성"
   ]
  },
  {
   "cell_type": "code",
   "execution_count": null,
   "id": "236f50f1-b6da-4384-87ff-693d034a704f",
   "metadata": {},
   "outputs": [],
   "source": []
  },
  {
   "cell_type": "markdown",
   "id": "179be264-9822-49e0-bc5b-59a411ab7923",
   "metadata": {},
   "source": [
    "### 영어 Word2Vec"
   ]
  },
  {
   "cell_type": "markdown",
   "id": "ed99f9df-1120-4f53-9f47-fc01f6185eab",
   "metadata": {},
   "source": [
    "- ted_en-20160408.xml\n",
    "    - 학술강의 ted 영상 자막 파일\n",
    "- 학습 데이터 파일은 xml 파일로 내용을 추출하기 위해서는 전처리 필요  \n",
    "- 실제 데이터는 영어문장으로만 구성된 내용을 담고 있는 \\<content>와 \\</content> 사이의 내용  \n",
    "- **영문 전처리 작업**을 통해 xml 태그 제거, 해당 데이터만 추출  \n",
    "- \\<content>와 \\</content> 사이의 (Laughter)나 (Applause)와 같은 배경음을 나타내는 단어도 제거 "
   ]
  },
  {
   "cell_type": "code",
   "execution_count": 1,
   "id": "0c445c2f-178b-49f1-9b2b-126335184a8f",
   "metadata": {},
   "outputs": [],
   "source": [
    "# 데이터 다운로드\n",
    "# import urllib.request\n",
    "# urllib.request.urlretrieve(\"https://raw.githubusercontent.com/ukairia777/tensorflow-nlp-tutorial/main/09.%20Word%20Embedding/dataset/ted_en-20160408.xml\", \n",
    "#                            filename=\"./data/ted_en-20160408.xml\")"
   ]
  },
  {
   "cell_type": "markdown",
   "id": "354a9a1e-d520-4419-abf7-ca4183968000",
   "metadata": {},
   "source": [
    "##### 전처리 수행"
   ]
  },
  {
   "cell_type": "code",
   "execution_count": 2,
   "id": "a70ca0ce-bd85-42e6-8a1e-4d6c4e36b6a6",
   "metadata": {},
   "outputs": [
    {
     "data": {
      "text/plain": [
       "<lxml.etree._ElementTree at 0x20ad2896a80>"
      ]
     },
     "execution_count": 2,
     "metadata": {},
     "output_type": "execute_result"
    }
   ],
   "source": [
    "from lxml import etree\n",
    "targetXML = open('./data/ted_en-20160408.xml', 'r', encoding='utf8')\n",
    "target_text = etree.parse(targetXML)\n",
    "target_text"
   ]
  },
  {
   "cell_type": "markdown",
   "id": "0a273d74-30d1-4f88-98b9-6e02a9b1b9a6",
   "metadata": {},
   "source": [
    "- \\<content>와 \\</content> 사이 내용이 강의 영상 자막"
   ]
  },
  {
   "cell_type": "code",
   "execution_count": 3,
   "id": "a02a8d0b-726e-4e9e-8ea4-d4f65648b8ae",
   "metadata": {},
   "outputs": [],
   "source": [
    "# xml 파일로부터 <content>와 </content> 사이의 내용만 추출\n",
    "parse_text = '\\n'.join(target_text.xpath('//content/text()'))\n",
    "# parse_text"
   ]
  },
  {
   "cell_type": "code",
   "execution_count": 4,
   "id": "60bd80ab-68a9-4f37-ac47-8493a23d4049",
   "metadata": {},
   "outputs": [],
   "source": [
    "import re\n",
    "# 정규 표현식의 sub 모듈을 통해 content 중간에 등장하는 (Audio), (Laughter) 등의 배경음 부분 제거.\n",
    "# 해당 코드는 괄호로 구성된 내용을 제거.\n",
    "content_text = re.sub(r'\\([^)]*\\)', '', parse_text)\n",
    "# content_text"
   ]
  },
  {
   "cell_type": "markdown",
   "id": "6f9449ce",
   "metadata": {},
   "source": [
    "- NLTK(Natural Language Toolkit) 패키지\n",
    "    - 교육용으로 개발된 자연어 처리 및 문서 분석용 파이썬 패키지\n",
    "    - 다양한 기능 및 예제를 가지고 있으며 실무 및 연구에서도 많이 사용"
   ]
  },
  {
   "cell_type": "code",
   "execution_count": 5,
   "id": "d7102746-61b7-4288-8c6a-9ad22e3cac1b",
   "metadata": {},
   "outputs": [
    {
     "name": "stderr",
     "output_type": "stream",
     "text": [
      "[nltk_data] Downloading package punkt_tab to\n",
      "[nltk_data]     C:\\Users\\82108\\AppData\\Roaming\\nltk_data...\n",
      "[nltk_data]   Package punkt_tab is already up-to-date!\n"
     ]
    },
    {
     "data": {
      "text/plain": [
       "True"
      ]
     },
     "execution_count": 5,
     "metadata": {},
     "output_type": "execute_result"
    }
   ],
   "source": [
    "import nltk\n",
    "nltk.download('punkt_tab')"
   ]
  },
  {
   "cell_type": "markdown",
   "id": "40335620",
   "metadata": {},
   "source": [
    "- 말뭉치(corpus)\n",
    "    - 평소 쓰는 말이나 글을 컴퓨터가 읽을 수 있는 형태로 모아 놓은 언어 집합 자료\n",
    "    - ex. 연설문, 자막 등\n",
    "- sent_tokenize   \n",
    "    - 코퍼스(말뭉치)를 문장 단위로 구분하는 작업\n",
    "    - 텍스트를 문장 단위로 구분할 때에는 기본적으로 온점(.), 물음표(?), 느낌표(!) 등을 기준으로 함"
   ]
  },
  {
   "cell_type": "code",
   "execution_count": 6,
   "id": "5cc8a1da-7b9b-4453-94f0-2658d1b8657f",
   "metadata": {},
   "outputs": [],
   "source": [
    "# 문장 토큰화 - 한개 문장으로 되어 있는 자막을 여러 문장으로 분리()\n",
    "from nltk.tokenize import  sent_tokenize\n",
    "sent_text = sent_tokenize(content_text)\n",
    "# sent_text"
   ]
  },
  {
   "cell_type": "code",
   "execution_count": 7,
   "id": "d6a231f5-4579-4f89-9d62-4baa7ef14adf",
   "metadata": {},
   "outputs": [],
   "source": [
    "# 단어 토큰화\n",
    "from nltk.tokenize import word_tokenize\n",
    "\n",
    "# 각 문장에 대해서 구두점(특수문자)을 제거하고, 대문자를 소문자로 변환.\n",
    "normalized_text = []\n",
    "for string in sent_text:\n",
    "     tokens = re.sub(r\"[^a-z0-9]+\", \" \", string.lower()) # 정규식 적용전에 소문자로 변환 후 정규식 적용\n",
    "     normalized_text.append(tokens)"
   ]
  },
  {
   "cell_type": "code",
   "execution_count": 8,
   "id": "198f5e5a-1793-4fe1-9c57-46162409800f",
   "metadata": {},
   "outputs": [
    {
     "data": {
      "text/plain": [
       "['here are two reasons companies fail they only do more of the same or they only do what s new ',\n",
       " 'to me the real real solution to quality growth is figuring out the balance between two activities exploration and exploitation ']"
      ]
     },
     "execution_count": 8,
     "metadata": {},
     "output_type": "execute_result"
    }
   ],
   "source": [
    "normalized_text[:2]"
   ]
  },
  {
   "cell_type": "code",
   "execution_count": 9,
   "id": "0dc4cc32-fabf-407c-bc71-b1e292036254",
   "metadata": {},
   "outputs": [
    {
     "name": "stdout",
     "output_type": "stream",
     "text": [
      "['here', 'are', 'two', 'reasons', 'companies', 'fail', 'they', 'only', 'do', 'more', 'of', 'the', 'same', 'or', 'they', 'only', 'do', 'what', 's', 'new']\n"
     ]
    }
   ],
   "source": [
    "print(word_tokenize(normalized_text[0]))"
   ]
  },
  {
   "cell_type": "code",
   "execution_count": 10,
   "id": "6888eb64-b1a6-4cd3-9ee3-19d7dfcd96fd",
   "metadata": {},
   "outputs": [
    {
     "data": {
      "text/plain": [
       "[['here',\n",
       "  'are',\n",
       "  'two',\n",
       "  'reasons',\n",
       "  'companies',\n",
       "  'fail',\n",
       "  'they',\n",
       "  'only',\n",
       "  'do',\n",
       "  'more',\n",
       "  'of',\n",
       "  'the',\n",
       "  'same',\n",
       "  'or',\n",
       "  'they',\n",
       "  'only',\n",
       "  'do',\n",
       "  'what',\n",
       "  's',\n",
       "  'new'],\n",
       " ['to',\n",
       "  'me',\n",
       "  'the',\n",
       "  'real',\n",
       "  'real',\n",
       "  'solution',\n",
       "  'to',\n",
       "  'quality',\n",
       "  'growth',\n",
       "  'is',\n",
       "  'figuring',\n",
       "  'out',\n",
       "  'the',\n",
       "  'balance',\n",
       "  'between',\n",
       "  'two',\n",
       "  'activities',\n",
       "  'exploration',\n",
       "  'and',\n",
       "  'exploitation']]"
      ]
     },
     "execution_count": 10,
     "metadata": {},
     "output_type": "execute_result"
    }
   ],
   "source": [
    "# 각 문장에 대해서 NLTK를 이용하여 단어 토큰화를 수행.\n",
    "result = [word_tokenize(sentence) for sentence in normalized_text]\n",
    "# result\n",
    "result[:2]"
   ]
  },
  {
   "cell_type": "code",
   "execution_count": 11,
   "id": "cdcbd45f-f9b4-479e-96d7-09e4b239acb6",
   "metadata": {},
   "outputs": [
    {
     "name": "stdout",
     "output_type": "stream",
     "text": [
      "총 샘플의 개수 : 273424\n"
     ]
    }
   ],
   "source": [
    "print('총 샘플의 개수 :', len(result))"
   ]
  },
  {
   "cell_type": "code",
   "execution_count": 12,
   "id": "17d229dd-3ff0-4a8e-935d-7436065dd153",
   "metadata": {},
   "outputs": [
    {
     "name": "stdout",
     "output_type": "stream",
     "text": [
      "[['here', 'are', 'two', 'reasons', 'companies', 'fail', 'they', 'only', 'do', 'more', 'of', 'the', 'same', 'or', 'they', 'only', 'do', 'what', 's', 'new'], ['to', 'me', 'the', 'real', 'real', 'solution', 'to', 'quality', 'growth', 'is', 'figuring', 'out', 'the', 'balance', 'between', 'two', 'activities', 'exploration', 'and', 'exploitation'], ['both', 'are', 'necessary', 'but', 'it', 'can', 'be', 'too', 'much', 'of', 'a', 'good', 'thing']]\n"
     ]
    }
   ],
   "source": [
    "print(result[:3])"
   ]
  },
  {
   "cell_type": "code",
   "execution_count": 13,
   "id": "1d517931-0e2e-4084-b559-32c1efa28970",
   "metadata": {},
   "outputs": [],
   "source": [
    "# 데이터 셋 준비 완료 : result "
   ]
  },
  {
   "cell_type": "code",
   "execution_count": null,
   "id": "e8fcf4ca-4fde-409c-9836-93e96cd9bba3",
   "metadata": {},
   "outputs": [],
   "source": []
  },
  {
   "cell_type": "markdown",
   "id": "bf788906-5054-4508-88e8-1ab7e8496b44",
   "metadata": {},
   "source": [
    "### Word2Vec 학습시키기"
   ]
  },
  {
   "cell_type": "markdown",
   "id": "5d857b85-5f41-4022-82c9-3c4834cca744",
   "metadata": {},
   "source": [
    "* vector_size = 워드 벡터의 특징 값. 즉, 임베딩 된 벡터의 차원.\n",
    "* window = 슬라이딩 윈도우 크기(학습 시 앞 뒤로 고려하는 단어의 개수)\n",
    "* min_count = 단어 최소 빈도 수 제한 (빈도가 적은 단어들은 모델 학습에서 제외)\n",
    "* workers = 학습을 위한 thread 수 (갯수 많아질수록 CPU 사용양 증가)\n",
    "* sg = 0은 CBOW, 1은 Skip-gram."
   ]
  },
  {
   "cell_type": "markdown",
   "id": "81fb93df-20d4-4e07-ba6d-6495d2baae2a",
   "metadata": {},
   "source": [
    "- 참고\n",
    "    - process : 애플리케이션\n",
    "    - thread : process를 나눈 작업 단위 \n",
    "        - 하나의 process 안에서 여러 개의 thread 실행 \n",
    "        - 즉, 하나의 애플리케이션 안에서 여러 작업을 수행 \n",
    "        - 예 : MS Word 작성 중에 프린트 작업 동시 수행 "
   ]
  },
  {
   "cell_type": "markdown",
   "id": "2b2ae004-8630-4b9c-a2d6-7f6840d075ac",
   "metadata": {},
   "source": [
    "#### 전처리 한 데이터로 학습한 Word2Vec 모델 생성 \n",
    "- model.wv.most_similar : 입력한 단어에 대해서 가장 유사한 단어들 출력"
   ]
  },
  {
   "cell_type": "code",
   "execution_count": 14,
   "id": "406c2701-a0af-436b-8810-a531a8b29d7c",
   "metadata": {},
   "outputs": [],
   "source": [
    "from gensim.models import Word2Vec\n",
    "\n",
    "# result 데이터로 학습한 Word2Vec 모델 생성\n",
    "model =Word2Vec(sentences=result, vector_size=100, window=5, min_count=5, workers=4, sg=0)"
   ]
  },
  {
   "cell_type": "code",
   "execution_count": 15,
   "id": "d71f8ee3-2b0a-4162-bf3f-997599ec1535",
   "metadata": {},
   "outputs": [
    {
     "data": {
      "text/plain": [
       "(21613, 100)"
      ]
     },
     "execution_count": 15,
     "metadata": {},
     "output_type": "execute_result"
    }
   ],
   "source": [
    "from gensim.models import KeyedVectors\n",
    "\n",
    "# 임베딩 벡터 크기 \n",
    "model.wv.vectors.shape"
   ]
  },
  {
   "cell_type": "code",
   "execution_count": 16,
   "id": "de072f72-bddc-4459-b154-6bab0c914a09",
   "metadata": {},
   "outputs": [
    {
     "data": {
      "text/plain": [
       "array([-0.32126936, -0.8379525 , -0.49370328, -0.41448504, -0.784105  ,\n",
       "       -1.3961483 , -0.87278277, -0.56586677,  0.4887728 , -0.1963231 ,\n",
       "        1.1586473 , -0.6558315 , -0.45736533,  0.289653  ,  0.1872802 ,\n",
       "        0.35958442, -0.88714707,  0.17965597, -1.7494321 , -1.6878523 ,\n",
       "        0.32734737,  0.7914089 ,  0.19917493, -1.4538125 ,  0.26366687,\n",
       "       -2.9746225 ,  0.91710705,  0.8980315 ,  0.8748556 ,  0.67485166,\n",
       "        0.2889969 , -0.98733747,  0.6887749 , -1.1602652 ,  0.22785473,\n",
       "        0.14198495, -0.59381324, -1.7474636 , -0.67086923,  0.75127876,\n",
       "       -0.3176174 , -0.0509603 , -1.8860911 , -2.1693087 ,  0.38436437,\n",
       "       -0.24083403, -0.36267534,  1.1920233 ,  0.6389837 , -1.1740029 ,\n",
       "       -0.11998031,  0.9866936 ,  0.33798113,  0.40708426, -1.1879388 ,\n",
       "       -0.05269289, -0.03354367,  0.01011594, -0.506834  , -0.769926  ,\n",
       "       -0.35046887,  0.84955245, -0.24566174, -0.9492403 ,  0.16794159,\n",
       "       -1.5871403 , -0.7268916 ,  0.63628864,  0.7940022 , -1.1289907 ,\n",
       "        0.1184268 ,  0.46896654,  0.28469267, -0.8441764 ,  1.427468  ,\n",
       "       -0.76355195,  0.8001432 ,  0.4176897 , -1.2057784 ,  0.09264071,\n",
       "       -0.6026508 ,  0.14050975,  1.3272203 ,  0.01739527, -1.6137514 ,\n",
       "       -1.6681378 ,  0.5013227 , -0.32483387,  0.46717802, -0.5050726 ,\n",
       "       -0.2557521 , -0.14108874,  0.82218117, -1.0381896 ,  1.5416546 ,\n",
       "       -0.7282207 , -0.14611055,  1.1429366 ,  1.3511668 ,  0.14233167],\n",
       "      dtype=float32)"
      ]
     },
     "execution_count": 16,
     "metadata": {},
     "output_type": "execute_result"
    }
   ],
   "source": [
    "# 첫 번째 벡터값\n",
    "model.wv.vectors[0]"
   ]
  },
  {
   "cell_type": "code",
   "execution_count": 17,
   "id": "28131afd-0c77-452c-b716-8670170f95f5",
   "metadata": {},
   "outputs": [
    {
     "data": {
      "text/plain": [
       "array([ 0.87748396, -2.8402574 ,  0.7184515 , -0.71302253,  0.06120594,\n",
       "       -1.3750126 , -1.7446278 ,  1.298628  , -0.7180557 ,  0.81273884,\n",
       "       -1.5748179 , -1.1742057 , -0.97198904,  1.5908384 ,  0.52059954,\n",
       "        0.4207189 , -1.3481543 , -0.16391823,  1.3039494 ,  1.8864064 ,\n",
       "       -0.538291  ,  1.2390363 , -1.0176691 , -1.3895437 ,  0.7395882 ,\n",
       "        0.7314563 , -2.7641833 ,  1.2819433 ,  0.14760229, -0.36807957,\n",
       "        0.53241926,  0.85370195, -0.03814032,  1.6770272 , -0.9547472 ,\n",
       "       -1.354426  , -1.9624599 , -2.134512  , -0.6661268 , -0.77259386,\n",
       "        0.5491771 , -0.62182325, -1.4258237 ,  2.7845032 ,  0.18309127,\n",
       "        1.6583098 , -1.2248151 , -1.4696999 ,  0.35204935, -1.8278939 ,\n",
       "       -0.39932424, -0.03031986, -0.31708795,  0.22574405, -1.8078502 ,\n",
       "       -0.79834634,  0.38711318, -0.5552314 , -0.13438976,  0.02089294,\n",
       "        0.47714883, -0.6293337 , -0.51639456,  0.03554067, -0.06831847,\n",
       "        1.6412092 , -0.9777446 , -1.5739189 ,  0.8997365 , -1.05965   ,\n",
       "        0.56868434,  0.36864364,  1.0178797 , -2.0901208 ,  1.7616228 ,\n",
       "       -1.2899394 , -1.0593492 ,  1.6941217 , -1.2500432 , -0.5676069 ,\n",
       "       -0.06038065,  1.4753752 , -0.667349  ,  1.00905   , -1.4291975 ,\n",
       "       -0.13790761, -0.47317567,  0.31454453, -0.12393801, -0.91957164,\n",
       "        0.6711557 ,  0.3743134 ,  0.02943913,  0.38636965,  1.7471362 ,\n",
       "       -0.32893574,  1.0334096 ,  0.93467516, -0.04841545,  1.6231815 ],\n",
       "      dtype=float32)"
      ]
     },
     "execution_count": 17,
     "metadata": {},
     "output_type": "execute_result"
    }
   ],
   "source": [
    "# 학습된 모델을 사용해서 유사한 단어 검색\n",
    "model.wv[\"men\"]"
   ]
  },
  {
   "cell_type": "code",
   "execution_count": 19,
   "id": "cbc7e58e-c9ae-4c66-8983-97a6d2f3cafa",
   "metadata": {},
   "outputs": [
    {
     "data": {
      "text/plain": [
       "[('women', 0.903396487236023),\n",
       " ('girls', 0.7930805087089539),\n",
       " ('boys', 0.7195970416069031),\n",
       " ('adults', 0.6982879638671875),\n",
       " ('children', 0.6979811191558838),\n",
       " ('africans', 0.6930416226387024),\n",
       " ('individuals', 0.6924079060554504),\n",
       " ('babies', 0.6887937784194946),\n",
       " ('soldiers', 0.6864857077598572),\n",
       " ('americans', 0.6736237406730652)]"
      ]
     },
     "execution_count": 19,
     "metadata": {},
     "output_type": "execute_result"
    }
   ],
   "source": [
    "# 학습된 모델을 사용해서 유사 단어 검색 -vocabulary 없는 단어 오류 발생\n",
    "# model.wv.most_similar(\"남자\") # 에러 : KeyError: \"Key '남자' not present in vocabulary\"\n",
    "model.wv.most_similar(\"men\")"
   ]
  },
  {
   "cell_type": "markdown",
   "id": "203e95b6-98dc-412b-a813-062941abc7e7",
   "metadata": {},
   "source": [
    "#### Word2Vec 모델 저장하고 로드"
   ]
  },
  {
   "cell_type": "code",
   "execution_count": 20,
   "id": "70a63ceb",
   "metadata": {},
   "outputs": [],
   "source": [
    "from gensim.models import KeyedVectors # word2vec model load class\n",
    "model.wv.save_word2vec_format(\"./model/eng_w2v_model\") # 확장자 필요없음\n",
    "loaded_model = KeyedVectors.load_word2vec_format(\"./model/eng_w2v_model\")"
   ]
  },
  {
   "cell_type": "markdown",
   "id": "afc16ba1",
   "metadata": {},
   "source": [
    "### Word2Vec method\n",
    "- most_similar : 유사한 단어 반환\n",
    "- wv.similarity : 유사도 반환\n",
    "- doesnt_match : 가장 거리가 먼 단어\n",
    "- distance() : 거리 반환 \n",
    "- n_similarity() : 단어 집한 간의 유사도 계산 가능"
   ]
  },
  {
   "cell_type": "code",
   "execution_count": 21,
   "id": "ee32cc8f-2787-464c-bd24-cec474e11951",
   "metadata": {},
   "outputs": [
    {
     "data": {
      "text/plain": [
       "[('women', 0.903396487236023),\n",
       " ('girls', 0.7930805087089539),\n",
       " ('boys', 0.7195970416069031),\n",
       " ('adults', 0.6982879638671875),\n",
       " ('children', 0.6979811191558838),\n",
       " ('africans', 0.6930416226387024),\n",
       " ('individuals', 0.6924079060554504),\n",
       " ('babies', 0.6887937784194946),\n",
       " ('soldiers', 0.6864857077598572),\n",
       " ('americans', 0.6736237406730652)]"
      ]
     },
     "execution_count": 21,
     "metadata": {},
     "output_type": "execute_result"
    }
   ],
   "source": [
    "loaded_model.most_similar(\"men\") # 해당 단어랑 가장 의미적으로 유사한 단어 "
   ]
  },
  {
   "cell_type": "code",
   "execution_count": 25,
   "id": "3725a264-b1c0-4f3e-a8d8-b6b8118c6d6b",
   "metadata": {},
   "outputs": [
    {
     "data": {
      "text/plain": [
       "0.60938156"
      ]
     },
     "execution_count": 25,
     "metadata": {},
     "output_type": "execute_result"
    }
   ],
   "source": [
    "model.wv.similarity(\"king\", \"man\") # 두 단어의 유사도\n",
    "model.wv.similarity(\"king\", \"woman\") # 두 단어의 유사도"
   ]
  },
  {
   "cell_type": "code",
   "execution_count": 26,
   "id": "81abcded",
   "metadata": {},
   "outputs": [
    {
     "name": "stdout",
     "output_type": "stream",
     "text": [
      "breakfast cereal dinner lunch 중에서 다른 단어들과의 거리가 가장 먼 단어 : dinner\n"
     ]
    }
   ],
   "source": [
    "print('breakfast cereal dinner lunch 중에서 다른 단어들과의 거리가 가장 먼 단어 :',\n",
    "      model.wv.doesnt_match(\"breakfast ceral dinner lunch\".split()))"
   ]
  },
  {
   "cell_type": "code",
   "execution_count": 28,
   "id": "effc012c-fdbd-4af0-a53f-9346afabc5c5",
   "metadata": {},
   "outputs": [
    {
     "name": "stdout",
     "output_type": "stream",
     "text": [
      "여성, 왕에는 가까우면서 남성과는 거리가 먼 단어 : [('james', 0.7598488926887512)]\n"
     ]
    }
   ],
   "source": [
    "print('여성, 왕에는 가까우면서 남성과는 거리가 먼 단어 :',\n",
    "      model.wv.most_similar(positive=[\"woman\", \"king\"], negative=[\"men\"], topn=1))"
   ]
  },
  {
   "cell_type": "code",
   "execution_count": 35,
   "id": "a50a8346-8fc6-487a-82ea-f8ce2a907098",
   "metadata": {},
   "outputs": [
    {
     "name": "stdout",
     "output_type": "stream",
     "text": [
      "distance between cat and dog : 0.2106\n",
      "distance between cat and dog : 0.4683\n"
     ]
    }
   ],
   "source": [
    "# distance() : 수치가 낮으면 가까운거\n",
    "print(f\"distance between cat and dog : {model.wv.distance(\"cat\", \"dog\"):.4f}\")\n",
    "print(f\"distance between cat and dog : {model.wv.distance(\"table\", \"dog\"):.4f}\")"
   ]
  },
  {
   "cell_type": "code",
   "execution_count": 38,
   "id": "64bb8b36",
   "metadata": {},
   "outputs": [
    {
     "name": "stdout",
     "output_type": "stream",
     "text": [
      "0.7065\n",
      "0.6935\n",
      "0.6167\n"
     ]
    }
   ],
   "source": [
    "print(f\"{model.wv.n_similarity([\"bulgogi\", \"shop\"],[\"japanese\", \"restaurant\"]):.4f}\")\n",
    "print(f\"{model.wv.n_similarity([\"bulgogi\", \"shop\"],[\"korean\", \"restaurant\"]):.4f}\")\n",
    "print(f\"{model.wv.n_similarity([\"bulgogi\", \"shop\"],[\"french\", \"restaurant\"]):.4f}\")\n"
   ]
  },
  {
   "cell_type": "code",
   "execution_count": null,
   "id": "7561a385-294c-4c3f-955c-8825ce53b90a",
   "metadata": {},
   "outputs": [],
   "source": []
  },
  {
   "cell_type": "markdown",
   "id": "97323041-b62f-4d5e-aef1-feabb6444475",
   "metadata": {},
   "source": [
    "### 한국어 Word2Vec 만들기 \n",
    "- 네이버 영화 리뷰 데이터로 Word2Vec 모델 생성 "
   ]
  },
  {
   "cell_type": "code",
   "execution_count": 40,
   "id": "97e356d7-ea45-4236-939e-619f975f944f",
   "metadata": {},
   "outputs": [
    {
     "data": {
      "text/html": [
       "<div>\n",
       "<style scoped>\n",
       "    .dataframe tbody tr th:only-of-type {\n",
       "        vertical-align: middle;\n",
       "    }\n",
       "\n",
       "    .dataframe tbody tr th {\n",
       "        vertical-align: top;\n",
       "    }\n",
       "\n",
       "    .dataframe thead th {\n",
       "        text-align: right;\n",
       "    }\n",
       "</style>\n",
       "<table border=\"1\" class=\"dataframe\">\n",
       "  <thead>\n",
       "    <tr style=\"text-align: right;\">\n",
       "      <th></th>\n",
       "      <th>id</th>\n",
       "      <th>document</th>\n",
       "      <th>label</th>\n",
       "    </tr>\n",
       "  </thead>\n",
       "  <tbody>\n",
       "    <tr>\n",
       "      <th>0</th>\n",
       "      <td>8112052</td>\n",
       "      <td>어릴때보고 지금다시봐도 재밌어요ㅋㅋ</td>\n",
       "      <td>1</td>\n",
       "    </tr>\n",
       "    <tr>\n",
       "      <th>1</th>\n",
       "      <td>8132799</td>\n",
       "      <td>디자인을 배우는 학생으로, 외국디자이너와 그들이 일군 전통을 통해 발전해가는 문화산...</td>\n",
       "      <td>1</td>\n",
       "    </tr>\n",
       "    <tr>\n",
       "      <th>2</th>\n",
       "      <td>4655635</td>\n",
       "      <td>폴리스스토리 시리즈는 1부터 뉴까지 버릴께 하나도 없음.. 최고.</td>\n",
       "      <td>1</td>\n",
       "    </tr>\n",
       "    <tr>\n",
       "      <th>3</th>\n",
       "      <td>9251303</td>\n",
       "      <td>와.. 연기가 진짜 개쩔구나.. 지루할거라고 생각했는데 몰입해서 봤다.. 그래 이런...</td>\n",
       "      <td>1</td>\n",
       "    </tr>\n",
       "    <tr>\n",
       "      <th>4</th>\n",
       "      <td>10067386</td>\n",
       "      <td>안개 자욱한 밤하늘에 떠 있는 초승달 같은 영화.</td>\n",
       "      <td>1</td>\n",
       "    </tr>\n",
       "  </tbody>\n",
       "</table>\n",
       "</div>"
      ],
      "text/plain": [
       "         id                                           document  label\n",
       "0   8112052                                어릴때보고 지금다시봐도 재밌어요ㅋㅋ      1\n",
       "1   8132799  디자인을 배우는 학생으로, 외국디자이너와 그들이 일군 전통을 통해 발전해가는 문화산...      1\n",
       "2   4655635               폴리스스토리 시리즈는 1부터 뉴까지 버릴께 하나도 없음.. 최고.      1\n",
       "3   9251303  와.. 연기가 진짜 개쩔구나.. 지루할거라고 생각했는데 몰입해서 봤다.. 그래 이런...      1\n",
       "4  10067386                        안개 자욱한 밤하늘에 떠 있는 초승달 같은 영화.      1"
      ]
     },
     "execution_count": 40,
     "metadata": {},
     "output_type": "execute_result"
    }
   ],
   "source": [
    "import pandas as pd\n",
    "train_data = pd.read_table('./data/0307/ratings.txt')\n",
    "train_data.head()"
   ]
  },
  {
   "cell_type": "markdown",
   "id": "93ea1d7d-9d76-46b3-89f9-4c57235366b3",
   "metadata": {},
   "source": [
    "#### 전처리 수행"
   ]
  },
  {
   "cell_type": "code",
   "execution_count": 41,
   "id": "f13595f9-169b-4e6b-9700-308e028cad2b",
   "metadata": {},
   "outputs": [
    {
     "name": "stdout",
     "output_type": "stream",
     "text": [
      "리뷰 개수 : 199992\n"
     ]
    }
   ],
   "source": [
    "train_data = train_data.dropna(how = 'any') # Null 값이 존재하는 행 제거\n",
    "print('리뷰 개수 :',len(train_data))"
   ]
  },
  {
   "cell_type": "code",
   "execution_count": 42,
   "id": "5c38e7ce-a1ff-4f0e-aba2-c6f93a4c9d01",
   "metadata": {},
   "outputs": [],
   "source": [
    "# 정규 표현식을 통한 한글 외 문자 제거\n",
    "train_data['document'] = train_data['document'].str.replace(\"[^ㄱ-ㅎㅏ-ㅣ가-힣 ]\",\"\")"
   ]
  },
  {
   "cell_type": "code",
   "execution_count": 43,
   "id": "afb33cc1-3259-47cf-adf2-bf157948cbc3",
   "metadata": {},
   "outputs": [],
   "source": [
    "from konlpy.tag import Okt\n",
    "okt = Okt()"
   ]
  },
  {
   "cell_type": "markdown",
   "id": "fc735e71",
   "metadata": {},
   "source": [
    "## 아래 내용은 진행하지 않고 배부된 파일 활용\n",
    "- 실행시간이 너무 오래 걸림"
   ]
  },
  {
   "cell_type": "code",
   "execution_count": null,
   "id": "b4fd07e1-94ed-4bc4-859d-8b9e89596f10",
   "metadata": {},
   "outputs": [
    {
     "name": "stderr",
     "output_type": "stream",
     "text": [
      "100%|█████████████████████████████████████████████████████████████████████████| 199992/199992 [11:02<00:00, 301.91it/s]"
     ]
    },
    {
     "name": "stdout",
     "output_type": "stream",
     "text": [
      "CPU times: total: 5min 18s\n",
      "Wall time: 11min 2s\n"
     ]
    },
    {
     "name": "stderr",
     "output_type": "stream",
     "text": [
      "\n"
     ]
    }
   ],
   "source": [
    "%%time\n",
    "# 형태소 분석 후 stopwords 제거 \n",
    "\n",
    "# 불용어 정의\n",
    "# stopwords = ['의','가','이','은','들','는','좀','잘','걍','과','도','를','으로','자','에','와','한','하다']\n",
    "\n",
    "#from tqdm import tqdm\n",
    "\n",
    "#tokenized_data = []\n",
    "#for sentence in tqdm(train_data['document']):\n",
    "#    tokenized_sentence = okt.morphs(sentence, stem=True) # 토큰화\n",
    "#    stopwords_removed_sentence = [word for word in tokenized_sentence if not word in stopwords] # 불용어 제거\n",
    "#    tokenized_data.append(stopwords_removed_sentence)\n",
    "#    tokenized_data.append(tokenized_sentence) # 형태소 분석\n",
    "\n"
   ]
  },
  {
   "cell_type": "code",
   "execution_count": 45,
   "id": "f2f3f5fe-d099-4974-820a-b597d3d569d2",
   "metadata": {},
   "outputs": [],
   "source": [
    "DATA_PATH = 'cleandata_word2vec/' #.npy파일 저장 경로지정,  #없으면 생성\n",
    "TRAIN_INPUT_DATA = 'naver_okt.npy'"
   ]
  },
  {
   "cell_type": "code",
   "execution_count": 47,
   "id": "37d5534f-13df-4b22-b6a0-1546a2145d72",
   "metadata": {},
   "outputs": [],
   "source": [
    "import numpy as np\n",
    "import os\n",
    "\n",
    "tokenized_data = np.load(open(DATA_PATH+TRAIN_INPUT_DATA,'rb'), allow_pickle=True)"
   ]
  },
  {
   "cell_type": "code",
   "execution_count": 51,
   "id": "b619f832",
   "metadata": {},
   "outputs": [
    {
     "data": {
      "text/plain": [
       "[['어리다', '때', '보고', '지금', '다시', '보다', '재밌다', 'ㅋㅋ'],\n",
       " ['어리다', '때', '보고', '지금', '다시', '보다', '재밌다', 'ㅋㅋ']]"
      ]
     },
     "execution_count": 51,
     "metadata": {},
     "output_type": "execute_result"
    }
   ],
   "source": [
    "tokenized_data=list(tokenized_data)\n",
    "tokenized_data[:2]"
   ]
  },
  {
   "cell_type": "code",
   "execution_count": 52,
   "id": "ef0f7031-5039-4e89-bfdd-0458e2f522bf",
   "metadata": {},
   "outputs": [
    {
     "name": "stdout",
     "output_type": "stream",
     "text": [
      "리뷰의 최대 길이 : 95\n",
      "리뷰의 평균 길이 : 13.362459498379936\n"
     ]
    },
    {
     "data": {
      "image/png": "[encoded data removed]",
      "text/plain": [
       "<Figure size 640x480 with 1 Axes>"
      ]
     },
     "metadata": {},
     "output_type": "display_data"
    }
   ],
   "source": [
    "import matplotlib.pyplot as plt\n",
    "# 리뷰 길이 분포 확인\n",
    "print('리뷰의 최대 길이 :',max(len(l) for l in tokenized_data))\n",
    "print('리뷰의 평균 길이 :',sum(map(len, tokenized_data))/len(tokenized_data))\n",
    "plt.hist([len(s) for s in tokenized_data], bins=50)\n",
    "plt.xlabel('length of samples')\n",
    "plt.ylabel('number of samples')\n",
    "plt.show()"
   ]
  },
  {
   "cell_type": "code",
   "execution_count": null,
   "id": "62e4fbc1-409a-40b5-b2fc-d5479c9a3459",
   "metadata": {},
   "outputs": [],
   "source": []
  },
  {
   "cell_type": "markdown",
   "id": "6acd97eb-929f-43cc-aeba-47aa403d36d2",
   "metadata": {},
   "source": [
    "#### 전처리한 데이터로 학습한 Word2Vec 모델 생성 \n",
    "- tokenized_data 데이터 사용 "
   ]
  },
  {
   "cell_type": "code",
   "execution_count": 54,
   "id": "ab871997-d1a4-44a9-a0a9-fe672e1d2a6d",
   "metadata": {},
   "outputs": [],
   "source": [
    "from gensim.models import Word2Vec\n",
    "\n",
    "model_kor = Word2Vec(sentences=tokenized_data, vector_size=100, window=5, min_count=5, workers=4, sg=0)"
   ]
  },
  {
   "cell_type": "code",
   "execution_count": 55,
   "id": "c22aa844-36cf-4fb7-a5f8-bb0dbd17b152",
   "metadata": {},
   "outputs": [
    {
     "name": "stdout",
     "output_type": "stream",
     "text": [
      "완성된 임베딩 벡터 크기 확인 : (24008, 100)\n"
     ]
    }
   ],
   "source": [
    "# 완성된 임베딩 벡터 크기 확인\n",
    "print('완성된 임베딩 벡터 크기 확인 :', model_kor.wv.vectors.shape)"
   ]
  },
  {
   "cell_type": "code",
   "execution_count": 56,
   "id": "b698fb7f-8361-4171-bfdc-8f6d315c7bc5",
   "metadata": {},
   "outputs": [
    {
     "data": {
      "text/plain": [
       "array([-0.6603948 ,  0.26338688,  0.2681321 , -0.10701062, -0.05118733,\n",
       "       -0.47051576,  0.43176034,  0.71355885, -0.12181298,  0.5851425 ,\n",
       "        0.3214992 , -0.09455473,  0.23726718, -0.27429163, -0.42975387,\n",
       "       -0.6112761 ,  0.29408047, -0.18129502, -0.44465807, -0.70075214,\n",
       "        0.41567814,  0.07322472,  0.51562387, -0.05578299, -0.01857315,\n",
       "        0.5065442 , -0.22953884, -0.00875416, -0.11753407, -0.12749329,\n",
       "        0.65490615, -0.08816297,  0.55151844,  0.11903962,  0.6924365 ,\n",
       "       -0.5028924 , -0.46310705,  0.10135062,  0.05604716, -0.8265829 ,\n",
       "        0.9532888 , -0.59942824,  0.2287039 , -0.22755277,  0.20977798,\n",
       "        0.14400442, -0.22301891,  0.6354358 ,  0.9342683 , -0.3546552 ,\n",
       "       -0.04870952, -0.2130079 , -0.26689702,  0.24022749, -0.45778617,\n",
       "       -0.12176638,  0.5432274 , -0.4533592 ,  0.37537113,  0.36208877,\n",
       "       -0.21285565,  0.16164717, -0.05200569, -0.13565803, -0.58630544,\n",
       "        0.19053563, -0.5713672 ,  0.7167518 , -0.74807453, -0.0575152 ,\n",
       "       -0.19396515,  0.6142377 ,  0.10129162,  0.08060962,  0.02652024,\n",
       "        0.35327405,  0.5517703 , -0.14712027, -0.14988565,  0.2545929 ,\n",
       "       -0.30299288,  0.40977633,  0.7357267 ,  0.5932369 , -0.86849785,\n",
       "       -0.34633228,  0.1602104 , -0.46569037, -0.25106984, -0.01256069,\n",
       "        0.24612531, -0.2464247 , -0.40861   , -0.26536736,  0.18326192,\n",
       "       -0.11484516,  0.5235922 ,  0.06048911, -0.367023  ,  0.39910102],\n",
       "      dtype=float32)"
      ]
     },
     "execution_count": 56,
     "metadata": {},
     "output_type": "execute_result"
    }
   ],
   "source": [
    "model_kor.wv[\"최민식\"]"
   ]
  },
  {
   "cell_type": "code",
   "execution_count": 63,
   "id": "ae0309ea-7164-4a98-99f7-c5afbd8e0e2f",
   "metadata": {},
   "outputs": [
    {
     "name": "stdout",
     "output_type": "stream",
     "text": [
      "0.5705279\n",
      "0.46672532\n"
     ]
    }
   ],
   "source": [
    "model_kor.wv.most_similar(\"최민식\")\n",
    "model_kor.wv.most_similar(\"히어로\")\n",
    "model_kor.wv.most_similar(\"명연기\")\n",
    "print(model_kor.wv.similarity(\"최민식\", \"명연기\"))\n",
    "print(model_kor.wv.similarity(\"최민식\", \"발연기\"))"
   ]
  },
  {
   "cell_type": "code",
   "execution_count": 64,
   "id": "ff115d87-02d6-41c7-9eb4-aef09c8d39c8",
   "metadata": {},
   "outputs": [],
   "source": [
    "vocab_list= model_kor.wv.key_to_index"
   ]
  },
  {
   "cell_type": "code",
   "execution_count": 65,
   "id": "30dcf776-7d86-4b5a-9e9a-f65dd4b564b5",
   "metadata": {},
   "outputs": [
    {
     "data": {
      "text/plain": [
       "dict_keys(['.', '영화', '보다', '..', '이', '을', '...', '하다', ',', '없다', '의', '에', '가', '이다', '있다', '좋다', '너무', '?', '도', '다', '정말', '들', '재밌다', '되다', '적', '만', '진짜', '는', '!', '같다', '를', '은', '점', '로', '아니다', '않다', '에서', '만들다', '연기', '나오다', '평점', '것', '최고', '~', '내', '나', '그', '인', '안', '생각', '스토리', '못', '왜', '....', '게', '드라마', '감동', '사람', '1', '한', '보고', '이렇다', '말', '아깝다', '고', '더', '때', '아', 'ㅋㅋ', '배우', '감독', '거', '그냥', '재미있다', '요', '내용', '으로', '재미', '중', '까지', '뭐', '주다', '!!', '재미없다', '자다', '하고', '지루하다', '쓰레기', '가다', '시간', '수', '들다', '네', '과', '모르다', '그렇다', '싶다', '사랑', '작품', '지', '10', '알다', '볼', '다시', '하나', '마지막', '이건', '오다', 'ㅋ', '저', '정도', '2', '완전', '많다', 'ㅋㅋㅋ', '처음', '장면', '주인공', '액션', '이렇게', '차다', 'ㅠㅠ', '나다', '안되다', '걸', '최악', '개', '지금', '3', \"'\", '이야기', '돈', '하', '임', '별로', '연출', '와', '끝', '넘다', '느낌', '좋아하다', '대', '라', '듯', '명작', '인데', '별', '역시', '그리고', '기', '받다', '난', '많이', '이해', '남다', '^^', 'ㅡㅡ', '면', '라고', '!!!', '괜찮다', '이영화', '좀', '이런', '버리다', '느끼다', '때문', '또', '여자', '서', '이나', '부터', '성', '전', '아름답다', '해주다', '먹다', '꼭', '두', '편', '보기', '에게', '이고', '짱', '여', '무슨', '기억', '일', '인생', '엔', '결말', '야', '마음', '랑', 'ㅎㅎ', '보여주다', '애', '뻔하다', '어떻다', '아쉽다', '끄다', 'ㅠ', '소재', '님', '수준', '~~', '어리다', '영', '무섭다', '없이', '재다', '맞다', '현실', '제', '한번', '속', '반전', '씨', ';;', '웃기다', '매력', '잘', '라는', '되어다', '??', '끝나다', '전개', '급', '가슴', '남자', '한국', '가장', '슬프다', '말다', '낮다', '본', '뿐', '높다', '죽다', '멋지다', '아이', '알', '늘다', '음악', '다른', '유치하다', '니', '크다', '인간', '하지만', '냐', '쓰다', '줄', '우리', '솔직하다', '추천', '원작', '함', '번', '눈물', '모든', '살다', '화', '자체', '인지', '내다', '야하다', '허다', '지만', '눈', '\"', '인가', '찍다', '캐릭터', '코미디', '모두', '처럼', '대한', 'ㅋㅋㅋㅋ', '건지다', '뭔가', '대박', '지다', '보이다', '연기력', '짜증나다', '이상', '돼다', '이쁘다', '그래도', '기대하다', '모습', '전혀', '움', '여운', '굿', '기대', '미치다', '개봉', '이네', '시리즈', '중간', '공감', '표현', '일본', '계속', '근데', '아주', '부분', '에는', '영상', '(', '분', '치다', ';', '실망', ')', '시키다', '제목', '이랑', '가족', 'OO', '이라', '진심', 'ㅎ', '작', '내내', '보지', '-', '귀엽다', '뭔', '후', '이제', '기분', '대단하다', '믿다', '몰입', 'ㅜㅜ', ',,', '밖에', '작가', '4', '잔잔하다', '떨어지다', '공포', '건', '요즘', '감', '이라는', '용', '위', '점도', '웃다', '빠지다', '대사', '잼', '긴장감', '애니', '스릴러', '짜다', '조금', '개인', '극장', '특히', '이상하다', '삶', '울다', '이유', '노래', '욕', '0', 'ㅡ', '한테', '딱', '노잼', '알바', '깊다', '시작', '나름', '놈', '연', '제대로', '오랜', '이란', '점수', '잇다', '차라리', '예쁘다', '이지', '시', '.....', '느껴지다', '친구', '막장', '에도', '제일', '따뜻하다', '의미', '당시', '해보다', '어설프다', '영화로', '극', '빼다', '명', '력', '몇', '같이', '세상', '훌륭하다', '식', '류', '절대', '공포영화', '아직도', '이라고', '찾다', '위해', '오', '♥', '웃음', '무엇', '앞', '도대체', '아무', '미국', '생각나다', '너', '우리나라', '써다', '7', '설정', '데', '그리다', '대다', '다르다', '뭘', '마다', '물', '엄청', '어', '출연', '5', '수작', '초반', '싫다', '남', '놓다', '아프다', '힘들다', '죽이다', '필요없다', '시나리오', '사실', '따다', '신선하다', '답답하다', '한국영', '장난', 'OOO', '분위기', '시대', '관객', '추억', '이야', '세', '기다', '봄', '멋있다', '나쁘다', '가지', '최고다', '살', '지루함', '졸작', '결국', '자신', '해', '더럽다', '이딴', '팬', '반', '소리', '스럽다', '제발', '준', '감정', '부족하다', '인상', '영화관', '접', '어이없다', '안타깝다', '정신', '구', '엄마', '~~~', '오늘', '더빙', '엔딩', '이지만', '주', '잊다', '라면', '니까', '문제', '서다', '아무리', '신', '포스터', '멀다', '코믹', '8', '평가', '어색하다', '대해', '캐스팅', '그저', '함께', '낫다', '음', '얼마나', '엉', '뒤', '애니메이션', '그렇게', '킬링타임', '배우다', '!!!!', '적다', '나가다', '망하다', '강추', '배경', '든', '개연', '살리다', '쓸다', '티비', '스릴', '충격', '진부하다', '갈수록', '두다', '첨', '전쟁', '몰입도', '얘기', '이름', '비다', '옛날', '맘', '완벽하다', '질', '놀라다', '구성', '얼굴', '머리', '머', '예술', 'ㅜ', '만화', '조', '건가', '울', '유쾌하다', '후회', '기도', '보단', '행복하다', '영화인', '어울리다', '읽다', '책', '집', '장르', '후반', '자', '이후', '즐겁다', '웃기', '그래서', '9', '간', '매우', '너무나', '집중', '총', '어디', '다큐', '주연', '비', '상황', '들이다', '+', '역사', ',,,', '꽤', '원', '여기', '아직', '진', '???', '억지', '날', '새롭다', '누구', '짜증', '글', '충분하다', '다운', '그것', '걸작', '시즌', '존나', '소름', '밉다', '언제', '이리', '분들', '상', '씬', '심하다', '불쌍하다', '어느', '해도', '등', '생기다', 'B', '궁금하다', '약간', '실화', '한마디', '그나마', '인물', '자기', '훨씬', '~!', '대체', '예전', '누가', '비슷하다', '시절', '6', '방송', '동안', '부', '비교', '그대로', '어렵다', '아들', '드리다', '만점', '휴', '초딩', '발연기', '비디오', '필요하다', '쉬다', '네이버', '보', '판', '상당하다', '사회', '순수하다', '로맨스', '다음', '굳다', '꿈', '전체', '만나다', '남기다', '굉장하다', '감성', '간만', '소설', 'CG', '떠나다', '라도', '따르다', '잔인하다', '혼자', '코', '그런', 'ㅉㅉ', '타다', '편이', '여배우', '나이', '나라', '이르다', '바로', '당하다', '죠', '돌리다', '여주', ';;;', '성룡', '주제', '재', '에요', '보다는', '목소리', '사랑스럽다', '화려하다', '삼류', '빨리', '돋다', '힘', '터지다', '열', '엄청나다', '교훈', '이라도', '년', '당신', '감사하다', '바라다', '풀다', '죽', '만큼', '낭비', '순간', '그만', '장', '안보', '존재', '쯤', '진정하다', '재밋', '잡다', '거의', '질질', '몇번', '......', '지나다', '가볍다', '/', '독특하다', '점주', '좀비', '담다', '아버지', '맛', '말고', '성하다', '실제', '줄거리', '판타지', '맞추다', '망치다', '만하', '어른', '평론가', '전부', '답', '모', '각본', '에선', '라니', '시청률', '히', '바', '힘드다', '소', '흥미롭다', '기다리다', '발', '상영', '뜨다', '란', '그러나', 'ㅎㅎㅎ', '저런', '이번', '으로도', '넘치다', '피', '이하', '가치', '의도', '갑자기', '사', '제작', '극장판', '딸', '넣다', '곳', '단', '10년', '선', '바꾸다', 'TV', '달다', '중국', '필요', '간다', '걍', '화면', '세계', '오글거리다', '이기다', '땜', '첫', '당', '보내다', '너무하다', '한편', '그녀', '그때', '둘', '볼때', '대로', '밑', '항상', '형', '요소', '만들어지다', '평', '에서도', '터', '선택', '복수', '라서', '단순하다', '뻔', '들어가다', '막', '성우', '흥행', '올리다', '온', '스타일', '치고', '에서는', '거기', '햇', '여러', '똥', '갖다', '일단', '부르다', '끼다', '이에요', '멜로', '듣다', '점점', '확실하다', '흐르다', '참고', '억지스럽다', '또한', '어디서', '불편하다', '역', '아빠', '역대', '어이', '관람', '인거', '더욱', '초', 'tv', '이냐', '걸리다', '즐기다', '새', '잃다', '개그', '상미', 'ㅠㅠㅠ', '거지', '물론', '사건', '수가', 'ㅋㅋㅋㅋㅋ', '가보다', '완성', '메다', '래', '탄탄하다', '짓', '진행', '술', '똑같다', '돋보이다', '편집', '병맛', '군', '화이팅', '에겐', '씩', '여서', '때리다', '엉망', '중요하다', '무', '평범하다', '현', '짧다', '잠', '키', '어쩔', '꿀잼', '찾아보다', '프랑스', '뛰어나다', '전형', '걸다', '허무하다', '리', '귀', '화보', '지겹다', '드', '그게', '~!!', '중반', '원래', '미화', '적당하다', '암', '몸', '감상', '싸우다', '가지다', '마르다', '죽음', '그래픽', '예상', '관', '-_-', '갈다', '식상하다', '손', '뭐라다', '새끼', '만에', '배', 'good', '20', '티', '척', '불륜', '학교', '비추다', '흥미', '댓글', '일이', '취향', '헐다', '액션영화', '훈훈하다', '노력', '연기자', '예고편', '흥미진진', '과거', '잘만', '자극', '만이', '바보', '나르다', '이라니', '자꾸', '상상', '화가', 'ㄷㄷ', '나서다', '괜히', '게임', '마무리', '무조건', '설명', '거리', '만으로도', '다루다', '천재', '닿다', '속편', '소중하다', '도저히', '대한민국', '억', '역겹다', '전달', '강하다', '왠만하다', ':', '예', '오히려', '결혼', '한심하다', '심리', '그림', '땐', '유치', '보이', '스타', '흠', 'ost', '아저씨', '전편', '억지로', '♡', '타', '법', '우연히', '대작', '올', '길다', '영환', '젠', '양', '조차', '미안하다', '표정', '한다는', '며', '하하', '귀신', '짐', '맨', '회', 'SF', '오빠', '최근', '환상', '기억나다', '불다', '지루', '다가', '다니다', '개다', '타임', '오래', '길', '촬영', '잊혀지다', '메세지', '전설', '주의', '참신하다', '돌아가다', '90년', '진지하다', '흘리다', '산', '노', '동', '관계', '실망하다', '그닥', '무비', '경찰', '순', '먼저', '현재', '공', '행동', '동화', '입', '여전하다', '프로그램', '빠져들다', '소녀', '마', '2시간', '묘사', '전작', '드럽다', '100', '만의', '유머', '예요', '엇', '조연', 'ㅇ', '잘생기다', '관심', '영웅', '아쉬움', '통해', '이미', '노출', '스러운', '서로', '망작', '>', '다행', '정', '등장', '존', '영원하다', '작다', '덥다', '프로', '그런데', '살인', '나중', '끌다', '역할', '리메이크', '예산', '으', '사라지다', '바람', '봣', '겁나다', '외', '졸라', '마치', '쩔다', 'D', '흔하다', '제작비', '이며', '강', '틀다', '멍청하다', '채널', '약하다', '가능하다', '반개', '착하다', '효과', '80년', '특유', '안나', '가끔', '살아가다', '빌리다', '철학', '과정', '.......', '쏘다', '깊이', '인정', '왕', '생', '청춘', '미래', '바뀌다', '인하다', 'cg', '너무나도', '낚', '다시다', '케이블', '형님', '희망', '범인', '지나치다', '다만', '런가', '황당하다', '졸리다', '묻다', '체', '사이', '능력', '태어나다', 'OST', '엿', '왠지', '께', '차', '기세', '카메라', '군대', '스케일', '이면', 'ㅅㅂ', '생애', '계', '신기하다', '젊다', '지난', '용도', '다소', '깔다', '상상력', '위대하다', '대안', '고생', '로는', '설레다', '독립영화', '겠다', '산만하다', '되게', '리얼', '잘못', '미소', '얼', '평생', '찌다', '졸다', '안다', '자막', '로맨틱', '치', '고민', '원하다', '어린이', '메시지', '진실', '시도', '고맙다', '얻다', '^', '대의', '늙다', '결론', '리뷰', '멋', '매', '우', '추다', '던지다', '지키다', '부족', '커플', '의리', '줌', '변하다', '밤', '박수', '스', '손발', '굳이', '문화', '약', '슬픔', '사극', '여성', '으로는', '발견', '포장', 'ㅇㅇ', '보시', '사다', '광고', '짱짱', '아침', '빠르다', '과연', '범죄', '괴물', '로서', '지도', '흐름', '는걸', '저렇게', '한계', '감탄', '언', '<', '수도', '동생', '참다', '문', '언니', '용이', '떠오르다', '쩐다', '어찌', '성인', '눈물나다', '랄', '개판', '시청자', '상처', '폭력', '별루', '유', '..?', '인기', '심', '희다', '대충', '주기', '자연', '유명하다', '살짝', '심심하다', '용서', '우울하다', '몸매', '진정', '정서', '개도', '뜻', '볼거리', '~^^', '챙기다', '방', '이래', '성도', '젤', '조폭', '홍보', '뛰다', '핵', '~~~~', '빨', '덕분', '보라', '일상', '어떤', '일어나다', '유일하다', '지르다', '싫어하다', '연애', '삼', '섹스', '울리다', '스럽게', '시선', '그럭저럭', '끼리', '게이', '힐링', '열심히', '오락', '30분', '달', '눈빛', '병', '포기', '표절', '노답', '정말로', '무협', '죄', '소름끼치다', '빛', '아오', '깔끔하다', '남녀', '비극', '끌', '접다', '실감', '벗다', '20년', '어제', '기대다', '자유', '안좋다', '하루', '춤', '뜬금', '해피엔딩', '담기다', '에서의', '퀄리티', '등장인물', '우정', '크게', '와는', '쓰래', '=', '10분', '코드', '내리다', '혹시', '국민', '더하다', '남편', '짓다', '당연하다', 'b', '북한', '정치', '싸다', '나머지', '반성', '감다', '보다도', '이기', '(?)', '펑펑', '막판', '말로', '종교', '팔', '홍콩', '무겁다', '마저', '보아', '끝내다', '공부', '이어지다', '색다르다', '자식', '만으로', '부끄럽다', '이연걸', '표', '뮤지컬', '라지', '특별하다', '들어오다', '차이', '느리다', '악당', '악역', '난해하다', '형편', '아련하다', '느와르', '악', '몰다', '게다가', '감명', '벌써', '으론', '다큐멘터리', '권', '불가', '까지는', '암튼', '의문', '세다', '에게는', '누나', '그걸', '입장', '가면', '행복', '떼다', '불구', '토', '새벽', '대가', '디즈니', '이라서', '발전', '희생', '소장', '고전', '&', '적절하다', '그다지', '무시', '결과', '날다', '기본', '불', '까진', '에만', '싸구려', '올해', '제로', '비주', '기적', '인가요', '채우다', '완전하다', '기술', '좀더', '동물', '따위', '_', '오버', '빛나다', '반복', '본방', '그렇다고', '지구', '연예인', '꼴', '그린', '긴장', '외국', '열정', '아이돌', '흑', '호러', '오그라들다', '딱하다', '찡하다', '시사회', '쇼', '쩝', '창', '촌스럽다', 'ㅠㅠㅠㅠ', '백', '방식', '언제나', '소소하다', '불쾌하다', '과는', '선생님', '평이', '흘러가다', '라인', '놓치다', '까지도', '아줌마', '빡치다', '러닝', '이제야', '맡다', '강렬하다', '싸움', '대화', '실력', '청소년', '풋풋하다', '맨날', '실패', '어머니', '화나다', '금', '팀', '밥', '돌다', '쫌', '글쎄', '이루다', '본인', '아픔', '전문가', '늘', '달라', '에로', '닮다', '으리', '씁쓸하다', '깨닫다', '즈', '짝', '방금', '기르다', '주기도', '심각하다', '외모', '세기', '깨다', 'ㅋㅋㅋㅋㅋㅋ', '꽝', '한국인', '과의', '필름', '죄다', '분노', '이니', '1시간', '조절', '해석', '통쾌하다', '헐리우드', '어휴', '미드', '입다', '베스트', '왜케', '누군가', '섬세하다', '견자단', '편의', '질리', '단지', '이미지', '갈등', '진리', '방법', '때우다', '짝퉁', '시트콤', '오래되다', '낳다', '해내다', '대표', '시각', '학생', '냥', '늦다', '비판', '애기', '재밋다', '로만', '여행', '극치', '이든', '짠하다', '뽑다', '조잡하다', '존경', '꾸다', '김기덕', '돌아오다', '굿굿', '히어로', '유발', '만족', '로봇', '스스로', '지는', '에피소드', '끼', '막히다', '명품', '부모', '대부분', '최', '그거', '따라가다', '푹', '허세', '테러', '쪽', '쵝오', '조합', '다가오다', '좋아지다', '19', '신나다', '가요', '담', '피해자', '국내', '????', '편하다', '양심', '심장', '주말', '개념', '자리', '더불다', '전개도', '은근', '분명', '날리다', '가깝다', '이자', '이정', '경험', '이끌다', '검색', '줍다', '과장', '코난', '없어지다', '겁니다', '와우', '30', '개성', '망', '맥', '라이', '신분', '기자', '편견', '사기', '개뿔', '연속', '훨', '숨다', '단연', '...?', '헐리웃', '미모', '시원하다', '번째', '무척', '한데', '무언가', '바라보다', '우와', '캐리', '찝찝하다', '외계인', '의외로', '오브', '생활', '직접', '경', '영어', '할머니', '근', '[', '거슬리다', '얘', '가득하다', '싸이코', '형사', '민망하다', '자살', '한참', '섹시하다', '이여', '........', '봣는데', '옛', '뒷', '도안', '레알', '전반', '명성', ',,,,', '18', '올라가다', '카', '묘', '마이너스', '의식', '풍경', '초등학생', '돌아보다', '밋밋하다', '성장', '고양이', '낭비하다', '으로서', '이따위', '도전', '아내', '달달', '쩌', '확', '마이클', '칼', '점준', '개막', '♥♥', '신다', '으로만', '아마', '깎다', '재밋어', '하나로', '뭉클하다', ']', '?!', '향', '막장드라마', '아아', '쉬', '오르다', '영혼', '무지', '조용하다', '빨다', '카리스마', '악마', '야동', '신고', '주변', '이보', '가수', '생생하다', '변화', '복잡하다', '만들기', '러브', '비현실적', '자연스럽다', '감히', '응원', '시시하다', '왠', '로써', '학년', '정의', '끌리다', '추하다', '스럽지', '주성치', '사수', '겨우', '스트레스', 'x', '레전드', '기만', '연결', '이도', 'ㅋㅋㅋㅋㅋㅋㅋ', '분명하다', '기준', '에나', '남아', '처', '성공하다', '옆', '12', '잠깐', '빈', '면서', '설마', '롭고', '상업', '홍콩영화', '베', '지우다', '내면', '투자', '관점', '신경', '덜', '시청', '포르노', '형제', '만해', '뿐이다', '각', '째', '으로써', 'C', '니깐', '십', '드물다', '이상은', '세번', '다양하다', 'M', '칠', '세월', '김', '특수', '어린시절', '포인트', '겨', '살아나다', ',.', '참으로', '잠들다', '등등', '편도', '성격', '줄다', '만족하다', '위로', '21', '얼마', '모으다', '욕망', '따로', '압권', '기회', '투', '벗어나다', '교육', '특이하다', '전쟁영화', '리즈', '우주', '인들', '007', '젠장', '우려', '동시', '운명', '국가', '크리스마스', '정체', '로그인', '고통', '예능', '효', '색감', '방영', '넘어가다', '만큼은', '숨기다', '고르다', '잔', '부럽다', '아무렇다', '갑', '변태', '일품', '멈추다', '아예', '조작', 'ㄱ', '적임', '이어서', '반하다', '듬', '케', 'ㅅ', '잖다', '이용', '최강', '넌', '루', '틈', '초등학교', 'the', '거지같다', '수고', '몇몇', '진하다', '달리다', '바다', '목', '확인', '놀랍다', '에로영화', '선물', '안습', '흑인', '말아먹다', '사진', '배역', '채', '놀래다', '무술', '놀다', '갖추다', '부모님', '풍자', '냄새', '전에', '캐', '설득', 'DVD', '갓', '정신병', '웬만하다', '결정', '감안', '모자라다', '깨', '워', '데리', '이래서', '나타나다', '내생', '공포물', '린', '탓', '보고오다', '자르다', '그건', '키우다', '미가', '끝내주다', '공짜', '관련', '최초', '근래', '옷', '꼬마', '대본', '감흥', '시점', '갠', '만남', '썩다', '기발하다', '거짓말', '낮추다', '녀', '오랫', '의하다', '의심', 'ㄷㄷㄷ', '아래', '부부', ';;;;', '비밀', '파', '깜짝', '뜨겁다', '덕', '거나', '용기', '저러다', '케릭', '해결', '영국', '패', '보통', '톰', '영화계', '5분', '박', '단어', '껏', '꺼', '첫사랑', '자주', '여러가지', '성은', '대중', '붙이다', '심오하다', '드림', '달리', '가득', 'ㅠㅜ', '여러분', '전율', '아동', 'ㅉㅉㅉ', '명화', '만을', '스크린', '았', '셈', '본적', '땅', '번은', 'X', '던데', '상태', '물이', '빵점', '디', '깨우다', '넘어서다', '뛰어넘다', '트', '감각', '와의', '연인', '만은', '브루스', '둘째', '신의', '두번째', '가족영화', '소년', '아역', '목적', '하자', '스런', '선동', '씹다', '매니아', '심지어', '탄생', '잔뜩', '작위', '사상', '골', '15', '쥐', '새다', '삭제', '기법', '명의', '하나같이', '야구', '점줌', '빵빵', '장가', '넘기다', '통', '20분', '앉다', '결코', '폐지', '려고', '짜임새', '철', '풍', 'A', '한숨', '이따', 'sf', '들어서다', '그립다', '집착', '힘내다', '시끄럽다', '화끈하다', '할아버지', '충실하다', '매다', '애쓰다', '애가', '시기', '종영', '지나가다', '겪다', '70년', '꿈꾸다', '제외', '패러디', '11', '감정이입', '기독교', '후속작', '목숨', '말고는', '탑', '곡', '값', '메', '금보', '낫', '마리', '뇌', '열연', '무서움', '욕심', '짜지다', '오래전', '..;;', '틱', '신파', '하늘', '중독', 'ㅎㅎㅎㅎ', '그만큼', '포스', '피다', '여기다', '무료', '재난영화', '거부', '어쩜', '타고', '한개', '승리', '업다', '모양', '빈약하다', '밋', '틀', '대놓고', '아이디어', '정작', '모험', '이만', '블록버스터', '구나', ':)', '물다', '라이언', '혹은', '호', '울컥', '담배', '내놓다', '세련되다', '아기', '팔이', '수많다', '찾기', '추리', '낚였다', '!!!!!', '주제가', '버전', '늘어지다', '마이', '사고', '움직이다', 'ㅁ', '탈', '여름', '가정', '구리', '헤어지다', '치밀하다', '천', '장국영', '배경음악', '재능', '클레멘타인', 'I', '호구', '떨다', '끔찍하다', '여태', '보구', '어둡다', '딱이다', '.^^', '자고', '린다', '최대', '조카', '요리', '케빈', '하아', '그지같다', '..^^', '지경', 'ㅋㅋㅋㅋㅋㅋㅋㅋ', '성공', '낚시', '졸', '로코', '색', '깍', '공간', '저리', '참나', '흥', '뭥미', '막다', '틀리다', '절정', '보이지', '로버트', '벌다', '틴', '정확하다', '대통령', '잡', '터미네이터', '플롯', '빵', '파괴', '매일', '재밋음', '앞뒤', '대신', '사투리', '고등학교', '다섯', '끼우다', '부터가', '교과서', '안감', '제이슨', '습', '바탕', '돼지', '임팩트', '따름', '졸리', '일본인', '반갑다', '실패하다', '~!!!', '적어도', '만약', '어처구니', '조니뎁', '인지도', '조화', '끊다', '어쩌', '또다른', '이소룡', '과학', '절', '웃', '배트맨', '유덕화', '된거', '묻히다', '꼬', '바르다', '발상', '심형래', '링', '중심', '중학교', '사운드', '하품', '화의', '잠시', '편안하다', '캬', '뱀파이어', '탈출', '쿡', '마냥', '일부러', '너무도', '착각', '그야말로', '레', '잡고', '나은', '.........', '인터넷', '베리', '걱정', '논', '이군', '디워', '반대', '에게도', '울면', '숨', '상실', '영화제', '♥♥♥', '여친', '토록', '동성애', '센스', '도에', '해리포터', '30년', '@', '베드', '그만하다', 'ㄴ', '쓸데없이', '나누다', '현대', '앤', '13', '메이드', '만드', '붙다', '정이', '고딩', 'ㅈ', '능', '배다', '주지', '제니퍼', '컨셉', '실수', '부실하다', '단순', '우뢰매', '펴다', '도움', '그동안', '겉', 'ㄷ', 'dvd', '재미나', '부작', '인내심', '드러나다', '손색', 'ㅣ', '쥐다', '아끼다', '연극', '응', '밝다', '어디가', '꽃', '레이', '인형', '음식', '곱다', '말투', '지치다', '여자애', '거장', '류작', '어우러지다', '천국', '에다', 'ㅉ', '난리', '인도', '무기', '빵터지다', '선정', '//', '들리다', '상어', '주윤발', '네티즌', '당황', '준비', '이전', '애초', '웬', '성의', '쓸데없다', '잭', '다리', '치고는', '의사', '허허', '평균', '폴', '무대', '만화책', '여자친구', '상관없다', '운', '논리', '속이다', '녹다', '계기', '대결', '의상', '임창정', '제임스', '슴', '--', '폭발', '살인마', '리얼리티', '단체', '박진', '반드시', '분량', '박중훈', '딴', '100%', '찌질하다', '하지원', '틀어주다', '베다', '발음', '호기심', '판단', '아무튼', '에이', '감사', '블랙', '40', '하이', '수입', '어색', '포', '겨울', '홍상수', '컴퓨터', '혐오', '어거지', '론', '기존', '화란', '유럽', '처절하다', '의지', '2014년', '키드', '션', '첨부', '김치', '하정우', '겁', '알아보다', '무난', '과도', '여인', '영화감독', '빨갱이', '섞다', '명대사', '민폐', '거치다', '끝내', '배신', '남성', '체적', '키스', '..........', '인류', '압도', '자동차', '루즈', '도무지', '정보', 'ㅏ', '각색', '차원', '토나오다', '진수', '무게', '출신', '비중', '일반', '지리다', '아놀드', '얼다', '친', '듭니', '전투', '및', '마음속', '니콜', '나레이션', '손가락', '필', '개콘', '등록', '고프다', '동영상', '대사도', '길이', '데뷔', '뭐임', '차갑다', '환경', '극복', '이니까', '개그맨', '신인', '에다가', '누르다', '스포', '영향', '피해', '찬', '러시아', '만도', '요새', '난잡하다', '?...', '보신', '드디어', '화일', '동심', '누군지', '웰', 'ㅋㅋㅋㅋㅋㅋㅋㅋㅋ', '싫어지다', '축구', '부리다', '내일', '다세포', '윌리스', '.,', '푸다', '이병헌', '별하나', '범죄자', '스티븐', '어쩌면', '역사상', '리지', '열자', '극단', '단점', '최소한', '게스트', '최고봉', '부정', '강력', '거품', '황당', '듣기', '마약', '쉽다', '아치', '짜이다', '잡히다', '고뇌', '컷', '몽환', '질리다', '할리우드', '심다', '와도', '사용', '코메디', '흡입', 'of', '그렇지만', '한국판', '성적', '무한', '하고는', '추', 'ㅄ', '곧', '달콤하다', '때매', '평소', '염', '일으키다', '정우성', 'a', '인게', '오프닝', 'd', '왜곡', '옴', '경우', '실험', '박다', '절망', '버튼', '송강호', '게뭐', '담담하다', '하니', '널', '애절하다', '파리', '리가', '도데', '샘', '..!', '깡패', '이루어지다', '전하', '이해도', '향수', '징그럽다', '짜리', '섞이다', '슈퍼', '중년', '콩', '장점', '무리', '최소', '명복', '글자', '무너지다', '공룡', '오는', '서부', '깨알', '만화영화', 'Good', '범', '흉내', '배급사', '판이', '폭풍', '졸업', '킬링', '치유', '라스트', '군인', '여신', '이구나', '역량', '`', '완벽', '우연', '부인', '왤케', '우선', '버', 'T', '밖', '매미', '미스', '1년', '드니', '꺼지다', '독일', '잉', 'ㅎㄷㄷ', '겉멋', '바닥', '액션씬', '앙', '잔혹하다', '화장실', '선생', '밀려오다', '나루토', '켜다', '망가지다', '라기', '극적', '늘리다', '에서만', '높이다', '파격', '방해', '영화사', '박히다', '지옥', '정부', '한순간', '향연', '담백하다', '처리', '상대', '도시', '보임', '중딩', '유지', '직업', '거짓', '계시다', '매끄럽다', '멍', '아만다', '류승범', '욕먹다', '케이', '파다', '캐릭', '절대로', '서도', '절로', '삶다', '녀석', 'you', '갈리다', '부족함', '존스', '가히', '쭉', '단편', '따분하다', '에가', '한가지', '서울', '1회', '탁월하다', '미녀', '동네', '생명', '정상', '비호감', '위트', '든지', '언젠가', '알려지다', '중국영화', '분장', '그대', '미도', '아오이', '땀', '비행기', '절제', '후회되다', '속지', '달라지다', '에서나', '하라', '2년', '별거', '년전', '떠올리다', '찬양', '노인', '받아들이다', '뜬금없이', '안해', '이구만', '도중', '똑같이', '매번', '만큼이나', '놀이', '옳다', '뒤죽박죽', '부로', '하나님', '명불허전', '순위', '낭만', '배꼽', '광구', '알파', '소화', '가리다', '만세', '인걸', 'ㅜㅠ', '재난', '들어주다', '소통', '애매하다', '정리', '부활', '급하다', '강동원', '무재', '교회', '신하균', '저지르다', '용다', '★', '무간도', '이별', '끼치다', '식이', '공유', '가능성', '원숭이', '예측', '잔인함', '버티다', '튀다', '못자다', '권력', '이안', '본질', '년도', 'EBS', '일지', '의외', '세대', '전성기', '지나', '회사', '빠', '쓴다', '말씀', '랑은', '강간', '각자', '모이다', '그럴듯하다', '오글오글', '짬뽕', '칭찬', '대부', '다해', '고증', '구만', '쌍', '2000년', '끊기다', '딸리다', '1등', '쟁이', '백인', '박보영', '변신', '소개', '중학생', '명연기', '익숙하다', '추가', '어지럽다', '광기', '솔', '부탁', '치노', '닥', '90분', '믿음', '쏟다', '~~^^', '연습', '기획', '석', 'ㅈㄴ', '무어', '수록', '모로', '흔들다', '제작자', '문득', '비록', '50', '15년', '짜릿하다', '형식', '블랙코미디', '찾아가다', '두운', '커버', '일주일', '로움', '본능', '고인', '흔', '쯧쯧', '선사', '이기도', '피아노', '부산', '애틋하다', '타란티노', '가나', '과대', '난무', '아마추어', '장애인', '밀', '나타내다', '낼', '해봤다', '엽기', '아무나', '권상우', '반응', '스파이더맨', '맛있다', '베일', '스필버그', '빌다', '가야', '시종일관', '스타워즈', '선수', '국어', '징', '많아지다', '미학', '디카프리오', '의심스럽다', '워낙', '뎅', '놀란', '나무', '애정', '도둑', '멜로영화', '최후', '아이유', '상식', '닥치고', '아누', '고문', '디테일', '외롭다', '구로', '어떻', '호불호', '낮', '상이', '?..', '조선', '국', '합', '즐거움', '티나', '출연자', '답답', '미스터리', '위험하다', '살이', '떡', '부터는', '애잔하다', '커서', '설', '찬사', '반영', '슈퍼맨', '보나', '민족', '까지만', '잃어버리다', '심사', '리암', '너희', '뎀', '뺏다', '유아', '풀리다', '자세하다', '하얗다', '한지', '레옹', '혁명', '남자배우', '오로지', '구분', '데리다', '순수', '국산', '홀로', '무식하다', '본격', '페이크', '떨어뜨리다', '안기다', '간지', '두렵다', '돌려주다', '작화', '억울하다', '연관', '데이빗', '쓸쓸하다', '명장', '케미', '호흡', '풀', '연상', '특집', '외국인', '다시금', '기괴하다', '우린', '괴롭다', '꼬이다', '차승원', '상징', '초월', '강아지', '남친', '돌', '암울하다', '올레', '그치다', '쏘우', '일반인', '바치다', '트리', '도르다', '차리다', '당장', '진창', '덩어리', '공주', '견디다', '신화', '능가', '정점', '한석규', 's', '...^^', '엄정화', '성과', '고독', '마저도', '다른사람', '리도', '춤추다', '화질', '로빈', '벌어지다', '객관', '40분', '섬', '아우', '업', '가까이', '째다', '대박나다', '가짜', '클래식', '스포츠', '아바타', '4.44', '킬러', '수면제', '마찬가지', '적당', '짜내다', '가르치다', '니콜라스', '스릴러물', '스텝', '열다', '실', '화중', '비쥬', '부다', '안쓰럽다', 'ㅂ', '인권', '메이', '싱겁다', '위주', '장진', '가하다', '다치다', '행', '던', '빠순이', '거임', '아담', '첨으로', '클라라', '뭣', '원조', 'ㅜㅜㅜ', '죄송하다', '숨막히다', '뿌리다', '미스캐스팅', '떨리다', '...........', '포드', '해지', '시체', '~~!!', '지식', '리기', '인식', '우드', '기전', '혼란', '슨', '사람과', '!!!!!!', '허무', 'ㅋㅋㅋㅋㅋㅋㅋㅋㅋㅋ', '눈치', '다이하드', '깜놀', '나로', '포함', '역작', '꿀', '전문', '흑백', '미달', '드네', '택시', '잘나가다', 'bb', '영구', '장소', '드러내다', '칠하다', '철저하다', '김희선', '이드', '고등학생', '떄', '->', '오직', '가게', '부자연스럽다', '찬란하다', '검사', '도와주다', '납득', '김수현', '천사', '...!', '에바', '일부', '동감', '거북하다', '왕조현', 'bad', '인연', 'is', '벨', '미스테리', '지내다', '사과', '걷다', '관리', '싸이코패스', '주인', '재앙', '화하다', '모욕', '유치원', '산다', '짱짱맨', '테이큰', '시험', '한동안', '주가', '지지', '없애다', '온갖', '망치', '공연', '스펙', '구조', '가라', '맙시', '데이', '세트', '농담', '태국', '마누라', '한효주', '목사', '찌르다', '다녀오다', '세계관', '외면', '로맨틱코미디', '.\"', '대에', '질문', '찍', '집다', '떡밥', '떠들다', '섹시', '옥', '마블', '알바생', '승부', '머릿속', '뉴스', '넹', '뒤늦다', '파워', '발랄하다', '음향', '폼', '청년', 'ㅋㅋㅋㅋㅋㅋㅋㅋㅋㅋㅋ', '덮다', '난후', '밝혀지다', '픽사', '거듭', '참여', '-_-;;', '롱', '김혜수', '엔딩크레딧', '저희', '어째', '해오다', '어쨌든', '어차피', '관대하다', '타인', '조지', '톤', '올려주다', '소품', '에로물', '밝히다', '만난', '로운', '주위', '마을', '그려지다', '예고', '띄다', '애니매이션', '시골', '뒤지다', '성형', '3시간', '닷', '두고두고', '신부', '러셀', '렉', '불가능하다', '상큼', '헉', '살때', '재방송', '옮기다', '애인', '최민수', '짱구', '유혹', '종', '학살', '라스', '여지', '기사', '반감', '만화가', '찾아오다', '박하다', '스콧', '강요', '장애', '대역', '누님', '색채', '차별', '^-^', '밀다', '맺다', '구석', '동양', '지극히', '환자', '더욱더', '향기', '섬뜩하다', '복선', '전라도', '자랑', '박찬욱', '대학', '층', '사이코', '제시카', '재치', '전지현', '먹기', '곤', '기쁘다', '새삼', '원주율', '모독', '하고도', '자본', '영활', '추격', '깨달음', '러브스토리', '시장', '남고', '피곤하다', '짙다', '따지다', '절반', '홧팅', '광', '엉뚱하다', '오해', '예수', '설경구', '콜린', '성장하다', '손예진', '색깔', '끈', '치료', '꼽', '..!!', '송승헌', '대상', '피디', '싸하다', '멀리', '볼라', '차태현', '!~', '주온', '오지', '사무라이', 'ㅓ', '재밋네', '박평', '황정민', '가식', '눕다', '부담', '군더더기', '...(', '쎄다', '신세계', '정화', '이정재', '피식', '진영화', '평화', '람보', '레이첼', '재방', '로드', '백배', '크리스찬', '회상', '힙합', '펼치다', '까맣다', '젊은이', '정선', '벅차다', '찌', '고작', '혹', '지켜보다', '매주', '에드', '대학생', '주관', '건데', '언어', '김구라', '추악하다', '창피하다', '60년', '납치', '의견', '수십', '개똥', '킹', '묵직하다', '번역', '가관', '구혜선', '주원', '귀찮다', '무의미하다', '크레딧', '어정쩡하다', '우롱', '자라다', '클라스', '대하', '출현', '손꼽다', '디테', '지독하다', '오랫동안', '신도', '흠잡다', '토니', '신비', '겨울왕국', '외로움', '엑스맨', '당당하다', '5년', '왕자', '쪽팔리다', '기타', '하고프다', 'OOOO', '극본', '아기자기하다', '내려가다', '침', '방황', '성유리', '흔들리다', '저렇다', '비싸다', '아이고', '집안', '해외', '기승', '헛웃음', '래야', '반도', '댄스', '밖에는', '쓰이다', '왕가위', '도망가다', '어떠하다', '올라오다', '일리', '투성이', '울림', '각각', '고해', '원피스', '완젼', '유우', '유행', '중후', '압', '*', '팍팍', '썩', '고어', '도라에몽', '작전', '다운로드', '개꿀잼', '볼일', '적나라하다', '크리스', '준영', '버스', '유익하다', '팝콘', '이의', '후기', '학창시절', '장혁', '사장', '열리다', '디젤', '재현', '아이언맨', '차분하다', '말리다', '인도영화', '채다', '고스', '뚝뚝', '비참하다', '지대', '잘나다', '민', '트랜스포머', '금지', '살인자', '합치다', '벌', '어딘가', '다크나이트', '미이라', '불과하다', '살기', '멤버', '영웅본색', '서양', '유령', '굿굿굿', '폰', '난국', '지브리', '픽션', '끝판', '빼놓다', '텐데', '재수없다', '늑대', '사귀다', '집단', 'c', '만족스럽다', '벌리다', '혀', '꺼내다', 'movie', '볼걸', '어쩌다', '성찰', '잭슨', '이형', '주행', '재주', '수위', '커녕', '버그', '제왕', '마디', '나머진', '무리다', '가기', '타이틀', '전투씬', '본성', '스피드', '완죤', '빨갛다', '셋', '드래곤볼', '7년', '스파이', '께서', '격', '장이', '화판', '소지섭', '봉', '감추다', '다니엘', '새록새록', '공식', '적극', 'vs', '상관', '젖다', '촌', '일찍', '이외', '관람객', '흑역사', '애로', '알리다', '건아', '지네', '잘알다', '만큼의', '구역', '경의', '헛', '조차도', '가안', '마녀', '어딜', '마틴', '운동', '내보내다', '유쾌', '개발', '최민식', '덤', '감기', '.!', '씨발', '로버츠', '따스하다', '프리', '감옥', 'ㅋㅋㅋㅋㅋㅋㅋㅋㅋㅋㅋㅋ', '곰', '이은주', '지배', '장근석', '장동건', '조승우', '방향', '증명', '태도', '마법', '정석', '예술가', '졸잼', '깨끗하다', '또는', '외치다', '어지간하다', '흐지부지', '덜덜', '모방', '락', '멀쩡하다', '첩보', '에드워드', '고치다', '노튼', '직', '틀림없다', '월드', '서정', '런닝맨', '꾸미다', '신데렐라', '한국어', '시간대', '훔치다', '일수', '어수선하다', '절절', '기록', '먼지', '공허하다', '밟다', '누', '지고', '거야', '충', '밀리다', '1분', '스페인', '조아', '지인', '구경', '파악', '호감', '영광', '언론', '님들', '출발', 'ㅋㅋㅋㅋㅋㅋㅋㅋㅋㅋㅋㅋㅋ', '그나저나', '거대하다', '막상', '붉다', '먹히다', '죽지', '테', '멘탈', '불만', '저급하다', '로망', '냉정하다', '할배', '록키', '공원', '조명', '2.22', 'ㅗ', '양반', '안성기', '기용', '이혼', '생기', '..;', '걸이', '종합', '답지', '베이', '경악', '고도', '파라', '오유', '모순', '쿨하다', '전화', '해안가', '치면', '로다', '자격', '김태희', '배려', '증거', '차마', '꼽히다', '명확하다', '유지태', '흔적', '긴박', '이웃', '임청하', '몇개', '간단하다', '오페라', '장치', '스킵', '간의', '뜯다', '전도연', '침묵', '간직', '흉내내', '절묘하다', '허구', '수없이', '대고', '과잉', '독립', '취급', '여유', '엽문', '클리셰', '한텐', '연주', '작년', '주네', '고수', '웅장', 'MBC', '^^*', '잠자다', '드림웍스', '노골', '추구', '여기저기', '나와라', '어서', '유의', '배속', '토끼', '월', '덜하다', '실상', '무색', '더니', '원표', '3분', '도로', '한정', '뻥', '괜', '증말', '하드', 'ㅐ', '오우삼', '스탈', '김명민', '마케팅', '단역', '이탈리아', '지저분하다', '!?', '커피', '반지', '뽕', '...;;', '줄리아', '아시', '지적', '이구', '이연희', '초기', '미야자키', '두려움', '김민종', '극혐', '벗기다', '환장하다', '특', '이민기', '미리', '불안하다', '국제', '엉터리', '2015년', '이예', '섭외', '따라오다', '스텝업', '함부로', '앞서', '.(', '주먹', '마르', '신세경', '인척', '파워레인저', '밖엔', '♥♥♥♥', '안남', '겹', '심정', '들보', '어쩌라고', '엘', '신민아', '쏟아지다', '전해지다', '부자', '어중간하다', '엿보다', '뮤직비디오', '불필요하다', '니당다', '파이팅', '역다', '박사', '대비', '엉엉', '와중', '전사', '뽕짝', '-_-;', '미장센', '애국심', '나니', '강력하다', '경계', '망설이다', '전락', '북', '~~~~~', '긋다', '오인혜', '스키', '미국인', '부드럽다', '행위', '이던', '불쌍', '대감', '6년', '8.5', '모성애', '구리다', '랩', '행크스', '간첩', '삐', '펼쳐지다', '타령', '생존', '한두', '저절로', '워커', '물건', '이나영', '리스', '땡', '구멍', '똑바로', '위원회', '전의', '어의', '역활', '이스트', '임신', '찡', 'The', '책임', '눈요기', '성함', '홍', '말르다', '메인', '신념', '포켓몬', '드립', '하나요', '자아', '후속', '크루즈', '땜시', '카메론', '바쁘다', '법정', '진짜진짜', '카피', '시스', '즐', '시사', '활동', '체험', '저기', '열광하다', '특징', '덴젤', '검다', '7.5', 'ㅂㅅ', '인종차별', '칸', '어처구니없다', '저주', '사기꾼', '광팬', '일생', '한글', '비슷', '에러', '꾼', '주옥', '컬트', '디자인', '별다르다', '재료', '홍금보', '위기', '려', '도통', '품다', '온몸', '무리수', '구도', '고자', '초점', '격투', '쫒다', '송혜교', '튀어나오다', '극찬', 'ㄹㅇ', '아프리카', '역쉬', '웹툰', '계획', '쓰러지다', '종류', '활용', '전이', '유리', '국적', '생략', '닉', '줄이다', '쫓다', '접함', '주목', '존내', '남발', '장난감', '보고서', '그땐', '가미', '퍼스', '나빠지다', 'KBS', '양조위', '이준기', '레오', '쥬라기', '품', '최하', '감수성', '복', '부탁드리다', '무지하다', '마마', '인터뷰', '여왕', '정당화', 'PD', '양동근', '존중', '^^;', '부디', '패션', '슈렉', '줄리', '일요일', '몬', '아자', '팔다', '정통', '구려', '교수', '。', '으로가', '똑똑하다', '풍부하다', '하디', '혹평', '위원', '읍', '선율', '가해자', '등급', '꼬맹이', '장나라', '직원', '강지환', '삼가다', '호강', '멘붕', '모야', '거만', '대가리', '송지효', '예수님', '곱씹다', '아카데미', '훈남', '가을', '벽', '닼', '흐뭇하다', '구성은', '조정', '노동자', '낚였', 'ocn', '사나이', '간간히', '요약', '강제', '자의', '모티브', '강조', '흥분', '어째서', '이러니', '에여', '호화', '저번', '머피', '곁', '아무래도', '에일리언', '마인드', '주상욱', '자위', 'it', '공중파', '코스프레', '오타쿠', '커지다', '우왕', '보스', '2005년', '허무맹랑', '도입', '레드', '어떡하다', '비치', '뉴욕', '세우다', '15분', '슬래셔', '부여', '용가리', '피터', '오오', '윤아', '내기', '영감', '접근', '끊임없다', '미안', '노말', '찢다', '대전', '고로', '중국인', '히트', '밧다', '지존', '최선', '안함', '충만', '히스', '시민', '맥스', '긍정', '호텔', '다기', '구원', '고발', '재탕', '나마', '톰크루즈', '낙', 'very', '노예', '몫', '긴박하다', '해피', '임권택', '고백', '병원', '투표', '환타지', '숲', '2003년', '제작사', '장군', '임수정', '매혹', '만듬', '리브', '면도', '실사', '르', '상투', '남자라면', '젊음', '왓', '남아돌다', '플', '정사', '유명', '가슴속', '나나', '갇히다', '그딴', '와이프', '원인', '실종', '전환', '2012년', '12년', '천만', '미묘하다', '한장', '박신양', '엉덩이', '가사', '쩜', '도하', '헷갈리다', '16', '남지', '펭귄', '진보', '명도', '자랑스럽다', '가져오다', '아역배우', '3년', '구역질', '아이러니', '‥', '데스', '퍼즐', '조악하다', '가르다', '미술', '낯', '총알', '비롯', '태양', '성숙하다', 'to', '8년', '귀가', '짐승', '..??', '일도', '휴먼', '그로', '한지민', '의학', '게리', '배드', '눈뜨다', '지니다', '학원', '현빈', '모호하다', '망상', '무적', '빼', '로마', '닫다', '독창', '분석', '유아인', '시르다', '강호동', '이념', '케이트', '퀴어', '디지다', '독', '만날', '율', '핸드폰', '남매', '글구', '울음', '활약', '밴드', '재밋는데', '콤비', '짓거리', '용두사미', '볼땐', '여정', 'CGV', '글쎄요', '서스펜스', '집어넣다', '노랗다', '찜찜하다', '에게서', '수치', '권하다', '불법', 'ㄱㄱ', '조직', '차이다', '이를', 'best', '절실', '지금껏', '언급', '김선아', '증', '날아가다', '격전', '실소', '높이', '홍진호', '수정', '불후', '옹', '루이스', '느슨하다', '우디', '뼈', '파고들다', '?\"', '사춘기', '해적', '시보', '미군', '큐브', '로보캅', '이범수', '불면증', '꺼리다', '4년', '노리다', '물의', '깝', '에든', '욤', '호러물', '걸치다', '이라곤', '지원', '욕구', '작렬', '용감하다', '진작', '대략', '은퇴', '강시', 'kbs', '오로라', '부재', '물씬', '미국영화', '수다', '저급', '조금씩', '기어', '궁', '재밋는', '수애', '쏙', '교감', '경이', '빚', '봣다', '유오성', '헐크', '으로나', '멍청이', '자본주의', '우익', '존잼', '비난', '컨저링', '관객수', '측면', '자매', '마루', '일베충', '박해일', '식스센스', '살아오다', '말기', '뭡', '귀요미', '제시', '정재영', '아시아', '창작', '폭', '2004년', '리즈시절', '휴가', '에릭', '지상', '지역', '다크', '통수', '쓰기', '앵글', '조조', '자유롭다', '라마', '일드', '에서야', '상치', 'mbc', '0.5', '그러하다', '샤를', '구르다', '이성재', '곳곳', '…', '나발', '미루다', '쌈', '부턴', '죽여주다', '’', '저녁', 'K', '하차', '가능', '금방', '어우', '땡기다', '평론', '진화', '깨지다', '장편', '꼴리다', '산드라', '인디아나', '덕후', '동호', '요구', 'ebs', '황홀하다', '사라', '비정상', '추락', '외우다', '비명', '실컷', '서우', '왤다', '여동생', '전국', '저렴하다', '활', '획', '전기', '서프라이즈', '습작', '몬스터', '고질라', '황비홍', '김강우', '패턴', '아가', '쓰레기통', '버금', '우아하다', '다문화', '환불', '빅뱅', '잘살다', '역사왜곡', '선하다', '............', '개잼', '오랜만', '~~!', '디스', '믄', '턱', '미흡하다', '노무', '이신', '자세', '한예슬', '수업', '날로', '앞서다', '고찰', '단편영화', '어느새다', '두근거리다', '에이리언', '녹화', '기간', '옹박', '악평', '종일', '버젼', '코스트', '‘', '맷', '예매', '성경', '외화', '희망이', '경쾌하다', '신파극', '퍼', '조인성', '압박', '악몽', '테론', '애도', '!^^', 'F', '황금', '♡♡', '게왜', '우월', '로렌스', '2013년', '미만', '후지', '장쯔이', '치명', '충무로', '혹성탈출', '프레디', '이러하다', '찬란', '미키', '방이', '현장', '허준', '법칙', '신선', '프레데터', '다음주', '크리스토퍼', '미션', '워싱턴', '공개', '김하늘', '수술', '건드리다', '기독교인', '헤어', '고요', '자빠지다', '상의', '화만', '꾹', '발레', '기쁨', '!!!!!!!', '서기', '졸음', '닦다', '인터스텔라', '작정', '육체', '엠마', '..,', '그러면', '안경', '대도', '일베', '태우다', '내겐', '50년', '소박하다', '즉', '채플린', '시리다', '화평', '자제', '허탈하다', '이동욱', '동료', '사망', '옹호', '싹', '까먹다', '놀람', '안질리다', '호소', '차지', '바이러스', '츠', '로그', '엄', '알차다', '완', '가난하다', '14년', '서방', '물어보다', '불리다', 'ㄹ', '3일', '구라', '재기', '예의', '우리네', '한없이', '나아지다', '신비롭다', '감당', '브래드피트', '사다코', '엑소시스트', '전적', '한쪽', '껄', '그룹', '전세계', '화해', '파이다', 't', '줄리엣', '삼다', '유작', '막스', '김남길', '필수', '어둠', '300', '탕웨이', '먹이다', '마크', '루크', '낚임', '무려', '무니', '이민정', '↓', '레이싱', '에의', '쯧', '되돌아보다', '관계자', '화답', '간절하다', '매트릭스', '비유', '사서', '제법', '아마도', '볼껄', '가시', '변호사', '어르다', '거창하다', '마초', '블루', '소문', '금요일', '털리다', '발생', '사연', '물리다', '원빈', '라고는', '이완', '연장', '런닝타임', '리오', '허전하다', '크로우', '피트', '투자자', '승화', '2회', 'ㅠㅠㅠㅠㅠ', '음모', '어벤져스', '직장', '리들리', '진자', '극한', '레인', 'in', '진구', '나약하다', '태', '부가', '속도', '인종', '.?', '두근두근', '회장', '기계', '익다', '진의', '해리슨', '뿌리', '샤론스톤', '공존', '이나마', '질투', '치열하다', '거울', '스톤', '선전', '묘미', '주체', '서극', '오리', '자가', '가운데', '불친절하다', '몰락', '박신혜', '켄', '라곤', '찌푸리다', '청', '은은하다', '아리다', '문성우', '정신건강', '잣', '선배', '임용', '악의', '높아지다', '이순신', '쿠', '사랑과전쟁', '대만', '풍기다', '발암', '최저', '뺨', '까메오', '토미', '아르', '처참하다', '황', '이분', '동아리', '쌓이다', '문근영', '신현준', '불러일으키다', '지하철', '오류', '실존', '페이지', '퉤', '급전', '괴작', '대책', '그러니까', '인내', '통한', '더보', '현대인', '낯선', '이남', '테이크', '.!!', '고소영', '주의자', '.............', '괴수', '일본어', '종이', '가만히', '갑갑하다', '구매', '설레임', '훈련', '질주', '허영', '내러티브', '2008년', '부의', '멍하다', '치기', '일대기', '때메', '에리', '미로', '보장', '탕', '넓다', '때론', '내공', '앤딩', '휘', '근본', '알맹이', '아웃', '순진하다', '마땅하다', '연령', '~~~~~~', '확신', '어려움', '만큼도', '미니', '이틀', '얽히다', '나열', '각인', '건강하다', '><', '자신감', '~!!!!', '독백', '...;;;', '에게나', '동의', '어케', '아이리스', '부수', '띄우다', '어딨다', '얼른', '트릭', '균형', '암살', '안주', '의아', '콘서트', '형성', 'ㅋㅋㅋㅋㅋㅋㅋㅋㅋㅋㅋㅋㅋㅋ', '엑스트라', '공격', '광주', '흥겹다', '토마스', '족', '농구', '저예산영화', '발톱', '평이하다', '혼나다', '근거', '이슈', '괴롭히다', '함정', '캐서린', '위안', '2일', '똥폼', '뇌리', '유도', '판치다', '도아', '까지의', '휴머니즘', '허니', '멋대로', '),', '넋', '공효진', '!!!!!!!!', '시스템', '가도', '페이', '조선족', '초능력', '가버리다', '로우', '이종석', '하이킥', '프로젝트', '흐', '개독', '☆', '우마', '기리', '2001년', 'and', '부담스럽다', '클루니', '롯데', '크리스틴', '눈부시다', '잠수함', '몸부림', '쓰리다', '무얼', '신은경', '흘러나오다', '스치다', '호평', '100분', '호러영화', '^_^', '잡지', '된장', '퀄', '2010년', '으으', '끝장', '하여금', '못지않다', '한국말', '2012', '출연료', '동기', '물질', '이내', '핳', '발휘', '라며', '옴니버스', 'cgv', '무도', '히치콕', '기묘하다', '대리', '도박', '이라고는', '엑', '뉴', '작업', '강혜정', '보석', '지진희', '싸', '경기', '꽉', '판타스틱', '성향', '정권', '뵈다', '공상', '고려', '거뭐', '듯이', '찰리', '하필', '보삼', '표본', '제인', '행운', '시청율', '떄문', '오토바이', '댓', 'me', '어찌나', '벌이다', '여우', '흐흐', '인셉션', '어물', '특성', '도망', '핵심', '좌파', '승', '피우다', '신들리다', '자하', '헬기', '모델', '이선균', '맑다', '다가가다', 'ㄴㄴ', '위치', '미인', ',..', '조각', 'my', '정신차리다', '스포일러', '가치관', '자존심', '통틀어', '다수', '몰래', '플레이', '서인국', '거중', '제이', '마구', '검', '팬심', '영화배우', '조커', '따라서', 'o', '중이', '미스터', '헤헤', '브리', '뒤통수', '카타르', '궁금증', '큐', '까지가', '꾸준하다', '안녕', '보물', '병사', '여자도', '안목', '여야', '작살', '2002년', '앓이', '자아내다', '다한', '걸레', '룩', '직전', '남자친구', '따윈', '대면', '서세원', '평범', '맑은', '감독판', '매회', '이승기', '사르다', '사납다', '스캔들', '패닝', '어마어마하다', '중구', '과제', '대형', '보호', '결합', '명량', '통일', '데이먼', '...!!', '약자', '스트립', '진솔하다', '친절하다', '리언', '딱좋다', '김수로', '찍히다', '치가', '합리화', '나아가다', '주신', '화이', '뽀로로', '참혹하다', '최진실', '천하', '듣보잡', '그림자', '기차', '치밀다', '낭', '잔혹', '개미', '희극', '런닝', '파일', '후유증', '평정', '안티', '멜깁슨', '나비', '은희', '비급', '변명', '윤계상', '조재현', 'MC', '뚜렷하다', '거대', '만으로는', '지성', '결제', '모건', '그런대로', '희한하다', '유행어', '혼', '즘', '어줍다', '서서히', '천녀유혼', '주민', '뜸', '쬐다', '망신', 'OCN', '맞먹다', '단막극', '소린', '목표', '황제', 'love', '충분', '각성', '스티브', '매튜', '슈스케', '받치다', '최지우', '도덕', '전결', '여고괴담', '민주주의', '쌍욕', '좁다', '초심', '잘쓰다', '서민', '1억', '칠이', '고현정', '가문', '전통', '반의', '또다시', '창조', '인증', '해대', '에야', '댓글알바', '쓰나미', '아리', '매년', '힐', '설치다', '완결', '크리', '무능하다', '떼', '스타뎀', '그만두다', '유역비', '줄알', '어필', '헤', '대치', '2011년', '속상하다', '이뿌다', '케이스', '나이트', \"?'\", '人', '무작정', '주지훈', '퀸', '어보', '진부', '안고', '돌아다니다', '되새기다', '적응', '구해', '독도', 'S', '마주', '가가', '조아하다', '김래원', '효민', '유해진', '200', '고개', '요원', '쳐다보다', '토요명화', '정돈', '주장', '미우다', '명곡', '욬', '인피니트', '여진구', '조심하다', '큰일', '더러', '참신', '숭고하다', '맛깔나다', '달려가다', '....?', '하우스', '불가능', '공리', '사이코패스', '정성', '자료', '잘맞다', '웨슬리', 'i', '건물', '랍시고', '모처럼', '폭탄', '동원', '블', '여명', '세라', '감싸다', '에너지', '빅', '닳다', '한때', '부러', '정적', '오우', '통쾌', '가위', '인공', '콧물', '침몰', '엇음', '난방', '부대', '보더', '마련', '박자', '린치', '지능', '이정현', '자질', '알리', '에서부터', '책임감', '교차', '끊어지다', '미개하다', '장인', '드래곤', '나오니', 'O', '발차기', 'so', '난감하다', '메리', '7~8', '이민호', '오디션', '피터팬', '14', '며칠', '피하', '먹음', '오덕', '사소하다', '우울증', '닭', '사막', '원제', '해설', 'AV', '취미', '17', '무표정', '채민서', '오점', '사로자다', '심은하', '타잔', '스토리텔링', '송중기', '하여튼', '공각기동대', '여실히', '해리', '수습', '리스트', '팬티', '대처', '운전', '시원', '구림', '진실되다', '피라냐', '재회', '정답', '사례', '어메이징', '봉태규', '필립', '고만', '거도', '대학교', '신기', '비행', 'ㅆ', '인간미', '실체', '내주다', '늑대인간', '좌절', '블록', '대니', '이겠다', '자녀', '훼손', '기막히다', '~~~~~~~', 'ㅋㅋㅋㅋㅋㅋㅋㅋㅋㅋㅋㅋㅋㅋㅋ', '당한', '묵다', '안달', '진출', '제한', '제공', '어쨋', '브로디', '토이스토리', '아날로그', '갈수', '스토', '갑작스럽다', '시바', '연민', '일본애니', '아주아주', '고통스럽다', 'ㅇㅇㅇ', '데이트', '멸망', '소유', '아랫', '장용', '이상형', '마피아', '수단', '이리저리', '패기', '썰렁하다', '짤', '테스트', '남겨지다', 'sbs', '악인', '압축', '불꽃', '미남', '어깨', '림', '고향', '정글', '봉준호', '헌', '삼국지', '아야', '추잡하다', '괴', '고급', '얄팍하다', '멘스', '부류', '어어', '보석같다', '잉여', '사오다', '난이', '권선', '전투기', '결과물', '정유미', '지속', '피어스', '소수', '어긋나다', '무책임하다', '기부', '고고', '소방관', '간접', '다그', '유승준', '갱', '악플', '약속', '관성', '문학', '트와일라잇', '후의', '국뽕', 'Very', '책임지다', '클린트', '로드무비', '감우성', '스님', '고정', '당췌', '튀기다', '배슬기', '스탤론', '깨어나다', '안듬', '대판', '헛소리', '화장', '자비', '저만', ',...', '종말', '모자', '두뇌', '생일', '쪽바리', '수사', '한몫', '이라기', '미션임파서블', '패스', '솜씨', '2009년', '단말', '군데', '차인표', '죄책감', '깜찍하다', '돌이키다', '일일', '영호', '!!^^', '으아', '봣던', '신동엽', '미성년', '어울림', '해안', '결투', '최대한', '짐작', '보상', '해학', '질린다', '김승우', '백미', '더러워지다', '나인', '판타지영화', '로맨스영화', '주고', '흡사하다', 'ㅁㅊ', '으로의', '학', '안정', '자마자', '과감', '이입', '뎁', '눈높이', '이스라엘', '묶다', '나소', '나비효과', '괜찬', '신뢰', '1%', '부각', '왕따', '핫', '축', '쌤', '찔리다', '여고생', '치르다', '인사', '기반', '롭', '의존', '대변', '종종', '모드', '흠뻑', '이준', '이브', '우베', '처벌', '적도', '경제', '통찰', '파트너', '기절', '인칭', '만인', '뮤', '윌스미스', '동참', '닌자', '성질', '문제점', '세명', '타이타닉', '모니터', '24', '로나', '자라', '시간여행', '심해', '진지', '기념', '발악', '甲', '주시', '아메리칸', '메릴', '물결', '마니아', '리치', '러', '므', '비리', '-.-', '최강희', '파멸', '점임', '엮', '케로로', '탐욕', '진도', '평작', '시네마', '무장', '배두나', '덤덤하다', '붕괴', '카드', '..............', '지리', '도나', '이치', '권리', '영화음악', '늘어놓다', '잡아먹다', '?)', '아키라', '토르', '건달', '엄태웅', '쾌감', '동성애자', '눈감다', '미련', '고기', '하나경', '뱉다', '그날', '양산', '치중', '형태', '하여간', '컬', '경쟁', '타이밍', '거여', '타입', '사의', '쉣', '조기', '취지', '1000', '사형', '로라', '해달라다', '거들다', '본받다', '스무', '다나', '제레미', 'No', '뚫다', '시킴', '건담', '안남다', '욧', '농락', '무심하다', '구입', '평타', '입가', '털다', '오늘날', '쌍둥이', '오기', '사가', '폭파', '그리움', '단계', '끓다', '피로', '진주', '궁금', '홈', '서른', '선입견', '대구', '와나', '마동석', '윌리엄스', '찢어지다', '준수', '아트', '느끼하다', '참내', '성냥', '일방', '좌빨', '길들이다', '2%', '이서', '금발', '브래드', 'av', '만행', '빈틈', '타짜', '날림', '개봉관', '간신히', '하루하루', '결혼식', '꺄', '숨쉬다', '맛보다', '오래오래', '웨이', '조디', '지워지다', '빠다', '기원', 'but', '뮤직', '비노', '아일랜드', '엥', '오묘하다', '안젤리나', '닥치다', '변', '극도', '보영', '사전', '틀어놓다', '타락하다', '말리', '한물가다', '퍼펙트', '오싹하다', '친일', '자시다', '이프', '개방', '장만옥', '세지', '계단', '기운', '식당', '좆', '남한', '도도', '머물다', '고래', '심판', '재희', '디비디', '바비', '요란하다', '상승', '수년', '모자라', '쌓다', '엠씨', '--;', '써주다', '유진', '주제곡', '한니발', '출동', '에혀', '천박하다', '욕설', '앵', '도감', '전파', '성장기', '이성', '늘어나다', '오줌', 'L', '블루레이', '서사시', '사랑받다', '추석', '올드보이', '이야말로', '브금', '드라마틱하다', '안녕하다', '윽', 'lt', '지껄이다', '번만', '반면', '클릭', '폭소', '!!!!!!!!!', '대립', '조롱', '맙소사', '보수', '이중', '소외', '영화니', '클럽', '노무현', '올인', '고집', '살해', '아이디', '눈알', 'ㅡㅜ', '퇴보하다', '얕다', '침대', '이제껏', '퍼지다', '눈물샘', '말장난', '라이브', '오열', '김규리', '시위', '지은', \".'\", '돌림', '남동생', '삘', '투입', '현상', '헌신', '정신없이', '해소', '성폭행', '노아', '초라하다', '규', '토비', '용하다', '이정진', '무방', '데미무어', '성동일', '일인', '유명배우', '50분', '재판', '쨩', '위안부', '쩔어요', '저딴', '안소니', '얼음', '푸른', '앜', 'ㄷㄷㄷㄷ', '키스신', '오름', '코너', '논란', '공기', '해드리다', '전용', '정상인', '예정', '주어지다', '레저', '위선', '...-_-', '편지', '제도', '스콜', '대기업', '팔마', '이요원', '어쩐지', '찌들다', '저건', '어유', '두서', '?????', 'no', '알아주다', '모니카', '로사', '2007년', '모름', '휴잭맨', '조건', '탈락', '단조롭다', '톱', '낚였어', '별반', '이모', '비용', '죠스', '닥터', '남아도', '신앙', '민주화', '소원', '징징대다', '헌터', '당대', '박정희', '마이크', '줫', 'ㅜㅜㅜㅜ', '청춘영화', '범죄영화', '기네', '나열하다', '고갈', '돕다', '1980년', '포근하다', '날카롭다', '손오공', '~?', '전범', '명예', '디아즈', '액', '스틸', '삽입', '타워', '와이어', '서양인', '영애', '고루', '호랑이', '재벌', '멘트', '봣음', '초적', '십대', '깔깔', '교사', '된장녀', '민영화', '사정', '침략', '맞서다', '거참', '제적', '장담', '불우', '물들다', '이수근', '소비', '소녀시대', '엠비씨', '유승호', '징악', '외로', '걸왜', '만지다', '따오다', '앗', 'ㅅㄱ', '기업', '명절', '짝사랑', '건강', '데스노트', '세력', '...............', '아담샌들러', '9년', '...!!!', '만원', '슈', '증오', '초콜릿', '오만', '에디', '녹이다', '짖다', '분노하다', '피노키오', '잡스', '실적', '♡♡♡', '맥주', '25', '외다', '친일파', '박유천', '가왜', '중견', '가상하다', '치우다', '한시', '평화롭다', '지못미', '후진', 'm', '쿵푸팬더', '일기', '축하', '술함', '수지', '하든', '엑소', '순정', '인성', '내지', '좌좀', '대세', '명언', '달인', '놀', '97년', '운지', '자전거', '충족', '회의', '썅', '광해', '웨스턴', '근육', '윤리', '벌레', '쿠바', '이자벨', '..,,', '에게만', '구지성', '완존', '클래스', '나뉘다', '진가', '탁', '치닫다', '추강', '제자', '여태껏', '캡틴', '절용', '상업성', '쇼킹', '4000원', '노다메', '답습', '물고기', '질감', '마술', '첩보물', '!\"', '장백지', '덧', '인디언', '중요성', '잡탕', '?.', '하리', '딱딱하다', '창문', '태권도', '다듬다', '문명', '브라이언', '저그', '여군', '조치', '숀펜', '붙잡다', '비우다', '파헤치다', '상속', '톱스타', '주어', '좌', '시어머니', '싸가지', 'ㅈㄹ', '허망', '털', 'E', '블레이드', '현란하다', '취권', '나래', '일어나서', '고릴라', '화재', '^^;;', '경력', '피고', '레고', '킴', '서툴다', '스칼렛', '장진영', '.,.', '거북', '부리', '빠져나오다', 'k', '유산', '금은', '여자아이', '회복', '서태지', '투쟁', '직하다', '귀하다', '저능', '탄탄', '니미', '녹음', '개척', '지망', '슬로우', '본드', '개월', '베트남', '종북', '건조하다', '풀이', '별개', '암시', '알고싶다', '지연', '소유진', '걸음', '장수', '보드', '삼촌', '스무살', '닭살', '건너', '데드', '류승룡', '진실하다', '씻다', '자칫', '수면', '깃', 'ㅅㅅ', '맥빠지다', '놔두다', '동정', '사하나', '흐리다', '잘리다', '까지나', '치킨', '윤시윤', '연락', '피어', '한수', '가나다', '하트', '터뜨리다', 'gt', '류덕환', '한자', '김민희', '마스터', '방사', '한일', '히틀러', '이해력', '이문식', '화제', '문구', '해운대', '재즈', '치부', '과언', '어요', '괴상하다', '베를린', '2006년', '맡기다', '초등', '경지', '알렉스', '스틱', '휴지', '뛰어다니다', '뱀', 'XX', '오래도록', '방어율', '쏠쏠하다', '1.2', 'ㅋㅋㅋㅋㅋㅋㅋㅋㅋㅋㅋㅋㅋㅋㅋㅋ', '주변인', '한잔', '유이', '애국', '것임', '우울', '소가', '사이트', '택', '아따', '거구', '꼽는', '긴급', '세월호', '흑형', '넼', '원한', '람', '사골', '이익', '연출자', '장동민', '괴수영화', '99년', '무한도전', '초보', '사나', '조잡', '굿바이', '이래도', '양키', '축복', '스며들다', '영화광', '박물관', '부실', '크크', '이빨', '에반게리온', '테러리스트', '붕', '움직임', '정신병원', '리부트', '러브레터', '서사', '피부', '화신', '어리석다', '컨데', '민호', '신들', '꽁', '분투', '이경영', '박스', '제국', '부조리', '앨리스', '도의', '98년', '삼성', '지상파', '무리하다', '올리비아', '중점', '맥락', '핀', '예상외', '박현지', '장미', '허각', '나선', '장사', '분류', '반지의제왕', 'ㅡㅡㅋ', '서커스', '통속', '사자', '에어', '乃', '프리드', '뿐더러', '으악', '난생', '박시후', '돌이', '디게', '40년', '윤발', '정준호', '볼바', '집합', '불교', '스토커', '제국주의', '악행', '껍데기', '억압', '불어', '^.^', '2014', '해주', '설리', '신지', '배제', '죽겠네', '획기', '감점', '한적', '1990년', '후배', '김정은', '안드로메다', '힘겹다', '주진모', '존잘', '동화책', '날개', '교도소', '영점', '편성', '싸이', '사신', '취하', '하이라이트', '무덤', '잼남', '주요', '25년', '비둘기', '부영', '꾸밈', '바램', '미사일', '온건', '나탈리', '1초', '강예원', '슬슬', '중세', '폐해', '-_', '우승', '유준상', 'ㅆㄹㄱ', '훌륭', '신비하다', '적합하다', '야쿠자', '정책', '못만드', '맘대로', '마셈', '인정받다', '엇어', '파치노', '아하', '러시', '베토벤', '이진', '숀', '훌쩍', '킹왕짱', '오그', '곽지민', '라이트', '호프', '나대다', '편향', '월드컵', '잘나오다', '제시카알바', '남상미', '병자', '쿵푸', '기다림', '원스', '밋게봣', 'Bad', '박살', '연결고리', '더더', '대륙', '됫', '파이', '손잡다', '-;', '오가다', '갱스터', '펜', '반점', '울버린', '쉰', '불행', '영화평론가', '막무가내', '무모하다', '동떨어지다', '김보성', '같잖다', '굿닥터', '교양', '관우', '박영화', '성지순례', '특급', '박진영', '구지', '미숙', '바사', '장창', '극영화', '꽂히다', '로안', '인용', '낡다', '아파트', '떤다', '장선우', '28', '빼앗기다', '솔로', '추적', '마녀사냥', '간지나다', '신랑', '수호', '갈망', '딸아이', '비꼬다', '학예회', '내려오다', '나른하다', '괴기', '파탄', '도배', '싱크로', '구식', '일관', '어쩌구', '이롭다', '특색', '6.5', '내버리다', '두루', '탱', '스크림', '아유', '둘리', '진상', '조여정', '야수', '으로부터', 'z', '기기', '빙의', '샤말란', '젖', '프리퀄', '강원도', '연설', '명백하다', '마는', '조선시대', '은행', '유튜브', '방울', '반항', '웟', '코넬', '?;;', '모리', 'ㅇㅅㅇ', '바이올린', '순이', '초한지', '모자이크', '정치인', '레즈비언', '용의', '세심', '킬', '심심', '소련', '입히다', '진국', '매치', '잔인', '가시다', '환영', '동양인', '비약', '띠', '이뤄지다', '수백', '밍밍', '문자', '라이즈', '댐', '수학', '박한별', '다케시', '파티', '에이미', '끝없다', '라이더', '줄줄', '시원시원하다', '멕', '영하', '과분', '쌍벽', '강우석', '긁다', '이기심', '올려놓다', '비트', '킬빌', '가르침', '쫙', '맥그리거', '굴', '~~!!!', '인위', '드류', '마모루', '존예', '쌩뚱맞', '욱', '멀미', '재생', '습격', '이불', '덜다', '문채원', '김준호', '김윤석', '루시', '입맛', '복싱', '먹고살다', '드릅', '...;', '긴장도', '인격', '시가', '관능', '무고', '!!!!!!!!!!!', '최수종', '쑤다', '반미', '?....', '리프', '어마', '조국', '김창완', '재탕하다', '복귀', '화이트', '무죄', '무명', '트라우마', '종교영화', '협박', '리차드', '영역', '베드씬', '우기다', '산업', '비운', '추상', 'this', '윌리엄', '스마트폰', '위성', '유부녀', '쟤', '무미건조하다', '난감', '누리다', '시망', '결', '리더', '바람나다', '리그', '햇음', '스케', '킹콩', '박하선', '바람둥이', '참패', '봣어', '어게인', '데려가다', '팩트', '예지원', '폰부스', '마력', '게다', '때로는', '...)', '의의', '햇던', '1~2', '그리스', '스티븐시걸', '낯설다', '저격', '짜증스럽다', '재림', '유머러스하다', '심금', '오죽하다', '시한', '송윤아', '들려주다', '뭘말', '대지', '뮤비', '렌트', '에잇', '바하', '후보', '불안', '올바르다', '김옥빈', '탱고', '얹다', '구속', '슬레', '조장', '지하', '..!!!', '대장', ',,,,,', '빠르기', '이지나', '환', '가보', '도가니', '가두다', '대답', '시시', '긴지', '한층', '장영', '꼬리', '장예모', '세뇌', '밑바닥', '직장인', '산타', 'SM', '싸지르다', '권총', '브라질', '짝짝', '대중성', '안개', '관념', '김수미', '후편', '학대', '서바이벌', '고사', '****', '꼴다', '성인영화', '곽부성', '17년', '룰', '90%', 'BGM', '반쪽', '미셸', '꼬집다', '얄밉다', '“', '입양', '주님', '봣습니', '길거리', '고난', '공익', '다섯손가락', '장황하다', '민간인', '하찮다', '보편', '몰아치다', '느', '이서진', '나잇', '이슬람', '보너스', '엇갈리다', '비웃다', '조심', '김민준', '제리', \"!'\", '시퀀스', '수식어', '생전', '장비', '즈음', '그레이', '껀', '치우치다', '믿어지다', '섹', 'top', '불멸', '어장', '함축', '외치', '퀴', '오마쥬', '13일', '식구', '귓가', '일진', '김현주', '남우', '죄악', '에밀리', '친척', '시달리다', '벨라', '물체', '짚다', '밋음', '범벅', '재일', '마스크', '스포츠영화', '그토록', '케이온', 'V', '박용우', '관광', '나하', '저학년', '어렷을때', '이상우', '입력', '사냥', '런', '일텐데', '수녀', '댓글달다', '한구석', '환희', '사업', '똥꼬', '11년', '세븐', '13년', '일만', '강도', '졋', '뭉치다', '불신', '기선', '맛없다', '쭈욱', '나치', '유대인', '애교', '김윤진', '캐다', '세이', '핸드', '천년', '상도', '유사하다', '스물', '그로테스크', '대인', '탐정', '후레쉬맨', '다코타', '2분', '전두환', '삼천포', '창의', '김주혁', '개봉일', '유재석', '월화', '유코', '조르다', 'bgm', '주식', '사악하다', '플러스', '팍', '실속', '박스오피스', '타임머신', '잔치', '꾸역꾸역', '물리', '상자', '끼들', '배틀', '대요', '바라지', '낮아지다', '서글프다', '줄라', '동경', '몸짓', '음모론', '주문', '배고프다', '김대희', '마시다', '소라', '제주도', '뭉클', '짜장면', '매드', '훅', '변질', '썸띵', 'up', '라기보단', '문소리', '지게', '금도', '상쾌하다', '일제', '느님', '9~10', '그중', '공자', '미워하다', '그이', '하다못해', '을해', '오정세', '이제훈', '즌', '파도', '남다르다', '140', '지방', '강소라', '김아중', '왕국', '기한', '무심코', '눈앞', '법도', '인간성', '지니어스', '똥망', '우상', '연대기', '~~~~~~~~', '아이템', '근대', '종결', '지향', '90', '다양성', '무성영화', '만치', '치아', '동일하다', '삽질', '카메오', '어스', '업적', '상대로', '괴담', '레즈', '관해', '콩가루', '리플', '정녕', '알맞다', '.~', '.................', '결여', '경상도', '댄서', '탱크', '명분', '월요일', '성기', 'p', '444', '트루', '지라', '육', '드라큐라', '투모로우', '카페', '임성한', '한결같다', '휼륭하다', '비틀즈', 'ㅇㅋ', '읍니', '여럿', '판사', '번방', '윤진서', '..;;;', '이미연', '개쩌', '조한선', '절때', '고본', '세계대전', '판도', '접영', '강남', '김소연', '100년', '교묘하다', '주리', '잊어버리다', '김청기', '사태', '요가', '개망작', '수능', '토요일', '페미니즘', '박진희', '눈살', '앞두다', '꽃미남', '면상', '꾀', '이지아', '..-_-', '그릇', '오래간만', '성욕', '가다가', '위험', '조안', '불행하다', '이대로', '헤매다', '취해', '프랭크', '이나라', '터널', '이미숙', '대서', '패밀리', '론데', '고아라', '뵙다', '우주선', '보람', '도망치다', '오드리', '깜짝깜짝', '그다음', '둘이서', '찰지다', '제격', '온통', '마스터피스', '깨우치다', '조니', '헨리', '한치', '폴라', '빨르다', '이즈', '가스', '와인', '다분하다', '워쇼스키', '냉소', '청자', '핑계', '박력', '합격', '싸인', '낄낄', '사토시', '싱어', '정당하다', '흥분하다', '따라잡다', 'It', '비치다', '토토', '방지', '세금', '마돈나', '일치', '백프로', '정사씬', '포커스', '^^~', '와이', '이쯤', '먹이', '레벨', '연예', '일류', '삼박자', '카이', '악녀', '밸런스', '스페셜', '총격', '하모니', '거저', '갑툭튀', '살림', '로고', '배달', '제대', '강수연', '시궁창', '이해해', '오씨', '애비', '한판', '블러드', '재연', '자국', '김대중', '인시디어스', '천천히', 'ㅠㅠㅠㅠㅠㅠ', '대다수', '이로', '썸머', 'GOOD', '꺾다', '출시', '윗', '존쿠삭', '짱깨', '차기작', '크기', '쫄깃', '자연스레', '개떡같다', '낭패', '전후', '소식', '재수', '퇴보', '요괴', '테마', '상사', 'CF', '테일러', '발칙하다', '///', '나무라다', '번하다', '니야', 'Best', '둔갑', '은밀', '은애', '꽉차다', '미지', '.;;', '비긴', '23', '재활용', '굵다', '마법사', '소스', '양념', '무당', '윤은혜', '울부짖다', '퍼센트', '라운드', '은유', '동방불패', '종편', '조진웅', '개구리', '요정', '우웩', '아가씨', '전체관람가', '유희', '업그레이드', '매기', 'boring', '시계', '나위', '윤재', '인질', '폭동', '후후', '위협', '발성', '고서', '야말로', '눈시울', '리처드', '경고', '인간극장', '6~7', '연구', '넘버', '송새벽', '>_<', '유루', '최상', '쫓기다', '합작', '켈리', '푸하하하', '~.', '스미스', '70', '주년', '순정만화', '80분', '존트라볼타', '먹방', '우물', '동물농장', '개운하다', '스팅', '직설', '신발', '훨낫다', '..)', '매체', '학적', '혈압', '최종', '어이없이', '서서', '으로서의', '찍기', '원본', '머임', '패배', '쿠엔틴', '쇼크', '류승완', '작고', 'mc', '주저', '연발', '발정', '네요', '통제', '부진하다', '테이프', '유기', 'am', '왜캐', '범작', '그랬는데', '오광록', '유방', '0.1', '불과', '|', '라기보다는', '생동감', 'SBS', '원망', '95년', '노릇', '우승하다', '비됴', '상쾌', '겄', '만이라도', '뮤지컬영화', '경향', '고마', '정준', '상한', '..................', '브로스', '외계', '힛걸', '우수하다', '전무후무', '정경호', '보리', '왈', '나기', '정우', '망정', '오컬트', '로부터', '공산당', '뷁', '최신', '여느', '자꾸만', '기능', '훈녀', '엑스파일', '되돌리다', 'not', '~~~^^', '”', '대들다', '교체', '포스트', '풋', '유선', '래서', '잼슴', '궁극', '연평해전', '홍경인', '올드', '현우', '알포인트', '염정아', '매료', '스카이', '스머프', '예나', '사도', '이글', '떨구다', '타고나다', '불법체류자', '백만', '스웨덴', '담당', '라네', '비로소', '마더', '실천', '후련하다', '도리', '취한', '스승', '빈약', '대회', '어따', '벨루치', '유부', '윌', '입체', '쾌락', '진호', '우스꽝스럽다', '낚시질', '비비다', '여사', '우주전쟁', '신성일', '금성무', '셧', '몰려오다', '힘없다', '인내력', 'be', '전화하다', '록', '휴대폰', '놨', '패륜', '산뜻하다', '숫자', '물어', '뜻밖', '사지', '연하다', '4회', '키이라', '각심', '베니', '하락', '자도', '슈퍼스타', '비평', '인즈', '안에', '쟁쟁', '뚝', '쑤시다', '스티', '소리내다', '클로즈업', '난생처음', '승자', '게로', '천정명', '다인', '별그대', '주걸륜', '머리카락', '....!', '정은지', '공장', '무시무시하다', '티라노', '한반도', 'ever', '완소', '앤드류', '1만', '부천', '애환', '익숙해지다', '조음', '토시', '안중근', '특정', '→', '엘렌', '파트', '?(', '멎다', '사람인', '리얼리즘', '영리하다', '노고', '야마카시', '60', '제라드', '고함', '관찰', '호주', '80%', '고추', '곱', '강의', '빠돌이', '테잎', '가져가다', '운영', '툭', '서유기', '쒸레기', '넘어지다', '드릴', '안내', '악어', '메카', '모범', 'for', '유년', '나오미', '도록', '고스트', '다짐', '덩', '불타다', '방송국', '바가지', '안전', '초대', '낙태', '김고은', '클로이', '몰리다', '바이블', '단호', '숙제', '써니', '다람쥐', '파이널', '부각시키다', '살수', '일병', '발가락', '달린다', '해롭다', '원주고', '한창', '퍼포먼스', '니모', '메이저', 'ok', '노소', '모음', '................', '바디', '고리타분하다', '놀리다', '장기', '한류', '아포칼립토', '가필드', '치매', 'Z', '뒤집어지다', '소위', '유감', '료코', '작성', '갠차다', '10%', '무관심', '처지', '뤽', '소금', '기름', '사고방식', '어간', '성시경', '아비', '하녀', '박아', '자칭', '슌', 'pd', '생뚱맞', '본분', '자동', '작자', ';;;;;', '슴가', '말론', '망각', '이크', '모모', '잠도', '백설공주', '이처럼', '정무문', '순식간', '배틀로얄', '쩌러', '선교', '당첨', '10000', '정식', '체인지', '늦추다', '신영화', '당기다', '아씨', '티스', '열차', 'sm', '힝', '좀해', '싱크', '하트넷', '미지근하다', '모레', '대강', '붙이', '요한', '설계', '태희', '쿨', '시티', '더군다나', '존슨', '어도', '톡톡', '진전', '샹', '한가인', '멍하니', '교통사고', '레기', '삼생이', '세련', '사무엘', '별것', '독재', 'are', '식다', '그레이스', '용인', '졸귀', '퇴폐', '주자', 'You', '발랄', '돌고래', '맴돈다', '추모', '누굴', '+_+', '절규', '미생', '능청', '♬', '독하다', '김혜선', '총기', '가물가물', '레이스', '고질', '불가하다', '2만', '주로', '제멋대로', '평온하다', '정준영', \"..'\", '도서관', '기념비', '이소연', '갚다', '수영', '퓨전', '서유리', '베테', '탐험', '공군', '넨', '줄기', '본연', '소심하다', '훗날', '갈피', '알아듣다', '이동진', '예외', '슬', '파이터', '미사', '이세', 'G', '스나입스', '코미', '건전하다', '엌', '맴도', '페', '중국어', '2등', '백퍼', '바리', '칙칙하다', '전과', '넘침', '지리하다', '허비하다', '도현', '흑백영화', '익', '유료', '출품', '수박', '암만', '투척', '질적', '중요', '전기영', '핀처', '해품달', '심각', '핥다', 'H', '샤이니', '음성', '다물다', '남여', '80', '막말', '예감', '쪼금', '오만하다', '쥬', '할리', '유투브', '썸', '다우니', '스페이스', '는가', '식겁하다', '요청', '회수', '곤란하다', '자부', '숙면', '액션연기', '샷', '옆집', '람사', '빼어나다', '부풀리다', 'VOD', '친근하다', '멜로디', '달래다', '똘끼', '내미다', '코메', '기여', '서영희', '유태인', '횽', '우디앨런', '김사랑', '다투다', '라던가', '해바라기', '6.25', '천지', '해치다', '힐러리', '1998년', '충돌', 'ㅠㅠㅠㅠㅠㅠㅠ', '페이스', '맘에듬', '날아다니다', '현명하다', '더럽히다', '김민정', '방화', '박시연', 'ㅋㅋㅋㅋㅋㅋㅋㅋㅋㅋㅋㅋㅋㅋㅋㅋㅋㅋㅋㅋ', '기초', '극우', '자이언트', '단면', '퇴', '뒷이야기', '였음', '으아아', '불명', '장안', '화살', '출생', '찰스', '쉐프', '팬텀', '워스트', '서비스', '며느리', '복장', '로랑', '배경음', 'P', '911', '혁신', '윤제문', '사이먼', '강철', '우울함', 'NO', '과자', 'or', '이러니까', 'ㅔ', '툭툭', '...??', '국가대표', '련', '싸대기', '황우슬혜', '유전자', '뚫리다', '인의', '는바', '첫날', '박시환', '겐', '이필', '하류', '집어치우다', '돌아이', '어쩌다가', '인천', '내부', '사색', '여성부', '후딱', '바위', '강정', '참담하다', '야마', '발달', 'v', '시리', '특선', '....;;', '만능', '지현우', '니슨', '폴리스스토리', '짜깁다', '아메리카', '반했어', '가차', '·', '햄버거', '96년', '바랬는데', '복잡', '찔끔', '폭스', '독보', 'REC', '재밋엇음', '괴리감', '외도', '다려지다', '8~10', '달러', '지아', '정려원', '기교', '다카', '페넬로페', '..~', '감회', '불편', '냉혹하다', '챔피언', '대명사', '매염방', '봣으', '이러케', '손님', '호연', '가든', '데려오다', '허락', ').', '추격자', '보고또보고', '손녀', '한낱', ';;;;;;', 'But', '수사물', '사운드트랙', '씬들', '바지', '항', '자폐', '끓이다', '갈아타다', '십자', '아싸', '천원', '정수', '주니어', '도신', '악령', '디지털', '오마이갓', '호모', '삼총사', '불문', '한채영', '8월', '다임', '새기다', '소림사', '아빠어디가', '부시', '로드리게즈', '맘마미아', '효과음', '강용석', '개재', '~\"', '5~6', '시원찮다', '코끼리', '앨범', '우습다', '지기', '계급', '권장', '결승전', '오후', '돌아서다', '도달', '더블', '릴리', '자화상', '모조리', 'bbbb', '확실', 'Ost', '일어나지', '삼키다', \"...'\", '대우', '내사', '황진이', '공중', '판빙빙', '치도', '다잡다', '거미', '가오', '포로', '김우빈', '유죄', '음산하다', '템포', '로더', '폐인', '힘차다', '정교하다', '걸어가다', '루카스', '키키', '여부', '똑', '여학생', '마사', '빙빙', '사위', '훨신', '위인', '시내', '바스코', '모세', '엘리베이터', '장식', '세밀', '구현', '저걸', '연속극', '건축', '세포', '모녀', '생방송', '책보', '일로', '폐', '우우', '성해', '겸', '라라', '상품', '난장판', '잠기다', '디자이너', '모토', '굿굿굿굿', '심플', '무인도', '미디어', '여섯', '콜', '차려', '듬뿍', '링컨', '면모', '92년', '중국산', '5월', '단단하다', '과소', '삼각관계', '내심', '격투기', '외설', '강인', '투신', '이색', '디다', '홍석천', '번의', '벗', '겜', '나니아', '어르신', '이집트', '찰리채플린', 'ㆍ', '앨런', '다지', '이마', '차카', '들어맞다', '3시', '미라', '리슨', '더티', '오시', '29', '상위', '오션스', '아부', '라이토', '최선정', '치이다', '배우진', '유일', '믹스', '특수부대', '핫세', '병들다', '무관', '참되다', '돌프', '혼합', '아청법', '1970년', '착오', '하느님', '루나', '쩔', '애쉬', '오픈', '샤크', '딘', '개떡', '커다랗다', '응징', '토크', '랫', '20%', '날수', '개무시', '오버액션', '94년', '무능력하다', '1999년', '앤더슨', '올리버', '백년', '이태임', '위엄', '랄프', '마당', '널리', '여비', '모어', '켜', '꼽으라', '비스트', '빌어먹을', '무언', '어렴풋이', '이득', '증언', '진진', '쵝', '라가', '아버', '노트북', '영화제작', '007시', '꼬꼬', '스럽지도', '취재', '아야세', '산이', '이런저런', '릴', '뒷맛', '붓다', '기해', '김동욱', '퀴즈', '바둑', '재임', '검술', '안도', '넘버원', '프레', '뿅', '박상민', '맴', '해병대', '레미제라블', '막연하다', '장교', '꿈속', '앤디', '김효진', '황정음', '다다', '설다', '전설의고향', '깔리다', '!!!!!!!!!!', '뽑히다', '메이킹', '글로리아', '.)', '날씨', '딱지', '만만하다', '배급', '이하나', '안무', '김정화', '날때', '값지다', '고든', 'ㅋㅋㅋㅋㅋㅋㅋㅋㅋㅋㅋㅋㅋㅋㅋㅋㅋ', '푼', '니콜슨', 'we', '눈길', '영향력', '화구', '샤론', '우기', '지스토리', '할로윈', '유학', '복제', '움직', '홀딱', '속물', '자만', '치자', '상술', '감격', '앞세우다', '생물', '피닉스', '국회의원', '장학우', '*^^*', '9.5', '신랄하다', '입술', '이아', '경치', 'ㅁㅈㅎ', '분야', '닮음', '공공', '소송', '끝없이', '무의식', '미덕', '세로', '!!!!!!!!!!!!!!', '찌꺼기', '불허', '몹시', '제이콥', '브리트니', '요시', '공정하다', '이보영', '금물', '공무원', '닐', '김지수', '차기', '!...', '파커', '고하', '히든싱어', '무릎', '화이자', '거꾸로', '김지운', '갈팡질팡', '본래', '여백', '둥', '여균동', '이수정', '절친', '누드', '무용', '아나운서', '팝', '어드벤쳐', '홉킨스', '상류층', '탐구', '꽥꽥', '빼먹다', '무민', '어정쩡', '천안함', '다행하다', '...\"', '잡기', '123', '아이언', '씌우다', '..(', '설날', '홍어', '꼬박꼬박', '사투', '알라', '지로', '개쩜', '굿잡', '민중', '제보', '사치', '쓸모없다', '곽경택', '리좀', '가격', '포맷', '그따위', '레이미', '검색어', '에고', '-_-;;;', '동이', '인크레더블', 'ㅑ', '수긍', '연성', '이뭐병', '알콩달콩', '조미료', '생산', '권투', '툭하면', '가난', '고리', '남자에게', '테니스', '북괴', '라만', '시초', '데스티네이션', '장통', '태권브이', '취', '기보', '홍길동', '분신사바', '알렌', '엄연하다', '유동근', '심보', '앗다', '시공간', '마키', '발표', '이벤트', '제압', '서너', '더락', '타임슬립', '기립박수', '김동완', '쿵', '안구', '신소율', '일색', '2월', '대머리', '타파', '유사라', '노홍철', '마리옹', '무신', 'time', '징기스칸', '십분', '설마설마', '후려', '악한', '대소', '가져다주다', '쇼생크탈출', '전직', '이이', '덩달아', '선보이다', '차고', '카펜터', '이명박', '고정관념', '실버', '벌이', '이시영', '독일군', '궁합', '죄인', '표지', '해체', '골든', '공백', '백진희', '이씨', '미노', '조문탁', '깨달', '조형기', '쏠리다', '토리', '정신과', '사죄', '투니버스', '리나', '예체능', '팔리다', '볼맛', '일본만화', '거려', '약해지다', '상기', '세기말', '분만', '무진장', '뮬란', '블레어', '살의', '철철', '빙자', '어쩌나', '우수', '개그콘서트', '부들부들', '부제', '..\"', '자임', '~~~!!', '옜날', '복습', 'ㅎㅎㅎㅎㅎ', '이유리', '상실하다', 'g', '결방', '분하다', '오지랖', '초창', '1995년', '93년', '해당', '아이덴티티', '쓰시', '휘두르다', '마부', '뒷모습', '난도질', '....;;;', '가상', '줄어들다', '간혹', '비위', '아티스트', '차이나다', '좆망', '사탄', '군국', '쥑', '닌', '몰이', '대원', '히로', '매장', '똥파리', '역경', '민감하다', '밨', '저따위', '스탭', '김두한', '혐', '로리', '능력자', '그간', '어나', '볼타', '동해', '시기하다', '드럼', '수출', '프렌즈', '부처', '계시', '혼돈', '무차별', '가발', '넘사벽', '랏', '쑈', '훈훈', '잘해야', '졸림', '문성근', '컴백', '교', '멘타리', '헬', '둥이', '스턴', '무식', '굴욕', '문란하다', '할리웃', '처지다', '트렌드', '독특', '보듬다', '인간관계', '기이하다', '드하', '미스터빈', '호프만', '청순하다', '하울', '발매', '남궁민', '이기주의', '강츄', '신중하다', '라디오', '야망', '인디영화', '마징', '입사', '귀여니', '시나', '작작', '의적', '현기증', 'what', '죄송', '오호', '색기', '22', '89년', '더글라스', '화법', '장엄하다', '단독', '보다가', '진과', '각본가', '짜임', '거두다', '생명체', '--;;', '눈가', '주름', '저스틴', '세운', '노부', 'bbb', '모래', '도발', '셀', '괜춘', '강박증', '금치', '!..', '뇨', '확장', '토모', '타겟', '애니스톤', '클레이', '_-', '생생', '락스', '부치다', '예언', '방대하다', '루고', '포켓몬스터', '내포', '린지', '도둑질', '쨋', '일과', '간결하다', '50%', '!!!!!!!!!!!!', '몽', '라디오스타', '정복', '찍어내다', '은주', '잡다하다', '앙상블', '뽀', '사만', '금고', '도구', '문어', '연쇄', '박하', '100만', '라나', '웨스', '딸도', '서리', '조화롭다', '상남자', '발킬머', '지수', '브', '..-', '웅', '왜냐하면', '볼륨', '의무', '한고은', '찌라시', '막막하다', '격정', '신음', '커트', '비열하다', '인양', '메가박스', '성관계', '파란만장하다', '해군', '정준하', '시련', '시대극', '갈기', '깊숙하다', '봉하', '히히히', '왜봄', '분다', '심야', '일어나고', '어짜피', '소망', '허드', '박철수', '외전', '소지', '보복', '오멘', '무례하다', '태극기', '가중', '두사부일체', '조보아', '애국가', '다름없다', '어느덧다', '렷', '연예계', '분발', '이루', '지혜', '무조', '반말', '작작하다', '베이비', '극히', '마이너', '심은경', '실로', '바람직하다', '적용', '테러범', '뎈', '멕시코', '로치', '모시다', '폭풍눈물', '은영', '음미', '복사', '모도', '정보석', '요런', '훑다', '하희라', '라울', '거인', '해답', '볼품', '거물', '조사', '민주', '독수리', '티켓', '서동요', '최다니엘', '추기경', '편승', '데미', '민세', '점줄', 'ㅛ', '끈끈', '쓸리다', '꺅', '태민', '가방', '동굴', '정면', '카스', '우에노', '?!!', '베댓', '몰락하다', '파란', '표방', '과극', '탈북자', '은하', '철수', '무렵', '종족', '넉', '폭행', '담임', '놈놈놈', '돌파', '홀', '맥클레인', '후벼파다', '무자비하다', '쌀', '밋다', '포트', '배부르다', '은혜', '멜라', '사채', '성준', '이현우', '따먹다', '김상경', '노민우', '잔잔', '민비', 'that', 'TOP', '갈증', '내리막', '점차', '아른거리다', '88년', '탄도', '송일국', '탄압', '혼신', '하비에르', '장님', '스텔론', '꼽는다', '보성', '87년', '장화홍련', '캠코더', '실사판', '만족감', '셜록홈즈', '애슐리', '쵸', '임무', '비겁하다', '김병만', '음슴다', '얼렁뚱땅', '달려들다', '심리전', '맴돌다', 'R', '백윤식', '선명하다', '레디', '캐리비안', '국민학교', '마리아', '콩콩', '10초', '결심', '청순', '뽀뽀', '도피', '프로도', '분도', '오른', '신자', '컬러', '횡설수설', '박예진', '연쇄살인', '로멘틱', '널다', '끼어들다', '후진국', '아동학대', '두기', '체감', '5.5', '능욕', '시놉시스', '구심', '기황후', '은지원', '껀데', '기울이다', '사생활', '코비', '치의', '난리치다', '논스톱', '일상생활', '백야', '도주', '말년', '편의점', '오리엔탈리즘', '넘겨보다', '4.5', '료', '>.<', '지도자', '부추기다', '랜드', '친하다', '이론', '맥과이어', '사먹다', '암흑', '김재원', '각종', '연말', '브레드', '셜록', '티아라', '무사', '코끝', '페인', '밥맛', '었', '후손', '노리', '이대', '이영애', '우애', '코스모스', '찬성', '클레', '모차르트', '장례식', '장하다', '따분함', '심취', '떳떳하다', '120', '밭', '특공대', '불량', '버겁다', '형사물', '몽골', '주입', '요리사', '금시', '차용', '산만', '조로', '치장', '조성', '나미', '저항', '소감', '허탈', 'on', '우디알렌', '하진', '몇십', '미끼', '굴곡', '진영', '사무', '보도', '매국노', '최시원', '럼', '차예련', '수행', '현저', '요한슨', '재개', '노년', '농촌', '밋밋', '내적', '역설', '영아', '꿀잼임', '로군', '핵꿀잼', '창의력', '중복', '마나', '걔', '거북이', '설치', '허황', '지니', '동성', '실현', '천장', '이청아', '아우르다', '천상', '썰전', 'ㅕ', '곸', 'xx', '노숙자', '비율', '실질', '유키', '라푼젤', '최곤데', '김인권', '시인', '붐', '리버', '하치', '기네스', '비보이', '슬랩', '용면', '셔', '~~~!', '로티', '주몽', '에플렉', '어루만지다', 'f', '르노', '퍼레이드', '동거', '출근', '해변', 'THE', '펀치', '부유하다', '측은하다', '질색', '10만', '오감', '형아', '편협', '김성수', '스시', '델피', '오늘이', '팝핀현준', '1시', '미취', '재결합', '빠져듬', '치히로', '성별', '리듬', '김지영', '버릇', '사이비', '화성', '카렐', '설교', '들키다', '부딪히다', '모텔', '곤충', '복원', '태극권', '프로포즈', '무너', '살벌하다', '샤', '권위', '브란도', '빌딩', '파고', '쩌리', '글썽', '윤', '한눈', '8천원', 'OUT', '동일', '에피', '잭블랙', '아부지', '빼앗다', '갈아', '매달리다', '송재림', '투영', '뚜껑', '급작', 'do', '햐', '겨냥', '발끝', '건만', '섭', '민아', '패틴슨', '대자연', '갈구다', '절도', '재밋엇어', '인조', '센세이션', '솔까말', '맨몸', '차량', '잘해주다', '이참', '가지가지', '약점', '쭉쭉', '동갑', '생명력', '테드', '엽', '햇살', '일그러지다', '겟', '얻어맞다', '이듬', '서늘하다', '수천', '퍽', 'was', '정규', '횟수', 'CSI', '이화영', '소나', '고준희', '스튜어트', '심슨', '스푼', '원주민', '..-_-;;', '일어서다', '베티', '6회', '어쩌자', '대적', '감탄사', '구토', '박해진', '명치', '격인', '피아니스트', '일부분', 'Cg', '스턴트맨', '마구잡이', '안대', '왕정', '코리아', '위력', '차례', '렌', 'gg', '뻘', '균', '.;', '초능력자', '데니스', '품격', '개밥', '사탕', '대여', '구별', '달려오다', 'So', '딜레마', '주도', '젬', '7월', '송', '이편', '해주시', '외로워', '에어컨', '해피앤딩', '기질', '시급하다', '이창동', '습니', '밤새다', '다이빙', '얌', '병헌', '반대편', '올라서다', '전우치', '모임', '정색', 'BEST', '해군기지', '시오', '바랬', '맹목', '트럭', '이거슨', '선장', '반한', '녹', '광대', '계절', '드라큘라', '생소하다', '맹', '뻑', '옷벗다', '안이', '화류', '고조', '분전', '넣기', '퉤퉤', 'ㅜㅡ', '왈츠', '고대로', '지모', '터키', '타오르다', '미녀삼총사', '임상수', '무참', '워킹', '도쿄', '성취', '강풀', '댕', '시적', '되찾다', '소란', '포토', '극화', '헝거게임', '행오버', '공략', '사뭇', '중단', '쒯', '비포', '삽입곡', '쉴드', '프레임', '셰익스피어', '노래방', '빌어', '물음표', '정감', '달성', '노출하다', '대체로', '로다주', '노출씬', '호호', '아앙', '사족', '마담', '고급스럽다', '탁재훈', '가르시아', '세영', '언플', '컨텐츠', '리턴즈', '내려놓다', '샤넬', '아이폰', '풍선', 'ㅅㄲ', '필드', '브라', '어후', '도시락', '어떨', '이상자', '액숀', '최성국', '맴버', '단언컨대', '신작', '이상준', '극악', '막심', '1997년', '커리어', '빽', '레아', '조이다', '은정', '트리오', '특이', '채시라', '거절', 'J', '숲속', '밀리', '갓파더', '캡', '무뇌', '횡포', 'ㅗㅗ', '이하늬', '노망', '루비', '괴짜', '충성', '번개', '루피', '평가절하', '마다가스카', '찜', '서나', '각오', '분열', '주된', '엑스', '진중하다', '사하다', '로미오', '아찔하다', '4~5', '프', '갈릴', '유주', '지긋지긋하다', '김신', '야호', '로이', ':-)', '중사', '한나', '격투씬', '무덥다', '뷰티', '소동', '할인', '조의', '핏줄', '흡혈귀', '무법자', '2시', '사주다', '리딕', '타이', '케인', '서인', '수의', '、', '발사', '어드벤처', '부들', '경찰서', '캔디', '불평', '의원', '천하다', '고의', '티브이', '고장', '한껏', '김정훈', '이랑은', '고다르', '김범', '짱짱걸', '휴일', '우어', '도자기', '자극시키다', '방안', '無', '해먹', '군요', '슈나이더', '부패', '미나', '가려진', '린데', '연결하다', '과욕', '방가', '에라도', '...................', '분노의질주', '박지성', '소림축구', '화로', '잘봣어', '집시', '코피', '안타', '막내', '뿌듯하다', '복고', '돌연변이', '윌리암스', 'FBI', '서구', '절벽', '일편', '휩쓸다', '연애시대', '이영환', '마감', '느릿느릿', '~~!!!!', '관상', '대입', '참가자', '1960년', '전인', '방도', '재산', '의자', '보태', '윤하', '감금', '봉인', '찾아다니다', '솔직', '김새론', 'km', '심혜진', '기지', '육아', '오즈', '전생', '떨치다', '경비', '샤워', '수채화', '탄식', '강인하다', '애매모호하다', '덕화', '신드롬', '런던', '타카', '달이', '조던', '잘봣습니', '화기', '답안', 'cm', '사적', '롹', '늙은이', '갈비', '여전', '팔레스타인', '개개인', '우산', '독립영화관', '이어도', '모가지', '구먼', '김유정', '컴플렉스', '한스', '아론', '배기', '현주소', '핑', '베이커', '첩혈쌍웅', '부하', '청소년기', '10월', '애처롭다', '슬링', '빗대다', '임산부', '쟈', '히데', '위노나', '연정훈', '동작', '우왕좌왕', '제기', '이성민', '양자경', '신경안', '오오오오', '박민영', '수상한', '헬드', '괴로움', '가만', '사유', '해서웨이', '위버', '뺴', '나락', '너머', '두르다', '편중', '흐미', '최루성', '씩씩하다', '2013', '강철중', '친숙하다', '임요환', '콱', '체제', '학원물', '챙', '벨소리', '더스틴', '비긴즈', '벤허', '아지', '저주받다', '행성', '아우라', '흡인', '브라보', '사촌동생', '남극', '궈', '맞춤', '일정', '중앙', '귀환', '렌스', '봣네', '트롤', '보트', '최고급', '엘리자베스', '수상작', '엘리', '아베', '선교사', '우리동네', '풍운', '아이스', '주류', '사리', '쿵후', '텅빈', '맹인', '본영', '김현중', '사로잡히다', '갑옷', '분단', '앓다', '.!!!', '두목', '애착', '말세', '입담', '비애', 'ㅊ', '감초', '브랜든', '골고루', '♪', '무상', '날뛰다', '원수', '....................', '눈동자', '이광수', '개입', '밀러', '워낭소리', '나부랭이', 'life', '정심', '아홉', '공평하다', 'This', '소신', '대로의', '♡♡♡♡', '압니', '예기', '돈벌이', '갖은', 'r', '헬렌', '석양', '유괴', '필자', '우치', '들여다보다', '연달', '미술관', '이재은', '영원', '주룩주룩', '어그', '부당하다', '취업', '까발리다', '메르스', '산악', '파렐', '현지', '당근', '엇을', '영화상', '모에', '범죄물', '의료', '소수자', '지우', '방치', '에이즈', '오로라공주', '맛깔', '최우식', '오전', '텅', '넬', '게이트', '리즈중', '오케스트라', '대견하다', '패션왕', 'NG', '냉철하다', '야심', '스리', '고소하다', '연재', '고흐', '배치', '이중성', '중경삼림', '27', '리틀', '캠', '로건', '메리다', '비범하다', '부시다', '위장', '오달수', '만끽', '소문나다', '상담', '로지', '른', '근원', '랬', '비도', '복제인간', '정직하다', '아마존', '판매', '조정석', '려원', '수퍼맨', '최면', '박지윤', '차안', '고창석', '16년', '!!!!!!!!!!!!!', '는데', '캠프', '버디', '중립', '욥', '타의', '둘러싸다', '이건정', '내년', '삭막하다', '전태일', '돈좀', '디도', '오마주', '소드', '세얼간이', '마주치다', '못난이', '구름', '으뜸', '소의', '여하튼', '영화롭다', '상대방', '라붐', '피나', '블럭버스터', '임원희', '리안', '회한', '오산', '1~3', '저조하다', '열매', '첨가', '교실', '??????', '화려', '제프', '으로라도', '안치', '나왓으', '컬트영화', '선악', '오징어', '깁슨', '박기웅', '으로서는', '머레이', '간호사', '10시', '이수경', '롤', '선언', '비서', '84년', '나리', '라이어', '수목', 'imdb', '래미', '드루', '별도', '숨기', '김씨', '송희진', '간지럽다', '장보리', '메우다', '가죽', '발단', '수선', '미쉘', '표면', '착', '헤드', '글래디에이터', '짱개', '고은아', '상하', '자서전', '특촬물', '신체', '광수', '비상', '야경', '역행', '수염', '여분', '유니크', '30%', '로리타', '노랑', '돌보다', '법적', '불체', '기인', '인주', '안내상', '넘어오다', '양쪽', '버프', '얔', '가만있다', '점령', '웠', '개차반', '엑소시즘', '아대', '괴물영화', '눈꼽', '댕기', '우스', '데인', '수두', '호들갑', '>.', '얼간이', '팝송', '친자', '엘리트', '인제', '이오', '신물', '졷', '떡칠', '노노', '아이큐', '동남아', '소속', '불사조', '화병', '정자', '간수', '독자', '스톰', '휴지통', '왕가네', '이중인격', '나사', 'What', '퉷', '사냥꾼', '끝임', '순전하다', '올슨', '가출', '크림슨', '스탭들', '의욕', '올림픽', '쿠퍼', '소속사', '함량', '밀고', '열쇠', '김꽃비', '불사신', '오지호', '밥그릇', '고간', '징징거리다', '김갑수', '룸메이트', '외침', '기함', '방구', '노처녀', '게이물', '배창호', '화학', '열등감', '잦다', '쪼개다', '관통', '목욕', '니스', 'one', '마왕', '야마다', '버러지', '바퀴벌레', '골든타임', '누리', '왼쪽', '도우', '인대', '오스카', '탈세', '구상', '그러므로', '김영철', '잘추다', '3.14', '손자', '접속', '출산', '애증', '쯔쯔', '입증', '휴그랜트', '럭', '거림', '주유소', '바르뎀', '휴식', '퍼시픽림', '캐나다', '씽', '뿜', '흥얼거리다', '미치광이', '넓히다', '죽도', '지미', '감수', '서든', '버킷리스트', '올린다', '랴', '아보', '베송', '스완', '왜색', '자락', '배용준', '합성', '개멋', '세도', '맨오브스틸', '로빈윌리엄스', '재밋습니', '견', '대루', '추격씬', '무성의', '홍성', '흙', '가세', '호빗', '살찌다', '마우스', '리다', '금전', '과장하다', '암담하다', '당혹스럽다', '』', '정치가', '자리다', '훗', '쌩', '소시민', 'know', '트랩', '고요하다', '눈썹', '규모', '손현주', '차도', '턴', '심의', '명과', '결핍', '하염없이', '깡통', '무쟈', '클린', '점프', '술집', '들것', '허접스럽다', '결단', '각시탈', '빠리', '김일성', '제타', '습관', '다다르다', '컴', '리리', '매너', '!.', '우결', '모션', '블랙홀', '마자', '찾아내다', '역습', '끈기', '지오', '언덕', '이다해', '구시대', '정도껏해', '시야', '애뜻', '승희', '동반', '빠뜨리다', '정윤희', '백성현', '음울하다', '유연석', '하기는', '원츄', '예스', '플래툰', '해명', '차로', '발버둥치다', '일종', '재밋구', '박준형', '타협', '잠듬', '숨소리', '클리', '기껏', '프로필', '류현경', 'LA', '무스', '배신자', '태권', '카메론디아즈', '홍수현', '배타', '박근혜', '조엘', '더구나', '엄지', '500', '김원효', '어가', '.-', '변경', '토대', '70분', '개망', '몰두하다', '기수', '상세', '손해', '김소은', '쪽지', '다중인격', '반란', '아려', '재목', '우연이', '모욕감', '레슬링', '브랜드', '개신교', '바이', '주소', '엔딩씬', '고립', '마린', '수트', '인과', '정선희', '번지르르하다', '먹듯', '러쉬', '장대', '틀림', '인원', '단절', '구가', '계승', '근성', '알라딘', '본드걸', '다망', '3회', '박선영', '화표', '자의식', '교복', '강연', '치정', '라이벌', '도끼', '센터', '쇼핑', '축소', '정겨운', '유사', '환호', '꽂다', '늑대소년', '드레스', '에코', '즐감', '손길', '조온나', '강박', '아따맘마', '나이틀리', '양익준', '....^^', '덤앤더머', '박영규', '지훈', '고대', '도착', '라이온킹', '조미', '골다', '종료', '유독', '따라다니다', 'ㅠㅡㅠ', '솟다', '타락', '라그', '오연서', '도심', '딸내미', '음침하다', '레나', '이요', '만발', '김소현', '처키', '동행', '으이', '듯해', 'ㅋㅋㅋㅋㅋㅋㅋㅋㅋㅋㅋㅋㅋㅋㅋㅋㅋㅋ', '이두', '연개소문', '저리다', '도구로', '구출', '용의자', '아악', '이주승', '허리', '학도', '인육', '봉만대', '미개', '감칠맛', 'VS', '쨔응', '천만다행', '아이엠샘', '유전', '팽이', '제자리', '발언', '지점', '또래', '맘껏', '편파', '로스', 'go', '4.3', 'ㅇㅇㅇㅇ', '창고', '회도', '축제', '산트', '대조', '한지혜', '엎', '방문', '과학자', '기와', '해방', '잘껄', '들려오다', '버틀러', '전날', '부리고', '계몽', '설사', '헛점', '공산주의', '직시', '코스', '매춘부', '얼척', '징징', '취소', '하늘나라', '계보', '울트라', '국물', '.,,', '미켈슨', '껌', '불협화음', '찰나', '한가득', '서막', '니지', '꽃님', '비아', '진미', '아낌없이', '부서지다', '고가', '엠버', '머랄', '부러지다', '개구', '수신료', '행세', '일등', '일말', 'My', '로망스', '적히다', '카터', '색안경', '홀리', '겉도', '롤러코스터', '매진', 'world', '500원', '지민', '언더월드', '국경', '꼬띠', '벙어리', '구한', '무인', 'KTX', '박은혜', '전쟁씬', '4천원', '~^', '은교', '배출', '로보트', '한국사', '소모', '몸소', '마음껏', '원장', '방송사', '안톤', '문장', '업자', '비장하다', '수만', '다지다', '이거지', '투혼', '고모', '마사미', '서럽다', '빡', '꼼꼼하다', '영국영화', '로스트', '투캅스', '주더', '이용철', '프랑스인', '밨는데', '순풍', '하므다', '재밋엇다', '11시', '****)', '일어', '아나킨', '\\\\', '간디', '무지개', '나문희', '포세이돈', '깽', '여장', '실물', '급박하다', '>_', '여름방학', '찮아다', '주르륵', '막바지', 'ㅋㅋㅋㅋㅋㅋㅋㅋㅋㅋㅋㅋㅋㅋㅋㅋㅋㅋㅋ', '조윤희', '이순재', '바티칸', '더듬다', '일보', '득', '충전', '세인', '만회', '무전', '슈퍼주니어', '존멋', '네트', '악플달다', '미신', '벅차오르다', '::', '날아오다', '이장우', '호세', '왓츠', '고교', '답변', '난해', '쇼생', '스킬', '자장가', '다이스', ',,,,,,', '정해', '무었', 'cf', '사발', '출중하다', '대런', '제타존스', '촌티', '거란', '참상', '매직', '이지현', '면적', '감방', '에프', '대식', '매니저', '이자스민', '원더풀', '깝깝', '스탠리', '어리숙하다', '넷', '바다로', '28일', '워리어', '소주', '기무라', '죤나', '느꼇다', 'IMDB', '홍은희', '김재중', '군생활', '4일', '장서희', '계륜미', '게시판', '사시', '7.8', '의젖', '허드슨', '부조화', '..???', '샬롯', '들뜨다', '??..', '식인', '쿄코', '재일교포', '현혹', '아사', '붙여넣기', '울트라맨', '이민자', '수첩', '네러티브', '한혜진', '윈', '아이콘', '뭐길', '안일하다', '숨죽', '1000만', '애하', '블로그', '하비', '전라', '당초', '억양', '자지', '시온', '최상급', '.,..', '서편제', 'day', '질서', '내뱉다', '상임', '(+', '후우', '화남', '뉘', '빗나가다', '뿜었다', '전현무', '4시간', '멸망하다', '온라인', '연작', '적지', '국영', '없슴', '평보', '광태', '점안', '일케', '오도', '뻣뻣하다', '리플리', '치즈', '거래', '휘성', '손은서', '불급', '이데올로기', '다이아몬드', '닝', '참가', '홍수', '너리', '그남자', \"'.\", '제품', '똥개', '크리스천', '추측', '불의', '대를', '조마조마하다', '필연', '계약', '메가폰', '코멘트', '인과관계', '웩', '재밋었음', '미니시리즈', '이랬는데', '냉무', '엄지원', '명함', '썩을', '시세', '체리', 'CD', '퉁', '아랍', '노르웨이', '선조', '임펙트', '보완', '복수초', '쩍', '반함', '역전', '수로', '뻘짓', '두산', '반올림', '엘프', '사단', '안면', '수치심', '밥상', '허상', '노조미', '고구마', '개취', '후퇴', '제이크', '시크릿', '자시', '르네젤위거', '답시고', '쿵푸허슬', '故', '우연찮', '열악하다', '확률', '거늘', '오케이', '관계도', '차오르다', '뚱땡이', '악하다', '에까지', '가해', '모하', '이덕화', '10억', '튀어', '82년', '통통', '킥', '각도', '연도', '아멘', '에스', '이재용', '정해진', '윤찬', '포심', '고이', '다듬어지다', '허공', '근처', '배드씬', '철권', '사형수', '2.2', '랑께', '방향성', '작일', '화합', '.....................', '선진국', '자네', '30초', '유세윤', '린즈링', '무분별', '해전', '골로', '스마트', '하고만', '건방지다', '비견', '가까워지다', '따갑다', '나이스', '퇴마록', '에구', '7시', '하급', '연제욱', '에두', '추리물', '티남', '순서', '머금', '35분', '김태우', '종교인', '80~90년', '볼빠', '집기', '구사', '오분', '하의', '하드코어', '열광', '공항', '게머', '딴사람', '빈자리', '박정민', '잠재', '가의', '#', '트렁크', '요점', '우리엄마', '코빅', '미자', '욜라', 'like', '준놈', '8~9', '100회', '달콤', '내다보다', '음향효과', '말좀', '33', '워터', '뚱뚱하다', '생기지', '안심', '쩌네', '~*', '힐러', '신경질', '전략', '웃음소리', '프라', '재밋내', '솔솔', '색즉시공', 'great', '악랄하다', '1월', '성실하다', '연우진', '일지매', '장땡', '펑크', '잡혀가다', '제거', '민정', '삐뚤어지다', '선라이즈', '쉬리', '떠다니다', '목격', '댄싱', '히트치다', '간장', '구태의연하다', '해골', '꿀잠', '퇴화', '유루유리', '명목', '관용', '♥♥♥♥♥', '!!~~', '고향이', '예견', '떠나가다', '...,', '폭팔', '부도', '패러디영화', '초강추', '날짜', '손바닥', '연희', '열망', 'cctv', '골빈', '이명세', '우릴', '도보', '무신론자', '누적', '이효리', '보험', '일본드라마', '땡큐', '미란다', 'can', '유식', '지식인', '설원', '연연하다', '천조국', '치졸하다', '사살', '왓으', '고역', '『', '손목', '아키', '달튼', '전광렬', 'Tv', '램버트', '풀풀', '천명', '드뎌', '부잣집', '절박', '딥블루씨', '정전', '유물', '그늘', '로맨틱영화', '전역', '닐슨', '일본사람', '씨부리다', '진주만', '경기도', '1/3', '느그', '물든', '상호', '애물', '소나기', '퇴색', '우아', '객', '개정', '입문', '격하', '진지희', '온주완', '똥칠', ',....', '이레', '어눌하다', '살라', '로또', '후광', '건너다', '여타', '근친상간', '헤어스타일', '척도', '좌충우돌', '튼튼하다', '이래저래', '~~~!!!', '송은채', '카밀라', '간과', '김민선', '시로', 'ㄲ', '키도', '알몸', '큐브릭', '베트남전', '박재정', '유희왕', '칼부림', '판정', '만으론', '개폼', '목록', '갈리', '백제', '고귀하다', '``', '신사', '한경직', '미미하다', '전병', '피라미드', '서투르다', '부질없다', '난왜', '은별', '전효성', '헐', '(-', '코치', '깜빡', '당분간', '이기만', '와일드', '왜인', '팬더', '러너', '이종혁', '장가휘', '원판', '김해숙', '정지', '베르세르크', '승승장구', '장구', 'out', '후세', '우좀', '이지훈', '크루', '불호', '애매', '군상', '전도', 'ㅠㅠㅜ', '낙원', '가려지다', '찰', 'ㅋㅋㅋㅋㅋㅋㅋㅋㅋㅋㅋㅋㅋㅋㅋㅋㅋㅋㅋㅋㅋ', '종자', '청불', '개선', '착신아리', '추잡', 'with', '방학', '신기전', '별루임', '죄수', '멀어지다', '뒤틀리다', '뿜어내다', '잠재우다', '침공', '코네', '달리기', '불쾌감', '비만', '총잡이', '지시', '잔인성', '강간범', '오현민', '소오강호', '쩌는데', '이라크', '생방', '~^^*', '장도', '！', '안봣', '처형', '맹탕', '79년', '몰살', '해부', '냉장고', '4분', '발라', '콜라', '사가다', '프라임', 'ktx', '음란', '생사', '계층', '위태', '가드', '영화장르', '다이나믹', '염병', '크레이지', '돌변', '밋엇', '착취', '약물', '홍수아', '주드', '재밋게봣는데', '브로', '투명인간', '프로파간다', '소희', '베스타', '묵묵하다', '헐겁다', '피자', '일본군', '푸른거탑', '레젼드', '개똥이', '악순환', '백조', '멍멍', '사토미', '드라이브', '공동', '스칼렛요한슨', '포도', '스타크래프트', '백발', '안재모', '에르', '학과', '좌익', '게속', '룬드', '안전벨트', '비고', '외부', '여겨지다', '!!!^^', '과유', '풍요', '3~4', '아이거', '가정부', '조만간', '주마', '북극', '쾅', '니드', '사키', '뿌', '보정', '우유', '알반', '물량', '질렌할', '막걸리', '여리다', '티벳', '히로스에', '첩', 'Love', '후려치다', '뮤지션', '현수', '실사영화', '핵폭탄', '리키', '과격하다', '조폭마누라', '정지훈', '배우자', '맞짱', '승천', '연출가', '팔고', '필리핀', '오라', '섬기다', '킨', '기생', \"~'\", '70%', '덱스터', '어진', '아름', '어릴떄', '순박하다', '부작용', '확보', '게재', '꽃뱀', '슈트', '주무시다', '장관', 'zzz', '잡음', '졸지', '범람', '섭섭하다', '반짝', '욕정', '혈', '판다', '디아', '원망하다', '열폭', '만큼만', '네네', '유통', '파이란', '비디오테잎', '에볼루션', '부패하다', '첫째', '눈망울', '델', '댁', '자취', '버무린', '러브액츄얼리', '리드', '영자', '꼭두각시', '쪼', '대게', '아낌없다', '베스트셀러', '소시오패스', '동포', '데모', '합창', '제때', 'UFO', '월터', '구스', '백성', '양은', '처녀', '임금', '쥬드', '빛과', '뒷북', '폭도', '머시', '박쥐', '여행가', '피비', '타르', '윌슨', '주일', '바니', '껄렁하다', '조율', '왕년', '건네다', '핑크', '문학관', '스타트렉', '잡담', '멀더', '저하', '자폭', '썰렁', '감시', '테스', '피티', '이태리', '아이엠', '화끈', '조그만', '퀄러티', '스멜', '테두리', '1.5', '부녀', '콜린스', '무력하다', '점때', '쥐뿔', '라오스', '브레이크', '환각', 'MB', '슈퍼히어로', '밀폐', '썻', '이방인', '광장', '울화통', '호수', '들먹이다', 'snl', '다작', '조성하', '유효하다', '번영', '김영애', '가닥', '시저', '자서', '??!!', '한지훈', '일제시대', '무공', '난건', '아이맥스', '자잘하다', '특별출연', '이제일', '측', '분간', '거볼', '난쟁이', '아귀', '악덕', '3만', '끈질기다', '...???', '도어', '터치', '5회', '도망자', '크리스탈', '적벽대전', '34', '판권', '백수', '지불', '1:1', ',,.', '자로', '황신혜', '띄엄띄엄', '가혹하다', '가량', '독고', '얼핏', '야만', '표기', '세미', '찍지마라', '기태', '본전', '복지', '일침', '효율', '가늠', '강림', '칸타빌레', '진행형', '숨바꼭질', '올리버스톤', '매즈', '뻔햇', '물르다', '신애', '어바웃타임', '메이퀸', '존엄', '벡터맨', '익살스럽다', '하향', '고풍', '몽롱', '소이현', '제트', '사이드', '프로스트', '비비', '달기', '에미', '구두', '단서', '생쇼', '프랑스어', '숭배', '평면', '번쩍', '바랬다', '처분', '송이', '급격하다', '영화포스터', '다모', '헿', '전원', '증발', '도용', '...-', 'ㄱㄱㄱ', '5일', '고달프다', '수백향', '유다', '지스', '읽히다', '조상', '쟈니', '맞이', '박민우', '브이', '다이애나', '베끼기', 'see', 'h', '차서', '남북', '톰슨', '도제', '느릿하다', '정겹다', '당사자', '좌석', '구제', '덤벼', '성나다', '줄줄이', '스트', '열중', '2~3', '증인', '퇴물', '쉴드치다', '배종옥', '한주', '카야', '겁내', '제약', '형용', '드라마스페셜', '마츠코', '미쟝센', '모시', '거룩하다', '왕빛나', '전기톱', '육감', '파장', '살펴보다', '격감', '왼', '장악', '코트', '비키니', '카톡', '난뒤', '주드로', '유유', '견줄만', '응사', '애니메', '지끈', '리하', '허지웅', '낌', '읭', '제안', '공통점', '**', ';;;;;;;', '~!^^', '대담하다', '익스트림', '회전', '실어', '무감각', '환하다', '검증', '고소', '정신차려라', '성숙', '야기', '격렬하다', '브라운관', '로페즈', '광신도', '태상', '!!!!!!!!!!!!!!!!!!!', '요인', '비평가', '점퍼', '데이비스', '킬러조', '결재', '만찬', '정신연령', '.~~', '까비', '!~~', '실전', '가레스', '골드버그', '이자나', '임마', '성범죄', '쪽박', '4월', '진입', '오오오', '낙하산', '타지', '깡', '스파르타쿠스', '공사', '예민하다', '강물', '파국', 'trash', '가트', '게으르다', '존시나', 'OTL', '싱그럽다', '닉쿤', '이지마', '개개', '폴리스', '26', '선의', '비감', '통렬', '0%', '느닷없다', '민망', '수리', 'all', '퓨리', '총각', '일전', '미처', '상일', '김정태', '잠입', '유심', 'Oh', '무릎팍', '구인', '다스베이더', '격추', '슨상님', '희생양', '아영', '참사', '다짜고짜', '이하고', '나단', '소유자', '자괴', '욯', '페미', '고니', '행각', '퀼리티', '화비', '뻗다', '추적자', '자금', '.,.,', '그루', '그루지', '태풍', '도희', '훈', 'vod', '부릉부릉', '코디', '호쾌', '사망유희', '친해지다', '소고기', '어우동', '로멘', '베이컨', '분신', '칠레', '헤치다', '망인', '령', '태평양', '겸손하다', '......................', '손톱', '이천희', '봣더', '수수하다', '하룻밤', '박희순', '신의한수', '일수록', '왕창', '보심', '비키', '어미', '오바이트', '60분', '비정하다', '>>', '케네디', '기획사', '토로', '시력', '잠자리', '잼잼', '전투력', '진짜루', '서론', '평행이론', '개지', '간츠', '불치', '파이트', '대항', '상감', '솟구치다', '샤이닝', '단비', '욱일승천기', '영문', '구야', 'ET', '이산', '정일우', '장끌', '사명', '탈주', '파이어', '도장', '기둥', '루저', '오락가락', '독재자', '콧수염', '숟가락', '중국무협', '미나토', '여대생', '조우', '박서준', '뷰티풀', '첸', '3월', '가증', '명탐정코난', '나쁜사람', '빙', '마이클잭슨', '사무실', '천황', 'perfect', '비디오영화', '도적', '하내', '겨털', '구세주', '북미', '포레스트', '돕기', '김유미', '피스', '허비', '지면', '뛰어내리다', '나이트메어', '선도', '마귀', '관객모독', '학교폭력', '항우', '협상', '호빵맨', '광희', '본보기', '호크', '저장', '이따금', '맥아더', '이송희일', '지리멸렬하다', '엘리샤', '대성', '한자리', '고스톱', '패널', '블런트', '난정', '아웅', '댜', '럭키', '인심', '울고불고', '감고', '단조', '집합소', '베닝', '잡아내다', '밀도', 'ㄲㅈ', '글씨', '중세시대', '말초신경', '확대', '내레이션', '예진', '마틸다', '진흙', '갸', '탈피', '재연배우', '꿇다', '랍', '수요일', '왕건', '고유', '마음씨', '품질', '폭망', '중력', 'really', '마흔', '덧글', '월광보합', '방한', '오르가즘', '병풍', '뒈지다', '에헴', '챔프', '머겅다', '장미인애', '통과', '구타', '악질', '범위', '단언', '전복', '개체', '구체', '수영장', '지체', '도그빌', '랭보', '꾹꾹', '만일', '진득', '침착하다', '머신', '안이하다', 'ㅉㅉㅉㅉ', '엠', '관계없이', '파이트클럽', '라스베가스', '안재욱', '수동', '자수', '찐빵', '하워드', '탈옥', '롯', '미카', '가입', '김정일', '패전', '8.0', '랍니', '마트', '김석훈', '무턱', '우유부단하다', '패트레이버', '엇습', '소리치다', '혼혈', '헛된', '어린이날', '질풍', '나물', '흠집', '쭈쭈', '99%', '시드', '전신', '오른쪽', '모래시계', '국정원', '배트', '---', '창정', '실리다', '식객', '로비', '허수아비', '?;', '한예리', '랭킹', '사토', '전무하다', '진찌', '대보다', '동전', '투철', '알렉산더', '선고', '비리다', '금영', '전남편', '트릴로지', '두껍다', '멘토', '줄평', '덕이', '조센징', '윤제균', 'forever', '차이점', '초원', '고상하다', '윤여정', '엇으', '구마', '라든가', '우파', '다리다', '캐스퍼', '화두', '꿈틀', '멋쟁이', '티아', '박철민', '수확', '오맹달', '뎌', '히로인', '이수혁', '에스티', '복합', '성추행', '중화사상', '중이병', '비밥', '팝스타', '피리', 'SNS', '김지훈', '들러리', '스나이퍼', '배짱', '위반', '오디오', '가선', '근사하다', '젠토', '된', '루미', '폭풍우', '기점', '무지막지', '십자가', '불상', '판결', '셀마', '룸', '껄껄', '윤두준', '되돌아가다', 'ps', '뷰', '버들', '뭍', '감자', '재밋당', '난민', '마스', '빠들', 'ㅎㄷㄷㄷ', '대갈', '일본침몰', '닥터후', '넘흐', '훨배', ',.,', '그랜트', 'IPTV', '천군', '필모', '집밥', '나야', '깜깜', '26년', 'One', '지하실', '줏대', '가루', '덴', '아나콘다', '악수', '120분', '화산', '1992년', '호퍼', '콘택트', '...-_-;', '알아내다', '작용', '보디가드', '관도', 'Top', '애국자', '부끄러움', '수나', '-;;', '내전', '캐롤', '우피', '말씀드리다', '연기면', '보이스', '보컬', '지평', '어쩌란', '딧', '악기', '선지', '맨발', '이건모', '얍', '택연', '홈즈', '모기', '극명하다', '휘날리다', '밋었', '설국열차', '쓰레긴데', '모이', 'SNL', '군단', '고삐', '니코', '만듭시', '고시', '지창욱', '몰상식하다', '원조교제', '부문', '일체', '두드리다', '누명', '선덕여왕', '트리플', '퇴장', '개드립', '다정하다', ')(', '중하', '딴다', '이준익', '성당', '가인', '합당', '쫄', \"''\", '케리', '모양새', '엔진', '고단', '지난주', '동상', '후자', '지휘', '주근깨', '리모컨', '스카', '영화매니아', '시티헌터', '왈칵', '죵', '크레이븐', '시너지', '깜', '숱', '뛰어가다', '블럭', '립', '푸근하다', '피셔', '100원', '레베카', '정선경', '파업', '다라', '텍사스', '엠마왓슨', '테오', '저수지', '뻥튀기', '버렷', '과시', '지갑', '할머님', '뜬구름', '군사', '이슬', '산부인과', '선호', '볼트', '옥택연', '은색', '첨밀밀', '딴판', '좔좔', '일어난다', '물속', '코미디언', '제데로', '마일', '용어', '장물', '진짜사나이', '시종', '아이스크림', '35', '사스', '옥상', '규어', '스크린쿼터', '아메리칸파이', '불쌍타', '금기', '이주', '낚이', '차만', '난사', '브라운', '스모', '참전', '스폰', '죄값', '더록', '폐가', '미셀', '바론', '훼', '고요한', '도일', '발란스', '그래비티', '불안감', '자단', 'wow', '닌자거북이', '김용', '습하다', '명중', '아슬아슬하다', 'bomb', '10일', '느긋하다', '한여운', '메멘토', '리포트', '영채', '시각장애인', '오닐', '블란쳇', '실태', '사정봉', '술해', '중국사람', '둘러보다', '서영이', '시집', '천배', '풋볼', '나요', '별명', '이상아', '리브스', '사회주의', '러블리', '톰과제리', '기구', '전문성', '정도전', '맘속', 'UCC', '멋진날', '일기장', '이역', '장모님', '쪼가리', '놀이터', '손대다', '순애보', '낚였음', '발작', '자각', '거고', '끌어내리다', '예비군', '마음대로', '요즈음', '허용', '대응', '박재범', '스폰서', '자라나다', '간통', '하와이', '의혹', '청각', '합채', '사이다', '문법', '맨홀', '보다만', '서린', '어번', '카톨릭', '거만하다', '병기', '미약', '보관', '파가니니', '김영호', '합법', '미아', '허당', 'ㅏㅇ', '스파이크', '찬가', '소용', '그겨울', '육성', '식민지', '토막', '간판', '헐리우드영화', '티격태격', '겸비', '주부', '과대망상', '재탄생', '일일이', '비웃음', '배리', '공이', '두근', '이티', '트로트', '이영', '윤성호', '이토준지', '서두', '변호인', '듯함', '익숙', '괘씸하다', '효도', '졸이다', '3500원', '유인나', '할껄', '글케', '해진', '소명', '집도', '따귀', '마술사', '해리스', '로구나', '헨젤', '해프닝', '명탐정', '컨트롤', '작곡', '^^!', '개간', '링크', '이간', 'thumbs', '전주', '왜그러지', '중생', '이사', '삼십분', '정조', '한다해', '주식회사', '롤모델', '서지', '귀염', '투사', '조종사', '종결자', '도약', '!(', '체스', '왜냐면', '핀란드', '프랑', '후리다', '전시', '숭숭', '인구', '헵번', '드리프트', '덧붙이다', '피에르', '승호', '하위', '연가시', '실비', '하소', '인재', '펑점', '유기견', '거론', '전함', '게살', '무성', '김흥수', '딸년', '도성', '백치', '추종', '레슬리', '섭렵', '선샤인', '부어', '복판', '8회', '뛰어들다', '12월', '정당성', '장병', '주랑', '권유', '9.11', '수식', '메일', '라이프', '첨단', '150', '자평', '하물며', '실시간', 'ANG', '빅맨', '칭송', '구숙정', '미혼모', '벅스라이프', '푸르다', '정두홍', '정신분열증', '유민', '포레스트검프', '연합', '험담', '번봄', '셔터', '1996년', '돌대가리', '카사노바', '펠트', '러블', '희미하다', '달랑', '연약하다', '성범죄자', '피조', '츤데레', '팜므파탈', '방귀', '망햇', '양다리', '채팅', '공권력', '남일', '글렌', '무림', '5위안', '쏠때', '사회생활', '밀양', '치욕', '률', '여우주연상', '공범', '가업', '최정윤', '바란', '성괴', '사이보그', '게이고', '몽정기', 'ㅠㅠㅠㅠㅠㅠㅠㅠ', '표시', '맨인블랙', '요요', '민들레', '이병훈', '고어영화', '실재', '귀족', '빈센트', '조선인', '요하', '매수', '텔', '부숴', '황폐', '히키코모리', '우승자', '유모', '초토화', '말함', 'dd', '나가요', '이동', '관록', '매춘', '소제', '바닷가', '뇌구조', '정웅인', '낭자', '성하', '마미', '편임', '오피스', '뻣', '이스', '칼질', '애플렉', '통화', '파랑', '아스', '로필', '~~~~~~~~~', '테레사', '8000원', '볼순', '변종', '전우', '철학자', '것좀', '폭격', '盧', '안드', '해양', '고지라', '치네다', '빗', '시놉', '히나타', '씨쥐', '릿카', '줄곧', '호타루', '검찰', '기타등등', '노래실력', '부자연', '재발', '김남주', '코믹스', '헤라클레스', '대접', '리조', '머싯', '유리창', '정신분열', '유두', '복도', '이애', '질의', '에이스', '발자국', '사담', '들통', '코인', '랄랄라', '산책', '연쇄살인범', '임밸류', '미적', '180', '존박', '아이즈', '클로즈', '....(', '한신', '대물', '미혼', 'god', '역사관', '문도', '자손', 'just', '계산', '줄타기', '반정부', '전부터', '앵앵거리다', '준애', '도마', '규칙', '신성록', '뺑소니', 'made', '가창력', '뉴하트', '몰카', '러시안', '더욱이', '허위', '발굴', '헤더', '부상', '희노애락', '못만듬', '불안정하다', '스펀지', '매도', '진세연', '최진혁', '대재앙', '기광', '서요', '가구', '봉작', '아버님', '곁들이다', '진격', '포효', 'xxx', '애드리언', '목걸이', '윤상현', '마리오', '농', '현자', '조자룡', '레이저', '초이스', '투더', '김희애', '전제', '어머님', '난잡', '조제', '로드리게스', '청초하다', '응답', '퓨티드', '탁구', '검열', '묵', '조세호', '상반', '틸', '흐릿', '위함', '<<', '지급', '주먹질', '오웬', '95분', '우매', '반찬', '휘파람', '네일', '숫', '씬시티', '수목드라마', '찢기다', '샵', '읎', '가라앉다', '어벤저스', '100억', '고구려', '업체', '테레비', '당선', '호응', '하리수', '여중생', '김예림', '여고', '최신영', '자기만족', '랄라', '고잉홈', '전수', '낰', '탁탁', '2000', '하등', '로완', '발산', '부다페스트', '싱', '뤽베송', '처단', '희롱', '탁하다', '충고', '이홍기', '뜰', '무협지', '임파', '흐믓', '이적', '쿠삭', '울프', '식탁', '범수', '염소', '수익', '허리우드', '테츠', '으앙', '줌마', '박건형', '레빗', '본업', '개독교', '이상윤', '어딘', '심경', '심란하다', '이함', '페어리테일', '통증', '괴리', '이순신장군', '로케이션', '익히다', 'ㅍ', '대풍수', '일곱', '캐빈', '케스팅', '웹하드', '처제', '청담동', '설령', '파일럿', '뒤에', 'better', '국비', '맛집', 'ucc', '비토', '문정희', '한단', '더미', '직행', '번호', '리즈위더스푼', '틴토', '지뢰', 'Not', '세아', '솜', '번더', '마가렛', '미진', '백원', '부라', '마네킹', '벼', '골목', '도식', 'too', '시카고', '반려견', '멱살', '슈타게', '궁굼하', '카라', '임은경', '사물', '인력', 'GTA', '족하', '일제강점기', '쫄딱', '밍숭맹숭', '현영', '조종', '만만', '동방신기', '귀여웡', '상가', '종범', '상우', '관중', '월등하다', '웰컴', '스피디', '퓨', '에필로그', '못내', '가족사', '임순례', '간간이', '매너리즘', '봉사', '네버', '고스트라이더', '동심파괴', '위조', '깨물다', '고마움', '맥아담스', '마이애미', '수려', '케이크', '염치', '신청', '꼴랑', '기꺼이', '리자', '위더', '놓이다', '초난강', '얼빵', '장선', '읎드다', '왓음', '꼭꼭', '날뻔', '슥', '일라이', '라임', '이기광', '화피', '마코토', '재밋게봄', '토의', '스와핑', '재우다', '평등하다', '1977년', '크로노스', '패러다임', '가엾다', '페킨파', '씌', '핵폐기물', '버젓이', '맹물', '부적', '스킨', '무교', '강변', '더씽', '거니', '여울', '선비', '오스틴', '구가의서', '강마', '주심', '지지다', '멘마', '숙명', '래빗', '안되겠니', '밍', '뭉', '두준', '더없이', '먹어주다', '진실성', '개살구', '회원', '토마토', '멸종', 'Q', '사격', '잠기', '일개', '브룩', '엑기스', '빠져나가다', '창피해', '콘', '지존파', '촬영장', '로맨스코미디', '해몽', '해고', '최고점', '소스코드', '시구', '회피', '다재', '!!..', '삼만리', '초상', '가톨릭', '레이져', '용납', '크리스챤', '이분법', '그니까', '구축', '대위', '여호와', '기상', '무라카미', '데넘', '동명', '굴복', '안햇', '해병', '단발머리', '젓', '괄호', '알란', '그램', '비키다', '그레고리', '주차', '마네', '코코', '67년', '존엄성', '배경인', '삶속', '껏음', '드림하이', '기억상실증', '그해', '네오', '더라도', '굴레', '의사소통', '선셋', '로프', '가물', '발리다', '집념', '인신매매', '얼짱', '그림판', '사부', '은커녕', '강윤', '철도', '목요일', '박성웅', '환생', '??...', '씨엔블루', '6월', '정혜', 'Two', '총격씬', '은수', '히로시', '뻐꾸기', '벤자민', '빔', '정해지다', '종로', '청승', '볼떄', '분리수거', '수상', '일당', '테디', '김상중', 'ㅇㅏ', '힘쓰다', '배포', '펙', '쿠키', '완치', '말레나', '이기우', '관전', '염두', '난데없다', '재밋었는데', '~??', '주다해', '러시아워', '알아채다', '32년', 'ㅂㄷㅂㄷ', '오현경', '혜택', '일본엔', '무뇌충', '강하', '관음증', '!!(', 'part', '화양연화', '성매매', '특수분장', '이기전', '유다인', '으이구', '날라리', '얀', '섹슈얼', '말코', '지침', '주륵주륵', '조여', '박차다', '~,', '초래', '가젤', '활짝', '안중', '호의', '?~', '저력', '모던', '모짜르트', '이해관계', '고재', '안야', '어쩜이리', '톡', '인생관', '선곡', '클라이맥스', '슬램덩크', '찌그러지다', '흰색', '유라', '스크린쿼터제', '타츠야', '수화', '완득이', '민경', '마샬', '짱꼴라', '반장', '도마뱀', '징글징글', '마고', '단발', '전미선', '채식', '장고', '신문', '램', '렉터', '캬악', '끌어당기다', '꿋꿋하다', '약탈', '아드레날린', '하야', '춥다', '19년', '밀리터리', '버려지다', '야설', '몽땅', 'your', '비단', '단정', '특권', '마비', '디센트', '앵무새', '헤븐', '모험영화', '환타', '노장', '남장', '셀프', '굽다', '2010', '신라', '부시맨', '겉모습', '난동', '^^^', '리더십', '알아차리다', '공인', '쿠스', '풍기', '라이언킹', '여덟', '이끼', '심리학', '랭', '꼭지', '85년', '정신승리', '땔', '연신', 'always', '얼룩지다', 'by', '안토니오', '병장', '하인', '좃', '기복', '은기', '제주', '개꿀', '셧으', '나부', '~~~~~~~~~~', '불운', '돌려차기', '통곡', '점준놈', '폐기', '오염', '하수', '엇네', '국수', '강호', '승질', '쇼미더머니', '런타임', '시라노', '감미롭다', '라퓨타', '애나벨', '싸이다', '9월', '신혜', '상해', '글귀', '메기', '가감', '이어폰', '정반대', '다미', '썬더', '유느님', '하앍', '쏟아내다', '수컷', '미세하다', '슬하', '쪼끔', '낙제', '영국인', '태클', '폴리', '최재성', '흐접', '힘주다', '암세포', '킥애스', '왈가', '데이즈', '제임스딘', '바바라', '지진', '스트레이트', '천둥', '스미다', '전력', '강성재', '슈마허', '은총', '86년', '비디오테이프', '빅토리아', '전향', '필히', '로세', '9시', '노동', '정열', 'ㅡㅡㅡ', '고객', '적응하다', '십계', '브로드웨이', '스토킹', '허울', '칭', '할렐루야', '한나라', '분통', 'story', '쓰리데이즈', '구미', '생존자', 'right', '안전하다', '토론', '폭로', '호박', '페티쉬', '하악', '았음', '가누다', '협찬', '었다', '증폭', '타격', '끗', '행보', '카이지', '견해', '탑건', '순금', '?;;;', '99', '비인간', '부엉이', '끄적', '미저리', '흐려지다', '꼴통', '주책', '란걸', '길어지다', '4.4', '소음', '테리', '타쿠야', '냉정', '월급', '취약', '파쿠르', '끄덕', '구슬', '갘', '럽', '백만배', '잔소리', '우짜', '허약하다', '웨딩', '직면', '퉁퉁', '팽팽', '코만도', '.......................', '배움', '신격화', '오예', '부조리하다', '정찬', '상하이', '이어진', '꾸러기', '청소', '영관', '소울', '손수건', '대장금', '펑', '감상문', '다이빙벨', '년놈', '튀김', '카지노로얄', '스팩', '진용', '스너프', '데이지', '로키', '쪙', '회개', '구석구석', '지역감정', '특선영화', '컴퓨터그래픽', '허물', '가장이', 'ㅋㅋㅋㅋㅋㅋㅋㅋㅋㅋㅋㅋㅋㅋㅋㅋㅋㅋㅋㅋㅋㅋㅋㅋㅋ', '.!!!!', '시베리아', '자게', '거가', '좀처럼', '트랙', '!!\"', '스노우', '너므', '정기', '계집', '비장', '진우', '밤새', '장난없다', '구애', '박용하', '프렌치', '빠수니', '나아', '벨트', '경종', '단순화', '베베', '=_=', '티모시', '꾸리', '톰하디', '슬쩍', '재롱', '무수', '시나리오작가', '쳇', '초인', '값어치', '십여', '가원', '김기영', '카메라맨', '번뜩이다', '만빵', '2.5', '군부', '토크쇼', '담론', '스트리트', '늦', '허풍', '명감', '약혼자', 'slow', '말미', '이가흔', '똥덩어리', '모스', '베풀다', '간극', '진범', '추노', '98분', '랜턴', '유로트립', '주무', '거보', '패닉', '것일', '워드', '카우보이', '휩싸이다', '언스', '일왕', '마삼', '원투', '연아', '불능', '쇼타', '노리개', '-_-..', '노모', '소이', '끙', '젤위거', '클레어', '전영록', '로간', '레지던트', '성행위', '경박하다', '마인', '지탱', '산전수전', '안양', '열사', '타국', '우뢰', '200억', '기득권', '죠낸', '쓰라리다', '갈아입다', '?^^', '승리자', '시공', '영드', '나영석', '중동', '있슴', '페니', '틸다', '쌔', '야비하다', '평일', '유딩', '회상씬', '황진', '브라더스', '그었다', '현역', '얼어붙다', '워터월드', '마코', '트이다', '꿰뚫다', '무력', '입원', '추리소설', '거왜', '장단', '대개', '시네마천국', '장벽', '주접', '레이드', '꺼이꺼이', '내딸', '조현재', '공허', '거미줄', '착륙', '오잉', '넘김', '어버버', '브룩쉴즈', '명색', '뱃속', '슈퍼카', '도덕성', '3등', '한재석', '바티스타', '젠더', '손병호', '마크로스', '지문', '스폰지밥', '전자', '레지던트이블', '알기', '교황', '아톰', '행사', '니키', '머꼬', '용구성', 'WWE', '면목', '노조', '셋트', '빨강', '봄날', '화차', '행진', '스타덤', '전경', '레오네', '유추', '개츠비', '플라스틱', '불감증', '지자', '마이걸', '콤', '걸그룹', '진동', '입안', '이십', '방관', '앞머리', '경주', '이언', '앉히다', '소피아', '웬디', '파급', '장률', '카레', '야인시대', '하은', '삭', '뇌물', '루스', '박세영', '구걸', '얼릉', '후끈', '27년', '모성', '괜시리', 'have', '............................', '....!!', '뒷받침', '페드로', '열풍', '실없다', '자문', '킬머', '사사키', '프리즌브레이크', '진경', '1234567890', '광복절', '위드', '지아이조', '드세다', '변기', '이산가족', '그러기에', '프랑켄슈타인', '공급', '백이', '카인', '시방', '1~4', '쥬리', '완주', '오토', '자멸', '야자', '전격', '가두', '보실', '일자리', '윤한', '김태훈', '리포터', '음악가', '더프', '웰케', '방어', 'God', '이단', '부릅뜨다', '장모', '사형제', '애드립', '시행', '구기다', '옥수수', '나루', '왕좌', '어뜨케', '인어공주', '치즈루', '유치뽕', '대국민', '뉘앙스', '캔', '음양사', '성교육', 'don', 'LOVE', '빤스', '이나고', '아하하', '아델', '1500원', 'n', '떄리다', '흰둥이', '평안', '마시기', '패리스', '뻗치다', '공동체', '굶다', '악동', '투자가', '대대', '대왕', '엔드', '무의미', '퀼', '터끝', '요것', '에밀', '문답', '불쾌', '아이구', '충동', '!!!!!!!!!!!!!!!!', '200%', '천식', '이듭', '속옷', '개싸움', '아마겟돈', '여민정', '폴더', '어질다', '마가', '더디다', 'more', '이상인', '사후세계', '용량', '주고받다', '자뻑', '개조', '@@', '간반', '넝쿨당', '은지', '사보다', '낚일순', '레슬러', '오드리햅번', '곱등이', '학력', '하반기', '76년', '아무런', '-->', '루프', '하드보일드', '피구', '똘', '옵티머스', '55', '밀당', '사드', '마라도나', '리허설', '니요', '정소동', '도요타', '비아이', '포텐', '황금기', '홀트', '맥시', '꾸르잼', '수용', '진짴', '놨다', '기일', '교육영화', '사슴', '짱짱하다', '광활하다', '조류', 'ㅎㅎㅎㅎㅎㅎ', '거실', '개비', '달팽이', '의대', '에덴', '설익다', '업무', '대충대충', '콧', '운석', '울렁거리다', '깨부수다', '아수라', '본의', '카지노', '심문', '굵직하다', '체인', '변호', '이영아', '루비반지', '((', '엘르', '바흐', '촛불', '반공', '기겁', '벌겋다', '후짐', '막대', '1979년', '옵니다', '심쿵', '잔다르크', 'ㄳ', '미필', '전쯤', '수현', '활력소', '오그리다', '호기', '팔자', '여행기', '양지', '텔레비전', '갈이', '이승환', '속마음', '권력자', '홍자매', 'ㄱㅐ', '조이', '치사하다', '권태기', '!!~', '이무영', '재밋더', '두리', '상당', '김서형', '고요함', '헝', '리우', '스타킹', '파라다이스', '쌩뚱', '동조', '강대국', \"',\", '스윈튼', '에이핑크', '엘지', '질병', '자초', '카메라워크', '티어', '근무', '생김새', '개과천선', '윤도현', '고만하다', '생선', '분과', '대목', '개극혐', '인투더', '1987년', '빰', '어쩐', '담그다', '요란', '으스스하다', '몽상', '야무지다', '숙이다', '상수', '서현', '칼라', '북유럽', '채원', '유년기', '무미', '시크릿가든', '서남', '실마리', '속성', '스태프', '화난', '화요일', '꽥', '이승철', '25분', '연하', '.-_-', '심해지다', '에보니', '점철', '라우', 'GG', '결점', '엽기적인그녀', '형상', 'show', '오스', '번지', '무지무지', '파리스', '개별', '성급하다', '빌런', '선희', '우리말', '48', '철부지', 'e', '9회', '흩어지다', '욜', '앳킨슨', 'ㅇㄴ', '트로이', '변덕', '썰다', '닌텐도', '터닝', '건의', '머나멀다', '영춘권', '간략하다', '제비', '세바퀴', '패자', '인자', '넌센스', '관장', '생계', '들추다', '전원일기', '뉘우치다', '미스코리아', '오렌지', '콩콩콩', '지지리', '어떻든', '시월애', 'All', '왜안', '조강지처', '공중전', '회색', '오경', '허우적대다', '베플', '남북전쟁', '음주', '찬물', '누굴까', '동서', '미세', '등골', '필요성', '천벌', '머리스타일', '칼날', '이본', '어림', '장철', '숙희', '만년', '칸나', '8시', '맵다', '지붕', '일장춘몽', '마릴', '생가', '적막하다', 're', 'Mbc', '숙연', '확고하다', '뭐시기', '어부', '베이스', '대미', '아까버', 'XXX', '친딸', '디스코', 'fuck', '수류탄', '실실', '오니', '용쟁호투', '일해', '재밋었어', '진흙탕', '분리', '경배', '갈갈', '타샤', '욕함', '종현', '돈버', '부진', '다르덴', '방콕', '이신가', '내용물', '익스', '박형식', '선행', 'will', '~~~~~~~~~~~', '타가', '좌우', '이응경', '518', '미란', '선거', '91년', '뽐내다', '미움', '보증', '김지호', '존레논', '스컬리', '욱겨', '리터', '저가', '개보', '키르', '으로선', '놀림', '자지러지다', '할갑다', '에너미', '테라', '엔젤', '미흡', '여론', '장미희', 'beautiful', '쿠나', '베인', '루한', '발버둥', '자원', '토탈리콜', '쏠쏠', '분말', '출구', '영창', '푹푹', '광화문', '보살', '런스', 'HD', '발리우드', '4시', '시신', '요기', '가로', '샤룩', '고은정', '루키', '물음', '계란', '..-_-;', '썩소', '에반스', '밑에님', '펠레', '마스터링', '비슷비슷', '원정', '미완성', '우웨볼', '얼씬', '놀음', '입김', '닠', '헌법', '트집', '게말', '폐기물', '가희', '무늬', '과오', 'ㅗㅗㅗ', '적인걸', '승려', '용암', '연금술사', '까운', '음악회', '도참', '가운', '애마부인', '처자', '타임캡슐', '버드', '시상식', '죨', '브래들리', '물감', '데이비드', 'sns', '~`', '그러다가', '6시', '수상하다', '소연', '그나', '디저트', '잭니콜슨', '목욕탕', '순하다', '감염', '혐한', '발광', '선량하다', '훠', '낮잠', '다큐맨', '워킹데드', '희귀', '슬로우모션', '생체실험', '무크', '베네딕트', '사인', '꽃남', '고지식하다', '수꼴', '벤스틸러', '간이', '위상', '종특', '교본', '이경실', '캐스트', '김연아', '페지', '떡하니', '산물', '노도', '동막골', '보나마나', '미카엘', '노희경', '웃곀', '바치', '심쿵하다', '초속', '밀레니엄', '신가', '였슴', '경관', '중시', '기신기신', '짐머', '타블로', '권태', '포트만', '젠틀맨', '예약', '꾸리다', '수법', '얼리다', '미소녀', '기관', '벌벌', '간부', '와이어액션', '식코', '기진', '소멸', '자부심', '20회', '실리', '금성', '저격수', '시댁', '트라이앵글', '집사', '////', '와장창', '전장', '용소', '농부', '자유분방하다', 'For', '초롱', '씬나다', '!!!!!!!!!!!!!!!!!', '저지', '따분', '텐', '고용', '먹여주다', '교장', '열전', '가제', '엠마뉴엘', '유린', '5원', '똘똘', '힌트', '어이구', '실행', '추상미', '복구', '스프', '늠', '만주', '공작', '중주', '실황', '수장', '임달화', '도미', '왜놈', '적중', 'ㅋㅋㅋㅋㅋㅋㅋㅋㅋㅋㅋㅋㅋㅋㅋㅋㅋㅋㅋㅋㅋㅋ', '햌', '식사', '아낰', '정용화', '콜라보', '햇빛', 'ㅋㅋㄱ', '감자별', '선댄스', '이그', '니노', '뮤츠', '보안관', '편리하다', '블룸', '바인', '연화', '급무', '고위', '변금련', '입덕', '토니쟈', '참극', '캐치', '대성통곡', '베트맨', '코웃음', '우월하다', '사료', '건축가', '눅눅하다', '77년', '최종병기', '상책', '동물원', '1993년', '신앙심', '얘길', '발현', '웨어', '묶이다', '알리시아', '몽상가', '대선', '나들이', '막론', '68년', 'when', '스파게티', '포뇨', '작도', '브레이', '나불', '1982년', '역도산', '시츄에이션', '소아', '폰트', '평민', '의천도룡기', '프렌드', '어땟을까', '60초', '이상하', 'ㅇㅣ', '뱀검', '한결같이', '상콤', '우즈', '템', '가스펠', '연산군', '***', '까지와', '자연재해', '겨누', '장본인', '응급남녀', '사무치다', '골드', '헬로', '연길', '파서', '신년', '왕족', '부와', '리해', '글로버', '드라이버', '타자', '재밌슴', '타일러', 'ㅜㅠㅠ', '천공', '진실로', '발광하다', '기동', '콕', '퇴마', '냉전시대', '오카다', '슬펏다', '나가야', '집앞', '회복하다', '우리땅', '샤아', '체계', '길예르모', 'IS', '말고도', 'iptv', '선리기연', 'ㅠㅠㅠㅠㅠㅠㅠㅠㅠㅠ', '쫓아가다', '카호', '최첨단', '소비자', '재밋었다', '루팡', '데미안', '꿀꿀하다', '엮어', '파오', '1000원', '~~~~!!!', '트리스탄', 'ㅊㅊ', '축축', '유신', '술술', '어감', '영적', '탁월', '우직하다', '젝키', '7회', '개이득', '지난날', 'PPL', '버스터', '~(', 'ㄱㅊ', '독선', '리즘', '헛되', '쩌는듯', '내장', 'ㅋㅎ', '불사', '구질구질하다', '태생', '반짝반짝', '병아리', '불공평하다', '나체', '붕붕', '의형제', '고아원', '~!!!!!', '협주곡', '알트', '트루먼', '위화', '최효종', '척척', '양화', '젤로', '편안함', '데일', '이종수', '멘탈붕괴', '바닐라', '중계', '러시아어', '소매치기', '로빈훗', '방청객', '됏', '오노', '탄성', '남지현', '시비', '단골', '자씨', '원시인', '승기', '행태', '더라면', '예술인', '옅다', '레이크', '나볼', '성우진', '배설', '권법', '친북', '레포트', '처량하다', '스카이폴', '성지', '女', '지드래곤', '근접하다', '일루미나티', '개강', '돈벌', '필사', '되살리다', 'she', '미적지근하다', '이라고도', '정승', '전멸', '고품격', '노련하다', '히말라야', 'shit', '채운', '저음', '터리', '서브', '쥬만지', '구수하다', '카오스', 'baby', '땅크', '옛사랑', '난장', '지현', '네드', '큰소리', '원치않다', '껄끄럽', '김혜자', '피에타', '발동', '둥둥', '개탄', '조마조마', 'jyj', '자존감', '니키타', '중도', '21년', '불리', '작곡가', '뿜었음', '와일드카드', '레먼', '1일', '역효과', '111', '라든지', '콕콕', '태현', '기량', '한평생', './', '금융', '로얄', '요술', '서지석', '컨디션', 'usb', '굿임', 'Do', '키시', '찮', '페이소스', '드팔마', '상향', '청각장애', '비수', '분한', '마침표', '팬임', '일당백', '재정', '보로', '철인', '영업', '가브리엘', '블랙리스트', '자재', '각기', '클랜', '하데스', '허준호', '스웽크', '오신', '♥♡♥♡♥♡♥♡♥♡♥', '나혼자산다', '국군', '사촌', '정말루', '알콜', '마차', '칼리토', '83년', '에미넴', '장하나', '더위', '웃겻다', '뜰때', '떔', '5억', '라즈베리', '통편집', '이경규', '라니까', '^^:', '페인트', '소파', '비례', '평좀', '자기애', 'Movie', '강국', '내고', '탈모', '잡수다', '다시없다', '상납', '주간아이돌', '서교', '책상', '팁', '스틸컷', '남자이야기', '보우', '빙하', '묵시', '토지', '물리학', '투하', '가연', '전화기', '시름', '몬스타', '볶다', ',@', '애플', '탭댄스', '건대', '28분', '짜리로', '감지덕지', '버마', '햄', '걸돈', '완료', '트론', '인스피릿', 'ㅋㅋㅋㅋㅋㅋㅋㅋㅋㅋㅋㅋㅋㅋㅋㅋㅋㅋㅋㅋㅋㅋㅋ', '샴', '몹', '멜리사', '앨', '왕팬', '터보', '더파이팅', '브렌', '프레이저', '노친', '활발하다', 'll', '학습', '생겨나다', '빈번', '동키', '쇠', '윌리', '사생아', '15일', '껍질', '호화롭다', '멍청', '홀려', '종말론', '페루', '케시', '자전', '보살피다', '괞', '봤슴다', '역류', '가을동화', '김선영', '1200원', '낚였네', '흐음', '소굴', '오늘밤', '이지난', '학교괴담', '함장', '아성', '걱정스럽다', '진행자', '이대근', '패션쇼', '쫄깃쫄깃', '표값', '간나', '인과응보', '리모콘', '^^!!', '복음', '병구', '처가', 'soso', 'zero', '무책임', '벗겨지다', '신용카드', '덩이', '허진호', '눈꺼풀', '눈쌀', '10000원', '엣지', '폭죽', '야곱', '애정결핍', '케이티', '임의', '발리', '화산고', '장인정신', '인스턴트', '개잡', '월레스', '금옥', '못난이주의보', '까다롭다', '장장', '세이모어', '남기남', '시설', '장남', '깨뜨리다', '관조', '빅풋', '육식', '이두용', '채림', '반환', '저작권', '바랬던', '농구공', '내야', '건축학개론', '대일본제국', '평판', '이진욱', '조소', '에게로', '성스럽다', '관습', '표준', '붕대', '판명', '서핑', '마라톤', '확확', '초대형', '장려', '우의', '갈래', '문학작품', 'Of', '로렌', '고두심', '소서', '수시로', '애자', '보다야', '망은', '윤주', '버티고', \"'!\", '차돌', '혜리', '식품', '세바스찬', '족보', '호스트', '조언', '루니', '사도세자', '온돌', '윈슬렛', '성희롱', '부인과', '기미가요', '지사', 'ㅡㅡㅡㅡ', '진절머리', '파시즘', '흠칫', '살살', '자알', '?,', '하래', '속보', '균신', '매니악', '기생충', '리얼스틸', '정은', '버니', '길동', '흡사', '장신영', 'him', '분해', '~~`', '쌩쇼', '멀티', '베트남전쟁', '지난번', '도가니탕', '제우스', '어는', '이수현', '갠찮', '범주', '딩', '애덜', '승전', '우화', '32', '다케', '노트', '보존', '그레텔', '자칫하면', '돈크라이마미', '광개토대왕', '1994년', '노자', '뭉치', '에놀', '컬리', '브레이브', '컬킨', '얌전하다', '투어', ';..', '배합', '안부', '재일동포', '유연하다', '또렷하다', '자식새끼', '동안미녀', '엔터테인먼트', '기관총', '리코', '노을', '\"\"', '뭣같', '게일', '몸서리', '보가', '관건', '패스트', '울음소리', '글래머', '거세', '야박하다', '대량', '생인', '브로큰', '강제규', '태고', '코브라', '협력', '진행중', '촛점', '로즈', '옄', '서운하다', '역사드라마', '멋찌', '5초', '운남', '외적', '그네', '땅콩', '정정', '횡재', '훤히', '당하', '사심', '라니깐', '작이라니', '혁명가', '덕지덕지', '닥치', '대여섯', '인민군', '후에', '수퍼액션', '말빨', '맹꽁', '노크', '뛰어오다', '식스', '작가라', '스티브잡스', 'dog', '가타', '근현대사', '손호준', '서여', '인형극', '유란', '중고', '한그루', '오차', '마츠야', '친분', '엘사', '갈대', '대별', '틈틈이', '아라하', '캐머런', '욕실', '호갱', '맘에안듬', '합체', '동선', '길가', '한가하다', '평등', '부업', '이수', '리더쉽', '한공주', '백터', '클론', '타로', '통치', '특출나다', '메타포', '수임', '헤메', '산속', '고딕', '오크', '구글', '화원', '지드', '장일', '기고', '심볼', '개반', '마침', '찬열', '으헝', '22년', '인가가', '스탠바이', '섬터', '음주운전', '궂', '킹스', '장의사', '재키', '책임자', '진시황', '더볼', '애니메이션영화', '허벅지', '부처님', '장희빈', '대규모', '휘트니', '오락실', '질도', '곽현화', '이세영', '객관성', '연수', 'girl', '시프', '그름', '영민', '정도영', '짜르', '4-5', '에서까지', '코프', '분출', '퍼니셔', '장화', '정다빈', '유명인', '-_-....', '박근형', '힌', '생으로', 'ㅠㅡㅜ', '근대사', '말살', '왕실', '중위', '텍스트', '꽤볼', '캐시', '08년', '고약하다', '85분', '뻐', '나란하다', '지위', '타케시', '페이스북', '창업', '나날이', '뱅', '39', '양면', '꼼수', '폴란스키', '김슬기', '한여름', '까닭', '롤라', '포에버', '개늑시', '재밋어용', '엣헴', '격동', '타이거', '고종', '츄', '박정아', '내셔널', '특기', '붕가붕가', '토투', '쩡', '삥', '최원영', '서준영', '소나타', '엊그제', '김성은', '회식', '(^', '112', '찬찬하다', '융', '재해', '끄덕이다', '하듯', '색체', '선녀', '상적', '축구선수', '부위', '교향곡', '앞날', '….', '라리', '번가', '전계', '새아빠', '무능', '협회', '힐튼', '고사하고', '모라', '여건', '숨결', '팍팍하다', '재미나다', '델마', '무정도시', 'film', '나카시마', '지휘자', '지장', '어인', '역주행', '성찬', '남쪽', '말걸', '다툼', '캣우먼', '2015', '우위', '반죽', '게뭐임', \"'?\", 'Ocn', '이라기보단', '고경표', '농사', '침입', '설탕', '신밧드', '길냥이', '못햇', '점더', '자아도취', '프로메테우스', '웨', '유가', '브랜든리', 'oh', '기술자', '기왕', '퍼스트', '입학', '어택', '이식', '도윤', '무녀', 'Sf', '스킨스', '라르', '살다보면', '내려지다', '출생의비밀', '쫓아오다', '오인', '조권', '미호', '서술', '이러다가', '뇬', '택하', '미드나잇', '슈주', '뙇', '연기대상', '못함', '까불다', '위험성', '지영', '이병', '만두', '서현진', '컴터', '바네사', '비상구', '그라드', '광녀', '게더', '심령', '힘빠지다', '27분', '애나', '헌트', '신세', '24년', '자꾸자꾸', '험하다', 'jtbc', '무자식', '막방', '다니엘헤니', '음식물', '만담', '안드레이', '추방', '탈영', '비비안', '명인', '미져리', '아작', '발판', 'tvn', '3.5', '?????????', '팔뚝', '경찰차', '×', '열렬하다', '생중계', '소령', '이휘재', '본가', '황혼', '에서조차', '판소리', '최양일', '외계생명체', '강심장', '불만족', '아폴로', '살육', 'ㅁㅇ', '수요', '발기', '순결하다', '고양', '무거워', '루머', '바고', '아주머니', '황마', '앳된', '기담', '활기차다', '선남선녀', 'Who', '너구리', '행방불명', '때깔', '갑지', '31', '리턴', 'want', '팬클럽', '소용돌이', '바로잡다', '원내', '전면', '암투', '계백', '절차', '박상원', '채정안', '싸랑', '셨', '호날두', '향상', '물귀신', '정의감', '이건영', '정표', '흡수', '테이', '텅텅', '진희', '잘빠지다', '터너', '되풀이', 'CCTV', '당나라', '둥지', 'U', '말입', '변환', '무관심하다', '비화', 'La', '난또', '최불암', '삼위일체', '가주', '상병', '주보', '덤블도어', 'gonna', '공신', '데어데블', '결전', '전진', '만듭니', '마니마니', '크나크다', '스티치', '전보', '낄낄대다', '김원희', '나타', '글리', '장애우', '보조', '말타', '난로', '명화극장', '창피', 'ㅈㅅ', '교관', '답니', '스파이키드', '럭비', '원더우먼', '저팔계', '창민', '준호', '번외편', '전염', '각국', '시디', '꼴값', '원동력', '그리드', '연휴', '아카데미상', '비주류', '프로덕션', '일시', '잔재미', '성용', '7.9', '닫히다', '노파', '파가', '화전', '복수혈전', '동명이인', '그레이드', '반짝이다', '삼겹살', '낚일', 'ㅡㅅㅡ', '집요하다', '인공호흡', '동수', '공블리', '문외한', '고화질', '충실', '수련', '웅담', '송해성', '풀기', '이재', '니나', '예뻣다', '으잌', '나우', '미명', '팬서비스', '업보', '원죄', '폭격기', '난데없이', '부터의', '귀타귀', '예찬', '웃찾사', '사리다', '개코', '테크닉', '버지니아', '브람스', '박명수', ')+', '봤슴', '김준', '건설', '셰프', '돌란', '김지현', '끝물', '제아', '진희경', '벙커', '쿵쿵', '음란하다', '9.1', '장미여관', '애원', '그랜드', '우먼', '호비다', '페리', '구미호', '^*^', '핡', '춘향전', '뭍혀', '자폐증', '변장', '리사', '잠식', '부딪치다', '양성', '명계남', '예리하다', '좀바', '라는데', '복수심', '유노윤호', '존경심', '1991년', '순환', '애완견', '왜구', '2/3', '서지혜', '적군', '지젤', '자처', '그랫', '보통사람', '도사', '할기다', '레시피', '트림', '최동훈', '바임', '걔네', '바른', '영양가', '당돌하다', '아가리', '야외', '플래쉬', '차분해지다', '교인', '분자', '직후', '정기용', '리라', '개핵', '부흥', '요호', '시전', '여옥', '압구정', '뭐함', '박시은', '성지루', '하핡', '어기다', '황시', '유용하다', '봣는대', '섬뜩', '변주', '고온', '피의자', '썰매', '비버', '신카이', '심영', '유인원', '촉촉하다', '잘라먹다', '덴마크', '똥통', '망토', '요강', '난자', '혈액형', '퇴근', '으음', '편안', '왜함', 'ㅋㄱㅋ', '양대', '울엇어', '브레이커', '피크닉', '^^.', '느므', '네이션', '북받치다', '파쇼', '한글제목', '넬슨', '왈부', '조가', '미스트', '베끼', '크리처', '순응', '성현아', '친영', '현명', '쟁취', '브라스', '비엘', '억눌리다', '러브신', '공통', '사이렌', '꺅꺅', '원영', '긔', '떡볶이', '순결', '얹히다', '방망이', '카우프만', '쌩뚱맞다', '무단', '후다닥', '김한민', '불완전하다', '나스', 'cd', '김삼순', '사람사람', '한민족', '그릇되다', '순도', '도수코', '불꽃놀이', '알랭들롱', '개구쟁이', '메이트', '웅얼웅얼', '비뚤어지다', '알음', '혼동', '신건', '친모', '무거', 'ㅎㅎㅎㅎㅎㅎㅎㅎ', '꺄악', '숭', '어우르다', '뒷골목', '무취', '가모', '지노', '백악관', '레이디', '*_*', '순영', '학부모', '가루지기', '뒤끝', '실미도', \"'..\", '종반', '난이도', '단합', '메이크업', '28년', '이개', '41분', '상급', '세르', '훨훨', '운동화', '수명', '변강쇠', '말콤', '관세음보살', '황수정', '리카', '낙오', '마침내', '맹세', '소도', '소니', '제기랄', '집행', ',,,,,,,', '시합', '매가', '한승연', '비글', '스튜디오', '할망구', '루지', '추성훈', '민국이', '공연장', '민율', '신사참배', '심야식당', '...-_-;;', '반고흐', '삼고', '종려시', '만화인', '21일', 'NC', '프란체스카', '명쾌하다', '래그', '감격시대', '과외', '출세작', '소설가', '뽑기', '보급', '4.45', '미제', '멜로드라마', '작붕', '내의', '잠잠하다', '피카', '므흣', '디카', '땡땡', '호가', '왓슨', '2.3', '조루', '라이터', '이심', 'Red', 'DC', '가재', '붕뜬', '교정', '최배달', '200원', '자루', '덕의', '아나스타샤', '조립', '곰팡이', '노스', '사들이다', '추녀', '립싱크', '5.18', '다이아', 'CIA', '일행', '원혼', '룰렛', '학벌', '내기억', '영화개봉', 'did', '호아킨', '합류', '풍속', '변형', '인하', '-_-?', '도도하다', '주도하다', '대기', '접목', '9.0', '만배', '렵니', '쏜다', '이목', '레시라무', '인기투표', '복불복', '의성', '떠돌다', '생도', '정장', '노익', '감미', '떳', 'ㅜㅜㅠ', '빨치산', '머리털', '용산', '시후', '경례', '독립운동', '개병', '중재', '에네스', '일기토', '환가', '혓바닥', '낚인건', '23년', '빡빡이', '메모리', '엄기준', '이승', '야야', '조울증', '아바', '달림', '페로', '월스트리트', '집주인', '작품하나', '강시선생', '미스김', '연주가', '포항', '황보라', '옥보단', '남구', '벤츠', '한화', '이상민', '류수영', '협녀', '?-', '단추', '제야', '대령', '다발', '임채무', '르네상스', '...;;;;', '잉글리쉬', '뼈대', '한술', '파랑새', '고음', '들개', '스케이트보드', '이영은', '커스버트', '성애자', '다이쥬', '대포', '101', '브레인', '식히다', '립스틱', '열기', '십이', '윤종신', '반격', '부부싸움', '우회', '세종대왕', '쪽쪽', '진저', '능글맞다', '계열', '네스', '더그', '백투더퓨처', '장수원', '더시티', '사마', '심기', '조두순', '멈', '종방', '나진', '실생활', '저승', '크리스티나', '돌직구', '생뚱', '쭈', '직무', '태조', '획득', '대학가', '샷건', '오사카', '개요', '파스텔', '웬수', '과함', '산영', '숀팬', '2천원', '첼로', '노병', '싹트다', '어리둥절', '단것', '고지전', '의기', '케이팝스타', '메스', '이지나도', '올여름', '단번', '분별', '더잼', '다고', '로메', '스카이라인', '명드', '보강', '할껀', '동족', '여름밤', '구관', '아름다워지다', '병동', '행여', 'GV', '98%', '최강창민', '연륜', 'OK', '아즈미', '넴', '영홥니', '은행강도', '광산', '----', '유세', '7.2', '????????', '갖', '니아', '납', '끌어안다', '어떠케', '스웨', '조심스럽다', '알바인', '프로즌', '이지은', '이비', '계속계속', '카운트', '화도', '문의', '흉터', '수배', '일박이일', '고연', '에아', '대초', '라미란', '이종인', '수호지', '수결', '국방부', 'IT', '상과', '자유로', '심사평', '전전', '유스케', '괴팍하다', '곤욕', '스펙트럼', '광해군', '다주', '벤틀리', '시집가다', '부장', '폭포', '년후', '녹슬다', '연우', '똥물', '월남전', '테입', '행복감', '정성일', '먼로', '천옌시', '아스테릭스', '칩', '냉전', '에라곤', '고원', '무능력', '영도', '다다다', '군데군데', '8.8', '의왕', '마치다', '에잉', '유망', '위쇼', '고심', '갱스부르', '매그놀리아', '화소', '개솔', '장해', '마쇼', '언뜻', '정치사', '세자', '귀중하다', '정호', '크래딧', '투사부일체', '여요', '무사하다', '2.6', '라오', '생물학', '포옹', '깃발', '녹차', 'everything', '샘솟다', '악취', '~~~~~~~~~~~~~', '필립스', '쫘악', '말아톤', ')\"', '2009', '혼내다', '결승', '아테나', '웁니', '름', '삼십', ',,?', '창시자', '슈발', '류헤이', '증지위', '이웃집', '한선', '버호벤', '반토막', '달라짐', 'zz', '초록', '설특집', '엠넷', '평안하다', '쉰들러리스트', '오라버니', '드림걸즈', '민효린', '깜작', '트루먼쇼', 'only', '관영', '가신', '키다', '음원', '족족', '서퍼', '득템', '피해망상', '메이커', '라빈', '팡', '솔져', '다욕', '전대', '반칙', '권해효', '잠옴', '해피투게더', '사공', '학도병', '이등병', '워메', '워킹맘', '펄', '케르디오', '네로', 'And', '새미', '이블데드', '족치다', '준걸', '109분', '2222', '사절', '저금', '미이케', '헐킈', '처치', '울먹이다', '송선미', '47', '바질', '45분', '피지', '中', '겁쟁이', 'ㅁㄴㅇㄹ', '뒹굴', '만요', '디오', '지조', '조단', '래퍼', '기레기', '오키나와', '버거', '배정', '시들다', '탈의', '7분', '원폭', '60~70년', '노후', '절단', '대초반', '재민', ',?', '대열', '리스크', '행해', '무쉬', '1988년', '클로드', '테무진', '포이', '동질감', '40%', '관음', '초콜렛', '무안', '!!!!!!!!!!!!!!!!!!', '바오', '태평', '!!!!!!!!!!!!!!!', '미미', '전임', '아낙', '데쓰', '패티', '개중', '정철', '탈레반', '~_~', '진중권', '김광석', '쓸모', '짬봉', '유무', '시청료', '인방', '유위', '실베스터', '국민성', '교류', '꽉꽉', '컵', '조선왕조', '귀감', '냨', '오타', '배틀쉽', '달마', '에를', '종잡', 'ㅋㅋㅋㅋㅋㅋㅋㅋㅋㅋㅋㅋㅋㅋㅋㅋㅋㅋㅋㅋㅋㅋㅋㅋㅋㅋㅋㅋㅋ', '캣', '와사비', '어사일럼', '아릅답', '탑기어', '흡', '괜찬네', '일본도', '히피', '하류인생', '꺽', '드림팀', '해나', '둠스데이', '효언니', '써로게이트', '바이크', '버터', '지심', '산맥', '최여진', '유하', '랭크', '지롱', '영영', '악물다', '불확실하다', '후임', '김두영', 'ㅋㅋㅋㄱ', '임주환', '김진표', '분잡', '분배', 'back', '속사정', '달동', '보오', '다스', '한결', '1999', '유능하다', '프리미엄', '치마', '해감', '심신', '빈곤하다', '앨빈', '마나피', '뛰어나가다', 'Mr', '이다희', '난의', '커밍아웃', '김은숙', '사파리', '분쇄기', '트랜스포터', '불분명', '로군요', '이계인', '국회', '장재인', '대군', '농간', '국보', '으잉', '03', '들판', '10회', '깨금이', '발의', '퇴갤', '참말', '비틀', '바닥나다', '..,,..', '버거운', '웬걸', '도면', '장갑', '나쁜남자', '기마', '자크', '이희준', '베가', '톡톡하다', '섭리', '작인데', '재고', '마리모', '엄슴', '막부', '짤린', '와아', '.^^*', '외출', '한바탕', 'Why', '단속', '헤이글', '갤럭시', '난하다', '쫙쫙', '상당수', '옥한흠', '구니스', '빅엿', '주방', '누비', '안봣는데', '거원', '8.7', '조총련', '흥신소', '타당', '루카', '쉿', '박하사탕', '~~~~^^', '소릴', '노팅힐', '첫걸음', '수색대', '연식', '무마', '반성은', '닥터진', '발걸음', '들썩이다', '메시', '사면', '히스테리', '혈팬', '초록물고기', '소꿉놀이', '맞대다', '정은우', '해상', '색도', '가산', '판단력', '네타', '낮술', '기면', '78년', '>>>', '떨기', '어머', '몽둥이', '상반기', '언터쳐블', '타래', '웟던', '초사', '쉴즈', '훔', '아물다', '감상주의', '병폐', '티브', '영동', '과일', '38', '킁', '이블', '쟝', '원랜', '렛', '(?)...', 'ㅜㅡㅜ', 'ㅋㅋㅋㅋㅋㅋㅋㅋㅋㅋㅋㅋㅋㅋㅋㅋㅋㅋㅋㅋㅋㅋㅋㅋㅋㅋ', '재팬', '동호회', '스타일리시', '측정', '접합', 'ㅅㅋ', '계곡', '가늘다', '역도', '방울방울', '태연하다', '이라든지', '청리', '쿼터', '년뒤', '영화에서처럼', '닭털', '박영진', '고쿠센', '아랑사또전', '험버트', '한겨레', '쉐', '난봉', '국화', '철거민', '시실리', '이북', 'again', '잡것', '~~~~!!!!', '케서방', '재밋긴', '키스씬', '.........................', '…….', '방송인', '그떄', '계몽영화', '풍족하다', '조민수', '날조', '포착', '서두르다', '속세', '헤아리다', '버블', '마티', '부스', 'ㅣㅇ', '88분', '싱싱하다', '갱신', '김수환', '라티', '최영', '몰리', '다크라이', '훈계', '제겐', '개티즌들', '자구', '재혼', '곰탕', '걸어오다', '살길', '프로이트', '치켜세우다', '감소', '버디무비', '화인', '생겻', '옥토', '스탈린그라드', '노킹', 'feel', '신참', '적절', '병실', '흥이', '15초', '창의성', '반동안', '심지호', '한복', '코타', '너그럽다', '틀어지다', '떵', '윤정희', '주루룩', '주니', '이준영', 'Ctrl', '톨스토이', '선방', '커튼', '소환', 'fun', '유비', '퍼시픽', '저쩌', '라인업', '도엔', '용돈', '장마', '...!!!!', '소세지', '경감', '에서가', '한강', '쟝르', '충남', '오온', 'ㆍㆍ', '갈기갈기', '입대', '심장마비', '징글', '홍주', '헬레', '동물학대', '픔', '편애', '혜', '요건', '회차', '라미', '모씨', '짊', '흡족하다', '베로니카', '조난', ',,,,,,,,', '면은', '제정', '고저', '아우디', '혜수', '가뭄', '박미선', '황새', '다이아나', '레너드', '섹쉬', '포선', '아기자기', '서준이', 'free', '조은지', '생수', '규정', '상혁', '신성하다', '낳을', '실험영화', '....;', '서영', '박정철', '헤집다', '디시', '행진곡', '당당', '명수', '내쉬다', '골수팬', '으로서도', '현준', '....,', '에로스', '영주', '대하드라마', '정인', '웟음', '-!', '토네이도', '쥰', '베니스', '젠데', 'ㅋㄷㅋㄷ', '저속하다', '꿋꿋', '발해', '시라', '골룸', '구조도', 'UN', '웨버', '하곤', '이다지', '대종상', '차림', 'IQ', '로켓', '전차', '젤리', '엄따', '랑드', '연습생', '롤링', '라틴', '임재범', '찡그리다', '럴', '통장', '엿같', '익살', '코엑스', '2500원', '본색', '백화점', '묵념', '이특', '홍대', '딸기', '어로', '바우어', '억수', '닌자어쌔신', '사후', '갱생', '커스틴', '쇼파', 'Ebs', '29일', '강유', '갈라지다', '스탠', '기특하다', '하단', '판박이', 'That', '채닝', '사항', '저해', '자유의지', '수사극', '고치', '민국', '앤해서웨이', '두더지', '냉', '재량', '상사부일체', '시큰둥하다', '파파로티', '증권', '조화로', '귀척', '다이버전트', '카트', '엄두', '무사백동수', '대망', '전지전능하다', '대장정', '살색', '1994', '패쓰', '개불', '친한친구', '사이버', '갱단', '하이바라', '강화', '경비원', '199', '남탓', '아군', '패딩턴', '현시', '빗속', '블랑쉐', '레퀴엠', '부르짖다', '빠져듭니', '중인', '폴란드', '제네시스', '제한상영가', '글쎼', '김무열', '춘희', '이이이', '최정원', '아더왕', '출가', '김해', '유토피아', '가공', '무무', '한겨울', '^~', '케이츠', '만사', '레닌', '거슬러', '오하', '비정상회담', '자객', '12시', 'ㄸ', '기키', '좌지우지', '^^..', '자상하다', '오언조', '궁상맞다', '재밋기', '시지', '웨인', '맹맹하다', '껄렁', '거린', '기욤', '클로버필드', '녜', '120억', '수학여행', '의무감', '파랗다', '홍보물', '일삼', '정밀', 'ㅋㄷ', '합리', '또보', '코마', 'csi', '익스펜더블', '자주자주', '도합', '개수', 'die', '글쌔', '라다', '무안하다', '버려진', '명연', '세르게이', '클락', '블라인드', '눌', '스피릿', '작부', '사병', '왜만듬', '이뽀', '오복성', '신임', '퓨처라마', '관료', '사다리', '녹색', '재밋엇', '쏠', '고무줄', '콘돔', '타이탄', '인조인간', '잘봣음', '140원', '신보라', '간달프', '디아블로', '로베르토', '다이어리', '-_-...', '쥐약', '신구', '어뢰', '충청도', '속임수', '전대물', '니시', '배끼', '카다', '낚시바늘', '숙청', 'ㅡㅡㅋㅋ', '언터처블', '후세인', '맨손', '망처', '고독감', '팬덤', 'Kbs', '유출', '수퍼', '피쉬', '던지기', '실하다', 'ㄹㄹ', '진혜림', '양복', '마여', '멧돼지', '졸렬하다', '회사원', '야간', 'cheap', '티파니', '이연결', '딛다', '하버드', '아랑', ',,,,,,,,,,', '공모자', '왕비', '후후후', '스피커', '밤하늘', '식욕', 'as', '조은숙', '\",', '없드', '재밋는듯', '애꿎', '표적', '갈겨', '이점', '욘사마', 'ㅂㅂ', '주둥이', '웃픈', '지팡이', '▽', '야만인', '패킷', '오자룡', '로케', '황량', '잡아끌다', '5%', '팅', '우하하', '똥임', '야생', '올밴', '지름길', '인강', '아이앰', '몸짱', '전염병', '회귀', '퀘', '가정폭력', '려면', 'th', ')/', '정아', '아리랑', '아라', '힘껏', '쇼트', '금세', 'ㅋㅋㅋㅋㅋㅋㅋㅋㅋㅋㅋㅋㅋㅋㅋㅋㅋㅋㅋㅋㅋㅋㅋㅋㅋㅋㅋ', '코렐', '대나무', '백만불', '휙휙', '7.4', '낚는', '9.3', '퇴치', '36', '베틀', '먀', '볼케이노', '방정', '쫄깃하', '엑소더스', '이임', '순서대로', '냠냠', '불면', '두통', '보안', '호빵', '81년', '발목', '펄롱', '논픽션', '촘촘', '레오나르도', '뚝딱', '결실', '험난하다', '에헤', '골수', '울적하다', '표류', '면허', '벚꽃', '독일인', '바르게', 'w', '손쉽다', '핏빛', '전지', '방언', '요동치다', '각목', '단성사', '1/10', '아이스에이지', '푸핫', '마마마', '상공', '여성성', '강서연', 'gta', '여직원', '아노하나', '패착', '지각', '코앞', '^~^', '촌철', '4.0', '7일', '박멸', '레스토랑', '친엄마', '모호', '광속', '쫑', '년대', '돔', '집애', '마르코', '알리샤', '겟썸', '용형', '시가전', '체크', '두세', '최송현', '토가시', '찰떡', '태원', '의인', '약혼', '월켄', '본토', '터프', '컴퍼니', '추접', '세친구', '먹거리', '보충', '여선생', '폭주', '이사장', '치밀', '장발장', '총사', '돗', '51', '44', '독점', '새엄마', '격려', '우중충하다', '오죽', 'GP', '헤엄', '확연', 'l', '할애', '으로써는', '맞춤법', '곽도원', '짬', '남규리', '정씨', '걷어차다', '발발', '부사', '꼬박', '주군', '메탈리카', '에픽', '경규', '사내', '슈타인', '포화', '달고나', 'AM', '2000원', 'music', '깜박', '머릿', '옵', '봉지', 'Man', '뻐기다', '레쉬', '도서', '태연', '중공군', '우현', '벼랑', '갑부', '눈사태', '세익스피어', '게으름', '얼빠지다', '됫음', '깽깽', '이솜', 'PC', '무쌍', '중고생', '전술', '리베라', '하나라', '무미건조', '팔씨름', '도기', '엎드리다', '미녀와야수', '브릿', '동사서독', '건들', '리엘', '후아유', '먼치킨', '앨리', '크리스토프', '블루스', '^)/', '쩖', '중화', '제크로무', '아네트베닝', '이지혜', '순대', '정직', '공지', '미우라', '설움', '백혈병', '가련하다', '남상', '칼빵', '송두리째', '구성원', '기숙사', '이징', '다말', '아스팔트', '비어', '프린세스', '~)', '사양', '협소', '관여', '각선미', '정지영', '세차', '여과', '팽배', '복사기', '입좀', '천추', '우도', '막강', '날줄', '9천원', '아르헨티나', 'ㅋㄱ', '여자라서', '해치', '오프', '법인', '애란', '그레이엄', '모태', '침울하다', '재상', '고천락', '특별', '아우성', '짜릿', '데포', '뜻대로', 'Rock', '자음', 'sorry', '정독', '맹승지', '어쩌라구', '읊는', ',!', '??;;', '사쿠라', '이케', '노프', '목수', '척노리스', '콘스탄틴', 'CJ', '란말', '한드', '130', '단숨', '감임', '유나', '8.88', '쩝쩝', '재밋슴', '넘게', '어젯밤', '황산벌', '호스텔', '리신', '얼얼하다', '하몽', '해커', '에서라도', '이반', '열심', '구더기', '탄광', 'ㅉㅏ', '어허', '비행선', '캠페인', '쯔', '성소수자', '훈련소', '포즈', '일가', '족속', '사십', '기로', '비루하다', '지석', '..,,.', '셧습', '대란', '박준규', '바이오맨', '달래', '성재', '장난스럽다', '라이오넬', '명예훼손', '명료하다', '어비스', '검거', '김기범', '순순하다', '우정은', '사이사이', '올려다보다', '달아나다', '외딴', '경도', '수난', '후루룩', '그리스도인', '어린왕자', 'ㅠㅠㅠㅠㅠㅠㅠㅠㅠㅠㅠㅠ', '이장호', '밀크', 'Me', '미터', '스레', '3천', '글치', '스테이', '차수연', '6분', '땔수', 'ㅇㅂ', '움찔', '포카혼타스', '봣을때', '윤수', 'ㅓㅇ', '장강', '장민', '고안', '오슬로', '빠삐용', '잇엇음', '연봉', '강산', '???????', '적정', '도모', '영희', '코같다', '하드캐리', '대수', '룻거', '강재', '곡성', '쓰레', '노이즈', '조리', '순간이동', '굶주리다', '신예', '고충', '보건', '희화', '죤내', '말종', '절권도', '재밋게봣어', '병역', '^&^', '퀵', '삐삐', '타이어', '이주일', '^*', '........................', '닉슨', '00', '04년', '일레인', '집권', '프롯', '촬영감독', '어캐', '직감', '농민', '부지런하다', '조성모', '찜찜', '천진난만하다', '유정', '빠따', '가망', '쳇바퀴', '군중심리', '매칭', '칠흑', '정운택', '진관희', '피렌체', '김보연', '플랜맨', 'HBO', '파르', '진술', '허가', '주저리주저리', '중지', '부지', '고국', '잡수시다', '양가휘', 'fail', '양말', '투명하다', '면죄부', '기모노', '요코', '원리', '명랑하다', '에이프릴', '가십', '벌떡', '107분', '김용건', '종형', '김지미', '죠죠', '해법', '걷기', '이왕', '트포', '남짓', '팀워크', '나가시', '장판', '2014.10', '1234', '태자', '엮어낸', '의뢰인', '100일', '뉴문', '법대', '가렛', '손익', '꼽으', 'seen', '우하하하', '사모님', '몸뚱이', '비보잉', '유빈', '로튼토마토', '자작', '국제사회', '日', '캐쉬', '↑', '핵무기', '스파르타', '정복자', '슛', '가급적', '네모', '다봣는데', '부터라도', '왁스', '나이라', '멍충', '단가', 'round', '항의', '개혁', '마소', '함몰', '세탁소', '들썩들썩', '총리', '간질간질', '투지', 'Com', '일조', '살포시', '최종회', 'WTF', '창백하다', '풀어지다', '까지야', '....................................', '어언', '뒤치닥', '축축하다', '본부', '육상', \"!!'\", '탈선', '카를로', '송하윤', '힛', '10101010', '버킷', '왜못', '듣보다', '질라', '초등생', '26일', '모텐슨', '아나키스트', '오취', '너넨', '유혜리', '랄라라', '민족주의', '루임', '딸램', '애송이', '실루엣', '혐의', '준지', '글쓰기', '민주당', '로이킴', '없넹', '굴리', '맥가이버', '뒷목잡다', '그리스도', '총각파티', '별별', '롭다', '메로', '볼법', '제임스본드', '밤바', '꼬아', '2억', '1234567', '기미', '사촌형', '파크', '원칙', '포악하다', '12회', '어브', '단시간', '물러나다', '다이너마이트', '쇼타임', '스탁', '피칠갑', '다솜', '멉', '널린', '오어', '배럴', '1950년', '심심함', '조동혁', '참을성', '쩌는구', '롤랜드', '조디악', '도해', '트랄', '호준', '투덜대다', '최우수', '나전', '차이코프스키', 'bbc', '톱니바퀴', '코지', '이완용', '센티', '리트', '성비', '자태', '싸나이', '에지', '무산', '건줄', '마도', '오바마', '후뢰시맨', '리만', '/..', '연석', '연한', '1948년', '특촬', '한예린', '데블', '관속', '신우', '~~~!!!!', 'ng', '주사위', '슬펏', '히든', '허슬', '은대구', 'hot', '곡괭이', '교전', '큰코다치다', '달라붙다', '왘', '우월감', '빌리버', '굴러가다', '맥아', '78', '연대', '경찰관', '바꿔치다', '바짝', '칵', '발바닥', '닌지', '수호천사', '쫓겨나다', '리수', '거제도', '낸시', '...^^*', '낚시꾼', '나띵', '야시', '후지산', '애드', '82분', '싸늘하다', '그랴', '33년', 'ㅝ', '신상옥', '극대', '인디펜던스', '항변', '안변', '매듭', '준거', '양육', '나카마', '보증수표', '갯수', '펙트', '나카타', '정훈', '일터', '의논', '뱁새', '속삭이다', '조혜련', '서윤', '대조영', '세스', '네덜란드', '유구무언', '무오', '호로', '불리하다', '다드', '증세', '미지왕', '틱장애', '하네케', '아웃사이더', '....!!!', '중천', '자업자득', 'dead', '언론플레이', '액스맨', '레니할린', '빼기', '풍만하다', '셀러', '만기', '변수', '능글', '요시노', '번봣', '다마', '하멜', '도련님', '출하', '응어리', '카비', '농장', '영화인데', '이성계', '데자뷰', '한해', '궤변', '뉴질랜드', '개사', '적자', '의드', '포의', '친구여', '악의축', '틸리', '주군의태양', '청와대', '낙서', '백도빈', '마직막', '향기롭다', '김성근', '여경', '마일리지', '전무', '바늘', '백야행', '해마다', '배터리', '희망고문', '이력', '선인', '지적장애', '연씨', '항적', '햇으', '곤란', '번천', '껍', '부귀', '대피', '이류', '시속', '변치않다', '부임', '외톨이', '조교', '치민', '소꿉장난', '속담', '신주아', '갑임', '헌터헌터', '콤플렉스', '유대', '윤회', '각하', '프로보', '6-7', '정형', '강사', '협동', '안락사', '약육강식', '신곡', '태아', '흙속', '늬들', '단편소설', '아랍인', '무전기', '로마시대', '부제목', '20초', '담장', 'OMG', '지란', '대에는', '주역', '유영', '자해', '빌붙다', '사방', '반딧불', '윤소이', '벅', '빈민가', '분할', '희수', '준기', '김조광수', '은성', '콤보', '달라이라마', '새드', 'ㅠㅠㅠㅠㅠㅠㅠㅠㅠㅠㅠ', '쌍칼', '성경책', '크래쉬', '황소', '방송사고', 'TT', '작을', '조수정', '주름살', '가일', '교환', '딕', '충무공', '착란', 'Go', '크라운', '섹스씬', '유쾌하', '때때로', '글로리', '김밥', '스키장', '~!!^^', '겨루다', '조수', '내막', '와르르', '산삼', '서울대', '옥소리', '노가다', '얼티메이텀', '왜리', '거땜', '바토리', '싱싱', '해령', '자베르', '연가', '육질', '거금', '저울', '양민', '항해', '주의보', '死', '호튼', '친목질', '.,.,.,.', '나르시즘', '영웅재중', '션트', '떼거지', '사육', '놧', '환생하다', '지목', '식견', '분쟁', '쟁', '명칭', '칭호', '라거', '지우개', '라야', '에서처럼', '육중', '양파', '어쨌거', '스내치', '부자간', '수해', '300만', '산산조각', '순진', '세훈', 'way', '거때매', '취직', '여담', '필터', '경극', '외적인', '습보', '강추임', '기아', '스몰빌', '쿨러닝', '수탈', '신호', '마빡', '명령', '쯔쯔쯔', '기시감', '리야', '심청전', '실명', '57', '불순', '탈때', '하휘동', '금액', '스트레칭', '.....?', '................................', '메간폭스', '뜯기다', '육성재', '소풍', '유경', '?;;;;', '반사', '정진영', '한마음', '신야', '비틀어지다', '슈왈제네거', '국방', '야구장', '면암', '윤호', '쌩까다', '오유인', '배수빈', '프라이', '오디', '손가락질', '하강', '굳히다', '마다의', '페임', '혜교', '설키', '거르', '에궁', '꺠', '소년원', '키기', '의향', '섹파', '압력', '규환', '큭', '16회', '어리광', '저릿저릿하다', '강점', '미유키', '도살', '라피', '사고뭉치', '패자부활전', '94', '전북', '부적절하다', '731', '배렸다', '0.1%', '소총', '오션스일레븐', '원샷', '이규형', '막둥이', '단상', '연줄', '업계', 'real', '보호자', '깨끗해지다', '표상', '살피다', '마파도', '추정', '작이라고', '주절주절', '반신반의', '귀인', '마눌', '!,', '주스', 'series', '뒤론', '임자', '딸감', '주정뱅이', '도리어', '이상주', '렵', '두기봉', '4.00', '두텁다', '일분', '호동', '건국', '새옹지마', '시드니', '티저', '정치드라마', '집대성', '퍼킹', '강력반', '차별성', '라면서', '됫다', '예이츠', '고무', '쿠라', '매개', '우성', '삼일', '정가', '이무기', '까지를', '냔', '콜라보레이션', '욘', '시아버지', '세탁', '드라마영화', '진짜재밋', '2.0', '보이즈', '대출', '목회자', '알프레드', '빅터', '외숙모', '덫', '살로', '윤설희', '소년병', '탈바꿈', '가상현실', '붕어빵', '야릇하다', '★★★★★', '강해진', '처사', '목격자', '왕초', '민하', '사기죄', '에이트', '플래닛', '십덕', '개욕', '개꿈', '명단', '긴머리', '아역시절', '-.-;;', '무심', '팬픽', 'ㅈㅈ', '군자', '패왕별희', '35년', '정갈하다', '더글러스', '맞선', '김성오', '달아오르다', '등산', '포청천', '만물', '징계', '구질', '류담', '의정', '적반하장', '칭하', '난대', '화상', '파도처럼', '노선', '는커녕', '친절', '어지러움', '신공', '더도', '220억', '붙들다', '가위손', '프라다', '배설물', '성적소수자', '이성애자', '동등', '신입', '은혁', '마르지', '빨래', '어두움', '띵하다', '동안의', '섯다', '대에나', '추장', '제각각', '97분', '전위', '작아지다', '궤', '알량하다', '듀얼', '형부', '레트', 'zzzz', '데니', '1997', '유건', '째즈', '마운틴', '홀리랜드', '젓다', '흉악', 'To', '!!!!!!!!!!!!!!!!!!!!!!!', '품세', '내재', '억측', '똥례', '기증', '훈장', '산화', '고막', '색휘', '용임', '우둔하다', '조은영', '내보이다', '성형수술', '이었음', '동태', '벡', '일찐', '몽고', '끼리끼리', '부랑', '온도', '석궁', '이태란', '웹', '제리케이', '대학로', '반박', '해원', '왓던', '선우일란', '1984년', '미그', '알제리', '소홀하다', '팩토리', 'ㄷㅏ', '여파', '음란물', '태산', '주구', '벤더스', '1986년', '콜롬비아나', '성미', '카툰', '야유', '스르', '장래희망', '버닝', '왓다', '밌', '.,...', '박현', '입도', '흉하다', 'people', '프로야구', '뒤태', '육탄', '자책', '시에라', '통합', '깜빡이다', '현태', '인애', '관리자', '생태계', '원년', '딴말', '오역', '진아', '꼬아놓', '차사', '징역', '오연수', '반세기', '밀회', '찌개', '디스토피아', '진가신', '일맥상통', 'ㅎㅎㅋㅋ', '팽', '전에는', '삭발', '에게까지', '과속', '아웅산수치', '천박', ';;?', '스타게이트', '팔천원', '청산가리', '다사', '노하우', '닦이다', '타네', '편곡', '브레이브하트', '하루빨리', '꽃보다할배', '차이나타운', '가타카', '쪽발이', '구색', '겅', '검프', '소용없다', '고등', \"','\", '미용실', '강약', '수리검', '팩', '눈의여왕', '스위스', '미사여구', '레디에이터', '우후죽순', ')-', '모히칸', '강남스타일', '박영선', '유해', '정예', '김봉두', '해양경찰', '2011', '입구', '유실', '웃프', '추앙', '가면라이더', '창공', '밑바탕', '후시', '남용', '전세', '힣', '!!.', '대마', '체력', '조반', 'away', '으루', '후잡', '적재적소', '고유키', '함익병', '젝일', '서해', '항문', '성생활', '경로', '김혜리', '단둘', '타라', '율동', '3.4', '심정은', '도넛', '캡쳐', '체포', '해갈', '고아', '참석', '신이치', '번인', '여유롭다', '찜질방', '음반', '소행', '요일', '세남자', '벌린', '1.4', 'Captain', '다방', '편입', '저승사자', '귀로', '돌기', '필적', '갈림길', '자장면', '?!!!', '강압', '대사관', '그저께', '복종', '지라치', '킹오브', '교리', '이기용', '꽃보다남자', '☞', '물임', '오아시스', ';;;;;;;;;', '싱글', '일임', '이응', '오딘', '경멸', '탑블레이드', '또르르', '1만원', '12일', '촌극', '벽돌', '수구', '프랭코', '헤니', '어빠', '살찐', '조그마하다', '8.4', '알리야', '불현듯', '산업화', '따라쟁', '피로하다', '우루루', '덕목', '박초롱', '캠퍼스', '게모', '윙거', '48시간', '태반', '순화', '리액션', '전엔', '호제', '지엠', '전선', '<-', '뚫어지다', '개속', '데브', '공영', '주안', '반납', '홍경민', '까불지마', '얼라이브', '택배', '접해', '이용만', '성대모사', '들이밀다', '대쉬', '워렌', '역린', '태범', '0.2', '제제', '스나이더', '영미', '어렷을적', '낙천', '하프', '!)', '베이컨시', '어중', '씨알', '생인데', '모네', '똥구멍', '병력', '가벼워지다', '기단', '기록물', '하노', 'eyes', '곰곰하다', '종착역', '찍찍', '꼬시', '침해', '고래고래', '하하호호', '에슐리', '셰퍼드', '우상화', '읔', '매달다', '이채영', '짝패', '이바', 'ㄷㄷㄷㄷㄷ', '카악', '천주교', '명랑', '마츠다', '찌찌', '먹잇감', 'nice', '문화유산', '공산', '장어', '구실', '여름날', '차이나', '뚜', '심오', '메리트', '이승희', '딥', '팔면', '넋두리', '마루타', '쥐똥', '인턴', '이영훈', '무뇌아', '만추', '구조대', '신설', '야왕', '신기다', '원점', '70~80년', '8일', '훌룡', '어리석음', '려니', '플스', '송종국', '건축물', '깐느', '어뜩하다', '가뜩이나', '은비', '그릴', '파렴치하다', '블랙잭', '세현', '에이브', '추기', '단죄', '아서', '라따뚜이', '5000원', '시크', '400', '45년', '다크니스', '등반', '뿌리치다', '점준애', '조총', '호야', '리메이크판', '황야', '챙피', '대거', '나주', '구질구질', '꿀꿀', '논리성', '번쨰', '이태석', '제니', ')..', '삐뚤다', '^)', 'ㅠㅜㅜ', '공중부양', '순례', '김풍', '완전체', '출세', '미래세', '닥쳐오다', '롱런', '효진', '조페시', '골탕', '집약', 'sad', '43분', '형언', '로저', '관망', '승현', '테크노', '순진무구', '망고', '속죄', '비빔밥', '패럴', '바라냐', '엘리엇', '오뉴월', '연필', '편모', 'ㅠㅜㅠㅜ', '예성', '녘', '후크', '음탕하다', '유미', '대에도', '관심사', '..<', '상팔자', '명동', '견줄', '강동', '황인식', '총장', '돈치', '부기', '왜케높', '마무', '감사히', '다망하다', '순종', '짤려', '클림트', '람다', '어여', '김공', '무뚝뚝하다', '8.6', '검도', '체널', '타운', '요지', '빈스', '군도', '온대', '항복', '내려앉다', '월리스', '야성', '튜니티', '국장', '픽픽', '킹덤', '신시티', '플레이어', '캡틴아메리카', 'nobody', '색계', '수목장', '후카', '그래프', '드라이', '냉혈', '문방구', '동유럽', '이동건', '기합', '함보', '이와이슌지', '홍련', '스마일리', '플레이보이', '꼬임', '흉측하다', '정크푸드', '성병', '셀린느', '마음먹다', '스렉', '유딩들', '매몰', '레스', '소방', '다이노', '뱅크', '벌목', '스포츠카', '전광판', '손태영', '꼬셔', '침투', '아미', '해괴망측', 'yg', '으웩', 'movies', '호칭', '소득', '일간', '굉장', '반일', '아리아', '미라클', '태경', '아집', 'JSA', '카프', '띄엄', '평정하다', '요절', '환경오염', '어흑', '간신', '양수빈', '메뚜기', '2~3년', '주적', 'If', '그린랜턴', '주현', '휴스턴', '축약', '유형', '제복', '아호', '과부', '마등', '리노', '갱스', '샤워씬', '.............................', '유천', '사카모토', '치고받다', '-_-^', '아이피', '미니어쳐', '>?', '상환', '텀', '쓰다듬다', '중화권', '염력', '파운드', '미쳣', '김부선', '여가', '쉽사리', '푸드', 'mother', '맥퀸', '아킬레스', '논문', '불로', '캅', '나본', '땐데', '입시', '장옥정', '윈도우', '반정', '장량', '혈투', 'JYP', '배심원', 'ㄷㄷㄷㄷㄷㄷ', '맛보기', '슬기', '케익', '역차별', '치바', '너저분하다', '이경', '끌기', '막시무스', '안젤라', '무아', '이인상', '뒷담화', '승무원', '마터스', '블랙스완', '씨앗', '쉘', '언행', '나왓음', '불평등', '패인', '어쩃', '쓰랙', '베컴', 'star', '성립', '글픽', '사계절', '괜춘함', '재밌넹', 've', '얼떨결', '대중화', '개시', '빛깔', '탈출기', '....!!!!', '에볼라', '막막', '시커멓다', '요업', '엣날', '슈퍼노바', '깃털', '비법', 'funny', '먹고다', '홀릭', '분노조절', '미국드라마', '지정', '이쁜이', '폭발력', '확산', '만큼이라도', '곽', '20일', '별표', '총성', '강타', '보빨', '엇슴', '이행', '간질', '소탕', '모니터링', '자본가', '깜둥이', '흡혈', '또봇', '매머드', '음음', '못봣', '참치', '일화', '퍼트', '예쁜남자', '??!', '홀린', '휠씬', '순회', '태주', '인색하다', '음악감독', '께선', '명관', 'watch', '애시', '이지스함', '비폭력', '레파', '머무르다', '윤후', '마야', '살딸', '잔득', '오지명', '어두침침하다', '헬리콥터', '불타', '명성황후', '다야', '11월', '후원', '중요시', '에단', '서버', '에어울프', '110분', '저서', '허큘리스', '갖가지', '브라우닝', '뒤로', '조도', '한프로', '방조', '。。', '케이팝', '~...', '아담스', '전봇대', '경첨', '주력', '범접', '3초', '아르세우스', '기생수', '유니버셜', '아구', '))', '백년의유산', '이상태', '카제', '기력', '스페인어', '정원', '본기', '미도리', '오백원', '장자', '유분수', '볼프강', '가용', '임시완', '이게뭡', '저글링', '체코', '커밍', '1981년', '성품', '그리기', '자행', '복희', '1976년', '이승연', '웍', '고다', '대학시절', '성열', '뱅뱅', '족구', '롤로', '곽재용', '헤픈', '무소유', '배송', '막장인생', '지구인', 'ㄱㅅ', 'ㅇㅅ', '웜홀', '11분', '박희본', '월트디즈니', '티끌', '피날레', '광선', '콧대', '파내다', '황후', '공해', '컨', '키득거리다', '분동', '이재희', '이글아이', '노노노', '윤진이', '이웃사람', '픽업', '수발', 'goood', '늬', '스팀', '7.0', '세분', '온전', '하우', '향해', '..^^;;', '항거', '개황', '노시', '모함', '전말', '꼴불견', '！！', 'Great', '한탄', '고고씽', '금욜', '증가', '과도기', '세태', '캠벨', '질퍽', '디에고', '보샘', '스트라이커', '아늑하다', '대론', '60%', '망조', '더로드', '별일', '추위', '가위바위보', '!~^^', '개관', '군복', '덩치', '임진강', '신저', '몽키', '큰딸', '딸바보', '!....', '스핀오프', '수경', '만수', '킬미힐미', '유종', '메르', '신기원', '광대하다', '박일', '그물', 'OBS', 'legend', '건전', '생리', '불효자', '젤위', '쿵짝', '효연', '개인정보', '빙글빙글', '맥베스', '카와이', '당체', '상보', '동방', '딘데', '머드', '줄때', '올란도', '트루라이즈', '심장이뛴다', '9.9', '이맘', 'ㅈㅐ', '1/2', '만류', '마오', '아놬', '양양', '안길', '인도네시아', '첩보원', '존재도', '트랜드', '캐치온', '언능', '소프트', '유가령', '독사', '르네', '모정', '독설', '어메', '오싱', '가부장', '장거리', '지안', '배후', '착착', '크아', '텔러', '대일', '느데', '임금님', '잘만드', '태웅', 'drama', '인어', '것땜', '이기선', '↗', '쌉싸름하다', '산자', '회고', '소룡', '코딱지', '카이저', '저쪽', '돼지고기', '볼랬는데', '풀하우스', 'We', 'pig', '알못', '병적', '쌈빡하다', '유학생', '어투', '반려동물', '뫼비우스', 'spider', '생화학', '핵잼', '수레', '유가족', '심연', '5시', '메탈', '잭스', '채권', '호킹', '금세기', '사설', '주머니', '마이티', '이종격투기', '기역', '헬보이', '전혜진', '5천', '돌리지', '명박', '산타바바라', '데이브', '쓰르라미', '가이거', '잡아가다', '냅다', ',,..', '이이해', '괸', '박순희', '홈페이지', '일가견', '호범', '쇼팽', '수레기', '파파', '백마', '성자', '르와르', '나다니다', '차례대로', '빠담빠담', '독살', '승하', '파스타', '보루', '적진', '살상', '디엠', '염원', '조웅', '진짜꿀', '실신', '이노', ',.,,', '꼭대기', '애프터', '구점', '다봣다', '49', 'Park', '촌빨', '폐쇄된', '품위', '국기', '문신', '력도', '알바로', '쉬는시간', '트릴', '오싹', '다물어지다', '쾌', '찬미', '엘라', '프린스', '센빠이', '쌩뚱맞고', '적기', '패가', '후작', '스풀', '안통', '청소부', '나태하다', '은실', '참전용사', '한밤중', '베타', '리타', '베개', '푸욱', '혹독하다', '너비', '플래시', '방위', '2004', '초집', '이방원', '뒤엎', '보라색', '진성', '바로바로', '리썰웨폰', '렉스', '선글라스', '강도영', '블랙호크다운', '어쨌다', '재등장', '영계', '박탈', '악귀', 'Don', 'ㅠㅜㅠ', '다방면', 'ㅈㅁ', '자건', '오냐', '남미', '올가미', '조련사', '진저리', '떡실신', '발린', '텐션', '랜덤', '리아', '류현진', '스크립트', '허덕이다', '>>>>', '불결하다', '제휴', '아앜', '휠체어', '타무라', '필살기', '토이', 'ㅜㅜㅜㅜㅜㅜㅜㅜㅜ', '8분', '털털', '청산', '송해', '펜대', '박지빈', '교시', '켄신', '사려', '진목승', '베충', '파생', '그렁', '광개토태왕', '이태백', '삐지다', '열애', '침팬지', '어여쁘다', '~..', '노약', '카자흐스탄', '대용', 'ㅤ', '인베이젼', '고아성', '밀실', '팥', '06년', '10원', '도화선', '상인', '울화', '만델라', '정성호', '랩퍼', '복녀', '허구성', '얇다', '엔돌핀', '벙', '꽁트', '한인', '콩트', '분단국가', '드롱', '정민', 'TVA', '덮이다', '맹구', '난관', '돌려막기', '킬림', '해결사', '민영', '.;;;', '골격', '풍경화', '석유', '김준현', '급임', '화염병', '백지', '!!!~', '애처', '격조', '엇다', '제의', '색정', '지그', '나무아미타불', '왕중', '삼은', '먹튀', '공화당', '신명', '갈매기', '메스꺼움', '배낌', '응응', '심화', '호스', '검정', '아이비', '두건', '이윤', '떠벌리다', '개인주의', '텝', '!!!.', '직결', '백현', '불량품', '불가사리', '나주고', '왕세자', '브루', '퍼붓다', '따리', '....-_-', 'AI', '갸우뚱', '윤숙', '파트라', '잘되지', '신상', '허프', '후훗', '사우나', '사안', '전쯤에', '느꼇', '참여자', '꼴깝', '오창민', '장래', '블레이드러너', '민속', '상현', '지구과학', '탄사', '카메라감독', '적성', '데우다', '동사', '이견', '애잔', '직진', '일밤', '증상', '영화정보', '의수', '협객', '황찬성', '보답', '김영광', '보련', '후지와라', '채령', '꽁꽁', '일요', '린코', '백동수', '흘', '금새', '없엇어', '부정부패', '스타트', '감행', '울엇습니', '불도', '지애', '밝아지다', '비욘드', '미어캣', '나왓', '기물', '섹드립', '학급', '단물', '넓어지다', '클라크', '부친', '밸붕', '파멸하다', '사령관', '소로', '영국군', '이토', '센트', '드마', '이선', '잉글랜드', '모집', '105분', '촉', '논점', '장훈', '개털', '여보', '파라노말액티비티', '도난', '먄', 'bj', '트랜스', 'art', '앞잡이', '유랑', '만가', '황인', '극소', '배지', '$', '전이나', 'yb', '반절', '이엘', '돈맛', '영홥', '밤일', '미췬', '가속', '반헬싱', '포르노그라피', '복받치다', '트레', 'Blockbuster', \",'\", '창수', '50원', '정애리', '친부모', '임효성', '에버', '에린', '녓', '콜린파렐', 'ㅠㅅㅠ', '일위', '세부', '길용우', '레일', '바바리안', '엄브릿지', '!!...', '봉황', '변태성욕', '크래커', '.,.,.', '메디', '디네', '거너', '대보면', 'Wow', '최홍만', '슬럼프', '구암허준', '~~.', '죗값', '알렉산드라', '꿰어', '같이만', '오이', '세레나데', '강은비', '!!!!!!!!!!!!!!!!!!!!!!!!!', '패거리', '서안', '눈뎅', 'dp', '소간', '똘똘이', '베리드', '예지', '근간', 'ㅠㅋ', 'ㅜㅜㅜㅜㅜㅜㅜ', '임정은', '^^~*', 'Bye', '보름달', '소말리아', '잌', '담하다', '송전탑', '그깟', '바르셀로나', '외상', '7.99', '나타남', '-*', '예인', '부르스', '간절', '투톱', '푸념', '지성인', '불가사의', '여진', '부린다', ';;...', '공세', '정품', 'sun', '아웅산', '북조선', '세워지다', '가압', '리칸', '음료', '흐트러', '어엉', '종훈', '티모', '바나나', '문관', '~@.@', '!!@', '쒸레', '판가름', '소련군', '괘', '샤우팅', 'IMDb', '헤헷', '처럼만', '짤리', '헤리포터', 'does', \"'...\", '왜왜왜', 'Up', '셀룰러', '비구니', '조용조', '기발', '에그', '황순원', '서언', '어른스럽다', '꿍꼬또', '메뉴', '두산베어스', '북쪽', '에스프레소', '짜개', '요섭', '꼬투리', '돈키호테', '직도', '챈들러', '아차', '키리시', '멘탈리스트', '외제차', '특수하다', '나노', '세면', '게바라', '기어이', '졸도', '핑구', '참혹', '아련', '무궁무진', '광역', '시안', '회관', '아크로바틱', 'ㅠㅠㅠㅠㅠㅠㅠㅠㅠ', '필승', '성차별', '라카', '테닥', '봉달', '-...', '3.2', '플라이', '쌀밥', '결투씬', '꼴사납다', '뒤엎는', '복기', '범행', '이말년', '사교', '말임', '체벌', '왕도', '반미영', '궁디', '오진우', 'ㅠㅠㅠㅠㅠㅠㅠㅠㅠㅠㅠㅠㅠ', '아프가니스탄', '섬나라', '개피', '빅뱅이론', 'ass', '겸손', '텔링', '근엄하다', '영은', 'worst', '수역', '게이샤', '명실', '구합', '완다', '꿀잼꿀잼꿀잼꿀잼꿀잼꿀잼', '까마귀', '숙성', '인디음악', '꼬옥', 'ㅆㅅㅌㅊ', '김장', '서랍', '어떡', '캬캬캬', '담표', '담시', '해투', '텅텅빈', '건성건성', '롭코헨', '빨간색', '방아쇠', '!!!(', '이장면', '푸른빛', '배분', '어쩌려', '떠밀다', '민재', '해죽', '방면', '영홬', '병태', '손담비', '김완선', '저우쉰', '고이즈미', '뭘더바', '스타크', '도화지', '비밀스럽다', '빨아들이다', '코엘료', '쿠리다', '~;;', '1959년', '일장기', '민종', '확정', '!!!!!!!!!!!!!!!!!!!!', '봤드', '안티크라이스트', '거사', '연못', '수아', '검심', '양현석', '싸매다', '이태원', '체육관', '데비', '옜다', '시리우스', '우희진', '별의별', 'Let', '블랙유머', '왼발', '별수', '........................................', '일후', '다혈질', '자칼', '오사', '1~6', '막회', '물랑루즈', '갈림', '24시', '갤럭투스', '토리코', '화팅', '오십', '메이져', '꽁치', '김성', '황은정', '1010101010', '이돈', '방주', '단아', '설산', '원씨', '커브', '고여', '불량하다', '거볼때', '김종국', '아카펠라', '또봄', '코리', '알피', '감돈', '홬', '뺴곤', '생떼', '얼개', '디디', '어쨌', '르그', '얄', '수란', '맘에듭니', '터들', '샛별', '안드로이드', '와호장룡', '독실하다', '초식', '수원', '용철', '육덕', '..^&^', '혜원', 'BA', '스테로이드', '뿜음', '무현', '잣음', '글타', '검둥이', '제갈량', '원가', '숀빈', '아옼', '키노', '압축시키다', '당혹', '뭐징', '독신', '16분', '솔비', '개쩌는데', '하사', '옇', '4등', '고학년', '연적', '렛미인', '비드', '한동', '있을런', '헬레나', '완성형', '빈부', '최공', '레몬', '내나라', '염세', '꼽을', '포식자', '추진', '중박', '그야', '벌금', '담력', '법석', '김수철', '올킬', '까미유', '하일', 'ㅋㅋㅋㅋㅋㅋㅋㅋㅋㅋㅋㅋㅋㅋㅋㅋㅋㅋㅋㅋㅋㅋㅋㅋㅋㅋㅋㅋ', '예여', '액기스', '얼버무리다', '조델', '는야', '한진', '집필', '무적인', '메카물', '이승만', '하주희', '음조', '뮤직뱅크', '비디오게임', '독재정', '코로', '에스비에스', '결부', '눈데', 'down', '쌩쑈', '실리콘', '담보', '게이지', '리멤버', '알콜중독자', '세속', '비포미드나잇', 'ㅏㄷ', '추세', '몸속', '치프', '자고로', '째지다', '맹룡과강', '뭐건', 'ㅜㅠㅠㅠ', '배아', '인맥', '무용담', '퀀', '카니', '꼽자', '몇대', '외국어', '익산', '다빈치', '스타트랙', 'NOT', '라이스', '룰루', '군입대', '쟁탈전', '짐보', '되돌아오다', '장미꽃', 'alive', '청정', '이하일', '뉴에이지', '틀어막다', '엠씨몽', '홀로코스트', '간섭', '정형돈', '.................................', '솔라리스', '활활', '우씨', 'GO', '오뎅', '생년', '슬펏음', '이비에스', '황신', '개웃', '라시오', '22분', '장보고', '김응수', '광우병', '단다', '데보라', 'kt', '순리', '여름향기', '해탈', '에이지', '대로는', '문화재', '채경', '버질', '드라', '김산호', '변두리', '5-6', '마찰', '패러독스', '설설', '울궈', '퀄리', '!@', '협', '담당자', '티보', '서면', '낚아', '국전', '이민영', '일면', '..;;;;;', '연애소설', '지동원', '인현왕후', '플래터', '당구공', '좌표', '라보', '부옇다', '경호원', '이펙트', '김국진', '인도판', '뭘더', 'dmb', '험악하다', '유야', '악연', '박혁권', '붙잡히다', '박지수', '펄프픽션', '끝맛', '캥거루', '현직', '낚여', '서동', '@@@', 'think', '용이하다', '난재밋', '모리스', '배추', '혜주', '외할머니', '하이힐', '짘', '샐러리맨', '99.9%', '록산느', '바퀴', '잎', '치루', '첩첩산중', '통탄', '데드캠프', '안병기', '주술', '수연', '행선', '헬조센', '졸예', '놀랏다', '장말', 'JJ', '황정', '박지르다', '에전', '베스', '쌈질', '어전', '맹신', '슈돌', '솜사탕', '인간지네', '킬링필드', '조민아', '피안', '운동권', '마하', '워킹타이틀', '유니폼', '입지', '유리하다', '김태균', '소질', '파충류', '무극', '화물', '탈북', '이은우', '일률', '700', '찬송', '불행중', '낙인', '경호', '돠', '500일', '전으로', '자이언츠', '겨울방학', '슬로모션', '박규리', '해피엔드', '윤희', '입금', '대문', '비방', '우진', '헝가리', '대마초', '매달', '김보라', '다코다', '수집', '등용문', '이종현', '비속어', '심청', '파파야', '저년', '임꺽정', '산소', '판도라', 'ch', '으로부터의', '.,,,', 'about', '차석구', '송어', '선구', '고만고만하다', '할러', '도인', '율도', 'damn', '꽈배기', '^^...', '안방', '!!!...', '박봄', '박영린', '연기상', '포주', '개쩔', '코브', '재밋엉', '쭉빵', '키치', '노땅', '49회', '빽빽', '변치', '으윽', '해피해피', '동맹', '상암', '연애영화', '……', '남진', '유니세프', '글거', '네임드', '공책', '불로장생', '휙', '유서', '주교', '1978년', '편린', '블루아', '한소영', '굳어지다', '한은정', '알츠하이머', '텐트', '풍비박산', '든든하다', '신윤복', '영등포', '하란', '명정', '00년', '홈런', '아프간', '성불', '밀덕', '이도경', '헤프', '섬짓', '아랫사람', '마조히즘', '이유나', '신성모독', '비도덕적', '오합지졸', '이인', '위층', '?*', '선동렬', '인치', '48분', '롬', '와타나베', '듀오', '낙엽', '울적', '들여놓다', '작이', '허트로커', '씨댕', '치료받다', '수여', '브로커', '편점', '소치', 'look', '로튼', 'DJ', '키무', '8.3', '하이퍼', '왕조', '불혹', '평양', '장렬', '1.3', '불만제로', '동강', '만듭', '꼬락서니', '주홍글씨', '드웨', '스코틀랜드', '본대', 'whole', 'new', '빵셔틀', '윌리암', '씨익', '발라드', '황태자', '나일', '랄랄', '개줌', '웨이즈', '디안시', '신인시절', '부러워하다', '파란색', '묘기', '질끈', '130분', '쥴리아', '씩이나', '빈부격차', '여관', '방탄', '군부독재', '누더기', '선두', '천만배', '선혈', '곳도', '항일', '얄라', '소나티네', '팅팅', '레인저', '은행나무', '활보', '론서바이버', '.>', '사이즈', '빈곤', '쌍코피', '상봉', '설킨', '봤느데', '수송', '맛탱', '1~5', '!!!~~', '태극', '보배', '박해', '쮸쮸', '디스크', 'ㅘ', '로기', '말레이시아', '망령', '스트리트파이터', '수령', '아디', '섣불리', '기독교도', '브란', '지혜롭', '네마', '영화목록', 'pm', '강가', '온기', '난치', '지남', '애사', '촬영기', '봄여름가을겨울', '달빛', '견고하다', '죄송스럽다', '본심', '주짓수', '더지니어스', '동민', 'ㅎㅅㅎ', '트윈스', '나영', '누벨바그', '.??', '좇', 'here', '개뿜', '후대', 'killing', '더재밋', '최루탄', 'PS', '허우적거리다', '--->', '시마', '외심', '저편', '기하', '민혁', '구하라', '엇냐', '원안', '꽈', '시원스럽다', '구제역', '털끝', '오스트레일리아', '안산', '어렷', '`~', '오옷', '1800원', '객기', '4000', 'goes', '럿', '매끈하다', '김영옥', '어지르다', '밀수', '프레스티지', '평가자', '재밋었습니', '마에다', '혼잡하다', '옹기종기', '국군포로', '구단', '김희철', '십오야', '메롱', '소방대', '바알', '독일어', 'BBC', '본사', '종목', '하층', '강릉', '세가족', '파이프', '낚지마', '태지', '친정엄마', '책정', '본새', '제로센', '장로', '다오', '가리키다', '부안', '니콜라', '부러진화살', '만족도', '정설', '저열', '여의도', '명제', '켁', '나누어지다', '건배', '빈집', '윤승아', '평해', 'ddr', '전반전', '굿샷', '숙취', '정경', '차차', '죽대', '소규모', '너바나', '모나리자', '..[', '보편성', '헐떡거리다', '희재', '방기', '더원', '활개', '피파', '와웅', '유성', '칩스', '소녀시절', '탤런트', '얘쁘', '250', '투명', '신입사원', '메이즈', '승객', '핡핡', '만지작', '틴틴', '코카콜라', '살금', '부글', '글세', '쿄애니', '커트코베인', '레골라스', '뀌', '귤', '약국', '약사', '뿌옇다', '욱일기', '메리포핀스', '굴려', '마노', '규현', '한경', '목도', '아카네', \"....'\", '순덕', '보디', '나드', '더줌', '응시', '대딩', '액자', '조선소', 'BOBBY', '국한', '스팍', '05년', '포핀스', '흘러내리다', '고지', '연방', '앤드류스', '썻다', '3%', '경주마', '다음생', '도청', '온화하다', '저스티스리그', '종은', '5시간', '기침', '미그기', '원레', '착잡하다', '가족사진', 'OVA', '..........................', '바보엄마', '프란시스', '스즈미', '풍도', '돌파구', '괴뢰', '위너', '하루히', '즐비하다', '수중', '라리사', '바토', '취침', '사카이', '마사토', '회로', '동무', '스랑', '똘이장군', '구일', '.-_-;;', '버무러진', '항쟁', ')...', '대주', '아릿하다', '70-80년', '소담', '규리', '황인영', '더랬', '파묻히다', '윤다훈', '동하', '깨닭', '알프', 'Real', '연애담', '퐝당', '강리나', '오스트리아', 'ㅋㅎㅋㅎ', '카바', '비밀번호', '광신', '전해', '외교부', '세인트', '9.8', '창희', '.--', 'ㅡㅡㅗ', '오른손', '해악', 'TO', '만국', 'WHO', '쌩뚱맞음', '떳길', '8.2', '가나다라', '엘리펀트', '노가리', '탈취', '망라', '1700만', '메가티비', '화술', '방자', '지중해', '스릉흔드', '뭣모르', '비종', '...*_*', '디어', '킄', '방독면', '카프리', '용품', '피바디', '나영이', '손짓', '복면', '씨름', '3위안', '워치', '우시', 'ㅏㅏ', '소개팅', '서랜든', '곽원갑', '가꾸다', '페러다임', '멘타', '스트리퍼', '회화', '작이라고는', '유족', '고관', '성서', '막상막하', '만우절', '거주', '미에트', '농도', '일동', '면알', '국사', '송가연', '재밌드', '토악질', '임지연', '메리크리스마스', '재밋었', '사주', '박제', '비즈니스', '몹쓸', '동지', '이삼', '왕리홍', '간문제', '두리반', '전전긍긍', '뺑뺑', '인디밴드', '주임', '수도승', '보솤', '덩실', 'BOB', '기안', '키퍼', '똑똑', '맞장구', '후에도', '카일', '마로', '반타작', '재밌닼', '습니다', '변영주', '선화', '당나귀', '지수원', '뮤턴트', '이엉', '휘발', '무용지물', '-!!', '해하', '감량', '몬드', '진일', '발렌타인', '소심', '지렁이', '본뜨다', '오홋', '개편', '자인', '부심', '헤드셋', '차가워지다', 'most', '이오니', '秀作', '....................................................', '지주', '有', '연개', '천은경', '김민', 'ㅋㅋㅋㅋㅋㅋㅋㅋㅋㅋㅋㅋㅋㅋㅋㅋㅋㅋㅋㅋㅋㅋㅋㅋㅋㅋㅋㅋㅋㅋㅋㅋㅋ', '쏙쏙', '타이완', '짜리를', '선구자', '하편', '반역', '즉흥', '핰', '울렁증', '다정', '윤곽', '밧슈', '갖힌', '독단', '의방', '마따나', '실검', '배반', '마르고', '알레고리', '~!~!', '농약', '부당거래', '♥♥♥♥♥♥♥', '리에티', '김혜성', 'play', '가축', '첫등장', '형도', '다도', '의처증', \"'-'\", '관절', '워프', '가바', '레시', '개낚였', '레비아탄', '보드카', '게이바', '파도치다', '박노식', '두만강', '견자', '배구', '서류', '어처구니없이', '만년필', '장항준', '임명', '따따', 'y', '은폐', '걸음걸이', '명보', '성격장애', '후련', '김제동', '피똥', '자만하다', '연옥', '고차원', '순환선', '한우', '됫는데', '영구아트', '일빠', '캐논', 'DDR', '부전', '재인', 'la', '동아시아', '저택', '불어오다', '케나', '간격', 'got', '인트로', '천우희', '지해', '음료수', '출판사', '다자', '무채색', '혼미하다', '주저앉다', '루시퍼', '한적하다', '천사몽', '군무', '바킨', '응징자', '벌점', '브루노', '스티플러', '천수', '이백만', '81분', '델토', '만송', '시럽', '때봣', '미러', '토드', '어선', '모험물', '고나은', '노코멘트', '으어', '!!!!!!!!!!!!!!!!!!!!!', 'home', '9.6', '자발', '이민', '우어어', '띤', '에로씬', '부연', '태식', '얼샤', '강탈', '위신', '미수', '젓가락', '김춘추', '심난하다', 'IN', '제프리', '..?!', '정태우', '신호탄', '걸륜', '늑대아이', '골프', '백투더퓨쳐', '스캇', '테루', '베스타스', '텔론', '명나라', 'amazing', '겉잡', '애마', '미술품', '현충일', '일급', '프사이', '화씨', '허섭', '기형', '잏', '앙증맞다', '대나', '물가', '크라이스트', '옛적', '춘추전국시대', '열두', '펠릭스', '시리얼', '방랑', '얼치기', '엘런', '이보희', '채영', 'ㅏㅎ', '폐막', '티셔츠', '새우다', '샤시', '카르멘', '폐차', 'ㅋㅋㅋㅋㅋㅋㅋㅋㅋㅋㅋㅋㅋㅋㅋㅋㅋㅋㅋㅋㅋㅋㅋㅋ', '종량제', '운전대', '짦', '캄캄하다', '나랏돈', '여심', '악습', '수줍다', '좋았슴', '사관', '벌주다', '염려', '메이슨', '야스', '=_=;', '멌', '라흐마니노프', '하소연', '유플러스', '치켜뜨다', '악장', '득도', '장준환', '미르', '끈적끈적하다', '샴발라', '한영', '2003', '쓴웃음', '주사', '7.6', '직선', '명상', '랜디', '밥줄', '.,.,.,', 'over', '지표', '훸', '02년', '해괴', '험프리', '10위안', '페이스오프', '출진', '살짝살짝', '젛', '다시키', '한발', '꺽꺽', '군함', '눈꼽만치', '문과', '짬밥', '삼합회', '엠블런스', '간닷', '조선총잡이', '..............................', '인륜', '욕햇', '팻', '섬찟하다', '팜플렛', '다스리다', '패배하다', '왃', '렸다', '6.9', '태극기휘날리며', '도태', '지환', '매하', '비굴하다', '끝낫', '싱글즈', '올랜도', '켄지', '파수', '외세', '남아공', '아마데우스', '카리', 'MOVIE', '분풀이', '코러스', '이스터섬', '이수아', '햅번', '째보', '듸', '부스러기', '카츠', '버퍼링', '뉴튼', '길래', '수표', '진품', '채탁연', 'ㅡㅋ', '애석하다', '김진명', 'two', '음하하', '(???)', '그녈', '괴한', '최약', '유려', '설렁설렁', 'LG', '충의', '101010', '웤', '구경만', '상냥하다', '우쭈쭈', '항공', '안드레아', '펫', '렴', '스산', '앳킨스', '여의', '3000', '노역', '신해혁명', 'get', '송창의', '준형', '판국', '오작교', '햇님', '엄빠', '강예빈', '기니', '즌이', '제이미벨', '이니셜', '생크림', '프롬', '김지우', '특효약', '썽', '체다', '권오중', '고우영', '아가페', '쫄깃해', '개임', '앍다', '관좀', '초장', '강진', '괜챦', '희곡', '데빌', '뭇', '주노', '왜꼭', '정세운', '1963년', '핼드', '레이어', '글러', '무제한', '..--;', '남산', '스티브유', '신전', '손수', 'her', '썬더일레븐', ';...', '소대장', '철면피', '랄것', '미믹', '일본해', '\".', '호주영화', '엘도라도', '전공', '부감', '알버트', '켄드릭', '오랬', '후후훗', '..^^;', '가미카제', '좌편향', '태국인', '섬세', '기요', '숏컷', '시스터', '문메이슨', '액트', '초석', '향취', '함대', '초자연적', '무휼', '화형식', '보좌', '포탄', '헌팅', '낭만자객', '대영화', '학기', '반반하다', '차세대', '~~~~~~~~~~~~', '요나', '제출', '3.1', '로류', '스완슨', '정하은', '염색', '소변', '카산드라', '전라디언', '압권임', '길고양이', 'totally', '에이전트', '무제', '울컥울컥', '후반기', '양치기', '족쇄', '칭샤', '발자취', '원형', '악도', 'Say', '쥬다이', '이집', '두드러지다', '녹정기', '몽타주', '노수람', '베이커리', '푸시', '정소영', 'ㅇㅓ', '지린다', '김재규', '속삭임', '재중', '또뭐', '겉돈', '채피', '..;;;;', '카셀', '스파이더', '유채영', '반동', '만들엇을까', '김성균', '윤정수', '사기영화', '장광', '섴', '!!!!~', '개봉시', 'years', '...--', '고층', '만수무강', '고속도로', '전교조', '편집증', '미실', '103분', '밥통', '구면', '아화', '쩡쩡하다', '찌릿', '라파스', '몽크', '김태용', '무럭무럭', '교주', '유키에', '무한대', '바구니', '○○○', '점심', '릴레이', '유언', '인디', '박치기', '고살', '황금박쥐', '사바나', '가디언', '오염시키다', '희망버스', '김탁구', '레토', '쿠로', '자학', '집의', '화룡', '울랄라', '일련', '8.66', '정완', '베뎃', '후드', '스반', '집사람', '박광수', '창가', '유실물', '오진', '회전목마', '비기다', '1939년', '정주', '123456789', '어림없다', '종국', '아햏햏', '카르텔', '트립', '타계', '보물섬', '잘생겻어', '돌격', '마르셀', '지보', '능데', '무에타이', '토양', '홍진경', '강하늘', '일본제국', '나토', '석도', '쥬세페', '기정', '비정', '￣∇￣', '묵고', 'づ', '서장', '＼', '˚', '7000원', '생판', '당일', '구래', '방불', '양쿠미', '오뚜기', '통령', '켜지다', '노벨', '민수', '미인도', '쇼헤이', '스톱모션', '성녀', '공중전화', '>,', '제습기', '차라', '장희진', '일루', '마중', '추종자', '바그다드', '360', '신병', '튼실하다', '욕질', '천성', '악플러', '루이', '장인어른', '재밋으', '페르시아', '걸로', '존레넌', '506', '오비완', 'fu', '김태연', '띵', '제독', '관지림', '윤지', '크라운제이', 'ㅇㄷ', '신유', '훌룡하', '성도착', '아르헨', '발등', 'spin', '찌끄레기', '밨다', '종대', '에드가', '뒷전', '애꾸', '업로드', '애뜻함', '에스퍼맨', '군영', 'ㅅㅌㅊ', '아미르', '김유석', '이몽', '찿', '죤', '메가트론', '일영', '지지자', '그리피스', '만호', '멧', '근로자', '깝치', '뭐얔', '코어', '잼잼잼', '에서보다', '버즈', '킁킁', '밤늦다', '이현', '친밀하다', '구절', '미동', '억울', '친목', '데스페라도', '공포증', '수순', '밝혀내다', '홀리데이', '온스타일', '발렌타인데이', '인트', '두부', '티비영화', '별장', '시라소니', '면회', '이또', '이일', '불장난', '유에프오', '불합리', '디스커버리', '.....................................', '사랑과영혼', '기재', '시에나', '목말', '티노', '히스레져', '예비', '기별', '토키', '열거', '부동', '유카', '보노', '음지', '애덤스', '열대야', '로미', '위스키', '괜찬다', '신나요', '음식점', '백여', '○○', '0.01', '⌒⌒', '검은색', '점박이', '비탄', '드라마정', '금욕', '루루', '해어지다', '이소재', '실장', '프레드', '죠지', '신선도', '번갈아', '장애물', '가다듬다', 'never', '이타', '고속버스', '전집', '노예제', '어영부영', '탑제', '이탈', '가소롭다', '서신애', '유타', '아스트랄', '황금시간대', '히드라', '미트', '검토', 'man', '차비', '능멸', '미역', '시조', '도에도', '똥망작', '민좆', '쿠파', '궁색하다', '하길레', '천만원', '편때', '부동산', '반비례', '이외수', '파인애플', '상통', '퀼트', '중도하차', '꿈나라', '원시', '패권', '보신탕', '눈꽃', '가비', '바이스', '안바', '믹싱', '약소국', 'Life', '렌즈', '만화방', '주정', '익사', '중국역사', '틴탑', '김전일', '트래쉬', '지아장커', '안드네', '법치', '청바지', '화때', '메디컬탑팀', '소시', '감치', '애견', '어린이집', '직할', '전에도', '.~^^', '야합', '마초이즘', '수건', '풍년', '개꿀잼임', '금메달', '애청', '잘생겻다', '경제학', '뭐꼬', '대낮', '아이젠', '괴이', '♥♥♥♥♥♥', '유딩때', '안성맞춤', '양해', '보그', '스킨헤드', '최명길', '여성향', '클루', '평택', 'much', '마카오', '업슴', '헤피엔딩', '유한', '짊어지', '내자', '없엇으', '리까', '임진', '팩스', '갑작스레', '크라이', '중공업', '갓뎀', '목구멍', '후궁', '찡찡거리다', '○', '적나라', 'More', '가랑이', '꺼림칙하다', '.;;;;', '실습', '잡식', '밨습니', '!!!!!!!!!!!!!!!!!!!!!!!!!!!', '드와이트', '?>', '패스트푸드', '양보', '뻔뻔스럽다', '개뿜었다', '5천원', '가정은', '무가', '유해하다', '주절대다', '김건모', '골디', '와즈다', '핍박하다', 'well', '유호', '규명', 'ㅁㅁ', '완전범죄', '더군요', '♥♡', '실연', '/.', '봣던거', '척결', '데도', '선상', '곧이', '용해', 'BMW', '메타', '골초', '토종', '와이즈', '하남', '똥꾸', '퇴마사', '족발', '액츄얼리', '행적', '교만하다', '이하임', '이율', '천외', '으으윽', '청아', '곰신', 'ㅎㄷ', '이발사', '어슬프', '애완동물', '불시', '봉씨', '스파', '차우', '정제', '이윤기', '개새', '오만석', '니콜라스홀트', '간단', 'must', '신조', '새누리당', '톤즈', '동인', '1-2', '적의', '동산', '여봐라', '찬송가', '득실', '93분', '해파리', '용팔이', '아모레', '오토봇', '쿨럭', 'without', '포지션', '할로우', '푼돈', '띠리리', '뻔뻔', '인문학', '최지연', '제나', '터미널', '안마', '페어', '바나', '방심하다', '진실인', 'them', '맹씨', '유인영', '엔젤아이즈', '몰지각하다', '콘크리트', '블리', '전구', '삼각김밥', '분홍신', '깅코', '무속인', '식인상어', '월령', '황금의제국', '유시', '동기부여', '명가', '초고', '돌풍', 'if', '중임', '배는', '환대', '왕성', '차츰', '안간힘', '★★★', '7시간', '스마우그', '데뷰', '양성애자', '어이쿠', '최적화', '0.3', '웃낌', '지호', '압승', '화약', '눈사람', '이로써', '상대역', '미켈란젤로', '을사', '통째', '모질다', 'ㄲㄲㄲ', '폐허', 'china', '몸둘', '군림', '편집자', '깨방정', '스즈키', '욀케', '봉투', '건내다', '다면', '코알라', '볼드윈', '뀰잼', '외곡', '새싹', '재미잇엇어', '탈락자', '풋내', '한게임', '돋보다', '필견', '성대현', '처남', '年', '기관사', '펜더', '30일', '비번', '(!)', '아더', '칸영화제', '_!', '잠수', '천만이', '외박', '럽라', '브레', '베지터', '번지점프', '틀림없이', '이거볼빠', '됴', '6.0', '일견', '유효', '바바', 'Can', '형수', '창작물', 'YOU', '카메룬', '명호', '홍종현', '핰핰', '덤비다', '강치', '진퉁', '파키스탄', '슈퍼배드', '킨스키', '시더', '와전', '아득하다', '뽜', '늪', '아파치', '수행평가', '신기록', '긴밀하다', '통통하다', '프롤로그', '착상', '고자라니', '잼썻음', '떫', '우희', '변죽', '월트', '비지스', '켯', 'mm', '허겁지겁', '카운터', '장첸', '냉동', '봣었는데', '담날', '칸느', '학구', '동물의왕국', '오명', '견주', '모범생', '유즈', '강주희', '김득구', '북극곰', '전방', '백옥담', '증후군', '트위스트', '외한', '갈채', '이맘때', '궁지', '얼토당토않다', '9.2', '퇴행', '그랬다고', '은평', '무자', '츠카', '오하나', '알콜중독', '저널리스트', '여우비', '나안', '구본승', '수갑', 'avi', '고취', '17일', '...^^;', '시들하다', '똑살', '러브씬', '슝다이린', '거진', '서적', '이소라', '52', '치구', '면세', '타임즈', '이종원', '아르바이트', '착용', '콘티', '김유신', '웅대림', '화영', '점더줌', '건맨', '알바니', '졸멋', '1998', '선포', '논쟁', '리핑', 'ㅋㄲㅈㅁ', '레이놀즈', '버트', '도크', '비정규직', '첫방송', '원보', ',.,,,', '허파', '성배', '정석원', '바이킹', '화염', '데헷', '독고영재', '객석', '쩌구', '쿵쾅거리다', '창자', '500만', '정일', '뮈', '웡', '천대', '구호', '종용', '만사이', '밧줄', '싸이트', 'ㄴㅇ', '콰이어트', '문보령', '두레', '야훼', '고공', '정령', '밍키', '치하', '격차', '멀쩡', '정소민', 'ㅇㅋㅋ', '감개', '어김없이', 'Bravo', '간정', '가엽', '능동', '명이', '그니', '20시간', '비결', '최은', '더디츠', '시진핑', '이탈리안', '단보', '거스', '이든지', '구함', '순애', '*.*', '동엽신', '차근차근', '조신', '뚱녀', '참조', '^^;;;', '김보경', '전래', '자켓', '주간', '도취', '나눔', '고결하다', '):', '안당', '‥‥', '체질', '500만원', '로트', '교가', '물정', '....,,,,', '여유도', '원흉', '하연수', 'ㅇㄹ', '극혐임', 'ㅋㅌ', '은진', '여류', '회보', '분홍', '미궁', '백업', '스패', '사정없이', 'ㅋㅋㅋㅋㅋㅋㅋㅋㅋㅋㅋㅋㅋㅋㅋㅋㅋㅋㅋㅋㅋㅋㅋㅋㅋㅋㅋㅋㅋㅋ', '뚝심', '가당', '조짐', '성탄절', '한겨례', '당해', '썻는', '심혈', '장기기증', '도어즈', '간통죄', '~.~', '미영', 'said', '재및', '폐쇄적', '키포인트', '정도가', '두발', '종사', '메구미', '털보', '기성세대', '에로의', 'ㅠㅠㅋ', '한가운데', '37년', '격돌', '렁', '수하', '불변', '입부', '뿔', '쿠로사와', '걸표', '작태', '날렵하다', '이퀄리브리엄', '게머임', '우체통', '에펠탑', '테넌트', '성현', '의인화', '몇장', '외할아버지', 'UP', '유리가면', '스탈린', '박해미', '非', '허영만', '광경', ',(', '연속성', '??-_-', ',,,,,,,,,,,', '헤리', '무과', '김윤혜', '슷', '경쟁력', '서고', '가상세계', '깜찍', '체중', '....;;;;', '!^', '95', '미식축구', '헌제', 'GT', '동요', '가성', '낼때', '본론', '짜리몽땅', '신촌', '둥글다', '헬멧', '폴락', '픈', '촤', '무적자', '홍반장', '쉐리', '대야', '투윅스', '관광지', '라일', '윤회사상', '신규', '사지절단', '카아', '모스맨', '인굿', '먹이사슬', '허걱', '귓방맹', '제본', '육회', '레퍼토리', '박빙', '참낰', '요망', '바서', '세자매', '알싸하다', '특강', '취학', '수니', '효주', '7%', '애니메이터', '그랜토리노', '한낮', '수수께끼', '초현', '술자리', '일본말', '옥희', '폴포츠', '!^^*', '재밋습', '장기매매', '콩가', '몽매', '싹둑', '출력', '플랜', '재밋따', '송일곤', '보병', '강문', '날아오르다', 'YB', '적적하다', '변희봉', '독서', 'ㄴㄴㄴ', '종군기자', '유저', '괜츈', '풋풋', '7.3', '2015.02', '니노미야', 'boys', '24시간', '꼬우', '바라나시', '삼풍백화점', '세원', '윗사람', '션걸', '밑밑', '자비롭다', '될런', '80억', '얼토', '포멧', '위급하다', '주절거리다', '학당', '이석기', '회안', '동안은', '스퀘어', '인베이전', 'sucks', '라비', '운빨', '애프터어스', '특허', '짜장', '다웠다', '고등어', '다루어지다', '김명규', '쌍꺼풀', '만리', '허지만', '철판', '음흉하다', '성정체성', '어치', '자격증', '오물', '음정', '안거', '허억', '좆족', '급보', '국보법', '청구', 'ufo', '호두', '주란', '울상', '후끈하다', '포장마차', '사표', '후론', '신빙', '이태리타올', '신봉선', '응가', '123분', '어니스트', '안문숙', '철회', '기입', '백도', '울궈먹', '채연', '동석', '쭝', '븅', '가짐', '부티', '써클', '월남', '수혁', '민페', '이소리', '짐꾼', '눈밑', 'park', '엏', '웨딩드레스', '오리진', '우창', '아련아련', '둘째딸', '8~90년', '손상', '배알', '횟집', '무가치', '일회용', '춘향뎐', '아흐', '투리', '환경보호', '부적합하다', '르망', '중광', 'FF', '불확실', ';;;;;;;;', '어중간', '뭉개', 'pifan', '또왜', '셔틀', '물탄', '변상국', '횡대', '▷', '이혜', '무것', '샘물교회', '빵구', '다윗', '존망', '경리', '때기', '영화제작진', '뤠', '부르주아', '정은채', '빡빡', '뭐냨', '500억', '오마이', '1122334455', '것입', '홍홍', '여도', 'ㄱㅡ', 'Film', '심부름', '?.....', '카레이서', '윈다졸', '연구원', '약도', '박성호', '광팬임', '얼기설기', '피시방', '미니어처', '태백산맥', '화근', '장자연', '아청', '메딘', '곤두박질', '줄암', 'ㅆㄹ', '식자', '아둔하다', '대수준', '대동단결', '에스텔', '방중술', '돌체', '999', '인해전술', 'smile', '유아기', '영악', \")'\", '보겔', '사감', '행동거지', '류시원', '갉다', '??????????', '살면서', '걸핏하면', 'nc', '김현수', '더재밋다', '한수아', '카를', '퀀시', '화덕', '유호진', 'ㄲㄲ', '중공', '뱀파', '요로', '낚였군', '에손', '샛길', '중얼거리다', '<<<', '쓰리섬', '숙모', '못해', '입소', '듀크', '이동준', '신시', '우즈마키', '벼슬', '사퇴', '옷차림', '인고', '강민혁', '신아', '분기점', '끌뻔', '급사', '번식', '급성', '피아제', '겈', '데니안', '눔', '오금', '김희정', '조선영', '이즈미', '꽃집', '조유영', '틀때', '궁리', '탈탈', '몬스터왕국', '방글라데시', '감사용', '만들엇네', '이지스', '껏습니', '유플릭스', '손호영', '샊', '재밋을꺼', '상극', '장임', '어데', '엄는', '불건전', '즉사', '연루', '차암', '세계사', '호진', '가제트', '허송', '유니콘', '다홍', '!??', '성조기', '퐝', '격파', '상대편', '맨붕', '레이디가가', '전가', '새퀴', '교도', '무장해제', '신속하다', '에버랜드', '잘잘못', '우짜노', '베토벤바이러스', '파마머리', '븐', '본방송', '6~70년', '염불', '3.3', '쓰지맙시', '350', '도축', '모나', '성규', '박상면', '사일런트', '요딴', '패싸움', '양도', '후레시맨', '지부리', 'ㅡㅠ', '빵꾸똥꾸', '유탄', '뻑하', '라커', '김가연', '서클', '..-_-;;;', '늣', '룸싸롱', '뿡뿡이', '객실', '그리샴', '아이라인', '팬빨', '때밀이', '키친', '거유', '끌벅쩍', '닐스', '김문옥', '아무로', '변방', '완벽주의자', '무좀', '어쩌란거', '최윤영', '쉬쉬', '고철', '불합격', '45', '로마군', '기린', '70원', '],', '결혼식장', '벙하다', '큰아들', '라쿠', '조센진', '냄비', '벋다', '한다민', '건개', '로마인', '잡종', '김흥국', '두둑하다', '중에', '피곤', '6.7', '드러눕다', '시험관', '외과의사', '블레임', '어쨌건', 'ㅆㅏ', 'nothing', '졸짝', '스튜', '뭣하', '범증', '스탄', '피시', '욬황시욬황시욬', '달후', '날조하다', '여론몰이', '조물', 'how', '군말', '안온', '변조', '상종', '이동희', '이상보', '루트', '자연도', '총지배인', '삼분', '자충수', '귓속말', '부조', '남남', '김생민', '팬층', '컨져링', '만분', '키킥', '이시하라', '.,.,.,.,.,', '--..', '공갈빵', '퍼니플래닛', '길소뜸', '레게', '단기', '귀향', '꼴초', '징창', '2015.06', '대폭발', '웽크', '번지르르', '초대장', '말끝', '데체', '반군', '부림', '사체', '생물체', '한도', '용병', '프리메이슨', '-,.-;;', '무후', '선빵', '친정', '벨아미', '대라면', '근절', '엘라스', '이콘', '기름값', '달봉', '흐느적', '비보', '뿌잉', '난타', '방패', '-.,-', '어쩌지', '매국', '박진표', '재무', '목줄', '엿같다', '이수성', '웃통', '~^!!.', '건쥐', '고분', '한의사', '망언', '줄창', '동그랗다', '버스커', '수사반장', '방궄', '예슬', '한선화', '높힌', '조희봉', '간담', '기독', '오천원', '근로', '이진수', '공과', '~;', '공형진', ',.,.', '투구', '어법', '만들엇냐', '텨', '돈대', '성교', 'cent', '프리스타일', 'ㅋㄱㄱ', 'ova', '피해망상증', '그랬구나', '음질', '버럭버럭', '약화', '붓', 'zzzzzzzz', '화물차', '7천원', 'ㅅㄱㅇ', '움켜쥐다', '모택동', '류진', '잠적', '유별나다', '자석', '씨지브이', '여든', '도랏', '자자하다', '대디', '주모', 'Kia', '보고따', '스팍스', '차오', '모되', '뽀뽀뽀', '쌕기', '불지', 'ㅋㅇ', '호노카', '퍼줘', '당가', '초자연', '강태공', '이질', '데미지', '쳥', '망쪼', '피온', '보랑', '상금', '패리', '연두', '썸씽', '뭐합', '나뭇잎', '호환', '채찍', 'sex', '펜싱', 'ㅃ', '밥값', '강서현', '극심하다', '천진하다', '....-', '비츄', '솔트', '비닐봉지', '80-90년', '미천하다', '몸집', '운전기사', '가년', '글러브', '생뚱맞는', '신춘', '폐륜', '오카', '순국선열', '동인녀', '입국', '5.1', '개런티', '태왕사신기', '암탉', '넌더리', '피땀', '그랫음', 'ㅂㄹ', '정신장애', '혼전', '거뭐임', '만장일치', '표절의혹', '싸리', '58', '망햇음', '8.97', '사요나라', '하이테크', '전인데', '꼬았으', '악쓰다', '봉합', '4500원', '복권', '발명', '인민재판', '알밥', '마강', 'Worst', '사할린', '캐치미', '90회', '비데', '쿰척쿰척', '교재', '쓰레긴', '카미카제', '겉보기', '10,000원', '범죄인', '조준', '이혜영', '산산', '개똥폼', '~???', '벽보', '의사결정', '놨음', '완구', '호남', '사돈', '브라자', 'drop', '기사단', '독립군', '작동', '안착', '리볼버', '문희준', 'AKB', '까지보다가', 'bitch', '앙심', '여구', 'ㅆㅎㅌㅊ', '팰트로우', '영상편지', '이송', '시피', '컨벤션', '뭐좀', '총상', '사류', '남태현', '밧데리', '문서', '올드해', '후생', '기까지는', '지근', '법관', 'Bean', '3000원', '눼', '세용', '경준', '채택', '루하', '홧김', '약주', '안절부절', '시동', '사이좋다', '날씬하다', '이성미', '류구', '그럭', '안위', '목욕씬', '나가이', '묵주', '장기간', '유인촌', '돈까스', '전이라면', '동대문', '케케묵', '앱등이', '으레', '바타', '-__-', '상함', '333', '숫처녀', '단수', '노숙', '성내다', '호텔리어', 'AIDS', '김호진', '될껄', '달렷', '혼선', '볼껀', '낮짝', '사업가', '타치', '아포', '가비지', '장문', '윈저', '노오', '~!?', '학부', '발다', '프랜차이즈', '나올껄', '금잔디', '비호', '가라데', 'MJ', '어수룩하다', '개뻥', '발각', '폭주족', '고명환', '군수', '팍스', '이상현', '타당성', '뚝방', '생활비', '윤개상', '외주', '머슴', '......................................................', '36%', './..', '이충호', '었으', '훤하', '주해', '나경', '선데이서울', '묶음', '해물', '트레이드', '고수만', '숙식', '휠', '족도', '태정', '모친', '개낚임', '앱', '병과', '쯧쯔', '적합', '유하은', '이양', '동준', '정남', '손해배상', '미묘', '인혜', '병림픽', '클라우드', '썻어', '오피러스', '버클리', '건성', '뉘우침', '==', '앵앵대다', '방임', '심벌', '서하', '떼쓰다', '생체', 'KGB', '...,,', '제니주노', '부기맨', '루니툰', '거창', '중국드라마', '사제', '박차', '스윙스', '...............................................', '백장미', '모래성', '구국', '픕', '둘러대다', '오장육부', '거재밋', '김정민', '무치', '방공', '악악거리다', '비발디', '앵앵', '계심', '윤혜영', '用', '훤', '개똥망', '전념', '식칼', '카무이', '준후', '밑천', '...,.', '지형', '나유', '8.56', '최영장군', '우욱', '이상엽', '이었다', '이그리', '점마', '따로따로', 'eye', '1930년', '시래기', '공모', '--;;;', '...~', '마물', '명소', '못생겻', '면역', '스엠', '동창생', '고라', '숙수', '떡대', '무영검', '조급하다', '무법천지', '생키', '대폭', '리조트', '3.6', '~~..', '스테덤', '점거', '보톡스', '같', '기태영', '네이비씰', '프리허그', '사비', '자선', '싸움질', '들러붙다', '출입', 'war', '뒷산', '댄싱나인', 'ㄵ', '박태환', '쥑임', '프로파일러', '기장면', 'ㅗㅗㅗㅗ', '유래', '켈', '피상', '50억', '정하나', '알았슴', '잼잇엇어', '강신일', '빈라덴', '하이브리드', '옵션', '똭', '무작위', '진드기', '죽빵', '송포유', '14분', '국력', '토박이', '쫄아', '차위', '영화리뷰', '-_-+', '속수무책', '단신', '연예가중계', '문화인', '4.2', '대리모', '시누이', '위장결혼', '현도', '정치성향', '평준화', '스키니진', '가슴성형', '웬일', '1.6', '야오이', '800억', '니다', 'VIP', '아쿠아리움', '개망작임', '혜정', '가대', '흩다', 'ㅉㅉㅉㅉㅉ', '존대', '군필', '무력감', '석가모니', '7~10', '거외', '전과자', '재생산', '알리바이', '여걸', '프리덤', '200분', '화단', '호주머니', '중용', '포가튼', 'ㄴㅈ', '현주', '!!?', '평탄하다', '미칀', '페트', '정초신', '새해', '이하이', '벌거숭이', '왜그', '췌', '더냐', '대풍', '쑥', '푸네', '그랫다', '허둥대다', '모작', '일별', '정혜영', '데미갓', '쉽죠잉', '피츠제럴드', '30억', '아치로', '에이브릴라빈', '급상승', ',.,.,.,.,.', ':-', '모스키토', '혼잣말', 'naver', '카포에라', '맥거핀', '???/', '요부', '찌찌뽕', '더크', '텔레토비', '==>', '팝핀', '치욕스럽다', '약혼녀', 'ㅎㅏ', 'YO', '븜', '옐친', '제빵', '명왕성', '개쒸레기', '극상', '짜들다', '투덜', '아랐', '밀가루', '탄창', '키읔', '질소', '쾌걸조로', '랑께요', '법정씬', '룡', '말랑하다', '이십분', '불성실하다', '밑밥', '문어체', '6.2', '허졉', '존댓말', '깡그리', 'ctrl', '연료', '오경이', '쯩', '썸녀', '53', '처넌', '미비하다', '뿌지직', '삭았', '파손', '전여친', '변영화', '만병통치약', '힛힛', '헤이엑', '왕지혜', '효리', '키득키득', '마콩', '자기야', '승복', '하드디스크', '발치', '면제', '실타', 'bored', '저쩌구', '진욱', '3~4년', '염장', '\"???\"', '뚱하다', '윤석화', '일산', '신용문객잔', 'gp', '9.7', '오페', '드랍', '대말', '뇌속', '미려', '것멋', '신안', '박신애', '낚인듯', '열성', '엿같아', '욕처', '픽업아티스트', '포르노그래피', '동북공정', '영위', '샘플', '여권', '뚫훓뚫훓', '걸리버', '이현세', '지코', '귀염둥이', '눈곱', 'IP', '디지몬', '취조', '씨받이', '.,.,.,.,.,.', '횐', '국딩때', '야매', '칼침', '신입생', '무가치하다', '악뮤', '나찌', '때마침', '목동', '지갠뎃', '네가지', '변비', '면욕', '땡깡', '이승엽', '임세령', '군벌', '동우', '이륙', '대척점', '괴랄', 'ㅋㅋㅋㅋㅋㅋㅋㅋㅋㅋㅋㅋㅋㅋㅋㅋㅋㅋㅋㅋㅋㅋㅋㅋㅋㅋㅋㅋㅋㅋㅋㅋㅋㅋㅋㅋㅋㅋㅋㅋ', '수근', '덴마크어', '코유키', '하렘', '최대로', '핸폰', '땜빵', '인물관계도', '논산', '합심', '익룡', '촘촘하', '갉아먹다', '시정', '지출', '엄니', '선심', '돈줄', '단세포', '7~80년', '흑협', '여의사', '절세', '공갈', '뽀록나다', '아메바', '주무르다', '장만', '~@@', '자백', '~^^!', '움찔움찔', '맥도날드', '...^', 'ㅠㅠㅠㅜ', '커피숍', '정조대왕', '우여곡절', '명민', 'N', '까탈', '봤넹', '불가피하다', '학대받다', '변혁', '미스터리물', '김순옥', '깨우침', '영구시', '킥킥', '내한', '수도원', '지칭', '빈스본', '데오퓨', '띵똥', '스페샬', 'cool', '칼리', '59년', '해심', '겜블', '이사오', '긔엽긔', '8-90년', '솟아오르다', '소호', '필로미나', '폴뉴먼', '음절', '아이보리', '강대성', '크보', '종소리', '4.44만', '후쿠야마', '갈라', '미경', '미리보기', '프로포폴', '리페이스', '곡선', '봄비', '잠재력', '분업', '레너', '볼링', '냉동인간', '용맹하다', 'Beautiful', '덕인', 'touching', '그랑블루', '불가항력', '예스맨', '옥동자', '대중문화', '도라', '딘줄', '반발', '추카', '부서', '66', '첫경험', '불알', '사타구니', '웃겻음', '쌍카', '서민정', '탕진', '쉐일린', '위암', 'scene', '건너오다', '중국본토', '아라곤', '초연', '함은정', '바이올렛', '벌판', '폐쇄성', '겨워', '기행', '숀코넬리', '바람소리', '패트와매트', '업데이트', '용호상박', '가약', '호크아이', '바캉스', '불법체류', '휘감다', '토달', '헨', '>...', '여친소', '어지럽히다', '박하나', '막글', '원전', '아인', '최철호', '기품', '규범', '헉헉', '람세스', '호킨스', '잠수종', '청취', '샘물', '로선', '반기다', '베버리힐즈', '만쉐이', '가정사', '혁', '종혁', '화지', '뢰', '~!~!~!', '신디사이저', '도공', '빈민', '에스키모', '날고기', 'say', '그림형제', '전철', 'why', '병자호란', '드론', 'cia', '이례', '보모', '리얼리', '라바', '옥빈', '찬옥', '혜성', '꽃말', '뒤뚱뒤뚱', '120회', '꿀벌', '화성인', '뱅크시', '진즉', '아카리', '자넷', 'ㅜㅜㅜㅜㅜ', '입양아', '나뮤', '머니볼', '심쿵심쿵', '~^_^', '렬', 'Live', '망측하다', '애틋', '@.@', '회고록', '무선', '니코니코니', '패치', '컬러풀', '넥스트', '환갑', '큼은', '신품', '월레', '럴슨', '모형', 'job', '간병', '하숙집', '★★', '오대', '참새', 'Amazing', '열병', '래지', '되새김질', '득실대다', '앙탈', '피터지다', '유럽인', '고기만', '편좀', 'beauty', '주기철', '동창', '편차', '헠헠', '전회', '뭐시', '-;;;;', '빨대', '나불대다', 'ㅠㅠㅠㅠㅠㅠㅠㅠㅠㅠㅠㅠㅠㅠ', '카오루', '베오울프', 'stop', '청중', '파묻다', '월척', '정문', '.*^^*', '엠마누엘', '젋', '알흠', '시각장애', '기성용', '쑥대밭', '포크레인', '작법', '=>', '유로', '시애틀', '남도', '도계', '~~??', '희로애락', '2001', '낚았다', '마카로니', '럼스', '하용', '페북', '마리화나', '고산', '어어어어', '무우', '-.', '번외', '후버', '이선우', '서예', '송재호', '유호정', '선우용녀', '한채아', '디렉터스컷', '워터보이즈', '봉구', '알록달록하다', '사원', '파란만장', '비관', '장의', '샤이', '74년', '특정하다', '뽀르노', '곧바로', '강렬', '동구', '순돌이', 'Are', '웃프다', '메이지', '미코', '이탈리안잡', '됨됨이', '후쿠다', '마유', '레이토', '심지', '왕의남자', 'amour', '융통성', '하넹', '충사', 'MSG', '채린', 'ㄴㅐ', '외교', '일초', '칵테일', '대못', '콜드', '니니', '달걀', '엘레나', '앤젤', '흐믓해', '태안', '장동직', '대성공', '근황', '선박', '실록', '땀방울', '갈무리', '전도현', ',.....', '무법', '카이스트', '쉬이', '샬', '올리브', '톰형', '한진우', '의개', '..^.^', '육지', '비통하다', '우레', '공학자', '허리케인', 'He', '으로까지', '중학', '안티히어로', '팔색조', '이정표', 'shall', '포괄', '융합', 'WOW', '분수', '신사동', '시진', '부탄', 'UFC', '휴양지', '앨리슨', '개한민국', '반년', '상품화', '퀵실버', '묵인', '상디', '주차장', '자결', '관문', '즉시', '해태', '노르망디', '일대', '62년', '정향', '꽹과리', '마지막방송', '바스터즈', '킥킥대다', '도에는', '로빈슨', '불빛', 'Shit', '선데이', '아틀란티스', '역사교육', '지구촌', '카사블랑카', '곰플레이어', '이태', '스윙걸즈', '합의', '안과', '방정식', '아니메', '스테파니', '이탈리아영화', '-&', '불공정', '노르', 'sea', '자연인', '살아생전', 'Made', '렘', '반주', '?/', '님말', '헤어지자', '장편소설', '플라토닉', '리스베트', '적수', '비합리적', ';;;;;;;;;;', '벽지', '스터리', '급공무원', '울엇음', '~~~~~~~~~~~~~~~~~', '려욱', '데스티니', '주파수', 'brilliant', '조명하', '영월', '매트', '분임', '학위', '손실', '용케', '오진희', 'ㅜㅜㅎ', 'ㅊㅋ', '억대', '브롤', '꼽아', '굿윌', 'cry', '긴가민가하다', '중량', '보험금', '사견', '뜨끔하다', '암호', '주리다', '흉년', '눈밭', '따블', '49일', '같아욤', '성화', '나좀', 'going', '성미산', '종인', '파사', '하쿠나마타타', '심바', '인데도', '구딩', '응축', '리프트', 'had', '비하인드', '귯', '실내', '자명하다', '두아', '굿잼', '대장군', '♥♥♥♥♥♥♥♥♥♥', '목각', '땅바닥', '소양', '석상', 'ㅋㅋㅋㅋㅋㅋㅋㅋㅋㅋㅋㅋㅋㅋㅋㅋㅋㅋㅋㅋㅋㅋㅋㅋㅋㅋㅋㅋㅋㅋㅋ', '독방', '불씨', '맏', '가이드', '대진', '미감', '싱숭생숭하다', '샌드맨', '이사벨', '한송이', '마리온', '여당', '콰지모', '활기', '극악하다', '네팔', '혼연', '윤태영', '범블비', '렛잇고', '600', '겸허', '유니버스', '촌놈', '평평', '플리', '한씨', '유지인', '칠판', 'Is', '구박', '민가', '따른', '이태민', '개잼꿀잼', '전립선', '단축', '핵전쟁', '유퀘', '범고래', 'cliche', '핸콕', '할꼬', '여현수', '살며시', '제어', '권지용', '찜방', '~^-^', '에스터', '점감', '재작', '애둘', '하얀거탑', 'Fuck', '박인영', '민족성', './.', '유후', '폐쇄공포증', '!!!!!!!!!!!!!!!!!!!!!!', '표함', '아스카', '떼돈', 'American', '태양계', '마카로니웨스턴', '회부', '훨났다', '노루', '주석', '운집', '윅', '절루', '김운경', '도로시', '허이재', '도날드', '꼬리표', '화창하다', '현숙', '어무이', '본점', '끌때', '화산폭발', '억세다', '법조인', '기러기', '로빈후드', '유연', '수욜', '경위', '오수민', '난적', '우리형', 'ㅎㅎㅎㅎㅎㅎㅎㅎㅎㅎㅎㅎㅎ', '금수', '대유', '불화', '알러뷰', '상체', '천차만별', '소취', '잼밌', '쁘', '비숫', '학업', '레이서', '걸스', '재맛', '오리무중', '뮤지', '김만', '독서실', '양철북', '섬뜻', '김소희', 'ㅌㅌㅌ', '심각해지다', '픽쳐스', '김재철', '그르', '롤링스톤즈', '특별판', '블리치', '손범수', '테이텀', '트레인스포팅', '개선문', '자연환경', '호성', '지나고', '왕콩', 'jjladam', '이카로스', '롤러', '스벤', '컴버', '배한성', '한길', '잿빛', '버팔로', '파블로', '9일', 'Still', '시미', '휴대', '전깃줄', '최수영', '신삼국', '샛기', '카라스', '구의', '흡연', '출두', '이수완', '밋는', '친위대', '우크라이나', '보유', '학문', '게드전기', '남다름', '에타', '읃', '공정', '2천', '넷다', '적재', 'from', '빛바랜', '김우수', '여캐', '쪼그', '자포자기', '캐슬', '놈임', '상열', '겨울전쟁', '네버랜드', '비젼', '위자', '부술', '주례', '모리꼬', '변론', '김원준', '홍진영', '서민호', '세븐데이즈', '미제국', 'old', '은위', '띠워', '어으', '67', '말짱', '유약', '어거스트러쉬', '적어지다', '말끔', 'thing', '보물찾기', '얽다', '기분좋은날', '스코필드', '남부', '게우다', '송지나', '??^^', '北', '몰상식', '1920년', '흥해', '해롤드', '악담', 'zzzzzzzzzzzz', 'ㄱㅋ', '사사롭다', '절경', '비트박스', '<--', '샐러맨더', '로큰롤', '찰흙', '라쇼몽', '쩌내', '언데드', '84분', '400만', '엘리어트', '잇엇으', '기두', 'come', '..^-^', '벽화', '스케치북', '명을', '쵝오쵝오', '김철수', '허허벌판', '예배', 'SP', '승범', '천진', '부엌', '유희열', '뻑뻑', '호반', '아이칼리', '총구', '好', '얌마', '♡♥', '사랑비', '드레드', '하관', '양멱', '기범', '퀸스', '칙스', '유병재', '^^~~', '..~~', ',......', '정세', '유교', '일변도', '해저', '딜', '시트', '토코', '아코디언', 'there', '1989년', '팔방미인', '부쵸', '_=', '합창단', '이왕이면', '치와와', '이떄', '전영화라니', '핍박', '자질구레하다', '쥐쥐', '초음파', 'PTA', '극좌', '화장품', '너포위', '나인뮤지스', '고추가', '킬러스', '재밍', '트레이닝', '이햐', '번주', '바랬어', '텐슨', '타다노', '팔다리', '-)', '선화공주', '통로', '점에', '수잔서랜든', '트랜스젠더', '엄태구', '명랑만화', '이윤성', '괭장히', '유관순', '이러쿵저러쿵', 'wrong', '쪼이다', '호모포비아', '교제', '취화선', '명민좌', '선후배', '숏', '네오나치', '바둑이', '세일러문', '스텔스', '스텔라', '케케', '괜차늠', '브랫', '아스라하다', '조병', '재밋게봣다', '데릭', '시아', '총리와나', '의연하다', '라이드', '배스', '친미', '턱턱', '최최', '이츠키', '난파선', '원화', '퀸카', '풍문', '혐일', '꾸욱', '마취', '굿구', '대한민국만세', ',,!', '셧다', '텐텐', '송신', '자스민', '이라기보다는', '실시', '벡실', '산티아고', '특수요원', '태운', '놀이기구', '용역', '쥬스', '2016년', 'they', '듭', '셔츠', '궁굼', '황석', '딩시', '부록', '우사', '반문', '억이', '모의고사', '짜릿짜릿하다', '서원', '레논', '적대', '혈전', '듀엣', '찰톤', '헤스', '올챙이', '게르만', '홍해', '베이트', '얜', ':))', '여실', '하기야', '동현', '무빙', '토익', '호옹이', '마츠준', '살리에리', '맵', '제천', '장재', '노멀', '잘봤슴', '겻', '히죽', '뽀잉', '담요', '퐁당', '이경이', 'ㅎㅎㅎㅎㅎㅎㅎ', '버렷다', '종속', '꼭좀', 'ㅡㅅ', '신약', '맥카시', '데온', '낑기다', '하마터면', '러더', '통조림', '앤키', '티엔', '68', '지음', '티슈', '에일리', '세이프', '.~~~', '이뻣다', '질때', '아완', '당산대형', '적국', '포커', '강성민', '폐쇄', '큭큭', '들고나다', '미토', '카시', 'ㅋㅅㅋ', '발키리', '이뻣', '퓨처', '참회', '보이드', '마타', '무더기', '레파토리', '맥커너히', '기사도', '...?!', '자립', '별난', '존잼임', '즐거웟던', '청나라', '매니', '선미', '잭맨', '?!!!!', '갈고리', '오세훈', '또박또박', '기분조타', '똥찬', '수기', '빗겨', '요조', '간파', '허름', '연상연하', '가랑비', '우랑', '우대', '(..)', '가내', '묶여서', '가어', '난사람', '오프라', '우발', '설현', '뻥뻥', '모면', '루왁', '손빈', '두렁', '노어이', 'ER', '짱재밋다', '박원상', '윈프리', '코란', '치토', '맺힌다', '이스턴', '료마', '일식', '가뿐하다', '짐심', '하이랜더', '던스트', 'yes', '멕시칸', '섭소천', '프란', '히토미', '셩', '아닐런', '스페인영화', '국판', '줄다리기', ';)', 'DMB', '인명', '팰트', '파지다', '순교자', '번뇌', '????????????', '적발', '금상첨화', '쥰세이', 'ㅋㅋㄱㅋ', '김종민', '스쿨', '상주', '스트로베리', '독약', '눈웃음', '커뮤니티', '오르내리다', '졋음', '팝업', '용광로', '중대', '정립', '제조', '고령화', '시기상조', '병크', '앞길', '밨던', '..^^*', '김명곤', '강희', '유혈', '하이텔', '쉬더', '도속', '가장자리', '점말', '오공', '비루스', '나현희', '링거', '리환', '륵', '주먹밥', '140분', '궁금궁금', '강박장애', '내시', '가평', '따발총', '결의', '미천', '쥬로링', '스페이시', '연명', '블랙박스', '파울', '도킹', '선원', '찔금', '.&', 'who', '멤피스', '스폰지', '눙물', '통키', '엣', '귱', '곽한구', '환전', '튕기', '^-^*', '포비아', '글쿠', '펄펄', 'gooood', '망극', '캣니스', '김동빈', '대결씬', '어두컴컴하다', '인디애나', '핫산', '백신', '팔로', '본자', '적막', '대왕세종', '하석진', '인민', '이상향', '매그니토', '레버', '팸', '장현수', '장작', '세이건', '군번', '덕심', 'PM', '5.7', '원어민', 'broken', '오호호', '발기다', '터프가이', '파킨슨병', '70회', 'MCU', '음습', '헬프', '책받침', '스모크', '뗼', '배낭', '뷰티플', '해안선', '데왜', '고상', '오중', '3/2', '아들내미', '시엔', '우러나', 'last', 'live', 'universe', '재창', '계성은', '박달', '오덕후', 'www.nemofile.co.kr', 'knight', '국밥', 'tomorrow', '면도칼', '질임', '파문', '순백', '이성진', '켓', 'Awesome', '구봉서', '경제학자', '걸스데이', '가후', 'keep', '^.~', '윤상', '-..-', '대명', '모나코', '도진', '2002', '햄릿', '곱하기', '어퓨굿맨', '웨이브', '와이키키', '투기', '석호', '쿠릴', '렌코', '의거', '엄격하다', '왁', '데프콘', '2008', 'Space', '데이빗보위', '점왜', '아시안', '위정', '625', '심호', '사샤', '애등', '80회', '대왕의꿈', '염증', '웟습니', '3억', '산이면', '땅땅', '뉴욕시', '캡숑', '봣엇', '빅피쉬', '스르르', '토속', '글코', '어두워지다', '넛', '배구공', '외인구단', '포위', '매화', '멜랑꼴리', '쿵쾅', '케냐', '남학생', '돋아나다', '인동', '단역배우', '개국', '제밌다', '과목', '지질', '꼬띠아르', '갓난아이', '운남고', '뿅뿅', '소등', '숙주', '화목', '제지', '온난화', '대오', '거위', '업햄', 'xtm', '산악인', '누드모델', '서강준', '훨남', '3천만달러', '기류', '클레이애니메이션', '04', '청설', '산뜻', '손끝', '세탁기', '노비', '파견', '가설', '대자', '페르소나', '@!!!', '담합', '닝겐', '고참', '말론브란도', '-;;;', '촐싹대다', '땡잡다', '할떄', 'money', '정망', '오스카상', '크리스토퍼놀란', '스코트', '조이진', '찬스', '옷장', '물방울', '교화', '환자연기', '꿈쩍', '정보기관', '정보전', 'oo', 'let', '←', '파동', '김승호', '애애', '남신', '나눠지다', '네오리얼리즘', '세이지', '이이이이', '선영', '실정', '백분', '어버', '강민경', '읊어', '거렸', '공방전', '이상호', '츠시마', '미완', '喜', '맹점', '느낌표', '신혜수', '디올', '미첼', '무임', '승차', '뉴트', '법안', '차선', '키티', '미조', '웠다', '머큐리', '몬트리올', '연때', '인문', '노엘', '인건비', '영선', '다세', '콜로', '쪼그리다', '타이머', '은채', '법조', '완정', '뿌리깊은나무', '양원', '루마니아', '밤잠', '반적', '국토', '전원주', '떠지다', '퍼스트클래스', '시끌벅적', '어쩜그리', '아라시', '정당방위', '보셍', '공민왕', '환도', '앙이다', '리바이', '이태성', '엮어내', '퍼시', '폐하', '태익', '임돠', '납골당', '리릭', '바버', '메이크', '보라카이', '영화평론', '피구왕통키', '건장하다', '설화', '괴력', '묶인', '인디안', '지단', 'happy', '신해', 'awesome', '.^^;', '심술', '혈연', '9876543210', '칙칙', '아저씬', '장금', '네스트', '노니', '환데', '무슬림', '놀이동산', '파병', '통신', '대애', '이뻣음', 'ㅌ', '5등', '호나우두', '아슬아슬', '~!~', '분대', '단란', '했슴', '광풍', '뻑감', '변주곡', '필라', '플러', '도루', '보미', '화거', '둔하다', '절판', '짓눌리다', '자격지심', '달마시안', '발길질', '오지은', '밋다재밋', '아이로봇', '다솔', '에세이', '줄라이', '최숙빈', 'Just', '헛구역질', 'minutes', '금강', 'once', '미스테리물', '잠그다', '커뮤니케이션', '아쉬웟', '팔구', '팀원', '굶주림', '몰골', '^^&', '숨가쁘다', '도널드', '구차하다', '로소', '플래시백', '버라이어티', '아니엇으', '열흘', '발싸개', '후쿠', '세대차이', '!!@@', '첫키스', '업주', '이민우', '남짓하다', '발레리', '오감도', '용호', '힐링캠프', '완점', '열혈남아', '곤조', '실례', '수필', '체위', '애바', '》', '《', '젖통', '권율', '개명', '일인극', '아라가', '새우', '쓴소리', '박진우', '환호성', '검객', '둬', '우열', '스토어', '제자리걸음', '-?', '녹아내리다', '모스크바', '모비딕', '플레인', '젤루', '뚱보', '!?!', '페티', '143분', '대칭', '정액', '버피', '^,^', '견우', '주야', '샴쌍둥이', '스멀스멀', '식민', '가치나', '맬릭', '하겟', '속출', '진쨔', '슬그머니', '119', '지르르', '억제', '진압하', '똘기', '무명시절', '앤헤', '철의여인', '윙', '이탄', '쒸', '백점만점', '도우미', '예시', '나잇스탠드', '빛바', '징크스', '지웅', '에릭클랩튼', '완장', '페셔널', '실드', '악보', '드라마틱', '으어어', '루크에반스', '결사', '망국', 'give', '셀카', '은자', '군침', '줠', '마츠모토', '하선', '패틴슨때문', '이승준', '멸', '초청', '난간', '음부', '스토크', '앞쪽', '색상', '백구', 'an', '공룡대탐험', '휴고', '쉐리던', '정창화', '+.+', '간주', '연세', '배배', '엠파이어', '비원에이포', '87', '노론', '호암', '대화면', '기습', '미음', '삼국', '아닥', '말랑말랑', 'ㅎㅋㅋ', '양순', '....\"', '도니', '캐산', '빙수', ',,,;;', 'korea', '중첩', '철컹철컹', '대대손손', '4.6', '엊', '강경준', '....,.', '알프스', '전일', '투게더', '나팔', '...,,,', '윤기준', '트레버', '수색', '양가', '~~~~~~~~~~~~~~', '마님', '희한', '인분', '키자루', '아비게일', '돌진', '코시', '이대호', '배임', '윤간', '등지', '1985년', '화투', '정당', '업글', '효시', 'LIFE', '일약', 'Us', '배척', '됫으', 'MTV', '정알', '트레일러', '때껏', '*^', '본답', '사부일체', '(?).', '우리별', '고시원', '하늘아래', '왕십리', '착실하다', '이스탄불', '그른', '31년', '짠지', '세드', '상부', ';;;;;;;;;;;;;;;;;', '별룬데', '면전', '퀀텀', '한집안', '치질', '조용원', '적우', '먹물', '안봣으', '소프', '봇', '김은형', '원미경', '염복', '88', '동네형', '뚜렷', '쉡', 'ㅊㅋㅊㅋ', '비됴가게', '형돈', '월리', '청앨', '카니발', '유혼', '카시오페아', '스카페이스', '재도', '분위', '페스티벌', '009', '발가벗기다', 'Carpe', '신생', '몆번', '화초', '카운티', '버섯', '야사', '이건희', '바름', '절름발', '해기스', '도플갱어', '글래스', '성남', 'ㅔㅔ', '태종', 'ㅡㄱ', '이갑', '꼐', '핑도', '꼽겠다', '절대다수', '~~!!^^', '녁', '쪼매', '소울메이트', '파이스토리', '진장', '~~~.', '광끼', '장지', '급변', 'ㅃㅏ', '의전', '6.8', '언변', '어익후', '쿤', '스티븐킹', '주작', '옥탑방', '힙', '산행', '콩닥콩닥', '중국말', '꼴등', '물기', 'IMF', '맥도웰', '계모', '있엌', '말솜씨', '김창환', '김지석', 'ㅜㅡㅠ', '주목할만하다', 'MRI', '수비', '미소년', '버럭', '재밋게본', '유니', 'OF', '꽃처럼', '~,~', '한길수', '법치국가', '하나같다', '청렴', 'ㄷㄱ', '가호', '레릭', '최근영', '역기', '남우현', '성전환', '조선일보', '인호', '상영작', '조우정', '정해준', '떠들썩하다', '베르히', '제하', '친구사이', '혈통', '허트', '돌싱', '막문위', '손좀', '넘는', '얘내', '릭', '할부', '줫으', '도돌이표', '삻', '아유미', '사자성어', '노주현', '오드', '난중', '루터', '왓습니', '성은채', '자웅', 'ㅡㅇㅡ', '엉뚱', '위대', '노비타', '재밋게봐', '수거', '궁궐', '설립', '캘리포니아', '고열', '흥국', '발가벗다', '대냐', '포크', '편두통', '팔지', '발끈', '초보자', '줏', '모카', '옹이', '영진위', '혜빈', '남창', 'ㅋㅋㄲ', '연금', '존큐', '울프맨', '하규', '고비', '비욘세', '감속', '수퍼히어로', '변절', '천왕', '사회자', '개띠껍', '15회', '허관걸', '땟', '인테리어', '이우진', '쪼꼼', '무상함', '하달', '익명성', '태작', '으르렁', '화교', '이해영', '기럭지', '테크', '이경희', '퓨젼', '량', '산지', '범한', '인력거', '안느', 'Part', '오랑', '장승업', '선우', '이감', '픽', 'NBA', '드래프트', '데츠카', '다프', '지느러미', '마르퀴스', '애띤', '사카', '동양철학', '원체', '락앤롤', '산골', '인사이드아웃', '그레픽', '2000만', '뽀얗다', '800만', '대와', '황해', '음악인', '불금', '조무래기', 'Again', '뛰어나오다', '프렌차이즈', '신정원', '심상', '국밥집', '싱글맘', '정도는', '6.61', '엘리스', '흐흠', '어리바리', '지보면', '스노우보드', '생기발랄하다', '아무렴', '양자', '일판', '남자사용설명서', 'kg', '노근리', '이슬람권', '왜또', '송호', '인프라', 'artist', '사디즘', '괞찮', '매카시', '길리엄', '민우', '인삼', '강문영', '구들', '옭아매다', 'ㄱㅋㅋ', '맹수', '열시미', '컷던', '곧잘', '삼거리', '부여잡다', '오메', '가분', '에스엠', '이선진', '혈육', '썪', '개굿', '엇을텐', '비투스', '수반', '탈퇴', '아란', '지혈', '복용', '개돼지', '제갈', '드웨인존슨', '떠보다', '물자', '농성', '절봉', '엄다혜', '옌', '헐뜯다', '메로엣타', 'miss', '마데', '거뜬하다', '빈도', '하랑', '비시', '컨트리', '로이스', '언론인', '이과', '키드캅', '까', '엄살', '파먹다', '이문열', '케함', '프라하', '재밋는거', '지리산', '조춘', '?-_-', '팅커벨', '사하', '민씨', '40일', '고글', '가야로', '라드', '빳', '씨네프', '준석', '레인보우', '혈기', '요전', 'Goodbye', '공공재', '아른', '탭', '박성광', '누굽', '성사', '진씨', '불미', '.^', '교포', '800', '권유리', '할하', '숴', '43', '우웅', '꼇', '뉴라이트', '고행', '만장', '월화드라마', 'first', '찟', '아음', '철호', '창호', '간단명료', '강민', 'Mc', '관객을', '?,,,', '앰', '베바', '.....^^', '분산', '발랑', '37', '상륙작전', '조씨', '봣습', '밴디트', '하얀색', '섬머', '최곸', '징벌', '입니다', '타쿠미', '때아닌', '문물', '니엘', '고성희', '마마도', '기차역', '라사', '외관', '아리아리', '관방', '꾸벅꾸벅', '이자웅', '달구다', '꽃할배', '성전', '벤치마킹', '잼있넹', 'ㅇㅔ', '!!!!\"', '구렁텅이', '졸졸', '소셜', '택해', '나가토', '흑인음악', '취할', '민병대', '새드무비', '뽕똘', '비디오카메라', '학자', '리셋', '관왕', '스케치', '백일섭', '강대위', '학점', '석현', '소야', '탑블', '서덜랜드', 'ㄷㅅ', '깽판', 'off', '점사', '에세', '워크샵', '마구마구', '팀로빈스', '더기', '핫칙', '전망', '떼창', '피오', '도열', '예선', '지원이', 'Time', '예수회', '4만', '담대하다', '5천만', '은경', '심성', '겟다', '나으니', '마사지', '8시간', '초롱초롱', '젖소', '배낭여행', '젝스키스', '자위대', '죄임', '내정', '10.5', '파마', '~@', '던파', '공기인형', '채색', '깟', '어트케', '해방구', '센티미터', '서슴없이', '테프', '자진', '..~!', '욕좀', '장길산', '▼', '대발', '....,,', '김명준', '강행', '낭만파', '상쇄', '연금술', '입성', '등가교환', '츠코', '공찬', '크리스에반스', '뚱', '뉴스데스크', '샹송', '대니얼', '극성', '범죄소년', '피치퍼펙트', '그런저런', '콧구멍', '시타', '안코', '난도', '슌지', '공역', '등짝', '셋째', '민병', '리스본', '뿜어져', '남았는데', '끝일', '경건하다', '괘안', '럭셔리', '닥본사', '낚인거', '386', '파프리카', '펀', '폭넓다', '다가서다', '흫', '트루맛쇼', '자레드', '을지', '일사천리', 'RIP', '부합', '액선', '인형사', '선역', '웃겻', '똘똘하', '슬라이드', '예원', '탱탱하다', 'dc', '가화', '일용직', '로맨싱', '잭더리퍼', '월동', '쏭', '첸카이거', '레터', '경찰청', '우웨', '건반', '지명도', '똘망똘망', '계영', '스케줄', '철장', '일래', '혹사', '투탑', '할복', '남극일기', 'XTM', '보탬', 'tva', '허진', '쪽국', '우박', '처녀작', '김광규', '~>', '유고', '러신', '비담', '배격', '라프', '은꼴', '주문진', '이호영', '연변', '...........................................', '이성애', '경수', '키즈', '카게무샤', '끝날떄', '경솔하다', 'ALL', '연주자', '인가에', 'CNTV', '교육자', '모던타임즈', '요추', '델마와루이스', ',,...', '피바다', '보보', '삼부작', 'DNA', '곰돌이', '모루', '마사무네', '벤치', '도지원', '대악', '최오', '병인', '따땃해', '정욕', '진해', '무혁', '탐미', '나가떨어지다', '존론', '불우하다', '재개발', '..................................', '오스틴파워', '미시', '코베', '새장', '겔러', '9,000원', '불멸의이순신', '전당', '귿', 'est', '하오', 'Le', '크', '히힛', '시들시들하다', '김지원', '쇼걸', 'Believe', '렌프', '광어', '99분', '스파크', '아나키즘', '빗물', '린스', '토우', '귓', '왜내', '정성껏', '파이널판타지', '미티', '랜스', '윤지민', 'fighting', '촤고', '매스', '틴물', '인수', 'yo', '참견', '스위프트', '한희정', '서진', '랰', '애달프다', 'than', '가넷', '자그마하다', '김주호', '몸값', '퐈이팅', '족적', '유착', '여리고', '뺴고', '!!!^', '스탤', '로섬', '의뢰', '불발', '클스', '말따', '무용수', 'message', '박종훈', '-..', '용씨', '눈팅', '효녀', '도정', '엽서', '서도영', 'ㅎㅋ', '운널', '서러움', '살인의추억', '효력', '마테', 'ㅉㅉㅉㅉㅉㅉ', '동창회', '우뚝', '비공개', '나도꽃', '오디세이', '작이다', '서일', '절름발이', '법원', '구구구구구구구구', '하마', '섭취', '월광', '라핀', '오류로', '제패', '슈워', '알라신', '네코', '장례', '절의', '유키오', '충혈', '껀줄', '만렙', '스폐셜', '숨은그림찾기', '명사', 'JYJ', '부터도', '공화국', '불새', '저녁식사', '언어유희', 'lovely', '후계', '괴롭힘', 'ㄹㄹㄹㄹ', '금일', '상회', '비크티니', '에스더', '은사', 'ㅇㅂㅇ', '전체주의', '양미', '트래비스', '오태경', '더재밋음', '육남매', '쿠시', '짝꿍', '에블린', '사자후', '퍼시잭슨', 'fucking', '간편하다', '이영하', 'Bang', '꽝꽝', '지극', '뮤즈', '엘비스', '이호', '엄좋', '억해', '좇는', '선속', '군사력', '그렘린', '느무느무', '곱창', 'ㅠㅡ', '사법부', '아연', '반추', '옆구리', '봄방학', '언노운', '신급', '!!)', '현세', '문명인', '살피', '해공', '무량', '척박하다', '도스', '단디', '주유', '독기', '베킨세일', '악용', '틸드', '자살클럽', '얙션', '수영화', '증거물', '박애', '몰랏다', '/...', '키라', '기호', '레슬리닐슨', '삽', 'ㅠㅜㅜㅜ', '데드풀', '카메런', '불균형', '자두', '장국', '덕택', '니트', '불가사의하다', '95%', '기어오르다', '자못', 'rain', '돈의화신', '운동장', '괜찬은듯', '마구간', '행군', '무정', '하루키', '백허그', '의술', '출근길', '내비', '과학기술', '또볼', '알흠답', '금연', '응칠', '델리', '여념', '은데', '무간', '알랍유', '책속', '데츠', '트렌디', '개최', '거처', '빅매치', '좐', '일명', '히어로즈', '피타', '황실', '동학', '음으로', 'When', '투견', '웃엇음', '엄숙하다', '김진', '정길', '작이라는게', '2006', '싸움씬', '시완', '!?!?', '능글능글하다', '레이브', '격변', 'game', '십자군', '도를', '겨를', '강우', '발기부전', '늑대개', '안량', '98', '가마', '상관관계', '마츠야마켄이치', '게린', '카나', '구장', '돌멩이', '곧다', '영재', '1975년', '김경탁', '하이에나', '식은땀', '드넓다', '몸살', '김윤아', '에듬', '아이러브유', '자애', 'ㅎㅁ', '보채다', '풍덩', '양식', 'Kill', '레이리', '류승수', '듬직하다', '뒤쪽', '원서', '2초', '독불장군', '한씬', 'ㅠㅠㅠㅠㅠㅠㅠㅠㅠㅠㅠㅠㅠㅠㅠㅠㅠㅠㅠㅠㅠㅠㅠㅠ', ')->', '까치', '배꼇다', '자메이카', '정애연', '킥복싱', '스태덤', '핵꿀', '1980', '효가', 'IMAX', '임정영', '노닥거리', '경비행기', '씬때', '플린트', '현이', '식물', '불똥', '촉진', '이형은', '재완', '1954년', '언짢다', '막노동', 'u', '심리치료', '기립', '나우시카', '천사도', '덤블링', '괜춘하', '명징', '엄석대', '교육방송', '이화', '렐', '??.....', '가훈', '류시퍼', '-.-;;;', '전문용어', '유포', '세간', '거꼭', 'DD', '철규', '러버', 'ㅋㄱㅋㅋ', '흐엉', '~!!!!!!!!!!', '봣을까', '더테러라이브', '흉', 'ㅎㅎㅋ', '풀림', '카가와', '☞☜', '아우슈비츠', '수험생', '1조', '스타더스트', '바랫', '천신만고', '무속', '씹덕', '원더걸스', 'Jesus', '걸루', '김승연', '건재', '~~~~!!', '전부일', '최루', '빅스', '비투비', '무교인', '르완다', '위배', '고어씬', '유해정', '셜리', '..^', '중국집', '싣다', '얽매이다', '게실', '콸콸', '귀뚜라미', '지구온난화', '이아쉬', '요별', '어덜트', '팀버', '어플', '도술', '자미', '탑팀', '공수', '밥딜런', '에이타', '프랑수아', '해밀턴', '초초초', '송곳', '3.8', '촉수', '스트릿', '카르페디엠', '용한', '박은빈', '이원종', '무도회', '박효주', '장현성', '기신', '잼잇엇음', '백화', 'Paris', '곰탱이', '소주잔', '말썽', '93', '영수', '曰', '겨울연가', '기울다', '득점', '믹서기', '맨션', '파코', '61년', '소하', '개심', '최민호', '악화', '르누아르', '기리보이', '강경', '크라임씬', '알받이', '이창훈', '송곳니', '한세상', '정시아', 'ㅣㅆ', '디씨', '영양', '한하유', '아잉', '뉴요커', '흣', '동독', '실업자', '욱김', '판타지아', '왕호', '관찰자', '쫄면', '도부', '경탄', '심층', '쏫', '점정', '고별', '역자', '화들짝', '올드먼', '주룩', '맬깁슨', '송능', '울진', '신포동', '북경', '57%', '조정래', '4~5년', '은빛', '09년', '건포도', '화통', 'stupid', '나날', '태교', '김일중', '어프', '연극배우', '호령', '청계천', '김용택', '지엔', '능숙하다', '무신경', '파지', '쟈밋', '연모', 'ㄴㅅ', '피폐', '야후', '~~^-^', '개리', '줫다', '사소설', '하이스쿨', '최곤', '，', '../', '티비엔', '마의', '소수민족', 'Come', '스케이트', '1원', '플라워', 'sin', '중간고사', 'ㅋㅋㅋㅋㅋㅋㅋㅋㅋㅋㅋㅋㅋㅋㅋㅋㅋㅋㅋㅋㅋㅋㅋㅋㅋㅋㅋㅋㅋㅋㅋㅋ', '스틸러', '서인석', '당국', '7.32', '진격의거인', '하제', '킹오파', '아이리쉬', '김미화', '작이지만', '종신형', '가책', '쾌걸', '전남친', '가구야', '피살', '재밋던데', '짧게하다', '장발', '분닥', '모로코', 'fast', '7-8', '왓치맨', '흐규흐규', '벌집', '~~~~!', '야속하다', '써비스', '휘청거리다', '된장찌개', '기병', 'dream', 'gv', '번쩍번쩍', '영차'])"
      ]
     },
     "execution_count": 65,
     "metadata": {},
     "output_type": "execute_result"
    }
   ],
   "source": [
    "vocab_list\n",
    "vocab_list[\"히로인\"]\n",
    "vocab_list.keys()"
   ]
  },
  {
   "cell_type": "markdown",
   "id": "89a1bb1e-3ec0-42e0-90e3-b34c59240e02",
   "metadata": {},
   "source": [
    "### txt 파일 데이터 사용"
   ]
  },
  {
   "cell_type": "code",
   "execution_count": 66,
   "id": "336df17d-8bd8-4e0f-b923-d98b0ecb85a5",
   "metadata": {},
   "outputs": [],
   "source": [
    "# 학습에 사용할 텍스트 파일 로드\n",
    "# txt 파일을 gensim 패키지 말뭉치(word2vec가 사용가능한 형태)로 로드\n",
    "import gensim\n",
    "sentences = gensim.models.word2vec.Text8Corpus(\"./data/0307/naver_movie_reviews_tokens.txt\")"
   ]
  },
  {
   "cell_type": "code",
   "execution_count": 67,
   "id": "3952fda5-16e8-4208-93fe-5da2d06bef7d",
   "metadata": {},
   "outputs": [
    {
     "data": {
      "text/plain": [
       "<gensim.models.word2vec.Text8Corpus at 0x20b0fc6a870>"
      ]
     },
     "execution_count": 67,
     "metadata": {},
     "output_type": "execute_result"
    }
   ],
   "source": [
    "sentences"
   ]
  },
  {
   "cell_type": "code",
   "execution_count": 68,
   "id": "4d33340e-3079-49cc-8318-995146423b12",
   "metadata": {},
   "outputs": [],
   "source": [
    "# 텍스트 파일에서 읽어온 데이터로 학습한 모델 생성 \n",
    "from gensim.models.word2vec import Word2Vec\n",
    "model_naver_txt = Word2Vec(sentences, vector_size=50, window=5, min_count=5, workers=4, sg=0)"
   ]
  },
  {
   "cell_type": "code",
   "execution_count": 70,
   "id": "f96aa744-5c90-497c-8d0d-68934f71244d",
   "metadata": {},
   "outputs": [
    {
     "data": {
      "text/plain": [
       "array([ 0.20263928,  0.1619186 ,  0.56051046, -0.44743642,  0.5727344 ,\n",
       "       -0.46919584, -0.01473327, -0.09836437, -0.5574905 , -0.24721642,\n",
       "        0.31595266, -1.192726  ,  1.0049889 ,  0.07317608, -0.0598549 ,\n",
       "       -0.8313551 ,  0.42542982, -0.48898536, -0.21633366, -0.45988467,\n",
       "       -0.0823132 ,  0.34683433, -0.37952086, -1.3522681 ,  0.10026387,\n",
       "        0.41963878,  0.00909603,  0.06174706,  0.07706513, -0.11270268,\n",
       "       -0.2261408 ,  0.43807238, -0.23353596, -0.6033886 , -0.15227346,\n",
       "       -0.60509497,  0.03172344,  0.36495233,  0.5471338 , -0.8131142 ,\n",
       "        0.37107694, -0.3318094 ,  0.40140426,  0.43931162,  0.35265827,\n",
       "       -0.69211257, -0.7160254 ,  0.12146415,  0.5981942 ,  0.1453972 ],\n",
       "      dtype=float32)"
      ]
     },
     "execution_count": 70,
     "metadata": {},
     "output_type": "execute_result"
    }
   ],
   "source": [
    "model_naver_txt.wv[\"음악\"]\n",
    "model_naver_txt.wv[\"명연기\"]"
   ]
  },
  {
   "cell_type": "code",
   "execution_count": 71,
   "id": "cbc6458a-d1a2-4397-91c9-352871c0ecd2",
   "metadata": {},
   "outputs": [
    {
     "data": {
      "text/plain": [
       "[('김수현', 0.814203143119812),\n",
       " ('박중훈', 0.803257942199707),\n",
       " ('한석규', 0.8018301129341125),\n",
       " ('안성기', 0.7977200150489807),\n",
       " ('정재영', 0.7968029975891113),\n",
       " ('혼신', 0.7897970676422119),\n",
       " ('전도연', 0.787277102470398),\n",
       " ('김명민', 0.785895824432373),\n",
       " ('김창완', 0.7858883142471313),\n",
       " ('양동근', 0.7838810682296753)]"
      ]
     },
     "execution_count": 71,
     "metadata": {},
     "output_type": "execute_result"
    }
   ],
   "source": [
    "model_naver_txt.wv.most_similar(positive=[\"최민식\"], topn=10)"
   ]
  },
  {
   "cell_type": "code",
   "execution_count": null,
   "id": "03b55143-3b14-4a01-aac4-714b9d519b76",
   "metadata": {},
   "outputs": [],
   "source": []
  }
 ],
 "metadata": {
  "kernelspec": {
   "display_name": "DL_ENV",
   "language": "python",
   "name": "dlenv"
  },
  "language_info": {
   "codemirror_mode": {
    "name": "ipython",
    "version": 3
   },
   "file_extension": ".py",
   "mimetype": "text/x-python",
   "name": "python",
   "nbconvert_exporter": "python",
   "pygments_lexer": "ipython3",
   "version": "3.12.9"
  }
 },
 "nbformat": 4,
 "nbformat_minor": 5
}
